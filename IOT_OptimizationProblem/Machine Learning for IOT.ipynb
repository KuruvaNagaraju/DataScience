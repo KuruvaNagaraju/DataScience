{
 "cells": [
  {
   "cell_type": "markdown",
   "metadata": {},
   "source": [
    "## Problem Statement\n",
    "\n",
    "![](https://datahack-prod.s3.ap-south-1.amazonaws.com/__sized__/contest_cover/jantahack_-thumbnail-1200x1200-90.jpg)\n",
    "\n",
    "You are working with the government to transform your city into a smart city. The vision is to convert it into a digital and intelligent city to improve the efficiency of services for the citizens. One of the problems faced by the government is traffic. You are a data scientist working to manage the traffic of the city better and to provide input on infrastructure planning for the future.\n",
    "\n",
    "The government wants to implement a robust traffic system for the city by being prepared for traffic peaks. They want to understand the traffic patterns of the four junctions of the city. Traffic patterns on holidays, as well as on various other occasions during the year, differ from normal working days. This is important to take into account for your forecasting. \n",
    "\n",
    "**Your task**\n",
    "\n",
    "To predict traffic patterns in each of these four junctions for the next 4 months.\n",
    "\n",
    "The sensors on each of these junctions were collecting data at different times, hence you will see traffic data from different time periods. To add to the complexity, some of the junctions have provided limited or sparse data requiring thoughtfulness when creating future projections. Depending upon the historical data of 20 months, the government is looking to you to deliver accurate traffic projections for the coming four months. Your algorithm will become the foundation of a larger transformation to make your city smart and intelligent. \n",
    "\n",
    "**Data Dictionary**\n",
    "\n",
    "\n",
    "| **Variable**  | **Description** |\n",
    "| --- | --- |\n",
    "| ID | Unique ID |\n",
    "| DateTime |  Hourly Datetime Variable |\n",
    "| Junction | Junction Type |\n",
    "| Vehicles | Number of Vehicles (Target) |\n",
    "\n",
    "**Evaluation Metric**\n",
    "\n",
    "The evaluation metric for this competition is Root Mean Squared Error (RMSE)."
   ]
  },
  {
   "cell_type": "code",
   "execution_count": 1,
   "metadata": {},
   "outputs": [],
   "source": [
    "## Import necessary libraries\n",
    "\n",
    "import numpy as np ## Numpy Library ( will use to convert data frame to array or creating array etc...).\n",
    "import pandas as pd ## Pandas Library (will use to load data,create data frame...etc).\n",
    "import os ## For connecting to machine to get path for reading/writing files.\n",
    "from sklearn.model_selection import train_test_split ## For splitting data into train and validation.\n",
    "from sklearn.preprocessing import LabelEncoder ## For label encoding(converting categorical values to label).\n",
    "from sklearn.tree import DecisionTreeRegressor ## For Decision tree model.\n",
    "from sklearn.metrics import mean_squared_error ## For MSE metric.\n",
    "from math import sqrt ## For applying square root value.\n",
    "from sklearn.ensemble import RandomForestRegressor ## For RandomForest model.\n",
    "from sklearn.ensemble import AdaBoostRegressor ## For ada boost model.\n",
    "from sklearn.ensemble import GradientBoostingRegressor ## For GBR model.\n",
    "from sklearn.model_selection import GridSearchCV ##For Grid search(cross validation).\n",
    "from xgboost.sklearn import XGBRegressor ## For XGBR model.\n",
    "from sklearn.svm import SVR ## For SVR model.\n",
    "from sklearn.neighbors import KNeighborsRegressor ## For KNN model.\n",
    "from keras.models import Sequential ## For squential model.\n",
    "from keras.layers import Dense ## For fully connnected layer.\n",
    "from sklearn.linear_model import LinearRegression ## For Linear regression model."
   ]
  },
  {
   "cell_type": "code",
   "execution_count": 2,
   "metadata": {},
   "outputs": [
    {
     "data": {
      "text/plain": [
       "'D:\\\\Python\\\\Pratice'"
      ]
     },
     "execution_count": 2,
     "metadata": {},
     "output_type": "execute_result"
    }
   ],
   "source": [
    "## Get current working directoory.\n",
    "os.getcwd()"
   ]
  },
  {
   "cell_type": "code",
   "execution_count": 2,
   "metadata": {},
   "outputs": [
    {
     "data": {
      "text/plain": [
       "'D:\\\\DataScience\\\\Pratice\\\\IOT_OptimizationProblem'"
      ]
     },
     "execution_count": 2,
     "metadata": {},
     "output_type": "execute_result"
    }
   ],
   "source": [
    "## Set working directory.\n",
    "os.chdir('D:/DataScience/Pratice/IOT_OptimizationProblem/')\n",
    "os.getcwd()"
   ]
  },
  {
   "cell_type": "code",
   "execution_count": 9,
   "metadata": {},
   "outputs": [],
   "source": [
    "## Read data sets.\n",
    "train = pd.read_csv('train.csv',header='infer',sep=',')\n",
    "test = pd.read_csv('test.csv',header='infer',sep=',')"
   ]
  },
  {
   "cell_type": "code",
   "execution_count": 10,
   "metadata": {},
   "outputs": [
    {
     "data": {
      "text/html": [
       "<div>\n",
       "<style scoped>\n",
       "    .dataframe tbody tr th:only-of-type {\n",
       "        vertical-align: middle;\n",
       "    }\n",
       "\n",
       "    .dataframe tbody tr th {\n",
       "        vertical-align: top;\n",
       "    }\n",
       "\n",
       "    .dataframe thead th {\n",
       "        text-align: right;\n",
       "    }\n",
       "</style>\n",
       "<table border=\"1\" class=\"dataframe\">\n",
       "  <thead>\n",
       "    <tr style=\"text-align: right;\">\n",
       "      <th></th>\n",
       "      <th>DateTime</th>\n",
       "      <th>Junction</th>\n",
       "      <th>Vehicles</th>\n",
       "      <th>ID</th>\n",
       "    </tr>\n",
       "  </thead>\n",
       "  <tbody>\n",
       "    <tr>\n",
       "      <th>0</th>\n",
       "      <td>01-11-2015 00:00</td>\n",
       "      <td>1</td>\n",
       "      <td>15</td>\n",
       "      <td>20151101001</td>\n",
       "    </tr>\n",
       "  </tbody>\n",
       "</table>\n",
       "</div>"
      ],
      "text/plain": [
       "           DateTime  Junction  Vehicles           ID\n",
       "0  01-11-2015 00:00         1        15  20151101001"
      ]
     },
     "execution_count": 10,
     "metadata": {},
     "output_type": "execute_result"
    }
   ],
   "source": [
    "## Get first record of train data.\n",
    "train.head(1)"
   ]
  },
  {
   "cell_type": "code",
   "execution_count": 11,
   "metadata": {
    "scrolled": true
   },
   "outputs": [
    {
     "data": {
      "text/html": [
       "<div>\n",
       "<style scoped>\n",
       "    .dataframe tbody tr th:only-of-type {\n",
       "        vertical-align: middle;\n",
       "    }\n",
       "\n",
       "    .dataframe tbody tr th {\n",
       "        vertical-align: top;\n",
       "    }\n",
       "\n",
       "    .dataframe thead th {\n",
       "        text-align: right;\n",
       "    }\n",
       "</style>\n",
       "<table border=\"1\" class=\"dataframe\">\n",
       "  <thead>\n",
       "    <tr style=\"text-align: right;\">\n",
       "      <th></th>\n",
       "      <th>DateTime</th>\n",
       "      <th>Junction</th>\n",
       "      <th>Vehicles</th>\n",
       "      <th>ID</th>\n",
       "    </tr>\n",
       "  </thead>\n",
       "  <tbody>\n",
       "    <tr>\n",
       "      <th>48119</th>\n",
       "      <td>30-06-2017 23:00</td>\n",
       "      <td>4</td>\n",
       "      <td>12</td>\n",
       "      <td>20170630234</td>\n",
       "    </tr>\n",
       "  </tbody>\n",
       "</table>\n",
       "</div>"
      ],
      "text/plain": [
       "               DateTime  Junction  Vehicles           ID\n",
       "48119  30-06-2017 23:00         4        12  20170630234"
      ]
     },
     "execution_count": 11,
     "metadata": {},
     "output_type": "execute_result"
    }
   ],
   "source": [
    "## Get last record of train data.\n",
    "train.tail(1)"
   ]
  },
  {
   "cell_type": "code",
   "execution_count": 12,
   "metadata": {
    "scrolled": true
   },
   "outputs": [
    {
     "data": {
      "text/html": [
       "<div>\n",
       "<style scoped>\n",
       "    .dataframe tbody tr th:only-of-type {\n",
       "        vertical-align: middle;\n",
       "    }\n",
       "\n",
       "    .dataframe tbody tr th {\n",
       "        vertical-align: top;\n",
       "    }\n",
       "\n",
       "    .dataframe thead th {\n",
       "        text-align: right;\n",
       "    }\n",
       "</style>\n",
       "<table border=\"1\" class=\"dataframe\">\n",
       "  <thead>\n",
       "    <tr style=\"text-align: right;\">\n",
       "      <th></th>\n",
       "      <th>DateTime</th>\n",
       "      <th>Junction</th>\n",
       "      <th>ID</th>\n",
       "    </tr>\n",
       "  </thead>\n",
       "  <tbody>\n",
       "    <tr>\n",
       "      <th>0</th>\n",
       "      <td>01-07-2017 00:00</td>\n",
       "      <td>1</td>\n",
       "      <td>20170701001</td>\n",
       "    </tr>\n",
       "  </tbody>\n",
       "</table>\n",
       "</div>"
      ],
      "text/plain": [
       "           DateTime  Junction           ID\n",
       "0  01-07-2017 00:00         1  20170701001"
      ]
     },
     "execution_count": 12,
     "metadata": {},
     "output_type": "execute_result"
    }
   ],
   "source": [
    "## Get first record of test data.\n",
    "test.head(1)"
   ]
  },
  {
   "cell_type": "code",
   "execution_count": 13,
   "metadata": {},
   "outputs": [
    {
     "data": {
      "text/html": [
       "<div>\n",
       "<style scoped>\n",
       "    .dataframe tbody tr th:only-of-type {\n",
       "        vertical-align: middle;\n",
       "    }\n",
       "\n",
       "    .dataframe tbody tr th {\n",
       "        vertical-align: top;\n",
       "    }\n",
       "\n",
       "    .dataframe thead th {\n",
       "        text-align: right;\n",
       "    }\n",
       "</style>\n",
       "<table border=\"1\" class=\"dataframe\">\n",
       "  <thead>\n",
       "    <tr style=\"text-align: right;\">\n",
       "      <th></th>\n",
       "      <th>DateTime</th>\n",
       "      <th>Junction</th>\n",
       "      <th>ID</th>\n",
       "    </tr>\n",
       "  </thead>\n",
       "  <tbody>\n",
       "    <tr>\n",
       "      <th>11807</th>\n",
       "      <td>31-10-2017 23:00</td>\n",
       "      <td>4</td>\n",
       "      <td>20171031234</td>\n",
       "    </tr>\n",
       "  </tbody>\n",
       "</table>\n",
       "</div>"
      ],
      "text/plain": [
       "               DateTime  Junction           ID\n",
       "11807  31-10-2017 23:00         4  20171031234"
      ]
     },
     "execution_count": 13,
     "metadata": {},
     "output_type": "execute_result"
    }
   ],
   "source": [
    "## Get last record of test data.\n",
    "test.tail(1)"
   ]
  },
  {
   "cell_type": "code",
   "execution_count": 70,
   "metadata": {},
   "outputs": [
    {
     "data": {
      "text/html": [
       "<div>\n",
       "<style scoped>\n",
       "    .dataframe tbody tr th:only-of-type {\n",
       "        vertical-align: middle;\n",
       "    }\n",
       "\n",
       "    .dataframe tbody tr th {\n",
       "        vertical-align: top;\n",
       "    }\n",
       "\n",
       "    .dataframe thead th {\n",
       "        text-align: right;\n",
       "    }\n",
       "</style>\n",
       "<table border=\"1\" class=\"dataframe\">\n",
       "  <thead>\n",
       "    <tr style=\"text-align: right;\">\n",
       "      <th></th>\n",
       "      <th>DateTime</th>\n",
       "      <th>Junction</th>\n",
       "      <th>Vehicles</th>\n",
       "      <th>ID</th>\n",
       "    </tr>\n",
       "  </thead>\n",
       "  <tbody>\n",
       "    <tr>\n",
       "      <th>count</th>\n",
       "      <td>48120</td>\n",
       "      <td>48120.000000</td>\n",
       "      <td>48120.000000</td>\n",
       "      <td>4.812000e+04</td>\n",
       "    </tr>\n",
       "    <tr>\n",
       "      <th>unique</th>\n",
       "      <td>14592</td>\n",
       "      <td>NaN</td>\n",
       "      <td>NaN</td>\n",
       "      <td>NaN</td>\n",
       "    </tr>\n",
       "    <tr>\n",
       "      <th>top</th>\n",
       "      <td>31-03-2017 13:00</td>\n",
       "      <td>NaN</td>\n",
       "      <td>NaN</td>\n",
       "      <td>NaN</td>\n",
       "    </tr>\n",
       "    <tr>\n",
       "      <th>freq</th>\n",
       "      <td>4</td>\n",
       "      <td>NaN</td>\n",
       "      <td>NaN</td>\n",
       "      <td>NaN</td>\n",
       "    </tr>\n",
       "    <tr>\n",
       "      <th>mean</th>\n",
       "      <td>NaN</td>\n",
       "      <td>2.180549</td>\n",
       "      <td>22.791334</td>\n",
       "      <td>2.016330e+10</td>\n",
       "    </tr>\n",
       "    <tr>\n",
       "      <th>std</th>\n",
       "      <td>NaN</td>\n",
       "      <td>0.966955</td>\n",
       "      <td>20.750063</td>\n",
       "      <td>5.944854e+06</td>\n",
       "    </tr>\n",
       "    <tr>\n",
       "      <th>min</th>\n",
       "      <td>NaN</td>\n",
       "      <td>1.000000</td>\n",
       "      <td>1.000000</td>\n",
       "      <td>2.015110e+10</td>\n",
       "    </tr>\n",
       "    <tr>\n",
       "      <th>25%</th>\n",
       "      <td>NaN</td>\n",
       "      <td>1.000000</td>\n",
       "      <td>9.000000</td>\n",
       "      <td>2.016042e+10</td>\n",
       "    </tr>\n",
       "    <tr>\n",
       "      <th>50%</th>\n",
       "      <td>NaN</td>\n",
       "      <td>2.000000</td>\n",
       "      <td>15.000000</td>\n",
       "      <td>2.016093e+10</td>\n",
       "    </tr>\n",
       "    <tr>\n",
       "      <th>75%</th>\n",
       "      <td>NaN</td>\n",
       "      <td>3.000000</td>\n",
       "      <td>29.000000</td>\n",
       "      <td>2.017023e+10</td>\n",
       "    </tr>\n",
       "    <tr>\n",
       "      <th>max</th>\n",
       "      <td>NaN</td>\n",
       "      <td>4.000000</td>\n",
       "      <td>180.000000</td>\n",
       "      <td>2.017063e+10</td>\n",
       "    </tr>\n",
       "  </tbody>\n",
       "</table>\n",
       "</div>"
      ],
      "text/plain": [
       "                DateTime      Junction      Vehicles            ID\n",
       "count              48120  48120.000000  48120.000000  4.812000e+04\n",
       "unique             14592           NaN           NaN           NaN\n",
       "top     31-03-2017 13:00           NaN           NaN           NaN\n",
       "freq                   4           NaN           NaN           NaN\n",
       "mean                 NaN      2.180549     22.791334  2.016330e+10\n",
       "std                  NaN      0.966955     20.750063  5.944854e+06\n",
       "min                  NaN      1.000000      1.000000  2.015110e+10\n",
       "25%                  NaN      1.000000      9.000000  2.016042e+10\n",
       "50%                  NaN      2.000000     15.000000  2.016093e+10\n",
       "75%                  NaN      3.000000     29.000000  2.017023e+10\n",
       "max                  NaN      4.000000    180.000000  2.017063e+10"
      ]
     },
     "execution_count": 70,
     "metadata": {},
     "output_type": "execute_result"
    }
   ],
   "source": [
    "## Get summary statistics of train data.\n",
    "train.describe(include='all')"
   ]
  },
  {
   "cell_type": "code",
   "execution_count": 71,
   "metadata": {},
   "outputs": [
    {
     "data": {
      "text/html": [
       "<div>\n",
       "<style scoped>\n",
       "    .dataframe tbody tr th:only-of-type {\n",
       "        vertical-align: middle;\n",
       "    }\n",
       "\n",
       "    .dataframe tbody tr th {\n",
       "        vertical-align: top;\n",
       "    }\n",
       "\n",
       "    .dataframe thead th {\n",
       "        text-align: right;\n",
       "    }\n",
       "</style>\n",
       "<table border=\"1\" class=\"dataframe\">\n",
       "  <thead>\n",
       "    <tr style=\"text-align: right;\">\n",
       "      <th></th>\n",
       "      <th>DateTime</th>\n",
       "      <th>Junction</th>\n",
       "      <th>ID</th>\n",
       "    </tr>\n",
       "  </thead>\n",
       "  <tbody>\n",
       "    <tr>\n",
       "      <th>count</th>\n",
       "      <td>11808</td>\n",
       "      <td>11808.000000</td>\n",
       "      <td>1.180800e+04</td>\n",
       "    </tr>\n",
       "    <tr>\n",
       "      <th>unique</th>\n",
       "      <td>2952</td>\n",
       "      <td>NaN</td>\n",
       "      <td>NaN</td>\n",
       "    </tr>\n",
       "    <tr>\n",
       "      <th>top</th>\n",
       "      <td>16-07-2017 00:00</td>\n",
       "      <td>NaN</td>\n",
       "      <td>NaN</td>\n",
       "    </tr>\n",
       "    <tr>\n",
       "      <th>freq</th>\n",
       "      <td>4</td>\n",
       "      <td>NaN</td>\n",
       "      <td>NaN</td>\n",
       "    </tr>\n",
       "    <tr>\n",
       "      <th>mean</th>\n",
       "      <td>NaN</td>\n",
       "      <td>2.500000</td>\n",
       "      <td>2.017087e+10</td>\n",
       "    </tr>\n",
       "    <tr>\n",
       "      <th>std</th>\n",
       "      <td>NaN</td>\n",
       "      <td>1.118081</td>\n",
       "      <td>1.124665e+05</td>\n",
       "    </tr>\n",
       "    <tr>\n",
       "      <th>min</th>\n",
       "      <td>NaN</td>\n",
       "      <td>1.000000</td>\n",
       "      <td>2.017070e+10</td>\n",
       "    </tr>\n",
       "    <tr>\n",
       "      <th>25%</th>\n",
       "      <td>NaN</td>\n",
       "      <td>1.750000</td>\n",
       "      <td>2.017073e+10</td>\n",
       "    </tr>\n",
       "    <tr>\n",
       "      <th>50%</th>\n",
       "      <td>NaN</td>\n",
       "      <td>2.500000</td>\n",
       "      <td>2.017083e+10</td>\n",
       "    </tr>\n",
       "    <tr>\n",
       "      <th>75%</th>\n",
       "      <td>NaN</td>\n",
       "      <td>3.250000</td>\n",
       "      <td>2.017100e+10</td>\n",
       "    </tr>\n",
       "    <tr>\n",
       "      <th>max</th>\n",
       "      <td>NaN</td>\n",
       "      <td>4.000000</td>\n",
       "      <td>2.017103e+10</td>\n",
       "    </tr>\n",
       "  </tbody>\n",
       "</table>\n",
       "</div>"
      ],
      "text/plain": [
       "                DateTime      Junction            ID\n",
       "count              11808  11808.000000  1.180800e+04\n",
       "unique              2952           NaN           NaN\n",
       "top     16-07-2017 00:00           NaN           NaN\n",
       "freq                   4           NaN           NaN\n",
       "mean                 NaN      2.500000  2.017087e+10\n",
       "std                  NaN      1.118081  1.124665e+05\n",
       "min                  NaN      1.000000  2.017070e+10\n",
       "25%                  NaN      1.750000  2.017073e+10\n",
       "50%                  NaN      2.500000  2.017083e+10\n",
       "75%                  NaN      3.250000  2.017100e+10\n",
       "max                  NaN      4.000000  2.017103e+10"
      ]
     },
     "execution_count": 71,
     "metadata": {},
     "output_type": "execute_result"
    }
   ],
   "source": [
    "## Get summary statistics of test data.\n",
    "test.describe(include='all')"
   ]
  },
  {
   "cell_type": "code",
   "execution_count": 72,
   "metadata": {},
   "outputs": [
    {
     "data": {
      "text/plain": [
       "DateTime    object\n",
       "Junction     int64\n",
       "Vehicles     int64\n",
       "ID           int64\n",
       "dtype: object"
      ]
     },
     "execution_count": 72,
     "metadata": {},
     "output_type": "execute_result"
    }
   ],
   "source": [
    "## Get columns data types for train data.\n",
    "train.dtypes"
   ]
  },
  {
   "cell_type": "code",
   "execution_count": 73,
   "metadata": {},
   "outputs": [
    {
     "data": {
      "text/plain": [
       "DateTime    object\n",
       "Junction     int64\n",
       "ID           int64\n",
       "dtype: object"
      ]
     },
     "execution_count": 73,
     "metadata": {},
     "output_type": "execute_result"
    }
   ],
   "source": [
    "## Get columns data types for test data.\n",
    "test.dtypes"
   ]
  },
  {
   "cell_type": "code",
   "execution_count": 74,
   "metadata": {},
   "outputs": [
    {
     "data": {
      "text/plain": [
       "Index(['DateTime', 'Junction', 'Vehicles', 'ID'], dtype='object')"
      ]
     },
     "execution_count": 74,
     "metadata": {},
     "output_type": "execute_result"
    }
   ],
   "source": [
    "## Get column names for train data.\n",
    "train.columns"
   ]
  },
  {
   "cell_type": "code",
   "execution_count": 75,
   "metadata": {},
   "outputs": [
    {
     "data": {
      "text/plain": [
       "Index(['DateTime', 'Junction', 'ID'], dtype='object')"
      ]
     },
     "execution_count": 75,
     "metadata": {},
     "output_type": "execute_result"
    }
   ],
   "source": [
    "## Get column names for test data.\n",
    "test.columns"
   ]
  },
  {
   "cell_type": "code",
   "execution_count": 76,
   "metadata": {},
   "outputs": [
    {
     "data": {
      "text/plain": [
       "RangeIndex(start=0, stop=48120, step=1)"
      ]
     },
     "execution_count": 76,
     "metadata": {},
     "output_type": "execute_result"
    }
   ],
   "source": [
    "## Get index range for train data.\n",
    "train.index"
   ]
  },
  {
   "cell_type": "code",
   "execution_count": 77,
   "metadata": {},
   "outputs": [
    {
     "data": {
      "text/plain": [
       "RangeIndex(start=0, stop=11808, step=1)"
      ]
     },
     "execution_count": 77,
     "metadata": {},
     "output_type": "execute_result"
    }
   ],
   "source": [
    "## Get index range for test data.\n",
    "test.index"
   ]
  },
  {
   "cell_type": "code",
   "execution_count": 6,
   "metadata": {},
   "outputs": [
    {
     "data": {
      "text/plain": [
       "DateTime    0\n",
       "Junction    0\n",
       "Vehicles    0\n",
       "ID          0\n",
       "dtype: int64"
      ]
     },
     "execution_count": 6,
     "metadata": {},
     "output_type": "execute_result"
    }
   ],
   "source": [
    "## Cheeck NA values for train data.\n",
    "train.isna().sum()"
   ]
  },
  {
   "cell_type": "code",
   "execution_count": 7,
   "metadata": {},
   "outputs": [
    {
     "data": {
      "text/plain": [
       "DateTime    0\n",
       "Junction    0\n",
       "ID          0\n",
       "dtype: int64"
      ]
     },
     "execution_count": 7,
     "metadata": {},
     "output_type": "execute_result"
    }
   ],
   "source": [
    "## Cheeck NA values for test data.\n",
    "test.isna().sum()"
   ]
  },
  {
   "cell_type": "code",
   "execution_count": 8,
   "metadata": {},
   "outputs": [],
   "source": [
    "## This method will return number of levels,null values,unique values,data types.\n",
    "\n",
    "def Observations(df):\n",
    "    return(pd.DataFrame({'dtypes' : df.dtypes,\n",
    "                         'levels' : [df[x].unique() for x in df.columns],\n",
    "                         'null_values' : df.isnull().sum(),\n",
    "                         'Unique Values': df.nunique()\n",
    "                        }))"
   ]
  },
  {
   "cell_type": "code",
   "execution_count": 81,
   "metadata": {},
   "outputs": [
    {
     "data": {
      "text/html": [
       "<div>\n",
       "<style scoped>\n",
       "    .dataframe tbody tr th:only-of-type {\n",
       "        vertical-align: middle;\n",
       "    }\n",
       "\n",
       "    .dataframe tbody tr th {\n",
       "        vertical-align: top;\n",
       "    }\n",
       "\n",
       "    .dataframe thead th {\n",
       "        text-align: right;\n",
       "    }\n",
       "</style>\n",
       "<table border=\"1\" class=\"dataframe\">\n",
       "  <thead>\n",
       "    <tr style=\"text-align: right;\">\n",
       "      <th></th>\n",
       "      <th>dtypes</th>\n",
       "      <th>levels</th>\n",
       "      <th>null_values</th>\n",
       "      <th>Unique Values</th>\n",
       "    </tr>\n",
       "  </thead>\n",
       "  <tbody>\n",
       "    <tr>\n",
       "      <th>DateTime</th>\n",
       "      <td>object</td>\n",
       "      <td>[01-11-2015 00:00, 01-11-2015 01:00, 01-11-201...</td>\n",
       "      <td>0</td>\n",
       "      <td>14592</td>\n",
       "    </tr>\n",
       "    <tr>\n",
       "      <th>Junction</th>\n",
       "      <td>int64</td>\n",
       "      <td>[1, 2, 3, 4]</td>\n",
       "      <td>0</td>\n",
       "      <td>4</td>\n",
       "    </tr>\n",
       "    <tr>\n",
       "      <th>Vehicles</th>\n",
       "      <td>int64</td>\n",
       "      <td>[15, 13, 10, 7, 9, 6, 8, 11, 12, 17, 16, 20, 1...</td>\n",
       "      <td>0</td>\n",
       "      <td>141</td>\n",
       "    </tr>\n",
       "    <tr>\n",
       "      <th>ID</th>\n",
       "      <td>int64</td>\n",
       "      <td>[20151101001, 20151101011, 20151101021, 201511...</td>\n",
       "      <td>0</td>\n",
       "      <td>48120</td>\n",
       "    </tr>\n",
       "  </tbody>\n",
       "</table>\n",
       "</div>"
      ],
      "text/plain": [
       "          dtypes                                             levels  \\\n",
       "DateTime  object  [01-11-2015 00:00, 01-11-2015 01:00, 01-11-201...   \n",
       "Junction   int64                                       [1, 2, 3, 4]   \n",
       "Vehicles   int64  [15, 13, 10, 7, 9, 6, 8, 11, 12, 17, 16, 20, 1...   \n",
       "ID         int64  [20151101001, 20151101011, 20151101021, 201511...   \n",
       "\n",
       "          null_values  Unique Values  \n",
       "DateTime            0          14592  \n",
       "Junction            0              4  \n",
       "Vehicles            0            141  \n",
       "ID                  0          48120  "
      ]
     },
     "execution_count": 81,
     "metadata": {},
     "output_type": "execute_result"
    }
   ],
   "source": [
    "## Get columns data types,numer of levels,null values,unique values for each column of train data.\n",
    "Observations(train)"
   ]
  },
  {
   "cell_type": "code",
   "execution_count": 82,
   "metadata": {},
   "outputs": [
    {
     "data": {
      "text/html": [
       "<div>\n",
       "<style scoped>\n",
       "    .dataframe tbody tr th:only-of-type {\n",
       "        vertical-align: middle;\n",
       "    }\n",
       "\n",
       "    .dataframe tbody tr th {\n",
       "        vertical-align: top;\n",
       "    }\n",
       "\n",
       "    .dataframe thead th {\n",
       "        text-align: right;\n",
       "    }\n",
       "</style>\n",
       "<table border=\"1\" class=\"dataframe\">\n",
       "  <thead>\n",
       "    <tr style=\"text-align: right;\">\n",
       "      <th></th>\n",
       "      <th>dtypes</th>\n",
       "      <th>levels</th>\n",
       "      <th>null_values</th>\n",
       "      <th>Unique Values</th>\n",
       "    </tr>\n",
       "  </thead>\n",
       "  <tbody>\n",
       "    <tr>\n",
       "      <th>DateTime</th>\n",
       "      <td>object</td>\n",
       "      <td>[01-07-2017 00:00, 01-07-2017 01:00, 01-07-201...</td>\n",
       "      <td>0</td>\n",
       "      <td>2952</td>\n",
       "    </tr>\n",
       "    <tr>\n",
       "      <th>Junction</th>\n",
       "      <td>int64</td>\n",
       "      <td>[1, 2, 3, 4]</td>\n",
       "      <td>0</td>\n",
       "      <td>4</td>\n",
       "    </tr>\n",
       "    <tr>\n",
       "      <th>ID</th>\n",
       "      <td>int64</td>\n",
       "      <td>[20170701001, 20170701011, 20170701021, 201707...</td>\n",
       "      <td>0</td>\n",
       "      <td>11808</td>\n",
       "    </tr>\n",
       "  </tbody>\n",
       "</table>\n",
       "</div>"
      ],
      "text/plain": [
       "          dtypes                                             levels  \\\n",
       "DateTime  object  [01-07-2017 00:00, 01-07-2017 01:00, 01-07-201...   \n",
       "Junction   int64                                       [1, 2, 3, 4]   \n",
       "ID         int64  [20170701001, 20170701011, 20170701021, 201707...   \n",
       "\n",
       "          null_values  Unique Values  \n",
       "DateTime            0           2952  \n",
       "Junction            0              4  \n",
       "ID                  0          11808  "
      ]
     },
     "execution_count": 82,
     "metadata": {},
     "output_type": "execute_result"
    }
   ],
   "source": [
    "## Get columns data types,numer of levels,null values,unique values for each column of test data.\n",
    "Observations(test)"
   ]
  },
  {
   "cell_type": "code",
   "execution_count": 14,
   "metadata": {},
   "outputs": [],
   "source": [
    "## Convert DateTime object type into datetime format for train data.\n",
    "train['date_time'] = pd.to_datetime(train['DateTime'])"
   ]
  },
  {
   "cell_type": "code",
   "execution_count": 84,
   "metadata": {},
   "outputs": [],
   "source": [
    "## Convert DateTime object type into datetime format for test data.\n",
    "test['date_time'] = pd.to_datetime(test['DateTime'])"
   ]
  },
  {
   "cell_type": "code",
   "execution_count": 85,
   "metadata": {},
   "outputs": [],
   "source": [
    "## Extract date and time from date_time for train data.\n",
    "train['date'] = [d.date() for d in train['date_time']]\n",
    "train['time'] = [d.time() for d in train['date_time']]"
   ]
  },
  {
   "cell_type": "code",
   "execution_count": 86,
   "metadata": {},
   "outputs": [],
   "source": [
    "## Extract date and time from date_time for test data.\n",
    "test['date'] = [d.date() for d in test['date_time']]\n",
    "test['time'] = [d.time() for d in test['date_time']]"
   ]
  },
  {
   "cell_type": "code",
   "execution_count": 87,
   "metadata": {},
   "outputs": [],
   "source": [
    "## Drop DateTime, date_time columns from train data beacuse we have extracted features from them\n",
    "## so those columns are not required.\n",
    "train.drop(['DateTime', 'date_time'], axis=1, inplace=True)"
   ]
  },
  {
   "cell_type": "code",
   "execution_count": 88,
   "metadata": {},
   "outputs": [],
   "source": [
    "## Drop DateTime, date_time columns from test data beacuse we have extracted features from them\n",
    "## so those columns are not required.\n",
    "test.drop(['DateTime', 'date_time'], axis=1, inplace=True)"
   ]
  },
  {
   "cell_type": "code",
   "execution_count": 89,
   "metadata": {},
   "outputs": [],
   "source": [
    "## Extract day,month,year features from date column of train data.\n",
    "train['year'] = train['date'].apply(lambda x: x.year)\n",
    "train['month'] = train['date'].apply(lambda x: x.month)\n",
    "train['day'] = train['date'].apply(lambda x: x.day)"
   ]
  },
  {
   "cell_type": "code",
   "execution_count": 90,
   "metadata": {},
   "outputs": [],
   "source": [
    "## Extract day,month,year features from date column of test data.\n",
    "test['year'] = test['date'].apply(lambda x: x.year)\n",
    "test['month'] = test['date'].apply(lambda x: x.month)\n",
    "test['day'] = test['date'].apply(lambda x: x.day)"
   ]
  },
  {
   "cell_type": "code",
   "execution_count": 91,
   "metadata": {},
   "outputs": [],
   "source": [
    "## Extract hour feature from time column of train data.\n",
    "train['hour'] = train['time'].apply(lambda x: x.hour)"
   ]
  },
  {
   "cell_type": "code",
   "execution_count": 92,
   "metadata": {},
   "outputs": [],
   "source": [
    "## Extract hour feature from time column of test data.\n",
    "test['hour'] = test['time'].apply(lambda x: x.hour)"
   ]
  },
  {
   "cell_type": "code",
   "execution_count": 94,
   "metadata": {},
   "outputs": [],
   "source": [
    "## Drop date,time column from train data(we have extracted features from those two columns so not required to keep).\n",
    "train.drop(['date', 'time'], axis=1, inplace=True)"
   ]
  },
  {
   "cell_type": "code",
   "execution_count": 95,
   "metadata": {},
   "outputs": [],
   "source": [
    "## Drop date,time column from test data(we have extracted features from those two columns so not required to keep).\n",
    "test.drop(['date', 'time'], axis=1, inplace=True)"
   ]
  },
  {
   "cell_type": "code",
   "execution_count": 96,
   "metadata": {},
   "outputs": [
    {
     "data": {
      "text/html": [
       "<div>\n",
       "<style scoped>\n",
       "    .dataframe tbody tr th:only-of-type {\n",
       "        vertical-align: middle;\n",
       "    }\n",
       "\n",
       "    .dataframe tbody tr th {\n",
       "        vertical-align: top;\n",
       "    }\n",
       "\n",
       "    .dataframe thead th {\n",
       "        text-align: right;\n",
       "    }\n",
       "</style>\n",
       "<table border=\"1\" class=\"dataframe\">\n",
       "  <thead>\n",
       "    <tr style=\"text-align: right;\">\n",
       "      <th></th>\n",
       "      <th>Junction</th>\n",
       "      <th>Vehicles</th>\n",
       "      <th>ID</th>\n",
       "      <th>year</th>\n",
       "      <th>month</th>\n",
       "      <th>day</th>\n",
       "      <th>hour</th>\n",
       "    </tr>\n",
       "  </thead>\n",
       "  <tbody>\n",
       "    <tr>\n",
       "      <th>0</th>\n",
       "      <td>1</td>\n",
       "      <td>15</td>\n",
       "      <td>20151101001</td>\n",
       "      <td>2015</td>\n",
       "      <td>1</td>\n",
       "      <td>11</td>\n",
       "      <td>0</td>\n",
       "    </tr>\n",
       "    <tr>\n",
       "      <th>1</th>\n",
       "      <td>1</td>\n",
       "      <td>13</td>\n",
       "      <td>20151101011</td>\n",
       "      <td>2015</td>\n",
       "      <td>1</td>\n",
       "      <td>11</td>\n",
       "      <td>1</td>\n",
       "    </tr>\n",
       "  </tbody>\n",
       "</table>\n",
       "</div>"
      ],
      "text/plain": [
       "   Junction  Vehicles           ID  year  month  day  hour\n",
       "0         1        15  20151101001  2015      1   11     0\n",
       "1         1        13  20151101011  2015      1   11     1"
      ]
     },
     "execution_count": 96,
     "metadata": {},
     "output_type": "execute_result"
    }
   ],
   "source": [
    "## Display first 2 records of train data.\n",
    "train.head(2)"
   ]
  },
  {
   "cell_type": "code",
   "execution_count": 97,
   "metadata": {},
   "outputs": [
    {
     "data": {
      "text/html": [
       "<div>\n",
       "<style scoped>\n",
       "    .dataframe tbody tr th:only-of-type {\n",
       "        vertical-align: middle;\n",
       "    }\n",
       "\n",
       "    .dataframe tbody tr th {\n",
       "        vertical-align: top;\n",
       "    }\n",
       "\n",
       "    .dataframe thead th {\n",
       "        text-align: right;\n",
       "    }\n",
       "</style>\n",
       "<table border=\"1\" class=\"dataframe\">\n",
       "  <thead>\n",
       "    <tr style=\"text-align: right;\">\n",
       "      <th></th>\n",
       "      <th>Junction</th>\n",
       "      <th>ID</th>\n",
       "      <th>year</th>\n",
       "      <th>month</th>\n",
       "      <th>day</th>\n",
       "      <th>hour</th>\n",
       "    </tr>\n",
       "  </thead>\n",
       "  <tbody>\n",
       "    <tr>\n",
       "      <th>0</th>\n",
       "      <td>1</td>\n",
       "      <td>20170701001</td>\n",
       "      <td>2017</td>\n",
       "      <td>1</td>\n",
       "      <td>7</td>\n",
       "      <td>0</td>\n",
       "    </tr>\n",
       "    <tr>\n",
       "      <th>1</th>\n",
       "      <td>1</td>\n",
       "      <td>20170701011</td>\n",
       "      <td>2017</td>\n",
       "      <td>1</td>\n",
       "      <td>7</td>\n",
       "      <td>1</td>\n",
       "    </tr>\n",
       "  </tbody>\n",
       "</table>\n",
       "</div>"
      ],
      "text/plain": [
       "   Junction           ID  year  month  day  hour\n",
       "0         1  20170701001  2017      1    7     0\n",
       "1         1  20170701011  2017      1    7     1"
      ]
     },
     "execution_count": 97,
     "metadata": {},
     "output_type": "execute_result"
    }
   ],
   "source": [
    "## Display first 2 records of test data.\n",
    "test.head(2)"
   ]
  },
  {
   "cell_type": "code",
   "execution_count": 98,
   "metadata": {},
   "outputs": [
    {
     "data": {
      "text/html": [
       "<div>\n",
       "<style scoped>\n",
       "    .dataframe tbody tr th:only-of-type {\n",
       "        vertical-align: middle;\n",
       "    }\n",
       "\n",
       "    .dataframe tbody tr th {\n",
       "        vertical-align: top;\n",
       "    }\n",
       "\n",
       "    .dataframe thead th {\n",
       "        text-align: right;\n",
       "    }\n",
       "</style>\n",
       "<table border=\"1\" class=\"dataframe\">\n",
       "  <thead>\n",
       "    <tr style=\"text-align: right;\">\n",
       "      <th></th>\n",
       "      <th>dtypes</th>\n",
       "      <th>levels</th>\n",
       "      <th>null_values</th>\n",
       "      <th>Unique Values</th>\n",
       "    </tr>\n",
       "  </thead>\n",
       "  <tbody>\n",
       "    <tr>\n",
       "      <th>Junction</th>\n",
       "      <td>int64</td>\n",
       "      <td>[1, 2, 3, 4]</td>\n",
       "      <td>0</td>\n",
       "      <td>4</td>\n",
       "    </tr>\n",
       "    <tr>\n",
       "      <th>Vehicles</th>\n",
       "      <td>int64</td>\n",
       "      <td>[15, 13, 10, 7, 9, 6, 8, 11, 12, 17, 16, 20, 1...</td>\n",
       "      <td>0</td>\n",
       "      <td>141</td>\n",
       "    </tr>\n",
       "    <tr>\n",
       "      <th>ID</th>\n",
       "      <td>int64</td>\n",
       "      <td>[20151101001, 20151101011, 20151101021, 201511...</td>\n",
       "      <td>0</td>\n",
       "      <td>48120</td>\n",
       "    </tr>\n",
       "    <tr>\n",
       "      <th>year</th>\n",
       "      <td>int64</td>\n",
       "      <td>[2015, 2016, 2017]</td>\n",
       "      <td>0</td>\n",
       "      <td>3</td>\n",
       "    </tr>\n",
       "    <tr>\n",
       "      <th>month</th>\n",
       "      <td>int64</td>\n",
       "      <td>[1, 2, 3, 4, 5, 6, 7, 8, 9, 10, 11, 12]</td>\n",
       "      <td>0</td>\n",
       "      <td>12</td>\n",
       "    </tr>\n",
       "    <tr>\n",
       "      <th>day</th>\n",
       "      <td>int64</td>\n",
       "      <td>[11, 13, 14, 15, 16, 17, 18, 19, 20, 21, 22, 2...</td>\n",
       "      <td>0</td>\n",
       "      <td>31</td>\n",
       "    </tr>\n",
       "    <tr>\n",
       "      <th>hour</th>\n",
       "      <td>int64</td>\n",
       "      <td>[0, 1, 2, 3, 4, 5, 6, 7, 8, 9, 10, 11, 12, 13,...</td>\n",
       "      <td>0</td>\n",
       "      <td>24</td>\n",
       "    </tr>\n",
       "  </tbody>\n",
       "</table>\n",
       "</div>"
      ],
      "text/plain": [
       "         dtypes                                             levels  \\\n",
       "Junction  int64                                       [1, 2, 3, 4]   \n",
       "Vehicles  int64  [15, 13, 10, 7, 9, 6, 8, 11, 12, 17, 16, 20, 1...   \n",
       "ID        int64  [20151101001, 20151101011, 20151101021, 201511...   \n",
       "year      int64                                 [2015, 2016, 2017]   \n",
       "month     int64            [1, 2, 3, 4, 5, 6, 7, 8, 9, 10, 11, 12]   \n",
       "day       int64  [11, 13, 14, 15, 16, 17, 18, 19, 20, 21, 22, 2...   \n",
       "hour      int64  [0, 1, 2, 3, 4, 5, 6, 7, 8, 9, 10, 11, 12, 13,...   \n",
       "\n",
       "          null_values  Unique Values  \n",
       "Junction            0              4  \n",
       "Vehicles            0            141  \n",
       "ID                  0          48120  \n",
       "year                0              3  \n",
       "month               0             12  \n",
       "day                 0             31  \n",
       "hour                0             24  "
      ]
     },
     "execution_count": 98,
     "metadata": {},
     "output_type": "execute_result"
    }
   ],
   "source": [
    "## Get columns data types,numer of levels,null values,unique values for each column of train data.\n",
    "Observations(train)"
   ]
  },
  {
   "cell_type": "code",
   "execution_count": 99,
   "metadata": {},
   "outputs": [
    {
     "data": {
      "text/html": [
       "<div>\n",
       "<style scoped>\n",
       "    .dataframe tbody tr th:only-of-type {\n",
       "        vertical-align: middle;\n",
       "    }\n",
       "\n",
       "    .dataframe tbody tr th {\n",
       "        vertical-align: top;\n",
       "    }\n",
       "\n",
       "    .dataframe thead th {\n",
       "        text-align: right;\n",
       "    }\n",
       "</style>\n",
       "<table border=\"1\" class=\"dataframe\">\n",
       "  <thead>\n",
       "    <tr style=\"text-align: right;\">\n",
       "      <th></th>\n",
       "      <th>dtypes</th>\n",
       "      <th>levels</th>\n",
       "      <th>null_values</th>\n",
       "      <th>Unique Values</th>\n",
       "    </tr>\n",
       "  </thead>\n",
       "  <tbody>\n",
       "    <tr>\n",
       "      <th>Junction</th>\n",
       "      <td>int64</td>\n",
       "      <td>[1, 2, 3, 4]</td>\n",
       "      <td>0</td>\n",
       "      <td>4</td>\n",
       "    </tr>\n",
       "    <tr>\n",
       "      <th>ID</th>\n",
       "      <td>int64</td>\n",
       "      <td>[20170701001, 20170701011, 20170701021, 201707...</td>\n",
       "      <td>0</td>\n",
       "      <td>11808</td>\n",
       "    </tr>\n",
       "    <tr>\n",
       "      <th>year</th>\n",
       "      <td>int64</td>\n",
       "      <td>[2017]</td>\n",
       "      <td>0</td>\n",
       "      <td>1</td>\n",
       "    </tr>\n",
       "    <tr>\n",
       "      <th>month</th>\n",
       "      <td>int64</td>\n",
       "      <td>[1, 2, 3, 4, 5, 6, 7, 8, 9, 10, 11, 12]</td>\n",
       "      <td>0</td>\n",
       "      <td>12</td>\n",
       "    </tr>\n",
       "    <tr>\n",
       "      <th>day</th>\n",
       "      <td>int64</td>\n",
       "      <td>[7, 13, 14, 15, 16, 17, 18, 19, 20, 21, 22, 23...</td>\n",
       "      <td>0</td>\n",
       "      <td>23</td>\n",
       "    </tr>\n",
       "    <tr>\n",
       "      <th>hour</th>\n",
       "      <td>int64</td>\n",
       "      <td>[0, 1, 2, 3, 4, 5, 6, 7, 8, 9, 10, 11, 12, 13,...</td>\n",
       "      <td>0</td>\n",
       "      <td>24</td>\n",
       "    </tr>\n",
       "  </tbody>\n",
       "</table>\n",
       "</div>"
      ],
      "text/plain": [
       "         dtypes                                             levels  \\\n",
       "Junction  int64                                       [1, 2, 3, 4]   \n",
       "ID        int64  [20170701001, 20170701011, 20170701021, 201707...   \n",
       "year      int64                                             [2017]   \n",
       "month     int64            [1, 2, 3, 4, 5, 6, 7, 8, 9, 10, 11, 12]   \n",
       "day       int64  [7, 13, 14, 15, 16, 17, 18, 19, 20, 21, 22, 23...   \n",
       "hour      int64  [0, 1, 2, 3, 4, 5, 6, 7, 8, 9, 10, 11, 12, 13,...   \n",
       "\n",
       "          null_values  Unique Values  \n",
       "Junction            0              4  \n",
       "ID                  0          11808  \n",
       "year                0              1  \n",
       "month               0             12  \n",
       "day                 0             23  \n",
       "hour                0             24  "
      ]
     },
     "execution_count": 99,
     "metadata": {},
     "output_type": "execute_result"
    }
   ],
   "source": [
    "## Get columns data types,numer of levels,null values,unique values for each column of test data.\n",
    "Observations(test)"
   ]
  },
  {
   "cell_type": "code",
   "execution_count": 100,
   "metadata": {},
   "outputs": [],
   "source": [
    "## Set ID column as index to train data.\n",
    "train.set_index('ID',inplace=True)"
   ]
  },
  {
   "cell_type": "code",
   "execution_count": 101,
   "metadata": {},
   "outputs": [],
   "source": [
    "## Set ID column as index to test data.\n",
    "test.set_index('ID',inplace=True)"
   ]
  },
  {
   "cell_type": "code",
   "execution_count": 102,
   "metadata": {},
   "outputs": [
    {
     "data": {
      "text/html": [
       "<div>\n",
       "<style scoped>\n",
       "    .dataframe tbody tr th:only-of-type {\n",
       "        vertical-align: middle;\n",
       "    }\n",
       "\n",
       "    .dataframe tbody tr th {\n",
       "        vertical-align: top;\n",
       "    }\n",
       "\n",
       "    .dataframe thead th {\n",
       "        text-align: right;\n",
       "    }\n",
       "</style>\n",
       "<table border=\"1\" class=\"dataframe\">\n",
       "  <thead>\n",
       "    <tr style=\"text-align: right;\">\n",
       "      <th></th>\n",
       "      <th>Junction</th>\n",
       "      <th>Vehicles</th>\n",
       "      <th>year</th>\n",
       "      <th>month</th>\n",
       "      <th>day</th>\n",
       "      <th>hour</th>\n",
       "    </tr>\n",
       "    <tr>\n",
       "      <th>ID</th>\n",
       "      <th></th>\n",
       "      <th></th>\n",
       "      <th></th>\n",
       "      <th></th>\n",
       "      <th></th>\n",
       "      <th></th>\n",
       "    </tr>\n",
       "  </thead>\n",
       "  <tbody>\n",
       "    <tr>\n",
       "      <th>20151101001</th>\n",
       "      <td>1</td>\n",
       "      <td>15</td>\n",
       "      <td>2015</td>\n",
       "      <td>1</td>\n",
       "      <td>11</td>\n",
       "      <td>0</td>\n",
       "    </tr>\n",
       "    <tr>\n",
       "      <th>20151101011</th>\n",
       "      <td>1</td>\n",
       "      <td>13</td>\n",
       "      <td>2015</td>\n",
       "      <td>1</td>\n",
       "      <td>11</td>\n",
       "      <td>1</td>\n",
       "    </tr>\n",
       "  </tbody>\n",
       "</table>\n",
       "</div>"
      ],
      "text/plain": [
       "             Junction  Vehicles  year  month  day  hour\n",
       "ID                                                     \n",
       "20151101001         1        15  2015      1   11     0\n",
       "20151101011         1        13  2015      1   11     1"
      ]
     },
     "execution_count": 102,
     "metadata": {},
     "output_type": "execute_result"
    }
   ],
   "source": [
    "## Display first 2 records of train data after setting index.\n",
    "train.head(2)"
   ]
  },
  {
   "cell_type": "code",
   "execution_count": 103,
   "metadata": {},
   "outputs": [
    {
     "data": {
      "text/html": [
       "<div>\n",
       "<style scoped>\n",
       "    .dataframe tbody tr th:only-of-type {\n",
       "        vertical-align: middle;\n",
       "    }\n",
       "\n",
       "    .dataframe tbody tr th {\n",
       "        vertical-align: top;\n",
       "    }\n",
       "\n",
       "    .dataframe thead th {\n",
       "        text-align: right;\n",
       "    }\n",
       "</style>\n",
       "<table border=\"1\" class=\"dataframe\">\n",
       "  <thead>\n",
       "    <tr style=\"text-align: right;\">\n",
       "      <th></th>\n",
       "      <th>Junction</th>\n",
       "      <th>year</th>\n",
       "      <th>month</th>\n",
       "      <th>day</th>\n",
       "      <th>hour</th>\n",
       "    </tr>\n",
       "    <tr>\n",
       "      <th>ID</th>\n",
       "      <th></th>\n",
       "      <th></th>\n",
       "      <th></th>\n",
       "      <th></th>\n",
       "      <th></th>\n",
       "    </tr>\n",
       "  </thead>\n",
       "  <tbody>\n",
       "    <tr>\n",
       "      <th>20170701001</th>\n",
       "      <td>1</td>\n",
       "      <td>2017</td>\n",
       "      <td>1</td>\n",
       "      <td>7</td>\n",
       "      <td>0</td>\n",
       "    </tr>\n",
       "    <tr>\n",
       "      <th>20170701011</th>\n",
       "      <td>1</td>\n",
       "      <td>2017</td>\n",
       "      <td>1</td>\n",
       "      <td>7</td>\n",
       "      <td>1</td>\n",
       "    </tr>\n",
       "  </tbody>\n",
       "</table>\n",
       "</div>"
      ],
      "text/plain": [
       "             Junction  year  month  day  hour\n",
       "ID                                           \n",
       "20170701001         1  2017      1    7     0\n",
       "20170701011         1  2017      1    7     1"
      ]
     },
     "execution_count": 103,
     "metadata": {},
     "output_type": "execute_result"
    }
   ],
   "source": [
    "## Display first 2 records of test data after setting index.\n",
    "test.head(2)"
   ]
  },
  {
   "cell_type": "code",
   "execution_count": 129,
   "metadata": {},
   "outputs": [],
   "source": [
    "## Store features into train_data (for train data).\n",
    "train_data = train.drop('Vehicles', axis=1)"
   ]
  },
  {
   "cell_type": "code",
   "execution_count": 130,
   "metadata": {},
   "outputs": [],
   "source": [
    "## Store traget into y(for train data).\n",
    "y = train['Vehicles']"
   ]
  },
  {
   "cell_type": "code",
   "execution_count": 131,
   "metadata": {},
   "outputs": [],
   "source": [
    "## Split the data into train and validation.\n",
    "X_train,X_test,y_train,y_test = train_test_split(train_data,y,test_size=0.2,random_state =1234)"
   ]
  },
  {
   "cell_type": "code",
   "execution_count": 132,
   "metadata": {},
   "outputs": [],
   "source": [
    "## Instantiate label encoder.\n",
    "le_junction = LabelEncoder()\n",
    "le_year = LabelEncoder()\n",
    "le_month = LabelEncoder()\n",
    "le_day = LabelEncoder()\n",
    "le_hour = LabelEncoder()"
   ]
  },
  {
   "cell_type": "code",
   "execution_count": 133,
   "metadata": {},
   "outputs": [],
   "source": [
    "## Do labe encoding for trian data .\n",
    "X_train['Junction'] = le_junction.fit_transform(X_train['Junction'])\n",
    "X_train['year'] = le_year.fit_transform(X_train['year'])\n",
    "X_train['month'] = le_month.fit_transform(X_train['month'])\n",
    "X_train['day'] = le_day.fit_transform(X_train['day'])\n",
    "X_train['hour'] = le_hour.fit_transform(X_train['hour'])"
   ]
  },
  {
   "cell_type": "code",
   "execution_count": 134,
   "metadata": {},
   "outputs": [],
   "source": [
    "## Do labe encoding for validation data.\n",
    "X_test['Junction'] = le_junction.transform(X_test['Junction'])\n",
    "X_test['year'] = le_year.transform(X_test['year'])\n",
    "X_test['month'] = le_month.transform(X_test['month'])\n",
    "X_test['day'] = le_day.transform(X_test['day'])\n",
    "X_test['hour'] = le_hour.transform(X_test['hour'])"
   ]
  },
  {
   "cell_type": "code",
   "execution_count": null,
   "metadata": {},
   "outputs": [],
   "source": [
    "## Do labe encoding for test data. \n",
    "test['Junction'] = le_junction.transform(test['Junction'])\n",
    "test['year'] = le_year.transform(test['year'])\n",
    "test['month'] = le_month.transform(test['month'])\n",
    "test['day'] = le_day.transform(test['day'])\n",
    "test['hour'] = le_hour.transform(test['hour'])"
   ]
  },
  {
   "cell_type": "code",
   "execution_count": 136,
   "metadata": {},
   "outputs": [
    {
     "data": {
      "text/html": [
       "<div>\n",
       "<style scoped>\n",
       "    .dataframe tbody tr th:only-of-type {\n",
       "        vertical-align: middle;\n",
       "    }\n",
       "\n",
       "    .dataframe tbody tr th {\n",
       "        vertical-align: top;\n",
       "    }\n",
       "\n",
       "    .dataframe thead th {\n",
       "        text-align: right;\n",
       "    }\n",
       "</style>\n",
       "<table border=\"1\" class=\"dataframe\">\n",
       "  <thead>\n",
       "    <tr style=\"text-align: right;\">\n",
       "      <th></th>\n",
       "      <th>Junction</th>\n",
       "      <th>year</th>\n",
       "      <th>month</th>\n",
       "      <th>day</th>\n",
       "      <th>hour</th>\n",
       "    </tr>\n",
       "    <tr>\n",
       "      <th>ID</th>\n",
       "      <th></th>\n",
       "      <th></th>\n",
       "      <th></th>\n",
       "      <th></th>\n",
       "      <th></th>\n",
       "    </tr>\n",
       "  </thead>\n",
       "  <tbody>\n",
       "    <tr>\n",
       "      <th>20161012113</th>\n",
       "      <td>2</td>\n",
       "      <td>1</td>\n",
       "      <td>11</td>\n",
       "      <td>9</td>\n",
       "      <td>11</td>\n",
       "    </tr>\n",
       "  </tbody>\n",
       "</table>\n",
       "</div>"
      ],
      "text/plain": [
       "             Junction  year  month  day  hour\n",
       "ID                                           \n",
       "20161012113         2     1     11    9    11"
      ]
     },
     "execution_count": 136,
     "metadata": {},
     "output_type": "execute_result"
    }
   ],
   "source": [
    "## Display first record of train data after doing label encoding.\n",
    "X_train.head(1)"
   ]
  },
  {
   "cell_type": "code",
   "execution_count": 137,
   "metadata": {},
   "outputs": [
    {
     "data": {
      "text/html": [
       "<div>\n",
       "<style scoped>\n",
       "    .dataframe tbody tr th:only-of-type {\n",
       "        vertical-align: middle;\n",
       "    }\n",
       "\n",
       "    .dataframe tbody tr th {\n",
       "        vertical-align: top;\n",
       "    }\n",
       "\n",
       "    .dataframe thead th {\n",
       "        text-align: right;\n",
       "    }\n",
       "</style>\n",
       "<table border=\"1\" class=\"dataframe\">\n",
       "  <thead>\n",
       "    <tr style=\"text-align: right;\">\n",
       "      <th></th>\n",
       "      <th>Junction</th>\n",
       "      <th>year</th>\n",
       "      <th>month</th>\n",
       "      <th>day</th>\n",
       "      <th>hour</th>\n",
       "    </tr>\n",
       "    <tr>\n",
       "      <th>ID</th>\n",
       "      <th></th>\n",
       "      <th></th>\n",
       "      <th></th>\n",
       "      <th></th>\n",
       "      <th></th>\n",
       "    </tr>\n",
       "  </thead>\n",
       "  <tbody>\n",
       "    <tr>\n",
       "      <th>20170521101</th>\n",
       "      <td>0</td>\n",
       "      <td>2</td>\n",
       "      <td>4</td>\n",
       "      <td>20</td>\n",
       "      <td>10</td>\n",
       "    </tr>\n",
       "  </tbody>\n",
       "</table>\n",
       "</div>"
      ],
      "text/plain": [
       "             Junction  year  month  day  hour\n",
       "ID                                           \n",
       "20170521101         0     2      4   20    10"
      ]
     },
     "execution_count": 137,
     "metadata": {},
     "output_type": "execute_result"
    }
   ],
   "source": [
    "## Display first record of validation data after doing label encoding.\n",
    "X_test.head(1)"
   ]
  },
  {
   "cell_type": "code",
   "execution_count": 138,
   "metadata": {},
   "outputs": [
    {
     "data": {
      "text/html": [
       "<div>\n",
       "<style scoped>\n",
       "    .dataframe tbody tr th:only-of-type {\n",
       "        vertical-align: middle;\n",
       "    }\n",
       "\n",
       "    .dataframe tbody tr th {\n",
       "        vertical-align: top;\n",
       "    }\n",
       "\n",
       "    .dataframe thead th {\n",
       "        text-align: right;\n",
       "    }\n",
       "</style>\n",
       "<table border=\"1\" class=\"dataframe\">\n",
       "  <thead>\n",
       "    <tr style=\"text-align: right;\">\n",
       "      <th></th>\n",
       "      <th>Junction</th>\n",
       "      <th>year</th>\n",
       "      <th>month</th>\n",
       "      <th>day</th>\n",
       "      <th>hour</th>\n",
       "    </tr>\n",
       "    <tr>\n",
       "      <th>ID</th>\n",
       "      <th></th>\n",
       "      <th></th>\n",
       "      <th></th>\n",
       "      <th></th>\n",
       "      <th></th>\n",
       "    </tr>\n",
       "  </thead>\n",
       "  <tbody>\n",
       "    <tr>\n",
       "      <th>20170701001</th>\n",
       "      <td>0</td>\n",
       "      <td>2</td>\n",
       "      <td>0</td>\n",
       "      <td>6</td>\n",
       "      <td>0</td>\n",
       "    </tr>\n",
       "  </tbody>\n",
       "</table>\n",
       "</div>"
      ],
      "text/plain": [
       "             Junction  year  month  day  hour\n",
       "ID                                           \n",
       "20170701001         0     2      0    6     0"
      ]
     },
     "execution_count": 138,
     "metadata": {},
     "output_type": "execute_result"
    }
   ],
   "source": [
    "## Display first record of test data after doing label encoding.\n",
    "test.head(1)"
   ]
  },
  {
   "cell_type": "code",
   "execution_count": 140,
   "metadata": {},
   "outputs": [
    {
     "data": {
      "text/plain": [
       "DecisionTreeRegressor(ccp_alpha=0.0, criterion='mse', max_depth=7,\n",
       "                      max_features=None, max_leaf_nodes=None,\n",
       "                      min_impurity_decrease=0.0, min_impurity_split=None,\n",
       "                      min_samples_leaf=10, min_samples_split=5,\n",
       "                      min_weight_fraction_leaf=0.0, presort='deprecated',\n",
       "                      random_state=123, splitter='best')"
      ]
     },
     "execution_count": 140,
     "metadata": {},
     "output_type": "execute_result"
    }
   ],
   "source": [
    "## Instantiate decision tree model and fit it.\n",
    "dtr = DecisionTreeRegressor(max_depth=7,min_samples_leaf=10,min_samples_split=5,random_state=123)\n",
    "dtr.fit(X_train,y_train)"
   ]
  },
  {
   "cell_type": "code",
   "execution_count": 141,
   "metadata": {},
   "outputs": [],
   "source": [
    "## Get the predictions on train and validation data.\n",
    "pred_train = dtr.predict(X_train)\n",
    "pred_test = dtr.predict(X_test)"
   ]
  },
  {
   "cell_type": "code",
   "execution_count": 142,
   "metadata": {},
   "outputs": [],
   "source": [
    "## Get predictions on test data.\n",
    "test_pred = dtr.predict(test)"
   ]
  },
  {
   "cell_type": "code",
   "execution_count": 144,
   "metadata": {},
   "outputs": [
    {
     "name": "stdout",
     "output_type": "stream",
     "text": [
      "Train Error: 8.15194544307838\n",
      "Test Error: 8.484839367035523\n"
     ]
    }
   ],
   "source": [
    "## Display RMSE value for train and validation data.\n",
    "print(\"Train Error:\",sqrt(mean_squared_error(y_train, pred_train)))\n",
    "print(\"Test Error:\",sqrt(mean_squared_error(y_test, pred_test)))"
   ]
  },
  {
   "cell_type": "code",
   "execution_count": 145,
   "metadata": {},
   "outputs": [],
   "source": [
    "## Prepare a dataframe with test index,test predictions data.\n",
    "dataframe = pd.DataFrame({'ID' : test.index,\n",
    "                          'Vehicles' : test_pred})"
   ]
  },
  {
   "cell_type": "code",
   "execution_count": 147,
   "metadata": {},
   "outputs": [],
   "source": [
    "## Copy dataframe data into a CSV file.\n",
    "dataframe.to_csv('DT_Predictions.csv',index=False)"
   ]
  },
  {
   "cell_type": "code",
   "execution_count": 202,
   "metadata": {},
   "outputs": [],
   "source": [
    "## Instantiate random forest model.\n",
    "rc = RandomForestRegressor(n_estimators= 25, max_depth= 10)## ,min_samples_leaf = 2)## ,max_features='sqrt')"
   ]
  },
  {
   "cell_type": "code",
   "execution_count": 203,
   "metadata": {},
   "outputs": [
    {
     "data": {
      "text/plain": [
       "RandomForestRegressor(bootstrap=True, ccp_alpha=0.0, criterion='mse',\n",
       "                      max_depth=10, max_features='auto', max_leaf_nodes=None,\n",
       "                      max_samples=None, min_impurity_decrease=0.0,\n",
       "                      min_impurity_split=None, min_samples_leaf=1,\n",
       "                      min_samples_split=2, min_weight_fraction_leaf=0.0,\n",
       "                      n_estimators=25, n_jobs=None, oob_score=False,\n",
       "                      random_state=None, verbose=0, warm_start=False)"
      ]
     },
     "execution_count": 203,
     "metadata": {},
     "output_type": "execute_result"
    }
   ],
   "source": [
    "## Fit a model.\n",
    "rc.fit(X_train,y_train)"
   ]
  },
  {
   "cell_type": "code",
   "execution_count": 204,
   "metadata": {},
   "outputs": [],
   "source": [
    "## Get the predictions on train and validation data.\n",
    "pred_train = rc.predict(X_train)\n",
    "pred_test = rc.predict(X_test)"
   ]
  },
  {
   "cell_type": "code",
   "execution_count": 205,
   "metadata": {},
   "outputs": [
    {
     "name": "stdout",
     "output_type": "stream",
     "text": [
      "Train Error: 6.719699018781504\n",
      "Test Error: 7.285963090446608\n"
     ]
    }
   ],
   "source": [
    "## Display RMSE values for train and validation data.\n",
    "print(\"Train Error:\",sqrt(mean_squared_error(y_train, pred_train)))\n",
    "print(\"Test Error:\",sqrt(mean_squared_error(y_test, pred_test)))"
   ]
  },
  {
   "cell_type": "code",
   "execution_count": 153,
   "metadata": {},
   "outputs": [],
   "source": [
    "## Get predictions on test data.\n",
    "test_pred = rc.predict(test)"
   ]
  },
  {
   "cell_type": "code",
   "execution_count": 156,
   "metadata": {},
   "outputs": [],
   "source": [
    "## Prepare a dataframe with test index,test predictions data.\n",
    "dataframe = pd.DataFrame({'ID' : test.index,\n",
    "                          'Vehicles' : test_pred})"
   ]
  },
  {
   "cell_type": "code",
   "execution_count": 157,
   "metadata": {},
   "outputs": [],
   "source": [
    "## Copy dataframe data into a CSV file.\n",
    "dataframe.to_csv('RFPredictions.csv',index=False)"
   ]
  },
  {
   "cell_type": "code",
   "execution_count": 159,
   "metadata": {},
   "outputs": [
    {
     "name": "stdout",
     "output_type": "stream",
     "text": [
      "Wall time: 399 ms\n"
     ]
    },
    {
     "data": {
      "text/plain": [
       "AdaBoostRegressor(base_estimator=None, learning_rate=1, loss='linear',\n",
       "                  n_estimators=50, random_state=None)"
      ]
     },
     "execution_count": 159,
     "metadata": {},
     "output_type": "execute_result"
    }
   ],
   "source": [
    "## Instantiate adaboost model and fit it.\n",
    "Adaboost_model = AdaBoostRegressor(n_estimators=50,learning_rate=1)\n",
    "%time Adaboost_model.fit(X_train, y_train)"
   ]
  },
  {
   "cell_type": "code",
   "execution_count": 160,
   "metadata": {},
   "outputs": [],
   "source": [
    "## Get the predictions on train and validation data,\n",
    "pred_train = Adaboost_model.predict(X_train)\n",
    "pred_test = Adaboost_model.predict(X_test)"
   ]
  },
  {
   "cell_type": "code",
   "execution_count": 161,
   "metadata": {},
   "outputs": [
    {
     "name": "stdout",
     "output_type": "stream",
     "text": [
      "Train Error: 11.722037502574286\n",
      "Test Error: 11.949507960901505\n"
     ]
    }
   ],
   "source": [
    "## Display RMSE value for train and validation data.\n",
    "print(\"Train Error:\",sqrt(mean_squared_error(y_train, pred_train)))\n",
    "print(\"Test Error:\",sqrt(mean_squared_error(y_test, pred_test)))"
   ]
  },
  {
   "cell_type": "code",
   "execution_count": 162,
   "metadata": {},
   "outputs": [],
   "source": [
    "## Get predictions on test data.\n",
    "test_pred = Adaboost_model.predict(test)"
   ]
  },
  {
   "cell_type": "code",
   "execution_count": 163,
   "metadata": {},
   "outputs": [],
   "source": [
    "## Prepare a dataframe with test index,test predictions data.\n",
    "dataframe = pd.DataFrame({'ID' : test.index,\n",
    "                          'Vehicles' : test_pred})"
   ]
  },
  {
   "cell_type": "code",
   "execution_count": 164,
   "metadata": {},
   "outputs": [],
   "source": [
    "## Copy dataframe data into a CSV file.\n",
    "dataframe.to_csv('AdaBoost.csv',index=False)"
   ]
  },
  {
   "cell_type": "code",
   "execution_count": 166,
   "metadata": {},
   "outputs": [
    {
     "name": "stdout",
     "output_type": "stream",
     "text": [
      "Wall time: 610 ms\n"
     ]
    },
    {
     "data": {
      "text/plain": [
       "GradientBoostingRegressor(alpha=0.9, ccp_alpha=0.0, criterion='friedman_mse',\n",
       "                          init=None, learning_rate=0.8, loss='ls', max_depth=3,\n",
       "                          max_features=None, max_leaf_nodes=None,\n",
       "                          min_impurity_decrease=0.0, min_impurity_split=None,\n",
       "                          min_samples_leaf=1, min_samples_split=2,\n",
       "                          min_weight_fraction_leaf=0.0, n_estimators=50,\n",
       "                          n_iter_no_change=None, presort='deprecated',\n",
       "                          random_state=474, subsample=1.0, tol=0.0001,\n",
       "                          validation_fraction=0.1, verbose=0, warm_start=False)"
      ]
     },
     "execution_count": 166,
     "metadata": {},
     "output_type": "execute_result"
    }
   ],
   "source": [
    "## Instantiate GDR model and fit it.\n",
    "gbm = GradientBoostingRegressor(n_estimators=50,learning_rate=0.8,random_state=474)\n",
    "%time gbm.fit(X=X_train, y=y_train)"
   ]
  },
  {
   "cell_type": "code",
   "execution_count": 167,
   "metadata": {},
   "outputs": [],
   "source": [
    "## Get the predictions on train and validation data.\n",
    "pred_train = gbm.predict(X_train)\n",
    "pred_test = gbm.predict(X_test)"
   ]
  },
  {
   "cell_type": "code",
   "execution_count": 168,
   "metadata": {},
   "outputs": [
    {
     "name": "stdout",
     "output_type": "stream",
     "text": [
      "Train Error: 7.6221840992263346\n",
      "Test Error: 7.898128303436905\n"
     ]
    }
   ],
   "source": [
    "## Display RMSE value for train and validation data.\n",
    "print(\"Train Error:\",sqrt(mean_squared_error(y_train, pred_train)))\n",
    "print(\"Test Error:\",sqrt(mean_squared_error(y_test, pred_test)))"
   ]
  },
  {
   "cell_type": "code",
   "execution_count": 169,
   "metadata": {},
   "outputs": [],
   "source": [
    "## Get predictions on test data.\n",
    "test_pred = gbm.predict(test)"
   ]
  },
  {
   "cell_type": "code",
   "execution_count": 170,
   "metadata": {},
   "outputs": [],
   "source": [
    "## Prepare a dataframe with test index,test predictions data.\n",
    "dataframe = pd.DataFrame({'ID' : test.index,\n",
    "                          'Vehicles' : test_pred})"
   ]
  },
  {
   "cell_type": "code",
   "execution_count": 171,
   "metadata": {},
   "outputs": [],
   "source": [
    "## Copy dataframe into a CSV file.\n",
    "dataframe.to_csv('GB.csv',index=False)"
   ]
  },
  {
   "cell_type": "code",
   "execution_count": 174,
   "metadata": {},
   "outputs": [
    {
     "name": "stdout",
     "output_type": "stream",
     "text": [
      "Fitting 5 folds for each of 48 candidates, totalling 240 fits\n"
     ]
    },
    {
     "name": "stderr",
     "output_type": "stream",
     "text": [
      "[Parallel(n_jobs=-1)]: Using backend LokyBackend with 12 concurrent workers.\n",
      "[Parallel(n_jobs=-1)]: Done  26 tasks      | elapsed:   10.1s\n",
      "[Parallel(n_jobs=-1)]: Done 176 tasks      | elapsed:   42.8s\n",
      "[Parallel(n_jobs=-1)]: Done 240 out of 240 | elapsed:  1.1min finished\n"
     ]
    },
    {
     "name": "stdout",
     "output_type": "stream",
     "text": [
      "[17:03:00] WARNING: C:/Jenkins/workspace/xgboost-win64_release_0.90/src/objective/regression_obj.cu:152: reg:linear is now deprecated in favor of reg:squarederror.\n",
      "Wall time: 1min 9s\n",
      "0.9258342993200774\n",
      "{'max_depth': 7, 'n_estimators': 200}\n"
     ]
    }
   ],
   "source": [
    "## Run Grid search to get best parrameters to build a XGB model.\n",
    "xgb = XGBRegressor() ## Instantiate XGBClassifier model.\n",
    "\n",
    "optimization_dict = {'max_depth': [2,3,4,5,6,7], ## Trying with different max_depth,n_estimators to find best model.\n",
    "                      'n_estimators': [50,60,70,80,90,100,150,200]} \n",
    "\n",
    "## Build best model with Grid Search params.\n",
    "model = GridSearchCV(xgb, ## XGB model\n",
    "                     optimization_dict, ## Dictory with different max_depth,n_estimators.\n",
    "                     verbose=1, ## For messaging purpose.\n",
    "                     n_jobs=-1) ## Number of jobs to run in parallel. ''-1' means use all processors.\n",
    "\n",
    "%time model.fit(X_train, y_train) ## Fit a model.\n",
    "print(model.best_score_) ## Display best score calues.\n",
    "print(model.best_params_) ## Display best parameters."
   ]
  },
  {
   "cell_type": "code",
   "execution_count": 206,
   "metadata": {},
   "outputs": [
    {
     "name": "stdout",
     "output_type": "stream",
     "text": [
      "[17:16:23] WARNING: C:/Jenkins/workspace/xgboost-win64_release_0.90/src/objective/regression_obj.cu:152: reg:linear is now deprecated in favor of reg:squarederror.\n",
      "Wall time: 5.72 s\n"
     ]
    },
    {
     "data": {
      "text/plain": [
       "XGBRegressor(base_score=0.5, booster='gbtree', colsample_bylevel=1,\n",
       "             colsample_bynode=1, colsample_bytree=1, gamma=0,\n",
       "             importance_type='gain', learning_rate=0.1, max_delta_step=0,\n",
       "             max_depth=10, min_child_weight=1, missing=None, n_estimators=200,\n",
       "             n_jobs=1, nthread=None, objective='reg:linear', random_state=0,\n",
       "             reg_alpha=0, reg_lambda=1, scale_pos_weight=1, seed=None,\n",
       "             silent=None, subsample=1, verbosity=1)"
      ]
     },
     "execution_count": 206,
     "metadata": {},
     "output_type": "execute_result"
    }
   ],
   "source": [
    "## Build a XGB model with best params which we found after grid search CV (above code).\n",
    "xgb_model = XGBRegressor(max_depth=10, n_estimators=200)\n",
    "%time xgb_model.fit(X_train, y_train)"
   ]
  },
  {
   "cell_type": "code",
   "execution_count": 207,
   "metadata": {},
   "outputs": [],
   "source": [
    "## Get the predictions on train and validation data.\n",
    "pred_train = xgb_model.predict(X_train)\n",
    "pred_test = xgb_model.predict(X_test)"
   ]
  },
  {
   "cell_type": "code",
   "execution_count": 208,
   "metadata": {},
   "outputs": [
    {
     "name": "stdout",
     "output_type": "stream",
     "text": [
      "Train Error: 2.3982054773442028\n",
      "Test Error: 4.283494263052786\n"
     ]
    }
   ],
   "source": [
    "## Display RMSE value for train and validation data.\n",
    "print(\"Train Error:\",sqrt(mean_squared_error(y_train, pred_train)))\n",
    "print(\"Test Error:\",sqrt(mean_squared_error(y_test, pred_test)))"
   ]
  },
  {
   "cell_type": "code",
   "execution_count": 209,
   "metadata": {},
   "outputs": [],
   "source": [
    "## Get predictions onn test data.\n",
    "test_pred = xgb_model.predict(test)"
   ]
  },
  {
   "cell_type": "code",
   "execution_count": 210,
   "metadata": {},
   "outputs": [],
   "source": [
    "## Prepares a dataframe with test index,test predictions data.\n",
    "dataframe = pd.DataFrame({'ID' : test.index,\n",
    "                          'Vehicles' : test_pred})"
   ]
  },
  {
   "cell_type": "code",
   "execution_count": 211,
   "metadata": {},
   "outputs": [],
   "source": [
    "## Copy dataframe data into a CSV file.\n",
    "dataframe.to_csv('XGB.csv',index=False)"
   ]
  },
  {
   "cell_type": "code",
   "execution_count": 213,
   "metadata": {},
   "outputs": [
    {
     "data": {
      "text/plain": [
       "SVR(C=1.0, cache_size=200, coef0=0.0, degree=3, epsilon=0.1, gamma='scale',\n",
       "    kernel='rbf', max_iter=-1, shrinking=True, tol=0.001, verbose=False)"
      ]
     },
     "execution_count": 213,
     "metadata": {},
     "output_type": "execute_result"
    }
   ],
   "source": [
    "## Instantiate SVR model.\n",
    "svr_model = SVR()\n",
    "svr_model"
   ]
  },
  {
   "cell_type": "code",
   "execution_count": 214,
   "metadata": {},
   "outputs": [
    {
     "data": {
      "text/plain": [
       "SVR(C=1.0, cache_size=200, coef0=0.0, degree=3, epsilon=0.1, gamma='scale',\n",
       "    kernel='rbf', max_iter=-1, shrinking=True, tol=0.001, verbose=False)"
      ]
     },
     "execution_count": 214,
     "metadata": {},
     "output_type": "execute_result"
    }
   ],
   "source": [
    "## Fit a model.\n",
    "svr_model.fit(X = X_train, y = y_train)"
   ]
  },
  {
   "cell_type": "code",
   "execution_count": 215,
   "metadata": {},
   "outputs": [],
   "source": [
    "## Get the predictions on train and validation data.\n",
    "pred_train = svr_model.predict(X_train)\n",
    "pred_test = svr_model.predict(X_test)"
   ]
  },
  {
   "cell_type": "code",
   "execution_count": 216,
   "metadata": {},
   "outputs": [
    {
     "name": "stdout",
     "output_type": "stream",
     "text": [
      "Train Error: 14.704433150467267\n",
      "Test Error: 14.53589057940764\n"
     ]
    }
   ],
   "source": [
    "## Display RMSE value for train and validation data.\n",
    "print(\"Train Error:\",sqrt(mean_squared_error(y_train, pred_train)))\n",
    "print(\"Test Error:\",sqrt(mean_squared_error(y_test, pred_test)))"
   ]
  },
  {
   "cell_type": "code",
   "execution_count": 217,
   "metadata": {},
   "outputs": [],
   "source": [
    "## Get predictions on test data.\n",
    "test_pred = svr_model.predict(test)"
   ]
  },
  {
   "cell_type": "code",
   "execution_count": 218,
   "metadata": {},
   "outputs": [],
   "source": [
    "## Prepare a dataframe with test index,test predictions data.\n",
    "dataframe = pd.DataFrame({'ID' : test.index,\n",
    "                          'Vehicles' : test_pred})"
   ]
  },
  {
   "cell_type": "code",
   "execution_count": 219,
   "metadata": {},
   "outputs": [],
   "source": [
    "## Copy dataframe into a CSV file.\n",
    "dataframe.to_csv('SVR.csv',index=False)"
   ]
  },
  {
   "cell_type": "code",
   "execution_count": 221,
   "metadata": {},
   "outputs": [
    {
     "data": {
      "text/plain": [
       "KNeighborsRegressor(algorithm='brute', leaf_size=30, metric='euclidean',\n",
       "                    metric_params=None, n_jobs=None, n_neighbors=4, p=2,\n",
       "                    weights='uniform')"
      ]
     },
     "execution_count": 221,
     "metadata": {},
     "output_type": "execute_result"
    }
   ],
   "source": [
    "## Instantiate KNN model and fit it.\n",
    "knn = KNeighborsRegressor(algorithm = 'brute', n_neighbors = 4,\n",
    "                           metric = \"euclidean\")\n",
    "knn.fit(X_train, y_train)"
   ]
  },
  {
   "cell_type": "code",
   "execution_count": 222,
   "metadata": {},
   "outputs": [],
   "source": [
    "## Get the predictions on train and validation data.\n",
    "pred_train = knn.predict(X_train)\n",
    "pred_test = knn.predict(X_test)"
   ]
  },
  {
   "cell_type": "code",
   "execution_count": 223,
   "metadata": {},
   "outputs": [
    {
     "name": "stdout",
     "output_type": "stream",
     "text": [
      "Train Error: 7.33015053073975\n",
      "Test Error: 8.867127023804045\n"
     ]
    }
   ],
   "source": [
    "## Display RMSE value for train and validation data.\n",
    "print(\"Train Error:\",sqrt(mean_squared_error(y_train, pred_train)))\n",
    "print(\"Test Error:\",sqrt(mean_squared_error(y_test, pred_test)))"
   ]
  },
  {
   "cell_type": "code",
   "execution_count": 224,
   "metadata": {},
   "outputs": [],
   "source": [
    "## Get predictions on test data.\n",
    "test_pred = knn.predict(test)"
   ]
  },
  {
   "cell_type": "code",
   "execution_count": 225,
   "metadata": {},
   "outputs": [],
   "source": [
    "## Prepare a dataframe with test index,test predictions data.\n",
    "dataframe = pd.DataFrame({'ID' : test.index,\n",
    "                          'Vehicles' : test_pred})"
   ]
  },
  {
   "cell_type": "code",
   "execution_count": 226,
   "metadata": {},
   "outputs": [],
   "source": [
    "## Copy dataframe dta into a CSV file.\n",
    "dataframe.to_csv('KNN.csv',index=False)"
   ]
  },
  {
   "cell_type": "code",
   "execution_count": 228,
   "metadata": {},
   "outputs": [
    {
     "name": "stdout",
     "output_type": "stream",
     "text": [
      "Epoch 1/150\n",
      "38496/38496 [==============================] - 1s 19us/step - loss: 937.5673\n",
      "Epoch 2/150\n",
      "38496/38496 [==============================] - 1s 16us/step - loss: 397.4048\n",
      "Epoch 3/150\n",
      "38496/38496 [==============================] - 1s 16us/step - loss: 362.2320\n",
      "Epoch 4/150\n",
      "38496/38496 [==============================] - 1s 16us/step - loss: 335.0101\n",
      "Epoch 5/150\n",
      "38496/38496 [==============================] - 1s 16us/step - loss: 310.6585\n",
      "Epoch 6/150\n",
      "38496/38496 [==============================] - 1s 16us/step - loss: 288.7370\n",
      "Epoch 7/150\n",
      "38496/38496 [==============================] - 1s 16us/step - loss: 269.6364\n",
      "Epoch 8/150\n",
      "38496/38496 [==============================] - 1s 18us/step - loss: 252.9329\n",
      "Epoch 9/150\n",
      "38496/38496 [==============================] - 1s 16us/step - loss: 238.6660\n",
      "Epoch 10/150\n",
      "38496/38496 [==============================] - 1s 17us/step - loss: 226.8497\n",
      "Epoch 11/150\n",
      "38496/38496 [==============================] - 1s 16us/step - loss: 217.2159\n",
      "Epoch 12/150\n",
      "38496/38496 [==============================] - 1s 16us/step - loss: 209.6740\n",
      "Epoch 13/150\n",
      "38496/38496 [==============================] - 1s 16us/step - loss: 203.8835\n",
      "Epoch 14/150\n",
      "38496/38496 [==============================] - 1s 16us/step - loss: 199.4425\n",
      "Epoch 15/150\n",
      "38496/38496 [==============================] - 1s 18us/step - loss: 196.0416\n",
      "Epoch 16/150\n",
      "38496/38496 [==============================] - 1s 17us/step - loss: 193.4639\n",
      "Epoch 17/150\n",
      "38496/38496 [==============================] - 1s 17us/step - loss: 191.5701\n",
      "Epoch 18/150\n",
      "38496/38496 [==============================] - 1s 16us/step - loss: 190.0859\n",
      "Epoch 19/150\n",
      "38496/38496 [==============================] - 1s 17us/step - loss: 189.0458\n",
      "Epoch 20/150\n",
      "38496/38496 [==============================] - 1s 17us/step - loss: 188.1913\n",
      "Epoch 21/150\n",
      "38496/38496 [==============================] - 1s 17us/step - loss: 187.6335\n",
      "Epoch 22/150\n",
      "38496/38496 [==============================] - 1s 17us/step - loss: 187.1659\n",
      "Epoch 23/150\n",
      "38496/38496 [==============================] - 1s 16us/step - loss: 186.8620\n",
      "Epoch 24/150\n",
      "38496/38496 [==============================] - 1s 16us/step - loss: 186.6121\n",
      "Epoch 25/150\n",
      "38496/38496 [==============================] - 1s 16us/step - loss: 186.4605\n",
      "Epoch 26/150\n",
      "38496/38496 [==============================] - 1s 16us/step - loss: 186.3449\n",
      "Epoch 27/150\n",
      "38496/38496 [==============================] - 1s 16us/step - loss: 186.2315\n",
      "Epoch 28/150\n",
      "38496/38496 [==============================] - 1s 16us/step - loss: 186.1747\n",
      "Epoch 29/150\n",
      "38496/38496 [==============================] - 1s 16us/step - loss: 186.1384\n",
      "Epoch 30/150\n",
      "38496/38496 [==============================] - 1s 16us/step - loss: 186.0786\n",
      "Epoch 31/150\n",
      "38496/38496 [==============================] - 1s 16us/step - loss: 186.0415\n",
      "Epoch 32/150\n",
      "38496/38496 [==============================] - 1s 16us/step - loss: 186.0037\n",
      "Epoch 33/150\n",
      "38496/38496 [==============================] - 1s 16us/step - loss: 186.0172\n",
      "Epoch 34/150\n",
      "38496/38496 [==============================] - 1s 16us/step - loss: 185.9849\n",
      "Epoch 35/150\n",
      "38496/38496 [==============================] - 1s 16us/step - loss: 186.0084\n",
      "Epoch 36/150\n",
      "38496/38496 [==============================] - 1s 16us/step - loss: 185.9634\n",
      "Epoch 37/150\n",
      "38496/38496 [==============================] - 1s 16us/step - loss: 185.9847\n",
      "Epoch 38/150\n",
      "38496/38496 [==============================] - 1s 16us/step - loss: 185.9640\n",
      "Epoch 39/150\n",
      "38496/38496 [==============================] - 1s 16us/step - loss: 185.9662\n",
      "Epoch 40/150\n",
      "38496/38496 [==============================] - 1s 16us/step - loss: 185.9616\n",
      "Epoch 41/150\n",
      "38496/38496 [==============================] - 1s 16us/step - loss: 185.9557\n",
      "Epoch 42/150\n",
      "38496/38496 [==============================] - 1s 16us/step - loss: 185.9474\n",
      "Epoch 43/150\n",
      "38496/38496 [==============================] - 1s 16us/step - loss: 185.9397\n",
      "Epoch 44/150\n",
      "38496/38496 [==============================] - 1s 16us/step - loss: 185.9302\n",
      "Epoch 45/150\n",
      "38496/38496 [==============================] - 1s 16us/step - loss: 185.9483\n",
      "Epoch 46/150\n",
      "38496/38496 [==============================] - 1s 16us/step - loss: 185.9592\n",
      "Epoch 47/150\n",
      "38496/38496 [==============================] - 1s 16us/step - loss: 185.9465\n",
      "Epoch 48/150\n",
      "38496/38496 [==============================] - 1s 16us/step - loss: 185.9362\n",
      "Epoch 49/150\n",
      "38496/38496 [==============================] - 1s 16us/step - loss: 185.9282\n",
      "Epoch 50/150\n",
      "38496/38496 [==============================] - 1s 16us/step - loss: 185.9429\n",
      "Epoch 51/150\n",
      "38496/38496 [==============================] - 1s 16us/step - loss: 185.8841\n",
      "Epoch 52/150\n",
      "38496/38496 [==============================] - 1s 16us/step - loss: 185.9070\n",
      "Epoch 53/150\n",
      "38496/38496 [==============================] - 1s 16us/step - loss: 185.9212\n",
      "Epoch 54/150\n",
      "38496/38496 [==============================] - 1s 16us/step - loss: 185.9236\n",
      "Epoch 55/150\n",
      "38496/38496 [==============================] - 1s 16us/step - loss: 185.9153\n",
      "Epoch 56/150\n",
      "38496/38496 [==============================] - 1s 16us/step - loss: 185.9048\n",
      "Epoch 57/150\n",
      "38496/38496 [==============================] - 1s 16us/step - loss: 185.9207\n",
      "Epoch 58/150\n",
      "38496/38496 [==============================] - 1s 16us/step - loss: 185.9143\n",
      "Epoch 59/150\n",
      "38496/38496 [==============================] - 1s 16us/step - loss: 185.8965\n",
      "Epoch 60/150\n",
      "38496/38496 [==============================] - 1s 16us/step - loss: 185.9176\n",
      "Epoch 61/150\n",
      "38496/38496 [==============================] - 1s 16us/step - loss: 185.8889\n",
      "Epoch 62/150\n",
      "38496/38496 [==============================] - 1s 16us/step - loss: 185.8967\n",
      "Epoch 63/150\n",
      "38496/38496 [==============================] - 1s 16us/step - loss: 185.8933\n",
      "Epoch 64/150\n",
      "38496/38496 [==============================] - 1s 16us/step - loss: 185.9118\n",
      "Epoch 65/150\n",
      "38496/38496 [==============================] - 1s 16us/step - loss: 185.9064\n",
      "Epoch 66/150\n",
      "38496/38496 [==============================] - 1s 16us/step - loss: 185.9133\n",
      "Epoch 67/150\n",
      "38496/38496 [==============================] - 1s 16us/step - loss: 185.8959\n",
      "Epoch 68/150\n",
      "38496/38496 [==============================] - 1s 17us/step - loss: 185.8799\n",
      "Epoch 69/150\n",
      "38496/38496 [==============================] - 1s 17us/step - loss: 185.9024\n",
      "Epoch 70/150\n",
      "38496/38496 [==============================] - 1s 17us/step - loss: 185.8917\n",
      "Epoch 71/150\n",
      "38496/38496 [==============================] - 1s 17us/step - loss: 185.8851\n",
      "Epoch 72/150\n",
      "38496/38496 [==============================] - 1s 17us/step - loss: 185.8796\n",
      "Epoch 73/150\n",
      "38496/38496 [==============================] - 1s 16us/step - loss: 185.8793\n",
      "Epoch 74/150\n",
      "38496/38496 [==============================] - 1s 17us/step - loss: 185.9066\n",
      "Epoch 75/150\n",
      "38496/38496 [==============================] - 1s 17us/step - loss: 185.8765\n",
      "Epoch 76/150\n",
      "38496/38496 [==============================] - 1s 17us/step - loss: 185.8581\n",
      "Epoch 77/150\n",
      "38496/38496 [==============================] - 1s 17us/step - loss: 185.8814\n",
      "Epoch 78/150\n",
      "38496/38496 [==============================] - 1s 17us/step - loss: 185.8909\n",
      "Epoch 79/150\n",
      "38496/38496 [==============================] - 1s 17us/step - loss: 185.8688\n",
      "Epoch 80/150\n",
      "38496/38496 [==============================] - 1s 17us/step - loss: 185.9013\n",
      "Epoch 81/150\n",
      "38496/38496 [==============================] - 1s 16us/step - loss: 185.9015\n",
      "Epoch 82/150\n",
      "38496/38496 [==============================] - 1s 16us/step - loss: 185.8805\n",
      "Epoch 83/150\n",
      "38496/38496 [==============================] - 1s 16us/step - loss: 185.8812\n",
      "Epoch 84/150\n",
      "38496/38496 [==============================] - 1s 16us/step - loss: 185.8853\n",
      "Epoch 85/150\n",
      "38496/38496 [==============================] - 1s 16us/step - loss: 185.8825\n",
      "Epoch 86/150\n",
      "38496/38496 [==============================] - 1s 17us/step - loss: 185.8895\n",
      "Epoch 87/150\n",
      "38496/38496 [==============================] - 1s 16us/step - loss: 185.8812\n",
      "Epoch 88/150\n",
      "38496/38496 [==============================] - 1s 16us/step - loss: 185.8784\n",
      "Epoch 89/150\n",
      "38496/38496 [==============================] - 1s 16us/step - loss: 185.8955\n",
      "Epoch 90/150\n",
      "38496/38496 [==============================] - 1s 16us/step - loss: 185.8978\n",
      "Epoch 91/150\n",
      "38496/38496 [==============================] - 1s 16us/step - loss: 185.8841\n",
      "Epoch 92/150\n",
      "38496/38496 [==============================] - 1s 16us/step - loss: 185.8976\n",
      "Epoch 93/150\n",
      "38496/38496 [==============================] - 1s 16us/step - loss: 185.8939\n",
      "Epoch 94/150\n",
      "38496/38496 [==============================] - 1s 16us/step - loss: 185.8780\n",
      "Epoch 95/150\n",
      "38496/38496 [==============================] - 1s 16us/step - loss: 185.8868\n",
      "Epoch 96/150\n",
      "38496/38496 [==============================] - 1s 16us/step - loss: 185.8988\n",
      "Epoch 97/150\n",
      "38496/38496 [==============================] - 1s 16us/step - loss: 185.8938\n",
      "Epoch 98/150\n",
      "38496/38496 [==============================] - 1s 16us/step - loss: 185.8873\n",
      "Epoch 99/150\n",
      "38496/38496 [==============================] - 1s 16us/step - loss: 185.8897\n",
      "Epoch 100/150\n",
      "38496/38496 [==============================] - 1s 16us/step - loss: 185.8514\n",
      "Epoch 101/150\n",
      "38496/38496 [==============================] - 1s 16us/step - loss: 185.9040\n",
      "Epoch 102/150\n",
      "38496/38496 [==============================] - 1s 16us/step - loss: 185.8650\n",
      "Epoch 103/150\n",
      "38496/38496 [==============================] - 1s 16us/step - loss: 185.8792\n",
      "Epoch 104/150\n",
      "38496/38496 [==============================] - 1s 16us/step - loss: 185.8392\n",
      "Epoch 105/150\n",
      "38496/38496 [==============================] - 1s 16us/step - loss: 185.8858\n",
      "Epoch 106/150\n",
      "38496/38496 [==============================] - 1s 17us/step - loss: 185.8987\n",
      "Epoch 107/150\n",
      "38496/38496 [==============================] - 1s 17us/step - loss: 185.8951\n",
      "Epoch 108/150\n",
      "38496/38496 [==============================] - 1s 16us/step - loss: 185.8979\n",
      "Epoch 109/150\n",
      "38496/38496 [==============================] - 1s 18us/step - loss: 185.8791\n",
      "Epoch 110/150\n",
      "38496/38496 [==============================] - 1s 17us/step - loss: 185.8839\n",
      "Epoch 111/150\n",
      "38496/38496 [==============================] - 1s 16us/step - loss: 185.9011\n",
      "Epoch 112/150\n",
      "38496/38496 [==============================] - 1s 17us/step - loss: 185.8864\n",
      "Epoch 113/150\n",
      "38496/38496 [==============================] - 1s 18us/step - loss: 185.9038\n",
      "Epoch 114/150\n",
      "38496/38496 [==============================] - 1s 18us/step - loss: 185.8782\n",
      "Epoch 115/150\n",
      "38496/38496 [==============================] - 1s 17us/step - loss: 185.8966\n",
      "Epoch 116/150\n",
      "38496/38496 [==============================] - 1s 17us/step - loss: 185.8863\n",
      "Epoch 117/150\n",
      "38496/38496 [==============================] - 1s 17us/step - loss: 185.8877\n",
      "Epoch 118/150\n",
      "38496/38496 [==============================] - 1s 17us/step - loss: 185.8863\n",
      "Epoch 119/150\n",
      "38496/38496 [==============================] - 1s 17us/step - loss: 185.8587\n",
      "Epoch 120/150\n",
      "38496/38496 [==============================] - 1s 17us/step - loss: 185.8527\n",
      "Epoch 121/150\n",
      "38496/38496 [==============================] - 1s 16us/step - loss: 185.8666\n",
      "Epoch 122/150\n",
      "38496/38496 [==============================] - 1s 18us/step - loss: 185.8934\n",
      "Epoch 123/150\n",
      "38496/38496 [==============================] - 1s 16us/step - loss: 185.8844\n",
      "Epoch 124/150\n",
      "38496/38496 [==============================] - 1s 18us/step - loss: 185.8856\n",
      "Epoch 125/150\n",
      "38496/38496 [==============================] - 1s 17us/step - loss: 185.8938\n",
      "Epoch 126/150\n",
      "38496/38496 [==============================] - 1s 16us/step - loss: 185.8845\n",
      "Epoch 127/150\n",
      "38496/38496 [==============================] - 1s 16us/step - loss: 185.8879\n",
      "Epoch 128/150\n",
      "38496/38496 [==============================] - 1s 17us/step - loss: 185.8877\n",
      "Epoch 129/150\n",
      "38496/38496 [==============================] - 1s 16us/step - loss: 185.8952\n",
      "Epoch 130/150\n",
      "38496/38496 [==============================] - 1s 16us/step - loss: 185.8873\n",
      "Epoch 131/150\n",
      "38496/38496 [==============================] - 1s 16us/step - loss: 185.8969\n",
      "Epoch 132/150\n",
      "38496/38496 [==============================] - 1s 16us/step - loss: 185.9002\n",
      "Epoch 133/150\n",
      "38496/38496 [==============================] - 1s 16us/step - loss: 185.8746\n",
      "Epoch 134/150\n",
      "38496/38496 [==============================] - 1s 16us/step - loss: 185.8786\n",
      "Epoch 135/150\n",
      "38496/38496 [==============================] - 1s 16us/step - loss: 185.8900\n",
      "Epoch 136/150\n",
      "38496/38496 [==============================] - 1s 16us/step - loss: 185.8992\n",
      "Epoch 137/150\n",
      "38496/38496 [==============================] - 1s 16us/step - loss: 185.8840\n",
      "Epoch 138/150\n",
      "38496/38496 [==============================] - 1s 16us/step - loss: 185.8852\n",
      "Epoch 139/150\n",
      "38496/38496 [==============================] - 1s 16us/step - loss: 185.8734\n",
      "Epoch 140/150\n",
      "38496/38496 [==============================] - 1s 17us/step - loss: 185.8927\n",
      "Epoch 141/150\n",
      "38496/38496 [==============================] - 1s 17us/step - loss: 185.8897\n",
      "Epoch 142/150\n",
      "38496/38496 [==============================] - 1s 17us/step - loss: 185.8848\n",
      "Epoch 143/150\n",
      "38496/38496 [==============================] - 1s 16us/step - loss: 185.8521\n",
      "Epoch 144/150\n",
      "38496/38496 [==============================] - 1s 16us/step - loss: 185.8956\n",
      "Epoch 145/150\n",
      "38496/38496 [==============================] - 1s 16us/step - loss: 185.8958\n",
      "Epoch 146/150\n",
      "38496/38496 [==============================] - 1s 16us/step - loss: 185.8957\n",
      "Epoch 147/150\n",
      "38496/38496 [==============================] - 1s 16us/step - loss: 185.8849\n",
      "Epoch 148/150\n",
      "38496/38496 [==============================] - 1s 16us/step - loss: 185.8858\n",
      "Epoch 149/150\n",
      "38496/38496 [==============================] - 1s 16us/step - loss: 185.8891\n",
      "Epoch 150/150\n",
      "38496/38496 [==============================] - 1s 16us/step - loss: 185.8826\n"
     ]
    },
    {
     "data": {
      "text/plain": [
       "<keras.callbacks.callbacks.History at 0x184a41fb3c8>"
      ]
     },
     "execution_count": 228,
     "metadata": {},
     "output_type": "execute_result"
    }
   ],
   "source": [
    "## Instantiate sequential model.\n",
    "model = Sequential()\n",
    "\n",
    "## Add fully connnected layer to model.\n",
    "model.add(Dense(1, input_dim=X_train.shape[1]))\n",
    "\n",
    "## Add compiler to model.\n",
    "model.compile(loss='mse', optimizer='rmsprop')\n",
    "\n",
    "## Fit a model.\n",
    "model.fit(X_train, y_train, epochs=150, batch_size=32)"
   ]
  },
  {
   "cell_type": "code",
   "execution_count": 229,
   "metadata": {},
   "outputs": [],
   "source": [
    "## Get the predictions on train and validation data.\n",
    "pred_train = model.predict(X_train)\n",
    "pred_test = model.predict(X_test)"
   ]
  },
  {
   "cell_type": "code",
   "execution_count": 230,
   "metadata": {},
   "outputs": [
    {
     "name": "stdout",
     "output_type": "stream",
     "text": [
      "Train Error: 13.631776134468168\n",
      "Test Error: 13.595299040985216\n"
     ]
    }
   ],
   "source": [
    "## Display RMSE value for train and validation data.\n",
    "print(\"Train Error:\",sqrt(mean_squared_error(y_train, pred_train)))\n",
    "print(\"Test Error:\",sqrt(mean_squared_error(y_test, pred_test)))"
   ]
  },
  {
   "cell_type": "code",
   "execution_count": 234,
   "metadata": {},
   "outputs": [],
   "source": [
    "## Instantiate Linear regression model and fit it.\n",
    "linreg=LinearRegression()\n",
    "linear_model=linreg.fit(X_train,y_train)"
   ]
  },
  {
   "cell_type": "code",
   "execution_count": 237,
   "metadata": {},
   "outputs": [],
   "source": [
    "## Get the predictions on train and validation data.\n",
    "pred_train = linear_model.predict(X_train)\n",
    "pred_test = linear_model.predict(X_test)"
   ]
  },
  {
   "cell_type": "code",
   "execution_count": 238,
   "metadata": {},
   "outputs": [
    {
     "name": "stdout",
     "output_type": "stream",
     "text": [
      "Train Error: 13.63167804798419\n",
      "Test Error: 13.594990621818756\n"
     ]
    }
   ],
   "source": [
    "## Display RMSE value for train and validation data.\n",
    "print(\"Train Error:\",sqrt(mean_squared_error(y_train, pred_train)))\n",
    "print(\"Test Error:\",sqrt(mean_squared_error(y_test, pred_test)))"
   ]
  },
  {
   "cell_type": "code",
   "execution_count": 239,
   "metadata": {},
   "outputs": [],
   "source": [
    "## Get predictions on test data.\n",
    "test_pred = linear_model.predict(test)"
   ]
  },
  {
   "cell_type": "code",
   "execution_count": 240,
   "metadata": {},
   "outputs": [],
   "source": [
    "## Prepare a dataframe with test index,test predictions data.\n",
    "dataframe = pd.DataFrame({'ID' : test.index,\n",
    "                          'Vehicles' : test_pred})"
   ]
  },
  {
   "cell_type": "code",
   "execution_count": 241,
   "metadata": {},
   "outputs": [],
   "source": [
    "## Copy dataframe data into a SCV file.\n",
    "dataframe.to_csv('Linear.csv',index=False)"
   ]
  }
 ],
 "metadata": {
  "kernelspec": {
   "display_name": "Python 3",
   "language": "python",
   "name": "python3"
  },
  "language_info": {
   "codemirror_mode": {
    "name": "ipython",
    "version": 3
   },
   "file_extension": ".py",
   "mimetype": "text/x-python",
   "name": "python",
   "nbconvert_exporter": "python",
   "pygments_lexer": "ipython3",
   "version": "3.6.5"
  },
  "toc": {
   "base_numbering": 1,
   "nav_menu": {},
   "number_sections": true,
   "sideBar": true,
   "skip_h1_title": false,
   "title_cell": "Table of Contents",
   "title_sidebar": "Contents",
   "toc_cell": false,
   "toc_position": {},
   "toc_section_display": true,
   "toc_window_display": false
  }
 },
 "nbformat": 4,
 "nbformat_minor": 2
}
