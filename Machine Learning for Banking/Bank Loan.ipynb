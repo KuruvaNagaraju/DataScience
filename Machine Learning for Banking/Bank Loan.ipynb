{
 "cells": [
  {
   "cell_type": "markdown",
   "metadata": {},
   "source": [
    "## Problem Statement\n",
    "Have you ever wondered how lenders use various factors such as credit score, annual income, the loan amount approved, tenure, debt-to-income ratio etc. and select your interest rates? \n",
    "\n",
    "The process, defined as ‘risk-based pricing’, uses a sophisticated algorithm that leverages different determining factors of a loan applicant. Selection of significant factors will help develop a prediction algorithm which can estimate loan interest rates based on clients’ information. On one hand, knowing the factors will help consumers and borrowers to increase their credit worthiness and place themselves in a better position to negotiate for getting a lower interest rate. On the other hand, this will help lending companies to get an immediate fixed interest rate estimation based on clients information. Here, your goal is to use a training dataset to predict the loan rate category (1 / 2 / 3) that will be assigned to each loan in our test set.\n",
    "\n",
    "You can use any combination of the features in the dataset to make your loan rate category predictions. Some features will be easier to use than others.\n",
    "\n",
    "![](https://datahack-prod.s3.ap-south-1.amazonaws.com/__sized__/contest_cover/cover_1_OIHLvzm-thumbnail-1200x1200.png)"
   ]
  },
  {
   "cell_type": "code",
   "execution_count": 3,
   "metadata": {},
   "outputs": [],
   "source": [
    "## import necessary libraries.\n",
    "\n",
    "import numpy as np ## Numpy Library ( will use to convert data frame to array or creating array etc...).\n",
    "import pandas as pd ## Pandas Library (will use to load data,create data frame...etc).\n",
    "import os ## For connecting to machine to get path for reading/writing files.\n",
    "from sklearn.model_selection import train_test_split ## For splitting data into train and validation.\n",
    "from sklearn.preprocessing import LabelEncoder ## For label encoding(converting categorical values to label).\n",
    "from xgboost import XGBClassifier ## XG boost model.\n",
    "from sklearn.model_selection import GridSearchCV ## For Grid search(cross validation).\n",
    "from sklearn.metrics import accuracy_score ## For getting accuracy value.\n",
    "from sklearn.metrics import confusion_matrix ## For getting confusion matrix.\n",
    "from sklearn.metrics import classification_report ## For classifier metrics(accuracy,TPR,TNR).\n",
    "from sklearn.naive_bayes import GaussianNB ## Naive Nayes Model.\n",
    "from sklearn.neighbors import KNeighborsClassifier ## KNN Model.\n",
    "from sklearn.ensemble import RandomForestClassifier ## Random Forest  Model.\n",
    "from sklearn.ensemble import BaggingClassifier ## Bagging Model.\n",
    "from sklearn.ensemble import AdaBoostClassifier ## AdaBoost Model.\n",
    "from sklearn.ensemble import GradientBoostingClassifier ## GradientBoost Model.\n",
    "from sklearn.svm import SVC ## SVC Model."
   ]
  },
  {
   "cell_type": "code",
   "execution_count": 2,
   "metadata": {},
   "outputs": [
    {
     "data": {
      "text/plain": [
       "'D:\\\\Python\\\\Pratice\\\\ML for Banking'"
      ]
     },
     "execution_count": 2,
     "metadata": {},
     "output_type": "execute_result"
    }
   ],
   "source": [
    "## Get current working directory.\n",
    "os.getcwd()"
   ]
  },
  {
   "cell_type": "code",
   "execution_count": 543,
   "metadata": {},
   "outputs": [
    {
     "data": {
      "text/plain": [
       "'D:\\\\DataScience\\\\Pratice\\\\Machine Learning for Banking'"
      ]
     },
     "execution_count": 543,
     "metadata": {},
     "output_type": "execute_result"
    }
   ],
   "source": [
    "## Set working directory.\n",
    "os.chdir(\"D:\\DataScience\\Pratice\\Machine Learning for Banking\")\n",
    "os.getcwd()"
   ]
  },
  {
   "cell_type": "code",
   "execution_count": 544,
   "metadata": {},
   "outputs": [],
   "source": [
    "## Load data sets.\n",
    "train = pd.read_csv('train.csv',header='infer',sep=',')\n",
    "test = pd.read_csv('test.csv',header='infer',sep=',')"
   ]
  },
  {
   "cell_type": "code",
   "execution_count": 545,
   "metadata": {},
   "outputs": [
    {
     "name": "stdout",
     "output_type": "stream",
     "text": [
      "(164309, 14)\n",
      "(109541, 13)\n"
     ]
    }
   ],
   "source": [
    "## Display dimensions of train and test.\n",
    "print(train.shape)\n",
    "print(test.shape)"
   ]
  },
  {
   "cell_type": "code",
   "execution_count": 546,
   "metadata": {},
   "outputs": [
    {
     "data": {
      "text/html": [
       "<div>\n",
       "<style scoped>\n",
       "    .dataframe tbody tr th:only-of-type {\n",
       "        vertical-align: middle;\n",
       "    }\n",
       "\n",
       "    .dataframe tbody tr th {\n",
       "        vertical-align: top;\n",
       "    }\n",
       "\n",
       "    .dataframe thead th {\n",
       "        text-align: right;\n",
       "    }\n",
       "</style>\n",
       "<table border=\"1\" class=\"dataframe\">\n",
       "  <thead>\n",
       "    <tr style=\"text-align: right;\">\n",
       "      <th></th>\n",
       "      <th>Loan_ID</th>\n",
       "      <th>Loan_Amount_Requested</th>\n",
       "      <th>Length_Employed</th>\n",
       "      <th>Home_Owner</th>\n",
       "      <th>Annual_Income</th>\n",
       "      <th>Income_Verified</th>\n",
       "      <th>Purpose_Of_Loan</th>\n",
       "      <th>Debt_To_Income</th>\n",
       "      <th>Inquiries_Last_6Mo</th>\n",
       "      <th>Months_Since_Deliquency</th>\n",
       "      <th>Number_Open_Accounts</th>\n",
       "      <th>Total_Accounts</th>\n",
       "      <th>Gender</th>\n",
       "      <th>Interest_Rate</th>\n",
       "    </tr>\n",
       "  </thead>\n",
       "  <tbody>\n",
       "    <tr>\n",
       "      <th>0</th>\n",
       "      <td>10000001</td>\n",
       "      <td>7,000</td>\n",
       "      <td>&lt; 1 year</td>\n",
       "      <td>Rent</td>\n",
       "      <td>68000.0</td>\n",
       "      <td>not verified</td>\n",
       "      <td>car</td>\n",
       "      <td>18.37</td>\n",
       "      <td>0</td>\n",
       "      <td>NaN</td>\n",
       "      <td>9</td>\n",
       "      <td>14</td>\n",
       "      <td>Female</td>\n",
       "      <td>1</td>\n",
       "    </tr>\n",
       "  </tbody>\n",
       "</table>\n",
       "</div>"
      ],
      "text/plain": [
       "    Loan_ID Loan_Amount_Requested Length_Employed Home_Owner  Annual_Income  \\\n",
       "0  10000001                 7,000        < 1 year       Rent        68000.0   \n",
       "\n",
       "  Income_Verified Purpose_Of_Loan  Debt_To_Income  Inquiries_Last_6Mo  \\\n",
       "0    not verified             car           18.37                   0   \n",
       "\n",
       "   Months_Since_Deliquency  Number_Open_Accounts  Total_Accounts  Gender  \\\n",
       "0                      NaN                     9              14  Female   \n",
       "\n",
       "   Interest_Rate  \n",
       "0              1  "
      ]
     },
     "execution_count": 546,
     "metadata": {},
     "output_type": "execute_result"
    }
   ],
   "source": [
    "## Check first record of train data.\n",
    "train.head(1)"
   ]
  },
  {
   "cell_type": "code",
   "execution_count": 548,
   "metadata": {},
   "outputs": [
    {
     "data": {
      "text/html": [
       "<div>\n",
       "<style scoped>\n",
       "    .dataframe tbody tr th:only-of-type {\n",
       "        vertical-align: middle;\n",
       "    }\n",
       "\n",
       "    .dataframe tbody tr th {\n",
       "        vertical-align: top;\n",
       "    }\n",
       "\n",
       "    .dataframe thead th {\n",
       "        text-align: right;\n",
       "    }\n",
       "</style>\n",
       "<table border=\"1\" class=\"dataframe\">\n",
       "  <thead>\n",
       "    <tr style=\"text-align: right;\">\n",
       "      <th></th>\n",
       "      <th>Loan_ID</th>\n",
       "      <th>Loan_Amount_Requested</th>\n",
       "      <th>Length_Employed</th>\n",
       "      <th>Home_Owner</th>\n",
       "      <th>Annual_Income</th>\n",
       "      <th>Income_Verified</th>\n",
       "      <th>Purpose_Of_Loan</th>\n",
       "      <th>Debt_To_Income</th>\n",
       "      <th>Inquiries_Last_6Mo</th>\n",
       "      <th>Months_Since_Deliquency</th>\n",
       "      <th>Number_Open_Accounts</th>\n",
       "      <th>Total_Accounts</th>\n",
       "      <th>Gender</th>\n",
       "      <th>Interest_Rate</th>\n",
       "    </tr>\n",
       "  </thead>\n",
       "  <tbody>\n",
       "    <tr>\n",
       "      <th>164308</th>\n",
       "      <td>10164309</td>\n",
       "      <td>9,250</td>\n",
       "      <td>10+ years</td>\n",
       "      <td>Rent</td>\n",
       "      <td>NaN</td>\n",
       "      <td>VERIFIED - income</td>\n",
       "      <td>credit_card</td>\n",
       "      <td>19.44</td>\n",
       "      <td>1</td>\n",
       "      <td>NaN</td>\n",
       "      <td>5</td>\n",
       "      <td>9</td>\n",
       "      <td>Female</td>\n",
       "      <td>2</td>\n",
       "    </tr>\n",
       "  </tbody>\n",
       "</table>\n",
       "</div>"
      ],
      "text/plain": [
       "         Loan_ID Loan_Amount_Requested Length_Employed Home_Owner  \\\n",
       "164308  10164309                 9,250       10+ years       Rent   \n",
       "\n",
       "        Annual_Income    Income_Verified Purpose_Of_Loan  Debt_To_Income  \\\n",
       "164308            NaN  VERIFIED - income     credit_card           19.44   \n",
       "\n",
       "        Inquiries_Last_6Mo  Months_Since_Deliquency  Number_Open_Accounts  \\\n",
       "164308                   1                      NaN                     5   \n",
       "\n",
       "        Total_Accounts  Gender  Interest_Rate  \n",
       "164308               9  Female              2  "
      ]
     },
     "execution_count": 548,
     "metadata": {},
     "output_type": "execute_result"
    }
   ],
   "source": [
    "## Check last record of train data.\n",
    "train.tail(1)"
   ]
  },
  {
   "cell_type": "code",
   "execution_count": 547,
   "metadata": {
    "scrolled": true
   },
   "outputs": [
    {
     "data": {
      "text/html": [
       "<div>\n",
       "<style scoped>\n",
       "    .dataframe tbody tr th:only-of-type {\n",
       "        vertical-align: middle;\n",
       "    }\n",
       "\n",
       "    .dataframe tbody tr th {\n",
       "        vertical-align: top;\n",
       "    }\n",
       "\n",
       "    .dataframe thead th {\n",
       "        text-align: right;\n",
       "    }\n",
       "</style>\n",
       "<table border=\"1\" class=\"dataframe\">\n",
       "  <thead>\n",
       "    <tr style=\"text-align: right;\">\n",
       "      <th></th>\n",
       "      <th>Loan_ID</th>\n",
       "      <th>Loan_Amount_Requested</th>\n",
       "      <th>Length_Employed</th>\n",
       "      <th>Home_Owner</th>\n",
       "      <th>Annual_Income</th>\n",
       "      <th>Income_Verified</th>\n",
       "      <th>Purpose_Of_Loan</th>\n",
       "      <th>Debt_To_Income</th>\n",
       "      <th>Inquiries_Last_6Mo</th>\n",
       "      <th>Months_Since_Deliquency</th>\n",
       "      <th>Number_Open_Accounts</th>\n",
       "      <th>Total_Accounts</th>\n",
       "      <th>Gender</th>\n",
       "    </tr>\n",
       "  </thead>\n",
       "  <tbody>\n",
       "    <tr>\n",
       "      <th>0</th>\n",
       "      <td>10164310</td>\n",
       "      <td>27,500</td>\n",
       "      <td>10+ years</td>\n",
       "      <td>Mortgage</td>\n",
       "      <td>129000.0</td>\n",
       "      <td>VERIFIED - income</td>\n",
       "      <td>debt_consolidation</td>\n",
       "      <td>12.87</td>\n",
       "      <td>0</td>\n",
       "      <td>68.0</td>\n",
       "      <td>10</td>\n",
       "      <td>37</td>\n",
       "      <td>Male</td>\n",
       "    </tr>\n",
       "  </tbody>\n",
       "</table>\n",
       "</div>"
      ],
      "text/plain": [
       "    Loan_ID Loan_Amount_Requested Length_Employed Home_Owner  Annual_Income  \\\n",
       "0  10164310                27,500       10+ years   Mortgage       129000.0   \n",
       "\n",
       "     Income_Verified     Purpose_Of_Loan  Debt_To_Income  Inquiries_Last_6Mo  \\\n",
       "0  VERIFIED - income  debt_consolidation           12.87                   0   \n",
       "\n",
       "   Months_Since_Deliquency  Number_Open_Accounts  Total_Accounts Gender  \n",
       "0                     68.0                    10              37   Male  "
      ]
     },
     "execution_count": 547,
     "metadata": {},
     "output_type": "execute_result"
    }
   ],
   "source": [
    "## Check first record of test data.\n",
    "test.head(1)"
   ]
  },
  {
   "cell_type": "code",
   "execution_count": 549,
   "metadata": {},
   "outputs": [
    {
     "data": {
      "text/html": [
       "<div>\n",
       "<style scoped>\n",
       "    .dataframe tbody tr th:only-of-type {\n",
       "        vertical-align: middle;\n",
       "    }\n",
       "\n",
       "    .dataframe tbody tr th {\n",
       "        vertical-align: top;\n",
       "    }\n",
       "\n",
       "    .dataframe thead th {\n",
       "        text-align: right;\n",
       "    }\n",
       "</style>\n",
       "<table border=\"1\" class=\"dataframe\">\n",
       "  <thead>\n",
       "    <tr style=\"text-align: right;\">\n",
       "      <th></th>\n",
       "      <th>Loan_ID</th>\n",
       "      <th>Loan_Amount_Requested</th>\n",
       "      <th>Length_Employed</th>\n",
       "      <th>Home_Owner</th>\n",
       "      <th>Annual_Income</th>\n",
       "      <th>Income_Verified</th>\n",
       "      <th>Purpose_Of_Loan</th>\n",
       "      <th>Debt_To_Income</th>\n",
       "      <th>Inquiries_Last_6Mo</th>\n",
       "      <th>Months_Since_Deliquency</th>\n",
       "      <th>Number_Open_Accounts</th>\n",
       "      <th>Total_Accounts</th>\n",
       "      <th>Gender</th>\n",
       "    </tr>\n",
       "  </thead>\n",
       "  <tbody>\n",
       "    <tr>\n",
       "      <th>109540</th>\n",
       "      <td>10273850</td>\n",
       "      <td>15,000</td>\n",
       "      <td>2 years</td>\n",
       "      <td>Mortgage</td>\n",
       "      <td>137000.0</td>\n",
       "      <td>not verified</td>\n",
       "      <td>medical</td>\n",
       "      <td>8.66</td>\n",
       "      <td>1</td>\n",
       "      <td>60.0</td>\n",
       "      <td>8</td>\n",
       "      <td>17</td>\n",
       "      <td>Male</td>\n",
       "    </tr>\n",
       "  </tbody>\n",
       "</table>\n",
       "</div>"
      ],
      "text/plain": [
       "         Loan_ID Loan_Amount_Requested Length_Employed Home_Owner  \\\n",
       "109540  10273850                15,000         2 years   Mortgage   \n",
       "\n",
       "        Annual_Income Income_Verified Purpose_Of_Loan  Debt_To_Income  \\\n",
       "109540       137000.0    not verified         medical            8.66   \n",
       "\n",
       "        Inquiries_Last_6Mo  Months_Since_Deliquency  Number_Open_Accounts  \\\n",
       "109540                   1                     60.0                     8   \n",
       "\n",
       "        Total_Accounts Gender  \n",
       "109540              17   Male  "
      ]
     },
     "execution_count": 549,
     "metadata": {},
     "output_type": "execute_result"
    }
   ],
   "source": [
    "## Check last record of test data.\n",
    "test.tail(1)"
   ]
  },
  {
   "cell_type": "code",
   "execution_count": 550,
   "metadata": {},
   "outputs": [
    {
     "data": {
      "text/html": [
       "<div>\n",
       "<style scoped>\n",
       "    .dataframe tbody tr th:only-of-type {\n",
       "        vertical-align: middle;\n",
       "    }\n",
       "\n",
       "    .dataframe tbody tr th {\n",
       "        vertical-align: top;\n",
       "    }\n",
       "\n",
       "    .dataframe thead th {\n",
       "        text-align: right;\n",
       "    }\n",
       "</style>\n",
       "<table border=\"1\" class=\"dataframe\">\n",
       "  <thead>\n",
       "    <tr style=\"text-align: right;\">\n",
       "      <th></th>\n",
       "      <th>Loan_ID</th>\n",
       "      <th>Loan_Amount_Requested</th>\n",
       "      <th>Length_Employed</th>\n",
       "      <th>Home_Owner</th>\n",
       "      <th>Annual_Income</th>\n",
       "      <th>Income_Verified</th>\n",
       "      <th>Purpose_Of_Loan</th>\n",
       "      <th>Debt_To_Income</th>\n",
       "      <th>Inquiries_Last_6Mo</th>\n",
       "      <th>Months_Since_Deliquency</th>\n",
       "      <th>Number_Open_Accounts</th>\n",
       "      <th>Total_Accounts</th>\n",
       "      <th>Gender</th>\n",
       "      <th>Interest_Rate</th>\n",
       "    </tr>\n",
       "  </thead>\n",
       "  <tbody>\n",
       "    <tr>\n",
       "      <th>count</th>\n",
       "      <td>1.643090e+05</td>\n",
       "      <td>164309</td>\n",
       "      <td>156938</td>\n",
       "      <td>138960</td>\n",
       "      <td>1.392070e+05</td>\n",
       "      <td>164309</td>\n",
       "      <td>164309</td>\n",
       "      <td>164309.000000</td>\n",
       "      <td>164309.000000</td>\n",
       "      <td>75930.000000</td>\n",
       "      <td>164309.000000</td>\n",
       "      <td>164309.000000</td>\n",
       "      <td>164309</td>\n",
       "      <td>164309.000000</td>\n",
       "    </tr>\n",
       "    <tr>\n",
       "      <th>unique</th>\n",
       "      <td>NaN</td>\n",
       "      <td>1290</td>\n",
       "      <td>11</td>\n",
       "      <td>5</td>\n",
       "      <td>NaN</td>\n",
       "      <td>3</td>\n",
       "      <td>14</td>\n",
       "      <td>NaN</td>\n",
       "      <td>NaN</td>\n",
       "      <td>NaN</td>\n",
       "      <td>NaN</td>\n",
       "      <td>NaN</td>\n",
       "      <td>2</td>\n",
       "      <td>NaN</td>\n",
       "    </tr>\n",
       "    <tr>\n",
       "      <th>top</th>\n",
       "      <td>NaN</td>\n",
       "      <td>10,000</td>\n",
       "      <td>10+ years</td>\n",
       "      <td>Mortgage</td>\n",
       "      <td>NaN</td>\n",
       "      <td>VERIFIED - income</td>\n",
       "      <td>debt_consolidation</td>\n",
       "      <td>NaN</td>\n",
       "      <td>NaN</td>\n",
       "      <td>NaN</td>\n",
       "      <td>NaN</td>\n",
       "      <td>NaN</td>\n",
       "      <td>Male</td>\n",
       "      <td>NaN</td>\n",
       "    </tr>\n",
       "    <tr>\n",
       "      <th>freq</th>\n",
       "      <td>NaN</td>\n",
       "      <td>11622</td>\n",
       "      <td>52915</td>\n",
       "      <td>70345</td>\n",
       "      <td>NaN</td>\n",
       "      <td>59421</td>\n",
       "      <td>97101</td>\n",
       "      <td>NaN</td>\n",
       "      <td>NaN</td>\n",
       "      <td>NaN</td>\n",
       "      <td>NaN</td>\n",
       "      <td>NaN</td>\n",
       "      <td>117176</td>\n",
       "      <td>NaN</td>\n",
       "    </tr>\n",
       "    <tr>\n",
       "      <th>mean</th>\n",
       "      <td>1.008216e+07</td>\n",
       "      <td>NaN</td>\n",
       "      <td>NaN</td>\n",
       "      <td>NaN</td>\n",
       "      <td>7.333116e+04</td>\n",
       "      <td>NaN</td>\n",
       "      <td>NaN</td>\n",
       "      <td>17.207189</td>\n",
       "      <td>0.781698</td>\n",
       "      <td>34.229356</td>\n",
       "      <td>11.193818</td>\n",
       "      <td>25.067665</td>\n",
       "      <td>NaN</td>\n",
       "      <td>2.158951</td>\n",
       "    </tr>\n",
       "    <tr>\n",
       "      <th>std</th>\n",
       "      <td>4.743207e+04</td>\n",
       "      <td>NaN</td>\n",
       "      <td>NaN</td>\n",
       "      <td>NaN</td>\n",
       "      <td>6.037750e+04</td>\n",
       "      <td>NaN</td>\n",
       "      <td>NaN</td>\n",
       "      <td>7.845083</td>\n",
       "      <td>1.034747</td>\n",
       "      <td>21.761180</td>\n",
       "      <td>4.991813</td>\n",
       "      <td>11.583067</td>\n",
       "      <td>NaN</td>\n",
       "      <td>0.738364</td>\n",
       "    </tr>\n",
       "    <tr>\n",
       "      <th>min</th>\n",
       "      <td>1.000000e+07</td>\n",
       "      <td>NaN</td>\n",
       "      <td>NaN</td>\n",
       "      <td>NaN</td>\n",
       "      <td>4.000000e+03</td>\n",
       "      <td>NaN</td>\n",
       "      <td>NaN</td>\n",
       "      <td>0.000000</td>\n",
       "      <td>0.000000</td>\n",
       "      <td>0.000000</td>\n",
       "      <td>0.000000</td>\n",
       "      <td>2.000000</td>\n",
       "      <td>NaN</td>\n",
       "      <td>1.000000</td>\n",
       "    </tr>\n",
       "    <tr>\n",
       "      <th>25%</th>\n",
       "      <td>1.004108e+07</td>\n",
       "      <td>NaN</td>\n",
       "      <td>NaN</td>\n",
       "      <td>NaN</td>\n",
       "      <td>4.500000e+04</td>\n",
       "      <td>NaN</td>\n",
       "      <td>NaN</td>\n",
       "      <td>11.370000</td>\n",
       "      <td>0.000000</td>\n",
       "      <td>16.000000</td>\n",
       "      <td>8.000000</td>\n",
       "      <td>17.000000</td>\n",
       "      <td>NaN</td>\n",
       "      <td>2.000000</td>\n",
       "    </tr>\n",
       "    <tr>\n",
       "      <th>50%</th>\n",
       "      <td>1.008216e+07</td>\n",
       "      <td>NaN</td>\n",
       "      <td>NaN</td>\n",
       "      <td>NaN</td>\n",
       "      <td>6.300000e+04</td>\n",
       "      <td>NaN</td>\n",
       "      <td>NaN</td>\n",
       "      <td>16.840000</td>\n",
       "      <td>0.000000</td>\n",
       "      <td>31.000000</td>\n",
       "      <td>10.000000</td>\n",
       "      <td>23.000000</td>\n",
       "      <td>NaN</td>\n",
       "      <td>2.000000</td>\n",
       "    </tr>\n",
       "    <tr>\n",
       "      <th>75%</th>\n",
       "      <td>1.012323e+07</td>\n",
       "      <td>NaN</td>\n",
       "      <td>NaN</td>\n",
       "      <td>NaN</td>\n",
       "      <td>8.869750e+04</td>\n",
       "      <td>NaN</td>\n",
       "      <td>NaN</td>\n",
       "      <td>22.780000</td>\n",
       "      <td>1.000000</td>\n",
       "      <td>50.000000</td>\n",
       "      <td>14.000000</td>\n",
       "      <td>32.000000</td>\n",
       "      <td>NaN</td>\n",
       "      <td>3.000000</td>\n",
       "    </tr>\n",
       "    <tr>\n",
       "      <th>max</th>\n",
       "      <td>1.016431e+07</td>\n",
       "      <td>NaN</td>\n",
       "      <td>NaN</td>\n",
       "      <td>NaN</td>\n",
       "      <td>7.500000e+06</td>\n",
       "      <td>NaN</td>\n",
       "      <td>NaN</td>\n",
       "      <td>39.990000</td>\n",
       "      <td>8.000000</td>\n",
       "      <td>180.000000</td>\n",
       "      <td>76.000000</td>\n",
       "      <td>156.000000</td>\n",
       "      <td>NaN</td>\n",
       "      <td>3.000000</td>\n",
       "    </tr>\n",
       "  </tbody>\n",
       "</table>\n",
       "</div>"
      ],
      "text/plain": [
       "             Loan_ID Loan_Amount_Requested Length_Employed Home_Owner  \\\n",
       "count   1.643090e+05                164309          156938     138960   \n",
       "unique           NaN                  1290              11          5   \n",
       "top              NaN                10,000       10+ years   Mortgage   \n",
       "freq             NaN                 11622           52915      70345   \n",
       "mean    1.008216e+07                   NaN             NaN        NaN   \n",
       "std     4.743207e+04                   NaN             NaN        NaN   \n",
       "min     1.000000e+07                   NaN             NaN        NaN   \n",
       "25%     1.004108e+07                   NaN             NaN        NaN   \n",
       "50%     1.008216e+07                   NaN             NaN        NaN   \n",
       "75%     1.012323e+07                   NaN             NaN        NaN   \n",
       "max     1.016431e+07                   NaN             NaN        NaN   \n",
       "\n",
       "        Annual_Income    Income_Verified     Purpose_Of_Loan  Debt_To_Income  \\\n",
       "count    1.392070e+05             164309              164309   164309.000000   \n",
       "unique            NaN                  3                  14             NaN   \n",
       "top               NaN  VERIFIED - income  debt_consolidation             NaN   \n",
       "freq              NaN              59421               97101             NaN   \n",
       "mean     7.333116e+04                NaN                 NaN       17.207189   \n",
       "std      6.037750e+04                NaN                 NaN        7.845083   \n",
       "min      4.000000e+03                NaN                 NaN        0.000000   \n",
       "25%      4.500000e+04                NaN                 NaN       11.370000   \n",
       "50%      6.300000e+04                NaN                 NaN       16.840000   \n",
       "75%      8.869750e+04                NaN                 NaN       22.780000   \n",
       "max      7.500000e+06                NaN                 NaN       39.990000   \n",
       "\n",
       "        Inquiries_Last_6Mo  Months_Since_Deliquency  Number_Open_Accounts  \\\n",
       "count        164309.000000             75930.000000         164309.000000   \n",
       "unique                 NaN                      NaN                   NaN   \n",
       "top                    NaN                      NaN                   NaN   \n",
       "freq                   NaN                      NaN                   NaN   \n",
       "mean              0.781698                34.229356             11.193818   \n",
       "std               1.034747                21.761180              4.991813   \n",
       "min               0.000000                 0.000000              0.000000   \n",
       "25%               0.000000                16.000000              8.000000   \n",
       "50%               0.000000                31.000000             10.000000   \n",
       "75%               1.000000                50.000000             14.000000   \n",
       "max               8.000000               180.000000             76.000000   \n",
       "\n",
       "        Total_Accounts  Gender  Interest_Rate  \n",
       "count    164309.000000  164309  164309.000000  \n",
       "unique             NaN       2            NaN  \n",
       "top                NaN    Male            NaN  \n",
       "freq               NaN  117176            NaN  \n",
       "mean         25.067665     NaN       2.158951  \n",
       "std          11.583067     NaN       0.738364  \n",
       "min           2.000000     NaN       1.000000  \n",
       "25%          17.000000     NaN       2.000000  \n",
       "50%          23.000000     NaN       2.000000  \n",
       "75%          32.000000     NaN       3.000000  \n",
       "max         156.000000     NaN       3.000000  "
      ]
     },
     "execution_count": 550,
     "metadata": {},
     "output_type": "execute_result"
    }
   ],
   "source": [
    "## Check summay statistics of train data.\n",
    "train.describe(include='all')"
   ]
  },
  {
   "cell_type": "code",
   "execution_count": 551,
   "metadata": {},
   "outputs": [
    {
     "data": {
      "text/html": [
       "<div>\n",
       "<style scoped>\n",
       "    .dataframe tbody tr th:only-of-type {\n",
       "        vertical-align: middle;\n",
       "    }\n",
       "\n",
       "    .dataframe tbody tr th {\n",
       "        vertical-align: top;\n",
       "    }\n",
       "\n",
       "    .dataframe thead th {\n",
       "        text-align: right;\n",
       "    }\n",
       "</style>\n",
       "<table border=\"1\" class=\"dataframe\">\n",
       "  <thead>\n",
       "    <tr style=\"text-align: right;\">\n",
       "      <th></th>\n",
       "      <th>Loan_ID</th>\n",
       "      <th>Loan_Amount_Requested</th>\n",
       "      <th>Length_Employed</th>\n",
       "      <th>Home_Owner</th>\n",
       "      <th>Annual_Income</th>\n",
       "      <th>Income_Verified</th>\n",
       "      <th>Purpose_Of_Loan</th>\n",
       "      <th>Debt_To_Income</th>\n",
       "      <th>Inquiries_Last_6Mo</th>\n",
       "      <th>Months_Since_Deliquency</th>\n",
       "      <th>Number_Open_Accounts</th>\n",
       "      <th>Total_Accounts</th>\n",
       "      <th>Gender</th>\n",
       "    </tr>\n",
       "  </thead>\n",
       "  <tbody>\n",
       "    <tr>\n",
       "      <th>count</th>\n",
       "      <td>1.095410e+05</td>\n",
       "      <td>109541</td>\n",
       "      <td>104605</td>\n",
       "      <td>92830</td>\n",
       "      <td>9.264300e+04</td>\n",
       "      <td>109541</td>\n",
       "      <td>109541</td>\n",
       "      <td>109541.000000</td>\n",
       "      <td>109541.000000</td>\n",
       "      <td>50682.000000</td>\n",
       "      <td>109541.000000</td>\n",
       "      <td>109541.000000</td>\n",
       "      <td>109541</td>\n",
       "    </tr>\n",
       "    <tr>\n",
       "      <th>unique</th>\n",
       "      <td>NaN</td>\n",
       "      <td>1246</td>\n",
       "      <td>11</td>\n",
       "      <td>5</td>\n",
       "      <td>NaN</td>\n",
       "      <td>3</td>\n",
       "      <td>14</td>\n",
       "      <td>NaN</td>\n",
       "      <td>NaN</td>\n",
       "      <td>NaN</td>\n",
       "      <td>NaN</td>\n",
       "      <td>NaN</td>\n",
       "      <td>2</td>\n",
       "    </tr>\n",
       "    <tr>\n",
       "      <th>top</th>\n",
       "      <td>NaN</td>\n",
       "      <td>10,000</td>\n",
       "      <td>10+ years</td>\n",
       "      <td>Mortgage</td>\n",
       "      <td>NaN</td>\n",
       "      <td>VERIFIED - income</td>\n",
       "      <td>debt_consolidation</td>\n",
       "      <td>NaN</td>\n",
       "      <td>NaN</td>\n",
       "      <td>NaN</td>\n",
       "      <td>NaN</td>\n",
       "      <td>NaN</td>\n",
       "      <td>Male</td>\n",
       "    </tr>\n",
       "    <tr>\n",
       "      <th>freq</th>\n",
       "      <td>NaN</td>\n",
       "      <td>7820</td>\n",
       "      <td>35413</td>\n",
       "      <td>46925</td>\n",
       "      <td>NaN</td>\n",
       "      <td>39655</td>\n",
       "      <td>64302</td>\n",
       "      <td>NaN</td>\n",
       "      <td>NaN</td>\n",
       "      <td>NaN</td>\n",
       "      <td>NaN</td>\n",
       "      <td>NaN</td>\n",
       "      <td>77817</td>\n",
       "    </tr>\n",
       "    <tr>\n",
       "      <th>mean</th>\n",
       "      <td>1.021908e+07</td>\n",
       "      <td>NaN</td>\n",
       "      <td>NaN</td>\n",
       "      <td>NaN</td>\n",
       "      <td>7.348541e+04</td>\n",
       "      <td>NaN</td>\n",
       "      <td>NaN</td>\n",
       "      <td>17.228969</td>\n",
       "      <td>0.788810</td>\n",
       "      <td>33.914684</td>\n",
       "      <td>11.174337</td>\n",
       "      <td>25.068440</td>\n",
       "      <td>NaN</td>\n",
       "    </tr>\n",
       "    <tr>\n",
       "      <th>std</th>\n",
       "      <td>3.162191e+04</td>\n",
       "      <td>NaN</td>\n",
       "      <td>NaN</td>\n",
       "      <td>NaN</td>\n",
       "      <td>5.563845e+04</td>\n",
       "      <td>NaN</td>\n",
       "      <td>NaN</td>\n",
       "      <td>7.847310</td>\n",
       "      <td>1.039903</td>\n",
       "      <td>21.732856</td>\n",
       "      <td>4.946314</td>\n",
       "      <td>11.599639</td>\n",
       "      <td>NaN</td>\n",
       "    </tr>\n",
       "    <tr>\n",
       "      <th>min</th>\n",
       "      <td>1.016431e+07</td>\n",
       "      <td>NaN</td>\n",
       "      <td>NaN</td>\n",
       "      <td>NaN</td>\n",
       "      <td>3.000000e+03</td>\n",
       "      <td>NaN</td>\n",
       "      <td>NaN</td>\n",
       "      <td>0.000000</td>\n",
       "      <td>0.000000</td>\n",
       "      <td>0.000000</td>\n",
       "      <td>0.000000</td>\n",
       "      <td>2.000000</td>\n",
       "      <td>NaN</td>\n",
       "    </tr>\n",
       "    <tr>\n",
       "      <th>25%</th>\n",
       "      <td>1.019170e+07</td>\n",
       "      <td>NaN</td>\n",
       "      <td>NaN</td>\n",
       "      <td>NaN</td>\n",
       "      <td>4.500000e+04</td>\n",
       "      <td>NaN</td>\n",
       "      <td>NaN</td>\n",
       "      <td>11.350000</td>\n",
       "      <td>0.000000</td>\n",
       "      <td>15.000000</td>\n",
       "      <td>8.000000</td>\n",
       "      <td>17.000000</td>\n",
       "      <td>NaN</td>\n",
       "    </tr>\n",
       "    <tr>\n",
       "      <th>50%</th>\n",
       "      <td>1.021908e+07</td>\n",
       "      <td>NaN</td>\n",
       "      <td>NaN</td>\n",
       "      <td>NaN</td>\n",
       "      <td>6.300000e+04</td>\n",
       "      <td>NaN</td>\n",
       "      <td>NaN</td>\n",
       "      <td>16.860000</td>\n",
       "      <td>0.000000</td>\n",
       "      <td>31.000000</td>\n",
       "      <td>10.000000</td>\n",
       "      <td>24.000000</td>\n",
       "      <td>NaN</td>\n",
       "    </tr>\n",
       "    <tr>\n",
       "      <th>75%</th>\n",
       "      <td>1.024646e+07</td>\n",
       "      <td>NaN</td>\n",
       "      <td>NaN</td>\n",
       "      <td>NaN</td>\n",
       "      <td>8.900000e+04</td>\n",
       "      <td>NaN</td>\n",
       "      <td>NaN</td>\n",
       "      <td>22.780000</td>\n",
       "      <td>1.000000</td>\n",
       "      <td>49.000000</td>\n",
       "      <td>14.000000</td>\n",
       "      <td>32.000000</td>\n",
       "      <td>NaN</td>\n",
       "    </tr>\n",
       "    <tr>\n",
       "      <th>max</th>\n",
       "      <td>1.027385e+07</td>\n",
       "      <td>NaN</td>\n",
       "      <td>NaN</td>\n",
       "      <td>NaN</td>\n",
       "      <td>7.446395e+06</td>\n",
       "      <td>NaN</td>\n",
       "      <td>NaN</td>\n",
       "      <td>39.990000</td>\n",
       "      <td>8.000000</td>\n",
       "      <td>149.000000</td>\n",
       "      <td>84.000000</td>\n",
       "      <td>124.000000</td>\n",
       "      <td>NaN</td>\n",
       "    </tr>\n",
       "  </tbody>\n",
       "</table>\n",
       "</div>"
      ],
      "text/plain": [
       "             Loan_ID Loan_Amount_Requested Length_Employed Home_Owner  \\\n",
       "count   1.095410e+05                109541          104605      92830   \n",
       "unique           NaN                  1246              11          5   \n",
       "top              NaN                10,000       10+ years   Mortgage   \n",
       "freq             NaN                  7820           35413      46925   \n",
       "mean    1.021908e+07                   NaN             NaN        NaN   \n",
       "std     3.162191e+04                   NaN             NaN        NaN   \n",
       "min     1.016431e+07                   NaN             NaN        NaN   \n",
       "25%     1.019170e+07                   NaN             NaN        NaN   \n",
       "50%     1.021908e+07                   NaN             NaN        NaN   \n",
       "75%     1.024646e+07                   NaN             NaN        NaN   \n",
       "max     1.027385e+07                   NaN             NaN        NaN   \n",
       "\n",
       "        Annual_Income    Income_Verified     Purpose_Of_Loan  Debt_To_Income  \\\n",
       "count    9.264300e+04             109541              109541   109541.000000   \n",
       "unique            NaN                  3                  14             NaN   \n",
       "top               NaN  VERIFIED - income  debt_consolidation             NaN   \n",
       "freq              NaN              39655               64302             NaN   \n",
       "mean     7.348541e+04                NaN                 NaN       17.228969   \n",
       "std      5.563845e+04                NaN                 NaN        7.847310   \n",
       "min      3.000000e+03                NaN                 NaN        0.000000   \n",
       "25%      4.500000e+04                NaN                 NaN       11.350000   \n",
       "50%      6.300000e+04                NaN                 NaN       16.860000   \n",
       "75%      8.900000e+04                NaN                 NaN       22.780000   \n",
       "max      7.446395e+06                NaN                 NaN       39.990000   \n",
       "\n",
       "        Inquiries_Last_6Mo  Months_Since_Deliquency  Number_Open_Accounts  \\\n",
       "count        109541.000000             50682.000000         109541.000000   \n",
       "unique                 NaN                      NaN                   NaN   \n",
       "top                    NaN                      NaN                   NaN   \n",
       "freq                   NaN                      NaN                   NaN   \n",
       "mean              0.788810                33.914684             11.174337   \n",
       "std               1.039903                21.732856              4.946314   \n",
       "min               0.000000                 0.000000              0.000000   \n",
       "25%               0.000000                15.000000              8.000000   \n",
       "50%               0.000000                31.000000             10.000000   \n",
       "75%               1.000000                49.000000             14.000000   \n",
       "max               8.000000               149.000000             84.000000   \n",
       "\n",
       "        Total_Accounts  Gender  \n",
       "count    109541.000000  109541  \n",
       "unique             NaN       2  \n",
       "top                NaN    Male  \n",
       "freq               NaN   77817  \n",
       "mean         25.068440     NaN  \n",
       "std          11.599639     NaN  \n",
       "min           2.000000     NaN  \n",
       "25%          17.000000     NaN  \n",
       "50%          24.000000     NaN  \n",
       "75%          32.000000     NaN  \n",
       "max         124.000000     NaN  "
      ]
     },
     "execution_count": 551,
     "metadata": {},
     "output_type": "execute_result"
    }
   ],
   "source": [
    "## Check summay statistics of test data.\n",
    "test.describe(include='all')"
   ]
  },
  {
   "cell_type": "code",
   "execution_count": 552,
   "metadata": {},
   "outputs": [
    {
     "data": {
      "text/plain": [
       "Index(['Loan_ID', 'Loan_Amount_Requested', 'Length_Employed', 'Home_Owner',\n",
       "       'Annual_Income', 'Income_Verified', 'Purpose_Of_Loan', 'Debt_To_Income',\n",
       "       'Inquiries_Last_6Mo', 'Months_Since_Deliquency', 'Number_Open_Accounts',\n",
       "       'Total_Accounts', 'Gender', 'Interest_Rate'],\n",
       "      dtype='object')"
      ]
     },
     "execution_count": 552,
     "metadata": {},
     "output_type": "execute_result"
    }
   ],
   "source": [
    "## Check train data column names.\n",
    "train.columns"
   ]
  },
  {
   "cell_type": "code",
   "execution_count": 553,
   "metadata": {},
   "outputs": [
    {
     "data": {
      "text/plain": [
       "Index(['Loan_ID', 'Loan_Amount_Requested', 'Length_Employed', 'Home_Owner',\n",
       "       'Annual_Income', 'Income_Verified', 'Purpose_Of_Loan', 'Debt_To_Income',\n",
       "       'Inquiries_Last_6Mo', 'Months_Since_Deliquency', 'Number_Open_Accounts',\n",
       "       'Total_Accounts', 'Gender'],\n",
       "      dtype='object')"
      ]
     },
     "execution_count": 553,
     "metadata": {},
     "output_type": "execute_result"
    }
   ],
   "source": [
    "## Check test data column names.\n",
    "test.columns"
   ]
  },
  {
   "cell_type": "code",
   "execution_count": 554,
   "metadata": {},
   "outputs": [
    {
     "data": {
      "text/plain": [
       "RangeIndex(start=0, stop=164309, step=1)"
      ]
     },
     "execution_count": 554,
     "metadata": {},
     "output_type": "execute_result"
    }
   ],
   "source": [
    "## Get index range for train data.\n",
    "train.index"
   ]
  },
  {
   "cell_type": "code",
   "execution_count": 555,
   "metadata": {},
   "outputs": [
    {
     "data": {
      "text/plain": [
       "RangeIndex(start=0, stop=109541, step=1)"
      ]
     },
     "execution_count": 555,
     "metadata": {},
     "output_type": "execute_result"
    }
   ],
   "source": [
    "## Get index range for test data.\n",
    "test.index"
   ]
  },
  {
   "cell_type": "code",
   "execution_count": 556,
   "metadata": {},
   "outputs": [
    {
     "data": {
      "text/plain": [
       "Loan_ID                      int64\n",
       "Loan_Amount_Requested       object\n",
       "Length_Employed             object\n",
       "Home_Owner                  object\n",
       "Annual_Income              float64\n",
       "Income_Verified             object\n",
       "Purpose_Of_Loan             object\n",
       "Debt_To_Income             float64\n",
       "Inquiries_Last_6Mo           int64\n",
       "Months_Since_Deliquency    float64\n",
       "Number_Open_Accounts         int64\n",
       "Total_Accounts               int64\n",
       "Gender                      object\n",
       "Interest_Rate                int64\n",
       "dtype: object"
      ]
     },
     "execution_count": 556,
     "metadata": {},
     "output_type": "execute_result"
    }
   ],
   "source": [
    "## Check data types for train data columns.\n",
    "train.dtypes"
   ]
  },
  {
   "cell_type": "code",
   "execution_count": 557,
   "metadata": {},
   "outputs": [
    {
     "data": {
      "text/plain": [
       "Loan_ID                      int64\n",
       "Loan_Amount_Requested       object\n",
       "Length_Employed             object\n",
       "Home_Owner                  object\n",
       "Annual_Income              float64\n",
       "Income_Verified             object\n",
       "Purpose_Of_Loan             object\n",
       "Debt_To_Income             float64\n",
       "Inquiries_Last_6Mo           int64\n",
       "Months_Since_Deliquency    float64\n",
       "Number_Open_Accounts         int64\n",
       "Total_Accounts               int64\n",
       "Gender                      object\n",
       "dtype: object"
      ]
     },
     "execution_count": 557,
     "metadata": {},
     "output_type": "execute_result"
    }
   ],
   "source": [
    "## Check data types for test data columns.\n",
    "test.dtypes"
   ]
  },
  {
   "cell_type": "code",
   "execution_count": 558,
   "metadata": {},
   "outputs": [
    {
     "data": {
      "text/plain": [
       "Loan_ID                        0\n",
       "Loan_Amount_Requested          0\n",
       "Length_Employed             7371\n",
       "Home_Owner                 25349\n",
       "Annual_Income              25102\n",
       "Income_Verified                0\n",
       "Purpose_Of_Loan                0\n",
       "Debt_To_Income                 0\n",
       "Inquiries_Last_6Mo             0\n",
       "Months_Since_Deliquency    88379\n",
       "Number_Open_Accounts           0\n",
       "Total_Accounts                 0\n",
       "Gender                         0\n",
       "Interest_Rate                  0\n",
       "dtype: int64"
      ]
     },
     "execution_count": 558,
     "metadata": {},
     "output_type": "execute_result"
    }
   ],
   "source": [
    "## Check null values for train data.\n",
    "train.isna().sum()"
   ]
  },
  {
   "cell_type": "code",
   "execution_count": 559,
   "metadata": {
    "scrolled": false
   },
   "outputs": [
    {
     "data": {
      "text/plain": [
       "Loan_ID                        0\n",
       "Loan_Amount_Requested          0\n",
       "Length_Employed             4936\n",
       "Home_Owner                 16711\n",
       "Annual_Income              16898\n",
       "Income_Verified                0\n",
       "Purpose_Of_Loan                0\n",
       "Debt_To_Income                 0\n",
       "Inquiries_Last_6Mo             0\n",
       "Months_Since_Deliquency    58859\n",
       "Number_Open_Accounts           0\n",
       "Total_Accounts                 0\n",
       "Gender                         0\n",
       "dtype: int64"
      ]
     },
     "execution_count": 559,
     "metadata": {},
     "output_type": "execute_result"
    }
   ],
   "source": [
    "## Check null values for test data.\n",
    "test.isna().sum()"
   ]
  },
  {
   "cell_type": "code",
   "execution_count": 560,
   "metadata": {},
   "outputs": [],
   "source": [
    "## This method will return number of levels,null values,unique values,data types for the given data frame.\n",
    "\n",
    "def observations(df):\n",
    "    return(pd.DataFrame({'dtypes' : df.dtypes,\n",
    "                         'levels' : [df[x].unique() for x in df.columns],\n",
    "                         'null_values' : df.isna().sum(),\n",
    "                         'Unique Values': df.nunique()\n",
    "                        }))"
   ]
  },
  {
   "cell_type": "code",
   "execution_count": 561,
   "metadata": {
    "scrolled": true
   },
   "outputs": [
    {
     "data": {
      "text/html": [
       "<div>\n",
       "<style scoped>\n",
       "    .dataframe tbody tr th:only-of-type {\n",
       "        vertical-align: middle;\n",
       "    }\n",
       "\n",
       "    .dataframe tbody tr th {\n",
       "        vertical-align: top;\n",
       "    }\n",
       "\n",
       "    .dataframe thead th {\n",
       "        text-align: right;\n",
       "    }\n",
       "</style>\n",
       "<table border=\"1\" class=\"dataframe\">\n",
       "  <thead>\n",
       "    <tr style=\"text-align: right;\">\n",
       "      <th></th>\n",
       "      <th>dtypes</th>\n",
       "      <th>levels</th>\n",
       "      <th>null_values</th>\n",
       "      <th>Unique Values</th>\n",
       "    </tr>\n",
       "  </thead>\n",
       "  <tbody>\n",
       "    <tr>\n",
       "      <th>Loan_ID</th>\n",
       "      <td>int64</td>\n",
       "      <td>[10000001, 10000002, 10000003, 10000004, 10000...</td>\n",
       "      <td>0</td>\n",
       "      <td>164309</td>\n",
       "    </tr>\n",
       "    <tr>\n",
       "      <th>Loan_Amount_Requested</th>\n",
       "      <td>object</td>\n",
       "      <td>[7,000, 30,000, 24,725, 16,000, 17,000, 4,500,...</td>\n",
       "      <td>0</td>\n",
       "      <td>1290</td>\n",
       "    </tr>\n",
       "    <tr>\n",
       "      <th>Length_Employed</th>\n",
       "      <td>object</td>\n",
       "      <td>[&lt; 1 year, 4 years, 7 years, 8 years, 2 years,...</td>\n",
       "      <td>7371</td>\n",
       "      <td>11</td>\n",
       "    </tr>\n",
       "    <tr>\n",
       "      <th>Home_Owner</th>\n",
       "      <td>object</td>\n",
       "      <td>[Rent, Mortgage, nan, Own, Other, None]</td>\n",
       "      <td>25349</td>\n",
       "      <td>5</td>\n",
       "    </tr>\n",
       "    <tr>\n",
       "      <th>Annual_Income</th>\n",
       "      <td>float64</td>\n",
       "      <td>[68000.0, nan, 75566.4, 56160.0, 96000.0, 3000...</td>\n",
       "      <td>25102</td>\n",
       "      <td>12305</td>\n",
       "    </tr>\n",
       "    <tr>\n",
       "      <th>Income_Verified</th>\n",
       "      <td>object</td>\n",
       "      <td>[not verified, VERIFIED - income, VERIFIED - i...</td>\n",
       "      <td>0</td>\n",
       "      <td>3</td>\n",
       "    </tr>\n",
       "    <tr>\n",
       "      <th>Purpose_Of_Loan</th>\n",
       "      <td>object</td>\n",
       "      <td>[car, debt_consolidation, credit_card, home_im...</td>\n",
       "      <td>0</td>\n",
       "      <td>14</td>\n",
       "    </tr>\n",
       "    <tr>\n",
       "      <th>Debt_To_Income</th>\n",
       "      <td>float64</td>\n",
       "      <td>[18.37, 14.93, 15.88, 14.34, 22.17, 10.88, 5.6...</td>\n",
       "      <td>0</td>\n",
       "      <td>3953</td>\n",
       "    </tr>\n",
       "    <tr>\n",
       "      <th>Inquiries_Last_6Mo</th>\n",
       "      <td>int64</td>\n",
       "      <td>[0, 3, 1, 2, 4, 5, 6, 7, 8]</td>\n",
       "      <td>0</td>\n",
       "      <td>9</td>\n",
       "    </tr>\n",
       "    <tr>\n",
       "      <th>Months_Since_Deliquency</th>\n",
       "      <td>float64</td>\n",
       "      <td>[nan, 17.0, 16.0, 68.0, 13.0, 6.0, 64.0, 10.0,...</td>\n",
       "      <td>88379</td>\n",
       "      <td>122</td>\n",
       "    </tr>\n",
       "    <tr>\n",
       "      <th>Number_Open_Accounts</th>\n",
       "      <td>int64</td>\n",
       "      <td>[9, 12, 16, 19, 25, 8, 24, 7, 5, 20, 10, 15, 6...</td>\n",
       "      <td>0</td>\n",
       "      <td>58</td>\n",
       "    </tr>\n",
       "    <tr>\n",
       "      <th>Total_Accounts</th>\n",
       "      <td>int64</td>\n",
       "      <td>[14, 24, 16, 22, 30, 15, 12, 31, 9, 43, 13, 17...</td>\n",
       "      <td>0</td>\n",
       "      <td>100</td>\n",
       "    </tr>\n",
       "    <tr>\n",
       "      <th>Gender</th>\n",
       "      <td>object</td>\n",
       "      <td>[Female, Male]</td>\n",
       "      <td>0</td>\n",
       "      <td>2</td>\n",
       "    </tr>\n",
       "    <tr>\n",
       "      <th>Interest_Rate</th>\n",
       "      <td>int64</td>\n",
       "      <td>[1, 3, 2]</td>\n",
       "      <td>0</td>\n",
       "      <td>3</td>\n",
       "    </tr>\n",
       "  </tbody>\n",
       "</table>\n",
       "</div>"
      ],
      "text/plain": [
       "                          dtypes  \\\n",
       "Loan_ID                    int64   \n",
       "Loan_Amount_Requested     object   \n",
       "Length_Employed           object   \n",
       "Home_Owner                object   \n",
       "Annual_Income            float64   \n",
       "Income_Verified           object   \n",
       "Purpose_Of_Loan           object   \n",
       "Debt_To_Income           float64   \n",
       "Inquiries_Last_6Mo         int64   \n",
       "Months_Since_Deliquency  float64   \n",
       "Number_Open_Accounts       int64   \n",
       "Total_Accounts             int64   \n",
       "Gender                    object   \n",
       "Interest_Rate              int64   \n",
       "\n",
       "                                                                    levels  \\\n",
       "Loan_ID                  [10000001, 10000002, 10000003, 10000004, 10000...   \n",
       "Loan_Amount_Requested    [7,000, 30,000, 24,725, 16,000, 17,000, 4,500,...   \n",
       "Length_Employed          [< 1 year, 4 years, 7 years, 8 years, 2 years,...   \n",
       "Home_Owner                         [Rent, Mortgage, nan, Own, Other, None]   \n",
       "Annual_Income            [68000.0, nan, 75566.4, 56160.0, 96000.0, 3000...   \n",
       "Income_Verified          [not verified, VERIFIED - income, VERIFIED - i...   \n",
       "Purpose_Of_Loan          [car, debt_consolidation, credit_card, home_im...   \n",
       "Debt_To_Income           [18.37, 14.93, 15.88, 14.34, 22.17, 10.88, 5.6...   \n",
       "Inquiries_Last_6Mo                             [0, 3, 1, 2, 4, 5, 6, 7, 8]   \n",
       "Months_Since_Deliquency  [nan, 17.0, 16.0, 68.0, 13.0, 6.0, 64.0, 10.0,...   \n",
       "Number_Open_Accounts     [9, 12, 16, 19, 25, 8, 24, 7, 5, 20, 10, 15, 6...   \n",
       "Total_Accounts           [14, 24, 16, 22, 30, 15, 12, 31, 9, 43, 13, 17...   \n",
       "Gender                                                      [Female, Male]   \n",
       "Interest_Rate                                                    [1, 3, 2]   \n",
       "\n",
       "                         null_values  Unique Values  \n",
       "Loan_ID                            0         164309  \n",
       "Loan_Amount_Requested              0           1290  \n",
       "Length_Employed                 7371             11  \n",
       "Home_Owner                     25349              5  \n",
       "Annual_Income                  25102          12305  \n",
       "Income_Verified                    0              3  \n",
       "Purpose_Of_Loan                    0             14  \n",
       "Debt_To_Income                     0           3953  \n",
       "Inquiries_Last_6Mo                 0              9  \n",
       "Months_Since_Deliquency        88379            122  \n",
       "Number_Open_Accounts               0             58  \n",
       "Total_Accounts                     0            100  \n",
       "Gender                             0              2  \n",
       "Interest_Rate                      0              3  "
      ]
     },
     "execution_count": 561,
     "metadata": {},
     "output_type": "execute_result"
    }
   ],
   "source": [
    "## Get column data types,numer of level for each column,null values,unique values for train data.\n",
    "observations(train)"
   ]
  },
  {
   "cell_type": "code",
   "execution_count": 562,
   "metadata": {},
   "outputs": [
    {
     "data": {
      "text/html": [
       "<div>\n",
       "<style scoped>\n",
       "    .dataframe tbody tr th:only-of-type {\n",
       "        vertical-align: middle;\n",
       "    }\n",
       "\n",
       "    .dataframe tbody tr th {\n",
       "        vertical-align: top;\n",
       "    }\n",
       "\n",
       "    .dataframe thead th {\n",
       "        text-align: right;\n",
       "    }\n",
       "</style>\n",
       "<table border=\"1\" class=\"dataframe\">\n",
       "  <thead>\n",
       "    <tr style=\"text-align: right;\">\n",
       "      <th></th>\n",
       "      <th>dtypes</th>\n",
       "      <th>levels</th>\n",
       "      <th>null_values</th>\n",
       "      <th>Unique Values</th>\n",
       "    </tr>\n",
       "  </thead>\n",
       "  <tbody>\n",
       "    <tr>\n",
       "      <th>Loan_ID</th>\n",
       "      <td>int64</td>\n",
       "      <td>[10164310, 10164311, 10164312, 10164313, 10164...</td>\n",
       "      <td>0</td>\n",
       "      <td>109541</td>\n",
       "    </tr>\n",
       "    <tr>\n",
       "      <th>Loan_Amount_Requested</th>\n",
       "      <td>object</td>\n",
       "      <td>[27,500, 26,000, 6,075, 12,000, 35,000, 8,000,...</td>\n",
       "      <td>0</td>\n",
       "      <td>1246</td>\n",
       "    </tr>\n",
       "    <tr>\n",
       "      <th>Length_Employed</th>\n",
       "      <td>object</td>\n",
       "      <td>[10+ years, &lt; 1 year, 6 years, 8 years, 1 year...</td>\n",
       "      <td>4936</td>\n",
       "      <td>11</td>\n",
       "    </tr>\n",
       "    <tr>\n",
       "      <th>Home_Owner</th>\n",
       "      <td>object</td>\n",
       "      <td>[Mortgage, nan, Rent, Own, Other, None]</td>\n",
       "      <td>16711</td>\n",
       "      <td>5</td>\n",
       "    </tr>\n",
       "    <tr>\n",
       "      <th>Annual_Income</th>\n",
       "      <td>float64</td>\n",
       "      <td>[129000.0, 110000.0, 75000.0, 73000.0, 156000....</td>\n",
       "      <td>16898</td>\n",
       "      <td>9028</td>\n",
       "    </tr>\n",
       "    <tr>\n",
       "      <th>Income_Verified</th>\n",
       "      <td>object</td>\n",
       "      <td>[VERIFIED - income, not verified, VERIFIED - i...</td>\n",
       "      <td>0</td>\n",
       "      <td>3</td>\n",
       "    </tr>\n",
       "    <tr>\n",
       "      <th>Purpose_Of_Loan</th>\n",
       "      <td>object</td>\n",
       "      <td>[debt_consolidation, credit_card, home_improve...</td>\n",
       "      <td>0</td>\n",
       "      <td>14</td>\n",
       "    </tr>\n",
       "    <tr>\n",
       "      <th>Debt_To_Income</th>\n",
       "      <td>float64</td>\n",
       "      <td>[12.87, 11.37, 6.83, 7.76, 9.62, 0.0, 22.89, 2...</td>\n",
       "      <td>0</td>\n",
       "      <td>3895</td>\n",
       "    </tr>\n",
       "    <tr>\n",
       "      <th>Inquiries_Last_6Mo</th>\n",
       "      <td>int64</td>\n",
       "      <td>[0, 2, 1, 3, 6, 4, 5, 7, 8]</td>\n",
       "      <td>0</td>\n",
       "      <td>9</td>\n",
       "    </tr>\n",
       "    <tr>\n",
       "      <th>Months_Since_Deliquency</th>\n",
       "      <td>float64</td>\n",
       "      <td>[68.0, nan, 26.0, 18.0, 22.0, 65.0, 47.0, 45.0...</td>\n",
       "      <td>58859</td>\n",
       "      <td>115</td>\n",
       "    </tr>\n",
       "    <tr>\n",
       "      <th>Number_Open_Accounts</th>\n",
       "      <td>int64</td>\n",
       "      <td>[10, 6, 5, 9, 2, 19, 11, 14, 4, 23, 7, 17, 13,...</td>\n",
       "      <td>0</td>\n",
       "      <td>54</td>\n",
       "    </tr>\n",
       "    <tr>\n",
       "      <th>Total_Accounts</th>\n",
       "      <td>int64</td>\n",
       "      <td>[37, 23, 20, 8, 21, 3, 24, 25, 16, 38, 14, 15,...</td>\n",
       "      <td>0</td>\n",
       "      <td>96</td>\n",
       "    </tr>\n",
       "    <tr>\n",
       "      <th>Gender</th>\n",
       "      <td>object</td>\n",
       "      <td>[Male, Female]</td>\n",
       "      <td>0</td>\n",
       "      <td>2</td>\n",
       "    </tr>\n",
       "  </tbody>\n",
       "</table>\n",
       "</div>"
      ],
      "text/plain": [
       "                          dtypes  \\\n",
       "Loan_ID                    int64   \n",
       "Loan_Amount_Requested     object   \n",
       "Length_Employed           object   \n",
       "Home_Owner                object   \n",
       "Annual_Income            float64   \n",
       "Income_Verified           object   \n",
       "Purpose_Of_Loan           object   \n",
       "Debt_To_Income           float64   \n",
       "Inquiries_Last_6Mo         int64   \n",
       "Months_Since_Deliquency  float64   \n",
       "Number_Open_Accounts       int64   \n",
       "Total_Accounts             int64   \n",
       "Gender                    object   \n",
       "\n",
       "                                                                    levels  \\\n",
       "Loan_ID                  [10164310, 10164311, 10164312, 10164313, 10164...   \n",
       "Loan_Amount_Requested    [27,500, 26,000, 6,075, 12,000, 35,000, 8,000,...   \n",
       "Length_Employed          [10+ years, < 1 year, 6 years, 8 years, 1 year...   \n",
       "Home_Owner                         [Mortgage, nan, Rent, Own, Other, None]   \n",
       "Annual_Income            [129000.0, 110000.0, 75000.0, 73000.0, 156000....   \n",
       "Income_Verified          [VERIFIED - income, not verified, VERIFIED - i...   \n",
       "Purpose_Of_Loan          [debt_consolidation, credit_card, home_improve...   \n",
       "Debt_To_Income           [12.87, 11.37, 6.83, 7.76, 9.62, 0.0, 22.89, 2...   \n",
       "Inquiries_Last_6Mo                             [0, 2, 1, 3, 6, 4, 5, 7, 8]   \n",
       "Months_Since_Deliquency  [68.0, nan, 26.0, 18.0, 22.0, 65.0, 47.0, 45.0...   \n",
       "Number_Open_Accounts     [10, 6, 5, 9, 2, 19, 11, 14, 4, 23, 7, 17, 13,...   \n",
       "Total_Accounts           [37, 23, 20, 8, 21, 3, 24, 25, 16, 38, 14, 15,...   \n",
       "Gender                                                      [Male, Female]   \n",
       "\n",
       "                         null_values  Unique Values  \n",
       "Loan_ID                            0         109541  \n",
       "Loan_Amount_Requested              0           1246  \n",
       "Length_Employed                 4936             11  \n",
       "Home_Owner                     16711              5  \n",
       "Annual_Income                  16898           9028  \n",
       "Income_Verified                    0              3  \n",
       "Purpose_Of_Loan                    0             14  \n",
       "Debt_To_Income                     0           3895  \n",
       "Inquiries_Last_6Mo                 0              9  \n",
       "Months_Since_Deliquency        58859            115  \n",
       "Number_Open_Accounts               0             54  \n",
       "Total_Accounts                     0             96  \n",
       "Gender                             0              2  "
      ]
     },
     "execution_count": 562,
     "metadata": {},
     "output_type": "execute_result"
    }
   ],
   "source": [
    "## Get column data types,numer of level for each column,null values,unique values for test data.\n",
    "observations(test)"
   ]
  },
  {
   "cell_type": "code",
   "execution_count": 563,
   "metadata": {},
   "outputs": [],
   "source": [
    "## Replace comma(,) with empty value for Loan_Amount_Requested column of train data.\n",
    "train['Loan_Amount_Requested'] = train['Loan_Amount_Requested'].str.replace(',','')"
   ]
  },
  {
   "cell_type": "code",
   "execution_count": 564,
   "metadata": {},
   "outputs": [],
   "source": [
    "## Replace comma(,) with empty value for Loan_Amount_Requested column of test data.\n",
    "test['Loan_Amount_Requested'] = test['Loan_Amount_Requested'].str.replace(',','')"
   ]
  },
  {
   "cell_type": "code",
   "execution_count": 565,
   "metadata": {},
   "outputs": [],
   "source": [
    "## Convert Loan_Amount_Requested column data type from string to float(train data).\n",
    "train['Loan_Amount_Requested'] = train['Loan_Amount_Requested'].astype('float')"
   ]
  },
  {
   "cell_type": "code",
   "execution_count": 566,
   "metadata": {},
   "outputs": [],
   "source": [
    "## Convert Loan_Amount_Requested column data type from string to float(test data).\n",
    "test['Loan_Amount_Requested'] = test['Loan_Amount_Requested'].astype('float')"
   ]
  },
  {
   "cell_type": "code",
   "execution_count": 567,
   "metadata": {},
   "outputs": [
    {
     "data": {
      "text/plain": [
       "Index(['Length_Employed', 'Home_Owner', 'Income_Verified', 'Purpose_Of_Loan',\n",
       "       'Gender'],\n",
       "      dtype='object')"
      ]
     },
     "execution_count": 567,
     "metadata": {},
     "output_type": "execute_result"
    }
   ],
   "source": [
    "## Check object data type columns.\n",
    "train.select_dtypes('object').columns"
   ]
  },
  {
   "cell_type": "code",
   "execution_count": 568,
   "metadata": {},
   "outputs": [],
   "source": [
    "## Convert columns data types from object to category for the given data frame.\n",
    "def dataTypeConversion(df):\n",
    "    for col in df.select_dtypes('object').columns:\n",
    "        df[col] = df[col].astype('category')"
   ]
  },
  {
   "cell_type": "code",
   "execution_count": 569,
   "metadata": {},
   "outputs": [],
   "source": [
    "## Convert columns data types from object to category for train data.\n",
    "dataTypeConversion(train)"
   ]
  },
  {
   "cell_type": "code",
   "execution_count": 570,
   "metadata": {},
   "outputs": [],
   "source": [
    "## Convert columns data types from object to category for test data.\n",
    "dataTypeConversion(test)"
   ]
  },
  {
   "cell_type": "code",
   "execution_count": 571,
   "metadata": {},
   "outputs": [
    {
     "data": {
      "text/plain": [
       "Loan_ID                       int64\n",
       "Loan_Amount_Requested       float64\n",
       "Length_Employed            category\n",
       "Home_Owner                 category\n",
       "Annual_Income               float64\n",
       "Income_Verified            category\n",
       "Purpose_Of_Loan            category\n",
       "Debt_To_Income              float64\n",
       "Inquiries_Last_6Mo            int64\n",
       "Months_Since_Deliquency     float64\n",
       "Number_Open_Accounts          int64\n",
       "Total_Accounts                int64\n",
       "Gender                     category\n",
       "Interest_Rate                 int64\n",
       "dtype: object"
      ]
     },
     "execution_count": 571,
     "metadata": {},
     "output_type": "execute_result"
    }
   ],
   "source": [
    "## Check train data columns data types after conversion.\n",
    "train.dtypes"
   ]
  },
  {
   "cell_type": "code",
   "execution_count": 572,
   "metadata": {},
   "outputs": [
    {
     "data": {
      "text/plain": [
       "Loan_ID                       int64\n",
       "Loan_Amount_Requested       float64\n",
       "Length_Employed            category\n",
       "Home_Owner                 category\n",
       "Annual_Income               float64\n",
       "Income_Verified            category\n",
       "Purpose_Of_Loan            category\n",
       "Debt_To_Income              float64\n",
       "Inquiries_Last_6Mo            int64\n",
       "Months_Since_Deliquency     float64\n",
       "Number_Open_Accounts          int64\n",
       "Total_Accounts                int64\n",
       "Gender                     category\n",
       "dtype: object"
      ]
     },
     "execution_count": 572,
     "metadata": {},
     "output_type": "execute_result"
    }
   ],
   "source": [
    "## Check test data columns data types after conversion.\n",
    "test.dtypes"
   ]
  },
  {
   "cell_type": "code",
   "execution_count": 573,
   "metadata": {},
   "outputs": [],
   "source": [
    "## Set index for train and test.\n",
    "train.set_index('Loan_ID',inplace=True)\n",
    "test.set_index('Loan_ID',inplace=True)"
   ]
  },
  {
   "cell_type": "code",
   "execution_count": 574,
   "metadata": {},
   "outputs": [
    {
     "data": {
      "text/html": [
       "<div>\n",
       "<style scoped>\n",
       "    .dataframe tbody tr th:only-of-type {\n",
       "        vertical-align: middle;\n",
       "    }\n",
       "\n",
       "    .dataframe tbody tr th {\n",
       "        vertical-align: top;\n",
       "    }\n",
       "\n",
       "    .dataframe thead th {\n",
       "        text-align: right;\n",
       "    }\n",
       "</style>\n",
       "<table border=\"1\" class=\"dataframe\">\n",
       "  <thead>\n",
       "    <tr style=\"text-align: right;\">\n",
       "      <th></th>\n",
       "      <th>Loan_Amount_Requested</th>\n",
       "      <th>Length_Employed</th>\n",
       "      <th>Home_Owner</th>\n",
       "      <th>Annual_Income</th>\n",
       "      <th>Income_Verified</th>\n",
       "      <th>Purpose_Of_Loan</th>\n",
       "      <th>Debt_To_Income</th>\n",
       "      <th>Inquiries_Last_6Mo</th>\n",
       "      <th>Months_Since_Deliquency</th>\n",
       "      <th>Number_Open_Accounts</th>\n",
       "      <th>Total_Accounts</th>\n",
       "      <th>Gender</th>\n",
       "      <th>Interest_Rate</th>\n",
       "    </tr>\n",
       "    <tr>\n",
       "      <th>Loan_ID</th>\n",
       "      <th></th>\n",
       "      <th></th>\n",
       "      <th></th>\n",
       "      <th></th>\n",
       "      <th></th>\n",
       "      <th></th>\n",
       "      <th></th>\n",
       "      <th></th>\n",
       "      <th></th>\n",
       "      <th></th>\n",
       "      <th></th>\n",
       "      <th></th>\n",
       "      <th></th>\n",
       "    </tr>\n",
       "  </thead>\n",
       "  <tbody>\n",
       "    <tr>\n",
       "      <th>10000001</th>\n",
       "      <td>7000.0</td>\n",
       "      <td>&lt; 1 year</td>\n",
       "      <td>Rent</td>\n",
       "      <td>68000.0</td>\n",
       "      <td>not verified</td>\n",
       "      <td>car</td>\n",
       "      <td>18.37</td>\n",
       "      <td>0</td>\n",
       "      <td>NaN</td>\n",
       "      <td>9</td>\n",
       "      <td>14</td>\n",
       "      <td>Female</td>\n",
       "      <td>1</td>\n",
       "    </tr>\n",
       "  </tbody>\n",
       "</table>\n",
       "</div>"
      ],
      "text/plain": [
       "          Loan_Amount_Requested Length_Employed Home_Owner  Annual_Income  \\\n",
       "Loan_ID                                                                     \n",
       "10000001                 7000.0        < 1 year       Rent        68000.0   \n",
       "\n",
       "         Income_Verified Purpose_Of_Loan  Debt_To_Income  Inquiries_Last_6Mo  \\\n",
       "Loan_ID                                                                        \n",
       "10000001    not verified             car           18.37                   0   \n",
       "\n",
       "          Months_Since_Deliquency  Number_Open_Accounts  Total_Accounts  \\\n",
       "Loan_ID                                                                   \n",
       "10000001                      NaN                     9              14   \n",
       "\n",
       "          Gender  Interest_Rate  \n",
       "Loan_ID                          \n",
       "10000001  Female              1  "
      ]
     },
     "execution_count": 574,
     "metadata": {},
     "output_type": "execute_result"
    }
   ],
   "source": [
    "## Check first record of train data after setting index value.\n",
    "train.head(1)"
   ]
  },
  {
   "cell_type": "code",
   "execution_count": 575,
   "metadata": {},
   "outputs": [
    {
     "data": {
      "text/html": [
       "<div>\n",
       "<style scoped>\n",
       "    .dataframe tbody tr th:only-of-type {\n",
       "        vertical-align: middle;\n",
       "    }\n",
       "\n",
       "    .dataframe tbody tr th {\n",
       "        vertical-align: top;\n",
       "    }\n",
       "\n",
       "    .dataframe thead th {\n",
       "        text-align: right;\n",
       "    }\n",
       "</style>\n",
       "<table border=\"1\" class=\"dataframe\">\n",
       "  <thead>\n",
       "    <tr style=\"text-align: right;\">\n",
       "      <th></th>\n",
       "      <th>Loan_Amount_Requested</th>\n",
       "      <th>Length_Employed</th>\n",
       "      <th>Home_Owner</th>\n",
       "      <th>Annual_Income</th>\n",
       "      <th>Income_Verified</th>\n",
       "      <th>Purpose_Of_Loan</th>\n",
       "      <th>Debt_To_Income</th>\n",
       "      <th>Inquiries_Last_6Mo</th>\n",
       "      <th>Months_Since_Deliquency</th>\n",
       "      <th>Number_Open_Accounts</th>\n",
       "      <th>Total_Accounts</th>\n",
       "      <th>Gender</th>\n",
       "    </tr>\n",
       "    <tr>\n",
       "      <th>Loan_ID</th>\n",
       "      <th></th>\n",
       "      <th></th>\n",
       "      <th></th>\n",
       "      <th></th>\n",
       "      <th></th>\n",
       "      <th></th>\n",
       "      <th></th>\n",
       "      <th></th>\n",
       "      <th></th>\n",
       "      <th></th>\n",
       "      <th></th>\n",
       "      <th></th>\n",
       "    </tr>\n",
       "  </thead>\n",
       "  <tbody>\n",
       "    <tr>\n",
       "      <th>10164310</th>\n",
       "      <td>27500.0</td>\n",
       "      <td>10+ years</td>\n",
       "      <td>Mortgage</td>\n",
       "      <td>129000.0</td>\n",
       "      <td>VERIFIED - income</td>\n",
       "      <td>debt_consolidation</td>\n",
       "      <td>12.87</td>\n",
       "      <td>0</td>\n",
       "      <td>68.0</td>\n",
       "      <td>10</td>\n",
       "      <td>37</td>\n",
       "      <td>Male</td>\n",
       "    </tr>\n",
       "  </tbody>\n",
       "</table>\n",
       "</div>"
      ],
      "text/plain": [
       "          Loan_Amount_Requested Length_Employed Home_Owner  Annual_Income  \\\n",
       "Loan_ID                                                                     \n",
       "10164310                27500.0       10+ years   Mortgage       129000.0   \n",
       "\n",
       "            Income_Verified     Purpose_Of_Loan  Debt_To_Income  \\\n",
       "Loan_ID                                                           \n",
       "10164310  VERIFIED - income  debt_consolidation           12.87   \n",
       "\n",
       "          Inquiries_Last_6Mo  Months_Since_Deliquency  Number_Open_Accounts  \\\n",
       "Loan_ID                                                                       \n",
       "10164310                   0                     68.0                    10   \n",
       "\n",
       "          Total_Accounts Gender  \n",
       "Loan_ID                          \n",
       "10164310              37   Male  "
      ]
     },
     "execution_count": 575,
     "metadata": {},
     "output_type": "execute_result"
    }
   ],
   "source": [
    "## Check first record of test data after setting index value.\n",
    "test.head(1)"
   ]
  },
  {
   "cell_type": "code",
   "execution_count": 576,
   "metadata": {},
   "outputs": [],
   "source": [
    "## Split data into train and test(80:20 ratio).\n",
    "X_train,X_test,y_train,y_test = train_test_split(train.drop('Interest_Rate',axis=1),train['Interest_Rate'],test_size=0.2,random_state=1234)"
   ]
  },
  {
   "cell_type": "code",
   "execution_count": 577,
   "metadata": {
    "scrolled": true
   },
   "outputs": [
    {
     "name": "stdout",
     "output_type": "stream",
     "text": [
      "(131447, 12)\n",
      "(131447,)\n",
      "(32862, 12)\n",
      "(32862,)\n"
     ]
    }
   ],
   "source": [
    "## Check dimeniosn of train and validation data.\n",
    "print(X_train.shape)\n",
    "print(y_train.shape)\n",
    "print(X_test.shape)\n",
    "print(y_test.shape)"
   ]
  },
  {
   "cell_type": "code",
   "execution_count": 578,
   "metadata": {
    "scrolled": true
   },
   "outputs": [
    {
     "data": {
      "text/plain": [
       "[< 1 year, 4 years, 7 years, 8 years, 2 years, ..., NaN, 6 years, 9 years, 3 years, 5 years]\n",
       "Length: 12\n",
       "Categories (11, object): [< 1 year, 4 years, 7 years, 8 years, ..., 6 years, 9 years, 3 years, 5 years]"
      ]
     },
     "execution_count": 578,
     "metadata": {},
     "output_type": "execute_result"
    }
   ],
   "source": [
    "## Get unique values for Length_Employed column. \n",
    "train['Length_Employed'].unique()"
   ]
  },
  {
   "cell_type": "code",
   "execution_count": 579,
   "metadata": {},
   "outputs": [],
   "source": [
    "## Create a dictionary to map number of years experience.\n",
    "experience_mapping = {\n",
    "    '< 1 year' : '0',\n",
    "    '1 year' : '1',\n",
    "    '2 years' : '2',\n",
    "    '3 years' : '3',\n",
    "    '4 years' : '4',\n",
    "    '5 years' : '5',\n",
    "    '6 years' : '6',\n",
    "    '7 years' : '7',\n",
    "    '8 years' : '8',\n",
    "    '9 years' : '9',\n",
    "    '10+ years' : '10',\n",
    "    'NaN': 'Unknown'\n",
    "}"
   ]
  },
  {
   "cell_type": "code",
   "execution_count": 580,
   "metadata": {},
   "outputs": [],
   "source": [
    "## Return experience year mappinng value from dictionary.\n",
    "def experience_foo(exp):\n",
    "    return experience_mapping[exp]"
   ]
  },
  {
   "cell_type": "code",
   "execution_count": 581,
   "metadata": {},
   "outputs": [],
   "source": [
    "## Map experience values with dictionary values for Length_Employed column(train data).\n",
    "X_train['Length_Employed'] = X_train['Length_Employed'].apply(experience_foo)"
   ]
  },
  {
   "cell_type": "code",
   "execution_count": 582,
   "metadata": {},
   "outputs": [
    {
     "data": {
      "text/html": [
       "<div>\n",
       "<style scoped>\n",
       "    .dataframe tbody tr th:only-of-type {\n",
       "        vertical-align: middle;\n",
       "    }\n",
       "\n",
       "    .dataframe tbody tr th {\n",
       "        vertical-align: top;\n",
       "    }\n",
       "\n",
       "    .dataframe thead th {\n",
       "        text-align: right;\n",
       "    }\n",
       "</style>\n",
       "<table border=\"1\" class=\"dataframe\">\n",
       "  <thead>\n",
       "    <tr style=\"text-align: right;\">\n",
       "      <th></th>\n",
       "      <th>Loan_Amount_Requested</th>\n",
       "      <th>Length_Employed</th>\n",
       "      <th>Home_Owner</th>\n",
       "      <th>Annual_Income</th>\n",
       "      <th>Income_Verified</th>\n",
       "      <th>Purpose_Of_Loan</th>\n",
       "      <th>Debt_To_Income</th>\n",
       "      <th>Inquiries_Last_6Mo</th>\n",
       "      <th>Months_Since_Deliquency</th>\n",
       "      <th>Number_Open_Accounts</th>\n",
       "      <th>Total_Accounts</th>\n",
       "      <th>Gender</th>\n",
       "    </tr>\n",
       "    <tr>\n",
       "      <th>Loan_ID</th>\n",
       "      <th></th>\n",
       "      <th></th>\n",
       "      <th></th>\n",
       "      <th></th>\n",
       "      <th></th>\n",
       "      <th></th>\n",
       "      <th></th>\n",
       "      <th></th>\n",
       "      <th></th>\n",
       "      <th></th>\n",
       "      <th></th>\n",
       "      <th></th>\n",
       "    </tr>\n",
       "  </thead>\n",
       "  <tbody>\n",
       "    <tr>\n",
       "      <th>10003909</th>\n",
       "      <td>15000.0</td>\n",
       "      <td>10</td>\n",
       "      <td>Mortgage</td>\n",
       "      <td>65000.0</td>\n",
       "      <td>not verified</td>\n",
       "      <td>debt_consolidation</td>\n",
       "      <td>20.33</td>\n",
       "      <td>2</td>\n",
       "      <td>NaN</td>\n",
       "      <td>10</td>\n",
       "      <td>34</td>\n",
       "      <td>Male</td>\n",
       "    </tr>\n",
       "  </tbody>\n",
       "</table>\n",
       "</div>"
      ],
      "text/plain": [
       "          Loan_Amount_Requested Length_Employed Home_Owner  Annual_Income  \\\n",
       "Loan_ID                                                                     \n",
       "10003909                15000.0              10   Mortgage        65000.0   \n",
       "\n",
       "         Income_Verified     Purpose_Of_Loan  Debt_To_Income  \\\n",
       "Loan_ID                                                        \n",
       "10003909    not verified  debt_consolidation           20.33   \n",
       "\n",
       "          Inquiries_Last_6Mo  Months_Since_Deliquency  Number_Open_Accounts  \\\n",
       "Loan_ID                                                                       \n",
       "10003909                   2                      NaN                    10   \n",
       "\n",
       "          Total_Accounts Gender  \n",
       "Loan_ID                          \n",
       "10003909              34   Male  "
      ]
     },
     "execution_count": 582,
     "metadata": {},
     "output_type": "execute_result"
    }
   ],
   "source": [
    "## Check first record of train data after mapping dictionary values.\n",
    "X_train.head(1)"
   ]
  },
  {
   "cell_type": "code",
   "execution_count": 583,
   "metadata": {},
   "outputs": [],
   "source": [
    "## Map experience values with dictionary values for Length_Employed column(validation data).\n",
    "X_test['Length_Employed'] = X_test['Length_Employed'].apply(experience_foo)"
   ]
  },
  {
   "cell_type": "code",
   "execution_count": 584,
   "metadata": {},
   "outputs": [
    {
     "data": {
      "text/html": [
       "<div>\n",
       "<style scoped>\n",
       "    .dataframe tbody tr th:only-of-type {\n",
       "        vertical-align: middle;\n",
       "    }\n",
       "\n",
       "    .dataframe tbody tr th {\n",
       "        vertical-align: top;\n",
       "    }\n",
       "\n",
       "    .dataframe thead th {\n",
       "        text-align: right;\n",
       "    }\n",
       "</style>\n",
       "<table border=\"1\" class=\"dataframe\">\n",
       "  <thead>\n",
       "    <tr style=\"text-align: right;\">\n",
       "      <th></th>\n",
       "      <th>Loan_Amount_Requested</th>\n",
       "      <th>Length_Employed</th>\n",
       "      <th>Home_Owner</th>\n",
       "      <th>Annual_Income</th>\n",
       "      <th>Income_Verified</th>\n",
       "      <th>Purpose_Of_Loan</th>\n",
       "      <th>Debt_To_Income</th>\n",
       "      <th>Inquiries_Last_6Mo</th>\n",
       "      <th>Months_Since_Deliquency</th>\n",
       "      <th>Number_Open_Accounts</th>\n",
       "      <th>Total_Accounts</th>\n",
       "      <th>Gender</th>\n",
       "    </tr>\n",
       "    <tr>\n",
       "      <th>Loan_ID</th>\n",
       "      <th></th>\n",
       "      <th></th>\n",
       "      <th></th>\n",
       "      <th></th>\n",
       "      <th></th>\n",
       "      <th></th>\n",
       "      <th></th>\n",
       "      <th></th>\n",
       "      <th></th>\n",
       "      <th></th>\n",
       "      <th></th>\n",
       "      <th></th>\n",
       "    </tr>\n",
       "  </thead>\n",
       "  <tbody>\n",
       "    <tr>\n",
       "      <th>10086865</th>\n",
       "      <td>35000.0</td>\n",
       "      <td>7</td>\n",
       "      <td>NaN</td>\n",
       "      <td>82000.0</td>\n",
       "      <td>VERIFIED - income</td>\n",
       "      <td>debt_consolidation</td>\n",
       "      <td>19.13</td>\n",
       "      <td>1</td>\n",
       "      <td>38.0</td>\n",
       "      <td>10</td>\n",
       "      <td>19</td>\n",
       "      <td>Male</td>\n",
       "    </tr>\n",
       "  </tbody>\n",
       "</table>\n",
       "</div>"
      ],
      "text/plain": [
       "          Loan_Amount_Requested Length_Employed Home_Owner  Annual_Income  \\\n",
       "Loan_ID                                                                     \n",
       "10086865                35000.0               7        NaN        82000.0   \n",
       "\n",
       "            Income_Verified     Purpose_Of_Loan  Debt_To_Income  \\\n",
       "Loan_ID                                                           \n",
       "10086865  VERIFIED - income  debt_consolidation           19.13   \n",
       "\n",
       "          Inquiries_Last_6Mo  Months_Since_Deliquency  Number_Open_Accounts  \\\n",
       "Loan_ID                                                                       \n",
       "10086865                   1                     38.0                    10   \n",
       "\n",
       "          Total_Accounts Gender  \n",
       "Loan_ID                          \n",
       "10086865              19   Male  "
      ]
     },
     "execution_count": 584,
     "metadata": {},
     "output_type": "execute_result"
    }
   ],
   "source": [
    "## Check first record of validation data after mapping dictionary values.\n",
    "X_test.head(1)"
   ]
  },
  {
   "cell_type": "code",
   "execution_count": 585,
   "metadata": {},
   "outputs": [],
   "source": [
    "## Map experience values with dictionary values for Length_Employed column(test data).\n",
    "test['Length_Employed'] = test['Length_Employed'].apply(experience_foo)"
   ]
  },
  {
   "cell_type": "code",
   "execution_count": 586,
   "metadata": {
    "scrolled": true
   },
   "outputs": [
    {
     "data": {
      "text/html": [
       "<div>\n",
       "<style scoped>\n",
       "    .dataframe tbody tr th:only-of-type {\n",
       "        vertical-align: middle;\n",
       "    }\n",
       "\n",
       "    .dataframe tbody tr th {\n",
       "        vertical-align: top;\n",
       "    }\n",
       "\n",
       "    .dataframe thead th {\n",
       "        text-align: right;\n",
       "    }\n",
       "</style>\n",
       "<table border=\"1\" class=\"dataframe\">\n",
       "  <thead>\n",
       "    <tr style=\"text-align: right;\">\n",
       "      <th></th>\n",
       "      <th>Loan_Amount_Requested</th>\n",
       "      <th>Length_Employed</th>\n",
       "      <th>Home_Owner</th>\n",
       "      <th>Annual_Income</th>\n",
       "      <th>Income_Verified</th>\n",
       "      <th>Purpose_Of_Loan</th>\n",
       "      <th>Debt_To_Income</th>\n",
       "      <th>Inquiries_Last_6Mo</th>\n",
       "      <th>Months_Since_Deliquency</th>\n",
       "      <th>Number_Open_Accounts</th>\n",
       "      <th>Total_Accounts</th>\n",
       "      <th>Gender</th>\n",
       "    </tr>\n",
       "    <tr>\n",
       "      <th>Loan_ID</th>\n",
       "      <th></th>\n",
       "      <th></th>\n",
       "      <th></th>\n",
       "      <th></th>\n",
       "      <th></th>\n",
       "      <th></th>\n",
       "      <th></th>\n",
       "      <th></th>\n",
       "      <th></th>\n",
       "      <th></th>\n",
       "      <th></th>\n",
       "      <th></th>\n",
       "    </tr>\n",
       "  </thead>\n",
       "  <tbody>\n",
       "    <tr>\n",
       "      <th>10164310</th>\n",
       "      <td>27500.0</td>\n",
       "      <td>10</td>\n",
       "      <td>Mortgage</td>\n",
       "      <td>129000.0</td>\n",
       "      <td>VERIFIED - income</td>\n",
       "      <td>debt_consolidation</td>\n",
       "      <td>12.87</td>\n",
       "      <td>0</td>\n",
       "      <td>68.0</td>\n",
       "      <td>10</td>\n",
       "      <td>37</td>\n",
       "      <td>Male</td>\n",
       "    </tr>\n",
       "  </tbody>\n",
       "</table>\n",
       "</div>"
      ],
      "text/plain": [
       "          Loan_Amount_Requested Length_Employed Home_Owner  Annual_Income  \\\n",
       "Loan_ID                                                                     \n",
       "10164310                27500.0              10   Mortgage       129000.0   \n",
       "\n",
       "            Income_Verified     Purpose_Of_Loan  Debt_To_Income  \\\n",
       "Loan_ID                                                           \n",
       "10164310  VERIFIED - income  debt_consolidation           12.87   \n",
       "\n",
       "          Inquiries_Last_6Mo  Months_Since_Deliquency  Number_Open_Accounts  \\\n",
       "Loan_ID                                                                       \n",
       "10164310                   0                     68.0                    10   \n",
       "\n",
       "          Total_Accounts Gender  \n",
       "Loan_ID                          \n",
       "10164310              37   Male  "
      ]
     },
     "execution_count": 586,
     "metadata": {},
     "output_type": "execute_result"
    }
   ],
   "source": [
    "## Check first record of test data after mapping dictionary values.\n",
    "test.head(1)"
   ]
  },
  {
   "cell_type": "code",
   "execution_count": 587,
   "metadata": {},
   "outputs": [
    {
     "data": {
      "text/plain": [
       "Months_Since_Deliquency    53.79\n",
       "Home_Owner                 15.43\n",
       "Annual_Income              15.28\n",
       "Length_Employed             4.49\n",
       "Interest_Rate               0.00\n",
       "Gender                      0.00\n",
       "Total_Accounts              0.00\n",
       "Number_Open_Accounts        0.00\n",
       "Inquiries_Last_6Mo          0.00\n",
       "Debt_To_Income              0.00\n",
       "Purpose_Of_Loan             0.00\n",
       "Income_Verified             0.00\n",
       "Loan_Amount_Requested       0.00\n",
       "dtype: float64"
      ]
     },
     "execution_count": 587,
     "metadata": {},
     "output_type": "execute_result"
    }
   ],
   "source": [
    "### find missing values % and display them in descending order.\n",
    "missing_value = (train.isna().sum()/len(train)).round(4)*100\n",
    "missing_value.sort_values(ascending=False)"
   ]
  },
  {
   "cell_type": "code",
   "execution_count": 588,
   "metadata": {},
   "outputs": [],
   "source": [
    "##  fillna requires a value that already exists as a category for categgorical columns so that's why adding Unkown level.\n",
    "X_train['Length_Employed'] = X_train['Length_Employed'].cat.add_categories('Unknown')"
   ]
  },
  {
   "cell_type": "code",
   "execution_count": 589,
   "metadata": {},
   "outputs": [],
   "source": [
    "## Fill NA values with Unknown for Length_Employed column of train data.\n",
    "X_train['Length_Employed'].fillna('Unknown',inplace=True)"
   ]
  },
  {
   "cell_type": "code",
   "execution_count": 590,
   "metadata": {},
   "outputs": [],
   "source": [
    "##  fillna requires a value that already exists as a category for categgorical columns so that's why adding Unkown level.\n",
    "X_test['Length_Employed'] = X_test['Length_Employed'].cat.add_categories('Unknown')"
   ]
  },
  {
   "cell_type": "code",
   "execution_count": 591,
   "metadata": {},
   "outputs": [],
   "source": [
    "## Fill NA values with Unknown for Length_Employed column of validation data.\n",
    "X_test['Length_Employed'].fillna('Unknown',inplace=True)"
   ]
  },
  {
   "cell_type": "code",
   "execution_count": 592,
   "metadata": {},
   "outputs": [],
   "source": [
    "##  fillna requires a value that already exists as a category for categgorical columns so that's why adding Unkown level.\n",
    "test['Length_Employed'] = test['Length_Employed'].cat.add_categories('Unknown')"
   ]
  },
  {
   "cell_type": "code",
   "execution_count": 593,
   "metadata": {},
   "outputs": [],
   "source": [
    "## Fill NA values with Unknown for Length_Employed column of test data.\n",
    "test['Length_Employed'].fillna('Unknown',inplace=True)"
   ]
  },
  {
   "cell_type": "code",
   "execution_count": 594,
   "metadata": {},
   "outputs": [],
   "source": [
    "## Fill NA values with None for Home_Owner column of train data.\n",
    "X_train['Home_Owner'].fillna('None',inplace=True)"
   ]
  },
  {
   "cell_type": "code",
   "execution_count": 595,
   "metadata": {},
   "outputs": [],
   "source": [
    "## Fill NA values with None for Home_Owner column of validation data.\n",
    "X_test['Home_Owner'].fillna('None',inplace=True)"
   ]
  },
  {
   "cell_type": "code",
   "execution_count": 596,
   "metadata": {},
   "outputs": [],
   "source": [
    "## Fill NA values with None for Home_Owner column of test data.\n",
    "test['Home_Owner'].fillna('None',inplace=True)"
   ]
  },
  {
   "cell_type": "code",
   "execution_count": 597,
   "metadata": {},
   "outputs": [],
   "source": [
    "## Fill NA values with mean of Annual_Income column for Annual_Income column of train data.\n",
    "X_train['Annual_Income'].fillna(X_train['Annual_Income'].mean(),inplace=True)"
   ]
  },
  {
   "cell_type": "code",
   "execution_count": 598,
   "metadata": {},
   "outputs": [],
   "source": [
    "## Fill NA values with mean of Annual_Income column for Annual_Income column of validation data.\n",
    "X_test['Annual_Income'].fillna(X_test['Annual_Income'].mean(),inplace=True)"
   ]
  },
  {
   "cell_type": "code",
   "execution_count": 599,
   "metadata": {},
   "outputs": [],
   "source": [
    "## Fill NA values with mean of Annual_Income column for Annual_Income column of test data.\n",
    "test['Annual_Income'].fillna(test['Annual_Income'].mean(),inplace=True)"
   ]
  },
  {
   "cell_type": "code",
   "execution_count": 600,
   "metadata": {},
   "outputs": [],
   "source": [
    "## Fill NA values with mean of Months_Since_Deliquency column for Months_Since_Deliquency column of train data.\n",
    "X_train['Months_Since_Deliquency'].fillna(X_train['Months_Since_Deliquency'].mean(),inplace=True)"
   ]
  },
  {
   "cell_type": "code",
   "execution_count": 601,
   "metadata": {},
   "outputs": [],
   "source": [
    "## Fill NA values with mean of Months_Since_Deliquency column for Months_Since_Deliquency column of validation data.\n",
    "X_test['Months_Since_Deliquency'].fillna(X_test['Months_Since_Deliquency'].mean(),inplace=True)"
   ]
  },
  {
   "cell_type": "code",
   "execution_count": 602,
   "metadata": {},
   "outputs": [],
   "source": [
    "## Fill NA values with mean of Months_Since_Deliquency column for Months_Since_Deliquency column of test data.\n",
    "test['Months_Since_Deliquency'].fillna(test['Months_Since_Deliquency'].mean(),inplace=True)"
   ]
  },
  {
   "cell_type": "code",
   "execution_count": 603,
   "metadata": {
    "scrolled": true
   },
   "outputs": [
    {
     "data": {
      "text/plain": [
       "Loan_Amount_Requested      0\n",
       "Length_Employed            0\n",
       "Home_Owner                 0\n",
       "Annual_Income              0\n",
       "Income_Verified            0\n",
       "Purpose_Of_Loan            0\n",
       "Debt_To_Income             0\n",
       "Inquiries_Last_6Mo         0\n",
       "Months_Since_Deliquency    0\n",
       "Number_Open_Accounts       0\n",
       "Total_Accounts             0\n",
       "Gender                     0\n",
       "dtype: int64"
      ]
     },
     "execution_count": 603,
     "metadata": {},
     "output_type": "execute_result"
    }
   ],
   "source": [
    "## Check null/NA values for train data.\n",
    "X_train.isna().sum()"
   ]
  },
  {
   "cell_type": "code",
   "execution_count": 604,
   "metadata": {},
   "outputs": [
    {
     "data": {
      "text/plain": [
       "Loan_Amount_Requested      0\n",
       "Length_Employed            0\n",
       "Home_Owner                 0\n",
       "Annual_Income              0\n",
       "Income_Verified            0\n",
       "Purpose_Of_Loan            0\n",
       "Debt_To_Income             0\n",
       "Inquiries_Last_6Mo         0\n",
       "Months_Since_Deliquency    0\n",
       "Number_Open_Accounts       0\n",
       "Total_Accounts             0\n",
       "Gender                     0\n",
       "dtype: int64"
      ]
     },
     "execution_count": 604,
     "metadata": {},
     "output_type": "execute_result"
    }
   ],
   "source": [
    "## Check null/NA values for validation data.\n",
    "X_test.isna().sum()"
   ]
  },
  {
   "cell_type": "code",
   "execution_count": 605,
   "metadata": {},
   "outputs": [
    {
     "data": {
      "text/plain": [
       "Loan_Amount_Requested      0\n",
       "Length_Employed            0\n",
       "Home_Owner                 0\n",
       "Annual_Income              0\n",
       "Income_Verified            0\n",
       "Purpose_Of_Loan            0\n",
       "Debt_To_Income             0\n",
       "Inquiries_Last_6Mo         0\n",
       "Months_Since_Deliquency    0\n",
       "Number_Open_Accounts       0\n",
       "Total_Accounts             0\n",
       "Gender                     0\n",
       "dtype: int64"
      ]
     },
     "execution_count": 605,
     "metadata": {},
     "output_type": "execute_result"
    }
   ],
   "source": [
    "## Check null/NA values for test data.\n",
    "test.isna().sum()"
   ]
  },
  {
   "cell_type": "code",
   "execution_count": 606,
   "metadata": {},
   "outputs": [
    {
     "data": {
      "text/plain": [
       "Loan_Amount_Requested       float64\n",
       "Length_Employed            category\n",
       "Home_Owner                 category\n",
       "Annual_Income               float64\n",
       "Income_Verified            category\n",
       "Purpose_Of_Loan            category\n",
       "Debt_To_Income              float64\n",
       "Inquiries_Last_6Mo            int64\n",
       "Months_Since_Deliquency     float64\n",
       "Number_Open_Accounts          int64\n",
       "Total_Accounts                int64\n",
       "Gender                     category\n",
       "dtype: object"
      ]
     },
     "execution_count": 606,
     "metadata": {},
     "output_type": "execute_result"
    }
   ],
   "source": [
    "## Check data types for train data.\n",
    "X_train.dtypes"
   ]
  },
  {
   "cell_type": "code",
   "execution_count": 607,
   "metadata": {},
   "outputs": [
    {
     "data": {
      "text/plain": [
       "[10, 2, 3, 1, 5, ..., 4, 8, Unknown, 9, 6]\n",
       "Length: 12\n",
       "Categories (12, object): [10, 2, 3, 1, ..., 8, Unknown, 9, 6]"
      ]
     },
     "execution_count": 607,
     "metadata": {},
     "output_type": "execute_result"
    }
   ],
   "source": [
    "## Get unique values for Length_Employed column.\n",
    "X_train['Length_Employed'].unique()"
   ]
  },
  {
   "cell_type": "code",
   "execution_count": 608,
   "metadata": {},
   "outputs": [],
   "source": [
    "## Instantiate Label Encoder.\n",
    "le_experience = LabelEncoder()\n",
    "le_interest_rate = LabelEncoder()"
   ]
  },
  {
   "cell_type": "code",
   "execution_count": 609,
   "metadata": {},
   "outputs": [],
   "source": [
    "## Do label encoding for Length_Employed of train data.\n",
    "X_train['Length_Employed'] = le_experience.fit_transform(X_train['Length_Employed'])"
   ]
  },
  {
   "cell_type": "code",
   "execution_count": 610,
   "metadata": {},
   "outputs": [],
   "source": [
    "## Do label encoding for Length_Employed of validation data.\n",
    "X_test['Length_Employed'] = le_experience.transform(X_test['Length_Employed'])"
   ]
  },
  {
   "cell_type": "code",
   "execution_count": 611,
   "metadata": {},
   "outputs": [],
   "source": [
    "## Do label encoding for Length_Employed of test data.\n",
    "test['Length_Employed'] = le_experience.transform(test['Length_Employed'])"
   ]
  },
  {
   "cell_type": "code",
   "execution_count": 612,
   "metadata": {},
   "outputs": [],
   "source": [
    "## Do label encoding for traget column of train data.\n",
    "y_train = le_interest_rate.fit_transform(y_train)"
   ]
  },
  {
   "cell_type": "code",
   "execution_count": 613,
   "metadata": {},
   "outputs": [],
   "source": [
    "## Do label encoding for traget column of validation data.\n",
    "y_test = le_interest_rate.transform(y_test)"
   ]
  },
  {
   "cell_type": "code",
   "execution_count": null,
   "metadata": {},
   "outputs": [],
   "source": [
    "## Store train data category columns data into X_train_dummy_cat.\n",
    "X_train_dummy_cat = X_train[['Home_Owner','Income_Verified','Purpose_Of_Loan','Gender']]"
   ]
  },
  {
   "cell_type": "code",
   "execution_count": 615,
   "metadata": {},
   "outputs": [],
   "source": [
    "## Get Dummies for train data category columns.\n",
    "X_train_dummy_cat = pd.get_dummies(columns = ['Home_Owner','Income_Verified','Purpose_Of_Loan','Gender'], data = X_train_dummy_cat, drop_first= True)"
   ]
  },
  {
   "cell_type": "code",
   "execution_count": 616,
   "metadata": {},
   "outputs": [],
   "source": [
    "## Store validation data category columns data into X_test_dummy_cat.\n",
    "X_test_dummy_cat = X_test[['Home_Owner','Income_Verified','Purpose_Of_Loan','Gender']]"
   ]
  },
  {
   "cell_type": "code",
   "execution_count": 617,
   "metadata": {},
   "outputs": [],
   "source": [
    "## Get Dummies for validation data category columns.\n",
    "X_test_dummy_cat = pd.get_dummies(columns = ['Home_Owner','Income_Verified','Purpose_Of_Loan','Gender'], data = X_test_dummy_cat, drop_first= True)"
   ]
  },
  {
   "cell_type": "code",
   "execution_count": 618,
   "metadata": {
    "scrolled": false
   },
   "outputs": [
    {
     "data": {
      "text/html": [
       "<div>\n",
       "<style scoped>\n",
       "    .dataframe tbody tr th:only-of-type {\n",
       "        vertical-align: middle;\n",
       "    }\n",
       "\n",
       "    .dataframe tbody tr th {\n",
       "        vertical-align: top;\n",
       "    }\n",
       "\n",
       "    .dataframe thead th {\n",
       "        text-align: right;\n",
       "    }\n",
       "</style>\n",
       "<table border=\"1\" class=\"dataframe\">\n",
       "  <thead>\n",
       "    <tr style=\"text-align: right;\">\n",
       "      <th></th>\n",
       "      <th>Home_Owner_None</th>\n",
       "      <th>Home_Owner_Other</th>\n",
       "      <th>Home_Owner_Own</th>\n",
       "      <th>Home_Owner_Rent</th>\n",
       "      <th>Income_Verified_VERIFIED - income source</th>\n",
       "      <th>Income_Verified_not verified</th>\n",
       "      <th>Purpose_Of_Loan_credit_card</th>\n",
       "      <th>Purpose_Of_Loan_debt_consolidation</th>\n",
       "      <th>Purpose_Of_Loan_educational</th>\n",
       "      <th>Purpose_Of_Loan_home_improvement</th>\n",
       "      <th>Purpose_Of_Loan_house</th>\n",
       "      <th>Purpose_Of_Loan_major_purchase</th>\n",
       "      <th>Purpose_Of_Loan_medical</th>\n",
       "      <th>Purpose_Of_Loan_moving</th>\n",
       "      <th>Purpose_Of_Loan_other</th>\n",
       "      <th>Purpose_Of_Loan_renewable_energy</th>\n",
       "      <th>Purpose_Of_Loan_small_business</th>\n",
       "      <th>Purpose_Of_Loan_vacation</th>\n",
       "      <th>Purpose_Of_Loan_wedding</th>\n",
       "      <th>Gender_Male</th>\n",
       "    </tr>\n",
       "    <tr>\n",
       "      <th>Loan_ID</th>\n",
       "      <th></th>\n",
       "      <th></th>\n",
       "      <th></th>\n",
       "      <th></th>\n",
       "      <th></th>\n",
       "      <th></th>\n",
       "      <th></th>\n",
       "      <th></th>\n",
       "      <th></th>\n",
       "      <th></th>\n",
       "      <th></th>\n",
       "      <th></th>\n",
       "      <th></th>\n",
       "      <th></th>\n",
       "      <th></th>\n",
       "      <th></th>\n",
       "      <th></th>\n",
       "      <th></th>\n",
       "      <th></th>\n",
       "      <th></th>\n",
       "    </tr>\n",
       "  </thead>\n",
       "  <tbody>\n",
       "    <tr>\n",
       "      <th>10086865</th>\n",
       "      <td>1</td>\n",
       "      <td>0</td>\n",
       "      <td>0</td>\n",
       "      <td>0</td>\n",
       "      <td>0</td>\n",
       "      <td>0</td>\n",
       "      <td>0</td>\n",
       "      <td>1</td>\n",
       "      <td>0</td>\n",
       "      <td>0</td>\n",
       "      <td>0</td>\n",
       "      <td>0</td>\n",
       "      <td>0</td>\n",
       "      <td>0</td>\n",
       "      <td>0</td>\n",
       "      <td>0</td>\n",
       "      <td>0</td>\n",
       "      <td>0</td>\n",
       "      <td>0</td>\n",
       "      <td>1</td>\n",
       "    </tr>\n",
       "  </tbody>\n",
       "</table>\n",
       "</div>"
      ],
      "text/plain": [
       "          Home_Owner_None  Home_Owner_Other  Home_Owner_Own  Home_Owner_Rent  \\\n",
       "Loan_ID                                                                        \n",
       "10086865                1                 0               0                0   \n",
       "\n",
       "          Income_Verified_VERIFIED - income source  \\\n",
       "Loan_ID                                              \n",
       "10086865                                         0   \n",
       "\n",
       "          Income_Verified_not verified  Purpose_Of_Loan_credit_card  \\\n",
       "Loan_ID                                                               \n",
       "10086865                             0                            0   \n",
       "\n",
       "          Purpose_Of_Loan_debt_consolidation  Purpose_Of_Loan_educational  \\\n",
       "Loan_ID                                                                     \n",
       "10086865                                   1                            0   \n",
       "\n",
       "          Purpose_Of_Loan_home_improvement  Purpose_Of_Loan_house  \\\n",
       "Loan_ID                                                             \n",
       "10086865                                 0                      0   \n",
       "\n",
       "          Purpose_Of_Loan_major_purchase  Purpose_Of_Loan_medical  \\\n",
       "Loan_ID                                                             \n",
       "10086865                               0                        0   \n",
       "\n",
       "          Purpose_Of_Loan_moving  Purpose_Of_Loan_other  \\\n",
       "Loan_ID                                                   \n",
       "10086865                       0                      0   \n",
       "\n",
       "          Purpose_Of_Loan_renewable_energy  Purpose_Of_Loan_small_business  \\\n",
       "Loan_ID                                                                      \n",
       "10086865                                 0                               0   \n",
       "\n",
       "          Purpose_Of_Loan_vacation  Purpose_Of_Loan_wedding  Gender_Male  \n",
       "Loan_ID                                                                   \n",
       "10086865                         0                        0            1  "
      ]
     },
     "execution_count": 618,
     "metadata": {},
     "output_type": "execute_result"
    }
   ],
   "source": [
    "## Check first record of validation data after doing dummies.\n",
    "X_test_dummy_cat.head(1)"
   ]
  },
  {
   "cell_type": "code",
   "execution_count": 619,
   "metadata": {},
   "outputs": [],
   "source": [
    "## Store test data category columns data into test_dummy_cat.\n",
    "test_dummy_cat = test[['Home_Owner','Income_Verified','Purpose_Of_Loan','Gender']]"
   ]
  },
  {
   "cell_type": "code",
   "execution_count": 620,
   "metadata": {},
   "outputs": [],
   "source": [
    "## Get Dummies for test data category columns.\n",
    "test_dummy_cat = pd.get_dummies(columns = ['Home_Owner','Income_Verified','Purpose_Of_Loan','Gender'], data = test_dummy_cat, drop_first= True)"
   ]
  },
  {
   "cell_type": "code",
   "execution_count": 621,
   "metadata": {},
   "outputs": [],
   "source": [
    "## Drop repeating columns in train data.\n",
    "X_train.drop(['Home_Owner','Income_Verified','Purpose_Of_Loan','Gender'],axis=1,inplace=True)"
   ]
  },
  {
   "cell_type": "code",
   "execution_count": 622,
   "metadata": {},
   "outputs": [],
   "source": [
    "## Drop repeating columns in validation data.\n",
    "X_test.drop(['Home_Owner','Income_Verified','Purpose_Of_Loan','Gender'],axis=1,inplace=True)"
   ]
  },
  {
   "cell_type": "code",
   "execution_count": 623,
   "metadata": {},
   "outputs": [],
   "source": [
    "## Drop repeating columns in test data.\n",
    "test.drop(['Home_Owner','Income_Verified','Purpose_Of_Loan','Gender'],axis=1,inplace=True)"
   ]
  },
  {
   "cell_type": "code",
   "execution_count": 624,
   "metadata": {},
   "outputs": [
    {
     "name": "stdout",
     "output_type": "stream",
     "text": [
      "(131447, 20)\n",
      "(32862, 20)\n",
      "(109541, 20)\n"
     ]
    }
   ],
   "source": [
    "## Check dimensions of dummies of train,validation,test data.\n",
    "print(X_train_dummy_cat.shape)\n",
    "print(X_test_dummy_cat.shape)\n",
    "print(test_dummy_cat.shape)"
   ]
  },
  {
   "cell_type": "code",
   "execution_count": 625,
   "metadata": {},
   "outputs": [
    {
     "name": "stdout",
     "output_type": "stream",
     "text": [
      "(131447, 8)\n",
      "(32862, 8)\n",
      "(109541, 8)\n"
     ]
    }
   ],
   "source": [
    "## Check dimensions of train,validation,test data.\n",
    "print(X_train.shape)\n",
    "print(X_test.shape)\n",
    "print(test.shape)"
   ]
  },
  {
   "cell_type": "code",
   "execution_count": 626,
   "metadata": {},
   "outputs": [],
   "source": [
    "## Concat dummies with remaining train columns.\n",
    "train_data = pd.concat([X_train, X_train_dummy_cat], axis=1,sort=False)"
   ]
  },
  {
   "cell_type": "code",
   "execution_count": 627,
   "metadata": {},
   "outputs": [],
   "source": [
    "## Concat dummies with remaining validation columns.\n",
    "validation_data = pd.concat([X_test, X_test_dummy_cat], axis=1,sort=False)"
   ]
  },
  {
   "cell_type": "code",
   "execution_count": 628,
   "metadata": {},
   "outputs": [],
   "source": [
    "## Concat dummies with remaining test columns.\n",
    "test_data = pd.concat([test, test_dummy_cat], axis=1,sort=False)"
   ]
  },
  {
   "cell_type": "code",
   "execution_count": 629,
   "metadata": {},
   "outputs": [],
   "source": [
    "## Create a data frame for traget varible.\n",
    "temp = pd.DataFrame(y_train)"
   ]
  },
  {
   "cell_type": "code",
   "execution_count": 630,
   "metadata": {
    "scrolled": true
   },
   "outputs": [
    {
     "data": {
      "text/plain": [
       "0    0\n",
       "dtype: int64"
      ]
     },
     "execution_count": 630,
     "metadata": {},
     "output_type": "execute_result"
    }
   ],
   "source": [
    "## Check null values for target varible.\n",
    "temp.isna().sum()"
   ]
  },
  {
   "cell_type": "code",
   "execution_count": 631,
   "metadata": {
    "scrolled": true
   },
   "outputs": [
    {
     "data": {
      "text/plain": [
       "Index(['Loan_Amount_Requested', 'Length_Employed', 'Annual_Income',\n",
       "       'Debt_To_Income', 'Inquiries_Last_6Mo', 'Months_Since_Deliquency',\n",
       "       'Number_Open_Accounts', 'Total_Accounts', 'Home_Owner_None',\n",
       "       'Home_Owner_Other', 'Home_Owner_Own', 'Home_Owner_Rent',\n",
       "       'Income_Verified_VERIFIED - income source',\n",
       "       'Income_Verified_not verified', 'Purpose_Of_Loan_credit_card',\n",
       "       'Purpose_Of_Loan_debt_consolidation', 'Purpose_Of_Loan_educational',\n",
       "       'Purpose_Of_Loan_home_improvement', 'Purpose_Of_Loan_house',\n",
       "       'Purpose_Of_Loan_major_purchase', 'Purpose_Of_Loan_medical',\n",
       "       'Purpose_Of_Loan_moving', 'Purpose_Of_Loan_other',\n",
       "       'Purpose_Of_Loan_renewable_energy', 'Purpose_Of_Loan_small_business',\n",
       "       'Purpose_Of_Loan_vacation', 'Purpose_Of_Loan_wedding', 'Gender_Male'],\n",
       "      dtype='object')"
      ]
     },
     "execution_count": 631,
     "metadata": {},
     "output_type": "execute_result"
    }
   ],
   "source": [
    "## Check column names for train data.\n",
    "train_data.columns"
   ]
  },
  {
   "cell_type": "code",
   "execution_count": 632,
   "metadata": {},
   "outputs": [],
   "source": [
    "## Copy test data into temp.\n",
    "temp = test_data.copy()"
   ]
  },
  {
   "cell_type": "code",
   "execution_count": 633,
   "metadata": {},
   "outputs": [],
   "source": [
    "#xgb = XGBClassifier() ## Instantiate XGBClassifier model\n",
    "\n",
    "#optimization_dict = {'max_depth': [2,3,4,5,6,7], ## trying with different max_depth,n_estimators to find best model\n",
    "#                     'n_estimators': [50,60,70,80,90,100,150,200]} \n",
    "\n",
    "## Build best model with Grid Search params\n",
    "#model = GridSearchCV(xgb, ## XGB model\n",
    "#                     optimization_dict, ## dictory with different max_depth,n_estimators\n",
    "#                     scoring='accuracy', ## on which parameter we are interested\n",
    "#                     verbose=1, ## for messaging purpose\n",
    "#                     n_jobs=-1) ## Number of jobs to run in parallel. ''-1' means use all processors\n",
    "\n",
    "#%time model.fit(train_data, y_train) ## Fit a model\n",
    "#print(model.best_score_) ## Display best score calues\n",
    "#print(model.best_params_) ## Display best parameters"
   ]
  },
  {
   "cell_type": "code",
   "execution_count": 634,
   "metadata": {},
   "outputs": [
    {
     "name": "stdout",
     "output_type": "stream",
     "text": [
      "Wall time: 5min 13s\n"
     ]
    },
    {
     "data": {
      "text/plain": [
       "XGBClassifier(base_score=0.5, booster='gbtree', colsample_bylevel=1,\n",
       "              colsample_bynode=1, colsample_bytree=1, gamma=0,\n",
       "              learning_rate=0.001, max_delta_step=0, max_depth=6,\n",
       "              min_child_weight=1, missing=None, n_estimators=200, n_jobs=1,\n",
       "              nthread=None, objective='multi:softprob', random_state=1234,\n",
       "              reg_alpha=0, reg_lambda=1, scale_pos_weight=1, seed=None,\n",
       "              silent=None, subsample=1, verbosity=1)"
      ]
     },
     "execution_count": 634,
     "metadata": {},
     "output_type": "execute_result"
    }
   ],
   "source": [
    "## Build a model with best params which we were found after grid search CV (above code).\n",
    "model = XGBClassifier(max_depth=6,           ## Depth of the tree.\n",
    "                      n_estimators=200,      ## number of trees.\n",
    "                      learning_rate = 0.001, ## learning rate.\n",
    "                      booster ='gbtree',     ## tree type.\n",
    "                      random_state=1234)     ## seed value.\n",
    "## Fit a model.\n",
    "%time model.fit(train_data, y_train)"
   ]
  },
  {
   "cell_type": "code",
   "execution_count": 635,
   "metadata": {},
   "outputs": [],
   "source": [
    "## Get the predictions on train data.\n",
    "train_pred = model.predict(train_data)"
   ]
  },
  {
   "cell_type": "code",
   "execution_count": 636,
   "metadata": {},
   "outputs": [
    {
     "name": "stdout",
     "output_type": "stream",
     "text": [
      "Train Accuracy : 0.5115065387570655\n"
     ]
    }
   ],
   "source": [
    "## Display accuracy value for train data.\n",
    "print(\"Train Accuracy :\",accuracy_score(y_train,train_pred))"
   ]
  },
  {
   "cell_type": "code",
   "execution_count": 637,
   "metadata": {},
   "outputs": [],
   "source": [
    "## Get the predictions on validation data.\n",
    "validation_pred = model.predict(validation_data)"
   ]
  },
  {
   "cell_type": "code",
   "execution_count": 638,
   "metadata": {},
   "outputs": [
    {
     "name": "stdout",
     "output_type": "stream",
     "text": [
      "Validation Accuracy : 0.5079727344653399\n"
     ]
    }
   ],
   "source": [
    "## Display  accuracy value for validation data.\n",
    "print(\"Validation Accuracy :\",accuracy_score(y_test,validation_pred))"
   ]
  },
  {
   "cell_type": "code",
   "execution_count": 639,
   "metadata": {},
   "outputs": [
    {
     "name": "stdout",
     "output_type": "stream",
     "text": [
      "[[ 3137 19081  4864]\n",
      " [ 2060 39071 15417]\n",
      " [  566 22223 25028]]\n"
     ]
    }
   ],
   "source": [
    "## Get the confusion matrix for train data.\n",
    "confusion_matrix_train = confusion_matrix(y_train, train_pred)\n",
    "print(confusion_matrix_train)"
   ]
  },
  {
   "cell_type": "code",
   "execution_count": 640,
   "metadata": {},
   "outputs": [
    {
     "name": "stdout",
     "output_type": "stream",
     "text": [
      "[[ 739 4732 1253]\n",
      " [ 523 9607 3902]\n",
      " [ 134 5625 6347]]\n"
     ]
    }
   ],
   "source": [
    "## Get the confusion matrix for validation data.\n",
    "confusion_matrix_test = confusion_matrix(y_test, validation_pred)\n",
    "print(confusion_matrix_test)"
   ]
  },
  {
   "cell_type": "code",
   "execution_count": 641,
   "metadata": {},
   "outputs": [],
   "source": [
    "## Get the predictions on test data.\n",
    "y_pred = model.predict(temp)"
   ]
  },
  {
   "cell_type": "code",
   "execution_count": 642,
   "metadata": {},
   "outputs": [
    {
     "data": {
      "text/plain": [
       "array([1, 0, 2, ..., 1, 2, 1], dtype=int64)"
      ]
     },
     "execution_count": 642,
     "metadata": {},
     "output_type": "execute_result"
    }
   ],
   "source": [
    "## Display predictions.\n",
    "y_pred"
   ]
  },
  {
   "cell_type": "code",
   "execution_count": 643,
   "metadata": {},
   "outputs": [],
   "source": [
    "## Copy temp values to temp1.\n",
    "temp1 = temp.copy()"
   ]
  },
  {
   "cell_type": "code",
   "execution_count": 644,
   "metadata": {},
   "outputs": [
    {
     "data": {
      "text/html": [
       "<div>\n",
       "<style scoped>\n",
       "    .dataframe tbody tr th:only-of-type {\n",
       "        vertical-align: middle;\n",
       "    }\n",
       "\n",
       "    .dataframe tbody tr th {\n",
       "        vertical-align: top;\n",
       "    }\n",
       "\n",
       "    .dataframe thead th {\n",
       "        text-align: right;\n",
       "    }\n",
       "</style>\n",
       "<table border=\"1\" class=\"dataframe\">\n",
       "  <thead>\n",
       "    <tr style=\"text-align: right;\">\n",
       "      <th></th>\n",
       "      <th>Loan_Amount_Requested</th>\n",
       "      <th>Length_Employed</th>\n",
       "      <th>Annual_Income</th>\n",
       "      <th>Debt_To_Income</th>\n",
       "      <th>Inquiries_Last_6Mo</th>\n",
       "      <th>Months_Since_Deliquency</th>\n",
       "      <th>Number_Open_Accounts</th>\n",
       "      <th>Total_Accounts</th>\n",
       "      <th>Home_Owner_None</th>\n",
       "      <th>Home_Owner_Other</th>\n",
       "      <th>...</th>\n",
       "      <th>Purpose_Of_Loan_house</th>\n",
       "      <th>Purpose_Of_Loan_major_purchase</th>\n",
       "      <th>Purpose_Of_Loan_medical</th>\n",
       "      <th>Purpose_Of_Loan_moving</th>\n",
       "      <th>Purpose_Of_Loan_other</th>\n",
       "      <th>Purpose_Of_Loan_renewable_energy</th>\n",
       "      <th>Purpose_Of_Loan_small_business</th>\n",
       "      <th>Purpose_Of_Loan_vacation</th>\n",
       "      <th>Purpose_Of_Loan_wedding</th>\n",
       "      <th>Gender_Male</th>\n",
       "    </tr>\n",
       "    <tr>\n",
       "      <th>Loan_ID</th>\n",
       "      <th></th>\n",
       "      <th></th>\n",
       "      <th></th>\n",
       "      <th></th>\n",
       "      <th></th>\n",
       "      <th></th>\n",
       "      <th></th>\n",
       "      <th></th>\n",
       "      <th></th>\n",
       "      <th></th>\n",
       "      <th></th>\n",
       "      <th></th>\n",
       "      <th></th>\n",
       "      <th></th>\n",
       "      <th></th>\n",
       "      <th></th>\n",
       "      <th></th>\n",
       "      <th></th>\n",
       "      <th></th>\n",
       "      <th></th>\n",
       "      <th></th>\n",
       "    </tr>\n",
       "  </thead>\n",
       "  <tbody>\n",
       "    <tr>\n",
       "      <th>10164310</th>\n",
       "      <td>27500.0</td>\n",
       "      <td>2</td>\n",
       "      <td>129000.0</td>\n",
       "      <td>12.87</td>\n",
       "      <td>0</td>\n",
       "      <td>68.000000</td>\n",
       "      <td>10</td>\n",
       "      <td>37</td>\n",
       "      <td>0</td>\n",
       "      <td>0</td>\n",
       "      <td>...</td>\n",
       "      <td>0</td>\n",
       "      <td>0</td>\n",
       "      <td>0</td>\n",
       "      <td>0</td>\n",
       "      <td>0</td>\n",
       "      <td>0</td>\n",
       "      <td>0</td>\n",
       "      <td>0</td>\n",
       "      <td>0</td>\n",
       "      <td>1</td>\n",
       "    </tr>\n",
       "    <tr>\n",
       "      <th>10164311</th>\n",
       "      <td>26000.0</td>\n",
       "      <td>2</td>\n",
       "      <td>110000.0</td>\n",
       "      <td>11.37</td>\n",
       "      <td>0</td>\n",
       "      <td>33.914684</td>\n",
       "      <td>6</td>\n",
       "      <td>23</td>\n",
       "      <td>1</td>\n",
       "      <td>0</td>\n",
       "      <td>...</td>\n",
       "      <td>0</td>\n",
       "      <td>0</td>\n",
       "      <td>0</td>\n",
       "      <td>0</td>\n",
       "      <td>0</td>\n",
       "      <td>0</td>\n",
       "      <td>0</td>\n",
       "      <td>0</td>\n",
       "      <td>0</td>\n",
       "      <td>1</td>\n",
       "    </tr>\n",
       "    <tr>\n",
       "      <th>10164312</th>\n",
       "      <td>6075.0</td>\n",
       "      <td>0</td>\n",
       "      <td>75000.0</td>\n",
       "      <td>6.83</td>\n",
       "      <td>2</td>\n",
       "      <td>33.914684</td>\n",
       "      <td>5</td>\n",
       "      <td>20</td>\n",
       "      <td>0</td>\n",
       "      <td>0</td>\n",
       "      <td>...</td>\n",
       "      <td>0</td>\n",
       "      <td>0</td>\n",
       "      <td>0</td>\n",
       "      <td>0</td>\n",
       "      <td>0</td>\n",
       "      <td>0</td>\n",
       "      <td>0</td>\n",
       "      <td>0</td>\n",
       "      <td>0</td>\n",
       "      <td>1</td>\n",
       "    </tr>\n",
       "    <tr>\n",
       "      <th>10164313</th>\n",
       "      <td>12000.0</td>\n",
       "      <td>2</td>\n",
       "      <td>73000.0</td>\n",
       "      <td>7.76</td>\n",
       "      <td>0</td>\n",
       "      <td>33.914684</td>\n",
       "      <td>6</td>\n",
       "      <td>8</td>\n",
       "      <td>0</td>\n",
       "      <td>0</td>\n",
       "      <td>...</td>\n",
       "      <td>0</td>\n",
       "      <td>0</td>\n",
       "      <td>0</td>\n",
       "      <td>0</td>\n",
       "      <td>0</td>\n",
       "      <td>0</td>\n",
       "      <td>0</td>\n",
       "      <td>0</td>\n",
       "      <td>0</td>\n",
       "      <td>1</td>\n",
       "    </tr>\n",
       "    <tr>\n",
       "      <th>10164314</th>\n",
       "      <td>35000.0</td>\n",
       "      <td>0</td>\n",
       "      <td>156000.0</td>\n",
       "      <td>9.62</td>\n",
       "      <td>0</td>\n",
       "      <td>26.000000</td>\n",
       "      <td>9</td>\n",
       "      <td>21</td>\n",
       "      <td>0</td>\n",
       "      <td>0</td>\n",
       "      <td>...</td>\n",
       "      <td>0</td>\n",
       "      <td>0</td>\n",
       "      <td>0</td>\n",
       "      <td>0</td>\n",
       "      <td>0</td>\n",
       "      <td>0</td>\n",
       "      <td>0</td>\n",
       "      <td>0</td>\n",
       "      <td>0</td>\n",
       "      <td>1</td>\n",
       "    </tr>\n",
       "  </tbody>\n",
       "</table>\n",
       "<p>5 rows × 28 columns</p>\n",
       "</div>"
      ],
      "text/plain": [
       "          Loan_Amount_Requested  Length_Employed  Annual_Income  \\\n",
       "Loan_ID                                                           \n",
       "10164310                27500.0                2       129000.0   \n",
       "10164311                26000.0                2       110000.0   \n",
       "10164312                 6075.0                0        75000.0   \n",
       "10164313                12000.0                2        73000.0   \n",
       "10164314                35000.0                0       156000.0   \n",
       "\n",
       "          Debt_To_Income  Inquiries_Last_6Mo  Months_Since_Deliquency  \\\n",
       "Loan_ID                                                                 \n",
       "10164310           12.87                   0                68.000000   \n",
       "10164311           11.37                   0                33.914684   \n",
       "10164312            6.83                   2                33.914684   \n",
       "10164313            7.76                   0                33.914684   \n",
       "10164314            9.62                   0                26.000000   \n",
       "\n",
       "          Number_Open_Accounts  Total_Accounts  Home_Owner_None  \\\n",
       "Loan_ID                                                           \n",
       "10164310                    10              37                0   \n",
       "10164311                     6              23                1   \n",
       "10164312                     5              20                0   \n",
       "10164313                     6               8                0   \n",
       "10164314                     9              21                0   \n",
       "\n",
       "          Home_Owner_Other  ...  Purpose_Of_Loan_house  \\\n",
       "Loan_ID                     ...                          \n",
       "10164310                 0  ...                      0   \n",
       "10164311                 0  ...                      0   \n",
       "10164312                 0  ...                      0   \n",
       "10164313                 0  ...                      0   \n",
       "10164314                 0  ...                      0   \n",
       "\n",
       "          Purpose_Of_Loan_major_purchase  Purpose_Of_Loan_medical  \\\n",
       "Loan_ID                                                             \n",
       "10164310                               0                        0   \n",
       "10164311                               0                        0   \n",
       "10164312                               0                        0   \n",
       "10164313                               0                        0   \n",
       "10164314                               0                        0   \n",
       "\n",
       "          Purpose_Of_Loan_moving  Purpose_Of_Loan_other  \\\n",
       "Loan_ID                                                   \n",
       "10164310                       0                      0   \n",
       "10164311                       0                      0   \n",
       "10164312                       0                      0   \n",
       "10164313                       0                      0   \n",
       "10164314                       0                      0   \n",
       "\n",
       "          Purpose_Of_Loan_renewable_energy  Purpose_Of_Loan_small_business  \\\n",
       "Loan_ID                                                                      \n",
       "10164310                                 0                               0   \n",
       "10164311                                 0                               0   \n",
       "10164312                                 0                               0   \n",
       "10164313                                 0                               0   \n",
       "10164314                                 0                               0   \n",
       "\n",
       "          Purpose_Of_Loan_vacation  Purpose_Of_Loan_wedding  Gender_Male  \n",
       "Loan_ID                                                                   \n",
       "10164310                         0                        0            1  \n",
       "10164311                         0                        0            1  \n",
       "10164312                         0                        0            1  \n",
       "10164313                         0                        0            1  \n",
       "10164314                         0                        0            1  \n",
       "\n",
       "[5 rows x 28 columns]"
      ]
     },
     "execution_count": 644,
     "metadata": {},
     "output_type": "execute_result"
    }
   ],
   "source": [
    "## Check first 5 records of temp1.\n",
    "temp1.head()"
   ]
  },
  {
   "cell_type": "code",
   "execution_count": 645,
   "metadata": {},
   "outputs": [],
   "source": [
    "## Do inverse tranform on predictions to get it's original values.\n",
    "temp1['Interest_Rate'] = le_interest_rate.inverse_transform(y_pred)"
   ]
  },
  {
   "cell_type": "code",
   "execution_count": 646,
   "metadata": {},
   "outputs": [],
   "source": [
    "## Reset index value.\n",
    "temp1.reset_index(inplace=True)"
   ]
  },
  {
   "cell_type": "code",
   "execution_count": 647,
   "metadata": {},
   "outputs": [],
   "source": [
    "## Copy Loan_ID, Interest_Rate column data from temp1 o to_submit_1.\n",
    "to_submit_1 = temp1[['Loan_ID', 'Interest_Rate']]"
   ]
  },
  {
   "cell_type": "code",
   "execution_count": 648,
   "metadata": {},
   "outputs": [
    {
     "data": {
      "text/plain": [
       "(109541, 2)"
      ]
     },
     "execution_count": 648,
     "metadata": {},
     "output_type": "execute_result"
    }
   ],
   "source": [
    "## Check dimesnions of to_submit_1.\n",
    "to_submit_1.shape"
   ]
  },
  {
   "cell_type": "code",
   "execution_count": 649,
   "metadata": {},
   "outputs": [
    {
     "data": {
      "text/plain": [
       "(109541, 28)"
      ]
     },
     "execution_count": 649,
     "metadata": {},
     "output_type": "execute_result"
    }
   ],
   "source": [
    "## Check dimesnions of test data.\n",
    "test_data.shape"
   ]
  },
  {
   "cell_type": "code",
   "execution_count": 650,
   "metadata": {},
   "outputs": [
    {
     "data": {
      "text/plain": [
       "2    71330\n",
       "3    36342\n",
       "1     1869\n",
       "Name: Interest_Rate, dtype: int64"
      ]
     },
     "execution_count": 650,
     "metadata": {},
     "output_type": "execute_result"
    }
   ],
   "source": [
    "## Check value counts for Interest_Rate column of to_submit_1.\n",
    "to_submit_1.Interest_Rate.value_counts()"
   ]
  },
  {
   "cell_type": "code",
   "execution_count": 651,
   "metadata": {},
   "outputs": [],
   "source": [
    "## Store to_submit_1 into csv file with name XGBoost. \n",
    "to_submit_1.to_csv('XGBoost.csv',index = False)"
   ]
  },
  {
   "cell_type": "code",
   "execution_count": 4,
   "metadata": {},
   "outputs": [],
   "source": [
    "## Build different classifier models."
   ]
  },
  {
   "cell_type": "code",
   "execution_count": 653,
   "metadata": {},
   "outputs": [],
   "source": [
    "## Instantiate KNN model.\n",
    "## model = KNeighborsClassifier(algorithm = 'brute', n_neighbors = 3,metric = \"euclidean\")"
   ]
  },
  {
   "cell_type": "code",
   "execution_count": 654,
   "metadata": {},
   "outputs": [],
   "source": [
    "## Instantiate Navie Bayes Model.\n",
    "## model = GaussianNB()"
   ]
  },
  {
   "cell_type": "code",
   "execution_count": 655,
   "metadata": {},
   "outputs": [],
   "source": [
    "## Instantiate Random forest Model.\n",
    "## model = RandomForestClassifier(n_estimators=200,max_depth=6,n_jobs=-1,class_weight = 'balanced') #class_weight = 'balanced'"
   ]
  },
  {
   "cell_type": "code",
   "execution_count": 676,
   "metadata": {},
   "outputs": [],
   "source": [
    "## Instantiate Bagging clasifier Model.\n",
    "## model  = BaggingClassifier(n_estimators=500)"
   ]
  },
  {
   "cell_type": "code",
   "execution_count": 692,
   "metadata": {},
   "outputs": [],
   "source": [
    "## Instantiate Adaboost Model.\n",
    "## model = AdaBoostClassifier(n_estimators=200,learning_rate=.001)"
   ]
  },
  {
   "cell_type": "code",
   "execution_count": 708,
   "metadata": {},
   "outputs": [],
   "source": [
    "## Instantiate Gradient boosting classifier Model.\n",
    "## model = GradientBoostingClassifier(n_estimators=200,learning_rate=0.01)"
   ]
  },
  {
   "cell_type": "code",
   "execution_count": 659,
   "metadata": {},
   "outputs": [],
   "source": [
    "## Instantiate SVC Model.\n",
    "## model = SVC(C=10,kernel='rbf')"
   ]
  },
  {
   "cell_type": "code",
   "execution_count": 660,
   "metadata": {},
   "outputs": [],
   "source": [
    "## Random forest gave best result comapre to different classifier models.\n",
    "model = RandomForestClassifier(n_estimators=2000,         ## The number of trees in the forest.\n",
    "                               max_depth=7,               ## The maximum depth of the tree.\n",
    "                               n_jobs=-1,                 ## The number of jobs to run in parallel. -1 means using all processors.\n",
    "                               class_weight = 'balanced', ## Weights associated with classes in the form.\n",
    "                               criterion='entropy')       ##The function to measure the quality of a split."
   ]
  },
  {
   "cell_type": "code",
   "execution_count": 709,
   "metadata": {},
   "outputs": [
    {
     "name": "stdout",
     "output_type": "stream",
     "text": [
      "Wall time: 4min 38s\n"
     ]
    },
    {
     "data": {
      "text/plain": [
       "GradientBoostingClassifier(ccp_alpha=0.0, criterion='friedman_mse', init=None,\n",
       "                           learning_rate=0.01, loss='deviance', max_depth=3,\n",
       "                           max_features=None, max_leaf_nodes=None,\n",
       "                           min_impurity_decrease=0.0, min_impurity_split=None,\n",
       "                           min_samples_leaf=1, min_samples_split=2,\n",
       "                           min_weight_fraction_leaf=0.0, n_estimators=200,\n",
       "                           n_iter_no_change=None, presort='deprecated',\n",
       "                           random_state=None, subsample=1.0, tol=0.0001,\n",
       "                           validation_fraction=0.1, verbose=0,\n",
       "                           warm_start=False)"
      ]
     },
     "execution_count": 709,
     "metadata": {},
     "output_type": "execute_result"
    }
   ],
   "source": [
    "## Fit a model.\n",
    "%time model.fit(train_data, y_train)"
   ]
  },
  {
   "cell_type": "code",
   "execution_count": 710,
   "metadata": {},
   "outputs": [],
   "source": [
    "## Get prediction on train and validation data.\n",
    "predict_train = model.predict(train_data)\n",
    "predict_validation = model.predict(validation_data)"
   ]
  },
  {
   "cell_type": "code",
   "execution_count": 711,
   "metadata": {},
   "outputs": [
    {
     "name": "stdout",
     "output_type": "stream",
     "text": [
      "Train Accuracy : 0.5058921086065106\n"
     ]
    }
   ],
   "source": [
    "## Display accuracy value for train data.\n",
    "print(\"Train Accuracy :\",accuracy_score(y_train,predict_train))"
   ]
  },
  {
   "cell_type": "code",
   "execution_count": 712,
   "metadata": {},
   "outputs": [
    {
     "name": "stdout",
     "output_type": "stream",
     "text": [
      "Validation Accuracy : 0.5056296025804881\n"
     ]
    }
   ],
   "source": [
    "## Display  accuracy value for validation data.\n",
    "print(\"Validation Accuracy :\",accuracy_score(y_test,predict_validation))"
   ]
  },
  {
   "cell_type": "code",
   "execution_count": 713,
   "metadata": {},
   "outputs": [
    {
     "name": "stdout",
     "output_type": "stream",
     "text": [
      "[[  432 22319  4331]\n",
      " [  160 41941 14447]\n",
      " [   50 23642 24125]]\n"
     ]
    }
   ],
   "source": [
    "## Get the confusion matrix for train data.\n",
    "confusion_matrix_train = confusion_matrix(y_train, predict_train)\n",
    "print(confusion_matrix_train)"
   ]
  },
  {
   "cell_type": "code",
   "execution_count": 714,
   "metadata": {},
   "outputs": [
    {
     "name": "stdout",
     "output_type": "stream",
     "text": [
      "[[  100  5508  1116]\n",
      " [   50 10371  3611]\n",
      " [    7  5954  6145]]\n"
     ]
    }
   ],
   "source": [
    "## Get the confusion matrix for validation data.\n",
    "confusion_matrix_validation = confusion_matrix(y_test, predict_validation)\n",
    "print(confusion_matrix_validation)"
   ]
  },
  {
   "cell_type": "code",
   "execution_count": 715,
   "metadata": {},
   "outputs": [],
   "source": [
    "## Get the predictions on test data.\n",
    "y_pred = model.predict(temp)"
   ]
  },
  {
   "cell_type": "code",
   "execution_count": 716,
   "metadata": {},
   "outputs": [],
   "source": [
    "## Copy temp data into temp1.\n",
    "temp1 = temp.copy()"
   ]
  },
  {
   "cell_type": "code",
   "execution_count": 717,
   "metadata": {},
   "outputs": [],
   "source": [
    "## Do inverse transform on predictions to get it's original values.\n",
    "temp1['Interest_Rate'] = le_interest_rate.inverse_transform(y_pred)"
   ]
  },
  {
   "cell_type": "code",
   "execution_count": 718,
   "metadata": {},
   "outputs": [],
   "source": [
    "## Reset the index value.\n",
    "temp1.reset_index(inplace=True)"
   ]
  },
  {
   "cell_type": "code",
   "execution_count": 719,
   "metadata": {},
   "outputs": [],
   "source": [
    "## Copy Loan_ID,Interest_Rate columns data from temp1 to to_submit_1.\n",
    "to_submit_1 = temp1[['Loan_ID', 'Interest_Rate']]"
   ]
  },
  {
   "cell_type": "code",
   "execution_count": 720,
   "metadata": {},
   "outputs": [
    {
     "data": {
      "text/plain": [
       "(109541, 2)"
      ]
     },
     "execution_count": 720,
     "metadata": {},
     "output_type": "execute_result"
    }
   ],
   "source": [
    "## Check dimensions of to_submit_1.\n",
    "to_submit_1.shape"
   ]
  },
  {
   "cell_type": "code",
   "execution_count": 721,
   "metadata": {},
   "outputs": [
    {
     "data": {
      "text/plain": [
       "(109541, 28)"
      ]
     },
     "execution_count": 721,
     "metadata": {},
     "output_type": "execute_result"
    }
   ],
   "source": [
    "## Check dimmensions of test data.\n",
    "test_data.shape"
   ]
  },
  {
   "cell_type": "code",
   "execution_count": 722,
   "metadata": {},
   "outputs": [
    {
     "data": {
      "text/plain": [
       "2    73869\n",
       "3    35628\n",
       "1       44\n",
       "Name: Interest_Rate, dtype: int64"
      ]
     },
     "execution_count": 722,
     "metadata": {},
     "output_type": "execute_result"
    }
   ],
   "source": [
    "## Check value counts for Interest_Rate column of to_submit_1.\n",
    "to_submit_1.Interest_Rate.value_counts()"
   ]
  },
  {
   "cell_type": "code",
   "execution_count": 723,
   "metadata": {},
   "outputs": [],
   "source": [
    "## Store to_submit_1 into csv file with name RadomForest. \n",
    "to_submit_1.to_csv('RadomForest.csv',index = False)"
   ]
  }
 ],
 "metadata": {
  "kernelspec": {
   "display_name": "Python 3",
   "language": "python",
   "name": "python3"
  },
  "language_info": {
   "codemirror_mode": {
    "name": "ipython",
    "version": 3
   },
   "file_extension": ".py",
   "mimetype": "text/x-python",
   "name": "python",
   "nbconvert_exporter": "python",
   "pygments_lexer": "ipython3",
   "version": "3.6.5"
  },
  "toc": {
   "base_numbering": 1,
   "nav_menu": {},
   "number_sections": true,
   "sideBar": true,
   "skip_h1_title": false,
   "title_cell": "Table of Contents",
   "title_sidebar": "Contents",
   "toc_cell": false,
   "toc_position": {},
   "toc_section_display": true,
   "toc_window_display": false
  }
 },
 "nbformat": 4,
 "nbformat_minor": 2
}
