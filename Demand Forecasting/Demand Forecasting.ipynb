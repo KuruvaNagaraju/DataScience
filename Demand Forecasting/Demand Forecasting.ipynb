{
 "cells": [
  {
   "cell_type": "markdown",
   "metadata": {},
   "source": [
    "## Problem Statement\n",
    "\n",
    "![](https://datahack-prod.s3.ap-south-1.amazonaws.com/__sized__/contest_cover/cover_1_3vEBqwk-thumbnail-1200x1200.png)\n",
    "\n",
    "One of the largest retail chains in the world wants to use their vast data source to build an efficient forecasting model to predict the sales for each SKU in its portfolio at its 76 different stores using historical sales data for the past 3 years on a week-on-week basis. Sales and promotional information is also available for each week - product and store wise. \n",
    "\n",
    "However, no other information regarding stores and products are available. Can you still forecast accurately the sales values for every such product/SKU-store combination for the next 12 weeks accurately? If yes, then dive right in!\n",
    "\n",
    "**Data Dictionary**\n",
    "\n",
    "| **Column**  | **Description** |\n",
    "| --- | --- |\n",
    "| record_ID | Unique ID for each week store sku combination |\n",
    "| week |  Starting Date of the week |\n",
    "| store_id | Unique ID for each store (no numerical order to be assumed) |\n",
    "| sku_id | Unique ID for each product (no numerical order to be assumed) |\n",
    "| total_price | Sales Price of the product |\n",
    "| base_price | Base price of the product |\n",
    "| is_featured_sku | Was part of the featured item of the week |\n",
    "| is_display_sku | Product was on display at a prominent place at the store |\n",
    "| units_sold | (Target) Total Units sold for that week-store-sku combination |\n",
    "\n",
    "**Evaluation Metric**\n",
    "\n",
    "The evaluation metric for this competition is 100*RMSLE (Root Mean Squared Log Error)."
   ]
  },
  {
   "cell_type": "code",
   "execution_count": 372,
   "metadata": {},
   "outputs": [],
   "source": [
    "## Import necessary Libraries.\n",
    "\n",
    "import pandas as pd ## Pandas Library (will use to load data,create data frame...etc).\n",
    "import numpy as np ## Numpy Library ( will use to convert data frame to array or creating array etc...).\n",
    "import os ## For connecting to machine to get path for reading/writing files.\n",
    "from sklearn.model_selection import train_test_split ## For splitting data into train and validation.\n",
    "from sklearn.preprocessing import LabelEncoder ## For label encoding(converting categorical values to label).\n",
    "from sklearn.model_selection import GridSearchCV ##For Grid search(cross validation).\n",
    "import re ## For regular ecpression.\n",
    "from statsmodels.stats.outliers_influence import variance_inflation_factor ## For VIF.\n",
    "from sklearn.linear_model import LinearRegression ## For regression model.\n",
    "from sklearn.metrics import mean_squared_log_error ## For MSLE\n",
    "from math import sqrt ## For square root.\n",
    "from sklearn.tree import DecisionTreeRegressor ## For Decision tree model.\n",
    "from sklearn.ensemble import RandomForestRegressor ## For Random Forest model.\n",
    "from sklearn.neighbors import KNeighborsRegressor ## For KNN mmodel.\n",
    "from sklearn.svm import SVR ## For SVR mmodel.\n",
    "from sklearn.ensemble import AdaBoostRegressor ## For Adaboost model.\n",
    "from sklearn.ensemble import GradientBoostingRegressor ## For GBR model.\n",
    "from xgboost.sklearn import XGBRegressor ## For  XGB model.\n",
    "from keras.models import Sequential ## For sequential model\n",
    "from keras.layers import Dense ## For fully connnected layer.\n",
    "from sklearn.model_selection import GridSearchCV ## For Grid search.\n",
    "from sklearn.linear_model import Ridge ## For Ridge model.\n",
    "from sklearn.linear_model import Lasso ## For Lasso model."
   ]
  },
  {
   "cell_type": "code",
   "execution_count": 373,
   "metadata": {},
   "outputs": [
    {
     "data": {
      "text/plain": [
       "'D:\\\\DataScience\\\\Pratice\\\\Demand Forecasting'"
      ]
     },
     "execution_count": 373,
     "metadata": {},
     "output_type": "execute_result"
    }
   ],
   "source": [
    "## Get current working directory.\n",
    "os.getcwd()"
   ]
  },
  {
   "cell_type": "code",
   "execution_count": 374,
   "metadata": {},
   "outputs": [
    {
     "data": {
      "text/plain": [
       "'D:\\\\DataScience\\\\Pratice\\\\Demand Forecasting'"
      ]
     },
     "execution_count": 374,
     "metadata": {},
     "output_type": "execute_result"
    }
   ],
   "source": [
    "## Set working directory.\n",
    "os.chdir(\"D:\\DataScience\\Pratice\\Demand Forecasting\")\n",
    "os.getcwd()"
   ]
  },
  {
   "cell_type": "code",
   "execution_count": 375,
   "metadata": {},
   "outputs": [],
   "source": [
    "## Load train and test data sets.\n",
    "train = pd.read_csv('train.csv',header='infer',sep=',')\n",
    "test = pd.read_csv('test.csv',header='infer',sep=',')"
   ]
  },
  {
   "cell_type": "code",
   "execution_count": 376,
   "metadata": {},
   "outputs": [
    {
     "name": "stdout",
     "output_type": "stream",
     "text": [
      "Train Dimensions (150150, 9)\n",
      "Test Dimensions (13860, 8)\n"
     ]
    }
   ],
   "source": [
    "## Get train and test data dimensions.\n",
    "print('Train Dimensions',train.shape)\n",
    "print('Test Dimensions',test.shape)"
   ]
  },
  {
   "cell_type": "code",
   "execution_count": 377,
   "metadata": {},
   "outputs": [
    {
     "data": {
      "text/html": [
       "<div>\n",
       "<style scoped>\n",
       "    .dataframe tbody tr th:only-of-type {\n",
       "        vertical-align: middle;\n",
       "    }\n",
       "\n",
       "    .dataframe tbody tr th {\n",
       "        vertical-align: top;\n",
       "    }\n",
       "\n",
       "    .dataframe thead th {\n",
       "        text-align: right;\n",
       "    }\n",
       "</style>\n",
       "<table border=\"1\" class=\"dataframe\">\n",
       "  <thead>\n",
       "    <tr style=\"text-align: right;\">\n",
       "      <th></th>\n",
       "      <th>record_ID</th>\n",
       "      <th>week</th>\n",
       "      <th>store_id</th>\n",
       "      <th>sku_id</th>\n",
       "      <th>total_price</th>\n",
       "      <th>base_price</th>\n",
       "      <th>is_featured_sku</th>\n",
       "      <th>is_display_sku</th>\n",
       "      <th>units_sold</th>\n",
       "    </tr>\n",
       "  </thead>\n",
       "  <tbody>\n",
       "    <tr>\n",
       "      <th>0</th>\n",
       "      <td>1</td>\n",
       "      <td>17/01/11</td>\n",
       "      <td>8091</td>\n",
       "      <td>216418</td>\n",
       "      <td>99.0375</td>\n",
       "      <td>111.8625</td>\n",
       "      <td>0</td>\n",
       "      <td>0</td>\n",
       "      <td>20</td>\n",
       "    </tr>\n",
       "    <tr>\n",
       "      <th>1</th>\n",
       "      <td>2</td>\n",
       "      <td>17/01/11</td>\n",
       "      <td>8091</td>\n",
       "      <td>216419</td>\n",
       "      <td>99.0375</td>\n",
       "      <td>99.0375</td>\n",
       "      <td>0</td>\n",
       "      <td>0</td>\n",
       "      <td>28</td>\n",
       "    </tr>\n",
       "    <tr>\n",
       "      <th>2</th>\n",
       "      <td>3</td>\n",
       "      <td>17/01/11</td>\n",
       "      <td>8091</td>\n",
       "      <td>216425</td>\n",
       "      <td>133.9500</td>\n",
       "      <td>133.9500</td>\n",
       "      <td>0</td>\n",
       "      <td>0</td>\n",
       "      <td>19</td>\n",
       "    </tr>\n",
       "    <tr>\n",
       "      <th>3</th>\n",
       "      <td>4</td>\n",
       "      <td>17/01/11</td>\n",
       "      <td>8091</td>\n",
       "      <td>216233</td>\n",
       "      <td>133.9500</td>\n",
       "      <td>133.9500</td>\n",
       "      <td>0</td>\n",
       "      <td>0</td>\n",
       "      <td>44</td>\n",
       "    </tr>\n",
       "    <tr>\n",
       "      <th>4</th>\n",
       "      <td>5</td>\n",
       "      <td>17/01/11</td>\n",
       "      <td>8091</td>\n",
       "      <td>217390</td>\n",
       "      <td>141.0750</td>\n",
       "      <td>141.0750</td>\n",
       "      <td>0</td>\n",
       "      <td>0</td>\n",
       "      <td>52</td>\n",
       "    </tr>\n",
       "  </tbody>\n",
       "</table>\n",
       "</div>"
      ],
      "text/plain": [
       "   record_ID      week  store_id  sku_id  total_price  base_price  \\\n",
       "0          1  17/01/11      8091  216418      99.0375    111.8625   \n",
       "1          2  17/01/11      8091  216419      99.0375     99.0375   \n",
       "2          3  17/01/11      8091  216425     133.9500    133.9500   \n",
       "3          4  17/01/11      8091  216233     133.9500    133.9500   \n",
       "4          5  17/01/11      8091  217390     141.0750    141.0750   \n",
       "\n",
       "   is_featured_sku  is_display_sku  units_sold  \n",
       "0                0               0          20  \n",
       "1                0               0          28  \n",
       "2                0               0          19  \n",
       "3                0               0          44  \n",
       "4                0               0          52  "
      ]
     },
     "execution_count": 377,
     "metadata": {},
     "output_type": "execute_result"
    }
   ],
   "source": [
    "## Get first 5 records of train data.\n",
    "train.head()"
   ]
  },
  {
   "cell_type": "code",
   "execution_count": 378,
   "metadata": {},
   "outputs": [
    {
     "data": {
      "text/html": [
       "<div>\n",
       "<style scoped>\n",
       "    .dataframe tbody tr th:only-of-type {\n",
       "        vertical-align: middle;\n",
       "    }\n",
       "\n",
       "    .dataframe tbody tr th {\n",
       "        vertical-align: top;\n",
       "    }\n",
       "\n",
       "    .dataframe thead th {\n",
       "        text-align: right;\n",
       "    }\n",
       "</style>\n",
       "<table border=\"1\" class=\"dataframe\">\n",
       "  <thead>\n",
       "    <tr style=\"text-align: right;\">\n",
       "      <th></th>\n",
       "      <th>record_ID</th>\n",
       "      <th>week</th>\n",
       "      <th>store_id</th>\n",
       "      <th>sku_id</th>\n",
       "      <th>total_price</th>\n",
       "      <th>base_price</th>\n",
       "      <th>is_featured_sku</th>\n",
       "      <th>is_display_sku</th>\n",
       "    </tr>\n",
       "  </thead>\n",
       "  <tbody>\n",
       "    <tr>\n",
       "      <th>0</th>\n",
       "      <td>212645</td>\n",
       "      <td>16/07/13</td>\n",
       "      <td>8091</td>\n",
       "      <td>216418</td>\n",
       "      <td>108.3000</td>\n",
       "      <td>108.3000</td>\n",
       "      <td>0</td>\n",
       "      <td>0</td>\n",
       "    </tr>\n",
       "    <tr>\n",
       "      <th>1</th>\n",
       "      <td>212646</td>\n",
       "      <td>16/07/13</td>\n",
       "      <td>8091</td>\n",
       "      <td>216419</td>\n",
       "      <td>109.0125</td>\n",
       "      <td>109.0125</td>\n",
       "      <td>0</td>\n",
       "      <td>0</td>\n",
       "    </tr>\n",
       "    <tr>\n",
       "      <th>2</th>\n",
       "      <td>212647</td>\n",
       "      <td>16/07/13</td>\n",
       "      <td>8091</td>\n",
       "      <td>216425</td>\n",
       "      <td>133.9500</td>\n",
       "      <td>133.9500</td>\n",
       "      <td>0</td>\n",
       "      <td>0</td>\n",
       "    </tr>\n",
       "    <tr>\n",
       "      <th>3</th>\n",
       "      <td>212648</td>\n",
       "      <td>16/07/13</td>\n",
       "      <td>8091</td>\n",
       "      <td>216233</td>\n",
       "      <td>133.9500</td>\n",
       "      <td>133.9500</td>\n",
       "      <td>0</td>\n",
       "      <td>0</td>\n",
       "    </tr>\n",
       "    <tr>\n",
       "      <th>4</th>\n",
       "      <td>212649</td>\n",
       "      <td>16/07/13</td>\n",
       "      <td>8091</td>\n",
       "      <td>217390</td>\n",
       "      <td>176.7000</td>\n",
       "      <td>176.7000</td>\n",
       "      <td>0</td>\n",
       "      <td>0</td>\n",
       "    </tr>\n",
       "  </tbody>\n",
       "</table>\n",
       "</div>"
      ],
      "text/plain": [
       "   record_ID      week  store_id  sku_id  total_price  base_price  \\\n",
       "0     212645  16/07/13      8091  216418     108.3000    108.3000   \n",
       "1     212646  16/07/13      8091  216419     109.0125    109.0125   \n",
       "2     212647  16/07/13      8091  216425     133.9500    133.9500   \n",
       "3     212648  16/07/13      8091  216233     133.9500    133.9500   \n",
       "4     212649  16/07/13      8091  217390     176.7000    176.7000   \n",
       "\n",
       "   is_featured_sku  is_display_sku  \n",
       "0                0               0  \n",
       "1                0               0  \n",
       "2                0               0  \n",
       "3                0               0  \n",
       "4                0               0  "
      ]
     },
     "execution_count": 378,
     "metadata": {},
     "output_type": "execute_result"
    }
   ],
   "source": [
    "## Get first 5 records of test data.\n",
    "test.head()"
   ]
  },
  {
   "cell_type": "code",
   "execution_count": 379,
   "metadata": {},
   "outputs": [
    {
     "data": {
      "text/html": [
       "<div>\n",
       "<style scoped>\n",
       "    .dataframe tbody tr th:only-of-type {\n",
       "        vertical-align: middle;\n",
       "    }\n",
       "\n",
       "    .dataframe tbody tr th {\n",
       "        vertical-align: top;\n",
       "    }\n",
       "\n",
       "    .dataframe thead th {\n",
       "        text-align: right;\n",
       "    }\n",
       "</style>\n",
       "<table border=\"1\" class=\"dataframe\">\n",
       "  <thead>\n",
       "    <tr style=\"text-align: right;\">\n",
       "      <th></th>\n",
       "      <th>record_ID</th>\n",
       "      <th>week</th>\n",
       "      <th>store_id</th>\n",
       "      <th>sku_id</th>\n",
       "      <th>total_price</th>\n",
       "      <th>base_price</th>\n",
       "      <th>is_featured_sku</th>\n",
       "      <th>is_display_sku</th>\n",
       "      <th>units_sold</th>\n",
       "    </tr>\n",
       "  </thead>\n",
       "  <tbody>\n",
       "    <tr>\n",
       "      <th>150145</th>\n",
       "      <td>212638</td>\n",
       "      <td>09/07/13</td>\n",
       "      <td>9984</td>\n",
       "      <td>223245</td>\n",
       "      <td>235.8375</td>\n",
       "      <td>235.8375</td>\n",
       "      <td>0</td>\n",
       "      <td>0</td>\n",
       "      <td>38</td>\n",
       "    </tr>\n",
       "    <tr>\n",
       "      <th>150146</th>\n",
       "      <td>212639</td>\n",
       "      <td>09/07/13</td>\n",
       "      <td>9984</td>\n",
       "      <td>223153</td>\n",
       "      <td>235.8375</td>\n",
       "      <td>235.8375</td>\n",
       "      <td>0</td>\n",
       "      <td>0</td>\n",
       "      <td>30</td>\n",
       "    </tr>\n",
       "    <tr>\n",
       "      <th>150147</th>\n",
       "      <td>212642</td>\n",
       "      <td>09/07/13</td>\n",
       "      <td>9984</td>\n",
       "      <td>245338</td>\n",
       "      <td>357.6750</td>\n",
       "      <td>483.7875</td>\n",
       "      <td>1</td>\n",
       "      <td>1</td>\n",
       "      <td>31</td>\n",
       "    </tr>\n",
       "    <tr>\n",
       "      <th>150148</th>\n",
       "      <td>212643</td>\n",
       "      <td>09/07/13</td>\n",
       "      <td>9984</td>\n",
       "      <td>547934</td>\n",
       "      <td>141.7875</td>\n",
       "      <td>191.6625</td>\n",
       "      <td>0</td>\n",
       "      <td>1</td>\n",
       "      <td>12</td>\n",
       "    </tr>\n",
       "    <tr>\n",
       "      <th>150149</th>\n",
       "      <td>212644</td>\n",
       "      <td>09/07/13</td>\n",
       "      <td>9984</td>\n",
       "      <td>679023</td>\n",
       "      <td>234.4125</td>\n",
       "      <td>234.4125</td>\n",
       "      <td>0</td>\n",
       "      <td>0</td>\n",
       "      <td>15</td>\n",
       "    </tr>\n",
       "  </tbody>\n",
       "</table>\n",
       "</div>"
      ],
      "text/plain": [
       "        record_ID      week  store_id  sku_id  total_price  base_price  \\\n",
       "150145     212638  09/07/13      9984  223245     235.8375    235.8375   \n",
       "150146     212639  09/07/13      9984  223153     235.8375    235.8375   \n",
       "150147     212642  09/07/13      9984  245338     357.6750    483.7875   \n",
       "150148     212643  09/07/13      9984  547934     141.7875    191.6625   \n",
       "150149     212644  09/07/13      9984  679023     234.4125    234.4125   \n",
       "\n",
       "        is_featured_sku  is_display_sku  units_sold  \n",
       "150145                0               0          38  \n",
       "150146                0               0          30  \n",
       "150147                1               1          31  \n",
       "150148                0               1          12  \n",
       "150149                0               0          15  "
      ]
     },
     "execution_count": 379,
     "metadata": {},
     "output_type": "execute_result"
    }
   ],
   "source": [
    "## Get last 5 records of train data.\n",
    "train.tail()"
   ]
  },
  {
   "cell_type": "code",
   "execution_count": 380,
   "metadata": {},
   "outputs": [
    {
     "data": {
      "text/html": [
       "<div>\n",
       "<style scoped>\n",
       "    .dataframe tbody tr th:only-of-type {\n",
       "        vertical-align: middle;\n",
       "    }\n",
       "\n",
       "    .dataframe tbody tr th {\n",
       "        vertical-align: top;\n",
       "    }\n",
       "\n",
       "    .dataframe thead th {\n",
       "        text-align: right;\n",
       "    }\n",
       "</style>\n",
       "<table border=\"1\" class=\"dataframe\">\n",
       "  <thead>\n",
       "    <tr style=\"text-align: right;\">\n",
       "      <th></th>\n",
       "      <th>record_ID</th>\n",
       "      <th>week</th>\n",
       "      <th>store_id</th>\n",
       "      <th>sku_id</th>\n",
       "      <th>total_price</th>\n",
       "      <th>base_price</th>\n",
       "      <th>is_featured_sku</th>\n",
       "      <th>is_display_sku</th>\n",
       "    </tr>\n",
       "  </thead>\n",
       "  <tbody>\n",
       "    <tr>\n",
       "      <th>13855</th>\n",
       "      <td>232281</td>\n",
       "      <td>01/10/13</td>\n",
       "      <td>9984</td>\n",
       "      <td>223245</td>\n",
       "      <td>241.5375</td>\n",
       "      <td>241.5375</td>\n",
       "      <td>0</td>\n",
       "      <td>0</td>\n",
       "    </tr>\n",
       "    <tr>\n",
       "      <th>13856</th>\n",
       "      <td>232282</td>\n",
       "      <td>01/10/13</td>\n",
       "      <td>9984</td>\n",
       "      <td>223153</td>\n",
       "      <td>240.8250</td>\n",
       "      <td>240.8250</td>\n",
       "      <td>0</td>\n",
       "      <td>0</td>\n",
       "    </tr>\n",
       "    <tr>\n",
       "      <th>13857</th>\n",
       "      <td>232285</td>\n",
       "      <td>01/10/13</td>\n",
       "      <td>9984</td>\n",
       "      <td>245338</td>\n",
       "      <td>382.6125</td>\n",
       "      <td>401.8500</td>\n",
       "      <td>1</td>\n",
       "      <td>1</td>\n",
       "    </tr>\n",
       "    <tr>\n",
       "      <th>13858</th>\n",
       "      <td>232286</td>\n",
       "      <td>01/10/13</td>\n",
       "      <td>9984</td>\n",
       "      <td>547934</td>\n",
       "      <td>191.6625</td>\n",
       "      <td>191.6625</td>\n",
       "      <td>0</td>\n",
       "      <td>0</td>\n",
       "    </tr>\n",
       "    <tr>\n",
       "      <th>13859</th>\n",
       "      <td>232287</td>\n",
       "      <td>01/10/13</td>\n",
       "      <td>9984</td>\n",
       "      <td>679023</td>\n",
       "      <td>234.4125</td>\n",
       "      <td>234.4125</td>\n",
       "      <td>0</td>\n",
       "      <td>0</td>\n",
       "    </tr>\n",
       "  </tbody>\n",
       "</table>\n",
       "</div>"
      ],
      "text/plain": [
       "       record_ID      week  store_id  sku_id  total_price  base_price  \\\n",
       "13855     232281  01/10/13      9984  223245     241.5375    241.5375   \n",
       "13856     232282  01/10/13      9984  223153     240.8250    240.8250   \n",
       "13857     232285  01/10/13      9984  245338     382.6125    401.8500   \n",
       "13858     232286  01/10/13      9984  547934     191.6625    191.6625   \n",
       "13859     232287  01/10/13      9984  679023     234.4125    234.4125   \n",
       "\n",
       "       is_featured_sku  is_display_sku  \n",
       "13855                0               0  \n",
       "13856                0               0  \n",
       "13857                1               1  \n",
       "13858                0               0  \n",
       "13859                0               0  "
      ]
     },
     "execution_count": 380,
     "metadata": {},
     "output_type": "execute_result"
    }
   ],
   "source": [
    "## Get last 5 records of test data.\n",
    "test.tail()"
   ]
  },
  {
   "cell_type": "code",
   "execution_count": 381,
   "metadata": {},
   "outputs": [
    {
     "data": {
      "text/html": [
       "<div>\n",
       "<style scoped>\n",
       "    .dataframe tbody tr th:only-of-type {\n",
       "        vertical-align: middle;\n",
       "    }\n",
       "\n",
       "    .dataframe tbody tr th {\n",
       "        vertical-align: top;\n",
       "    }\n",
       "\n",
       "    .dataframe thead th {\n",
       "        text-align: right;\n",
       "    }\n",
       "</style>\n",
       "<table border=\"1\" class=\"dataframe\">\n",
       "  <thead>\n",
       "    <tr style=\"text-align: right;\">\n",
       "      <th></th>\n",
       "      <th>record_ID</th>\n",
       "      <th>week</th>\n",
       "      <th>store_id</th>\n",
       "      <th>sku_id</th>\n",
       "      <th>total_price</th>\n",
       "      <th>base_price</th>\n",
       "      <th>is_featured_sku</th>\n",
       "      <th>is_display_sku</th>\n",
       "      <th>units_sold</th>\n",
       "    </tr>\n",
       "  </thead>\n",
       "  <tbody>\n",
       "    <tr>\n",
       "      <th>count</th>\n",
       "      <td>150150.000000</td>\n",
       "      <td>150150</td>\n",
       "      <td>150150.000000</td>\n",
       "      <td>150150.000000</td>\n",
       "      <td>150149.000000</td>\n",
       "      <td>150150.000000</td>\n",
       "      <td>150150.000000</td>\n",
       "      <td>150150.000000</td>\n",
       "      <td>150150.000000</td>\n",
       "    </tr>\n",
       "    <tr>\n",
       "      <th>unique</th>\n",
       "      <td>NaN</td>\n",
       "      <td>130</td>\n",
       "      <td>NaN</td>\n",
       "      <td>NaN</td>\n",
       "      <td>NaN</td>\n",
       "      <td>NaN</td>\n",
       "      <td>NaN</td>\n",
       "      <td>NaN</td>\n",
       "      <td>NaN</td>\n",
       "    </tr>\n",
       "    <tr>\n",
       "      <th>top</th>\n",
       "      <td>NaN</td>\n",
       "      <td>11/09/12</td>\n",
       "      <td>NaN</td>\n",
       "      <td>NaN</td>\n",
       "      <td>NaN</td>\n",
       "      <td>NaN</td>\n",
       "      <td>NaN</td>\n",
       "      <td>NaN</td>\n",
       "      <td>NaN</td>\n",
       "    </tr>\n",
       "    <tr>\n",
       "      <th>freq</th>\n",
       "      <td>NaN</td>\n",
       "      <td>1155</td>\n",
       "      <td>NaN</td>\n",
       "      <td>NaN</td>\n",
       "      <td>NaN</td>\n",
       "      <td>NaN</td>\n",
       "      <td>NaN</td>\n",
       "      <td>NaN</td>\n",
       "      <td>NaN</td>\n",
       "    </tr>\n",
       "    <tr>\n",
       "      <th>mean</th>\n",
       "      <td>106271.555504</td>\n",
       "      <td>NaN</td>\n",
       "      <td>9199.422511</td>\n",
       "      <td>254761.132468</td>\n",
       "      <td>206.626751</td>\n",
       "      <td>219.425927</td>\n",
       "      <td>0.095611</td>\n",
       "      <td>0.133200</td>\n",
       "      <td>51.674206</td>\n",
       "    </tr>\n",
       "    <tr>\n",
       "      <th>std</th>\n",
       "      <td>61386.037861</td>\n",
       "      <td>NaN</td>\n",
       "      <td>615.591445</td>\n",
       "      <td>85547.306447</td>\n",
       "      <td>103.308516</td>\n",
       "      <td>110.961712</td>\n",
       "      <td>0.294058</td>\n",
       "      <td>0.339792</td>\n",
       "      <td>60.207904</td>\n",
       "    </tr>\n",
       "    <tr>\n",
       "      <th>min</th>\n",
       "      <td>1.000000</td>\n",
       "      <td>NaN</td>\n",
       "      <td>8023.000000</td>\n",
       "      <td>216233.000000</td>\n",
       "      <td>41.325000</td>\n",
       "      <td>61.275000</td>\n",
       "      <td>0.000000</td>\n",
       "      <td>0.000000</td>\n",
       "      <td>1.000000</td>\n",
       "    </tr>\n",
       "    <tr>\n",
       "      <th>25%</th>\n",
       "      <td>53111.250000</td>\n",
       "      <td>NaN</td>\n",
       "      <td>8562.000000</td>\n",
       "      <td>217217.000000</td>\n",
       "      <td>130.387500</td>\n",
       "      <td>133.237500</td>\n",
       "      <td>0.000000</td>\n",
       "      <td>0.000000</td>\n",
       "      <td>20.000000</td>\n",
       "    </tr>\n",
       "    <tr>\n",
       "      <th>50%</th>\n",
       "      <td>106226.500000</td>\n",
       "      <td>NaN</td>\n",
       "      <td>9371.000000</td>\n",
       "      <td>222087.000000</td>\n",
       "      <td>198.075000</td>\n",
       "      <td>205.912500</td>\n",
       "      <td>0.000000</td>\n",
       "      <td>0.000000</td>\n",
       "      <td>35.000000</td>\n",
       "    </tr>\n",
       "    <tr>\n",
       "      <th>75%</th>\n",
       "      <td>159452.750000</td>\n",
       "      <td>NaN</td>\n",
       "      <td>9731.000000</td>\n",
       "      <td>245338.000000</td>\n",
       "      <td>233.700000</td>\n",
       "      <td>234.412500</td>\n",
       "      <td>0.000000</td>\n",
       "      <td>0.000000</td>\n",
       "      <td>62.000000</td>\n",
       "    </tr>\n",
       "    <tr>\n",
       "      <th>max</th>\n",
       "      <td>212644.000000</td>\n",
       "      <td>NaN</td>\n",
       "      <td>9984.000000</td>\n",
       "      <td>679023.000000</td>\n",
       "      <td>562.162500</td>\n",
       "      <td>562.162500</td>\n",
       "      <td>1.000000</td>\n",
       "      <td>1.000000</td>\n",
       "      <td>2876.000000</td>\n",
       "    </tr>\n",
       "  </tbody>\n",
       "</table>\n",
       "</div>"
      ],
      "text/plain": [
       "            record_ID      week       store_id         sku_id    total_price  \\\n",
       "count   150150.000000    150150  150150.000000  150150.000000  150149.000000   \n",
       "unique            NaN       130            NaN            NaN            NaN   \n",
       "top               NaN  11/09/12            NaN            NaN            NaN   \n",
       "freq              NaN      1155            NaN            NaN            NaN   \n",
       "mean    106271.555504       NaN    9199.422511  254761.132468     206.626751   \n",
       "std      61386.037861       NaN     615.591445   85547.306447     103.308516   \n",
       "min          1.000000       NaN    8023.000000  216233.000000      41.325000   \n",
       "25%      53111.250000       NaN    8562.000000  217217.000000     130.387500   \n",
       "50%     106226.500000       NaN    9371.000000  222087.000000     198.075000   \n",
       "75%     159452.750000       NaN    9731.000000  245338.000000     233.700000   \n",
       "max     212644.000000       NaN    9984.000000  679023.000000     562.162500   \n",
       "\n",
       "           base_price  is_featured_sku  is_display_sku     units_sold  \n",
       "count   150150.000000    150150.000000   150150.000000  150150.000000  \n",
       "unique            NaN              NaN             NaN            NaN  \n",
       "top               NaN              NaN             NaN            NaN  \n",
       "freq              NaN              NaN             NaN            NaN  \n",
       "mean       219.425927         0.095611        0.133200      51.674206  \n",
       "std        110.961712         0.294058        0.339792      60.207904  \n",
       "min         61.275000         0.000000        0.000000       1.000000  \n",
       "25%        133.237500         0.000000        0.000000      20.000000  \n",
       "50%        205.912500         0.000000        0.000000      35.000000  \n",
       "75%        234.412500         0.000000        0.000000      62.000000  \n",
       "max        562.162500         1.000000        1.000000    2876.000000  "
      ]
     },
     "execution_count": 381,
     "metadata": {},
     "output_type": "execute_result"
    }
   ],
   "source": [
    "## Get summary statistics of train data.\n",
    "train.describe(include = 'all')"
   ]
  },
  {
   "cell_type": "code",
   "execution_count": 382,
   "metadata": {},
   "outputs": [
    {
     "data": {
      "text/html": [
       "<div>\n",
       "<style scoped>\n",
       "    .dataframe tbody tr th:only-of-type {\n",
       "        vertical-align: middle;\n",
       "    }\n",
       "\n",
       "    .dataframe tbody tr th {\n",
       "        vertical-align: top;\n",
       "    }\n",
       "\n",
       "    .dataframe thead th {\n",
       "        text-align: right;\n",
       "    }\n",
       "</style>\n",
       "<table border=\"1\" class=\"dataframe\">\n",
       "  <thead>\n",
       "    <tr style=\"text-align: right;\">\n",
       "      <th></th>\n",
       "      <th>record_ID</th>\n",
       "      <th>week</th>\n",
       "      <th>store_id</th>\n",
       "      <th>sku_id</th>\n",
       "      <th>total_price</th>\n",
       "      <th>base_price</th>\n",
       "      <th>is_featured_sku</th>\n",
       "      <th>is_display_sku</th>\n",
       "    </tr>\n",
       "  </thead>\n",
       "  <tbody>\n",
       "    <tr>\n",
       "      <th>count</th>\n",
       "      <td>13860.000000</td>\n",
       "      <td>13860</td>\n",
       "      <td>13860.000000</td>\n",
       "      <td>13860.000000</td>\n",
       "      <td>13860.000000</td>\n",
       "      <td>13860.000000</td>\n",
       "      <td>13860.000000</td>\n",
       "      <td>13860.000000</td>\n",
       "    </tr>\n",
       "    <tr>\n",
       "      <th>unique</th>\n",
       "      <td>NaN</td>\n",
       "      <td>12</td>\n",
       "      <td>NaN</td>\n",
       "      <td>NaN</td>\n",
       "      <td>NaN</td>\n",
       "      <td>NaN</td>\n",
       "      <td>NaN</td>\n",
       "      <td>NaN</td>\n",
       "    </tr>\n",
       "    <tr>\n",
       "      <th>top</th>\n",
       "      <td>NaN</td>\n",
       "      <td>10/09/13</td>\n",
       "      <td>NaN</td>\n",
       "      <td>NaN</td>\n",
       "      <td>NaN</td>\n",
       "      <td>NaN</td>\n",
       "      <td>NaN</td>\n",
       "      <td>NaN</td>\n",
       "    </tr>\n",
       "    <tr>\n",
       "      <th>freq</th>\n",
       "      <td>NaN</td>\n",
       "      <td>1155</td>\n",
       "      <td>NaN</td>\n",
       "      <td>NaN</td>\n",
       "      <td>NaN</td>\n",
       "      <td>NaN</td>\n",
       "      <td>NaN</td>\n",
       "      <td>NaN</td>\n",
       "    </tr>\n",
       "    <tr>\n",
       "      <th>mean</th>\n",
       "      <td>222460.146392</td>\n",
       "      <td>NaN</td>\n",
       "      <td>9199.422511</td>\n",
       "      <td>254761.132468</td>\n",
       "      <td>212.188874</td>\n",
       "      <td>223.922660</td>\n",
       "      <td>0.086580</td>\n",
       "      <td>0.133333</td>\n",
       "    </tr>\n",
       "    <tr>\n",
       "      <th>std</th>\n",
       "      <td>5668.258490</td>\n",
       "      <td>NaN</td>\n",
       "      <td>615.611603</td>\n",
       "      <td>85550.107852</td>\n",
       "      <td>93.138162</td>\n",
       "      <td>103.429522</td>\n",
       "      <td>0.281229</td>\n",
       "      <td>0.339947</td>\n",
       "    </tr>\n",
       "    <tr>\n",
       "      <th>min</th>\n",
       "      <td>212645.000000</td>\n",
       "      <td>NaN</td>\n",
       "      <td>8023.000000</td>\n",
       "      <td>216233.000000</td>\n",
       "      <td>65.550000</td>\n",
       "      <td>70.537500</td>\n",
       "      <td>0.000000</td>\n",
       "      <td>0.000000</td>\n",
       "    </tr>\n",
       "    <tr>\n",
       "      <th>25%</th>\n",
       "      <td>217557.750000</td>\n",
       "      <td>NaN</td>\n",
       "      <td>8562.000000</td>\n",
       "      <td>217217.000000</td>\n",
       "      <td>132.525000</td>\n",
       "      <td>137.512500</td>\n",
       "      <td>0.000000</td>\n",
       "      <td>0.000000</td>\n",
       "    </tr>\n",
       "    <tr>\n",
       "      <th>50%</th>\n",
       "      <td>222466.500000</td>\n",
       "      <td>NaN</td>\n",
       "      <td>9371.000000</td>\n",
       "      <td>222087.000000</td>\n",
       "      <td>213.037500</td>\n",
       "      <td>218.737500</td>\n",
       "      <td>0.000000</td>\n",
       "      <td>0.000000</td>\n",
       "    </tr>\n",
       "    <tr>\n",
       "      <th>75%</th>\n",
       "      <td>227367.250000</td>\n",
       "      <td>NaN</td>\n",
       "      <td>9731.000000</td>\n",
       "      <td>245338.000000</td>\n",
       "      <td>241.537500</td>\n",
       "      <td>261.487500</td>\n",
       "      <td>0.000000</td>\n",
       "      <td>0.000000</td>\n",
       "    </tr>\n",
       "    <tr>\n",
       "      <th>max</th>\n",
       "      <td>232287.000000</td>\n",
       "      <td>NaN</td>\n",
       "      <td>9984.000000</td>\n",
       "      <td>679023.000000</td>\n",
       "      <td>562.162500</td>\n",
       "      <td>562.162500</td>\n",
       "      <td>1.000000</td>\n",
       "      <td>1.000000</td>\n",
       "    </tr>\n",
       "  </tbody>\n",
       "</table>\n",
       "</div>"
      ],
      "text/plain": [
       "            record_ID      week      store_id         sku_id   total_price  \\\n",
       "count    13860.000000     13860  13860.000000   13860.000000  13860.000000   \n",
       "unique            NaN        12           NaN            NaN           NaN   \n",
       "top               NaN  10/09/13           NaN            NaN           NaN   \n",
       "freq              NaN      1155           NaN            NaN           NaN   \n",
       "mean    222460.146392       NaN   9199.422511  254761.132468    212.188874   \n",
       "std       5668.258490       NaN    615.611603   85550.107852     93.138162   \n",
       "min     212645.000000       NaN   8023.000000  216233.000000     65.550000   \n",
       "25%     217557.750000       NaN   8562.000000  217217.000000    132.525000   \n",
       "50%     222466.500000       NaN   9371.000000  222087.000000    213.037500   \n",
       "75%     227367.250000       NaN   9731.000000  245338.000000    241.537500   \n",
       "max     232287.000000       NaN   9984.000000  679023.000000    562.162500   \n",
       "\n",
       "          base_price  is_featured_sku  is_display_sku  \n",
       "count   13860.000000     13860.000000    13860.000000  \n",
       "unique           NaN              NaN             NaN  \n",
       "top              NaN              NaN             NaN  \n",
       "freq             NaN              NaN             NaN  \n",
       "mean      223.922660         0.086580        0.133333  \n",
       "std       103.429522         0.281229        0.339947  \n",
       "min        70.537500         0.000000        0.000000  \n",
       "25%       137.512500         0.000000        0.000000  \n",
       "50%       218.737500         0.000000        0.000000  \n",
       "75%       261.487500         0.000000        0.000000  \n",
       "max       562.162500         1.000000        1.000000  "
      ]
     },
     "execution_count": 382,
     "metadata": {},
     "output_type": "execute_result"
    }
   ],
   "source": [
    "## Get summary statistics of test data.\n",
    "test.describe(include='all')"
   ]
  },
  {
   "cell_type": "code",
   "execution_count": 383,
   "metadata": {},
   "outputs": [
    {
     "data": {
      "text/plain": [
       "Index(['record_ID', 'week', 'store_id', 'sku_id', 'total_price', 'base_price',\n",
       "       'is_featured_sku', 'is_display_sku', 'units_sold'],\n",
       "      dtype='object')"
      ]
     },
     "execution_count": 383,
     "metadata": {},
     "output_type": "execute_result"
    }
   ],
   "source": [
    "## Get column names of train data.\n",
    "train.columns"
   ]
  },
  {
   "cell_type": "code",
   "execution_count": 384,
   "metadata": {},
   "outputs": [
    {
     "data": {
      "text/plain": [
       "Index(['record_ID', 'week', 'store_id', 'sku_id', 'total_price', 'base_price',\n",
       "       'is_featured_sku', 'is_display_sku'],\n",
       "      dtype='object')"
      ]
     },
     "execution_count": 384,
     "metadata": {},
     "output_type": "execute_result"
    }
   ],
   "source": [
    "## Get column names of test data.\n",
    "test.columns"
   ]
  },
  {
   "cell_type": "code",
   "execution_count": 385,
   "metadata": {},
   "outputs": [
    {
     "data": {
      "text/plain": [
       "record_ID            int64\n",
       "week                object\n",
       "store_id             int64\n",
       "sku_id               int64\n",
       "total_price        float64\n",
       "base_price         float64\n",
       "is_featured_sku      int64\n",
       "is_display_sku       int64\n",
       "units_sold           int64\n",
       "dtype: object"
      ]
     },
     "execution_count": 385,
     "metadata": {},
     "output_type": "execute_result"
    }
   ],
   "source": [
    "## Get column data types of train data.\n",
    "train.dtypes"
   ]
  },
  {
   "cell_type": "code",
   "execution_count": 386,
   "metadata": {},
   "outputs": [
    {
     "data": {
      "text/plain": [
       "record_ID            int64\n",
       "week                object\n",
       "store_id             int64\n",
       "sku_id               int64\n",
       "total_price        float64\n",
       "base_price         float64\n",
       "is_featured_sku      int64\n",
       "is_display_sku       int64\n",
       "dtype: object"
      ]
     },
     "execution_count": 386,
     "metadata": {},
     "output_type": "execute_result"
    }
   ],
   "source": [
    "## Get column data types of test data.\n",
    "test.dtypes"
   ]
  },
  {
   "cell_type": "code",
   "execution_count": 387,
   "metadata": {},
   "outputs": [
    {
     "data": {
      "text/plain": [
       "RangeIndex(start=0, stop=150150, step=1)"
      ]
     },
     "execution_count": 387,
     "metadata": {},
     "output_type": "execute_result"
    }
   ],
   "source": [
    "## Get index range of train data.\n",
    "train.index"
   ]
  },
  {
   "cell_type": "code",
   "execution_count": 388,
   "metadata": {},
   "outputs": [
    {
     "data": {
      "text/plain": [
       "RangeIndex(start=0, stop=13860, step=1)"
      ]
     },
     "execution_count": 388,
     "metadata": {},
     "output_type": "execute_result"
    }
   ],
   "source": [
    "## Get index range of test data.\n",
    "test.index"
   ]
  },
  {
   "cell_type": "code",
   "execution_count": 389,
   "metadata": {},
   "outputs": [
    {
     "data": {
      "text/plain": [
       "record_ID          0\n",
       "week               0\n",
       "store_id           0\n",
       "sku_id             0\n",
       "total_price        1\n",
       "base_price         0\n",
       "is_featured_sku    0\n",
       "is_display_sku     0\n",
       "units_sold         0\n",
       "dtype: int64"
      ]
     },
     "execution_count": 389,
     "metadata": {},
     "output_type": "execute_result"
    }
   ],
   "source": [
    "## Check NA values of train data.\n",
    "train.isna().sum()"
   ]
  },
  {
   "cell_type": "code",
   "execution_count": 390,
   "metadata": {},
   "outputs": [
    {
     "data": {
      "text/plain": [
       "record_ID          0\n",
       "week               0\n",
       "store_id           0\n",
       "sku_id             0\n",
       "total_price        0\n",
       "base_price         0\n",
       "is_featured_sku    0\n",
       "is_display_sku     0\n",
       "dtype: int64"
      ]
     },
     "execution_count": 390,
     "metadata": {},
     "output_type": "execute_result"
    }
   ],
   "source": [
    "## Check NA values of test data.\n",
    "test.isna().sum()"
   ]
  },
  {
   "cell_type": "code",
   "execution_count": 391,
   "metadata": {},
   "outputs": [],
   "source": [
    "## Drop NA record,one record will not impact on huge data.\n",
    "train.dropna(inplace=True)"
   ]
  },
  {
   "cell_type": "code",
   "execution_count": 392,
   "metadata": {},
   "outputs": [
    {
     "data": {
      "text/plain": [
       "record_ID          0\n",
       "week               0\n",
       "store_id           0\n",
       "sku_id             0\n",
       "total_price        0\n",
       "base_price         0\n",
       "is_featured_sku    0\n",
       "is_display_sku     0\n",
       "units_sold         0\n",
       "dtype: int64"
      ]
     },
     "execution_count": 392,
     "metadata": {},
     "output_type": "execute_result"
    }
   ],
   "source": [
    "## Check NA values after dropping NAs from train data.\n",
    "train.isna().sum()"
   ]
  },
  {
   "cell_type": "code",
   "execution_count": 393,
   "metadata": {},
   "outputs": [],
   "source": [
    "## This method will return number of levels,null values,unique values,data types.\n",
    "\n",
    "def statistics(df):\n",
    "    return(pd.DataFrame({'dtypes' : df.dtypes,\n",
    "                         'levels' : [df[x].unique() for x in df.columns],\n",
    "                         'null_values' : df.isnull().sum(),\n",
    "                         'Unique Values': df.nunique()\n",
    "                        }))"
   ]
  },
  {
   "cell_type": "code",
   "execution_count": 394,
   "metadata": {},
   "outputs": [
    {
     "data": {
      "text/html": [
       "<div>\n",
       "<style scoped>\n",
       "    .dataframe tbody tr th:only-of-type {\n",
       "        vertical-align: middle;\n",
       "    }\n",
       "\n",
       "    .dataframe tbody tr th {\n",
       "        vertical-align: top;\n",
       "    }\n",
       "\n",
       "    .dataframe thead th {\n",
       "        text-align: right;\n",
       "    }\n",
       "</style>\n",
       "<table border=\"1\" class=\"dataframe\">\n",
       "  <thead>\n",
       "    <tr style=\"text-align: right;\">\n",
       "      <th></th>\n",
       "      <th>dtypes</th>\n",
       "      <th>levels</th>\n",
       "      <th>null_values</th>\n",
       "      <th>Unique Values</th>\n",
       "    </tr>\n",
       "  </thead>\n",
       "  <tbody>\n",
       "    <tr>\n",
       "      <th>record_ID</th>\n",
       "      <td>int64</td>\n",
       "      <td>[1, 2, 3, 4, 5, 9, 10, 13, 14, 17, 18, 19, 22,...</td>\n",
       "      <td>0</td>\n",
       "      <td>150149</td>\n",
       "    </tr>\n",
       "    <tr>\n",
       "      <th>week</th>\n",
       "      <td>object</td>\n",
       "      <td>[17/01/11, 24/01/11, 31/01/11, 07/02/11, 14/02...</td>\n",
       "      <td>0</td>\n",
       "      <td>130</td>\n",
       "    </tr>\n",
       "    <tr>\n",
       "      <th>store_id</th>\n",
       "      <td>int64</td>\n",
       "      <td>[8091, 8095, 8094, 8063, 8023, 8058, 8222, 812...</td>\n",
       "      <td>0</td>\n",
       "      <td>76</td>\n",
       "    </tr>\n",
       "    <tr>\n",
       "      <th>sku_id</th>\n",
       "      <td>int64</td>\n",
       "      <td>[216418, 216419, 216425, 216233, 217390, 21900...</td>\n",
       "      <td>0</td>\n",
       "      <td>28</td>\n",
       "    </tr>\n",
       "    <tr>\n",
       "      <th>total_price</th>\n",
       "      <td>float64</td>\n",
       "      <td>[99.0375, 133.95, 141.075, 227.2875, 327.0375,...</td>\n",
       "      <td>0</td>\n",
       "      <td>646</td>\n",
       "    </tr>\n",
       "    <tr>\n",
       "      <th>base_price</th>\n",
       "      <td>float64</td>\n",
       "      <td>[111.8625, 99.0375, 133.95, 141.075, 227.2875,...</td>\n",
       "      <td>0</td>\n",
       "      <td>572</td>\n",
       "    </tr>\n",
       "    <tr>\n",
       "      <th>is_featured_sku</th>\n",
       "      <td>int64</td>\n",
       "      <td>[0, 1]</td>\n",
       "      <td>0</td>\n",
       "      <td>2</td>\n",
       "    </tr>\n",
       "    <tr>\n",
       "      <th>is_display_sku</th>\n",
       "      <td>int64</td>\n",
       "      <td>[0, 1]</td>\n",
       "      <td>0</td>\n",
       "      <td>2</td>\n",
       "    </tr>\n",
       "    <tr>\n",
       "      <th>units_sold</th>\n",
       "      <td>int64</td>\n",
       "      <td>[20, 28, 19, 44, 52, 18, 47, 50, 82, 99, 120, ...</td>\n",
       "      <td>0</td>\n",
       "      <td>708</td>\n",
       "    </tr>\n",
       "  </tbody>\n",
       "</table>\n",
       "</div>"
      ],
      "text/plain": [
       "                  dtypes                                             levels  \\\n",
       "record_ID          int64  [1, 2, 3, 4, 5, 9, 10, 13, 14, 17, 18, 19, 22,...   \n",
       "week              object  [17/01/11, 24/01/11, 31/01/11, 07/02/11, 14/02...   \n",
       "store_id           int64  [8091, 8095, 8094, 8063, 8023, 8058, 8222, 812...   \n",
       "sku_id             int64  [216418, 216419, 216425, 216233, 217390, 21900...   \n",
       "total_price      float64  [99.0375, 133.95, 141.075, 227.2875, 327.0375,...   \n",
       "base_price       float64  [111.8625, 99.0375, 133.95, 141.075, 227.2875,...   \n",
       "is_featured_sku    int64                                             [0, 1]   \n",
       "is_display_sku     int64                                             [0, 1]   \n",
       "units_sold         int64  [20, 28, 19, 44, 52, 18, 47, 50, 82, 99, 120, ...   \n",
       "\n",
       "                 null_values  Unique Values  \n",
       "record_ID                  0         150149  \n",
       "week                       0            130  \n",
       "store_id                   0             76  \n",
       "sku_id                     0             28  \n",
       "total_price                0            646  \n",
       "base_price                 0            572  \n",
       "is_featured_sku            0              2  \n",
       "is_display_sku             0              2  \n",
       "units_sold                 0            708  "
      ]
     },
     "execution_count": 394,
     "metadata": {},
     "output_type": "execute_result"
    }
   ],
   "source": [
    "## Get train data statistics.\n",
    "statistics(train)"
   ]
  },
  {
   "cell_type": "code",
   "execution_count": 395,
   "metadata": {},
   "outputs": [
    {
     "data": {
      "text/html": [
       "<div>\n",
       "<style scoped>\n",
       "    .dataframe tbody tr th:only-of-type {\n",
       "        vertical-align: middle;\n",
       "    }\n",
       "\n",
       "    .dataframe tbody tr th {\n",
       "        vertical-align: top;\n",
       "    }\n",
       "\n",
       "    .dataframe thead th {\n",
       "        text-align: right;\n",
       "    }\n",
       "</style>\n",
       "<table border=\"1\" class=\"dataframe\">\n",
       "  <thead>\n",
       "    <tr style=\"text-align: right;\">\n",
       "      <th></th>\n",
       "      <th>dtypes</th>\n",
       "      <th>levels</th>\n",
       "      <th>null_values</th>\n",
       "      <th>Unique Values</th>\n",
       "    </tr>\n",
       "  </thead>\n",
       "  <tbody>\n",
       "    <tr>\n",
       "      <th>record_ID</th>\n",
       "      <td>int64</td>\n",
       "      <td>[212645, 212646, 212647, 212648, 212649, 21265...</td>\n",
       "      <td>0</td>\n",
       "      <td>13860</td>\n",
       "    </tr>\n",
       "    <tr>\n",
       "      <th>week</th>\n",
       "      <td>object</td>\n",
       "      <td>[16/07/13, 23/07/13, 30/07/13, 06/08/13, 13/08...</td>\n",
       "      <td>0</td>\n",
       "      <td>12</td>\n",
       "    </tr>\n",
       "    <tr>\n",
       "      <th>store_id</th>\n",
       "      <td>int64</td>\n",
       "      <td>[8091, 8095, 8094, 8063, 8023, 8058, 8222, 812...</td>\n",
       "      <td>0</td>\n",
       "      <td>76</td>\n",
       "    </tr>\n",
       "    <tr>\n",
       "      <th>sku_id</th>\n",
       "      <td>int64</td>\n",
       "      <td>[216418, 216419, 216425, 216233, 217390, 21900...</td>\n",
       "      <td>0</td>\n",
       "      <td>28</td>\n",
       "    </tr>\n",
       "    <tr>\n",
       "      <th>total_price</th>\n",
       "      <td>float64</td>\n",
       "      <td>[108.3, 109.0125, 133.95, 176.7, 218.7375, 341...</td>\n",
       "      <td>0</td>\n",
       "      <td>442</td>\n",
       "    </tr>\n",
       "    <tr>\n",
       "      <th>base_price</th>\n",
       "      <td>float64</td>\n",
       "      <td>[108.3, 109.0125, 133.95, 176.7, 218.7375, 341...</td>\n",
       "      <td>0</td>\n",
       "      <td>370</td>\n",
       "    </tr>\n",
       "    <tr>\n",
       "      <th>is_featured_sku</th>\n",
       "      <td>int64</td>\n",
       "      <td>[0, 1]</td>\n",
       "      <td>0</td>\n",
       "      <td>2</td>\n",
       "    </tr>\n",
       "    <tr>\n",
       "      <th>is_display_sku</th>\n",
       "      <td>int64</td>\n",
       "      <td>[0, 1]</td>\n",
       "      <td>0</td>\n",
       "      <td>2</td>\n",
       "    </tr>\n",
       "  </tbody>\n",
       "</table>\n",
       "</div>"
      ],
      "text/plain": [
       "                  dtypes                                             levels  \\\n",
       "record_ID          int64  [212645, 212646, 212647, 212648, 212649, 21265...   \n",
       "week              object  [16/07/13, 23/07/13, 30/07/13, 06/08/13, 13/08...   \n",
       "store_id           int64  [8091, 8095, 8094, 8063, 8023, 8058, 8222, 812...   \n",
       "sku_id             int64  [216418, 216419, 216425, 216233, 217390, 21900...   \n",
       "total_price      float64  [108.3, 109.0125, 133.95, 176.7, 218.7375, 341...   \n",
       "base_price       float64  [108.3, 109.0125, 133.95, 176.7, 218.7375, 341...   \n",
       "is_featured_sku    int64                                             [0, 1]   \n",
       "is_display_sku     int64                                             [0, 1]   \n",
       "\n",
       "                 null_values  Unique Values  \n",
       "record_ID                  0          13860  \n",
       "week                       0             12  \n",
       "store_id                   0             76  \n",
       "sku_id                     0             28  \n",
       "total_price                0            442  \n",
       "base_price                 0            370  \n",
       "is_featured_sku            0              2  \n",
       "is_display_sku             0              2  "
      ]
     },
     "execution_count": 395,
     "metadata": {},
     "output_type": "execute_result"
    }
   ],
   "source": [
    "## Get test data statistics.\n",
    "statistics(test)"
   ]
  },
  {
   "cell_type": "code",
   "execution_count": 396,
   "metadata": {},
   "outputs": [],
   "source": [
    "## Below logic is used for checking special characters in numeric columns.\n",
    "\n",
    "def specialCharcterVerification_NumCol(data):\n",
    "    for col in data.select_dtypes(['int64','float64']).columns: \n",
    "        print('\\n',col,'----->')\n",
    "        for index in range(1,len(data)):\n",
    "            try:\n",
    "                skip=float(data.loc[index,col])\n",
    "                skip=int(data.loc[index,col])\n",
    "            except ValueError :\n",
    "                print(index,data.loc[index,col])"
   ]
  },
  {
   "cell_type": "code",
   "execution_count": 397,
   "metadata": {},
   "outputs": [
    {
     "name": "stdout",
     "output_type": "stream",
     "text": [
      "\n",
      " record_ID ----->\n",
      "\n",
      " store_id ----->\n",
      "\n",
      " sku_id ----->\n",
      "\n",
      " total_price ----->\n",
      "\n",
      " base_price ----->\n",
      "\n",
      " is_featured_sku ----->\n",
      "\n",
      " is_display_sku ----->\n"
     ]
    }
   ],
   "source": [
    "## Check special charcters for train data numeric columns.\n",
    "specialCharcterVerification_NumCol(test)"
   ]
  },
  {
   "cell_type": "code",
   "execution_count": 398,
   "metadata": {},
   "outputs": [],
   "source": [
    "### calculate variance column wise for numeric columns.\n",
    "def variance(x):\n",
    "        return(pd.DataFrame({'Datatype' : x.dtypes,\n",
    "                            'Variance': [round(x[i].var()) for i in x] }))"
   ]
  },
  {
   "cell_type": "code",
   "execution_count": 399,
   "metadata": {},
   "outputs": [
    {
     "data": {
      "text/html": [
       "<div>\n",
       "<style scoped>\n",
       "    .dataframe tbody tr th:only-of-type {\n",
       "        vertical-align: middle;\n",
       "    }\n",
       "\n",
       "    .dataframe tbody tr th {\n",
       "        vertical-align: top;\n",
       "    }\n",
       "\n",
       "    .dataframe thead th {\n",
       "        text-align: right;\n",
       "    }\n",
       "</style>\n",
       "<table border=\"1\" class=\"dataframe\">\n",
       "  <thead>\n",
       "    <tr style=\"text-align: right;\">\n",
       "      <th></th>\n",
       "      <th>Datatype</th>\n",
       "      <th>Variance</th>\n",
       "    </tr>\n",
       "  </thead>\n",
       "  <tbody>\n",
       "    <tr>\n",
       "      <th>record_ID</th>\n",
       "      <td>int64</td>\n",
       "      <td>3768219582</td>\n",
       "    </tr>\n",
       "    <tr>\n",
       "      <th>store_id</th>\n",
       "      <td>int64</td>\n",
       "      <td>378955</td>\n",
       "    </tr>\n",
       "    <tr>\n",
       "      <th>sku_id</th>\n",
       "      <td>int64</td>\n",
       "      <td>7318389790</td>\n",
       "    </tr>\n",
       "    <tr>\n",
       "      <th>total_price</th>\n",
       "      <td>float64</td>\n",
       "      <td>10673</td>\n",
       "    </tr>\n",
       "    <tr>\n",
       "      <th>base_price</th>\n",
       "      <td>float64</td>\n",
       "      <td>12312</td>\n",
       "    </tr>\n",
       "    <tr>\n",
       "      <th>is_featured_sku</th>\n",
       "      <td>int64</td>\n",
       "      <td>0</td>\n",
       "    </tr>\n",
       "    <tr>\n",
       "      <th>is_display_sku</th>\n",
       "      <td>int64</td>\n",
       "      <td>0</td>\n",
       "    </tr>\n",
       "    <tr>\n",
       "      <th>units_sold</th>\n",
       "      <td>int64</td>\n",
       "      <td>3625</td>\n",
       "    </tr>\n",
       "  </tbody>\n",
       "</table>\n",
       "</div>"
      ],
      "text/plain": [
       "                Datatype    Variance\n",
       "record_ID          int64  3768219582\n",
       "store_id           int64      378955\n",
       "sku_id             int64  7318389790\n",
       "total_price      float64       10673\n",
       "base_price       float64       12312\n",
       "is_featured_sku    int64           0\n",
       "is_display_sku     int64           0\n",
       "units_sold         int64        3625"
      ]
     },
     "execution_count": 399,
     "metadata": {},
     "output_type": "execute_result"
    }
   ],
   "source": [
    "## Get variance for train data numeric columns.\n",
    "variance(train.select_dtypes(['int64','float64']))"
   ]
  },
  {
   "cell_type": "code",
   "execution_count": 400,
   "metadata": {},
   "outputs": [
    {
     "data": {
      "text/html": [
       "<div>\n",
       "<style scoped>\n",
       "    .dataframe tbody tr th:only-of-type {\n",
       "        vertical-align: middle;\n",
       "    }\n",
       "\n",
       "    .dataframe tbody tr th {\n",
       "        vertical-align: top;\n",
       "    }\n",
       "\n",
       "    .dataframe thead th {\n",
       "        text-align: right;\n",
       "    }\n",
       "</style>\n",
       "<table border=\"1\" class=\"dataframe\">\n",
       "  <thead>\n",
       "    <tr style=\"text-align: right;\">\n",
       "      <th></th>\n",
       "      <th>Datatype</th>\n",
       "      <th>Variance</th>\n",
       "    </tr>\n",
       "  </thead>\n",
       "  <tbody>\n",
       "    <tr>\n",
       "      <th>record_ID</th>\n",
       "      <td>int64</td>\n",
       "      <td>32129154</td>\n",
       "    </tr>\n",
       "    <tr>\n",
       "      <th>store_id</th>\n",
       "      <td>int64</td>\n",
       "      <td>378978</td>\n",
       "    </tr>\n",
       "    <tr>\n",
       "      <th>sku_id</th>\n",
       "      <td>int64</td>\n",
       "      <td>7318820954</td>\n",
       "    </tr>\n",
       "    <tr>\n",
       "      <th>total_price</th>\n",
       "      <td>float64</td>\n",
       "      <td>8675</td>\n",
       "    </tr>\n",
       "    <tr>\n",
       "      <th>base_price</th>\n",
       "      <td>float64</td>\n",
       "      <td>10698</td>\n",
       "    </tr>\n",
       "    <tr>\n",
       "      <th>is_featured_sku</th>\n",
       "      <td>int64</td>\n",
       "      <td>0</td>\n",
       "    </tr>\n",
       "    <tr>\n",
       "      <th>is_display_sku</th>\n",
       "      <td>int64</td>\n",
       "      <td>0</td>\n",
       "    </tr>\n",
       "  </tbody>\n",
       "</table>\n",
       "</div>"
      ],
      "text/plain": [
       "                Datatype    Variance\n",
       "record_ID          int64    32129154\n",
       "store_id           int64      378978\n",
       "sku_id             int64  7318820954\n",
       "total_price      float64        8675\n",
       "base_price       float64       10698\n",
       "is_featured_sku    int64           0\n",
       "is_display_sku     int64           0"
      ]
     },
     "execution_count": 400,
     "metadata": {},
     "output_type": "execute_result"
    }
   ],
   "source": [
    "## Get variance for test data numeric columns.\n",
    "variance(test.select_dtypes(['int64','float64']))"
   ]
  },
  {
   "cell_type": "code",
   "execution_count": 401,
   "metadata": {},
   "outputs": [],
   "source": [
    "## Check special characters for categorical columns.\n",
    "def checkSpclCharcters(df):\n",
    "    for col in df.select_dtypes(['object']).columns:\n",
    "        print('\\n',col,'----->')\n",
    "        for index in range(1,len(df)):\n",
    "            if  str(df.loc[index,col]).isdigit() or df.loc[index,col]==' ' or \\\n",
    "                str(df.loc[index,col]).isalpha() or re.sub('[\\s+]', '',df.loc[index,col]).isalpha() or \\\n",
    "                re.sub('[\\s+]', '',df.loc[index,col]).replace('-','').isalnum() or str(df.loc[index,col]).isalnum():\n",
    "                skip = True\n",
    "            else:\n",
    "                print(\"Index \",index,\"\\tSpecial Character \",df.loc[index,col])       "
   ]
  },
  {
   "cell_type": "code",
   "execution_count": 402,
   "metadata": {},
   "outputs": [],
   "source": [
    "## Set record_ID column as index to train and test.\n",
    "train.set_index('record_ID',inplace=True)\n",
    "test.set_index('record_ID',inplace=True)"
   ]
  },
  {
   "cell_type": "code",
   "execution_count": 403,
   "metadata": {},
   "outputs": [
    {
     "data": {
      "text/html": [
       "<div>\n",
       "<style scoped>\n",
       "    .dataframe tbody tr th:only-of-type {\n",
       "        vertical-align: middle;\n",
       "    }\n",
       "\n",
       "    .dataframe tbody tr th {\n",
       "        vertical-align: top;\n",
       "    }\n",
       "\n",
       "    .dataframe thead th {\n",
       "        text-align: right;\n",
       "    }\n",
       "</style>\n",
       "<table border=\"1\" class=\"dataframe\">\n",
       "  <thead>\n",
       "    <tr style=\"text-align: right;\">\n",
       "      <th></th>\n",
       "      <th>week</th>\n",
       "      <th>store_id</th>\n",
       "      <th>sku_id</th>\n",
       "      <th>total_price</th>\n",
       "      <th>base_price</th>\n",
       "      <th>is_featured_sku</th>\n",
       "      <th>is_display_sku</th>\n",
       "      <th>units_sold</th>\n",
       "    </tr>\n",
       "    <tr>\n",
       "      <th>record_ID</th>\n",
       "      <th></th>\n",
       "      <th></th>\n",
       "      <th></th>\n",
       "      <th></th>\n",
       "      <th></th>\n",
       "      <th></th>\n",
       "      <th></th>\n",
       "      <th></th>\n",
       "    </tr>\n",
       "  </thead>\n",
       "  <tbody>\n",
       "    <tr>\n",
       "      <th>1</th>\n",
       "      <td>17/01/11</td>\n",
       "      <td>8091</td>\n",
       "      <td>216418</td>\n",
       "      <td>99.0375</td>\n",
       "      <td>111.8625</td>\n",
       "      <td>0</td>\n",
       "      <td>0</td>\n",
       "      <td>20</td>\n",
       "    </tr>\n",
       "  </tbody>\n",
       "</table>\n",
       "</div>"
      ],
      "text/plain": [
       "               week  store_id  sku_id  total_price  base_price  \\\n",
       "record_ID                                                        \n",
       "1          17/01/11      8091  216418      99.0375    111.8625   \n",
       "\n",
       "           is_featured_sku  is_display_sku  units_sold  \n",
       "record_ID                                               \n",
       "1                        0               0          20  "
      ]
     },
     "execution_count": 403,
     "metadata": {},
     "output_type": "execute_result"
    }
   ],
   "source": [
    "## Check train first record after setting index.\n",
    "train.head(1)"
   ]
  },
  {
   "cell_type": "code",
   "execution_count": 404,
   "metadata": {},
   "outputs": [
    {
     "data": {
      "text/html": [
       "<div>\n",
       "<style scoped>\n",
       "    .dataframe tbody tr th:only-of-type {\n",
       "        vertical-align: middle;\n",
       "    }\n",
       "\n",
       "    .dataframe tbody tr th {\n",
       "        vertical-align: top;\n",
       "    }\n",
       "\n",
       "    .dataframe thead th {\n",
       "        text-align: right;\n",
       "    }\n",
       "</style>\n",
       "<table border=\"1\" class=\"dataframe\">\n",
       "  <thead>\n",
       "    <tr style=\"text-align: right;\">\n",
       "      <th></th>\n",
       "      <th>week</th>\n",
       "      <th>store_id</th>\n",
       "      <th>sku_id</th>\n",
       "      <th>total_price</th>\n",
       "      <th>base_price</th>\n",
       "      <th>is_featured_sku</th>\n",
       "      <th>is_display_sku</th>\n",
       "    </tr>\n",
       "    <tr>\n",
       "      <th>record_ID</th>\n",
       "      <th></th>\n",
       "      <th></th>\n",
       "      <th></th>\n",
       "      <th></th>\n",
       "      <th></th>\n",
       "      <th></th>\n",
       "      <th></th>\n",
       "    </tr>\n",
       "  </thead>\n",
       "  <tbody>\n",
       "    <tr>\n",
       "      <th>212645</th>\n",
       "      <td>16/07/13</td>\n",
       "      <td>8091</td>\n",
       "      <td>216418</td>\n",
       "      <td>108.3</td>\n",
       "      <td>108.3</td>\n",
       "      <td>0</td>\n",
       "      <td>0</td>\n",
       "    </tr>\n",
       "  </tbody>\n",
       "</table>\n",
       "</div>"
      ],
      "text/plain": [
       "               week  store_id  sku_id  total_price  base_price  \\\n",
       "record_ID                                                        \n",
       "212645     16/07/13      8091  216418        108.3       108.3   \n",
       "\n",
       "           is_featured_sku  is_display_sku  \n",
       "record_ID                                   \n",
       "212645                   0               0  "
      ]
     },
     "execution_count": 404,
     "metadata": {},
     "output_type": "execute_result"
    }
   ],
   "source": [
    "## Check test first record after setting index.\n",
    "test.head(1)"
   ]
  },
  {
   "cell_type": "code",
   "execution_count": 405,
   "metadata": {},
   "outputs": [],
   "source": [
    "## Extract features from week column.\n",
    "\n",
    "## Converting week into datetime format for train data.\n",
    "train['date'] = pd.to_datetime(train['week'])"
   ]
  },
  {
   "cell_type": "code",
   "execution_count": 406,
   "metadata": {},
   "outputs": [],
   "source": [
    "## Converting week into datetime format for test data.\n",
    "test['date'] = pd.to_datetime(test['week'])"
   ]
  },
  {
   "cell_type": "code",
   "execution_count": 407,
   "metadata": {},
   "outputs": [],
   "source": [
    "## Extract date from date for train data.\n",
    "train['date'] = [d.date() for d in train['date']]"
   ]
  },
  {
   "cell_type": "code",
   "execution_count": 408,
   "metadata": {},
   "outputs": [],
   "source": [
    "## Extract date from date for test data.\n",
    "test['date'] = [d.date() for d in test['date']]"
   ]
  },
  {
   "cell_type": "code",
   "execution_count": 409,
   "metadata": {},
   "outputs": [],
   "source": [
    "## Drop week column from train data beacuse we have extracted features from them\n",
    "## so those columns are not required.\n",
    "train.drop(['week'], axis=1, inplace=True)"
   ]
  },
  {
   "cell_type": "code",
   "execution_count": 410,
   "metadata": {},
   "outputs": [],
   "source": [
    "## Drop week column from test data beacuse we have extracted features from them\n",
    "## so those columns are not required.\n",
    "test.drop(['week'], axis=1, inplace=True)"
   ]
  },
  {
   "cell_type": "code",
   "execution_count": 411,
   "metadata": {},
   "outputs": [],
   "source": [
    "## Extract day,month,year features from date column of train data and also drop \n",
    "## date column after feature extraction.\n",
    "train['year'] = train['date'].apply(lambda x: x.year)\n",
    "train['month'] = train['date'].apply(lambda x: x.month)\n",
    "train['day'] = train['date'].apply(lambda x: x.day)\n",
    "train.drop(['date'], axis=1, inplace=True)"
   ]
  },
  {
   "cell_type": "code",
   "execution_count": 412,
   "metadata": {},
   "outputs": [],
   "source": [
    "## Extract day,month,year features from date column of test data and also drop \n",
    "## date column after feature extraction.\n",
    "test['year'] = test['date'].apply(lambda x: x.year)\n",
    "test['month'] = test['date'].apply(lambda x: x.month)\n",
    "test['day'] = test['date'].apply(lambda x: x.day)\n",
    "test.drop(['date'], axis=1, inplace=True)"
   ]
  },
  {
   "cell_type": "code",
   "execution_count": 413,
   "metadata": {},
   "outputs": [
    {
     "data": {
      "text/html": [
       "<div>\n",
       "<style scoped>\n",
       "    .dataframe tbody tr th:only-of-type {\n",
       "        vertical-align: middle;\n",
       "    }\n",
       "\n",
       "    .dataframe tbody tr th {\n",
       "        vertical-align: top;\n",
       "    }\n",
       "\n",
       "    .dataframe thead th {\n",
       "        text-align: right;\n",
       "    }\n",
       "</style>\n",
       "<table border=\"1\" class=\"dataframe\">\n",
       "  <thead>\n",
       "    <tr style=\"text-align: right;\">\n",
       "      <th></th>\n",
       "      <th>store_id</th>\n",
       "      <th>sku_id</th>\n",
       "      <th>total_price</th>\n",
       "      <th>base_price</th>\n",
       "      <th>is_featured_sku</th>\n",
       "      <th>is_display_sku</th>\n",
       "      <th>units_sold</th>\n",
       "      <th>year</th>\n",
       "      <th>month</th>\n",
       "      <th>day</th>\n",
       "    </tr>\n",
       "    <tr>\n",
       "      <th>record_ID</th>\n",
       "      <th></th>\n",
       "      <th></th>\n",
       "      <th></th>\n",
       "      <th></th>\n",
       "      <th></th>\n",
       "      <th></th>\n",
       "      <th></th>\n",
       "      <th></th>\n",
       "      <th></th>\n",
       "      <th></th>\n",
       "    </tr>\n",
       "  </thead>\n",
       "  <tbody>\n",
       "    <tr>\n",
       "      <th>1</th>\n",
       "      <td>8091</td>\n",
       "      <td>216418</td>\n",
       "      <td>99.0375</td>\n",
       "      <td>111.8625</td>\n",
       "      <td>0</td>\n",
       "      <td>0</td>\n",
       "      <td>20</td>\n",
       "      <td>2011</td>\n",
       "      <td>1</td>\n",
       "      <td>17</td>\n",
       "    </tr>\n",
       "  </tbody>\n",
       "</table>\n",
       "</div>"
      ],
      "text/plain": [
       "           store_id  sku_id  total_price  base_price  is_featured_sku  \\\n",
       "record_ID                                                               \n",
       "1              8091  216418      99.0375    111.8625                0   \n",
       "\n",
       "           is_display_sku  units_sold  year  month  day  \n",
       "record_ID                                                \n",
       "1                       0          20  2011      1   17  "
      ]
     },
     "execution_count": 413,
     "metadata": {},
     "output_type": "execute_result"
    }
   ],
   "source": [
    "## Check first record of train data after feature extractions.\n",
    "train.head(1)"
   ]
  },
  {
   "cell_type": "code",
   "execution_count": 414,
   "metadata": {
    "scrolled": true
   },
   "outputs": [
    {
     "data": {
      "text/html": [
       "<div>\n",
       "<style scoped>\n",
       "    .dataframe tbody tr th:only-of-type {\n",
       "        vertical-align: middle;\n",
       "    }\n",
       "\n",
       "    .dataframe tbody tr th {\n",
       "        vertical-align: top;\n",
       "    }\n",
       "\n",
       "    .dataframe thead th {\n",
       "        text-align: right;\n",
       "    }\n",
       "</style>\n",
       "<table border=\"1\" class=\"dataframe\">\n",
       "  <thead>\n",
       "    <tr style=\"text-align: right;\">\n",
       "      <th></th>\n",
       "      <th>store_id</th>\n",
       "      <th>sku_id</th>\n",
       "      <th>total_price</th>\n",
       "      <th>base_price</th>\n",
       "      <th>is_featured_sku</th>\n",
       "      <th>is_display_sku</th>\n",
       "      <th>year</th>\n",
       "      <th>month</th>\n",
       "      <th>day</th>\n",
       "    </tr>\n",
       "    <tr>\n",
       "      <th>record_ID</th>\n",
       "      <th></th>\n",
       "      <th></th>\n",
       "      <th></th>\n",
       "      <th></th>\n",
       "      <th></th>\n",
       "      <th></th>\n",
       "      <th></th>\n",
       "      <th></th>\n",
       "      <th></th>\n",
       "    </tr>\n",
       "  </thead>\n",
       "  <tbody>\n",
       "    <tr>\n",
       "      <th>212645</th>\n",
       "      <td>8091</td>\n",
       "      <td>216418</td>\n",
       "      <td>108.3</td>\n",
       "      <td>108.3</td>\n",
       "      <td>0</td>\n",
       "      <td>0</td>\n",
       "      <td>2013</td>\n",
       "      <td>7</td>\n",
       "      <td>16</td>\n",
       "    </tr>\n",
       "  </tbody>\n",
       "</table>\n",
       "</div>"
      ],
      "text/plain": [
       "           store_id  sku_id  total_price  base_price  is_featured_sku  \\\n",
       "record_ID                                                               \n",
       "212645         8091  216418        108.3       108.3                0   \n",
       "\n",
       "           is_display_sku  year  month  day  \n",
       "record_ID                                    \n",
       "212645                  0  2013      7   16  "
      ]
     },
     "execution_count": 414,
     "metadata": {},
     "output_type": "execute_result"
    }
   ],
   "source": [
    "## Check first record of test data after feature extractions.\n",
    "test.head(1)"
   ]
  },
  {
   "cell_type": "code",
   "execution_count": 415,
   "metadata": {},
   "outputs": [],
   "source": [
    "## Drop duplicate records from train data\n",
    "train.drop_duplicates(keep = False, inplace = True) ## Return DataFrame with duplicate rows removed."
   ]
  },
  {
   "cell_type": "code",
   "execution_count": 416,
   "metadata": {},
   "outputs": [],
   "source": [
    "## Drop duplicate records from test data\n",
    "test.drop_duplicates(keep = False, inplace = True) ## Return DataFrame with duplicate rows removed."
   ]
  },
  {
   "cell_type": "code",
   "execution_count": 417,
   "metadata": {},
   "outputs": [],
   "source": [
    "## Data type conversion.\n",
    "\n",
    "## Convert objet/int64/float64 into category(non numeric columns).\n",
    "cat_column = ['store_id','sku_id','is_featured_sku','is_display_sku','year','month','day']\n",
    "\n",
    "## Convert object type to category data type.\n",
    "def dtypeConversion(df):  \n",
    "    for i in cat_column:\n",
    "        df[i]=df[i].astype('category')"
   ]
  },
  {
   "cell_type": "code",
   "execution_count": 418,
   "metadata": {},
   "outputs": [],
   "source": [
    "## Convert object data type to category data type for train data.\n",
    "dtypeConversion(train)"
   ]
  },
  {
   "cell_type": "code",
   "execution_count": 419,
   "metadata": {},
   "outputs": [],
   "source": [
    "dtypeConversion(test)"
   ]
  },
  {
   "cell_type": "code",
   "execution_count": 420,
   "metadata": {
    "scrolled": true
   },
   "outputs": [
    {
     "data": {
      "text/plain": [
       "store_id           category\n",
       "sku_id             category\n",
       "total_price         float64\n",
       "base_price          float64\n",
       "is_featured_sku    category\n",
       "is_display_sku     category\n",
       "units_sold            int64\n",
       "year               category\n",
       "month              category\n",
       "day                category\n",
       "dtype: object"
      ]
     },
     "execution_count": 420,
     "metadata": {},
     "output_type": "execute_result"
    }
   ],
   "source": [
    "## Check column data types for train after conversion.\n",
    "train.dtypes"
   ]
  },
  {
   "cell_type": "code",
   "execution_count": 421,
   "metadata": {
    "scrolled": true
   },
   "outputs": [
    {
     "data": {
      "text/plain": [
       "store_id           category\n",
       "sku_id             category\n",
       "total_price         float64\n",
       "base_price          float64\n",
       "is_featured_sku    category\n",
       "is_display_sku     category\n",
       "year               category\n",
       "month              category\n",
       "day                category\n",
       "dtype: object"
      ]
     },
     "execution_count": 421,
     "metadata": {},
     "output_type": "execute_result"
    }
   ],
   "source": [
    "## Check column data types for test after conversion.\n",
    "test.dtypes"
   ]
  },
  {
   "cell_type": "code",
   "execution_count": 422,
   "metadata": {
    "scrolled": true
   },
   "outputs": [
    {
     "data": {
      "text/html": [
       "<div>\n",
       "<style scoped>\n",
       "    .dataframe tbody tr th:only-of-type {\n",
       "        vertical-align: middle;\n",
       "    }\n",
       "\n",
       "    .dataframe tbody tr th {\n",
       "        vertical-align: top;\n",
       "    }\n",
       "\n",
       "    .dataframe thead th {\n",
       "        text-align: right;\n",
       "    }\n",
       "</style>\n",
       "<table border=\"1\" class=\"dataframe\">\n",
       "  <thead>\n",
       "    <tr style=\"text-align: right;\">\n",
       "      <th></th>\n",
       "      <th>total_price</th>\n",
       "      <th>base_price</th>\n",
       "      <th>units_sold</th>\n",
       "    </tr>\n",
       "  </thead>\n",
       "  <tbody>\n",
       "    <tr>\n",
       "      <th>total_price</th>\n",
       "      <td>1.000000</td>\n",
       "      <td>0.958885</td>\n",
       "      <td>-0.235625</td>\n",
       "    </tr>\n",
       "    <tr>\n",
       "      <th>base_price</th>\n",
       "      <td>0.958885</td>\n",
       "      <td>1.000000</td>\n",
       "      <td>-0.140022</td>\n",
       "    </tr>\n",
       "    <tr>\n",
       "      <th>units_sold</th>\n",
       "      <td>-0.235625</td>\n",
       "      <td>-0.140022</td>\n",
       "      <td>1.000000</td>\n",
       "    </tr>\n",
       "  </tbody>\n",
       "</table>\n",
       "</div>"
      ],
      "text/plain": [
       "             total_price  base_price  units_sold\n",
       "total_price     1.000000    0.958885   -0.235625\n",
       "base_price      0.958885    1.000000   -0.140022\n",
       "units_sold     -0.235625   -0.140022    1.000000"
      ]
     },
     "execution_count": 422,
     "metadata": {},
     "output_type": "execute_result"
    }
   ],
   "source": [
    "## Check corrlation between numeric columns of validation data.\n",
    "train.select_dtypes(['int64','float64']).corr()"
   ]
  },
  {
   "cell_type": "code",
   "execution_count": 423,
   "metadata": {
    "scrolled": true
   },
   "outputs": [
    {
     "data": {
      "text/html": [
       "<div>\n",
       "<style scoped>\n",
       "    .dataframe tbody tr th:only-of-type {\n",
       "        vertical-align: middle;\n",
       "    }\n",
       "\n",
       "    .dataframe tbody tr th {\n",
       "        vertical-align: top;\n",
       "    }\n",
       "\n",
       "    .dataframe thead th {\n",
       "        text-align: right;\n",
       "    }\n",
       "</style>\n",
       "<table border=\"1\" class=\"dataframe\">\n",
       "  <thead>\n",
       "    <tr style=\"text-align: right;\">\n",
       "      <th></th>\n",
       "      <th>total_price</th>\n",
       "      <th>base_price</th>\n",
       "    </tr>\n",
       "  </thead>\n",
       "  <tbody>\n",
       "    <tr>\n",
       "      <th>total_price</th>\n",
       "      <td>1.00000</td>\n",
       "      <td>0.96406</td>\n",
       "    </tr>\n",
       "    <tr>\n",
       "      <th>base_price</th>\n",
       "      <td>0.96406</td>\n",
       "      <td>1.00000</td>\n",
       "    </tr>\n",
       "  </tbody>\n",
       "</table>\n",
       "</div>"
      ],
      "text/plain": [
       "             total_price  base_price\n",
       "total_price      1.00000     0.96406\n",
       "base_price       0.96406     1.00000"
      ]
     },
     "execution_count": 423,
     "metadata": {},
     "output_type": "execute_result"
    }
   ],
   "source": [
    "## Check corrlation between numeric columns of test data.\n",
    "test.select_dtypes(['int64','float64']).corr()"
   ]
  },
  {
   "cell_type": "code",
   "execution_count": 433,
   "metadata": {},
   "outputs": [],
   "source": [
    "## Split data into train and validation(70:30 ratio).\n",
    "X_train,X_test,y_train,y_test = train_test_split(train.drop('units_sold',axis=1),train['units_sold'],test_size=0.3,random_state=123)"
   ]
  },
  {
   "cell_type": "code",
   "execution_count": 434,
   "metadata": {},
   "outputs": [
    {
     "data": {
      "text/html": [
       "<div>\n",
       "<style scoped>\n",
       "    .dataframe tbody tr th:only-of-type {\n",
       "        vertical-align: middle;\n",
       "    }\n",
       "\n",
       "    .dataframe tbody tr th {\n",
       "        vertical-align: top;\n",
       "    }\n",
       "\n",
       "    .dataframe thead th {\n",
       "        text-align: right;\n",
       "    }\n",
       "</style>\n",
       "<table border=\"1\" class=\"dataframe\">\n",
       "  <thead>\n",
       "    <tr style=\"text-align: right;\">\n",
       "      <th></th>\n",
       "      <th>store_id</th>\n",
       "      <th>sku_id</th>\n",
       "      <th>total_price</th>\n",
       "      <th>base_price</th>\n",
       "      <th>is_featured_sku</th>\n",
       "      <th>is_display_sku</th>\n",
       "      <th>year</th>\n",
       "      <th>month</th>\n",
       "      <th>day</th>\n",
       "    </tr>\n",
       "    <tr>\n",
       "      <th>record_ID</th>\n",
       "      <th></th>\n",
       "      <th></th>\n",
       "      <th></th>\n",
       "      <th></th>\n",
       "      <th></th>\n",
       "      <th></th>\n",
       "      <th></th>\n",
       "      <th></th>\n",
       "      <th></th>\n",
       "    </tr>\n",
       "  </thead>\n",
       "  <tbody>\n",
       "    <tr>\n",
       "      <th>142235</th>\n",
       "      <td>9984</td>\n",
       "      <td>219029</td>\n",
       "      <td>312.7875</td>\n",
       "      <td>312.7875</td>\n",
       "      <td>0</td>\n",
       "      <td>0</td>\n",
       "      <td>2012</td>\n",
       "      <td>11</td>\n",
       "      <td>9</td>\n",
       "    </tr>\n",
       "  </tbody>\n",
       "</table>\n",
       "</div>"
      ],
      "text/plain": [
       "          store_id  sku_id  total_price  base_price is_featured_sku  \\\n",
       "record_ID                                                             \n",
       "142235        9984  219029     312.7875    312.7875               0   \n",
       "\n",
       "          is_display_sku  year month day  \n",
       "record_ID                                 \n",
       "142235                 0  2012    11   9  "
      ]
     },
     "execution_count": 434,
     "metadata": {},
     "output_type": "execute_result"
    }
   ],
   "source": [
    "## Check first record of train data.\n",
    "X_train.head(1)"
   ]
  },
  {
   "cell_type": "code",
   "execution_count": 435,
   "metadata": {},
   "outputs": [
    {
     "data": {
      "text/html": [
       "<div>\n",
       "<style scoped>\n",
       "    .dataframe tbody tr th:only-of-type {\n",
       "        vertical-align: middle;\n",
       "    }\n",
       "\n",
       "    .dataframe tbody tr th {\n",
       "        vertical-align: top;\n",
       "    }\n",
       "\n",
       "    .dataframe thead th {\n",
       "        text-align: right;\n",
       "    }\n",
       "</style>\n",
       "<table border=\"1\" class=\"dataframe\">\n",
       "  <thead>\n",
       "    <tr style=\"text-align: right;\">\n",
       "      <th></th>\n",
       "      <th>store_id</th>\n",
       "      <th>sku_id</th>\n",
       "      <th>total_price</th>\n",
       "      <th>base_price</th>\n",
       "      <th>is_featured_sku</th>\n",
       "      <th>is_display_sku</th>\n",
       "      <th>year</th>\n",
       "      <th>month</th>\n",
       "      <th>day</th>\n",
       "    </tr>\n",
       "    <tr>\n",
       "      <th>record_ID</th>\n",
       "      <th></th>\n",
       "      <th></th>\n",
       "      <th></th>\n",
       "      <th></th>\n",
       "      <th></th>\n",
       "      <th></th>\n",
       "      <th></th>\n",
       "      <th></th>\n",
       "      <th></th>\n",
       "    </tr>\n",
       "  </thead>\n",
       "  <tbody>\n",
       "    <tr>\n",
       "      <th>194013</th>\n",
       "      <td>9498</td>\n",
       "      <td>219029</td>\n",
       "      <td>327.0375</td>\n",
       "      <td>327.0375</td>\n",
       "      <td>0</td>\n",
       "      <td>0</td>\n",
       "      <td>2013</td>\n",
       "      <td>4</td>\n",
       "      <td>23</td>\n",
       "    </tr>\n",
       "  </tbody>\n",
       "</table>\n",
       "</div>"
      ],
      "text/plain": [
       "          store_id  sku_id  total_price  base_price is_featured_sku  \\\n",
       "record_ID                                                             \n",
       "194013        9498  219029     327.0375    327.0375               0   \n",
       "\n",
       "          is_display_sku  year month day  \n",
       "record_ID                                 \n",
       "194013                 0  2013     4  23  "
      ]
     },
     "execution_count": 435,
     "metadata": {},
     "output_type": "execute_result"
    }
   ],
   "source": [
    "## Check first record of validation data.\n",
    "X_test.head(1)"
   ]
  },
  {
   "cell_type": "code",
   "execution_count": 436,
   "metadata": {},
   "outputs": [
    {
     "data": {
      "text/plain": [
       "record_ID\n",
       "142235    15\n",
       "Name: units_sold, dtype: int64"
      ]
     },
     "execution_count": 436,
     "metadata": {},
     "output_type": "execute_result"
    }
   ],
   "source": [
    "## Check first record of train target data.\n",
    "y_train.head(1)"
   ]
  },
  {
   "cell_type": "code",
   "execution_count": 437,
   "metadata": {},
   "outputs": [
    {
     "data": {
      "text/plain": [
       "record_ID\n",
       "194013    21\n",
       "Name: units_sold, dtype: int64"
      ]
     },
     "execution_count": 437,
     "metadata": {},
     "output_type": "execute_result"
    }
   ],
   "source": [
    "## Check first record of validation target data.\n",
    "y_test.head(1)"
   ]
  },
  {
   "cell_type": "code",
   "execution_count": 438,
   "metadata": {},
   "outputs": [
    {
     "data": {
      "text/plain": [
       "store_id           0\n",
       "sku_id             0\n",
       "total_price        0\n",
       "base_price         0\n",
       "is_featured_sku    0\n",
       "is_display_sku     0\n",
       "year               0\n",
       "month              0\n",
       "day                0\n",
       "dtype: int64"
      ]
     },
     "execution_count": 438,
     "metadata": {},
     "output_type": "execute_result"
    }
   ],
   "source": [
    "## Check NA values for train data.\n",
    "X_train.isna().sum()"
   ]
  },
  {
   "cell_type": "code",
   "execution_count": 439,
   "metadata": {
    "scrolled": true
   },
   "outputs": [
    {
     "data": {
      "text/plain": [
       "store_id           0\n",
       "sku_id             0\n",
       "total_price        0\n",
       "base_price         0\n",
       "is_featured_sku    0\n",
       "is_display_sku     0\n",
       "year               0\n",
       "month              0\n",
       "day                0\n",
       "dtype: int64"
      ]
     },
     "execution_count": 439,
     "metadata": {},
     "output_type": "execute_result"
    }
   ],
   "source": [
    "## Check NA values for validation data.\n",
    "X_test.isna().sum()"
   ]
  },
  {
   "cell_type": "code",
   "execution_count": null,
   "metadata": {},
   "outputs": [],
   "source": [
    "## Create a empty dataframe and calculate VIF for train data.\n",
    "vif=pd.DataFrame()\n",
    "vif['Vif']=[variance_inflation_factor(X_train.values,i) for i in range(X_train.shape[1])]\n",
    "vif['Variables']=X_train.columns.values"
   ]
  },
  {
   "cell_type": "code",
   "execution_count": null,
   "metadata": {},
   "outputs": [],
   "source": [
    "## Create a empty dataframe and calculate VIF for validation data.\n",
    "vif=pd.DataFrame()\n",
    "vif['Vif']=[variance_inflation_factor(X_test.values,i) for i in range(X_test.shape[1])]\n",
    "vif['Variables']=X_test.columns.values"
   ]
  },
  {
   "cell_type": "code",
   "execution_count": null,
   "metadata": {},
   "outputs": [],
   "source": [
    "#################################################### Label Encoding ###########################################################"
   ]
  },
  {
   "cell_type": "code",
   "execution_count": 442,
   "metadata": {},
   "outputs": [],
   "source": [
    "## Instantiate lable encoder.\n",
    "\n",
    "le_storeId = LabelEncoder()\n",
    "le_skuId = LabelEncoder()\n",
    "le_featuresSKU = LabelEncoder()\n",
    "le_displaySKU = LabelEncoder()\n",
    "le_year = LabelEncoder()\n",
    "le_month = LabelEncoder()\n",
    "le_day = LabelEncoder()"
   ]
  },
  {
   "cell_type": "code",
   "execution_count": 443,
   "metadata": {},
   "outputs": [],
   "source": [
    "## Do label encoding on train data.\n",
    "X_train['store_id'] = le_storeId.fit_transform(X_train['store_id'])\n",
    "X_train['sku_id'] = le_skuId.fit_transform(X_train['sku_id'])\n",
    "X_train['is_featured_sku'] = le_featuresSKU.fit_transform(X_train['is_featured_sku'])\n",
    "X_train['is_display_sku'] = le_displaySKU.fit_transform(X_train['is_display_sku'])\n",
    "X_train['year'] = le_year.fit_transform(X_train['year'])\n",
    "X_train['month'] = le_month.fit_transform(X_train['month'])\n",
    "X_train['day'] = le_day.fit_transform(X_train['day'])"
   ]
  },
  {
   "cell_type": "code",
   "execution_count": 444,
   "metadata": {},
   "outputs": [],
   "source": [
    "## Do label encoding on validation data.\n",
    "X_test['store_id'] = le_storeId.transform(X_test['store_id'])\n",
    "X_test['sku_id'] = le_skuId.transform(X_test['sku_id'])\n",
    "X_test['is_featured_sku'] = le_featuresSKU.transform(X_test['is_featured_sku'])\n",
    "X_test['is_display_sku'] = le_displaySKU.transform(X_test['is_display_sku'])\n",
    "X_test['year'] = le_year.transform(X_test['year'])\n",
    "X_test['month'] = le_month.transform(X_test['month'])\n",
    "X_test['day'] = le_day.transform(X_test['day'])"
   ]
  },
  {
   "cell_type": "code",
   "execution_count": 445,
   "metadata": {},
   "outputs": [],
   "source": [
    "## Do label encoding on test data.\n",
    "test['store_id'] = le_storeId.transform(test['store_id'])\n",
    "test['sku_id'] = le_skuId.transform(test['sku_id'])\n",
    "test['is_featured_sku'] = le_featuresSKU.transform(test['is_featured_sku'])\n",
    "test['is_display_sku'] = le_displaySKU.transform(test['is_display_sku'])\n",
    "test['year'] = le_year.transform(test['year'])\n",
    "test['month'] = le_month.transform(test['month'])\n",
    "test['day'] = le_day.transform(test['day'])"
   ]
  },
  {
   "cell_type": "code",
   "execution_count": 446,
   "metadata": {},
   "outputs": [
    {
     "data": {
      "text/html": [
       "<div>\n",
       "<style scoped>\n",
       "    .dataframe tbody tr th:only-of-type {\n",
       "        vertical-align: middle;\n",
       "    }\n",
       "\n",
       "    .dataframe tbody tr th {\n",
       "        vertical-align: top;\n",
       "    }\n",
       "\n",
       "    .dataframe thead th {\n",
       "        text-align: right;\n",
       "    }\n",
       "</style>\n",
       "<table border=\"1\" class=\"dataframe\">\n",
       "  <thead>\n",
       "    <tr style=\"text-align: right;\">\n",
       "      <th></th>\n",
       "      <th>store_id</th>\n",
       "      <th>sku_id</th>\n",
       "      <th>total_price</th>\n",
       "      <th>base_price</th>\n",
       "      <th>is_featured_sku</th>\n",
       "      <th>is_display_sku</th>\n",
       "      <th>year</th>\n",
       "      <th>month</th>\n",
       "      <th>day</th>\n",
       "    </tr>\n",
       "    <tr>\n",
       "      <th>record_ID</th>\n",
       "      <th></th>\n",
       "      <th></th>\n",
       "      <th></th>\n",
       "      <th></th>\n",
       "      <th></th>\n",
       "      <th></th>\n",
       "      <th></th>\n",
       "      <th></th>\n",
       "      <th></th>\n",
       "    </tr>\n",
       "  </thead>\n",
       "  <tbody>\n",
       "    <tr>\n",
       "      <th>142235</th>\n",
       "      <td>75</td>\n",
       "      <td>8</td>\n",
       "      <td>312.7875</td>\n",
       "      <td>312.7875</td>\n",
       "      <td>0</td>\n",
       "      <td>0</td>\n",
       "      <td>1</td>\n",
       "      <td>10</td>\n",
       "      <td>8</td>\n",
       "    </tr>\n",
       "  </tbody>\n",
       "</table>\n",
       "</div>"
      ],
      "text/plain": [
       "           store_id  sku_id  total_price  base_price  is_featured_sku  \\\n",
       "record_ID                                                               \n",
       "142235           75       8     312.7875    312.7875                0   \n",
       "\n",
       "           is_display_sku  year  month  day  \n",
       "record_ID                                    \n",
       "142235                  0     1     10    8  "
      ]
     },
     "execution_count": 446,
     "metadata": {},
     "output_type": "execute_result"
    }
   ],
   "source": [
    "## Check train data after doing label encoding.\n",
    "X_train.head(1)"
   ]
  },
  {
   "cell_type": "code",
   "execution_count": 447,
   "metadata": {},
   "outputs": [
    {
     "data": {
      "text/html": [
       "<div>\n",
       "<style scoped>\n",
       "    .dataframe tbody tr th:only-of-type {\n",
       "        vertical-align: middle;\n",
       "    }\n",
       "\n",
       "    .dataframe tbody tr th {\n",
       "        vertical-align: top;\n",
       "    }\n",
       "\n",
       "    .dataframe thead th {\n",
       "        text-align: right;\n",
       "    }\n",
       "</style>\n",
       "<table border=\"1\" class=\"dataframe\">\n",
       "  <thead>\n",
       "    <tr style=\"text-align: right;\">\n",
       "      <th></th>\n",
       "      <th>store_id</th>\n",
       "      <th>sku_id</th>\n",
       "      <th>total_price</th>\n",
       "      <th>base_price</th>\n",
       "      <th>is_featured_sku</th>\n",
       "      <th>is_display_sku</th>\n",
       "      <th>year</th>\n",
       "      <th>month</th>\n",
       "      <th>day</th>\n",
       "    </tr>\n",
       "    <tr>\n",
       "      <th>record_ID</th>\n",
       "      <th></th>\n",
       "      <th></th>\n",
       "      <th></th>\n",
       "      <th></th>\n",
       "      <th></th>\n",
       "      <th></th>\n",
       "      <th></th>\n",
       "      <th></th>\n",
       "      <th></th>\n",
       "    </tr>\n",
       "  </thead>\n",
       "  <tbody>\n",
       "    <tr>\n",
       "      <th>194013</th>\n",
       "      <td>47</td>\n",
       "      <td>8</td>\n",
       "      <td>327.0375</td>\n",
       "      <td>327.0375</td>\n",
       "      <td>0</td>\n",
       "      <td>0</td>\n",
       "      <td>2</td>\n",
       "      <td>3</td>\n",
       "      <td>22</td>\n",
       "    </tr>\n",
       "  </tbody>\n",
       "</table>\n",
       "</div>"
      ],
      "text/plain": [
       "           store_id  sku_id  total_price  base_price  is_featured_sku  \\\n",
       "record_ID                                                               \n",
       "194013           47       8     327.0375    327.0375                0   \n",
       "\n",
       "           is_display_sku  year  month  day  \n",
       "record_ID                                    \n",
       "194013                  0     2      3   22  "
      ]
     },
     "execution_count": 447,
     "metadata": {},
     "output_type": "execute_result"
    }
   ],
   "source": [
    "## Check validation data after doing label encoding.\n",
    "X_test.head(1)"
   ]
  },
  {
   "cell_type": "code",
   "execution_count": 448,
   "metadata": {},
   "outputs": [
    {
     "data": {
      "text/html": [
       "<div>\n",
       "<style scoped>\n",
       "    .dataframe tbody tr th:only-of-type {\n",
       "        vertical-align: middle;\n",
       "    }\n",
       "\n",
       "    .dataframe tbody tr th {\n",
       "        vertical-align: top;\n",
       "    }\n",
       "\n",
       "    .dataframe thead th {\n",
       "        text-align: right;\n",
       "    }\n",
       "</style>\n",
       "<table border=\"1\" class=\"dataframe\">\n",
       "  <thead>\n",
       "    <tr style=\"text-align: right;\">\n",
       "      <th></th>\n",
       "      <th>store_id</th>\n",
       "      <th>sku_id</th>\n",
       "      <th>total_price</th>\n",
       "      <th>base_price</th>\n",
       "      <th>is_featured_sku</th>\n",
       "      <th>is_display_sku</th>\n",
       "      <th>year</th>\n",
       "      <th>month</th>\n",
       "      <th>day</th>\n",
       "    </tr>\n",
       "    <tr>\n",
       "      <th>record_ID</th>\n",
       "      <th></th>\n",
       "      <th></th>\n",
       "      <th></th>\n",
       "      <th></th>\n",
       "      <th></th>\n",
       "      <th></th>\n",
       "      <th></th>\n",
       "      <th></th>\n",
       "      <th></th>\n",
       "    </tr>\n",
       "  </thead>\n",
       "  <tbody>\n",
       "    <tr>\n",
       "      <th>212645</th>\n",
       "      <td>3</td>\n",
       "      <td>1</td>\n",
       "      <td>108.3</td>\n",
       "      <td>108.3</td>\n",
       "      <td>0</td>\n",
       "      <td>0</td>\n",
       "      <td>2</td>\n",
       "      <td>6</td>\n",
       "      <td>15</td>\n",
       "    </tr>\n",
       "  </tbody>\n",
       "</table>\n",
       "</div>"
      ],
      "text/plain": [
       "           store_id  sku_id  total_price  base_price  is_featured_sku  \\\n",
       "record_ID                                                               \n",
       "212645            3       1        108.3       108.3                0   \n",
       "\n",
       "           is_display_sku  year  month  day  \n",
       "record_ID                                    \n",
       "212645                  0     2      6   15  "
      ]
     },
     "execution_count": 448,
     "metadata": {},
     "output_type": "execute_result"
    }
   ],
   "source": [
    "## Check test data after doing label encoding.\n",
    "test.head(1)"
   ]
  },
  {
   "cell_type": "code",
   "execution_count": 449,
   "metadata": {},
   "outputs": [],
   "source": [
    "########################################## Build Different Models #############################################################"
   ]
  },
  {
   "cell_type": "code",
   "execution_count": 450,
   "metadata": {},
   "outputs": [],
   "source": [
    "################################################# Linear Regression ###########################################################"
   ]
  },
  {
   "cell_type": "code",
   "execution_count": 155,
   "metadata": {},
   "outputs": [],
   "source": [
    "## Instantiate regression model and fit  a model.\n",
    "linreg=LinearRegression()\n",
    "linear_model=linreg.fit(X_train,y_train)"
   ]
  },
  {
   "cell_type": "code",
   "execution_count": 156,
   "metadata": {},
   "outputs": [],
   "source": [
    "## Get the predictions on train and validation data.\n",
    "pred_train = linear_model.predict(X_train)\n",
    "pred_test = linear_model.predict(X_test)"
   ]
  },
  {
   "cell_type": "code",
   "execution_count": 157,
   "metadata": {},
   "outputs": [],
   "source": [
    "## Get predictions on test data.\n",
    "test_pred = linear_model.predict(test)"
   ]
  },
  {
   "cell_type": "code",
   "execution_count": 180,
   "metadata": {},
   "outputs": [],
   "source": [
    "## Below function is used to calculate \n",
    "def rmsle(y, y0):\n",
    "    return np.sqrt(np.mean(np.square(np.log1p(y) - np.log1p(y0))))*100"
   ]
  },
  {
   "cell_type": "code",
   "execution_count": 183,
   "metadata": {},
   "outputs": [
    {
     "name": "stdout",
     "output_type": "stream",
     "text": [
      "Train Error: 70.63058666321805\n",
      "Test Error: 70.37652179854565\n"
     ]
    }
   ],
   "source": [
    "## Display RMSE * 100 value for train and validation data.\n",
    "print(\"Train Error:\",rmsle(y_train, pred_train))\n",
    "print(\"Test Error:\",rmsle(y_test, pred_test))"
   ]
  },
  {
   "cell_type": "code",
   "execution_count": 184,
   "metadata": {},
   "outputs": [],
   "source": [
    "## Prepare a dataframe with test data index,prediction values.\n",
    "dataframe = pd.DataFrame({'record_ID' : test.index,\n",
    "                          'units_sold' : test_pred})"
   ]
  },
  {
   "cell_type": "code",
   "execution_count": 185,
   "metadata": {},
   "outputs": [
    {
     "data": {
      "text/plain": [
       "(13860, 9)"
      ]
     },
     "execution_count": 185,
     "metadata": {},
     "output_type": "execute_result"
    }
   ],
   "source": [
    "## Check dimesnions of test data.\n",
    "test.shape"
   ]
  },
  {
   "cell_type": "code",
   "execution_count": 186,
   "metadata": {},
   "outputs": [
    {
     "data": {
      "text/plain": [
       "(13860, 2)"
      ]
     },
     "execution_count": 186,
     "metadata": {},
     "output_type": "execute_result"
    }
   ],
   "source": [
    "## Check dimensons of dataframe.\n",
    "dataframe.shape"
   ]
  },
  {
   "cell_type": "code",
   "execution_count": 187,
   "metadata": {},
   "outputs": [],
   "source": [
    "## Copy dataframe data into a CSV file.\n",
    "dataframe.to_csv('LinearModel.csv',index=False)"
   ]
  },
  {
   "cell_type": "code",
   "execution_count": 172,
   "metadata": {},
   "outputs": [],
   "source": [
    "############################################### Decision Tree ##################################################################"
   ]
  },
  {
   "cell_type": "code",
   "execution_count": 188,
   "metadata": {},
   "outputs": [
    {
     "data": {
      "text/plain": [
       "DecisionTreeRegressor(ccp_alpha=0.0, criterion='mse', max_depth=5,\n",
       "                      max_features=None, max_leaf_nodes=None,\n",
       "                      min_impurity_decrease=0.0, min_impurity_split=None,\n",
       "                      min_samples_leaf=10, min_samples_split=5,\n",
       "                      min_weight_fraction_leaf=0.0, presort='deprecated',\n",
       "                      random_state=123, splitter='best')"
      ]
     },
     "execution_count": 188,
     "metadata": {},
     "output_type": "execute_result"
    }
   ],
   "source": [
    "## Instantiate and fit a regression model.\n",
    "dtr = DecisionTreeRegressor(max_depth=5,min_samples_leaf=10,min_samples_split=5,random_state=123)\n",
    "dtr.fit(X_train,y_train)"
   ]
  },
  {
   "cell_type": "code",
   "execution_count": 189,
   "metadata": {},
   "outputs": [],
   "source": [
    "## Get the predictions on train and validation data.\n",
    "pred_train = dtr.predict(X_train)\n",
    "pred_test = dtr.predict(X_test)"
   ]
  },
  {
   "cell_type": "code",
   "execution_count": 190,
   "metadata": {},
   "outputs": [],
   "source": [
    "## Get predictions on test data.\n",
    "test_pred = linear_model.predict(test)"
   ]
  },
  {
   "cell_type": "markdown",
   "metadata": {},
   "source": [
    "## Note : mean_squared_log_error() method won't accept negative values."
   ]
  },
  {
   "cell_type": "code",
   "execution_count": 191,
   "metadata": {},
   "outputs": [
    {
     "name": "stdout",
     "output_type": "stream",
     "text": [
      "Train Error: 70.63058666321871\n",
      "Test Error: 70.37652179854706\n"
     ]
    }
   ],
   "source": [
    "## Display RMSLE * 100 value for train and validation data.\n",
    "print(\"Train Error:\",sqrt(mean_squared_log_error(y_train, pred_train))*100)\n",
    "print(\"Test Error:\",sqrt(mean_squared_log_error(y_test, pred_test))*100)"
   ]
  },
  {
   "cell_type": "code",
   "execution_count": 192,
   "metadata": {},
   "outputs": [],
   "source": [
    "## Prepare a dataframe with test data index,prediction values.\n",
    "dataframe = pd.DataFrame({'record_ID' : test.index,\n",
    "                          'units_sold' : test_pred})"
   ]
  },
  {
   "cell_type": "code",
   "execution_count": 193,
   "metadata": {},
   "outputs": [
    {
     "data": {
      "text/plain": [
       "(13860, 9)"
      ]
     },
     "execution_count": 193,
     "metadata": {},
     "output_type": "execute_result"
    }
   ],
   "source": [
    "## Check dimesnions of test data.\n",
    "test.shape"
   ]
  },
  {
   "cell_type": "code",
   "execution_count": 194,
   "metadata": {},
   "outputs": [
    {
     "data": {
      "text/plain": [
       "(13860, 2)"
      ]
     },
     "execution_count": 194,
     "metadata": {},
     "output_type": "execute_result"
    }
   ],
   "source": [
    "## Check dimensons of dataframe.\n",
    "dataframe.shape"
   ]
  },
  {
   "cell_type": "code",
   "execution_count": 195,
   "metadata": {},
   "outputs": [],
   "source": [
    "## Copy dataframe data into a CSV file.\n",
    "dataframe.to_csv('DecisionTree.csv',index=False)"
   ]
  },
  {
   "cell_type": "code",
   "execution_count": 197,
   "metadata": {},
   "outputs": [],
   "source": [
    "############################################## Random Forest ##################################################################"
   ]
  },
  {
   "cell_type": "code",
   "execution_count": 270,
   "metadata": {},
   "outputs": [],
   "source": [
    "## Instantiate a regressor model.\n",
    "rc = RandomForestRegressor(n_estimators= 200, max_depth= 10 ,min_samples_leaf = 4 ,max_features='sqrt')"
   ]
  },
  {
   "cell_type": "code",
   "execution_count": 271,
   "metadata": {},
   "outputs": [
    {
     "data": {
      "text/plain": [
       "RandomForestRegressor(bootstrap=True, ccp_alpha=0.0, criterion='mse',\n",
       "                      max_depth=10, max_features='sqrt', max_leaf_nodes=None,\n",
       "                      max_samples=None, min_impurity_decrease=0.0,\n",
       "                      min_impurity_split=None, min_samples_leaf=4,\n",
       "                      min_samples_split=2, min_weight_fraction_leaf=0.0,\n",
       "                      n_estimators=200, n_jobs=None, oob_score=False,\n",
       "                      random_state=None, verbose=0, warm_start=False)"
      ]
     },
     "execution_count": 271,
     "metadata": {},
     "output_type": "execute_result"
    }
   ],
   "source": [
    "## Fit a model.\n",
    "rc.fit(X_train,y_train)"
   ]
  },
  {
   "cell_type": "code",
   "execution_count": 272,
   "metadata": {},
   "outputs": [],
   "source": [
    "## Get the predictions on train and validation data.\n",
    "pred_train = rc.predict(X_train)\n",
    "pred_test = rc.predict(X_test)"
   ]
  },
  {
   "cell_type": "code",
   "execution_count": 273,
   "metadata": {},
   "outputs": [],
   "source": [
    "## Get predictions on test data.\n",
    "test_pred = rc.predict(test)"
   ]
  },
  {
   "cell_type": "code",
   "execution_count": 219,
   "metadata": {},
   "outputs": [
    {
     "name": "stdout",
     "output_type": "stream",
     "text": [
      "Train Error: 70.63058666321871\n",
      "Test Error: 70.37652179854706\n"
     ]
    }
   ],
   "source": [
    "## Display RMSLE * 100 value for train and validation data.\n",
    "print(\"Train Error:\",sqrt(mean_squared_log_error(y_train, pred_train))*100)\n",
    "print(\"Test Error:\",sqrt(mean_squared_log_error(y_test, pred_test))*100)"
   ]
  },
  {
   "cell_type": "code",
   "execution_count": 210,
   "metadata": {},
   "outputs": [],
   "source": [
    "## Prepare a dataframe with test data index,prediction values.\n",
    "dataframe = pd.DataFrame({'record_ID' : test.index,\n",
    "                          'units_sold' : test_pred})"
   ]
  },
  {
   "cell_type": "code",
   "execution_count": 211,
   "metadata": {},
   "outputs": [
    {
     "data": {
      "text/plain": [
       "(13860, 9)"
      ]
     },
     "execution_count": 211,
     "metadata": {},
     "output_type": "execute_result"
    }
   ],
   "source": [
    "## Check dimesnions of test data.\n",
    "test.shape"
   ]
  },
  {
   "cell_type": "code",
   "execution_count": 212,
   "metadata": {},
   "outputs": [
    {
     "data": {
      "text/plain": [
       "(13860, 2)"
      ]
     },
     "execution_count": 212,
     "metadata": {},
     "output_type": "execute_result"
    }
   ],
   "source": [
    "## Check dimensons of dataframe.\n",
    "dataframe.shape"
   ]
  },
  {
   "cell_type": "code",
   "execution_count": 213,
   "metadata": {},
   "outputs": [],
   "source": [
    "## Copy dataframe data into a CSV file.\n",
    "dataframe.to_csv('RandomForest.csv',index=False)"
   ]
  },
  {
   "cell_type": "code",
   "execution_count": 216,
   "metadata": {},
   "outputs": [],
   "source": [
    "################################################### KNN #######################################################################"
   ]
  },
  {
   "cell_type": "code",
   "execution_count": 220,
   "metadata": {},
   "outputs": [
    {
     "data": {
      "text/plain": [
       "KNeighborsRegressor(algorithm='brute', leaf_size=30, metric='euclidean',\n",
       "                    metric_params=None, n_jobs=None, n_neighbors=10, p=2,\n",
       "                    weights='uniform')"
      ]
     },
     "execution_count": 220,
     "metadata": {},
     "output_type": "execute_result"
    }
   ],
   "source": [
    "## Instantiate KNN model and fit it.\n",
    "knn = KNeighborsRegressor(algorithm = 'brute', n_neighbors = 10,\n",
    "                           metric = \"euclidean\")\n",
    "knn.fit(X_train, y_train)"
   ]
  },
  {
   "cell_type": "code",
   "execution_count": 221,
   "metadata": {},
   "outputs": [],
   "source": [
    "## Get the predictions on train and validation.\n",
    "pred_train = knn.predict(X_train)\n",
    "pred_test = knn.predict(X_test)"
   ]
  },
  {
   "cell_type": "code",
   "execution_count": 222,
   "metadata": {},
   "outputs": [],
   "source": [
    "## Get predictions on test data.\n",
    "test_pred = knn.predict(test)"
   ]
  },
  {
   "cell_type": "code",
   "execution_count": 224,
   "metadata": {},
   "outputs": [
    {
     "name": "stdout",
     "output_type": "stream",
     "text": [
      "Train Error: 57.54764848075348\n",
      "Test Error: 62.36310237996467\n"
     ]
    }
   ],
   "source": [
    "## Display RMSLE * 100 value for train and validation data.\n",
    "print(\"Train Error:\",sqrt(mean_squared_log_error(y_train, pred_train))*100)\n",
    "print(\"Test Error:\",sqrt(mean_squared_log_error(y_test, pred_test))*100)"
   ]
  },
  {
   "cell_type": "code",
   "execution_count": 225,
   "metadata": {},
   "outputs": [],
   "source": [
    "## Prepare a dataframe with test data index,prediction values.\n",
    "dataframe = pd.DataFrame({'record_ID' : test.index,\n",
    "                          'units_sold' : test_pred})"
   ]
  },
  {
   "cell_type": "code",
   "execution_count": 226,
   "metadata": {},
   "outputs": [
    {
     "data": {
      "text/plain": [
       "(13860, 9)"
      ]
     },
     "execution_count": 226,
     "metadata": {},
     "output_type": "execute_result"
    }
   ],
   "source": [
    "## Check dimesnions of test data.\n",
    "test.shape"
   ]
  },
  {
   "cell_type": "code",
   "execution_count": 227,
   "metadata": {},
   "outputs": [
    {
     "data": {
      "text/plain": [
       "(13860, 2)"
      ]
     },
     "execution_count": 227,
     "metadata": {},
     "output_type": "execute_result"
    }
   ],
   "source": [
    "## Check dimensons of dataframe.\n",
    "dataframe.shape"
   ]
  },
  {
   "cell_type": "code",
   "execution_count": 228,
   "metadata": {},
   "outputs": [],
   "source": [
    "## Copy dataframe data into a CSV file.\n",
    "dataframe.to_csv('KNN.csv',index=False)"
   ]
  },
  {
   "cell_type": "code",
   "execution_count": 229,
   "metadata": {},
   "outputs": [],
   "source": [
    "#################################################### SVM #######################################################################"
   ]
  },
  {
   "cell_type": "code",
   "execution_count": 230,
   "metadata": {},
   "outputs": [
    {
     "data": {
      "text/plain": [
       "SVR(C=1.0, cache_size=200, coef0=0.0, degree=3, epsilon=0.1, gamma='scale',\n",
       "    kernel='rbf', max_iter=-1, shrinking=True, tol=0.001, verbose=False)"
      ]
     },
     "execution_count": 230,
     "metadata": {},
     "output_type": "execute_result"
    }
   ],
   "source": [
    "## Instantiate SVR model.\n",
    "svr_model = SVR()\n",
    "svr_model"
   ]
  },
  {
   "cell_type": "code",
   "execution_count": 231,
   "metadata": {},
   "outputs": [
    {
     "data": {
      "text/plain": [
       "SVR(C=1.0, cache_size=200, coef0=0.0, degree=3, epsilon=0.1, gamma='scale',\n",
       "    kernel='rbf', max_iter=-1, shrinking=True, tol=0.001, verbose=False)"
      ]
     },
     "execution_count": 231,
     "metadata": {},
     "output_type": "execute_result"
    }
   ],
   "source": [
    "## Fit a model.\n",
    "svr_model.fit(X = X_train, y = y_train)"
   ]
  },
  {
   "cell_type": "code",
   "execution_count": 232,
   "metadata": {},
   "outputs": [],
   "source": [
    "## Get the predictions on train and validation.\n",
    "pred_train = svr_model.predict(X_train)\n",
    "pred_test = svr_model.predict(X_test)"
   ]
  },
  {
   "cell_type": "code",
   "execution_count": 238,
   "metadata": {},
   "outputs": [],
   "source": [
    "## Get predictions on test data.\n",
    "test_pred = knn.predict(test)"
   ]
  },
  {
   "cell_type": "code",
   "execution_count": null,
   "metadata": {},
   "outputs": [],
   "source": [
    "## Display RMSLE * 100 value for train and validation data.\n",
    "print(\"Train Error:\",sqrt(mean_squared_log_error(y_train, pred_train))*100)\n",
    "print(\"Test Error:\",sqrt(mean_squared_log_error(y_test, pred_test))*100)"
   ]
  },
  {
   "cell_type": "code",
   "execution_count": 240,
   "metadata": {},
   "outputs": [],
   "source": [
    "## Prepare a dataframe with test data index,prediction values.\n",
    "dataframe = pd.DataFrame({'record_ID' : test.index,\n",
    "                          'units_sold' : test_pred})"
   ]
  },
  {
   "cell_type": "code",
   "execution_count": 241,
   "metadata": {},
   "outputs": [
    {
     "data": {
      "text/plain": [
       "(13860, 9)"
      ]
     },
     "execution_count": 241,
     "metadata": {},
     "output_type": "execute_result"
    }
   ],
   "source": [
    "## Check dimesnions of test data.\n",
    "test.shape"
   ]
  },
  {
   "cell_type": "code",
   "execution_count": 242,
   "metadata": {},
   "outputs": [
    {
     "data": {
      "text/plain": [
       "(13860, 2)"
      ]
     },
     "execution_count": 242,
     "metadata": {},
     "output_type": "execute_result"
    }
   ],
   "source": [
    "## Check dimensons of dataframe.\n",
    "dataframe.shape"
   ]
  },
  {
   "cell_type": "code",
   "execution_count": 243,
   "metadata": {},
   "outputs": [],
   "source": [
    "## Copy dataframe data into a CSV file.\n",
    "dataframe.to_csv('SVM.csv',index=False)"
   ]
  },
  {
   "cell_type": "code",
   "execution_count": 244,
   "metadata": {},
   "outputs": [],
   "source": [
    "################################################### AdaBoost ##################################################################"
   ]
  },
  {
   "cell_type": "code",
   "execution_count": 245,
   "metadata": {},
   "outputs": [
    {
     "name": "stdout",
     "output_type": "stream",
     "text": [
      "Wall time: 22.2 s\n"
     ]
    },
    {
     "data": {
      "text/plain": [
       "AdaBoostRegressor(base_estimator=None, learning_rate=0.001, loss='linear',\n",
       "                  n_estimators=200, random_state=None)"
      ]
     },
     "execution_count": 245,
     "metadata": {},
     "output_type": "execute_result"
    }
   ],
   "source": [
    "## Instantiate regressor model and fit it.\n",
    "Adaboost_model = AdaBoostRegressor(n_estimators=200,learning_rate=0.001)\n",
    "%time Adaboost_model.fit(X_train, y_train)"
   ]
  },
  {
   "cell_type": "code",
   "execution_count": 246,
   "metadata": {},
   "outputs": [],
   "source": [
    "## Get the predictions on train and validation data.\n",
    "pred_train = Adaboost_model.predict(X_train)\n",
    "pred_test = Adaboost_model.predict(X_test)"
   ]
  },
  {
   "cell_type": "code",
   "execution_count": 247,
   "metadata": {},
   "outputs": [],
   "source": [
    "## Get predictions on test data.\n",
    "test_pred = Adaboost_model.predict(test)"
   ]
  },
  {
   "cell_type": "code",
   "execution_count": 249,
   "metadata": {},
   "outputs": [
    {
     "name": "stdout",
     "output_type": "stream",
     "text": [
      "Train Error: 76.92122447609304\n",
      "Test Error: 76.62514792680571\n"
     ]
    }
   ],
   "source": [
    "## Display RMSLE * 100 value for train and validation data.\n",
    "print(\"Train Error:\",sqrt(mean_squared_log_error(y_train, pred_train))*100)\n",
    "print(\"Test Error:\",sqrt(mean_squared_log_error(y_test, pred_test))*100)"
   ]
  },
  {
   "cell_type": "code",
   "execution_count": 250,
   "metadata": {},
   "outputs": [],
   "source": [
    "## Prepare a dataframe with test data index,prediction values.\n",
    "dataframe = pd.DataFrame({'record_ID' : test.index,\n",
    "                          'units_sold' : test_pred})"
   ]
  },
  {
   "cell_type": "code",
   "execution_count": 251,
   "metadata": {},
   "outputs": [
    {
     "data": {
      "text/plain": [
       "(13860, 9)"
      ]
     },
     "execution_count": 251,
     "metadata": {},
     "output_type": "execute_result"
    }
   ],
   "source": [
    "## Check dimesnions of test data.\n",
    "test.shape"
   ]
  },
  {
   "cell_type": "code",
   "execution_count": 252,
   "metadata": {},
   "outputs": [
    {
     "data": {
      "text/plain": [
       "(13860, 2)"
      ]
     },
     "execution_count": 252,
     "metadata": {},
     "output_type": "execute_result"
    }
   ],
   "source": [
    "## Check dimensons of dataframe.\n",
    "dataframe.shape"
   ]
  },
  {
   "cell_type": "code",
   "execution_count": 253,
   "metadata": {},
   "outputs": [],
   "source": [
    "## Copy dataframe data into a CSV file.\n",
    "dataframe.to_csv('AdaBoost.csv',index=False)"
   ]
  },
  {
   "cell_type": "code",
   "execution_count": 254,
   "metadata": {},
   "outputs": [],
   "source": [
    "##################################################### GradientBoosting #########################################################"
   ]
  },
  {
   "cell_type": "code",
   "execution_count": 255,
   "metadata": {},
   "outputs": [
    {
     "name": "stdout",
     "output_type": "stream",
     "text": [
      "Wall time: 13.8 s\n"
     ]
    },
    {
     "data": {
      "text/plain": [
       "GradientBoostingRegressor(alpha=0.9, ccp_alpha=0.0, criterion='friedman_mse',\n",
       "                          init=None, learning_rate=0.001, loss='ls',\n",
       "                          max_depth=3, max_features=None, max_leaf_nodes=None,\n",
       "                          min_impurity_decrease=0.0, min_impurity_split=None,\n",
       "                          min_samples_leaf=1, min_samples_split=2,\n",
       "                          min_weight_fraction_leaf=0.0, n_estimators=200,\n",
       "                          n_iter_no_change=None, presort='deprecated',\n",
       "                          random_state=474, subsample=1.0, tol=0.0001,\n",
       "                          validation_fraction=0.1, verbose=0, warm_start=False)"
      ]
     },
     "execution_count": 255,
     "metadata": {},
     "output_type": "execute_result"
    }
   ],
   "source": [
    "## Instantiate GBR and fit it.\n",
    "gbm = GradientBoostingRegressor(n_estimators=200,learning_rate=0.001,random_state=474)\n",
    "%time gbm.fit(X=X_train, y=y_train)"
   ]
  },
  {
   "cell_type": "code",
   "execution_count": 256,
   "metadata": {},
   "outputs": [],
   "source": [
    "## Get the predictions on train and validation.\n",
    "pred_train = gbm.predict(X_train)\n",
    "pred_test = gbm.predict(X_test)"
   ]
  },
  {
   "cell_type": "code",
   "execution_count": 257,
   "metadata": {},
   "outputs": [],
   "source": [
    "## Get predictions on test data.\n",
    "test_pred = gbm.predict(test)"
   ]
  },
  {
   "cell_type": "code",
   "execution_count": 259,
   "metadata": {},
   "outputs": [
    {
     "name": "stdout",
     "output_type": "stream",
     "text": [
      "Train Error: 89.55891229538047\n",
      "Test Error: 89.36619239123944\n"
     ]
    }
   ],
   "source": [
    "## Display RMSLE * 100 value for train and validation data.\n",
    "print(\"Train Error:\",sqrt(mean_squared_log_error(y_train, pred_train))*100)\n",
    "print(\"Test Error:\",sqrt(mean_squared_log_error(y_test, pred_test))*100)"
   ]
  },
  {
   "cell_type": "code",
   "execution_count": 260,
   "metadata": {},
   "outputs": [],
   "source": [
    "## Prepare a dataframe with test data index,prediction values.\n",
    "dataframe = pd.DataFrame({'record_ID' : test.index,\n",
    "                          'units_sold' : test_pred})"
   ]
  },
  {
   "cell_type": "code",
   "execution_count": 261,
   "metadata": {},
   "outputs": [
    {
     "data": {
      "text/plain": [
       "(13860, 9)"
      ]
     },
     "execution_count": 261,
     "metadata": {},
     "output_type": "execute_result"
    }
   ],
   "source": [
    "## Check dimesnions of test data.\n",
    "test.shape"
   ]
  },
  {
   "cell_type": "code",
   "execution_count": 262,
   "metadata": {},
   "outputs": [
    {
     "data": {
      "text/plain": [
       "(13860, 2)"
      ]
     },
     "execution_count": 262,
     "metadata": {},
     "output_type": "execute_result"
    }
   ],
   "source": [
    "## Check dimensons of dataframe.\n",
    "dataframe.shape"
   ]
  },
  {
   "cell_type": "code",
   "execution_count": 263,
   "metadata": {},
   "outputs": [],
   "source": [
    "## Copy dataframe data into a CSV file.\n",
    "dataframe.to_csv('GB.csv',index=False)"
   ]
  },
  {
   "cell_type": "code",
   "execution_count": 264,
   "metadata": {},
   "outputs": [],
   "source": [
    "################################################## XGradient Boosting ##########################################################"
   ]
  },
  {
   "cell_type": "code",
   "execution_count": 265,
   "metadata": {},
   "outputs": [
    {
     "name": "stdout",
     "output_type": "stream",
     "text": [
      "Fitting 5 folds for each of 64 candidates, totalling 320 fits\n"
     ]
    },
    {
     "name": "stderr",
     "output_type": "stream",
     "text": [
      "[Parallel(n_jobs=-1)]: Using backend LokyBackend with 12 concurrent workers.\n",
      "[Parallel(n_jobs=-1)]: Done  26 tasks      | elapsed:   20.4s\n",
      "[Parallel(n_jobs=-1)]: Done 176 tasks      | elapsed:  2.6min\n",
      "[Parallel(n_jobs=-1)]: Done 320 out of 320 | elapsed:  9.0min finished\n",
      "C:\\Users\\nagar\\Anaconda3\\lib\\site-packages\\xgboost\\core.py:587: FutureWarning: Series.base is deprecated and will be removed in a future version\n",
      "  if getattr(data, 'base', None) is not None and \\\n"
     ]
    },
    {
     "name": "stdout",
     "output_type": "stream",
     "text": [
      "[10:48:22] WARNING: C:/Jenkins/workspace/xgboost-win64_release_0.90/src/objective/regression_obj.cu:152: reg:linear is now deprecated in favor of reg:squarederror.\n",
      "Wall time: 9min 28s\n",
      "0.8119970054960417\n",
      "{'max_depth': 10, 'n_estimators': 200}\n"
     ]
    }
   ],
   "source": [
    "## Model Building with Grid Search.\n",
    "xgb = XGBRegressor() ## Instantiate XGB model.\n",
    "\n",
    "optimization_dict = {'max_depth': [2,3,4,5,6,7,10,15], ## trying with different max_depth,n_estimators to find best model.\n",
    "                      'n_estimators': [50,60,70,80,90,100,150,200]} \n",
    "\n",
    "## Build best model with Grid Search params.\n",
    "model = GridSearchCV(xgb, ## XGB model.\n",
    "                     optimization_dict, ## dictory with different max_depth,n_estimators.\n",
    "                     verbose=1, ## for messaging purpose.\n",
    "                     n_jobs=-1) ## Number of jobs to run in parallel. ''-1' means use all processors.\n",
    "\n",
    "%time model.fit(X_train, y_train) ## Fit a model.\n",
    "print(model.best_score_) ## Display best score calues.\n",
    "print(model.best_params_) ## Display best parameters."
   ]
  },
  {
   "cell_type": "code",
   "execution_count": 309,
   "metadata": {},
   "outputs": [
    {
     "name": "stderr",
     "output_type": "stream",
     "text": [
      "C:\\Users\\nagar\\Anaconda3\\lib\\site-packages\\xgboost\\core.py:587: FutureWarning: Series.base is deprecated and will be removed in a future version\n",
      "  if getattr(data, 'base', None) is not None and \\\n"
     ]
    },
    {
     "name": "stdout",
     "output_type": "stream",
     "text": [
      "[11:15:16] WARNING: C:/Jenkins/workspace/xgboost-win64_release_0.90/src/objective/regression_obj.cu:152: reg:linear is now deprecated in favor of reg:squarederror.\n",
      "Wall time: 17.1 s\n"
     ]
    },
    {
     "data": {
      "text/plain": [
       "XGBRegressor(base_score=0.5, booster='gbtree', colsample_bylevel=1,\n",
       "             colsample_bynode=1, colsample_bytree=1, gamma=0,\n",
       "             importance_type='gain', learning_rate=0.001, max_delta_step=0,\n",
       "             max_depth=7, min_child_weight=1, missing=None, n_estimators=200,\n",
       "             n_jobs=1, nthread=None, objective='reg:linear', random_state=0,\n",
       "             reg_alpha=0, reg_lambda=1, scale_pos_weight=1, seed=None,\n",
       "             silent=None, subsample=1, verbosity=1)"
      ]
     },
     "execution_count": 309,
     "metadata": {},
     "output_type": "execute_result"
    }
   ],
   "source": [
    "## Instantiate XGBR and fit it.\n",
    "xgb_model=XGBRegressor(n_estimators=200,learning_rate=0.001,max_depth=7)\n",
    "%time xgb_model.fit(X_train,y_train,verbose=True)"
   ]
  },
  {
   "cell_type": "code",
   "execution_count": 310,
   "metadata": {},
   "outputs": [],
   "source": [
    "## Get the predictions on train and validation.\n",
    "pred_train = xgb_model.predict(X_train)\n",
    "pred_test = xgb_model.predict(X_test)"
   ]
  },
  {
   "cell_type": "code",
   "execution_count": 311,
   "metadata": {},
   "outputs": [],
   "source": [
    "## Get predictions on test data.\n",
    "test_pred = xgb_model.predict(test)"
   ]
  },
  {
   "cell_type": "code",
   "execution_count": 313,
   "metadata": {},
   "outputs": [
    {
     "name": "stdout",
     "output_type": "stream",
     "text": [
      "Train Error: 149.7562801456566\n",
      "Test Error: 149.62871162091162\n"
     ]
    }
   ],
   "source": [
    "## Display RMSLE * 100 value for train and validation data.\n",
    "print(\"Train Error:\",sqrt(mean_squared_log_error(y_train, pred_train))*100)\n",
    "print(\"Test Error:\",sqrt(mean_squared_log_error(y_test, pred_test))*100)"
   ]
  },
  {
   "cell_type": "code",
   "execution_count": 314,
   "metadata": {},
   "outputs": [],
   "source": [
    "## Prepare a dataframe with test data index,prediction values.\n",
    "dataframe = pd.DataFrame({'record_ID' : test.index,\n",
    "                          'units_sold' : test_pred})"
   ]
  },
  {
   "cell_type": "code",
   "execution_count": 315,
   "metadata": {},
   "outputs": [
    {
     "data": {
      "text/plain": [
       "(13860, 9)"
      ]
     },
     "execution_count": 315,
     "metadata": {},
     "output_type": "execute_result"
    }
   ],
   "source": [
    "## Check dimesnions of test data.\n",
    "test.shape"
   ]
  },
  {
   "cell_type": "code",
   "execution_count": 316,
   "metadata": {},
   "outputs": [
    {
     "data": {
      "text/plain": [
       "(13860, 2)"
      ]
     },
     "execution_count": 316,
     "metadata": {},
     "output_type": "execute_result"
    }
   ],
   "source": [
    "## Check dimensons of dataframe.\n",
    "dataframe.shape"
   ]
  },
  {
   "cell_type": "code",
   "execution_count": 317,
   "metadata": {},
   "outputs": [],
   "source": [
    "## Copy dataframe data into a CSV file.\n",
    "dataframe.to_csv('XGB.csv',index=False)"
   ]
  },
  {
   "cell_type": "code",
   "execution_count": 318,
   "metadata": {},
   "outputs": [],
   "source": [
    "############################################# Neural Network Linear Algoritham #################################################"
   ]
  },
  {
   "cell_type": "code",
   "execution_count": 363,
   "metadata": {},
   "outputs": [
    {
     "name": "stdout",
     "output_type": "stream",
     "text": [
      "Epoch 1/50\n",
      "105104/105104 [==============================] - 9s 88us/step - loss: 4769.6125\n",
      "Epoch 2/50\n",
      "105104/105104 [==============================] - 8s 81us/step - loss: 3337.4222\n",
      "Epoch 3/50\n",
      "105104/105104 [==============================] - 9s 84us/step - loss: 3274.2028\n",
      "Epoch 4/50\n",
      "105104/105104 [==============================] - 8s 78us/step - loss: 3226.4442\n",
      "Epoch 5/50\n",
      "105104/105104 [==============================] - 9s 85us/step - loss: 3187.6323\n",
      "Epoch 6/50\n",
      "105104/105104 [==============================] - 9s 82us/step - loss: 3151.8464\n",
      "Epoch 7/50\n",
      "105104/105104 [==============================] - 7s 71us/step - loss: 3119.4986\n",
      "Epoch 8/50\n",
      "105104/105104 [==============================] - 9s 82us/step - loss: 3090.0070\n",
      "Epoch 9/50\n",
      "105104/105104 [==============================] - 8s 78us/step - loss: 3063.4652\n",
      "Epoch 10/50\n",
      "105104/105104 [==============================] - 8s 79us/step - loss: 3038.4049\n",
      "Epoch 11/50\n",
      "105104/105104 [==============================] - 8s 78us/step - loss: 3015.1272\n",
      "Epoch 12/50\n",
      "105104/105104 [==============================] - 9s 83us/step - loss: 2993.9969\n",
      "Epoch 13/50\n",
      "105104/105104 [==============================] - 9s 82us/step - loss: 2973.2926\n",
      "Epoch 14/50\n",
      "105104/105104 [==============================] - 9s 83us/step - loss: 2955.3286\n",
      "Epoch 15/50\n",
      "105104/105104 [==============================] - 9s 83us/step - loss: 2938.1205\n",
      "Epoch 16/50\n",
      "105104/105104 [==============================] - 8s 78us/step - loss: 2921.2377\n",
      "Epoch 17/50\n",
      "105104/105104 [==============================] - 9s 83us/step - loss: 2906.0969\n",
      "Epoch 18/50\n",
      "105104/105104 [==============================] - 8s 75us/step - loss: 2891.4749\n",
      "Epoch 19/50\n",
      "105104/105104 [==============================] - 8s 80us/step - loss: 2878.8103\n",
      "Epoch 20/50\n",
      "105104/105104 [==============================] - 8s 76us/step - loss: 2865.9004\n",
      "Epoch 21/50\n",
      "105104/105104 [==============================] - 8s 76us/step - loss: 2854.3062\n",
      "Epoch 22/50\n",
      "105104/105104 [==============================] - 8s 73us/step - loss: 2843.0100\n",
      "Epoch 23/50\n",
      "105104/105104 [==============================] - 9s 82us/step - loss: 2832.9365\n",
      "Epoch 24/50\n",
      "105104/105104 [==============================] - 7s 68us/step - loss: 2822.9225\n",
      "Epoch 25/50\n",
      "105104/105104 [==============================] - 8s 78us/step - loss: 2813.3607\n",
      "Epoch 26/50\n",
      "105104/105104 [==============================] - 8s 76us/step - loss: 2805.5750\n",
      "Epoch 27/50\n",
      "105104/105104 [==============================] - 8s 76us/step - loss: 2797.4595\n",
      "Epoch 28/50\n",
      "105104/105104 [==============================] - 8s 75us/step - loss: 2789.4113\n",
      "Epoch 29/50\n",
      "105104/105104 [==============================] - 7s 71us/step - loss: 2782.5612\n",
      "Epoch 30/50\n",
      "105104/105104 [==============================] - 8s 75us/step - loss: 2775.9767\n",
      "Epoch 31/50\n",
      "105104/105104 [==============================] - 8s 73us/step - loss: 2770.2285\n",
      "Epoch 32/50\n",
      "105104/105104 [==============================] - 8s 77us/step - loss: 2763.5389\n",
      "Epoch 33/50\n",
      "105104/105104 [==============================] - 8s 75us/step - loss: 2758.2373\n",
      "Epoch 34/50\n",
      "105104/105104 [==============================] - 8s 75us/step - loss: 2752.7877\n",
      "Epoch 35/50\n",
      "105104/105104 [==============================] - 7s 69us/step - loss: 2747.6059\n",
      "Epoch 36/50\n",
      "105104/105104 [==============================] - 8s 78us/step - loss: 2742.6707\n",
      "Epoch 37/50\n",
      "105104/105104 [==============================] - 8s 80us/step - loss: 2738.4707\n",
      "Epoch 38/50\n",
      "105104/105104 [==============================] - 8s 75us/step - loss: 2734.2584\n",
      "Epoch 39/50\n",
      "105104/105104 [==============================] - 8s 78us/step - loss: 2729.6803\n",
      "Epoch 40/50\n",
      "105104/105104 [==============================] - 8s 79us/step - loss: 2726.5892\n",
      "Epoch 41/50\n",
      "105104/105104 [==============================] - 8s 74us/step - loss: 2722.8101\n",
      "Epoch 42/50\n",
      "105104/105104 [==============================] - 8s 74us/step - loss: 2719.4898\n",
      "Epoch 43/50\n",
      "105104/105104 [==============================] - 7s 68us/step - loss: 2715.9376\n",
      "Epoch 44/50\n",
      "105104/105104 [==============================] - 7s 65us/step - loss: 2712.9645\n",
      "Epoch 45/50\n",
      "105104/105104 [==============================] - 7s 70us/step - loss: 2709.7729\n",
      "Epoch 46/50\n",
      "105104/105104 [==============================] - 7s 66us/step - loss: 2706.4826\n",
      "Epoch 47/50\n",
      "105104/105104 [==============================] - 7s 68us/step - loss: 2704.0135\n",
      "Epoch 48/50\n",
      "105104/105104 [==============================] - 7s 69us/step - loss: 2701.6230\n",
      "Epoch 49/50\n",
      "105104/105104 [==============================] - 7s 70us/step - loss: 2699.3495\n",
      "Epoch 50/50\n",
      "105104/105104 [==============================] - 7s 68us/step - loss: 2696.9384\n"
     ]
    },
    {
     "data": {
      "text/plain": [
       "<keras.callbacks.callbacks.History at 0x19c4f249828>"
      ]
     },
     "execution_count": 363,
     "metadata": {},
     "output_type": "execute_result"
    }
   ],
   "source": [
    "## Instantiate squential model.\n",
    "model = Sequential()\n",
    "\n",
    "## Add dense model.\n",
    "model.add(Dense(1, input_dim=X_train.shape[1]))\n",
    "\n",
    "## Add compiler to model.\n",
    "model.compile(loss='mse', optimizer='rmsprop')\n",
    "\n",
    "## Fit a model.\n",
    "model.fit(X_train, y_train, epochs=50, batch_size=32)"
   ]
  },
  {
   "cell_type": "code",
   "execution_count": 364,
   "metadata": {},
   "outputs": [],
   "source": [
    "## Get the predictions on train and validation.\n",
    "pred_train = model.predict(X_train)\n",
    "pred_test = model.predict(X_test)"
   ]
  },
  {
   "cell_type": "code",
   "execution_count": 365,
   "metadata": {},
   "outputs": [],
   "source": [
    "## Get predictions on test data.\n",
    "test_pred = model.predict(test)"
   ]
  },
  {
   "cell_type": "code",
   "execution_count": 313,
   "metadata": {},
   "outputs": [
    {
     "name": "stdout",
     "output_type": "stream",
     "text": [
      "Train Error: 149.7562801456566\n",
      "Test Error: 149.62871162091162\n"
     ]
    }
   ],
   "source": [
    "## Display RMSLE * 100 value for train and validation data.\n",
    "print(\"Train Error:\",sqrt(mean_squared_log_error(y_train, pred_train))*100)\n",
    "print(\"Test Error:\",sqrt(mean_squared_log_error(y_test, pred_test))*100)"
   ]
  },
  {
   "cell_type": "code",
   "execution_count": 366,
   "metadata": {},
   "outputs": [],
   "source": [
    "## Prepare a dataframe with test data index,prediction values.\n",
    "dataframe = pd.DataFrame({'record_ID' : test.index,\n",
    "                          'units_sold' : test_pred.tolist()})"
   ]
  },
  {
   "cell_type": "code",
   "execution_count": 367,
   "metadata": {},
   "outputs": [],
   "source": [
    "## Convert list to numeric.\n",
    "dataframe['units_sold'] = dataframe.units_sold.apply(lambda x : x[0])"
   ]
  },
  {
   "cell_type": "code",
   "execution_count": 368,
   "metadata": {
    "scrolled": true
   },
   "outputs": [
    {
     "data": {
      "text/html": [
       "<div>\n",
       "<style scoped>\n",
       "    .dataframe tbody tr th:only-of-type {\n",
       "        vertical-align: middle;\n",
       "    }\n",
       "\n",
       "    .dataframe tbody tr th {\n",
       "        vertical-align: top;\n",
       "    }\n",
       "\n",
       "    .dataframe thead th {\n",
       "        text-align: right;\n",
       "    }\n",
       "</style>\n",
       "<table border=\"1\" class=\"dataframe\">\n",
       "  <thead>\n",
       "    <tr style=\"text-align: right;\">\n",
       "      <th></th>\n",
       "      <th>record_ID</th>\n",
       "      <th>units_sold</th>\n",
       "    </tr>\n",
       "  </thead>\n",
       "  <tbody>\n",
       "    <tr>\n",
       "      <th>0</th>\n",
       "      <td>212645</td>\n",
       "      <td>55.559364</td>\n",
       "    </tr>\n",
       "  </tbody>\n",
       "</table>\n",
       "</div>"
      ],
      "text/plain": [
       "   record_ID  units_sold\n",
       "0     212645   55.559364"
      ]
     },
     "execution_count": 368,
     "metadata": {},
     "output_type": "execute_result"
    }
   ],
   "source": [
    "## Check firt record of dataframe.\n",
    "dataframe.head(1)"
   ]
  },
  {
   "cell_type": "code",
   "execution_count": 369,
   "metadata": {},
   "outputs": [
    {
     "data": {
      "text/plain": [
       "(13860, 9)"
      ]
     },
     "execution_count": 369,
     "metadata": {},
     "output_type": "execute_result"
    }
   ],
   "source": [
    "## Check dimesnions of test data.\n",
    "test.shape"
   ]
  },
  {
   "cell_type": "code",
   "execution_count": 370,
   "metadata": {},
   "outputs": [
    {
     "data": {
      "text/plain": [
       "(13860, 2)"
      ]
     },
     "execution_count": 370,
     "metadata": {},
     "output_type": "execute_result"
    }
   ],
   "source": [
    "## Check dimensons of dataframe.\n",
    "dataframe.shape"
   ]
  },
  {
   "cell_type": "code",
   "execution_count": 371,
   "metadata": {},
   "outputs": [],
   "source": [
    "## Copy dataframe data into a CSV file.\n",
    "dataframe.to_csv('NeuralNetworks.csv',index=False)"
   ]
  },
  {
   "cell_type": "code",
   "execution_count": 335,
   "metadata": {},
   "outputs": [],
   "source": [
    "############################### Perform Grid Search,Ridge,Lasso ###############################################################"
   ]
  },
  {
   "cell_type": "code",
   "execution_count": 336,
   "metadata": {},
   "outputs": [],
   "source": [
    "##################################################### Ridge ###################################################################"
   ]
  },
  {
   "cell_type": "code",
   "execution_count": 337,
   "metadata": {},
   "outputs": [
    {
     "name": "stdout",
     "output_type": "stream",
     "text": [
      "GridSearchCV(cv=10, error_score=nan,\n",
      "             estimator=Ridge(alpha=1.0, copy_X=True, fit_intercept=True,\n",
      "                             max_iter=None, normalize=False, random_state=None,\n",
      "                             solver='auto', tol=0.001),\n",
      "             iid='deprecated', n_jobs=None,\n",
      "             param_grid={'alpha': array([1.0e+00, 1.0e-01, 1.0e-02, 1.0e-03, 1.0e-04, 0.0e+00, 1.5e+00,\n",
      "       2.0e+00])},\n",
      "             pre_dispatch='2*n_jobs', refit=True, return_train_score=False,\n",
      "             scoring=None, verbose=0)\n"
     ]
    }
   ],
   "source": [
    "## Ridge regression is parametric and takes a parameter alpha. The value of alpha determines the reduction in magnitude of coefficients.\n",
    "## But we also need to check which value of alpha gives best predictions on test data. For this we experiment with several values of alpha and pick the best\n",
    "## We do this by performing grid search over several values of alpha. \n",
    "alphas = np.array([1,0.1,0.01,0.001,0.0001,0,1.5,2]) ## Pick the best of these values.\n",
    "## Create and fit a ridge regression model, testing each alpha.\n",
    "model_ridge = Ridge()\n",
    "grid = GridSearchCV(estimator=model_ridge, param_grid=dict(alpha=alphas),cv=10) ## Here the argument cv=10 implies compute error on 10 chucks of data and report average value.\n",
    "grid.fit(X_train,y_train)\n",
    "print(grid)"
   ]
  },
  {
   "cell_type": "code",
   "execution_count": 338,
   "metadata": {},
   "outputs": [
    {
     "name": "stdout",
     "output_type": "stream",
     "text": [
      "0.25372441841201543\n",
      "2.0\n"
     ]
    }
   ],
   "source": [
    "## Display best params.\n",
    "print(grid.best_score_)\n",
    "print(grid.best_estimator_.alpha)"
   ]
  },
  {
   "cell_type": "code",
   "execution_count": 355,
   "metadata": {},
   "outputs": [
    {
     "data": {
      "text/plain": [
       "Ridge(alpha=2, copy_X=True, fit_intercept=True, max_iter=None, normalize=False,\n",
       "      random_state=None, solver='auto', tol=0.001)"
      ]
     },
     "execution_count": 355,
     "metadata": {},
     "output_type": "execute_result"
    }
   ],
   "source": [
    "## Instantiate Ridge and fit it.\n",
    "Ridge_model= Ridge(alpha=2,normalize=False)\n",
    "Ridge_model.fit(X_train,y_train) ## Applying it on the train data, to obtain the coefficients."
   ]
  },
  {
   "cell_type": "code",
   "execution_count": 356,
   "metadata": {},
   "outputs": [],
   "source": [
    "## Get the predictions on train and validation data.\n",
    "pred_train = Ridge_model.predict(X_train)\n",
    "pred_test = Ridge_model.predict(X_test)"
   ]
  },
  {
   "cell_type": "code",
   "execution_count": 357,
   "metadata": {},
   "outputs": [],
   "source": [
    "## Get predictions on test data.\n",
    "test_pred = Ridge_model.predict(test)"
   ]
  },
  {
   "cell_type": "code",
   "execution_count": 313,
   "metadata": {},
   "outputs": [
    {
     "name": "stdout",
     "output_type": "stream",
     "text": [
      "Train Error: 149.7562801456566\n",
      "Test Error: 149.62871162091162\n"
     ]
    }
   ],
   "source": [
    "## Display RMSLE * 100 value for train and validation data.\n",
    "print(\"Train Error:\",sqrt(mean_squared_log_error(y_train, pred_train))*100)\n",
    "print(\"Test Error:\",sqrt(mean_squared_log_error(y_test, pred_test))*100)"
   ]
  },
  {
   "cell_type": "code",
   "execution_count": 359,
   "metadata": {},
   "outputs": [],
   "source": [
    "## Prepare a dataframe with test data index,prediction values.\n",
    "dataframe = pd.DataFrame({'record_ID' : test.index,\n",
    "                          'units_sold' : test_pred})"
   ]
  },
  {
   "cell_type": "code",
   "execution_count": 360,
   "metadata": {},
   "outputs": [
    {
     "data": {
      "text/plain": [
       "(13860, 9)"
      ]
     },
     "execution_count": 360,
     "metadata": {},
     "output_type": "execute_result"
    }
   ],
   "source": [
    "## Check dimesnions of test data.\n",
    "test.shape"
   ]
  },
  {
   "cell_type": "code",
   "execution_count": 361,
   "metadata": {},
   "outputs": [
    {
     "data": {
      "text/plain": [
       "(13860, 2)"
      ]
     },
     "execution_count": 361,
     "metadata": {},
     "output_type": "execute_result"
    }
   ],
   "source": [
    "## Check dimensons of dataframe.\n",
    "dataframe.shape"
   ]
  },
  {
   "cell_type": "code",
   "execution_count": 362,
   "metadata": {},
   "outputs": [],
   "source": [
    "## Copy dataframe data into a CSV file.\n",
    "dataframe.to_csv('Ridge.csv',index=False)"
   ]
  },
  {
   "cell_type": "code",
   "execution_count": 343,
   "metadata": {},
   "outputs": [],
   "source": [
    "####################################################### Lasso #################################################################"
   ]
  },
  {
   "cell_type": "code",
   "execution_count": 344,
   "metadata": {},
   "outputs": [
    {
     "name": "stderr",
     "output_type": "stream",
     "text": [
      "C:\\Users\\nagar\\Anaconda3\\lib\\site-packages\\sklearn\\model_selection\\_validation.py:515: UserWarning: With alpha=0, this algorithm does not converge well. You are advised to use the LinearRegression estimator\n",
      "  estimator.fit(X_train, y_train, **fit_params)\n",
      "C:\\Users\\nagar\\Anaconda3\\lib\\site-packages\\sklearn\\linear_model\\_coordinate_descent.py:476: UserWarning: Coordinate descent with no regularization may lead to unexpected results and is discouraged.\n",
      "  positive)\n",
      "C:\\Users\\nagar\\Anaconda3\\lib\\site-packages\\sklearn\\linear_model\\_coordinate_descent.py:476: ConvergenceWarning: Objective did not converge. You might want to increase the number of iterations. Duality gap: 125756572.66027355, tolerance: 33637.532088458975\n",
      "  positive)\n",
      "C:\\Users\\nagar\\Anaconda3\\lib\\site-packages\\sklearn\\model_selection\\_validation.py:515: UserWarning: With alpha=0, this algorithm does not converge well. You are advised to use the LinearRegression estimator\n",
      "  estimator.fit(X_train, y_train, **fit_params)\n",
      "C:\\Users\\nagar\\Anaconda3\\lib\\site-packages\\sklearn\\linear_model\\_coordinate_descent.py:476: UserWarning: Coordinate descent with no regularization may lead to unexpected results and is discouraged.\n",
      "  positive)\n",
      "C:\\Users\\nagar\\Anaconda3\\lib\\site-packages\\sklearn\\linear_model\\_coordinate_descent.py:476: ConvergenceWarning: Objective did not converge. You might want to increase the number of iterations. Duality gap: 123956160.99001953, tolerance: 33225.937215155456\n",
      "  positive)\n",
      "C:\\Users\\nagar\\Anaconda3\\lib\\site-packages\\sklearn\\model_selection\\_validation.py:515: UserWarning: With alpha=0, this algorithm does not converge well. You are advised to use the LinearRegression estimator\n",
      "  estimator.fit(X_train, y_train, **fit_params)\n",
      "C:\\Users\\nagar\\Anaconda3\\lib\\site-packages\\sklearn\\linear_model\\_coordinate_descent.py:476: UserWarning: Coordinate descent with no regularization may lead to unexpected results and is discouraged.\n",
      "  positive)\n",
      "C:\\Users\\nagar\\Anaconda3\\lib\\site-packages\\sklearn\\linear_model\\_coordinate_descent.py:476: ConvergenceWarning: Objective did not converge. You might want to increase the number of iterations. Duality gap: 123163027.03889316, tolerance: 33004.095319127206\n",
      "  positive)\n",
      "C:\\Users\\nagar\\Anaconda3\\lib\\site-packages\\sklearn\\model_selection\\_validation.py:515: UserWarning: With alpha=0, this algorithm does not converge well. You are advised to use the LinearRegression estimator\n",
      "  estimator.fit(X_train, y_train, **fit_params)\n",
      "C:\\Users\\nagar\\Anaconda3\\lib\\site-packages\\sklearn\\linear_model\\_coordinate_descent.py:476: UserWarning: Coordinate descent with no regularization may lead to unexpected results and is discouraged.\n",
      "  positive)\n",
      "C:\\Users\\nagar\\Anaconda3\\lib\\site-packages\\sklearn\\linear_model\\_coordinate_descent.py:476: ConvergenceWarning: Objective did not converge. You might want to increase the number of iterations. Duality gap: 124152910.78367135, tolerance: 33293.48672458216\n",
      "  positive)\n",
      "C:\\Users\\nagar\\Anaconda3\\lib\\site-packages\\sklearn\\model_selection\\_validation.py:515: UserWarning: With alpha=0, this algorithm does not converge well. You are advised to use the LinearRegression estimator\n",
      "  estimator.fit(X_train, y_train, **fit_params)\n",
      "C:\\Users\\nagar\\Anaconda3\\lib\\site-packages\\sklearn\\linear_model\\_coordinate_descent.py:476: UserWarning: Coordinate descent with no regularization may lead to unexpected results and is discouraged.\n",
      "  positive)\n",
      "C:\\Users\\nagar\\Anaconda3\\lib\\site-packages\\sklearn\\linear_model\\_coordinate_descent.py:476: ConvergenceWarning: Objective did not converge. You might want to increase the number of iterations. Duality gap: 125831859.80219808, tolerance: 33618.80304808022\n",
      "  positive)\n",
      "C:\\Users\\nagar\\Anaconda3\\lib\\site-packages\\sklearn\\model_selection\\_validation.py:515: UserWarning: With alpha=0, this algorithm does not converge well. You are advised to use the LinearRegression estimator\n",
      "  estimator.fit(X_train, y_train, **fit_params)\n",
      "C:\\Users\\nagar\\Anaconda3\\lib\\site-packages\\sklearn\\linear_model\\_coordinate_descent.py:476: UserWarning: Coordinate descent with no regularization may lead to unexpected results and is discouraged.\n",
      "  positive)\n",
      "C:\\Users\\nagar\\Anaconda3\\lib\\site-packages\\sklearn\\linear_model\\_coordinate_descent.py:476: ConvergenceWarning: Objective did not converge. You might want to increase the number of iterations. Duality gap: 126641046.4995206, tolerance: 33807.733259569315\n",
      "  positive)\n",
      "C:\\Users\\nagar\\Anaconda3\\lib\\site-packages\\sklearn\\model_selection\\_validation.py:515: UserWarning: With alpha=0, this algorithm does not converge well. You are advised to use the LinearRegression estimator\n",
      "  estimator.fit(X_train, y_train, **fit_params)\n",
      "C:\\Users\\nagar\\Anaconda3\\lib\\site-packages\\sklearn\\linear_model\\_coordinate_descent.py:476: UserWarning: Coordinate descent with no regularization may lead to unexpected results and is discouraged.\n",
      "  positive)\n",
      "C:\\Users\\nagar\\Anaconda3\\lib\\site-packages\\sklearn\\linear_model\\_coordinate_descent.py:476: ConvergenceWarning: Objective did not converge. You might want to increase the number of iterations. Duality gap: 121636464.05689478, tolerance: 32708.161813032533\n",
      "  positive)\n",
      "C:\\Users\\nagar\\Anaconda3\\lib\\site-packages\\sklearn\\model_selection\\_validation.py:515: UserWarning: With alpha=0, this algorithm does not converge well. You are advised to use the LinearRegression estimator\n",
      "  estimator.fit(X_train, y_train, **fit_params)\n",
      "C:\\Users\\nagar\\Anaconda3\\lib\\site-packages\\sklearn\\linear_model\\_coordinate_descent.py:476: UserWarning: Coordinate descent with no regularization may lead to unexpected results and is discouraged.\n",
      "  positive)\n",
      "C:\\Users\\nagar\\Anaconda3\\lib\\site-packages\\sklearn\\linear_model\\_coordinate_descent.py:476: ConvergenceWarning: Objective did not converge. You might want to increase the number of iterations. Duality gap: 125366969.95022543, tolerance: 33524.69476557921\n",
      "  positive)\n",
      "C:\\Users\\nagar\\Anaconda3\\lib\\site-packages\\sklearn\\model_selection\\_validation.py:515: UserWarning: With alpha=0, this algorithm does not converge well. You are advised to use the LinearRegression estimator\n",
      "  estimator.fit(X_train, y_train, **fit_params)\n",
      "C:\\Users\\nagar\\Anaconda3\\lib\\site-packages\\sklearn\\linear_model\\_coordinate_descent.py:476: UserWarning: Coordinate descent with no regularization may lead to unexpected results and is discouraged.\n",
      "  positive)\n",
      "C:\\Users\\nagar\\Anaconda3\\lib\\site-packages\\sklearn\\linear_model\\_coordinate_descent.py:476: ConvergenceWarning: Objective did not converge. You might want to increase the number of iterations. Duality gap: 125695539.54434955, tolerance: 33643.14010572448\n",
      "  positive)\n",
      "C:\\Users\\nagar\\Anaconda3\\lib\\site-packages\\sklearn\\model_selection\\_validation.py:515: UserWarning: With alpha=0, this algorithm does not converge well. You are advised to use the LinearRegression estimator\n",
      "  estimator.fit(X_train, y_train, **fit_params)\n",
      "C:\\Users\\nagar\\Anaconda3\\lib\\site-packages\\sklearn\\linear_model\\_coordinate_descent.py:476: UserWarning: Coordinate descent with no regularization may lead to unexpected results and is discouraged.\n",
      "  positive)\n",
      "C:\\Users\\nagar\\Anaconda3\\lib\\site-packages\\sklearn\\linear_model\\_coordinate_descent.py:476: ConvergenceWarning: Objective did not converge. You might want to increase the number of iterations. Duality gap: 127036648.50350745, tolerance: 33967.51148398842\n",
      "  positive)\n"
     ]
    },
    {
     "name": "stdout",
     "output_type": "stream",
     "text": [
      "GridSearchCV(cv=10, error_score=nan,\n",
      "             estimator=Lasso(alpha=1.0, copy_X=True, fit_intercept=True,\n",
      "                             max_iter=1000, normalize=False, positive=False,\n",
      "                             precompute=False, random_state=None,\n",
      "                             selection='cyclic', tol=0.0001, warm_start=False),\n",
      "             iid='deprecated', n_jobs=None,\n",
      "             param_grid={'alpha': array([1.0e+00, 1.0e-01, 1.0e-02, 1.0e-03, 1.0e-04, 0.0e+00, 1.5e+00,\n",
      "       2.0e+00])},\n",
      "             pre_dispatch='2*n_jobs', refit=True, return_train_score=False,\n",
      "             scoring=None, verbose=0)\n"
     ]
    }
   ],
   "source": [
    "## Get best parameter vlaues by doing grid search.\n",
    "model_lasso = Lasso()\n",
    "grid = GridSearchCV(estimator=model_lasso, param_grid=dict(alpha=alphas),cv=10) #Here the argument cv=10 implies compute error on 10 chucks of data and report average value\n",
    "grid.fit(X_train,y_train)\n",
    "print(grid)"
   ]
  },
  {
   "cell_type": "code",
   "execution_count": 346,
   "metadata": {},
   "outputs": [
    {
     "name": "stdout",
     "output_type": "stream",
     "text": [
      "0.2537252610628664\n",
      "0.01\n"
     ]
    }
   ],
   "source": [
    "## Display best parameters.\n",
    "print(grid.best_score_)\n",
    "print(grid.best_estimator_.alpha)"
   ]
  },
  {
   "cell_type": "code",
   "execution_count": 347,
   "metadata": {},
   "outputs": [
    {
     "data": {
      "text/plain": [
       "Lasso(alpha=2.0, copy_X=True, fit_intercept=True, max_iter=1000,\n",
       "      normalize=False, positive=False, precompute=False, random_state=None,\n",
       "      selection='cyclic', tol=0.0001, warm_start=False)"
      ]
     },
     "execution_count": 347,
     "metadata": {},
     "output_type": "execute_result"
    }
   ],
   "source": [
    "## Instantiate Lasso and fit it.\n",
    "Lasso_model= Lasso(alpha=2.0,normalize=False)\n",
    "Lasso_model.fit(X_train,y_train) ## Applying it on the train data, to obtain the coefficients."
   ]
  },
  {
   "cell_type": "code",
   "execution_count": 348,
   "metadata": {},
   "outputs": [],
   "source": [
    "## Get the predictions on train and validation data.\n",
    "pred_train = Lasso_model.predict(X_train)\n",
    "pred_test = Lasso_model.predict(X_test)"
   ]
  },
  {
   "cell_type": "code",
   "execution_count": 349,
   "metadata": {},
   "outputs": [],
   "source": [
    "## Get predictions on test data.\n",
    "test_pred = Lasso_model.predict(test)"
   ]
  },
  {
   "cell_type": "code",
   "execution_count": 313,
   "metadata": {},
   "outputs": [
    {
     "name": "stdout",
     "output_type": "stream",
     "text": [
      "Train Error: 149.7562801456566\n",
      "Test Error: 149.62871162091162\n"
     ]
    }
   ],
   "source": [
    "## Display RMSLE * 100 value for train and validation data.\n",
    "print(\"Train Error:\",sqrt(mean_squared_log_error(y_train, pred_train))*100)\n",
    "print(\"Test Error:\",sqrt(mean_squared_log_error(y_test, pred_test))*100)"
   ]
  },
  {
   "cell_type": "code",
   "execution_count": 351,
   "metadata": {},
   "outputs": [],
   "source": [
    "## Prepare a dataframe with test data index,prediction values.\n",
    "dataframe = pd.DataFrame({'record_ID' : test.index,\n",
    "                          'units_sold' : test_pred})"
   ]
  },
  {
   "cell_type": "code",
   "execution_count": 352,
   "metadata": {},
   "outputs": [
    {
     "data": {
      "text/plain": [
       "(13860, 9)"
      ]
     },
     "execution_count": 352,
     "metadata": {},
     "output_type": "execute_result"
    }
   ],
   "source": [
    "## Check dimesnions of test data.\n",
    "test.shape"
   ]
  },
  {
   "cell_type": "code",
   "execution_count": 353,
   "metadata": {},
   "outputs": [
    {
     "data": {
      "text/plain": [
       "(13860, 2)"
      ]
     },
     "execution_count": 353,
     "metadata": {},
     "output_type": "execute_result"
    }
   ],
   "source": [
    "## Check dimensons of dataframe.\n",
    "dataframe.shape"
   ]
  },
  {
   "cell_type": "code",
   "execution_count": 354,
   "metadata": {},
   "outputs": [],
   "source": [
    "## Copy dataframe data into a CSV file.\n",
    "dataframe.to_csv('Lasso.csv',index=False)"
   ]
  }
 ],
 "metadata": {
  "kernelspec": {
   "display_name": "Python 3",
   "language": "python",
   "name": "python3"
  },
  "language_info": {
   "codemirror_mode": {
    "name": "ipython",
    "version": 3
   },
   "file_extension": ".py",
   "mimetype": "text/x-python",
   "name": "python",
   "nbconvert_exporter": "python",
   "pygments_lexer": "ipython3",
   "version": "3.6.5"
  },
  "toc": {
   "base_numbering": 1,
   "nav_menu": {},
   "number_sections": true,
   "sideBar": true,
   "skip_h1_title": false,
   "title_cell": "Table of Contents",
   "title_sidebar": "Contents",
   "toc_cell": false,
   "toc_position": {},
   "toc_section_display": true,
   "toc_window_display": false
  }
 },
 "nbformat": 4,
 "nbformat_minor": 2
}
