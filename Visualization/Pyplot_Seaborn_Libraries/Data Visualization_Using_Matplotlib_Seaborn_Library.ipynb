{
 "cells": [
  {
   "cell_type": "markdown",
   "metadata": {
    "ExecuteTime": {
     "end_time": "2019-09-11T04:23:06.178633Z",
     "start_time": "2019-09-11T04:23:06.170854Z"
    }
   },
   "source": [
    "###  The Art and Science of Storytelling with Data Visualizations"
   ]
  },
  {
   "cell_type": "markdown",
   "metadata": {},
   "source": [
    "#### Basic Graphs\n",
    "- Bar\n",
    "- Histogram\n",
    "- Scatter Plot\n",
    "- Line Plot\n",
    "- Box Plot"
   ]
  },
  {
   "cell_type": "markdown",
   "metadata": {},
   "source": [
    "#### About the Notebook.\n",
    "- This notebook is all about exploration of data through visualizations.\n",
    "    - We use visualizations at three stages.\n",
    "        - Data Exploration\n",
    "        - Model building (for model comparison and performance checking)\n",
    "        - Results Interpretation\n",
    "    - We can see how visualizations can reveal about data during exploration.\n",
    "- We consider a periodical data about the countries gdp per capita over years since 1952. Data is collected for every five years upto 2007\n",
    "  "
   ]
  },
  {
   "cell_type": "markdown",
   "metadata": {},
   "source": [
    "##### Asking Questions for visualizations\n",
    "- Why visualizations?- The simplest answer that I know is that \"a picture speaks a thousand words\". \n",
    "    - So can we give the crux of the data. \n",
    "        -In some cases, we want to give summary of the data, in some cases we like to see the trend of an entity(increasing or decreasing), in some cases we like to compare two entities and so on.\n",
    "    - Visualization is an expression of what we intend to say. So it needs to be clear and coherent. To get such plots, we need to ask right questions and we need to know which plots would be appropriate"
   ]
  },
  {
   "cell_type": "markdown",
   "metadata": {},
   "source": [
    "##### Import necessary libraries/modules"
   ]
  },
  {
   "cell_type": "code",
   "execution_count": 1,
   "metadata": {
    "ExecuteTime": {
     "end_time": "2019-11-17T07:27:53.810984Z",
     "start_time": "2019-11-17T07:27:53.807038Z"
    }
   },
   "outputs": [],
   "source": [
    "import matplotlib.pyplot as plt\n",
    "import seaborn as sns\n",
    "import pandas as pd"
   ]
  },
  {
   "cell_type": "markdown",
   "metadata": {},
   "source": [
    "#### Getting the data"
   ]
  },
  {
   "cell_type": "code",
   "execution_count": 3,
   "metadata": {
    "ExecuteTime": {
     "end_time": "2019-11-17T07:28:27.590829Z",
     "start_time": "2019-11-17T07:27:55.968542Z"
    }
   },
   "outputs": [],
   "source": [
    "## URL to get the GDP data.\n",
    "data_url = 'http://bit.ly/2cLzoxH'\n",
    "\n",
    "## Read GDP data from URL.\n",
    "data=pd.read_csv(data_url)"
   ]
  },
  {
   "cell_type": "code",
   "execution_count": 4,
   "metadata": {
    "ExecuteTime": {
     "end_time": "2019-11-17T07:28:27.619598Z",
     "start_time": "2019-11-17T07:28:27.593663Z"
    }
   },
   "outputs": [
    {
     "data": {
      "text/html": [
       "<div>\n",
       "<style scoped>\n",
       "    .dataframe tbody tr th:only-of-type {\n",
       "        vertical-align: middle;\n",
       "    }\n",
       "\n",
       "    .dataframe tbody tr th {\n",
       "        vertical-align: top;\n",
       "    }\n",
       "\n",
       "    .dataframe thead th {\n",
       "        text-align: right;\n",
       "    }\n",
       "</style>\n",
       "<table border=\"1\" class=\"dataframe\">\n",
       "  <thead>\n",
       "    <tr style=\"text-align: right;\">\n",
       "      <th></th>\n",
       "      <th>country</th>\n",
       "      <th>year</th>\n",
       "      <th>pop</th>\n",
       "      <th>continent</th>\n",
       "      <th>lifeExp</th>\n",
       "      <th>gdpPercap</th>\n",
       "    </tr>\n",
       "  </thead>\n",
       "  <tbody>\n",
       "    <tr>\n",
       "      <th>0</th>\n",
       "      <td>Afghanistan</td>\n",
       "      <td>1952</td>\n",
       "      <td>8425333.0</td>\n",
       "      <td>Asia</td>\n",
       "      <td>28.801</td>\n",
       "      <td>779.445314</td>\n",
       "    </tr>\n",
       "    <tr>\n",
       "      <th>1</th>\n",
       "      <td>Afghanistan</td>\n",
       "      <td>1957</td>\n",
       "      <td>9240934.0</td>\n",
       "      <td>Asia</td>\n",
       "      <td>30.332</td>\n",
       "      <td>820.853030</td>\n",
       "    </tr>\n",
       "    <tr>\n",
       "      <th>2</th>\n",
       "      <td>Afghanistan</td>\n",
       "      <td>1962</td>\n",
       "      <td>10267083.0</td>\n",
       "      <td>Asia</td>\n",
       "      <td>31.997</td>\n",
       "      <td>853.100710</td>\n",
       "    </tr>\n",
       "    <tr>\n",
       "      <th>3</th>\n",
       "      <td>Afghanistan</td>\n",
       "      <td>1967</td>\n",
       "      <td>11537966.0</td>\n",
       "      <td>Asia</td>\n",
       "      <td>34.020</td>\n",
       "      <td>836.197138</td>\n",
       "    </tr>\n",
       "    <tr>\n",
       "      <th>4</th>\n",
       "      <td>Afghanistan</td>\n",
       "      <td>1972</td>\n",
       "      <td>13079460.0</td>\n",
       "      <td>Asia</td>\n",
       "      <td>36.088</td>\n",
       "      <td>739.981106</td>\n",
       "    </tr>\n",
       "  </tbody>\n",
       "</table>\n",
       "</div>"
      ],
      "text/plain": [
       "       country  year         pop continent  lifeExp   gdpPercap\n",
       "0  Afghanistan  1952   8425333.0      Asia   28.801  779.445314\n",
       "1  Afghanistan  1957   9240934.0      Asia   30.332  820.853030\n",
       "2  Afghanistan  1962  10267083.0      Asia   31.997  853.100710\n",
       "3  Afghanistan  1967  11537966.0      Asia   34.020  836.197138\n",
       "4  Afghanistan  1972  13079460.0      Asia   36.088  739.981106"
      ]
     },
     "execution_count": 4,
     "metadata": {},
     "output_type": "execute_result"
    }
   ],
   "source": [
    "## Get the first 5 records of GDP data.\n",
    "data.head()"
   ]
  },
  {
   "cell_type": "markdown",
   "metadata": {},
   "source": [
    "#### Lets look at the summary of the data using the describe function for all attributes"
   ]
  },
  {
   "cell_type": "code",
   "execution_count": 5,
   "metadata": {
    "ExecuteTime": {
     "end_time": "2019-11-17T07:28:27.653548Z",
     "start_time": "2019-11-17T07:28:27.621593Z"
    }
   },
   "outputs": [
    {
     "data": {
      "text/html": [
       "<div>\n",
       "<style scoped>\n",
       "    .dataframe tbody tr th:only-of-type {\n",
       "        vertical-align: middle;\n",
       "    }\n",
       "\n",
       "    .dataframe tbody tr th {\n",
       "        vertical-align: top;\n",
       "    }\n",
       "\n",
       "    .dataframe thead th {\n",
       "        text-align: right;\n",
       "    }\n",
       "</style>\n",
       "<table border=\"1\" class=\"dataframe\">\n",
       "  <thead>\n",
       "    <tr style=\"text-align: right;\">\n",
       "      <th></th>\n",
       "      <th>country</th>\n",
       "      <th>year</th>\n",
       "      <th>pop</th>\n",
       "      <th>continent</th>\n",
       "      <th>lifeExp</th>\n",
       "      <th>gdpPercap</th>\n",
       "    </tr>\n",
       "  </thead>\n",
       "  <tbody>\n",
       "    <tr>\n",
       "      <th>count</th>\n",
       "      <td>1704</td>\n",
       "      <td>1704.00000</td>\n",
       "      <td>1.704000e+03</td>\n",
       "      <td>1704</td>\n",
       "      <td>1704.000000</td>\n",
       "      <td>1704.000000</td>\n",
       "    </tr>\n",
       "    <tr>\n",
       "      <th>unique</th>\n",
       "      <td>142</td>\n",
       "      <td>NaN</td>\n",
       "      <td>NaN</td>\n",
       "      <td>5</td>\n",
       "      <td>NaN</td>\n",
       "      <td>NaN</td>\n",
       "    </tr>\n",
       "    <tr>\n",
       "      <th>top</th>\n",
       "      <td>Madagascar</td>\n",
       "      <td>NaN</td>\n",
       "      <td>NaN</td>\n",
       "      <td>Africa</td>\n",
       "      <td>NaN</td>\n",
       "      <td>NaN</td>\n",
       "    </tr>\n",
       "    <tr>\n",
       "      <th>freq</th>\n",
       "      <td>12</td>\n",
       "      <td>NaN</td>\n",
       "      <td>NaN</td>\n",
       "      <td>624</td>\n",
       "      <td>NaN</td>\n",
       "      <td>NaN</td>\n",
       "    </tr>\n",
       "    <tr>\n",
       "      <th>mean</th>\n",
       "      <td>NaN</td>\n",
       "      <td>1979.50000</td>\n",
       "      <td>2.960121e+07</td>\n",
       "      <td>NaN</td>\n",
       "      <td>59.474439</td>\n",
       "      <td>7215.327081</td>\n",
       "    </tr>\n",
       "    <tr>\n",
       "      <th>std</th>\n",
       "      <td>NaN</td>\n",
       "      <td>17.26533</td>\n",
       "      <td>1.061579e+08</td>\n",
       "      <td>NaN</td>\n",
       "      <td>12.917107</td>\n",
       "      <td>9857.454543</td>\n",
       "    </tr>\n",
       "    <tr>\n",
       "      <th>min</th>\n",
       "      <td>NaN</td>\n",
       "      <td>1952.00000</td>\n",
       "      <td>6.001100e+04</td>\n",
       "      <td>NaN</td>\n",
       "      <td>23.599000</td>\n",
       "      <td>241.165877</td>\n",
       "    </tr>\n",
       "    <tr>\n",
       "      <th>25%</th>\n",
       "      <td>NaN</td>\n",
       "      <td>1965.75000</td>\n",
       "      <td>2.793664e+06</td>\n",
       "      <td>NaN</td>\n",
       "      <td>48.198000</td>\n",
       "      <td>1202.060309</td>\n",
       "    </tr>\n",
       "    <tr>\n",
       "      <th>50%</th>\n",
       "      <td>NaN</td>\n",
       "      <td>1979.50000</td>\n",
       "      <td>7.023596e+06</td>\n",
       "      <td>NaN</td>\n",
       "      <td>60.712500</td>\n",
       "      <td>3531.846989</td>\n",
       "    </tr>\n",
       "    <tr>\n",
       "      <th>75%</th>\n",
       "      <td>NaN</td>\n",
       "      <td>1993.25000</td>\n",
       "      <td>1.958522e+07</td>\n",
       "      <td>NaN</td>\n",
       "      <td>70.845500</td>\n",
       "      <td>9325.462346</td>\n",
       "    </tr>\n",
       "    <tr>\n",
       "      <th>max</th>\n",
       "      <td>NaN</td>\n",
       "      <td>2007.00000</td>\n",
       "      <td>1.318683e+09</td>\n",
       "      <td>NaN</td>\n",
       "      <td>82.603000</td>\n",
       "      <td>113523.132900</td>\n",
       "    </tr>\n",
       "  </tbody>\n",
       "</table>\n",
       "</div>"
      ],
      "text/plain": [
       "           country        year           pop continent      lifeExp  \\\n",
       "count         1704  1704.00000  1.704000e+03      1704  1704.000000   \n",
       "unique         142         NaN           NaN         5          NaN   \n",
       "top     Madagascar         NaN           NaN    Africa          NaN   \n",
       "freq            12         NaN           NaN       624          NaN   \n",
       "mean           NaN  1979.50000  2.960121e+07       NaN    59.474439   \n",
       "std            NaN    17.26533  1.061579e+08       NaN    12.917107   \n",
       "min            NaN  1952.00000  6.001100e+04       NaN    23.599000   \n",
       "25%            NaN  1965.75000  2.793664e+06       NaN    48.198000   \n",
       "50%            NaN  1979.50000  7.023596e+06       NaN    60.712500   \n",
       "75%            NaN  1993.25000  1.958522e+07       NaN    70.845500   \n",
       "max            NaN  2007.00000  1.318683e+09       NaN    82.603000   \n",
       "\n",
       "            gdpPercap  \n",
       "count     1704.000000  \n",
       "unique            NaN  \n",
       "top               NaN  \n",
       "freq              NaN  \n",
       "mean      7215.327081  \n",
       "std       9857.454543  \n",
       "min        241.165877  \n",
       "25%       1202.060309  \n",
       "50%       3531.846989  \n",
       "75%       9325.462346  \n",
       "max     113523.132900  "
      ]
     },
     "execution_count": 5,
     "metadata": {},
     "output_type": "execute_result"
    }
   ],
   "source": [
    "## Get the sumary statistics of GDP data.\n",
    "data.describe(include='all')"
   ]
  },
  {
   "cell_type": "code",
   "execution_count": 6,
   "metadata": {
    "ExecuteTime": {
     "end_time": "2019-11-17T07:28:27.688416Z",
     "start_time": "2019-11-17T07:28:27.682430Z"
    }
   },
   "outputs": [
    {
     "data": {
      "text/plain": [
       "country       object\n",
       "year           int64\n",
       "pop          float64\n",
       "continent     object\n",
       "lifeExp      float64\n",
       "gdpPercap    float64\n",
       "dtype: object"
      ]
     },
     "execution_count": 6,
     "metadata": {},
     "output_type": "execute_result"
    }
   ],
   "source": [
    "## Get the columns data types of GDP data.\n",
    "data.dtypes"
   ]
  },
  {
   "cell_type": "markdown",
   "metadata": {},
   "source": [
    "- Observation\n",
    "    1. There are 1704 records and 6 attributes\n",
    "    2. Country and Continent are considered as categorical (we can observe frequency counts)\n",
    "    3. year is considered as numeric (summary stats are described)"
   ]
  },
  {
   "cell_type": "markdown",
   "metadata": {},
   "source": [
    "#### We see that there are countries and continents. \n",
    "- Let us say we want to find how many records are there for each continent"
   ]
  },
  {
   "cell_type": "code",
   "execution_count": 14,
   "metadata": {
    "ExecuteTime": {
     "end_time": "2019-11-17T07:28:34.984191Z",
     "start_time": "2019-11-17T07:28:34.978208Z"
    }
   },
   "outputs": [
    {
     "data": {
      "text/plain": [
       "continent\n",
       "Africa      624\n",
       "Americas    300\n",
       "Asia        396\n",
       "Europe      360\n",
       "Oceania      24\n",
       "Name: continent, dtype: int64"
      ]
     },
     "execution_count": 14,
     "metadata": {},
     "output_type": "execute_result"
    }
   ],
   "source": [
    "## Get continent levels count by using group by.\n",
    "X=data.groupby('continent')['continent'].count()\n",
    "X"
   ]
  },
  {
   "cell_type": "code",
   "execution_count": 15,
   "metadata": {},
   "outputs": [
    {
     "data": {
      "text/plain": [
       "Africa      624\n",
       "Asia        396\n",
       "Europe      360\n",
       "Americas    300\n",
       "Oceania      24\n",
       "Name: continent, dtype: int64"
      ]
     },
     "execution_count": 15,
     "metadata": {},
     "output_type": "execute_result"
    }
   ],
   "source": [
    "## Get continent levels count by using value_count() method.\n",
    "data.continent.value_counts()"
   ]
  },
  {
   "cell_type": "markdown",
   "metadata": {},
   "source": [
    "##### The same table can be represented in the form of a barplot\n",
    "- Lets draw our first plot of the session a bar plot"
   ]
  },
  {
   "cell_type": "code",
   "execution_count": 16,
   "metadata": {
    "ExecuteTime": {
     "end_time": "2019-11-17T07:28:37.844361Z",
     "start_time": "2019-11-17T07:28:37.727729Z"
    },
    "scrolled": true
   },
   "outputs": [
    {
     "data": {
      "text/plain": [
       "<BarContainer object of 5 artists>"
      ]
     },
     "execution_count": 16,
     "metadata": {},
     "output_type": "execute_result"
    },
    {
     "data": {
      "image/png": "[encoded data removed]",
      "text/plain": [
       "<Figure size 432x288 with 1 Axes>"
      ]
     },
     "metadata": {},
     "output_type": "display_data"
    }
   ],
   "source": [
    "## Plot the continent levels count using pyplot.\n",
    "plt.bar(X.index,X)"
   ]
  },
  {
   "cell_type": "markdown",
   "metadata": {},
   "source": [
    "- We can also plot this using pandas plot\n",
    "    - since X is a pandas series, it has a method plot"
   ]
  },
  {
   "cell_type": "code",
   "execution_count": 10,
   "metadata": {
    "scrolled": true
   },
   "outputs": [
    {
     "data": {
      "text/plain": [
       "<matplotlib.axes._subplots.AxesSubplot at 0x14858956c50>"
      ]
     },
     "execution_count": 10,
     "metadata": {},
     "output_type": "execute_result"
    },
    {
     "data": {
      "image/png": "[encoded data removed]",
      "text/plain": [
       "<Figure size 432x288 with 1 Axes>"
      ]
     },
     "metadata": {},
     "output_type": "display_data"
    }
   ],
   "source": [
    "## Plot the continent levels count using pandas series.\n",
    "x.plot(kind='bar')"
   ]
  },
  {
   "cell_type": "markdown",
   "metadata": {},
   "source": [
    "- We can do the same using seaborn"
   ]
  },
  {
   "cell_type": "code",
   "execution_count": 12,
   "metadata": {
    "ExecuteTime": {
     "end_time": "2019-11-17T07:28:40.180972Z",
     "start_time": "2019-11-17T07:28:40.038353Z"
    }
   },
   "outputs": [
    {
     "data": {
      "text/plain": [
       "<matplotlib.axes._subplots.AxesSubplot at 0x1fe1d4713c8>"
      ]
     },
     "execution_count": 12,
     "metadata": {},
     "output_type": "execute_result"
    },
    {
     "data": {
      "image/png": "[encoded data removed]",
      "text/plain": [
       "<Figure size 432x288 with 1 Axes>"
      ]
     },
     "metadata": {},
     "output_type": "display_data"
    }
   ],
   "source": [
    "## Plot the continent levels count using seaborn.\n",
    "#plt.style.use('dark_background')\n",
    "sns.barplot(x= X.index, y=X)"
   ]
  },
  {
   "cell_type": "code",
   "execution_count": 20,
   "metadata": {
    "ExecuteTime": {
     "end_time": "2019-11-17T07:28:41.203694Z",
     "start_time": "2019-11-17T07:28:41.199744Z"
    },
    "scrolled": true
   },
   "outputs": [
    {
     "data": {
      "text/plain": [
       "continent\n",
       "Oceania      24\n",
       "Americas    300\n",
       "Europe      360\n",
       "Asia        396\n",
       "Africa      624\n",
       "Name: continent, dtype: int64"
      ]
     },
     "execution_count": 20,
     "metadata": {},
     "output_type": "execute_result"
    }
   ],
   "source": [
    "## Sort the level count of continent.\n",
    "X = X.sort_values()\n",
    "X"
   ]
  },
  {
   "cell_type": "code",
   "execution_count": 15,
   "metadata": {
    "ExecuteTime": {
     "end_time": "2019-11-17T07:28:42.819303Z",
     "start_time": "2019-11-17T07:28:42.687651Z"
    }
   },
   "outputs": [
    {
     "data": {
      "text/plain": [
       "<matplotlib.axes._subplots.AxesSubplot at 0x1fe1d50ac50>"
      ]
     },
     "execution_count": 15,
     "metadata": {},
     "output_type": "execute_result"
    },
    {
     "data": {
      "image/png": "[encoded data removed]",
      "text/plain": [
       "<Figure size 432x288 with 1 Axes>"
      ]
     },
     "metadata": {},
     "output_type": "display_data"
    }
   ],
   "source": [
    "## Plot the continent levels count after sorting count using seaborn.\n",
    "sns.barplot(x=X.index,y=X)"
   ]
  },
  {
   "cell_type": "code",
   "execution_count": 16,
   "metadata": {
    "ExecuteTime": {
     "end_time": "2019-11-17T07:28:43.389740Z",
     "start_time": "2019-11-17T07:28:43.258147Z"
    }
   },
   "outputs": [
    {
     "data": {
      "text/plain": [
       "<matplotlib.axes._subplots.AxesSubplot at 0x1fe1d57af60>"
      ]
     },
     "execution_count": 16,
     "metadata": {},
     "output_type": "execute_result"
    },
    {
     "data": {
      "image/png": "[encoded data removed]",
      "text/plain": [
       "<Figure size 432x288 with 1 Axes>"
      ]
     },
     "metadata": {},
     "output_type": "display_data"
    }
   ],
   "source": [
    "## Plot the continent levels count after sorting count using pandas series.\n",
    "X.plot(kind='bar') "
   ]
  },
  {
   "cell_type": "markdown",
   "metadata": {},
   "source": [
    "##### Observe that the labels are not given for any of the plots above. Let's put the axis labels"
   ]
  },
  {
   "cell_type": "code",
   "execution_count": 23,
   "metadata": {
    "ExecuteTime": {
     "end_time": "2019-11-17T07:28:44.723729Z",
     "start_time": "2019-11-17T07:28:44.614023Z"
    }
   },
   "outputs": [
    {
     "data": {
      "image/png": "[encoded data removed]",
      "text/plain": [
       "<Figure size 432x288 with 1 Axes>"
      ]
     },
     "metadata": {
      "needs_background": "light"
     },
     "output_type": "display_data"
    }
   ],
   "source": [
    "## Add lables.\n",
    "fig=plt.bar(X.index,X)\n",
    "plt.xlabel('Continent')\n",
    "plt.ylabel('Number of Records')\n",
    "plt.show(fig)"
   ]
  },
  {
   "cell_type": "code",
   "execution_count": 24,
   "metadata": {
    "ExecuteTime": {
     "end_time": "2019-11-17T07:28:45.229731Z",
     "start_time": "2019-11-17T07:28:45.112997Z"
    }
   },
   "outputs": [
    {
     "data": {
      "image/png": "[encoded data removed]",
      "text/plain": [
       "<Figure size 432x288 with 1 Axes>"
      ]
     },
     "metadata": {
      "needs_background": "light"
     },
     "output_type": "display_data"
    }
   ],
   "source": [
    "## Add labels.\n",
    "fig=X.plot(kind=\"bar\")\n",
    "plt.xlabel('Continent')\n",
    "plt.ylabel('Number of Records')\n",
    "plt.show(fig)"
   ]
  },
  {
   "cell_type": "code",
   "execution_count": 25,
   "metadata": {
    "ExecuteTime": {
     "end_time": "2019-11-17T07:28:45.872587Z",
     "start_time": "2019-11-17T07:28:45.751402Z"
    }
   },
   "outputs": [
    {
     "data": {
      "image/png": "[encoded data removed]",
      "text/plain": [
       "<Figure size 432x288 with 1 Axes>"
      ]
     },
     "metadata": {
      "needs_background": "light"
     },
     "output_type": "display_data"
    }
   ],
   "source": [
    "## Add labels.\n",
    "fig=sns.barplot(x=X.index,y=X)\n",
    "plt.xlabel('Continent')\n",
    "plt.ylabel('Number of Records')\n",
    "plt.show(fig)"
   ]
  },
  {
   "cell_type": "markdown",
   "metadata": {},
   "source": [
    "- Let us suppose, I want to check how many countries from each continent information is available"
   ]
  },
  {
   "cell_type": "code",
   "execution_count": 22,
   "metadata": {
    "ExecuteTime": {
     "end_time": "2019-11-17T07:28:47.207563Z",
     "start_time": "2019-11-17T07:28:47.196564Z"
    }
   },
   "outputs": [
    {
     "data": {
      "text/html": [
       "<div>\n",
       "<style scoped>\n",
       "    .dataframe tbody tr th:only-of-type {\n",
       "        vertical-align: middle;\n",
       "    }\n",
       "\n",
       "    .dataframe tbody tr th {\n",
       "        vertical-align: top;\n",
       "    }\n",
       "\n",
       "    .dataframe thead th {\n",
       "        text-align: right;\n",
       "    }\n",
       "</style>\n",
       "<table border=\"1\" class=\"dataframe\">\n",
       "  <thead>\n",
       "    <tr style=\"text-align: right;\">\n",
       "      <th></th>\n",
       "      <th>continent</th>\n",
       "      <th>country</th>\n",
       "    </tr>\n",
       "    <tr>\n",
       "      <th>continent</th>\n",
       "      <th></th>\n",
       "      <th></th>\n",
       "    </tr>\n",
       "  </thead>\n",
       "  <tbody>\n",
       "    <tr>\n",
       "      <th>Africa</th>\n",
       "      <td>624</td>\n",
       "      <td>52</td>\n",
       "    </tr>\n",
       "    <tr>\n",
       "      <th>Americas</th>\n",
       "      <td>300</td>\n",
       "      <td>25</td>\n",
       "    </tr>\n",
       "    <tr>\n",
       "      <th>Asia</th>\n",
       "      <td>396</td>\n",
       "      <td>33</td>\n",
       "    </tr>\n",
       "    <tr>\n",
       "      <th>Europe</th>\n",
       "      <td>360</td>\n",
       "      <td>30</td>\n",
       "    </tr>\n",
       "    <tr>\n",
       "      <th>Oceania</th>\n",
       "      <td>24</td>\n",
       "      <td>2</td>\n",
       "    </tr>\n",
       "  </tbody>\n",
       "</table>\n",
       "</div>"
      ],
      "text/plain": [
       "           continent  country\n",
       "continent                    \n",
       "Africa           624       52\n",
       "Americas         300       25\n",
       "Asia             396       33\n",
       "Europe           360       30\n",
       "Oceania           24        2"
      ]
     },
     "execution_count": 22,
     "metadata": {},
     "output_type": "execute_result"
    }
   ],
   "source": [
    "## Get the county count accorss each contient level and display it.\n",
    "data_continents=data.groupby('continent').agg({\n",
    "    'continent':'count',\n",
    "    'country': \"nunique\"\n",
    "})\n",
    "data_continents"
   ]
  },
  {
   "cell_type": "markdown",
   "metadata": {},
   "source": [
    "- Let's plot how many unique countries for each continent information is available"
   ]
  },
  {
   "cell_type": "code",
   "execution_count": 28,
   "metadata": {
    "ExecuteTime": {
     "end_time": "2019-11-17T07:28:48.687997Z",
     "start_time": "2019-11-17T07:28:48.684983Z"
    }
   },
   "outputs": [],
   "source": [
    "## Sort the county count.\n",
    "data_continents = data_continents.sort_values('country')"
   ]
  },
  {
   "cell_type": "code",
   "execution_count": 19,
   "metadata": {
    "ExecuteTime": {
     "end_time": "2019-11-17T07:28:50.134351Z",
     "start_time": "2019-11-17T07:28:49.975786Z"
    },
    "scrolled": true
   },
   "outputs": [
    {
     "data": {
      "image/png": "[encoded data removed]",
      "text/plain": [
       "<Figure size 432x288 with 1 Axes>"
      ]
     },
     "metadata": {},
     "output_type": "display_data"
    }
   ],
   "source": [
    "## Plot continent VS number of countries.\n",
    "fig=sns.barplot(x=data_continents.index,y=data_continents.country)\n",
    "plt.ylabel(\"Number of Countries\")\n",
    "plt.xlabel(\"Name of Continent\")\n",
    "plt.title(\"Number of Countries in Continent\")\n",
    "plt.show(fig)"
   ]
  },
  {
   "cell_type": "code",
   "execution_count": 23,
   "metadata": {},
   "outputs": [],
   "source": [
    "## If we want to know the increase in population over time."
   ]
  },
  {
   "cell_type": "markdown",
   "metadata": {},
   "source": [
    "- We need to group by year, and get the sum of population by year"
   ]
  },
  {
   "cell_type": "code",
   "execution_count": 24,
   "metadata": {
    "ExecuteTime": {
     "end_time": "2019-11-17T07:29:27.565085Z",
     "start_time": "2019-11-17T07:29:27.549173Z"
    }
   },
   "outputs": [
    {
     "data": {
      "text/html": [
       "<div>\n",
       "<style scoped>\n",
       "    .dataframe tbody tr th:only-of-type {\n",
       "        vertical-align: middle;\n",
       "    }\n",
       "\n",
       "    .dataframe tbody tr th {\n",
       "        vertical-align: top;\n",
       "    }\n",
       "\n",
       "    .dataframe thead th {\n",
       "        text-align: right;\n",
       "    }\n",
       "</style>\n",
       "<table border=\"1\" class=\"dataframe\">\n",
       "  <thead>\n",
       "    <tr style=\"text-align: right;\">\n",
       "      <th></th>\n",
       "      <th>year</th>\n",
       "      <th>pop</th>\n",
       "    </tr>\n",
       "  </thead>\n",
       "  <tbody>\n",
       "    <tr>\n",
       "      <th>0</th>\n",
       "      <td>1952</td>\n",
       "      <td>2.406957e+09</td>\n",
       "    </tr>\n",
       "    <tr>\n",
       "      <th>1</th>\n",
       "      <td>1957</td>\n",
       "      <td>2.664405e+09</td>\n",
       "    </tr>\n",
       "    <tr>\n",
       "      <th>2</th>\n",
       "      <td>1962</td>\n",
       "      <td>2.899783e+09</td>\n",
       "    </tr>\n",
       "    <tr>\n",
       "      <th>3</th>\n",
       "      <td>1967</td>\n",
       "      <td>3.217478e+09</td>\n",
       "    </tr>\n",
       "    <tr>\n",
       "      <th>4</th>\n",
       "      <td>1972</td>\n",
       "      <td>3.576977e+09</td>\n",
       "    </tr>\n",
       "    <tr>\n",
       "      <th>5</th>\n",
       "      <td>1977</td>\n",
       "      <td>3.930046e+09</td>\n",
       "    </tr>\n",
       "    <tr>\n",
       "      <th>6</th>\n",
       "      <td>1982</td>\n",
       "      <td>4.289437e+09</td>\n",
       "    </tr>\n",
       "    <tr>\n",
       "      <th>7</th>\n",
       "      <td>1987</td>\n",
       "      <td>4.691477e+09</td>\n",
       "    </tr>\n",
       "    <tr>\n",
       "      <th>8</th>\n",
       "      <td>1992</td>\n",
       "      <td>5.110710e+09</td>\n",
       "    </tr>\n",
       "    <tr>\n",
       "      <th>9</th>\n",
       "      <td>1997</td>\n",
       "      <td>5.515204e+09</td>\n",
       "    </tr>\n",
       "    <tr>\n",
       "      <th>10</th>\n",
       "      <td>2002</td>\n",
       "      <td>5.886978e+09</td>\n",
       "    </tr>\n",
       "    <tr>\n",
       "      <th>11</th>\n",
       "      <td>2007</td>\n",
       "      <td>6.251013e+09</td>\n",
       "    </tr>\n",
       "  </tbody>\n",
       "</table>\n",
       "</div>"
      ],
      "text/plain": [
       "    year           pop\n",
       "0   1952  2.406957e+09\n",
       "1   1957  2.664405e+09\n",
       "2   1962  2.899783e+09\n",
       "3   1967  3.217478e+09\n",
       "4   1972  3.576977e+09\n",
       "5   1977  3.930046e+09\n",
       "6   1982  4.289437e+09\n",
       "7   1987  4.691477e+09\n",
       "8   1992  5.110710e+09\n",
       "9   1997  5.515204e+09\n",
       "10  2002  5.886978e+09\n",
       "11  2007  6.251013e+09"
      ]
     },
     "execution_count": 24,
     "metadata": {},
     "output_type": "execute_result"
    }
   ],
   "source": [
    "## Group by year and population to see the population change.\n",
    "data_pop=data.groupby(['year'])['pop'].sum().reset_index()\n",
    "data_pop"
   ]
  },
  {
   "cell_type": "markdown",
   "metadata": {},
   "source": [
    "- Plotting the above table using seaborn"
   ]
  },
  {
   "cell_type": "code",
   "execution_count": 21,
   "metadata": {
    "ExecuteTime": {
     "end_time": "2019-11-17T07:29:28.978432Z",
     "start_time": "2019-11-17T07:29:28.796871Z"
    },
    "scrolled": true
   },
   "outputs": [
    {
     "data": {
      "text/plain": [
       "<matplotlib.axes._subplots.AxesSubplot at 0x1fe1d65ab70>"
      ]
     },
     "execution_count": 21,
     "metadata": {},
     "output_type": "execute_result"
    },
    {
     "data": {
      "image/png": "[encoded data removed]",
      "text/plain": [
       "<Figure size 432x288 with 1 Axes>"
      ]
     },
     "metadata": {},
     "output_type": "display_data"
    }
   ],
   "source": [
    "## Plot popukation count vs year.\n",
    "sns.barplot(x='year',y='pop',data=data_pop)"
   ]
  },
  {
   "cell_type": "markdown",
   "metadata": {},
   "source": [
    "#### There seems to be a steady increase but is it really\n"
   ]
  },
  {
   "cell_type": "markdown",
   "metadata": {},
   "source": [
    "- To understand this, we derive a new feature which is percentage increase in population compared to previous year"
   ]
  },
  {
   "cell_type": "code",
   "execution_count": 23,
   "metadata": {
    "ExecuteTime": {
     "end_time": "2019-11-17T07:29:58.857892Z",
     "start_time": "2019-11-17T07:29:58.839941Z"
    },
    "scrolled": true
   },
   "outputs": [
    {
     "data": {
      "text/html": [
       "<div>\n",
       "<style scoped>\n",
       "    .dataframe tbody tr th:only-of-type {\n",
       "        vertical-align: middle;\n",
       "    }\n",
       "\n",
       "    .dataframe tbody tr th {\n",
       "        vertical-align: top;\n",
       "    }\n",
       "\n",
       "    .dataframe thead th {\n",
       "        text-align: right;\n",
       "    }\n",
       "</style>\n",
       "<table border=\"1\" class=\"dataframe\">\n",
       "  <thead>\n",
       "    <tr style=\"text-align: right;\">\n",
       "      <th></th>\n",
       "      <th>year</th>\n",
       "      <th>pop</th>\n",
       "      <th>Perc_inc</th>\n",
       "    </tr>\n",
       "  </thead>\n",
       "  <tbody>\n",
       "    <tr>\n",
       "      <th>0</th>\n",
       "      <td>1952</td>\n",
       "      <td>2.406957e+09</td>\n",
       "      <td>NaN</td>\n",
       "    </tr>\n",
       "    <tr>\n",
       "      <th>1</th>\n",
       "      <td>1957</td>\n",
       "      <td>2.664405e+09</td>\n",
       "      <td>10.695971</td>\n",
       "    </tr>\n",
       "    <tr>\n",
       "      <th>2</th>\n",
       "      <td>1962</td>\n",
       "      <td>2.899783e+09</td>\n",
       "      <td>8.834184</td>\n",
       "    </tr>\n",
       "    <tr>\n",
       "      <th>3</th>\n",
       "      <td>1967</td>\n",
       "      <td>3.217478e+09</td>\n",
       "      <td>10.955834</td>\n",
       "    </tr>\n",
       "    <tr>\n",
       "      <th>4</th>\n",
       "      <td>1972</td>\n",
       "      <td>3.576977e+09</td>\n",
       "      <td>11.173308</td>\n",
       "    </tr>\n",
       "    <tr>\n",
       "      <th>5</th>\n",
       "      <td>1977</td>\n",
       "      <td>3.930046e+09</td>\n",
       "      <td>9.870587</td>\n",
       "    </tr>\n",
       "    <tr>\n",
       "      <th>6</th>\n",
       "      <td>1982</td>\n",
       "      <td>4.289437e+09</td>\n",
       "      <td>9.144703</td>\n",
       "    </tr>\n",
       "    <tr>\n",
       "      <th>7</th>\n",
       "      <td>1987</td>\n",
       "      <td>4.691477e+09</td>\n",
       "      <td>9.372806</td>\n",
       "    </tr>\n",
       "    <tr>\n",
       "      <th>8</th>\n",
       "      <td>1992</td>\n",
       "      <td>5.110710e+09</td>\n",
       "      <td>8.936052</td>\n",
       "    </tr>\n",
       "    <tr>\n",
       "      <th>9</th>\n",
       "      <td>1997</td>\n",
       "      <td>5.515204e+09</td>\n",
       "      <td>7.914638</td>\n",
       "    </tr>\n",
       "    <tr>\n",
       "      <th>10</th>\n",
       "      <td>2002</td>\n",
       "      <td>5.886978e+09</td>\n",
       "      <td>6.740876</td>\n",
       "    </tr>\n",
       "    <tr>\n",
       "      <th>11</th>\n",
       "      <td>2007</td>\n",
       "      <td>6.251013e+09</td>\n",
       "      <td>6.183744</td>\n",
       "    </tr>\n",
       "  </tbody>\n",
       "</table>\n",
       "</div>"
      ],
      "text/plain": [
       "    year           pop   Perc_inc\n",
       "0   1952  2.406957e+09        NaN\n",
       "1   1957  2.664405e+09  10.695971\n",
       "2   1962  2.899783e+09   8.834184\n",
       "3   1967  3.217478e+09  10.955834\n",
       "4   1972  3.576977e+09  11.173308\n",
       "5   1977  3.930046e+09   9.870587\n",
       "6   1982  4.289437e+09   9.144703\n",
       "7   1987  4.691477e+09   9.372806\n",
       "8   1992  5.110710e+09   8.936052\n",
       "9   1997  5.515204e+09   7.914638\n",
       "10  2002  5.886978e+09   6.740876\n",
       "11  2007  6.251013e+09   6.183744"
      ]
     },
     "execution_count": 23,
     "metadata": {},
     "output_type": "execute_result"
    }
   ],
   "source": [
    "## Get population percentage for each year.\n",
    "data_pop['Perc_inc'] = 100*(data_pop['pop'].pct_change())\n",
    "data_pop"
   ]
  },
  {
   "cell_type": "code",
   "execution_count": 25,
   "metadata": {
    "ExecuteTime": {
     "end_time": "2019-11-17T07:29:59.691046Z",
     "start_time": "2019-11-17T07:29:59.521539Z"
    },
    "scrolled": true
   },
   "outputs": [
    {
     "data": {
      "text/plain": [
       "<matplotlib.axes._subplots.AxesSubplot at 0x1fe1da62ef0>"
      ]
     },
     "execution_count": 25,
     "metadata": {},
     "output_type": "execute_result"
    },
    {
     "data": {
      "image/png": "[encoded data removed]",
      "text/plain": [
       "<Figure size 432x288 with 1 Axes>"
      ]
     },
     "metadata": {},
     "output_type": "display_data"
    }
   ],
   "source": [
    "## Plot population percentage for each year.\n",
    "sns.barplot(x='year',y='Perc_inc',data=data_pop.iloc[1:,:])"
   ]
  },
  {
   "cell_type": "markdown",
   "metadata": {},
   "source": [
    "##### Ideally, when we want to show the trend (for example, in this case how is the world population growing  over time) over time, line plots are more appropriate. So lets draw a line plot"
   ]
  },
  {
   "cell_type": "code",
   "execution_count": 35,
   "metadata": {
    "ExecuteTime": {
     "end_time": "2019-11-17T07:30:09.373790Z",
     "start_time": "2019-11-17T07:30:09.197262Z"
    }
   },
   "outputs": [
    {
     "data": {
      "text/plain": [
       "<matplotlib.axes._subplots.AxesSubplot at 0x2caff0d8c88>"
      ]
     },
     "execution_count": 35,
     "metadata": {},
     "output_type": "execute_result"
    },
    {
     "data": {
      "image/png": "[encoded data removed]",
      "text/plain": [
       "<Figure size 432x288 with 1 Axes>"
      ]
     },
     "metadata": {
      "needs_background": "light"
     },
     "output_type": "display_data"
    }
   ],
   "source": [
    "## Draw line plot for population percentage and year.\n",
    "sns.pointplot(x='year',y='Perc_inc',data=data_pop.iloc[1:,:])"
   ]
  },
  {
   "cell_type": "code",
   "execution_count": 36,
   "metadata": {
    "ExecuteTime": {
     "end_time": "2019-11-17T07:30:11.543963Z",
     "start_time": "2019-11-17T07:30:11.377349Z"
    },
    "scrolled": true
   },
   "outputs": [
    {
     "data": {
      "text/plain": [
       "(0, 11.51674403870269)"
      ]
     },
     "execution_count": 36,
     "metadata": {},
     "output_type": "execute_result"
    },
    {
     "data": {
      "image/png": "[encoded data removed]",
      "text/plain": [
       "<Figure size 432x288 with 1 Axes>"
      ]
     },
     "metadata": {
      "needs_background": "light"
     },
     "output_type": "display_data"
    }
   ],
   "source": [
    "## Start the y-axis from 0.(Above line plot looks like after 2007 there is no population,so that's why we are movig y-axis starting point).\n",
    "fig=sns.pointplot(x='year',y='Perc_inc',data=data_pop.iloc[1:,:])\n",
    "axes=plt.gca()\n",
    "axes.set_ylim([0,None])"
   ]
  },
  {
   "cell_type": "markdown",
   "metadata": {},
   "source": [
    "#### Since Asia has two highly populated countries in the world, we want to know if the population growth of India over the years is similar to that of rest of the world"
   ]
  },
  {
   "cell_type": "code",
   "execution_count": 37,
   "metadata": {
    "ExecuteTime": {
     "end_time": "2019-11-17T07:30:22.576778Z",
     "start_time": "2019-11-17T07:30:22.566805Z"
    }
   },
   "outputs": [],
   "source": [
    "## Get India population.\n",
    "data_india=data.loc[ (data['country']=='India'),['year','country','pop']]"
   ]
  },
  {
   "cell_type": "code",
   "execution_count": 38,
   "metadata": {
    "ExecuteTime": {
     "end_time": "2019-11-17T07:30:23.114310Z",
     "start_time": "2019-11-17T07:30:23.105334Z"
    },
    "scrolled": true
   },
   "outputs": [
    {
     "data": {
      "text/html": [
       "<div>\n",
       "<style scoped>\n",
       "    .dataframe tbody tr th:only-of-type {\n",
       "        vertical-align: middle;\n",
       "    }\n",
       "\n",
       "    .dataframe tbody tr th {\n",
       "        vertical-align: top;\n",
       "    }\n",
       "\n",
       "    .dataframe thead th {\n",
       "        text-align: right;\n",
       "    }\n",
       "</style>\n",
       "<table border=\"1\" class=\"dataframe\">\n",
       "  <thead>\n",
       "    <tr style=\"text-align: right;\">\n",
       "      <th></th>\n",
       "      <th>year</th>\n",
       "      <th>country</th>\n",
       "      <th>pop</th>\n",
       "    </tr>\n",
       "  </thead>\n",
       "  <tbody>\n",
       "    <tr>\n",
       "      <td>696</td>\n",
       "      <td>1952</td>\n",
       "      <td>India</td>\n",
       "      <td>3.720000e+08</td>\n",
       "    </tr>\n",
       "    <tr>\n",
       "      <td>697</td>\n",
       "      <td>1957</td>\n",
       "      <td>India</td>\n",
       "      <td>4.090000e+08</td>\n",
       "    </tr>\n",
       "    <tr>\n",
       "      <td>698</td>\n",
       "      <td>1962</td>\n",
       "      <td>India</td>\n",
       "      <td>4.540000e+08</td>\n",
       "    </tr>\n",
       "    <tr>\n",
       "      <td>699</td>\n",
       "      <td>1967</td>\n",
       "      <td>India</td>\n",
       "      <td>5.060000e+08</td>\n",
       "    </tr>\n",
       "    <tr>\n",
       "      <td>700</td>\n",
       "      <td>1972</td>\n",
       "      <td>India</td>\n",
       "      <td>5.670000e+08</td>\n",
       "    </tr>\n",
       "    <tr>\n",
       "      <td>701</td>\n",
       "      <td>1977</td>\n",
       "      <td>India</td>\n",
       "      <td>6.340000e+08</td>\n",
       "    </tr>\n",
       "    <tr>\n",
       "      <td>702</td>\n",
       "      <td>1982</td>\n",
       "      <td>India</td>\n",
       "      <td>7.080000e+08</td>\n",
       "    </tr>\n",
       "    <tr>\n",
       "      <td>703</td>\n",
       "      <td>1987</td>\n",
       "      <td>India</td>\n",
       "      <td>7.880000e+08</td>\n",
       "    </tr>\n",
       "    <tr>\n",
       "      <td>704</td>\n",
       "      <td>1992</td>\n",
       "      <td>India</td>\n",
       "      <td>8.720000e+08</td>\n",
       "    </tr>\n",
       "    <tr>\n",
       "      <td>705</td>\n",
       "      <td>1997</td>\n",
       "      <td>India</td>\n",
       "      <td>9.590000e+08</td>\n",
       "    </tr>\n",
       "    <tr>\n",
       "      <td>706</td>\n",
       "      <td>2002</td>\n",
       "      <td>India</td>\n",
       "      <td>1.034173e+09</td>\n",
       "    </tr>\n",
       "    <tr>\n",
       "      <td>707</td>\n",
       "      <td>2007</td>\n",
       "      <td>India</td>\n",
       "      <td>1.110396e+09</td>\n",
       "    </tr>\n",
       "  </tbody>\n",
       "</table>\n",
       "</div>"
      ],
      "text/plain": [
       "     year country           pop\n",
       "696  1952   India  3.720000e+08\n",
       "697  1957   India  4.090000e+08\n",
       "698  1962   India  4.540000e+08\n",
       "699  1967   India  5.060000e+08\n",
       "700  1972   India  5.670000e+08\n",
       "701  1977   India  6.340000e+08\n",
       "702  1982   India  7.080000e+08\n",
       "703  1987   India  7.880000e+08\n",
       "704  1992   India  8.720000e+08\n",
       "705  1997   India  9.590000e+08\n",
       "706  2002   India  1.034173e+09\n",
       "707  2007   India  1.110396e+09"
      ]
     },
     "execution_count": 38,
     "metadata": {},
     "output_type": "execute_result"
    }
   ],
   "source": [
    "## Display India popuation.\n",
    "data_india"
   ]
  },
  {
   "cell_type": "code",
   "execution_count": 39,
   "metadata": {
    "ExecuteTime": {
     "end_time": "2019-11-17T07:30:26.811040Z",
     "start_time": "2019-11-17T07:30:26.806053Z"
    }
   },
   "outputs": [],
   "source": [
    "## Get population percentage.\n",
    "data_india['Perc_inc']=100*(data_india['pop'].pct_change())"
   ]
  },
  {
   "cell_type": "code",
   "execution_count": 40,
   "metadata": {
    "ExecuteTime": {
     "end_time": "2019-11-17T07:30:27.458841Z",
     "start_time": "2019-11-17T07:30:27.442821Z"
    },
    "scrolled": false
   },
   "outputs": [
    {
     "data": {
      "text/html": [
       "<div>\n",
       "<style scoped>\n",
       "    .dataframe tbody tr th:only-of-type {\n",
       "        vertical-align: middle;\n",
       "    }\n",
       "\n",
       "    .dataframe tbody tr th {\n",
       "        vertical-align: top;\n",
       "    }\n",
       "\n",
       "    .dataframe thead th {\n",
       "        text-align: right;\n",
       "    }\n",
       "</style>\n",
       "<table border=\"1\" class=\"dataframe\">\n",
       "  <thead>\n",
       "    <tr style=\"text-align: right;\">\n",
       "      <th></th>\n",
       "      <th>year</th>\n",
       "      <th>country</th>\n",
       "      <th>pop</th>\n",
       "      <th>Perc_inc</th>\n",
       "    </tr>\n",
       "  </thead>\n",
       "  <tbody>\n",
       "    <tr>\n",
       "      <td>696</td>\n",
       "      <td>1952</td>\n",
       "      <td>India</td>\n",
       "      <td>3.720000e+08</td>\n",
       "      <td>NaN</td>\n",
       "    </tr>\n",
       "    <tr>\n",
       "      <td>697</td>\n",
       "      <td>1957</td>\n",
       "      <td>India</td>\n",
       "      <td>4.090000e+08</td>\n",
       "      <td>9.946237</td>\n",
       "    </tr>\n",
       "    <tr>\n",
       "      <td>698</td>\n",
       "      <td>1962</td>\n",
       "      <td>India</td>\n",
       "      <td>4.540000e+08</td>\n",
       "      <td>11.002445</td>\n",
       "    </tr>\n",
       "    <tr>\n",
       "      <td>699</td>\n",
       "      <td>1967</td>\n",
       "      <td>India</td>\n",
       "      <td>5.060000e+08</td>\n",
       "      <td>11.453744</td>\n",
       "    </tr>\n",
       "    <tr>\n",
       "      <td>700</td>\n",
       "      <td>1972</td>\n",
       "      <td>India</td>\n",
       "      <td>5.670000e+08</td>\n",
       "      <td>12.055336</td>\n",
       "    </tr>\n",
       "    <tr>\n",
       "      <td>701</td>\n",
       "      <td>1977</td>\n",
       "      <td>India</td>\n",
       "      <td>6.340000e+08</td>\n",
       "      <td>11.816578</td>\n",
       "    </tr>\n",
       "    <tr>\n",
       "      <td>702</td>\n",
       "      <td>1982</td>\n",
       "      <td>India</td>\n",
       "      <td>7.080000e+08</td>\n",
       "      <td>11.671924</td>\n",
       "    </tr>\n",
       "    <tr>\n",
       "      <td>703</td>\n",
       "      <td>1987</td>\n",
       "      <td>India</td>\n",
       "      <td>7.880000e+08</td>\n",
       "      <td>11.299435</td>\n",
       "    </tr>\n",
       "    <tr>\n",
       "      <td>704</td>\n",
       "      <td>1992</td>\n",
       "      <td>India</td>\n",
       "      <td>8.720000e+08</td>\n",
       "      <td>10.659898</td>\n",
       "    </tr>\n",
       "    <tr>\n",
       "      <td>705</td>\n",
       "      <td>1997</td>\n",
       "      <td>India</td>\n",
       "      <td>9.590000e+08</td>\n",
       "      <td>9.977064</td>\n",
       "    </tr>\n",
       "    <tr>\n",
       "      <td>706</td>\n",
       "      <td>2002</td>\n",
       "      <td>India</td>\n",
       "      <td>1.034173e+09</td>\n",
       "      <td>7.838639</td>\n",
       "    </tr>\n",
       "    <tr>\n",
       "      <td>707</td>\n",
       "      <td>2007</td>\n",
       "      <td>India</td>\n",
       "      <td>1.110396e+09</td>\n",
       "      <td>7.370509</td>\n",
       "    </tr>\n",
       "  </tbody>\n",
       "</table>\n",
       "</div>"
      ],
      "text/plain": [
       "     year country           pop   Perc_inc\n",
       "696  1952   India  3.720000e+08        NaN\n",
       "697  1957   India  4.090000e+08   9.946237\n",
       "698  1962   India  4.540000e+08  11.002445\n",
       "699  1967   India  5.060000e+08  11.453744\n",
       "700  1972   India  5.670000e+08  12.055336\n",
       "701  1977   India  6.340000e+08  11.816578\n",
       "702  1982   India  7.080000e+08  11.671924\n",
       "703  1987   India  7.880000e+08  11.299435\n",
       "704  1992   India  8.720000e+08  10.659898\n",
       "705  1997   India  9.590000e+08   9.977064\n",
       "706  2002   India  1.034173e+09   7.838639\n",
       "707  2007   India  1.110396e+09   7.370509"
      ]
     },
     "execution_count": 40,
     "metadata": {},
     "output_type": "execute_result"
    }
   ],
   "source": [
    "## Display india population.\n",
    "data_india"
   ]
  },
  {
   "cell_type": "code",
   "execution_count": 41,
   "metadata": {
    "ExecuteTime": {
     "end_time": "2019-11-17T07:30:31.123868Z",
     "start_time": "2019-11-17T07:30:30.957313Z"
    }
   },
   "outputs": [
    {
     "data": {
      "text/plain": [
       "<matplotlib.axes._subplots.AxesSubplot at 0x2caff22b848>"
      ]
     },
     "execution_count": 41,
     "metadata": {},
     "output_type": "execute_result"
    },
    {
     "data": {
      "image/png": "[encoded data removed]",
      "text/plain": [
       "<Figure size 432x288 with 1 Axes>"
      ]
     },
     "metadata": {
      "needs_background": "light"
     },
     "output_type": "display_data"
    }
   ],
   "source": [
    "## Draw line plot for year and india population percentage.\n",
    "sns.pointplot(x='year',y='Perc_inc',data=data_india.iloc[1:,:])"
   ]
  },
  {
   "cell_type": "code",
   "execution_count": 42,
   "metadata": {
    "ExecuteTime": {
     "end_time": "2019-11-17T07:30:34.468479Z",
     "start_time": "2019-11-17T07:30:34.305869Z"
    }
   },
   "outputs": [
    {
     "data": {
      "text/plain": [
       "(0, 12.377796509455816)"
      ]
     },
     "execution_count": 42,
     "metadata": {},
     "output_type": "execute_result"
    },
    {
     "data": {
      "image/png": "[encoded data removed]",
      "text/plain": [
       "<Figure size 432x288 with 1 Axes>"
      ]
     },
     "metadata": {
      "needs_background": "light"
     },
     "output_type": "display_data"
    }
   ],
   "source": [
    "## Move the y-axis starting point.\n",
    "sns.pointplot(x='year',y='Perc_inc',data=data_india.iloc[1:,:])\n",
    "axes=plt.gca()\n",
    "axes.set_ylim([0,None])"
   ]
  },
  {
   "cell_type": "markdown",
   "metadata": {},
   "source": [
    "##### Check, Is China's growth is similar to India"
   ]
  },
  {
   "cell_type": "markdown",
   "metadata": {},
   "source": [
    "#### Sub Plots:"
   ]
  },
  {
   "cell_type": "markdown",
   "metadata": {},
   "source": [
    "Let us compare the %increase in population of China and India"
   ]
  },
  {
   "cell_type": "code",
   "execution_count": 26,
   "metadata": {
    "ExecuteTime": {
     "end_time": "2019-11-17T07:30:50.487095Z",
     "start_time": "2019-11-17T07:30:50.481121Z"
    }
   },
   "outputs": [],
   "source": [
    "## Get the China population.\n",
    "data_china=data.loc[ (data['country']=='China'),['year','country','pop']]\n",
    "\n",
    "## Convert population in percentage.\n",
    "data_china['Perc_inc'] = 100*(data_china['pop'].pct_change())"
   ]
  },
  {
   "cell_type": "code",
   "execution_count": 27,
   "metadata": {
    "ExecuteTime": {
     "end_time": "2019-11-17T07:30:51.044599Z",
     "start_time": "2019-11-17T07:30:51.030638Z"
    }
   },
   "outputs": [
    {
     "data": {
      "text/html": [
       "<div>\n",
       "<style scoped>\n",
       "    .dataframe tbody tr th:only-of-type {\n",
       "        vertical-align: middle;\n",
       "    }\n",
       "\n",
       "    .dataframe tbody tr th {\n",
       "        vertical-align: top;\n",
       "    }\n",
       "\n",
       "    .dataframe thead th {\n",
       "        text-align: right;\n",
       "    }\n",
       "</style>\n",
       "<table border=\"1\" class=\"dataframe\">\n",
       "  <thead>\n",
       "    <tr style=\"text-align: right;\">\n",
       "      <th></th>\n",
       "      <th>year</th>\n",
       "      <th>country</th>\n",
       "      <th>pop</th>\n",
       "      <th>Perc_inc</th>\n",
       "    </tr>\n",
       "  </thead>\n",
       "  <tbody>\n",
       "    <tr>\n",
       "      <th>288</th>\n",
       "      <td>1952</td>\n",
       "      <td>China</td>\n",
       "      <td>5.562635e+08</td>\n",
       "      <td>NaN</td>\n",
       "    </tr>\n",
       "    <tr>\n",
       "      <th>289</th>\n",
       "      <td>1957</td>\n",
       "      <td>China</td>\n",
       "      <td>6.374080e+08</td>\n",
       "      <td>14.587415</td>\n",
       "    </tr>\n",
       "    <tr>\n",
       "      <th>290</th>\n",
       "      <td>1962</td>\n",
       "      <td>China</td>\n",
       "      <td>6.657700e+08</td>\n",
       "      <td>4.449583</td>\n",
       "    </tr>\n",
       "    <tr>\n",
       "      <th>291</th>\n",
       "      <td>1967</td>\n",
       "      <td>China</td>\n",
       "      <td>7.545500e+08</td>\n",
       "      <td>13.334935</td>\n",
       "    </tr>\n",
       "    <tr>\n",
       "      <th>292</th>\n",
       "      <td>1972</td>\n",
       "      <td>China</td>\n",
       "      <td>8.620300e+08</td>\n",
       "      <td>14.244252</td>\n",
       "    </tr>\n",
       "    <tr>\n",
       "      <th>293</th>\n",
       "      <td>1977</td>\n",
       "      <td>China</td>\n",
       "      <td>9.434550e+08</td>\n",
       "      <td>9.445727</td>\n",
       "    </tr>\n",
       "    <tr>\n",
       "      <th>294</th>\n",
       "      <td>1982</td>\n",
       "      <td>China</td>\n",
       "      <td>1.000281e+09</td>\n",
       "      <td>6.023181</td>\n",
       "    </tr>\n",
       "    <tr>\n",
       "      <th>295</th>\n",
       "      <td>1987</td>\n",
       "      <td>China</td>\n",
       "      <td>1.084035e+09</td>\n",
       "      <td>8.373047</td>\n",
       "    </tr>\n",
       "    <tr>\n",
       "      <th>296</th>\n",
       "      <td>1992</td>\n",
       "      <td>China</td>\n",
       "      <td>1.164970e+09</td>\n",
       "      <td>7.466087</td>\n",
       "    </tr>\n",
       "    <tr>\n",
       "      <th>297</th>\n",
       "      <td>1997</td>\n",
       "      <td>China</td>\n",
       "      <td>1.230075e+09</td>\n",
       "      <td>5.588556</td>\n",
       "    </tr>\n",
       "    <tr>\n",
       "      <th>298</th>\n",
       "      <td>2002</td>\n",
       "      <td>China</td>\n",
       "      <td>1.280400e+09</td>\n",
       "      <td>4.091214</td>\n",
       "    </tr>\n",
       "    <tr>\n",
       "      <th>299</th>\n",
       "      <td>2007</td>\n",
       "      <td>China</td>\n",
       "      <td>1.318683e+09</td>\n",
       "      <td>2.989933</td>\n",
       "    </tr>\n",
       "  </tbody>\n",
       "</table>\n",
       "</div>"
      ],
      "text/plain": [
       "     year country           pop   Perc_inc\n",
       "288  1952   China  5.562635e+08        NaN\n",
       "289  1957   China  6.374080e+08  14.587415\n",
       "290  1962   China  6.657700e+08   4.449583\n",
       "291  1967   China  7.545500e+08  13.334935\n",
       "292  1972   China  8.620300e+08  14.244252\n",
       "293  1977   China  9.434550e+08   9.445727\n",
       "294  1982   China  1.000281e+09   6.023181\n",
       "295  1987   China  1.084035e+09   8.373047\n",
       "296  1992   China  1.164970e+09   7.466087\n",
       "297  1997   China  1.230075e+09   5.588556\n",
       "298  2002   China  1.280400e+09   4.091214\n",
       "299  2007   China  1.318683e+09   2.989933"
      ]
     },
     "execution_count": 27,
     "metadata": {},
     "output_type": "execute_result"
    }
   ],
   "source": [
    "## Display China population.\n",
    "data_china"
   ]
  },
  {
   "cell_type": "code",
   "execution_count": 28,
   "metadata": {
    "ExecuteTime": {
     "end_time": "2019-11-17T07:30:51.863948Z",
     "start_time": "2019-11-17T07:30:51.696392Z"
    }
   },
   "outputs": [
    {
     "data": {
      "text/plain": [
       "(0.0, 15.167289629256882)"
      ]
     },
     "execution_count": 28,
     "metadata": {},
     "output_type": "execute_result"
    },
    {
     "data": {
      "image/png": "[encoded data removed]",
      "text/plain": [
       "<Figure size 432x288 with 1 Axes>"
      ]
     },
     "metadata": {},
     "output_type": "display_data"
    }
   ],
   "source": [
    "## Draw line plot for year vs china population percentage.\n",
    "sns.pointplot(x='year',y='Perc_inc',data=data_china.iloc[1:,:])\n",
    "axes=plt.gca()\n",
    "axes.set_ylim([0,None])"
   ]
  },
  {
   "cell_type": "code",
   "execution_count": 46,
   "metadata": {
    "ExecuteTime": {
     "end_time": "2019-11-17T07:30:52.624269Z",
     "start_time": "2019-11-17T07:30:52.329717Z"
    }
   },
   "outputs": [
    {
     "data": {
      "image/png": "[encoded data removed]",
      "text/plain": [
       "<Figure size 1080x360 with 2 Axes>"
      ]
     },
     "metadata": {
      "needs_background": "light"
     },
     "output_type": "display_data"
    }
   ],
   "source": [
    "## Compare India population with China population.\n",
    "\n",
    "fig, ax = plt.subplots(1, 2,figsize=(15,5))\n",
    "fig.subplots_adjust(wspace=0.5)\n",
    "\n",
    "\n",
    "sns.pointplot(x='year',y='Perc_inc',data=data_china.iloc[1:,:],ax=ax[0],sharey=True)\n",
    "ax[0].set_title('CHINA')\n",
    "ax[0].set_xlabel('Year')\n",
    "ax[0].set_ylabel('Percentage Increase ')\n",
    "\n",
    "\n",
    "\n",
    "ax[1].set_title('INDIA')\n",
    "ax[1].set_xlabel('Year')\n",
    "ax[1].set_ylabel('Percentage Increase ')\n",
    "sns.pointplot(x='year',y='Perc_inc',data=data_india.iloc[1:,:],ax=ax[1],sharey=True)\n",
    "\n",
    "axes = fig.axes\n",
    "axes[0].set_ylim(0,15)\n",
    "axes[1].set_ylim(0,15)\n",
    "\n",
    "\n",
    "plt.show()"
   ]
  },
  {
   "cell_type": "markdown",
   "metadata": {},
   "source": [
    "##### Lets understand some formatting techniques for seaborn plot. \n",
    "- For a clear communication of information, the plot should have title, label, legend etc. We shall work on some of those aspects now"
   ]
  },
  {
   "cell_type": "code",
   "execution_count": 47,
   "metadata": {
    "ExecuteTime": {
     "end_time": "2019-11-17T07:31:04.022437Z",
     "start_time": "2019-11-17T07:31:03.867788Z"
    }
   },
   "outputs": [
    {
     "data": {
      "text/plain": [
       "<matplotlib.axes._subplots.AxesSubplot at 0x2caff68da88>"
      ]
     },
     "execution_count": 47,
     "metadata": {},
     "output_type": "execute_result"
    },
    {
     "data": {
      "image/png": "[encoded data removed]",
      "text/plain": [
       "<Figure size 432x288 with 1 Axes>"
      ]
     },
     "metadata": {
      "needs_background": "light"
     },
     "output_type": "display_data"
    }
   ],
   "source": [
    "## Get sum of population for each continent and draw bar plot.\n",
    "data_tot=data.groupby(['year','continent'])['pop'].sum().reset_index()\n",
    "data_2007=data_tot[data_tot['year']==2007]\n",
    "sns.barplot(x='continent',y='pop',data=data_2007)"
   ]
  },
  {
   "cell_type": "code",
   "execution_count": 53,
   "metadata": {
    "ExecuteTime": {
     "end_time": "2019-11-17T07:32:31.774630Z",
     "start_time": "2019-11-17T07:32:31.627911Z"
    }
   },
   "outputs": [
    {
     "data": {
      "text/plain": [
       "<matplotlib.axes._subplots.AxesSubplot at 0x2cafef96dc8>"
      ]
     },
     "execution_count": 53,
     "metadata": {},
     "output_type": "execute_result"
    },
    {
     "data": {
      "image/png": "[encoded data removed]",
      "text/plain": [
       "<Figure size 432x288 with 1 Axes>"
      ]
     },
     "metadata": {
      "needs_background": "light"
     },
     "output_type": "display_data"
    }
   ],
   "source": [
    "## Bar plot won't sort the value,we have to sort data and give the values to bar plot.For sorting use sort_values() fucntion.\n",
    "data_tot=data.groupby(['year','continent']).sum().sort_values(by='pop',ascending=False).reset_index()\n",
    "data_2007=data_tot[data_tot['year']==2007]\n",
    "sns.barplot(x='continent',y='pop',data=data_2007)"
   ]
  },
  {
   "cell_type": "code",
   "execution_count": 55,
   "metadata": {
    "ExecuteTime": {
     "end_time": "2019-11-17T07:32:53.382475Z",
     "start_time": "2019-11-17T07:32:53.235657Z"
    }
   },
   "outputs": [
    {
     "data": {
      "image/png": "[encoded data removed]",
      "text/plain": [
       "<Figure size 864x504 with 1 Axes>"
      ]
     },
     "metadata": {
      "needs_background": "light"
     },
     "output_type": "display_data"
    }
   ],
   "source": [
    "## Lets work on seaborn.\n",
    "## set figure size to 12, 7.\n",
    "plt.figure(figsize=(12,7))\n",
    "## seaborn bar plot.\n",
    "sns.barplot(x='continent',y='pop',data=data_2007)\n",
    "## xticks fontsize to 12.\n",
    "plt.xticks(fontsize=12)\n",
    "## ytics fontsize also to 24 but get loc and labels .\n",
    "loc,labels=plt.yticks(fontsize=12)\n",
    "## set loc and labels as loc, loc/1e9 (lables be just divided by 1e9 to scale by billions).\n",
    "plt.yticks(loc,loc/1e9)\n",
    "## set xlabel as 'Continents' with fontsize 16.\n",
    "plt.xlabel('Continents',fontsize=16)\n",
    "## set ylabel as Population Billions to fontsize 16.\n",
    "plt.ylabel('Population in Billions',fontsize=16)\n",
    "## show plot.\n",
    "plt.show()"
   ]
  },
  {
   "cell_type": "markdown",
   "metadata": {},
   "source": [
    "#### Observe the data_tot has 3 attributes- year, continent and population\n",
    "- Lets say we want to compare the population growth of all the continents by year"
   ]
  },
  {
   "cell_type": "code",
   "execution_count": 56,
   "metadata": {
    "ExecuteTime": {
     "end_time": "2019-11-17T07:33:08.281638Z",
     "start_time": "2019-11-17T07:33:08.273662Z"
    }
   },
   "outputs": [],
   "source": [
    "## Get the population sum accorss year andd continent.\n",
    "data_tot=data.groupby(['year','continent'])['pop'].sum().reset_index()"
   ]
  },
  {
   "cell_type": "code",
   "execution_count": 57,
   "metadata": {
    "ExecuteTime": {
     "end_time": "2019-11-17T07:33:08.703224Z",
     "start_time": "2019-11-17T07:33:08.693285Z"
    },
    "scrolled": true
   },
   "outputs": [
    {
     "data": {
      "text/html": [
       "<div>\n",
       "<style scoped>\n",
       "    .dataframe tbody tr th:only-of-type {\n",
       "        vertical-align: middle;\n",
       "    }\n",
       "\n",
       "    .dataframe tbody tr th {\n",
       "        vertical-align: top;\n",
       "    }\n",
       "\n",
       "    .dataframe thead th {\n",
       "        text-align: right;\n",
       "    }\n",
       "</style>\n",
       "<table border=\"1\" class=\"dataframe\">\n",
       "  <thead>\n",
       "    <tr style=\"text-align: right;\">\n",
       "      <th></th>\n",
       "      <th>year</th>\n",
       "      <th>continent</th>\n",
       "      <th>pop</th>\n",
       "    </tr>\n",
       "  </thead>\n",
       "  <tbody>\n",
       "    <tr>\n",
       "      <td>0</td>\n",
       "      <td>1952</td>\n",
       "      <td>Africa</td>\n",
       "      <td>2.376405e+08</td>\n",
       "    </tr>\n",
       "    <tr>\n",
       "      <td>1</td>\n",
       "      <td>1952</td>\n",
       "      <td>Americas</td>\n",
       "      <td>3.451524e+08</td>\n",
       "    </tr>\n",
       "    <tr>\n",
       "      <td>2</td>\n",
       "      <td>1952</td>\n",
       "      <td>Asia</td>\n",
       "      <td>1.395357e+09</td>\n",
       "    </tr>\n",
       "    <tr>\n",
       "      <td>3</td>\n",
       "      <td>1952</td>\n",
       "      <td>Europe</td>\n",
       "      <td>4.181208e+08</td>\n",
       "    </tr>\n",
       "    <tr>\n",
       "      <td>4</td>\n",
       "      <td>1952</td>\n",
       "      <td>Oceania</td>\n",
       "      <td>1.068601e+07</td>\n",
       "    </tr>\n",
       "  </tbody>\n",
       "</table>\n",
       "</div>"
      ],
      "text/plain": [
       "   year continent           pop\n",
       "0  1952    Africa  2.376405e+08\n",
       "1  1952  Americas  3.451524e+08\n",
       "2  1952      Asia  1.395357e+09\n",
       "3  1952    Europe  4.181208e+08\n",
       "4  1952   Oceania  1.068601e+07"
      ]
     },
     "execution_count": 57,
     "metadata": {},
     "output_type": "execute_result"
    }
   ],
   "source": [
    "## Display first 5 records of population sum accorss year and continent.\n",
    "data_tot.head()"
   ]
  },
  {
   "cell_type": "code",
   "execution_count": 58,
   "metadata": {
    "ExecuteTime": {
     "end_time": "2019-11-17T07:33:11.365822Z",
     "start_time": "2019-11-17T07:33:10.903933Z"
    },
    "scrolled": false
   },
   "outputs": [
    {
     "data": {
      "text/plain": [
       "<matplotlib.axes._subplots.AxesSubplot at 0x2caff623488>"
      ]
     },
     "execution_count": 58,
     "metadata": {},
     "output_type": "execute_result"
    },
    {
     "data": {
      "image/png": "[encoded data removed]",
      "text/plain": [
       "<Figure size 864x504 with 1 Axes>"
      ]
     },
     "metadata": {
      "needs_background": "light"
     },
     "output_type": "display_data"
    }
   ],
   "source": [
    "## Draw barplot for population sum and each year,continent.\n",
    "plt.figure(figsize=(12,7))\n",
    "sns.barplot(x='year',y='pop',hue='continent',data=data_tot)"
   ]
  },
  {
   "cell_type": "markdown",
   "metadata": {},
   "source": [
    "- Asia seems to be dominating and beside it, Oceania appears like zero but its actally not. So let's keep Asia out of this for the moment"
   ]
  },
  {
   "cell_type": "code",
   "execution_count": 59,
   "metadata": {
    "ExecuteTime": {
     "end_time": "2019-11-17T07:33:16.536566Z",
     "start_time": "2019-11-17T07:33:16.121720Z"
    }
   },
   "outputs": [
    {
     "data": {
      "text/plain": [
       "<matplotlib.axes._subplots.AxesSubplot at 0x2caff638f48>"
      ]
     },
     "execution_count": 59,
     "metadata": {},
     "output_type": "execute_result"
    },
    {
     "data": {
      "image/png": "[encoded data removed]",
      "text/plain": [
       "<Figure size 864x504 with 1 Axes>"
      ]
     },
     "metadata": {
      "needs_background": "light"
     },
     "output_type": "display_data"
    }
   ],
   "source": [
    "## Draw a barplot for population sum and each year,continent without including Asia continent.\n",
    "plt.figure(figsize=(12,7))\n",
    "sns.barplot(x='year',y='pop',hue='continent',data=data_tot[data_tot['continent']!='Asia'])"
   ]
  },
  {
   "cell_type": "code",
   "execution_count": 60,
   "metadata": {
    "ExecuteTime": {
     "end_time": "2019-11-17T07:33:21.534131Z",
     "start_time": "2019-11-17T07:33:21.153113Z"
    }
   },
   "outputs": [
    {
     "data": {
      "image/png": "[encoded data removed]",
      "text/plain": [
       "<Figure size 864x504 with 1 Axes>"
      ]
     },
     "metadata": {
      "needs_background": "light"
     },
     "output_type": "display_data"
    }
   ],
   "source": [
    "## Draw a barplot for sum of pupulation VS each year without including Asia continent.\n",
    "font = {'family': 'serif',\n",
    "        'color':  'darkblue',\n",
    "        'weight': 'heavy',\n",
    "        'size': 20\n",
    "        }\n",
    "\n",
    "\n",
    "plt.figure(figsize=(12,7))\n",
    "sns.barplot(x='year',y='pop',hue='continent',data=data_tot[data_tot['continent']!='Asia'])\n",
    "\n",
    "plt.xlabel('YEAR', fontdict={'size': 20})\n",
    "plt.xticks(rotation='vertical')\n",
    "plt.ylabel('POPULATION', fontdict={'size': 20})\n",
    "plt.title('YEARWISE POPULATION OF EACH CONTINENT', fontdict=font)\n",
    "plt.legend(loc='upper left')\n",
    "plt.show()\n"
   ]
  },
  {
   "cell_type": "code",
   "execution_count": 60,
   "metadata": {
    "ExecuteTime": {
     "end_time": "2019-11-17T06:40:54.182365Z",
     "start_time": "2019-11-17T06:40:53.683005Z"
    }
   },
   "outputs": [
    {
     "data": {
      "image/png": "[encoded data removed]",
      "text/plain": [
       "<Figure size 864x504 with 1 Axes>"
      ]
     },
     "metadata": {
      "needs_background": "light"
     },
     "output_type": "display_data"
    }
   ],
   "source": [
    "## Get population sum for 1952,1982,2002 years without including Asia continent and draw a barplot.\n",
    "\n",
    "plt.figure(figsize=(12,7))\n",
    "sns.barplot(x='year',y='pop',hue='continent',data=data_tot[(data_tot['continent']!='Asia')&(data_tot['year'].isin([1952,1982,2002]))])\n",
    "plt.xticks(fontsize=12,rotation=\"vertical\")\n",
    "## ytics fontsize also to 24 but get loc and labels.\n",
    "loc,lablels=plt.yticks(fontsize=12)\n",
    "## set loc and labels as loc, loc/1e9 (lables be just divided by 1e9 to scale by billions).\n",
    "plt.yticks(loc,loc/1e9)\n",
    "## set xlabel as 'Continents' with fontsize 16.\n",
    "plt.xlabel('Continents',fontsize=16)\n",
    "## set ylabel as Population Billions to fontsize 16.\n",
    "plt.ylabel('Population in Billions',fontsize=16)\n",
    "## show plot.\n",
    "plt.show()"
   ]
  },
  {
   "cell_type": "code",
   "execution_count": 62,
   "metadata": {
    "ExecuteTime": {
     "end_time": "2019-11-17T07:33:53.301538Z",
     "start_time": "2019-11-17T07:33:53.108967Z"
    },
    "scrolled": false
   },
   "outputs": [
    {
     "data": {
      "image/png": "[encoded data removed]",
      "text/plain": [
       "<Figure size 864x504 with 1 Axes>"
      ]
     },
     "metadata": {
      "needs_background": "light"
     },
     "output_type": "display_data"
    }
   ],
   "source": [
    "## Get population sum for 1952,1987,2007 years including Asia continent and draw a barplot.\n",
    "\n",
    "plt.figure(figsize=(12,7))\n",
    "sns.barplot(x='continent',y='pop',hue='year',data=data_tot[data_tot['year'].isin([1957,1987,2007])])\n",
    "plt.xticks(fontsize=12)\n",
    "## yticks fontsize also to 24 but get loc and labels. \n",
    "loc,lables=plt.yticks(fontsize=12)\n",
    "## set loc and labels as loc, loc/1e9 (lables be just divided by 1e9 to scale by billions).\n",
    "plt.yticks(loc,loc/1e9)\n",
    "## set xlabel as 'Continents' with fontsize 16.\n",
    "plt.xlabel('Continents',fontsize=16)\n",
    "## set ylabel as Population Billions to fontsize 16.\n",
    "plt.ylabel('Population in Billions',fontsize=16)\n",
    "## show plot.\n",
    "plt.show()"
   ]
  },
  {
   "cell_type": "markdown",
   "metadata": {},
   "source": [
    "#####  How is the distribution of Life expectancy in Asia\n",
    "- To study this, we go with histograms and understand impact of bins"
   ]
  },
  {
   "cell_type": "code",
   "execution_count": 63,
   "metadata": {
    "ExecuteTime": {
     "end_time": "2019-11-17T07:34:29.274024Z",
     "start_time": "2019-11-17T07:34:29.085536Z"
    }
   },
   "outputs": [
    {
     "name": "stderr",
     "output_type": "stream",
     "text": [
      "c:\\users\\jvnra\\miniconda3\\lib\\site-packages\\scipy\\stats\\stats.py:1713: FutureWarning: Using a non-tuple sequence for multidimensional indexing is deprecated; use `arr[tuple(seq)]` instead of `arr[seq]`. In the future this will be interpreted as an array index, `arr[np.array(seq)]`, which will result either in an error or a different result.\n",
      "  return np.add.reduce(sorted[indexer] * weights, axis=axis) / sumval\n"
     ]
    },
    {
     "data": {
      "text/plain": [
       "<matplotlib.axes._subplots.AxesSubplot at 0x2caff1b5408>"
      ]
     },
     "execution_count": 63,
     "metadata": {},
     "output_type": "execute_result"
    },
    {
     "data": {
      "image/png": "[encoded data removed]",
      "text/plain": [
       "<Figure size 432x288 with 1 Axes>"
      ]
     },
     "metadata": {
      "needs_background": "light"
     },
     "output_type": "display_data"
    }
   ],
   "source": [
    "## Draw distrubution plot for Asia continent life expectancy with 10 bins.\n",
    "sns.distplot(data[data['continent']==\"Asia\"]['lifeExp'],bins=10)"
   ]
  },
  {
   "cell_type": "code",
   "execution_count": 64,
   "metadata": {
    "ExecuteTime": {
     "end_time": "2019-11-17T07:34:29.959887Z",
     "start_time": "2019-11-17T07:34:29.769756Z"
    }
   },
   "outputs": [
    {
     "data": {
      "text/plain": [
       "<matplotlib.axes._subplots.AxesSubplot at 0x2ca81637048>"
      ]
     },
     "execution_count": 64,
     "metadata": {},
     "output_type": "execute_result"
    },
    {
     "data": {
      "image/png": "[encoded data removed]",
      "text/plain": [
       "<Figure size 432x288 with 1 Axes>"
      ]
     },
     "metadata": {
      "needs_background": "light"
     },
     "output_type": "display_data"
    }
   ],
   "source": [
    "## Draw distrubution plot for Asia continent life expectancy with 20 bins.\n",
    "sns.distplot(data[data['continent']==\"Asia\"]['lifeExp'],bins=20)"
   ]
  },
  {
   "cell_type": "markdown",
   "metadata": {},
   "source": [
    "#### Lets understand the box plots\n",
    "- How is the life expectancy of people across the world\n",
    "    - Do people is certain continents live longer than the other \n",
    "        - Lets average the life expectancy for a continent for each year"
   ]
  },
  {
   "cell_type": "code",
   "execution_count": 65,
   "metadata": {
    "ExecuteTime": {
     "end_time": "2019-11-17T07:34:31.704446Z",
     "start_time": "2019-11-17T07:34:31.694472Z"
    }
   },
   "outputs": [],
   "source": [
    "## Get the average life expectation across each year and each continent.\n",
    "data_life=data.groupby(['year','continent'])['lifeExp'].mean().reset_index()"
   ]
  },
  {
   "cell_type": "code",
   "execution_count": 66,
   "metadata": {
    "ExecuteTime": {
     "end_time": "2019-11-17T07:34:32.801250Z",
     "start_time": "2019-11-17T07:34:32.789282Z"
    },
    "scrolled": false
   },
   "outputs": [
    {
     "data": {
      "text/html": [
       "<div>\n",
       "<style scoped>\n",
       "    .dataframe tbody tr th:only-of-type {\n",
       "        vertical-align: middle;\n",
       "    }\n",
       "\n",
       "    .dataframe tbody tr th {\n",
       "        vertical-align: top;\n",
       "    }\n",
       "\n",
       "    .dataframe thead th {\n",
       "        text-align: right;\n",
       "    }\n",
       "</style>\n",
       "<table border=\"1\" class=\"dataframe\">\n",
       "  <thead>\n",
       "    <tr style=\"text-align: right;\">\n",
       "      <th></th>\n",
       "      <th>year</th>\n",
       "      <th>continent</th>\n",
       "      <th>lifeExp</th>\n",
       "    </tr>\n",
       "  </thead>\n",
       "  <tbody>\n",
       "    <tr>\n",
       "      <td>0</td>\n",
       "      <td>1952</td>\n",
       "      <td>Africa</td>\n",
       "      <td>39.135500</td>\n",
       "    </tr>\n",
       "    <tr>\n",
       "      <td>1</td>\n",
       "      <td>1952</td>\n",
       "      <td>Americas</td>\n",
       "      <td>53.279840</td>\n",
       "    </tr>\n",
       "    <tr>\n",
       "      <td>2</td>\n",
       "      <td>1952</td>\n",
       "      <td>Asia</td>\n",
       "      <td>46.314394</td>\n",
       "    </tr>\n",
       "    <tr>\n",
       "      <td>3</td>\n",
       "      <td>1952</td>\n",
       "      <td>Europe</td>\n",
       "      <td>64.408500</td>\n",
       "    </tr>\n",
       "    <tr>\n",
       "      <td>4</td>\n",
       "      <td>1952</td>\n",
       "      <td>Oceania</td>\n",
       "      <td>69.255000</td>\n",
       "    </tr>\n",
       "    <tr>\n",
       "      <td>5</td>\n",
       "      <td>1957</td>\n",
       "      <td>Africa</td>\n",
       "      <td>41.266346</td>\n",
       "    </tr>\n",
       "    <tr>\n",
       "      <td>6</td>\n",
       "      <td>1957</td>\n",
       "      <td>Americas</td>\n",
       "      <td>55.960280</td>\n",
       "    </tr>\n",
       "    <tr>\n",
       "      <td>7</td>\n",
       "      <td>1957</td>\n",
       "      <td>Asia</td>\n",
       "      <td>49.318544</td>\n",
       "    </tr>\n",
       "    <tr>\n",
       "      <td>8</td>\n",
       "      <td>1957</td>\n",
       "      <td>Europe</td>\n",
       "      <td>66.703067</td>\n",
       "    </tr>\n",
       "    <tr>\n",
       "      <td>9</td>\n",
       "      <td>1957</td>\n",
       "      <td>Oceania</td>\n",
       "      <td>70.295000</td>\n",
       "    </tr>\n",
       "    <tr>\n",
       "      <td>10</td>\n",
       "      <td>1962</td>\n",
       "      <td>Africa</td>\n",
       "      <td>43.319442</td>\n",
       "    </tr>\n",
       "    <tr>\n",
       "      <td>11</td>\n",
       "      <td>1962</td>\n",
       "      <td>Americas</td>\n",
       "      <td>58.398760</td>\n",
       "    </tr>\n",
       "    <tr>\n",
       "      <td>12</td>\n",
       "      <td>1962</td>\n",
       "      <td>Asia</td>\n",
       "      <td>51.563223</td>\n",
       "    </tr>\n",
       "    <tr>\n",
       "      <td>13</td>\n",
       "      <td>1962</td>\n",
       "      <td>Europe</td>\n",
       "      <td>68.539233</td>\n",
       "    </tr>\n",
       "    <tr>\n",
       "      <td>14</td>\n",
       "      <td>1962</td>\n",
       "      <td>Oceania</td>\n",
       "      <td>71.085000</td>\n",
       "    </tr>\n",
       "    <tr>\n",
       "      <td>15</td>\n",
       "      <td>1967</td>\n",
       "      <td>Africa</td>\n",
       "      <td>45.334538</td>\n",
       "    </tr>\n",
       "    <tr>\n",
       "      <td>16</td>\n",
       "      <td>1967</td>\n",
       "      <td>Americas</td>\n",
       "      <td>60.410920</td>\n",
       "    </tr>\n",
       "    <tr>\n",
       "      <td>17</td>\n",
       "      <td>1967</td>\n",
       "      <td>Asia</td>\n",
       "      <td>54.663640</td>\n",
       "    </tr>\n",
       "    <tr>\n",
       "      <td>18</td>\n",
       "      <td>1967</td>\n",
       "      <td>Europe</td>\n",
       "      <td>69.737600</td>\n",
       "    </tr>\n",
       "    <tr>\n",
       "      <td>19</td>\n",
       "      <td>1967</td>\n",
       "      <td>Oceania</td>\n",
       "      <td>71.310000</td>\n",
       "    </tr>\n",
       "    <tr>\n",
       "      <td>20</td>\n",
       "      <td>1972</td>\n",
       "      <td>Africa</td>\n",
       "      <td>47.450942</td>\n",
       "    </tr>\n",
       "    <tr>\n",
       "      <td>21</td>\n",
       "      <td>1972</td>\n",
       "      <td>Americas</td>\n",
       "      <td>62.394920</td>\n",
       "    </tr>\n",
       "    <tr>\n",
       "      <td>22</td>\n",
       "      <td>1972</td>\n",
       "      <td>Asia</td>\n",
       "      <td>57.319269</td>\n",
       "    </tr>\n",
       "    <tr>\n",
       "      <td>23</td>\n",
       "      <td>1972</td>\n",
       "      <td>Europe</td>\n",
       "      <td>70.775033</td>\n",
       "    </tr>\n",
       "    <tr>\n",
       "      <td>24</td>\n",
       "      <td>1972</td>\n",
       "      <td>Oceania</td>\n",
       "      <td>71.910000</td>\n",
       "    </tr>\n",
       "    <tr>\n",
       "      <td>25</td>\n",
       "      <td>1977</td>\n",
       "      <td>Africa</td>\n",
       "      <td>49.580423</td>\n",
       "    </tr>\n",
       "    <tr>\n",
       "      <td>26</td>\n",
       "      <td>1977</td>\n",
       "      <td>Americas</td>\n",
       "      <td>64.391560</td>\n",
       "    </tr>\n",
       "    <tr>\n",
       "      <td>27</td>\n",
       "      <td>1977</td>\n",
       "      <td>Asia</td>\n",
       "      <td>59.610556</td>\n",
       "    </tr>\n",
       "    <tr>\n",
       "      <td>28</td>\n",
       "      <td>1977</td>\n",
       "      <td>Europe</td>\n",
       "      <td>71.937767</td>\n",
       "    </tr>\n",
       "    <tr>\n",
       "      <td>29</td>\n",
       "      <td>1977</td>\n",
       "      <td>Oceania</td>\n",
       "      <td>72.855000</td>\n",
       "    </tr>\n",
       "    <tr>\n",
       "      <td>30</td>\n",
       "      <td>1982</td>\n",
       "      <td>Africa</td>\n",
       "      <td>51.592865</td>\n",
       "    </tr>\n",
       "    <tr>\n",
       "      <td>31</td>\n",
       "      <td>1982</td>\n",
       "      <td>Americas</td>\n",
       "      <td>66.228840</td>\n",
       "    </tr>\n",
       "    <tr>\n",
       "      <td>32</td>\n",
       "      <td>1982</td>\n",
       "      <td>Asia</td>\n",
       "      <td>62.617939</td>\n",
       "    </tr>\n",
       "    <tr>\n",
       "      <td>33</td>\n",
       "      <td>1982</td>\n",
       "      <td>Europe</td>\n",
       "      <td>72.806400</td>\n",
       "    </tr>\n",
       "    <tr>\n",
       "      <td>34</td>\n",
       "      <td>1982</td>\n",
       "      <td>Oceania</td>\n",
       "      <td>74.290000</td>\n",
       "    </tr>\n",
       "    <tr>\n",
       "      <td>35</td>\n",
       "      <td>1987</td>\n",
       "      <td>Africa</td>\n",
       "      <td>53.344788</td>\n",
       "    </tr>\n",
       "    <tr>\n",
       "      <td>36</td>\n",
       "      <td>1987</td>\n",
       "      <td>Americas</td>\n",
       "      <td>68.090720</td>\n",
       "    </tr>\n",
       "    <tr>\n",
       "      <td>37</td>\n",
       "      <td>1987</td>\n",
       "      <td>Asia</td>\n",
       "      <td>64.851182</td>\n",
       "    </tr>\n",
       "    <tr>\n",
       "      <td>38</td>\n",
       "      <td>1987</td>\n",
       "      <td>Europe</td>\n",
       "      <td>73.642167</td>\n",
       "    </tr>\n",
       "    <tr>\n",
       "      <td>39</td>\n",
       "      <td>1987</td>\n",
       "      <td>Oceania</td>\n",
       "      <td>75.320000</td>\n",
       "    </tr>\n",
       "    <tr>\n",
       "      <td>40</td>\n",
       "      <td>1992</td>\n",
       "      <td>Africa</td>\n",
       "      <td>53.629577</td>\n",
       "    </tr>\n",
       "    <tr>\n",
       "      <td>41</td>\n",
       "      <td>1992</td>\n",
       "      <td>Americas</td>\n",
       "      <td>69.568360</td>\n",
       "    </tr>\n",
       "    <tr>\n",
       "      <td>42</td>\n",
       "      <td>1992</td>\n",
       "      <td>Asia</td>\n",
       "      <td>66.537212</td>\n",
       "    </tr>\n",
       "    <tr>\n",
       "      <td>43</td>\n",
       "      <td>1992</td>\n",
       "      <td>Europe</td>\n",
       "      <td>74.440100</td>\n",
       "    </tr>\n",
       "    <tr>\n",
       "      <td>44</td>\n",
       "      <td>1992</td>\n",
       "      <td>Oceania</td>\n",
       "      <td>76.945000</td>\n",
       "    </tr>\n",
       "    <tr>\n",
       "      <td>45</td>\n",
       "      <td>1997</td>\n",
       "      <td>Africa</td>\n",
       "      <td>53.598269</td>\n",
       "    </tr>\n",
       "    <tr>\n",
       "      <td>46</td>\n",
       "      <td>1997</td>\n",
       "      <td>Americas</td>\n",
       "      <td>71.150480</td>\n",
       "    </tr>\n",
       "    <tr>\n",
       "      <td>47</td>\n",
       "      <td>1997</td>\n",
       "      <td>Asia</td>\n",
       "      <td>68.020515</td>\n",
       "    </tr>\n",
       "    <tr>\n",
       "      <td>48</td>\n",
       "      <td>1997</td>\n",
       "      <td>Europe</td>\n",
       "      <td>75.505167</td>\n",
       "    </tr>\n",
       "    <tr>\n",
       "      <td>49</td>\n",
       "      <td>1997</td>\n",
       "      <td>Oceania</td>\n",
       "      <td>78.190000</td>\n",
       "    </tr>\n",
       "    <tr>\n",
       "      <td>50</td>\n",
       "      <td>2002</td>\n",
       "      <td>Africa</td>\n",
       "      <td>53.325231</td>\n",
       "    </tr>\n",
       "    <tr>\n",
       "      <td>51</td>\n",
       "      <td>2002</td>\n",
       "      <td>Americas</td>\n",
       "      <td>72.422040</td>\n",
       "    </tr>\n",
       "    <tr>\n",
       "      <td>52</td>\n",
       "      <td>2002</td>\n",
       "      <td>Asia</td>\n",
       "      <td>69.233879</td>\n",
       "    </tr>\n",
       "    <tr>\n",
       "      <td>53</td>\n",
       "      <td>2002</td>\n",
       "      <td>Europe</td>\n",
       "      <td>76.700600</td>\n",
       "    </tr>\n",
       "    <tr>\n",
       "      <td>54</td>\n",
       "      <td>2002</td>\n",
       "      <td>Oceania</td>\n",
       "      <td>79.740000</td>\n",
       "    </tr>\n",
       "    <tr>\n",
       "      <td>55</td>\n",
       "      <td>2007</td>\n",
       "      <td>Africa</td>\n",
       "      <td>54.806038</td>\n",
       "    </tr>\n",
       "    <tr>\n",
       "      <td>56</td>\n",
       "      <td>2007</td>\n",
       "      <td>Americas</td>\n",
       "      <td>73.608120</td>\n",
       "    </tr>\n",
       "    <tr>\n",
       "      <td>57</td>\n",
       "      <td>2007</td>\n",
       "      <td>Asia</td>\n",
       "      <td>70.728485</td>\n",
       "    </tr>\n",
       "    <tr>\n",
       "      <td>58</td>\n",
       "      <td>2007</td>\n",
       "      <td>Europe</td>\n",
       "      <td>77.648600</td>\n",
       "    </tr>\n",
       "    <tr>\n",
       "      <td>59</td>\n",
       "      <td>2007</td>\n",
       "      <td>Oceania</td>\n",
       "      <td>80.719500</td>\n",
       "    </tr>\n",
       "  </tbody>\n",
       "</table>\n",
       "</div>"
      ],
      "text/plain": [
       "    year continent    lifeExp\n",
       "0   1952    Africa  39.135500\n",
       "1   1952  Americas  53.279840\n",
       "2   1952      Asia  46.314394\n",
       "3   1952    Europe  64.408500\n",
       "4   1952   Oceania  69.255000\n",
       "5   1957    Africa  41.266346\n",
       "6   1957  Americas  55.960280\n",
       "7   1957      Asia  49.318544\n",
       "8   1957    Europe  66.703067\n",
       "9   1957   Oceania  70.295000\n",
       "10  1962    Africa  43.319442\n",
       "11  1962  Americas  58.398760\n",
       "12  1962      Asia  51.563223\n",
       "13  1962    Europe  68.539233\n",
       "14  1962   Oceania  71.085000\n",
       "15  1967    Africa  45.334538\n",
       "16  1967  Americas  60.410920\n",
       "17  1967      Asia  54.663640\n",
       "18  1967    Europe  69.737600\n",
       "19  1967   Oceania  71.310000\n",
       "20  1972    Africa  47.450942\n",
       "21  1972  Americas  62.394920\n",
       "22  1972      Asia  57.319269\n",
       "23  1972    Europe  70.775033\n",
       "24  1972   Oceania  71.910000\n",
       "25  1977    Africa  49.580423\n",
       "26  1977  Americas  64.391560\n",
       "27  1977      Asia  59.610556\n",
       "28  1977    Europe  71.937767\n",
       "29  1977   Oceania  72.855000\n",
       "30  1982    Africa  51.592865\n",
       "31  1982  Americas  66.228840\n",
       "32  1982      Asia  62.617939\n",
       "33  1982    Europe  72.806400\n",
       "34  1982   Oceania  74.290000\n",
       "35  1987    Africa  53.344788\n",
       "36  1987  Americas  68.090720\n",
       "37  1987      Asia  64.851182\n",
       "38  1987    Europe  73.642167\n",
       "39  1987   Oceania  75.320000\n",
       "40  1992    Africa  53.629577\n",
       "41  1992  Americas  69.568360\n",
       "42  1992      Asia  66.537212\n",
       "43  1992    Europe  74.440100\n",
       "44  1992   Oceania  76.945000\n",
       "45  1997    Africa  53.598269\n",
       "46  1997  Americas  71.150480\n",
       "47  1997      Asia  68.020515\n",
       "48  1997    Europe  75.505167\n",
       "49  1997   Oceania  78.190000\n",
       "50  2002    Africa  53.325231\n",
       "51  2002  Americas  72.422040\n",
       "52  2002      Asia  69.233879\n",
       "53  2002    Europe  76.700600\n",
       "54  2002   Oceania  79.740000\n",
       "55  2007    Africa  54.806038\n",
       "56  2007  Americas  73.608120\n",
       "57  2007      Asia  70.728485\n",
       "58  2007    Europe  77.648600\n",
       "59  2007   Oceania  80.719500"
      ]
     },
     "execution_count": 66,
     "metadata": {},
     "output_type": "execute_result"
    }
   ],
   "source": [
    "## Display averagee life expectation across each year and each continent.\n",
    "data_life"
   ]
  },
  {
   "cell_type": "code",
   "execution_count": 67,
   "metadata": {
    "ExecuteTime": {
     "end_time": "2019-11-17T07:34:33.869939Z",
     "start_time": "2019-11-17T07:34:33.689376Z"
    },
    "scrolled": true
   },
   "outputs": [
    {
     "data": {
      "text/plain": [
       "<matplotlib.axes._subplots.AxesSubplot at 0x2ca816c2f08>"
      ]
     },
     "execution_count": 67,
     "metadata": {},
     "output_type": "execute_result"
    },
    {
     "data": {
      "image/png": "[encoded data removed]",
      "text/plain": [
       "<Figure size 432x288 with 1 Axes>"
      ]
     },
     "metadata": {
      "needs_background": "light"
     },
     "output_type": "display_data"
    }
   ],
   "source": [
    "## Plot life expectation distrbution accorss each continent.\n",
    "sns.boxplot(x='continent',y='lifeExp',data=data_life)"
   ]
  },
  {
   "cell_type": "markdown",
   "metadata": {},
   "source": [
    "- Although, it shows some information-observe that we have taken mean of life expectency for year by continent so we have 12 points for each continent and in most cases interpretation based sample size of twelve may not be accurate"
   ]
  },
  {
   "cell_type": "markdown",
   "metadata": {},
   "source": [
    "##### The time factor is missing . \n",
    "- If we want to understand how life expectancy evolved over time for all continents"
   ]
  },
  {
   "cell_type": "code",
   "execution_count": 68,
   "metadata": {
    "ExecuteTime": {
     "end_time": "2019-11-17T07:34:42.604725Z",
     "start_time": "2019-11-17T07:34:42.233602Z"
    }
   },
   "outputs": [
    {
     "data": {
      "image/png": "[encoded data removed]",
      "text/plain": [
       "<Figure size 1008x648 with 1 Axes>"
      ]
     },
     "metadata": {
      "needs_background": "light"
     },
     "output_type": "display_data"
    }
   ],
   "source": [
    "## Plot life expectation distrbution accorss each continent for 1957,1987,2007 years.\n",
    "plt.figure(figsize=(14,9))\n",
    "sns.boxplot(x='continent',y='lifeExp',hue='year',data=data[data['year'].isin([1957,1987,2007])])\n",
    "plt.show()"
   ]
  },
  {
   "cell_type": "markdown",
   "metadata": {},
   "source": [
    "###### understand how the life expectancy of Asia changed over time."
   ]
  },
  {
   "cell_type": "code",
   "execution_count": 69,
   "metadata": {
    "ExecuteTime": {
     "end_time": "2019-11-17T07:34:56.775966Z",
     "start_time": "2019-11-17T07:34:56.410981Z"
    }
   },
   "outputs": [
    {
     "data": {
      "image/png": "[encoded data removed]",
      "text/plain": [
       "<Figure size 1008x648 with 1 Axes>"
      ]
     },
     "metadata": {
      "needs_background": "light"
     },
     "output_type": "display_data"
    }
   ],
   "source": [
    "## Plot life expectation for year year of Asia continent.\n",
    "plt.figure(figsize=(14,9))\n",
    "sns.boxplot(x='continent',y='lifeExp',hue='year',data=data[data['continent']==\"Asia\"])\n",
    "plt.show()"
   ]
  },
  {
   "cell_type": "markdown",
   "metadata": {},
   "source": [
    "#### Scatter Plot\n",
    "- It is the human nature to compare. We always do this. How is one factor affecting the other. Like how are my expenses with respect to my sal or how are my savings wrt my salary (just as an example!)\n",
    "- A quantitative way of analysing these relationships can be done using scatterplots\n",
    "- Let's say for example I want to know if gdp per capita and life expectancy are related\n",
    "    - Intuitively, more money there is a better healthcase system and hence life exp is higher and viceversa. But is it true- can we identify this pattern in this data"
   ]
  },
  {
   "cell_type": "code",
   "execution_count": 70,
   "metadata": {
    "ExecuteTime": {
     "end_time": "2019-11-17T07:34:58.579243Z",
     "start_time": "2019-11-17T07:34:58.285993Z"
    },
    "scrolled": false
   },
   "outputs": [
    {
     "name": "stderr",
     "output_type": "stream",
     "text": [
      "c:\\users\\jvnra\\miniconda3\\lib\\site-packages\\scipy\\stats\\stats.py:1713: FutureWarning: Using a non-tuple sequence for multidimensional indexing is deprecated; use `arr[tuple(seq)]` instead of `arr[seq]`. In the future this will be interpreted as an array index, `arr[np.array(seq)]`, which will result either in an error or a different result.\n",
      "  return np.add.reduce(sorted[indexer] * weights, axis=axis) / sumval\n"
     ]
    },
    {
     "data": {
      "image/png": "[encoded data removed]",
      "text/plain": [
       "<Figure size 1008x648 with 1 Axes>"
      ]
     },
     "metadata": {
      "needs_background": "light"
     },
     "output_type": "display_data"
    }
   ],
   "source": [
    "plt.figure(figsize=(14,9))\n",
    "sns.regplot(x='gdpPercap',y='lifeExp',data=data[data['continent']=='Europe'])\n",
    "plt.show()"
   ]
  }
 ],
 "metadata": {
  "kernelspec": {
   "display_name": "Python 3",
   "language": "python",
   "name": "python3"
  },
  "language_info": {
   "codemirror_mode": {
    "name": "ipython",
    "version": 3
   },
   "file_extension": ".py",
   "mimetype": "text/x-python",
   "name": "python",
   "nbconvert_exporter": "python",
   "pygments_lexer": "ipython3",
   "version": "3.6.5"
  },
  "toc": {
   "base_numbering": 1,
   "nav_menu": {},
   "number_sections": true,
   "sideBar": true,
   "skip_h1_title": false,
   "title_cell": "Table of Contents",
   "title_sidebar": "Contents",
   "toc_cell": false,
   "toc_position": {},
   "toc_section_display": true,
   "toc_window_display": false
  }
 },
 "nbformat": 4,
 "nbformat_minor": 2
}
