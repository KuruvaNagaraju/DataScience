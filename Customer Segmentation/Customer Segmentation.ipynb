{
 "cells": [
  {
   "cell_type": "markdown",
   "metadata": {},
   "source": [
    "## Problem Statement\n",
    "\n",
    "![](https://datahack-prod.s3.ap-south-1.amazonaws.com/__sized__/contest_cover/Customer_Segmentation-thumbnail-1200x1200-90.jpg)\n",
    "\n",
    "An automobile company has plans to enter new markets with their existing products (P1, P2, P3, P4 and P5). After intensive market research, they’ve deduced that the behavior of new market is similar to their existing market. \n",
    "\n",
    "In their existing market, the sales team has classified all customers into 4 segments (A, B, C, D ). Then, they performed segmented outreach and communication for different segment of customers. This strategy has work exceptionally well for them. They plan to use the same strategy on new markets and have identified 2627 new potential customers. \n",
    "\n",
    "You are required to help the manager to predict the right group of the new customers.\n",
    "\n",
    "**Data Dictionary**\n",
    "\n",
    "| **Variable**  | **Definition** |\n",
    "| --- | --- |\n",
    "| ID | UniqueID |\n",
    "| Gender |  Gender of the customer |\n",
    "| Ever_Married | Marital status of the customer |\n",
    "| Age | Age of the customer |\n",
    "| Graduated | Is the customer a graduate? |\n",
    "| Profession | Profession of the customer |\n",
    "| Work_Experience | Work Experience in years |\n",
    "| Spending_Score | Spending score of the customer |\n",
    "| Family_Size | Number of family members for the customer (including the customer) |\n",
    "| Var_1 | Anonymised Category for the customer |\n",
    "| Segmentation | (target) Customer Segment of the customer |\n",
    "\n",
    "**Evaluation Metric**\n",
    "\n",
    "The evaluation metric for this hackathon is Accuracy Score.\n"
   ]
  },
  {
   "cell_type": "code",
   "execution_count": 922,
   "metadata": {},
   "outputs": [],
   "source": [
    "## Import necessary Libraries.\n",
    "\n",
    "import pandas as pd ## Pandas Library (will use to load data,create data frame...etc).\n",
    "import numpy as np ## Numpy Library ( will use to convert data frame to array or creating array etc...).\n",
    "import os ## For connecting to machine to get path for reading/writing files.\n",
    "from sklearn.model_selection import train_test_split ## For splitting data into train and validation.\n",
    "from sklearn.preprocessing import LabelEncoder ## For label encoding(converting categorical values to label).\n",
    "from sklearn.preprocessing import StandardScaler ## For scaling numeric columns.\n",
    "from sklearn.tree import DecisionTreeClassifier,export_graphviz ## For decision tree model.\n",
    "from sklearn.metrics import accuracy_score, recall_score, precision_score,confusion_matrix,mean_absolute_error,mean_squared_error,classification_report ## For metrics.\n",
    "from sklearn.model_selection import  GridSearchCV ## For Grid search moel.\n",
    "from sklearn.linear_model import LogisticRegression ## For Logistic model.\n",
    "from sklearn.metrics import roc_curve ## For ROC curve.\n",
    "from sklearn.naive_bayes import GaussianNB ## For NaiveBayes model.\n",
    "from sklearn.neighbors import KNeighborsClassifier ## For KNN model.\n",
    "from sklearn.ensemble import RandomForestClassifier ## For Random Forest model.\n",
    "from sklearn.ensemble import BaggingClassifier ## For Bagging model.\n",
    "from sklearn.ensemble import AdaBoostClassifier ## For AdaBoost model.\n",
    "from sklearn.ensemble import GradientBoostingClassifier ## For GB model.\n",
    "from xgboost.sklearn import XGBClassifier ## For XGB model.\n",
    "from sklearn.svm import SVC ## For SVC model.\n",
    "from keras.models import Sequential, Model ## For sequential model.\n",
    "from keras.layers import Dense, Input ## For input,dense model.\n",
    "from sklearn.linear_model import RidgeClassifier, Lasso ## For Ridge,Lasso Model."
   ]
  },
  {
   "cell_type": "code",
   "execution_count": 2,
   "metadata": {},
   "outputs": [
    {
     "data": {
      "text/plain": [
       "'D:\\\\Python\\\\Pratice\\\\Customer Segmentation'"
      ]
     },
     "execution_count": 2,
     "metadata": {},
     "output_type": "execute_result"
    }
   ],
   "source": [
    "## Get current working directory.\n",
    "os.getcwd()"
   ]
  },
  {
   "cell_type": "code",
   "execution_count": 924,
   "metadata": {},
   "outputs": [
    {
     "data": {
      "text/plain": [
       "'D:\\\\DataScience\\\\Pratice\\\\Customer Segmentation'"
      ]
     },
     "execution_count": 924,
     "metadata": {},
     "output_type": "execute_result"
    }
   ],
   "source": [
    "## Set working directory.\n",
    "os.chdir(\"D:\\DataScience\\Pratice\\Customer Segmentation\")\n",
    "os.getcwd()"
   ]
  },
  {
   "cell_type": "code",
   "execution_count": 925,
   "metadata": {},
   "outputs": [],
   "source": [
    "## Load data sets.\n",
    "train = pd.read_csv(\"train.csv\",header='infer',sep=',')\n",
    "test = pd.read_csv('test.csv',header='infer',sep=',')"
   ]
  },
  {
   "cell_type": "code",
   "execution_count": 926,
   "metadata": {
    "scrolled": true
   },
   "outputs": [
    {
     "name": "stdout",
     "output_type": "stream",
     "text": [
      "(8068, 11)\n",
      "(2627, 10)\n"
     ]
    }
   ],
   "source": [
    "## Check dimensions of train and test data.\n",
    "print(train.shape)\n",
    "print(test.shape)"
   ]
  },
  {
   "cell_type": "code",
   "execution_count": 927,
   "metadata": {},
   "outputs": [
    {
     "data": {
      "text/html": [
       "<div>\n",
       "<style scoped>\n",
       "    .dataframe tbody tr th:only-of-type {\n",
       "        vertical-align: middle;\n",
       "    }\n",
       "\n",
       "    .dataframe tbody tr th {\n",
       "        vertical-align: top;\n",
       "    }\n",
       "\n",
       "    .dataframe thead th {\n",
       "        text-align: right;\n",
       "    }\n",
       "</style>\n",
       "<table border=\"1\" class=\"dataframe\">\n",
       "  <thead>\n",
       "    <tr style=\"text-align: right;\">\n",
       "      <th></th>\n",
       "      <th>ID</th>\n",
       "      <th>Gender</th>\n",
       "      <th>Ever_Married</th>\n",
       "      <th>Age</th>\n",
       "      <th>Graduated</th>\n",
       "      <th>Profession</th>\n",
       "      <th>Work_Experience</th>\n",
       "      <th>Spending_Score</th>\n",
       "      <th>Family_Size</th>\n",
       "      <th>Var_1</th>\n",
       "      <th>Segmentation</th>\n",
       "    </tr>\n",
       "  </thead>\n",
       "  <tbody>\n",
       "    <tr>\n",
       "      <th>0</th>\n",
       "      <td>462809</td>\n",
       "      <td>Male</td>\n",
       "      <td>No</td>\n",
       "      <td>22</td>\n",
       "      <td>No</td>\n",
       "      <td>Healthcare</td>\n",
       "      <td>1.0</td>\n",
       "      <td>Low</td>\n",
       "      <td>4.0</td>\n",
       "      <td>Cat_4</td>\n",
       "      <td>D</td>\n",
       "    </tr>\n",
       "  </tbody>\n",
       "</table>\n",
       "</div>"
      ],
      "text/plain": [
       "       ID Gender Ever_Married  Age Graduated  Profession  Work_Experience  \\\n",
       "0  462809   Male           No   22        No  Healthcare              1.0   \n",
       "\n",
       "  Spending_Score  Family_Size  Var_1 Segmentation  \n",
       "0            Low          4.0  Cat_4            D  "
      ]
     },
     "execution_count": 927,
     "metadata": {},
     "output_type": "execute_result"
    }
   ],
   "source": [
    "## Check the first record of train data.\n",
    "train.head(1)"
   ]
  },
  {
   "cell_type": "code",
   "execution_count": 928,
   "metadata": {},
   "outputs": [
    {
     "data": {
      "text/html": [
       "<div>\n",
       "<style scoped>\n",
       "    .dataframe tbody tr th:only-of-type {\n",
       "        vertical-align: middle;\n",
       "    }\n",
       "\n",
       "    .dataframe tbody tr th {\n",
       "        vertical-align: top;\n",
       "    }\n",
       "\n",
       "    .dataframe thead th {\n",
       "        text-align: right;\n",
       "    }\n",
       "</style>\n",
       "<table border=\"1\" class=\"dataframe\">\n",
       "  <thead>\n",
       "    <tr style=\"text-align: right;\">\n",
       "      <th></th>\n",
       "      <th>ID</th>\n",
       "      <th>Gender</th>\n",
       "      <th>Ever_Married</th>\n",
       "      <th>Age</th>\n",
       "      <th>Graduated</th>\n",
       "      <th>Profession</th>\n",
       "      <th>Work_Experience</th>\n",
       "      <th>Spending_Score</th>\n",
       "      <th>Family_Size</th>\n",
       "      <th>Var_1</th>\n",
       "      <th>Segmentation</th>\n",
       "    </tr>\n",
       "  </thead>\n",
       "  <tbody>\n",
       "    <tr>\n",
       "      <th>8067</th>\n",
       "      <td>461879</td>\n",
       "      <td>Male</td>\n",
       "      <td>Yes</td>\n",
       "      <td>37</td>\n",
       "      <td>Yes</td>\n",
       "      <td>Executive</td>\n",
       "      <td>0.0</td>\n",
       "      <td>Average</td>\n",
       "      <td>3.0</td>\n",
       "      <td>Cat_4</td>\n",
       "      <td>B</td>\n",
       "    </tr>\n",
       "  </tbody>\n",
       "</table>\n",
       "</div>"
      ],
      "text/plain": [
       "          ID Gender Ever_Married  Age Graduated Profession  Work_Experience  \\\n",
       "8067  461879   Male          Yes   37       Yes  Executive              0.0   \n",
       "\n",
       "     Spending_Score  Family_Size  Var_1 Segmentation  \n",
       "8067        Average          3.0  Cat_4            B  "
      ]
     },
     "execution_count": 928,
     "metadata": {},
     "output_type": "execute_result"
    }
   ],
   "source": [
    "## Check the last record of train data.\n",
    "train.tail(1)"
   ]
  },
  {
   "cell_type": "code",
   "execution_count": 929,
   "metadata": {},
   "outputs": [
    {
     "data": {
      "text/html": [
       "<div>\n",
       "<style scoped>\n",
       "    .dataframe tbody tr th:only-of-type {\n",
       "        vertical-align: middle;\n",
       "    }\n",
       "\n",
       "    .dataframe tbody tr th {\n",
       "        vertical-align: top;\n",
       "    }\n",
       "\n",
       "    .dataframe thead th {\n",
       "        text-align: right;\n",
       "    }\n",
       "</style>\n",
       "<table border=\"1\" class=\"dataframe\">\n",
       "  <thead>\n",
       "    <tr style=\"text-align: right;\">\n",
       "      <th></th>\n",
       "      <th>ID</th>\n",
       "      <th>Gender</th>\n",
       "      <th>Ever_Married</th>\n",
       "      <th>Age</th>\n",
       "      <th>Graduated</th>\n",
       "      <th>Profession</th>\n",
       "      <th>Work_Experience</th>\n",
       "      <th>Spending_Score</th>\n",
       "      <th>Family_Size</th>\n",
       "      <th>Var_1</th>\n",
       "    </tr>\n",
       "  </thead>\n",
       "  <tbody>\n",
       "    <tr>\n",
       "      <th>0</th>\n",
       "      <td>458989</td>\n",
       "      <td>Female</td>\n",
       "      <td>Yes</td>\n",
       "      <td>36</td>\n",
       "      <td>Yes</td>\n",
       "      <td>Engineer</td>\n",
       "      <td>0.0</td>\n",
       "      <td>Low</td>\n",
       "      <td>1.0</td>\n",
       "      <td>Cat_6</td>\n",
       "    </tr>\n",
       "  </tbody>\n",
       "</table>\n",
       "</div>"
      ],
      "text/plain": [
       "       ID  Gender Ever_Married  Age Graduated Profession  Work_Experience  \\\n",
       "0  458989  Female          Yes   36       Yes   Engineer              0.0   \n",
       "\n",
       "  Spending_Score  Family_Size  Var_1  \n",
       "0            Low          1.0  Cat_6  "
      ]
     },
     "execution_count": 929,
     "metadata": {},
     "output_type": "execute_result"
    }
   ],
   "source": [
    "## Check the first record of test data.\n",
    "test.head(1)"
   ]
  },
  {
   "cell_type": "code",
   "execution_count": 930,
   "metadata": {},
   "outputs": [
    {
     "data": {
      "text/html": [
       "<div>\n",
       "<style scoped>\n",
       "    .dataframe tbody tr th:only-of-type {\n",
       "        vertical-align: middle;\n",
       "    }\n",
       "\n",
       "    .dataframe tbody tr th {\n",
       "        vertical-align: top;\n",
       "    }\n",
       "\n",
       "    .dataframe thead th {\n",
       "        text-align: right;\n",
       "    }\n",
       "</style>\n",
       "<table border=\"1\" class=\"dataframe\">\n",
       "  <thead>\n",
       "    <tr style=\"text-align: right;\">\n",
       "      <th></th>\n",
       "      <th>ID</th>\n",
       "      <th>Gender</th>\n",
       "      <th>Ever_Married</th>\n",
       "      <th>Age</th>\n",
       "      <th>Graduated</th>\n",
       "      <th>Profession</th>\n",
       "      <th>Work_Experience</th>\n",
       "      <th>Spending_Score</th>\n",
       "      <th>Family_Size</th>\n",
       "      <th>Var_1</th>\n",
       "    </tr>\n",
       "  </thead>\n",
       "  <tbody>\n",
       "    <tr>\n",
       "      <th>0</th>\n",
       "      <td>458989</td>\n",
       "      <td>Female</td>\n",
       "      <td>Yes</td>\n",
       "      <td>36</td>\n",
       "      <td>Yes</td>\n",
       "      <td>Engineer</td>\n",
       "      <td>0.0</td>\n",
       "      <td>Low</td>\n",
       "      <td>1.0</td>\n",
       "      <td>Cat_6</td>\n",
       "    </tr>\n",
       "  </tbody>\n",
       "</table>\n",
       "</div>"
      ],
      "text/plain": [
       "       ID  Gender Ever_Married  Age Graduated Profession  Work_Experience  \\\n",
       "0  458989  Female          Yes   36       Yes   Engineer              0.0   \n",
       "\n",
       "  Spending_Score  Family_Size  Var_1  \n",
       "0            Low          1.0  Cat_6  "
      ]
     },
     "execution_count": 930,
     "metadata": {},
     "output_type": "execute_result"
    }
   ],
   "source": [
    "## Check the last record of test data.\n",
    "test.head(1)"
   ]
  },
  {
   "cell_type": "code",
   "execution_count": 931,
   "metadata": {},
   "outputs": [
    {
     "data": {
      "text/html": [
       "<div>\n",
       "<style scoped>\n",
       "    .dataframe tbody tr th:only-of-type {\n",
       "        vertical-align: middle;\n",
       "    }\n",
       "\n",
       "    .dataframe tbody tr th {\n",
       "        vertical-align: top;\n",
       "    }\n",
       "\n",
       "    .dataframe thead th {\n",
       "        text-align: right;\n",
       "    }\n",
       "</style>\n",
       "<table border=\"1\" class=\"dataframe\">\n",
       "  <thead>\n",
       "    <tr style=\"text-align: right;\">\n",
       "      <th></th>\n",
       "      <th>ID</th>\n",
       "      <th>Gender</th>\n",
       "      <th>Ever_Married</th>\n",
       "      <th>Age</th>\n",
       "      <th>Graduated</th>\n",
       "      <th>Profession</th>\n",
       "      <th>Work_Experience</th>\n",
       "      <th>Spending_Score</th>\n",
       "      <th>Family_Size</th>\n",
       "      <th>Var_1</th>\n",
       "      <th>Segmentation</th>\n",
       "    </tr>\n",
       "  </thead>\n",
       "  <tbody>\n",
       "    <tr>\n",
       "      <th>count</th>\n",
       "      <td>8068.000000</td>\n",
       "      <td>8068</td>\n",
       "      <td>7928</td>\n",
       "      <td>8068.000000</td>\n",
       "      <td>7990</td>\n",
       "      <td>7944</td>\n",
       "      <td>7239.000000</td>\n",
       "      <td>8068</td>\n",
       "      <td>7733.000000</td>\n",
       "      <td>7992</td>\n",
       "      <td>8068</td>\n",
       "    </tr>\n",
       "    <tr>\n",
       "      <th>unique</th>\n",
       "      <td>NaN</td>\n",
       "      <td>2</td>\n",
       "      <td>2</td>\n",
       "      <td>NaN</td>\n",
       "      <td>2</td>\n",
       "      <td>9</td>\n",
       "      <td>NaN</td>\n",
       "      <td>3</td>\n",
       "      <td>NaN</td>\n",
       "      <td>7</td>\n",
       "      <td>4</td>\n",
       "    </tr>\n",
       "    <tr>\n",
       "      <th>top</th>\n",
       "      <td>NaN</td>\n",
       "      <td>Male</td>\n",
       "      <td>Yes</td>\n",
       "      <td>NaN</td>\n",
       "      <td>Yes</td>\n",
       "      <td>Artist</td>\n",
       "      <td>NaN</td>\n",
       "      <td>Low</td>\n",
       "      <td>NaN</td>\n",
       "      <td>Cat_6</td>\n",
       "      <td>D</td>\n",
       "    </tr>\n",
       "    <tr>\n",
       "      <th>freq</th>\n",
       "      <td>NaN</td>\n",
       "      <td>4417</td>\n",
       "      <td>4643</td>\n",
       "      <td>NaN</td>\n",
       "      <td>4968</td>\n",
       "      <td>2516</td>\n",
       "      <td>NaN</td>\n",
       "      <td>4878</td>\n",
       "      <td>NaN</td>\n",
       "      <td>5238</td>\n",
       "      <td>2268</td>\n",
       "    </tr>\n",
       "    <tr>\n",
       "      <th>mean</th>\n",
       "      <td>463479.214551</td>\n",
       "      <td>NaN</td>\n",
       "      <td>NaN</td>\n",
       "      <td>43.466906</td>\n",
       "      <td>NaN</td>\n",
       "      <td>NaN</td>\n",
       "      <td>2.641663</td>\n",
       "      <td>NaN</td>\n",
       "      <td>2.850123</td>\n",
       "      <td>NaN</td>\n",
       "      <td>NaN</td>\n",
       "    </tr>\n",
       "    <tr>\n",
       "      <th>std</th>\n",
       "      <td>2595.381232</td>\n",
       "      <td>NaN</td>\n",
       "      <td>NaN</td>\n",
       "      <td>16.711696</td>\n",
       "      <td>NaN</td>\n",
       "      <td>NaN</td>\n",
       "      <td>3.406763</td>\n",
       "      <td>NaN</td>\n",
       "      <td>1.531413</td>\n",
       "      <td>NaN</td>\n",
       "      <td>NaN</td>\n",
       "    </tr>\n",
       "    <tr>\n",
       "      <th>min</th>\n",
       "      <td>458982.000000</td>\n",
       "      <td>NaN</td>\n",
       "      <td>NaN</td>\n",
       "      <td>18.000000</td>\n",
       "      <td>NaN</td>\n",
       "      <td>NaN</td>\n",
       "      <td>0.000000</td>\n",
       "      <td>NaN</td>\n",
       "      <td>1.000000</td>\n",
       "      <td>NaN</td>\n",
       "      <td>NaN</td>\n",
       "    </tr>\n",
       "    <tr>\n",
       "      <th>25%</th>\n",
       "      <td>461240.750000</td>\n",
       "      <td>NaN</td>\n",
       "      <td>NaN</td>\n",
       "      <td>30.000000</td>\n",
       "      <td>NaN</td>\n",
       "      <td>NaN</td>\n",
       "      <td>0.000000</td>\n",
       "      <td>NaN</td>\n",
       "      <td>2.000000</td>\n",
       "      <td>NaN</td>\n",
       "      <td>NaN</td>\n",
       "    </tr>\n",
       "    <tr>\n",
       "      <th>50%</th>\n",
       "      <td>463472.500000</td>\n",
       "      <td>NaN</td>\n",
       "      <td>NaN</td>\n",
       "      <td>40.000000</td>\n",
       "      <td>NaN</td>\n",
       "      <td>NaN</td>\n",
       "      <td>1.000000</td>\n",
       "      <td>NaN</td>\n",
       "      <td>3.000000</td>\n",
       "      <td>NaN</td>\n",
       "      <td>NaN</td>\n",
       "    </tr>\n",
       "    <tr>\n",
       "      <th>75%</th>\n",
       "      <td>465744.250000</td>\n",
       "      <td>NaN</td>\n",
       "      <td>NaN</td>\n",
       "      <td>53.000000</td>\n",
       "      <td>NaN</td>\n",
       "      <td>NaN</td>\n",
       "      <td>4.000000</td>\n",
       "      <td>NaN</td>\n",
       "      <td>4.000000</td>\n",
       "      <td>NaN</td>\n",
       "      <td>NaN</td>\n",
       "    </tr>\n",
       "    <tr>\n",
       "      <th>max</th>\n",
       "      <td>467974.000000</td>\n",
       "      <td>NaN</td>\n",
       "      <td>NaN</td>\n",
       "      <td>89.000000</td>\n",
       "      <td>NaN</td>\n",
       "      <td>NaN</td>\n",
       "      <td>14.000000</td>\n",
       "      <td>NaN</td>\n",
       "      <td>9.000000</td>\n",
       "      <td>NaN</td>\n",
       "      <td>NaN</td>\n",
       "    </tr>\n",
       "  </tbody>\n",
       "</table>\n",
       "</div>"
      ],
      "text/plain": [
       "                   ID Gender Ever_Married          Age Graduated Profession  \\\n",
       "count     8068.000000   8068         7928  8068.000000      7990       7944   \n",
       "unique            NaN      2            2          NaN         2          9   \n",
       "top               NaN   Male          Yes          NaN       Yes     Artist   \n",
       "freq              NaN   4417         4643          NaN      4968       2516   \n",
       "mean    463479.214551    NaN          NaN    43.466906       NaN        NaN   \n",
       "std       2595.381232    NaN          NaN    16.711696       NaN        NaN   \n",
       "min     458982.000000    NaN          NaN    18.000000       NaN        NaN   \n",
       "25%     461240.750000    NaN          NaN    30.000000       NaN        NaN   \n",
       "50%     463472.500000    NaN          NaN    40.000000       NaN        NaN   \n",
       "75%     465744.250000    NaN          NaN    53.000000       NaN        NaN   \n",
       "max     467974.000000    NaN          NaN    89.000000       NaN        NaN   \n",
       "\n",
       "        Work_Experience Spending_Score  Family_Size  Var_1 Segmentation  \n",
       "count       7239.000000           8068  7733.000000   7992         8068  \n",
       "unique              NaN              3          NaN      7            4  \n",
       "top                 NaN            Low          NaN  Cat_6            D  \n",
       "freq                NaN           4878          NaN   5238         2268  \n",
       "mean           2.641663            NaN     2.850123    NaN          NaN  \n",
       "std            3.406763            NaN     1.531413    NaN          NaN  \n",
       "min            0.000000            NaN     1.000000    NaN          NaN  \n",
       "25%            0.000000            NaN     2.000000    NaN          NaN  \n",
       "50%            1.000000            NaN     3.000000    NaN          NaN  \n",
       "75%            4.000000            NaN     4.000000    NaN          NaN  \n",
       "max           14.000000            NaN     9.000000    NaN          NaN  "
      ]
     },
     "execution_count": 931,
     "metadata": {},
     "output_type": "execute_result"
    }
   ],
   "source": [
    "## Check the summary statistics of train data.\n",
    "train.describe(include='all')"
   ]
  },
  {
   "cell_type": "code",
   "execution_count": 932,
   "metadata": {},
   "outputs": [
    {
     "data": {
      "text/html": [
       "<div>\n",
       "<style scoped>\n",
       "    .dataframe tbody tr th:only-of-type {\n",
       "        vertical-align: middle;\n",
       "    }\n",
       "\n",
       "    .dataframe tbody tr th {\n",
       "        vertical-align: top;\n",
       "    }\n",
       "\n",
       "    .dataframe thead th {\n",
       "        text-align: right;\n",
       "    }\n",
       "</style>\n",
       "<table border=\"1\" class=\"dataframe\">\n",
       "  <thead>\n",
       "    <tr style=\"text-align: right;\">\n",
       "      <th></th>\n",
       "      <th>ID</th>\n",
       "      <th>Gender</th>\n",
       "      <th>Ever_Married</th>\n",
       "      <th>Age</th>\n",
       "      <th>Graduated</th>\n",
       "      <th>Profession</th>\n",
       "      <th>Work_Experience</th>\n",
       "      <th>Spending_Score</th>\n",
       "      <th>Family_Size</th>\n",
       "      <th>Var_1</th>\n",
       "    </tr>\n",
       "  </thead>\n",
       "  <tbody>\n",
       "    <tr>\n",
       "      <th>count</th>\n",
       "      <td>2627.000000</td>\n",
       "      <td>2627</td>\n",
       "      <td>2577</td>\n",
       "      <td>2627.000000</td>\n",
       "      <td>2603</td>\n",
       "      <td>2589</td>\n",
       "      <td>2358.000000</td>\n",
       "      <td>2627</td>\n",
       "      <td>2514.000000</td>\n",
       "      <td>2595</td>\n",
       "    </tr>\n",
       "    <tr>\n",
       "      <th>unique</th>\n",
       "      <td>NaN</td>\n",
       "      <td>2</td>\n",
       "      <td>2</td>\n",
       "      <td>NaN</td>\n",
       "      <td>2</td>\n",
       "      <td>9</td>\n",
       "      <td>NaN</td>\n",
       "      <td>3</td>\n",
       "      <td>NaN</td>\n",
       "      <td>7</td>\n",
       "    </tr>\n",
       "    <tr>\n",
       "      <th>top</th>\n",
       "      <td>NaN</td>\n",
       "      <td>Male</td>\n",
       "      <td>Yes</td>\n",
       "      <td>NaN</td>\n",
       "      <td>Yes</td>\n",
       "      <td>Artist</td>\n",
       "      <td>NaN</td>\n",
       "      <td>Low</td>\n",
       "      <td>NaN</td>\n",
       "      <td>Cat_6</td>\n",
       "    </tr>\n",
       "    <tr>\n",
       "      <th>freq</th>\n",
       "      <td>NaN</td>\n",
       "      <td>1424</td>\n",
       "      <td>1520</td>\n",
       "      <td>NaN</td>\n",
       "      <td>1602</td>\n",
       "      <td>802</td>\n",
       "      <td>NaN</td>\n",
       "      <td>1616</td>\n",
       "      <td>NaN</td>\n",
       "      <td>1672</td>\n",
       "    </tr>\n",
       "    <tr>\n",
       "      <th>mean</th>\n",
       "      <td>463433.918919</td>\n",
       "      <td>NaN</td>\n",
       "      <td>NaN</td>\n",
       "      <td>43.649791</td>\n",
       "      <td>NaN</td>\n",
       "      <td>NaN</td>\n",
       "      <td>2.552587</td>\n",
       "      <td>NaN</td>\n",
       "      <td>2.825378</td>\n",
       "      <td>NaN</td>\n",
       "    </tr>\n",
       "    <tr>\n",
       "      <th>std</th>\n",
       "      <td>2618.245698</td>\n",
       "      <td>NaN</td>\n",
       "      <td>NaN</td>\n",
       "      <td>16.967015</td>\n",
       "      <td>NaN</td>\n",
       "      <td>NaN</td>\n",
       "      <td>3.341094</td>\n",
       "      <td>NaN</td>\n",
       "      <td>1.551906</td>\n",
       "      <td>NaN</td>\n",
       "    </tr>\n",
       "    <tr>\n",
       "      <th>min</th>\n",
       "      <td>458989.000000</td>\n",
       "      <td>NaN</td>\n",
       "      <td>NaN</td>\n",
       "      <td>18.000000</td>\n",
       "      <td>NaN</td>\n",
       "      <td>NaN</td>\n",
       "      <td>0.000000</td>\n",
       "      <td>NaN</td>\n",
       "      <td>1.000000</td>\n",
       "      <td>NaN</td>\n",
       "    </tr>\n",
       "    <tr>\n",
       "      <th>25%</th>\n",
       "      <td>461162.500000</td>\n",
       "      <td>NaN</td>\n",
       "      <td>NaN</td>\n",
       "      <td>30.000000</td>\n",
       "      <td>NaN</td>\n",
       "      <td>NaN</td>\n",
       "      <td>0.000000</td>\n",
       "      <td>NaN</td>\n",
       "      <td>2.000000</td>\n",
       "      <td>NaN</td>\n",
       "    </tr>\n",
       "    <tr>\n",
       "      <th>50%</th>\n",
       "      <td>463379.000000</td>\n",
       "      <td>NaN</td>\n",
       "      <td>NaN</td>\n",
       "      <td>41.000000</td>\n",
       "      <td>NaN</td>\n",
       "      <td>NaN</td>\n",
       "      <td>1.000000</td>\n",
       "      <td>NaN</td>\n",
       "      <td>2.000000</td>\n",
       "      <td>NaN</td>\n",
       "    </tr>\n",
       "    <tr>\n",
       "      <th>75%</th>\n",
       "      <td>465696.000000</td>\n",
       "      <td>NaN</td>\n",
       "      <td>NaN</td>\n",
       "      <td>53.000000</td>\n",
       "      <td>NaN</td>\n",
       "      <td>NaN</td>\n",
       "      <td>4.000000</td>\n",
       "      <td>NaN</td>\n",
       "      <td>4.000000</td>\n",
       "      <td>NaN</td>\n",
       "    </tr>\n",
       "    <tr>\n",
       "      <th>max</th>\n",
       "      <td>467968.000000</td>\n",
       "      <td>NaN</td>\n",
       "      <td>NaN</td>\n",
       "      <td>89.000000</td>\n",
       "      <td>NaN</td>\n",
       "      <td>NaN</td>\n",
       "      <td>14.000000</td>\n",
       "      <td>NaN</td>\n",
       "      <td>9.000000</td>\n",
       "      <td>NaN</td>\n",
       "    </tr>\n",
       "  </tbody>\n",
       "</table>\n",
       "</div>"
      ],
      "text/plain": [
       "                   ID Gender Ever_Married          Age Graduated Profession  \\\n",
       "count     2627.000000   2627         2577  2627.000000      2603       2589   \n",
       "unique            NaN      2            2          NaN         2          9   \n",
       "top               NaN   Male          Yes          NaN       Yes     Artist   \n",
       "freq              NaN   1424         1520          NaN      1602        802   \n",
       "mean    463433.918919    NaN          NaN    43.649791       NaN        NaN   \n",
       "std       2618.245698    NaN          NaN    16.967015       NaN        NaN   \n",
       "min     458989.000000    NaN          NaN    18.000000       NaN        NaN   \n",
       "25%     461162.500000    NaN          NaN    30.000000       NaN        NaN   \n",
       "50%     463379.000000    NaN          NaN    41.000000       NaN        NaN   \n",
       "75%     465696.000000    NaN          NaN    53.000000       NaN        NaN   \n",
       "max     467968.000000    NaN          NaN    89.000000       NaN        NaN   \n",
       "\n",
       "        Work_Experience Spending_Score  Family_Size  Var_1  \n",
       "count       2358.000000           2627  2514.000000   2595  \n",
       "unique              NaN              3          NaN      7  \n",
       "top                 NaN            Low          NaN  Cat_6  \n",
       "freq                NaN           1616          NaN   1672  \n",
       "mean           2.552587            NaN     2.825378    NaN  \n",
       "std            3.341094            NaN     1.551906    NaN  \n",
       "min            0.000000            NaN     1.000000    NaN  \n",
       "25%            0.000000            NaN     2.000000    NaN  \n",
       "50%            1.000000            NaN     2.000000    NaN  \n",
       "75%            4.000000            NaN     4.000000    NaN  \n",
       "max           14.000000            NaN     9.000000    NaN  "
      ]
     },
     "execution_count": 932,
     "metadata": {},
     "output_type": "execute_result"
    }
   ],
   "source": [
    "## Check the summary statistics of test data.\n",
    "test.describe(include='all')"
   ]
  },
  {
   "cell_type": "code",
   "execution_count": 933,
   "metadata": {},
   "outputs": [
    {
     "data": {
      "text/plain": [
       "Index(['ID', 'Gender', 'Ever_Married', 'Age', 'Graduated', 'Profession',\n",
       "       'Work_Experience', 'Spending_Score', 'Family_Size', 'Var_1',\n",
       "       'Segmentation'],\n",
       "      dtype='object')"
      ]
     },
     "execution_count": 933,
     "metadata": {},
     "output_type": "execute_result"
    }
   ],
   "source": [
    "## Check column names of train data.\n",
    "train.columns"
   ]
  },
  {
   "cell_type": "code",
   "execution_count": 934,
   "metadata": {},
   "outputs": [
    {
     "data": {
      "text/plain": [
       "Index(['ID', 'Gender', 'Ever_Married', 'Age', 'Graduated', 'Profession',\n",
       "       'Work_Experience', 'Spending_Score', 'Family_Size', 'Var_1'],\n",
       "      dtype='object')"
      ]
     },
     "execution_count": 934,
     "metadata": {},
     "output_type": "execute_result"
    }
   ],
   "source": [
    "## Check column names of test data.\n",
    "test.columns"
   ]
  },
  {
   "cell_type": "code",
   "execution_count": 935,
   "metadata": {},
   "outputs": [
    {
     "data": {
      "text/plain": [
       "ID                   int64\n",
       "Gender              object\n",
       "Ever_Married        object\n",
       "Age                  int64\n",
       "Graduated           object\n",
       "Profession          object\n",
       "Work_Experience    float64\n",
       "Spending_Score      object\n",
       "Family_Size        float64\n",
       "Var_1               object\n",
       "Segmentation        object\n",
       "dtype: object"
      ]
     },
     "execution_count": 935,
     "metadata": {},
     "output_type": "execute_result"
    }
   ],
   "source": [
    "## Check column data types of train data.\n",
    "train.dtypes"
   ]
  },
  {
   "cell_type": "code",
   "execution_count": 936,
   "metadata": {},
   "outputs": [
    {
     "data": {
      "text/plain": [
       "ID                   int64\n",
       "Gender              object\n",
       "Ever_Married        object\n",
       "Age                  int64\n",
       "Graduated           object\n",
       "Profession          object\n",
       "Work_Experience    float64\n",
       "Spending_Score      object\n",
       "Family_Size        float64\n",
       "Var_1               object\n",
       "dtype: object"
      ]
     },
     "execution_count": 936,
     "metadata": {},
     "output_type": "execute_result"
    }
   ],
   "source": [
    "## Check column data types of test data.\n",
    "test.dtypes"
   ]
  },
  {
   "cell_type": "code",
   "execution_count": 937,
   "metadata": {},
   "outputs": [
    {
     "data": {
      "text/plain": [
       "RangeIndex(start=0, stop=8068, step=1)"
      ]
     },
     "execution_count": 937,
     "metadata": {},
     "output_type": "execute_result"
    }
   ],
   "source": [
    "## Check index range for train data.\n",
    "train.index"
   ]
  },
  {
   "cell_type": "code",
   "execution_count": 938,
   "metadata": {},
   "outputs": [
    {
     "data": {
      "text/plain": [
       "RangeIndex(start=0, stop=2627, step=1)"
      ]
     },
     "execution_count": 938,
     "metadata": {},
     "output_type": "execute_result"
    }
   ],
   "source": [
    "## Check index range for test data.\n",
    "test.index"
   ]
  },
  {
   "cell_type": "code",
   "execution_count": 939,
   "metadata": {},
   "outputs": [
    {
     "data": {
      "text/plain": [
       "ID                   0\n",
       "Gender               0\n",
       "Ever_Married       140\n",
       "Age                  0\n",
       "Graduated           78\n",
       "Profession         124\n",
       "Work_Experience    829\n",
       "Spending_Score       0\n",
       "Family_Size        335\n",
       "Var_1               76\n",
       "Segmentation         0\n",
       "dtype: int64"
      ]
     },
     "execution_count": 939,
     "metadata": {},
     "output_type": "execute_result"
    }
   ],
   "source": [
    "## Check NA values for train data.\n",
    "train.isna().sum()"
   ]
  },
  {
   "cell_type": "code",
   "execution_count": 940,
   "metadata": {},
   "outputs": [
    {
     "data": {
      "text/plain": [
       "ID                   0\n",
       "Gender               0\n",
       "Ever_Married        50\n",
       "Age                  0\n",
       "Graduated           24\n",
       "Profession          38\n",
       "Work_Experience    269\n",
       "Spending_Score       0\n",
       "Family_Size        113\n",
       "Var_1               32\n",
       "dtype: int64"
      ]
     },
     "execution_count": 940,
     "metadata": {},
     "output_type": "execute_result"
    }
   ],
   "source": [
    "## Check NA values for test data.\n",
    "test.isna().sum()"
   ]
  },
  {
   "cell_type": "code",
   "execution_count": 941,
   "metadata": {},
   "outputs": [],
   "source": [
    "## This method will return number of levels,null values,unique values,data types.\n",
    "\n",
    "def observations(df):\n",
    "    return(pd.DataFrame({'dtypes' : df.dtypes,\n",
    "                         'levels' : [df[x].unique() for x in df.columns],\n",
    "                         'null_values' : df.isnull().sum(),\n",
    "                         'Unique Values': df.nunique()\n",
    "                        }))"
   ]
  },
  {
   "cell_type": "code",
   "execution_count": 942,
   "metadata": {},
   "outputs": [
    {
     "data": {
      "text/html": [
       "<div>\n",
       "<style scoped>\n",
       "    .dataframe tbody tr th:only-of-type {\n",
       "        vertical-align: middle;\n",
       "    }\n",
       "\n",
       "    .dataframe tbody tr th {\n",
       "        vertical-align: top;\n",
       "    }\n",
       "\n",
       "    .dataframe thead th {\n",
       "        text-align: right;\n",
       "    }\n",
       "</style>\n",
       "<table border=\"1\" class=\"dataframe\">\n",
       "  <thead>\n",
       "    <tr style=\"text-align: right;\">\n",
       "      <th></th>\n",
       "      <th>dtypes</th>\n",
       "      <th>levels</th>\n",
       "      <th>null_values</th>\n",
       "      <th>Unique Values</th>\n",
       "    </tr>\n",
       "  </thead>\n",
       "  <tbody>\n",
       "    <tr>\n",
       "      <th>ID</th>\n",
       "      <td>int64</td>\n",
       "      <td>[462809, 462643, 466315, 461735, 462669, 46131...</td>\n",
       "      <td>0</td>\n",
       "      <td>8068</td>\n",
       "    </tr>\n",
       "    <tr>\n",
       "      <th>Gender</th>\n",
       "      <td>object</td>\n",
       "      <td>[Male, Female]</td>\n",
       "      <td>0</td>\n",
       "      <td>2</td>\n",
       "    </tr>\n",
       "    <tr>\n",
       "      <th>Ever_Married</th>\n",
       "      <td>object</td>\n",
       "      <td>[No, Yes, nan]</td>\n",
       "      <td>140</td>\n",
       "      <td>2</td>\n",
       "    </tr>\n",
       "    <tr>\n",
       "      <th>Age</th>\n",
       "      <td>int64</td>\n",
       "      <td>[22, 38, 67, 40, 56, 32, 33, 61, 55, 26, 19, 7...</td>\n",
       "      <td>0</td>\n",
       "      <td>67</td>\n",
       "    </tr>\n",
       "    <tr>\n",
       "      <th>Graduated</th>\n",
       "      <td>object</td>\n",
       "      <td>[No, Yes, nan]</td>\n",
       "      <td>78</td>\n",
       "      <td>2</td>\n",
       "    </tr>\n",
       "    <tr>\n",
       "      <th>Profession</th>\n",
       "      <td>object</td>\n",
       "      <td>[Healthcare, Engineer, Lawyer, Entertainment, ...</td>\n",
       "      <td>124</td>\n",
       "      <td>9</td>\n",
       "    </tr>\n",
       "    <tr>\n",
       "      <th>Work_Experience</th>\n",
       "      <td>float64</td>\n",
       "      <td>[1.0, nan, 0.0, 4.0, 9.0, 12.0, 3.0, 13.0, 5.0...</td>\n",
       "      <td>829</td>\n",
       "      <td>15</td>\n",
       "    </tr>\n",
       "    <tr>\n",
       "      <th>Spending_Score</th>\n",
       "      <td>object</td>\n",
       "      <td>[Low, Average, High]</td>\n",
       "      <td>0</td>\n",
       "      <td>3</td>\n",
       "    </tr>\n",
       "    <tr>\n",
       "      <th>Family_Size</th>\n",
       "      <td>float64</td>\n",
       "      <td>[4.0, 3.0, 1.0, 2.0, 6.0, nan, 5.0, 8.0, 7.0, ...</td>\n",
       "      <td>335</td>\n",
       "      <td>9</td>\n",
       "    </tr>\n",
       "    <tr>\n",
       "      <th>Var_1</th>\n",
       "      <td>object</td>\n",
       "      <td>[Cat_4, Cat_6, Cat_7, Cat_3, Cat_1, Cat_2, nan...</td>\n",
       "      <td>76</td>\n",
       "      <td>7</td>\n",
       "    </tr>\n",
       "    <tr>\n",
       "      <th>Segmentation</th>\n",
       "      <td>object</td>\n",
       "      <td>[D, A, B, C]</td>\n",
       "      <td>0</td>\n",
       "      <td>4</td>\n",
       "    </tr>\n",
       "  </tbody>\n",
       "</table>\n",
       "</div>"
      ],
      "text/plain": [
       "                  dtypes                                             levels  \\\n",
       "ID                 int64  [462809, 462643, 466315, 461735, 462669, 46131...   \n",
       "Gender            object                                     [Male, Female]   \n",
       "Ever_Married      object                                     [No, Yes, nan]   \n",
       "Age                int64  [22, 38, 67, 40, 56, 32, 33, 61, 55, 26, 19, 7...   \n",
       "Graduated         object                                     [No, Yes, nan]   \n",
       "Profession        object  [Healthcare, Engineer, Lawyer, Entertainment, ...   \n",
       "Work_Experience  float64  [1.0, nan, 0.0, 4.0, 9.0, 12.0, 3.0, 13.0, 5.0...   \n",
       "Spending_Score    object                               [Low, Average, High]   \n",
       "Family_Size      float64  [4.0, 3.0, 1.0, 2.0, 6.0, nan, 5.0, 8.0, 7.0, ...   \n",
       "Var_1             object  [Cat_4, Cat_6, Cat_7, Cat_3, Cat_1, Cat_2, nan...   \n",
       "Segmentation      object                                       [D, A, B, C]   \n",
       "\n",
       "                 null_values  Unique Values  \n",
       "ID                         0           8068  \n",
       "Gender                     0              2  \n",
       "Ever_Married             140              2  \n",
       "Age                        0             67  \n",
       "Graduated                 78              2  \n",
       "Profession               124              9  \n",
       "Work_Experience          829             15  \n",
       "Spending_Score             0              3  \n",
       "Family_Size              335              9  \n",
       "Var_1                     76              7  \n",
       "Segmentation               0              4  "
      ]
     },
     "execution_count": 942,
     "metadata": {},
     "output_type": "execute_result"
    }
   ],
   "source": [
    "## Get train data statistics.\n",
    "observations(train)"
   ]
  },
  {
   "cell_type": "code",
   "execution_count": 943,
   "metadata": {},
   "outputs": [
    {
     "data": {
      "text/html": [
       "<div>\n",
       "<style scoped>\n",
       "    .dataframe tbody tr th:only-of-type {\n",
       "        vertical-align: middle;\n",
       "    }\n",
       "\n",
       "    .dataframe tbody tr th {\n",
       "        vertical-align: top;\n",
       "    }\n",
       "\n",
       "    .dataframe thead th {\n",
       "        text-align: right;\n",
       "    }\n",
       "</style>\n",
       "<table border=\"1\" class=\"dataframe\">\n",
       "  <thead>\n",
       "    <tr style=\"text-align: right;\">\n",
       "      <th></th>\n",
       "      <th>dtypes</th>\n",
       "      <th>levels</th>\n",
       "      <th>null_values</th>\n",
       "      <th>Unique Values</th>\n",
       "    </tr>\n",
       "  </thead>\n",
       "  <tbody>\n",
       "    <tr>\n",
       "      <th>ID</th>\n",
       "      <td>int64</td>\n",
       "      <td>[458989, 458994, 458996, 459000, 459001, 45900...</td>\n",
       "      <td>0</td>\n",
       "      <td>2627</td>\n",
       "    </tr>\n",
       "    <tr>\n",
       "      <th>Gender</th>\n",
       "      <td>object</td>\n",
       "      <td>[Female, Male]</td>\n",
       "      <td>0</td>\n",
       "      <td>2</td>\n",
       "    </tr>\n",
       "    <tr>\n",
       "      <th>Ever_Married</th>\n",
       "      <td>object</td>\n",
       "      <td>[Yes, No, nan]</td>\n",
       "      <td>50</td>\n",
       "      <td>2</td>\n",
       "    </tr>\n",
       "    <tr>\n",
       "      <th>Age</th>\n",
       "      <td>int64</td>\n",
       "      <td>[36, 37, 69, 59, 19, 47, 61, 50, 22, 27, 18, 2...</td>\n",
       "      <td>0</td>\n",
       "      <td>67</td>\n",
       "    </tr>\n",
       "    <tr>\n",
       "      <th>Graduated</th>\n",
       "      <td>object</td>\n",
       "      <td>[Yes, No, nan]</td>\n",
       "      <td>24</td>\n",
       "      <td>2</td>\n",
       "    </tr>\n",
       "    <tr>\n",
       "      <th>Profession</th>\n",
       "      <td>object</td>\n",
       "      <td>[Engineer, Healthcare, nan, Executive, Marketi...</td>\n",
       "      <td>38</td>\n",
       "      <td>9</td>\n",
       "    </tr>\n",
       "    <tr>\n",
       "      <th>Work_Experience</th>\n",
       "      <td>float64</td>\n",
       "      <td>[0.0, 8.0, 11.0, nan, 5.0, 1.0, 2.0, 9.0, 3.0,...</td>\n",
       "      <td>269</td>\n",
       "      <td>15</td>\n",
       "    </tr>\n",
       "    <tr>\n",
       "      <th>Spending_Score</th>\n",
       "      <td>object</td>\n",
       "      <td>[Low, Average, High]</td>\n",
       "      <td>0</td>\n",
       "      <td>3</td>\n",
       "    </tr>\n",
       "    <tr>\n",
       "      <th>Family_Size</th>\n",
       "      <td>float64</td>\n",
       "      <td>[1.0, 4.0, 2.0, 5.0, 3.0, 6.0, nan, 8.0, 7.0, ...</td>\n",
       "      <td>113</td>\n",
       "      <td>9</td>\n",
       "    </tr>\n",
       "    <tr>\n",
       "      <th>Var_1</th>\n",
       "      <td>object</td>\n",
       "      <td>[Cat_6, Cat_4, Cat_3, nan, Cat_1, Cat_2, Cat_5...</td>\n",
       "      <td>32</td>\n",
       "      <td>7</td>\n",
       "    </tr>\n",
       "  </tbody>\n",
       "</table>\n",
       "</div>"
      ],
      "text/plain": [
       "                  dtypes                                             levels  \\\n",
       "ID                 int64  [458989, 458994, 458996, 459000, 459001, 45900...   \n",
       "Gender            object                                     [Female, Male]   \n",
       "Ever_Married      object                                     [Yes, No, nan]   \n",
       "Age                int64  [36, 37, 69, 59, 19, 47, 61, 50, 22, 27, 18, 2...   \n",
       "Graduated         object                                     [Yes, No, nan]   \n",
       "Profession        object  [Engineer, Healthcare, nan, Executive, Marketi...   \n",
       "Work_Experience  float64  [0.0, 8.0, 11.0, nan, 5.0, 1.0, 2.0, 9.0, 3.0,...   \n",
       "Spending_Score    object                               [Low, Average, High]   \n",
       "Family_Size      float64  [1.0, 4.0, 2.0, 5.0, 3.0, 6.0, nan, 8.0, 7.0, ...   \n",
       "Var_1             object  [Cat_6, Cat_4, Cat_3, nan, Cat_1, Cat_2, Cat_5...   \n",
       "\n",
       "                 null_values  Unique Values  \n",
       "ID                         0           2627  \n",
       "Gender                     0              2  \n",
       "Ever_Married              50              2  \n",
       "Age                        0             67  \n",
       "Graduated                 24              2  \n",
       "Profession                38              9  \n",
       "Work_Experience          269             15  \n",
       "Spending_Score             0              3  \n",
       "Family_Size              113              9  \n",
       "Var_1                     32              7  "
      ]
     },
     "execution_count": 943,
     "metadata": {},
     "output_type": "execute_result"
    }
   ],
   "source": [
    "## Get train data statistics.\n",
    "observations(test)"
   ]
  },
  {
   "cell_type": "code",
   "execution_count": 944,
   "metadata": {},
   "outputs": [],
   "source": [
    "## Below logic is used for checking special characters in numeric columns.\n",
    "\n",
    "def specialCharcterVerification_NumCol(data):\n",
    "    for col in data.select_dtypes(['int64','float64']).columns: \n",
    "        print('\\n',col,'----->')\n",
    "        for index in range(1,len(data)):\n",
    "            try:\n",
    "                skip=float(data.loc[index,col])\n",
    "                skip=int(data.loc[index,col])\n",
    "            except ValueError :\n",
    "                if(str(data.loc[index,col]) != 'nan'):\n",
    "                    print(index,data.loc[index,col])"
   ]
  },
  {
   "cell_type": "code",
   "execution_count": 945,
   "metadata": {},
   "outputs": [
    {
     "name": "stdout",
     "output_type": "stream",
     "text": [
      "\n",
      " ID ----->\n",
      "\n",
      " Age ----->\n",
      "\n",
      " Work_Experience ----->\n",
      "\n",
      " Family_Size ----->\n"
     ]
    }
   ],
   "source": [
    "## Check special charcters for train data numeric columns.\n",
    "specialCharcterVerification_NumCol(train)"
   ]
  },
  {
   "cell_type": "code",
   "execution_count": 946,
   "metadata": {
    "scrolled": false
   },
   "outputs": [
    {
     "name": "stdout",
     "output_type": "stream",
     "text": [
      "\n",
      " ID ----->\n",
      "\n",
      " Age ----->\n",
      "\n",
      " Work_Experience ----->\n",
      "\n",
      " Family_Size ----->\n"
     ]
    }
   ],
   "source": [
    "## Check special charcters for test data numeric columns.\n",
    "specialCharcterVerification_NumCol(test)"
   ]
  },
  {
   "cell_type": "code",
   "execution_count": 947,
   "metadata": {},
   "outputs": [],
   "source": [
    "## Check special characters for categorical columns.\n",
    "def specialCharcterVerification_CatCol(data):\n",
    "    for col in data.select_dtypes(['category','object']).columns:\n",
    "        print('\\n',col,'----->')\n",
    "        for index in range(1,len(data)):\n",
    "            if  str(data.loc[index,col]).isdigit() or str(data.loc[index,col]) =='nan' or data.loc[index,col].isalpha() or data.loc[index,col].isalnum():\n",
    "                skip = True\n",
    "            else:\n",
    "                print(\"Index \",index,\"\\tSpecial Character \",data.loc[index,col]) "
   ]
  },
  {
   "cell_type": "code",
   "execution_count": 948,
   "metadata": {},
   "outputs": [],
   "source": [
    "## calculate variance column wise.\n",
    "def variance(x):\n",
    "        return(pd.DataFrame({'Datatype' : x.dtypes,\n",
    "                            'Variance': [round(x[i].var()) for i in x] }))"
   ]
  },
  {
   "cell_type": "code",
   "execution_count": 949,
   "metadata": {},
   "outputs": [
    {
     "data": {
      "text/html": [
       "<div>\n",
       "<style scoped>\n",
       "    .dataframe tbody tr th:only-of-type {\n",
       "        vertical-align: middle;\n",
       "    }\n",
       "\n",
       "    .dataframe tbody tr th {\n",
       "        vertical-align: top;\n",
       "    }\n",
       "\n",
       "    .dataframe thead th {\n",
       "        text-align: right;\n",
       "    }\n",
       "</style>\n",
       "<table border=\"1\" class=\"dataframe\">\n",
       "  <thead>\n",
       "    <tr style=\"text-align: right;\">\n",
       "      <th></th>\n",
       "      <th>Datatype</th>\n",
       "      <th>Variance</th>\n",
       "    </tr>\n",
       "  </thead>\n",
       "  <tbody>\n",
       "    <tr>\n",
       "      <th>ID</th>\n",
       "      <td>int64</td>\n",
       "      <td>6736004</td>\n",
       "    </tr>\n",
       "    <tr>\n",
       "      <th>Age</th>\n",
       "      <td>int64</td>\n",
       "      <td>279</td>\n",
       "    </tr>\n",
       "    <tr>\n",
       "      <th>Work_Experience</th>\n",
       "      <td>float64</td>\n",
       "      <td>12</td>\n",
       "    </tr>\n",
       "    <tr>\n",
       "      <th>Family_Size</th>\n",
       "      <td>float64</td>\n",
       "      <td>2</td>\n",
       "    </tr>\n",
       "  </tbody>\n",
       "</table>\n",
       "</div>"
      ],
      "text/plain": [
       "                Datatype  Variance\n",
       "ID                 int64   6736004\n",
       "Age                int64       279\n",
       "Work_Experience  float64        12\n",
       "Family_Size      float64         2"
      ]
     },
     "execution_count": 949,
     "metadata": {},
     "output_type": "execute_result"
    }
   ],
   "source": [
    "## Get variance for train data numeric columns.\n",
    "variance(train.select_dtypes(['int64','float64']))"
   ]
  },
  {
   "cell_type": "code",
   "execution_count": 950,
   "metadata": {
    "scrolled": true
   },
   "outputs": [
    {
     "data": {
      "text/html": [
       "<div>\n",
       "<style scoped>\n",
       "    .dataframe tbody tr th:only-of-type {\n",
       "        vertical-align: middle;\n",
       "    }\n",
       "\n",
       "    .dataframe tbody tr th {\n",
       "        vertical-align: top;\n",
       "    }\n",
       "\n",
       "    .dataframe thead th {\n",
       "        text-align: right;\n",
       "    }\n",
       "</style>\n",
       "<table border=\"1\" class=\"dataframe\">\n",
       "  <thead>\n",
       "    <tr style=\"text-align: right;\">\n",
       "      <th></th>\n",
       "      <th>Datatype</th>\n",
       "      <th>Variance</th>\n",
       "    </tr>\n",
       "  </thead>\n",
       "  <tbody>\n",
       "    <tr>\n",
       "      <th>ID</th>\n",
       "      <td>int64</td>\n",
       "      <td>6855211</td>\n",
       "    </tr>\n",
       "    <tr>\n",
       "      <th>Age</th>\n",
       "      <td>int64</td>\n",
       "      <td>288</td>\n",
       "    </tr>\n",
       "    <tr>\n",
       "      <th>Work_Experience</th>\n",
       "      <td>float64</td>\n",
       "      <td>11</td>\n",
       "    </tr>\n",
       "    <tr>\n",
       "      <th>Family_Size</th>\n",
       "      <td>float64</td>\n",
       "      <td>2</td>\n",
       "    </tr>\n",
       "  </tbody>\n",
       "</table>\n",
       "</div>"
      ],
      "text/plain": [
       "                Datatype  Variance\n",
       "ID                 int64   6855211\n",
       "Age                int64       288\n",
       "Work_Experience  float64        11\n",
       "Family_Size      float64         2"
      ]
     },
     "execution_count": 950,
     "metadata": {},
     "output_type": "execute_result"
    }
   ],
   "source": [
    "## Get variance for test data numeric columns.\n",
    "variance(test.select_dtypes(['int64','float64']))"
   ]
  },
  {
   "cell_type": "code",
   "execution_count": 951,
   "metadata": {},
   "outputs": [
    {
     "data": {
      "text/html": [
       "<div>\n",
       "<style scoped>\n",
       "    .dataframe tbody tr th:only-of-type {\n",
       "        vertical-align: middle;\n",
       "    }\n",
       "\n",
       "    .dataframe tbody tr th {\n",
       "        vertical-align: top;\n",
       "    }\n",
       "\n",
       "    .dataframe thead th {\n",
       "        text-align: right;\n",
       "    }\n",
       "</style>\n",
       "<table border=\"1\" class=\"dataframe\">\n",
       "  <thead>\n",
       "    <tr style=\"text-align: right;\">\n",
       "      <th></th>\n",
       "      <th>ID</th>\n",
       "      <th>Age</th>\n",
       "      <th>Work_Experience</th>\n",
       "      <th>Family_Size</th>\n",
       "    </tr>\n",
       "  </thead>\n",
       "  <tbody>\n",
       "    <tr>\n",
       "      <th>ID</th>\n",
       "      <td>1.000000</td>\n",
       "      <td>-0.005055</td>\n",
       "      <td>-0.030688</td>\n",
       "      <td>0.011801</td>\n",
       "    </tr>\n",
       "    <tr>\n",
       "      <th>Age</th>\n",
       "      <td>-0.005055</td>\n",
       "      <td>1.000000</td>\n",
       "      <td>-0.190789</td>\n",
       "      <td>-0.280517</td>\n",
       "    </tr>\n",
       "    <tr>\n",
       "      <th>Work_Experience</th>\n",
       "      <td>-0.030688</td>\n",
       "      <td>-0.190789</td>\n",
       "      <td>1.000000</td>\n",
       "      <td>-0.063234</td>\n",
       "    </tr>\n",
       "    <tr>\n",
       "      <th>Family_Size</th>\n",
       "      <td>0.011801</td>\n",
       "      <td>-0.280517</td>\n",
       "      <td>-0.063234</td>\n",
       "      <td>1.000000</td>\n",
       "    </tr>\n",
       "  </tbody>\n",
       "</table>\n",
       "</div>"
      ],
      "text/plain": [
       "                       ID       Age  Work_Experience  Family_Size\n",
       "ID               1.000000 -0.005055        -0.030688     0.011801\n",
       "Age             -0.005055  1.000000        -0.190789    -0.280517\n",
       "Work_Experience -0.030688 -0.190789         1.000000    -0.063234\n",
       "Family_Size      0.011801 -0.280517        -0.063234     1.000000"
      ]
     },
     "execution_count": 951,
     "metadata": {},
     "output_type": "execute_result"
    }
   ],
   "source": [
    "## Check for corrlation between numeric columns of train data.\n",
    "train[train.select_dtypes(['int64','float64']).columns].corr()"
   ]
  },
  {
   "cell_type": "code",
   "execution_count": 952,
   "metadata": {},
   "outputs": [
    {
     "data": {
      "text/html": [
       "<div>\n",
       "<style scoped>\n",
       "    .dataframe tbody tr th:only-of-type {\n",
       "        vertical-align: middle;\n",
       "    }\n",
       "\n",
       "    .dataframe tbody tr th {\n",
       "        vertical-align: top;\n",
       "    }\n",
       "\n",
       "    .dataframe thead th {\n",
       "        text-align: right;\n",
       "    }\n",
       "</style>\n",
       "<table border=\"1\" class=\"dataframe\">\n",
       "  <thead>\n",
       "    <tr style=\"text-align: right;\">\n",
       "      <th></th>\n",
       "      <th>ID</th>\n",
       "      <th>Age</th>\n",
       "      <th>Work_Experience</th>\n",
       "      <th>Family_Size</th>\n",
       "    </tr>\n",
       "  </thead>\n",
       "  <tbody>\n",
       "    <tr>\n",
       "      <th>ID</th>\n",
       "      <td>1.000000</td>\n",
       "      <td>-0.022940</td>\n",
       "      <td>-0.025445</td>\n",
       "      <td>0.020830</td>\n",
       "    </tr>\n",
       "    <tr>\n",
       "      <th>Age</th>\n",
       "      <td>-0.022940</td>\n",
       "      <td>1.000000</td>\n",
       "      <td>-0.186238</td>\n",
       "      <td>-0.285237</td>\n",
       "    </tr>\n",
       "    <tr>\n",
       "      <th>Work_Experience</th>\n",
       "      <td>-0.025445</td>\n",
       "      <td>-0.186238</td>\n",
       "      <td>1.000000</td>\n",
       "      <td>-0.071253</td>\n",
       "    </tr>\n",
       "    <tr>\n",
       "      <th>Family_Size</th>\n",
       "      <td>0.020830</td>\n",
       "      <td>-0.285237</td>\n",
       "      <td>-0.071253</td>\n",
       "      <td>1.000000</td>\n",
       "    </tr>\n",
       "  </tbody>\n",
       "</table>\n",
       "</div>"
      ],
      "text/plain": [
       "                       ID       Age  Work_Experience  Family_Size\n",
       "ID               1.000000 -0.022940        -0.025445     0.020830\n",
       "Age             -0.022940  1.000000        -0.186238    -0.285237\n",
       "Work_Experience -0.025445 -0.186238         1.000000    -0.071253\n",
       "Family_Size      0.020830 -0.285237        -0.071253     1.000000"
      ]
     },
     "execution_count": 952,
     "metadata": {},
     "output_type": "execute_result"
    }
   ],
   "source": [
    "## Check for corrlation between numeric columns of test data.\n",
    "test[test.select_dtypes(['int64','float64']).columns].corr()"
   ]
  },
  {
   "cell_type": "code",
   "execution_count": 953,
   "metadata": {},
   "outputs": [],
   "source": [
    "## Get missing percentage of NA values.\n",
    "def missingValuesPercentage(Data):\n",
    "    missing_values = (Data.isna().sum() /len(Data)).round(4) * 100 \n",
    "    print(missing_values.sort_values(ascending = False))"
   ]
  },
  {
   "cell_type": "code",
   "execution_count": 954,
   "metadata": {},
   "outputs": [
    {
     "name": "stdout",
     "output_type": "stream",
     "text": [
      "Work_Experience    10.28\n",
      "Family_Size         4.15\n",
      "Ever_Married        1.74\n",
      "Profession          1.54\n",
      "Graduated           0.97\n",
      "Var_1               0.94\n",
      "Segmentation        0.00\n",
      "Spending_Score      0.00\n",
      "Age                 0.00\n",
      "Gender              0.00\n",
      "ID                  0.00\n",
      "dtype: float64\n"
     ]
    }
   ],
   "source": [
    "## Get NA values count in percentage for train data.\n",
    "missingValuesPercentage(train)"
   ]
  },
  {
   "cell_type": "code",
   "execution_count": 955,
   "metadata": {
    "scrolled": false
   },
   "outputs": [
    {
     "name": "stdout",
     "output_type": "stream",
     "text": [
      "Work_Experience    10.24\n",
      "Family_Size         4.30\n",
      "Ever_Married        1.90\n",
      "Profession          1.45\n",
      "Var_1               1.22\n",
      "Graduated           0.91\n",
      "Spending_Score      0.00\n",
      "Age                 0.00\n",
      "Gender              0.00\n",
      "ID                  0.00\n",
      "dtype: float64\n"
     ]
    }
   ],
   "source": [
    "## Get NA values count in percentage for test data.\n",
    "missingValuesPercentage(test)"
   ]
  },
  {
   "cell_type": "code",
   "execution_count": 956,
   "metadata": {},
   "outputs": [],
   "source": [
    "## Drop duplicate records for train data.\n",
    "train = train.drop_duplicates()"
   ]
  },
  {
   "cell_type": "code",
   "execution_count": 957,
   "metadata": {},
   "outputs": [],
   "source": [
    "## Drop duplicate records for test data.\n",
    "test = test.drop_duplicates()"
   ]
  },
  {
   "cell_type": "code",
   "execution_count": 958,
   "metadata": {},
   "outputs": [],
   "source": [
    "## Data type conversion(from object to category).\n",
    "def dataTypeConversion(cols,data):\n",
    "    for col in cols:\n",
    "        data[col] = data[col].astype('category')\n",
    "    return data"
   ]
  },
  {
   "cell_type": "code",
   "execution_count": 959,
   "metadata": {},
   "outputs": [],
   "source": [
    "## Convert object columns into categrogy columns for train data.\n",
    "cat_columns = ['Gender','Ever_Married','Graduated','Profession','Spending_Score','Var_1','Segmentation']\n",
    "train = dataTypeConversion(cat_columns,train)"
   ]
  },
  {
   "cell_type": "code",
   "execution_count": 960,
   "metadata": {},
   "outputs": [],
   "source": [
    "## Convert object columns into categrogy columns for test data.\n",
    "cat_columns = ['Gender','Ever_Married','Graduated','Profession','Spending_Score','Var_1']\n",
    "test = dataTypeConversion(cat_columns,test)"
   ]
  },
  {
   "cell_type": "code",
   "execution_count": 961,
   "metadata": {},
   "outputs": [
    {
     "data": {
      "text/plain": [
       "ID                    int64\n",
       "Gender             category\n",
       "Ever_Married       category\n",
       "Age                   int64\n",
       "Graduated          category\n",
       "Profession         category\n",
       "Work_Experience     float64\n",
       "Spending_Score     category\n",
       "Family_Size         float64\n",
       "Var_1              category\n",
       "Segmentation       category\n",
       "dtype: object"
      ]
     },
     "execution_count": 961,
     "metadata": {},
     "output_type": "execute_result"
    }
   ],
   "source": [
    "## Check train data columns data types after conversion.\n",
    "train.dtypes"
   ]
  },
  {
   "cell_type": "code",
   "execution_count": 962,
   "metadata": {
    "scrolled": true
   },
   "outputs": [
    {
     "data": {
      "text/plain": [
       "ID                    int64\n",
       "Gender             category\n",
       "Ever_Married       category\n",
       "Age                   int64\n",
       "Graduated          category\n",
       "Profession         category\n",
       "Work_Experience     float64\n",
       "Spending_Score     category\n",
       "Family_Size         float64\n",
       "Var_1              category\n",
       "dtype: object"
      ]
     },
     "execution_count": 962,
     "metadata": {},
     "output_type": "execute_result"
    }
   ],
   "source": [
    "## Check test data columns data types after conversion.\n",
    "test.dtypes"
   ]
  },
  {
   "cell_type": "code",
   "execution_count": 963,
   "metadata": {
    "scrolled": true
   },
   "outputs": [
    {
     "name": "stdout",
     "output_type": "stream",
     "text": [
      "\n",
      " Gender ----->\n",
      "\n",
      " Ever_Married ----->\n",
      "\n",
      " Graduated ----->\n",
      "\n",
      " Profession ----->\n",
      "\n",
      " Spending_Score ----->\n",
      "\n",
      " Segmentation ----->\n"
     ]
    }
   ],
   "source": [
    "## Check special charcters for train data category columns.\n",
    "specialCharcterVerification_CatCol(train.drop('Var_1',axis=1))"
   ]
  },
  {
   "cell_type": "code",
   "execution_count": 964,
   "metadata": {},
   "outputs": [
    {
     "name": "stdout",
     "output_type": "stream",
     "text": [
      "\n",
      " Gender ----->\n",
      "\n",
      " Ever_Married ----->\n",
      "\n",
      " Graduated ----->\n",
      "\n",
      " Profession ----->\n",
      "\n",
      " Spending_Score ----->\n"
     ]
    }
   ],
   "source": [
    "## Check special charcters for test data category columns.\n",
    "specialCharcterVerification_CatCol(test.drop('Var_1',axis=1))"
   ]
  },
  {
   "cell_type": "code",
   "execution_count": 965,
   "metadata": {},
   "outputs": [],
   "source": [
    "## Data type conversion(from float to int).\n",
    "def numDataTypeConversion(cols,data):\n",
    "    for col in cols:\n",
    "        data[col] = data[col].astype('int32')\n",
    "    return data"
   ]
  },
  {
   "cell_type": "code",
   "execution_count": 966,
   "metadata": {},
   "outputs": [],
   "source": [
    "## Float data types columns.\n",
    "num_cols = ['Age','Work_Experience','Family_Size']"
   ]
  },
  {
   "cell_type": "code",
   "execution_count": 967,
   "metadata": {},
   "outputs": [],
   "source": [
    "## Set ID as index to train and test.\n",
    "train.set_index('ID',inplace=True)\n",
    "test.set_index('ID',inplace=True)"
   ]
  },
  {
   "cell_type": "code",
   "execution_count": 968,
   "metadata": {},
   "outputs": [],
   "source": [
    "## Store train data features into train_data.\n",
    "train_data = train.drop('Segmentation', axis=1)"
   ]
  },
  {
   "cell_type": "code",
   "execution_count": 969,
   "metadata": {},
   "outputs": [],
   "source": [
    "## Store train data Segmentation column into y.\n",
    "y = train['Segmentation']"
   ]
  },
  {
   "cell_type": "code",
   "execution_count": 970,
   "metadata": {},
   "outputs": [],
   "source": [
    "## Split the train data into  train and validation(80:20).\n",
    "X_train,X_test,y_train,y_test = train_test_split(train_data,y,test_size=0.2,random_state =1234)"
   ]
  },
  {
   "cell_type": "code",
   "execution_count": 971,
   "metadata": {},
   "outputs": [
    {
     "data": {
      "text/html": [
       "<div>\n",
       "<style scoped>\n",
       "    .dataframe tbody tr th:only-of-type {\n",
       "        vertical-align: middle;\n",
       "    }\n",
       "\n",
       "    .dataframe tbody tr th {\n",
       "        vertical-align: top;\n",
       "    }\n",
       "\n",
       "    .dataframe thead th {\n",
       "        text-align: right;\n",
       "    }\n",
       "</style>\n",
       "<table border=\"1\" class=\"dataframe\">\n",
       "  <thead>\n",
       "    <tr style=\"text-align: right;\">\n",
       "      <th></th>\n",
       "      <th>Gender</th>\n",
       "      <th>Ever_Married</th>\n",
       "      <th>Age</th>\n",
       "      <th>Graduated</th>\n",
       "      <th>Profession</th>\n",
       "      <th>Work_Experience</th>\n",
       "      <th>Spending_Score</th>\n",
       "      <th>Family_Size</th>\n",
       "      <th>Var_1</th>\n",
       "    </tr>\n",
       "    <tr>\n",
       "      <th>ID</th>\n",
       "      <th></th>\n",
       "      <th></th>\n",
       "      <th></th>\n",
       "      <th></th>\n",
       "      <th></th>\n",
       "      <th></th>\n",
       "      <th></th>\n",
       "      <th></th>\n",
       "      <th></th>\n",
       "    </tr>\n",
       "  </thead>\n",
       "  <tbody>\n",
       "    <tr>\n",
       "      <th>461876</th>\n",
       "      <td>Male</td>\n",
       "      <td>No</td>\n",
       "      <td>32</td>\n",
       "      <td>Yes</td>\n",
       "      <td>Entertainment</td>\n",
       "      <td>9.0</td>\n",
       "      <td>Low</td>\n",
       "      <td>2.0</td>\n",
       "      <td>Cat_6</td>\n",
       "    </tr>\n",
       "  </tbody>\n",
       "</table>\n",
       "</div>"
      ],
      "text/plain": [
       "       Gender Ever_Married  Age Graduated     Profession  Work_Experience  \\\n",
       "ID                                                                          \n",
       "461876   Male           No   32       Yes  Entertainment              9.0   \n",
       "\n",
       "       Spending_Score  Family_Size  Var_1  \n",
       "ID                                         \n",
       "461876            Low          2.0  Cat_6  "
      ]
     },
     "execution_count": 971,
     "metadata": {},
     "output_type": "execute_result"
    }
   ],
   "source": [
    "## Check first record of train data.\n",
    "X_train.head(1)"
   ]
  },
  {
   "cell_type": "code",
   "execution_count": 972,
   "metadata": {},
   "outputs": [
    {
     "data": {
      "text/html": [
       "<div>\n",
       "<style scoped>\n",
       "    .dataframe tbody tr th:only-of-type {\n",
       "        vertical-align: middle;\n",
       "    }\n",
       "\n",
       "    .dataframe tbody tr th {\n",
       "        vertical-align: top;\n",
       "    }\n",
       "\n",
       "    .dataframe thead th {\n",
       "        text-align: right;\n",
       "    }\n",
       "</style>\n",
       "<table border=\"1\" class=\"dataframe\">\n",
       "  <thead>\n",
       "    <tr style=\"text-align: right;\">\n",
       "      <th></th>\n",
       "      <th>Gender</th>\n",
       "      <th>Ever_Married</th>\n",
       "      <th>Age</th>\n",
       "      <th>Graduated</th>\n",
       "      <th>Profession</th>\n",
       "      <th>Work_Experience</th>\n",
       "      <th>Spending_Score</th>\n",
       "      <th>Family_Size</th>\n",
       "      <th>Var_1</th>\n",
       "    </tr>\n",
       "    <tr>\n",
       "      <th>ID</th>\n",
       "      <th></th>\n",
       "      <th></th>\n",
       "      <th></th>\n",
       "      <th></th>\n",
       "      <th></th>\n",
       "      <th></th>\n",
       "      <th></th>\n",
       "      <th></th>\n",
       "      <th></th>\n",
       "    </tr>\n",
       "  </thead>\n",
       "  <tbody>\n",
       "    <tr>\n",
       "      <th>463096</th>\n",
       "      <td>Female</td>\n",
       "      <td>No</td>\n",
       "      <td>33</td>\n",
       "      <td>Yes</td>\n",
       "      <td>Doctor</td>\n",
       "      <td>NaN</td>\n",
       "      <td>Low</td>\n",
       "      <td>3.0</td>\n",
       "      <td>Cat_6</td>\n",
       "    </tr>\n",
       "  </tbody>\n",
       "</table>\n",
       "</div>"
      ],
      "text/plain": [
       "        Gender Ever_Married  Age Graduated Profession  Work_Experience  \\\n",
       "ID                                                                       \n",
       "463096  Female           No   33       Yes     Doctor              NaN   \n",
       "\n",
       "       Spending_Score  Family_Size  Var_1  \n",
       "ID                                         \n",
       "463096            Low          3.0  Cat_6  "
      ]
     },
     "execution_count": 972,
     "metadata": {},
     "output_type": "execute_result"
    }
   ],
   "source": [
    "## Chech last record of train data.\n",
    "X_train.tail(1)"
   ]
  },
  {
   "cell_type": "code",
   "execution_count": 973,
   "metadata": {},
   "outputs": [
    {
     "data": {
      "text/html": [
       "<div>\n",
       "<style scoped>\n",
       "    .dataframe tbody tr th:only-of-type {\n",
       "        vertical-align: middle;\n",
       "    }\n",
       "\n",
       "    .dataframe tbody tr th {\n",
       "        vertical-align: top;\n",
       "    }\n",
       "\n",
       "    .dataframe thead th {\n",
       "        text-align: right;\n",
       "    }\n",
       "</style>\n",
       "<table border=\"1\" class=\"dataframe\">\n",
       "  <thead>\n",
       "    <tr style=\"text-align: right;\">\n",
       "      <th></th>\n",
       "      <th>Gender</th>\n",
       "      <th>Ever_Married</th>\n",
       "      <th>Age</th>\n",
       "      <th>Graduated</th>\n",
       "      <th>Profession</th>\n",
       "      <th>Work_Experience</th>\n",
       "      <th>Spending_Score</th>\n",
       "      <th>Family_Size</th>\n",
       "      <th>Var_1</th>\n",
       "    </tr>\n",
       "    <tr>\n",
       "      <th>ID</th>\n",
       "      <th></th>\n",
       "      <th></th>\n",
       "      <th></th>\n",
       "      <th></th>\n",
       "      <th></th>\n",
       "      <th></th>\n",
       "      <th></th>\n",
       "      <th></th>\n",
       "      <th></th>\n",
       "    </tr>\n",
       "  </thead>\n",
       "  <tbody>\n",
       "    <tr>\n",
       "      <th>460156</th>\n",
       "      <td>Male</td>\n",
       "      <td>No</td>\n",
       "      <td>32</td>\n",
       "      <td>Yes</td>\n",
       "      <td>Healthcare</td>\n",
       "      <td>1.0</td>\n",
       "      <td>Low</td>\n",
       "      <td>3.0</td>\n",
       "      <td>Cat_6</td>\n",
       "    </tr>\n",
       "  </tbody>\n",
       "</table>\n",
       "</div>"
      ],
      "text/plain": [
       "       Gender Ever_Married  Age Graduated  Profession  Work_Experience  \\\n",
       "ID                                                                       \n",
       "460156   Male           No   32       Yes  Healthcare              1.0   \n",
       "\n",
       "       Spending_Score  Family_Size  Var_1  \n",
       "ID                                         \n",
       "460156            Low          3.0  Cat_6  "
      ]
     },
     "execution_count": 973,
     "metadata": {},
     "output_type": "execute_result"
    }
   ],
   "source": [
    "## Check first record of validation data.\n",
    "X_test.head(1)"
   ]
  },
  {
   "cell_type": "code",
   "execution_count": 974,
   "metadata": {
    "scrolled": true
   },
   "outputs": [
    {
     "data": {
      "text/html": [
       "<div>\n",
       "<style scoped>\n",
       "    .dataframe tbody tr th:only-of-type {\n",
       "        vertical-align: middle;\n",
       "    }\n",
       "\n",
       "    .dataframe tbody tr th {\n",
       "        vertical-align: top;\n",
       "    }\n",
       "\n",
       "    .dataframe thead th {\n",
       "        text-align: right;\n",
       "    }\n",
       "</style>\n",
       "<table border=\"1\" class=\"dataframe\">\n",
       "  <thead>\n",
       "    <tr style=\"text-align: right;\">\n",
       "      <th></th>\n",
       "      <th>Gender</th>\n",
       "      <th>Ever_Married</th>\n",
       "      <th>Age</th>\n",
       "      <th>Graduated</th>\n",
       "      <th>Profession</th>\n",
       "      <th>Work_Experience</th>\n",
       "      <th>Spending_Score</th>\n",
       "      <th>Family_Size</th>\n",
       "      <th>Var_1</th>\n",
       "    </tr>\n",
       "    <tr>\n",
       "      <th>ID</th>\n",
       "      <th></th>\n",
       "      <th></th>\n",
       "      <th></th>\n",
       "      <th></th>\n",
       "      <th></th>\n",
       "      <th></th>\n",
       "      <th></th>\n",
       "      <th></th>\n",
       "      <th></th>\n",
       "    </tr>\n",
       "  </thead>\n",
       "  <tbody>\n",
       "    <tr>\n",
       "      <th>467748</th>\n",
       "      <td>Male</td>\n",
       "      <td>Yes</td>\n",
       "      <td>38</td>\n",
       "      <td>Yes</td>\n",
       "      <td>Executive</td>\n",
       "      <td>NaN</td>\n",
       "      <td>High</td>\n",
       "      <td>4.0</td>\n",
       "      <td>Cat_6</td>\n",
       "    </tr>\n",
       "  </tbody>\n",
       "</table>\n",
       "</div>"
      ],
      "text/plain": [
       "       Gender Ever_Married  Age Graduated Profession  Work_Experience  \\\n",
       "ID                                                                      \n",
       "467748   Male          Yes   38       Yes  Executive              NaN   \n",
       "\n",
       "       Spending_Score  Family_Size  Var_1  \n",
       "ID                                         \n",
       "467748           High          4.0  Cat_6  "
      ]
     },
     "execution_count": 974,
     "metadata": {},
     "output_type": "execute_result"
    }
   ],
   "source": [
    "## Check last record of validation data.\n",
    "X_test.tail(1)"
   ]
  },
  {
   "cell_type": "code",
   "execution_count": 975,
   "metadata": {},
   "outputs": [],
   "source": [
    "############################################ Impute NA values ###############################################################"
   ]
  },
  {
   "cell_type": "code",
   "execution_count": 976,
   "metadata": {
    "scrolled": true
   },
   "outputs": [
    {
     "data": {
      "text/plain": [
       "Gender               0\n",
       "Ever_Married       113\n",
       "Age                  0\n",
       "Graduated           60\n",
       "Profession          99\n",
       "Work_Experience    648\n",
       "Spending_Score       0\n",
       "Family_Size        275\n",
       "Var_1               63\n",
       "dtype: int64"
      ]
     },
     "execution_count": 976,
     "metadata": {},
     "output_type": "execute_result"
    }
   ],
   "source": [
    "## Check NA values for train data before imputing.\n",
    "X_train.isna().sum()"
   ]
  },
  {
   "cell_type": "code",
   "execution_count": 977,
   "metadata": {},
   "outputs": [
    {
     "data": {
      "text/plain": [
       "Gender               0\n",
       "Ever_Married        27\n",
       "Age                  0\n",
       "Graduated           18\n",
       "Profession          25\n",
       "Work_Experience    181\n",
       "Spending_Score       0\n",
       "Family_Size         60\n",
       "Var_1               13\n",
       "dtype: int64"
      ]
     },
     "execution_count": 977,
     "metadata": {},
     "output_type": "execute_result"
    }
   ],
   "source": [
    "## Check NA values for validation data before imputing.\n",
    "X_test.isna().sum()"
   ]
  },
  {
   "cell_type": "code",
   "execution_count": 978,
   "metadata": {
    "scrolled": false
   },
   "outputs": [
    {
     "data": {
      "text/plain": [
       "Gender               0\n",
       "Ever_Married        50\n",
       "Age                  0\n",
       "Graduated           24\n",
       "Profession          38\n",
       "Work_Experience    269\n",
       "Spending_Score       0\n",
       "Family_Size        113\n",
       "Var_1               32\n",
       "dtype: int64"
      ]
     },
     "execution_count": 978,
     "metadata": {},
     "output_type": "execute_result"
    }
   ],
   "source": [
    "## Check NA values for test data before imputing.\n",
    "test.isna().sum()"
   ]
  },
  {
   "cell_type": "code",
   "execution_count": 979,
   "metadata": {
    "scrolled": true
   },
   "outputs": [
    {
     "data": {
      "text/plain": [
       "Gender             category\n",
       "Ever_Married       category\n",
       "Age                   int64\n",
       "Graduated          category\n",
       "Profession         category\n",
       "Work_Experience     float64\n",
       "Spending_Score     category\n",
       "Family_Size         float64\n",
       "Var_1              category\n",
       "dtype: object"
      ]
     },
     "execution_count": 979,
     "metadata": {},
     "output_type": "execute_result"
    }
   ],
   "source": [
    "X_train.dtypes"
   ]
  },
  {
   "cell_type": "code",
   "execution_count": 980,
   "metadata": {
    "scrolled": false
   },
   "outputs": [
    {
     "name": "stderr",
     "output_type": "stream",
     "text": [
      "C:\\Users\\nagar\\Anaconda3\\lib\\site-packages\\ipykernel_launcher.py:2: SettingWithCopyWarning: \n",
      "A value is trying to be set on a copy of a slice from a DataFrame.\n",
      "Try using .loc[row_indexer,col_indexer] = value instead\n",
      "\n",
      "See the caveats in the documentation: http://pandas.pydata.org/pandas-docs/stable/user_guide/indexing.html#returning-a-view-versus-a-copy\n",
      "  \n",
      "C:\\Users\\nagar\\Anaconda3\\lib\\site-packages\\pandas\\core\\generic.py:6287: SettingWithCopyWarning: \n",
      "A value is trying to be set on a copy of a slice from a DataFrame\n",
      "\n",
      "See the caveats in the documentation: http://pandas.pydata.org/pandas-docs/stable/user_guide/indexing.html#returning-a-view-versus-a-copy\n",
      "  self._update_inplace(new_data)\n"
     ]
    }
   ],
   "source": [
    "##  fillna requires a value that already exists as a category for categorical columns so that's why adding Unkown level.\n",
    "X_train['Ever_Married'] = X_train['Ever_Married'].cat.add_categories('Unknown')\n",
    "\n",
    "## Fill NA values with Unknown for Ever_Married column of train data.\n",
    "X_train['Ever_Married'].fillna('Unknown',inplace=True)"
   ]
  },
  {
   "cell_type": "code",
   "execution_count": 981,
   "metadata": {},
   "outputs": [
    {
     "name": "stderr",
     "output_type": "stream",
     "text": [
      "C:\\Users\\nagar\\Anaconda3\\lib\\site-packages\\ipykernel_launcher.py:2: SettingWithCopyWarning: \n",
      "A value is trying to be set on a copy of a slice from a DataFrame.\n",
      "Try using .loc[row_indexer,col_indexer] = value instead\n",
      "\n",
      "See the caveats in the documentation: http://pandas.pydata.org/pandas-docs/stable/user_guide/indexing.html#returning-a-view-versus-a-copy\n",
      "  \n",
      "C:\\Users\\nagar\\Anaconda3\\lib\\site-packages\\pandas\\core\\generic.py:6287: SettingWithCopyWarning: \n",
      "A value is trying to be set on a copy of a slice from a DataFrame\n",
      "\n",
      "See the caveats in the documentation: http://pandas.pydata.org/pandas-docs/stable/user_guide/indexing.html#returning-a-view-versus-a-copy\n",
      "  self._update_inplace(new_data)\n"
     ]
    }
   ],
   "source": [
    "##  fillna requires a value that already exists as a category for categorical columns so that's why adding Unkown level.\n",
    "X_test['Ever_Married'] = X_test['Ever_Married'].cat.add_categories('Unknown')\n",
    "\n",
    "## Fill NA values with Unknown for Ever_Married column of validation data.\n",
    "X_test['Ever_Married'].fillna('Unknown',inplace=True)"
   ]
  },
  {
   "cell_type": "code",
   "execution_count": 982,
   "metadata": {},
   "outputs": [],
   "source": [
    "##  fillna requires a value that already exists as a category for categorical columns so that's why adding Unkown level.\n",
    "test['Ever_Married'] = test['Ever_Married'].cat.add_categories('Unknown')\n",
    "\n",
    "## Fill NA values with Unknown for Ever_Married column of test data.\n",
    "test['Ever_Married'].fillna('Unknown',inplace=True)"
   ]
  },
  {
   "cell_type": "code",
   "execution_count": 983,
   "metadata": {
    "scrolled": false
   },
   "outputs": [
    {
     "name": "stderr",
     "output_type": "stream",
     "text": [
      "C:\\Users\\nagar\\Anaconda3\\lib\\site-packages\\ipykernel_launcher.py:2: SettingWithCopyWarning: \n",
      "A value is trying to be set on a copy of a slice from a DataFrame.\n",
      "Try using .loc[row_indexer,col_indexer] = value instead\n",
      "\n",
      "See the caveats in the documentation: http://pandas.pydata.org/pandas-docs/stable/user_guide/indexing.html#returning-a-view-versus-a-copy\n",
      "  \n",
      "C:\\Users\\nagar\\Anaconda3\\lib\\site-packages\\pandas\\core\\generic.py:6287: SettingWithCopyWarning: \n",
      "A value is trying to be set on a copy of a slice from a DataFrame\n",
      "\n",
      "See the caveats in the documentation: http://pandas.pydata.org/pandas-docs/stable/user_guide/indexing.html#returning-a-view-versus-a-copy\n",
      "  self._update_inplace(new_data)\n"
     ]
    }
   ],
   "source": [
    "##  fillna requires a value that already exists as a category for categorical columns so that's why adding Unkown level.\n",
    "X_train['Gender'] = X_train['Gender'].cat.add_categories('Unknown')\n",
    "\n",
    "## Fill NA values with Unknown for Gender column of train data.\n",
    "X_train['Gender'].fillna('Unknown',inplace=True)"
   ]
  },
  {
   "cell_type": "code",
   "execution_count": 984,
   "metadata": {},
   "outputs": [
    {
     "name": "stderr",
     "output_type": "stream",
     "text": [
      "C:\\Users\\nagar\\Anaconda3\\lib\\site-packages\\ipykernel_launcher.py:2: SettingWithCopyWarning: \n",
      "A value is trying to be set on a copy of a slice from a DataFrame.\n",
      "Try using .loc[row_indexer,col_indexer] = value instead\n",
      "\n",
      "See the caveats in the documentation: http://pandas.pydata.org/pandas-docs/stable/user_guide/indexing.html#returning-a-view-versus-a-copy\n",
      "  \n",
      "C:\\Users\\nagar\\Anaconda3\\lib\\site-packages\\pandas\\core\\generic.py:6287: SettingWithCopyWarning: \n",
      "A value is trying to be set on a copy of a slice from a DataFrame\n",
      "\n",
      "See the caveats in the documentation: http://pandas.pydata.org/pandas-docs/stable/user_guide/indexing.html#returning-a-view-versus-a-copy\n",
      "  self._update_inplace(new_data)\n"
     ]
    }
   ],
   "source": [
    "##  fillna requires a value that already exists as a category for categorical columns so that's why adding Unkown level.\n",
    "X_test['Gender'] = X_test['Gender'].cat.add_categories('Unknown')\n",
    "\n",
    "## Fill NA values with Unknown for Gender column of validation data.\n",
    "X_test['Gender'].fillna('Unknown',inplace=True)"
   ]
  },
  {
   "cell_type": "code",
   "execution_count": 985,
   "metadata": {},
   "outputs": [],
   "source": [
    "##  fillna requires a value that already exists as a category for categorical columns so that's why adding Unkown level.\n",
    "test['Gender'] = test['Gender'].cat.add_categories('Unknown')\n",
    "\n",
    "## Fill NA values with Unknown for Gender column of test data.\n",
    "test['Gender'].fillna('Unknown',inplace=True)"
   ]
  },
  {
   "cell_type": "code",
   "execution_count": 986,
   "metadata": {
    "scrolled": true
   },
   "outputs": [
    {
     "name": "stderr",
     "output_type": "stream",
     "text": [
      "C:\\Users\\nagar\\Anaconda3\\lib\\site-packages\\ipykernel_launcher.py:2: SettingWithCopyWarning: \n",
      "A value is trying to be set on a copy of a slice from a DataFrame.\n",
      "Try using .loc[row_indexer,col_indexer] = value instead\n",
      "\n",
      "See the caveats in the documentation: http://pandas.pydata.org/pandas-docs/stable/user_guide/indexing.html#returning-a-view-versus-a-copy\n",
      "  \n",
      "C:\\Users\\nagar\\Anaconda3\\lib\\site-packages\\pandas\\core\\generic.py:6287: SettingWithCopyWarning: \n",
      "A value is trying to be set on a copy of a slice from a DataFrame\n",
      "\n",
      "See the caveats in the documentation: http://pandas.pydata.org/pandas-docs/stable/user_guide/indexing.html#returning-a-view-versus-a-copy\n",
      "  self._update_inplace(new_data)\n"
     ]
    }
   ],
   "source": [
    "##  fillna requires a value that already exists as a category for categorical columns so that's why adding Unkown level.\n",
    "X_train['Graduated'] = X_train['Graduated'].cat.add_categories('Unknown')\n",
    "\n",
    "## Fill NA values with Unknown for Graduated column of train data.\n",
    "X_train['Graduated'].fillna('Unknown',inplace=True)"
   ]
  },
  {
   "cell_type": "code",
   "execution_count": 987,
   "metadata": {},
   "outputs": [
    {
     "name": "stderr",
     "output_type": "stream",
     "text": [
      "C:\\Users\\nagar\\Anaconda3\\lib\\site-packages\\ipykernel_launcher.py:2: SettingWithCopyWarning: \n",
      "A value is trying to be set on a copy of a slice from a DataFrame.\n",
      "Try using .loc[row_indexer,col_indexer] = value instead\n",
      "\n",
      "See the caveats in the documentation: http://pandas.pydata.org/pandas-docs/stable/user_guide/indexing.html#returning-a-view-versus-a-copy\n",
      "  \n",
      "C:\\Users\\nagar\\Anaconda3\\lib\\site-packages\\pandas\\core\\generic.py:6287: SettingWithCopyWarning: \n",
      "A value is trying to be set on a copy of a slice from a DataFrame\n",
      "\n",
      "See the caveats in the documentation: http://pandas.pydata.org/pandas-docs/stable/user_guide/indexing.html#returning-a-view-versus-a-copy\n",
      "  self._update_inplace(new_data)\n"
     ]
    }
   ],
   "source": [
    "##  fillna requires a value that already exists as a category for categorical columns so that's why adding Unkown level.\n",
    "X_test['Graduated'] = X_test['Graduated'].cat.add_categories('Unknown')\n",
    "\n",
    "## Fill NA values with Unknown for Graduated column of validation data.\n",
    "X_test['Graduated'].fillna('Unknown',inplace=True)"
   ]
  },
  {
   "cell_type": "code",
   "execution_count": 988,
   "metadata": {},
   "outputs": [],
   "source": [
    "##  fillna requires a value that already exists as a category for categorical columns so that's why adding Unkown level.\n",
    "test['Graduated'] = test['Graduated'].cat.add_categories('Unknown')\n",
    "\n",
    "## Fill NA values with Unknown for Graduated column of test data.\n",
    "test['Graduated'].fillna('Unknown',inplace=True)"
   ]
  },
  {
   "cell_type": "code",
   "execution_count": 989,
   "metadata": {
    "scrolled": true
   },
   "outputs": [
    {
     "name": "stderr",
     "output_type": "stream",
     "text": [
      "C:\\Users\\nagar\\Anaconda3\\lib\\site-packages\\ipykernel_launcher.py:2: SettingWithCopyWarning: \n",
      "A value is trying to be set on a copy of a slice from a DataFrame.\n",
      "Try using .loc[row_indexer,col_indexer] = value instead\n",
      "\n",
      "See the caveats in the documentation: http://pandas.pydata.org/pandas-docs/stable/user_guide/indexing.html#returning-a-view-versus-a-copy\n",
      "  \n",
      "C:\\Users\\nagar\\Anaconda3\\lib\\site-packages\\pandas\\core\\generic.py:6287: SettingWithCopyWarning: \n",
      "A value is trying to be set on a copy of a slice from a DataFrame\n",
      "\n",
      "See the caveats in the documentation: http://pandas.pydata.org/pandas-docs/stable/user_guide/indexing.html#returning-a-view-versus-a-copy\n",
      "  self._update_inplace(new_data)\n"
     ]
    }
   ],
   "source": [
    "##  fillna requires a value that already exists as a category for categorical columns so that's why adding Unkown level.\n",
    "X_train['Profession'] = X_train['Profession'].cat.add_categories('Unknown')\n",
    "\n",
    "## Fill NA values with Unknown for Profession column of train data.\n",
    "X_train['Profession'].fillna('Unknown',inplace=True)"
   ]
  },
  {
   "cell_type": "code",
   "execution_count": 990,
   "metadata": {},
   "outputs": [
    {
     "name": "stderr",
     "output_type": "stream",
     "text": [
      "C:\\Users\\nagar\\Anaconda3\\lib\\site-packages\\ipykernel_launcher.py:2: SettingWithCopyWarning: \n",
      "A value is trying to be set on a copy of a slice from a DataFrame.\n",
      "Try using .loc[row_indexer,col_indexer] = value instead\n",
      "\n",
      "See the caveats in the documentation: http://pandas.pydata.org/pandas-docs/stable/user_guide/indexing.html#returning-a-view-versus-a-copy\n",
      "  \n",
      "C:\\Users\\nagar\\Anaconda3\\lib\\site-packages\\pandas\\core\\generic.py:6287: SettingWithCopyWarning: \n",
      "A value is trying to be set on a copy of a slice from a DataFrame\n",
      "\n",
      "See the caveats in the documentation: http://pandas.pydata.org/pandas-docs/stable/user_guide/indexing.html#returning-a-view-versus-a-copy\n",
      "  self._update_inplace(new_data)\n"
     ]
    }
   ],
   "source": [
    "##  fillna requires a value that already exists as a category for categorical columns so that's why adding Unkown level.\n",
    "X_test['Profession'] = X_test['Profession'].cat.add_categories('Unknown')\n",
    "\n",
    "## Fill NA values with Unknown for Profession column of validation data.\n",
    "X_test['Profession'].fillna('Unknown',inplace=True)"
   ]
  },
  {
   "cell_type": "code",
   "execution_count": 991,
   "metadata": {},
   "outputs": [],
   "source": [
    "##  fillna requires a value that already exists as a category for categorical columns so that's why adding Unkown level.\n",
    "test['Profession'] = test['Profession'].cat.add_categories('Unknown')\n",
    "\n",
    "## Fill NA values with Unknown for Profession column of test data.\n",
    "test['Profession'].fillna('Unknown',inplace=True)"
   ]
  },
  {
   "cell_type": "code",
   "execution_count": 992,
   "metadata": {
    "scrolled": true
   },
   "outputs": [
    {
     "name": "stderr",
     "output_type": "stream",
     "text": [
      "C:\\Users\\nagar\\Anaconda3\\lib\\site-packages\\ipykernel_launcher.py:2: SettingWithCopyWarning: \n",
      "A value is trying to be set on a copy of a slice from a DataFrame.\n",
      "Try using .loc[row_indexer,col_indexer] = value instead\n",
      "\n",
      "See the caveats in the documentation: http://pandas.pydata.org/pandas-docs/stable/user_guide/indexing.html#returning-a-view-versus-a-copy\n",
      "  \n",
      "C:\\Users\\nagar\\Anaconda3\\lib\\site-packages\\pandas\\core\\generic.py:6287: SettingWithCopyWarning: \n",
      "A value is trying to be set on a copy of a slice from a DataFrame\n",
      "\n",
      "See the caveats in the documentation: http://pandas.pydata.org/pandas-docs/stable/user_guide/indexing.html#returning-a-view-versus-a-copy\n",
      "  self._update_inplace(new_data)\n"
     ]
    }
   ],
   "source": [
    "##  fillna requires a value that already exists as a category for categorical columns so that's why adding Unkown level.\n",
    "X_train['Var_1'] = X_train['Var_1'].cat.add_categories('Unknown')\n",
    "\n",
    "## Fill NA values with Unknown for Var_1 column of train data.\n",
    "X_train['Var_1'].fillna('Unknown',inplace=True)"
   ]
  },
  {
   "cell_type": "code",
   "execution_count": 993,
   "metadata": {},
   "outputs": [
    {
     "name": "stderr",
     "output_type": "stream",
     "text": [
      "C:\\Users\\nagar\\Anaconda3\\lib\\site-packages\\ipykernel_launcher.py:2: SettingWithCopyWarning: \n",
      "A value is trying to be set on a copy of a slice from a DataFrame.\n",
      "Try using .loc[row_indexer,col_indexer] = value instead\n",
      "\n",
      "See the caveats in the documentation: http://pandas.pydata.org/pandas-docs/stable/user_guide/indexing.html#returning-a-view-versus-a-copy\n",
      "  \n",
      "C:\\Users\\nagar\\Anaconda3\\lib\\site-packages\\pandas\\core\\generic.py:6287: SettingWithCopyWarning: \n",
      "A value is trying to be set on a copy of a slice from a DataFrame\n",
      "\n",
      "See the caveats in the documentation: http://pandas.pydata.org/pandas-docs/stable/user_guide/indexing.html#returning-a-view-versus-a-copy\n",
      "  self._update_inplace(new_data)\n"
     ]
    }
   ],
   "source": [
    "##  fillna requires a value that already exists as a category for categorical columns so that's why adding Unkown level.\n",
    "X_test['Var_1'] = X_test['Var_1'].cat.add_categories('Unknown')\n",
    "\n",
    "## Fill NA values with Unknown for Var_1 column of validation data.\n",
    "X_test['Var_1'].fillna('Unknown',inplace=True)"
   ]
  },
  {
   "cell_type": "code",
   "execution_count": 994,
   "metadata": {},
   "outputs": [],
   "source": [
    "##  fillna requires a value that already exists as a category for categorical columns so that's why adding Unkown level.\n",
    "test['Var_1'] = test['Var_1'].cat.add_categories('Unknown')\n",
    "\n",
    "## Fill NA values with Unknown for Var_1 column of test data.\n",
    "test['Var_1'].fillna('Unknown',inplace=True)"
   ]
  },
  {
   "cell_type": "code",
   "execution_count": 995,
   "metadata": {
    "scrolled": false
   },
   "outputs": [
    {
     "name": "stderr",
     "output_type": "stream",
     "text": [
      "C:\\Users\\nagar\\Anaconda3\\lib\\site-packages\\pandas\\core\\generic.py:6287: SettingWithCopyWarning: \n",
      "A value is trying to be set on a copy of a slice from a DataFrame\n",
      "\n",
      "See the caveats in the documentation: http://pandas.pydata.org/pandas-docs/stable/user_guide/indexing.html#returning-a-view-versus-a-copy\n",
      "  self._update_inplace(new_data)\n"
     ]
    }
   ],
   "source": [
    "## Impute NA values for Work_Experience column of train data.\n",
    "X_train['Work_Experience'].fillna(value=0,inplace=True)"
   ]
  },
  {
   "cell_type": "code",
   "execution_count": 996,
   "metadata": {
    "scrolled": true
   },
   "outputs": [
    {
     "name": "stderr",
     "output_type": "stream",
     "text": [
      "C:\\Users\\nagar\\Anaconda3\\lib\\site-packages\\pandas\\core\\generic.py:6287: SettingWithCopyWarning: \n",
      "A value is trying to be set on a copy of a slice from a DataFrame\n",
      "\n",
      "See the caveats in the documentation: http://pandas.pydata.org/pandas-docs/stable/user_guide/indexing.html#returning-a-view-versus-a-copy\n",
      "  self._update_inplace(new_data)\n"
     ]
    }
   ],
   "source": [
    "## Impute NA values for Work_Experience column of validation data.\n",
    "X_test['Work_Experience'].fillna(value=0,inplace=True)"
   ]
  },
  {
   "cell_type": "code",
   "execution_count": 997,
   "metadata": {},
   "outputs": [],
   "source": [
    "## Impute NA values for Work_Experience column of test data.\n",
    "test['Work_Experience'].fillna(value=0,inplace=True)"
   ]
  },
  {
   "cell_type": "code",
   "execution_count": 998,
   "metadata": {},
   "outputs": [
    {
     "name": "stderr",
     "output_type": "stream",
     "text": [
      "C:\\Users\\nagar\\Anaconda3\\lib\\site-packages\\pandas\\core\\generic.py:6287: SettingWithCopyWarning: \n",
      "A value is trying to be set on a copy of a slice from a DataFrame\n",
      "\n",
      "See the caveats in the documentation: http://pandas.pydata.org/pandas-docs/stable/user_guide/indexing.html#returning-a-view-versus-a-copy\n",
      "  self._update_inplace(new_data)\n"
     ]
    }
   ],
   "source": [
    "## Impute NA values for Family_Size column of train data.\n",
    "X_train['Family_Size'].fillna(value=0,inplace=True)"
   ]
  },
  {
   "cell_type": "code",
   "execution_count": 999,
   "metadata": {
    "scrolled": true
   },
   "outputs": [
    {
     "name": "stderr",
     "output_type": "stream",
     "text": [
      "C:\\Users\\nagar\\Anaconda3\\lib\\site-packages\\pandas\\core\\generic.py:6287: SettingWithCopyWarning: \n",
      "A value is trying to be set on a copy of a slice from a DataFrame\n",
      "\n",
      "See the caveats in the documentation: http://pandas.pydata.org/pandas-docs/stable/user_guide/indexing.html#returning-a-view-versus-a-copy\n",
      "  self._update_inplace(new_data)\n"
     ]
    }
   ],
   "source": [
    "## Impute NA values for Family_Size column of validation data.\n",
    "X_test['Family_Size'].fillna(value=0,inplace=True)"
   ]
  },
  {
   "cell_type": "code",
   "execution_count": 1000,
   "metadata": {},
   "outputs": [],
   "source": [
    "## Impute NA values for Family_Size column of test data.\n",
    "test['Family_Size'].fillna(value=0,inplace=True)"
   ]
  },
  {
   "cell_type": "code",
   "execution_count": 1001,
   "metadata": {
    "scrolled": true
   },
   "outputs": [
    {
     "data": {
      "text/plain": [
       "Gender             0\n",
       "Ever_Married       0\n",
       "Age                0\n",
       "Graduated          0\n",
       "Profession         0\n",
       "Work_Experience    0\n",
       "Spending_Score     0\n",
       "Family_Size        0\n",
       "Var_1              0\n",
       "dtype: int64"
      ]
     },
     "execution_count": 1001,
     "metadata": {},
     "output_type": "execute_result"
    }
   ],
   "source": [
    "## Check NA values for train data after imputaion.\n",
    "X_train.isna().sum()"
   ]
  },
  {
   "cell_type": "code",
   "execution_count": 1002,
   "metadata": {},
   "outputs": [
    {
     "data": {
      "text/plain": [
       "Gender             0\n",
       "Ever_Married       0\n",
       "Age                0\n",
       "Graduated          0\n",
       "Profession         0\n",
       "Work_Experience    0\n",
       "Spending_Score     0\n",
       "Family_Size        0\n",
       "Var_1              0\n",
       "dtype: int64"
      ]
     },
     "execution_count": 1002,
     "metadata": {},
     "output_type": "execute_result"
    }
   ],
   "source": [
    "## Check NA values for validation data after imputaion.\n",
    "X_test.isna().sum()"
   ]
  },
  {
   "cell_type": "code",
   "execution_count": 1003,
   "metadata": {},
   "outputs": [
    {
     "data": {
      "text/plain": [
       "Gender             0\n",
       "Ever_Married       0\n",
       "Age                0\n",
       "Graduated          0\n",
       "Profession         0\n",
       "Work_Experience    0\n",
       "Spending_Score     0\n",
       "Family_Size        0\n",
       "Var_1              0\n",
       "dtype: int64"
      ]
     },
     "execution_count": 1003,
     "metadata": {},
     "output_type": "execute_result"
    }
   ],
   "source": [
    "## Check NA values for test data after imputaion.\n",
    "test.isna().sum()"
   ]
  },
  {
   "cell_type": "code",
   "execution_count": 1004,
   "metadata": {},
   "outputs": [
    {
     "name": "stderr",
     "output_type": "stream",
     "text": [
      "C:\\Users\\nagar\\Anaconda3\\lib\\site-packages\\ipykernel_launcher.py:4: SettingWithCopyWarning: \n",
      "A value is trying to be set on a copy of a slice from a DataFrame.\n",
      "Try using .loc[row_indexer,col_indexer] = value instead\n",
      "\n",
      "See the caveats in the documentation: http://pandas.pydata.org/pandas-docs/stable/user_guide/indexing.html#returning-a-view-versus-a-copy\n",
      "  after removing the cwd from sys.path.\n"
     ]
    },
    {
     "data": {
      "text/plain": [
       "Gender             category\n",
       "Ever_Married       category\n",
       "Age                   int32\n",
       "Graduated          category\n",
       "Profession         category\n",
       "Work_Experience       int32\n",
       "Spending_Score     category\n",
       "Family_Size           int32\n",
       "Var_1              category\n",
       "dtype: object"
      ]
     },
     "execution_count": 1004,
     "metadata": {},
     "output_type": "execute_result"
    }
   ],
   "source": [
    "## Convert float data type to int for train data columns.\n",
    "X_train = numDataTypeConversion(num_cols,X_train)\n",
    "X_train.dtypes"
   ]
  },
  {
   "cell_type": "code",
   "execution_count": 1005,
   "metadata": {},
   "outputs": [
    {
     "name": "stderr",
     "output_type": "stream",
     "text": [
      "C:\\Users\\nagar\\Anaconda3\\lib\\site-packages\\ipykernel_launcher.py:4: SettingWithCopyWarning: \n",
      "A value is trying to be set on a copy of a slice from a DataFrame.\n",
      "Try using .loc[row_indexer,col_indexer] = value instead\n",
      "\n",
      "See the caveats in the documentation: http://pandas.pydata.org/pandas-docs/stable/user_guide/indexing.html#returning-a-view-versus-a-copy\n",
      "  after removing the cwd from sys.path.\n"
     ]
    },
    {
     "data": {
      "text/plain": [
       "Gender             category\n",
       "Ever_Married       category\n",
       "Age                   int32\n",
       "Graduated          category\n",
       "Profession         category\n",
       "Work_Experience       int32\n",
       "Spending_Score     category\n",
       "Family_Size           int32\n",
       "Var_1              category\n",
       "dtype: object"
      ]
     },
     "execution_count": 1005,
     "metadata": {},
     "output_type": "execute_result"
    }
   ],
   "source": [
    "## Convert float data type to int for validation data columns.\n",
    "X_test = numDataTypeConversion(num_cols,X_test)\n",
    "X_test.dtypes"
   ]
  },
  {
   "cell_type": "code",
   "execution_count": 1006,
   "metadata": {},
   "outputs": [
    {
     "data": {
      "text/plain": [
       "Gender             category\n",
       "Ever_Married       category\n",
       "Age                   int32\n",
       "Graduated          category\n",
       "Profession         category\n",
       "Work_Experience       int32\n",
       "Spending_Score     category\n",
       "Family_Size           int32\n",
       "Var_1              category\n",
       "dtype: object"
      ]
     },
     "execution_count": 1006,
     "metadata": {},
     "output_type": "execute_result"
    }
   ],
   "source": [
    "## Convert float data type to int for test data columns.\n",
    "test = numDataTypeConversion(num_cols,test)\n",
    "test.dtypes"
   ]
  },
  {
   "cell_type": "code",
   "execution_count": 1007,
   "metadata": {},
   "outputs": [],
   "source": [
    "## Do label encoding(For converting category column values into numeric values).\n",
    "\n",
    "le_gender = LabelEncoder()\n",
    "le_ever_married = LabelEncoder()\n",
    "le_graduate = LabelEncoder()\n",
    "le_profession = LabelEncoder()\n",
    "le_spendinng_score = LabelEncoder()\n",
    "le_var_1 = LabelEncoder()\n",
    "\n",
    "le_segmentation = LabelEncoder()"
   ]
  },
  {
   "cell_type": "code",
   "execution_count": 1008,
   "metadata": {},
   "outputs": [
    {
     "name": "stderr",
     "output_type": "stream",
     "text": [
      "C:\\Users\\nagar\\Anaconda3\\lib\\site-packages\\ipykernel_launcher.py:2: SettingWithCopyWarning: \n",
      "A value is trying to be set on a copy of a slice from a DataFrame.\n",
      "Try using .loc[row_indexer,col_indexer] = value instead\n",
      "\n",
      "See the caveats in the documentation: http://pandas.pydata.org/pandas-docs/stable/user_guide/indexing.html#returning-a-view-versus-a-copy\n",
      "  \n",
      "C:\\Users\\nagar\\Anaconda3\\lib\\site-packages\\ipykernel_launcher.py:3: SettingWithCopyWarning: \n",
      "A value is trying to be set on a copy of a slice from a DataFrame.\n",
      "Try using .loc[row_indexer,col_indexer] = value instead\n",
      "\n",
      "See the caveats in the documentation: http://pandas.pydata.org/pandas-docs/stable/user_guide/indexing.html#returning-a-view-versus-a-copy\n",
      "  This is separate from the ipykernel package so we can avoid doing imports until\n",
      "C:\\Users\\nagar\\Anaconda3\\lib\\site-packages\\ipykernel_launcher.py:4: SettingWithCopyWarning: \n",
      "A value is trying to be set on a copy of a slice from a DataFrame.\n",
      "Try using .loc[row_indexer,col_indexer] = value instead\n",
      "\n",
      "See the caveats in the documentation: http://pandas.pydata.org/pandas-docs/stable/user_guide/indexing.html#returning-a-view-versus-a-copy\n",
      "  after removing the cwd from sys.path.\n",
      "C:\\Users\\nagar\\Anaconda3\\lib\\site-packages\\ipykernel_launcher.py:5: SettingWithCopyWarning: \n",
      "A value is trying to be set on a copy of a slice from a DataFrame.\n",
      "Try using .loc[row_indexer,col_indexer] = value instead\n",
      "\n",
      "See the caveats in the documentation: http://pandas.pydata.org/pandas-docs/stable/user_guide/indexing.html#returning-a-view-versus-a-copy\n",
      "  \"\"\"\n",
      "C:\\Users\\nagar\\Anaconda3\\lib\\site-packages\\ipykernel_launcher.py:6: SettingWithCopyWarning: \n",
      "A value is trying to be set on a copy of a slice from a DataFrame.\n",
      "Try using .loc[row_indexer,col_indexer] = value instead\n",
      "\n",
      "See the caveats in the documentation: http://pandas.pydata.org/pandas-docs/stable/user_guide/indexing.html#returning-a-view-versus-a-copy\n",
      "  \n",
      "C:\\Users\\nagar\\Anaconda3\\lib\\site-packages\\ipykernel_launcher.py:7: SettingWithCopyWarning: \n",
      "A value is trying to be set on a copy of a slice from a DataFrame.\n",
      "Try using .loc[row_indexer,col_indexer] = value instead\n",
      "\n",
      "See the caveats in the documentation: http://pandas.pydata.org/pandas-docs/stable/user_guide/indexing.html#returning-a-view-versus-a-copy\n",
      "  import sys\n"
     ]
    }
   ],
   "source": [
    "## Do label encoding for trian data. \n",
    "X_train['Gender'] = le_gender.fit_transform(X_train['Gender'])\n",
    "X_train['Ever_Married'] = le_ever_married.fit_transform(X_train['Ever_Married'])\n",
    "X_train['Graduated'] = le_graduate.fit_transform(X_train['Graduated'])\n",
    "X_train['Profession'] = le_profession.fit_transform(X_train['Profession'])\n",
    "X_train['Spending_Score'] = le_spendinng_score.fit_transform(X_train['Spending_Score'])\n",
    "X_train['Var_1'] = le_var_1.fit_transform(X_train['Var_1'])\n",
    "\n",
    "y_train = le_segmentation.fit_transform(y_train)"
   ]
  },
  {
   "cell_type": "code",
   "execution_count": 1009,
   "metadata": {},
   "outputs": [
    {
     "name": "stderr",
     "output_type": "stream",
     "text": [
      "C:\\Users\\nagar\\Anaconda3\\lib\\site-packages\\ipykernel_launcher.py:2: SettingWithCopyWarning: \n",
      "A value is trying to be set on a copy of a slice from a DataFrame.\n",
      "Try using .loc[row_indexer,col_indexer] = value instead\n",
      "\n",
      "See the caveats in the documentation: http://pandas.pydata.org/pandas-docs/stable/user_guide/indexing.html#returning-a-view-versus-a-copy\n",
      "  \n",
      "C:\\Users\\nagar\\Anaconda3\\lib\\site-packages\\ipykernel_launcher.py:3: SettingWithCopyWarning: \n",
      "A value is trying to be set on a copy of a slice from a DataFrame.\n",
      "Try using .loc[row_indexer,col_indexer] = value instead\n",
      "\n",
      "See the caveats in the documentation: http://pandas.pydata.org/pandas-docs/stable/user_guide/indexing.html#returning-a-view-versus-a-copy\n",
      "  This is separate from the ipykernel package so we can avoid doing imports until\n",
      "C:\\Users\\nagar\\Anaconda3\\lib\\site-packages\\ipykernel_launcher.py:4: SettingWithCopyWarning: \n",
      "A value is trying to be set on a copy of a slice from a DataFrame.\n",
      "Try using .loc[row_indexer,col_indexer] = value instead\n",
      "\n",
      "See the caveats in the documentation: http://pandas.pydata.org/pandas-docs/stable/user_guide/indexing.html#returning-a-view-versus-a-copy\n",
      "  after removing the cwd from sys.path.\n",
      "C:\\Users\\nagar\\Anaconda3\\lib\\site-packages\\ipykernel_launcher.py:5: SettingWithCopyWarning: \n",
      "A value is trying to be set on a copy of a slice from a DataFrame.\n",
      "Try using .loc[row_indexer,col_indexer] = value instead\n",
      "\n",
      "See the caveats in the documentation: http://pandas.pydata.org/pandas-docs/stable/user_guide/indexing.html#returning-a-view-versus-a-copy\n",
      "  \"\"\"\n",
      "C:\\Users\\nagar\\Anaconda3\\lib\\site-packages\\ipykernel_launcher.py:6: SettingWithCopyWarning: \n",
      "A value is trying to be set on a copy of a slice from a DataFrame.\n",
      "Try using .loc[row_indexer,col_indexer] = value instead\n",
      "\n",
      "See the caveats in the documentation: http://pandas.pydata.org/pandas-docs/stable/user_guide/indexing.html#returning-a-view-versus-a-copy\n",
      "  \n",
      "C:\\Users\\nagar\\Anaconda3\\lib\\site-packages\\ipykernel_launcher.py:7: SettingWithCopyWarning: \n",
      "A value is trying to be set on a copy of a slice from a DataFrame.\n",
      "Try using .loc[row_indexer,col_indexer] = value instead\n",
      "\n",
      "See the caveats in the documentation: http://pandas.pydata.org/pandas-docs/stable/user_guide/indexing.html#returning-a-view-versus-a-copy\n",
      "  import sys\n"
     ]
    }
   ],
   "source": [
    "## Do label encoding for validation data. \n",
    "X_test['Gender'] = le_gender.transform(X_test['Gender'])\n",
    "X_test['Ever_Married'] = le_ever_married.transform(X_test['Ever_Married'])\n",
    "X_test['Graduated'] = le_graduate.transform(X_test['Graduated'])\n",
    "X_test['Profession'] = le_profession.transform(X_test['Profession'])\n",
    "X_test['Spending_Score'] = le_spendinng_score.transform(X_test['Spending_Score'])\n",
    "X_test['Var_1'] = le_var_1.transform(X_test['Var_1'])\n",
    "\n",
    "y_test = le_segmentation.transform(y_test)"
   ]
  },
  {
   "cell_type": "code",
   "execution_count": 1010,
   "metadata": {},
   "outputs": [],
   "source": [
    "## Do label encoding for test data. \n",
    "test['Gender'] = le_gender.transform(test['Gender'])\n",
    "test['Ever_Married'] = le_ever_married.transform(test['Ever_Married'])\n",
    "test['Graduated'] = le_graduate.transform(test['Graduated'])\n",
    "test['Profession'] = le_profession.transform(test['Profession'])\n",
    "test['Spending_Score'] = le_spendinng_score.transform(test['Spending_Score'])\n",
    "test['Var_1'] = le_var_1.transform(test['Var_1'])"
   ]
  },
  {
   "cell_type": "code",
   "execution_count": 1011,
   "metadata": {},
   "outputs": [],
   "source": [
    "########################################## Build Different Models #############################################################"
   ]
  },
  {
   "cell_type": "code",
   "execution_count": 1012,
   "metadata": {},
   "outputs": [],
   "source": [
    "########################################## XGB Classifier #####################################################################"
   ]
  },
  {
   "cell_type": "code",
   "execution_count": 1013,
   "metadata": {},
   "outputs": [
    {
     "name": "stderr",
     "output_type": "stream",
     "text": [
      "[Parallel(n_jobs=-1)]: Using backend LokyBackend with 12 concurrent workers.\n"
     ]
    },
    {
     "name": "stdout",
     "output_type": "stream",
     "text": [
      "Fitting 5 folds for each of 64 candidates, totalling 320 fits\n"
     ]
    },
    {
     "name": "stderr",
     "output_type": "stream",
     "text": [
      "[Parallel(n_jobs=-1)]: Done  26 tasks      | elapsed:   13.9s\n",
      "[Parallel(n_jobs=-1)]: Done 176 tasks      | elapsed:   55.4s\n",
      "[Parallel(n_jobs=-1)]: Done 320 out of 320 | elapsed:  2.9min finished\n"
     ]
    },
    {
     "name": "stdout",
     "output_type": "stream",
     "text": [
      "Wall time: 2min 58s\n",
      "0.5395114657827896\n",
      "{'max_depth': 3, 'n_estimators': 200}\n"
     ]
    }
   ],
   "source": [
    "## Model Building with Grid Search.\n",
    "xgb = XGBClassifier() ## Instantiate XGBClassifier model.\n",
    "\n",
    "optimization_dict = {'max_depth': [2,3,4,5,6,7,10,15], ## Trying with different max_depth,n_estimators to find best model.\n",
    "                      'n_estimators': [50,60,70,80,90,100,150,200]} \n",
    "\n",
    "## Build best model with Grid Search params.\n",
    "model = GridSearchCV(xgb, ## XGB model.\n",
    "                     optimization_dict, ## Dictory with different max_depth,n_estimators.\n",
    "                     scoring='accuracy', ## Metric on which we are interested.\n",
    "                     verbose=1, ## For messaging purpose.\n",
    "                     n_jobs=-1) ## Number of jobs to run in parallel. ''-1' means use all processors.\n",
    "\n",
    "%time model.fit(X_train, y_train) ## Fit a model.\n",
    "print(model.best_score_) ## Display best score calues.\n",
    "print(model.best_params_) ## Display best parameters."
   ]
  },
  {
   "cell_type": "code",
   "execution_count": 1014,
   "metadata": {},
   "outputs": [
    {
     "name": "stdout",
     "output_type": "stream",
     "text": [
      "Wall time: 17.1 s\n"
     ]
    },
    {
     "data": {
      "text/plain": [
       "XGBClassifier(base_score=0.5, booster='gbtree', colsample_bylevel=1,\n",
       "              colsample_bynode=1, colsample_bytree=1, gamma=0,\n",
       "              learning_rate=0.001, max_delta_step=0, max_depth=10,\n",
       "              min_child_weight=1, missing=None, n_estimators=200, n_jobs=1,\n",
       "              nthread=None, objective='multi:softprob', random_state=1234,\n",
       "              reg_alpha=0, reg_lambda=1, scale_pos_weight=1, seed=None,\n",
       "              silent=None, subsample=1, verbosity=1)"
      ]
     },
     "execution_count": 1014,
     "metadata": {},
     "output_type": "execute_result"
    }
   ],
   "source": [
    "## Fit a model with best params which we found after grid search CV (above code).\n",
    "model = XGBClassifier(max_depth=10,          ## Depth of the tree.\n",
    "                      n_estimators=200,      ## Number of trees.\n",
    "                      learning_rate = 0.001, ## Learning rate.\n",
    "                      booster ='gbtree',     ## Booster type.\n",
    "                      random_state=1234)     ## Seed value.\n",
    "%time model.fit(X_train, y_train)"
   ]
  },
  {
   "cell_type": "code",
   "execution_count": 1015,
   "metadata": {},
   "outputs": [],
   "source": [
    "## Get the predictions on train data.\n",
    "train_pred = model.predict(X_train)"
   ]
  },
  {
   "cell_type": "code",
   "execution_count": 1016,
   "metadata": {},
   "outputs": [
    {
     "name": "stdout",
     "output_type": "stream",
     "text": [
      "Train Accuracy : 0.676169817167648\n"
     ]
    }
   ],
   "source": [
    "## Display accuracy value for train data.\n",
    "print(\"Train Accuracy :\",accuracy_score(y_train,train_pred))"
   ]
  },
  {
   "cell_type": "code",
   "execution_count": 1017,
   "metadata": {},
   "outputs": [],
   "source": [
    "## Get the predictions on validation data.\n",
    "validation_pred = model.predict(X_test)"
   ]
  },
  {
   "cell_type": "code",
   "execution_count": 1018,
   "metadata": {},
   "outputs": [
    {
     "name": "stdout",
     "output_type": "stream",
     "text": [
      "Validation Accuracy : 0.5037174721189591\n"
     ]
    }
   ],
   "source": [
    "## Display  accuracy value for validation data.\n",
    "print(\"Validation Accuracy :\",accuracy_score(y_test,validation_pred))"
   ]
  },
  {
   "cell_type": "code",
   "execution_count": 1019,
   "metadata": {},
   "outputs": [
    {
     "name": "stdout",
     "output_type": "stream",
     "text": [
      "[[1037  208  143  208]\n",
      " [ 263  732  337  139]\n",
      " [ 133  178 1095  157]\n",
      " [ 200   94   30 1500]]\n"
     ]
    }
   ],
   "source": [
    "## Get the confusion matrix for train data.\n",
    "confusion_matrix_train = confusion_matrix(y_train, train_pred)\n",
    "print(confusion_matrix_train)"
   ]
  },
  {
   "cell_type": "code",
   "execution_count": 1020,
   "metadata": {
    "scrolled": true
   },
   "outputs": [
    {
     "name": "stdout",
     "output_type": "stream",
     "text": [
      "[[160  91  42  83]\n",
      " [110 116 109  52]\n",
      " [ 61  68 221  57]\n",
      " [ 82  28  18 316]]\n"
     ]
    }
   ],
   "source": [
    "## Get the confusion matrix for validation data.\n",
    "confusion_matrix_test = confusion_matrix(y_test, validation_pred)\n",
    "print(confusion_matrix_test)"
   ]
  },
  {
   "cell_type": "code",
   "execution_count": 1021,
   "metadata": {},
   "outputs": [
    {
     "name": "stdout",
     "output_type": "stream",
     "text": [
      "              precision    recall  f1-score   support\n",
      "\n",
      "           0       0.64      0.65      0.64      1596\n",
      "           1       0.60      0.50      0.55      1471\n",
      "           2       0.68      0.70      0.69      1563\n",
      "           3       0.75      0.82      0.78      1824\n",
      "\n",
      "    accuracy                           0.68      6454\n",
      "   macro avg       0.67      0.67      0.67      6454\n",
      "weighted avg       0.67      0.68      0.67      6454\n",
      "\n"
     ]
    }
   ],
   "source": [
    "## Display metrics of train data.\n",
    "print(classification_report(y_true=y_train,y_pred=train_pred))"
   ]
  },
  {
   "cell_type": "code",
   "execution_count": 1022,
   "metadata": {},
   "outputs": [
    {
     "name": "stdout",
     "output_type": "stream",
     "text": [
      "              precision    recall  f1-score   support\n",
      "\n",
      "           0       0.39      0.43      0.41       376\n",
      "           1       0.38      0.30      0.34       387\n",
      "           2       0.57      0.54      0.55       407\n",
      "           3       0.62      0.71      0.66       444\n",
      "\n",
      "    accuracy                           0.50      1614\n",
      "   macro avg       0.49      0.49      0.49      1614\n",
      "weighted avg       0.50      0.50      0.50      1614\n",
      "\n"
     ]
    }
   ],
   "source": [
    "## Display metrics of validation data.\n",
    "print(classification_report(y_true=y_test,y_pred=validation_pred))"
   ]
  },
  {
   "cell_type": "code",
   "execution_count": 1023,
   "metadata": {},
   "outputs": [],
   "source": [
    "## Copy test data into temp.\n",
    "temp = test.copy()"
   ]
  },
  {
   "cell_type": "code",
   "execution_count": 1024,
   "metadata": {},
   "outputs": [],
   "source": [
    "## Get the predictions on test data.\n",
    "y_pred = model.predict(test)"
   ]
  },
  {
   "cell_type": "code",
   "execution_count": 1025,
   "metadata": {},
   "outputs": [
    {
     "data": {
      "text/plain": [
       "array([0, 1, 0, ..., 0, 2, 3])"
      ]
     },
     "execution_count": 1025,
     "metadata": {},
     "output_type": "execute_result"
    }
   ],
   "source": [
    "## Display prediction values.\n",
    "y_pred"
   ]
  },
  {
   "cell_type": "code",
   "execution_count": 1026,
   "metadata": {},
   "outputs": [],
   "source": [
    "## Do Inverse ransform on predictions,so that will get it's original values.\n",
    "temp['Segmentation'] = le_segmentation.inverse_transform(y_pred)"
   ]
  },
  {
   "cell_type": "code",
   "execution_count": 1027,
   "metadata": {},
   "outputs": [],
   "source": [
    "## Reset index of temp data.\n",
    "temp.reset_index(inplace=True)"
   ]
  },
  {
   "cell_type": "code",
   "execution_count": 1028,
   "metadata": {},
   "outputs": [],
   "source": [
    "## Copy ID , Segmentation columns from test to to_submit.\n",
    "to_submit = temp[['ID', 'Segmentation']]"
   ]
  },
  {
   "cell_type": "code",
   "execution_count": 1029,
   "metadata": {},
   "outputs": [
    {
     "data": {
      "text/plain": [
       "D    818\n",
       "A    680\n",
       "C    599\n",
       "B    530\n",
       "Name: Segmentation, dtype: int64"
      ]
     },
     "execution_count": 1029,
     "metadata": {},
     "output_type": "execute_result"
    }
   ],
   "source": [
    "## Get each value count of Segmentation column.\n",
    "to_submit.Segmentation.value_counts()"
   ]
  },
  {
   "cell_type": "code",
   "execution_count": 1030,
   "metadata": {},
   "outputs": [
    {
     "data": {
      "text/plain": [
       "(2627, 2)"
      ]
     },
     "execution_count": 1030,
     "metadata": {},
     "output_type": "execute_result"
    }
   ],
   "source": [
    "## Check dimensions of to_submit data.\n",
    "to_submit.shape"
   ]
  },
  {
   "cell_type": "code",
   "execution_count": 1031,
   "metadata": {},
   "outputs": [
    {
     "data": {
      "text/plain": [
       "(2627, 9)"
      ]
     },
     "execution_count": 1031,
     "metadata": {},
     "output_type": "execute_result"
    }
   ],
   "source": [
    "## Check dimensions of test data.\n",
    "test.shape"
   ]
  },
  {
   "cell_type": "code",
   "execution_count": 1032,
   "metadata": {},
   "outputs": [],
   "source": [
    "## Store to_submit data into a csv file with name XGB. \n",
    "to_submit.to_csv('XGB.csv',index = False)"
   ]
  },
  {
   "cell_type": "code",
   "execution_count": 1033,
   "metadata": {},
   "outputs": [],
   "source": [
    "################################################## Decision Tree ###############################################################"
   ]
  },
  {
   "cell_type": "code",
   "execution_count": 1034,
   "metadata": {},
   "outputs": [],
   "source": [
    "## Instantiate decision tree and  fit a model.\n",
    "clf = DecisionTreeClassifier(max_depth=8) ##  Depth of the tree.\n",
    "clf = clf.fit(X_train, y_train)"
   ]
  },
  {
   "cell_type": "code",
   "execution_count": 1035,
   "metadata": {},
   "outputs": [],
   "source": [
    "## Get GraphViz path.\n",
    "os.environ[\"PATH\"] += os.pathsep + 'C:\\Program Files (x86)\\Graphviz2.38/bin/'"
   ]
  },
  {
   "cell_type": "code",
   "execution_count": 1036,
   "metadata": {},
   "outputs": [],
   "source": [
    "## Import Graphic libraries.\n",
    "from IPython.display import SVG\n",
    "from IPython.display import display\n",
    "from graphviz import Source"
   ]
  },
  {
   "cell_type": "code",
   "execution_count": 1037,
   "metadata": {},
   "outputs": [],
   "source": [
    "## Plot the tree hierarchy.\n",
    "def plottree(m1):\n",
    "    labels=X_train.columns\n",
    "    graph = Source(export_graphviz(m1, out_file=None,feature_names=labels, class_names=['A', 'B','C','D'] ,filled = True))\n",
    "    display(SVG(graph.pipe(format='svg')))"
   ]
  },
  {
   "cell_type": "code",
   "execution_count": 1038,
   "metadata": {},
   "outputs": [
    {
     "data": {
      "image/svg+xml": [
       "<svg height=\"1028pt\" viewBox=\"0.00 0.00 22908.50 1028.00\" width=\"22909pt\" xmlns=\"http://www.w3.org/2000/svg\" xmlns:xlink=\"http://www.w3.org/1999/xlink\">\n",
       "<g class=\"graph\" id=\"graph0\" transform=\"scale(1 1) rotate(0) translate(4 1024)\">\n",
       "<title>Tree</title>\n",
       "<polygon fill=\"white\" points=\"-4,4 -4,-1024 22904.5,-1024 22904.5,4 -4,4\" stroke=\"none\"/>\n",
       "<!-- 0 -->\n",
       "<g class=\"node\" id=\"node1\"><title>0</title>\n",
       "<polygon fill=\"#fdf6fe\" points=\"8291.5,-1020 8091.5,-1020 8091.5,-937 8291.5,-937 8291.5,-1020\" stroke=\"black\"/>\n",
       "<text font-family=\"Times New Roman,serif\" font-size=\"14.00\" text-anchor=\"middle\" x=\"8191.5\" y=\"-1004.8\">Age &lt;= 34.0</text>\n",
       "<text font-family=\"Times New Roman,serif\" font-size=\"14.00\" text-anchor=\"middle\" x=\"8191.5\" y=\"-989.8\">gini = 0.748</text>\n",
       "<text font-family=\"Times New Roman,serif\" font-size=\"14.00\" text-anchor=\"middle\" x=\"8191.5\" y=\"-974.8\">samples = 6454</text>\n",
       "<text font-family=\"Times New Roman,serif\" font-size=\"14.00\" text-anchor=\"middle\" x=\"8191.5\" y=\"-959.8\">value = [1596, 1471, 1563, 1824]</text>\n",
       "<text font-family=\"Times New Roman,serif\" font-size=\"14.00\" text-anchor=\"middle\" x=\"8191.5\" y=\"-944.8\">class = D</text>\n",
       "</g>\n",
       "<!-- 1 -->\n",
       "<g class=\"node\" id=\"node2\"><title>1</title>\n",
       "<polygon fill=\"#eca0f3\" points=\"4613.5,-901 4433.5,-901 4433.5,-818 4613.5,-818 4613.5,-901\" stroke=\"black\"/>\n",
       "<text font-family=\"Times New Roman,serif\" font-size=\"14.00\" text-anchor=\"middle\" x=\"4523.5\" y=\"-885.8\">Age &lt;= 24.0</text>\n",
       "<text font-family=\"Times New Roman,serif\" font-size=\"14.00\" text-anchor=\"middle\" x=\"4523.5\" y=\"-870.8\">gini = 0.595</text>\n",
       "<text font-family=\"Times New Roman,serif\" font-size=\"14.00\" text-anchor=\"middle\" x=\"4523.5\" y=\"-855.8\">samples = 2171</text>\n",
       "<text font-family=\"Times New Roman,serif\" font-size=\"14.00\" text-anchor=\"middle\" x=\"4523.5\" y=\"-840.8\">value = [438, 218, 246, 1269]</text>\n",
       "<text font-family=\"Times New Roman,serif\" font-size=\"14.00\" text-anchor=\"middle\" x=\"4523.5\" y=\"-825.8\">class = D</text>\n",
       "</g>\n",
       "<!-- 0&#45;&gt;1 -->\n",
       "<g class=\"edge\" id=\"edge1\"><title>0-&gt;1</title>\n",
       "<path d=\"M8091.49,-974.31C7568.08,-957.615 5148.37,-880.432 4623.94,-863.704\" fill=\"none\" stroke=\"black\"/>\n",
       "<polygon fill=\"black\" points=\"4623.86,-860.199 4613.75,-863.379 4623.63,-867.196 4623.86,-860.199\" stroke=\"black\"/>\n",
       "<text font-family=\"Times New Roman,serif\" font-size=\"14.00\" text-anchor=\"middle\" x=\"4630.86\" y=\"-877.911\">True</text>\n",
       "</g>\n",
       "<!-- 146 -->\n",
       "<g class=\"node\" id=\"node147\"><title>146</title>\n",
       "<polygon fill=\"#fbfdfe\" points=\"11914.5,-901 11720.5,-901 11720.5,-818 11914.5,-818 11914.5,-901\" stroke=\"black\"/>\n",
       "<text font-family=\"Times New Roman,serif\" font-size=\"14.00\" text-anchor=\"middle\" x=\"11817.5\" y=\"-885.8\">Spending_Score &lt;= 1.5</text>\n",
       "<text font-family=\"Times New Roman,serif\" font-size=\"14.00\" text-anchor=\"middle\" x=\"11817.5\" y=\"-870.8\">gini = 0.73</text>\n",
       "<text font-family=\"Times New Roman,serif\" font-size=\"14.00\" text-anchor=\"middle\" x=\"11817.5\" y=\"-855.8\">samples = 4283</text>\n",
       "<text font-family=\"Times New Roman,serif\" font-size=\"14.00\" text-anchor=\"middle\" x=\"11817.5\" y=\"-840.8\">value = [1158, 1253, 1317, 555]</text>\n",
       "<text font-family=\"Times New Roman,serif\" font-size=\"14.00\" text-anchor=\"middle\" x=\"11817.5\" y=\"-825.8\">class = C</text>\n",
       "</g>\n",
       "<!-- 0&#45;&gt;146 -->\n",
       "<g class=\"edge\" id=\"edge146\"><title>0-&gt;146</title>\n",
       "<path d=\"M8291.79,-974.264C8809.49,-957.559 11175.9,-881.202 11710.1,-863.964\" fill=\"none\" stroke=\"black\"/>\n",
       "<polygon fill=\"black\" points=\"11710.3,-867.462 11720.1,-863.641 11710,-860.466 11710.3,-867.462\" stroke=\"black\"/>\n",
       "<text font-family=\"Times New Roman,serif\" font-size=\"14.00\" text-anchor=\"middle\" x=\"11703\" y=\"-878.18\">False</text>\n",
       "</g>\n",
       "<!-- 2 -->\n",
       "<g class=\"node\" id=\"node3\"><title>2</title>\n",
       "<polygon fill=\"#db4ee8\" points=\"1608,-782 1455,-782 1455,-699 1608,-699 1608,-782\" stroke=\"black\"/>\n",
       "<text font-family=\"Times New Roman,serif\" font-size=\"14.00\" text-anchor=\"middle\" x=\"1531.5\" y=\"-766.8\">Profession &lt;= 4.5</text>\n",
       "<text font-family=\"Times New Roman,serif\" font-size=\"14.00\" text-anchor=\"middle\" x=\"1531.5\" y=\"-751.8\">gini = 0.192</text>\n",
       "<text font-family=\"Times New Roman,serif\" font-size=\"14.00\" text-anchor=\"middle\" x=\"1531.5\" y=\"-736.8\">samples = 629</text>\n",
       "<text font-family=\"Times New Roman,serif\" font-size=\"14.00\" text-anchor=\"middle\" x=\"1531.5\" y=\"-721.8\">value = [20, 17, 28, 564]</text>\n",
       "<text font-family=\"Times New Roman,serif\" font-size=\"14.00\" text-anchor=\"middle\" x=\"1531.5\" y=\"-706.8\">class = D</text>\n",
       "</g>\n",
       "<!-- 1&#45;&gt;2 -->\n",
       "<g class=\"edge\" id=\"edge2\"><title>1-&gt;2</title>\n",
       "<path d=\"M4433.14,-854.967C3990.41,-837.654 2053.94,-761.93 1618.6,-744.906\" fill=\"none\" stroke=\"black\"/>\n",
       "<polygon fill=\"black\" points=\"1618.43,-741.397 1608.3,-744.503 1618.15,-748.391 1618.43,-741.397\" stroke=\"black\"/>\n",
       "</g>\n",
       "<!-- 43 -->\n",
       "<g class=\"node\" id=\"node44\"><title>43</title>\n",
       "<polygon fill=\"#f5ccf8\" points=\"4610,-782 4437,-782 4437,-699 4610,-699 4610,-782\" stroke=\"black\"/>\n",
       "<text font-family=\"Times New Roman,serif\" font-size=\"14.00\" text-anchor=\"middle\" x=\"4523.5\" y=\"-766.8\">Profession &lt;= 0.5</text>\n",
       "<text font-family=\"Times New Roman,serif\" font-size=\"14.00\" text-anchor=\"middle\" x=\"4523.5\" y=\"-751.8\">gini = 0.681</text>\n",
       "<text font-family=\"Times New Roman,serif\" font-size=\"14.00\" text-anchor=\"middle\" x=\"4523.5\" y=\"-736.8\">samples = 1542</text>\n",
       "<text font-family=\"Times New Roman,serif\" font-size=\"14.00\" text-anchor=\"middle\" x=\"4523.5\" y=\"-721.8\">value = [418, 201, 218, 705]</text>\n",
       "<text font-family=\"Times New Roman,serif\" font-size=\"14.00\" text-anchor=\"middle\" x=\"4523.5\" y=\"-706.8\">class = D</text>\n",
       "</g>\n",
       "<!-- 1&#45;&gt;43 -->\n",
       "<g class=\"edge\" id=\"edge43\"><title>1-&gt;43</title>\n",
       "<path d=\"M4523.5,-817.907C4523.5,-809.649 4523.5,-800.864 4523.5,-792.302\" fill=\"none\" stroke=\"black\"/>\n",
       "<polygon fill=\"black\" points=\"4527,-792.021 4523.5,-782.021 4520,-792.021 4527,-792.021\" stroke=\"black\"/>\n",
       "</g>\n",
       "<!-- 3 -->\n",
       "<g class=\"node\" id=\"node4\"><title>3</title>\n",
       "<polygon fill=\"#eb9cf2\" points=\"1344.5,-663 1204.5,-663 1204.5,-580 1344.5,-580 1344.5,-663\" stroke=\"black\"/>\n",
       "<text font-family=\"Times New Roman,serif\" font-size=\"14.00\" text-anchor=\"middle\" x=\"1274.5\" y=\"-647.8\">Graduated &lt;= 0.5</text>\n",
       "<text font-family=\"Times New Roman,serif\" font-size=\"14.00\" text-anchor=\"middle\" x=\"1274.5\" y=\"-632.8\">gini = 0.587</text>\n",
       "<text font-family=\"Times New Roman,serif\" font-size=\"14.00\" text-anchor=\"middle\" x=\"1274.5\" y=\"-617.8\">samples = 91</text>\n",
       "<text font-family=\"Times New Roman,serif\" font-size=\"14.00\" text-anchor=\"middle\" x=\"1274.5\" y=\"-602.8\">value = [13, 7, 17, 54]</text>\n",
       "<text font-family=\"Times New Roman,serif\" font-size=\"14.00\" text-anchor=\"middle\" x=\"1274.5\" y=\"-587.8\">class = D</text>\n",
       "</g>\n",
       "<!-- 2&#45;&gt;3 -->\n",
       "<g class=\"edge\" id=\"edge3\"><title>2-&gt;3</title>\n",
       "<path d=\"M1454.74,-704.555C1422.97,-690.091 1386.13,-673.321 1354.07,-658.726\" fill=\"none\" stroke=\"black\"/>\n",
       "<polygon fill=\"black\" points=\"1355.28,-655.43 1344.73,-654.472 1352.38,-661.801 1355.28,-655.43\" stroke=\"black\"/>\n",
       "</g>\n",
       "<!-- 26 -->\n",
       "<g class=\"node\" id=\"node27\"><title>26</title>\n",
       "<polygon fill=\"#d944e6\" points=\"1604.5,-663 1458.5,-663 1458.5,-580 1604.5,-580 1604.5,-663\" stroke=\"black\"/>\n",
       "<text font-family=\"Times New Roman,serif\" font-size=\"14.00\" text-anchor=\"middle\" x=\"1531.5\" y=\"-647.8\">Profession &lt;= 5.5</text>\n",
       "<text font-family=\"Times New Roman,serif\" font-size=\"14.00\" text-anchor=\"middle\" x=\"1531.5\" y=\"-632.8\">gini = 0.1</text>\n",
       "<text font-family=\"Times New Roman,serif\" font-size=\"14.00\" text-anchor=\"middle\" x=\"1531.5\" y=\"-617.8\">samples = 538</text>\n",
       "<text font-family=\"Times New Roman,serif\" font-size=\"14.00\" text-anchor=\"middle\" x=\"1531.5\" y=\"-602.8\">value = [7, 10, 11, 510]</text>\n",
       "<text font-family=\"Times New Roman,serif\" font-size=\"14.00\" text-anchor=\"middle\" x=\"1531.5\" y=\"-587.8\">class = D</text>\n",
       "</g>\n",
       "<!-- 2&#45;&gt;26 -->\n",
       "<g class=\"edge\" id=\"edge26\"><title>2-&gt;26</title>\n",
       "<path d=\"M1531.5,-698.907C1531.5,-690.649 1531.5,-681.864 1531.5,-673.302\" fill=\"none\" stroke=\"black\"/>\n",
       "<polygon fill=\"black\" points=\"1535,-673.021 1531.5,-663.021 1528,-673.021 1535,-673.021\" stroke=\"black\"/>\n",
       "</g>\n",
       "<!-- 4 -->\n",
       "<g class=\"node\" id=\"node5\"><title>4</title>\n",
       "<polygon fill=\"#ea98f1\" points=\"1167.5,-544 1027.5,-544 1027.5,-461 1167.5,-461 1167.5,-544\" stroke=\"black\"/>\n",
       "<text font-family=\"Times New Roman,serif\" font-size=\"14.00\" text-anchor=\"middle\" x=\"1097.5\" y=\"-528.8\">Family_Size &lt;= 6.5</text>\n",
       "<text font-family=\"Times New Roman,serif\" font-size=\"14.00\" text-anchor=\"middle\" x=\"1097.5\" y=\"-513.8\">gini = 0.567</text>\n",
       "<text font-family=\"Times New Roman,serif\" font-size=\"14.00\" text-anchor=\"middle\" x=\"1097.5\" y=\"-498.8\">samples = 88</text>\n",
       "<text font-family=\"Times New Roman,serif\" font-size=\"14.00\" text-anchor=\"middle\" x=\"1097.5\" y=\"-483.8\">value = [10, 7, 17, 54]</text>\n",
       "<text font-family=\"Times New Roman,serif\" font-size=\"14.00\" text-anchor=\"middle\" x=\"1097.5\" y=\"-468.8\">class = D</text>\n",
       "</g>\n",
       "<!-- 3&#45;&gt;4 -->\n",
       "<g class=\"edge\" id=\"edge4\"><title>3-&gt;4</title>\n",
       "<path d=\"M1213.09,-579.907C1198.4,-570.197 1182.61,-559.758 1167.56,-549.811\" fill=\"none\" stroke=\"black\"/>\n",
       "<polygon fill=\"black\" points=\"1169.07,-546.615 1158.8,-544.021 1165.21,-552.455 1169.07,-546.615\" stroke=\"black\"/>\n",
       "</g>\n",
       "<!-- 25 -->\n",
       "<g class=\"node\" id=\"node26\"><title>25</title>\n",
       "<polygon fill=\"#e58139\" points=\"1334,-536.5 1215,-536.5 1215,-468.5 1334,-468.5 1334,-536.5\" stroke=\"black\"/>\n",
       "<text font-family=\"Times New Roman,serif\" font-size=\"14.00\" text-anchor=\"middle\" x=\"1274.5\" y=\"-521.3\">gini = 0.0</text>\n",
       "<text font-family=\"Times New Roman,serif\" font-size=\"14.00\" text-anchor=\"middle\" x=\"1274.5\" y=\"-506.3\">samples = 3</text>\n",
       "<text font-family=\"Times New Roman,serif\" font-size=\"14.00\" text-anchor=\"middle\" x=\"1274.5\" y=\"-491.3\">value = [3, 0, 0, 0]</text>\n",
       "<text font-family=\"Times New Roman,serif\" font-size=\"14.00\" text-anchor=\"middle\" x=\"1274.5\" y=\"-476.3\">class = A</text>\n",
       "</g>\n",
       "<!-- 3&#45;&gt;25 -->\n",
       "<g class=\"edge\" id=\"edge25\"><title>3-&gt;25</title>\n",
       "<path d=\"M1274.5,-579.907C1274.5,-569.204 1274.5,-557.615 1274.5,-546.776\" fill=\"none\" stroke=\"black\"/>\n",
       "<polygon fill=\"black\" points=\"1278,-546.667 1274.5,-536.667 1271,-546.667 1278,-546.667\" stroke=\"black\"/>\n",
       "</g>\n",
       "<!-- 5 -->\n",
       "<g class=\"node\" id=\"node6\"><title>5</title>\n",
       "<polygon fill=\"#e990f0\" points=\"954,-425 821,-425 821,-342 954,-342 954,-425\" stroke=\"black\"/>\n",
       "<text font-family=\"Times New Roman,serif\" font-size=\"14.00\" text-anchor=\"middle\" x=\"887.5\" y=\"-409.8\">Var_1 &lt;= 3.5</text>\n",
       "<text font-family=\"Times New Roman,serif\" font-size=\"14.00\" text-anchor=\"middle\" x=\"887.5\" y=\"-394.8\">gini = 0.535</text>\n",
       "<text font-family=\"Times New Roman,serif\" font-size=\"14.00\" text-anchor=\"middle\" x=\"887.5\" y=\"-379.8\">samples = 84</text>\n",
       "<text font-family=\"Times New Roman,serif\" font-size=\"14.00\" text-anchor=\"middle\" x=\"887.5\" y=\"-364.8\">value = [9, 5, 16, 54]</text>\n",
       "<text font-family=\"Times New Roman,serif\" font-size=\"14.00\" text-anchor=\"middle\" x=\"887.5\" y=\"-349.8\">class = D</text>\n",
       "</g>\n",
       "<!-- 4&#45;&gt;5 -->\n",
       "<g class=\"edge\" id=\"edge5\"><title>4-&gt;5</title>\n",
       "<path d=\"M1027.28,-462.378C1006.62,-450.869 983.941,-438.232 962.97,-426.547\" fill=\"none\" stroke=\"black\"/>\n",
       "<polygon fill=\"black\" points=\"964.537,-423.414 954.097,-421.604 961.13,-429.529 964.537,-423.414\" stroke=\"black\"/>\n",
       "</g>\n",
       "<!-- 20 -->\n",
       "<g class=\"node\" id=\"node21\"><title>20</title>\n",
       "<polygon fill=\"#c2f6bd\" points=\"1177,-425 1018,-425 1018,-342 1177,-342 1177,-425\" stroke=\"black\"/>\n",
       "<text font-family=\"Times New Roman,serif\" font-size=\"14.00\" text-anchor=\"middle\" x=\"1097.5\" y=\"-409.8\">Work_Experience &lt;= 1.5</text>\n",
       "<text font-family=\"Times New Roman,serif\" font-size=\"14.00\" text-anchor=\"middle\" x=\"1097.5\" y=\"-394.8\">gini = 0.625</text>\n",
       "<text font-family=\"Times New Roman,serif\" font-size=\"14.00\" text-anchor=\"middle\" x=\"1097.5\" y=\"-379.8\">samples = 4</text>\n",
       "<text font-family=\"Times New Roman,serif\" font-size=\"14.00\" text-anchor=\"middle\" x=\"1097.5\" y=\"-364.8\">value = [1, 2, 1, 0]</text>\n",
       "<text font-family=\"Times New Roman,serif\" font-size=\"14.00\" text-anchor=\"middle\" x=\"1097.5\" y=\"-349.8\">class = B</text>\n",
       "</g>\n",
       "<!-- 4&#45;&gt;20 -->\n",
       "<g class=\"edge\" id=\"edge20\"><title>4-&gt;20</title>\n",
       "<path d=\"M1097.5,-460.907C1097.5,-452.649 1097.5,-443.864 1097.5,-435.302\" fill=\"none\" stroke=\"black\"/>\n",
       "<polygon fill=\"black\" points=\"1101,-435.021 1097.5,-425.021 1094,-435.021 1101,-435.021\" stroke=\"black\"/>\n",
       "</g>\n",
       "<!-- 6 -->\n",
       "<g class=\"node\" id=\"node7\"><title>6</title>\n",
       "<polygon fill=\"#e374ed\" points=\"471.5,-306 345.5,-306 345.5,-223 471.5,-223 471.5,-306\" stroke=\"black\"/>\n",
       "<text font-family=\"Times New Roman,serif\" font-size=\"14.00\" text-anchor=\"middle\" x=\"408.5\" y=\"-290.8\">Family_Size &lt;= 2.5</text>\n",
       "<text font-family=\"Times New Roman,serif\" font-size=\"14.00\" text-anchor=\"middle\" x=\"408.5\" y=\"-275.8\">gini = 0.438</text>\n",
       "<text font-family=\"Times New Roman,serif\" font-size=\"14.00\" text-anchor=\"middle\" x=\"408.5\" y=\"-260.8\">samples = 30</text>\n",
       "<text font-family=\"Times New Roman,serif\" font-size=\"14.00\" text-anchor=\"middle\" x=\"408.5\" y=\"-245.8\">value = [3, 3, 2, 22]</text>\n",
       "<text font-family=\"Times New Roman,serif\" font-size=\"14.00\" text-anchor=\"middle\" x=\"408.5\" y=\"-230.8\">class = D</text>\n",
       "</g>\n",
       "<!-- 5&#45;&gt;6 -->\n",
       "<g class=\"edge\" id=\"edge6\"><title>5-&gt;6</title>\n",
       "<path d=\"M820.897,-366.232C731.732,-344.452 574.107,-305.951 481.703,-283.38\" fill=\"none\" stroke=\"black\"/>\n",
       "<polygon fill=\"black\" points=\"482.413,-279.951 471.868,-280.978 480.752,-286.751 482.413,-279.951\" stroke=\"black\"/>\n",
       "</g>\n",
       "<!-- 13 -->\n",
       "<g class=\"node\" id=\"node14\"><title>13</title>\n",
       "<polygon fill=\"#eda6f3\" points=\"954,-306 821,-306 821,-223 954,-223 954,-306\" stroke=\"black\"/>\n",
       "<text font-family=\"Times New Roman,serif\" font-size=\"14.00\" text-anchor=\"middle\" x=\"887.5\" y=\"-290.8\">Age &lt;= 20.5</text>\n",
       "<text font-family=\"Times New Roman,serif\" font-size=\"14.00\" text-anchor=\"middle\" x=\"887.5\" y=\"-275.8\">gini = 0.568</text>\n",
       "<text font-family=\"Times New Roman,serif\" font-size=\"14.00\" text-anchor=\"middle\" x=\"887.5\" y=\"-260.8\">samples = 54</text>\n",
       "<text font-family=\"Times New Roman,serif\" font-size=\"14.00\" text-anchor=\"middle\" x=\"887.5\" y=\"-245.8\">value = [6, 2, 14, 32]</text>\n",
       "<text font-family=\"Times New Roman,serif\" font-size=\"14.00\" text-anchor=\"middle\" x=\"887.5\" y=\"-230.8\">class = D</text>\n",
       "</g>\n",
       "<!-- 5&#45;&gt;13 -->\n",
       "<g class=\"edge\" id=\"edge13\"><title>5-&gt;13</title>\n",
       "<path d=\"M887.5,-341.907C887.5,-333.649 887.5,-324.864 887.5,-316.302\" fill=\"none\" stroke=\"black\"/>\n",
       "<polygon fill=\"black\" points=\"891,-316.021 887.5,-306.021 884,-316.021 891,-316.021\" stroke=\"black\"/>\n",
       "</g>\n",
       "<!-- 7 -->\n",
       "<g class=\"node\" id=\"node8\"><title>7</title>\n",
       "<polygon fill=\"#f2bdf6\" points=\"256,-187 137,-187 137,-104 256,-104 256,-187\" stroke=\"black\"/>\n",
       "<text font-family=\"Times New Roman,serif\" font-size=\"14.00\" text-anchor=\"middle\" x=\"196.5\" y=\"-171.8\">Profession &lt;= 1.5</text>\n",
       "<text font-family=\"Times New Roman,serif\" font-size=\"14.00\" text-anchor=\"middle\" x=\"196.5\" y=\"-156.8\">gini = 0.656</text>\n",
       "<text font-family=\"Times New Roman,serif\" font-size=\"14.00\" text-anchor=\"middle\" x=\"196.5\" y=\"-141.8\">samples = 8</text>\n",
       "<text font-family=\"Times New Roman,serif\" font-size=\"14.00\" text-anchor=\"middle\" x=\"196.5\" y=\"-126.8\">value = [1, 2, 1, 4]</text>\n",
       "<text font-family=\"Times New Roman,serif\" font-size=\"14.00\" text-anchor=\"middle\" x=\"196.5\" y=\"-111.8\">class = D</text>\n",
       "</g>\n",
       "<!-- 6&#45;&gt;7 -->\n",
       "<g class=\"edge\" id=\"edge7\"><title>6-&gt;7</title>\n",
       "<path d=\"M345.467,-228.713C320.137,-214.734 290.866,-198.58 265.012,-184.311\" fill=\"none\" stroke=\"black\"/>\n",
       "<polygon fill=\"black\" points=\"266.467,-181.116 256.021,-179.349 263.085,-187.245 266.467,-181.116\" stroke=\"black\"/>\n",
       "</g>\n",
       "<!-- 10 -->\n",
       "<g class=\"node\" id=\"node11\"><title>10</title>\n",
       "<polygon fill=\"#df61ea\" points=\"471.5,-187 345.5,-187 345.5,-104 471.5,-104 471.5,-187\" stroke=\"black\"/>\n",
       "<text font-family=\"Times New Roman,serif\" font-size=\"14.00\" text-anchor=\"middle\" x=\"408.5\" y=\"-171.8\">Profession &lt;= 3.5</text>\n",
       "<text font-family=\"Times New Roman,serif\" font-size=\"14.00\" text-anchor=\"middle\" x=\"408.5\" y=\"-156.8\">gini = 0.318</text>\n",
       "<text font-family=\"Times New Roman,serif\" font-size=\"14.00\" text-anchor=\"middle\" x=\"408.5\" y=\"-141.8\">samples = 22</text>\n",
       "<text font-family=\"Times New Roman,serif\" font-size=\"14.00\" text-anchor=\"middle\" x=\"408.5\" y=\"-126.8\">value = [2, 1, 1, 18]</text>\n",
       "<text font-family=\"Times New Roman,serif\" font-size=\"14.00\" text-anchor=\"middle\" x=\"408.5\" y=\"-111.8\">class = D</text>\n",
       "</g>\n",
       "<!-- 6&#45;&gt;10 -->\n",
       "<g class=\"edge\" id=\"edge10\"><title>6-&gt;10</title>\n",
       "<path d=\"M408.5,-222.907C408.5,-214.649 408.5,-205.864 408.5,-197.302\" fill=\"none\" stroke=\"black\"/>\n",
       "<polygon fill=\"black\" points=\"412,-197.021 408.5,-187.021 405,-197.021 412,-197.021\" stroke=\"black\"/>\n",
       "</g>\n",
       "<!-- 8 -->\n",
       "<g class=\"node\" id=\"node9\"><title>8</title>\n",
       "<polygon fill=\"#c2f6bd\" points=\"119,-68 -7.10543e-015,-68 -7.10543e-015,-0 119,-0 119,-68\" stroke=\"black\"/>\n",
       "<text font-family=\"Times New Roman,serif\" font-size=\"14.00\" text-anchor=\"middle\" x=\"59.5\" y=\"-52.8\">gini = 0.625</text>\n",
       "<text font-family=\"Times New Roman,serif\" font-size=\"14.00\" text-anchor=\"middle\" x=\"59.5\" y=\"-37.8\">samples = 4</text>\n",
       "<text font-family=\"Times New Roman,serif\" font-size=\"14.00\" text-anchor=\"middle\" x=\"59.5\" y=\"-22.8\">value = [1, 2, 0, 1]</text>\n",
       "<text font-family=\"Times New Roman,serif\" font-size=\"14.00\" text-anchor=\"middle\" x=\"59.5\" y=\"-7.8\">class = B</text>\n",
       "</g>\n",
       "<!-- 7&#45;&gt;8 -->\n",
       "<g class=\"edge\" id=\"edge8\"><title>7-&gt;8</title>\n",
       "<path d=\"M145.486,-103.726C133.618,-94.2406 121,-84.1551 109.19,-74.7159\" fill=\"none\" stroke=\"black\"/>\n",
       "<polygon fill=\"black\" points=\"111.159,-71.8091 101.163,-68.2996 106.789,-77.2771 111.159,-71.8091\" stroke=\"black\"/>\n",
       "</g>\n",
       "<!-- 9 -->\n",
       "<g class=\"node\" id=\"node10\"><title>9</title>\n",
       "<polygon fill=\"#e47bee\" points=\"256,-68 137,-68 137,-0 256,-0 256,-68\" stroke=\"black\"/>\n",
       "<text font-family=\"Times New Roman,serif\" font-size=\"14.00\" text-anchor=\"middle\" x=\"196.5\" y=\"-52.8\">gini = 0.375</text>\n",
       "<text font-family=\"Times New Roman,serif\" font-size=\"14.00\" text-anchor=\"middle\" x=\"196.5\" y=\"-37.8\">samples = 4</text>\n",
       "<text font-family=\"Times New Roman,serif\" font-size=\"14.00\" text-anchor=\"middle\" x=\"196.5\" y=\"-22.8\">value = [0, 0, 1, 3]</text>\n",
       "<text font-family=\"Times New Roman,serif\" font-size=\"14.00\" text-anchor=\"middle\" x=\"196.5\" y=\"-7.8\">class = D</text>\n",
       "</g>\n",
       "<!-- 7&#45;&gt;9 -->\n",
       "<g class=\"edge\" id=\"edge9\"><title>7-&gt;9</title>\n",
       "<path d=\"M196.5,-103.726C196.5,-95.5175 196.5,-86.8595 196.5,-78.56\" fill=\"none\" stroke=\"black\"/>\n",
       "<polygon fill=\"black\" points=\"200,-78.2996 196.5,-68.2996 193,-78.2996 200,-78.2996\" stroke=\"black\"/>\n",
       "</g>\n",
       "<!-- 11 -->\n",
       "<g class=\"node\" id=\"node12\"><title>11</title>\n",
       "<polygon fill=\"#dd57e9\" points=\"400.5,-68 274.5,-68 274.5,-0 400.5,-0 400.5,-68\" stroke=\"black\"/>\n",
       "<text font-family=\"Times New Roman,serif\" font-size=\"14.00\" text-anchor=\"middle\" x=\"337.5\" y=\"-52.8\">gini = 0.259</text>\n",
       "<text font-family=\"Times New Roman,serif\" font-size=\"14.00\" text-anchor=\"middle\" x=\"337.5\" y=\"-37.8\">samples = 21</text>\n",
       "<text font-family=\"Times New Roman,serif\" font-size=\"14.00\" text-anchor=\"middle\" x=\"337.5\" y=\"-22.8\">value = [1, 1, 1, 18]</text>\n",
       "<text font-family=\"Times New Roman,serif\" font-size=\"14.00\" text-anchor=\"middle\" x=\"337.5\" y=\"-7.8\">class = D</text>\n",
       "</g>\n",
       "<!-- 10&#45;&gt;11 -->\n",
       "<g class=\"edge\" id=\"edge11\"><title>10-&gt;11</title>\n",
       "<path d=\"M382.062,-103.726C376.385,-94.9703 370.376,-85.7032 364.671,-76.9051\" fill=\"none\" stroke=\"black\"/>\n",
       "<polygon fill=\"black\" points=\"367.469,-74.786 359.092,-68.2996 361.595,-78.5943 367.469,-74.786\" stroke=\"black\"/>\n",
       "</g>\n",
       "<!-- 12 -->\n",
       "<g class=\"node\" id=\"node13\"><title>12</title>\n",
       "<polygon fill=\"#e58139\" points=\"538,-68 419,-68 419,-0 538,-0 538,-68\" stroke=\"black\"/>\n",
       "<text font-family=\"Times New Roman,serif\" font-size=\"14.00\" text-anchor=\"middle\" x=\"478.5\" y=\"-52.8\">gini = 0.0</text>\n",
       "<text font-family=\"Times New Roman,serif\" font-size=\"14.00\" text-anchor=\"middle\" x=\"478.5\" y=\"-37.8\">samples = 1</text>\n",
       "<text font-family=\"Times New Roman,serif\" font-size=\"14.00\" text-anchor=\"middle\" x=\"478.5\" y=\"-22.8\">value = [1, 0, 0, 0]</text>\n",
       "<text font-family=\"Times New Roman,serif\" font-size=\"14.00\" text-anchor=\"middle\" x=\"478.5\" y=\"-7.8\">class = A</text>\n",
       "</g>\n",
       "<!-- 10&#45;&gt;12 -->\n",
       "<g class=\"edge\" id=\"edge12\"><title>10-&gt;12</title>\n",
       "<path d=\"M434.565,-103.726C440.163,-94.9703 446.087,-85.7032 451.711,-76.9051\" fill=\"none\" stroke=\"black\"/>\n",
       "<polygon fill=\"black\" points=\"454.775,-78.6103 457.213,-68.2996 448.877,-74.8399 454.775,-78.6103\" stroke=\"black\"/>\n",
       "</g>\n",
       "<!-- 14 -->\n",
       "<g class=\"node\" id=\"node15\"><title>14</title>\n",
       "<polygon fill=\"#e272ec\" points=\"812.5,-187 686.5,-187 686.5,-104 812.5,-104 812.5,-187\" stroke=\"black\"/>\n",
       "<text font-family=\"Times New Roman,serif\" font-size=\"14.00\" text-anchor=\"middle\" x=\"749.5\" y=\"-171.8\">Profession &lt;= 2.5</text>\n",
       "<text font-family=\"Times New Roman,serif\" font-size=\"14.00\" text-anchor=\"middle\" x=\"749.5\" y=\"-156.8\">gini = 0.406</text>\n",
       "<text font-family=\"Times New Roman,serif\" font-size=\"14.00\" text-anchor=\"middle\" x=\"749.5\" y=\"-141.8\">samples = 24</text>\n",
       "<text font-family=\"Times New Roman,serif\" font-size=\"14.00\" text-anchor=\"middle\" x=\"749.5\" y=\"-126.8\">value = [3, 0, 3, 18]</text>\n",
       "<text font-family=\"Times New Roman,serif\" font-size=\"14.00\" text-anchor=\"middle\" x=\"749.5\" y=\"-111.8\">class = D</text>\n",
       "</g>\n",
       "<!-- 13&#45;&gt;14 -->\n",
       "<g class=\"edge\" id=\"edge14\"><title>13-&gt;14</title>\n",
       "<path d=\"M839.622,-222.907C828.489,-213.469 816.546,-203.343 805.112,-193.649\" fill=\"none\" stroke=\"black\"/>\n",
       "<polygon fill=\"black\" points=\"807.185,-190.818 797.294,-187.021 802.658,-196.157 807.185,-190.818\" stroke=\"black\"/>\n",
       "</g>\n",
       "<!-- 17 -->\n",
       "<g class=\"node\" id=\"node18\"><title>17</title>\n",
       "<polygon fill=\"#f9e0fb\" points=\"964,-187 831,-187 831,-104 964,-104 964,-187\" stroke=\"black\"/>\n",
       "<text font-family=\"Times New Roman,serif\" font-size=\"14.00\" text-anchor=\"middle\" x=\"897.5\" y=\"-171.8\">Family_Size &lt;= 1.0</text>\n",
       "<text font-family=\"Times New Roman,serif\" font-size=\"14.00\" text-anchor=\"middle\" x=\"897.5\" y=\"-156.8\">gini = 0.633</text>\n",
       "<text font-family=\"Times New Roman,serif\" font-size=\"14.00\" text-anchor=\"middle\" x=\"897.5\" y=\"-141.8\">samples = 30</text>\n",
       "<text font-family=\"Times New Roman,serif\" font-size=\"14.00\" text-anchor=\"middle\" x=\"897.5\" y=\"-126.8\">value = [3, 2, 11, 14]</text>\n",
       "<text font-family=\"Times New Roman,serif\" font-size=\"14.00\" text-anchor=\"middle\" x=\"897.5\" y=\"-111.8\">class = D</text>\n",
       "</g>\n",
       "<!-- 13&#45;&gt;17 -->\n",
       "<g class=\"edge\" id=\"edge17\"><title>13-&gt;17</title>\n",
       "<path d=\"M890.969,-222.907C891.683,-214.558 892.443,-205.671 893.182,-197.02\" fill=\"none\" stroke=\"black\"/>\n",
       "<polygon fill=\"black\" points=\"896.672,-197.283 894.037,-187.021 889.698,-196.686 896.672,-197.283\" stroke=\"black\"/>\n",
       "</g>\n",
       "<!-- 15 -->\n",
       "<g class=\"node\" id=\"node16\"><title>15</title>\n",
       "<polygon fill=\"#da47e7\" points=\"682.5,-68 556.5,-68 556.5,-0 682.5,-0 682.5,-68\" stroke=\"black\"/>\n",
       "<text font-family=\"Times New Roman,serif\" font-size=\"14.00\" text-anchor=\"middle\" x=\"619.5\" y=\"-52.8\">gini = 0.124</text>\n",
       "<text font-family=\"Times New Roman,serif\" font-size=\"14.00\" text-anchor=\"middle\" x=\"619.5\" y=\"-37.8\">samples = 15</text>\n",
       "<text font-family=\"Times New Roman,serif\" font-size=\"14.00\" text-anchor=\"middle\" x=\"619.5\" y=\"-22.8\">value = [1, 0, 0, 14]</text>\n",
       "<text font-family=\"Times New Roman,serif\" font-size=\"14.00\" text-anchor=\"middle\" x=\"619.5\" y=\"-7.8\">class = D</text>\n",
       "</g>\n",
       "<!-- 14&#45;&gt;15 -->\n",
       "<g class=\"edge\" id=\"edge15\"><title>14-&gt;15</title>\n",
       "<path d=\"M701.093,-103.726C689.94,-94.3318 678.088,-84.349 666.975,-74.9883\" fill=\"none\" stroke=\"black\"/>\n",
       "<polygon fill=\"black\" points=\"668.937,-72.065 659.034,-68.2996 664.427,-77.4188 668.937,-72.065\" stroke=\"black\"/>\n",
       "</g>\n",
       "<!-- 16 -->\n",
       "<g class=\"node\" id=\"node17\"><title>16</title>\n",
       "<polygon fill=\"#f8defb\" points=\"820,-68 701,-68 701,-0 820,-0 820,-68\" stroke=\"black\"/>\n",
       "<text font-family=\"Times New Roman,serif\" font-size=\"14.00\" text-anchor=\"middle\" x=\"760.5\" y=\"-52.8\">gini = 0.642</text>\n",
       "<text font-family=\"Times New Roman,serif\" font-size=\"14.00\" text-anchor=\"middle\" x=\"760.5\" y=\"-37.8\">samples = 9</text>\n",
       "<text font-family=\"Times New Roman,serif\" font-size=\"14.00\" text-anchor=\"middle\" x=\"760.5\" y=\"-22.8\">value = [2, 0, 3, 4]</text>\n",
       "<text font-family=\"Times New Roman,serif\" font-size=\"14.00\" text-anchor=\"middle\" x=\"760.5\" y=\"-7.8\">class = D</text>\n",
       "</g>\n",
       "<!-- 14&#45;&gt;16 -->\n",
       "<g class=\"edge\" id=\"edge16\"><title>14-&gt;16</title>\n",
       "<path d=\"M753.596,-103.726C754.43,-95.4263 755.31,-86.6671 756.152,-78.2834\" fill=\"none\" stroke=\"black\"/>\n",
       "<polygon fill=\"black\" points=\"759.638,-78.5994 757.155,-68.2996 752.673,-77.8997 759.638,-78.5994\" stroke=\"black\"/>\n",
       "</g>\n",
       "<!-- 18 -->\n",
       "<g class=\"node\" id=\"node19\"><title>18</title>\n",
       "<polygon fill=\"#d739e5\" points=\"957,-68 838,-68 838,-0 957,-0 957,-68\" stroke=\"black\"/>\n",
       "<text font-family=\"Times New Roman,serif\" font-size=\"14.00\" text-anchor=\"middle\" x=\"897.5\" y=\"-52.8\">gini = 0.0</text>\n",
       "<text font-family=\"Times New Roman,serif\" font-size=\"14.00\" text-anchor=\"middle\" x=\"897.5\" y=\"-37.8\">samples = 4</text>\n",
       "<text font-family=\"Times New Roman,serif\" font-size=\"14.00\" text-anchor=\"middle\" x=\"897.5\" y=\"-22.8\">value = [0, 0, 0, 4]</text>\n",
       "<text font-family=\"Times New Roman,serif\" font-size=\"14.00\" text-anchor=\"middle\" x=\"897.5\" y=\"-7.8\">class = D</text>\n",
       "</g>\n",
       "<!-- 17&#45;&gt;18 -->\n",
       "<g class=\"edge\" id=\"edge18\"><title>17-&gt;18</title>\n",
       "<path d=\"M897.5,-103.726C897.5,-95.5175 897.5,-86.8595 897.5,-78.56\" fill=\"none\" stroke=\"black\"/>\n",
       "<polygon fill=\"black\" points=\"901,-78.2996 897.5,-68.2996 894,-78.2996 901,-78.2996\" stroke=\"black\"/>\n",
       "</g>\n",
       "<!-- 19 -->\n",
       "<g class=\"node\" id=\"node20\"><title>19</title>\n",
       "<polygon fill=\"#f3f9fd\" points=\"1108,-68 975,-68 975,-0 1108,-0 1108,-68\" stroke=\"black\"/>\n",
       "<text font-family=\"Times New Roman,serif\" font-size=\"14.00\" text-anchor=\"middle\" x=\"1041.5\" y=\"-52.8\">gini = 0.654</text>\n",
       "<text font-family=\"Times New Roman,serif\" font-size=\"14.00\" text-anchor=\"middle\" x=\"1041.5\" y=\"-37.8\">samples = 26</text>\n",
       "<text font-family=\"Times New Roman,serif\" font-size=\"14.00\" text-anchor=\"middle\" x=\"1041.5\" y=\"-22.8\">value = [3, 2, 11, 10]</text>\n",
       "<text font-family=\"Times New Roman,serif\" font-size=\"14.00\" text-anchor=\"middle\" x=\"1041.5\" y=\"-7.8\">class = C</text>\n",
       "</g>\n",
       "<!-- 17&#45;&gt;19 -->\n",
       "<g class=\"edge\" id=\"edge19\"><title>17-&gt;19</title>\n",
       "<path d=\"M951.12,-103.726C963.715,-94.1494 977.113,-83.9611 989.629,-74.4438\" fill=\"none\" stroke=\"black\"/>\n",
       "<polygon fill=\"black\" points=\"991.867,-77.1386 997.709,-68.2996 987.63,-71.5666 991.867,-77.1386\" stroke=\"black\"/>\n",
       "</g>\n",
       "<!-- 21 -->\n",
       "<g class=\"node\" id=\"node22\"><title>21</title>\n",
       "<polygon fill=\"#ffffff\" points=\"1101,-306 982,-306 982,-223 1101,-223 1101,-306\" stroke=\"black\"/>\n",
       "<text font-family=\"Times New Roman,serif\" font-size=\"14.00\" text-anchor=\"middle\" x=\"1041.5\" y=\"-290.8\">Age &lt;= 21.5</text>\n",
       "<text font-family=\"Times New Roman,serif\" font-size=\"14.00\" text-anchor=\"middle\" x=\"1041.5\" y=\"-275.8\">gini = 0.5</text>\n",
       "<text font-family=\"Times New Roman,serif\" font-size=\"14.00\" text-anchor=\"middle\" x=\"1041.5\" y=\"-260.8\">samples = 2</text>\n",
       "<text font-family=\"Times New Roman,serif\" font-size=\"14.00\" text-anchor=\"middle\" x=\"1041.5\" y=\"-245.8\">value = [1, 0, 1, 0]</text>\n",
       "<text font-family=\"Times New Roman,serif\" font-size=\"14.00\" text-anchor=\"middle\" x=\"1041.5\" y=\"-230.8\">class = A</text>\n",
       "</g>\n",
       "<!-- 20&#45;&gt;21 -->\n",
       "<g class=\"edge\" id=\"edge21\"><title>20-&gt;21</title>\n",
       "<path d=\"M1078.07,-341.907C1073.94,-333.286 1069.54,-324.09 1065.28,-315.175\" fill=\"none\" stroke=\"black\"/>\n",
       "<polygon fill=\"black\" points=\"1068.37,-313.53 1060.89,-306.021 1062.05,-316.552 1068.37,-313.53\" stroke=\"black\"/>\n",
       "</g>\n",
       "<!-- 24 -->\n",
       "<g class=\"node\" id=\"node25\"><title>24</title>\n",
       "<polygon fill=\"#47e539\" points=\"1238,-298.5 1119,-298.5 1119,-230.5 1238,-230.5 1238,-298.5\" stroke=\"black\"/>\n",
       "<text font-family=\"Times New Roman,serif\" font-size=\"14.00\" text-anchor=\"middle\" x=\"1178.5\" y=\"-283.3\">gini = 0.0</text>\n",
       "<text font-family=\"Times New Roman,serif\" font-size=\"14.00\" text-anchor=\"middle\" x=\"1178.5\" y=\"-268.3\">samples = 2</text>\n",
       "<text font-family=\"Times New Roman,serif\" font-size=\"14.00\" text-anchor=\"middle\" x=\"1178.5\" y=\"-253.3\">value = [0, 2, 0, 0]</text>\n",
       "<text font-family=\"Times New Roman,serif\" font-size=\"14.00\" text-anchor=\"middle\" x=\"1178.5\" y=\"-238.3\">class = B</text>\n",
       "</g>\n",
       "<!-- 20&#45;&gt;24 -->\n",
       "<g class=\"edge\" id=\"edge24\"><title>20-&gt;24</title>\n",
       "<path d=\"M1125.6,-341.907C1133.39,-330.652 1141.86,-318.418 1149.7,-307.106\" fill=\"none\" stroke=\"black\"/>\n",
       "<polygon fill=\"black\" points=\"1152.72,-308.881 1155.54,-298.667 1146.97,-304.897 1152.72,-308.881\" stroke=\"black\"/>\n",
       "</g>\n",
       "<!-- 22 -->\n",
       "<g class=\"node\" id=\"node23\"><title>22</title>\n",
       "<polygon fill=\"#399de5\" points=\"1101,-179.5 982,-179.5 982,-111.5 1101,-111.5 1101,-179.5\" stroke=\"black\"/>\n",
       "<text font-family=\"Times New Roman,serif\" font-size=\"14.00\" text-anchor=\"middle\" x=\"1041.5\" y=\"-164.3\">gini = 0.0</text>\n",
       "<text font-family=\"Times New Roman,serif\" font-size=\"14.00\" text-anchor=\"middle\" x=\"1041.5\" y=\"-149.3\">samples = 1</text>\n",
       "<text font-family=\"Times New Roman,serif\" font-size=\"14.00\" text-anchor=\"middle\" x=\"1041.5\" y=\"-134.3\">value = [0, 0, 1, 0]</text>\n",
       "<text font-family=\"Times New Roman,serif\" font-size=\"14.00\" text-anchor=\"middle\" x=\"1041.5\" y=\"-119.3\">class = C</text>\n",
       "</g>\n",
       "<!-- 21&#45;&gt;22 -->\n",
       "<g class=\"edge\" id=\"edge22\"><title>21-&gt;22</title>\n",
       "<path d=\"M1041.5,-222.907C1041.5,-212.204 1041.5,-200.615 1041.5,-189.776\" fill=\"none\" stroke=\"black\"/>\n",
       "<polygon fill=\"black\" points=\"1045,-189.667 1041.5,-179.667 1038,-189.667 1045,-189.667\" stroke=\"black\"/>\n",
       "</g>\n",
       "<!-- 23 -->\n",
       "<g class=\"node\" id=\"node24\"><title>23</title>\n",
       "<polygon fill=\"#e58139\" points=\"1238,-179.5 1119,-179.5 1119,-111.5 1238,-111.5 1238,-179.5\" stroke=\"black\"/>\n",
       "<text font-family=\"Times New Roman,serif\" font-size=\"14.00\" text-anchor=\"middle\" x=\"1178.5\" y=\"-164.3\">gini = 0.0</text>\n",
       "<text font-family=\"Times New Roman,serif\" font-size=\"14.00\" text-anchor=\"middle\" x=\"1178.5\" y=\"-149.3\">samples = 1</text>\n",
       "<text font-family=\"Times New Roman,serif\" font-size=\"14.00\" text-anchor=\"middle\" x=\"1178.5\" y=\"-134.3\">value = [1, 0, 0, 0]</text>\n",
       "<text font-family=\"Times New Roman,serif\" font-size=\"14.00\" text-anchor=\"middle\" x=\"1178.5\" y=\"-119.3\">class = A</text>\n",
       "</g>\n",
       "<!-- 21&#45;&gt;23 -->\n",
       "<g class=\"edge\" id=\"edge23\"><title>21-&gt;23</title>\n",
       "<path d=\"M1089.03,-222.907C1102.86,-211.101 1117.94,-198.217 1131.72,-186.45\" fill=\"none\" stroke=\"black\"/>\n",
       "<polygon fill=\"black\" points=\"1134.33,-188.823 1139.66,-179.667 1129.79,-183.5 1134.33,-188.823\" stroke=\"black\"/>\n",
       "</g>\n",
       "<!-- 27 -->\n",
       "<g class=\"node\" id=\"node28\"><title>27</title>\n",
       "<polygon fill=\"#d73ae5\" points=\"1514.5,-544 1380.5,-544 1380.5,-461 1514.5,-461 1514.5,-544\" stroke=\"black\"/>\n",
       "<text font-family=\"Times New Roman,serif\" font-size=\"14.00\" text-anchor=\"middle\" x=\"1447.5\" y=\"-528.8\">Ever_Married &lt;= 1.5</text>\n",
       "<text font-family=\"Times New Roman,serif\" font-size=\"14.00\" text-anchor=\"middle\" x=\"1447.5\" y=\"-513.8\">gini = 0.008</text>\n",
       "<text font-family=\"Times New Roman,serif\" font-size=\"14.00\" text-anchor=\"middle\" x=\"1447.5\" y=\"-498.8\">samples = 475</text>\n",
       "<text font-family=\"Times New Roman,serif\" font-size=\"14.00\" text-anchor=\"middle\" x=\"1447.5\" y=\"-483.8\">value = [0, 2, 0, 473]</text>\n",
       "<text font-family=\"Times New Roman,serif\" font-size=\"14.00\" text-anchor=\"middle\" x=\"1447.5\" y=\"-468.8\">class = D</text>\n",
       "</g>\n",
       "<!-- 26&#45;&gt;27 -->\n",
       "<g class=\"edge\" id=\"edge27\"><title>26-&gt;27</title>\n",
       "<path d=\"M1502.36,-579.907C1495.97,-571.014 1489.15,-561.509 1482.56,-552.331\" fill=\"none\" stroke=\"black\"/>\n",
       "<polygon fill=\"black\" points=\"1485.27,-550.103 1476.59,-544.021 1479.58,-554.185 1485.27,-550.103\" stroke=\"black\"/>\n",
       "</g>\n",
       "<!-- 32 -->\n",
       "<g class=\"node\" id=\"node33\"><title>32</title>\n",
       "<polygon fill=\"#eb9cf2\" points=\"1666,-544 1533,-544 1533,-461 1666,-461 1666,-544\" stroke=\"black\"/>\n",
       "<text font-family=\"Times New Roman,serif\" font-size=\"14.00\" text-anchor=\"middle\" x=\"1599.5\" y=\"-528.8\">Profession &lt;= 8.5</text>\n",
       "<text font-family=\"Times New Roman,serif\" font-size=\"14.00\" text-anchor=\"middle\" x=\"1599.5\" y=\"-513.8\">gini = 0.596</text>\n",
       "<text font-family=\"Times New Roman,serif\" font-size=\"14.00\" text-anchor=\"middle\" x=\"1599.5\" y=\"-498.8\">samples = 63</text>\n",
       "<text font-family=\"Times New Roman,serif\" font-size=\"14.00\" text-anchor=\"middle\" x=\"1599.5\" y=\"-483.8\">value = [7, 8, 11, 37]</text>\n",
       "<text font-family=\"Times New Roman,serif\" font-size=\"14.00\" text-anchor=\"middle\" x=\"1599.5\" y=\"-468.8\">class = D</text>\n",
       "</g>\n",
       "<!-- 26&#45;&gt;32 -->\n",
       "<g class=\"edge\" id=\"edge32\"><title>26-&gt;32</title>\n",
       "<path d=\"M1555.09,-579.907C1560.16,-571.195 1565.56,-561.897 1570.79,-552.893\" fill=\"none\" stroke=\"black\"/>\n",
       "<polygon fill=\"black\" points=\"1573.95,-554.425 1575.95,-544.021 1567.9,-550.908 1573.95,-554.425\" stroke=\"black\"/>\n",
       "</g>\n",
       "<!-- 28 -->\n",
       "<g class=\"node\" id=\"node29\"><title>28</title>\n",
       "<polygon fill=\"#d739e5\" points=\"1372,-417.5 1239,-417.5 1239,-349.5 1372,-349.5 1372,-417.5\" stroke=\"black\"/>\n",
       "<text font-family=\"Times New Roman,serif\" font-size=\"14.00\" text-anchor=\"middle\" x=\"1305.5\" y=\"-402.3\">gini = 0.0</text>\n",
       "<text font-family=\"Times New Roman,serif\" font-size=\"14.00\" text-anchor=\"middle\" x=\"1305.5\" y=\"-387.3\">samples = 471</text>\n",
       "<text font-family=\"Times New Roman,serif\" font-size=\"14.00\" text-anchor=\"middle\" x=\"1305.5\" y=\"-372.3\">value = [0, 0, 0, 471]</text>\n",
       "<text font-family=\"Times New Roman,serif\" font-size=\"14.00\" text-anchor=\"middle\" x=\"1305.5\" y=\"-357.3\">class = D</text>\n",
       "</g>\n",
       "<!-- 27&#45;&gt;28 -->\n",
       "<g class=\"edge\" id=\"edge28\"><title>27-&gt;28</title>\n",
       "<path d=\"M1398.23,-460.907C1383.77,-448.99 1367.97,-435.976 1353.59,-424.12\" fill=\"none\" stroke=\"black\"/>\n",
       "<polygon fill=\"black\" points=\"1355.7,-421.325 1345.75,-417.667 1351.25,-426.727 1355.7,-421.325\" stroke=\"black\"/>\n",
       "</g>\n",
       "<!-- 29 -->\n",
       "<g class=\"node\" id=\"node30\"><title>29</title>\n",
       "<polygon fill=\"#ffffff\" points=\"1509,-425 1390,-425 1390,-342 1509,-342 1509,-425\" stroke=\"black\"/>\n",
       "<text font-family=\"Times New Roman,serif\" font-size=\"14.00\" text-anchor=\"middle\" x=\"1449.5\" y=\"-409.8\">Var_1 &lt;= 5.5</text>\n",
       "<text font-family=\"Times New Roman,serif\" font-size=\"14.00\" text-anchor=\"middle\" x=\"1449.5\" y=\"-394.8\">gini = 0.5</text>\n",
       "<text font-family=\"Times New Roman,serif\" font-size=\"14.00\" text-anchor=\"middle\" x=\"1449.5\" y=\"-379.8\">samples = 4</text>\n",
       "<text font-family=\"Times New Roman,serif\" font-size=\"14.00\" text-anchor=\"middle\" x=\"1449.5\" y=\"-364.8\">value = [0, 2, 0, 2]</text>\n",
       "<text font-family=\"Times New Roman,serif\" font-size=\"14.00\" text-anchor=\"middle\" x=\"1449.5\" y=\"-349.8\">class = B</text>\n",
       "</g>\n",
       "<!-- 27&#45;&gt;29 -->\n",
       "<g class=\"edge\" id=\"edge29\"><title>27-&gt;29</title>\n",
       "<path d=\"M1448.19,-460.907C1448.34,-452.558 1448.49,-443.671 1448.64,-435.02\" fill=\"none\" stroke=\"black\"/>\n",
       "<polygon fill=\"black\" points=\"1452.14,-435.079 1448.81,-425.021 1445.14,-434.959 1452.14,-435.079\" stroke=\"black\"/>\n",
       "</g>\n",
       "<!-- 30 -->\n",
       "<g class=\"node\" id=\"node31\"><title>30</title>\n",
       "<polygon fill=\"#47e539\" points=\"1375,-298.5 1256,-298.5 1256,-230.5 1375,-230.5 1375,-298.5\" stroke=\"black\"/>\n",
       "<text font-family=\"Times New Roman,serif\" font-size=\"14.00\" text-anchor=\"middle\" x=\"1315.5\" y=\"-283.3\">gini = 0.0</text>\n",
       "<text font-family=\"Times New Roman,serif\" font-size=\"14.00\" text-anchor=\"middle\" x=\"1315.5\" y=\"-268.3\">samples = 2</text>\n",
       "<text font-family=\"Times New Roman,serif\" font-size=\"14.00\" text-anchor=\"middle\" x=\"1315.5\" y=\"-253.3\">value = [0, 2, 0, 0]</text>\n",
       "<text font-family=\"Times New Roman,serif\" font-size=\"14.00\" text-anchor=\"middle\" x=\"1315.5\" y=\"-238.3\">class = B</text>\n",
       "</g>\n",
       "<!-- 29&#45;&gt;30 -->\n",
       "<g class=\"edge\" id=\"edge30\"><title>29-&gt;30</title>\n",
       "<path d=\"M1403.01,-341.907C1389.49,-330.101 1374.73,-317.217 1361.25,-305.45\" fill=\"none\" stroke=\"black\"/>\n",
       "<polygon fill=\"black\" points=\"1363.32,-302.608 1353.49,-298.667 1358.72,-307.881 1363.32,-302.608\" stroke=\"black\"/>\n",
       "</g>\n",
       "<!-- 31 -->\n",
       "<g class=\"node\" id=\"node32\"><title>31</title>\n",
       "<polygon fill=\"#d739e5\" points=\"1512,-298.5 1393,-298.5 1393,-230.5 1512,-230.5 1512,-298.5\" stroke=\"black\"/>\n",
       "<text font-family=\"Times New Roman,serif\" font-size=\"14.00\" text-anchor=\"middle\" x=\"1452.5\" y=\"-283.3\">gini = 0.0</text>\n",
       "<text font-family=\"Times New Roman,serif\" font-size=\"14.00\" text-anchor=\"middle\" x=\"1452.5\" y=\"-268.3\">samples = 2</text>\n",
       "<text font-family=\"Times New Roman,serif\" font-size=\"14.00\" text-anchor=\"middle\" x=\"1452.5\" y=\"-253.3\">value = [0, 0, 0, 2]</text>\n",
       "<text font-family=\"Times New Roman,serif\" font-size=\"14.00\" text-anchor=\"middle\" x=\"1452.5\" y=\"-238.3\">class = D</text>\n",
       "</g>\n",
       "<!-- 29&#45;&gt;31 -->\n",
       "<g class=\"edge\" id=\"edge31\"><title>29-&gt;31</title>\n",
       "<path d=\"M1450.54,-341.907C1450.82,-331.204 1451.11,-319.615 1451.39,-308.776\" fill=\"none\" stroke=\"black\"/>\n",
       "<polygon fill=\"black\" points=\"1454.89,-308.753 1451.65,-298.667 1447.89,-308.574 1454.89,-308.753\" stroke=\"black\"/>\n",
       "</g>\n",
       "<!-- 33 -->\n",
       "<g class=\"node\" id=\"node34\"><title>33</title>\n",
       "<polygon fill=\"#f2bdf6\" points=\"1664,-425 1531,-425 1531,-342 1664,-342 1664,-425\" stroke=\"black\"/>\n",
       "<text font-family=\"Times New Roman,serif\" font-size=\"14.00\" text-anchor=\"middle\" x=\"1597.5\" y=\"-409.8\">Var_1 &lt;= 5.5</text>\n",
       "<text font-family=\"Times New Roman,serif\" font-size=\"14.00\" text-anchor=\"middle\" x=\"1597.5\" y=\"-394.8\">gini = 0.676</text>\n",
       "<text font-family=\"Times New Roman,serif\" font-size=\"14.00\" text-anchor=\"middle\" x=\"1597.5\" y=\"-379.8\">samples = 50</text>\n",
       "<text font-family=\"Times New Roman,serif\" font-size=\"14.00\" text-anchor=\"middle\" x=\"1597.5\" y=\"-364.8\">value = [7, 8, 11, 24]</text>\n",
       "<text font-family=\"Times New Roman,serif\" font-size=\"14.00\" text-anchor=\"middle\" x=\"1597.5\" y=\"-349.8\">class = D</text>\n",
       "</g>\n",
       "<!-- 32&#45;&gt;33 -->\n",
       "<g class=\"edge\" id=\"edge33\"><title>32-&gt;33</title>\n",
       "<path d=\"M1598.81,-460.907C1598.66,-452.558 1598.51,-443.671 1598.36,-435.02\" fill=\"none\" stroke=\"black\"/>\n",
       "<polygon fill=\"black\" points=\"1601.86,-434.959 1598.19,-425.021 1594.86,-435.079 1601.86,-434.959\" stroke=\"black\"/>\n",
       "</g>\n",
       "<!-- 42 -->\n",
       "<g class=\"node\" id=\"node43\"><title>42</title>\n",
       "<polygon fill=\"#d739e5\" points=\"1808.5,-417.5 1682.5,-417.5 1682.5,-349.5 1808.5,-349.5 1808.5,-417.5\" stroke=\"black\"/>\n",
       "<text font-family=\"Times New Roman,serif\" font-size=\"14.00\" text-anchor=\"middle\" x=\"1745.5\" y=\"-402.3\">gini = 0.0</text>\n",
       "<text font-family=\"Times New Roman,serif\" font-size=\"14.00\" text-anchor=\"middle\" x=\"1745.5\" y=\"-387.3\">samples = 13</text>\n",
       "<text font-family=\"Times New Roman,serif\" font-size=\"14.00\" text-anchor=\"middle\" x=\"1745.5\" y=\"-372.3\">value = [0, 0, 0, 13]</text>\n",
       "<text font-family=\"Times New Roman,serif\" font-size=\"14.00\" text-anchor=\"middle\" x=\"1745.5\" y=\"-357.3\">class = D</text>\n",
       "</g>\n",
       "<!-- 32&#45;&gt;42 -->\n",
       "<g class=\"edge\" id=\"edge42\"><title>32-&gt;42</title>\n",
       "<path d=\"M1650.15,-460.907C1665.03,-448.99 1681.27,-435.976 1696.06,-424.12\" fill=\"none\" stroke=\"black\"/>\n",
       "<polygon fill=\"black\" points=\"1698.5,-426.652 1704.11,-417.667 1694.12,-421.189 1698.5,-426.652\" stroke=\"black\"/>\n",
       "</g>\n",
       "<!-- 34 -->\n",
       "<g class=\"node\" id=\"node35\"><title>34</title>\n",
       "<polygon fill=\"#f0b3f5\" points=\"1656.5,-306 1530.5,-306 1530.5,-223 1656.5,-223 1656.5,-306\" stroke=\"black\"/>\n",
       "<text font-family=\"Times New Roman,serif\" font-size=\"14.00\" text-anchor=\"middle\" x=\"1593.5\" y=\"-290.8\">Family_Size &lt;= 4.5</text>\n",
       "<text font-family=\"Times New Roman,serif\" font-size=\"14.00\" text-anchor=\"middle\" x=\"1593.5\" y=\"-275.8\">gini = 0.666</text>\n",
       "<text font-family=\"Times New Roman,serif\" font-size=\"14.00\" text-anchor=\"middle\" x=\"1593.5\" y=\"-260.8\">samples = 48</text>\n",
       "<text font-family=\"Times New Roman,serif\" font-size=\"14.00\" text-anchor=\"middle\" x=\"1593.5\" y=\"-245.8\">value = [7, 8, 9, 24]</text>\n",
       "<text font-family=\"Times New Roman,serif\" font-size=\"14.00\" text-anchor=\"middle\" x=\"1593.5\" y=\"-230.8\">class = D</text>\n",
       "</g>\n",
       "<!-- 33&#45;&gt;34 -->\n",
       "<g class=\"edge\" id=\"edge34\"><title>33-&gt;34</title>\n",
       "<path d=\"M1596.11,-341.907C1595.83,-333.558 1595.52,-324.671 1595.23,-316.02\" fill=\"none\" stroke=\"black\"/>\n",
       "<polygon fill=\"black\" points=\"1598.73,-315.895 1594.89,-306.021 1591.73,-316.135 1598.73,-315.895\" stroke=\"black\"/>\n",
       "</g>\n",
       "<!-- 41 -->\n",
       "<g class=\"node\" id=\"node42\"><title>41</title>\n",
       "<polygon fill=\"#399de5\" points=\"1794,-298.5 1675,-298.5 1675,-230.5 1794,-230.5 1794,-298.5\" stroke=\"black\"/>\n",
       "<text font-family=\"Times New Roman,serif\" font-size=\"14.00\" text-anchor=\"middle\" x=\"1734.5\" y=\"-283.3\">gini = 0.0</text>\n",
       "<text font-family=\"Times New Roman,serif\" font-size=\"14.00\" text-anchor=\"middle\" x=\"1734.5\" y=\"-268.3\">samples = 2</text>\n",
       "<text font-family=\"Times New Roman,serif\" font-size=\"14.00\" text-anchor=\"middle\" x=\"1734.5\" y=\"-253.3\">value = [0, 0, 2, 0]</text>\n",
       "<text font-family=\"Times New Roman,serif\" font-size=\"14.00\" text-anchor=\"middle\" x=\"1734.5\" y=\"-238.3\">class = C</text>\n",
       "</g>\n",
       "<!-- 33&#45;&gt;41 -->\n",
       "<g class=\"edge\" id=\"edge41\"><title>33-&gt;41</title>\n",
       "<path d=\"M1645.03,-341.907C1658.86,-330.101 1673.94,-317.217 1687.72,-305.45\" fill=\"none\" stroke=\"black\"/>\n",
       "<polygon fill=\"black\" points=\"1690.33,-307.823 1695.66,-298.667 1685.79,-302.5 1690.33,-307.823\" stroke=\"black\"/>\n",
       "</g>\n",
       "<!-- 35 -->\n",
       "<g class=\"node\" id=\"node36\"><title>35</title>\n",
       "<polygon fill=\"#eb9cf2\" points=\"1461,-187 1310,-187 1310,-104 1461,-104 1461,-187\" stroke=\"black\"/>\n",
       "<text font-family=\"Times New Roman,serif\" font-size=\"14.00\" text-anchor=\"middle\" x=\"1385.5\" y=\"-171.8\">Spending_Score &lt;= 1.5</text>\n",
       "<text font-family=\"Times New Roman,serif\" font-size=\"14.00\" text-anchor=\"middle\" x=\"1385.5\" y=\"-156.8\">gini = 0.6</text>\n",
       "<text font-family=\"Times New Roman,serif\" font-size=\"14.00\" text-anchor=\"middle\" x=\"1385.5\" y=\"-141.8\">samples = 36</text>\n",
       "<text font-family=\"Times New Roman,serif\" font-size=\"14.00\" text-anchor=\"middle\" x=\"1385.5\" y=\"-126.8\">value = [6, 4, 5, 21]</text>\n",
       "<text font-family=\"Times New Roman,serif\" font-size=\"14.00\" text-anchor=\"middle\" x=\"1385.5\" y=\"-111.8\">class = D</text>\n",
       "</g>\n",
       "<!-- 34&#45;&gt;35 -->\n",
       "<g class=\"edge\" id=\"edge35\"><title>34-&gt;35</title>\n",
       "<path d=\"M1530.25,-227.92C1510.17,-216.625 1487.68,-203.976 1466.53,-192.078\" fill=\"none\" stroke=\"black\"/>\n",
       "<polygon fill=\"black\" points=\"1467.99,-188.883 1457.56,-187.031 1464.56,-194.984 1467.99,-188.883\" stroke=\"black\"/>\n",
       "</g>\n",
       "<!-- 38 -->\n",
       "<g class=\"node\" id=\"node39\"><title>38</title>\n",
       "<polygon fill=\"#ffffff\" points=\"1653,-187 1534,-187 1534,-104 1653,-104 1653,-187\" stroke=\"black\"/>\n",
       "<text font-family=\"Times New Roman,serif\" font-size=\"14.00\" text-anchor=\"middle\" x=\"1593.5\" y=\"-171.8\">Age &lt;= 22.5</text>\n",
       "<text font-family=\"Times New Roman,serif\" font-size=\"14.00\" text-anchor=\"middle\" x=\"1593.5\" y=\"-156.8\">gini = 0.708</text>\n",
       "<text font-family=\"Times New Roman,serif\" font-size=\"14.00\" text-anchor=\"middle\" x=\"1593.5\" y=\"-141.8\">samples = 12</text>\n",
       "<text font-family=\"Times New Roman,serif\" font-size=\"14.00\" text-anchor=\"middle\" x=\"1593.5\" y=\"-126.8\">value = [1, 4, 4, 3]</text>\n",
       "<text font-family=\"Times New Roman,serif\" font-size=\"14.00\" text-anchor=\"middle\" x=\"1593.5\" y=\"-111.8\">class = B</text>\n",
       "</g>\n",
       "<!-- 34&#45;&gt;38 -->\n",
       "<g class=\"edge\" id=\"edge38\"><title>34-&gt;38</title>\n",
       "<path d=\"M1593.5,-222.907C1593.5,-214.649 1593.5,-205.864 1593.5,-197.302\" fill=\"none\" stroke=\"black\"/>\n",
       "<polygon fill=\"black\" points=\"1597,-197.021 1593.5,-187.021 1590,-197.021 1597,-197.021\" stroke=\"black\"/>\n",
       "</g>\n",
       "<!-- 36 -->\n",
       "<g class=\"node\" id=\"node37\"><title>36</title>\n",
       "<polygon fill=\"#e58139\" points=\"1304,-68 1185,-68 1185,-0 1304,-0 1304,-68\" stroke=\"black\"/>\n",
       "<text font-family=\"Times New Roman,serif\" font-size=\"14.00\" text-anchor=\"middle\" x=\"1244.5\" y=\"-52.8\">gini = 0.0</text>\n",
       "<text font-family=\"Times New Roman,serif\" font-size=\"14.00\" text-anchor=\"middle\" x=\"1244.5\" y=\"-37.8\">samples = 2</text>\n",
       "<text font-family=\"Times New Roman,serif\" font-size=\"14.00\" text-anchor=\"middle\" x=\"1244.5\" y=\"-22.8\">value = [2, 0, 0, 0]</text>\n",
       "<text font-family=\"Times New Roman,serif\" font-size=\"14.00\" text-anchor=\"middle\" x=\"1244.5\" y=\"-7.8\">class = A</text>\n",
       "</g>\n",
       "<!-- 35&#45;&gt;36 -->\n",
       "<g class=\"edge\" id=\"edge36\"><title>35-&gt;36</title>\n",
       "<path d=\"M1333,-103.726C1320.66,-94.1494 1307.55,-83.9611 1295.29,-74.4438\" fill=\"none\" stroke=\"black\"/>\n",
       "<polygon fill=\"black\" points=\"1297.42,-71.6689 1287.38,-68.2996 1293.13,-77.1975 1297.42,-71.6689\" stroke=\"black\"/>\n",
       "</g>\n",
       "<!-- 37 -->\n",
       "<g class=\"node\" id=\"node38\"><title>37</title>\n",
       "<polygon fill=\"#e992f1\" points=\"1448.5,-68 1322.5,-68 1322.5,-0 1448.5,-0 1448.5,-68\" stroke=\"black\"/>\n",
       "<text font-family=\"Times New Roman,serif\" font-size=\"14.00\" text-anchor=\"middle\" x=\"1385.5\" y=\"-52.8\">gini = 0.569</text>\n",
       "<text font-family=\"Times New Roman,serif\" font-size=\"14.00\" text-anchor=\"middle\" x=\"1385.5\" y=\"-37.8\">samples = 34</text>\n",
       "<text font-family=\"Times New Roman,serif\" font-size=\"14.00\" text-anchor=\"middle\" x=\"1385.5\" y=\"-22.8\">value = [4, 4, 5, 21]</text>\n",
       "<text font-family=\"Times New Roman,serif\" font-size=\"14.00\" text-anchor=\"middle\" x=\"1385.5\" y=\"-7.8\">class = D</text>\n",
       "</g>\n",
       "<!-- 35&#45;&gt;37 -->\n",
       "<g class=\"edge\" id=\"edge37\"><title>35-&gt;37</title>\n",
       "<path d=\"M1385.5,-103.726C1385.5,-95.5175 1385.5,-86.8595 1385.5,-78.56\" fill=\"none\" stroke=\"black\"/>\n",
       "<polygon fill=\"black\" points=\"1389,-78.2996 1385.5,-68.2996 1382,-78.2996 1389,-78.2996\" stroke=\"black\"/>\n",
       "</g>\n",
       "<!-- 39 -->\n",
       "<g class=\"node\" id=\"node40\"><title>39</title>\n",
       "<polygon fill=\"#e3f1fb\" points=\"1586,-68 1467,-68 1467,-0 1586,-0 1586,-68\" stroke=\"black\"/>\n",
       "<text font-family=\"Times New Roman,serif\" font-size=\"14.00\" text-anchor=\"middle\" x=\"1526.5\" y=\"-52.8\">gini = 0.7</text>\n",
       "<text font-family=\"Times New Roman,serif\" font-size=\"14.00\" text-anchor=\"middle\" x=\"1526.5\" y=\"-37.8\">samples = 10</text>\n",
       "<text font-family=\"Times New Roman,serif\" font-size=\"14.00\" text-anchor=\"middle\" x=\"1526.5\" y=\"-22.8\">value = [1, 2, 4, 3]</text>\n",
       "<text font-family=\"Times New Roman,serif\" font-size=\"14.00\" text-anchor=\"middle\" x=\"1526.5\" y=\"-7.8\">class = C</text>\n",
       "</g>\n",
       "<!-- 38&#45;&gt;39 -->\n",
       "<g class=\"edge\" id=\"edge39\"><title>38-&gt;39</title>\n",
       "<path d=\"M1568.55,-103.726C1563.19,-94.9703 1557.52,-85.7032 1552.14,-76.9051\" fill=\"none\" stroke=\"black\"/>\n",
       "<polygon fill=\"black\" points=\"1555.08,-75.0028 1546.88,-68.2996 1549.11,-78.6563 1555.08,-75.0028\" stroke=\"black\"/>\n",
       "</g>\n",
       "<!-- 40 -->\n",
       "<g class=\"node\" id=\"node41\"><title>40</title>\n",
       "<polygon fill=\"#47e539\" points=\"1723,-68 1604,-68 1604,-0 1723,-0 1723,-68\" stroke=\"black\"/>\n",
       "<text font-family=\"Times New Roman,serif\" font-size=\"14.00\" text-anchor=\"middle\" x=\"1663.5\" y=\"-52.8\">gini = 0.0</text>\n",
       "<text font-family=\"Times New Roman,serif\" font-size=\"14.00\" text-anchor=\"middle\" x=\"1663.5\" y=\"-37.8\">samples = 2</text>\n",
       "<text font-family=\"Times New Roman,serif\" font-size=\"14.00\" text-anchor=\"middle\" x=\"1663.5\" y=\"-22.8\">value = [0, 2, 0, 0]</text>\n",
       "<text font-family=\"Times New Roman,serif\" font-size=\"14.00\" text-anchor=\"middle\" x=\"1663.5\" y=\"-7.8\">class = B</text>\n",
       "</g>\n",
       "<!-- 38&#45;&gt;40 -->\n",
       "<g class=\"edge\" id=\"edge40\"><title>38-&gt;40</title>\n",
       "<path d=\"M1619.57,-103.726C1625.16,-94.9703 1631.09,-85.7032 1636.71,-76.9051\" fill=\"none\" stroke=\"black\"/>\n",
       "<polygon fill=\"black\" points=\"1639.78,-78.6103 1642.21,-68.2996 1633.88,-74.8399 1639.78,-78.6103\" stroke=\"black\"/>\n",
       "</g>\n",
       "<!-- 44 -->\n",
       "<g class=\"node\" id=\"node45\"><title>44</title>\n",
       "<polygon fill=\"#f7dac5\" points=\"3675,-663 3522,-663 3522,-580 3675,-580 3675,-663\" stroke=\"black\"/>\n",
       "<text font-family=\"Times New Roman,serif\" font-size=\"14.00\" text-anchor=\"middle\" x=\"3598.5\" y=\"-647.8\">Spending_Score &lt;= 0.5</text>\n",
       "<text font-family=\"Times New Roman,serif\" font-size=\"14.00\" text-anchor=\"middle\" x=\"3598.5\" y=\"-632.8\">gini = 0.701</text>\n",
       "<text font-family=\"Times New Roman,serif\" font-size=\"14.00\" text-anchor=\"middle\" x=\"3598.5\" y=\"-617.8\">samples = 245</text>\n",
       "<text font-family=\"Times New Roman,serif\" font-size=\"14.00\" text-anchor=\"middle\" x=\"3598.5\" y=\"-602.8\">value = [108, 51, 41, 45]</text>\n",
       "<text font-family=\"Times New Roman,serif\" font-size=\"14.00\" text-anchor=\"middle\" x=\"3598.5\" y=\"-587.8\">class = A</text>\n",
       "</g>\n",
       "<!-- 43&#45;&gt;44 -->\n",
       "<g class=\"edge\" id=\"edge44\"><title>43-&gt;44</title>\n",
       "<path d=\"M4436.89,-728.546C4260.56,-706.241 3861.64,-655.784 3685.21,-633.468\" fill=\"none\" stroke=\"black\"/>\n",
       "<polygon fill=\"black\" points=\"3685.55,-629.983 3675.19,-632.201 3684.68,-636.928 3685.55,-629.983\" stroke=\"black\"/>\n",
       "</g>\n",
       "<!-- 87 -->\n",
       "<g class=\"node\" id=\"node88\"><title>87</title>\n",
       "<polygon fill=\"#f1b9f6\" points=\"5493,-663 5320,-663 5320,-580 5493,-580 5493,-663\" stroke=\"black\"/>\n",
       "<text font-family=\"Times New Roman,serif\" font-size=\"14.00\" text-anchor=\"middle\" x=\"5406.5\" y=\"-647.8\">Profession &lt;= 4.5</text>\n",
       "<text font-family=\"Times New Roman,serif\" font-size=\"14.00\" text-anchor=\"middle\" x=\"5406.5\" y=\"-632.8\">gini = 0.652</text>\n",
       "<text font-family=\"Times New Roman,serif\" font-size=\"14.00\" text-anchor=\"middle\" x=\"5406.5\" y=\"-617.8\">samples = 1297</text>\n",
       "<text font-family=\"Times New Roman,serif\" font-size=\"14.00\" text-anchor=\"middle\" x=\"5406.5\" y=\"-602.8\">value = [310, 150, 177, 660]</text>\n",
       "<text font-family=\"Times New Roman,serif\" font-size=\"14.00\" text-anchor=\"middle\" x=\"5406.5\" y=\"-587.8\">class = D</text>\n",
       "</g>\n",
       "<!-- 43&#45;&gt;87 -->\n",
       "<g class=\"edge\" id=\"edge87\"><title>43-&gt;87</title>\n",
       "<path d=\"M4610.18,-728.015C4775.91,-706.055 5136.62,-658.26 5309.85,-635.307\" fill=\"none\" stroke=\"black\"/>\n",
       "<polygon fill=\"black\" points=\"5310.52,-638.748 5319.97,-633.965 5309.6,-631.809 5310.52,-638.748\" stroke=\"black\"/>\n",
       "</g>\n",
       "<!-- 45 -->\n",
       "<g class=\"node\" id=\"node46\"><title>45</title>\n",
       "<polygon fill=\"#c9f7c5\" points=\"2932.5,-544 2766.5,-544 2766.5,-461 2932.5,-461 2932.5,-544\" stroke=\"black\"/>\n",
       "<text font-family=\"Times New Roman,serif\" font-size=\"14.00\" text-anchor=\"middle\" x=\"2849.5\" y=\"-528.8\">Work_Experience &lt;= 10.5</text>\n",
       "<text font-family=\"Times New Roman,serif\" font-size=\"14.00\" text-anchor=\"middle\" x=\"2849.5\" y=\"-513.8\">gini = 0.669</text>\n",
       "<text font-family=\"Times New Roman,serif\" font-size=\"14.00\" text-anchor=\"middle\" x=\"2849.5\" y=\"-498.8\">samples = 45</text>\n",
       "<text font-family=\"Times New Roman,serif\" font-size=\"14.00\" text-anchor=\"middle\" x=\"2849.5\" y=\"-483.8\">value = [11, 21, 10, 3]</text>\n",
       "<text font-family=\"Times New Roman,serif\" font-size=\"14.00\" text-anchor=\"middle\" x=\"2849.5\" y=\"-468.8\">class = B</text>\n",
       "</g>\n",
       "<!-- 44&#45;&gt;45 -->\n",
       "<g class=\"edge\" id=\"edge45\"><title>44-&gt;45</title>\n",
       "<path d=\"M3521.86,-608.529C3383.46,-586.909 3092.3,-541.428 2942.65,-518.051\" fill=\"none\" stroke=\"black\"/>\n",
       "<polygon fill=\"black\" points=\"2942.99,-514.561 2932.56,-516.475 2941.9,-521.477 2942.99,-514.561\" stroke=\"black\"/>\n",
       "</g>\n",
       "<!-- 60 -->\n",
       "<g class=\"node\" id=\"node61\"><title>60</title>\n",
       "<polygon fill=\"#f6d3ba\" points=\"3671.5,-544 3525.5,-544 3525.5,-461 3671.5,-461 3671.5,-544\" stroke=\"black\"/>\n",
       "<text font-family=\"Times New Roman,serif\" font-size=\"14.00\" text-anchor=\"middle\" x=\"3598.5\" y=\"-528.8\">Family_Size &lt;= 2.5</text>\n",
       "<text font-family=\"Times New Roman,serif\" font-size=\"14.00\" text-anchor=\"middle\" x=\"3598.5\" y=\"-513.8\">gini = 0.674</text>\n",
       "<text font-family=\"Times New Roman,serif\" font-size=\"14.00\" text-anchor=\"middle\" x=\"3598.5\" y=\"-498.8\">samples = 200</text>\n",
       "<text font-family=\"Times New Roman,serif\" font-size=\"14.00\" text-anchor=\"middle\" x=\"3598.5\" y=\"-483.8\">value = [97, 30, 31, 42]</text>\n",
       "<text font-family=\"Times New Roman,serif\" font-size=\"14.00\" text-anchor=\"middle\" x=\"3598.5\" y=\"-468.8\">class = A</text>\n",
       "</g>\n",
       "<!-- 44&#45;&gt;60 -->\n",
       "<g class=\"edge\" id=\"edge60\"><title>44-&gt;60</title>\n",
       "<path d=\"M3598.5,-579.907C3598.5,-571.649 3598.5,-562.864 3598.5,-554.302\" fill=\"none\" stroke=\"black\"/>\n",
       "<polygon fill=\"black\" points=\"3602,-554.021 3598.5,-544.021 3595,-554.021 3602,-554.021\" stroke=\"black\"/>\n",
       "</g>\n",
       "<!-- 46 -->\n",
       "<g class=\"node\" id=\"node47\"><title>46</title>\n",
       "<polygon fill=\"#d5f9d2\" points=\"2359,-425 2200,-425 2200,-342 2359,-342 2359,-425\" stroke=\"black\"/>\n",
       "<text font-family=\"Times New Roman,serif\" font-size=\"14.00\" text-anchor=\"middle\" x=\"2279.5\" y=\"-409.8\">Work_Experience &lt;= 3.5</text>\n",
       "<text font-family=\"Times New Roman,serif\" font-size=\"14.00\" text-anchor=\"middle\" x=\"2279.5\" y=\"-394.8\">gini = 0.686</text>\n",
       "<text font-family=\"Times New Roman,serif\" font-size=\"14.00\" text-anchor=\"middle\" x=\"2279.5\" y=\"-379.8\">samples = 42</text>\n",
       "<text font-family=\"Times New Roman,serif\" font-size=\"14.00\" text-anchor=\"middle\" x=\"2279.5\" y=\"-364.8\">value = [11, 18, 10, 3]</text>\n",
       "<text font-family=\"Times New Roman,serif\" font-size=\"14.00\" text-anchor=\"middle\" x=\"2279.5\" y=\"-349.8\">class = B</text>\n",
       "</g>\n",
       "<!-- 45&#45;&gt;46 -->\n",
       "<g class=\"edge\" id=\"edge46\"><title>45-&gt;46</title>\n",
       "<path d=\"M2766.31,-484.425C2660.39,-462.682 2478.08,-425.261 2369.15,-402.902\" fill=\"none\" stroke=\"black\"/>\n",
       "<polygon fill=\"black\" points=\"2369.67,-399.436 2359.17,-400.853 2368.26,-406.293 2369.67,-399.436\" stroke=\"black\"/>\n",
       "</g>\n",
       "<!-- 59 -->\n",
       "<g class=\"node\" id=\"node60\"><title>59</title>\n",
       "<polygon fill=\"#47e539\" points=\"2909,-417.5 2790,-417.5 2790,-349.5 2909,-349.5 2909,-417.5\" stroke=\"black\"/>\n",
       "<text font-family=\"Times New Roman,serif\" font-size=\"14.00\" text-anchor=\"middle\" x=\"2849.5\" y=\"-402.3\">gini = 0.0</text>\n",
       "<text font-family=\"Times New Roman,serif\" font-size=\"14.00\" text-anchor=\"middle\" x=\"2849.5\" y=\"-387.3\">samples = 3</text>\n",
       "<text font-family=\"Times New Roman,serif\" font-size=\"14.00\" text-anchor=\"middle\" x=\"2849.5\" y=\"-372.3\">value = [0, 3, 0, 0]</text>\n",
       "<text font-family=\"Times New Roman,serif\" font-size=\"14.00\" text-anchor=\"middle\" x=\"2849.5\" y=\"-357.3\">class = B</text>\n",
       "</g>\n",
       "<!-- 45&#45;&gt;59 -->\n",
       "<g class=\"edge\" id=\"edge59\"><title>45-&gt;59</title>\n",
       "<path d=\"M2849.5,-460.907C2849.5,-450.204 2849.5,-438.615 2849.5,-427.776\" fill=\"none\" stroke=\"black\"/>\n",
       "<polygon fill=\"black\" points=\"2853,-427.667 2849.5,-417.667 2846,-427.667 2853,-427.667\" stroke=\"black\"/>\n",
       "</g>\n",
       "<!-- 47 -->\n",
       "<g class=\"node\" id=\"node48\"><title>47</title>\n",
       "<polygon fill=\"#c2f6bd\" points=\"2000.5,-306 1874.5,-306 1874.5,-223 2000.5,-223 2000.5,-306\" stroke=\"black\"/>\n",
       "<text font-family=\"Times New Roman,serif\" font-size=\"14.00\" text-anchor=\"middle\" x=\"1937.5\" y=\"-290.8\">Age &lt;= 27.5</text>\n",
       "<text font-family=\"Times New Roman,serif\" font-size=\"14.00\" text-anchor=\"middle\" x=\"1937.5\" y=\"-275.8\">gini = 0.656</text>\n",
       "<text font-family=\"Times New Roman,serif\" font-size=\"14.00\" text-anchor=\"middle\" x=\"1937.5\" y=\"-260.8\">samples = 24</text>\n",
       "<text font-family=\"Times New Roman,serif\" font-size=\"14.00\" text-anchor=\"middle\" x=\"1937.5\" y=\"-245.8\">value = [6, 12, 3, 3]</text>\n",
       "<text font-family=\"Times New Roman,serif\" font-size=\"14.00\" text-anchor=\"middle\" x=\"1937.5\" y=\"-230.8\">class = B</text>\n",
       "</g>\n",
       "<!-- 46&#45;&gt;47 -->\n",
       "<g class=\"edge\" id=\"edge47\"><title>46-&gt;47</title>\n",
       "<path d=\"M2199.75,-355.216C2142.49,-335.629 2065.93,-309.438 2010.32,-290.413\" fill=\"none\" stroke=\"black\"/>\n",
       "<polygon fill=\"black\" points=\"2011.14,-286.992 2000.54,-287.067 2008.87,-293.616 2011.14,-286.992\" stroke=\"black\"/>\n",
       "</g>\n",
       "<!-- 52 -->\n",
       "<g class=\"node\" id=\"node53\"><title>52</title>\n",
       "<polygon fill=\"#eef7fd\" points=\"2339,-306 2220,-306 2220,-223 2339,-223 2339,-306\" stroke=\"black\"/>\n",
       "<text font-family=\"Times New Roman,serif\" font-size=\"14.00\" text-anchor=\"middle\" x=\"2279.5\" y=\"-290.8\">Gender &lt;= 0.5</text>\n",
       "<text font-family=\"Times New Roman,serif\" font-size=\"14.00\" text-anchor=\"middle\" x=\"2279.5\" y=\"-275.8\">gini = 0.66</text>\n",
       "<text font-family=\"Times New Roman,serif\" font-size=\"14.00\" text-anchor=\"middle\" x=\"2279.5\" y=\"-260.8\">samples = 18</text>\n",
       "<text font-family=\"Times New Roman,serif\" font-size=\"14.00\" text-anchor=\"middle\" x=\"2279.5\" y=\"-245.8\">value = [5, 6, 7, 0]</text>\n",
       "<text font-family=\"Times New Roman,serif\" font-size=\"14.00\" text-anchor=\"middle\" x=\"2279.5\" y=\"-230.8\">class = C</text>\n",
       "</g>\n",
       "<!-- 46&#45;&gt;52 -->\n",
       "<g class=\"edge\" id=\"edge52\"><title>46-&gt;52</title>\n",
       "<path d=\"M2279.5,-341.907C2279.5,-333.649 2279.5,-324.864 2279.5,-316.302\" fill=\"none\" stroke=\"black\"/>\n",
       "<polygon fill=\"black\" points=\"2283,-316.021 2279.5,-306.021 2276,-316.021 2283,-316.021\" stroke=\"black\"/>\n",
       "</g>\n",
       "<!-- 48 -->\n",
       "<g class=\"node\" id=\"node49\"><title>48</title>\n",
       "<polygon fill=\"#47e539\" points=\"1856,-179.5 1737,-179.5 1737,-111.5 1856,-111.5 1856,-179.5\" stroke=\"black\"/>\n",
       "<text font-family=\"Times New Roman,serif\" font-size=\"14.00\" text-anchor=\"middle\" x=\"1796.5\" y=\"-164.3\">gini = 0.0</text>\n",
       "<text font-family=\"Times New Roman,serif\" font-size=\"14.00\" text-anchor=\"middle\" x=\"1796.5\" y=\"-149.3\">samples = 3</text>\n",
       "<text font-family=\"Times New Roman,serif\" font-size=\"14.00\" text-anchor=\"middle\" x=\"1796.5\" y=\"-134.3\">value = [0, 3, 0, 0]</text>\n",
       "<text font-family=\"Times New Roman,serif\" font-size=\"14.00\" text-anchor=\"middle\" x=\"1796.5\" y=\"-119.3\">class = B</text>\n",
       "</g>\n",
       "<!-- 47&#45;&gt;48 -->\n",
       "<g class=\"edge\" id=\"edge48\"><title>47-&gt;48</title>\n",
       "<path d=\"M1888.58,-222.907C1874.22,-210.99 1858.53,-197.976 1844.25,-186.12\" fill=\"none\" stroke=\"black\"/>\n",
       "<polygon fill=\"black\" points=\"1846.4,-183.359 1836.47,-179.667 1841.93,-188.746 1846.4,-183.359\" stroke=\"black\"/>\n",
       "</g>\n",
       "<!-- 49 -->\n",
       "<g class=\"node\" id=\"node50\"><title>49</title>\n",
       "<polygon fill=\"#dafad7\" points=\"2000.5,-187 1874.5,-187 1874.5,-104 2000.5,-104 2000.5,-187\" stroke=\"black\"/>\n",
       "<text font-family=\"Times New Roman,serif\" font-size=\"14.00\" text-anchor=\"middle\" x=\"1937.5\" y=\"-171.8\">Family_Size &lt;= 3.5</text>\n",
       "<text font-family=\"Times New Roman,serif\" font-size=\"14.00\" text-anchor=\"middle\" x=\"1937.5\" y=\"-156.8\">gini = 0.694</text>\n",
       "<text font-family=\"Times New Roman,serif\" font-size=\"14.00\" text-anchor=\"middle\" x=\"1937.5\" y=\"-141.8\">samples = 21</text>\n",
       "<text font-family=\"Times New Roman,serif\" font-size=\"14.00\" text-anchor=\"middle\" x=\"1937.5\" y=\"-126.8\">value = [6, 9, 3, 3]</text>\n",
       "<text font-family=\"Times New Roman,serif\" font-size=\"14.00\" text-anchor=\"middle\" x=\"1937.5\" y=\"-111.8\">class = B</text>\n",
       "</g>\n",
       "<!-- 47&#45;&gt;49 -->\n",
       "<g class=\"edge\" id=\"edge49\"><title>47-&gt;49</title>\n",
       "<path d=\"M1937.5,-222.907C1937.5,-214.649 1937.5,-205.864 1937.5,-197.302\" fill=\"none\" stroke=\"black\"/>\n",
       "<polygon fill=\"black\" points=\"1941,-197.021 1937.5,-187.021 1934,-197.021 1941,-197.021\" stroke=\"black\"/>\n",
       "</g>\n",
       "<!-- 50 -->\n",
       "<g class=\"node\" id=\"node51\"><title>50</title>\n",
       "<polygon fill=\"#cef8ca\" points=\"1860,-68 1741,-68 1741,-0 1860,-0 1860,-68\" stroke=\"black\"/>\n",
       "<text font-family=\"Times New Roman,serif\" font-size=\"14.00\" text-anchor=\"middle\" x=\"1800.5\" y=\"-52.8\">gini = 0.69</text>\n",
       "<text font-family=\"Times New Roman,serif\" font-size=\"14.00\" text-anchor=\"middle\" x=\"1800.5\" y=\"-37.8\">samples = 20</text>\n",
       "<text font-family=\"Times New Roman,serif\" font-size=\"14.00\" text-anchor=\"middle\" x=\"1800.5\" y=\"-22.8\">value = [5, 9, 3, 3]</text>\n",
       "<text font-family=\"Times New Roman,serif\" font-size=\"14.00\" text-anchor=\"middle\" x=\"1800.5\" y=\"-7.8\">class = B</text>\n",
       "</g>\n",
       "<!-- 49&#45;&gt;50 -->\n",
       "<g class=\"edge\" id=\"edge50\"><title>49-&gt;50</title>\n",
       "<path d=\"M1886.49,-103.726C1874.62,-94.2406 1862,-84.1551 1850.19,-74.7159\" fill=\"none\" stroke=\"black\"/>\n",
       "<polygon fill=\"black\" points=\"1852.16,-71.8091 1842.16,-68.2996 1847.79,-77.2771 1852.16,-71.8091\" stroke=\"black\"/>\n",
       "</g>\n",
       "<!-- 51 -->\n",
       "<g class=\"node\" id=\"node52\"><title>51</title>\n",
       "<polygon fill=\"#e58139\" points=\"1997,-68 1878,-68 1878,-0 1997,-0 1997,-68\" stroke=\"black\"/>\n",
       "<text font-family=\"Times New Roman,serif\" font-size=\"14.00\" text-anchor=\"middle\" x=\"1937.5\" y=\"-52.8\">gini = 0.0</text>\n",
       "<text font-family=\"Times New Roman,serif\" font-size=\"14.00\" text-anchor=\"middle\" x=\"1937.5\" y=\"-37.8\">samples = 1</text>\n",
       "<text font-family=\"Times New Roman,serif\" font-size=\"14.00\" text-anchor=\"middle\" x=\"1937.5\" y=\"-22.8\">value = [1, 0, 0, 0]</text>\n",
       "<text font-family=\"Times New Roman,serif\" font-size=\"14.00\" text-anchor=\"middle\" x=\"1937.5\" y=\"-7.8\">class = A</text>\n",
       "</g>\n",
       "<!-- 49&#45;&gt;51 -->\n",
       "<g class=\"edge\" id=\"edge51\"><title>49-&gt;51</title>\n",
       "<path d=\"M1937.5,-103.726C1937.5,-95.5175 1937.5,-86.8595 1937.5,-78.56\" fill=\"none\" stroke=\"black\"/>\n",
       "<polygon fill=\"black\" points=\"1941,-78.2996 1937.5,-68.2996 1934,-78.2996 1941,-78.2996\" stroke=\"black\"/>\n",
       "</g>\n",
       "<!-- 53 -->\n",
       "<g class=\"node\" id=\"node54\"><title>53</title>\n",
       "<polygon fill=\"#88c4ef\" points=\"2262.5,-187 2136.5,-187 2136.5,-104 2262.5,-104 2262.5,-187\" stroke=\"black\"/>\n",
       "<text font-family=\"Times New Roman,serif\" font-size=\"14.00\" text-anchor=\"middle\" x=\"2199.5\" y=\"-171.8\">Family_Size &lt;= 2.5</text>\n",
       "<text font-family=\"Times New Roman,serif\" font-size=\"14.00\" text-anchor=\"middle\" x=\"2199.5\" y=\"-156.8\">gini = 0.5</text>\n",
       "<text font-family=\"Times New Roman,serif\" font-size=\"14.00\" text-anchor=\"middle\" x=\"2199.5\" y=\"-141.8\">samples = 6</text>\n",
       "<text font-family=\"Times New Roman,serif\" font-size=\"14.00\" text-anchor=\"middle\" x=\"2199.5\" y=\"-126.8\">value = [1, 1, 4, 0]</text>\n",
       "<text font-family=\"Times New Roman,serif\" font-size=\"14.00\" text-anchor=\"middle\" x=\"2199.5\" y=\"-111.8\">class = C</text>\n",
       "</g>\n",
       "<!-- 52&#45;&gt;53 -->\n",
       "<g class=\"edge\" id=\"edge53\"><title>52-&gt;53</title>\n",
       "<path d=\"M2251.74,-222.907C2245.66,-214.014 2239.16,-204.509 2232.89,-195.331\" fill=\"none\" stroke=\"black\"/>\n",
       "<polygon fill=\"black\" points=\"2235.74,-193.3 2227.21,-187.021 2229.96,-197.251 2235.74,-193.3\" stroke=\"black\"/>\n",
       "</g>\n",
       "<!-- 56 -->\n",
       "<g class=\"node\" id=\"node57\"><title>56</title>\n",
       "<polygon fill=\"#e8fce6\" points=\"2440,-187 2281,-187 2281,-104 2440,-104 2440,-187\" stroke=\"black\"/>\n",
       "<text font-family=\"Times New Roman,serif\" font-size=\"14.00\" text-anchor=\"middle\" x=\"2360.5\" y=\"-171.8\">Work_Experience &lt;= 5.5</text>\n",
       "<text font-family=\"Times New Roman,serif\" font-size=\"14.00\" text-anchor=\"middle\" x=\"2360.5\" y=\"-156.8\">gini = 0.653</text>\n",
       "<text font-family=\"Times New Roman,serif\" font-size=\"14.00\" text-anchor=\"middle\" x=\"2360.5\" y=\"-141.8\">samples = 12</text>\n",
       "<text font-family=\"Times New Roman,serif\" font-size=\"14.00\" text-anchor=\"middle\" x=\"2360.5\" y=\"-126.8\">value = [4, 5, 3, 0]</text>\n",
       "<text font-family=\"Times New Roman,serif\" font-size=\"14.00\" text-anchor=\"middle\" x=\"2360.5\" y=\"-111.8\">class = B</text>\n",
       "</g>\n",
       "<!-- 52&#45;&gt;56 -->\n",
       "<g class=\"edge\" id=\"edge56\"><title>52-&gt;56</title>\n",
       "<path d=\"M2307.6,-222.907C2313.76,-214.014 2320.34,-204.509 2326.69,-195.331\" fill=\"none\" stroke=\"black\"/>\n",
       "<polygon fill=\"black\" points=\"2329.63,-197.235 2332.45,-187.021 2323.88,-193.251 2329.63,-197.235\" stroke=\"black\"/>\n",
       "</g>\n",
       "<!-- 54 -->\n",
       "<g class=\"node\" id=\"node55\"><title>54</title>\n",
       "<polygon fill=\"#6ab6ec\" points=\"2134,-68 2015,-68 2015,-0 2134,-0 2134,-68\" stroke=\"black\"/>\n",
       "<text font-family=\"Times New Roman,serif\" font-size=\"14.00\" text-anchor=\"middle\" x=\"2074.5\" y=\"-52.8\">gini = 0.32</text>\n",
       "<text font-family=\"Times New Roman,serif\" font-size=\"14.00\" text-anchor=\"middle\" x=\"2074.5\" y=\"-37.8\">samples = 5</text>\n",
       "<text font-family=\"Times New Roman,serif\" font-size=\"14.00\" text-anchor=\"middle\" x=\"2074.5\" y=\"-22.8\">value = [0, 1, 4, 0]</text>\n",
       "<text font-family=\"Times New Roman,serif\" font-size=\"14.00\" text-anchor=\"middle\" x=\"2074.5\" y=\"-7.8\">class = C</text>\n",
       "</g>\n",
       "<!-- 53&#45;&gt;54 -->\n",
       "<g class=\"edge\" id=\"edge54\"><title>53-&gt;54</title>\n",
       "<path d=\"M2152.95,-103.726C2142.23,-94.3318 2130.83,-84.349 2120.15,-74.9883\" fill=\"none\" stroke=\"black\"/>\n",
       "<polygon fill=\"black\" points=\"2122.34,-72.2562 2112.51,-68.2996 2117.73,-77.5217 2122.34,-72.2562\" stroke=\"black\"/>\n",
       "</g>\n",
       "<!-- 55 -->\n",
       "<g class=\"node\" id=\"node56\"><title>55</title>\n",
       "<polygon fill=\"#e58139\" points=\"2271,-68 2152,-68 2152,-0 2271,-0 2271,-68\" stroke=\"black\"/>\n",
       "<text font-family=\"Times New Roman,serif\" font-size=\"14.00\" text-anchor=\"middle\" x=\"2211.5\" y=\"-52.8\">gini = 0.0</text>\n",
       "<text font-family=\"Times New Roman,serif\" font-size=\"14.00\" text-anchor=\"middle\" x=\"2211.5\" y=\"-37.8\">samples = 1</text>\n",
       "<text font-family=\"Times New Roman,serif\" font-size=\"14.00\" text-anchor=\"middle\" x=\"2211.5\" y=\"-22.8\">value = [1, 0, 0, 0]</text>\n",
       "<text font-family=\"Times New Roman,serif\" font-size=\"14.00\" text-anchor=\"middle\" x=\"2211.5\" y=\"-7.8\">class = A</text>\n",
       "</g>\n",
       "<!-- 53&#45;&gt;55 -->\n",
       "<g class=\"edge\" id=\"edge55\"><title>53-&gt;55</title>\n",
       "<path d=\"M2203.97,-103.726C2204.88,-95.4263 2205.84,-86.6671 2206.76,-78.2834\" fill=\"none\" stroke=\"black\"/>\n",
       "<polygon fill=\"black\" points=\"2210.24,-78.6214 2207.85,-68.2996 2203.28,-77.8588 2210.24,-78.6214\" stroke=\"black\"/>\n",
       "</g>\n",
       "<!-- 57 -->\n",
       "<g class=\"node\" id=\"node58\"><title>57</title>\n",
       "<polygon fill=\"#e58139\" points=\"2408,-68 2289,-68 2289,-0 2408,-0 2408,-68\" stroke=\"black\"/>\n",
       "<text font-family=\"Times New Roman,serif\" font-size=\"14.00\" text-anchor=\"middle\" x=\"2348.5\" y=\"-52.8\">gini = 0.0</text>\n",
       "<text font-family=\"Times New Roman,serif\" font-size=\"14.00\" text-anchor=\"middle\" x=\"2348.5\" y=\"-37.8\">samples = 2</text>\n",
       "<text font-family=\"Times New Roman,serif\" font-size=\"14.00\" text-anchor=\"middle\" x=\"2348.5\" y=\"-22.8\">value = [2, 0, 0, 0]</text>\n",
       "<text font-family=\"Times New Roman,serif\" font-size=\"14.00\" text-anchor=\"middle\" x=\"2348.5\" y=\"-7.8\">class = A</text>\n",
       "</g>\n",
       "<!-- 56&#45;&gt;57 -->\n",
       "<g class=\"edge\" id=\"edge57\"><title>56-&gt;57</title>\n",
       "<path d=\"M2356.03,-103.726C2355.12,-95.4263 2354.16,-86.6671 2353.24,-78.2834\" fill=\"none\" stroke=\"black\"/>\n",
       "<polygon fill=\"black\" points=\"2356.72,-77.8588 2352.15,-68.2996 2349.76,-78.6214 2356.72,-77.8588\" stroke=\"black\"/>\n",
       "</g>\n",
       "<!-- 58 -->\n",
       "<g class=\"node\" id=\"node59\"><title>58</title>\n",
       "<polygon fill=\"#caf8c6\" points=\"2545,-68 2426,-68 2426,-0 2545,-0 2545,-68\" stroke=\"black\"/>\n",
       "<text font-family=\"Times New Roman,serif\" font-size=\"14.00\" text-anchor=\"middle\" x=\"2485.5\" y=\"-52.8\">gini = 0.62</text>\n",
       "<text font-family=\"Times New Roman,serif\" font-size=\"14.00\" text-anchor=\"middle\" x=\"2485.5\" y=\"-37.8\">samples = 10</text>\n",
       "<text font-family=\"Times New Roman,serif\" font-size=\"14.00\" text-anchor=\"middle\" x=\"2485.5\" y=\"-22.8\">value = [2, 5, 3, 0]</text>\n",
       "<text font-family=\"Times New Roman,serif\" font-size=\"14.00\" text-anchor=\"middle\" x=\"2485.5\" y=\"-7.8\">class = B</text>\n",
       "</g>\n",
       "<!-- 56&#45;&gt;58 -->\n",
       "<g class=\"edge\" id=\"edge58\"><title>56-&gt;58</title>\n",
       "<path d=\"M2407.05,-103.726C2417.77,-94.3318 2429.17,-84.349 2439.85,-74.9883\" fill=\"none\" stroke=\"black\"/>\n",
       "<polygon fill=\"black\" points=\"2442.27,-77.5217 2447.49,-68.2996 2437.66,-72.2562 2442.27,-77.5217\" stroke=\"black\"/>\n",
       "</g>\n",
       "<!-- 61 -->\n",
       "<g class=\"node\" id=\"node62\"><title>61</title>\n",
       "<polygon fill=\"#f5d0b5\" points=\"3467.5,-425 3327.5,-425 3327.5,-342 3467.5,-342 3467.5,-425\" stroke=\"black\"/>\n",
       "<text font-family=\"Times New Roman,serif\" font-size=\"14.00\" text-anchor=\"middle\" x=\"3397.5\" y=\"-409.8\">Gender &lt;= 0.5</text>\n",
       "<text font-family=\"Times New Roman,serif\" font-size=\"14.00\" text-anchor=\"middle\" x=\"3397.5\" y=\"-394.8\">gini = 0.642</text>\n",
       "<text font-family=\"Times New Roman,serif\" font-size=\"14.00\" text-anchor=\"middle\" x=\"3397.5\" y=\"-379.8\">samples = 98</text>\n",
       "<text font-family=\"Times New Roman,serif\" font-size=\"14.00\" text-anchor=\"middle\" x=\"3397.5\" y=\"-364.8\">value = [51, 23, 9, 15]</text>\n",
       "<text font-family=\"Times New Roman,serif\" font-size=\"14.00\" text-anchor=\"middle\" x=\"3397.5\" y=\"-349.8\">class = A</text>\n",
       "</g>\n",
       "<!-- 60&#45;&gt;61 -->\n",
       "<g class=\"edge\" id=\"edge61\"><title>60-&gt;61</title>\n",
       "<path d=\"M3528.76,-460.907C3511.77,-451.016 3493.48,-440.368 3476.1,-430.254\" fill=\"none\" stroke=\"black\"/>\n",
       "<polygon fill=\"black\" points=\"3477.52,-427.027 3467.11,-425.021 3473.99,-433.076 3477.52,-427.027\" stroke=\"black\"/>\n",
       "</g>\n",
       "<!-- 76 -->\n",
       "<g class=\"node\" id=\"node77\"><title>76</title>\n",
       "<polygon fill=\"#f8dfcd\" points=\"3868.5,-425 3728.5,-425 3728.5,-342 3868.5,-342 3868.5,-425\" stroke=\"black\"/>\n",
       "<text font-family=\"Times New Roman,serif\" font-size=\"14.00\" text-anchor=\"middle\" x=\"3798.5\" y=\"-409.8\">Ever_Married &lt;= 1.0</text>\n",
       "<text font-family=\"Times New Roman,serif\" font-size=\"14.00\" text-anchor=\"middle\" x=\"3798.5\" y=\"-394.8\">gini = 0.675</text>\n",
       "<text font-family=\"Times New Roman,serif\" font-size=\"14.00\" text-anchor=\"middle\" x=\"3798.5\" y=\"-379.8\">samples = 102</text>\n",
       "<text font-family=\"Times New Roman,serif\" font-size=\"14.00\" text-anchor=\"middle\" x=\"3798.5\" y=\"-364.8\">value = [46, 7, 22, 27]</text>\n",
       "<text font-family=\"Times New Roman,serif\" font-size=\"14.00\" text-anchor=\"middle\" x=\"3798.5\" y=\"-349.8\">class = A</text>\n",
       "</g>\n",
       "<!-- 60&#45;&gt;76 -->\n",
       "<g class=\"edge\" id=\"edge76\"><title>60-&gt;76</title>\n",
       "<path d=\"M3667.89,-460.907C3684.8,-451.016 3703,-440.368 3720.29,-430.254\" fill=\"none\" stroke=\"black\"/>\n",
       "<polygon fill=\"black\" points=\"3722.37,-433.091 3729.23,-425.021 3718.83,-427.049 3722.37,-433.091\" stroke=\"black\"/>\n",
       "</g>\n",
       "<!-- 62 -->\n",
       "<g class=\"node\" id=\"node63\"><title>62</title>\n",
       "<polygon fill=\"#fcf3ec\" points=\"3049,-306 2916,-306 2916,-223 3049,-223 3049,-306\" stroke=\"black\"/>\n",
       "<text font-family=\"Times New Roman,serif\" font-size=\"14.00\" text-anchor=\"middle\" x=\"2982.5\" y=\"-290.8\">Var_1 &lt;= 3.5</text>\n",
       "<text font-family=\"Times New Roman,serif\" font-size=\"14.00\" text-anchor=\"middle\" x=\"2982.5\" y=\"-275.8\">gini = 0.687</text>\n",
       "<text font-family=\"Times New Roman,serif\" font-size=\"14.00\" text-anchor=\"middle\" x=\"2982.5\" y=\"-260.8\">samples = 47</text>\n",
       "<text font-family=\"Times New Roman,serif\" font-size=\"14.00\" text-anchor=\"middle\" x=\"2982.5\" y=\"-245.8\">value = [19, 16, 5, 7]</text>\n",
       "<text font-family=\"Times New Roman,serif\" font-size=\"14.00\" text-anchor=\"middle\" x=\"2982.5\" y=\"-230.8\">class = A</text>\n",
       "</g>\n",
       "<!-- 61&#45;&gt;62 -->\n",
       "<g class=\"edge\" id=\"edge62\"><title>61-&gt;62</title>\n",
       "<path d=\"M3327.1,-362.653C3252.74,-341.688 3135.86,-308.735 3059.19,-287.122\" fill=\"none\" stroke=\"black\"/>\n",
       "<polygon fill=\"black\" points=\"3059.69,-283.627 3049.12,-284.282 3057.79,-290.364 3059.69,-283.627\" stroke=\"black\"/>\n",
       "</g>\n",
       "<!-- 69 -->\n",
       "<g class=\"node\" id=\"node70\"><title>69</title>\n",
       "<polygon fill=\"#f0b990\" points=\"3477,-306 3318,-306 3318,-223 3477,-223 3477,-306\" stroke=\"black\"/>\n",
       "<text font-family=\"Times New Roman,serif\" font-size=\"14.00\" text-anchor=\"middle\" x=\"3397.5\" y=\"-290.8\">Work_Experience &lt;= 5.5</text>\n",
       "<text font-family=\"Times New Roman,serif\" font-size=\"14.00\" text-anchor=\"middle\" x=\"3397.5\" y=\"-275.8\">gini = 0.557</text>\n",
       "<text font-family=\"Times New Roman,serif\" font-size=\"14.00\" text-anchor=\"middle\" x=\"3397.5\" y=\"-260.8\">samples = 51</text>\n",
       "<text font-family=\"Times New Roman,serif\" font-size=\"14.00\" text-anchor=\"middle\" x=\"3397.5\" y=\"-245.8\">value = [32, 7, 4, 8]</text>\n",
       "<text font-family=\"Times New Roman,serif\" font-size=\"14.00\" text-anchor=\"middle\" x=\"3397.5\" y=\"-230.8\">class = A</text>\n",
       "</g>\n",
       "<!-- 61&#45;&gt;69 -->\n",
       "<g class=\"edge\" id=\"edge69\"><title>61-&gt;69</title>\n",
       "<path d=\"M3397.5,-341.907C3397.5,-333.649 3397.5,-324.864 3397.5,-316.302\" fill=\"none\" stroke=\"black\"/>\n",
       "<polygon fill=\"black\" points=\"3401,-316.021 3397.5,-306.021 3394,-316.021 3401,-316.021\" stroke=\"black\"/>\n",
       "</g>\n",
       "<!-- 63 -->\n",
       "<g class=\"node\" id=\"node64\"><title>63</title>\n",
       "<polygon fill=\"#d1f8ce\" points=\"2822.5,-187 2696.5,-187 2696.5,-104 2822.5,-104 2822.5,-187\" stroke=\"black\"/>\n",
       "<text font-family=\"Times New Roman,serif\" font-size=\"14.00\" text-anchor=\"middle\" x=\"2759.5\" y=\"-171.8\">Family_Size &lt;= 1.5</text>\n",
       "<text font-family=\"Times New Roman,serif\" font-size=\"14.00\" text-anchor=\"middle\" x=\"2759.5\" y=\"-156.8\">gini = 0.49</text>\n",
       "<text font-family=\"Times New Roman,serif\" font-size=\"14.00\" text-anchor=\"middle\" x=\"2759.5\" y=\"-141.8\">samples = 7</text>\n",
       "<text font-family=\"Times New Roman,serif\" font-size=\"14.00\" text-anchor=\"middle\" x=\"2759.5\" y=\"-126.8\">value = [0, 4, 0, 3]</text>\n",
       "<text font-family=\"Times New Roman,serif\" font-size=\"14.00\" text-anchor=\"middle\" x=\"2759.5\" y=\"-111.8\">class = B</text>\n",
       "</g>\n",
       "<!-- 62&#45;&gt;63 -->\n",
       "<g class=\"edge\" id=\"edge63\"><title>62-&gt;63</title>\n",
       "<path d=\"M2915.89,-228.555C2889.37,-214.64 2858.79,-198.592 2831.73,-184.398\" fill=\"none\" stroke=\"black\"/>\n",
       "<polygon fill=\"black\" points=\"2833.19,-181.208 2822.71,-179.661 2829.93,-187.407 2833.19,-181.208\" stroke=\"black\"/>\n",
       "</g>\n",
       "<!-- 66 -->\n",
       "<g class=\"node\" id=\"node67\"><title>66</title>\n",
       "<polygon fill=\"#f8e0ce\" points=\"3062,-187 2903,-187 2903,-104 3062,-104 3062,-187\" stroke=\"black\"/>\n",
       "<text font-family=\"Times New Roman,serif\" font-size=\"14.00\" text-anchor=\"middle\" x=\"2982.5\" y=\"-171.8\">Work_Experience &lt;= 7.5</text>\n",
       "<text font-family=\"Times New Roman,serif\" font-size=\"14.00\" text-anchor=\"middle\" x=\"2982.5\" y=\"-156.8\">gini = 0.659</text>\n",
       "<text font-family=\"Times New Roman,serif\" font-size=\"14.00\" text-anchor=\"middle\" x=\"2982.5\" y=\"-141.8\">samples = 40</text>\n",
       "<text font-family=\"Times New Roman,serif\" font-size=\"14.00\" text-anchor=\"middle\" x=\"2982.5\" y=\"-126.8\">value = [19, 12, 5, 4]</text>\n",
       "<text font-family=\"Times New Roman,serif\" font-size=\"14.00\" text-anchor=\"middle\" x=\"2982.5\" y=\"-111.8\">class = A</text>\n",
       "</g>\n",
       "<!-- 62&#45;&gt;66 -->\n",
       "<g class=\"edge\" id=\"edge66\"><title>62-&gt;66</title>\n",
       "<path d=\"M2982.5,-222.907C2982.5,-214.649 2982.5,-205.864 2982.5,-197.302\" fill=\"none\" stroke=\"black\"/>\n",
       "<polygon fill=\"black\" points=\"2986,-197.021 2982.5,-187.021 2979,-197.021 2986,-197.021\" stroke=\"black\"/>\n",
       "</g>\n",
       "<!-- 64 -->\n",
       "<g class=\"node\" id=\"node65\"><title>64</title>\n",
       "<polygon fill=\"#75ec6a\" points=\"2682,-68 2563,-68 2563,-0 2682,-0 2682,-68\" stroke=\"black\"/>\n",
       "<text font-family=\"Times New Roman,serif\" font-size=\"14.00\" text-anchor=\"middle\" x=\"2622.5\" y=\"-52.8\">gini = 0.32</text>\n",
       "<text font-family=\"Times New Roman,serif\" font-size=\"14.00\" text-anchor=\"middle\" x=\"2622.5\" y=\"-37.8\">samples = 5</text>\n",
       "<text font-family=\"Times New Roman,serif\" font-size=\"14.00\" text-anchor=\"middle\" x=\"2622.5\" y=\"-22.8\">value = [0, 4, 0, 1]</text>\n",
       "<text font-family=\"Times New Roman,serif\" font-size=\"14.00\" text-anchor=\"middle\" x=\"2622.5\" y=\"-7.8\">class = B</text>\n",
       "</g>\n",
       "<!-- 63&#45;&gt;64 -->\n",
       "<g class=\"edge\" id=\"edge64\"><title>63-&gt;64</title>\n",
       "<path d=\"M2708.49,-103.726C2696.62,-94.2406 2684,-84.1551 2672.19,-74.7159\" fill=\"none\" stroke=\"black\"/>\n",
       "<polygon fill=\"black\" points=\"2674.16,-71.8091 2664.16,-68.2996 2669.79,-77.2771 2674.16,-71.8091\" stroke=\"black\"/>\n",
       "</g>\n",
       "<!-- 65 -->\n",
       "<g class=\"node\" id=\"node66\"><title>65</title>\n",
       "<polygon fill=\"#d739e5\" points=\"2819,-68 2700,-68 2700,-0 2819,-0 2819,-68\" stroke=\"black\"/>\n",
       "<text font-family=\"Times New Roman,serif\" font-size=\"14.00\" text-anchor=\"middle\" x=\"2759.5\" y=\"-52.8\">gini = 0.0</text>\n",
       "<text font-family=\"Times New Roman,serif\" font-size=\"14.00\" text-anchor=\"middle\" x=\"2759.5\" y=\"-37.8\">samples = 2</text>\n",
       "<text font-family=\"Times New Roman,serif\" font-size=\"14.00\" text-anchor=\"middle\" x=\"2759.5\" y=\"-22.8\">value = [0, 0, 0, 2]</text>\n",
       "<text font-family=\"Times New Roman,serif\" font-size=\"14.00\" text-anchor=\"middle\" x=\"2759.5\" y=\"-7.8\">class = D</text>\n",
       "</g>\n",
       "<!-- 63&#45;&gt;65 -->\n",
       "<g class=\"edge\" id=\"edge65\"><title>63-&gt;65</title>\n",
       "<path d=\"M2759.5,-103.726C2759.5,-95.5175 2759.5,-86.8595 2759.5,-78.56\" fill=\"none\" stroke=\"black\"/>\n",
       "<polygon fill=\"black\" points=\"2763,-78.2996 2759.5,-68.2996 2756,-78.2996 2763,-78.2996\" stroke=\"black\"/>\n",
       "</g>\n",
       "<!-- 67 -->\n",
       "<g class=\"node\" id=\"node68\"><title>67</title>\n",
       "<polygon fill=\"#f4c8a8\" points=\"2963.5,-68 2837.5,-68 2837.5,-0 2963.5,-0 2963.5,-68\" stroke=\"black\"/>\n",
       "<text font-family=\"Times New Roman,serif\" font-size=\"14.00\" text-anchor=\"middle\" x=\"2900.5\" y=\"-52.8\">gini = 0.625</text>\n",
       "<text font-family=\"Times New Roman,serif\" font-size=\"14.00\" text-anchor=\"middle\" x=\"2900.5\" y=\"-37.8\">samples = 20</text>\n",
       "<text font-family=\"Times New Roman,serif\" font-size=\"14.00\" text-anchor=\"middle\" x=\"2900.5\" y=\"-22.8\">value = [11, 2, 4, 3]</text>\n",
       "<text font-family=\"Times New Roman,serif\" font-size=\"14.00\" text-anchor=\"middle\" x=\"2900.5\" y=\"-7.8\">class = A</text>\n",
       "</g>\n",
       "<!-- 66&#45;&gt;67 -->\n",
       "<g class=\"edge\" id=\"edge67\"><title>66-&gt;67</title>\n",
       "<path d=\"M2951.97,-103.726C2945.27,-94.7878 2938.18,-85.3168 2931.47,-76.3558\" fill=\"none\" stroke=\"black\"/>\n",
       "<polygon fill=\"black\" points=\"2934.23,-74.206 2925.44,-68.2996 2928.63,-78.402 2934.23,-74.206\" stroke=\"black\"/>\n",
       "</g>\n",
       "<!-- 68 -->\n",
       "<g class=\"node\" id=\"node69\"><title>68</title>\n",
       "<polygon fill=\"#e0fbde\" points=\"3107.5,-68 2981.5,-68 2981.5,-0 3107.5,-0 3107.5,-68\" stroke=\"black\"/>\n",
       "<text font-family=\"Times New Roman,serif\" font-size=\"14.00\" text-anchor=\"middle\" x=\"3044.5\" y=\"-52.8\">gini = 0.585</text>\n",
       "<text font-family=\"Times New Roman,serif\" font-size=\"14.00\" text-anchor=\"middle\" x=\"3044.5\" y=\"-37.8\">samples = 20</text>\n",
       "<text font-family=\"Times New Roman,serif\" font-size=\"14.00\" text-anchor=\"middle\" x=\"3044.5\" y=\"-22.8\">value = [8, 10, 1, 1]</text>\n",
       "<text font-family=\"Times New Roman,serif\" font-size=\"14.00\" text-anchor=\"middle\" x=\"3044.5\" y=\"-7.8\">class = B</text>\n",
       "</g>\n",
       "<!-- 66&#45;&gt;68 -->\n",
       "<g class=\"edge\" id=\"edge68\"><title>66-&gt;68</title>\n",
       "<path d=\"M3005.59,-103.726C3010.49,-95.0615 3015.68,-85.8962 3020.62,-77.1802\" fill=\"none\" stroke=\"black\"/>\n",
       "<polygon fill=\"black\" points=\"3023.76,-78.726 3025.65,-68.2996 3017.67,-75.277 3023.76,-78.726\" stroke=\"black\"/>\n",
       "</g>\n",
       "<!-- 70 -->\n",
       "<g class=\"node\" id=\"node71\"><title>70</title>\n",
       "<polygon fill=\"#f5cfb3\" points=\"3388.5,-187 3262.5,-187 3262.5,-104 3388.5,-104 3388.5,-187\" stroke=\"black\"/>\n",
       "<text font-family=\"Times New Roman,serif\" font-size=\"14.00\" text-anchor=\"middle\" x=\"3325.5\" y=\"-171.8\">Var_1 &lt;= 2.5</text>\n",
       "<text font-family=\"Times New Roman,serif\" font-size=\"14.00\" text-anchor=\"middle\" x=\"3325.5\" y=\"-156.8\">gini = 0.652</text>\n",
       "<text font-family=\"Times New Roman,serif\" font-size=\"14.00\" text-anchor=\"middle\" x=\"3325.5\" y=\"-141.8\">samples = 33</text>\n",
       "<text font-family=\"Times New Roman,serif\" font-size=\"14.00\" text-anchor=\"middle\" x=\"3325.5\" y=\"-126.8\">value = [17, 5, 4, 7]</text>\n",
       "<text font-family=\"Times New Roman,serif\" font-size=\"14.00\" text-anchor=\"middle\" x=\"3325.5\" y=\"-111.8\">class = A</text>\n",
       "</g>\n",
       "<!-- 69&#45;&gt;70 -->\n",
       "<g class=\"edge\" id=\"edge70\"><title>69-&gt;70</title>\n",
       "<path d=\"M3372.52,-222.907C3367.1,-214.105 3361.32,-204.703 3355.72,-195.612\" fill=\"none\" stroke=\"black\"/>\n",
       "<polygon fill=\"black\" points=\"3358.66,-193.703 3350.44,-187.021 3352.7,-197.372 3358.66,-193.703\" stroke=\"black\"/>\n",
       "</g>\n",
       "<!-- 73 -->\n",
       "<g class=\"node\" id=\"node74\"><title>73</title>\n",
       "<polygon fill=\"#ea995e\" points=\"3532.5,-187 3406.5,-187 3406.5,-104 3532.5,-104 3532.5,-187\" stroke=\"black\"/>\n",
       "<text font-family=\"Times New Roman,serif\" font-size=\"14.00\" text-anchor=\"middle\" x=\"3469.5\" y=\"-171.8\">Age &lt;= 29.5</text>\n",
       "<text font-family=\"Times New Roman,serif\" font-size=\"14.00\" text-anchor=\"middle\" x=\"3469.5\" y=\"-156.8\">gini = 0.29</text>\n",
       "<text font-family=\"Times New Roman,serif\" font-size=\"14.00\" text-anchor=\"middle\" x=\"3469.5\" y=\"-141.8\">samples = 18</text>\n",
       "<text font-family=\"Times New Roman,serif\" font-size=\"14.00\" text-anchor=\"middle\" x=\"3469.5\" y=\"-126.8\">value = [15, 2, 0, 1]</text>\n",
       "<text font-family=\"Times New Roman,serif\" font-size=\"14.00\" text-anchor=\"middle\" x=\"3469.5\" y=\"-111.8\">class = A</text>\n",
       "</g>\n",
       "<!-- 69&#45;&gt;73 -->\n",
       "<g class=\"edge\" id=\"edge73\"><title>69-&gt;73</title>\n",
       "<path d=\"M3422.48,-222.907C3427.9,-214.105 3433.68,-204.703 3439.28,-195.612\" fill=\"none\" stroke=\"black\"/>\n",
       "<polygon fill=\"black\" points=\"3442.3,-197.372 3444.56,-187.021 3436.34,-193.703 3442.3,-197.372\" stroke=\"black\"/>\n",
       "</g>\n",
       "<!-- 71 -->\n",
       "<g class=\"node\" id=\"node72\"><title>71</title>\n",
       "<polygon fill=\"#9ccef2\" points=\"3245,-68 3126,-68 3126,-0 3245,-0 3245,-68\" stroke=\"black\"/>\n",
       "<text font-family=\"Times New Roman,serif\" font-size=\"14.00\" text-anchor=\"middle\" x=\"3185.5\" y=\"-52.8\">gini = 0.56</text>\n",
       "<text font-family=\"Times New Roman,serif\" font-size=\"14.00\" text-anchor=\"middle\" x=\"3185.5\" y=\"-37.8\">samples = 5</text>\n",
       "<text font-family=\"Times New Roman,serif\" font-size=\"14.00\" text-anchor=\"middle\" x=\"3185.5\" y=\"-22.8\">value = [1, 1, 3, 0]</text>\n",
       "<text font-family=\"Times New Roman,serif\" font-size=\"14.00\" text-anchor=\"middle\" x=\"3185.5\" y=\"-7.8\">class = C</text>\n",
       "</g>\n",
       "<!-- 70&#45;&gt;71 -->\n",
       "<g class=\"edge\" id=\"edge71\"><title>70-&gt;71</title>\n",
       "<path d=\"M3273.37,-103.726C3261.24,-94.2406 3248.35,-84.1551 3236.28,-74.7159\" fill=\"none\" stroke=\"black\"/>\n",
       "<polygon fill=\"black\" points=\"3238.11,-71.7035 3228.07,-68.2996 3233.8,-77.2173 3238.11,-71.7035\" stroke=\"black\"/>\n",
       "</g>\n",
       "<!-- 72 -->\n",
       "<g class=\"node\" id=\"node73\"><title>72</title>\n",
       "<polygon fill=\"#f4c9aa\" points=\"3389.5,-68 3263.5,-68 3263.5,-0 3389.5,-0 3389.5,-68\" stroke=\"black\"/>\n",
       "<text font-family=\"Times New Roman,serif\" font-size=\"14.00\" text-anchor=\"middle\" x=\"3326.5\" y=\"-52.8\">gini = 0.589</text>\n",
       "<text font-family=\"Times New Roman,serif\" font-size=\"14.00\" text-anchor=\"middle\" x=\"3326.5\" y=\"-37.8\">samples = 28</text>\n",
       "<text font-family=\"Times New Roman,serif\" font-size=\"14.00\" text-anchor=\"middle\" x=\"3326.5\" y=\"-22.8\">value = [16, 4, 1, 7]</text>\n",
       "<text font-family=\"Times New Roman,serif\" font-size=\"14.00\" text-anchor=\"middle\" x=\"3326.5\" y=\"-7.8\">class = A</text>\n",
       "</g>\n",
       "<!-- 70&#45;&gt;72 -->\n",
       "<g class=\"edge\" id=\"edge72\"><title>70-&gt;72</title>\n",
       "<path d=\"M3325.87,-103.726C3325.95,-95.5175 3326.03,-86.8595 3326.1,-78.56\" fill=\"none\" stroke=\"black\"/>\n",
       "<polygon fill=\"black\" points=\"3329.6,-78.3312 3326.2,-68.2996 3322.6,-78.2672 3329.6,-78.3312\" stroke=\"black\"/>\n",
       "</g>\n",
       "<!-- 74 -->\n",
       "<g class=\"node\" id=\"node75\"><title>74</title>\n",
       "<polygon fill=\"#eeab7b\" points=\"3527,-68 3408,-68 3408,-0 3527,-0 3527,-68\" stroke=\"black\"/>\n",
       "<text font-family=\"Times New Roman,serif\" font-size=\"14.00\" text-anchor=\"middle\" x=\"3467.5\" y=\"-52.8\">gini = 0.43</text>\n",
       "<text font-family=\"Times New Roman,serif\" font-size=\"14.00\" text-anchor=\"middle\" x=\"3467.5\" y=\"-37.8\">samples = 11</text>\n",
       "<text font-family=\"Times New Roman,serif\" font-size=\"14.00\" text-anchor=\"middle\" x=\"3467.5\" y=\"-22.8\">value = [8, 2, 0, 1]</text>\n",
       "<text font-family=\"Times New Roman,serif\" font-size=\"14.00\" text-anchor=\"middle\" x=\"3467.5\" y=\"-7.8\">class = A</text>\n",
       "</g>\n",
       "<!-- 73&#45;&gt;74 -->\n",
       "<g class=\"edge\" id=\"edge74\"><title>73-&gt;74</title>\n",
       "<path d=\"M3468.76,-103.726C3468.61,-95.5175 3468.45,-86.8595 3468.3,-78.56\" fill=\"none\" stroke=\"black\"/>\n",
       "<polygon fill=\"black\" points=\"3471.79,-78.234 3468.11,-68.2996 3464.79,-78.3619 3471.79,-78.234\" stroke=\"black\"/>\n",
       "</g>\n",
       "<!-- 75 -->\n",
       "<g class=\"node\" id=\"node76\"><title>75</title>\n",
       "<polygon fill=\"#e58139\" points=\"3664,-68 3545,-68 3545,-0 3664,-0 3664,-68\" stroke=\"black\"/>\n",
       "<text font-family=\"Times New Roman,serif\" font-size=\"14.00\" text-anchor=\"middle\" x=\"3604.5\" y=\"-52.8\">gini = 0.0</text>\n",
       "<text font-family=\"Times New Roman,serif\" font-size=\"14.00\" text-anchor=\"middle\" x=\"3604.5\" y=\"-37.8\">samples = 7</text>\n",
       "<text font-family=\"Times New Roman,serif\" font-size=\"14.00\" text-anchor=\"middle\" x=\"3604.5\" y=\"-22.8\">value = [7, 0, 0, 0]</text>\n",
       "<text font-family=\"Times New Roman,serif\" font-size=\"14.00\" text-anchor=\"middle\" x=\"3604.5\" y=\"-7.8\">class = A</text>\n",
       "</g>\n",
       "<!-- 73&#45;&gt;75 -->\n",
       "<g class=\"edge\" id=\"edge75\"><title>73-&gt;75</title>\n",
       "<path d=\"M3519.77,-103.726C3531.46,-94.2406 3543.9,-84.1551 3555.54,-74.7159\" fill=\"none\" stroke=\"black\"/>\n",
       "<polygon fill=\"black\" points=\"3557.88,-77.3173 3563.45,-68.2996 3553.47,-71.8808 3557.88,-77.3173\" stroke=\"black\"/>\n",
       "</g>\n",
       "<!-- 77 -->\n",
       "<g class=\"node\" id=\"node78\"><title>77</title>\n",
       "<polygon fill=\"#fbece2\" points=\"3881.5,-306 3715.5,-306 3715.5,-223 3881.5,-223 3881.5,-306\" stroke=\"black\"/>\n",
       "<text font-family=\"Times New Roman,serif\" font-size=\"14.00\" text-anchor=\"middle\" x=\"3798.5\" y=\"-290.8\">Work_Experience &lt;= 12.0</text>\n",
       "<text font-family=\"Times New Roman,serif\" font-size=\"14.00\" text-anchor=\"middle\" x=\"3798.5\" y=\"-275.8\">gini = 0.695</text>\n",
       "<text font-family=\"Times New Roman,serif\" font-size=\"14.00\" text-anchor=\"middle\" x=\"3798.5\" y=\"-260.8\">samples = 86</text>\n",
       "<text font-family=\"Times New Roman,serif\" font-size=\"14.00\" text-anchor=\"middle\" x=\"3798.5\" y=\"-245.8\">value = [34, 6, 21, 25]</text>\n",
       "<text font-family=\"Times New Roman,serif\" font-size=\"14.00\" text-anchor=\"middle\" x=\"3798.5\" y=\"-230.8\">class = A</text>\n",
       "</g>\n",
       "<!-- 76&#45;&gt;77 -->\n",
       "<g class=\"edge\" id=\"edge77\"><title>76-&gt;77</title>\n",
       "<path d=\"M3798.5,-341.907C3798.5,-333.649 3798.5,-324.864 3798.5,-316.302\" fill=\"none\" stroke=\"black\"/>\n",
       "<polygon fill=\"black\" points=\"3802,-316.021 3798.5,-306.021 3795,-316.021 3802,-316.021\" stroke=\"black\"/>\n",
       "</g>\n",
       "<!-- 82 -->\n",
       "<g class=\"node\" id=\"node83\"><title>82</title>\n",
       "<polygon fill=\"#eca572\" points=\"4086.5,-306 3960.5,-306 3960.5,-223 4086.5,-223 4086.5,-306\" stroke=\"black\"/>\n",
       "<text font-family=\"Times New Roman,serif\" font-size=\"14.00\" text-anchor=\"middle\" x=\"4023.5\" y=\"-290.8\">Age &lt;= 25.5</text>\n",
       "<text font-family=\"Times New Roman,serif\" font-size=\"14.00\" text-anchor=\"middle\" x=\"4023.5\" y=\"-275.8\">gini = 0.414</text>\n",
       "<text font-family=\"Times New Roman,serif\" font-size=\"14.00\" text-anchor=\"middle\" x=\"4023.5\" y=\"-260.8\">samples = 16</text>\n",
       "<text font-family=\"Times New Roman,serif\" font-size=\"14.00\" text-anchor=\"middle\" x=\"4023.5\" y=\"-245.8\">value = [12, 1, 1, 2]</text>\n",
       "<text font-family=\"Times New Roman,serif\" font-size=\"14.00\" text-anchor=\"middle\" x=\"4023.5\" y=\"-230.8\">class = A</text>\n",
       "</g>\n",
       "<!-- 76&#45;&gt;82 -->\n",
       "<g class=\"edge\" id=\"edge82\"><title>76-&gt;82</title>\n",
       "<path d=\"M3868.77,-345.962C3894.95,-332.347 3924.7,-316.875 3951.07,-303.161\" fill=\"none\" stroke=\"black\"/>\n",
       "<polygon fill=\"black\" points=\"3952.99,-306.109 3960.25,-298.39 3949.76,-299.898 3952.99,-306.109\" stroke=\"black\"/>\n",
       "</g>\n",
       "<!-- 78 -->\n",
       "<g class=\"node\" id=\"node79\"><title>78</title>\n",
       "<polygon fill=\"#fcf2eb\" points=\"3808.5,-187 3668.5,-187 3668.5,-104 3808.5,-104 3808.5,-187\" stroke=\"black\"/>\n",
       "<text font-family=\"Times New Roman,serif\" font-size=\"14.00\" text-anchor=\"middle\" x=\"3738.5\" y=\"-171.8\">Gender &lt;= 0.5</text>\n",
       "<text font-family=\"Times New Roman,serif\" font-size=\"14.00\" text-anchor=\"middle\" x=\"3738.5\" y=\"-156.8\">gini = 0.701</text>\n",
       "<text font-family=\"Times New Roman,serif\" font-size=\"14.00\" text-anchor=\"middle\" x=\"3738.5\" y=\"-141.8\">samples = 83</text>\n",
       "<text font-family=\"Times New Roman,serif\" font-size=\"14.00\" text-anchor=\"middle\" x=\"3738.5\" y=\"-126.8\">value = [31, 6, 21, 25]</text>\n",
       "<text font-family=\"Times New Roman,serif\" font-size=\"14.00\" text-anchor=\"middle\" x=\"3738.5\" y=\"-111.8\">class = A</text>\n",
       "</g>\n",
       "<!-- 77&#45;&gt;78 -->\n",
       "<g class=\"edge\" id=\"edge78\"><title>77-&gt;78</title>\n",
       "<path d=\"M3777.68,-222.907C3773.26,-214.286 3768.55,-205.09 3763.97,-196.175\" fill=\"none\" stroke=\"black\"/>\n",
       "<polygon fill=\"black\" points=\"3766.96,-194.322 3759.28,-187.021 3760.73,-197.516 3766.96,-194.322\" stroke=\"black\"/>\n",
       "</g>\n",
       "<!-- 81 -->\n",
       "<g class=\"node\" id=\"node82\"><title>81</title>\n",
       "<polygon fill=\"#e58139\" points=\"3946,-179.5 3827,-179.5 3827,-111.5 3946,-111.5 3946,-179.5\" stroke=\"black\"/>\n",
       "<text font-family=\"Times New Roman,serif\" font-size=\"14.00\" text-anchor=\"middle\" x=\"3886.5\" y=\"-164.3\">gini = 0.0</text>\n",
       "<text font-family=\"Times New Roman,serif\" font-size=\"14.00\" text-anchor=\"middle\" x=\"3886.5\" y=\"-149.3\">samples = 3</text>\n",
       "<text font-family=\"Times New Roman,serif\" font-size=\"14.00\" text-anchor=\"middle\" x=\"3886.5\" y=\"-134.3\">value = [3, 0, 0, 0]</text>\n",
       "<text font-family=\"Times New Roman,serif\" font-size=\"14.00\" text-anchor=\"middle\" x=\"3886.5\" y=\"-119.3\">class = A</text>\n",
       "</g>\n",
       "<!-- 77&#45;&gt;81 -->\n",
       "<g class=\"edge\" id=\"edge81\"><title>77-&gt;81</title>\n",
       "<path d=\"M3829.03,-222.907C3837.58,-211.542 3846.88,-199.178 3855.46,-187.774\" fill=\"none\" stroke=\"black\"/>\n",
       "<polygon fill=\"black\" points=\"3858.34,-189.763 3861.55,-179.667 3852.75,-185.555 3858.34,-189.763\" stroke=\"black\"/>\n",
       "</g>\n",
       "<!-- 79 -->\n",
       "<g class=\"node\" id=\"node80\"><title>79</title>\n",
       "<polygon fill=\"#fefaf7\" points=\"3815,-68 3682,-68 3682,-0 3815,-0 3815,-68\" stroke=\"black\"/>\n",
       "<text font-family=\"Times New Roman,serif\" font-size=\"14.00\" text-anchor=\"middle\" x=\"3748.5\" y=\"-52.8\">gini = 0.702</text>\n",
       "<text font-family=\"Times New Roman,serif\" font-size=\"14.00\" text-anchor=\"middle\" x=\"3748.5\" y=\"-37.8\">samples = 38</text>\n",
       "<text font-family=\"Times New Roman,serif\" font-size=\"14.00\" text-anchor=\"middle\" x=\"3748.5\" y=\"-22.8\">value = [14, 4, 13, 7]</text>\n",
       "<text font-family=\"Times New Roman,serif\" font-size=\"14.00\" text-anchor=\"middle\" x=\"3748.5\" y=\"-7.8\">class = A</text>\n",
       "</g>\n",
       "<!-- 78&#45;&gt;79 -->\n",
       "<g class=\"edge\" id=\"edge79\"><title>78-&gt;79</title>\n",
       "<path d=\"M3742.22,-103.726C3742.98,-95.4263 3743.78,-86.6671 3744.55,-78.2834\" fill=\"none\" stroke=\"black\"/>\n",
       "<polygon fill=\"black\" points=\"3748.03,-78.5765 3745.46,-68.2996 3741.06,-77.9398 3748.03,-78.5765\" stroke=\"black\"/>\n",
       "</g>\n",
       "<!-- 80 -->\n",
       "<g class=\"node\" id=\"node81\"><title>80</title>\n",
       "<polygon fill=\"#fef8fe\" points=\"3966,-68 3833,-68 3833,-0 3966,-0 3966,-68\" stroke=\"black\"/>\n",
       "<text font-family=\"Times New Roman,serif\" font-size=\"14.00\" text-anchor=\"middle\" x=\"3899.5\" y=\"-52.8\">gini = 0.664</text>\n",
       "<text font-family=\"Times New Roman,serif\" font-size=\"14.00\" text-anchor=\"middle\" x=\"3899.5\" y=\"-37.8\">samples = 45</text>\n",
       "<text font-family=\"Times New Roman,serif\" font-size=\"14.00\" text-anchor=\"middle\" x=\"3899.5\" y=\"-22.8\">value = [17, 2, 8, 18]</text>\n",
       "<text font-family=\"Times New Roman,serif\" font-size=\"14.00\" text-anchor=\"middle\" x=\"3899.5\" y=\"-7.8\">class = D</text>\n",
       "</g>\n",
       "<!-- 78&#45;&gt;80 -->\n",
       "<g class=\"edge\" id=\"edge80\"><title>78-&gt;80</title>\n",
       "<path d=\"M3798.45,-103.726C3812.87,-93.9161 3828.24,-83.4644 3842.53,-73.7496\" fill=\"none\" stroke=\"black\"/>\n",
       "<polygon fill=\"black\" points=\"3844.49,-76.6431 3850.8,-68.1252 3840.56,-70.855 3844.49,-76.6431\" stroke=\"black\"/>\n",
       "</g>\n",
       "<!-- 83 -->\n",
       "<g class=\"node\" id=\"node84\"><title>83</title>\n",
       "<polygon fill=\"#d739e5\" points=\"4083,-179.5 3964,-179.5 3964,-111.5 4083,-111.5 4083,-179.5\" stroke=\"black\"/>\n",
       "<text font-family=\"Times New Roman,serif\" font-size=\"14.00\" text-anchor=\"middle\" x=\"4023.5\" y=\"-164.3\">gini = 0.0</text>\n",
       "<text font-family=\"Times New Roman,serif\" font-size=\"14.00\" text-anchor=\"middle\" x=\"4023.5\" y=\"-149.3\">samples = 1</text>\n",
       "<text font-family=\"Times New Roman,serif\" font-size=\"14.00\" text-anchor=\"middle\" x=\"4023.5\" y=\"-134.3\">value = [0, 0, 0, 1]</text>\n",
       "<text font-family=\"Times New Roman,serif\" font-size=\"14.00\" text-anchor=\"middle\" x=\"4023.5\" y=\"-119.3\">class = D</text>\n",
       "</g>\n",
       "<!-- 82&#45;&gt;83 -->\n",
       "<g class=\"edge\" id=\"edge83\"><title>82-&gt;83</title>\n",
       "<path d=\"M4023.5,-222.907C4023.5,-212.204 4023.5,-200.615 4023.5,-189.776\" fill=\"none\" stroke=\"black\"/>\n",
       "<polygon fill=\"black\" points=\"4027,-189.667 4023.5,-179.667 4020,-189.667 4027,-189.667\" stroke=\"black\"/>\n",
       "</g>\n",
       "<!-- 84 -->\n",
       "<g class=\"node\" id=\"node85\"><title>84</title>\n",
       "<polygon fill=\"#eb9c63\" points=\"4260,-187 4101,-187 4101,-104 4260,-104 4260,-187\" stroke=\"black\"/>\n",
       "<text font-family=\"Times New Roman,serif\" font-size=\"14.00\" text-anchor=\"middle\" x=\"4180.5\" y=\"-171.8\">Work_Experience &lt;= 3.5</text>\n",
       "<text font-family=\"Times New Roman,serif\" font-size=\"14.00\" text-anchor=\"middle\" x=\"4180.5\" y=\"-156.8\">gini = 0.347</text>\n",
       "<text font-family=\"Times New Roman,serif\" font-size=\"14.00\" text-anchor=\"middle\" x=\"4180.5\" y=\"-141.8\">samples = 15</text>\n",
       "<text font-family=\"Times New Roman,serif\" font-size=\"14.00\" text-anchor=\"middle\" x=\"4180.5\" y=\"-126.8\">value = [12, 1, 1, 1]</text>\n",
       "<text font-family=\"Times New Roman,serif\" font-size=\"14.00\" text-anchor=\"middle\" x=\"4180.5\" y=\"-111.8\">class = A</text>\n",
       "</g>\n",
       "<!-- 82&#45;&gt;84 -->\n",
       "<g class=\"edge\" id=\"edge84\"><title>82-&gt;84</title>\n",
       "<path d=\"M4077.97,-222.907C4090.88,-213.288 4104.75,-202.953 4117.98,-193.09\" fill=\"none\" stroke=\"black\"/>\n",
       "<polygon fill=\"black\" points=\"4120.2,-195.803 4126.13,-187.021 4116.02,-190.19 4120.2,-195.803\" stroke=\"black\"/>\n",
       "</g>\n",
       "<!-- 85 -->\n",
       "<g class=\"node\" id=\"node86\"><title>85</title>\n",
       "<polygon fill=\"#efb083\" points=\"4103,-68 3984,-68 3984,-0 4103,-0 4103,-68\" stroke=\"black\"/>\n",
       "<text font-family=\"Times New Roman,serif\" font-size=\"14.00\" text-anchor=\"middle\" x=\"4043.5\" y=\"-52.8\">gini = 0.519</text>\n",
       "<text font-family=\"Times New Roman,serif\" font-size=\"14.00\" text-anchor=\"middle\" x=\"4043.5\" y=\"-37.8\">samples = 9</text>\n",
       "<text font-family=\"Times New Roman,serif\" font-size=\"14.00\" text-anchor=\"middle\" x=\"4043.5\" y=\"-22.8\">value = [6, 1, 1, 1]</text>\n",
       "<text font-family=\"Times New Roman,serif\" font-size=\"14.00\" text-anchor=\"middle\" x=\"4043.5\" y=\"-7.8\">class = A</text>\n",
       "</g>\n",
       "<!-- 84&#45;&gt;85 -->\n",
       "<g class=\"edge\" id=\"edge85\"><title>84-&gt;85</title>\n",
       "<path d=\"M4129.49,-103.726C4117.62,-94.2406 4105,-84.1551 4093.19,-74.7159\" fill=\"none\" stroke=\"black\"/>\n",
       "<polygon fill=\"black\" points=\"4095.16,-71.8091 4085.16,-68.2996 4090.79,-77.2771 4095.16,-71.8091\" stroke=\"black\"/>\n",
       "</g>\n",
       "<!-- 86 -->\n",
       "<g class=\"node\" id=\"node87\"><title>86</title>\n",
       "<polygon fill=\"#e58139\" points=\"4240,-68 4121,-68 4121,-0 4240,-0 4240,-68\" stroke=\"black\"/>\n",
       "<text font-family=\"Times New Roman,serif\" font-size=\"14.00\" text-anchor=\"middle\" x=\"4180.5\" y=\"-52.8\">gini = 0.0</text>\n",
       "<text font-family=\"Times New Roman,serif\" font-size=\"14.00\" text-anchor=\"middle\" x=\"4180.5\" y=\"-37.8\">samples = 6</text>\n",
       "<text font-family=\"Times New Roman,serif\" font-size=\"14.00\" text-anchor=\"middle\" x=\"4180.5\" y=\"-22.8\">value = [6, 0, 0, 0]</text>\n",
       "<text font-family=\"Times New Roman,serif\" font-size=\"14.00\" text-anchor=\"middle\" x=\"4180.5\" y=\"-7.8\">class = A</text>\n",
       "</g>\n",
       "<!-- 84&#45;&gt;86 -->\n",
       "<g class=\"edge\" id=\"edge86\"><title>84-&gt;86</title>\n",
       "<path d=\"M4180.5,-103.726C4180.5,-95.5175 4180.5,-86.8595 4180.5,-78.56\" fill=\"none\" stroke=\"black\"/>\n",
       "<polygon fill=\"black\" points=\"4184,-78.2996 4180.5,-68.2996 4177,-78.2996 4184,-78.2996\" stroke=\"black\"/>\n",
       "</g>\n",
       "<!-- 88 -->\n",
       "<g class=\"node\" id=\"node89\"><title>88</title>\n",
       "<polygon fill=\"#f7d9fa\" points=\"5486.5,-544 5326.5,-544 5326.5,-461 5486.5,-461 5486.5,-544\" stroke=\"black\"/>\n",
       "<text font-family=\"Times New Roman,serif\" font-size=\"14.00\" text-anchor=\"middle\" x=\"5406.5\" y=\"-528.8\">Family_Size &lt;= 2.5</text>\n",
       "<text font-family=\"Times New Roman,serif\" font-size=\"14.00\" text-anchor=\"middle\" x=\"5406.5\" y=\"-513.8\">gini = 0.655</text>\n",
       "<text font-family=\"Times New Roman,serif\" font-size=\"14.00\" text-anchor=\"middle\" x=\"5406.5\" y=\"-498.8\">samples = 633</text>\n",
       "<text font-family=\"Times New Roman,serif\" font-size=\"14.00\" text-anchor=\"middle\" x=\"5406.5\" y=\"-483.8\">value = [211, 69, 61, 292]</text>\n",
       "<text font-family=\"Times New Roman,serif\" font-size=\"14.00\" text-anchor=\"middle\" x=\"5406.5\" y=\"-468.8\">class = D</text>\n",
       "</g>\n",
       "<!-- 87&#45;&gt;88 -->\n",
       "<g class=\"edge\" id=\"edge88\"><title>87-&gt;88</title>\n",
       "<path d=\"M5406.5,-579.907C5406.5,-571.649 5406.5,-562.864 5406.5,-554.302\" fill=\"none\" stroke=\"black\"/>\n",
       "<polygon fill=\"black\" points=\"5410,-554.021 5406.5,-544.021 5403,-554.021 5410,-554.021\" stroke=\"black\"/>\n",
       "</g>\n",
       "<!-- 117 -->\n",
       "<g class=\"node\" id=\"node118\"><title>117</title>\n",
       "<polygon fill=\"#eda4f3\" points=\"6722.5,-544 6562.5,-544 6562.5,-461 6722.5,-461 6722.5,-544\" stroke=\"black\"/>\n",
       "<text font-family=\"Times New Roman,serif\" font-size=\"14.00\" text-anchor=\"middle\" x=\"6642.5\" y=\"-528.8\">Family_Size &lt;= 1.5</text>\n",
       "<text font-family=\"Times New Roman,serif\" font-size=\"14.00\" text-anchor=\"middle\" x=\"6642.5\" y=\"-513.8\">gini = 0.625</text>\n",
       "<text font-family=\"Times New Roman,serif\" font-size=\"14.00\" text-anchor=\"middle\" x=\"6642.5\" y=\"-498.8\">samples = 664</text>\n",
       "<text font-family=\"Times New Roman,serif\" font-size=\"14.00\" text-anchor=\"middle\" x=\"6642.5\" y=\"-483.8\">value = [99, 81, 116, 368]</text>\n",
       "<text font-family=\"Times New Roman,serif\" font-size=\"14.00\" text-anchor=\"middle\" x=\"6642.5\" y=\"-468.8\">class = D</text>\n",
       "</g>\n",
       "<!-- 87&#45;&gt;117 -->\n",
       "<g class=\"edge\" id=\"edge117\"><title>87-&gt;117</title>\n",
       "<path d=\"M5493.41,-612.273C5719.19,-590.9 6322.65,-533.777 6552.18,-512.05\" fill=\"none\" stroke=\"black\"/>\n",
       "<polygon fill=\"black\" points=\"6552.54,-515.531 6562.17,-511.104 6551.88,-508.563 6552.54,-515.531\" stroke=\"black\"/>\n",
       "</g>\n",
       "<!-- 89 -->\n",
       "<g class=\"node\" id=\"node90\"><title>89</title>\n",
       "<polygon fill=\"#fcefe5\" points=\"5220,-425 5067,-425 5067,-342 5220,-342 5220,-425\" stroke=\"black\"/>\n",
       "<text font-family=\"Times New Roman,serif\" font-size=\"14.00\" text-anchor=\"middle\" x=\"5143.5\" y=\"-409.8\">Ever_Married &lt;= 0.5</text>\n",
       "<text font-family=\"Times New Roman,serif\" font-size=\"14.00\" text-anchor=\"middle\" x=\"5143.5\" y=\"-394.8\">gini = 0.619</text>\n",
       "<text font-family=\"Times New Roman,serif\" font-size=\"14.00\" text-anchor=\"middle\" x=\"5143.5\" y=\"-379.8\">samples = 266</text>\n",
       "<text font-family=\"Times New Roman,serif\" font-size=\"14.00\" text-anchor=\"middle\" x=\"5143.5\" y=\"-364.8\">value = [124, 30, 9, 103]</text>\n",
       "<text font-family=\"Times New Roman,serif\" font-size=\"14.00\" text-anchor=\"middle\" x=\"5143.5\" y=\"-349.8\">class = A</text>\n",
       "</g>\n",
       "<!-- 88&#45;&gt;89 -->\n",
       "<g class=\"edge\" id=\"edge89\"><title>88-&gt;89</title>\n",
       "<path d=\"M5326.16,-465.76C5295.63,-452.179 5260.75,-436.659 5229.7,-422.847\" fill=\"none\" stroke=\"black\"/>\n",
       "<polygon fill=\"black\" points=\"5230.75,-419.486 5220.19,-418.619 5227.91,-425.881 5230.75,-419.486\" stroke=\"black\"/>\n",
       "</g>\n",
       "<!-- 104 -->\n",
       "<g class=\"node\" id=\"node105\"><title>104</title>\n",
       "<polygon fill=\"#f0b7f6\" points=\"5695,-425 5542,-425 5542,-342 5695,-342 5695,-425\" stroke=\"black\"/>\n",
       "<text font-family=\"Times New Roman,serif\" font-size=\"14.00\" text-anchor=\"middle\" x=\"5618.5\" y=\"-409.8\">Family_Size &lt;= 4.5</text>\n",
       "<text font-family=\"Times New Roman,serif\" font-size=\"14.00\" text-anchor=\"middle\" x=\"5618.5\" y=\"-394.8\">gini = 0.647</text>\n",
       "<text font-family=\"Times New Roman,serif\" font-size=\"14.00\" text-anchor=\"middle\" x=\"5618.5\" y=\"-379.8\">samples = 367</text>\n",
       "<text font-family=\"Times New Roman,serif\" font-size=\"14.00\" text-anchor=\"middle\" x=\"5618.5\" y=\"-364.8\">value = [87, 39, 52, 189]</text>\n",
       "<text font-family=\"Times New Roman,serif\" font-size=\"14.00\" text-anchor=\"middle\" x=\"5618.5\" y=\"-349.8\">class = D</text>\n",
       "</g>\n",
       "<!-- 88&#45;&gt;104 -->\n",
       "<g class=\"edge\" id=\"edge104\"><title>88-&gt;104</title>\n",
       "<path d=\"M5480.05,-460.907C5498.14,-450.925 5517.62,-440.172 5536.1,-429.976\" fill=\"none\" stroke=\"black\"/>\n",
       "<polygon fill=\"black\" points=\"5538.01,-432.917 5545.08,-425.021 5534.63,-426.788 5538.01,-432.917\" stroke=\"black\"/>\n",
       "</g>\n",
       "<!-- 90 -->\n",
       "<g class=\"node\" id=\"node91\"><title>90</title>\n",
       "<polygon fill=\"#fffdff\" points=\"4787,-306 4628,-306 4628,-223 4787,-223 4787,-306\" stroke=\"black\"/>\n",
       "<text font-family=\"Times New Roman,serif\" font-size=\"14.00\" text-anchor=\"middle\" x=\"4707.5\" y=\"-290.8\">Work_Experience &lt;= 1.5</text>\n",
       "<text font-family=\"Times New Roman,serif\" font-size=\"14.00\" text-anchor=\"middle\" x=\"4707.5\" y=\"-275.8\">gini = 0.578</text>\n",
       "<text font-family=\"Times New Roman,serif\" font-size=\"14.00\" text-anchor=\"middle\" x=\"4707.5\" y=\"-260.8\">samples = 148</text>\n",
       "<text font-family=\"Times New Roman,serif\" font-size=\"14.00\" text-anchor=\"middle\" x=\"4707.5\" y=\"-245.8\">value = [67, 11, 2, 68]</text>\n",
       "<text font-family=\"Times New Roman,serif\" font-size=\"14.00\" text-anchor=\"middle\" x=\"4707.5\" y=\"-230.8\">class = D</text>\n",
       "</g>\n",
       "<!-- 89&#45;&gt;90 -->\n",
       "<g class=\"edge\" id=\"edge90\"><title>89-&gt;90</title>\n",
       "<path d=\"M5066.81,-361.919C4991.47,-341.703 4876.58,-310.871 4797.08,-289.539\" fill=\"none\" stroke=\"black\"/>\n",
       "<polygon fill=\"black\" points=\"4797.65,-286.067 4787.08,-286.856 4795.83,-292.828 4797.65,-286.067\" stroke=\"black\"/>\n",
       "</g>\n",
       "<!-- 97 -->\n",
       "<g class=\"node\" id=\"node98\"><title>97</title>\n",
       "<polygon fill=\"#f8decb\" points=\"5213.5,-306 5073.5,-306 5073.5,-223 5213.5,-223 5213.5,-306\" stroke=\"black\"/>\n",
       "<text font-family=\"Times New Roman,serif\" font-size=\"14.00\" text-anchor=\"middle\" x=\"5143.5\" y=\"-290.8\">Age &lt;= 32.5</text>\n",
       "<text font-family=\"Times New Roman,serif\" font-size=\"14.00\" text-anchor=\"middle\" x=\"5143.5\" y=\"-275.8\">gini = 0.649</text>\n",
       "<text font-family=\"Times New Roman,serif\" font-size=\"14.00\" text-anchor=\"middle\" x=\"5143.5\" y=\"-260.8\">samples = 118</text>\n",
       "<text font-family=\"Times New Roman,serif\" font-size=\"14.00\" text-anchor=\"middle\" x=\"5143.5\" y=\"-245.8\">value = [57, 19, 7, 35]</text>\n",
       "<text font-family=\"Times New Roman,serif\" font-size=\"14.00\" text-anchor=\"middle\" x=\"5143.5\" y=\"-230.8\">class = A</text>\n",
       "</g>\n",
       "<!-- 89&#45;&gt;97 -->\n",
       "<g class=\"edge\" id=\"edge97\"><title>89-&gt;97</title>\n",
       "<path d=\"M5143.5,-341.907C5143.5,-333.649 5143.5,-324.864 5143.5,-316.302\" fill=\"none\" stroke=\"black\"/>\n",
       "<polygon fill=\"black\" points=\"5147,-316.021 5143.5,-306.021 5140,-316.021 5147,-316.021\" stroke=\"black\"/>\n",
       "</g>\n",
       "<!-- 91 -->\n",
       "<g class=\"node\" id=\"node92\"><title>91</title>\n",
       "<polygon fill=\"#fae8dc\" points=\"4555,-187 4396,-187 4396,-104 4555,-104 4555,-187\" stroke=\"black\"/>\n",
       "<text font-family=\"Times New Roman,serif\" font-size=\"14.00\" text-anchor=\"middle\" x=\"4475.5\" y=\"-171.8\">Work_Experience &lt;= 0.5</text>\n",
       "<text font-family=\"Times New Roman,serif\" font-size=\"14.00\" text-anchor=\"middle\" x=\"4475.5\" y=\"-156.8\">gini = 0.597</text>\n",
       "<text font-family=\"Times New Roman,serif\" font-size=\"14.00\" text-anchor=\"middle\" x=\"4475.5\" y=\"-141.8\">samples = 91</text>\n",
       "<text font-family=\"Times New Roman,serif\" font-size=\"14.00\" text-anchor=\"middle\" x=\"4475.5\" y=\"-126.8\">value = [45, 9, 2, 35]</text>\n",
       "<text font-family=\"Times New Roman,serif\" font-size=\"14.00\" text-anchor=\"middle\" x=\"4475.5\" y=\"-111.8\">class = A</text>\n",
       "</g>\n",
       "<!-- 90&#45;&gt;91 -->\n",
       "<g class=\"edge\" id=\"edge91\"><title>90-&gt;91</title>\n",
       "<path d=\"M4627.98,-223.399C4607.53,-213.084 4585.39,-201.92 4564.49,-191.38\" fill=\"none\" stroke=\"black\"/>\n",
       "<polygon fill=\"black\" points=\"4565.81,-188.125 4555.31,-186.747 4562.66,-194.375 4565.81,-188.125\" stroke=\"black\"/>\n",
       "</g>\n",
       "<!-- 94 -->\n",
       "<g class=\"node\" id=\"node95\"><title>94</title>\n",
       "<polygon fill=\"#f2c1f7\" points=\"4774,-187 4641,-187 4641,-104 4774,-104 4774,-187\" stroke=\"black\"/>\n",
       "<text font-family=\"Times New Roman,serif\" font-size=\"14.00\" text-anchor=\"middle\" x=\"4707.5\" y=\"-171.8\">Gender &lt;= 0.5</text>\n",
       "<text font-family=\"Times New Roman,serif\" font-size=\"14.00\" text-anchor=\"middle\" x=\"4707.5\" y=\"-156.8\">gini = 0.515</text>\n",
       "<text font-family=\"Times New Roman,serif\" font-size=\"14.00\" text-anchor=\"middle\" x=\"4707.5\" y=\"-141.8\">samples = 57</text>\n",
       "<text font-family=\"Times New Roman,serif\" font-size=\"14.00\" text-anchor=\"middle\" x=\"4707.5\" y=\"-126.8\">value = [22, 2, 0, 33]</text>\n",
       "<text font-family=\"Times New Roman,serif\" font-size=\"14.00\" text-anchor=\"middle\" x=\"4707.5\" y=\"-111.8\">class = D</text>\n",
       "</g>\n",
       "<!-- 90&#45;&gt;94 -->\n",
       "<g class=\"edge\" id=\"edge94\"><title>90-&gt;94</title>\n",
       "<path d=\"M4707.5,-222.907C4707.5,-214.649 4707.5,-205.864 4707.5,-197.302\" fill=\"none\" stroke=\"black\"/>\n",
       "<polygon fill=\"black\" points=\"4711,-197.021 4707.5,-187.021 4704,-197.021 4711,-197.021\" stroke=\"black\"/>\n",
       "</g>\n",
       "<!-- 92 -->\n",
       "<g class=\"node\" id=\"node93\"><title>92</title>\n",
       "<polygon fill=\"#f6d5f9\" points=\"4391,-68 4258,-68 4258,-0 4391,-0 4391,-68\" stroke=\"black\"/>\n",
       "<text font-family=\"Times New Roman,serif\" font-size=\"14.00\" text-anchor=\"middle\" x=\"4324.5\" y=\"-52.8\">gini = 0.57</text>\n",
       "<text font-family=\"Times New Roman,serif\" font-size=\"14.00\" text-anchor=\"middle\" x=\"4324.5\" y=\"-37.8\">samples = 46</text>\n",
       "<text font-family=\"Times New Roman,serif\" font-size=\"14.00\" text-anchor=\"middle\" x=\"4324.5\" y=\"-22.8\">value = [18, 3, 1, 24]</text>\n",
       "<text font-family=\"Times New Roman,serif\" font-size=\"14.00\" text-anchor=\"middle\" x=\"4324.5\" y=\"-7.8\">class = D</text>\n",
       "</g>\n",
       "<!-- 91&#45;&gt;92 -->\n",
       "<g class=\"edge\" id=\"edge92\"><title>91-&gt;92</title>\n",
       "<path d=\"M4419.27,-103.726C4405.94,-94.0582 4391.75,-83.767 4378.52,-74.172\" fill=\"none\" stroke=\"black\"/>\n",
       "<polygon fill=\"black\" points=\"4380.57,-71.3368 4370.42,-68.2996 4376.46,-77.0036 4380.57,-71.3368\" stroke=\"black\"/>\n",
       "</g>\n",
       "<!-- 93 -->\n",
       "<g class=\"node\" id=\"node94\"><title>93</title>\n",
       "<polygon fill=\"#f3c4a2\" points=\"4542,-68 4409,-68 4409,-0 4542,-0 4542,-68\" stroke=\"black\"/>\n",
       "<text font-family=\"Times New Roman,serif\" font-size=\"14.00\" text-anchor=\"middle\" x=\"4475.5\" y=\"-52.8\">gini = 0.562</text>\n",
       "<text font-family=\"Times New Roman,serif\" font-size=\"14.00\" text-anchor=\"middle\" x=\"4475.5\" y=\"-37.8\">samples = 45</text>\n",
       "<text font-family=\"Times New Roman,serif\" font-size=\"14.00\" text-anchor=\"middle\" x=\"4475.5\" y=\"-22.8\">value = [27, 6, 1, 11]</text>\n",
       "<text font-family=\"Times New Roman,serif\" font-size=\"14.00\" text-anchor=\"middle\" x=\"4475.5\" y=\"-7.8\">class = A</text>\n",
       "</g>\n",
       "<!-- 91&#45;&gt;93 -->\n",
       "<g class=\"edge\" id=\"edge93\"><title>91-&gt;93</title>\n",
       "<path d=\"M4475.5,-103.726C4475.5,-95.5175 4475.5,-86.8595 4475.5,-78.56\" fill=\"none\" stroke=\"black\"/>\n",
       "<polygon fill=\"black\" points=\"4479,-78.2996 4475.5,-68.2996 4472,-78.2996 4479,-78.2996\" stroke=\"black\"/>\n",
       "</g>\n",
       "<!-- 95 -->\n",
       "<g class=\"node\" id=\"node96\"><title>95</title>\n",
       "<polygon fill=\"#f8e0ce\" points=\"4693,-68 4560,-68 4560,-0 4693,-0 4693,-68\" stroke=\"black\"/>\n",
       "<text font-family=\"Times New Roman,serif\" font-size=\"14.00\" text-anchor=\"middle\" x=\"4626.5\" y=\"-52.8\">gini = 0.556</text>\n",
       "<text font-family=\"Times New Roman,serif\" font-size=\"14.00\" text-anchor=\"middle\" x=\"4626.5\" y=\"-37.8\">samples = 26</text>\n",
       "<text font-family=\"Times New Roman,serif\" font-size=\"14.00\" text-anchor=\"middle\" x=\"4626.5\" y=\"-22.8\">value = [14, 2, 0, 10]</text>\n",
       "<text font-family=\"Times New Roman,serif\" font-size=\"14.00\" text-anchor=\"middle\" x=\"4626.5\" y=\"-7.8\">class = A</text>\n",
       "</g>\n",
       "<!-- 94&#45;&gt;95 -->\n",
       "<g class=\"edge\" id=\"edge95\"><title>94-&gt;95</title>\n",
       "<path d=\"M4677.34,-103.726C4670.73,-94.7878 4663.72,-85.3168 4657.09,-76.3558\" fill=\"none\" stroke=\"black\"/>\n",
       "<polygon fill=\"black\" points=\"4659.89,-74.2576 4651.13,-68.2996 4654.27,-78.4206 4659.89,-74.2576\" stroke=\"black\"/>\n",
       "</g>\n",
       "<!-- 96 -->\n",
       "<g class=\"node\" id=\"node97\"><title>96</title>\n",
       "<polygon fill=\"#e57eee\" points=\"4837.5,-68 4711.5,-68 4711.5,-0 4837.5,-0 4837.5,-68\" stroke=\"black\"/>\n",
       "<text font-family=\"Times New Roman,serif\" font-size=\"14.00\" text-anchor=\"middle\" x=\"4774.5\" y=\"-52.8\">gini = 0.383</text>\n",
       "<text font-family=\"Times New Roman,serif\" font-size=\"14.00\" text-anchor=\"middle\" x=\"4774.5\" y=\"-37.8\">samples = 31</text>\n",
       "<text font-family=\"Times New Roman,serif\" font-size=\"14.00\" text-anchor=\"middle\" x=\"4774.5\" y=\"-22.8\">value = [8, 0, 0, 23]</text>\n",
       "<text font-family=\"Times New Roman,serif\" font-size=\"14.00\" text-anchor=\"middle\" x=\"4774.5\" y=\"-7.8\">class = D</text>\n",
       "</g>\n",
       "<!-- 94&#45;&gt;96 -->\n",
       "<g class=\"edge\" id=\"edge96\"><title>94-&gt;96</title>\n",
       "<path d=\"M4732.45,-103.726C4737.81,-94.9703 4743.48,-85.7032 4748.86,-76.9051\" fill=\"none\" stroke=\"black\"/>\n",
       "<polygon fill=\"black\" points=\"4751.89,-78.6563 4754.12,-68.2996 4745.92,-75.0028 4751.89,-78.6563\" stroke=\"black\"/>\n",
       "</g>\n",
       "<!-- 98 -->\n",
       "<g class=\"node\" id=\"node99\"><title>98</title>\n",
       "<polygon fill=\"#f7d6bf\" points=\"5129.5,-187 4989.5,-187 4989.5,-104 5129.5,-104 5129.5,-187\" stroke=\"black\"/>\n",
       "<text font-family=\"Times New Roman,serif\" font-size=\"14.00\" text-anchor=\"middle\" x=\"5059.5\" y=\"-171.8\">Var_1 &lt;= 2.5</text>\n",
       "<text font-family=\"Times New Roman,serif\" font-size=\"14.00\" text-anchor=\"middle\" x=\"5059.5\" y=\"-156.8\">gini = 0.633</text>\n",
       "<text font-family=\"Times New Roman,serif\" font-size=\"14.00\" text-anchor=\"middle\" x=\"5059.5\" y=\"-141.8\">samples = 107</text>\n",
       "<text font-family=\"Times New Roman,serif\" font-size=\"14.00\" text-anchor=\"middle\" x=\"5059.5\" y=\"-126.8\">value = [55, 15, 7, 30]</text>\n",
       "<text font-family=\"Times New Roman,serif\" font-size=\"14.00\" text-anchor=\"middle\" x=\"5059.5\" y=\"-111.8\">class = A</text>\n",
       "</g>\n",
       "<!-- 97&#45;&gt;98 -->\n",
       "<g class=\"edge\" id=\"edge98\"><title>97-&gt;98</title>\n",
       "<path d=\"M5114.36,-222.907C5107.97,-214.014 5101.15,-204.509 5094.56,-195.331\" fill=\"none\" stroke=\"black\"/>\n",
       "<polygon fill=\"black\" points=\"5097.27,-193.103 5088.59,-187.021 5091.58,-197.185 5097.27,-193.103\" stroke=\"black\"/>\n",
       "</g>\n",
       "<!-- 101 -->\n",
       "<g class=\"node\" id=\"node102\"><title>101</title>\n",
       "<polygon fill=\"#f9e3fb\" points=\"5307,-187 5148,-187 5148,-104 5307,-104 5307,-187\" stroke=\"black\"/>\n",
       "<text font-family=\"Times New Roman,serif\" font-size=\"14.00\" text-anchor=\"middle\" x=\"5227.5\" y=\"-171.8\">Work_Experience &lt;= 1.5</text>\n",
       "<text font-family=\"Times New Roman,serif\" font-size=\"14.00\" text-anchor=\"middle\" x=\"5227.5\" y=\"-156.8\">gini = 0.628</text>\n",
       "<text font-family=\"Times New Roman,serif\" font-size=\"14.00\" text-anchor=\"middle\" x=\"5227.5\" y=\"-141.8\">samples = 11</text>\n",
       "<text font-family=\"Times New Roman,serif\" font-size=\"14.00\" text-anchor=\"middle\" x=\"5227.5\" y=\"-126.8\">value = [2, 4, 0, 5]</text>\n",
       "<text font-family=\"Times New Roman,serif\" font-size=\"14.00\" text-anchor=\"middle\" x=\"5227.5\" y=\"-111.8\">class = D</text>\n",
       "</g>\n",
       "<!-- 97&#45;&gt;101 -->\n",
       "<g class=\"edge\" id=\"edge101\"><title>97-&gt;101</title>\n",
       "<path d=\"M5172.64,-222.907C5179.03,-214.014 5185.85,-204.509 5192.44,-195.331\" fill=\"none\" stroke=\"black\"/>\n",
       "<polygon fill=\"black\" points=\"5195.42,-197.185 5198.41,-187.021 5189.73,-193.103 5195.42,-197.185\" stroke=\"black\"/>\n",
       "</g>\n",
       "<!-- 99 -->\n",
       "<g class=\"node\" id=\"node100\"><title>99</title>\n",
       "<polygon fill=\"#f8defb\" points=\"4981.5,-68 4855.5,-68 4855.5,-0 4981.5,-0 4981.5,-68\" stroke=\"black\"/>\n",
       "<text font-family=\"Times New Roman,serif\" font-size=\"14.00\" text-anchor=\"middle\" x=\"4918.5\" y=\"-52.8\">gini = 0.683</text>\n",
       "<text font-family=\"Times New Roman,serif\" font-size=\"14.00\" text-anchor=\"middle\" x=\"4918.5\" y=\"-37.8\">samples = 26</text>\n",
       "<text font-family=\"Times New Roman,serif\" font-size=\"14.00\" text-anchor=\"middle\" x=\"4918.5\" y=\"-22.8\">value = [8, 5, 2, 11]</text>\n",
       "<text font-family=\"Times New Roman,serif\" font-size=\"14.00\" text-anchor=\"middle\" x=\"4918.5\" y=\"-7.8\">class = D</text>\n",
       "</g>\n",
       "<!-- 98&#45;&gt;99 -->\n",
       "<g class=\"edge\" id=\"edge99\"><title>98-&gt;99</title>\n",
       "<path d=\"M5007,-103.726C4994.66,-94.1494 4981.55,-83.9611 4969.29,-74.4438\" fill=\"none\" stroke=\"black\"/>\n",
       "<polygon fill=\"black\" points=\"4971.42,-71.6689 4961.38,-68.2996 4967.13,-77.1975 4971.42,-71.6689\" stroke=\"black\"/>\n",
       "</g>\n",
       "<!-- 100 -->\n",
       "<g class=\"node\" id=\"node101\"><title>100</title>\n",
       "<polygon fill=\"#f3c6a6\" points=\"5139.5,-68 4999.5,-68 4999.5,-0 5139.5,-0 5139.5,-68\" stroke=\"black\"/>\n",
       "<text font-family=\"Times New Roman,serif\" font-size=\"14.00\" text-anchor=\"middle\" x=\"5069.5\" y=\"-52.8\">gini = 0.589</text>\n",
       "<text font-family=\"Times New Roman,serif\" font-size=\"14.00\" text-anchor=\"middle\" x=\"5069.5\" y=\"-37.8\">samples = 81</text>\n",
       "<text font-family=\"Times New Roman,serif\" font-size=\"14.00\" text-anchor=\"middle\" x=\"5069.5\" y=\"-22.8\">value = [47, 10, 5, 19]</text>\n",
       "<text font-family=\"Times New Roman,serif\" font-size=\"14.00\" text-anchor=\"middle\" x=\"5069.5\" y=\"-7.8\">class = A</text>\n",
       "</g>\n",
       "<!-- 98&#45;&gt;100 -->\n",
       "<g class=\"edge\" id=\"edge100\"><title>98-&gt;100</title>\n",
       "<path d=\"M5063.22,-103.726C5063.98,-95.4263 5064.78,-86.6671 5065.55,-78.2834\" fill=\"none\" stroke=\"black\"/>\n",
       "<polygon fill=\"black\" points=\"5069.03,-78.5765 5066.46,-68.2996 5062.06,-77.9398 5069.03,-78.5765\" stroke=\"black\"/>\n",
       "</g>\n",
       "<!-- 102 -->\n",
       "<g class=\"node\" id=\"node103\"><title>102</title>\n",
       "<polygon fill=\"#a3f29c\" points=\"5277,-68 5158,-68 5158,-0 5277,-0 5277,-68\" stroke=\"black\"/>\n",
       "<text font-family=\"Times New Roman,serif\" font-size=\"14.00\" text-anchor=\"middle\" x=\"5217.5\" y=\"-52.8\">gini = 0.444</text>\n",
       "<text font-family=\"Times New Roman,serif\" font-size=\"14.00\" text-anchor=\"middle\" x=\"5217.5\" y=\"-37.8\">samples = 6</text>\n",
       "<text font-family=\"Times New Roman,serif\" font-size=\"14.00\" text-anchor=\"middle\" x=\"5217.5\" y=\"-22.8\">value = [2, 4, 0, 0]</text>\n",
       "<text font-family=\"Times New Roman,serif\" font-size=\"14.00\" text-anchor=\"middle\" x=\"5217.5\" y=\"-7.8\">class = B</text>\n",
       "</g>\n",
       "<!-- 101&#45;&gt;102 -->\n",
       "<g class=\"edge\" id=\"edge102\"><title>101-&gt;102</title>\n",
       "<path d=\"M5223.78,-103.726C5223.02,-95.4263 5222.22,-86.6671 5221.45,-78.2834\" fill=\"none\" stroke=\"black\"/>\n",
       "<polygon fill=\"black\" points=\"5224.94,-77.9398 5220.54,-68.2996 5217.97,-78.5765 5224.94,-77.9398\" stroke=\"black\"/>\n",
       "</g>\n",
       "<!-- 103 -->\n",
       "<g class=\"node\" id=\"node104\"><title>103</title>\n",
       "<polygon fill=\"#d739e5\" points=\"5414,-68 5295,-68 5295,-0 5414,-0 5414,-68\" stroke=\"black\"/>\n",
       "<text font-family=\"Times New Roman,serif\" font-size=\"14.00\" text-anchor=\"middle\" x=\"5354.5\" y=\"-52.8\">gini = 0.0</text>\n",
       "<text font-family=\"Times New Roman,serif\" font-size=\"14.00\" text-anchor=\"middle\" x=\"5354.5\" y=\"-37.8\">samples = 5</text>\n",
       "<text font-family=\"Times New Roman,serif\" font-size=\"14.00\" text-anchor=\"middle\" x=\"5354.5\" y=\"-22.8\">value = [0, 0, 0, 5]</text>\n",
       "<text font-family=\"Times New Roman,serif\" font-size=\"14.00\" text-anchor=\"middle\" x=\"5354.5\" y=\"-7.8\">class = D</text>\n",
       "</g>\n",
       "<!-- 101&#45;&gt;103 -->\n",
       "<g class=\"edge\" id=\"edge103\"><title>101-&gt;103</title>\n",
       "<path d=\"M5274.79,-103.726C5285.69,-94.3318 5297.26,-84.349 5308.12,-74.9883\" fill=\"none\" stroke=\"black\"/>\n",
       "<polygon fill=\"black\" points=\"5310.59,-77.4804 5315.88,-68.2996 5306.02,-72.1789 5310.59,-77.4804\" stroke=\"black\"/>\n",
       "</g>\n",
       "<!-- 105 -->\n",
       "<g class=\"node\" id=\"node106\"><title>105</title>\n",
       "<polygon fill=\"#f3c4f7\" points=\"5701.5,-306 5535.5,-306 5535.5,-223 5701.5,-223 5701.5,-306\" stroke=\"black\"/>\n",
       "<text font-family=\"Times New Roman,serif\" font-size=\"14.00\" text-anchor=\"middle\" x=\"5618.5\" y=\"-290.8\">Work_Experience &lt;= 12.5</text>\n",
       "<text font-family=\"Times New Roman,serif\" font-size=\"14.00\" text-anchor=\"middle\" x=\"5618.5\" y=\"-275.8\">gini = 0.667</text>\n",
       "<text font-family=\"Times New Roman,serif\" font-size=\"14.00\" text-anchor=\"middle\" x=\"5618.5\" y=\"-260.8\">samples = 260</text>\n",
       "<text font-family=\"Times New Roman,serif\" font-size=\"14.00\" text-anchor=\"middle\" x=\"5618.5\" y=\"-245.8\">value = [68, 30, 37, 125]</text>\n",
       "<text font-family=\"Times New Roman,serif\" font-size=\"14.00\" text-anchor=\"middle\" x=\"5618.5\" y=\"-230.8\">class = D</text>\n",
       "</g>\n",
       "<!-- 104&#45;&gt;105 -->\n",
       "<g class=\"edge\" id=\"edge105\"><title>104-&gt;105</title>\n",
       "<path d=\"M5618.5,-341.907C5618.5,-333.649 5618.5,-324.864 5618.5,-316.302\" fill=\"none\" stroke=\"black\"/>\n",
       "<polygon fill=\"black\" points=\"5622,-316.021 5618.5,-306.021 5615,-316.021 5622,-316.021\" stroke=\"black\"/>\n",
       "</g>\n",
       "<!-- 110 -->\n",
       "<g class=\"node\" id=\"node111\"><title>110</title>\n",
       "<polygon fill=\"#eb9af2\" points=\"5929.5,-306 5789.5,-306 5789.5,-223 5929.5,-223 5929.5,-306\" stroke=\"black\"/>\n",
       "<text font-family=\"Times New Roman,serif\" font-size=\"14.00\" text-anchor=\"middle\" x=\"5859.5\" y=\"-290.8\">Gender &lt;= 0.5</text>\n",
       "<text font-family=\"Times New Roman,serif\" font-size=\"14.00\" text-anchor=\"middle\" x=\"5859.5\" y=\"-275.8\">gini = 0.584</text>\n",
       "<text font-family=\"Times New Roman,serif\" font-size=\"14.00\" text-anchor=\"middle\" x=\"5859.5\" y=\"-260.8\">samples = 107</text>\n",
       "<text font-family=\"Times New Roman,serif\" font-size=\"14.00\" text-anchor=\"middle\" x=\"5859.5\" y=\"-245.8\">value = [19, 9, 15, 64]</text>\n",
       "<text font-family=\"Times New Roman,serif\" font-size=\"14.00\" text-anchor=\"middle\" x=\"5859.5\" y=\"-230.8\">class = D</text>\n",
       "</g>\n",
       "<!-- 104&#45;&gt;110 -->\n",
       "<g class=\"edge\" id=\"edge110\"><title>104-&gt;110</title>\n",
       "<path d=\"M5695.09,-345.32C5722.2,-332.154 5752.76,-317.32 5780.11,-304.043\" fill=\"none\" stroke=\"black\"/>\n",
       "<polygon fill=\"black\" points=\"5781.78,-307.121 5789.25,-299.605 5778.72,-300.824 5781.78,-307.121\" stroke=\"black\"/>\n",
       "</g>\n",
       "<!-- 106 -->\n",
       "<g class=\"node\" id=\"node107\"><title>106</title>\n",
       "<polygon fill=\"#f4c7f8\" points=\"5583,-187 5430,-187 5430,-104 5583,-104 5583,-187\" stroke=\"black\"/>\n",
       "<text font-family=\"Times New Roman,serif\" font-size=\"14.00\" text-anchor=\"middle\" x=\"5506.5\" y=\"-171.8\">Ever_Married &lt;= 0.5</text>\n",
       "<text font-family=\"Times New Roman,serif\" font-size=\"14.00\" text-anchor=\"middle\" x=\"5506.5\" y=\"-156.8\">gini = 0.671</text>\n",
       "<text font-family=\"Times New Roman,serif\" font-size=\"14.00\" text-anchor=\"middle\" x=\"5506.5\" y=\"-141.8\">samples = 256</text>\n",
       "<text font-family=\"Times New Roman,serif\" font-size=\"14.00\" text-anchor=\"middle\" x=\"5506.5\" y=\"-126.8\">value = [68, 30, 37, 121]</text>\n",
       "<text font-family=\"Times New Roman,serif\" font-size=\"14.00\" text-anchor=\"middle\" x=\"5506.5\" y=\"-111.8\">class = D</text>\n",
       "</g>\n",
       "<!-- 105&#45;&gt;106 -->\n",
       "<g class=\"edge\" id=\"edge106\"><title>105-&gt;106</title>\n",
       "<path d=\"M5579.64,-222.907C5570.87,-213.742 5561.47,-203.927 5552.44,-194.489\" fill=\"none\" stroke=\"black\"/>\n",
       "<polygon fill=\"black\" points=\"5554.73,-191.824 5545.29,-187.021 5549.68,-196.665 5554.73,-191.824\" stroke=\"black\"/>\n",
       "</g>\n",
       "<!-- 109 -->\n",
       "<g class=\"node\" id=\"node110\"><title>109</title>\n",
       "<polygon fill=\"#d739e5\" points=\"5720,-179.5 5601,-179.5 5601,-111.5 5720,-111.5 5720,-179.5\" stroke=\"black\"/>\n",
       "<text font-family=\"Times New Roman,serif\" font-size=\"14.00\" text-anchor=\"middle\" x=\"5660.5\" y=\"-164.3\">gini = 0.0</text>\n",
       "<text font-family=\"Times New Roman,serif\" font-size=\"14.00\" text-anchor=\"middle\" x=\"5660.5\" y=\"-149.3\">samples = 4</text>\n",
       "<text font-family=\"Times New Roman,serif\" font-size=\"14.00\" text-anchor=\"middle\" x=\"5660.5\" y=\"-134.3\">value = [0, 0, 0, 4]</text>\n",
       "<text font-family=\"Times New Roman,serif\" font-size=\"14.00\" text-anchor=\"middle\" x=\"5660.5\" y=\"-119.3\">class = D</text>\n",
       "</g>\n",
       "<!-- 105&#45;&gt;109 -->\n",
       "<g class=\"edge\" id=\"edge109\"><title>105-&gt;109</title>\n",
       "<path d=\"M5633.07,-222.907C5636.99,-211.983 5641.25,-200.137 5645.21,-189.107\" fill=\"none\" stroke=\"black\"/>\n",
       "<polygon fill=\"black\" points=\"5648.51,-190.261 5648.59,-179.667 5641.92,-187.896 5648.51,-190.261\" stroke=\"black\"/>\n",
       "</g>\n",
       "<!-- 107 -->\n",
       "<g class=\"node\" id=\"node108\"><title>107</title>\n",
       "<polygon fill=\"#f3c3f7\" points=\"5578.5,-68 5432.5,-68 5432.5,-0 5578.5,-0 5578.5,-68\" stroke=\"black\"/>\n",
       "<text font-family=\"Times New Roman,serif\" font-size=\"14.00\" text-anchor=\"middle\" x=\"5505.5\" y=\"-52.8\">gini = 0.679</text>\n",
       "<text font-family=\"Times New Roman,serif\" font-size=\"14.00\" text-anchor=\"middle\" x=\"5505.5\" y=\"-37.8\">samples = 198</text>\n",
       "<text font-family=\"Times New Roman,serif\" font-size=\"14.00\" text-anchor=\"middle\" x=\"5505.5\" y=\"-22.8\">value = [47, 24, 34, 93]</text>\n",
       "<text font-family=\"Times New Roman,serif\" font-size=\"14.00\" text-anchor=\"middle\" x=\"5505.5\" y=\"-7.8\">class = D</text>\n",
       "</g>\n",
       "<!-- 106&#45;&gt;107 -->\n",
       "<g class=\"edge\" id=\"edge107\"><title>106-&gt;107</title>\n",
       "<path d=\"M5506.13,-103.726C5506.05,-95.5175 5505.97,-86.8595 5505.9,-78.56\" fill=\"none\" stroke=\"black\"/>\n",
       "<polygon fill=\"black\" points=\"5509.4,-78.2672 5505.8,-68.2996 5502.4,-78.3312 5509.4,-78.2672\" stroke=\"black\"/>\n",
       "</g>\n",
       "<!-- 108 -->\n",
       "<g class=\"node\" id=\"node109\"><title>108</title>\n",
       "<polygon fill=\"#f7dafa\" points=\"5730,-68 5597,-68 5597,-0 5730,-0 5730,-68\" stroke=\"black\"/>\n",
       "<text font-family=\"Times New Roman,serif\" font-size=\"14.00\" text-anchor=\"middle\" x=\"5663.5\" y=\"-52.8\">gini = 0.622</text>\n",
       "<text font-family=\"Times New Roman,serif\" font-size=\"14.00\" text-anchor=\"middle\" x=\"5663.5\" y=\"-37.8\">samples = 58</text>\n",
       "<text font-family=\"Times New Roman,serif\" font-size=\"14.00\" text-anchor=\"middle\" x=\"5663.5\" y=\"-22.8\">value = [21, 6, 3, 28]</text>\n",
       "<text font-family=\"Times New Roman,serif\" font-size=\"14.00\" text-anchor=\"middle\" x=\"5663.5\" y=\"-7.8\">class = D</text>\n",
       "</g>\n",
       "<!-- 106&#45;&gt;108 -->\n",
       "<g class=\"edge\" id=\"edge108\"><title>106-&gt;108</title>\n",
       "<path d=\"M5564.96,-103.726C5578.82,-94.0582 5593.58,-83.767 5607.34,-74.172\" fill=\"none\" stroke=\"black\"/>\n",
       "<polygon fill=\"black\" points=\"5609.56,-76.891 5615.76,-68.2996 5605.55,-71.1495 5609.56,-76.891\" stroke=\"black\"/>\n",
       "</g>\n",
       "<!-- 111 -->\n",
       "<g class=\"node\" id=\"node112\"><title>111</title>\n",
       "<polygon fill=\"#f0b6f5\" points=\"5939,-187 5780,-187 5780,-104 5939,-104 5939,-187\" stroke=\"black\"/>\n",
       "<text font-family=\"Times New Roman,serif\" font-size=\"14.00\" text-anchor=\"middle\" x=\"5859.5\" y=\"-171.8\">Work_Experience &lt;= 3.5</text>\n",
       "<text font-family=\"Times New Roman,serif\" font-size=\"14.00\" text-anchor=\"middle\" x=\"5859.5\" y=\"-156.8\">gini = 0.659</text>\n",
       "<text font-family=\"Times New Roman,serif\" font-size=\"14.00\" text-anchor=\"middle\" x=\"5859.5\" y=\"-141.8\">samples = 62</text>\n",
       "<text font-family=\"Times New Roman,serif\" font-size=\"14.00\" text-anchor=\"middle\" x=\"5859.5\" y=\"-126.8\">value = [13, 6, 12, 31]</text>\n",
       "<text font-family=\"Times New Roman,serif\" font-size=\"14.00\" text-anchor=\"middle\" x=\"5859.5\" y=\"-111.8\">class = D</text>\n",
       "</g>\n",
       "<!-- 110&#45;&gt;111 -->\n",
       "<g class=\"edge\" id=\"edge111\"><title>110-&gt;111</title>\n",
       "<path d=\"M5859.5,-222.907C5859.5,-214.649 5859.5,-205.864 5859.5,-197.302\" fill=\"none\" stroke=\"black\"/>\n",
       "<polygon fill=\"black\" points=\"5863,-197.021 5859.5,-187.021 5856,-197.021 5863,-197.021\" stroke=\"black\"/>\n",
       "</g>\n",
       "<!-- 114 -->\n",
       "<g class=\"node\" id=\"node115\"><title>114</title>\n",
       "<polygon fill=\"#e376ed\" points=\"6176.5,-187 6050.5,-187 6050.5,-104 6176.5,-104 6176.5,-187\" stroke=\"black\"/>\n",
       "<text font-family=\"Times New Roman,serif\" font-size=\"14.00\" text-anchor=\"middle\" x=\"6113.5\" y=\"-171.8\">Family_Size &lt;= 8.5</text>\n",
       "<text font-family=\"Times New Roman,serif\" font-size=\"14.00\" text-anchor=\"middle\" x=\"6113.5\" y=\"-156.8\">gini = 0.436</text>\n",
       "<text font-family=\"Times New Roman,serif\" font-size=\"14.00\" text-anchor=\"middle\" x=\"6113.5\" y=\"-141.8\">samples = 45</text>\n",
       "<text font-family=\"Times New Roman,serif\" font-size=\"14.00\" text-anchor=\"middle\" x=\"6113.5\" y=\"-126.8\">value = [6, 3, 3, 33]</text>\n",
       "<text font-family=\"Times New Roman,serif\" font-size=\"14.00\" text-anchor=\"middle\" x=\"6113.5\" y=\"-111.8\">class = D</text>\n",
       "</g>\n",
       "<!-- 110&#45;&gt;114 -->\n",
       "<g class=\"edge\" id=\"edge114\"><title>110-&gt;114</title>\n",
       "<path d=\"M5929.58,-231.22C5964.22,-215.262 6005.99,-196.023 6040.96,-179.915\" fill=\"none\" stroke=\"black\"/>\n",
       "<polygon fill=\"black\" points=\"6042.54,-183.039 6050.16,-175.676 6039.61,-176.681 6042.54,-183.039\" stroke=\"black\"/>\n",
       "</g>\n",
       "<!-- 112 -->\n",
       "<g class=\"node\" id=\"node113\"><title>112</title>\n",
       "<polygon fill=\"#f9e0fb\" points=\"5888.5,-68 5748.5,-68 5748.5,-0 5888.5,-0 5888.5,-68\" stroke=\"black\"/>\n",
       "<text font-family=\"Times New Roman,serif\" font-size=\"14.00\" text-anchor=\"middle\" x=\"5818.5\" y=\"-52.8\">gini = 0.712</text>\n",
       "<text font-family=\"Times New Roman,serif\" font-size=\"14.00\" text-anchor=\"middle\" x=\"5818.5\" y=\"-37.8\">samples = 44</text>\n",
       "<text font-family=\"Times New Roman,serif\" font-size=\"14.00\" text-anchor=\"middle\" x=\"5818.5\" y=\"-22.8\">value = [12, 5, 10, 17]</text>\n",
       "<text font-family=\"Times New Roman,serif\" font-size=\"14.00\" text-anchor=\"middle\" x=\"5818.5\" y=\"-7.8\">class = D</text>\n",
       "</g>\n",
       "<!-- 111&#45;&gt;112 -->\n",
       "<g class=\"edge\" id=\"edge112\"><title>111-&gt;112</title>\n",
       "<path d=\"M5844.23,-103.726C5841.06,-95.2439 5837.7,-86.2819 5834.5,-77.7312\" fill=\"none\" stroke=\"black\"/>\n",
       "<polygon fill=\"black\" points=\"5837.75,-76.4373 5830.97,-68.2996 5831.2,-78.892 5837.75,-76.4373\" stroke=\"black\"/>\n",
       "</g>\n",
       "<!-- 113 -->\n",
       "<g class=\"node\" id=\"node114\"><title>113</title>\n",
       "<polygon fill=\"#e16aec\" points=\"6032.5,-68 5906.5,-68 5906.5,-0 6032.5,-0 6032.5,-68\" stroke=\"black\"/>\n",
       "<text font-family=\"Times New Roman,serif\" font-size=\"14.00\" text-anchor=\"middle\" x=\"5969.5\" y=\"-52.8\">gini = 0.377</text>\n",
       "<text font-family=\"Times New Roman,serif\" font-size=\"14.00\" text-anchor=\"middle\" x=\"5969.5\" y=\"-37.8\">samples = 18</text>\n",
       "<text font-family=\"Times New Roman,serif\" font-size=\"14.00\" text-anchor=\"middle\" x=\"5969.5\" y=\"-22.8\">value = [1, 1, 2, 14]</text>\n",
       "<text font-family=\"Times New Roman,serif\" font-size=\"14.00\" text-anchor=\"middle\" x=\"5969.5\" y=\"-7.8\">class = D</text>\n",
       "</g>\n",
       "<!-- 111&#45;&gt;113 -->\n",
       "<g class=\"edge\" id=\"edge113\"><title>111-&gt;113</title>\n",
       "<path d=\"M5900.46,-103.726C5909.71,-94.5142 5919.54,-84.7364 5928.78,-75.5343\" fill=\"none\" stroke=\"black\"/>\n",
       "<polygon fill=\"black\" points=\"5931.43,-77.8351 5936.05,-68.2996 5926.49,-72.8741 5931.43,-77.8351\" stroke=\"black\"/>\n",
       "</g>\n",
       "<!-- 115 -->\n",
       "<g class=\"node\" id=\"node116\"><title>115</title>\n",
       "<polygon fill=\"#e169eb\" points=\"6176.5,-68 6050.5,-68 6050.5,-0 6176.5,-0 6176.5,-68\" stroke=\"black\"/>\n",
       "<text font-family=\"Times New Roman,serif\" font-size=\"14.00\" text-anchor=\"middle\" x=\"6113.5\" y=\"-52.8\">gini = 0.374</text>\n",
       "<text font-family=\"Times New Roman,serif\" font-size=\"14.00\" text-anchor=\"middle\" x=\"6113.5\" y=\"-37.8\">samples = 41</text>\n",
       "<text font-family=\"Times New Roman,serif\" font-size=\"14.00\" text-anchor=\"middle\" x=\"6113.5\" y=\"-22.8\">value = [4, 2, 3, 32]</text>\n",
       "<text font-family=\"Times New Roman,serif\" font-size=\"14.00\" text-anchor=\"middle\" x=\"6113.5\" y=\"-7.8\">class = D</text>\n",
       "</g>\n",
       "<!-- 114&#45;&gt;115 -->\n",
       "<g class=\"edge\" id=\"edge115\"><title>114-&gt;115</title>\n",
       "<path d=\"M6113.5,-103.726C6113.5,-95.5175 6113.5,-86.8595 6113.5,-78.56\" fill=\"none\" stroke=\"black\"/>\n",
       "<polygon fill=\"black\" points=\"6117,-78.2996 6113.5,-68.2996 6110,-78.2996 6117,-78.2996\" stroke=\"black\"/>\n",
       "</g>\n",
       "<!-- 116 -->\n",
       "<g class=\"node\" id=\"node117\"><title>116</title>\n",
       "<polygon fill=\"#f6d5bd\" points=\"6314,-68 6195,-68 6195,-0 6314,-0 6314,-68\" stroke=\"black\"/>\n",
       "<text font-family=\"Times New Roman,serif\" font-size=\"14.00\" text-anchor=\"middle\" x=\"6254.5\" y=\"-52.8\">gini = 0.625</text>\n",
       "<text font-family=\"Times New Roman,serif\" font-size=\"14.00\" text-anchor=\"middle\" x=\"6254.5\" y=\"-37.8\">samples = 4</text>\n",
       "<text font-family=\"Times New Roman,serif\" font-size=\"14.00\" text-anchor=\"middle\" x=\"6254.5\" y=\"-22.8\">value = [2, 1, 0, 1]</text>\n",
       "<text font-family=\"Times New Roman,serif\" font-size=\"14.00\" text-anchor=\"middle\" x=\"6254.5\" y=\"-7.8\">class = A</text>\n",
       "</g>\n",
       "<!-- 114&#45;&gt;116 -->\n",
       "<g class=\"edge\" id=\"edge116\"><title>114-&gt;116</title>\n",
       "<path d=\"M6166,-103.726C6178.34,-94.1494 6191.45,-83.9611 6203.71,-74.4438\" fill=\"none\" stroke=\"black\"/>\n",
       "<polygon fill=\"black\" points=\"6205.87,-77.1975 6211.62,-68.2996 6201.58,-71.6689 6205.87,-77.1975\" stroke=\"black\"/>\n",
       "</g>\n",
       "<!-- 118 -->\n",
       "<g class=\"node\" id=\"node119\"><title>118</title>\n",
       "<polygon fill=\"#df5fea\" points=\"6712.5,-425 6572.5,-425 6572.5,-342 6712.5,-342 6712.5,-425\" stroke=\"black\"/>\n",
       "<text font-family=\"Times New Roman,serif\" font-size=\"14.00\" text-anchor=\"middle\" x=\"6642.5\" y=\"-409.8\">Var_1 &lt;= 3.5</text>\n",
       "<text font-family=\"Times New Roman,serif\" font-size=\"14.00\" text-anchor=\"middle\" x=\"6642.5\" y=\"-394.8\">gini = 0.302</text>\n",
       "<text font-family=\"Times New Roman,serif\" font-size=\"14.00\" text-anchor=\"middle\" x=\"6642.5\" y=\"-379.8\">samples = 139</text>\n",
       "<text font-family=\"Times New Roman,serif\" font-size=\"14.00\" text-anchor=\"middle\" x=\"6642.5\" y=\"-364.8\">value = [14, 2, 8, 115]</text>\n",
       "<text font-family=\"Times New Roman,serif\" font-size=\"14.00\" text-anchor=\"middle\" x=\"6642.5\" y=\"-349.8\">class = D</text>\n",
       "</g>\n",
       "<!-- 117&#45;&gt;118 -->\n",
       "<g class=\"edge\" id=\"edge118\"><title>117-&gt;118</title>\n",
       "<path d=\"M6642.5,-460.907C6642.5,-452.649 6642.5,-443.864 6642.5,-435.302\" fill=\"none\" stroke=\"black\"/>\n",
       "<polygon fill=\"black\" points=\"6646,-435.021 6642.5,-425.021 6639,-435.021 6646,-435.021\" stroke=\"black\"/>\n",
       "</g>\n",
       "<!-- 131 -->\n",
       "<g class=\"node\" id=\"node132\"><title>131</title>\n",
       "<polygon fill=\"#f1baf6\" points=\"7536.5,-425 7376.5,-425 7376.5,-342 7536.5,-342 7536.5,-425\" stroke=\"black\"/>\n",
       "<text font-family=\"Times New Roman,serif\" font-size=\"14.00\" text-anchor=\"middle\" x=\"7456.5\" y=\"-409.8\">Work_Experience &lt;= 1.5</text>\n",
       "<text font-family=\"Times New Roman,serif\" font-size=\"14.00\" text-anchor=\"middle\" x=\"7456.5\" y=\"-394.8\">gini = 0.677</text>\n",
       "<text font-family=\"Times New Roman,serif\" font-size=\"14.00\" text-anchor=\"middle\" x=\"7456.5\" y=\"-379.8\">samples = 525</text>\n",
       "<text font-family=\"Times New Roman,serif\" font-size=\"14.00\" text-anchor=\"middle\" x=\"7456.5\" y=\"-364.8\">value = [85, 79, 108, 253]</text>\n",
       "<text font-family=\"Times New Roman,serif\" font-size=\"14.00\" text-anchor=\"middle\" x=\"7456.5\" y=\"-349.8\">class = D</text>\n",
       "</g>\n",
       "<!-- 117&#45;&gt;131 -->\n",
       "<g class=\"edge\" id=\"edge131\"><title>117-&gt;131</title>\n",
       "<path d=\"M6722.78,-489.961C6875.25,-468.045 7205.8,-420.534 7365.93,-397.519\" fill=\"none\" stroke=\"black\"/>\n",
       "<polygon fill=\"black\" points=\"7366.82,-400.926 7376.22,-396.039 7365.83,-393.997 7366.82,-400.926\" stroke=\"black\"/>\n",
       "</g>\n",
       "<!-- 119 -->\n",
       "<g class=\"node\" id=\"node120\"><title>119</title>\n",
       "<polygon fill=\"#e991f1\" points=\"6599.5,-306 6473.5,-306 6473.5,-223 6599.5,-223 6599.5,-306\" stroke=\"black\"/>\n",
       "<text font-family=\"Times New Roman,serif\" font-size=\"14.00\" text-anchor=\"middle\" x=\"6536.5\" y=\"-290.8\">Var_1 &lt;= 1.5</text>\n",
       "<text font-family=\"Times New Roman,serif\" font-size=\"14.00\" text-anchor=\"middle\" x=\"6536.5\" y=\"-275.8\">gini = 0.503</text>\n",
       "<text font-family=\"Times New Roman,serif\" font-size=\"14.00\" text-anchor=\"middle\" x=\"6536.5\" y=\"-260.8\">samples = 35</text>\n",
       "<text font-family=\"Times New Roman,serif\" font-size=\"14.00\" text-anchor=\"middle\" x=\"6536.5\" y=\"-245.8\">value = [8, 0, 4, 23]</text>\n",
       "<text font-family=\"Times New Roman,serif\" font-size=\"14.00\" text-anchor=\"middle\" x=\"6536.5\" y=\"-230.8\">class = D</text>\n",
       "</g>\n",
       "<!-- 118&#45;&gt;119 -->\n",
       "<g class=\"edge\" id=\"edge119\"><title>118-&gt;119</title>\n",
       "<path d=\"M6605.72,-341.907C6597.42,-332.742 6588.53,-322.927 6579.98,-313.489\" fill=\"none\" stroke=\"black\"/>\n",
       "<polygon fill=\"black\" points=\"6582.52,-311.082 6573.21,-306.021 6577.33,-315.782 6582.52,-311.082\" stroke=\"black\"/>\n",
       "</g>\n",
       "<!-- 124 -->\n",
       "<g class=\"node\" id=\"node125\"><title>124</title>\n",
       "<polygon fill=\"#dc51e8\" points=\"6811.5,-306 6685.5,-306 6685.5,-223 6811.5,-223 6811.5,-306\" stroke=\"black\"/>\n",
       "<text font-family=\"Times New Roman,serif\" font-size=\"14.00\" text-anchor=\"middle\" x=\"6748.5\" y=\"-290.8\">Var_1 &lt;= 5.5</text>\n",
       "<text font-family=\"Times New Roman,serif\" font-size=\"14.00\" text-anchor=\"middle\" x=\"6748.5\" y=\"-275.8\">gini = 0.212</text>\n",
       "<text font-family=\"Times New Roman,serif\" font-size=\"14.00\" text-anchor=\"middle\" x=\"6748.5\" y=\"-260.8\">samples = 104</text>\n",
       "<text font-family=\"Times New Roman,serif\" font-size=\"14.00\" text-anchor=\"middle\" x=\"6748.5\" y=\"-245.8\">value = [6, 2, 4, 92]</text>\n",
       "<text font-family=\"Times New Roman,serif\" font-size=\"14.00\" text-anchor=\"middle\" x=\"6748.5\" y=\"-230.8\">class = D</text>\n",
       "</g>\n",
       "<!-- 118&#45;&gt;124 -->\n",
       "<g class=\"edge\" id=\"edge124\"><title>118-&gt;124</title>\n",
       "<path d=\"M6679.28,-341.907C6687.58,-332.742 6696.47,-322.927 6705.02,-313.489\" fill=\"none\" stroke=\"black\"/>\n",
       "<polygon fill=\"black\" points=\"6707.67,-315.782 6711.79,-306.021 6702.48,-311.082 6707.67,-315.782\" stroke=\"black\"/>\n",
       "</g>\n",
       "<!-- 120 -->\n",
       "<g class=\"node\" id=\"node121\"><title>120</title>\n",
       "<polygon fill=\"#d739e5\" points=\"6455,-179.5 6336,-179.5 6336,-111.5 6455,-111.5 6455,-179.5\" stroke=\"black\"/>\n",
       "<text font-family=\"Times New Roman,serif\" font-size=\"14.00\" text-anchor=\"middle\" x=\"6395.5\" y=\"-164.3\">gini = 0.0</text>\n",
       "<text font-family=\"Times New Roman,serif\" font-size=\"14.00\" text-anchor=\"middle\" x=\"6395.5\" y=\"-149.3\">samples = 6</text>\n",
       "<text font-family=\"Times New Roman,serif\" font-size=\"14.00\" text-anchor=\"middle\" x=\"6395.5\" y=\"-134.3\">value = [0, 0, 0, 6]</text>\n",
       "<text font-family=\"Times New Roman,serif\" font-size=\"14.00\" text-anchor=\"middle\" x=\"6395.5\" y=\"-119.3\">class = D</text>\n",
       "</g>\n",
       "<!-- 119&#45;&gt;120 -->\n",
       "<g class=\"edge\" id=\"edge120\"><title>119-&gt;120</title>\n",
       "<path d=\"M6487.58,-222.907C6473.22,-210.99 6457.53,-197.976 6443.25,-186.12\" fill=\"none\" stroke=\"black\"/>\n",
       "<polygon fill=\"black\" points=\"6445.4,-183.359 6435.47,-179.667 6440.93,-188.746 6445.4,-183.359\" stroke=\"black\"/>\n",
       "</g>\n",
       "<!-- 121 -->\n",
       "<g class=\"node\" id=\"node122\"><title>121</title>\n",
       "<polygon fill=\"#eeaaf4\" points=\"6599.5,-187 6473.5,-187 6473.5,-104 6599.5,-104 6599.5,-187\" stroke=\"black\"/>\n",
       "<text font-family=\"Times New Roman,serif\" font-size=\"14.00\" text-anchor=\"middle\" x=\"6536.5\" y=\"-171.8\">Graduated &lt;= 0.5</text>\n",
       "<text font-family=\"Times New Roman,serif\" font-size=\"14.00\" text-anchor=\"middle\" x=\"6536.5\" y=\"-156.8\">gini = 0.561</text>\n",
       "<text font-family=\"Times New Roman,serif\" font-size=\"14.00\" text-anchor=\"middle\" x=\"6536.5\" y=\"-141.8\">samples = 29</text>\n",
       "<text font-family=\"Times New Roman,serif\" font-size=\"14.00\" text-anchor=\"middle\" x=\"6536.5\" y=\"-126.8\">value = [8, 0, 4, 17]</text>\n",
       "<text font-family=\"Times New Roman,serif\" font-size=\"14.00\" text-anchor=\"middle\" x=\"6536.5\" y=\"-111.8\">class = D</text>\n",
       "</g>\n",
       "<!-- 119&#45;&gt;121 -->\n",
       "<g class=\"edge\" id=\"edge121\"><title>119-&gt;121</title>\n",
       "<path d=\"M6536.5,-222.907C6536.5,-214.649 6536.5,-205.864 6536.5,-197.302\" fill=\"none\" stroke=\"black\"/>\n",
       "<polygon fill=\"black\" points=\"6540,-197.021 6536.5,-187.021 6533,-197.021 6540,-197.021\" stroke=\"black\"/>\n",
       "</g>\n",
       "<!-- 122 -->\n",
       "<g class=\"node\" id=\"node123\"><title>122</title>\n",
       "<polygon fill=\"#e16aec\" points=\"6458.5,-68 6332.5,-68 6332.5,-0 6458.5,-0 6458.5,-68\" stroke=\"black\"/>\n",
       "<text font-family=\"Times New Roman,serif\" font-size=\"14.00\" text-anchor=\"middle\" x=\"6395.5\" y=\"-52.8\">gini = 0.32</text>\n",
       "<text font-family=\"Times New Roman,serif\" font-size=\"14.00\" text-anchor=\"middle\" x=\"6395.5\" y=\"-37.8\">samples = 15</text>\n",
       "<text font-family=\"Times New Roman,serif\" font-size=\"14.00\" text-anchor=\"middle\" x=\"6395.5\" y=\"-22.8\">value = [3, 0, 0, 12]</text>\n",
       "<text font-family=\"Times New Roman,serif\" font-size=\"14.00\" text-anchor=\"middle\" x=\"6395.5\" y=\"-7.8\">class = D</text>\n",
       "</g>\n",
       "<!-- 121&#45;&gt;122 -->\n",
       "<g class=\"edge\" id=\"edge122\"><title>121-&gt;122</title>\n",
       "<path d=\"M6484,-103.726C6471.66,-94.1494 6458.55,-83.9611 6446.29,-74.4438\" fill=\"none\" stroke=\"black\"/>\n",
       "<polygon fill=\"black\" points=\"6448.42,-71.6689 6438.38,-68.2996 6444.13,-77.1975 6448.42,-71.6689\" stroke=\"black\"/>\n",
       "</g>\n",
       "<!-- 123 -->\n",
       "<g class=\"node\" id=\"node124\"><title>123</title>\n",
       "<polygon fill=\"#ffffff\" points=\"6596,-68 6477,-68 6477,-0 6596,-0 6596,-68\" stroke=\"black\"/>\n",
       "<text font-family=\"Times New Roman,serif\" font-size=\"14.00\" text-anchor=\"middle\" x=\"6536.5\" y=\"-52.8\">gini = 0.663</text>\n",
       "<text font-family=\"Times New Roman,serif\" font-size=\"14.00\" text-anchor=\"middle\" x=\"6536.5\" y=\"-37.8\">samples = 14</text>\n",
       "<text font-family=\"Times New Roman,serif\" font-size=\"14.00\" text-anchor=\"middle\" x=\"6536.5\" y=\"-22.8\">value = [5, 0, 4, 5]</text>\n",
       "<text font-family=\"Times New Roman,serif\" font-size=\"14.00\" text-anchor=\"middle\" x=\"6536.5\" y=\"-7.8\">class = A</text>\n",
       "</g>\n",
       "<!-- 121&#45;&gt;123 -->\n",
       "<g class=\"edge\" id=\"edge123\"><title>121-&gt;123</title>\n",
       "<path d=\"M6536.5,-103.726C6536.5,-95.5175 6536.5,-86.8595 6536.5,-78.56\" fill=\"none\" stroke=\"black\"/>\n",
       "<polygon fill=\"black\" points=\"6540,-78.2996 6536.5,-68.2996 6533,-78.2996 6540,-78.2996\" stroke=\"black\"/>\n",
       "</g>\n",
       "<!-- 125 -->\n",
       "<g class=\"node\" id=\"node126\"><title>125</title>\n",
       "<polygon fill=\"#da49e7\" points=\"6824,-187 6673,-187 6673,-104 6824,-104 6824,-187\" stroke=\"black\"/>\n",
       "<text font-family=\"Times New Roman,serif\" font-size=\"14.00\" text-anchor=\"middle\" x=\"6748.5\" y=\"-171.8\">Spending_Score &lt;= 1.5</text>\n",
       "<text font-family=\"Times New Roman,serif\" font-size=\"14.00\" text-anchor=\"middle\" x=\"6748.5\" y=\"-156.8\">gini = 0.142</text>\n",
       "<text font-family=\"Times New Roman,serif\" font-size=\"14.00\" text-anchor=\"middle\" x=\"6748.5\" y=\"-141.8\">samples = 93</text>\n",
       "<text font-family=\"Times New Roman,serif\" font-size=\"14.00\" text-anchor=\"middle\" x=\"6748.5\" y=\"-126.8\">value = [4, 2, 1, 86]</text>\n",
       "<text font-family=\"Times New Roman,serif\" font-size=\"14.00\" text-anchor=\"middle\" x=\"6748.5\" y=\"-111.8\">class = D</text>\n",
       "</g>\n",
       "<!-- 124&#45;&gt;125 -->\n",
       "<g class=\"edge\" id=\"edge125\"><title>124-&gt;125</title>\n",
       "<path d=\"M6748.5,-222.907C6748.5,-214.649 6748.5,-205.864 6748.5,-197.302\" fill=\"none\" stroke=\"black\"/>\n",
       "<polygon fill=\"black\" points=\"6752,-197.021 6748.5,-187.021 6745,-197.021 6752,-197.021\" stroke=\"black\"/>\n",
       "</g>\n",
       "<!-- 128 -->\n",
       "<g class=\"node\" id=\"node129\"><title>128</title>\n",
       "<polygon fill=\"#f0b5f5\" points=\"7015,-187 6896,-187 6896,-104 7015,-104 7015,-187\" stroke=\"black\"/>\n",
       "<text font-family=\"Times New Roman,serif\" font-size=\"14.00\" text-anchor=\"middle\" x=\"6955.5\" y=\"-171.8\">Profession &lt;= 8.5</text>\n",
       "<text font-family=\"Times New Roman,serif\" font-size=\"14.00\" text-anchor=\"middle\" x=\"6955.5\" y=\"-156.8\">gini = 0.595</text>\n",
       "<text font-family=\"Times New Roman,serif\" font-size=\"14.00\" text-anchor=\"middle\" x=\"6955.5\" y=\"-141.8\">samples = 11</text>\n",
       "<text font-family=\"Times New Roman,serif\" font-size=\"14.00\" text-anchor=\"middle\" x=\"6955.5\" y=\"-126.8\">value = [2, 0, 3, 6]</text>\n",
       "<text font-family=\"Times New Roman,serif\" font-size=\"14.00\" text-anchor=\"middle\" x=\"6955.5\" y=\"-111.8\">class = D</text>\n",
       "</g>\n",
       "<!-- 124&#45;&gt;128 -->\n",
       "<g class=\"edge\" id=\"edge128\"><title>124-&gt;128</title>\n",
       "<path d=\"M6811.73,-227.76C6835.56,-214.294 6862.76,-198.921 6887.04,-185.196\" fill=\"none\" stroke=\"black\"/>\n",
       "<polygon fill=\"black\" points=\"6888.86,-188.189 6895.84,-180.221 6885.41,-182.095 6888.86,-188.189\" stroke=\"black\"/>\n",
       "</g>\n",
       "<!-- 126 -->\n",
       "<g class=\"node\" id=\"node127\"><title>126</title>\n",
       "<polygon fill=\"#e58139\" points=\"6733,-68 6614,-68 6614,-0 6733,-0 6733,-68\" stroke=\"black\"/>\n",
       "<text font-family=\"Times New Roman,serif\" font-size=\"14.00\" text-anchor=\"middle\" x=\"6673.5\" y=\"-52.8\">gini = 0.0</text>\n",
       "<text font-family=\"Times New Roman,serif\" font-size=\"14.00\" text-anchor=\"middle\" x=\"6673.5\" y=\"-37.8\">samples = 1</text>\n",
       "<text font-family=\"Times New Roman,serif\" font-size=\"14.00\" text-anchor=\"middle\" x=\"6673.5\" y=\"-22.8\">value = [1, 0, 0, 0]</text>\n",
       "<text font-family=\"Times New Roman,serif\" font-size=\"14.00\" text-anchor=\"middle\" x=\"6673.5\" y=\"-7.8\">class = A</text>\n",
       "</g>\n",
       "<!-- 125&#45;&gt;126 -->\n",
       "<g class=\"edge\" id=\"edge126\"><title>125-&gt;126</title>\n",
       "<path d=\"M6720.57,-103.726C6714.51,-94.879 6708.1,-85.51 6702.01,-76.6303\" fill=\"none\" stroke=\"black\"/>\n",
       "<polygon fill=\"black\" points=\"6704.85,-74.5721 6696.31,-68.2996 6699.07,-78.5277 6704.85,-74.5721\" stroke=\"black\"/>\n",
       "</g>\n",
       "<!-- 127 -->\n",
       "<g class=\"node\" id=\"node128\"><title>127</title>\n",
       "<polygon fill=\"#da46e7\" points=\"6877.5,-68 6751.5,-68 6751.5,-0 6877.5,-0 6877.5,-68\" stroke=\"black\"/>\n",
       "<text font-family=\"Times New Roman,serif\" font-size=\"14.00\" text-anchor=\"middle\" x=\"6814.5\" y=\"-52.8\">gini = 0.125</text>\n",
       "<text font-family=\"Times New Roman,serif\" font-size=\"14.00\" text-anchor=\"middle\" x=\"6814.5\" y=\"-37.8\">samples = 92</text>\n",
       "<text font-family=\"Times New Roman,serif\" font-size=\"14.00\" text-anchor=\"middle\" x=\"6814.5\" y=\"-22.8\">value = [3, 2, 1, 86]</text>\n",
       "<text font-family=\"Times New Roman,serif\" font-size=\"14.00\" text-anchor=\"middle\" x=\"6814.5\" y=\"-7.8\">class = D</text>\n",
       "</g>\n",
       "<!-- 125&#45;&gt;127 -->\n",
       "<g class=\"edge\" id=\"edge127\"><title>125-&gt;127</title>\n",
       "<path d=\"M6773.08,-103.726C6778.35,-94.9703 6783.94,-85.7032 6789.24,-76.9051\" fill=\"none\" stroke=\"black\"/>\n",
       "<polygon fill=\"black\" points=\"6792.26,-78.671 6794.43,-68.2996 6786.27,-75.0574 6792.26,-78.671\" stroke=\"black\"/>\n",
       "</g>\n",
       "<!-- 129 -->\n",
       "<g class=\"node\" id=\"node130\"><title>129</title>\n",
       "<polygon fill=\"#e272ec\" points=\"7015,-68 6896,-68 6896,-0 7015,-0 7015,-68\" stroke=\"black\"/>\n",
       "<text font-family=\"Times New Roman,serif\" font-size=\"14.00\" text-anchor=\"middle\" x=\"6955.5\" y=\"-52.8\">gini = 0.406</text>\n",
       "<text font-family=\"Times New Roman,serif\" font-size=\"14.00\" text-anchor=\"middle\" x=\"6955.5\" y=\"-37.8\">samples = 8</text>\n",
       "<text font-family=\"Times New Roman,serif\" font-size=\"14.00\" text-anchor=\"middle\" x=\"6955.5\" y=\"-22.8\">value = [1, 0, 1, 6]</text>\n",
       "<text font-family=\"Times New Roman,serif\" font-size=\"14.00\" text-anchor=\"middle\" x=\"6955.5\" y=\"-7.8\">class = D</text>\n",
       "</g>\n",
       "<!-- 128&#45;&gt;129 -->\n",
       "<g class=\"edge\" id=\"edge129\"><title>128-&gt;129</title>\n",
       "<path d=\"M6955.5,-103.726C6955.5,-95.5175 6955.5,-86.8595 6955.5,-78.56\" fill=\"none\" stroke=\"black\"/>\n",
       "<polygon fill=\"black\" points=\"6959,-78.2996 6955.5,-68.2996 6952,-78.2996 6959,-78.2996\" stroke=\"black\"/>\n",
       "</g>\n",
       "<!-- 130 -->\n",
       "<g class=\"node\" id=\"node131\"><title>130</title>\n",
       "<polygon fill=\"#9ccef2\" points=\"7152,-68 7033,-68 7033,-0 7152,-0 7152,-68\" stroke=\"black\"/>\n",
       "<text font-family=\"Times New Roman,serif\" font-size=\"14.00\" text-anchor=\"middle\" x=\"7092.5\" y=\"-52.8\">gini = 0.444</text>\n",
       "<text font-family=\"Times New Roman,serif\" font-size=\"14.00\" text-anchor=\"middle\" x=\"7092.5\" y=\"-37.8\">samples = 3</text>\n",
       "<text font-family=\"Times New Roman,serif\" font-size=\"14.00\" text-anchor=\"middle\" x=\"7092.5\" y=\"-22.8\">value = [1, 0, 2, 0]</text>\n",
       "<text font-family=\"Times New Roman,serif\" font-size=\"14.00\" text-anchor=\"middle\" x=\"7092.5\" y=\"-7.8\">class = C</text>\n",
       "</g>\n",
       "<!-- 128&#45;&gt;130 -->\n",
       "<g class=\"edge\" id=\"edge130\"><title>128-&gt;130</title>\n",
       "<path d=\"M7006.51,-103.726C7018.38,-94.2406 7031,-84.1551 7042.81,-74.7159\" fill=\"none\" stroke=\"black\"/>\n",
       "<polygon fill=\"black\" points=\"7045.21,-77.2771 7050.84,-68.2996 7040.84,-71.8091 7045.21,-77.2771\" stroke=\"black\"/>\n",
       "</g>\n",
       "<!-- 132 -->\n",
       "<g class=\"node\" id=\"node133\"><title>132</title>\n",
       "<polygon fill=\"#f5cff9\" points=\"7533,-306 7380,-306 7380,-223 7533,-223 7533,-306\" stroke=\"black\"/>\n",
       "<text font-family=\"Times New Roman,serif\" font-size=\"14.00\" text-anchor=\"middle\" x=\"7456.5\" y=\"-290.8\">Family_Size &lt;= 2.5</text>\n",
       "<text font-family=\"Times New Roman,serif\" font-size=\"14.00\" text-anchor=\"middle\" x=\"7456.5\" y=\"-275.8\">gini = 0.706</text>\n",
       "<text font-family=\"Times New Roman,serif\" font-size=\"14.00\" text-anchor=\"middle\" x=\"7456.5\" y=\"-260.8\">samples = 326</text>\n",
       "<text font-family=\"Times New Roman,serif\" font-size=\"14.00\" text-anchor=\"middle\" x=\"7456.5\" y=\"-245.8\">value = [51, 59, 78, 138]</text>\n",
       "<text font-family=\"Times New Roman,serif\" font-size=\"14.00\" text-anchor=\"middle\" x=\"7456.5\" y=\"-230.8\">class = D</text>\n",
       "</g>\n",
       "<!-- 131&#45;&gt;132 -->\n",
       "<g class=\"edge\" id=\"edge132\"><title>131-&gt;132</title>\n",
       "<path d=\"M7456.5,-341.907C7456.5,-333.649 7456.5,-324.864 7456.5,-316.302\" fill=\"none\" stroke=\"black\"/>\n",
       "<polygon fill=\"black\" points=\"7460,-316.021 7456.5,-306.021 7453,-316.021 7460,-316.021\" stroke=\"black\"/>\n",
       "</g>\n",
       "<!-- 139 -->\n",
       "<g class=\"node\" id=\"node140\"><title>139</title>\n",
       "<polygon fill=\"#eb9ef2\" points=\"7976,-306 7823,-306 7823,-223 7976,-223 7976,-306\" stroke=\"black\"/>\n",
       "<text font-family=\"Times New Roman,serif\" font-size=\"14.00\" text-anchor=\"middle\" x=\"7899.5\" y=\"-290.8\">Spending_Score &lt;= 0.5</text>\n",
       "<text font-family=\"Times New Roman,serif\" font-size=\"14.00\" text-anchor=\"middle\" x=\"7899.5\" y=\"-275.8\">gini = 0.604</text>\n",
       "<text font-family=\"Times New Roman,serif\" font-size=\"14.00\" text-anchor=\"middle\" x=\"7899.5\" y=\"-260.8\">samples = 199</text>\n",
       "<text font-family=\"Times New Roman,serif\" font-size=\"14.00\" text-anchor=\"middle\" x=\"7899.5\" y=\"-245.8\">value = [34, 20, 30, 115]</text>\n",
       "<text font-family=\"Times New Roman,serif\" font-size=\"14.00\" text-anchor=\"middle\" x=\"7899.5\" y=\"-230.8\">class = D</text>\n",
       "</g>\n",
       "<!-- 131&#45;&gt;139 -->\n",
       "<g class=\"edge\" id=\"edge139\"><title>131-&gt;139</title>\n",
       "<path d=\"M7536.72,-361.312C7614.67,-340.725 7732.69,-309.557 7812.78,-288.405\" fill=\"none\" stroke=\"black\"/>\n",
       "<polygon fill=\"black\" points=\"7814.06,-291.685 7822.84,-285.747 7812.27,-284.917 7814.06,-291.685\" stroke=\"black\"/>\n",
       "</g>\n",
       "<!-- 133 -->\n",
       "<g class=\"node\" id=\"node134\"><title>133</title>\n",
       "<polygon fill=\"#fdf4ed\" points=\"7443,-187 7310,-187 7310,-104 7443,-104 7443,-187\" stroke=\"black\"/>\n",
       "<text font-family=\"Times New Roman,serif\" font-size=\"14.00\" text-anchor=\"middle\" x=\"7376.5\" y=\"-171.8\">Var_1 &lt;= 4.0</text>\n",
       "<text font-family=\"Times New Roman,serif\" font-size=\"14.00\" text-anchor=\"middle\" x=\"7376.5\" y=\"-156.8\">gini = 0.69</text>\n",
       "<text font-family=\"Times New Roman,serif\" font-size=\"14.00\" text-anchor=\"middle\" x=\"7376.5\" y=\"-141.8\">samples = 50</text>\n",
       "<text font-family=\"Times New Roman,serif\" font-size=\"14.00\" text-anchor=\"middle\" x=\"7376.5\" y=\"-126.8\">value = [20, 6, 7, 17]</text>\n",
       "<text font-family=\"Times New Roman,serif\" font-size=\"14.00\" text-anchor=\"middle\" x=\"7376.5\" y=\"-111.8\">class = A</text>\n",
       "</g>\n",
       "<!-- 132&#45;&gt;133 -->\n",
       "<g class=\"edge\" id=\"edge133\"><title>132-&gt;133</title>\n",
       "<path d=\"M7428.74,-222.907C7422.66,-214.014 7416.16,-204.509 7409.89,-195.331\" fill=\"none\" stroke=\"black\"/>\n",
       "<polygon fill=\"black\" points=\"7412.74,-193.3 7404.21,-187.021 7406.96,-197.251 7412.74,-193.3\" stroke=\"black\"/>\n",
       "</g>\n",
       "<!-- 136 -->\n",
       "<g class=\"node\" id=\"node137\"><title>136</title>\n",
       "<polygon fill=\"#f5cff9\" points=\"7614,-187 7461,-187 7461,-104 7614,-104 7614,-187\" stroke=\"black\"/>\n",
       "<text font-family=\"Times New Roman,serif\" font-size=\"14.00\" text-anchor=\"middle\" x=\"7537.5\" y=\"-171.8\">Ever_Married &lt;= 1.5</text>\n",
       "<text font-family=\"Times New Roman,serif\" font-size=\"14.00\" text-anchor=\"middle\" x=\"7537.5\" y=\"-156.8\">gini = 0.692</text>\n",
       "<text font-family=\"Times New Roman,serif\" font-size=\"14.00\" text-anchor=\"middle\" x=\"7537.5\" y=\"-141.8\">samples = 276</text>\n",
       "<text font-family=\"Times New Roman,serif\" font-size=\"14.00\" text-anchor=\"middle\" x=\"7537.5\" y=\"-126.8\">value = [31, 53, 71, 121]</text>\n",
       "<text font-family=\"Times New Roman,serif\" font-size=\"14.00\" text-anchor=\"middle\" x=\"7537.5\" y=\"-111.8\">class = D</text>\n",
       "</g>\n",
       "<!-- 132&#45;&gt;136 -->\n",
       "<g class=\"edge\" id=\"edge136\"><title>132-&gt;136</title>\n",
       "<path d=\"M7484.6,-222.907C7490.76,-214.014 7497.34,-204.509 7503.69,-195.331\" fill=\"none\" stroke=\"black\"/>\n",
       "<polygon fill=\"black\" points=\"7506.63,-197.235 7509.45,-187.021 7500.88,-193.251 7506.63,-197.235\" stroke=\"black\"/>\n",
       "</g>\n",
       "<!-- 134 -->\n",
       "<g class=\"node\" id=\"node135\"><title>134</title>\n",
       "<polygon fill=\"#f6d5bd\" points=\"7296.5,-68 7170.5,-68 7170.5,-0 7296.5,-0 7296.5,-68\" stroke=\"black\"/>\n",
       "<text font-family=\"Times New Roman,serif\" font-size=\"14.00\" text-anchor=\"middle\" x=\"7233.5\" y=\"-52.8\">gini = 0.642</text>\n",
       "<text font-family=\"Times New Roman,serif\" font-size=\"14.00\" text-anchor=\"middle\" x=\"7233.5\" y=\"-37.8\">samples = 24</text>\n",
       "<text font-family=\"Times New Roman,serif\" font-size=\"14.00\" text-anchor=\"middle\" x=\"7233.5\" y=\"-22.8\">value = [12, 5, 1, 6]</text>\n",
       "<text font-family=\"Times New Roman,serif\" font-size=\"14.00\" text-anchor=\"middle\" x=\"7233.5\" y=\"-7.8\">class = A</text>\n",
       "</g>\n",
       "<!-- 133&#45;&gt;134 -->\n",
       "<g class=\"edge\" id=\"edge134\"><title>133-&gt;134</title>\n",
       "<path d=\"M7323.25,-103.726C7310.75,-94.1494 7297.44,-83.9611 7285.01,-74.4438\" fill=\"none\" stroke=\"black\"/>\n",
       "<polygon fill=\"black\" points=\"7287.05,-71.6004 7276.99,-68.2996 7282.8,-77.1582 7287.05,-71.6004\" stroke=\"black\"/>\n",
       "</g>\n",
       "<!-- 135 -->\n",
       "<g class=\"node\" id=\"node136\"><title>135</title>\n",
       "<polygon fill=\"#f8defb\" points=\"7440.5,-68 7314.5,-68 7314.5,-0 7440.5,-0 7440.5,-68\" stroke=\"black\"/>\n",
       "<text font-family=\"Times New Roman,serif\" font-size=\"14.00\" text-anchor=\"middle\" x=\"7377.5\" y=\"-52.8\">gini = 0.672</text>\n",
       "<text font-family=\"Times New Roman,serif\" font-size=\"14.00\" text-anchor=\"middle\" x=\"7377.5\" y=\"-37.8\">samples = 26</text>\n",
       "<text font-family=\"Times New Roman,serif\" font-size=\"14.00\" text-anchor=\"middle\" x=\"7377.5\" y=\"-22.8\">value = [8, 1, 6, 11]</text>\n",
       "<text font-family=\"Times New Roman,serif\" font-size=\"14.00\" text-anchor=\"middle\" x=\"7377.5\" y=\"-7.8\">class = D</text>\n",
       "</g>\n",
       "<!-- 133&#45;&gt;135 -->\n",
       "<g class=\"edge\" id=\"edge135\"><title>133-&gt;135</title>\n",
       "<path d=\"M7376.87,-103.726C7376.95,-95.5175 7377.03,-86.8595 7377.1,-78.56\" fill=\"none\" stroke=\"black\"/>\n",
       "<polygon fill=\"black\" points=\"7380.6,-78.3312 7377.2,-68.2996 7373.6,-78.2672 7380.6,-78.3312\" stroke=\"black\"/>\n",
       "</g>\n",
       "<!-- 137 -->\n",
       "<g class=\"node\" id=\"node138\"><title>137</title>\n",
       "<polygon fill=\"#f7d9fa\" points=\"7612,-68 7459,-68 7459,-0 7612,-0 7612,-68\" stroke=\"black\"/>\n",
       "<text font-family=\"Times New Roman,serif\" font-size=\"14.00\" text-anchor=\"middle\" x=\"7535.5\" y=\"-52.8\">gini = 0.698</text>\n",
       "<text font-family=\"Times New Roman,serif\" font-size=\"14.00\" text-anchor=\"middle\" x=\"7535.5\" y=\"-37.8\">samples = 257</text>\n",
       "<text font-family=\"Times New Roman,serif\" font-size=\"14.00\" text-anchor=\"middle\" x=\"7535.5\" y=\"-22.8\">value = [26, 53, 71, 107]</text>\n",
       "<text font-family=\"Times New Roman,serif\" font-size=\"14.00\" text-anchor=\"middle\" x=\"7535.5\" y=\"-7.8\">class = D</text>\n",
       "</g>\n",
       "<!-- 136&#45;&gt;137 -->\n",
       "<g class=\"edge\" id=\"edge137\"><title>136-&gt;137</title>\n",
       "<path d=\"M7536.76,-103.726C7536.61,-95.5175 7536.45,-86.8595 7536.3,-78.56\" fill=\"none\" stroke=\"black\"/>\n",
       "<polygon fill=\"black\" points=\"7539.79,-78.234 7536.11,-68.2996 7532.79,-78.3619 7539.79,-78.234\" stroke=\"black\"/>\n",
       "</g>\n",
       "<!-- 138 -->\n",
       "<g class=\"node\" id=\"node139\"><title>138</title>\n",
       "<polygon fill=\"#e580ee\" points=\"7756.5,-68 7630.5,-68 7630.5,-0 7756.5,-0 7756.5,-68\" stroke=\"black\"/>\n",
       "<text font-family=\"Times New Roman,serif\" font-size=\"14.00\" text-anchor=\"middle\" x=\"7693.5\" y=\"-52.8\">gini = 0.388</text>\n",
       "<text font-family=\"Times New Roman,serif\" font-size=\"14.00\" text-anchor=\"middle\" x=\"7693.5\" y=\"-37.8\">samples = 19</text>\n",
       "<text font-family=\"Times New Roman,serif\" font-size=\"14.00\" text-anchor=\"middle\" x=\"7693.5\" y=\"-22.8\">value = [5, 0, 0, 14]</text>\n",
       "<text font-family=\"Times New Roman,serif\" font-size=\"14.00\" text-anchor=\"middle\" x=\"7693.5\" y=\"-7.8\">class = D</text>\n",
       "</g>\n",
       "<!-- 136&#45;&gt;138 -->\n",
       "<g class=\"edge\" id=\"edge138\"><title>136-&gt;138</title>\n",
       "<path d=\"M7595.59,-103.726C7609.36,-94.0582 7624.02,-83.767 7637.69,-74.172\" fill=\"none\" stroke=\"black\"/>\n",
       "<polygon fill=\"black\" points=\"7639.89,-76.9096 7646.06,-68.2996 7635.86,-71.1801 7639.89,-76.9096\" stroke=\"black\"/>\n",
       "</g>\n",
       "<!-- 140 -->\n",
       "<g class=\"node\" id=\"node141\"><title>140</title>\n",
       "<polygon fill=\"#f6d2b8\" points=\"7962.5,-187 7836.5,-187 7836.5,-104 7962.5,-104 7962.5,-187\" stroke=\"black\"/>\n",
       "<text font-family=\"Times New Roman,serif\" font-size=\"14.00\" text-anchor=\"middle\" x=\"7899.5\" y=\"-171.8\">Family_Size &lt;= 2.5</text>\n",
       "<text font-family=\"Times New Roman,serif\" font-size=\"14.00\" text-anchor=\"middle\" x=\"7899.5\" y=\"-156.8\">gini = 0.685</text>\n",
       "<text font-family=\"Times New Roman,serif\" font-size=\"14.00\" text-anchor=\"middle\" x=\"7899.5\" y=\"-141.8\">samples = 17</text>\n",
       "<text font-family=\"Times New Roman,serif\" font-size=\"14.00\" text-anchor=\"middle\" x=\"7899.5\" y=\"-126.8\">value = [8, 3, 3, 3]</text>\n",
       "<text font-family=\"Times New Roman,serif\" font-size=\"14.00\" text-anchor=\"middle\" x=\"7899.5\" y=\"-111.8\">class = A</text>\n",
       "</g>\n",
       "<!-- 139&#45;&gt;140 -->\n",
       "<g class=\"edge\" id=\"edge140\"><title>139-&gt;140</title>\n",
       "<path d=\"M7899.5,-222.907C7899.5,-214.649 7899.5,-205.864 7899.5,-197.302\" fill=\"none\" stroke=\"black\"/>\n",
       "<polygon fill=\"black\" points=\"7903,-197.021 7899.5,-187.021 7896,-197.021 7903,-197.021\" stroke=\"black\"/>\n",
       "</g>\n",
       "<!-- 143 -->\n",
       "<g class=\"node\" id=\"node144\"><title>143</title>\n",
       "<polygon fill=\"#e992f1\" points=\"8199,-187 8046,-187 8046,-104 8199,-104 8199,-187\" stroke=\"black\"/>\n",
       "<text font-family=\"Times New Roman,serif\" font-size=\"14.00\" text-anchor=\"middle\" x=\"8122.5\" y=\"-171.8\">Gender &lt;= 0.5</text>\n",
       "<text font-family=\"Times New Roman,serif\" font-size=\"14.00\" text-anchor=\"middle\" x=\"8122.5\" y=\"-156.8\">gini = 0.57</text>\n",
       "<text font-family=\"Times New Roman,serif\" font-size=\"14.00\" text-anchor=\"middle\" x=\"8122.5\" y=\"-141.8\">samples = 182</text>\n",
       "<text font-family=\"Times New Roman,serif\" font-size=\"14.00\" text-anchor=\"middle\" x=\"8122.5\" y=\"-126.8\">value = [26, 17, 27, 112]</text>\n",
       "<text font-family=\"Times New Roman,serif\" font-size=\"14.00\" text-anchor=\"middle\" x=\"8122.5\" y=\"-111.8\">class = D</text>\n",
       "</g>\n",
       "<!-- 139&#45;&gt;143 -->\n",
       "<g class=\"edge\" id=\"edge143\"><title>139-&gt;143</title>\n",
       "<path d=\"M7976.24,-223.235C7995.8,-212.975 8016.94,-201.882 8036.91,-191.406\" fill=\"none\" stroke=\"black\"/>\n",
       "<polygon fill=\"black\" points=\"8038.76,-194.386 8045.99,-186.641 8035.51,-188.187 8038.76,-194.386\" stroke=\"black\"/>\n",
       "</g>\n",
       "<!-- 141 -->\n",
       "<g class=\"node\" id=\"node142\"><title>141</title>\n",
       "<polygon fill=\"#efb388\" points=\"7894,-68 7775,-68 7775,-0 7894,-0 7894,-68\" stroke=\"black\"/>\n",
       "<text font-family=\"Times New Roman,serif\" font-size=\"14.00\" text-anchor=\"middle\" x=\"7834.5\" y=\"-52.8\">gini = 0.5</text>\n",
       "<text font-family=\"Times New Roman,serif\" font-size=\"14.00\" text-anchor=\"middle\" x=\"7834.5\" y=\"-37.8\">samples = 12</text>\n",
       "<text font-family=\"Times New Roman,serif\" font-size=\"14.00\" text-anchor=\"middle\" x=\"7834.5\" y=\"-22.8\">value = [8, 2, 0, 2]</text>\n",
       "<text font-family=\"Times New Roman,serif\" font-size=\"14.00\" text-anchor=\"middle\" x=\"7834.5\" y=\"-7.8\">class = A</text>\n",
       "</g>\n",
       "<!-- 140&#45;&gt;141 -->\n",
       "<g class=\"edge\" id=\"edge141\"><title>140-&gt;141</title>\n",
       "<path d=\"M7875.3,-103.726C7870.1,-94.9703 7864.6,-85.7032 7859.38,-76.9051\" fill=\"none\" stroke=\"black\"/>\n",
       "<polygon fill=\"black\" points=\"7862.38,-75.1121 7854.27,-68.2996 7856.36,-78.6853 7862.38,-75.1121\" stroke=\"black\"/>\n",
       "</g>\n",
       "<!-- 142 -->\n",
       "<g class=\"node\" id=\"node143\"><title>142</title>\n",
       "<polygon fill=\"#9ccef2\" points=\"8031,-68 7912,-68 7912,-0 8031,-0 8031,-68\" stroke=\"black\"/>\n",
       "<text font-family=\"Times New Roman,serif\" font-size=\"14.00\" text-anchor=\"middle\" x=\"7971.5\" y=\"-52.8\">gini = 0.56</text>\n",
       "<text font-family=\"Times New Roman,serif\" font-size=\"14.00\" text-anchor=\"middle\" x=\"7971.5\" y=\"-37.8\">samples = 5</text>\n",
       "<text font-family=\"Times New Roman,serif\" font-size=\"14.00\" text-anchor=\"middle\" x=\"7971.5\" y=\"-22.8\">value = [0, 1, 3, 1]</text>\n",
       "<text font-family=\"Times New Roman,serif\" font-size=\"14.00\" text-anchor=\"middle\" x=\"7971.5\" y=\"-7.8\">class = C</text>\n",
       "</g>\n",
       "<!-- 140&#45;&gt;142 -->\n",
       "<g class=\"edge\" id=\"edge142\"><title>140-&gt;142</title>\n",
       "<path d=\"M7926.31,-103.726C7932.07,-94.9703 7938.16,-85.7032 7943.95,-76.9051\" fill=\"none\" stroke=\"black\"/>\n",
       "<polygon fill=\"black\" points=\"7947.03,-78.5781 7949.6,-68.2996 7941.19,-74.7322 7947.03,-78.5781\" stroke=\"black\"/>\n",
       "</g>\n",
       "<!-- 144 -->\n",
       "<g class=\"node\" id=\"node145\"><title>144</title>\n",
       "<polygon fill=\"#eeadf4\" points=\"8195.5,-68 8049.5,-68 8049.5,-0 8195.5,-0 8195.5,-68\" stroke=\"black\"/>\n",
       "<text font-family=\"Times New Roman,serif\" font-size=\"14.00\" text-anchor=\"middle\" x=\"8122.5\" y=\"-52.8\">gini = 0.637</text>\n",
       "<text font-family=\"Times New Roman,serif\" font-size=\"14.00\" text-anchor=\"middle\" x=\"8122.5\" y=\"-37.8\">samples = 97</text>\n",
       "<text font-family=\"Times New Roman,serif\" font-size=\"14.00\" text-anchor=\"middle\" x=\"8122.5\" y=\"-22.8\">value = [20, 12, 13, 52]</text>\n",
       "<text font-family=\"Times New Roman,serif\" font-size=\"14.00\" text-anchor=\"middle\" x=\"8122.5\" y=\"-7.8\">class = D</text>\n",
       "</g>\n",
       "<!-- 143&#45;&gt;144 -->\n",
       "<g class=\"edge\" id=\"edge144\"><title>143-&gt;144</title>\n",
       "<path d=\"M8122.5,-103.726C8122.5,-95.5175 8122.5,-86.8595 8122.5,-78.56\" fill=\"none\" stroke=\"black\"/>\n",
       "<polygon fill=\"black\" points=\"8126,-78.2996 8122.5,-68.2996 8119,-78.2996 8126,-78.2996\" stroke=\"black\"/>\n",
       "</g>\n",
       "<!-- 145 -->\n",
       "<g class=\"node\" id=\"node146\"><title>145</title>\n",
       "<polygon fill=\"#e57fee\" points=\"8347,-68 8214,-68 8214,-0 8347,-0 8347,-68\" stroke=\"black\"/>\n",
       "<text font-family=\"Times New Roman,serif\" font-size=\"14.00\" text-anchor=\"middle\" x=\"8280.5\" y=\"-52.8\">gini = 0.466</text>\n",
       "<text font-family=\"Times New Roman,serif\" font-size=\"14.00\" text-anchor=\"middle\" x=\"8280.5\" y=\"-37.8\">samples = 85</text>\n",
       "<text font-family=\"Times New Roman,serif\" font-size=\"14.00\" text-anchor=\"middle\" x=\"8280.5\" y=\"-22.8\">value = [6, 5, 14, 60]</text>\n",
       "<text font-family=\"Times New Roman,serif\" font-size=\"14.00\" text-anchor=\"middle\" x=\"8280.5\" y=\"-7.8\">class = D</text>\n",
       "</g>\n",
       "<!-- 143&#45;&gt;145 -->\n",
       "<g class=\"edge\" id=\"edge145\"><title>143-&gt;145</title>\n",
       "<path d=\"M8181.33,-103.726C8195.36,-94.0078 8210.29,-83.6597 8224.19,-74.0222\" fill=\"none\" stroke=\"black\"/>\n",
       "<polygon fill=\"black\" points=\"8226.48,-76.6981 8232.7,-68.1252 8222.49,-70.9447 8226.48,-76.6981\" stroke=\"black\"/>\n",
       "</g>\n",
       "<!-- 147 -->\n",
       "<g class=\"node\" id=\"node148\"><title>147</title>\n",
       "<polygon fill=\"#dbedfa\" points=\"11907.5,-782 11727.5,-782 11727.5,-699 11907.5,-699 11907.5,-782\" stroke=\"black\"/>\n",
       "<text font-family=\"Times New Roman,serif\" font-size=\"14.00\" text-anchor=\"middle\" x=\"11817.5\" y=\"-766.8\">Profession &lt;= 0.5</text>\n",
       "<text font-family=\"Times New Roman,serif\" font-size=\"14.00\" text-anchor=\"middle\" x=\"11817.5\" y=\"-751.8\">gini = 0.67</text>\n",
       "<text font-family=\"Times New Roman,serif\" font-size=\"14.00\" text-anchor=\"middle\" x=\"11817.5\" y=\"-736.8\">samples = 2293</text>\n",
       "<text font-family=\"Times New Roman,serif\" font-size=\"14.00\" text-anchor=\"middle\" x=\"11817.5\" y=\"-721.8\">value = [402, 725, 1013, 153]</text>\n",
       "<text font-family=\"Times New Roman,serif\" font-size=\"14.00\" text-anchor=\"middle\" x=\"11817.5\" y=\"-706.8\">class = C</text>\n",
       "</g>\n",
       "<!-- 146&#45;&gt;147 -->\n",
       "<g class=\"edge\" id=\"edge147\"><title>146-&gt;147</title>\n",
       "<path d=\"M11817.5,-817.907C11817.5,-809.649 11817.5,-800.864 11817.5,-792.302\" fill=\"none\" stroke=\"black\"/>\n",
       "<polygon fill=\"black\" points=\"11821,-792.021 11817.5,-782.021 11814,-792.021 11821,-792.021\" stroke=\"black\"/>\n",
       "</g>\n",
       "<!-- 264 -->\n",
       "<g class=\"node\" id=\"node265\"><title>264</title>\n",
       "<polygon fill=\"#fbebe0\" points=\"18546,-782 18373,-782 18373,-699 18546,-699 18546,-782\" stroke=\"black\"/>\n",
       "<text font-family=\"Times New Roman,serif\" font-size=\"14.00\" text-anchor=\"middle\" x=\"18459.5\" y=\"-766.8\">Profession &lt;= 1.5</text>\n",
       "<text font-family=\"Times New Roman,serif\" font-size=\"14.00\" text-anchor=\"middle\" x=\"18459.5\" y=\"-751.8\">gini = 0.721</text>\n",
       "<text font-family=\"Times New Roman,serif\" font-size=\"14.00\" text-anchor=\"middle\" x=\"18459.5\" y=\"-736.8\">samples = 1990</text>\n",
       "<text font-family=\"Times New Roman,serif\" font-size=\"14.00\" text-anchor=\"middle\" x=\"18459.5\" y=\"-721.8\">value = [756, 528, 304, 402]</text>\n",
       "<text font-family=\"Times New Roman,serif\" font-size=\"14.00\" text-anchor=\"middle\" x=\"18459.5\" y=\"-706.8\">class = A</text>\n",
       "</g>\n",
       "<!-- 146&#45;&gt;264 -->\n",
       "<g class=\"edge\" id=\"edge264\"><title>146-&gt;264</title>\n",
       "<path d=\"M11914.6,-856.79C12670.8,-843.468 17608.7,-756.486 18363,-743.201\" fill=\"none\" stroke=\"black\"/>\n",
       "<polygon fill=\"black\" points=\"18363,-746.7 18373,-743.024 18362.9,-739.701 18363,-746.7\" stroke=\"black\"/>\n",
       "</g>\n",
       "<!-- 148 -->\n",
       "<g class=\"node\" id=\"node149\"><title>148</title>\n",
       "<polygon fill=\"#97ccf1\" points=\"10745.5,-663 10585.5,-663 10585.5,-580 10745.5,-580 10745.5,-663\" stroke=\"black\"/>\n",
       "<text font-family=\"Times New Roman,serif\" font-size=\"14.00\" text-anchor=\"middle\" x=\"10665.5\" y=\"-647.8\">Age &lt;= 45.5</text>\n",
       "<text font-family=\"Times New Roman,serif\" font-size=\"14.00\" text-anchor=\"middle\" x=\"10665.5\" y=\"-632.8\">gini = 0.513</text>\n",
       "<text font-family=\"Times New Roman,serif\" font-size=\"14.00\" text-anchor=\"middle\" x=\"10665.5\" y=\"-617.8\">samples = 942</text>\n",
       "<text font-family=\"Times New Roman,serif\" font-size=\"14.00\" text-anchor=\"middle\" x=\"10665.5\" y=\"-602.8\">value = [84, 237, 607, 14]</text>\n",
       "<text font-family=\"Times New Roman,serif\" font-size=\"14.00\" text-anchor=\"middle\" x=\"10665.5\" y=\"-587.8\">class = C</text>\n",
       "</g>\n",
       "<!-- 147&#45;&gt;148 -->\n",
       "<g class=\"edge\" id=\"edge148\"><title>147-&gt;148</title>\n",
       "<path d=\"M11727.1,-730.319C11511.9,-708.458 10970.9,-653.518 10755.8,-631.669\" fill=\"none\" stroke=\"black\"/>\n",
       "<polygon fill=\"black\" points=\"10756.1,-628.182 10745.8,-630.654 10755.4,-635.146 10756.1,-628.182\" stroke=\"black\"/>\n",
       "</g>\n",
       "<!-- 201 -->\n",
       "<g class=\"node\" id=\"node202\"><title>201</title>\n",
       "<polygon fill=\"#effdee\" points=\"13056,-663 12883,-663 12883,-580 13056,-580 13056,-663\" stroke=\"black\"/>\n",
       "<text font-family=\"Times New Roman,serif\" font-size=\"14.00\" text-anchor=\"middle\" x=\"12969.5\" y=\"-647.8\">Graduated &lt;= 1.5</text>\n",
       "<text font-family=\"Times New Roman,serif\" font-size=\"14.00\" text-anchor=\"middle\" x=\"12969.5\" y=\"-632.8\">gini = 0.713</text>\n",
       "<text font-family=\"Times New Roman,serif\" font-size=\"14.00\" text-anchor=\"middle\" x=\"12969.5\" y=\"-617.8\">samples = 1351</text>\n",
       "<text font-family=\"Times New Roman,serif\" font-size=\"14.00\" text-anchor=\"middle\" x=\"12969.5\" y=\"-602.8\">value = [318, 488, 406, 139]</text>\n",
       "<text font-family=\"Times New Roman,serif\" font-size=\"14.00\" text-anchor=\"middle\" x=\"12969.5\" y=\"-587.8\">class = B</text>\n",
       "</g>\n",
       "<!-- 147&#45;&gt;201 -->\n",
       "<g class=\"edge\" id=\"edge201\"><title>147-&gt;201</title>\n",
       "<path d=\"M11907.9,-730.319C12120.9,-708.683 12653,-654.648 12872.5,-632.355\" fill=\"none\" stroke=\"black\"/>\n",
       "<polygon fill=\"black\" points=\"12873.1,-635.811 12882.7,-631.318 12872.4,-628.846 12873.1,-635.811\" stroke=\"black\"/>\n",
       "</g>\n",
       "<!-- 149 -->\n",
       "<g class=\"node\" id=\"node150\"><title>149</title>\n",
       "<polygon fill=\"#bfdff7\" points=\"9290,-544 9137,-544 9137,-461 9290,-461 9290,-544\" stroke=\"black\"/>\n",
       "<text font-family=\"Times New Roman,serif\" font-size=\"14.00\" text-anchor=\"middle\" x=\"9213.5\" y=\"-528.8\">Graduated &lt;= 1.0</text>\n",
       "<text font-family=\"Times New Roman,serif\" font-size=\"14.00\" text-anchor=\"middle\" x=\"9213.5\" y=\"-513.8\">gini = 0.585</text>\n",
       "<text font-family=\"Times New Roman,serif\" font-size=\"14.00\" text-anchor=\"middle\" x=\"9213.5\" y=\"-498.8\">samples = 346</text>\n",
       "<text font-family=\"Times New Roman,serif\" font-size=\"14.00\" text-anchor=\"middle\" x=\"9213.5\" y=\"-483.8\">value = [39, 113, 188, 6]</text>\n",
       "<text font-family=\"Times New Roman,serif\" font-size=\"14.00\" text-anchor=\"middle\" x=\"9213.5\" y=\"-468.8\">class = C</text>\n",
       "</g>\n",
       "<!-- 148&#45;&gt;149 -->\n",
       "<g class=\"edge\" id=\"edge149\"><title>148-&gt;149</title>\n",
       "<path d=\"M10585.4,-614.043C10333.8,-593.774 9561.2,-531.517 9300.47,-510.508\" fill=\"none\" stroke=\"black\"/>\n",
       "<polygon fill=\"black\" points=\"9300.55,-507.003 9290.3,-509.688 9299.98,-513.98 9300.55,-507.003\" stroke=\"black\"/>\n",
       "</g>\n",
       "<!-- 172 -->\n",
       "<g class=\"node\" id=\"node173\"><title>172</title>\n",
       "<polygon fill=\"#83c2ef\" points=\"10742,-544 10589,-544 10589,-461 10742,-461 10742,-544\" stroke=\"black\"/>\n",
       "<text font-family=\"Times New Roman,serif\" font-size=\"14.00\" text-anchor=\"middle\" x=\"10665.5\" y=\"-528.8\">Gender &lt;= 0.5</text>\n",
       "<text font-family=\"Times New Roman,serif\" font-size=\"14.00\" text-anchor=\"middle\" x=\"10665.5\" y=\"-513.8\">gini = 0.457</text>\n",
       "<text font-family=\"Times New Roman,serif\" font-size=\"14.00\" text-anchor=\"middle\" x=\"10665.5\" y=\"-498.8\">samples = 596</text>\n",
       "<text font-family=\"Times New Roman,serif\" font-size=\"14.00\" text-anchor=\"middle\" x=\"10665.5\" y=\"-483.8\">value = [45, 124, 419, 8]</text>\n",
       "<text font-family=\"Times New Roman,serif\" font-size=\"14.00\" text-anchor=\"middle\" x=\"10665.5\" y=\"-468.8\">class = C</text>\n",
       "</g>\n",
       "<!-- 148&#45;&gt;172 -->\n",
       "<g class=\"edge\" id=\"edge172\"><title>148-&gt;172</title>\n",
       "<path d=\"M10665.5,-579.907C10665.5,-571.649 10665.5,-562.864 10665.5,-554.302\" fill=\"none\" stroke=\"black\"/>\n",
       "<polygon fill=\"black\" points=\"10669,-554.021 10665.5,-544.021 10662,-554.021 10669,-554.021\" stroke=\"black\"/>\n",
       "</g>\n",
       "<!-- 150 -->\n",
       "<g class=\"node\" id=\"node151\"><title>150</title>\n",
       "<polygon fill=\"#cff8cc\" points=\"8768,-425 8635,-425 8635,-342 8768,-342 8768,-425\" stroke=\"black\"/>\n",
       "<text font-family=\"Times New Roman,serif\" font-size=\"14.00\" text-anchor=\"middle\" x=\"8701.5\" y=\"-409.8\">Age &lt;= 36.5</text>\n",
       "<text font-family=\"Times New Roman,serif\" font-size=\"14.00\" text-anchor=\"middle\" x=\"8701.5\" y=\"-394.8\">gini = 0.647</text>\n",
       "<text font-family=\"Times New Roman,serif\" font-size=\"14.00\" text-anchor=\"middle\" x=\"8701.5\" y=\"-379.8\">samples = 38</text>\n",
       "<text font-family=\"Times New Roman,serif\" font-size=\"14.00\" text-anchor=\"middle\" x=\"8701.5\" y=\"-364.8\">value = [8, 18, 11, 1]</text>\n",
       "<text font-family=\"Times New Roman,serif\" font-size=\"14.00\" text-anchor=\"middle\" x=\"8701.5\" y=\"-349.8\">class = B</text>\n",
       "</g>\n",
       "<!-- 149&#45;&gt;150 -->\n",
       "<g class=\"edge\" id=\"edge150\"><title>149-&gt;150</title>\n",
       "<path d=\"M9136.85,-483.984C9040.12,-461.881 8874.75,-424.09 8778.06,-401.996\" fill=\"none\" stroke=\"black\"/>\n",
       "<polygon fill=\"black\" points=\"8778.59,-398.527 8768.06,-399.711 8777.03,-405.351 8778.59,-398.527\" stroke=\"black\"/>\n",
       "</g>\n",
       "<!-- 157 -->\n",
       "<g class=\"node\" id=\"node158\"><title>157</title>\n",
       "<polygon fill=\"#b3d9f5\" points=\"9293,-425 9134,-425 9134,-342 9293,-342 9293,-425\" stroke=\"black\"/>\n",
       "<text font-family=\"Times New Roman,serif\" font-size=\"14.00\" text-anchor=\"middle\" x=\"9213.5\" y=\"-409.8\">Work_Experience &lt;= 4.5</text>\n",
       "<text font-family=\"Times New Roman,serif\" font-size=\"14.00\" text-anchor=\"middle\" x=\"9213.5\" y=\"-394.8\">gini = 0.564</text>\n",
       "<text font-family=\"Times New Roman,serif\" font-size=\"14.00\" text-anchor=\"middle\" x=\"9213.5\" y=\"-379.8\">samples = 308</text>\n",
       "<text font-family=\"Times New Roman,serif\" font-size=\"14.00\" text-anchor=\"middle\" x=\"9213.5\" y=\"-364.8\">value = [31, 95, 177, 5]</text>\n",
       "<text font-family=\"Times New Roman,serif\" font-size=\"14.00\" text-anchor=\"middle\" x=\"9213.5\" y=\"-349.8\">class = C</text>\n",
       "</g>\n",
       "<!-- 149&#45;&gt;157 -->\n",
       "<g class=\"edge\" id=\"edge157\"><title>149-&gt;157</title>\n",
       "<path d=\"M9213.5,-460.907C9213.5,-452.649 9213.5,-443.864 9213.5,-435.302\" fill=\"none\" stroke=\"black\"/>\n",
       "<polygon fill=\"black\" points=\"9217,-435.021 9213.5,-425.021 9210,-435.021 9217,-435.021\" stroke=\"black\"/>\n",
       "</g>\n",
       "<!-- 151 -->\n",
       "<g class=\"node\" id=\"node152\"><title>151</title>\n",
       "<polygon fill=\"#47e539\" points=\"8617,-298.5 8498,-298.5 8498,-230.5 8617,-230.5 8617,-298.5\" stroke=\"black\"/>\n",
       "<text font-family=\"Times New Roman,serif\" font-size=\"14.00\" text-anchor=\"middle\" x=\"8557.5\" y=\"-283.3\">gini = 0.0</text>\n",
       "<text font-family=\"Times New Roman,serif\" font-size=\"14.00\" text-anchor=\"middle\" x=\"8557.5\" y=\"-268.3\">samples = 5</text>\n",
       "<text font-family=\"Times New Roman,serif\" font-size=\"14.00\" text-anchor=\"middle\" x=\"8557.5\" y=\"-253.3\">value = [0, 5, 0, 0]</text>\n",
       "<text font-family=\"Times New Roman,serif\" font-size=\"14.00\" text-anchor=\"middle\" x=\"8557.5\" y=\"-238.3\">class = B</text>\n",
       "</g>\n",
       "<!-- 150&#45;&gt;151 -->\n",
       "<g class=\"edge\" id=\"edge151\"><title>150-&gt;151</title>\n",
       "<path d=\"M8651.54,-341.907C8636.87,-329.99 8620.85,-316.976 8606.26,-305.12\" fill=\"none\" stroke=\"black\"/>\n",
       "<polygon fill=\"black\" points=\"8608.29,-302.256 8598.32,-298.667 8603.87,-307.689 8608.29,-302.256\" stroke=\"black\"/>\n",
       "</g>\n",
       "<!-- 152 -->\n",
       "<g class=\"node\" id=\"node153\"><title>152</title>\n",
       "<polygon fill=\"#eefded\" points=\"8768,-306 8635,-306 8635,-223 8768,-223 8768,-306\" stroke=\"black\"/>\n",
       "<text font-family=\"Times New Roman,serif\" font-size=\"14.00\" text-anchor=\"middle\" x=\"8701.5\" y=\"-290.8\">Var_1 &lt;= 5.5</text>\n",
       "<text font-family=\"Times New Roman,serif\" font-size=\"14.00\" text-anchor=\"middle\" x=\"8701.5\" y=\"-275.8\">gini = 0.674</text>\n",
       "<text font-family=\"Times New Roman,serif\" font-size=\"14.00\" text-anchor=\"middle\" x=\"8701.5\" y=\"-260.8\">samples = 33</text>\n",
       "<text font-family=\"Times New Roman,serif\" font-size=\"14.00\" text-anchor=\"middle\" x=\"8701.5\" y=\"-245.8\">value = [8, 13, 11, 1]</text>\n",
       "<text font-family=\"Times New Roman,serif\" font-size=\"14.00\" text-anchor=\"middle\" x=\"8701.5\" y=\"-230.8\">class = B</text>\n",
       "</g>\n",
       "<!-- 150&#45;&gt;152 -->\n",
       "<g class=\"edge\" id=\"edge152\"><title>150-&gt;152</title>\n",
       "<path d=\"M8701.5,-341.907C8701.5,-333.649 8701.5,-324.864 8701.5,-316.302\" fill=\"none\" stroke=\"black\"/>\n",
       "<polygon fill=\"black\" points=\"8705,-316.021 8701.5,-306.021 8698,-316.021 8705,-316.021\" stroke=\"black\"/>\n",
       "</g>\n",
       "<!-- 153 -->\n",
       "<g class=\"node\" id=\"node154\"><title>153</title>\n",
       "<polygon fill=\"#edfceb\" points=\"8624,-187 8491,-187 8491,-104 8624,-104 8624,-187\" stroke=\"black\"/>\n",
       "<text font-family=\"Times New Roman,serif\" font-size=\"14.00\" text-anchor=\"middle\" x=\"8557.5\" y=\"-171.8\">Family_Size &lt;= 3.5</text>\n",
       "<text font-family=\"Times New Roman,serif\" font-size=\"14.00\" text-anchor=\"middle\" x=\"8557.5\" y=\"-156.8\">gini = 0.66</text>\n",
       "<text font-family=\"Times New Roman,serif\" font-size=\"14.00\" text-anchor=\"middle\" x=\"8557.5\" y=\"-141.8\">samples = 31</text>\n",
       "<text font-family=\"Times New Roman,serif\" font-size=\"14.00\" text-anchor=\"middle\" x=\"8557.5\" y=\"-126.8\">value = [6, 13, 11, 1]</text>\n",
       "<text font-family=\"Times New Roman,serif\" font-size=\"14.00\" text-anchor=\"middle\" x=\"8557.5\" y=\"-111.8\">class = B</text>\n",
       "</g>\n",
       "<!-- 152&#45;&gt;153 -->\n",
       "<g class=\"edge\" id=\"edge153\"><title>152-&gt;153</title>\n",
       "<path d=\"M8651.54,-222.907C8639.81,-213.379 8627.22,-203.148 8615.19,-193.37\" fill=\"none\" stroke=\"black\"/>\n",
       "<polygon fill=\"black\" points=\"8617.34,-190.61 8607.37,-187.021 8612.93,-196.043 8617.34,-190.61\" stroke=\"black\"/>\n",
       "</g>\n",
       "<!-- 156 -->\n",
       "<g class=\"node\" id=\"node157\"><title>156</title>\n",
       "<polygon fill=\"#e58139\" points=\"8761,-179.5 8642,-179.5 8642,-111.5 8761,-111.5 8761,-179.5\" stroke=\"black\"/>\n",
       "<text font-family=\"Times New Roman,serif\" font-size=\"14.00\" text-anchor=\"middle\" x=\"8701.5\" y=\"-164.3\">gini = 0.0</text>\n",
       "<text font-family=\"Times New Roman,serif\" font-size=\"14.00\" text-anchor=\"middle\" x=\"8701.5\" y=\"-149.3\">samples = 2</text>\n",
       "<text font-family=\"Times New Roman,serif\" font-size=\"14.00\" text-anchor=\"middle\" x=\"8701.5\" y=\"-134.3\">value = [2, 0, 0, 0]</text>\n",
       "<text font-family=\"Times New Roman,serif\" font-size=\"14.00\" text-anchor=\"middle\" x=\"8701.5\" y=\"-119.3\">class = A</text>\n",
       "</g>\n",
       "<!-- 152&#45;&gt;156 -->\n",
       "<g class=\"edge\" id=\"edge156\"><title>152-&gt;156</title>\n",
       "<path d=\"M8701.5,-222.907C8701.5,-212.204 8701.5,-200.615 8701.5,-189.776\" fill=\"none\" stroke=\"black\"/>\n",
       "<polygon fill=\"black\" points=\"8705,-189.667 8701.5,-179.667 8698,-189.667 8705,-189.667\" stroke=\"black\"/>\n",
       "</g>\n",
       "<!-- 154 -->\n",
       "<g class=\"node\" id=\"node155\"><title>154</title>\n",
       "<polygon fill=\"#c6e3f8\" points=\"8484,-68 8365,-68 8365,-0 8484,-0 8484,-68\" stroke=\"black\"/>\n",
       "<text font-family=\"Times New Roman,serif\" font-size=\"14.00\" text-anchor=\"middle\" x=\"8424.5\" y=\"-52.8\">gini = 0.659</text>\n",
       "<text font-family=\"Times New Roman,serif\" font-size=\"14.00\" text-anchor=\"middle\" x=\"8424.5\" y=\"-37.8\">samples = 19</text>\n",
       "<text font-family=\"Times New Roman,serif\" font-size=\"14.00\" text-anchor=\"middle\" x=\"8424.5\" y=\"-22.8\">value = [4, 5, 9, 1]</text>\n",
       "<text font-family=\"Times New Roman,serif\" font-size=\"14.00\" text-anchor=\"middle\" x=\"8424.5\" y=\"-7.8\">class = C</text>\n",
       "</g>\n",
       "<!-- 153&#45;&gt;154 -->\n",
       "<g class=\"edge\" id=\"edge154\"><title>153-&gt;154</title>\n",
       "<path d=\"M8507.98,-103.726C8496.45,-94.2406 8484.2,-84.1551 8472.74,-74.7159\" fill=\"none\" stroke=\"black\"/>\n",
       "<polygon fill=\"black\" points=\"8474.89,-71.9536 8464.95,-68.2996 8470.44,-77.3577 8474.89,-71.9536\" stroke=\"black\"/>\n",
       "</g>\n",
       "<!-- 155 -->\n",
       "<g class=\"node\" id=\"node156\"><title>155</title>\n",
       "<polygon fill=\"#91ef88\" points=\"8621,-68 8502,-68 8502,-0 8621,-0 8621,-68\" stroke=\"black\"/>\n",
       "<text font-family=\"Times New Roman,serif\" font-size=\"14.00\" text-anchor=\"middle\" x=\"8561.5\" y=\"-52.8\">gini = 0.5</text>\n",
       "<text font-family=\"Times New Roman,serif\" font-size=\"14.00\" text-anchor=\"middle\" x=\"8561.5\" y=\"-37.8\">samples = 12</text>\n",
       "<text font-family=\"Times New Roman,serif\" font-size=\"14.00\" text-anchor=\"middle\" x=\"8561.5\" y=\"-22.8\">value = [2, 8, 2, 0]</text>\n",
       "<text font-family=\"Times New Roman,serif\" font-size=\"14.00\" text-anchor=\"middle\" x=\"8561.5\" y=\"-7.8\">class = B</text>\n",
       "</g>\n",
       "<!-- 153&#45;&gt;155 -->\n",
       "<g class=\"edge\" id=\"edge155\"><title>153-&gt;155</title>\n",
       "<path d=\"M8558.99,-103.726C8559.29,-95.5175 8559.61,-86.8595 8559.91,-78.56\" fill=\"none\" stroke=\"black\"/>\n",
       "<polygon fill=\"black\" points=\"8563.42,-78.4207 8560.28,-68.2996 8556.42,-78.1651 8563.42,-78.4207\" stroke=\"black\"/>\n",
       "</g>\n",
       "<!-- 158 -->\n",
       "<g class=\"node\" id=\"node159\"><title>158</title>\n",
       "<polygon fill=\"#a4d2f3\" points=\"9149.5,-306 9003.5,-306 9003.5,-223 9149.5,-223 9149.5,-306\" stroke=\"black\"/>\n",
       "<text font-family=\"Times New Roman,serif\" font-size=\"14.00\" text-anchor=\"middle\" x=\"9076.5\" y=\"-290.8\">Family_Size &lt;= 2.5</text>\n",
       "<text font-family=\"Times New Roman,serif\" font-size=\"14.00\" text-anchor=\"middle\" x=\"9076.5\" y=\"-275.8\">gini = 0.546</text>\n",
       "<text font-family=\"Times New Roman,serif\" font-size=\"14.00\" text-anchor=\"middle\" x=\"9076.5\" y=\"-260.8\">samples = 229</text>\n",
       "<text font-family=\"Times New Roman,serif\" font-size=\"14.00\" text-anchor=\"middle\" x=\"9076.5\" y=\"-245.8\">value = [25, 62, 139, 3]</text>\n",
       "<text font-family=\"Times New Roman,serif\" font-size=\"14.00\" text-anchor=\"middle\" x=\"9076.5\" y=\"-230.8\">class = C</text>\n",
       "</g>\n",
       "<!-- 157&#45;&gt;158 -->\n",
       "<g class=\"edge\" id=\"edge158\"><title>157-&gt;158</title>\n",
       "<path d=\"M9165.97,-341.907C9154.92,-332.469 9143.06,-322.343 9131.71,-312.649\" fill=\"none\" stroke=\"black\"/>\n",
       "<polygon fill=\"black\" points=\"9133.82,-309.854 9123.95,-306.021 9129.28,-315.177 9133.82,-309.854\" stroke=\"black\"/>\n",
       "</g>\n",
       "<!-- 165 -->\n",
       "<g class=\"node\" id=\"node166\"><title>165</title>\n",
       "<polygon fill=\"#e9f4fc\" points=\"9429,-306 9296,-306 9296,-223 9429,-223 9429,-306\" stroke=\"black\"/>\n",
       "<text font-family=\"Times New Roman,serif\" font-size=\"14.00\" text-anchor=\"middle\" x=\"9362.5\" y=\"-290.8\">Age &lt;= 42.5</text>\n",
       "<text font-family=\"Times New Roman,serif\" font-size=\"14.00\" text-anchor=\"middle\" x=\"9362.5\" y=\"-275.8\">gini = 0.588</text>\n",
       "<text font-family=\"Times New Roman,serif\" font-size=\"14.00\" text-anchor=\"middle\" x=\"9362.5\" y=\"-260.8\">samples = 79</text>\n",
       "<text font-family=\"Times New Roman,serif\" font-size=\"14.00\" text-anchor=\"middle\" x=\"9362.5\" y=\"-245.8\">value = [6, 33, 38, 2]</text>\n",
       "<text font-family=\"Times New Roman,serif\" font-size=\"14.00\" text-anchor=\"middle\" x=\"9362.5\" y=\"-230.8\">class = C</text>\n",
       "</g>\n",
       "<!-- 157&#45;&gt;165 -->\n",
       "<g class=\"edge\" id=\"edge165\"><title>157-&gt;165</title>\n",
       "<path d=\"M9265.19,-341.907C9277.33,-332.379 9290.36,-322.148 9302.81,-312.37\" fill=\"none\" stroke=\"black\"/>\n",
       "<polygon fill=\"black\" points=\"9305.19,-314.949 9310.9,-306.021 9300.87,-309.444 9305.19,-314.949\" stroke=\"black\"/>\n",
       "</g>\n",
       "<!-- 159 -->\n",
       "<g class=\"node\" id=\"node160\"><title>159</title>\n",
       "<polygon fill=\"#8dc7f0\" points=\"8930,-187 8779,-187 8779,-104 8930,-104 8930,-187\" stroke=\"black\"/>\n",
       "<text font-family=\"Times New Roman,serif\" font-size=\"14.00\" text-anchor=\"middle\" x=\"8854.5\" y=\"-171.8\">Spending_Score &lt;= 0.5</text>\n",
       "<text font-family=\"Times New Roman,serif\" font-size=\"14.00\" text-anchor=\"middle\" x=\"8854.5\" y=\"-156.8\">gini = 0.492</text>\n",
       "<text font-family=\"Times New Roman,serif\" font-size=\"14.00\" text-anchor=\"middle\" x=\"8854.5\" y=\"-141.8\">samples = 112</text>\n",
       "<text font-family=\"Times New Roman,serif\" font-size=\"14.00\" text-anchor=\"middle\" x=\"8854.5\" y=\"-126.8\">value = [11, 25, 75, 1]</text>\n",
       "<text font-family=\"Times New Roman,serif\" font-size=\"14.00\" text-anchor=\"middle\" x=\"8854.5\" y=\"-111.8\">class = C</text>\n",
       "</g>\n",
       "<!-- 158&#45;&gt;159 -->\n",
       "<g class=\"edge\" id=\"edge159\"><title>158-&gt;159</title>\n",
       "<path d=\"M9003.19,-224.866C8982.64,-214.033 8960.13,-202.168 8938.98,-191.023\" fill=\"none\" stroke=\"black\"/>\n",
       "<polygon fill=\"black\" points=\"8940.49,-187.862 8930.01,-186.296 8937.22,-194.055 8940.49,-187.862\" stroke=\"black\"/>\n",
       "</g>\n",
       "<!-- 162 -->\n",
       "<g class=\"node\" id=\"node163\"><title>162</title>\n",
       "<polygon fill=\"#bcdef6\" points=\"9146.5,-187 9006.5,-187 9006.5,-104 9146.5,-104 9146.5,-187\" stroke=\"black\"/>\n",
       "<text font-family=\"Times New Roman,serif\" font-size=\"14.00\" text-anchor=\"middle\" x=\"9076.5\" y=\"-171.8\">Age &lt;= 44.0</text>\n",
       "<text font-family=\"Times New Roman,serif\" font-size=\"14.00\" text-anchor=\"middle\" x=\"9076.5\" y=\"-156.8\">gini = 0.586</text>\n",
       "<text font-family=\"Times New Roman,serif\" font-size=\"14.00\" text-anchor=\"middle\" x=\"9076.5\" y=\"-141.8\">samples = 117</text>\n",
       "<text font-family=\"Times New Roman,serif\" font-size=\"14.00\" text-anchor=\"middle\" x=\"9076.5\" y=\"-126.8\">value = [14, 37, 64, 2]</text>\n",
       "<text font-family=\"Times New Roman,serif\" font-size=\"14.00\" text-anchor=\"middle\" x=\"9076.5\" y=\"-111.8\">class = C</text>\n",
       "</g>\n",
       "<!-- 158&#45;&gt;162 -->\n",
       "<g class=\"edge\" id=\"edge162\"><title>158-&gt;162</title>\n",
       "<path d=\"M9076.5,-222.907C9076.5,-214.649 9076.5,-205.864 9076.5,-197.302\" fill=\"none\" stroke=\"black\"/>\n",
       "<polygon fill=\"black\" points=\"9080,-197.021 9076.5,-187.021 9073,-197.021 9080,-197.021\" stroke=\"black\"/>\n",
       "</g>\n",
       "<!-- 160 -->\n",
       "<g class=\"node\" id=\"node161\"><title>160</title>\n",
       "<polygon fill=\"#82c1ef\" points=\"8772,-68 8639,-68 8639,-0 8772,-0 8772,-68\" stroke=\"black\"/>\n",
       "<text font-family=\"Times New Roman,serif\" font-size=\"14.00\" text-anchor=\"middle\" x=\"8705.5\" y=\"-52.8\">gini = 0.453</text>\n",
       "<text font-family=\"Times New Roman,serif\" font-size=\"14.00\" text-anchor=\"middle\" x=\"8705.5\" y=\"-37.8\">samples = 102</text>\n",
       "<text font-family=\"Times New Roman,serif\" font-size=\"14.00\" text-anchor=\"middle\" x=\"8705.5\" y=\"-22.8\">value = [8, 21, 72, 1]</text>\n",
       "<text font-family=\"Times New Roman,serif\" font-size=\"14.00\" text-anchor=\"middle\" x=\"8705.5\" y=\"-7.8\">class = C</text>\n",
       "</g>\n",
       "<!-- 159&#45;&gt;160 -->\n",
       "<g class=\"edge\" id=\"edge160\"><title>159-&gt;160</title>\n",
       "<path d=\"M8799.02,-103.726C8785.99,-94.1494 8772.12,-83.9611 8759.17,-74.4438\" fill=\"none\" stroke=\"black\"/>\n",
       "<polygon fill=\"black\" points=\"8760.94,-71.4012 8750.81,-68.2996 8756.8,-77.0418 8760.94,-71.4012\" stroke=\"black\"/>\n",
       "</g>\n",
       "<!-- 161 -->\n",
       "<g class=\"node\" id=\"node162\"><title>161</title>\n",
       "<polygon fill=\"#e5fbe3\" points=\"8909,-68 8790,-68 8790,-0 8909,-0 8909,-68\" stroke=\"black\"/>\n",
       "<text font-family=\"Times New Roman,serif\" font-size=\"14.00\" text-anchor=\"middle\" x=\"8849.5\" y=\"-52.8\">gini = 0.66</text>\n",
       "<text font-family=\"Times New Roman,serif\" font-size=\"14.00\" text-anchor=\"middle\" x=\"8849.5\" y=\"-37.8\">samples = 10</text>\n",
       "<text font-family=\"Times New Roman,serif\" font-size=\"14.00\" text-anchor=\"middle\" x=\"8849.5\" y=\"-22.8\">value = [3, 4, 3, 0]</text>\n",
       "<text font-family=\"Times New Roman,serif\" font-size=\"14.00\" text-anchor=\"middle\" x=\"8849.5\" y=\"-7.8\">class = B</text>\n",
       "</g>\n",
       "<!-- 159&#45;&gt;161 -->\n",
       "<g class=\"edge\" id=\"edge161\"><title>159-&gt;161</title>\n",
       "<path d=\"M8852.64,-103.726C8852.26,-95.5175 8851.87,-86.8595 8851.49,-78.56\" fill=\"none\" stroke=\"black\"/>\n",
       "<polygon fill=\"black\" points=\"8854.97,-78.1295 8851.02,-68.2996 8847.98,-78.4489 8854.97,-78.1295\" stroke=\"black\"/>\n",
       "</g>\n",
       "<!-- 163 -->\n",
       "<g class=\"node\" id=\"node164\"><title>163</title>\n",
       "<polygon fill=\"#cce6f8\" points=\"9067.5,-68 8927.5,-68 8927.5,-0 9067.5,-0 9067.5,-68\" stroke=\"black\"/>\n",
       "<text font-family=\"Times New Roman,serif\" font-size=\"14.00\" text-anchor=\"middle\" x=\"8997.5\" y=\"-52.8\">gini = 0.62</text>\n",
       "<text font-family=\"Times New Roman,serif\" font-size=\"14.00\" text-anchor=\"middle\" x=\"8997.5\" y=\"-37.8\">samples = 92</text>\n",
       "<text font-family=\"Times New Roman,serif\" font-size=\"14.00\" text-anchor=\"middle\" x=\"8997.5\" y=\"-22.8\">value = [14, 30, 46, 2]</text>\n",
       "<text font-family=\"Times New Roman,serif\" font-size=\"14.00\" text-anchor=\"middle\" x=\"8997.5\" y=\"-7.8\">class = C</text>\n",
       "</g>\n",
       "<!-- 162&#45;&gt;163 -->\n",
       "<g class=\"edge\" id=\"edge163\"><title>162-&gt;163</title>\n",
       "<path d=\"M9047.08,-103.726C9040.7,-94.879 9033.94,-85.51 9027.53,-76.6303\" fill=\"none\" stroke=\"black\"/>\n",
       "<polygon fill=\"black\" points=\"9030.21,-74.3615 9021.52,-68.2996 9024.54,-78.4571 9030.21,-74.3615\" stroke=\"black\"/>\n",
       "</g>\n",
       "<!-- 164 -->\n",
       "<g class=\"node\" id=\"node165\"><title>164</title>\n",
       "<polygon fill=\"#86c3ef\" points=\"9211.5,-68 9085.5,-68 9085.5,-0 9211.5,-0 9211.5,-68\" stroke=\"black\"/>\n",
       "<text font-family=\"Times New Roman,serif\" font-size=\"14.00\" text-anchor=\"middle\" x=\"9148.5\" y=\"-52.8\">gini = 0.403</text>\n",
       "<text font-family=\"Times New Roman,serif\" font-size=\"14.00\" text-anchor=\"middle\" x=\"9148.5\" y=\"-37.8\">samples = 25</text>\n",
       "<text font-family=\"Times New Roman,serif\" font-size=\"14.00\" text-anchor=\"middle\" x=\"9148.5\" y=\"-22.8\">value = [0, 7, 18, 0]</text>\n",
       "<text font-family=\"Times New Roman,serif\" font-size=\"14.00\" text-anchor=\"middle\" x=\"9148.5\" y=\"-7.8\">class = C</text>\n",
       "</g>\n",
       "<!-- 162&#45;&gt;164 -->\n",
       "<g class=\"edge\" id=\"edge164\"><title>162-&gt;164</title>\n",
       "<path d=\"M9103.31,-103.726C9109.07,-94.9703 9115.16,-85.7032 9120.95,-76.9051\" fill=\"none\" stroke=\"black\"/>\n",
       "<polygon fill=\"black\" points=\"9124.03,-78.5781 9126.6,-68.2996 9118.19,-74.7322 9124.03,-78.5781\" stroke=\"black\"/>\n",
       "</g>\n",
       "<!-- 166 -->\n",
       "<g class=\"node\" id=\"node167\"><title>166</title>\n",
       "<polygon fill=\"#c0e0f7\" points=\"9429,-187 9296,-187 9296,-104 9429,-104 9429,-187\" stroke=\"black\"/>\n",
       "<text font-family=\"Times New Roman,serif\" font-size=\"14.00\" text-anchor=\"middle\" x=\"9362.5\" y=\"-171.8\">Family_Size &lt;= 4.5</text>\n",
       "<text font-family=\"Times New Roman,serif\" font-size=\"14.00\" text-anchor=\"middle\" x=\"9362.5\" y=\"-156.8\">gini = 0.564</text>\n",
       "<text font-family=\"Times New Roman,serif\" font-size=\"14.00\" text-anchor=\"middle\" x=\"9362.5\" y=\"-141.8\">samples = 63</text>\n",
       "<text font-family=\"Times New Roman,serif\" font-size=\"14.00\" text-anchor=\"middle\" x=\"9362.5\" y=\"-126.8\">value = [4, 22, 35, 2]</text>\n",
       "<text font-family=\"Times New Roman,serif\" font-size=\"14.00\" text-anchor=\"middle\" x=\"9362.5\" y=\"-111.8\">class = C</text>\n",
       "</g>\n",
       "<!-- 165&#45;&gt;166 -->\n",
       "<g class=\"edge\" id=\"edge166\"><title>165-&gt;166</title>\n",
       "<path d=\"M9362.5,-222.907C9362.5,-214.649 9362.5,-205.864 9362.5,-197.302\" fill=\"none\" stroke=\"black\"/>\n",
       "<polygon fill=\"black\" points=\"9366,-197.021 9362.5,-187.021 9359,-197.021 9366,-197.021\" stroke=\"black\"/>\n",
       "</g>\n",
       "<!-- 169 -->\n",
       "<g class=\"node\" id=\"node170\"><title>169</title>\n",
       "<polygon fill=\"#8eef85\" points=\"9640.5,-187 9514.5,-187 9514.5,-104 9640.5,-104 9640.5,-187\" stroke=\"black\"/>\n",
       "<text font-family=\"Times New Roman,serif\" font-size=\"14.00\" text-anchor=\"middle\" x=\"9577.5\" y=\"-171.8\">Var_1 &lt;= 2.5</text>\n",
       "<text font-family=\"Times New Roman,serif\" font-size=\"14.00\" text-anchor=\"middle\" x=\"9577.5\" y=\"-156.8\">gini = 0.477</text>\n",
       "<text font-family=\"Times New Roman,serif\" font-size=\"14.00\" text-anchor=\"middle\" x=\"9577.5\" y=\"-141.8\">samples = 16</text>\n",
       "<text font-family=\"Times New Roman,serif\" font-size=\"14.00\" text-anchor=\"middle\" x=\"9577.5\" y=\"-126.8\">value = [2, 11, 3, 0]</text>\n",
       "<text font-family=\"Times New Roman,serif\" font-size=\"14.00\" text-anchor=\"middle\" x=\"9577.5\" y=\"-111.8\">class = B</text>\n",
       "</g>\n",
       "<!-- 165&#45;&gt;169 -->\n",
       "<g class=\"edge\" id=\"edge169\"><title>165-&gt;169</title>\n",
       "<path d=\"M9429.05,-227.282C9453.22,-214.132 9480.63,-199.216 9505.26,-185.812\" fill=\"none\" stroke=\"black\"/>\n",
       "<polygon fill=\"black\" points=\"9507.09,-188.802 9514.2,-180.948 9503.74,-182.653 9507.09,-188.802\" stroke=\"black\"/>\n",
       "</g>\n",
       "<!-- 167 -->\n",
       "<g class=\"node\" id=\"node168\"><title>167</title>\n",
       "<polygon fill=\"#b0d8f5\" points=\"9363,-68 9230,-68 9230,-0 9363,-0 9363,-68\" stroke=\"black\"/>\n",
       "<text font-family=\"Times New Roman,serif\" font-size=\"14.00\" text-anchor=\"middle\" x=\"9296.5\" y=\"-52.8\">gini = 0.54</text>\n",
       "<text font-family=\"Times New Roman,serif\" font-size=\"14.00\" text-anchor=\"middle\" x=\"9296.5\" y=\"-37.8\">samples = 59</text>\n",
       "<text font-family=\"Times New Roman,serif\" font-size=\"14.00\" text-anchor=\"middle\" x=\"9296.5\" y=\"-22.8\">value = [4, 19, 35, 1]</text>\n",
       "<text font-family=\"Times New Roman,serif\" font-size=\"14.00\" text-anchor=\"middle\" x=\"9296.5\" y=\"-7.8\">class = C</text>\n",
       "</g>\n",
       "<!-- 166&#45;&gt;167 -->\n",
       "<g class=\"edge\" id=\"edge167\"><title>166-&gt;167</title>\n",
       "<path d=\"M9337.92,-103.726C9332.65,-94.9703 9327.06,-85.7032 9321.76,-76.9051\" fill=\"none\" stroke=\"black\"/>\n",
       "<polygon fill=\"black\" points=\"9324.73,-75.0574 9316.57,-68.2996 9318.74,-78.671 9324.73,-75.0574\" stroke=\"black\"/>\n",
       "</g>\n",
       "<!-- 168 -->\n",
       "<g class=\"node\" id=\"node169\"><title>168</title>\n",
       "<polygon fill=\"#84ee7b\" points=\"9500,-68 9381,-68 9381,-0 9500,-0 9500,-68\" stroke=\"black\"/>\n",
       "<text font-family=\"Times New Roman,serif\" font-size=\"14.00\" text-anchor=\"middle\" x=\"9440.5\" y=\"-52.8\">gini = 0.375</text>\n",
       "<text font-family=\"Times New Roman,serif\" font-size=\"14.00\" text-anchor=\"middle\" x=\"9440.5\" y=\"-37.8\">samples = 4</text>\n",
       "<text font-family=\"Times New Roman,serif\" font-size=\"14.00\" text-anchor=\"middle\" x=\"9440.5\" y=\"-22.8\">value = [0, 3, 0, 1]</text>\n",
       "<text font-family=\"Times New Roman,serif\" font-size=\"14.00\" text-anchor=\"middle\" x=\"9440.5\" y=\"-7.8\">class = B</text>\n",
       "</g>\n",
       "<!-- 166&#45;&gt;168 -->\n",
       "<g class=\"edge\" id=\"edge168\"><title>166-&gt;168</title>\n",
       "<path d=\"M9391.54,-103.726C9397.85,-94.879 9404.52,-85.51 9410.85,-76.6303\" fill=\"none\" stroke=\"black\"/>\n",
       "<polygon fill=\"black\" points=\"9413.83,-78.4751 9416.78,-68.2996 9408.13,-74.4138 9413.83,-78.4751\" stroke=\"black\"/>\n",
       "</g>\n",
       "<!-- 170 -->\n",
       "<g class=\"node\" id=\"node171\"><title>170</title>\n",
       "<polygon fill=\"#e58139\" points=\"9637,-68 9518,-68 9518,-0 9637,-0 9637,-68\" stroke=\"black\"/>\n",
       "<text font-family=\"Times New Roman,serif\" font-size=\"14.00\" text-anchor=\"middle\" x=\"9577.5\" y=\"-52.8\">gini = 0.0</text>\n",
       "<text font-family=\"Times New Roman,serif\" font-size=\"14.00\" text-anchor=\"middle\" x=\"9577.5\" y=\"-37.8\">samples = 1</text>\n",
       "<text font-family=\"Times New Roman,serif\" font-size=\"14.00\" text-anchor=\"middle\" x=\"9577.5\" y=\"-22.8\">value = [1, 0, 0, 0]</text>\n",
       "<text font-family=\"Times New Roman,serif\" font-size=\"14.00\" text-anchor=\"middle\" x=\"9577.5\" y=\"-7.8\">class = A</text>\n",
       "</g>\n",
       "<!-- 169&#45;&gt;170 -->\n",
       "<g class=\"edge\" id=\"edge170\"><title>169-&gt;170</title>\n",
       "<path d=\"M9577.5,-103.726C9577.5,-95.5175 9577.5,-86.8595 9577.5,-78.56\" fill=\"none\" stroke=\"black\"/>\n",
       "<polygon fill=\"black\" points=\"9581,-78.2996 9577.5,-68.2996 9574,-78.2996 9581,-78.2996\" stroke=\"black\"/>\n",
       "</g>\n",
       "<!-- 171 -->\n",
       "<g class=\"node\" id=\"node172\"><title>171</title>\n",
       "<polygon fill=\"#84ee7b\" points=\"9781.5,-68 9655.5,-68 9655.5,-0 9781.5,-0 9781.5,-68\" stroke=\"black\"/>\n",
       "<text font-family=\"Times New Roman,serif\" font-size=\"14.00\" text-anchor=\"middle\" x=\"9718.5\" y=\"-52.8\">gini = 0.418</text>\n",
       "<text font-family=\"Times New Roman,serif\" font-size=\"14.00\" text-anchor=\"middle\" x=\"9718.5\" y=\"-37.8\">samples = 15</text>\n",
       "<text font-family=\"Times New Roman,serif\" font-size=\"14.00\" text-anchor=\"middle\" x=\"9718.5\" y=\"-22.8\">value = [1, 11, 3, 0]</text>\n",
       "<text font-family=\"Times New Roman,serif\" font-size=\"14.00\" text-anchor=\"middle\" x=\"9718.5\" y=\"-7.8\">class = B</text>\n",
       "</g>\n",
       "<!-- 169&#45;&gt;171 -->\n",
       "<g class=\"edge\" id=\"edge171\"><title>169-&gt;171</title>\n",
       "<path d=\"M9630,-103.726C9642.34,-94.1494 9655.45,-83.9611 9667.71,-74.4438\" fill=\"none\" stroke=\"black\"/>\n",
       "<polygon fill=\"black\" points=\"9669.87,-77.1975 9675.62,-68.2996 9665.58,-71.6689 9669.87,-77.1975\" stroke=\"black\"/>\n",
       "</g>\n",
       "<!-- 173 -->\n",
       "<g class=\"node\" id=\"node174\"><title>173</title>\n",
       "<polygon fill=\"#6cb6ec\" points=\"10458.5,-425 10312.5,-425 10312.5,-342 10458.5,-342 10458.5,-425\" stroke=\"black\"/>\n",
       "<text font-family=\"Times New Roman,serif\" font-size=\"14.00\" text-anchor=\"middle\" x=\"10385.5\" y=\"-409.8\">Graduated &lt;= 0.5</text>\n",
       "<text font-family=\"Times New Roman,serif\" font-size=\"14.00\" text-anchor=\"middle\" x=\"10385.5\" y=\"-394.8\">gini = 0.358</text>\n",
       "<text font-family=\"Times New Roman,serif\" font-size=\"14.00\" text-anchor=\"middle\" x=\"10385.5\" y=\"-379.8\">samples = 290</text>\n",
       "<text font-family=\"Times New Roman,serif\" font-size=\"14.00\" text-anchor=\"middle\" x=\"10385.5\" y=\"-364.8\">value = [16, 47, 227, 0]</text>\n",
       "<text font-family=\"Times New Roman,serif\" font-size=\"14.00\" text-anchor=\"middle\" x=\"10385.5\" y=\"-349.8\">class = C</text>\n",
       "</g>\n",
       "<!-- 172&#45;&gt;173 -->\n",
       "<g class=\"edge\" id=\"edge173\"><title>172-&gt;173</title>\n",
       "<path d=\"M10589,-469.529C10551.5,-453.874 10506.4,-435.002 10468.1,-419.018\" fill=\"none\" stroke=\"black\"/>\n",
       "<polygon fill=\"black\" points=\"10469.1,-415.647 10458.5,-415.021 10466.4,-422.106 10469.1,-415.647\" stroke=\"black\"/>\n",
       "</g>\n",
       "<!-- 186 -->\n",
       "<g class=\"node\" id=\"node187\"><title>186</title>\n",
       "<polygon fill=\"#9ccef2\" points=\"11021,-425 10870,-425 10870,-342 11021,-342 11021,-425\" stroke=\"black\"/>\n",
       "<text font-family=\"Times New Roman,serif\" font-size=\"14.00\" text-anchor=\"middle\" x=\"10945.5\" y=\"-409.8\">Spending_Score &lt;= 0.5</text>\n",
       "<text font-family=\"Times New Roman,serif\" font-size=\"14.00\" text-anchor=\"middle\" x=\"10945.5\" y=\"-394.8\">gini = 0.533</text>\n",
       "<text font-family=\"Times New Roman,serif\" font-size=\"14.00\" text-anchor=\"middle\" x=\"10945.5\" y=\"-379.8\">samples = 306</text>\n",
       "<text font-family=\"Times New Roman,serif\" font-size=\"14.00\" text-anchor=\"middle\" x=\"10945.5\" y=\"-364.8\">value = [29, 77, 192, 8]</text>\n",
       "<text font-family=\"Times New Roman,serif\" font-size=\"14.00\" text-anchor=\"middle\" x=\"10945.5\" y=\"-349.8\">class = C</text>\n",
       "</g>\n",
       "<!-- 172&#45;&gt;186 -->\n",
       "<g class=\"edge\" id=\"edge186\"><title>172-&gt;186</title>\n",
       "<path d=\"M10742,-469.529C10778.6,-454.248 10822.5,-435.902 10860.1,-420.169\" fill=\"none\" stroke=\"black\"/>\n",
       "<polygon fill=\"black\" points=\"10861.7,-423.314 10869.6,-416.229 10859,-416.856 10861.7,-423.314\" stroke=\"black\"/>\n",
       "</g>\n",
       "<!-- 174 -->\n",
       "<g class=\"node\" id=\"node175\"><title>174</title>\n",
       "<polygon fill=\"#aad5f4\" points=\"10222,-306 10063,-306 10063,-223 10222,-223 10222,-306\" stroke=\"black\"/>\n",
       "<text font-family=\"Times New Roman,serif\" font-size=\"14.00\" text-anchor=\"middle\" x=\"10142.5\" y=\"-290.8\">Work_Experience &lt;= 7.0</text>\n",
       "<text font-family=\"Times New Roman,serif\" font-size=\"14.00\" text-anchor=\"middle\" x=\"10142.5\" y=\"-275.8\">gini = 0.571</text>\n",
       "<text font-family=\"Times New Roman,serif\" font-size=\"14.00\" text-anchor=\"middle\" x=\"10142.5\" y=\"-260.8\">samples = 19</text>\n",
       "<text font-family=\"Times New Roman,serif\" font-size=\"14.00\" text-anchor=\"middle\" x=\"10142.5\" y=\"-245.8\">value = [5, 3, 11, 0]</text>\n",
       "<text font-family=\"Times New Roman,serif\" font-size=\"14.00\" text-anchor=\"middle\" x=\"10142.5\" y=\"-230.8\">class = C</text>\n",
       "</g>\n",
       "<!-- 173&#45;&gt;174 -->\n",
       "<g class=\"edge\" id=\"edge174\"><title>173-&gt;174</title>\n",
       "<path d=\"M10312.3,-347.237C10286.9,-335.019 10258.2,-321.186 10231.6,-308.421\" fill=\"none\" stroke=\"black\"/>\n",
       "<polygon fill=\"black\" points=\"10232.9,-305.139 10222.4,-303.954 10229.9,-311.446 10232.9,-305.139\" stroke=\"black\"/>\n",
       "</g>\n",
       "<!-- 179 -->\n",
       "<g class=\"node\" id=\"node180\"><title>179</title>\n",
       "<polygon fill=\"#69b5eb\" points=\"10461,-306 10310,-306 10310,-223 10461,-223 10461,-306\" stroke=\"black\"/>\n",
       "<text font-family=\"Times New Roman,serif\" font-size=\"14.00\" text-anchor=\"middle\" x=\"10385.5\" y=\"-290.8\">Spending_Score &lt;= 0.5</text>\n",
       "<text font-family=\"Times New Roman,serif\" font-size=\"14.00\" text-anchor=\"middle\" x=\"10385.5\" y=\"-275.8\">gini = 0.337</text>\n",
       "<text font-family=\"Times New Roman,serif\" font-size=\"14.00\" text-anchor=\"middle\" x=\"10385.5\" y=\"-260.8\">samples = 271</text>\n",
       "<text font-family=\"Times New Roman,serif\" font-size=\"14.00\" text-anchor=\"middle\" x=\"10385.5\" y=\"-245.8\">value = [11, 44, 216, 0]</text>\n",
       "<text font-family=\"Times New Roman,serif\" font-size=\"14.00\" text-anchor=\"middle\" x=\"10385.5\" y=\"-230.8\">class = C</text>\n",
       "</g>\n",
       "<!-- 173&#45;&gt;179 -->\n",
       "<g class=\"edge\" id=\"edge179\"><title>173-&gt;179</title>\n",
       "<path d=\"M10385.5,-341.907C10385.5,-333.649 10385.5,-324.864 10385.5,-316.302\" fill=\"none\" stroke=\"black\"/>\n",
       "<polygon fill=\"black\" points=\"10389,-316.021 10385.5,-306.021 10382,-316.021 10389,-316.021\" stroke=\"black\"/>\n",
       "</g>\n",
       "<!-- 175 -->\n",
       "<g class=\"node\" id=\"node176\"><title>175</title>\n",
       "<polygon fill=\"#8ec7f0\" points=\"10059.5,-187 9933.5,-187 9933.5,-104 10059.5,-104 10059.5,-187\" stroke=\"black\"/>\n",
       "<text font-family=\"Times New Roman,serif\" font-size=\"14.00\" text-anchor=\"middle\" x=\"9996.5\" y=\"-171.8\">Var_1 &lt;= 4.0</text>\n",
       "<text font-family=\"Times New Roman,serif\" font-size=\"14.00\" text-anchor=\"middle\" x=\"9996.5\" y=\"-156.8\">gini = 0.519</text>\n",
       "<text font-family=\"Times New Roman,serif\" font-size=\"14.00\" text-anchor=\"middle\" x=\"9996.5\" y=\"-141.8\">samples = 17</text>\n",
       "<text font-family=\"Times New Roman,serif\" font-size=\"14.00\" text-anchor=\"middle\" x=\"9996.5\" y=\"-126.8\">value = [3, 3, 11, 0]</text>\n",
       "<text font-family=\"Times New Roman,serif\" font-size=\"14.00\" text-anchor=\"middle\" x=\"9996.5\" y=\"-111.8\">class = C</text>\n",
       "</g>\n",
       "<!-- 174&#45;&gt;175 -->\n",
       "<g class=\"edge\" id=\"edge175\"><title>174-&gt;175</title>\n",
       "<path d=\"M10091.8,-222.907C10080,-213.379 10067.2,-203.148 10055,-193.37\" fill=\"none\" stroke=\"black\"/>\n",
       "<polygon fill=\"black\" points=\"10057.1,-190.543 10047.1,-187.021 10052.7,-196.006 10057.1,-190.543\" stroke=\"black\"/>\n",
       "</g>\n",
       "<!-- 178 -->\n",
       "<g class=\"node\" id=\"node179\"><title>178</title>\n",
       "<polygon fill=\"#e58139\" points=\"10202,-179.5 10083,-179.5 10083,-111.5 10202,-111.5 10202,-179.5\" stroke=\"black\"/>\n",
       "<text font-family=\"Times New Roman,serif\" font-size=\"14.00\" text-anchor=\"middle\" x=\"10142.5\" y=\"-164.3\">gini = 0.0</text>\n",
       "<text font-family=\"Times New Roman,serif\" font-size=\"14.00\" text-anchor=\"middle\" x=\"10142.5\" y=\"-149.3\">samples = 2</text>\n",
       "<text font-family=\"Times New Roman,serif\" font-size=\"14.00\" text-anchor=\"middle\" x=\"10142.5\" y=\"-134.3\">value = [2, 0, 0, 0]</text>\n",
       "<text font-family=\"Times New Roman,serif\" font-size=\"14.00\" text-anchor=\"middle\" x=\"10142.5\" y=\"-119.3\">class = A</text>\n",
       "</g>\n",
       "<!-- 174&#45;&gt;178 -->\n",
       "<g class=\"edge\" id=\"edge178\"><title>174-&gt;178</title>\n",
       "<path d=\"M10142.5,-222.907C10142.5,-212.204 10142.5,-200.615 10142.5,-189.776\" fill=\"none\" stroke=\"black\"/>\n",
       "<polygon fill=\"black\" points=\"10146,-189.667 10142.5,-179.667 10139,-189.667 10146,-189.667\" stroke=\"black\"/>\n",
       "</g>\n",
       "<!-- 176 -->\n",
       "<g class=\"node\" id=\"node177\"><title>176</title>\n",
       "<polygon fill=\"#ffffff\" points=\"9919,-68 9800,-68 9800,-0 9919,-0 9919,-68\" stroke=\"black\"/>\n",
       "<text font-family=\"Times New Roman,serif\" font-size=\"14.00\" text-anchor=\"middle\" x=\"9859.5\" y=\"-52.8\">gini = 0.667</text>\n",
       "<text font-family=\"Times New Roman,serif\" font-size=\"14.00\" text-anchor=\"middle\" x=\"9859.5\" y=\"-37.8\">samples = 6</text>\n",
       "<text font-family=\"Times New Roman,serif\" font-size=\"14.00\" text-anchor=\"middle\" x=\"9859.5\" y=\"-22.8\">value = [2, 2, 2, 0]</text>\n",
       "<text font-family=\"Times New Roman,serif\" font-size=\"14.00\" text-anchor=\"middle\" x=\"9859.5\" y=\"-7.8\">class = A</text>\n",
       "</g>\n",
       "<!-- 175&#45;&gt;176 -->\n",
       "<g class=\"edge\" id=\"edge176\"><title>175-&gt;176</title>\n",
       "<path d=\"M9945.49,-103.726C9933.62,-94.2406 9921,-84.1551 9909.19,-74.7159\" fill=\"none\" stroke=\"black\"/>\n",
       "<polygon fill=\"black\" points=\"9911.16,-71.8091 9901.16,-68.2996 9906.79,-77.2771 9911.16,-71.8091\" stroke=\"black\"/>\n",
       "</g>\n",
       "<!-- 177 -->\n",
       "<g class=\"node\" id=\"node178\"><title>177</title>\n",
       "<polygon fill=\"#61b1ea\" points=\"10056,-68 9937,-68 9937,-0 10056,-0 10056,-68\" stroke=\"black\"/>\n",
       "<text font-family=\"Times New Roman,serif\" font-size=\"14.00\" text-anchor=\"middle\" x=\"9996.5\" y=\"-52.8\">gini = 0.314</text>\n",
       "<text font-family=\"Times New Roman,serif\" font-size=\"14.00\" text-anchor=\"middle\" x=\"9996.5\" y=\"-37.8\">samples = 11</text>\n",
       "<text font-family=\"Times New Roman,serif\" font-size=\"14.00\" text-anchor=\"middle\" x=\"9996.5\" y=\"-22.8\">value = [1, 1, 9, 0]</text>\n",
       "<text font-family=\"Times New Roman,serif\" font-size=\"14.00\" text-anchor=\"middle\" x=\"9996.5\" y=\"-7.8\">class = C</text>\n",
       "</g>\n",
       "<!-- 175&#45;&gt;177 -->\n",
       "<g class=\"edge\" id=\"edge177\"><title>175-&gt;177</title>\n",
       "<path d=\"M9996.5,-103.726C9996.5,-95.5175 9996.5,-86.8595 9996.5,-78.56\" fill=\"none\" stroke=\"black\"/>\n",
       "<polygon fill=\"black\" points=\"10000,-78.2996 9996.5,-68.2996 9993,-78.2996 10000,-78.2996\" stroke=\"black\"/>\n",
       "</g>\n",
       "<!-- 180 -->\n",
       "<g class=\"node\" id=\"node181\"><title>180</title>\n",
       "<polygon fill=\"#5fb0ea\" points=\"10365.5,-187 10225.5,-187 10225.5,-104 10365.5,-104 10365.5,-187\" stroke=\"black\"/>\n",
       "<text font-family=\"Times New Roman,serif\" font-size=\"14.00\" text-anchor=\"middle\" x=\"10295.5\" y=\"-171.8\">Age &lt;= 50.5</text>\n",
       "<text font-family=\"Times New Roman,serif\" font-size=\"14.00\" text-anchor=\"middle\" x=\"10295.5\" y=\"-156.8\">gini = 0.294</text>\n",
       "<text font-family=\"Times New Roman,serif\" font-size=\"14.00\" text-anchor=\"middle\" x=\"10295.5\" y=\"-141.8\">samples = 194</text>\n",
       "<text font-family=\"Times New Roman,serif\" font-size=\"14.00\" text-anchor=\"middle\" x=\"10295.5\" y=\"-126.8\">value = [9, 24, 161, 0]</text>\n",
       "<text font-family=\"Times New Roman,serif\" font-size=\"14.00\" text-anchor=\"middle\" x=\"10295.5\" y=\"-111.8\">class = C</text>\n",
       "</g>\n",
       "<!-- 179&#45;&gt;180 -->\n",
       "<g class=\"edge\" id=\"edge180\"><title>179-&gt;180</title>\n",
       "<path d=\"M10354.3,-222.907C10347.4,-213.923 10340,-204.315 10332.8,-195.05\" fill=\"none\" stroke=\"black\"/>\n",
       "<polygon fill=\"black\" points=\"10335.5,-192.813 10326.7,-187.021 10330,-197.081 10335.5,-192.813\" stroke=\"black\"/>\n",
       "</g>\n",
       "<!-- 183 -->\n",
       "<g class=\"node\" id=\"node184\"><title>183</title>\n",
       "<polygon fill=\"#85c3ef\" points=\"10517,-187 10384,-187 10384,-104 10517,-104 10517,-187\" stroke=\"black\"/>\n",
       "<text font-family=\"Times New Roman,serif\" font-size=\"14.00\" text-anchor=\"middle\" x=\"10450.5\" y=\"-171.8\">Family_Size &lt;= 6.5</text>\n",
       "<text font-family=\"Times New Roman,serif\" font-size=\"14.00\" text-anchor=\"middle\" x=\"10450.5\" y=\"-156.8\">gini = 0.422</text>\n",
       "<text font-family=\"Times New Roman,serif\" font-size=\"14.00\" text-anchor=\"middle\" x=\"10450.5\" y=\"-141.8\">samples = 77</text>\n",
       "<text font-family=\"Times New Roman,serif\" font-size=\"14.00\" text-anchor=\"middle\" x=\"10450.5\" y=\"-126.8\">value = [2, 20, 55, 0]</text>\n",
       "<text font-family=\"Times New Roman,serif\" font-size=\"14.00\" text-anchor=\"middle\" x=\"10450.5\" y=\"-111.8\">class = C</text>\n",
       "</g>\n",
       "<!-- 179&#45;&gt;183 -->\n",
       "<g class=\"edge\" id=\"edge183\"><title>179-&gt;183</title>\n",
       "<path d=\"M10408.1,-222.907C10412.9,-214.195 10418.1,-204.897 10423.1,-195.893\" fill=\"none\" stroke=\"black\"/>\n",
       "<polygon fill=\"black\" points=\"10426.2,-197.462 10428,-187.021 10420.1,-194.063 10426.2,-197.462\" stroke=\"black\"/>\n",
       "</g>\n",
       "<!-- 181 -->\n",
       "<g class=\"node\" id=\"node182\"><title>181</title>\n",
       "<polygon fill=\"#79bced\" points=\"10207,-68 10074,-68 10074,-0 10207,-0 10207,-68\" stroke=\"black\"/>\n",
       "<text font-family=\"Times New Roman,serif\" font-size=\"14.00\" text-anchor=\"middle\" x=\"10140.5\" y=\"-52.8\">gini = 0.427</text>\n",
       "<text font-family=\"Times New Roman,serif\" font-size=\"14.00\" text-anchor=\"middle\" x=\"10140.5\" y=\"-37.8\">samples = 67</text>\n",
       "<text font-family=\"Times New Roman,serif\" font-size=\"14.00\" text-anchor=\"middle\" x=\"10140.5\" y=\"-22.8\">value = [7, 11, 49, 0]</text>\n",
       "<text font-family=\"Times New Roman,serif\" font-size=\"14.00\" text-anchor=\"middle\" x=\"10140.5\" y=\"-7.8\">class = C</text>\n",
       "</g>\n",
       "<!-- 180&#45;&gt;181 -->\n",
       "<g class=\"edge\" id=\"edge181\"><title>180-&gt;181</title>\n",
       "<path d=\"M10237.8,-103.726C10224.1,-94.0582 10209.5,-83.767 10195.9,-74.172\" fill=\"none\" stroke=\"black\"/>\n",
       "<polygon fill=\"black\" points=\"10197.8,-71.2109 10187.6,-68.2996 10193.8,-76.9282 10197.8,-71.2109\" stroke=\"black\"/>\n",
       "</g>\n",
       "<!-- 182 -->\n",
       "<g class=\"node\" id=\"node183\"><title>182</title>\n",
       "<polygon fill=\"#53aae8\" points=\"10365.5,-68 10225.5,-68 10225.5,-0 10365.5,-0 10365.5,-68\" stroke=\"black\"/>\n",
       "<text font-family=\"Times New Roman,serif\" font-size=\"14.00\" text-anchor=\"middle\" x=\"10295.5\" y=\"-52.8\">gini = 0.212</text>\n",
       "<text font-family=\"Times New Roman,serif\" font-size=\"14.00\" text-anchor=\"middle\" x=\"10295.5\" y=\"-37.8\">samples = 127</text>\n",
       "<text font-family=\"Times New Roman,serif\" font-size=\"14.00\" text-anchor=\"middle\" x=\"10295.5\" y=\"-22.8\">value = [2, 13, 112, 0]</text>\n",
       "<text font-family=\"Times New Roman,serif\" font-size=\"14.00\" text-anchor=\"middle\" x=\"10295.5\" y=\"-7.8\">class = C</text>\n",
       "</g>\n",
       "<!-- 180&#45;&gt;182 -->\n",
       "<g class=\"edge\" id=\"edge182\"><title>180-&gt;182</title>\n",
       "<path d=\"M10295.5,-103.726C10295.5,-95.5175 10295.5,-86.8595 10295.5,-78.56\" fill=\"none\" stroke=\"black\"/>\n",
       "<polygon fill=\"black\" points=\"10299,-78.2996 10295.5,-68.2996 10292,-78.2996 10299,-78.2996\" stroke=\"black\"/>\n",
       "</g>\n",
       "<!-- 184 -->\n",
       "<g class=\"node\" id=\"node185\"><title>184</title>\n",
       "<polygon fill=\"#7ebfee\" points=\"10517,-68 10384,-68 10384,-0 10517,-0 10517,-68\" stroke=\"black\"/>\n",
       "<text font-family=\"Times New Roman,serif\" font-size=\"14.00\" text-anchor=\"middle\" x=\"10450.5\" y=\"-52.8\">gini = 0.404</text>\n",
       "<text font-family=\"Times New Roman,serif\" font-size=\"14.00\" text-anchor=\"middle\" x=\"10450.5\" y=\"-37.8\">samples = 75</text>\n",
       "<text font-family=\"Times New Roman,serif\" font-size=\"14.00\" text-anchor=\"middle\" x=\"10450.5\" y=\"-22.8\">value = [2, 18, 55, 0]</text>\n",
       "<text font-family=\"Times New Roman,serif\" font-size=\"14.00\" text-anchor=\"middle\" x=\"10450.5\" y=\"-7.8\">class = C</text>\n",
       "</g>\n",
       "<!-- 183&#45;&gt;184 -->\n",
       "<g class=\"edge\" id=\"edge184\"><title>183-&gt;184</title>\n",
       "<path d=\"M10450.5,-103.726C10450.5,-95.5175 10450.5,-86.8595 10450.5,-78.56\" fill=\"none\" stroke=\"black\"/>\n",
       "<polygon fill=\"black\" points=\"10454,-78.2996 10450.5,-68.2996 10447,-78.2996 10454,-78.2996\" stroke=\"black\"/>\n",
       "</g>\n",
       "<!-- 185 -->\n",
       "<g class=\"node\" id=\"node186\"><title>185</title>\n",
       "<polygon fill=\"#47e539\" points=\"10654,-68 10535,-68 10535,-0 10654,-0 10654,-68\" stroke=\"black\"/>\n",
       "<text font-family=\"Times New Roman,serif\" font-size=\"14.00\" text-anchor=\"middle\" x=\"10594.5\" y=\"-52.8\">gini = 0.0</text>\n",
       "<text font-family=\"Times New Roman,serif\" font-size=\"14.00\" text-anchor=\"middle\" x=\"10594.5\" y=\"-37.8\">samples = 2</text>\n",
       "<text font-family=\"Times New Roman,serif\" font-size=\"14.00\" text-anchor=\"middle\" x=\"10594.5\" y=\"-22.8\">value = [0, 2, 0, 0]</text>\n",
       "<text font-family=\"Times New Roman,serif\" font-size=\"14.00\" text-anchor=\"middle\" x=\"10594.5\" y=\"-7.8\">class = B</text>\n",
       "</g>\n",
       "<!-- 183&#45;&gt;185 -->\n",
       "<g class=\"edge\" id=\"edge185\"><title>183-&gt;185</title>\n",
       "<path d=\"M10504.1,-103.726C10516.7,-94.1494 10530.1,-83.9611 10542.6,-74.4438\" fill=\"none\" stroke=\"black\"/>\n",
       "<polygon fill=\"black\" points=\"10544.9,-77.1386 10550.7,-68.2996 10540.6,-71.5666 10544.9,-77.1386\" stroke=\"black\"/>\n",
       "</g>\n",
       "<!-- 187 -->\n",
       "<g class=\"node\" id=\"node188\"><title>187</title>\n",
       "<polygon fill=\"#8ec7f0\" points=\"11018.5,-306 10872.5,-306 10872.5,-223 11018.5,-223 11018.5,-306\" stroke=\"black\"/>\n",
       "<text font-family=\"Times New Roman,serif\" font-size=\"14.00\" text-anchor=\"middle\" x=\"10945.5\" y=\"-290.8\">Var_1 &lt;= 3.5</text>\n",
       "<text font-family=\"Times New Roman,serif\" font-size=\"14.00\" text-anchor=\"middle\" x=\"10945.5\" y=\"-275.8\">gini = 0.486</text>\n",
       "<text font-family=\"Times New Roman,serif\" font-size=\"14.00\" text-anchor=\"middle\" x=\"10945.5\" y=\"-260.8\">samples = 259</text>\n",
       "<text font-family=\"Times New Roman,serif\" font-size=\"14.00\" text-anchor=\"middle\" x=\"10945.5\" y=\"-245.8\">value = [22, 61, 174, 2]</text>\n",
       "<text font-family=\"Times New Roman,serif\" font-size=\"14.00\" text-anchor=\"middle\" x=\"10945.5\" y=\"-230.8\">class = C</text>\n",
       "</g>\n",
       "<!-- 186&#45;&gt;187 -->\n",
       "<g class=\"edge\" id=\"edge187\"><title>186-&gt;187</title>\n",
       "<path d=\"M10945.5,-341.907C10945.5,-333.649 10945.5,-324.864 10945.5,-316.302\" fill=\"none\" stroke=\"black\"/>\n",
       "<polygon fill=\"black\" points=\"10949,-316.021 10945.5,-306.021 10942,-316.021 10949,-316.021\" stroke=\"black\"/>\n",
       "</g>\n",
       "<!-- 194 -->\n",
       "<g class=\"node\" id=\"node195\"><title>194</title>\n",
       "<polygon fill=\"#f2f9fd\" points=\"11445,-306 11312,-306 11312,-223 11445,-223 11445,-306\" stroke=\"black\"/>\n",
       "<text font-family=\"Times New Roman,serif\" font-size=\"14.00\" text-anchor=\"middle\" x=\"11378.5\" y=\"-290.8\">Age &lt;= 49.5</text>\n",
       "<text font-family=\"Times New Roman,serif\" font-size=\"14.00\" text-anchor=\"middle\" x=\"11378.5\" y=\"-275.8\">gini = 0.699</text>\n",
       "<text font-family=\"Times New Roman,serif\" font-size=\"14.00\" text-anchor=\"middle\" x=\"11378.5\" y=\"-260.8\">samples = 47</text>\n",
       "<text font-family=\"Times New Roman,serif\" font-size=\"14.00\" text-anchor=\"middle\" x=\"11378.5\" y=\"-245.8\">value = [7, 16, 18, 6]</text>\n",
       "<text font-family=\"Times New Roman,serif\" font-size=\"14.00\" text-anchor=\"middle\" x=\"11378.5\" y=\"-230.8\">class = C</text>\n",
       "</g>\n",
       "<!-- 186&#45;&gt;194 -->\n",
       "<g class=\"edge\" id=\"edge194\"><title>186-&gt;194</title>\n",
       "<path d=\"M11021.4,-361.986C11100.3,-340.68 11222.9,-307.531 11302,-286.168\" fill=\"none\" stroke=\"black\"/>\n",
       "<polygon fill=\"black\" points=\"11303.2,-289.481 11311.9,-283.494 11301.3,-282.723 11303.2,-289.481\" stroke=\"black\"/>\n",
       "</g>\n",
       "<!-- 188 -->\n",
       "<g class=\"node\" id=\"node189\"><title>188</title>\n",
       "<polygon fill=\"#c7e3f8\" points=\"10933,-187 10800,-187 10800,-104 10933,-104 10933,-187\" stroke=\"black\"/>\n",
       "<text font-family=\"Times New Roman,serif\" font-size=\"14.00\" text-anchor=\"middle\" x=\"10866.5\" y=\"-171.8\">Var_1 &lt;= 2.5</text>\n",
       "<text font-family=\"Times New Roman,serif\" font-size=\"14.00\" text-anchor=\"middle\" x=\"10866.5\" y=\"-156.8\">gini = 0.602</text>\n",
       "<text font-family=\"Times New Roman,serif\" font-size=\"14.00\" text-anchor=\"middle\" x=\"10866.5\" y=\"-141.8\">samples = 48</text>\n",
       "<text font-family=\"Times New Roman,serif\" font-size=\"14.00\" text-anchor=\"middle\" x=\"10866.5\" y=\"-126.8\">value = [6, 16, 25, 1]</text>\n",
       "<text font-family=\"Times New Roman,serif\" font-size=\"14.00\" text-anchor=\"middle\" x=\"10866.5\" y=\"-111.8\">class = C</text>\n",
       "</g>\n",
       "<!-- 187&#45;&gt;188 -->\n",
       "<g class=\"edge\" id=\"edge188\"><title>187-&gt;188</title>\n",
       "<path d=\"M10918.1,-222.907C10912.1,-214.014 10905.7,-204.509 10899.5,-195.331\" fill=\"none\" stroke=\"black\"/>\n",
       "<polygon fill=\"black\" points=\"10902.4,-193.35 10893.9,-187.021 10896.6,-197.267 10902.4,-193.35\" stroke=\"black\"/>\n",
       "</g>\n",
       "<!-- 191 -->\n",
       "<g class=\"node\" id=\"node192\"><title>191</title>\n",
       "<polygon fill=\"#83c2ef\" points=\"11097.5,-187 10951.5,-187 10951.5,-104 11097.5,-104 11097.5,-187\" stroke=\"black\"/>\n",
       "<text font-family=\"Times New Roman,serif\" font-size=\"14.00\" text-anchor=\"middle\" x=\"11024.5\" y=\"-171.8\">Ever_Married &lt;= 1.5</text>\n",
       "<text font-family=\"Times New Roman,serif\" font-size=\"14.00\" text-anchor=\"middle\" x=\"11024.5\" y=\"-156.8\">gini = 0.45</text>\n",
       "<text font-family=\"Times New Roman,serif\" font-size=\"14.00\" text-anchor=\"middle\" x=\"11024.5\" y=\"-141.8\">samples = 211</text>\n",
       "<text font-family=\"Times New Roman,serif\" font-size=\"14.00\" text-anchor=\"middle\" x=\"11024.5\" y=\"-126.8\">value = [16, 45, 149, 1]</text>\n",
       "<text font-family=\"Times New Roman,serif\" font-size=\"14.00\" text-anchor=\"middle\" x=\"11024.5\" y=\"-111.8\">class = C</text>\n",
       "</g>\n",
       "<!-- 187&#45;&gt;191 -->\n",
       "<g class=\"edge\" id=\"edge191\"><title>187-&gt;191</title>\n",
       "<path d=\"M10972.9,-222.907C10978.9,-214.014 10985.3,-204.509 10991.5,-195.331\" fill=\"none\" stroke=\"black\"/>\n",
       "<polygon fill=\"black\" points=\"10994.4,-197.267 10997.1,-187.021 10988.6,-193.35 10994.4,-197.267\" stroke=\"black\"/>\n",
       "</g>\n",
       "<!-- 189 -->\n",
       "<g class=\"node\" id=\"node190\"><title>189</title>\n",
       "<polygon fill=\"#98ccf1\" points=\"10798.5,-68 10672.5,-68 10672.5,-0 10798.5,-0 10798.5,-68\" stroke=\"black\"/>\n",
       "<text font-family=\"Times New Roman,serif\" font-size=\"14.00\" text-anchor=\"middle\" x=\"10735.5\" y=\"-52.8\">gini = 0.527</text>\n",
       "<text font-family=\"Times New Roman,serif\" font-size=\"14.00\" text-anchor=\"middle\" x=\"10735.5\" y=\"-37.8\">samples = 33</text>\n",
       "<text font-family=\"Times New Roman,serif\" font-size=\"14.00\" text-anchor=\"middle\" x=\"10735.5\" y=\"-22.8\">value = [3, 8, 21, 1]</text>\n",
       "<text font-family=\"Times New Roman,serif\" font-size=\"14.00\" text-anchor=\"middle\" x=\"10735.5\" y=\"-7.8\">class = C</text>\n",
       "</g>\n",
       "<!-- 188&#45;&gt;189 -->\n",
       "<g class=\"edge\" id=\"edge189\"><title>188-&gt;189</title>\n",
       "<path d=\"M10817.7,-103.726C10806.4,-94.2406 10794.3,-84.1551 10783,-74.7159\" fill=\"none\" stroke=\"black\"/>\n",
       "<polygon fill=\"black\" points=\"10785.3,-72.0276 10775.3,-68.2996 10780.8,-77.3984 10785.3,-72.0276\" stroke=\"black\"/>\n",
       "</g>\n",
       "<!-- 190 -->\n",
       "<g class=\"node\" id=\"node191\"><title>190</title>\n",
       "<polygon fill=\"#bcf6b7\" points=\"10936,-68 10817,-68 10817,-0 10936,-0 10936,-68\" stroke=\"black\"/>\n",
       "<text font-family=\"Times New Roman,serif\" font-size=\"14.00\" text-anchor=\"middle\" x=\"10876.5\" y=\"-52.8\">gini = 0.604</text>\n",
       "<text font-family=\"Times New Roman,serif\" font-size=\"14.00\" text-anchor=\"middle\" x=\"10876.5\" y=\"-37.8\">samples = 15</text>\n",
       "<text font-family=\"Times New Roman,serif\" font-size=\"14.00\" text-anchor=\"middle\" x=\"10876.5\" y=\"-22.8\">value = [3, 8, 4, 0]</text>\n",
       "<text font-family=\"Times New Roman,serif\" font-size=\"14.00\" text-anchor=\"middle\" x=\"10876.5\" y=\"-7.8\">class = B</text>\n",
       "</g>\n",
       "<!-- 188&#45;&gt;190 -->\n",
       "<g class=\"edge\" id=\"edge190\"><title>188-&gt;190</title>\n",
       "<path d=\"M10870.2,-103.726C10871,-95.4263 10871.8,-86.6671 10872.5,-78.2834\" fill=\"none\" stroke=\"black\"/>\n",
       "<polygon fill=\"black\" points=\"10876,-78.5765 10873.5,-68.2996 10869.1,-77.9398 10876,-78.5765\" stroke=\"black\"/>\n",
       "</g>\n",
       "<!-- 192 -->\n",
       "<g class=\"node\" id=\"node193\"><title>192</title>\n",
       "<polygon fill=\"#c2f6bd\" points=\"11073,-68 10954,-68 10954,-0 11073,-0 11073,-68\" stroke=\"black\"/>\n",
       "<text font-family=\"Times New Roman,serif\" font-size=\"14.00\" text-anchor=\"middle\" x=\"11013.5\" y=\"-52.8\">gini = 0.625</text>\n",
       "<text font-family=\"Times New Roman,serif\" font-size=\"14.00\" text-anchor=\"middle\" x=\"11013.5\" y=\"-37.8\">samples = 4</text>\n",
       "<text font-family=\"Times New Roman,serif\" font-size=\"14.00\" text-anchor=\"middle\" x=\"11013.5\" y=\"-22.8\">value = [1, 2, 1, 0]</text>\n",
       "<text font-family=\"Times New Roman,serif\" font-size=\"14.00\" text-anchor=\"middle\" x=\"11013.5\" y=\"-7.8\">class = B</text>\n",
       "</g>\n",
       "<!-- 191&#45;&gt;192 -->\n",
       "<g class=\"edge\" id=\"edge192\"><title>191-&gt;192</title>\n",
       "<path d=\"M11020.4,-103.726C11019.6,-95.4263 11018.7,-86.6671 11017.8,-78.2834\" fill=\"none\" stroke=\"black\"/>\n",
       "<polygon fill=\"black\" points=\"11021.3,-77.8997 11016.8,-68.2996 11014.4,-78.5994 11021.3,-77.8997\" stroke=\"black\"/>\n",
       "</g>\n",
       "<!-- 193 -->\n",
       "<g class=\"node\" id=\"node194\"><title>193</title>\n",
       "<polygon fill=\"#80c0ee\" points=\"11237.5,-68 11091.5,-68 11091.5,-0 11237.5,-0 11237.5,-68\" stroke=\"black\"/>\n",
       "<text font-family=\"Times New Roman,serif\" font-size=\"14.00\" text-anchor=\"middle\" x=\"11164.5\" y=\"-52.8\">gini = 0.44</text>\n",
       "<text font-family=\"Times New Roman,serif\" font-size=\"14.00\" text-anchor=\"middle\" x=\"11164.5\" y=\"-37.8\">samples = 207</text>\n",
       "<text font-family=\"Times New Roman,serif\" font-size=\"14.00\" text-anchor=\"middle\" x=\"11164.5\" y=\"-22.8\">value = [15, 43, 148, 1]</text>\n",
       "<text font-family=\"Times New Roman,serif\" font-size=\"14.00\" text-anchor=\"middle\" x=\"11164.5\" y=\"-7.8\">class = C</text>\n",
       "</g>\n",
       "<!-- 191&#45;&gt;193 -->\n",
       "<g class=\"edge\" id=\"edge193\"><title>191-&gt;193</title>\n",
       "<path d=\"M11076.6,-103.726C11088.8,-94.2406 11101.7,-84.1551 11113.7,-74.7159\" fill=\"none\" stroke=\"black\"/>\n",
       "<polygon fill=\"black\" points=\"11116.2,-77.2173 11121.9,-68.2996 11111.9,-71.7035 11116.2,-77.2173\" stroke=\"black\"/>\n",
       "</g>\n",
       "<!-- 195 -->\n",
       "<g class=\"node\" id=\"node196\"><title>195</title>\n",
       "<polygon fill=\"#75ec6a\" points=\"11441.5,-187 11315.5,-187 11315.5,-104 11441.5,-104 11441.5,-187\" stroke=\"black\"/>\n",
       "<text font-family=\"Times New Roman,serif\" font-size=\"14.00\" text-anchor=\"middle\" x=\"11378.5\" y=\"-171.8\">Family_Size &lt;= 4.5</text>\n",
       "<text font-family=\"Times New Roman,serif\" font-size=\"14.00\" text-anchor=\"middle\" x=\"11378.5\" y=\"-156.8\">gini = 0.32</text>\n",
       "<text font-family=\"Times New Roman,serif\" font-size=\"14.00\" text-anchor=\"middle\" x=\"11378.5\" y=\"-141.8\">samples = 5</text>\n",
       "<text font-family=\"Times New Roman,serif\" font-size=\"14.00\" text-anchor=\"middle\" x=\"11378.5\" y=\"-126.8\">value = [0, 4, 1, 0]</text>\n",
       "<text font-family=\"Times New Roman,serif\" font-size=\"14.00\" text-anchor=\"middle\" x=\"11378.5\" y=\"-111.8\">class = B</text>\n",
       "</g>\n",
       "<!-- 194&#45;&gt;195 -->\n",
       "<g class=\"edge\" id=\"edge195\"><title>194-&gt;195</title>\n",
       "<path d=\"M11378.5,-222.907C11378.5,-214.649 11378.5,-205.864 11378.5,-197.302\" fill=\"none\" stroke=\"black\"/>\n",
       "<polygon fill=\"black\" points=\"11382,-197.021 11378.5,-187.021 11375,-197.021 11382,-197.021\" stroke=\"black\"/>\n",
       "</g>\n",
       "<!-- 198 -->\n",
       "<g class=\"node\" id=\"node199\"><title>198</title>\n",
       "<polygon fill=\"#deeffb\" points=\"11656,-187 11523,-187 11523,-104 11656,-104 11656,-187\" stroke=\"black\"/>\n",
       "<text font-family=\"Times New Roman,serif\" font-size=\"14.00\" text-anchor=\"middle\" x=\"11589.5\" y=\"-171.8\">Age &lt;= 59.5</text>\n",
       "<text font-family=\"Times New Roman,serif\" font-size=\"14.00\" text-anchor=\"middle\" x=\"11589.5\" y=\"-156.8\">gini = 0.706</text>\n",
       "<text font-family=\"Times New Roman,serif\" font-size=\"14.00\" text-anchor=\"middle\" x=\"11589.5\" y=\"-141.8\">samples = 42</text>\n",
       "<text font-family=\"Times New Roman,serif\" font-size=\"14.00\" text-anchor=\"middle\" x=\"11589.5\" y=\"-126.8\">value = [7, 12, 17, 6]</text>\n",
       "<text font-family=\"Times New Roman,serif\" font-size=\"14.00\" text-anchor=\"middle\" x=\"11589.5\" y=\"-111.8\">class = C</text>\n",
       "</g>\n",
       "<!-- 194&#45;&gt;198 -->\n",
       "<g class=\"edge\" id=\"edge198\"><title>194-&gt;198</title>\n",
       "<path d=\"M11445.3,-226.48C11467.1,-214.364 11491.5,-200.821 11514,-188.373\" fill=\"none\" stroke=\"black\"/>\n",
       "<polygon fill=\"black\" points=\"11515.8,-191.39 11522.8,-183.479 11512.4,-185.268 11515.8,-191.39\" stroke=\"black\"/>\n",
       "</g>\n",
       "<!-- 196 -->\n",
       "<g class=\"node\" id=\"node197\"><title>196</title>\n",
       "<polygon fill=\"#47e539\" points=\"11375,-68 11256,-68 11256,-0 11375,-0 11375,-68\" stroke=\"black\"/>\n",
       "<text font-family=\"Times New Roman,serif\" font-size=\"14.00\" text-anchor=\"middle\" x=\"11315.5\" y=\"-52.8\">gini = 0.0</text>\n",
       "<text font-family=\"Times New Roman,serif\" font-size=\"14.00\" text-anchor=\"middle\" x=\"11315.5\" y=\"-37.8\">samples = 4</text>\n",
       "<text font-family=\"Times New Roman,serif\" font-size=\"14.00\" text-anchor=\"middle\" x=\"11315.5\" y=\"-22.8\">value = [0, 4, 0, 0]</text>\n",
       "<text font-family=\"Times New Roman,serif\" font-size=\"14.00\" text-anchor=\"middle\" x=\"11315.5\" y=\"-7.8\">class = B</text>\n",
       "</g>\n",
       "<!-- 195&#45;&gt;196 -->\n",
       "<g class=\"edge\" id=\"edge196\"><title>195-&gt;196</title>\n",
       "<path d=\"M11355,-103.726C11350.1,-95.0615 11344.8,-85.8962 11339.8,-77.1802\" fill=\"none\" stroke=\"black\"/>\n",
       "<polygon fill=\"black\" points=\"11342.7,-75.2219 11334.7,-68.2996 11336.6,-78.7128 11342.7,-75.2219\" stroke=\"black\"/>\n",
       "</g>\n",
       "<!-- 197 -->\n",
       "<g class=\"node\" id=\"node198\"><title>197</title>\n",
       "<polygon fill=\"#399de5\" points=\"11512,-68 11393,-68 11393,-0 11512,-0 11512,-68\" stroke=\"black\"/>\n",
       "<text font-family=\"Times New Roman,serif\" font-size=\"14.00\" text-anchor=\"middle\" x=\"11452.5\" y=\"-52.8\">gini = 0.0</text>\n",
       "<text font-family=\"Times New Roman,serif\" font-size=\"14.00\" text-anchor=\"middle\" x=\"11452.5\" y=\"-37.8\">samples = 1</text>\n",
       "<text font-family=\"Times New Roman,serif\" font-size=\"14.00\" text-anchor=\"middle\" x=\"11452.5\" y=\"-22.8\">value = [0, 0, 1, 0]</text>\n",
       "<text font-family=\"Times New Roman,serif\" font-size=\"14.00\" text-anchor=\"middle\" x=\"11452.5\" y=\"-7.8\">class = C</text>\n",
       "</g>\n",
       "<!-- 195&#45;&gt;197 -->\n",
       "<g class=\"edge\" id=\"edge197\"><title>195-&gt;197</title>\n",
       "<path d=\"M11406.1,-103.726C11412,-94.879 11418.4,-85.51 11424.4,-76.6303\" fill=\"none\" stroke=\"black\"/>\n",
       "<polygon fill=\"black\" points=\"11427.3,-78.5448 11430,-68.2996 11421.5,-74.6253 11427.3,-78.5448\" stroke=\"black\"/>\n",
       "</g>\n",
       "<!-- 199 -->\n",
       "<g class=\"node\" id=\"node200\"><title>199</title>\n",
       "<polygon fill=\"#fceefd\" points=\"11649,-68 11530,-68 11530,-0 11649,-0 11649,-68\" stroke=\"black\"/>\n",
       "<text font-family=\"Times New Roman,serif\" font-size=\"14.00\" text-anchor=\"middle\" x=\"11589.5\" y=\"-52.8\">gini = 0.727</text>\n",
       "<text font-family=\"Times New Roman,serif\" font-size=\"14.00\" text-anchor=\"middle\" x=\"11589.5\" y=\"-37.8\">samples = 17</text>\n",
       "<text font-family=\"Times New Roman,serif\" font-size=\"14.00\" text-anchor=\"middle\" x=\"11589.5\" y=\"-22.8\">value = [3, 3, 5, 6]</text>\n",
       "<text font-family=\"Times New Roman,serif\" font-size=\"14.00\" text-anchor=\"middle\" x=\"11589.5\" y=\"-7.8\">class = D</text>\n",
       "</g>\n",
       "<!-- 198&#45;&gt;199 -->\n",
       "<g class=\"edge\" id=\"edge199\"><title>198-&gt;199</title>\n",
       "<path d=\"M11589.5,-103.726C11589.5,-95.5175 11589.5,-86.8595 11589.5,-78.56\" fill=\"none\" stroke=\"black\"/>\n",
       "<polygon fill=\"black\" points=\"11593,-78.2996 11589.5,-68.2996 11586,-78.2996 11593,-78.2996\" stroke=\"black\"/>\n",
       "</g>\n",
       "<!-- 200 -->\n",
       "<g class=\"node\" id=\"node201\"><title>200</title>\n",
       "<polygon fill=\"#daedfa\" points=\"11793.5,-68 11667.5,-68 11667.5,-0 11793.5,-0 11793.5,-68\" stroke=\"black\"/>\n",
       "<text font-family=\"Times New Roman,serif\" font-size=\"14.00\" text-anchor=\"middle\" x=\"11730.5\" y=\"-52.8\">gini = 0.614</text>\n",
       "<text font-family=\"Times New Roman,serif\" font-size=\"14.00\" text-anchor=\"middle\" x=\"11730.5\" y=\"-37.8\">samples = 25</text>\n",
       "<text font-family=\"Times New Roman,serif\" font-size=\"14.00\" text-anchor=\"middle\" x=\"11730.5\" y=\"-22.8\">value = [4, 9, 12, 0]</text>\n",
       "<text font-family=\"Times New Roman,serif\" font-size=\"14.00\" text-anchor=\"middle\" x=\"11730.5\" y=\"-7.8\">class = C</text>\n",
       "</g>\n",
       "<!-- 198&#45;&gt;200 -->\n",
       "<g class=\"edge\" id=\"edge200\"><title>198-&gt;200</title>\n",
       "<path d=\"M11642,-103.726C11654.3,-94.1494 11667.5,-83.9611 11679.7,-74.4438\" fill=\"none\" stroke=\"black\"/>\n",
       "<polygon fill=\"black\" points=\"11681.9,-77.1975 11687.6,-68.2996 11677.6,-71.6689 11681.9,-77.1975\" stroke=\"black\"/>\n",
       "</g>\n",
       "<!-- 202 -->\n",
       "<g class=\"node\" id=\"node203\"><title>202</title>\n",
       "<polygon fill=\"#eefded\" points=\"13053,-544 12886,-544 12886,-461 13053,-461 13053,-544\" stroke=\"black\"/>\n",
       "<text font-family=\"Times New Roman,serif\" font-size=\"14.00\" text-anchor=\"middle\" x=\"12969.5\" y=\"-528.8\">Var_1 &lt;= 3.5</text>\n",
       "<text font-family=\"Times New Roman,serif\" font-size=\"14.00\" text-anchor=\"middle\" x=\"12969.5\" y=\"-513.8\">gini = 0.724</text>\n",
       "<text font-family=\"Times New Roman,serif\" font-size=\"14.00\" text-anchor=\"middle\" x=\"12969.5\" y=\"-498.8\">samples = 534</text>\n",
       "<text font-family=\"Times New Roman,serif\" font-size=\"14.00\" text-anchor=\"middle\" x=\"12969.5\" y=\"-483.8\">value = [157, 192, 85, 100]</text>\n",
       "<text font-family=\"Times New Roman,serif\" font-size=\"14.00\" text-anchor=\"middle\" x=\"12969.5\" y=\"-468.8\">class = B</text>\n",
       "</g>\n",
       "<!-- 201&#45;&gt;202 -->\n",
       "<g class=\"edge\" id=\"edge202\"><title>201-&gt;202</title>\n",
       "<path d=\"M12969.5,-579.907C12969.5,-571.649 12969.5,-562.864 12969.5,-554.302\" fill=\"none\" stroke=\"black\"/>\n",
       "<polygon fill=\"black\" points=\"12973,-554.021 12969.5,-544.021 12966,-554.021 12973,-554.021\" stroke=\"black\"/>\n",
       "</g>\n",
       "<!-- 233 -->\n",
       "<g class=\"node\" id=\"node234\"><title>233</title>\n",
       "<polygon fill=\"#f5fafe\" points=\"14797,-544 14630,-544 14630,-461 14797,-461 14797,-544\" stroke=\"black\"/>\n",
       "<text font-family=\"Times New Roman,serif\" font-size=\"14.00\" text-anchor=\"middle\" x=\"14713.5\" y=\"-528.8\">Age &lt;= 44.0</text>\n",
       "<text font-family=\"Times New Roman,serif\" font-size=\"14.00\" text-anchor=\"middle\" x=\"14713.5\" y=\"-513.8\">gini = 0.673</text>\n",
       "<text font-family=\"Times New Roman,serif\" font-size=\"14.00\" text-anchor=\"middle\" x=\"14713.5\" y=\"-498.8\">samples = 817</text>\n",
       "<text font-family=\"Times New Roman,serif\" font-size=\"14.00\" text-anchor=\"middle\" x=\"14713.5\" y=\"-483.8\">value = [161, 296, 321, 39]</text>\n",
       "<text font-family=\"Times New Roman,serif\" font-size=\"14.00\" text-anchor=\"middle\" x=\"14713.5\" y=\"-468.8\">class = C</text>\n",
       "</g>\n",
       "<!-- 201&#45;&gt;233 -->\n",
       "<g class=\"edge\" id=\"edge233\"><title>201-&gt;233</title>\n",
       "<path d=\"M13056.3,-614.678C13351.3,-594.884 14314.4,-530.277 14619.7,-509.791\" fill=\"none\" stroke=\"black\"/>\n",
       "<polygon fill=\"black\" points=\"14620.1,-513.272 14629.9,-509.111 14619.7,-506.288 14620.1,-513.272\" stroke=\"black\"/>\n",
       "</g>\n",
       "<!-- 203 -->\n",
       "<g class=\"node\" id=\"node204\"><title>203</title>\n",
       "<polygon fill=\"#f8fef8\" points=\"12746.5,-425 12600.5,-425 12600.5,-342 12746.5,-342 12746.5,-425\" stroke=\"black\"/>\n",
       "<text font-family=\"Times New Roman,serif\" font-size=\"14.00\" text-anchor=\"middle\" x=\"12673.5\" y=\"-409.8\">Age &lt;= 44.0</text>\n",
       "<text font-family=\"Times New Roman,serif\" font-size=\"14.00\" text-anchor=\"middle\" x=\"12673.5\" y=\"-394.8\">gini = 0.701</text>\n",
       "<text font-family=\"Times New Roman,serif\" font-size=\"14.00\" text-anchor=\"middle\" x=\"12673.5\" y=\"-379.8\">samples = 204</text>\n",
       "<text font-family=\"Times New Roman,serif\" font-size=\"14.00\" text-anchor=\"middle\" x=\"12673.5\" y=\"-364.8\">value = [65, 70, 13, 56]</text>\n",
       "<text font-family=\"Times New Roman,serif\" font-size=\"14.00\" text-anchor=\"middle\" x=\"12673.5\" y=\"-349.8\">class = B</text>\n",
       "</g>\n",
       "<!-- 202&#45;&gt;203 -->\n",
       "<g class=\"edge\" id=\"edge203\"><title>202-&gt;203</title>\n",
       "<path d=\"M12885.9,-468.442C12845.3,-452.393 12796.6,-433.171 12756.2,-417.173\" fill=\"none\" stroke=\"black\"/>\n",
       "<polygon fill=\"black\" points=\"12757.4,-413.918 12746.9,-413.496 12754.9,-420.427 12757.4,-413.918\" stroke=\"black\"/>\n",
       "</g>\n",
       "<!-- 218 -->\n",
       "<g class=\"node\" id=\"node219\"><title>218</title>\n",
       "<polygon fill=\"#e8fce6\" points=\"13338,-425 13185,-425 13185,-342 13338,-342 13338,-425\" stroke=\"black\"/>\n",
       "<text font-family=\"Times New Roman,serif\" font-size=\"14.00\" text-anchor=\"middle\" x=\"13261.5\" y=\"-409.8\">Profession &lt;= 4.5</text>\n",
       "<text font-family=\"Times New Roman,serif\" font-size=\"14.00\" text-anchor=\"middle\" x=\"13261.5\" y=\"-394.8\">gini = 0.72</text>\n",
       "<text font-family=\"Times New Roman,serif\" font-size=\"14.00\" text-anchor=\"middle\" x=\"13261.5\" y=\"-379.8\">samples = 330</text>\n",
       "<text font-family=\"Times New Roman,serif\" font-size=\"14.00\" text-anchor=\"middle\" x=\"13261.5\" y=\"-364.8\">value = [92, 122, 72, 44]</text>\n",
       "<text font-family=\"Times New Roman,serif\" font-size=\"14.00\" text-anchor=\"middle\" x=\"13261.5\" y=\"-349.8\">class = B</text>\n",
       "</g>\n",
       "<!-- 202&#45;&gt;218 -->\n",
       "<g class=\"edge\" id=\"edge218\"><title>202-&gt;218</title>\n",
       "<path d=\"M13053.2,-467.972C13091.4,-452.659 13136.6,-434.535 13175.2,-419.094\" fill=\"none\" stroke=\"black\"/>\n",
       "<polygon fill=\"black\" points=\"13176.8,-422.198 13184.8,-415.23 13174.2,-415.7 13176.8,-422.198\" stroke=\"black\"/>\n",
       "</g>\n",
       "<!-- 204 -->\n",
       "<g class=\"node\" id=\"node205\"><title>204</title>\n",
       "<polygon fill=\"#fae6d8\" points=\"12308.5,-306 12168.5,-306 12168.5,-223 12308.5,-223 12308.5,-306\" stroke=\"black\"/>\n",
       "<text font-family=\"Times New Roman,serif\" font-size=\"14.00\" text-anchor=\"middle\" x=\"12238.5\" y=\"-290.8\">Family_Size &lt;= 1.0</text>\n",
       "<text font-family=\"Times New Roman,serif\" font-size=\"14.00\" text-anchor=\"middle\" x=\"12238.5\" y=\"-275.8\">gini = 0.666</text>\n",
       "<text font-family=\"Times New Roman,serif\" font-size=\"14.00\" text-anchor=\"middle\" x=\"12238.5\" y=\"-260.8\">samples = 81</text>\n",
       "<text font-family=\"Times New Roman,serif\" font-size=\"14.00\" text-anchor=\"middle\" x=\"12238.5\" y=\"-245.8\">value = [36, 16, 4, 25]</text>\n",
       "<text font-family=\"Times New Roman,serif\" font-size=\"14.00\" text-anchor=\"middle\" x=\"12238.5\" y=\"-230.8\">class = A</text>\n",
       "</g>\n",
       "<!-- 203&#45;&gt;204 -->\n",
       "<g class=\"edge\" id=\"edge204\"><title>203-&gt;204</title>\n",
       "<path d=\"M12600.2,-362.785C12522.3,-341.832 12399.5,-308.796 12318.9,-287.137\" fill=\"none\" stroke=\"black\"/>\n",
       "<polygon fill=\"black\" points=\"12319.4,-283.64 12308.9,-284.423 12317.6,-290.4 12319.4,-283.64\" stroke=\"black\"/>\n",
       "</g>\n",
       "<!-- 211 -->\n",
       "<g class=\"node\" id=\"node212\"><title>211</title>\n",
       "<polygon fill=\"#d1f8ce\" points=\"12743.5,-306 12603.5,-306 12603.5,-223 12743.5,-223 12743.5,-306\" stroke=\"black\"/>\n",
       "<text font-family=\"Times New Roman,serif\" font-size=\"14.00\" text-anchor=\"middle\" x=\"12673.5\" y=\"-290.8\">Family_Size &lt;= 5.5</text>\n",
       "<text font-family=\"Times New Roman,serif\" font-size=\"14.00\" text-anchor=\"middle\" x=\"12673.5\" y=\"-275.8\">gini = 0.683</text>\n",
       "<text font-family=\"Times New Roman,serif\" font-size=\"14.00\" text-anchor=\"middle\" x=\"12673.5\" y=\"-260.8\">samples = 123</text>\n",
       "<text font-family=\"Times New Roman,serif\" font-size=\"14.00\" text-anchor=\"middle\" x=\"12673.5\" y=\"-245.8\">value = [29, 54, 9, 31]</text>\n",
       "<text font-family=\"Times New Roman,serif\" font-size=\"14.00\" text-anchor=\"middle\" x=\"12673.5\" y=\"-230.8\">class = B</text>\n",
       "</g>\n",
       "<!-- 203&#45;&gt;211 -->\n",
       "<g class=\"edge\" id=\"edge211\"><title>203-&gt;211</title>\n",
       "<path d=\"M12673.5,-341.907C12673.5,-333.649 12673.5,-324.864 12673.5,-316.302\" fill=\"none\" stroke=\"black\"/>\n",
       "<polygon fill=\"black\" points=\"12677,-316.021 12673.5,-306.021 12670,-316.021 12677,-316.021\" stroke=\"black\"/>\n",
       "</g>\n",
       "<!-- 205 -->\n",
       "<g class=\"node\" id=\"node206\"><title>205</title>\n",
       "<polygon fill=\"#e47bee\" points=\"12088,-187 11929,-187 11929,-104 12088,-104 12088,-187\" stroke=\"black\"/>\n",
       "<text font-family=\"Times New Roman,serif\" font-size=\"14.00\" text-anchor=\"middle\" x=\"12008.5\" y=\"-171.8\">Work_Experience &lt;= 5.5</text>\n",
       "<text font-family=\"Times New Roman,serif\" font-size=\"14.00\" text-anchor=\"middle\" x=\"12008.5\" y=\"-156.8\">gini = 0.375</text>\n",
       "<text font-family=\"Times New Roman,serif\" font-size=\"14.00\" text-anchor=\"middle\" x=\"12008.5\" y=\"-141.8\">samples = 4</text>\n",
       "<text font-family=\"Times New Roman,serif\" font-size=\"14.00\" text-anchor=\"middle\" x=\"12008.5\" y=\"-126.8\">value = [0, 0, 1, 3]</text>\n",
       "<text font-family=\"Times New Roman,serif\" font-size=\"14.00\" text-anchor=\"middle\" x=\"12008.5\" y=\"-111.8\">class = D</text>\n",
       "</g>\n",
       "<!-- 204&#45;&gt;205 -->\n",
       "<g class=\"edge\" id=\"edge205\"><title>204-&gt;205</title>\n",
       "<path d=\"M12168.2,-227.76C12145.9,-216.379 12120.8,-203.635 12097.3,-191.677\" fill=\"none\" stroke=\"black\"/>\n",
       "<polygon fill=\"black\" points=\"12098.9,-188.551 12088.4,-187.136 12095.7,-194.79 12098.9,-188.551\" stroke=\"black\"/>\n",
       "</g>\n",
       "<!-- 208 -->\n",
       "<g class=\"node\" id=\"node209\"><title>208</title>\n",
       "<polygon fill=\"#f8dfcd\" points=\"12308.5,-187 12168.5,-187 12168.5,-104 12308.5,-104 12308.5,-187\" stroke=\"black\"/>\n",
       "<text font-family=\"Times New Roman,serif\" font-size=\"14.00\" text-anchor=\"middle\" x=\"12238.5\" y=\"-171.8\">Family_Size &lt;= 4.5</text>\n",
       "<text font-family=\"Times New Roman,serif\" font-size=\"14.00\" text-anchor=\"middle\" x=\"12238.5\" y=\"-156.8\">gini = 0.655</text>\n",
       "<text font-family=\"Times New Roman,serif\" font-size=\"14.00\" text-anchor=\"middle\" x=\"12238.5\" y=\"-141.8\">samples = 77</text>\n",
       "<text font-family=\"Times New Roman,serif\" font-size=\"14.00\" text-anchor=\"middle\" x=\"12238.5\" y=\"-126.8\">value = [36, 16, 3, 22]</text>\n",
       "<text font-family=\"Times New Roman,serif\" font-size=\"14.00\" text-anchor=\"middle\" x=\"12238.5\" y=\"-111.8\">class = A</text>\n",
       "</g>\n",
       "<!-- 204&#45;&gt;208 -->\n",
       "<g class=\"edge\" id=\"edge208\"><title>204-&gt;208</title>\n",
       "<path d=\"M12238.5,-222.907C12238.5,-214.649 12238.5,-205.864 12238.5,-197.302\" fill=\"none\" stroke=\"black\"/>\n",
       "<polygon fill=\"black\" points=\"12242,-197.021 12238.5,-187.021 12235,-197.021 12242,-197.021\" stroke=\"black\"/>\n",
       "</g>\n",
       "<!-- 206 -->\n",
       "<g class=\"node\" id=\"node207\"><title>206</title>\n",
       "<polygon fill=\"#d739e5\" points=\"11931,-68 11812,-68 11812,-0 11931,-0 11931,-68\" stroke=\"black\"/>\n",
       "<text font-family=\"Times New Roman,serif\" font-size=\"14.00\" text-anchor=\"middle\" x=\"11871.5\" y=\"-52.8\">gini = 0.0</text>\n",
       "<text font-family=\"Times New Roman,serif\" font-size=\"14.00\" text-anchor=\"middle\" x=\"11871.5\" y=\"-37.8\">samples = 3</text>\n",
       "<text font-family=\"Times New Roman,serif\" font-size=\"14.00\" text-anchor=\"middle\" x=\"11871.5\" y=\"-22.8\">value = [0, 0, 0, 3]</text>\n",
       "<text font-family=\"Times New Roman,serif\" font-size=\"14.00\" text-anchor=\"middle\" x=\"11871.5\" y=\"-7.8\">class = D</text>\n",
       "</g>\n",
       "<!-- 205&#45;&gt;206 -->\n",
       "<g class=\"edge\" id=\"edge206\"><title>205-&gt;206</title>\n",
       "<path d=\"M11957.5,-103.726C11945.6,-94.2406 11933,-84.1551 11921.2,-74.7159\" fill=\"none\" stroke=\"black\"/>\n",
       "<polygon fill=\"black\" points=\"11923.2,-71.8091 11913.2,-68.2996 11918.8,-77.2771 11923.2,-71.8091\" stroke=\"black\"/>\n",
       "</g>\n",
       "<!-- 207 -->\n",
       "<g class=\"node\" id=\"node208\"><title>207</title>\n",
       "<polygon fill=\"#399de5\" points=\"12068,-68 11949,-68 11949,-0 12068,-0 12068,-68\" stroke=\"black\"/>\n",
       "<text font-family=\"Times New Roman,serif\" font-size=\"14.00\" text-anchor=\"middle\" x=\"12008.5\" y=\"-52.8\">gini = 0.0</text>\n",
       "<text font-family=\"Times New Roman,serif\" font-size=\"14.00\" text-anchor=\"middle\" x=\"12008.5\" y=\"-37.8\">samples = 1</text>\n",
       "<text font-family=\"Times New Roman,serif\" font-size=\"14.00\" text-anchor=\"middle\" x=\"12008.5\" y=\"-22.8\">value = [0, 0, 1, 0]</text>\n",
       "<text font-family=\"Times New Roman,serif\" font-size=\"14.00\" text-anchor=\"middle\" x=\"12008.5\" y=\"-7.8\">class = C</text>\n",
       "</g>\n",
       "<!-- 205&#45;&gt;207 -->\n",
       "<g class=\"edge\" id=\"edge207\"><title>205-&gt;207</title>\n",
       "<path d=\"M12008.5,-103.726C12008.5,-95.5175 12008.5,-86.8595 12008.5,-78.56\" fill=\"none\" stroke=\"black\"/>\n",
       "<polygon fill=\"black\" points=\"12012,-78.2996 12008.5,-68.2996 12005,-78.2996 12012,-78.2996\" stroke=\"black\"/>\n",
       "</g>\n",
       "<!-- 209 -->\n",
       "<g class=\"node\" id=\"node210\"><title>209</title>\n",
       "<polygon fill=\"#f4caac\" points=\"12219,-68 12086,-68 12086,-0 12219,-0 12219,-68\" stroke=\"black\"/>\n",
       "<text font-family=\"Times New Roman,serif\" font-size=\"14.00\" text-anchor=\"middle\" x=\"12152.5\" y=\"-52.8\">gini = 0.606</text>\n",
       "<text font-family=\"Times New Roman,serif\" font-size=\"14.00\" text-anchor=\"middle\" x=\"12152.5\" y=\"-37.8\">samples = 50</text>\n",
       "<text font-family=\"Times New Roman,serif\" font-size=\"14.00\" text-anchor=\"middle\" x=\"12152.5\" y=\"-22.8\">value = [28, 7, 3, 12]</text>\n",
       "<text font-family=\"Times New Roman,serif\" font-size=\"14.00\" text-anchor=\"middle\" x=\"12152.5\" y=\"-7.8\">class = A</text>\n",
       "</g>\n",
       "<!-- 208&#45;&gt;209 -->\n",
       "<g class=\"edge\" id=\"edge209\"><title>208-&gt;209</title>\n",
       "<path d=\"M12206.5,-103.726C12199.5,-94.7878 12192,-85.3168 12185,-76.3558\" fill=\"none\" stroke=\"black\"/>\n",
       "<polygon fill=\"black\" points=\"12187.6,-74.0022 12178.7,-68.2996 12182.1,-78.3259 12187.6,-74.0022\" stroke=\"black\"/>\n",
       "</g>\n",
       "<!-- 210 -->\n",
       "<g class=\"node\" id=\"node211\"><title>210</title>\n",
       "<polygon fill=\"#fdf4fe\" points=\"12363.5,-68 12237.5,-68 12237.5,-0 12363.5,-0 12363.5,-68\" stroke=\"black\"/>\n",
       "<text font-family=\"Times New Roman,serif\" font-size=\"14.00\" text-anchor=\"middle\" x=\"12300.5\" y=\"-52.8\">gini = 0.664</text>\n",
       "<text font-family=\"Times New Roman,serif\" font-size=\"14.00\" text-anchor=\"middle\" x=\"12300.5\" y=\"-37.8\">samples = 27</text>\n",
       "<text font-family=\"Times New Roman,serif\" font-size=\"14.00\" text-anchor=\"middle\" x=\"12300.5\" y=\"-22.8\">value = [8, 9, 0, 10]</text>\n",
       "<text font-family=\"Times New Roman,serif\" font-size=\"14.00\" text-anchor=\"middle\" x=\"12300.5\" y=\"-7.8\">class = D</text>\n",
       "</g>\n",
       "<!-- 208&#45;&gt;210 -->\n",
       "<g class=\"edge\" id=\"edge210\"><title>208-&gt;210</title>\n",
       "<path d=\"M12261.6,-103.726C12266.5,-95.0615 12271.7,-85.8962 12276.6,-77.1802\" fill=\"none\" stroke=\"black\"/>\n",
       "<polygon fill=\"black\" points=\"12279.8,-78.726 12281.6,-68.2996 12273.7,-75.277 12279.8,-78.726\" stroke=\"black\"/>\n",
       "</g>\n",
       "<!-- 212 -->\n",
       "<g class=\"node\" id=\"node213\"><title>212</title>\n",
       "<polygon fill=\"#c2f6be\" points=\"12667.5,-187 12527.5,-187 12527.5,-104 12667.5,-104 12667.5,-187\" stroke=\"black\"/>\n",
       "<text font-family=\"Times New Roman,serif\" font-size=\"14.00\" text-anchor=\"middle\" x=\"12597.5\" y=\"-171.8\">Family_Size &lt;= 3.5</text>\n",
       "<text font-family=\"Times New Roman,serif\" font-size=\"14.00\" text-anchor=\"middle\" x=\"12597.5\" y=\"-156.8\">gini = 0.661</text>\n",
       "<text font-family=\"Times New Roman,serif\" font-size=\"14.00\" text-anchor=\"middle\" x=\"12597.5\" y=\"-141.8\">samples = 104</text>\n",
       "<text font-family=\"Times New Roman,serif\" font-size=\"14.00\" text-anchor=\"middle\" x=\"12597.5\" y=\"-126.8\">value = [19, 51, 9, 25]</text>\n",
       "<text font-family=\"Times New Roman,serif\" font-size=\"14.00\" text-anchor=\"middle\" x=\"12597.5\" y=\"-111.8\">class = B</text>\n",
       "</g>\n",
       "<!-- 211&#45;&gt;212 -->\n",
       "<g class=\"edge\" id=\"edge212\"><title>211-&gt;212</title>\n",
       "<path d=\"M12647.1,-222.907C12641.4,-214.105 12635.3,-204.703 12629.4,-195.612\" fill=\"none\" stroke=\"black\"/>\n",
       "<polygon fill=\"black\" points=\"12632.2,-193.5 12623.8,-187.021 12626.3,-197.313 12632.2,-193.5\" stroke=\"black\"/>\n",
       "</g>\n",
       "<!-- 215 -->\n",
       "<g class=\"node\" id=\"node216\"><title>215</title>\n",
       "<polygon fill=\"#f7d8c2\" points=\"12811.5,-187 12685.5,-187 12685.5,-104 12811.5,-104 12811.5,-187\" stroke=\"black\"/>\n",
       "<text font-family=\"Times New Roman,serif\" font-size=\"14.00\" text-anchor=\"middle\" x=\"12748.5\" y=\"-171.8\">Var_1 &lt;= 2.5</text>\n",
       "<text font-family=\"Times New Roman,serif\" font-size=\"14.00\" text-anchor=\"middle\" x=\"12748.5\" y=\"-156.8\">gini = 0.598</text>\n",
       "<text font-family=\"Times New Roman,serif\" font-size=\"14.00\" text-anchor=\"middle\" x=\"12748.5\" y=\"-141.8\">samples = 19</text>\n",
       "<text font-family=\"Times New Roman,serif\" font-size=\"14.00\" text-anchor=\"middle\" x=\"12748.5\" y=\"-126.8\">value = [10, 3, 0, 6]</text>\n",
       "<text font-family=\"Times New Roman,serif\" font-size=\"14.00\" text-anchor=\"middle\" x=\"12748.5\" y=\"-111.8\">class = A</text>\n",
       "</g>\n",
       "<!-- 211&#45;&gt;215 -->\n",
       "<g class=\"edge\" id=\"edge215\"><title>211-&gt;215</title>\n",
       "<path d=\"M12699.5,-222.907C12705.2,-214.105 12711.2,-204.703 12717,-195.612\" fill=\"none\" stroke=\"black\"/>\n",
       "<polygon fill=\"black\" points=\"12720.1,-197.328 12722.5,-187.021 12714.2,-193.551 12720.1,-197.328\" stroke=\"black\"/>\n",
       "</g>\n",
       "<!-- 213 -->\n",
       "<g class=\"node\" id=\"node214\"><title>213</title>\n",
       "<polygon fill=\"#f2fdf1\" points=\"12521.5,-68 12381.5,-68 12381.5,-0 12521.5,-0 12521.5,-68\" stroke=\"black\"/>\n",
       "<text font-family=\"Times New Roman,serif\" font-size=\"14.00\" text-anchor=\"middle\" x=\"12451.5\" y=\"-52.8\">gini = 0.718</text>\n",
       "<text font-family=\"Times New Roman,serif\" font-size=\"14.00\" text-anchor=\"middle\" x=\"12451.5\" y=\"-37.8\">samples = 59</text>\n",
       "<text font-family=\"Times New Roman,serif\" font-size=\"14.00\" text-anchor=\"middle\" x=\"12451.5\" y=\"-22.8\">value = [16, 20, 6, 17]</text>\n",
       "<text font-family=\"Times New Roman,serif\" font-size=\"14.00\" text-anchor=\"middle\" x=\"12451.5\" y=\"-7.8\">class = B</text>\n",
       "</g>\n",
       "<!-- 212&#45;&gt;213 -->\n",
       "<g class=\"edge\" id=\"edge213\"><title>212-&gt;213</title>\n",
       "<path d=\"M12543.1,-103.726C12530.4,-94.1494 12516.8,-83.9611 12504.1,-74.4438\" fill=\"none\" stroke=\"black\"/>\n",
       "<polygon fill=\"black\" points=\"12506,-71.4996 12495.9,-68.2996 12501.8,-77.0996 12506,-71.4996\" stroke=\"black\"/>\n",
       "</g>\n",
       "<!-- 214 -->\n",
       "<g class=\"node\" id=\"node215\"><title>214</title>\n",
       "<polygon fill=\"#8def84\" points=\"12665.5,-68 12539.5,-68 12539.5,-0 12665.5,-0 12665.5,-68\" stroke=\"black\"/>\n",
       "<text font-family=\"Times New Roman,serif\" font-size=\"14.00\" text-anchor=\"middle\" x=\"12602.5\" y=\"-52.8\">gini = 0.485</text>\n",
       "<text font-family=\"Times New Roman,serif\" font-size=\"14.00\" text-anchor=\"middle\" x=\"12602.5\" y=\"-37.8\">samples = 45</text>\n",
       "<text font-family=\"Times New Roman,serif\" font-size=\"14.00\" text-anchor=\"middle\" x=\"12602.5\" y=\"-22.8\">value = [3, 31, 3, 8]</text>\n",
       "<text font-family=\"Times New Roman,serif\" font-size=\"14.00\" text-anchor=\"middle\" x=\"12602.5\" y=\"-7.8\">class = B</text>\n",
       "</g>\n",
       "<!-- 212&#45;&gt;214 -->\n",
       "<g class=\"edge\" id=\"edge214\"><title>212-&gt;214</title>\n",
       "<path d=\"M12599.4,-103.726C12599.7,-95.5175 12600.1,-86.8595 12600.5,-78.56\" fill=\"none\" stroke=\"black\"/>\n",
       "<polygon fill=\"black\" points=\"12604,-78.4489 12601,-68.2996 12597,-78.1295 12604,-78.4489\" stroke=\"black\"/>\n",
       "</g>\n",
       "<!-- 216 -->\n",
       "<g class=\"node\" id=\"node217\"><title>216</title>\n",
       "<polygon fill=\"#eb9cf2\" points=\"12803,-68 12684,-68 12684,-0 12803,-0 12803,-68\" stroke=\"black\"/>\n",
       "<text font-family=\"Times New Roman,serif\" font-size=\"14.00\" text-anchor=\"middle\" x=\"12743.5\" y=\"-52.8\">gini = 0.56</text>\n",
       "<text font-family=\"Times New Roman,serif\" font-size=\"14.00\" text-anchor=\"middle\" x=\"12743.5\" y=\"-37.8\">samples = 5</text>\n",
       "<text font-family=\"Times New Roman,serif\" font-size=\"14.00\" text-anchor=\"middle\" x=\"12743.5\" y=\"-22.8\">value = [1, 1, 0, 3]</text>\n",
       "<text font-family=\"Times New Roman,serif\" font-size=\"14.00\" text-anchor=\"middle\" x=\"12743.5\" y=\"-7.8\">class = D</text>\n",
       "</g>\n",
       "<!-- 215&#45;&gt;216 -->\n",
       "<g class=\"edge\" id=\"edge216\"><title>215-&gt;216</title>\n",
       "<path d=\"M12746.6,-103.726C12746.3,-95.5175 12745.9,-86.8595 12745.5,-78.56\" fill=\"none\" stroke=\"black\"/>\n",
       "<polygon fill=\"black\" points=\"12749,-78.1295 12745,-68.2996 12742,-78.4489 12749,-78.1295\" stroke=\"black\"/>\n",
       "</g>\n",
       "<!-- 217 -->\n",
       "<g class=\"node\" id=\"node218\"><title>217</title>\n",
       "<polygon fill=\"#f1ba93\" points=\"12940,-68 12821,-68 12821,-0 12940,-0 12940,-68\" stroke=\"black\"/>\n",
       "<text font-family=\"Times New Roman,serif\" font-size=\"14.00\" text-anchor=\"middle\" x=\"12880.5\" y=\"-52.8\">gini = 0.52</text>\n",
       "<text font-family=\"Times New Roman,serif\" font-size=\"14.00\" text-anchor=\"middle\" x=\"12880.5\" y=\"-37.8\">samples = 14</text>\n",
       "<text font-family=\"Times New Roman,serif\" font-size=\"14.00\" text-anchor=\"middle\" x=\"12880.5\" y=\"-22.8\">value = [9, 2, 0, 3]</text>\n",
       "<text font-family=\"Times New Roman,serif\" font-size=\"14.00\" text-anchor=\"middle\" x=\"12880.5\" y=\"-7.8\">class = A</text>\n",
       "</g>\n",
       "<!-- 215&#45;&gt;217 -->\n",
       "<g class=\"edge\" id=\"edge217\"><title>215-&gt;217</title>\n",
       "<path d=\"M12797.7,-103.726C12809.1,-94.2406 12821.2,-84.1551 12832.6,-74.7159\" fill=\"none\" stroke=\"black\"/>\n",
       "<polygon fill=\"black\" points=\"12834.9,-77.3781 12840.4,-68.2996 12830.4,-71.9905 12834.9,-77.3781\" stroke=\"black\"/>\n",
       "</g>\n",
       "<!-- 219 -->\n",
       "<g class=\"node\" id=\"node220\"><title>219</title>\n",
       "<polygon fill=\"#dbfad8\" points=\"13334.5,-306 13188.5,-306 13188.5,-223 13334.5,-223 13334.5,-306\" stroke=\"black\"/>\n",
       "<text font-family=\"Times New Roman,serif\" font-size=\"14.00\" text-anchor=\"middle\" x=\"13261.5\" y=\"-290.8\">Age &lt;= 83.5</text>\n",
       "<text font-family=\"Times New Roman,serif\" font-size=\"14.00\" text-anchor=\"middle\" x=\"13261.5\" y=\"-275.8\">gini = 0.703</text>\n",
       "<text font-family=\"Times New Roman,serif\" font-size=\"14.00\" text-anchor=\"middle\" x=\"13261.5\" y=\"-260.8\">samples = 213</text>\n",
       "<text font-family=\"Times New Roman,serif\" font-size=\"14.00\" text-anchor=\"middle\" x=\"13261.5\" y=\"-245.8\">value = [48, 87, 56, 22]</text>\n",
       "<text font-family=\"Times New Roman,serif\" font-size=\"14.00\" text-anchor=\"middle\" x=\"13261.5\" y=\"-230.8\">class = B</text>\n",
       "</g>\n",
       "<!-- 218&#45;&gt;219 -->\n",
       "<g class=\"edge\" id=\"edge219\"><title>218-&gt;219</title>\n",
       "<path d=\"M13261.5,-341.907C13261.5,-333.649 13261.5,-324.864 13261.5,-316.302\" fill=\"none\" stroke=\"black\"/>\n",
       "<polygon fill=\"black\" points=\"13265,-316.021 13261.5,-306.021 13258,-316.021 13265,-316.021\" stroke=\"black\"/>\n",
       "</g>\n",
       "<!-- 226 -->\n",
       "<g class=\"node\" id=\"node227\"><title>226</title>\n",
       "<polygon fill=\"#fcf1e9\" points=\"13749.5,-306 13603.5,-306 13603.5,-223 13749.5,-223 13749.5,-306\" stroke=\"black\"/>\n",
       "<text font-family=\"Times New Roman,serif\" font-size=\"14.00\" text-anchor=\"middle\" x=\"13676.5\" y=\"-290.8\">Age &lt;= 75.5</text>\n",
       "<text font-family=\"Times New Roman,serif\" font-size=\"14.00\" text-anchor=\"middle\" x=\"13676.5\" y=\"-275.8\">gini = 0.715</text>\n",
       "<text font-family=\"Times New Roman,serif\" font-size=\"14.00\" text-anchor=\"middle\" x=\"13676.5\" y=\"-260.8\">samples = 117</text>\n",
       "<text font-family=\"Times New Roman,serif\" font-size=\"14.00\" text-anchor=\"middle\" x=\"13676.5\" y=\"-245.8\">value = [44, 35, 16, 22]</text>\n",
       "<text font-family=\"Times New Roman,serif\" font-size=\"14.00\" text-anchor=\"middle\" x=\"13676.5\" y=\"-230.8\">class = A</text>\n",
       "</g>\n",
       "<!-- 218&#45;&gt;226 -->\n",
       "<g class=\"edge\" id=\"edge226\"><title>218-&gt;226</title>\n",
       "<path d=\"M13338.1,-360.904C13410.6,-340.462 13519.2,-309.858 13593.7,-288.856\" fill=\"none\" stroke=\"black\"/>\n",
       "<polygon fill=\"black\" points=\"13594.8,-292.169 13603.5,-286.087 13592.9,-285.432 13594.8,-292.169\" stroke=\"black\"/>\n",
       "</g>\n",
       "<!-- 220 -->\n",
       "<g class=\"node\" id=\"node221\"><title>220</title>\n",
       "<polygon fill=\"#d9fad6\" points=\"13258.5,-187 13112.5,-187 13112.5,-104 13258.5,-104 13258.5,-187\" stroke=\"black\"/>\n",
       "<text font-family=\"Times New Roman,serif\" font-size=\"14.00\" text-anchor=\"middle\" x=\"13185.5\" y=\"-171.8\">Age &lt;= 41.5</text>\n",
       "<text font-family=\"Times New Roman,serif\" font-size=\"14.00\" text-anchor=\"middle\" x=\"13185.5\" y=\"-156.8\">gini = 0.694</text>\n",
       "<text font-family=\"Times New Roman,serif\" font-size=\"14.00\" text-anchor=\"middle\" x=\"13185.5\" y=\"-141.8\">samples = 206</text>\n",
       "<text font-family=\"Times New Roman,serif\" font-size=\"14.00\" text-anchor=\"middle\" x=\"13185.5\" y=\"-126.8\">value = [44, 87, 56, 19]</text>\n",
       "<text font-family=\"Times New Roman,serif\" font-size=\"14.00\" text-anchor=\"middle\" x=\"13185.5\" y=\"-111.8\">class = B</text>\n",
       "</g>\n",
       "<!-- 219&#45;&gt;220 -->\n",
       "<g class=\"edge\" id=\"edge220\"><title>219-&gt;220</title>\n",
       "<path d=\"M13235.1,-222.907C13229.4,-214.105 13223.3,-204.703 13217.4,-195.612\" fill=\"none\" stroke=\"black\"/>\n",
       "<polygon fill=\"black\" points=\"13220.2,-193.5 13211.8,-187.021 13214.3,-197.313 13220.2,-193.5\" stroke=\"black\"/>\n",
       "</g>\n",
       "<!-- 223 -->\n",
       "<g class=\"node\" id=\"node224\"><title>223</title>\n",
       "<polygon fill=\"#f8e0ce\" points=\"13396,-187 13277,-187 13277,-104 13396,-104 13396,-187\" stroke=\"black\"/>\n",
       "<text font-family=\"Times New Roman,serif\" font-size=\"14.00\" text-anchor=\"middle\" x=\"13336.5\" y=\"-171.8\">Age &lt;= 85.5</text>\n",
       "<text font-family=\"Times New Roman,serif\" font-size=\"14.00\" text-anchor=\"middle\" x=\"13336.5\" y=\"-156.8\">gini = 0.49</text>\n",
       "<text font-family=\"Times New Roman,serif\" font-size=\"14.00\" text-anchor=\"middle\" x=\"13336.5\" y=\"-141.8\">samples = 7</text>\n",
       "<text font-family=\"Times New Roman,serif\" font-size=\"14.00\" text-anchor=\"middle\" x=\"13336.5\" y=\"-126.8\">value = [4, 0, 0, 3]</text>\n",
       "<text font-family=\"Times New Roman,serif\" font-size=\"14.00\" text-anchor=\"middle\" x=\"13336.5\" y=\"-111.8\">class = A</text>\n",
       "</g>\n",
       "<!-- 219&#45;&gt;223 -->\n",
       "<g class=\"edge\" id=\"edge223\"><title>219-&gt;223</title>\n",
       "<path d=\"M13287.5,-222.907C13293.2,-214.105 13299.2,-204.703 13305,-195.612\" fill=\"none\" stroke=\"black\"/>\n",
       "<polygon fill=\"black\" points=\"13308.1,-197.328 13310.5,-187.021 13302.2,-193.551 13308.1,-197.328\" stroke=\"black\"/>\n",
       "</g>\n",
       "<!-- 221 -->\n",
       "<g class=\"node\" id=\"node222\"><title>221</title>\n",
       "<polygon fill=\"#fefbf9\" points=\"13098.5,-68 12958.5,-68 12958.5,-0 13098.5,-0 13098.5,-68\" stroke=\"black\"/>\n",
       "<text font-family=\"Times New Roman,serif\" font-size=\"14.00\" text-anchor=\"middle\" x=\"13028.5\" y=\"-52.8\">gini = 0.727</text>\n",
       "<text font-family=\"Times New Roman,serif\" font-size=\"14.00\" text-anchor=\"middle\" x=\"13028.5\" y=\"-37.8\">samples = 48</text>\n",
       "<text font-family=\"Times New Roman,serif\" font-size=\"14.00\" text-anchor=\"middle\" x=\"13028.5\" y=\"-22.8\">value = [16, 15, 7, 10]</text>\n",
       "<text font-family=\"Times New Roman,serif\" font-size=\"14.00\" text-anchor=\"middle\" x=\"13028.5\" y=\"-7.8\">class = A</text>\n",
       "</g>\n",
       "<!-- 220&#45;&gt;221 -->\n",
       "<g class=\"edge\" id=\"edge221\"><title>220-&gt;221</title>\n",
       "<path d=\"M13127,-103.726C13113.2,-94.0582 13098.4,-83.767 13084.7,-74.172\" fill=\"none\" stroke=\"black\"/>\n",
       "<polygon fill=\"black\" points=\"13086.4,-71.1495 13076.2,-68.2996 13082.4,-76.891 13086.4,-71.1495\" stroke=\"black\"/>\n",
       "</g>\n",
       "<!-- 222 -->\n",
       "<g class=\"node\" id=\"node223\"><title>222</title>\n",
       "<polygon fill=\"#d8fad5\" points=\"13256.5,-68 13116.5,-68 13116.5,-0 13256.5,-0 13256.5,-68\" stroke=\"black\"/>\n",
       "<text font-family=\"Times New Roman,serif\" font-size=\"14.00\" text-anchor=\"middle\" x=\"13186.5\" y=\"-52.8\">gini = 0.662</text>\n",
       "<text font-family=\"Times New Roman,serif\" font-size=\"14.00\" text-anchor=\"middle\" x=\"13186.5\" y=\"-37.8\">samples = 158</text>\n",
       "<text font-family=\"Times New Roman,serif\" font-size=\"14.00\" text-anchor=\"middle\" x=\"13186.5\" y=\"-22.8\">value = [28, 72, 49, 9]</text>\n",
       "<text font-family=\"Times New Roman,serif\" font-size=\"14.00\" text-anchor=\"middle\" x=\"13186.5\" y=\"-7.8\">class = B</text>\n",
       "</g>\n",
       "<!-- 220&#45;&gt;222 -->\n",
       "<g class=\"edge\" id=\"edge222\"><title>220-&gt;222</title>\n",
       "<path d=\"M13185.9,-103.726C13185.9,-95.5175 13186,-86.8595 13186.1,-78.56\" fill=\"none\" stroke=\"black\"/>\n",
       "<polygon fill=\"black\" points=\"13189.6,-78.3312 13186.2,-68.2996 13182.6,-78.2672 13189.6,-78.3312\" stroke=\"black\"/>\n",
       "</g>\n",
       "<!-- 224 -->\n",
       "<g class=\"node\" id=\"node225\"><title>224</title>\n",
       "<polygon fill=\"#d739e5\" points=\"13394,-68 13275,-68 13275,-0 13394,-0 13394,-68\" stroke=\"black\"/>\n",
       "<text font-family=\"Times New Roman,serif\" font-size=\"14.00\" text-anchor=\"middle\" x=\"13334.5\" y=\"-52.8\">gini = 0.0</text>\n",
       "<text font-family=\"Times New Roman,serif\" font-size=\"14.00\" text-anchor=\"middle\" x=\"13334.5\" y=\"-37.8\">samples = 2</text>\n",
       "<text font-family=\"Times New Roman,serif\" font-size=\"14.00\" text-anchor=\"middle\" x=\"13334.5\" y=\"-22.8\">value = [0, 0, 0, 2]</text>\n",
       "<text font-family=\"Times New Roman,serif\" font-size=\"14.00\" text-anchor=\"middle\" x=\"13334.5\" y=\"-7.8\">class = D</text>\n",
       "</g>\n",
       "<!-- 223&#45;&gt;224 -->\n",
       "<g class=\"edge\" id=\"edge224\"><title>223-&gt;224</title>\n",
       "<path d=\"M13335.8,-103.726C13335.6,-95.5175 13335.4,-86.8595 13335.3,-78.56\" fill=\"none\" stroke=\"black\"/>\n",
       "<polygon fill=\"black\" points=\"13338.8,-78.234 13335.1,-68.2996 13331.8,-78.3619 13338.8,-78.234\" stroke=\"black\"/>\n",
       "</g>\n",
       "<!-- 225 -->\n",
       "<g class=\"node\" id=\"node226\"><title>225</title>\n",
       "<polygon fill=\"#eca06a\" points=\"13531,-68 13412,-68 13412,-0 13531,-0 13531,-68\" stroke=\"black\"/>\n",
       "<text font-family=\"Times New Roman,serif\" font-size=\"14.00\" text-anchor=\"middle\" x=\"13471.5\" y=\"-52.8\">gini = 0.32</text>\n",
       "<text font-family=\"Times New Roman,serif\" font-size=\"14.00\" text-anchor=\"middle\" x=\"13471.5\" y=\"-37.8\">samples = 5</text>\n",
       "<text font-family=\"Times New Roman,serif\" font-size=\"14.00\" text-anchor=\"middle\" x=\"13471.5\" y=\"-22.8\">value = [4, 0, 0, 1]</text>\n",
       "<text font-family=\"Times New Roman,serif\" font-size=\"14.00\" text-anchor=\"middle\" x=\"13471.5\" y=\"-7.8\">class = A</text>\n",
       "</g>\n",
       "<!-- 223&#45;&gt;225 -->\n",
       "<g class=\"edge\" id=\"edge225\"><title>223-&gt;225</title>\n",
       "<path d=\"M13386.8,-103.726C13398.5,-94.2406 13410.9,-84.1551 13422.5,-74.7159\" fill=\"none\" stroke=\"black\"/>\n",
       "<polygon fill=\"black\" points=\"13424.9,-77.3173 13430.4,-68.2996 13420.5,-71.8808 13424.9,-77.3173\" stroke=\"black\"/>\n",
       "</g>\n",
       "<!-- 227 -->\n",
       "<g class=\"node\" id=\"node228\"><title>227</title>\n",
       "<polygon fill=\"#fefcfa\" points=\"13752,-187 13601,-187 13601,-104 13752,-104 13752,-187\" stroke=\"black\"/>\n",
       "<text font-family=\"Times New Roman,serif\" font-size=\"14.00\" text-anchor=\"middle\" x=\"13676.5\" y=\"-171.8\">Spending_Score &lt;= 0.5</text>\n",
       "<text font-family=\"Times New Roman,serif\" font-size=\"14.00\" text-anchor=\"middle\" x=\"13676.5\" y=\"-156.8\">gini = 0.743</text>\n",
       "<text font-family=\"Times New Roman,serif\" font-size=\"14.00\" text-anchor=\"middle\" x=\"13676.5\" y=\"-141.8\">samples = 56</text>\n",
       "<text font-family=\"Times New Roman,serif\" font-size=\"14.00\" text-anchor=\"middle\" x=\"13676.5\" y=\"-126.8\">value = [16, 15, 10, 15]</text>\n",
       "<text font-family=\"Times New Roman,serif\" font-size=\"14.00\" text-anchor=\"middle\" x=\"13676.5\" y=\"-111.8\">class = A</text>\n",
       "</g>\n",
       "<!-- 226&#45;&gt;227 -->\n",
       "<g class=\"edge\" id=\"edge227\"><title>226-&gt;227</title>\n",
       "<path d=\"M13676.5,-222.907C13676.5,-214.649 13676.5,-205.864 13676.5,-197.302\" fill=\"none\" stroke=\"black\"/>\n",
       "<polygon fill=\"black\" points=\"13680,-197.021 13676.5,-187.021 13673,-197.021 13680,-197.021\" stroke=\"black\"/>\n",
       "</g>\n",
       "<!-- 230 -->\n",
       "<g class=\"node\" id=\"node231\"><title>230</title>\n",
       "<polygon fill=\"#fae6d8\" points=\"13970,-187 13837,-187 13837,-104 13970,-104 13970,-187\" stroke=\"black\"/>\n",
       "<text font-family=\"Times New Roman,serif\" font-size=\"14.00\" text-anchor=\"middle\" x=\"13903.5\" y=\"-171.8\">Gender &lt;= 0.5</text>\n",
       "<text font-family=\"Times New Roman,serif\" font-size=\"14.00\" text-anchor=\"middle\" x=\"13903.5\" y=\"-156.8\">gini = 0.659</text>\n",
       "<text font-family=\"Times New Roman,serif\" font-size=\"14.00\" text-anchor=\"middle\" x=\"13903.5\" y=\"-141.8\">samples = 61</text>\n",
       "<text font-family=\"Times New Roman,serif\" font-size=\"14.00\" text-anchor=\"middle\" x=\"13903.5\" y=\"-126.8\">value = [28, 20, 6, 7]</text>\n",
       "<text font-family=\"Times New Roman,serif\" font-size=\"14.00\" text-anchor=\"middle\" x=\"13903.5\" y=\"-111.8\">class = A</text>\n",
       "</g>\n",
       "<!-- 226&#45;&gt;230 -->\n",
       "<g class=\"edge\" id=\"edge230\"><title>226-&gt;230</title>\n",
       "<path d=\"M13749.6,-225.836C13774.5,-212.985 13802.4,-198.591 13827.6,-185.628\" fill=\"none\" stroke=\"black\"/>\n",
       "<polygon fill=\"black\" points=\"13829.4,-188.614 13836.7,-180.922 13826.2,-182.392 13829.4,-188.614\" stroke=\"black\"/>\n",
       "</g>\n",
       "<!-- 228 -->\n",
       "<g class=\"node\" id=\"node229\"><title>228</title>\n",
       "<polygon fill=\"#ffffff\" points=\"13668,-68 13549,-68 13549,-0 13668,-0 13668,-68\" stroke=\"black\"/>\n",
       "<text font-family=\"Times New Roman,serif\" font-size=\"14.00\" text-anchor=\"middle\" x=\"13608.5\" y=\"-52.8\">gini = 0.622</text>\n",
       "<text font-family=\"Times New Roman,serif\" font-size=\"14.00\" text-anchor=\"middle\" x=\"13608.5\" y=\"-37.8\">samples = 14</text>\n",
       "<text font-family=\"Times New Roman,serif\" font-size=\"14.00\" text-anchor=\"middle\" x=\"13608.5\" y=\"-22.8\">value = [6, 1, 1, 6]</text>\n",
       "<text font-family=\"Times New Roman,serif\" font-size=\"14.00\" text-anchor=\"middle\" x=\"13608.5\" y=\"-7.8\">class = A</text>\n",
       "</g>\n",
       "<!-- 227&#45;&gt;228 -->\n",
       "<g class=\"edge\" id=\"edge228\"><title>227-&gt;228</title>\n",
       "<path d=\"M13651.2,-103.726C13645.7,-94.9703 13640,-85.7032 13634.5,-76.9051\" fill=\"none\" stroke=\"black\"/>\n",
       "<polygon fill=\"black\" points=\"13637.4,-74.9484 13629.2,-68.2996 13631.5,-78.6413 13637.4,-74.9484\" stroke=\"black\"/>\n",
       "</g>\n",
       "<!-- 229 -->\n",
       "<g class=\"node\" id=\"node230\"><title>229</title>\n",
       "<polygon fill=\"#e8fce6\" points=\"13819,-68 13686,-68 13686,-0 13819,-0 13819,-68\" stroke=\"black\"/>\n",
       "<text font-family=\"Times New Roman,serif\" font-size=\"14.00\" text-anchor=\"middle\" x=\"13752.5\" y=\"-52.8\">gini = 0.74</text>\n",
       "<text font-family=\"Times New Roman,serif\" font-size=\"14.00\" text-anchor=\"middle\" x=\"13752.5\" y=\"-37.8\">samples = 42</text>\n",
       "<text font-family=\"Times New Roman,serif\" font-size=\"14.00\" text-anchor=\"middle\" x=\"13752.5\" y=\"-22.8\">value = [10, 14, 9, 9]</text>\n",
       "<text font-family=\"Times New Roman,serif\" font-size=\"14.00\" text-anchor=\"middle\" x=\"13752.5\" y=\"-7.8\">class = B</text>\n",
       "</g>\n",
       "<!-- 227&#45;&gt;229 -->\n",
       "<g class=\"edge\" id=\"edge229\"><title>227-&gt;229</title>\n",
       "<path d=\"M13704.8,-103.726C13710.9,-94.879 13717.4,-85.51 13723.6,-76.6303\" fill=\"none\" stroke=\"black\"/>\n",
       "<polygon fill=\"black\" points=\"13726.6,-78.5104 13729.4,-68.2996 13720.8,-74.5191 13726.6,-78.5104\" stroke=\"black\"/>\n",
       "</g>\n",
       "<!-- 231 -->\n",
       "<g class=\"node\" id=\"node232\"><title>231</title>\n",
       "<polygon fill=\"#f8fef7\" points=\"13970,-68 13837,-68 13837,-0 13970,-0 13970,-68\" stroke=\"black\"/>\n",
       "<text font-family=\"Times New Roman,serif\" font-size=\"14.00\" text-anchor=\"middle\" x=\"13903.5\" y=\"-52.8\">gini = 0.671</text>\n",
       "<text font-family=\"Times New Roman,serif\" font-size=\"14.00\" text-anchor=\"middle\" x=\"13903.5\" y=\"-37.8\">samples = 40</text>\n",
       "<text font-family=\"Times New Roman,serif\" font-size=\"14.00\" text-anchor=\"middle\" x=\"13903.5\" y=\"-22.8\">value = [15, 16, 3, 6]</text>\n",
       "<text font-family=\"Times New Roman,serif\" font-size=\"14.00\" text-anchor=\"middle\" x=\"13903.5\" y=\"-7.8\">class = B</text>\n",
       "</g>\n",
       "<!-- 230&#45;&gt;231 -->\n",
       "<g class=\"edge\" id=\"edge231\"><title>230-&gt;231</title>\n",
       "<path d=\"M13903.5,-103.726C13903.5,-95.5175 13903.5,-86.8595 13903.5,-78.56\" fill=\"none\" stroke=\"black\"/>\n",
       "<polygon fill=\"black\" points=\"13907,-78.2996 13903.5,-68.2996 13900,-78.2996 13907,-78.2996\" stroke=\"black\"/>\n",
       "</g>\n",
       "<!-- 232 -->\n",
       "<g class=\"node\" id=\"node233\"><title>232</title>\n",
       "<polygon fill=\"#f1bc96\" points=\"14114.5,-68 13988.5,-68 13988.5,-0 14114.5,-0 14114.5,-68\" stroke=\"black\"/>\n",
       "<text font-family=\"Times New Roman,serif\" font-size=\"14.00\" text-anchor=\"middle\" x=\"14051.5\" y=\"-52.8\">gini = 0.558</text>\n",
       "<text font-family=\"Times New Roman,serif\" font-size=\"14.00\" text-anchor=\"middle\" x=\"14051.5\" y=\"-37.8\">samples = 21</text>\n",
       "<text font-family=\"Times New Roman,serif\" font-size=\"14.00\" text-anchor=\"middle\" x=\"14051.5\" y=\"-22.8\">value = [13, 4, 3, 1]</text>\n",
       "<text font-family=\"Times New Roman,serif\" font-size=\"14.00\" text-anchor=\"middle\" x=\"14051.5\" y=\"-7.8\">class = A</text>\n",
       "</g>\n",
       "<!-- 230&#45;&gt;232 -->\n",
       "<g class=\"edge\" id=\"edge232\"><title>230-&gt;232</title>\n",
       "<path d=\"M13958.6,-103.726C13971.6,-94.1494 13985.3,-83.9611 13998.2,-74.4438\" fill=\"none\" stroke=\"black\"/>\n",
       "<polygon fill=\"black\" points=\"14000.5,-77.061 14006.5,-68.2996 13996.4,-71.4337 14000.5,-77.061\" stroke=\"black\"/>\n",
       "</g>\n",
       "<!-- 234 -->\n",
       "<g class=\"node\" id=\"node235\"><title>234</title>\n",
       "<polygon fill=\"#e9fce7\" points=\"14786.5,-425 14640.5,-425 14640.5,-342 14786.5,-342 14786.5,-425\" stroke=\"black\"/>\n",
       "<text font-family=\"Times New Roman,serif\" font-size=\"14.00\" text-anchor=\"middle\" x=\"14713.5\" y=\"-409.8\">Family_Size &lt;= 2.5</text>\n",
       "<text font-family=\"Times New Roman,serif\" font-size=\"14.00\" text-anchor=\"middle\" x=\"14713.5\" y=\"-394.8\">gini = 0.707</text>\n",
       "<text font-family=\"Times New Roman,serif\" font-size=\"14.00\" text-anchor=\"middle\" x=\"14713.5\" y=\"-379.8\">samples = 234</text>\n",
       "<text font-family=\"Times New Roman,serif\" font-size=\"14.00\" text-anchor=\"middle\" x=\"14713.5\" y=\"-364.8\">value = [69, 89, 53, 23]</text>\n",
       "<text font-family=\"Times New Roman,serif\" font-size=\"14.00\" text-anchor=\"middle\" x=\"14713.5\" y=\"-349.8\">class = B</text>\n",
       "</g>\n",
       "<!-- 233&#45;&gt;234 -->\n",
       "<g class=\"edge\" id=\"edge234\"><title>233-&gt;234</title>\n",
       "<path d=\"M14713.5,-460.907C14713.5,-452.649 14713.5,-443.864 14713.5,-435.302\" fill=\"none\" stroke=\"black\"/>\n",
       "<polygon fill=\"black\" points=\"14717,-435.021 14713.5,-425.021 14710,-435.021 14717,-435.021\" stroke=\"black\"/>\n",
       "</g>\n",
       "<!-- 249 -->\n",
       "<g class=\"node\" id=\"node250\"><title>249</title>\n",
       "<polygon fill=\"#dfeffb\" points=\"15643.5,-425 15483.5,-425 15483.5,-342 15643.5,-342 15643.5,-425\" stroke=\"black\"/>\n",
       "<text font-family=\"Times New Roman,serif\" font-size=\"14.00\" text-anchor=\"middle\" x=\"15563.5\" y=\"-409.8\">Var_1 &lt;= 4.5</text>\n",
       "<text font-family=\"Times New Roman,serif\" font-size=\"14.00\" text-anchor=\"middle\" x=\"15563.5\" y=\"-394.8\">gini = 0.637</text>\n",
       "<text font-family=\"Times New Roman,serif\" font-size=\"14.00\" text-anchor=\"middle\" x=\"15563.5\" y=\"-379.8\">samples = 583</text>\n",
       "<text font-family=\"Times New Roman,serif\" font-size=\"14.00\" text-anchor=\"middle\" x=\"15563.5\" y=\"-364.8\">value = [92, 207, 268, 16]</text>\n",
       "<text font-family=\"Times New Roman,serif\" font-size=\"14.00\" text-anchor=\"middle\" x=\"15563.5\" y=\"-349.8\">class = C</text>\n",
       "</g>\n",
       "<!-- 233&#45;&gt;249 -->\n",
       "<g class=\"edge\" id=\"edge249\"><title>233-&gt;249</title>\n",
       "<path d=\"M14797.3,-489.961C14957.9,-467.854 15307.8,-419.703 15473.3,-396.922\" fill=\"none\" stroke=\"black\"/>\n",
       "<polygon fill=\"black\" points=\"15474,-400.355 15483.4,-395.524 15473,-393.421 15474,-400.355\" stroke=\"black\"/>\n",
       "</g>\n",
       "<!-- 235 -->\n",
       "<g class=\"node\" id=\"node236\"><title>235</title>\n",
       "<polygon fill=\"#fcf0e7\" points=\"14643.5,-306 14497.5,-306 14497.5,-223 14643.5,-223 14643.5,-306\" stroke=\"black\"/>\n",
       "<text font-family=\"Times New Roman,serif\" font-size=\"14.00\" text-anchor=\"middle\" x=\"14570.5\" y=\"-290.8\">Profession &lt;= 3.5</text>\n",
       "<text font-family=\"Times New Roman,serif\" font-size=\"14.00\" text-anchor=\"middle\" x=\"14570.5\" y=\"-275.8\">gini = 0.728</text>\n",
       "<text font-family=\"Times New Roman,serif\" font-size=\"14.00\" text-anchor=\"middle\" x=\"14570.5\" y=\"-260.8\">samples = 100</text>\n",
       "<text font-family=\"Times New Roman,serif\" font-size=\"14.00\" text-anchor=\"middle\" x=\"14570.5\" y=\"-245.8\">value = [35, 26, 25, 14]</text>\n",
       "<text font-family=\"Times New Roman,serif\" font-size=\"14.00\" text-anchor=\"middle\" x=\"14570.5\" y=\"-230.8\">class = A</text>\n",
       "</g>\n",
       "<!-- 234&#45;&gt;235 -->\n",
       "<g class=\"edge\" id=\"edge235\"><title>234-&gt;235</title>\n",
       "<path d=\"M14663.9,-341.907C14652.2,-332.379 14639.7,-322.148 14627.8,-312.37\" fill=\"none\" stroke=\"black\"/>\n",
       "<polygon fill=\"black\" points=\"14630,-309.644 14620,-306.021 14625.5,-315.062 14630,-309.644\" stroke=\"black\"/>\n",
       "</g>\n",
       "<!-- 242 -->\n",
       "<g class=\"node\" id=\"node243\"><title>242</title>\n",
       "<polygon fill=\"#caf7c6\" points=\"14935,-306 14776,-306 14776,-223 14935,-223 14935,-306\" stroke=\"black\"/>\n",
       "<text font-family=\"Times New Roman,serif\" font-size=\"14.00\" text-anchor=\"middle\" x=\"14855.5\" y=\"-290.8\">Work_Experience &lt;= 4.5</text>\n",
       "<text font-family=\"Times New Roman,serif\" font-size=\"14.00\" text-anchor=\"middle\" x=\"14855.5\" y=\"-275.8\">gini = 0.666</text>\n",
       "<text font-family=\"Times New Roman,serif\" font-size=\"14.00\" text-anchor=\"middle\" x=\"14855.5\" y=\"-260.8\">samples = 134</text>\n",
       "<text font-family=\"Times New Roman,serif\" font-size=\"14.00\" text-anchor=\"middle\" x=\"14855.5\" y=\"-245.8\">value = [34, 63, 28, 9]</text>\n",
       "<text font-family=\"Times New Roman,serif\" font-size=\"14.00\" text-anchor=\"middle\" x=\"14855.5\" y=\"-230.8\">class = B</text>\n",
       "</g>\n",
       "<!-- 234&#45;&gt;242 -->\n",
       "<g class=\"edge\" id=\"edge242\"><title>234-&gt;242</title>\n",
       "<path d=\"M14762.8,-341.907C14774.2,-332.469 14786.5,-322.343 14798.3,-312.649\" fill=\"none\" stroke=\"black\"/>\n",
       "<polygon fill=\"black\" points=\"14800.8,-315.081 14806.3,-306.021 14796.4,-309.679 14800.8,-315.081\" stroke=\"black\"/>\n",
       "</g>\n",
       "<!-- 236 -->\n",
       "<g class=\"node\" id=\"node237\"><title>236</title>\n",
       "<polygon fill=\"#f2f8fd\" points=\"14410.5,-187 14270.5,-187 14270.5,-104 14410.5,-104 14410.5,-187\" stroke=\"black\"/>\n",
       "<text font-family=\"Times New Roman,serif\" font-size=\"14.00\" text-anchor=\"middle\" x=\"14340.5\" y=\"-171.8\">Family_Size &lt;= 0.5</text>\n",
       "<text font-family=\"Times New Roman,serif\" font-size=\"14.00\" text-anchor=\"middle\" x=\"14340.5\" y=\"-156.8\">gini = 0.702</text>\n",
       "<text font-family=\"Times New Roman,serif\" font-size=\"14.00\" text-anchor=\"middle\" x=\"14340.5\" y=\"-141.8\">samples = 64</text>\n",
       "<text font-family=\"Times New Roman,serif\" font-size=\"14.00\" text-anchor=\"middle\" x=\"14340.5\" y=\"-126.8\">value = [19, 19, 22, 4]</text>\n",
       "<text font-family=\"Times New Roman,serif\" font-size=\"14.00\" text-anchor=\"middle\" x=\"14340.5\" y=\"-111.8\">class = C</text>\n",
       "</g>\n",
       "<!-- 235&#45;&gt;236 -->\n",
       "<g class=\"edge\" id=\"edge236\"><title>235-&gt;236</title>\n",
       "<path d=\"M14497.4,-226.32C14472.7,-213.745 14445,-199.649 14419.8,-186.841\" fill=\"none\" stroke=\"black\"/>\n",
       "<polygon fill=\"black\" points=\"14421.2,-183.6 14410.7,-182.186 14418,-189.839 14421.2,-183.6\" stroke=\"black\"/>\n",
       "</g>\n",
       "<!-- 239 -->\n",
       "<g class=\"node\" id=\"node240\"><title>239</title>\n",
       "<polygon fill=\"#f9e2d1\" points=\"14650,-187 14491,-187 14491,-104 14650,-104 14650,-187\" stroke=\"black\"/>\n",
       "<text font-family=\"Times New Roman,serif\" font-size=\"14.00\" text-anchor=\"middle\" x=\"14570.5\" y=\"-171.8\">Work_Experience &lt;= 7.5</text>\n",
       "<text font-family=\"Times New Roman,serif\" font-size=\"14.00\" text-anchor=\"middle\" x=\"14570.5\" y=\"-156.8\">gini = 0.681</text>\n",
       "<text font-family=\"Times New Roman,serif\" font-size=\"14.00\" text-anchor=\"middle\" x=\"14570.5\" y=\"-141.8\">samples = 36</text>\n",
       "<text font-family=\"Times New Roman,serif\" font-size=\"14.00\" text-anchor=\"middle\" x=\"14570.5\" y=\"-126.8\">value = [16, 7, 3, 10]</text>\n",
       "<text font-family=\"Times New Roman,serif\" font-size=\"14.00\" text-anchor=\"middle\" x=\"14570.5\" y=\"-111.8\">class = A</text>\n",
       "</g>\n",
       "<!-- 235&#45;&gt;239 -->\n",
       "<g class=\"edge\" id=\"edge239\"><title>235-&gt;239</title>\n",
       "<path d=\"M14570.5,-222.907C14570.5,-214.649 14570.5,-205.864 14570.5,-197.302\" fill=\"none\" stroke=\"black\"/>\n",
       "<polygon fill=\"black\" points=\"14574,-197.021 14570.5,-187.021 14567,-197.021 14574,-197.021\" stroke=\"black\"/>\n",
       "</g>\n",
       "<!-- 237 -->\n",
       "<g class=\"node\" id=\"node238\"><title>237</title>\n",
       "<polygon fill=\"#d739e5\" points=\"14252,-68 14133,-68 14133,-0 14252,-0 14252,-68\" stroke=\"black\"/>\n",
       "<text font-family=\"Times New Roman,serif\" font-size=\"14.00\" text-anchor=\"middle\" x=\"14192.5\" y=\"-52.8\">gini = 0.0</text>\n",
       "<text font-family=\"Times New Roman,serif\" font-size=\"14.00\" text-anchor=\"middle\" x=\"14192.5\" y=\"-37.8\">samples = 2</text>\n",
       "<text font-family=\"Times New Roman,serif\" font-size=\"14.00\" text-anchor=\"middle\" x=\"14192.5\" y=\"-22.8\">value = [0, 0, 0, 2]</text>\n",
       "<text font-family=\"Times New Roman,serif\" font-size=\"14.00\" text-anchor=\"middle\" x=\"14192.5\" y=\"-7.8\">class = D</text>\n",
       "</g>\n",
       "<!-- 236&#45;&gt;237 -->\n",
       "<g class=\"edge\" id=\"edge237\"><title>236-&gt;237</title>\n",
       "<path d=\"M14285.4,-103.726C14272.4,-94.1494 14258.7,-83.9611 14245.8,-74.4438\" fill=\"none\" stroke=\"black\"/>\n",
       "<polygon fill=\"black\" points=\"14247.6,-71.4337 14237.5,-68.2996 14243.5,-77.061 14247.6,-71.4337\" stroke=\"black\"/>\n",
       "</g>\n",
       "<!-- 238 -->\n",
       "<g class=\"node\" id=\"node239\"><title>238</title>\n",
       "<polygon fill=\"#f1f8fd\" points=\"14410.5,-68 14270.5,-68 14270.5,-0 14410.5,-0 14410.5,-68\" stroke=\"black\"/>\n",
       "<text font-family=\"Times New Roman,serif\" font-size=\"14.00\" text-anchor=\"middle\" x=\"14340.5\" y=\"-52.8\">gini = 0.685</text>\n",
       "<text font-family=\"Times New Roman,serif\" font-size=\"14.00\" text-anchor=\"middle\" x=\"14340.5\" y=\"-37.8\">samples = 62</text>\n",
       "<text font-family=\"Times New Roman,serif\" font-size=\"14.00\" text-anchor=\"middle\" x=\"14340.5\" y=\"-22.8\">value = [19, 19, 22, 2]</text>\n",
       "<text font-family=\"Times New Roman,serif\" font-size=\"14.00\" text-anchor=\"middle\" x=\"14340.5\" y=\"-7.8\">class = C</text>\n",
       "</g>\n",
       "<!-- 236&#45;&gt;238 -->\n",
       "<g class=\"edge\" id=\"edge238\"><title>236-&gt;238</title>\n",
       "<path d=\"M14340.5,-103.726C14340.5,-95.5175 14340.5,-86.8595 14340.5,-78.56\" fill=\"none\" stroke=\"black\"/>\n",
       "<polygon fill=\"black\" points=\"14344,-78.2996 14340.5,-68.2996 14337,-78.2996 14344,-78.2996\" stroke=\"black\"/>\n",
       "</g>\n",
       "<!-- 240 -->\n",
       "<g class=\"node\" id=\"node241\"><title>240</title>\n",
       "<polygon fill=\"#f1b991\" points=\"14554.5,-68 14428.5,-68 14428.5,-0 14554.5,-0 14554.5,-68\" stroke=\"black\"/>\n",
       "<text font-family=\"Times New Roman,serif\" font-size=\"14.00\" text-anchor=\"middle\" x=\"14491.5\" y=\"-52.8\">gini = 0.567</text>\n",
       "<text font-family=\"Times New Roman,serif\" font-size=\"14.00\" text-anchor=\"middle\" x=\"14491.5\" y=\"-37.8\">samples = 21</text>\n",
       "<text font-family=\"Times New Roman,serif\" font-size=\"14.00\" text-anchor=\"middle\" x=\"14491.5\" y=\"-22.8\">value = [13, 3, 2, 3]</text>\n",
       "<text font-family=\"Times New Roman,serif\" font-size=\"14.00\" text-anchor=\"middle\" x=\"14491.5\" y=\"-7.8\">class = A</text>\n",
       "</g>\n",
       "<!-- 239&#45;&gt;240 -->\n",
       "<g class=\"edge\" id=\"edge240\"><title>239-&gt;240</title>\n",
       "<path d=\"M14541.1,-103.726C14534.7,-94.879 14527.9,-85.51 14521.5,-76.6303\" fill=\"none\" stroke=\"black\"/>\n",
       "<polygon fill=\"black\" points=\"14524.2,-74.3615 14515.5,-68.2996 14518.5,-78.4571 14524.2,-74.3615\" stroke=\"black\"/>\n",
       "</g>\n",
       "<!-- 241 -->\n",
       "<g class=\"node\" id=\"node242\"><title>241</title>\n",
       "<polygon fill=\"#f4c9f8\" points=\"14692,-68 14573,-68 14573,-0 14692,-0 14692,-68\" stroke=\"black\"/>\n",
       "<text font-family=\"Times New Roman,serif\" font-size=\"14.00\" text-anchor=\"middle\" x=\"14632.5\" y=\"-52.8\">gini = 0.667</text>\n",
       "<text font-family=\"Times New Roman,serif\" font-size=\"14.00\" text-anchor=\"middle\" x=\"14632.5\" y=\"-37.8\">samples = 15</text>\n",
       "<text font-family=\"Times New Roman,serif\" font-size=\"14.00\" text-anchor=\"middle\" x=\"14632.5\" y=\"-22.8\">value = [3, 4, 1, 7]</text>\n",
       "<text font-family=\"Times New Roman,serif\" font-size=\"14.00\" text-anchor=\"middle\" x=\"14632.5\" y=\"-7.8\">class = D</text>\n",
       "</g>\n",
       "<!-- 239&#45;&gt;241 -->\n",
       "<g class=\"edge\" id=\"edge241\"><title>239-&gt;241</title>\n",
       "<path d=\"M14593.6,-103.726C14598.5,-95.0615 14603.7,-85.8962 14608.6,-77.1802\" fill=\"none\" stroke=\"black\"/>\n",
       "<polygon fill=\"black\" points=\"14611.8,-78.726 14613.6,-68.2996 14605.7,-75.277 14611.8,-78.726\" stroke=\"black\"/>\n",
       "</g>\n",
       "<!-- 243 -->\n",
       "<g class=\"node\" id=\"node244\"><title>243</title>\n",
       "<polygon fill=\"#bdf6b8\" points=\"14925.5,-187 14785.5,-187 14785.5,-104 14925.5,-104 14925.5,-187\" stroke=\"black\"/>\n",
       "<text font-family=\"Times New Roman,serif\" font-size=\"14.00\" text-anchor=\"middle\" x=\"14855.5\" y=\"-171.8\">Family_Size &lt;= 5.5</text>\n",
       "<text font-family=\"Times New Roman,serif\" font-size=\"14.00\" text-anchor=\"middle\" x=\"14855.5\" y=\"-156.8\">gini = 0.635</text>\n",
       "<text font-family=\"Times New Roman,serif\" font-size=\"14.00\" text-anchor=\"middle\" x=\"14855.5\" y=\"-141.8\">samples = 96</text>\n",
       "<text font-family=\"Times New Roman,serif\" font-size=\"14.00\" text-anchor=\"middle\" x=\"14855.5\" y=\"-126.8\">value = [24, 50, 16, 6]</text>\n",
       "<text font-family=\"Times New Roman,serif\" font-size=\"14.00\" text-anchor=\"middle\" x=\"14855.5\" y=\"-111.8\">class = B</text>\n",
       "</g>\n",
       "<!-- 242&#45;&gt;243 -->\n",
       "<g class=\"edge\" id=\"edge243\"><title>242-&gt;243</title>\n",
       "<path d=\"M14855.5,-222.907C14855.5,-214.649 14855.5,-205.864 14855.5,-197.302\" fill=\"none\" stroke=\"black\"/>\n",
       "<polygon fill=\"black\" points=\"14859,-197.021 14855.5,-187.021 14852,-197.021 14859,-197.021\" stroke=\"black\"/>\n",
       "</g>\n",
       "<!-- 246 -->\n",
       "<g class=\"node\" id=\"node247\"><title>246</title>\n",
       "<polygon fill=\"#f8fef7\" points=\"15135.5,-187 14995.5,-187 14995.5,-104 15135.5,-104 15135.5,-187\" stroke=\"black\"/>\n",
       "<text font-family=\"Times New Roman,serif\" font-size=\"14.00\" text-anchor=\"middle\" x=\"15065.5\" y=\"-171.8\">Var_1 &lt;= 4.0</text>\n",
       "<text font-family=\"Times New Roman,serif\" font-size=\"14.00\" text-anchor=\"middle\" x=\"15065.5\" y=\"-156.8\">gini = 0.708</text>\n",
       "<text font-family=\"Times New Roman,serif\" font-size=\"14.00\" text-anchor=\"middle\" x=\"15065.5\" y=\"-141.8\">samples = 38</text>\n",
       "<text font-family=\"Times New Roman,serif\" font-size=\"14.00\" text-anchor=\"middle\" x=\"15065.5\" y=\"-126.8\">value = [10, 13, 12, 3]</text>\n",
       "<text font-family=\"Times New Roman,serif\" font-size=\"14.00\" text-anchor=\"middle\" x=\"15065.5\" y=\"-111.8\">class = B</text>\n",
       "</g>\n",
       "<!-- 242&#45;&gt;246 -->\n",
       "<g class=\"edge\" id=\"edge246\"><title>242-&gt;246</title>\n",
       "<path d=\"M14928.4,-222.907C14947.1,-212.481 14967.3,-201.214 14986.3,-190.618\" fill=\"none\" stroke=\"black\"/>\n",
       "<polygon fill=\"black\" points=\"14988.2,-193.565 14995.2,-185.64 14984.8,-187.45 14988.2,-193.565\" stroke=\"black\"/>\n",
       "</g>\n",
       "<!-- 244 -->\n",
       "<g class=\"node\" id=\"node245\"><title>244</title>\n",
       "<polygon fill=\"#b4f4ae\" points=\"14850.5,-68 14710.5,-68 14710.5,-0 14850.5,-0 14850.5,-68\" stroke=\"black\"/>\n",
       "<text font-family=\"Times New Roman,serif\" font-size=\"14.00\" text-anchor=\"middle\" x=\"14780.5\" y=\"-52.8\">gini = 0.622</text>\n",
       "<text font-family=\"Times New Roman,serif\" font-size=\"14.00\" text-anchor=\"middle\" x=\"14780.5\" y=\"-37.8\">samples = 92</text>\n",
       "<text font-family=\"Times New Roman,serif\" font-size=\"14.00\" text-anchor=\"middle\" x=\"14780.5\" y=\"-22.8\">value = [21, 50, 15, 6]</text>\n",
       "<text font-family=\"Times New Roman,serif\" font-size=\"14.00\" text-anchor=\"middle\" x=\"14780.5\" y=\"-7.8\">class = B</text>\n",
       "</g>\n",
       "<!-- 243&#45;&gt;244 -->\n",
       "<g class=\"edge\" id=\"edge244\"><title>243-&gt;244</title>\n",
       "<path d=\"M14827.6,-103.726C14821.5,-94.879 14815.1,-85.51 14809,-76.6303\" fill=\"none\" stroke=\"black\"/>\n",
       "<polygon fill=\"black\" points=\"14811.8,-74.5721 14803.3,-68.2996 14806.1,-78.5277 14811.8,-74.5721\" stroke=\"black\"/>\n",
       "</g>\n",
       "<!-- 245 -->\n",
       "<g class=\"node\" id=\"node246\"><title>245</title>\n",
       "<polygon fill=\"#eeab7b\" points=\"14988,-68 14869,-68 14869,-0 14988,-0 14988,-68\" stroke=\"black\"/>\n",
       "<text font-family=\"Times New Roman,serif\" font-size=\"14.00\" text-anchor=\"middle\" x=\"14928.5\" y=\"-52.8\">gini = 0.375</text>\n",
       "<text font-family=\"Times New Roman,serif\" font-size=\"14.00\" text-anchor=\"middle\" x=\"14928.5\" y=\"-37.8\">samples = 4</text>\n",
       "<text font-family=\"Times New Roman,serif\" font-size=\"14.00\" text-anchor=\"middle\" x=\"14928.5\" y=\"-22.8\">value = [3, 0, 1, 0]</text>\n",
       "<text font-family=\"Times New Roman,serif\" font-size=\"14.00\" text-anchor=\"middle\" x=\"14928.5\" y=\"-7.8\">class = A</text>\n",
       "</g>\n",
       "<!-- 243&#45;&gt;245 -->\n",
       "<g class=\"edge\" id=\"edge245\"><title>243-&gt;245</title>\n",
       "<path d=\"M14882.7,-103.726C14888.6,-94.879 14894.8,-85.51 14900.7,-76.6303\" fill=\"none\" stroke=\"black\"/>\n",
       "<polygon fill=\"black\" points=\"14903.7,-78.5616 14906.3,-68.2996 14897.8,-74.6787 14903.7,-78.5616\" stroke=\"black\"/>\n",
       "</g>\n",
       "<!-- 247 -->\n",
       "<g class=\"node\" id=\"node248\"><title>247</title>\n",
       "<polygon fill=\"#fbeade\" points=\"15125,-68 15006,-68 15006,-0 15125,-0 15125,-68\" stroke=\"black\"/>\n",
       "<text font-family=\"Times New Roman,serif\" font-size=\"14.00\" text-anchor=\"middle\" x=\"15065.5\" y=\"-52.8\">gini = 0.58</text>\n",
       "<text font-family=\"Times New Roman,serif\" font-size=\"14.00\" text-anchor=\"middle\" x=\"15065.5\" y=\"-37.8\">samples = 10</text>\n",
       "<text font-family=\"Times New Roman,serif\" font-size=\"14.00\" text-anchor=\"middle\" x=\"15065.5\" y=\"-22.8\">value = [5, 0, 4, 1]</text>\n",
       "<text font-family=\"Times New Roman,serif\" font-size=\"14.00\" text-anchor=\"middle\" x=\"15065.5\" y=\"-7.8\">class = A</text>\n",
       "</g>\n",
       "<!-- 246&#45;&gt;247 -->\n",
       "<g class=\"edge\" id=\"edge247\"><title>246-&gt;247</title>\n",
       "<path d=\"M15065.5,-103.726C15065.5,-95.5175 15065.5,-86.8595 15065.5,-78.56\" fill=\"none\" stroke=\"black\"/>\n",
       "<polygon fill=\"black\" points=\"15069,-78.2996 15065.5,-68.2996 15062,-78.2996 15069,-78.2996\" stroke=\"black\"/>\n",
       "</g>\n",
       "<!-- 248 -->\n",
       "<g class=\"node\" id=\"node249\"><title>248</title>\n",
       "<polygon fill=\"#d1f8ce\" points=\"15269.5,-68 15143.5,-68 15143.5,-0 15269.5,-0 15269.5,-68\" stroke=\"black\"/>\n",
       "<text font-family=\"Times New Roman,serif\" font-size=\"14.00\" text-anchor=\"middle\" x=\"15206.5\" y=\"-52.8\">gini = 0.666</text>\n",
       "<text font-family=\"Times New Roman,serif\" font-size=\"14.00\" text-anchor=\"middle\" x=\"15206.5\" y=\"-37.8\">samples = 28</text>\n",
       "<text font-family=\"Times New Roman,serif\" font-size=\"14.00\" text-anchor=\"middle\" x=\"15206.5\" y=\"-22.8\">value = [5, 13, 8, 2]</text>\n",
       "<text font-family=\"Times New Roman,serif\" font-size=\"14.00\" text-anchor=\"middle\" x=\"15206.5\" y=\"-7.8\">class = B</text>\n",
       "</g>\n",
       "<!-- 246&#45;&gt;248 -->\n",
       "<g class=\"edge\" id=\"edge248\"><title>246-&gt;248</title>\n",
       "<path d=\"M15118,-103.726C15130.3,-94.1494 15143.5,-83.9611 15155.7,-74.4438\" fill=\"none\" stroke=\"black\"/>\n",
       "<polygon fill=\"black\" points=\"15157.9,-77.1975 15163.6,-68.2996 15153.6,-71.6689 15157.9,-77.1975\" stroke=\"black\"/>\n",
       "</g>\n",
       "<!-- 250 -->\n",
       "<g class=\"node\" id=\"node251\"><title>250</title>\n",
       "<polygon fill=\"#bdf6b8\" points=\"15633.5,-306 15493.5,-306 15493.5,-223 15633.5,-223 15633.5,-306\" stroke=\"black\"/>\n",
       "<text font-family=\"Times New Roman,serif\" font-size=\"14.00\" text-anchor=\"middle\" x=\"15563.5\" y=\"-290.8\">Age &lt;= 82.0</text>\n",
       "<text font-family=\"Times New Roman,serif\" font-size=\"14.00\" text-anchor=\"middle\" x=\"15563.5\" y=\"-275.8\">gini = 0.599</text>\n",
       "<text font-family=\"Times New Roman,serif\" font-size=\"14.00\" text-anchor=\"middle\" x=\"15563.5\" y=\"-260.8\">samples = 101</text>\n",
       "<text font-family=\"Times New Roman,serif\" font-size=\"14.00\" text-anchor=\"middle\" x=\"15563.5\" y=\"-245.8\">value = [15, 55, 29, 2]</text>\n",
       "<text font-family=\"Times New Roman,serif\" font-size=\"14.00\" text-anchor=\"middle\" x=\"15563.5\" y=\"-230.8\">class = B</text>\n",
       "</g>\n",
       "<!-- 249&#45;&gt;250 -->\n",
       "<g class=\"edge\" id=\"edge250\"><title>249-&gt;250</title>\n",
       "<path d=\"M15563.5,-341.907C15563.5,-333.649 15563.5,-324.864 15563.5,-316.302\" fill=\"none\" stroke=\"black\"/>\n",
       "<polygon fill=\"black\" points=\"15567,-316.021 15563.5,-306.021 15560,-316.021 15567,-316.021\" stroke=\"black\"/>\n",
       "</g>\n",
       "<!-- 257 -->\n",
       "<g class=\"node\" id=\"node258\"><title>257</title>\n",
       "<polygon fill=\"#cbe5f8\" points=\"16082.5,-306 15922.5,-306 15922.5,-223 16082.5,-223 16082.5,-306\" stroke=\"black\"/>\n",
       "<text font-family=\"Times New Roman,serif\" font-size=\"14.00\" text-anchor=\"middle\" x=\"16002.5\" y=\"-290.8\">Age &lt;= 72.5</text>\n",
       "<text font-family=\"Times New Roman,serif\" font-size=\"14.00\" text-anchor=\"middle\" x=\"16002.5\" y=\"-275.8\">gini = 0.628</text>\n",
       "<text font-family=\"Times New Roman,serif\" font-size=\"14.00\" text-anchor=\"middle\" x=\"16002.5\" y=\"-260.8\">samples = 482</text>\n",
       "<text font-family=\"Times New Roman,serif\" font-size=\"14.00\" text-anchor=\"middle\" x=\"16002.5\" y=\"-245.8\">value = [77, 152, 239, 14]</text>\n",
       "<text font-family=\"Times New Roman,serif\" font-size=\"14.00\" text-anchor=\"middle\" x=\"16002.5\" y=\"-230.8\">class = C</text>\n",
       "</g>\n",
       "<!-- 249&#45;&gt;257 -->\n",
       "<g class=\"edge\" id=\"edge257\"><title>249-&gt;257</title>\n",
       "<path d=\"M15643.5,-361.176C15719.4,-340.95 15833.3,-310.599 15912.4,-289.526\" fill=\"none\" stroke=\"black\"/>\n",
       "<polygon fill=\"black\" points=\"15913.5,-292.832 15922.3,-286.875 15911.7,-286.068 15913.5,-292.832\" stroke=\"black\"/>\n",
       "</g>\n",
       "<!-- 251 -->\n",
       "<g class=\"node\" id=\"node252\"><title>251</title>\n",
       "<polygon fill=\"#b4f4af\" points=\"15559.5,-187 15419.5,-187 15419.5,-104 15559.5,-104 15559.5,-187\" stroke=\"black\"/>\n",
       "<text font-family=\"Times New Roman,serif\" font-size=\"14.00\" text-anchor=\"middle\" x=\"15489.5\" y=\"-171.8\">Profession &lt;= 1.5</text>\n",
       "<text font-family=\"Times New Roman,serif\" font-size=\"14.00\" text-anchor=\"middle\" x=\"15489.5\" y=\"-156.8\">gini = 0.577</text>\n",
       "<text font-family=\"Times New Roman,serif\" font-size=\"14.00\" text-anchor=\"middle\" x=\"15489.5\" y=\"-141.8\">samples = 96</text>\n",
       "<text font-family=\"Times New Roman,serif\" font-size=\"14.00\" text-anchor=\"middle\" x=\"15489.5\" y=\"-126.8\">value = [12, 55, 27, 2]</text>\n",
       "<text font-family=\"Times New Roman,serif\" font-size=\"14.00\" text-anchor=\"middle\" x=\"15489.5\" y=\"-111.8\">class = B</text>\n",
       "</g>\n",
       "<!-- 250&#45;&gt;251 -->\n",
       "<g class=\"edge\" id=\"edge251\"><title>250-&gt;251</title>\n",
       "<path d=\"M15537.8,-222.907C15532.3,-214.105 15526.3,-204.703 15520.6,-195.612\" fill=\"none\" stroke=\"black\"/>\n",
       "<polygon fill=\"black\" points=\"15523.4,-193.601 15515.1,-187.021 15517.5,-197.343 15523.4,-193.601\" stroke=\"black\"/>\n",
       "</g>\n",
       "<!-- 254 -->\n",
       "<g class=\"node\" id=\"node255\"><title>254</title>\n",
       "<polygon fill=\"#f6d5bd\" points=\"15697,-187 15578,-187 15578,-104 15697,-104 15697,-187\" stroke=\"black\"/>\n",
       "<text font-family=\"Times New Roman,serif\" font-size=\"14.00\" text-anchor=\"middle\" x=\"15637.5\" y=\"-171.8\">Var_1 &lt;= 2.0</text>\n",
       "<text font-family=\"Times New Roman,serif\" font-size=\"14.00\" text-anchor=\"middle\" x=\"15637.5\" y=\"-156.8\">gini = 0.48</text>\n",
       "<text font-family=\"Times New Roman,serif\" font-size=\"14.00\" text-anchor=\"middle\" x=\"15637.5\" y=\"-141.8\">samples = 5</text>\n",
       "<text font-family=\"Times New Roman,serif\" font-size=\"14.00\" text-anchor=\"middle\" x=\"15637.5\" y=\"-126.8\">value = [3, 0, 2, 0]</text>\n",
       "<text font-family=\"Times New Roman,serif\" font-size=\"14.00\" text-anchor=\"middle\" x=\"15637.5\" y=\"-111.8\">class = A</text>\n",
       "</g>\n",
       "<!-- 250&#45;&gt;254 -->\n",
       "<g class=\"edge\" id=\"edge254\"><title>250-&gt;254</title>\n",
       "<path d=\"M15589.2,-222.907C15594.7,-214.105 15600.7,-204.703 15606.4,-195.612\" fill=\"none\" stroke=\"black\"/>\n",
       "<polygon fill=\"black\" points=\"15609.5,-197.343 15611.9,-187.021 15603.6,-193.601 15609.5,-197.343\" stroke=\"black\"/>\n",
       "</g>\n",
       "<!-- 252 -->\n",
       "<g class=\"node\" id=\"node253\"><title>252</title>\n",
       "<polygon fill=\"#ffffff\" points=\"15407,-68 15288,-68 15288,-0 15407,-0 15407,-68\" stroke=\"black\"/>\n",
       "<text font-family=\"Times New Roman,serif\" font-size=\"14.00\" text-anchor=\"middle\" x=\"15347.5\" y=\"-52.8\">gini = 0.698</text>\n",
       "<text font-family=\"Times New Roman,serif\" font-size=\"14.00\" text-anchor=\"middle\" x=\"15347.5\" y=\"-37.8\">samples = 18</text>\n",
       "<text font-family=\"Times New Roman,serif\" font-size=\"14.00\" text-anchor=\"middle\" x=\"15347.5\" y=\"-22.8\">value = [6, 5, 6, 1]</text>\n",
       "<text font-family=\"Times New Roman,serif\" font-size=\"14.00\" text-anchor=\"middle\" x=\"15347.5\" y=\"-7.8\">class = A</text>\n",
       "</g>\n",
       "<!-- 251&#45;&gt;252 -->\n",
       "<g class=\"edge\" id=\"edge252\"><title>251-&gt;252</title>\n",
       "<path d=\"M15436.6,-103.726C15424.2,-94.1494 15411,-83.9611 15398.7,-74.4438\" fill=\"none\" stroke=\"black\"/>\n",
       "<polygon fill=\"black\" points=\"15400.7,-71.6345 15390.7,-68.2996 15396.5,-77.1778 15400.7,-71.6345\" stroke=\"black\"/>\n",
       "</g>\n",
       "<!-- 253 -->\n",
       "<g class=\"node\" id=\"node254\"><title>253</title>\n",
       "<polygon fill=\"#a1f29a\" points=\"15558,-68 15425,-68 15425,-0 15558,-0 15558,-68\" stroke=\"black\"/>\n",
       "<text font-family=\"Times New Roman,serif\" font-size=\"14.00\" text-anchor=\"middle\" x=\"15491.5\" y=\"-52.8\">gini = 0.511</text>\n",
       "<text font-family=\"Times New Roman,serif\" font-size=\"14.00\" text-anchor=\"middle\" x=\"15491.5\" y=\"-37.8\">samples = 78</text>\n",
       "<text font-family=\"Times New Roman,serif\" font-size=\"14.00\" text-anchor=\"middle\" x=\"15491.5\" y=\"-22.8\">value = [6, 50, 21, 1]</text>\n",
       "<text font-family=\"Times New Roman,serif\" font-size=\"14.00\" text-anchor=\"middle\" x=\"15491.5\" y=\"-7.8\">class = B</text>\n",
       "</g>\n",
       "<!-- 251&#45;&gt;253 -->\n",
       "<g class=\"edge\" id=\"edge253\"><title>251-&gt;253</title>\n",
       "<path d=\"M15490.2,-103.726C15490.4,-95.5175 15490.6,-86.8595 15490.7,-78.56\" fill=\"none\" stroke=\"black\"/>\n",
       "<polygon fill=\"black\" points=\"15494.2,-78.3619 15490.9,-68.2996 15487.2,-78.234 15494.2,-78.3619\" stroke=\"black\"/>\n",
       "</g>\n",
       "<!-- 255 -->\n",
       "<g class=\"node\" id=\"node256\"><title>255</title>\n",
       "<polygon fill=\"#9ccef2\" points=\"15695,-68 15576,-68 15576,-0 15695,-0 15695,-68\" stroke=\"black\"/>\n",
       "<text font-family=\"Times New Roman,serif\" font-size=\"14.00\" text-anchor=\"middle\" x=\"15635.5\" y=\"-52.8\">gini = 0.444</text>\n",
       "<text font-family=\"Times New Roman,serif\" font-size=\"14.00\" text-anchor=\"middle\" x=\"15635.5\" y=\"-37.8\">samples = 3</text>\n",
       "<text font-family=\"Times New Roman,serif\" font-size=\"14.00\" text-anchor=\"middle\" x=\"15635.5\" y=\"-22.8\">value = [1, 0, 2, 0]</text>\n",
       "<text font-family=\"Times New Roman,serif\" font-size=\"14.00\" text-anchor=\"middle\" x=\"15635.5\" y=\"-7.8\">class = C</text>\n",
       "</g>\n",
       "<!-- 254&#45;&gt;255 -->\n",
       "<g class=\"edge\" id=\"edge255\"><title>254-&gt;255</title>\n",
       "<path d=\"M15636.8,-103.726C15636.6,-95.5175 15636.4,-86.8595 15636.3,-78.56\" fill=\"none\" stroke=\"black\"/>\n",
       "<polygon fill=\"black\" points=\"15639.8,-78.234 15636.1,-68.2996 15632.8,-78.3619 15639.8,-78.234\" stroke=\"black\"/>\n",
       "</g>\n",
       "<!-- 256 -->\n",
       "<g class=\"node\" id=\"node257\"><title>256</title>\n",
       "<polygon fill=\"#e58139\" points=\"15832,-68 15713,-68 15713,-0 15832,-0 15832,-68\" stroke=\"black\"/>\n",
       "<text font-family=\"Times New Roman,serif\" font-size=\"14.00\" text-anchor=\"middle\" x=\"15772.5\" y=\"-52.8\">gini = 0.0</text>\n",
       "<text font-family=\"Times New Roman,serif\" font-size=\"14.00\" text-anchor=\"middle\" x=\"15772.5\" y=\"-37.8\">samples = 2</text>\n",
       "<text font-family=\"Times New Roman,serif\" font-size=\"14.00\" text-anchor=\"middle\" x=\"15772.5\" y=\"-22.8\">value = [2, 0, 0, 0]</text>\n",
       "<text font-family=\"Times New Roman,serif\" font-size=\"14.00\" text-anchor=\"middle\" x=\"15772.5\" y=\"-7.8\">class = A</text>\n",
       "</g>\n",
       "<!-- 254&#45;&gt;256 -->\n",
       "<g class=\"edge\" id=\"edge256\"><title>254-&gt;256</title>\n",
       "<path d=\"M15687.8,-103.726C15699.5,-94.2406 15711.9,-84.1551 15723.5,-74.7159\" fill=\"none\" stroke=\"black\"/>\n",
       "<polygon fill=\"black\" points=\"15725.9,-77.3173 15731.4,-68.2996 15721.5,-71.8808 15725.9,-77.3173\" stroke=\"black\"/>\n",
       "</g>\n",
       "<!-- 258 -->\n",
       "<g class=\"node\" id=\"node259\"><title>258</title>\n",
       "<polygon fill=\"#bfdff7\" points=\"16082.5,-187 15922.5,-187 15922.5,-104 16082.5,-104 16082.5,-187\" stroke=\"black\"/>\n",
       "<text font-family=\"Times New Roman,serif\" font-size=\"14.00\" text-anchor=\"middle\" x=\"16002.5\" y=\"-171.8\">Work_Experience &lt;= 5.5</text>\n",
       "<text font-family=\"Times New Roman,serif\" font-size=\"14.00\" text-anchor=\"middle\" x=\"16002.5\" y=\"-156.8\">gini = 0.593</text>\n",
       "<text font-family=\"Times New Roman,serif\" font-size=\"14.00\" text-anchor=\"middle\" x=\"16002.5\" y=\"-141.8\">samples = 365</text>\n",
       "<text font-family=\"Times New Roman,serif\" font-size=\"14.00\" text-anchor=\"middle\" x=\"16002.5\" y=\"-126.8\">value = [40, 117, 197, 11]</text>\n",
       "<text font-family=\"Times New Roman,serif\" font-size=\"14.00\" text-anchor=\"middle\" x=\"16002.5\" y=\"-111.8\">class = C</text>\n",
       "</g>\n",
       "<!-- 257&#45;&gt;258 -->\n",
       "<g class=\"edge\" id=\"edge258\"><title>257-&gt;258</title>\n",
       "<path d=\"M16002.5,-222.907C16002.5,-214.649 16002.5,-205.864 16002.5,-197.302\" fill=\"none\" stroke=\"black\"/>\n",
       "<polygon fill=\"black\" points=\"16006,-197.021 16002.5,-187.021 15999,-197.021 16006,-197.021\" stroke=\"black\"/>\n",
       "</g>\n",
       "<!-- 261 -->\n",
       "<g class=\"node\" id=\"node262\"><title>261</title>\n",
       "<polygon fill=\"#f3f9fd\" points=\"16312.5,-187 16172.5,-187 16172.5,-104 16312.5,-104 16312.5,-187\" stroke=\"black\"/>\n",
       "<text font-family=\"Times New Roman,serif\" font-size=\"14.00\" text-anchor=\"middle\" x=\"16242.5\" y=\"-171.8\">Age &lt;= 83.5</text>\n",
       "<text font-family=\"Times New Roman,serif\" font-size=\"14.00\" text-anchor=\"middle\" x=\"16242.5\" y=\"-156.8\">gini = 0.681</text>\n",
       "<text font-family=\"Times New Roman,serif\" font-size=\"14.00\" text-anchor=\"middle\" x=\"16242.5\" y=\"-141.8\">samples = 117</text>\n",
       "<text font-family=\"Times New Roman,serif\" font-size=\"14.00\" text-anchor=\"middle\" x=\"16242.5\" y=\"-126.8\">value = [37, 35, 42, 3]</text>\n",
       "<text font-family=\"Times New Roman,serif\" font-size=\"14.00\" text-anchor=\"middle\" x=\"16242.5\" y=\"-111.8\">class = C</text>\n",
       "</g>\n",
       "<!-- 257&#45;&gt;261 -->\n",
       "<g class=\"edge\" id=\"edge261\"><title>257-&gt;261</title>\n",
       "<path d=\"M16082.8,-224.378C16108.7,-211.721 16137.5,-197.699 16163.4,-185.081\" fill=\"none\" stroke=\"black\"/>\n",
       "<polygon fill=\"black\" points=\"16164.9,-188.209 16172.4,-180.681 16161.9,-181.917 16164.9,-188.209\" stroke=\"black\"/>\n",
       "</g>\n",
       "<!-- 259 -->\n",
       "<g class=\"node\" id=\"node260\"><title>259</title>\n",
       "<polygon fill=\"#cee7f9\" points=\"16010.5,-68 15850.5,-68 15850.5,-0 16010.5,-0 16010.5,-68\" stroke=\"black\"/>\n",
       "<text font-family=\"Times New Roman,serif\" font-size=\"14.00\" text-anchor=\"middle\" x=\"15930.5\" y=\"-52.8\">gini = 0.608</text>\n",
       "<text font-family=\"Times New Roman,serif\" font-size=\"14.00\" text-anchor=\"middle\" x=\"15930.5\" y=\"-37.8\">samples = 319</text>\n",
       "<text font-family=\"Times New Roman,serif\" font-size=\"14.00\" text-anchor=\"middle\" x=\"15930.5\" y=\"-22.8\">value = [35, 111, 162, 11]</text>\n",
       "<text font-family=\"Times New Roman,serif\" font-size=\"14.00\" text-anchor=\"middle\" x=\"15930.5\" y=\"-7.8\">class = C</text>\n",
       "</g>\n",
       "<!-- 258&#45;&gt;259 -->\n",
       "<g class=\"edge\" id=\"edge259\"><title>258-&gt;259</title>\n",
       "<path d=\"M15975.7,-103.726C15969.9,-94.9703 15963.8,-85.7032 15958.1,-76.9051\" fill=\"none\" stroke=\"black\"/>\n",
       "<polygon fill=\"black\" points=\"15960.8,-74.7322 15952.4,-68.2996 15955,-78.5781 15960.8,-74.7322\" stroke=\"black\"/>\n",
       "</g>\n",
       "<!-- 260 -->\n",
       "<g class=\"node\" id=\"node261\"><title>260</title>\n",
       "<polygon fill=\"#6fb8ec\" points=\"16154.5,-68 16028.5,-68 16028.5,-0 16154.5,-0 16154.5,-68\" stroke=\"black\"/>\n",
       "<text font-family=\"Times New Roman,serif\" font-size=\"14.00\" text-anchor=\"middle\" x=\"16091.5\" y=\"-52.8\">gini = 0.392</text>\n",
       "<text font-family=\"Times New Roman,serif\" font-size=\"14.00\" text-anchor=\"middle\" x=\"16091.5\" y=\"-37.8\">samples = 46</text>\n",
       "<text font-family=\"Times New Roman,serif\" font-size=\"14.00\" text-anchor=\"middle\" x=\"16091.5\" y=\"-22.8\">value = [5, 6, 35, 0]</text>\n",
       "<text font-family=\"Times New Roman,serif\" font-size=\"14.00\" text-anchor=\"middle\" x=\"16091.5\" y=\"-7.8\">class = C</text>\n",
       "</g>\n",
       "<!-- 258&#45;&gt;260 -->\n",
       "<g class=\"edge\" id=\"edge260\"><title>258-&gt;260</title>\n",
       "<path d=\"M16035.6,-103.726C16043,-94.6966 16050.8,-85.1235 16058.1,-76.0816\" fill=\"none\" stroke=\"black\"/>\n",
       "<polygon fill=\"black\" points=\"16060.8,-78.2672 16064.4,-68.2996 16055.4,-73.8521 16060.8,-78.2672\" stroke=\"black\"/>\n",
       "</g>\n",
       "<!-- 262 -->\n",
       "<g class=\"node\" id=\"node263\"><title>262</title>\n",
       "<polygon fill=\"#eefded\" points=\"16312.5,-68 16172.5,-68 16172.5,-0 16312.5,-0 16312.5,-68\" stroke=\"black\"/>\n",
       "<text font-family=\"Times New Roman,serif\" font-size=\"14.00\" text-anchor=\"middle\" x=\"16242.5\" y=\"-52.8\">gini = 0.687</text>\n",
       "<text font-family=\"Times New Roman,serif\" font-size=\"14.00\" text-anchor=\"middle\" x=\"16242.5\" y=\"-37.8\">samples = 79</text>\n",
       "<text font-family=\"Times New Roman,serif\" font-size=\"14.00\" text-anchor=\"middle\" x=\"16242.5\" y=\"-22.8\">value = [23, 29, 24, 3]</text>\n",
       "<text font-family=\"Times New Roman,serif\" font-size=\"14.00\" text-anchor=\"middle\" x=\"16242.5\" y=\"-7.8\">class = B</text>\n",
       "</g>\n",
       "<!-- 261&#45;&gt;262 -->\n",
       "<g class=\"edge\" id=\"edge262\"><title>261-&gt;262</title>\n",
       "<path d=\"M16242.5,-103.726C16242.5,-95.5175 16242.5,-86.8595 16242.5,-78.56\" fill=\"none\" stroke=\"black\"/>\n",
       "<polygon fill=\"black\" points=\"16246,-78.2996 16242.5,-68.2996 16239,-78.2996 16246,-78.2996\" stroke=\"black\"/>\n",
       "</g>\n",
       "<!-- 263 -->\n",
       "<g class=\"node\" id=\"node264\"><title>263</title>\n",
       "<polygon fill=\"#deeffb\" points=\"16464,-68 16331,-68 16331,-0 16464,-0 16464,-68\" stroke=\"black\"/>\n",
       "<text font-family=\"Times New Roman,serif\" font-size=\"14.00\" text-anchor=\"middle\" x=\"16397.5\" y=\"-52.8\">gini = 0.615</text>\n",
       "<text font-family=\"Times New Roman,serif\" font-size=\"14.00\" text-anchor=\"middle\" x=\"16397.5\" y=\"-37.8\">samples = 38</text>\n",
       "<text font-family=\"Times New Roman,serif\" font-size=\"14.00\" text-anchor=\"middle\" x=\"16397.5\" y=\"-22.8\">value = [14, 6, 18, 0]</text>\n",
       "<text font-family=\"Times New Roman,serif\" font-size=\"14.00\" text-anchor=\"middle\" x=\"16397.5\" y=\"-7.8\">class = C</text>\n",
       "</g>\n",
       "<!-- 261&#45;&gt;263 -->\n",
       "<g class=\"edge\" id=\"edge263\"><title>261-&gt;263</title>\n",
       "<path d=\"M16300.2,-103.726C16313.9,-94.0582 16328.5,-83.767 16342.1,-74.172\" fill=\"none\" stroke=\"black\"/>\n",
       "<polygon fill=\"black\" points=\"16344.2,-76.9282 16350.4,-68.2996 16340.2,-71.2109 16344.2,-76.9282\" stroke=\"black\"/>\n",
       "</g>\n",
       "<!-- 265 -->\n",
       "<g class=\"node\" id=\"node266\"><title>265</title>\n",
       "<polygon fill=\"#f4fdf3\" points=\"18543,-663 18376,-663 18376,-580 18543,-580 18543,-663\" stroke=\"black\"/>\n",
       "<text font-family=\"Times New Roman,serif\" font-size=\"14.00\" text-anchor=\"middle\" x=\"18459.5\" y=\"-647.8\">Age &lt;= 45.5</text>\n",
       "<text font-family=\"Times New Roman,serif\" font-size=\"14.00\" text-anchor=\"middle\" x=\"18459.5\" y=\"-632.8\">gini = 0.697</text>\n",
       "<text font-family=\"Times New Roman,serif\" font-size=\"14.00\" text-anchor=\"middle\" x=\"18459.5\" y=\"-617.8\">samples = 952</text>\n",
       "<text font-family=\"Times New Roman,serif\" font-size=\"14.00\" text-anchor=\"middle\" x=\"18459.5\" y=\"-602.8\">value = [314, 352, 217, 69]</text>\n",
       "<text font-family=\"Times New Roman,serif\" font-size=\"14.00\" text-anchor=\"middle\" x=\"18459.5\" y=\"-587.8\">class = B</text>\n",
       "</g>\n",
       "<!-- 264&#45;&gt;265 -->\n",
       "<g class=\"edge\" id=\"edge265\"><title>264-&gt;265</title>\n",
       "<path d=\"M18459.5,-698.907C18459.5,-690.649 18459.5,-681.864 18459.5,-673.302\" fill=\"none\" stroke=\"black\"/>\n",
       "<polygon fill=\"black\" points=\"18463,-673.021 18459.5,-663.021 18456,-673.021 18463,-673.021\" stroke=\"black\"/>\n",
       "</g>\n",
       "<!-- 316 -->\n",
       "<g class=\"node\" id=\"node317\"><title>316</title>\n",
       "<polygon fill=\"#fbece0\" points=\"20655,-663 20488,-663 20488,-580 20655,-580 20655,-663\" stroke=\"black\"/>\n",
       "<text font-family=\"Times New Roman,serif\" font-size=\"14.00\" text-anchor=\"middle\" x=\"20571.5\" y=\"-647.8\">Profession &lt;= 3.5</text>\n",
       "<text font-family=\"Times New Roman,serif\" font-size=\"14.00\" text-anchor=\"middle\" x=\"20571.5\" y=\"-632.8\">gini = 0.68</text>\n",
       "<text font-family=\"Times New Roman,serif\" font-size=\"14.00\" text-anchor=\"middle\" x=\"20571.5\" y=\"-617.8\">samples = 1038</text>\n",
       "<text font-family=\"Times New Roman,serif\" font-size=\"14.00\" text-anchor=\"middle\" x=\"20571.5\" y=\"-602.8\">value = [442, 176, 87, 333]</text>\n",
       "<text font-family=\"Times New Roman,serif\" font-size=\"14.00\" text-anchor=\"middle\" x=\"20571.5\" y=\"-587.8\">class = A</text>\n",
       "</g>\n",
       "<!-- 264&#45;&gt;316 -->\n",
       "<g class=\"edge\" id=\"edge316\"><title>264-&gt;316</title>\n",
       "<path d=\"M18546.2,-734.695C18886.1,-715.869 20125.6,-647.204 20477.7,-627.699\" fill=\"none\" stroke=\"black\"/>\n",
       "<polygon fill=\"black\" points=\"20478,-631.184 20487.8,-627.136 20477.6,-624.195 20478,-631.184\" stroke=\"black\"/>\n",
       "</g>\n",
       "<!-- 266 -->\n",
       "<g class=\"node\" id=\"node267\"><title>266</title>\n",
       "<polygon fill=\"#fbeee4\" points=\"18087.5,-544 17927.5,-544 17927.5,-461 18087.5,-461 18087.5,-544\" stroke=\"black\"/>\n",
       "<text font-family=\"Times New Roman,serif\" font-size=\"14.00\" text-anchor=\"middle\" x=\"18007.5\" y=\"-528.8\">Family_Size &lt;= 2.5</text>\n",
       "<text font-family=\"Times New Roman,serif\" font-size=\"14.00\" text-anchor=\"middle\" x=\"18007.5\" y=\"-513.8\">gini = 0.688</text>\n",
       "<text font-family=\"Times New Roman,serif\" font-size=\"14.00\" text-anchor=\"middle\" x=\"18007.5\" y=\"-498.8\">samples = 515</text>\n",
       "<text font-family=\"Times New Roman,serif\" font-size=\"14.00\" text-anchor=\"middle\" x=\"18007.5\" y=\"-483.8\">value = [212, 164, 94, 45]</text>\n",
       "<text font-family=\"Times New Roman,serif\" font-size=\"14.00\" text-anchor=\"middle\" x=\"18007.5\" y=\"-468.8\">class = A</text>\n",
       "</g>\n",
       "<!-- 265&#45;&gt;266 -->\n",
       "<g class=\"edge\" id=\"edge266\"><title>265-&gt;266</title>\n",
       "<path d=\"M18375.8,-598.836C18296.7,-578.365 18178.4,-547.748 18097.4,-526.767\" fill=\"none\" stroke=\"black\"/>\n",
       "<polygon fill=\"black\" points=\"18098.2,-523.375 18087.7,-524.257 18096.5,-530.151 18098.2,-523.375\" stroke=\"black\"/>\n",
       "</g>\n",
       "<!-- 293 -->\n",
       "<g class=\"node\" id=\"node294\"><title>293</title>\n",
       "<polygon fill=\"#d9fad6\" points=\"18861,-544 18694,-544 18694,-461 18861,-461 18861,-544\" stroke=\"black\"/>\n",
       "<text font-family=\"Times New Roman,serif\" font-size=\"14.00\" text-anchor=\"middle\" x=\"18777.5\" y=\"-528.8\">Age &lt;= 75.5</text>\n",
       "<text font-family=\"Times New Roman,serif\" font-size=\"14.00\" text-anchor=\"middle\" x=\"18777.5\" y=\"-513.8\">gini = 0.678</text>\n",
       "<text font-family=\"Times New Roman,serif\" font-size=\"14.00\" text-anchor=\"middle\" x=\"18777.5\" y=\"-498.8\">samples = 437</text>\n",
       "<text font-family=\"Times New Roman,serif\" font-size=\"14.00\" text-anchor=\"middle\" x=\"18777.5\" y=\"-483.8\">value = [102, 188, 123, 24]</text>\n",
       "<text font-family=\"Times New Roman,serif\" font-size=\"14.00\" text-anchor=\"middle\" x=\"18777.5\" y=\"-468.8\">class = B</text>\n",
       "</g>\n",
       "<!-- 265&#45;&gt;293 -->\n",
       "<g class=\"edge\" id=\"edge293\"><title>265-&gt;293</title>\n",
       "<path d=\"M18543.1,-589.76C18586.5,-573.768 18639.8,-554.173 18684.5,-537.703\" fill=\"none\" stroke=\"black\"/>\n",
       "<polygon fill=\"black\" points=\"18685.8,-540.976 18694,-534.238 18683.4,-534.406 18685.8,-540.976\" stroke=\"black\"/>\n",
       "</g>\n",
       "<!-- 267 -->\n",
       "<g class=\"node\" id=\"node268\"><title>267</title>\n",
       "<polygon fill=\"#fef8f4\" points=\"17422.5,-425 17262.5,-425 17262.5,-342 17422.5,-342 17422.5,-425\" stroke=\"black\"/>\n",
       "<text font-family=\"Times New Roman,serif\" font-size=\"14.00\" text-anchor=\"middle\" x=\"17342.5\" y=\"-409.8\">Family_Size &lt;= 1.5</text>\n",
       "<text font-family=\"Times New Roman,serif\" font-size=\"14.00\" text-anchor=\"middle\" x=\"17342.5\" y=\"-394.8\">gini = 0.686</text>\n",
       "<text font-family=\"Times New Roman,serif\" font-size=\"14.00\" text-anchor=\"middle\" x=\"17342.5\" y=\"-379.8\">samples = 403</text>\n",
       "<text font-family=\"Times New Roman,serif\" font-size=\"14.00\" text-anchor=\"middle\" x=\"17342.5\" y=\"-364.8\">value = [156, 142, 74, 31]</text>\n",
       "<text font-family=\"Times New Roman,serif\" font-size=\"14.00\" text-anchor=\"middle\" x=\"17342.5\" y=\"-349.8\">class = A</text>\n",
       "</g>\n",
       "<!-- 266&#45;&gt;267 -->\n",
       "<g class=\"edge\" id=\"edge267\"><title>266-&gt;267</title>\n",
       "<path d=\"M17927.3,-487.387C17802.6,-465.455 17563.2,-423.332 17432.7,-400.372\" fill=\"none\" stroke=\"black\"/>\n",
       "<polygon fill=\"black\" points=\"17433.2,-396.903 17422.7,-398.617 17432,-403.797 17433.2,-396.903\" stroke=\"black\"/>\n",
       "</g>\n",
       "<!-- 282 -->\n",
       "<g class=\"node\" id=\"node283\"><title>282</title>\n",
       "<polygon fill=\"#f5cfb4\" points=\"18080.5,-425 17934.5,-425 17934.5,-342 18080.5,-342 18080.5,-425\" stroke=\"black\"/>\n",
       "<text font-family=\"Times New Roman,serif\" font-size=\"14.00\" text-anchor=\"middle\" x=\"18007.5\" y=\"-409.8\">Family_Size &lt;= 4.5</text>\n",
       "<text font-family=\"Times New Roman,serif\" font-size=\"14.00\" text-anchor=\"middle\" x=\"18007.5\" y=\"-394.8\">gini = 0.664</text>\n",
       "<text font-family=\"Times New Roman,serif\" font-size=\"14.00\" text-anchor=\"middle\" x=\"18007.5\" y=\"-379.8\">samples = 112</text>\n",
       "<text font-family=\"Times New Roman,serif\" font-size=\"14.00\" text-anchor=\"middle\" x=\"18007.5\" y=\"-364.8\">value = [56, 22, 20, 14]</text>\n",
       "<text font-family=\"Times New Roman,serif\" font-size=\"14.00\" text-anchor=\"middle\" x=\"18007.5\" y=\"-349.8\">class = A</text>\n",
       "</g>\n",
       "<!-- 266&#45;&gt;282 -->\n",
       "<g class=\"edge\" id=\"edge282\"><title>266-&gt;282</title>\n",
       "<path d=\"M18007.5,-460.907C18007.5,-452.649 18007.5,-443.864 18007.5,-435.302\" fill=\"none\" stroke=\"black\"/>\n",
       "<polygon fill=\"black\" points=\"18011,-435.021 18007.5,-425.021 18004,-435.021 18011,-435.021\" stroke=\"black\"/>\n",
       "</g>\n",
       "<!-- 268 -->\n",
       "<g class=\"node\" id=\"node269\"><title>268</title>\n",
       "<polygon fill=\"#fdf5ef\" points=\"17002,-306 16849,-306 16849,-223 17002,-223 17002,-306\" stroke=\"black\"/>\n",
       "<text font-family=\"Times New Roman,serif\" font-size=\"14.00\" text-anchor=\"middle\" x=\"16925.5\" y=\"-290.8\">Age &lt;= 42.5</text>\n",
       "<text font-family=\"Times New Roman,serif\" font-size=\"14.00\" text-anchor=\"middle\" x=\"16925.5\" y=\"-275.8\">gini = 0.668</text>\n",
       "<text font-family=\"Times New Roman,serif\" font-size=\"14.00\" text-anchor=\"middle\" x=\"16925.5\" y=\"-260.8\">samples = 268</text>\n",
       "<text font-family=\"Times New Roman,serif\" font-size=\"14.00\" text-anchor=\"middle\" x=\"16925.5\" y=\"-245.8\">value = [112, 98, 34, 24]</text>\n",
       "<text font-family=\"Times New Roman,serif\" font-size=\"14.00\" text-anchor=\"middle\" x=\"16925.5\" y=\"-230.8\">class = A</text>\n",
       "</g>\n",
       "<!-- 267&#45;&gt;268 -->\n",
       "<g class=\"edge\" id=\"edge268\"><title>267-&gt;268</title>\n",
       "<path d=\"M17262.1,-359.941C17190.3,-339.796 17085.4,-310.366 17011.8,-289.727\" fill=\"none\" stroke=\"black\"/>\n",
       "<polygon fill=\"black\" points=\"17012.7,-286.334 17002.1,-287.002 17010.8,-293.074 17012.7,-286.334\" stroke=\"black\"/>\n",
       "</g>\n",
       "<!-- 275 -->\n",
       "<g class=\"node\" id=\"node276\"><title>275</title>\n",
       "<polygon fill=\"#ffffff\" points=\"17412.5,-306 17272.5,-306 17272.5,-223 17412.5,-223 17412.5,-306\" stroke=\"black\"/>\n",
       "<text font-family=\"Times New Roman,serif\" font-size=\"14.00\" text-anchor=\"middle\" x=\"17342.5\" y=\"-290.8\">Var_1 &lt;= 3.5</text>\n",
       "<text font-family=\"Times New Roman,serif\" font-size=\"14.00\" text-anchor=\"middle\" x=\"17342.5\" y=\"-275.8\">gini = 0.697</text>\n",
       "<text font-family=\"Times New Roman,serif\" font-size=\"14.00\" text-anchor=\"middle\" x=\"17342.5\" y=\"-260.8\">samples = 135</text>\n",
       "<text font-family=\"Times New Roman,serif\" font-size=\"14.00\" text-anchor=\"middle\" x=\"17342.5\" y=\"-245.8\">value = [44, 44, 40, 7]</text>\n",
       "<text font-family=\"Times New Roman,serif\" font-size=\"14.00\" text-anchor=\"middle\" x=\"17342.5\" y=\"-230.8\">class = A</text>\n",
       "</g>\n",
       "<!-- 267&#45;&gt;275 -->\n",
       "<g class=\"edge\" id=\"edge275\"><title>267-&gt;275</title>\n",
       "<path d=\"M17342.5,-341.907C17342.5,-333.649 17342.5,-324.864 17342.5,-316.302\" fill=\"none\" stroke=\"black\"/>\n",
       "<polygon fill=\"black\" points=\"17346,-316.021 17342.5,-306.021 17339,-316.021 17346,-316.021\" stroke=\"black\"/>\n",
       "</g>\n",
       "<!-- 269 -->\n",
       "<g class=\"node\" id=\"node270\"><title>269</title>\n",
       "<polygon fill=\"#fffefe\" points=\"16772.5,-187 16626.5,-187 16626.5,-104 16772.5,-104 16772.5,-187\" stroke=\"black\"/>\n",
       "<text font-family=\"Times New Roman,serif\" font-size=\"14.00\" text-anchor=\"middle\" x=\"16699.5\" y=\"-171.8\">Graduated &lt;= 1.0</text>\n",
       "<text font-family=\"Times New Roman,serif\" font-size=\"14.00\" text-anchor=\"middle\" x=\"16699.5\" y=\"-156.8\">gini = 0.674</text>\n",
       "<text font-family=\"Times New Roman,serif\" font-size=\"14.00\" text-anchor=\"middle\" x=\"16699.5\" y=\"-141.8\">samples = 218</text>\n",
       "<text font-family=\"Times New Roman,serif\" font-size=\"14.00\" text-anchor=\"middle\" x=\"16699.5\" y=\"-126.8\">value = [85, 84, 28, 21]</text>\n",
       "<text font-family=\"Times New Roman,serif\" font-size=\"14.00\" text-anchor=\"middle\" x=\"16699.5\" y=\"-111.8\">class = A</text>\n",
       "</g>\n",
       "<!-- 268&#45;&gt;269 -->\n",
       "<g class=\"edge\" id=\"edge269\"><title>268-&gt;269</title>\n",
       "<path d=\"M16849,-223.889C16827.4,-212.702 16803.8,-200.482 16781.8,-189.126\" fill=\"none\" stroke=\"black\"/>\n",
       "<polygon fill=\"black\" points=\"16783.4,-185.976 16772.9,-184.487 16780.1,-192.192 16783.4,-185.976\" stroke=\"black\"/>\n",
       "</g>\n",
       "<!-- 272 -->\n",
       "<g class=\"node\" id=\"node273\"><title>272</title>\n",
       "<polygon fill=\"#f6d2b8\" points=\"16992.5,-187 16858.5,-187 16858.5,-104 16992.5,-104 16992.5,-187\" stroke=\"black\"/>\n",
       "<text font-family=\"Times New Roman,serif\" font-size=\"14.00\" text-anchor=\"middle\" x=\"16925.5\" y=\"-171.8\">Ever_Married &lt;= 1.5</text>\n",
       "<text font-family=\"Times New Roman,serif\" font-size=\"14.00\" text-anchor=\"middle\" x=\"16925.5\" y=\"-156.8\">gini = 0.612</text>\n",
       "<text font-family=\"Times New Roman,serif\" font-size=\"14.00\" text-anchor=\"middle\" x=\"16925.5\" y=\"-141.8\">samples = 50</text>\n",
       "<text font-family=\"Times New Roman,serif\" font-size=\"14.00\" text-anchor=\"middle\" x=\"16925.5\" y=\"-126.8\">value = [27, 14, 6, 3]</text>\n",
       "<text font-family=\"Times New Roman,serif\" font-size=\"14.00\" text-anchor=\"middle\" x=\"16925.5\" y=\"-111.8\">class = A</text>\n",
       "</g>\n",
       "<!-- 268&#45;&gt;272 -->\n",
       "<g class=\"edge\" id=\"edge272\"><title>268-&gt;272</title>\n",
       "<path d=\"M16925.5,-222.907C16925.5,-214.649 16925.5,-205.864 16925.5,-197.302\" fill=\"none\" stroke=\"black\"/>\n",
       "<polygon fill=\"black\" points=\"16929,-197.021 16925.5,-187.021 16922,-197.021 16929,-197.021\" stroke=\"black\"/>\n",
       "</g>\n",
       "<!-- 270 -->\n",
       "<g class=\"node\" id=\"node271\"><title>270</title>\n",
       "<polygon fill=\"#f1bb94\" points=\"16608.5,-68 16482.5,-68 16482.5,-0 16608.5,-0 16608.5,-68\" stroke=\"black\"/>\n",
       "<text font-family=\"Times New Roman,serif\" font-size=\"14.00\" text-anchor=\"middle\" x=\"16545.5\" y=\"-52.8\">gini = 0.555</text>\n",
       "<text font-family=\"Times New Roman,serif\" font-size=\"14.00\" text-anchor=\"middle\" x=\"16545.5\" y=\"-37.8\">samples = 16</text>\n",
       "<text font-family=\"Times New Roman,serif\" font-size=\"14.00\" text-anchor=\"middle\" x=\"16545.5\" y=\"-22.8\">value = [10, 3, 1, 2]</text>\n",
       "<text font-family=\"Times New Roman,serif\" font-size=\"14.00\" text-anchor=\"middle\" x=\"16545.5\" y=\"-7.8\">class = A</text>\n",
       "</g>\n",
       "<!-- 269&#45;&gt;270 -->\n",
       "<g class=\"edge\" id=\"edge270\"><title>269-&gt;270</title>\n",
       "<path d=\"M16642.2,-103.726C16628.6,-94.0582 16614.1,-83.767 16600.6,-74.172\" fill=\"none\" stroke=\"black\"/>\n",
       "<polygon fill=\"black\" points=\"16602.5,-71.242 16592.3,-68.2996 16598.5,-76.9469 16602.5,-71.242\" stroke=\"black\"/>\n",
       "</g>\n",
       "<!-- 271 -->\n",
       "<g class=\"node\" id=\"node272\"><title>271</title>\n",
       "<polygon fill=\"#f6fef6\" points=\"16772.5,-68 16626.5,-68 16626.5,-0 16772.5,-0 16772.5,-68\" stroke=\"black\"/>\n",
       "<text font-family=\"Times New Roman,serif\" font-size=\"14.00\" text-anchor=\"middle\" x=\"16699.5\" y=\"-52.8\">gini = 0.675</text>\n",
       "<text font-family=\"Times New Roman,serif\" font-size=\"14.00\" text-anchor=\"middle\" x=\"16699.5\" y=\"-37.8\">samples = 202</text>\n",
       "<text font-family=\"Times New Roman,serif\" font-size=\"14.00\" text-anchor=\"middle\" x=\"16699.5\" y=\"-22.8\">value = [75, 81, 27, 19]</text>\n",
       "<text font-family=\"Times New Roman,serif\" font-size=\"14.00\" text-anchor=\"middle\" x=\"16699.5\" y=\"-7.8\">class = B</text>\n",
       "</g>\n",
       "<!-- 269&#45;&gt;271 -->\n",
       "<g class=\"edge\" id=\"edge271\"><title>269-&gt;271</title>\n",
       "<path d=\"M16699.5,-103.726C16699.5,-95.5175 16699.5,-86.8595 16699.5,-78.56\" fill=\"none\" stroke=\"black\"/>\n",
       "<polygon fill=\"black\" points=\"16703,-78.2996 16699.5,-68.2996 16696,-78.2996 16703,-78.2996\" stroke=\"black\"/>\n",
       "</g>\n",
       "<!-- 273 -->\n",
       "<g class=\"node\" id=\"node274\"><title>273</title>\n",
       "<polygon fill=\"#f1b991\" points=\"16916.5,-68 16790.5,-68 16790.5,-0 16916.5,-0 16916.5,-68\" stroke=\"black\"/>\n",
       "<text font-family=\"Times New Roman,serif\" font-size=\"14.00\" text-anchor=\"middle\" x=\"16853.5\" y=\"-52.8\">gini = 0.545</text>\n",
       "<text font-family=\"Times New Roman,serif\" font-size=\"14.00\" text-anchor=\"middle\" x=\"16853.5\" y=\"-37.8\">samples = 33</text>\n",
       "<text font-family=\"Times New Roman,serif\" font-size=\"14.00\" text-anchor=\"middle\" x=\"16853.5\" y=\"-22.8\">value = [21, 6, 3, 3]</text>\n",
       "<text font-family=\"Times New Roman,serif\" font-size=\"14.00\" text-anchor=\"middle\" x=\"16853.5\" y=\"-7.8\">class = A</text>\n",
       "</g>\n",
       "<!-- 272&#45;&gt;273 -->\n",
       "<g class=\"edge\" id=\"edge273\"><title>272-&gt;273</title>\n",
       "<path d=\"M16898.7,-103.726C16892.9,-94.9703 16886.8,-85.7032 16881.1,-76.9051\" fill=\"none\" stroke=\"black\"/>\n",
       "<polygon fill=\"black\" points=\"16883.8,-74.7322 16875.4,-68.2996 16878,-78.5781 16883.8,-74.7322\" stroke=\"black\"/>\n",
       "</g>\n",
       "<!-- 274 -->\n",
       "<g class=\"node\" id=\"node275\"><title>274</title>\n",
       "<polygon fill=\"#defadb\" points=\"17054,-68 16935,-68 16935,-0 17054,-0 17054,-68\" stroke=\"black\"/>\n",
       "<text font-family=\"Times New Roman,serif\" font-size=\"14.00\" text-anchor=\"middle\" x=\"16994.5\" y=\"-52.8\">gini = 0.623</text>\n",
       "<text font-family=\"Times New Roman,serif\" font-size=\"14.00\" text-anchor=\"middle\" x=\"16994.5\" y=\"-37.8\">samples = 17</text>\n",
       "<text font-family=\"Times New Roman,serif\" font-size=\"14.00\" text-anchor=\"middle\" x=\"16994.5\" y=\"-22.8\">value = [6, 8, 3, 0]</text>\n",
       "<text font-family=\"Times New Roman,serif\" font-size=\"14.00\" text-anchor=\"middle\" x=\"16994.5\" y=\"-7.8\">class = B</text>\n",
       "</g>\n",
       "<!-- 272&#45;&gt;274 -->\n",
       "<g class=\"edge\" id=\"edge274\"><title>272-&gt;274</title>\n",
       "<path d=\"M16951.2,-103.726C16956.7,-94.9703 16962.6,-85.7032 16968.1,-76.9051\" fill=\"none\" stroke=\"black\"/>\n",
       "<polygon fill=\"black\" points=\"16971.1,-78.6259 16973.5,-68.2996 16965.2,-74.8941 16971.1,-78.6259\" stroke=\"black\"/>\n",
       "</g>\n",
       "<!-- 276 -->\n",
       "<g class=\"node\" id=\"node277\"><title>276</title>\n",
       "<polygon fill=\"#f6d5bd\" points=\"17330.5,-187 17204.5,-187 17204.5,-104 17330.5,-104 17330.5,-187\" stroke=\"black\"/>\n",
       "<text font-family=\"Times New Roman,serif\" font-size=\"14.00\" text-anchor=\"middle\" x=\"17267.5\" y=\"-171.8\">Var_1 &lt;= 1.5</text>\n",
       "<text font-family=\"Times New Roman,serif\" font-size=\"14.00\" text-anchor=\"middle\" x=\"17267.5\" y=\"-156.8\">gini = 0.573</text>\n",
       "<text font-family=\"Times New Roman,serif\" font-size=\"14.00\" text-anchor=\"middle\" x=\"17267.5\" y=\"-141.8\">samples = 27</text>\n",
       "<text font-family=\"Times New Roman,serif\" font-size=\"14.00\" text-anchor=\"middle\" x=\"17267.5\" y=\"-126.8\">value = [15, 9, 2, 1]</text>\n",
       "<text font-family=\"Times New Roman,serif\" font-size=\"14.00\" text-anchor=\"middle\" x=\"17267.5\" y=\"-111.8\">class = A</text>\n",
       "</g>\n",
       "<!-- 275&#45;&gt;276 -->\n",
       "<g class=\"edge\" id=\"edge276\"><title>275-&gt;276</title>\n",
       "<path d=\"M17316.5,-222.907C17310.8,-214.105 17304.8,-204.703 17299,-195.612\" fill=\"none\" stroke=\"black\"/>\n",
       "<polygon fill=\"black\" points=\"17301.8,-193.551 17293.5,-187.021 17295.9,-197.328 17301.8,-193.551\" stroke=\"black\"/>\n",
       "</g>\n",
       "<!-- 279 -->\n",
       "<g class=\"node\" id=\"node280\"><title>279</title>\n",
       "<polygon fill=\"#f7fbfe\" points=\"17488.5,-187 17348.5,-187 17348.5,-104 17488.5,-104 17488.5,-187\" stroke=\"black\"/>\n",
       "<text font-family=\"Times New Roman,serif\" font-size=\"14.00\" text-anchor=\"middle\" x=\"17418.5\" y=\"-171.8\">Age &lt;= 35.5</text>\n",
       "<text font-family=\"Times New Roman,serif\" font-size=\"14.00\" text-anchor=\"middle\" x=\"17418.5\" y=\"-156.8\">gini = 0.696</text>\n",
       "<text font-family=\"Times New Roman,serif\" font-size=\"14.00\" text-anchor=\"middle\" x=\"17418.5\" y=\"-141.8\">samples = 108</text>\n",
       "<text font-family=\"Times New Roman,serif\" font-size=\"14.00\" text-anchor=\"middle\" x=\"17418.5\" y=\"-126.8\">value = [29, 35, 38, 6]</text>\n",
       "<text font-family=\"Times New Roman,serif\" font-size=\"14.00\" text-anchor=\"middle\" x=\"17418.5\" y=\"-111.8\">class = C</text>\n",
       "</g>\n",
       "<!-- 275&#45;&gt;279 -->\n",
       "<g class=\"edge\" id=\"edge279\"><title>275-&gt;279</title>\n",
       "<path d=\"M17368.9,-222.907C17374.6,-214.105 17380.7,-204.703 17386.6,-195.612\" fill=\"none\" stroke=\"black\"/>\n",
       "<polygon fill=\"black\" points=\"17389.7,-197.313 17392.2,-187.021 17383.8,-193.5 17389.7,-197.313\" stroke=\"black\"/>\n",
       "</g>\n",
       "<!-- 277 -->\n",
       "<g class=\"node\" id=\"node278\"><title>277</title>\n",
       "<polygon fill=\"#ea9a61\" points=\"17191,-68 17072,-68 17072,-0 17191,-0 17191,-68\" stroke=\"black\"/>\n",
       "<text font-family=\"Times New Roman,serif\" font-size=\"14.00\" text-anchor=\"middle\" x=\"17131.5\" y=\"-52.8\">gini = 0.278</text>\n",
       "<text font-family=\"Times New Roman,serif\" font-size=\"14.00\" text-anchor=\"middle\" x=\"17131.5\" y=\"-37.8\">samples = 6</text>\n",
       "<text font-family=\"Times New Roman,serif\" font-size=\"14.00\" text-anchor=\"middle\" x=\"17131.5\" y=\"-22.8\">value = [5, 0, 1, 0]</text>\n",
       "<text font-family=\"Times New Roman,serif\" font-size=\"14.00\" text-anchor=\"middle\" x=\"17131.5\" y=\"-7.8\">class = A</text>\n",
       "</g>\n",
       "<!-- 276&#45;&gt;277 -->\n",
       "<g class=\"edge\" id=\"edge277\"><title>276-&gt;277</title>\n",
       "<path d=\"M17216.9,-103.726C17205.1,-94.2406 17192.6,-84.1551 17180.8,-74.7159\" fill=\"none\" stroke=\"black\"/>\n",
       "<polygon fill=\"black\" points=\"17182.8,-71.8448 17172.9,-68.2996 17178.5,-77.2972 17182.8,-71.8448\" stroke=\"black\"/>\n",
       "</g>\n",
       "<!-- 278 -->\n",
       "<g class=\"node\" id=\"node279\"><title>278</title>\n",
       "<polygon fill=\"#fdf4ee\" points=\"17335.5,-68 17209.5,-68 17209.5,-0 17335.5,-0 17335.5,-68\" stroke=\"black\"/>\n",
       "<text font-family=\"Times New Roman,serif\" font-size=\"14.00\" text-anchor=\"middle\" x=\"17272.5\" y=\"-52.8\">gini = 0.585</text>\n",
       "<text font-family=\"Times New Roman,serif\" font-size=\"14.00\" text-anchor=\"middle\" x=\"17272.5\" y=\"-37.8\">samples = 21</text>\n",
       "<text font-family=\"Times New Roman,serif\" font-size=\"14.00\" text-anchor=\"middle\" x=\"17272.5\" y=\"-22.8\">value = [10, 9, 1, 1]</text>\n",
       "<text font-family=\"Times New Roman,serif\" font-size=\"14.00\" text-anchor=\"middle\" x=\"17272.5\" y=\"-7.8\">class = A</text>\n",
       "</g>\n",
       "<!-- 276&#45;&gt;278 -->\n",
       "<g class=\"edge\" id=\"edge278\"><title>276-&gt;278</title>\n",
       "<path d=\"M17269.4,-103.726C17269.7,-95.5175 17270.1,-86.8595 17270.5,-78.56\" fill=\"none\" stroke=\"black\"/>\n",
       "<polygon fill=\"black\" points=\"17274,-78.4489 17271,-68.2996 17267,-78.1295 17274,-78.4489\" stroke=\"black\"/>\n",
       "</g>\n",
       "<!-- 280 -->\n",
       "<g class=\"node\" id=\"node281\"><title>280</title>\n",
       "<polygon fill=\"#e5fbe3\" points=\"17473,-68 17354,-68 17354,-0 17473,-0 17473,-68\" stroke=\"black\"/>\n",
       "<text font-family=\"Times New Roman,serif\" font-size=\"14.00\" text-anchor=\"middle\" x=\"17413.5\" y=\"-52.8\">gini = 0.628</text>\n",
       "<text font-family=\"Times New Roman,serif\" font-size=\"14.00\" text-anchor=\"middle\" x=\"17413.5\" y=\"-37.8\">samples = 11</text>\n",
       "<text font-family=\"Times New Roman,serif\" font-size=\"14.00\" text-anchor=\"middle\" x=\"17413.5\" y=\"-22.8\">value = [4, 5, 0, 2]</text>\n",
       "<text font-family=\"Times New Roman,serif\" font-size=\"14.00\" text-anchor=\"middle\" x=\"17413.5\" y=\"-7.8\">class = B</text>\n",
       "</g>\n",
       "<!-- 279&#45;&gt;280 -->\n",
       "<g class=\"edge\" id=\"edge280\"><title>279-&gt;280</title>\n",
       "<path d=\"M17416.6,-103.726C17416.3,-95.5175 17415.9,-86.8595 17415.5,-78.56\" fill=\"none\" stroke=\"black\"/>\n",
       "<polygon fill=\"black\" points=\"17419,-78.1295 17415,-68.2996 17412,-78.4489 17419,-78.1295\" stroke=\"black\"/>\n",
       "</g>\n",
       "<!-- 281 -->\n",
       "<g class=\"node\" id=\"node282\"><title>281</title>\n",
       "<polygon fill=\"#e7f3fc\" points=\"17631.5,-68 17491.5,-68 17491.5,-0 17631.5,-0 17631.5,-68\" stroke=\"black\"/>\n",
       "<text font-family=\"Times New Roman,serif\" font-size=\"14.00\" text-anchor=\"middle\" x=\"17561.5\" y=\"-52.8\">gini = 0.683</text>\n",
       "<text font-family=\"Times New Roman,serif\" font-size=\"14.00\" text-anchor=\"middle\" x=\"17561.5\" y=\"-37.8\">samples = 97</text>\n",
       "<text font-family=\"Times New Roman,serif\" font-size=\"14.00\" text-anchor=\"middle\" x=\"17561.5\" y=\"-22.8\">value = [25, 30, 38, 4]</text>\n",
       "<text font-family=\"Times New Roman,serif\" font-size=\"14.00\" text-anchor=\"middle\" x=\"17561.5\" y=\"-7.8\">class = C</text>\n",
       "</g>\n",
       "<!-- 279&#45;&gt;281 -->\n",
       "<g class=\"edge\" id=\"edge281\"><title>279-&gt;281</title>\n",
       "<path d=\"M17471.7,-103.726C17484.3,-94.1494 17497.6,-83.9611 17510,-74.4438\" fill=\"none\" stroke=\"black\"/>\n",
       "<polygon fill=\"black\" points=\"17512.2,-77.1582 17518,-68.2996 17507.9,-71.6004 17512.2,-77.1582\" stroke=\"black\"/>\n",
       "</g>\n",
       "<!-- 283 -->\n",
       "<g class=\"node\" id=\"node284\"><title>283</title>\n",
       "<polygon fill=\"#f5ccaf\" points=\"18005,-306 17846,-306 17846,-223 18005,-223 18005,-306\" stroke=\"black\"/>\n",
       "<text font-family=\"Times New Roman,serif\" font-size=\"14.00\" text-anchor=\"middle\" x=\"17925.5\" y=\"-290.8\">Work_Experience &lt;= 8.5</text>\n",
       "<text font-family=\"Times New Roman,serif\" font-size=\"14.00\" text-anchor=\"middle\" x=\"17925.5\" y=\"-275.8\">gini = 0.64</text>\n",
       "<text font-family=\"Times New Roman,serif\" font-size=\"14.00\" text-anchor=\"middle\" x=\"17925.5\" y=\"-260.8\">samples = 98</text>\n",
       "<text font-family=\"Times New Roman,serif\" font-size=\"14.00\" text-anchor=\"middle\" x=\"17925.5\" y=\"-245.8\">value = [52, 21, 13, 12]</text>\n",
       "<text font-family=\"Times New Roman,serif\" font-size=\"14.00\" text-anchor=\"middle\" x=\"17925.5\" y=\"-230.8\">class = A</text>\n",
       "</g>\n",
       "<!-- 282&#45;&gt;283 -->\n",
       "<g class=\"edge\" id=\"edge283\"><title>282-&gt;283</title>\n",
       "<path d=\"M17979.1,-341.907C17972.8,-333.014 17966.2,-323.509 17959.7,-314.331\" fill=\"none\" stroke=\"black\"/>\n",
       "<polygon fill=\"black\" points=\"17962.5,-312.201 17953.9,-306.021 17956.8,-316.219 17962.5,-312.201\" stroke=\"black\"/>\n",
       "</g>\n",
       "<!-- 288 -->\n",
       "<g class=\"node\" id=\"node289\"><title>288</title>\n",
       "<polygon fill=\"#c4e2f7\" points=\"18157.5,-306 18023.5,-306 18023.5,-223 18157.5,-223 18157.5,-306\" stroke=\"black\"/>\n",
       "<text font-family=\"Times New Roman,serif\" font-size=\"14.00\" text-anchor=\"middle\" x=\"18090.5\" y=\"-290.8\">Ever_Married &lt;= 1.5</text>\n",
       "<text font-family=\"Times New Roman,serif\" font-size=\"14.00\" text-anchor=\"middle\" x=\"18090.5\" y=\"-275.8\">gini = 0.643</text>\n",
       "<text font-family=\"Times New Roman,serif\" font-size=\"14.00\" text-anchor=\"middle\" x=\"18090.5\" y=\"-260.8\">samples = 14</text>\n",
       "<text font-family=\"Times New Roman,serif\" font-size=\"14.00\" text-anchor=\"middle\" x=\"18090.5\" y=\"-245.8\">value = [4, 1, 7, 2]</text>\n",
       "<text font-family=\"Times New Roman,serif\" font-size=\"14.00\" text-anchor=\"middle\" x=\"18090.5\" y=\"-230.8\">class = C</text>\n",
       "</g>\n",
       "<!-- 282&#45;&gt;288 -->\n",
       "<g class=\"edge\" id=\"edge288\"><title>282-&gt;288</title>\n",
       "<path d=\"M18036.3,-341.907C18042.6,-333.014 18049.3,-323.509 18055.9,-314.331\" fill=\"none\" stroke=\"black\"/>\n",
       "<polygon fill=\"black\" points=\"18058.8,-316.202 18061.8,-306.021 18053.1,-312.152 18058.8,-316.202\" stroke=\"black\"/>\n",
       "</g>\n",
       "<!-- 284 -->\n",
       "<g class=\"node\" id=\"node285\"><title>284</title>\n",
       "<polygon fill=\"#f6d5bd\" points=\"17855,-187 17696,-187 17696,-104 17855,-104 17855,-187\" stroke=\"black\"/>\n",
       "<text font-family=\"Times New Roman,serif\" font-size=\"14.00\" text-anchor=\"middle\" x=\"17775.5\" y=\"-171.8\">Work_Experience &lt;= 2.5</text>\n",
       "<text font-family=\"Times New Roman,serif\" font-size=\"14.00\" text-anchor=\"middle\" x=\"17775.5\" y=\"-156.8\">gini = 0.668</text>\n",
       "<text font-family=\"Times New Roman,serif\" font-size=\"14.00\" text-anchor=\"middle\" x=\"17775.5\" y=\"-141.8\">samples = 90</text>\n",
       "<text font-family=\"Times New Roman,serif\" font-size=\"14.00\" text-anchor=\"middle\" x=\"17775.5\" y=\"-126.8\">value = [44, 21, 13, 12]</text>\n",
       "<text font-family=\"Times New Roman,serif\" font-size=\"14.00\" text-anchor=\"middle\" x=\"17775.5\" y=\"-111.8\">class = A</text>\n",
       "</g>\n",
       "<!-- 283&#45;&gt;284 -->\n",
       "<g class=\"edge\" id=\"edge284\"><title>283-&gt;284</title>\n",
       "<path d=\"M17873.5,-222.907C17861.2,-213.379 17848.1,-203.148 17835.6,-193.37\" fill=\"none\" stroke=\"black\"/>\n",
       "<polygon fill=\"black\" points=\"17837.5,-190.411 17827.4,-187.021 17833.2,-195.931 17837.5,-190.411\" stroke=\"black\"/>\n",
       "</g>\n",
       "<!-- 287 -->\n",
       "<g class=\"node\" id=\"node288\"><title>287</title>\n",
       "<polygon fill=\"#e58139\" points=\"17992,-179.5 17873,-179.5 17873,-111.5 17992,-111.5 17992,-179.5\" stroke=\"black\"/>\n",
       "<text font-family=\"Times New Roman,serif\" font-size=\"14.00\" text-anchor=\"middle\" x=\"17932.5\" y=\"-164.3\">gini = 0.0</text>\n",
       "<text font-family=\"Times New Roman,serif\" font-size=\"14.00\" text-anchor=\"middle\" x=\"17932.5\" y=\"-149.3\">samples = 8</text>\n",
       "<text font-family=\"Times New Roman,serif\" font-size=\"14.00\" text-anchor=\"middle\" x=\"17932.5\" y=\"-134.3\">value = [8, 0, 0, 0]</text>\n",
       "<text font-family=\"Times New Roman,serif\" font-size=\"14.00\" text-anchor=\"middle\" x=\"17932.5\" y=\"-119.3\">class = A</text>\n",
       "</g>\n",
       "<!-- 283&#45;&gt;287 -->\n",
       "<g class=\"edge\" id=\"edge287\"><title>283-&gt;287</title>\n",
       "<path d=\"M17927.9,-222.907C17928.6,-212.204 17929.3,-200.615 17929.9,-189.776\" fill=\"none\" stroke=\"black\"/>\n",
       "<polygon fill=\"black\" points=\"17933.4,-189.858 17930.5,-179.667 17926.4,-189.44 17933.4,-189.858\" stroke=\"black\"/>\n",
       "</g>\n",
       "<!-- 285 -->\n",
       "<g class=\"node\" id=\"node286\"><title>285</title>\n",
       "<polygon fill=\"#f6d2b9\" points=\"17783,-68 17650,-68 17650,-0 17783,-0 17783,-68\" stroke=\"black\"/>\n",
       "<text font-family=\"Times New Roman,serif\" font-size=\"14.00\" text-anchor=\"middle\" x=\"17716.5\" y=\"-52.8\">gini = 0.612</text>\n",
       "<text font-family=\"Times New Roman,serif\" font-size=\"14.00\" text-anchor=\"middle\" x=\"17716.5\" y=\"-37.8\">samples = 63</text>\n",
       "<text font-family=\"Times New Roman,serif\" font-size=\"14.00\" text-anchor=\"middle\" x=\"17716.5\" y=\"-22.8\">value = [34, 18, 6, 5]</text>\n",
       "<text font-family=\"Times New Roman,serif\" font-size=\"14.00\" text-anchor=\"middle\" x=\"17716.5\" y=\"-7.8\">class = A</text>\n",
       "</g>\n",
       "<!-- 284&#45;&gt;285 -->\n",
       "<g class=\"edge\" id=\"edge285\"><title>284-&gt;285</title>\n",
       "<path d=\"M17753.5,-103.726C17748.9,-95.0615 17743.9,-85.8962 17739.2,-77.1802\" fill=\"none\" stroke=\"black\"/>\n",
       "<polygon fill=\"black\" points=\"17742.3,-75.4428 17734.4,-68.2996 17736.1,-78.7632 17742.3,-75.4428\" stroke=\"black\"/>\n",
       "</g>\n",
       "<!-- 286 -->\n",
       "<g class=\"node\" id=\"node287\"><title>286</title>\n",
       "<polygon fill=\"#fbece1\" points=\"17927.5,-68 17801.5,-68 17801.5,-0 17927.5,-0 17927.5,-68\" stroke=\"black\"/>\n",
       "<text font-family=\"Times New Roman,serif\" font-size=\"14.00\" text-anchor=\"middle\" x=\"17864.5\" y=\"-52.8\">gini = 0.716</text>\n",
       "<text font-family=\"Times New Roman,serif\" font-size=\"14.00\" text-anchor=\"middle\" x=\"17864.5\" y=\"-37.8\">samples = 27</text>\n",
       "<text font-family=\"Times New Roman,serif\" font-size=\"14.00\" text-anchor=\"middle\" x=\"17864.5\" y=\"-22.8\">value = [10, 3, 7, 7]</text>\n",
       "<text font-family=\"Times New Roman,serif\" font-size=\"14.00\" text-anchor=\"middle\" x=\"17864.5\" y=\"-7.8\">class = A</text>\n",
       "</g>\n",
       "<!-- 284&#45;&gt;286 -->\n",
       "<g class=\"edge\" id=\"edge286\"><title>284-&gt;286</title>\n",
       "<path d=\"M17808.6,-103.726C17816,-94.6966 17823.8,-85.1235 17831.1,-76.0816\" fill=\"none\" stroke=\"black\"/>\n",
       "<polygon fill=\"black\" points=\"17833.8,-78.2672 17837.4,-68.2996 17828.4,-73.8521 17833.8,-78.2672\" stroke=\"black\"/>\n",
       "</g>\n",
       "<!-- 289 -->\n",
       "<g class=\"node\" id=\"node290\"><title>289</title>\n",
       "<polygon fill=\"#91c9f1\" points=\"18143,-187 18024,-187 18024,-104 18143,-104 18143,-187\" stroke=\"black\"/>\n",
       "<text font-family=\"Times New Roman,serif\" font-size=\"14.00\" text-anchor=\"middle\" x=\"18083.5\" y=\"-171.8\">Graduated &lt;= 1.0</text>\n",
       "<text font-family=\"Times New Roman,serif\" font-size=\"14.00\" text-anchor=\"middle\" x=\"18083.5\" y=\"-156.8\">gini = 0.545</text>\n",
       "<text font-family=\"Times New Roman,serif\" font-size=\"14.00\" text-anchor=\"middle\" x=\"18083.5\" y=\"-141.8\">samples = 11</text>\n",
       "<text font-family=\"Times New Roman,serif\" font-size=\"14.00\" text-anchor=\"middle\" x=\"18083.5\" y=\"-126.8\">value = [1, 1, 7, 2]</text>\n",
       "<text font-family=\"Times New Roman,serif\" font-size=\"14.00\" text-anchor=\"middle\" x=\"18083.5\" y=\"-111.8\">class = C</text>\n",
       "</g>\n",
       "<!-- 288&#45;&gt;289 -->\n",
       "<g class=\"edge\" id=\"edge289\"><title>288-&gt;289</title>\n",
       "<path d=\"M18088.1,-222.907C18087.6,-214.558 18087,-205.671 18086.5,-197.02\" fill=\"none\" stroke=\"black\"/>\n",
       "<polygon fill=\"black\" points=\"18090,-196.794 18085.9,-187.021 18083,-197.212 18090,-196.794\" stroke=\"black\"/>\n",
       "</g>\n",
       "<!-- 292 -->\n",
       "<g class=\"node\" id=\"node293\"><title>292</title>\n",
       "<polygon fill=\"#e58139\" points=\"18280,-179.5 18161,-179.5 18161,-111.5 18280,-111.5 18280,-179.5\" stroke=\"black\"/>\n",
       "<text font-family=\"Times New Roman,serif\" font-size=\"14.00\" text-anchor=\"middle\" x=\"18220.5\" y=\"-164.3\">gini = 0.0</text>\n",
       "<text font-family=\"Times New Roman,serif\" font-size=\"14.00\" text-anchor=\"middle\" x=\"18220.5\" y=\"-149.3\">samples = 3</text>\n",
       "<text font-family=\"Times New Roman,serif\" font-size=\"14.00\" text-anchor=\"middle\" x=\"18220.5\" y=\"-134.3\">value = [3, 0, 0, 0]</text>\n",
       "<text font-family=\"Times New Roman,serif\" font-size=\"14.00\" text-anchor=\"middle\" x=\"18220.5\" y=\"-119.3\">class = A</text>\n",
       "</g>\n",
       "<!-- 288&#45;&gt;292 -->\n",
       "<g class=\"edge\" id=\"edge292\"><title>288-&gt;292</title>\n",
       "<path d=\"M18135.6,-222.907C18148.7,-211.101 18163,-198.217 18176.1,-186.45\" fill=\"none\" stroke=\"black\"/>\n",
       "<polygon fill=\"black\" points=\"18178.6,-188.958 18183.6,-179.667 18173.9,-183.755 18178.6,-188.958\" stroke=\"black\"/>\n",
       "</g>\n",
       "<!-- 290 -->\n",
       "<g class=\"node\" id=\"node291\"><title>290</title>\n",
       "<polygon fill=\"#eb9cf2\" points=\"18065,-68 17946,-68 17946,-0 18065,-0 18065,-68\" stroke=\"black\"/>\n",
       "<text font-family=\"Times New Roman,serif\" font-size=\"14.00\" text-anchor=\"middle\" x=\"18005.5\" y=\"-52.8\">gini = 0.444</text>\n",
       "<text font-family=\"Times New Roman,serif\" font-size=\"14.00\" text-anchor=\"middle\" x=\"18005.5\" y=\"-37.8\">samples = 3</text>\n",
       "<text font-family=\"Times New Roman,serif\" font-size=\"14.00\" text-anchor=\"middle\" x=\"18005.5\" y=\"-22.8\">value = [0, 1, 0, 2]</text>\n",
       "<text font-family=\"Times New Roman,serif\" font-size=\"14.00\" text-anchor=\"middle\" x=\"18005.5\" y=\"-7.8\">class = D</text>\n",
       "</g>\n",
       "<!-- 289&#45;&gt;290 -->\n",
       "<g class=\"edge\" id=\"edge290\"><title>289-&gt;290</title>\n",
       "<path d=\"M18054.5,-103.726C18048.2,-94.879 18041.5,-85.51 18035.2,-76.6303\" fill=\"none\" stroke=\"black\"/>\n",
       "<polygon fill=\"black\" points=\"18037.9,-74.4138 18029.2,-68.2996 18032.2,-78.4751 18037.9,-74.4138\" stroke=\"black\"/>\n",
       "</g>\n",
       "<!-- 291 -->\n",
       "<g class=\"node\" id=\"node292\"><title>291</title>\n",
       "<polygon fill=\"#55abe9\" points=\"18202,-68 18083,-68 18083,-0 18202,-0 18202,-68\" stroke=\"black\"/>\n",
       "<text font-family=\"Times New Roman,serif\" font-size=\"14.00\" text-anchor=\"middle\" x=\"18142.5\" y=\"-52.8\">gini = 0.219</text>\n",
       "<text font-family=\"Times New Roman,serif\" font-size=\"14.00\" text-anchor=\"middle\" x=\"18142.5\" y=\"-37.8\">samples = 8</text>\n",
       "<text font-family=\"Times New Roman,serif\" font-size=\"14.00\" text-anchor=\"middle\" x=\"18142.5\" y=\"-22.8\">value = [1, 0, 7, 0]</text>\n",
       "<text font-family=\"Times New Roman,serif\" font-size=\"14.00\" text-anchor=\"middle\" x=\"18142.5\" y=\"-7.8\">class = C</text>\n",
       "</g>\n",
       "<!-- 289&#45;&gt;291 -->\n",
       "<g class=\"edge\" id=\"edge291\"><title>289-&gt;291</title>\n",
       "<path d=\"M18105.5,-103.726C18110.1,-95.0615 18115.1,-85.8962 18119.8,-77.1802\" fill=\"none\" stroke=\"black\"/>\n",
       "<polygon fill=\"black\" points=\"18122.9,-78.7632 18124.6,-68.2996 18116.7,-75.4428 18122.9,-78.7632\" stroke=\"black\"/>\n",
       "</g>\n",
       "<!-- 294 -->\n",
       "<g class=\"node\" id=\"node295\"><title>294</title>\n",
       "<polygon fill=\"#d7f9d4\" points=\"18857.5,-425 18697.5,-425 18697.5,-342 18857.5,-342 18857.5,-425\" stroke=\"black\"/>\n",
       "<text font-family=\"Times New Roman,serif\" font-size=\"14.00\" text-anchor=\"middle\" x=\"18777.5\" y=\"-409.8\">Gender &lt;= 0.5</text>\n",
       "<text font-family=\"Times New Roman,serif\" font-size=\"14.00\" text-anchor=\"middle\" x=\"18777.5\" y=\"-394.8\">gini = 0.672</text>\n",
       "<text font-family=\"Times New Roman,serif\" font-size=\"14.00\" text-anchor=\"middle\" x=\"18777.5\" y=\"-379.8\">samples = 426</text>\n",
       "<text font-family=\"Times New Roman,serif\" font-size=\"14.00\" text-anchor=\"middle\" x=\"18777.5\" y=\"-364.8\">value = [94, 188, 122, 22]</text>\n",
       "<text font-family=\"Times New Roman,serif\" font-size=\"14.00\" text-anchor=\"middle\" x=\"18777.5\" y=\"-349.8\">class = B</text>\n",
       "</g>\n",
       "<!-- 293&#45;&gt;294 -->\n",
       "<g class=\"edge\" id=\"edge294\"><title>293-&gt;294</title>\n",
       "<path d=\"M18777.5,-460.907C18777.5,-452.649 18777.5,-443.864 18777.5,-435.302\" fill=\"none\" stroke=\"black\"/>\n",
       "<polygon fill=\"black\" points=\"18781,-435.021 18777.5,-425.021 18774,-435.021 18781,-435.021\" stroke=\"black\"/>\n",
       "</g>\n",
       "<!-- 309 -->\n",
       "<g class=\"node\" id=\"node310\"><title>309</title>\n",
       "<polygon fill=\"#eeab7b\" points=\"19380.5,-425 19254.5,-425 19254.5,-342 19380.5,-342 19380.5,-425\" stroke=\"black\"/>\n",
       "<text font-family=\"Times New Roman,serif\" font-size=\"14.00\" text-anchor=\"middle\" x=\"19317.5\" y=\"-409.8\">Family_Size &lt;= 3.0</text>\n",
       "<text font-family=\"Times New Roman,serif\" font-size=\"14.00\" text-anchor=\"middle\" x=\"19317.5\" y=\"-394.8\">gini = 0.43</text>\n",
       "<text font-family=\"Times New Roman,serif\" font-size=\"14.00\" text-anchor=\"middle\" x=\"19317.5\" y=\"-379.8\">samples = 11</text>\n",
       "<text font-family=\"Times New Roman,serif\" font-size=\"14.00\" text-anchor=\"middle\" x=\"19317.5\" y=\"-364.8\">value = [8, 0, 1, 2]</text>\n",
       "<text font-family=\"Times New Roman,serif\" font-size=\"14.00\" text-anchor=\"middle\" x=\"19317.5\" y=\"-349.8\">class = A</text>\n",
       "</g>\n",
       "<!-- 293&#45;&gt;309 -->\n",
       "<g class=\"edge\" id=\"edge309\"><title>293-&gt;309</title>\n",
       "<path d=\"M18861.3,-483.347C18966.3,-460.604 19144.4,-421.998 19244.2,-400.378\" fill=\"none\" stroke=\"black\"/>\n",
       "<polygon fill=\"black\" points=\"19245.2,-403.75 19254.2,-398.212 19243.7,-396.909 19245.2,-403.75\" stroke=\"black\"/>\n",
       "</g>\n",
       "<!-- 295 -->\n",
       "<g class=\"node\" id=\"node296\"><title>295</title>\n",
       "<polygon fill=\"#e6fbe4\" points=\"18741.5,-306 18601.5,-306 18601.5,-223 18741.5,-223 18741.5,-306\" stroke=\"black\"/>\n",
       "<text font-family=\"Times New Roman,serif\" font-size=\"14.00\" text-anchor=\"middle\" x=\"18671.5\" y=\"-290.8\">Family_Size &lt;= 1.5</text>\n",
       "<text font-family=\"Times New Roman,serif\" font-size=\"14.00\" text-anchor=\"middle\" x=\"18671.5\" y=\"-275.8\">gini = 0.644</text>\n",
       "<text font-family=\"Times New Roman,serif\" font-size=\"14.00\" text-anchor=\"middle\" x=\"18671.5\" y=\"-260.8\">samples = 196</text>\n",
       "<text font-family=\"Times New Roman,serif\" font-size=\"14.00\" text-anchor=\"middle\" x=\"18671.5\" y=\"-245.8\">value = [29, 88, 71, 8]</text>\n",
       "<text font-family=\"Times New Roman,serif\" font-size=\"14.00\" text-anchor=\"middle\" x=\"18671.5\" y=\"-230.8\">class = B</text>\n",
       "</g>\n",
       "<!-- 294&#45;&gt;295 -->\n",
       "<g class=\"edge\" id=\"edge295\"><title>294-&gt;295</title>\n",
       "<path d=\"M18740.7,-341.907C18732.4,-332.742 18723.5,-322.927 18715,-313.489\" fill=\"none\" stroke=\"black\"/>\n",
       "<polygon fill=\"black\" points=\"18717.5,-311.082 18708.2,-306.021 18712.3,-315.782 18717.5,-311.082\" stroke=\"black\"/>\n",
       "</g>\n",
       "<!-- 302 -->\n",
       "<g class=\"node\" id=\"node303\"><title>302</title>\n",
       "<polygon fill=\"#d8f9d5\" points=\"19034,-306 18881,-306 18881,-223 19034,-223 19034,-306\" stroke=\"black\"/>\n",
       "<text font-family=\"Times New Roman,serif\" font-size=\"14.00\" text-anchor=\"middle\" x=\"18957.5\" y=\"-290.8\">Profession &lt;= 0.5</text>\n",
       "<text font-family=\"Times New Roman,serif\" font-size=\"14.00\" text-anchor=\"middle\" x=\"18957.5\" y=\"-275.8\">gini = 0.678</text>\n",
       "<text font-family=\"Times New Roman,serif\" font-size=\"14.00\" text-anchor=\"middle\" x=\"18957.5\" y=\"-260.8\">samples = 230</text>\n",
       "<text font-family=\"Times New Roman,serif\" font-size=\"14.00\" text-anchor=\"middle\" x=\"18957.5\" y=\"-245.8\">value = [65, 100, 51, 14]</text>\n",
       "<text font-family=\"Times New Roman,serif\" font-size=\"14.00\" text-anchor=\"middle\" x=\"18957.5\" y=\"-230.8\">class = B</text>\n",
       "</g>\n",
       "<!-- 294&#45;&gt;302 -->\n",
       "<g class=\"edge\" id=\"edge302\"><title>294-&gt;302</title>\n",
       "<path d=\"M18840,-341.907C18855,-332.106 18871.2,-321.563 18886.7,-311.533\" fill=\"none\" stroke=\"black\"/>\n",
       "<polygon fill=\"black\" points=\"18888.7,-314.405 18895.2,-306.021 18884.9,-308.536 18888.7,-314.405\" stroke=\"black\"/>\n",
       "</g>\n",
       "<!-- 296 -->\n",
       "<g class=\"node\" id=\"node297\"><title>296</title>\n",
       "<polygon fill=\"#d1f8ce\" points=\"18521,-187 18362,-187 18362,-104 18521,-104 18521,-187\" stroke=\"black\"/>\n",
       "<text font-family=\"Times New Roman,serif\" font-size=\"14.00\" text-anchor=\"middle\" x=\"18441.5\" y=\"-171.8\">Work_Experience &lt;= 8.5</text>\n",
       "<text font-family=\"Times New Roman,serif\" font-size=\"14.00\" text-anchor=\"middle\" x=\"18441.5\" y=\"-156.8\">gini = 0.661</text>\n",
       "<text font-family=\"Times New Roman,serif\" font-size=\"14.00\" text-anchor=\"middle\" x=\"18441.5\" y=\"-141.8\">samples = 106</text>\n",
       "<text font-family=\"Times New Roman,serif\" font-size=\"14.00\" text-anchor=\"middle\" x=\"18441.5\" y=\"-126.8\">value = [22, 49, 30, 5]</text>\n",
       "<text font-family=\"Times New Roman,serif\" font-size=\"14.00\" text-anchor=\"middle\" x=\"18441.5\" y=\"-111.8\">class = B</text>\n",
       "</g>\n",
       "<!-- 295&#45;&gt;296 -->\n",
       "<g class=\"edge\" id=\"edge296\"><title>295-&gt;296</title>\n",
       "<path d=\"M18601.2,-227.76C18578.9,-216.379 18553.8,-203.635 18530.3,-191.677\" fill=\"none\" stroke=\"black\"/>\n",
       "<polygon fill=\"black\" points=\"18531.9,-188.551 18521.4,-187.136 18528.7,-194.79 18531.9,-188.551\" stroke=\"black\"/>\n",
       "</g>\n",
       "<!-- 299 -->\n",
       "<g class=\"node\" id=\"node300\"><title>299</title>\n",
       "<polygon fill=\"#f7fbfe\" points=\"18738,-187 18605,-187 18605,-104 18738,-104 18738,-187\" stroke=\"black\"/>\n",
       "<text font-family=\"Times New Roman,serif\" font-size=\"14.00\" text-anchor=\"middle\" x=\"18671.5\" y=\"-171.8\">Age &lt;= 62.5</text>\n",
       "<text font-family=\"Times New Roman,serif\" font-size=\"14.00\" text-anchor=\"middle\" x=\"18671.5\" y=\"-156.8\">gini = 0.598</text>\n",
       "<text font-family=\"Times New Roman,serif\" font-size=\"14.00\" text-anchor=\"middle\" x=\"18671.5\" y=\"-141.8\">samples = 90</text>\n",
       "<text font-family=\"Times New Roman,serif\" font-size=\"14.00\" text-anchor=\"middle\" x=\"18671.5\" y=\"-126.8\">value = [7, 39, 41, 3]</text>\n",
       "<text font-family=\"Times New Roman,serif\" font-size=\"14.00\" text-anchor=\"middle\" x=\"18671.5\" y=\"-111.8\">class = C</text>\n",
       "</g>\n",
       "<!-- 295&#45;&gt;299 -->\n",
       "<g class=\"edge\" id=\"edge299\"><title>295-&gt;299</title>\n",
       "<path d=\"M18671.5,-222.907C18671.5,-214.649 18671.5,-205.864 18671.5,-197.302\" fill=\"none\" stroke=\"black\"/>\n",
       "<polygon fill=\"black\" points=\"18675,-197.021 18671.5,-187.021 18668,-197.021 18675,-197.021\" stroke=\"black\"/>\n",
       "</g>\n",
       "<!-- 297 -->\n",
       "<g class=\"node\" id=\"node298\"><title>297</title>\n",
       "<polygon fill=\"#e3fbe1\" points=\"18360.5,-68 18220.5,-68 18220.5,-0 18360.5,-0 18360.5,-68\" stroke=\"black\"/>\n",
       "<text font-family=\"Times New Roman,serif\" font-size=\"14.00\" text-anchor=\"middle\" x=\"18290.5\" y=\"-52.8\">gini = 0.682</text>\n",
       "<text font-family=\"Times New Roman,serif\" font-size=\"14.00\" text-anchor=\"middle\" x=\"18290.5\" y=\"-37.8\">samples = 95</text>\n",
       "<text font-family=\"Times New Roman,serif\" font-size=\"14.00\" text-anchor=\"middle\" x=\"18290.5\" y=\"-22.8\">value = [22, 39, 29, 5]</text>\n",
       "<text font-family=\"Times New Roman,serif\" font-size=\"14.00\" text-anchor=\"middle\" x=\"18290.5\" y=\"-7.8\">class = B</text>\n",
       "</g>\n",
       "<!-- 296&#45;&gt;297 -->\n",
       "<g class=\"edge\" id=\"edge297\"><title>296-&gt;297</title>\n",
       "<path d=\"M18385.3,-103.726C18371.9,-94.0582 18357.7,-83.767 18344.5,-74.172\" fill=\"none\" stroke=\"black\"/>\n",
       "<polygon fill=\"black\" points=\"18346.6,-71.3368 18336.4,-68.2996 18342.5,-77.0036 18346.6,-71.3368\" stroke=\"black\"/>\n",
       "</g>\n",
       "<!-- 298 -->\n",
       "<g class=\"node\" id=\"node299\"><title>298</title>\n",
       "<polygon fill=\"#59e84d\" points=\"18504.5,-68 18378.5,-68 18378.5,-0 18504.5,-0 18504.5,-68\" stroke=\"black\"/>\n",
       "<text font-family=\"Times New Roman,serif\" font-size=\"14.00\" text-anchor=\"middle\" x=\"18441.5\" y=\"-52.8\">gini = 0.165</text>\n",
       "<text font-family=\"Times New Roman,serif\" font-size=\"14.00\" text-anchor=\"middle\" x=\"18441.5\" y=\"-37.8\">samples = 11</text>\n",
       "<text font-family=\"Times New Roman,serif\" font-size=\"14.00\" text-anchor=\"middle\" x=\"18441.5\" y=\"-22.8\">value = [0, 10, 1, 0]</text>\n",
       "<text font-family=\"Times New Roman,serif\" font-size=\"14.00\" text-anchor=\"middle\" x=\"18441.5\" y=\"-7.8\">class = B</text>\n",
       "</g>\n",
       "<!-- 296&#45;&gt;298 -->\n",
       "<g class=\"edge\" id=\"edge298\"><title>296-&gt;298</title>\n",
       "<path d=\"M18441.5,-103.726C18441.5,-95.5175 18441.5,-86.8595 18441.5,-78.56\" fill=\"none\" stroke=\"black\"/>\n",
       "<polygon fill=\"black\" points=\"18445,-78.2996 18441.5,-68.2996 18438,-78.2996 18445,-78.2996\" stroke=\"black\"/>\n",
       "</g>\n",
       "<!-- 300 -->\n",
       "<g class=\"node\" id=\"node301\"><title>300</title>\n",
       "<polygon fill=\"#cee6f8\" points=\"18656,-68 18523,-68 18523,-0 18656,-0 18656,-68\" stroke=\"black\"/>\n",
       "<text font-family=\"Times New Roman,serif\" font-size=\"14.00\" text-anchor=\"middle\" x=\"18589.5\" y=\"-52.8\">gini = 0.592</text>\n",
       "<text font-family=\"Times New Roman,serif\" font-size=\"14.00\" text-anchor=\"middle\" x=\"18589.5\" y=\"-37.8\">samples = 75</text>\n",
       "<text font-family=\"Times New Roman,serif\" font-size=\"14.00\" text-anchor=\"middle\" x=\"18589.5\" y=\"-22.8\">value = [6, 27, 39, 3]</text>\n",
       "<text font-family=\"Times New Roman,serif\" font-size=\"14.00\" text-anchor=\"middle\" x=\"18589.5\" y=\"-7.8\">class = C</text>\n",
       "</g>\n",
       "<!-- 299&#45;&gt;300 -->\n",
       "<g class=\"edge\" id=\"edge300\"><title>299-&gt;300</title>\n",
       "<path d=\"M18641,-103.726C18634.3,-94.7878 18627.2,-85.3168 18620.5,-76.3558\" fill=\"none\" stroke=\"black\"/>\n",
       "<polygon fill=\"black\" points=\"18623.2,-74.206 18614.4,-68.2996 18617.6,-78.402 18623.2,-74.206\" stroke=\"black\"/>\n",
       "</g>\n",
       "<!-- 301 -->\n",
       "<g class=\"node\" id=\"node302\"><title>301</title>\n",
       "<polygon fill=\"#71eb67\" points=\"18800.5,-68 18674.5,-68 18674.5,-0 18800.5,-0 18800.5,-68\" stroke=\"black\"/>\n",
       "<text font-family=\"Times New Roman,serif\" font-size=\"14.00\" text-anchor=\"middle\" x=\"18737.5\" y=\"-52.8\">gini = 0.338</text>\n",
       "<text font-family=\"Times New Roman,serif\" font-size=\"14.00\" text-anchor=\"middle\" x=\"18737.5\" y=\"-37.8\">samples = 15</text>\n",
       "<text font-family=\"Times New Roman,serif\" font-size=\"14.00\" text-anchor=\"middle\" x=\"18737.5\" y=\"-22.8\">value = [1, 12, 2, 0]</text>\n",
       "<text font-family=\"Times New Roman,serif\" font-size=\"14.00\" text-anchor=\"middle\" x=\"18737.5\" y=\"-7.8\">class = B</text>\n",
       "</g>\n",
       "<!-- 299&#45;&gt;301 -->\n",
       "<g class=\"edge\" id=\"edge301\"><title>299-&gt;301</title>\n",
       "<path d=\"M18696.1,-103.726C18701.4,-94.9703 18706.9,-85.7032 18712.2,-76.9051\" fill=\"none\" stroke=\"black\"/>\n",
       "<polygon fill=\"black\" points=\"18715.3,-78.671 18717.4,-68.2996 18709.3,-75.0574 18715.3,-78.671\" stroke=\"black\"/>\n",
       "</g>\n",
       "<!-- 303 -->\n",
       "<g class=\"node\" id=\"node304\"><title>303</title>\n",
       "<polygon fill=\"#cff8cb\" points=\"19027.5,-187 18887.5,-187 18887.5,-104 19027.5,-104 19027.5,-187\" stroke=\"black\"/>\n",
       "<text font-family=\"Times New Roman,serif\" font-size=\"14.00\" text-anchor=\"middle\" x=\"18957.5\" y=\"-171.8\">Ever_Married &lt;= 1.0</text>\n",
       "<text font-family=\"Times New Roman,serif\" font-size=\"14.00\" text-anchor=\"middle\" x=\"18957.5\" y=\"-156.8\">gini = 0.663</text>\n",
       "<text font-family=\"Times New Roman,serif\" font-size=\"14.00\" text-anchor=\"middle\" x=\"18957.5\" y=\"-141.8\">samples = 209</text>\n",
       "<text font-family=\"Times New Roman,serif\" font-size=\"14.00\" text-anchor=\"middle\" x=\"18957.5\" y=\"-126.8\">value = [56, 96, 48, 9]</text>\n",
       "<text font-family=\"Times New Roman,serif\" font-size=\"14.00\" text-anchor=\"middle\" x=\"18957.5\" y=\"-111.8\">class = B</text>\n",
       "</g>\n",
       "<!-- 302&#45;&gt;303 -->\n",
       "<g class=\"edge\" id=\"edge303\"><title>302-&gt;303</title>\n",
       "<path d=\"M18957.5,-222.907C18957.5,-214.649 18957.5,-205.864 18957.5,-197.302\" fill=\"none\" stroke=\"black\"/>\n",
       "<polygon fill=\"black\" points=\"18961,-197.021 18957.5,-187.021 18954,-197.021 18961,-197.021\" stroke=\"black\"/>\n",
       "</g>\n",
       "<!-- 306 -->\n",
       "<g class=\"node\" id=\"node307\"><title>306</title>\n",
       "<polygon fill=\"#f8e0ce\" points=\"19240,-187 19121,-187 19121,-104 19240,-104 19240,-187\" stroke=\"black\"/>\n",
       "<text font-family=\"Times New Roman,serif\" font-size=\"14.00\" text-anchor=\"middle\" x=\"19180.5\" y=\"-171.8\">Age &lt;= 50.5</text>\n",
       "<text font-family=\"Times New Roman,serif\" font-size=\"14.00\" text-anchor=\"middle\" x=\"19180.5\" y=\"-156.8\">gini = 0.703</text>\n",
       "<text font-family=\"Times New Roman,serif\" font-size=\"14.00\" text-anchor=\"middle\" x=\"19180.5\" y=\"-141.8\">samples = 21</text>\n",
       "<text font-family=\"Times New Roman,serif\" font-size=\"14.00\" text-anchor=\"middle\" x=\"19180.5\" y=\"-126.8\">value = [9, 4, 3, 5]</text>\n",
       "<text font-family=\"Times New Roman,serif\" font-size=\"14.00\" text-anchor=\"middle\" x=\"19180.5\" y=\"-111.8\">class = A</text>\n",
       "</g>\n",
       "<!-- 302&#45;&gt;306 -->\n",
       "<g class=\"edge\" id=\"edge306\"><title>302-&gt;306</title>\n",
       "<path d=\"M19034.2,-223.235C19059.5,-209.989 19087.4,-195.357 19112,-182.453\" fill=\"none\" stroke=\"black\"/>\n",
       "<polygon fill=\"black\" points=\"19113.6,-185.528 19120.9,-177.783 19110.4,-179.33 19113.6,-185.528\" stroke=\"black\"/>\n",
       "</g>\n",
       "<!-- 304 -->\n",
       "<g class=\"node\" id=\"node305\"><title>304</title>\n",
       "<polygon fill=\"#9ef196\" points=\"18944.5,-68 18818.5,-68 18818.5,-0 18944.5,-0 18944.5,-68\" stroke=\"black\"/>\n",
       "<text font-family=\"Times New Roman,serif\" font-size=\"14.00\" text-anchor=\"middle\" x=\"18881.5\" y=\"-52.8\">gini = 0.541</text>\n",
       "<text font-family=\"Times New Roman,serif\" font-size=\"14.00\" text-anchor=\"middle\" x=\"18881.5\" y=\"-37.8\">samples = 45</text>\n",
       "<text font-family=\"Times New Roman,serif\" font-size=\"14.00\" text-anchor=\"middle\" x=\"18881.5\" y=\"-22.8\">value = [9, 28, 8, 0]</text>\n",
       "<text font-family=\"Times New Roman,serif\" font-size=\"14.00\" text-anchor=\"middle\" x=\"18881.5\" y=\"-7.8\">class = B</text>\n",
       "</g>\n",
       "<!-- 303&#45;&gt;304 -->\n",
       "<g class=\"edge\" id=\"edge304\"><title>303-&gt;304</title>\n",
       "<path d=\"M18929.2,-103.726C18923.1,-94.879 18916.6,-85.51 18910.4,-76.6303\" fill=\"none\" stroke=\"black\"/>\n",
       "<polygon fill=\"black\" points=\"18913.2,-74.5191 18904.6,-68.2996 18907.4,-78.5104 18913.2,-74.5191\" stroke=\"black\"/>\n",
       "</g>\n",
       "<!-- 305 -->\n",
       "<g class=\"node\" id=\"node306\"><title>305</title>\n",
       "<polygon fill=\"#defadb\" points=\"19102.5,-68 18962.5,-68 18962.5,-0 19102.5,-0 19102.5,-68\" stroke=\"black\"/>\n",
       "<text font-family=\"Times New Roman,serif\" font-size=\"14.00\" text-anchor=\"middle\" x=\"19032.5\" y=\"-52.8\">gini = 0.683</text>\n",
       "<text font-family=\"Times New Roman,serif\" font-size=\"14.00\" text-anchor=\"middle\" x=\"19032.5\" y=\"-37.8\">samples = 164</text>\n",
       "<text font-family=\"Times New Roman,serif\" font-size=\"14.00\" text-anchor=\"middle\" x=\"19032.5\" y=\"-22.8\">value = [47, 68, 40, 9]</text>\n",
       "<text font-family=\"Times New Roman,serif\" font-size=\"14.00\" text-anchor=\"middle\" x=\"19032.5\" y=\"-7.8\">class = B</text>\n",
       "</g>\n",
       "<!-- 303&#45;&gt;305 -->\n",
       "<g class=\"edge\" id=\"edge305\"><title>303-&gt;305</title>\n",
       "<path d=\"M18985.4,-103.726C18991.5,-94.879 18997.9,-85.51 19004,-76.6303\" fill=\"none\" stroke=\"black\"/>\n",
       "<polygon fill=\"black\" points=\"19006.9,-78.5277 19009.7,-68.2996 19001.2,-74.5721 19006.9,-78.5277\" stroke=\"black\"/>\n",
       "</g>\n",
       "<!-- 307 -->\n",
       "<g class=\"node\" id=\"node308\"><title>307</title>\n",
       "<polygon fill=\"#f2bdf6\" points=\"19240,-68 19121,-68 19121,-0 19240,-0 19240,-68\" stroke=\"black\"/>\n",
       "<text font-family=\"Times New Roman,serif\" font-size=\"14.00\" text-anchor=\"middle\" x=\"19180.5\" y=\"-52.8\">gini = 0.656</text>\n",
       "<text font-family=\"Times New Roman,serif\" font-size=\"14.00\" text-anchor=\"middle\" x=\"19180.5\" y=\"-37.8\">samples = 8</text>\n",
       "<text font-family=\"Times New Roman,serif\" font-size=\"14.00\" text-anchor=\"middle\" x=\"19180.5\" y=\"-22.8\">value = [1, 2, 1, 4]</text>\n",
       "<text font-family=\"Times New Roman,serif\" font-size=\"14.00\" text-anchor=\"middle\" x=\"19180.5\" y=\"-7.8\">class = D</text>\n",
       "</g>\n",
       "<!-- 306&#45;&gt;307 -->\n",
       "<g class=\"edge\" id=\"edge307\"><title>306-&gt;307</title>\n",
       "<path d=\"M19180.5,-103.726C19180.5,-95.5175 19180.5,-86.8595 19180.5,-78.56\" fill=\"none\" stroke=\"black\"/>\n",
       "<polygon fill=\"black\" points=\"19184,-78.2996 19180.5,-68.2996 19177,-78.2996 19184,-78.2996\" stroke=\"black\"/>\n",
       "</g>\n",
       "<!-- 308 -->\n",
       "<g class=\"node\" id=\"node309\"><title>308</title>\n",
       "<polygon fill=\"#f1ba93\" points=\"19377,-68 19258,-68 19258,-0 19377,-0 19377,-68\" stroke=\"black\"/>\n",
       "<text font-family=\"Times New Roman,serif\" font-size=\"14.00\" text-anchor=\"middle\" x=\"19317.5\" y=\"-52.8\">gini = 0.568</text>\n",
       "<text font-family=\"Times New Roman,serif\" font-size=\"14.00\" text-anchor=\"middle\" x=\"19317.5\" y=\"-37.8\">samples = 13</text>\n",
       "<text font-family=\"Times New Roman,serif\" font-size=\"14.00\" text-anchor=\"middle\" x=\"19317.5\" y=\"-22.8\">value = [8, 2, 2, 1]</text>\n",
       "<text font-family=\"Times New Roman,serif\" font-size=\"14.00\" text-anchor=\"middle\" x=\"19317.5\" y=\"-7.8\">class = A</text>\n",
       "</g>\n",
       "<!-- 306&#45;&gt;308 -->\n",
       "<g class=\"edge\" id=\"edge308\"><title>306-&gt;308</title>\n",
       "<path d=\"M19231.5,-103.726C19243.4,-94.2406 19256,-84.1551 19267.8,-74.7159\" fill=\"none\" stroke=\"black\"/>\n",
       "<polygon fill=\"black\" points=\"19270.2,-77.2771 19275.8,-68.2996 19265.8,-71.8091 19270.2,-77.2771\" stroke=\"black\"/>\n",
       "</g>\n",
       "<!-- 310 -->\n",
       "<g class=\"node\" id=\"node311\"><title>310</title>\n",
       "<polygon fill=\"#eb9d65\" points=\"19384.5,-306 19250.5,-306 19250.5,-223 19384.5,-223 19384.5,-306\" stroke=\"black\"/>\n",
       "<text font-family=\"Times New Roman,serif\" font-size=\"14.00\" text-anchor=\"middle\" x=\"19317.5\" y=\"-290.8\">Ever_Married &lt;= 1.0</text>\n",
       "<text font-family=\"Times New Roman,serif\" font-size=\"14.00\" text-anchor=\"middle\" x=\"19317.5\" y=\"-275.8\">gini = 0.34</text>\n",
       "<text font-family=\"Times New Roman,serif\" font-size=\"14.00\" text-anchor=\"middle\" x=\"19317.5\" y=\"-260.8\">samples = 10</text>\n",
       "<text font-family=\"Times New Roman,serif\" font-size=\"14.00\" text-anchor=\"middle\" x=\"19317.5\" y=\"-245.8\">value = [8, 0, 1, 1]</text>\n",
       "<text font-family=\"Times New Roman,serif\" font-size=\"14.00\" text-anchor=\"middle\" x=\"19317.5\" y=\"-230.8\">class = A</text>\n",
       "</g>\n",
       "<!-- 309&#45;&gt;310 -->\n",
       "<g class=\"edge\" id=\"edge310\"><title>309-&gt;310</title>\n",
       "<path d=\"M19317.5,-341.907C19317.5,-333.649 19317.5,-324.864 19317.5,-316.302\" fill=\"none\" stroke=\"black\"/>\n",
       "<polygon fill=\"black\" points=\"19321,-316.021 19317.5,-306.021 19314,-316.021 19321,-316.021\" stroke=\"black\"/>\n",
       "</g>\n",
       "<!-- 315 -->\n",
       "<g class=\"node\" id=\"node316\"><title>315</title>\n",
       "<polygon fill=\"#d739e5\" points=\"19522,-298.5 19403,-298.5 19403,-230.5 19522,-230.5 19522,-298.5\" stroke=\"black\"/>\n",
       "<text font-family=\"Times New Roman,serif\" font-size=\"14.00\" text-anchor=\"middle\" x=\"19462.5\" y=\"-283.3\">gini = 0.0</text>\n",
       "<text font-family=\"Times New Roman,serif\" font-size=\"14.00\" text-anchor=\"middle\" x=\"19462.5\" y=\"-268.3\">samples = 1</text>\n",
       "<text font-family=\"Times New Roman,serif\" font-size=\"14.00\" text-anchor=\"middle\" x=\"19462.5\" y=\"-253.3\">value = [0, 0, 0, 1]</text>\n",
       "<text font-family=\"Times New Roman,serif\" font-size=\"14.00\" text-anchor=\"middle\" x=\"19462.5\" y=\"-238.3\">class = D</text>\n",
       "</g>\n",
       "<!-- 309&#45;&gt;315 -->\n",
       "<g class=\"edge\" id=\"edge315\"><title>309-&gt;315</title>\n",
       "<path d=\"M19367.8,-341.907C19382.6,-329.99 19398.7,-316.976 19413.4,-305.12\" fill=\"none\" stroke=\"black\"/>\n",
       "<polygon fill=\"black\" points=\"19415.8,-307.67 19421.4,-298.667 19411.4,-302.223 19415.8,-307.67\" stroke=\"black\"/>\n",
       "</g>\n",
       "<!-- 311 -->\n",
       "<g class=\"node\" id=\"node312\"><title>311</title>\n",
       "<polygon fill=\"#d739e5\" points=\"19377,-179.5 19258,-179.5 19258,-111.5 19377,-111.5 19377,-179.5\" stroke=\"black\"/>\n",
       "<text font-family=\"Times New Roman,serif\" font-size=\"14.00\" text-anchor=\"middle\" x=\"19317.5\" y=\"-164.3\">gini = 0.0</text>\n",
       "<text font-family=\"Times New Roman,serif\" font-size=\"14.00\" text-anchor=\"middle\" x=\"19317.5\" y=\"-149.3\">samples = 1</text>\n",
       "<text font-family=\"Times New Roman,serif\" font-size=\"14.00\" text-anchor=\"middle\" x=\"19317.5\" y=\"-134.3\">value = [0, 0, 0, 1]</text>\n",
       "<text font-family=\"Times New Roman,serif\" font-size=\"14.00\" text-anchor=\"middle\" x=\"19317.5\" y=\"-119.3\">class = D</text>\n",
       "</g>\n",
       "<!-- 310&#45;&gt;311 -->\n",
       "<g class=\"edge\" id=\"edge311\"><title>310-&gt;311</title>\n",
       "<path d=\"M19317.5,-222.907C19317.5,-212.204 19317.5,-200.615 19317.5,-189.776\" fill=\"none\" stroke=\"black\"/>\n",
       "<polygon fill=\"black\" points=\"19321,-189.667 19317.5,-179.667 19314,-189.667 19321,-189.667\" stroke=\"black\"/>\n",
       "</g>\n",
       "<!-- 312 -->\n",
       "<g class=\"node\" id=\"node313\"><title>312</title>\n",
       "<polygon fill=\"#e89152\" points=\"19514,-187 19395,-187 19395,-104 19514,-104 19514,-187\" stroke=\"black\"/>\n",
       "<text font-family=\"Times New Roman,serif\" font-size=\"14.00\" text-anchor=\"middle\" x=\"19454.5\" y=\"-171.8\">Gender &lt;= 0.5</text>\n",
       "<text font-family=\"Times New Roman,serif\" font-size=\"14.00\" text-anchor=\"middle\" x=\"19454.5\" y=\"-156.8\">gini = 0.198</text>\n",
       "<text font-family=\"Times New Roman,serif\" font-size=\"14.00\" text-anchor=\"middle\" x=\"19454.5\" y=\"-141.8\">samples = 9</text>\n",
       "<text font-family=\"Times New Roman,serif\" font-size=\"14.00\" text-anchor=\"middle\" x=\"19454.5\" y=\"-126.8\">value = [8, 0, 1, 0]</text>\n",
       "<text font-family=\"Times New Roman,serif\" font-size=\"14.00\" text-anchor=\"middle\" x=\"19454.5\" y=\"-111.8\">class = A</text>\n",
       "</g>\n",
       "<!-- 310&#45;&gt;312 -->\n",
       "<g class=\"edge\" id=\"edge312\"><title>310-&gt;312</title>\n",
       "<path d=\"M19365,-222.907C19376.1,-213.469 19387.9,-203.343 19399.3,-193.649\" fill=\"none\" stroke=\"black\"/>\n",
       "<polygon fill=\"black\" points=\"19401.7,-196.177 19407.1,-187.021 19397.2,-190.854 19401.7,-196.177\" stroke=\"black\"/>\n",
       "</g>\n",
       "<!-- 313 -->\n",
       "<g class=\"node\" id=\"node314\"><title>313</title>\n",
       "<polygon fill=\"#f2c09c\" points=\"19514,-68 19395,-68 19395,-0 19514,-0 19514,-68\" stroke=\"black\"/>\n",
       "<text font-family=\"Times New Roman,serif\" font-size=\"14.00\" text-anchor=\"middle\" x=\"19454.5\" y=\"-52.8\">gini = 0.444</text>\n",
       "<text font-family=\"Times New Roman,serif\" font-size=\"14.00\" text-anchor=\"middle\" x=\"19454.5\" y=\"-37.8\">samples = 3</text>\n",
       "<text font-family=\"Times New Roman,serif\" font-size=\"14.00\" text-anchor=\"middle\" x=\"19454.5\" y=\"-22.8\">value = [2, 0, 1, 0]</text>\n",
       "<text font-family=\"Times New Roman,serif\" font-size=\"14.00\" text-anchor=\"middle\" x=\"19454.5\" y=\"-7.8\">class = A</text>\n",
       "</g>\n",
       "<!-- 312&#45;&gt;313 -->\n",
       "<g class=\"edge\" id=\"edge313\"><title>312-&gt;313</title>\n",
       "<path d=\"M19454.5,-103.726C19454.5,-95.5175 19454.5,-86.8595 19454.5,-78.56\" fill=\"none\" stroke=\"black\"/>\n",
       "<polygon fill=\"black\" points=\"19458,-78.2996 19454.5,-68.2996 19451,-78.2996 19458,-78.2996\" stroke=\"black\"/>\n",
       "</g>\n",
       "<!-- 314 -->\n",
       "<g class=\"node\" id=\"node315\"><title>314</title>\n",
       "<polygon fill=\"#e58139\" points=\"19651,-68 19532,-68 19532,-0 19651,-0 19651,-68\" stroke=\"black\"/>\n",
       "<text font-family=\"Times New Roman,serif\" font-size=\"14.00\" text-anchor=\"middle\" x=\"19591.5\" y=\"-52.8\">gini = 0.0</text>\n",
       "<text font-family=\"Times New Roman,serif\" font-size=\"14.00\" text-anchor=\"middle\" x=\"19591.5\" y=\"-37.8\">samples = 6</text>\n",
       "<text font-family=\"Times New Roman,serif\" font-size=\"14.00\" text-anchor=\"middle\" x=\"19591.5\" y=\"-22.8\">value = [6, 0, 0, 0]</text>\n",
       "<text font-family=\"Times New Roman,serif\" font-size=\"14.00\" text-anchor=\"middle\" x=\"19591.5\" y=\"-7.8\">class = A</text>\n",
       "</g>\n",
       "<!-- 312&#45;&gt;314 -->\n",
       "<g class=\"edge\" id=\"edge314\"><title>312-&gt;314</title>\n",
       "<path d=\"M19505.5,-103.726C19517.4,-94.2406 19530,-84.1551 19541.8,-74.7159\" fill=\"none\" stroke=\"black\"/>\n",
       "<polygon fill=\"black\" points=\"19544.2,-77.2771 19549.8,-68.2996 19539.8,-71.8091 19544.2,-77.2771\" stroke=\"black\"/>\n",
       "</g>\n",
       "<!-- 317 -->\n",
       "<g class=\"node\" id=\"node318\"><title>317</title>\n",
       "<polygon fill=\"#f3c7a7\" points=\"20651.5,-544 20491.5,-544 20491.5,-461 20651.5,-461 20651.5,-544\" stroke=\"black\"/>\n",
       "<text font-family=\"Times New Roman,serif\" font-size=\"14.00\" text-anchor=\"middle\" x=\"20571.5\" y=\"-528.8\">Age &lt;= 74.5</text>\n",
       "<text font-family=\"Times New Roman,serif\" font-size=\"14.00\" text-anchor=\"middle\" x=\"20571.5\" y=\"-513.8\">gini = 0.608</text>\n",
       "<text font-family=\"Times New Roman,serif\" font-size=\"14.00\" text-anchor=\"middle\" x=\"20571.5\" y=\"-498.8\">samples = 496</text>\n",
       "<text font-family=\"Times New Roman,serif\" font-size=\"14.00\" text-anchor=\"middle\" x=\"20571.5\" y=\"-483.8\">value = [278, 89, 27, 102]</text>\n",
       "<text font-family=\"Times New Roman,serif\" font-size=\"14.00\" text-anchor=\"middle\" x=\"20571.5\" y=\"-468.8\">class = A</text>\n",
       "</g>\n",
       "<!-- 316&#45;&gt;317 -->\n",
       "<g class=\"edge\" id=\"edge317\"><title>316-&gt;317</title>\n",
       "<path d=\"M20571.5,-579.907C20571.5,-571.649 20571.5,-562.864 20571.5,-554.302\" fill=\"none\" stroke=\"black\"/>\n",
       "<polygon fill=\"black\" points=\"20575,-554.021 20571.5,-544.021 20568,-554.021 20575,-554.021\" stroke=\"black\"/>\n",
       "</g>\n",
       "<!-- 340 -->\n",
       "<g class=\"node\" id=\"node341\"><title>340</title>\n",
       "<polygon fill=\"#f8dcfa\" points=\"21552.5,-544 21392.5,-544 21392.5,-461 21552.5,-461 21552.5,-544\" stroke=\"black\"/>\n",
       "<text font-family=\"Times New Roman,serif\" font-size=\"14.00\" text-anchor=\"middle\" x=\"21472.5\" y=\"-528.8\">Age &lt;= 46.5</text>\n",
       "<text font-family=\"Times New Roman,serif\" font-size=\"14.00\" text-anchor=\"middle\" x=\"21472.5\" y=\"-513.8\">gini = 0.689</text>\n",
       "<text font-family=\"Times New Roman,serif\" font-size=\"14.00\" text-anchor=\"middle\" x=\"21472.5\" y=\"-498.8\">samples = 542</text>\n",
       "<text font-family=\"Times New Roman,serif\" font-size=\"14.00\" text-anchor=\"middle\" x=\"21472.5\" y=\"-483.8\">value = [164, 87, 60, 231]</text>\n",
       "<text font-family=\"Times New Roman,serif\" font-size=\"14.00\" text-anchor=\"middle\" x=\"21472.5\" y=\"-468.8\">class = D</text>\n",
       "</g>\n",
       "<!-- 316&#45;&gt;340 -->\n",
       "<g class=\"edge\" id=\"edge340\"><title>316-&gt;340</title>\n",
       "<path d=\"M20655.1,-609.65C20824.5,-587.644 21207.4,-537.926 21382.3,-515.214\" fill=\"none\" stroke=\"black\"/>\n",
       "<polygon fill=\"black\" points=\"21382.8,-518.681 21392.2,-513.923 21381.9,-511.74 21382.8,-518.681\" stroke=\"black\"/>\n",
       "</g>\n",
       "<!-- 318 -->\n",
       "<g class=\"node\" id=\"node319\"><title>318</title>\n",
       "<polygon fill=\"#f3c5a3\" points=\"20564,-425 20411,-425 20411,-342 20564,-342 20564,-425\" stroke=\"black\"/>\n",
       "<text font-family=\"Times New Roman,serif\" font-size=\"14.00\" text-anchor=\"middle\" x=\"20487.5\" y=\"-409.8\">Ever_Married &lt;= 1.5</text>\n",
       "<text font-family=\"Times New Roman,serif\" font-size=\"14.00\" text-anchor=\"middle\" x=\"20487.5\" y=\"-394.8\">gini = 0.601</text>\n",
       "<text font-family=\"Times New Roman,serif\" font-size=\"14.00\" text-anchor=\"middle\" x=\"20487.5\" y=\"-379.8\">samples = 488</text>\n",
       "<text font-family=\"Times New Roman,serif\" font-size=\"14.00\" text-anchor=\"middle\" x=\"20487.5\" y=\"-364.8\">value = [278, 87, 26, 97]</text>\n",
       "<text font-family=\"Times New Roman,serif\" font-size=\"14.00\" text-anchor=\"middle\" x=\"20487.5\" y=\"-349.8\">class = A</text>\n",
       "</g>\n",
       "<!-- 317&#45;&gt;318 -->\n",
       "<g class=\"edge\" id=\"edge318\"><title>317-&gt;318</title>\n",
       "<path d=\"M20542.4,-460.907C20536,-452.014 20529.1,-442.509 20522.6,-433.331\" fill=\"none\" stroke=\"black\"/>\n",
       "<polygon fill=\"black\" points=\"20525.3,-431.103 20516.6,-425.021 20519.6,-435.185 20525.3,-431.103\" stroke=\"black\"/>\n",
       "</g>\n",
       "<!-- 333 -->\n",
       "<g class=\"node\" id=\"node334\"><title>333</title>\n",
       "<polygon fill=\"#eb9cf2\" points=\"20723.5,-425 20589.5,-425 20589.5,-342 20723.5,-342 20723.5,-425\" stroke=\"black\"/>\n",
       "<text font-family=\"Times New Roman,serif\" font-size=\"14.00\" text-anchor=\"middle\" x=\"20656.5\" y=\"-409.8\">Ever_Married &lt;= 1.0</text>\n",
       "<text font-family=\"Times New Roman,serif\" font-size=\"14.00\" text-anchor=\"middle\" x=\"20656.5\" y=\"-394.8\">gini = 0.531</text>\n",
       "<text font-family=\"Times New Roman,serif\" font-size=\"14.00\" text-anchor=\"middle\" x=\"20656.5\" y=\"-379.8\">samples = 8</text>\n",
       "<text font-family=\"Times New Roman,serif\" font-size=\"14.00\" text-anchor=\"middle\" x=\"20656.5\" y=\"-364.8\">value = [0, 2, 1, 5]</text>\n",
       "<text font-family=\"Times New Roman,serif\" font-size=\"14.00\" text-anchor=\"middle\" x=\"20656.5\" y=\"-349.8\">class = D</text>\n",
       "</g>\n",
       "<!-- 317&#45;&gt;333 -->\n",
       "<g class=\"edge\" id=\"edge333\"><title>317-&gt;333</title>\n",
       "<path d=\"M20601,-460.907C20607.5,-452.014 20614.4,-442.509 20621,-433.331\" fill=\"none\" stroke=\"black\"/>\n",
       "<polygon fill=\"black\" points=\"20624,-435.168 20627.1,-425.021 20618.4,-431.054 20624,-435.168\" stroke=\"black\"/>\n",
       "</g>\n",
       "<!-- 319 -->\n",
       "<g class=\"node\" id=\"node320\"><title>319</title>\n",
       "<polygon fill=\"#f2c19e\" points=\"20187,-306 20034,-306 20034,-223 20187,-223 20187,-306\" stroke=\"black\"/>\n",
       "<text font-family=\"Times New Roman,serif\" font-size=\"14.00\" text-anchor=\"middle\" x=\"20110.5\" y=\"-290.8\">Family_Size &lt;= 1.5</text>\n",
       "<text font-family=\"Times New Roman,serif\" font-size=\"14.00\" text-anchor=\"middle\" x=\"20110.5\" y=\"-275.8\">gini = 0.564</text>\n",
       "<text font-family=\"Times New Roman,serif\" font-size=\"14.00\" text-anchor=\"middle\" x=\"20110.5\" y=\"-260.8\">samples = 236</text>\n",
       "<text font-family=\"Times New Roman,serif\" font-size=\"14.00\" text-anchor=\"middle\" x=\"20110.5\" y=\"-245.8\">value = [143, 28, 11, 54]</text>\n",
       "<text font-family=\"Times New Roman,serif\" font-size=\"14.00\" text-anchor=\"middle\" x=\"20110.5\" y=\"-230.8\">class = A</text>\n",
       "</g>\n",
       "<!-- 318&#45;&gt;319 -->\n",
       "<g class=\"edge\" id=\"edge319\"><title>318-&gt;319</title>\n",
       "<path d=\"M20410.8,-358.682C20348.7,-339.426 20261.4,-312.323 20196.9,-292.309\" fill=\"none\" stroke=\"black\"/>\n",
       "<polygon fill=\"black\" points=\"20197.7,-288.906 20187.1,-289.284 20195.7,-295.591 20197.7,-288.906\" stroke=\"black\"/>\n",
       "</g>\n",
       "<!-- 326 -->\n",
       "<g class=\"node\" id=\"node327\"><title>326</title>\n",
       "<polygon fill=\"#f5cdb1\" points=\"20564,-306 20411,-306 20411,-223 20564,-223 20564,-306\" stroke=\"black\"/>\n",
       "<text font-family=\"Times New Roman,serif\" font-size=\"14.00\" text-anchor=\"middle\" x=\"20487.5\" y=\"-290.8\">Gender &lt;= 0.5</text>\n",
       "<text font-family=\"Times New Roman,serif\" font-size=\"14.00\" text-anchor=\"middle\" x=\"20487.5\" y=\"-275.8\">gini = 0.626</text>\n",
       "<text font-family=\"Times New Roman,serif\" font-size=\"14.00\" text-anchor=\"middle\" x=\"20487.5\" y=\"-260.8\">samples = 252</text>\n",
       "<text font-family=\"Times New Roman,serif\" font-size=\"14.00\" text-anchor=\"middle\" x=\"20487.5\" y=\"-245.8\">value = [135, 59, 15, 43]</text>\n",
       "<text font-family=\"Times New Roman,serif\" font-size=\"14.00\" text-anchor=\"middle\" x=\"20487.5\" y=\"-230.8\">class = A</text>\n",
       "</g>\n",
       "<!-- 318&#45;&gt;326 -->\n",
       "<g class=\"edge\" id=\"edge326\"><title>318-&gt;326</title>\n",
       "<path d=\"M20487.5,-341.907C20487.5,-333.649 20487.5,-324.864 20487.5,-316.302\" fill=\"none\" stroke=\"black\"/>\n",
       "<polygon fill=\"black\" points=\"20491,-316.021 20487.5,-306.021 20484,-316.021 20491,-316.021\" stroke=\"black\"/>\n",
       "</g>\n",
       "<!-- 320 -->\n",
       "<g class=\"node\" id=\"node321\"><title>320</title>\n",
       "<polygon fill=\"#efb185\" points=\"19946.5,-187 19806.5,-187 19806.5,-104 19946.5,-104 19946.5,-187\" stroke=\"black\"/>\n",
       "<text font-family=\"Times New Roman,serif\" font-size=\"14.00\" text-anchor=\"middle\" x=\"19876.5\" y=\"-171.8\">Family_Size &lt;= 0.5</text>\n",
       "<text font-family=\"Times New Roman,serif\" font-size=\"14.00\" text-anchor=\"middle\" x=\"19876.5\" y=\"-156.8\">gini = 0.494</text>\n",
       "<text font-family=\"Times New Roman,serif\" font-size=\"14.00\" text-anchor=\"middle\" x=\"19876.5\" y=\"-141.8\">samples = 125</text>\n",
       "<text font-family=\"Times New Roman,serif\" font-size=\"14.00\" text-anchor=\"middle\" x=\"19876.5\" y=\"-126.8\">value = [85, 15, 4, 21]</text>\n",
       "<text font-family=\"Times New Roman,serif\" font-size=\"14.00\" text-anchor=\"middle\" x=\"19876.5\" y=\"-111.8\">class = A</text>\n",
       "</g>\n",
       "<!-- 319&#45;&gt;320 -->\n",
       "<g class=\"edge\" id=\"edge320\"><title>319-&gt;320</title>\n",
       "<path d=\"M20033.9,-225.19C20008.8,-212.666 19981,-198.735 19955.7,-186.116\" fill=\"none\" stroke=\"black\"/>\n",
       "<polygon fill=\"black\" points=\"19957.1,-182.874 19946.6,-181.532 19953.9,-189.135 19957.1,-182.874\" stroke=\"black\"/>\n",
       "</g>\n",
       "<!-- 323 -->\n",
       "<g class=\"node\" id=\"node324\"><title>323</title>\n",
       "<polygon fill=\"#f7d7c0\" points=\"20180.5,-187 20040.5,-187 20040.5,-104 20180.5,-104 20180.5,-187\" stroke=\"black\"/>\n",
       "<text font-family=\"Times New Roman,serif\" font-size=\"14.00\" text-anchor=\"middle\" x=\"20110.5\" y=\"-171.8\">Age &lt;= 38.5</text>\n",
       "<text font-family=\"Times New Roman,serif\" font-size=\"14.00\" text-anchor=\"middle\" x=\"20110.5\" y=\"-156.8\">gini = 0.621</text>\n",
       "<text font-family=\"Times New Roman,serif\" font-size=\"14.00\" text-anchor=\"middle\" x=\"20110.5\" y=\"-141.8\">samples = 111</text>\n",
       "<text font-family=\"Times New Roman,serif\" font-size=\"14.00\" text-anchor=\"middle\" x=\"20110.5\" y=\"-126.8\">value = [58, 13, 7, 33]</text>\n",
       "<text font-family=\"Times New Roman,serif\" font-size=\"14.00\" text-anchor=\"middle\" x=\"20110.5\" y=\"-111.8\">class = A</text>\n",
       "</g>\n",
       "<!-- 319&#45;&gt;323 -->\n",
       "<g class=\"edge\" id=\"edge323\"><title>319-&gt;323</title>\n",
       "<path d=\"M20110.5,-222.907C20110.5,-214.649 20110.5,-205.864 20110.5,-197.302\" fill=\"none\" stroke=\"black\"/>\n",
       "<polygon fill=\"black\" points=\"20114,-197.021 20110.5,-187.021 20107,-197.021 20114,-197.021\" stroke=\"black\"/>\n",
       "</g>\n",
       "<!-- 321 -->\n",
       "<g class=\"node\" id=\"node322\"><title>321</title>\n",
       "<polygon fill=\"#fcf1e9\" points=\"19788,-68 19669,-68 19669,-0 19788,-0 19788,-68\" stroke=\"black\"/>\n",
       "<text font-family=\"Times New Roman,serif\" font-size=\"14.00\" text-anchor=\"middle\" x=\"19728.5\" y=\"-52.8\">gini = 0.604</text>\n",
       "<text font-family=\"Times New Roman,serif\" font-size=\"14.00\" text-anchor=\"middle\" x=\"19728.5\" y=\"-37.8\">samples = 15</text>\n",
       "<text font-family=\"Times New Roman,serif\" font-size=\"14.00\" text-anchor=\"middle\" x=\"19728.5\" y=\"-22.8\">value = [7, 0, 2, 6]</text>\n",
       "<text font-family=\"Times New Roman,serif\" font-size=\"14.00\" text-anchor=\"middle\" x=\"19728.5\" y=\"-7.8\">class = A</text>\n",
       "</g>\n",
       "<!-- 320&#45;&gt;321 -->\n",
       "<g class=\"edge\" id=\"edge321\"><title>320-&gt;321</title>\n",
       "<path d=\"M19821.4,-103.726C19808.4,-94.1494 19794.7,-83.9611 19781.8,-74.4438\" fill=\"none\" stroke=\"black\"/>\n",
       "<polygon fill=\"black\" points=\"19783.6,-71.4337 19773.5,-68.2996 19779.5,-77.061 19783.6,-71.4337\" stroke=\"black\"/>\n",
       "</g>\n",
       "<!-- 322 -->\n",
       "<g class=\"node\" id=\"node323\"><title>322</title>\n",
       "<polygon fill=\"#eeab7c\" points=\"19946.5,-68 19806.5,-68 19806.5,-0 19946.5,-0 19946.5,-68\" stroke=\"black\"/>\n",
       "<text font-family=\"Times New Roman,serif\" font-size=\"14.00\" text-anchor=\"middle\" x=\"19876.5\" y=\"-52.8\">gini = 0.46</text>\n",
       "<text font-family=\"Times New Roman,serif\" font-size=\"14.00\" text-anchor=\"middle\" x=\"19876.5\" y=\"-37.8\">samples = 110</text>\n",
       "<text font-family=\"Times New Roman,serif\" font-size=\"14.00\" text-anchor=\"middle\" x=\"19876.5\" y=\"-22.8\">value = [78, 15, 2, 15]</text>\n",
       "<text font-family=\"Times New Roman,serif\" font-size=\"14.00\" text-anchor=\"middle\" x=\"19876.5\" y=\"-7.8\">class = A</text>\n",
       "</g>\n",
       "<!-- 320&#45;&gt;322 -->\n",
       "<g class=\"edge\" id=\"edge322\"><title>320-&gt;322</title>\n",
       "<path d=\"M19876.5,-103.726C19876.5,-95.5175 19876.5,-86.8595 19876.5,-78.56\" fill=\"none\" stroke=\"black\"/>\n",
       "<polygon fill=\"black\" points=\"19880,-78.2996 19876.5,-68.2996 19873,-78.2996 19880,-78.2996\" stroke=\"black\"/>\n",
       "</g>\n",
       "<!-- 324 -->\n",
       "<g class=\"node\" id=\"node325\"><title>324</title>\n",
       "<polygon fill=\"#f3c4f7\" points=\"20098,-68 19965,-68 19965,-0 20098,-0 20098,-68\" stroke=\"black\"/>\n",
       "<text font-family=\"Times New Roman,serif\" font-size=\"14.00\" text-anchor=\"middle\" x=\"20031.5\" y=\"-52.8\">gini = 0.593</text>\n",
       "<text font-family=\"Times New Roman,serif\" font-size=\"14.00\" text-anchor=\"middle\" x=\"20031.5\" y=\"-37.8\">samples = 30</text>\n",
       "<text font-family=\"Times New Roman,serif\" font-size=\"14.00\" text-anchor=\"middle\" x=\"20031.5\" y=\"-22.8\">value = [10, 1, 3, 16]</text>\n",
       "<text font-family=\"Times New Roman,serif\" font-size=\"14.00\" text-anchor=\"middle\" x=\"20031.5\" y=\"-7.8\">class = D</text>\n",
       "</g>\n",
       "<!-- 323&#45;&gt;324 -->\n",
       "<g class=\"edge\" id=\"edge324\"><title>323-&gt;324</title>\n",
       "<path d=\"M20081.1,-103.726C20074.7,-94.879 20067.9,-85.51 20061.5,-76.6303\" fill=\"none\" stroke=\"black\"/>\n",
       "<polygon fill=\"black\" points=\"20064.2,-74.3615 20055.5,-68.2996 20058.5,-78.4571 20064.2,-74.3615\" stroke=\"black\"/>\n",
       "</g>\n",
       "<!-- 325 -->\n",
       "<g class=\"node\" id=\"node326\"><title>325</title>\n",
       "<polygon fill=\"#f2c29f\" points=\"20256.5,-68 20116.5,-68 20116.5,-0 20256.5,-0 20256.5,-68\" stroke=\"black\"/>\n",
       "<text font-family=\"Times New Roman,serif\" font-size=\"14.00\" text-anchor=\"middle\" x=\"20186.5\" y=\"-52.8\">gini = 0.58</text>\n",
       "<text font-family=\"Times New Roman,serif\" font-size=\"14.00\" text-anchor=\"middle\" x=\"20186.5\" y=\"-37.8\">samples = 81</text>\n",
       "<text font-family=\"Times New Roman,serif\" font-size=\"14.00\" text-anchor=\"middle\" x=\"20186.5\" y=\"-22.8\">value = [48, 12, 4, 17]</text>\n",
       "<text font-family=\"Times New Roman,serif\" font-size=\"14.00\" text-anchor=\"middle\" x=\"20186.5\" y=\"-7.8\">class = A</text>\n",
       "</g>\n",
       "<!-- 323&#45;&gt;325 -->\n",
       "<g class=\"edge\" id=\"edge325\"><title>323-&gt;325</title>\n",
       "<path d=\"M20138.8,-103.726C20144.9,-94.879 20151.4,-85.51 20157.6,-76.6303\" fill=\"none\" stroke=\"black\"/>\n",
       "<polygon fill=\"black\" points=\"20160.6,-78.5104 20163.4,-68.2996 20154.8,-74.5191 20160.6,-78.5104\" stroke=\"black\"/>\n",
       "</g>\n",
       "<!-- 327 -->\n",
       "<g class=\"node\" id=\"node328\"><title>327</title>\n",
       "<polygon fill=\"#fcf2eb\" points=\"20551.5,-187 20411.5,-187 20411.5,-104 20551.5,-104 20551.5,-187\" stroke=\"black\"/>\n",
       "<text font-family=\"Times New Roman,serif\" font-size=\"14.00\" text-anchor=\"middle\" x=\"20481.5\" y=\"-171.8\">Age &lt;= 56.0</text>\n",
       "<text font-family=\"Times New Roman,serif\" font-size=\"14.00\" text-anchor=\"middle\" x=\"20481.5\" y=\"-156.8\">gini = 0.624</text>\n",
       "<text font-family=\"Times New Roman,serif\" font-size=\"14.00\" text-anchor=\"middle\" x=\"20481.5\" y=\"-141.8\">samples = 99</text>\n",
       "<text font-family=\"Times New Roman,serif\" font-size=\"14.00\" text-anchor=\"middle\" x=\"20481.5\" y=\"-126.8\">value = [45, 39, 4, 11]</text>\n",
       "<text font-family=\"Times New Roman,serif\" font-size=\"14.00\" text-anchor=\"middle\" x=\"20481.5\" y=\"-111.8\">class = A</text>\n",
       "</g>\n",
       "<!-- 326&#45;&gt;327 -->\n",
       "<g class=\"edge\" id=\"edge327\"><title>326-&gt;327</title>\n",
       "<path d=\"M20485.4,-222.907C20485,-214.558 20484.5,-205.671 20484.1,-197.02\" fill=\"none\" stroke=\"black\"/>\n",
       "<polygon fill=\"black\" points=\"20487.6,-196.828 20483.6,-187.021 20480.6,-197.187 20487.6,-196.828\" stroke=\"black\"/>\n",
       "</g>\n",
       "<!-- 330 -->\n",
       "<g class=\"node\" id=\"node331\"><title>330</title>\n",
       "<polygon fill=\"#f3c3a0\" points=\"20729,-187 20570,-187 20570,-104 20729,-104 20729,-187\" stroke=\"black\"/>\n",
       "<text font-family=\"Times New Roman,serif\" font-size=\"14.00\" text-anchor=\"middle\" x=\"20649.5\" y=\"-171.8\">Work_Experience &lt;= 3.5</text>\n",
       "<text font-family=\"Times New Roman,serif\" font-size=\"14.00\" text-anchor=\"middle\" x=\"20649.5\" y=\"-156.8\">gini = 0.588</text>\n",
       "<text font-family=\"Times New Roman,serif\" font-size=\"14.00\" text-anchor=\"middle\" x=\"20649.5\" y=\"-141.8\">samples = 153</text>\n",
       "<text font-family=\"Times New Roman,serif\" font-size=\"14.00\" text-anchor=\"middle\" x=\"20649.5\" y=\"-126.8\">value = [90, 20, 11, 32]</text>\n",
       "<text font-family=\"Times New Roman,serif\" font-size=\"14.00\" text-anchor=\"middle\" x=\"20649.5\" y=\"-111.8\">class = A</text>\n",
       "</g>\n",
       "<!-- 326&#45;&gt;330 -->\n",
       "<g class=\"edge\" id=\"edge330\"><title>326-&gt;330</title>\n",
       "<path d=\"M20543.7,-222.907C20557,-213.288 20571.3,-202.953 20585,-193.09\" fill=\"none\" stroke=\"black\"/>\n",
       "<polygon fill=\"black\" points=\"20587.3,-195.713 20593.4,-187.021 20583.2,-190.038 20587.3,-195.713\" stroke=\"black\"/>\n",
       "</g>\n",
       "<!-- 328 -->\n",
       "<g class=\"node\" id=\"node329\"><title>328</title>\n",
       "<polygon fill=\"#f9e3d3\" points=\"20414.5,-68 20274.5,-68 20274.5,-0 20414.5,-0 20414.5,-68\" stroke=\"black\"/>\n",
       "<text font-family=\"Times New Roman,serif\" font-size=\"14.00\" text-anchor=\"middle\" x=\"20344.5\" y=\"-52.8\">gini = 0.635</text>\n",
       "<text font-family=\"Times New Roman,serif\" font-size=\"14.00\" text-anchor=\"middle\" x=\"20344.5\" y=\"-37.8\">samples = 75</text>\n",
       "<text font-family=\"Times New Roman,serif\" font-size=\"14.00\" text-anchor=\"middle\" x=\"20344.5\" y=\"-22.8\">value = [36, 25, 3, 11]</text>\n",
       "<text font-family=\"Times New Roman,serif\" font-size=\"14.00\" text-anchor=\"middle\" x=\"20344.5\" y=\"-7.8\">class = A</text>\n",
       "</g>\n",
       "<!-- 327&#45;&gt;328 -->\n",
       "<g class=\"edge\" id=\"edge328\"><title>327-&gt;328</title>\n",
       "<path d=\"M20430.5,-103.726C20418.6,-94.2406 20406,-84.1551 20394.2,-74.7159\" fill=\"none\" stroke=\"black\"/>\n",
       "<polygon fill=\"black\" points=\"20396.2,-71.8091 20386.2,-68.2996 20391.8,-77.2771 20396.2,-71.8091\" stroke=\"black\"/>\n",
       "</g>\n",
       "<!-- 329 -->\n",
       "<g class=\"node\" id=\"node330\"><title>329</title>\n",
       "<polygon fill=\"#c2f6bd\" points=\"20558.5,-68 20432.5,-68 20432.5,-0 20558.5,-0 20558.5,-68\" stroke=\"black\"/>\n",
       "<text font-family=\"Times New Roman,serif\" font-size=\"14.00\" text-anchor=\"middle\" x=\"20495.5\" y=\"-52.8\">gini = 0.517</text>\n",
       "<text font-family=\"Times New Roman,serif\" font-size=\"14.00\" text-anchor=\"middle\" x=\"20495.5\" y=\"-37.8\">samples = 24</text>\n",
       "<text font-family=\"Times New Roman,serif\" font-size=\"14.00\" text-anchor=\"middle\" x=\"20495.5\" y=\"-22.8\">value = [9, 14, 1, 0]</text>\n",
       "<text font-family=\"Times New Roman,serif\" font-size=\"14.00\" text-anchor=\"middle\" x=\"20495.5\" y=\"-7.8\">class = B</text>\n",
       "</g>\n",
       "<!-- 327&#45;&gt;329 -->\n",
       "<g class=\"edge\" id=\"edge329\"><title>327-&gt;329</title>\n",
       "<path d=\"M20486.7,-103.726C20487.8,-95.4263 20488.9,-86.6671 20490,-78.2834\" fill=\"none\" stroke=\"black\"/>\n",
       "<polygon fill=\"black\" points=\"20493.4,-78.6628 20491.2,-68.2996 20486.5,-77.7749 20493.4,-78.6628\" stroke=\"black\"/>\n",
       "</g>\n",
       "<!-- 331 -->\n",
       "<g class=\"node\" id=\"node332\"><title>331</title>\n",
       "<polygon fill=\"#f0b990\" points=\"20722.5,-68 20576.5,-68 20576.5,-0 20722.5,-0 20722.5,-68\" stroke=\"black\"/>\n",
       "<text font-family=\"Times New Roman,serif\" font-size=\"14.00\" text-anchor=\"middle\" x=\"20649.5\" y=\"-52.8\">gini = 0.545</text>\n",
       "<text font-family=\"Times New Roman,serif\" font-size=\"14.00\" text-anchor=\"middle\" x=\"20649.5\" y=\"-37.8\">samples = 124</text>\n",
       "<text font-family=\"Times New Roman,serif\" font-size=\"14.00\" text-anchor=\"middle\" x=\"20649.5\" y=\"-22.8\">value = [79, 12, 11, 22]</text>\n",
       "<text font-family=\"Times New Roman,serif\" font-size=\"14.00\" text-anchor=\"middle\" x=\"20649.5\" y=\"-7.8\">class = A</text>\n",
       "</g>\n",
       "<!-- 330&#45;&gt;331 -->\n",
       "<g class=\"edge\" id=\"edge331\"><title>330-&gt;331</title>\n",
       "<path d=\"M20649.5,-103.726C20649.5,-95.5175 20649.5,-86.8595 20649.5,-78.56\" fill=\"none\" stroke=\"black\"/>\n",
       "<polygon fill=\"black\" points=\"20653,-78.2996 20649.5,-68.2996 20646,-78.2996 20653,-78.2996\" stroke=\"black\"/>\n",
       "</g>\n",
       "<!-- 332 -->\n",
       "<g class=\"node\" id=\"node333\"><title>332</title>\n",
       "<polygon fill=\"#fef8f5\" points=\"20874,-68 20741,-68 20741,-0 20874,-0 20874,-68\" stroke=\"black\"/>\n",
       "<text font-family=\"Times New Roman,serif\" font-size=\"14.00\" text-anchor=\"middle\" x=\"20807.5\" y=\"-52.8\">gini = 0.661</text>\n",
       "<text font-family=\"Times New Roman,serif\" font-size=\"14.00\" text-anchor=\"middle\" x=\"20807.5\" y=\"-37.8\">samples = 29</text>\n",
       "<text font-family=\"Times New Roman,serif\" font-size=\"14.00\" text-anchor=\"middle\" x=\"20807.5\" y=\"-22.8\">value = [11, 8, 0, 10]</text>\n",
       "<text font-family=\"Times New Roman,serif\" font-size=\"14.00\" text-anchor=\"middle\" x=\"20807.5\" y=\"-7.8\">class = A</text>\n",
       "</g>\n",
       "<!-- 330&#45;&gt;332 -->\n",
       "<g class=\"edge\" id=\"edge332\"><title>330-&gt;332</title>\n",
       "<path d=\"M20708.3,-103.726C20722.4,-94.0078 20737.3,-83.6597 20751.2,-74.0222\" fill=\"none\" stroke=\"black\"/>\n",
       "<polygon fill=\"black\" points=\"20753.5,-76.6981 20759.7,-68.1252 20749.5,-70.9447 20753.5,-76.6981\" stroke=\"black\"/>\n",
       "</g>\n",
       "<!-- 334 -->\n",
       "<g class=\"node\" id=\"node335\"><title>334</title>\n",
       "<polygon fill=\"#399de5\" points=\"20716,-298.5 20597,-298.5 20597,-230.5 20716,-230.5 20716,-298.5\" stroke=\"black\"/>\n",
       "<text font-family=\"Times New Roman,serif\" font-size=\"14.00\" text-anchor=\"middle\" x=\"20656.5\" y=\"-283.3\">gini = 0.0</text>\n",
       "<text font-family=\"Times New Roman,serif\" font-size=\"14.00\" text-anchor=\"middle\" x=\"20656.5\" y=\"-268.3\">samples = 1</text>\n",
       "<text font-family=\"Times New Roman,serif\" font-size=\"14.00\" text-anchor=\"middle\" x=\"20656.5\" y=\"-253.3\">value = [0, 0, 1, 0]</text>\n",
       "<text font-family=\"Times New Roman,serif\" font-size=\"14.00\" text-anchor=\"middle\" x=\"20656.5\" y=\"-238.3\">class = C</text>\n",
       "</g>\n",
       "<!-- 333&#45;&gt;334 -->\n",
       "<g class=\"edge\" id=\"edge334\"><title>333-&gt;334</title>\n",
       "<path d=\"M20656.5,-341.907C20656.5,-331.204 20656.5,-319.615 20656.5,-308.776\" fill=\"none\" stroke=\"black\"/>\n",
       "<polygon fill=\"black\" points=\"20660,-308.667 20656.5,-298.667 20653,-308.667 20660,-308.667\" stroke=\"black\"/>\n",
       "</g>\n",
       "<!-- 335 -->\n",
       "<g class=\"node\" id=\"node336\"><title>335</title>\n",
       "<polygon fill=\"#e788ef\" points=\"20866,-306 20747,-306 20747,-223 20866,-223 20866,-306\" stroke=\"black\"/>\n",
       "<text font-family=\"Times New Roman,serif\" font-size=\"14.00\" text-anchor=\"middle\" x=\"20806.5\" y=\"-290.8\">Age &lt;= 78.5</text>\n",
       "<text font-family=\"Times New Roman,serif\" font-size=\"14.00\" text-anchor=\"middle\" x=\"20806.5\" y=\"-275.8\">gini = 0.408</text>\n",
       "<text font-family=\"Times New Roman,serif\" font-size=\"14.00\" text-anchor=\"middle\" x=\"20806.5\" y=\"-260.8\">samples = 7</text>\n",
       "<text font-family=\"Times New Roman,serif\" font-size=\"14.00\" text-anchor=\"middle\" x=\"20806.5\" y=\"-245.8\">value = [0, 2, 0, 5]</text>\n",
       "<text font-family=\"Times New Roman,serif\" font-size=\"14.00\" text-anchor=\"middle\" x=\"20806.5\" y=\"-230.8\">class = D</text>\n",
       "</g>\n",
       "<!-- 333&#45;&gt;335 -->\n",
       "<g class=\"edge\" id=\"edge335\"><title>333-&gt;335</title>\n",
       "<path d=\"M20708.5,-341.907C20720.8,-332.379 20733.9,-322.148 20746.4,-312.37\" fill=\"none\" stroke=\"black\"/>\n",
       "<polygon fill=\"black\" points=\"20748.8,-314.931 20754.6,-306.021 20744.5,-309.411 20748.8,-314.931\" stroke=\"black\"/>\n",
       "</g>\n",
       "<!-- 336 -->\n",
       "<g class=\"node\" id=\"node337\"><title>336</title>\n",
       "<polygon fill=\"#d739e5\" points=\"20866,-179.5 20747,-179.5 20747,-111.5 20866,-111.5 20866,-179.5\" stroke=\"black\"/>\n",
       "<text font-family=\"Times New Roman,serif\" font-size=\"14.00\" text-anchor=\"middle\" x=\"20806.5\" y=\"-164.3\">gini = 0.0</text>\n",
       "<text font-family=\"Times New Roman,serif\" font-size=\"14.00\" text-anchor=\"middle\" x=\"20806.5\" y=\"-149.3\">samples = 2</text>\n",
       "<text font-family=\"Times New Roman,serif\" font-size=\"14.00\" text-anchor=\"middle\" x=\"20806.5\" y=\"-134.3\">value = [0, 0, 0, 2]</text>\n",
       "<text font-family=\"Times New Roman,serif\" font-size=\"14.00\" text-anchor=\"middle\" x=\"20806.5\" y=\"-119.3\">class = D</text>\n",
       "</g>\n",
       "<!-- 335&#45;&gt;336 -->\n",
       "<g class=\"edge\" id=\"edge336\"><title>335-&gt;336</title>\n",
       "<path d=\"M20806.5,-222.907C20806.5,-212.204 20806.5,-200.615 20806.5,-189.776\" fill=\"none\" stroke=\"black\"/>\n",
       "<polygon fill=\"black\" points=\"20810,-189.667 20806.5,-179.667 20803,-189.667 20810,-189.667\" stroke=\"black\"/>\n",
       "</g>\n",
       "<!-- 337 -->\n",
       "<g class=\"node\" id=\"node338\"><title>337</title>\n",
       "<polygon fill=\"#f2bdf6\" points=\"21043,-187 20884,-187 20884,-104 21043,-104 21043,-187\" stroke=\"black\"/>\n",
       "<text font-family=\"Times New Roman,serif\" font-size=\"14.00\" text-anchor=\"middle\" x=\"20963.5\" y=\"-171.8\">Work_Experience &lt;= 0.5</text>\n",
       "<text font-family=\"Times New Roman,serif\" font-size=\"14.00\" text-anchor=\"middle\" x=\"20963.5\" y=\"-156.8\">gini = 0.48</text>\n",
       "<text font-family=\"Times New Roman,serif\" font-size=\"14.00\" text-anchor=\"middle\" x=\"20963.5\" y=\"-141.8\">samples = 5</text>\n",
       "<text font-family=\"Times New Roman,serif\" font-size=\"14.00\" text-anchor=\"middle\" x=\"20963.5\" y=\"-126.8\">value = [0, 2, 0, 3]</text>\n",
       "<text font-family=\"Times New Roman,serif\" font-size=\"14.00\" text-anchor=\"middle\" x=\"20963.5\" y=\"-111.8\">class = D</text>\n",
       "</g>\n",
       "<!-- 335&#45;&gt;337 -->\n",
       "<g class=\"edge\" id=\"edge337\"><title>335-&gt;337</title>\n",
       "<path d=\"M20861,-222.907C20873.9,-213.288 20887.7,-202.953 20901,-193.09\" fill=\"none\" stroke=\"black\"/>\n",
       "<polygon fill=\"black\" points=\"20903.2,-195.803 20909.1,-187.021 20899,-190.19 20903.2,-195.803\" stroke=\"black\"/>\n",
       "</g>\n",
       "<!-- 338 -->\n",
       "<g class=\"node\" id=\"node339\"><title>338</title>\n",
       "<polygon fill=\"#47e539\" points=\"21011,-68 20892,-68 20892,-0 21011,-0 21011,-68\" stroke=\"black\"/>\n",
       "<text font-family=\"Times New Roman,serif\" font-size=\"14.00\" text-anchor=\"middle\" x=\"20951.5\" y=\"-52.8\">gini = 0.0</text>\n",
       "<text font-family=\"Times New Roman,serif\" font-size=\"14.00\" text-anchor=\"middle\" x=\"20951.5\" y=\"-37.8\">samples = 1</text>\n",
       "<text font-family=\"Times New Roman,serif\" font-size=\"14.00\" text-anchor=\"middle\" x=\"20951.5\" y=\"-22.8\">value = [0, 1, 0, 0]</text>\n",
       "<text font-family=\"Times New Roman,serif\" font-size=\"14.00\" text-anchor=\"middle\" x=\"20951.5\" y=\"-7.8\">class = B</text>\n",
       "</g>\n",
       "<!-- 337&#45;&gt;338 -->\n",
       "<g class=\"edge\" id=\"edge338\"><title>337-&gt;338</title>\n",
       "<path d=\"M20959,-103.726C20958.1,-95.4263 20957.2,-86.6671 20956.2,-78.2834\" fill=\"none\" stroke=\"black\"/>\n",
       "<polygon fill=\"black\" points=\"20959.7,-77.8588 20955.1,-68.2996 20952.8,-78.6214 20959.7,-77.8588\" stroke=\"black\"/>\n",
       "</g>\n",
       "<!-- 339 -->\n",
       "<g class=\"node\" id=\"node340\"><title>339</title>\n",
       "<polygon fill=\"#e47bee\" points=\"21148,-68 21029,-68 21029,-0 21148,-0 21148,-68\" stroke=\"black\"/>\n",
       "<text font-family=\"Times New Roman,serif\" font-size=\"14.00\" text-anchor=\"middle\" x=\"21088.5\" y=\"-52.8\">gini = 0.375</text>\n",
       "<text font-family=\"Times New Roman,serif\" font-size=\"14.00\" text-anchor=\"middle\" x=\"21088.5\" y=\"-37.8\">samples = 4</text>\n",
       "<text font-family=\"Times New Roman,serif\" font-size=\"14.00\" text-anchor=\"middle\" x=\"21088.5\" y=\"-22.8\">value = [0, 1, 0, 3]</text>\n",
       "<text font-family=\"Times New Roman,serif\" font-size=\"14.00\" text-anchor=\"middle\" x=\"21088.5\" y=\"-7.8\">class = D</text>\n",
       "</g>\n",
       "<!-- 337&#45;&gt;339 -->\n",
       "<g class=\"edge\" id=\"edge339\"><title>337-&gt;339</title>\n",
       "<path d=\"M21010,-103.726C21020.8,-94.3318 21032.2,-84.349 21042.9,-74.9883\" fill=\"none\" stroke=\"black\"/>\n",
       "<polygon fill=\"black\" points=\"21045.3,-77.5217 21050.5,-68.2996 21040.7,-72.2562 21045.3,-77.5217\" stroke=\"black\"/>\n",
       "</g>\n",
       "<!-- 341 -->\n",
       "<g class=\"node\" id=\"node342\"><title>341</title>\n",
       "<polygon fill=\"#efb0f5\" points=\"21549,-425 21396,-425 21396,-342 21549,-342 21549,-425\" stroke=\"black\"/>\n",
       "<text font-family=\"Times New Roman,serif\" font-size=\"14.00\" text-anchor=\"middle\" x=\"21472.5\" y=\"-409.8\">Age &lt;= 35.5</text>\n",
       "<text font-family=\"Times New Roman,serif\" font-size=\"14.00\" text-anchor=\"middle\" x=\"21472.5\" y=\"-394.8\">gini = 0.605</text>\n",
       "<text font-family=\"Times New Roman,serif\" font-size=\"14.00\" text-anchor=\"middle\" x=\"21472.5\" y=\"-379.8\">samples = 198</text>\n",
       "<text font-family=\"Times New Roman,serif\" font-size=\"14.00\" text-anchor=\"middle\" x=\"21472.5\" y=\"-364.8\">value = [52, 23, 13, 110]</text>\n",
       "<text font-family=\"Times New Roman,serif\" font-size=\"14.00\" text-anchor=\"middle\" x=\"21472.5\" y=\"-349.8\">class = D</text>\n",
       "</g>\n",
       "<!-- 340&#45;&gt;341 -->\n",
       "<g class=\"edge\" id=\"edge341\"><title>340-&gt;341</title>\n",
       "<path d=\"M21472.5,-460.907C21472.5,-452.649 21472.5,-443.864 21472.5,-435.302\" fill=\"none\" stroke=\"black\"/>\n",
       "<polygon fill=\"black\" points=\"21476,-435.021 21472.5,-425.021 21469,-435.021 21476,-435.021\" stroke=\"black\"/>\n",
       "</g>\n",
       "<!-- 354 -->\n",
       "<g class=\"node\" id=\"node355\"><title>354</title>\n",
       "<polygon fill=\"#fdf7fe\" points=\"22376.5,-425 22216.5,-425 22216.5,-342 22376.5,-342 22376.5,-425\" stroke=\"black\"/>\n",
       "<text font-family=\"Times New Roman,serif\" font-size=\"14.00\" text-anchor=\"middle\" x=\"22296.5\" y=\"-409.8\">Graduated &lt;= 0.5</text>\n",
       "<text font-family=\"Times New Roman,serif\" font-size=\"14.00\" text-anchor=\"middle\" x=\"22296.5\" y=\"-394.8\">gini = 0.717</text>\n",
       "<text font-family=\"Times New Roman,serif\" font-size=\"14.00\" text-anchor=\"middle\" x=\"22296.5\" y=\"-379.8\">samples = 344</text>\n",
       "<text font-family=\"Times New Roman,serif\" font-size=\"14.00\" text-anchor=\"middle\" x=\"22296.5\" y=\"-364.8\">value = [112, 64, 47, 121]</text>\n",
       "<text font-family=\"Times New Roman,serif\" font-size=\"14.00\" text-anchor=\"middle\" x=\"22296.5\" y=\"-349.8\">class = D</text>\n",
       "</g>\n",
       "<!-- 340&#45;&gt;354 -->\n",
       "<g class=\"edge\" id=\"edge354\"><title>340-&gt;354</title>\n",
       "<path d=\"M21552.6,-490.122C21707,-468.2 22044.7,-420.248 22206.6,-397.271\" fill=\"none\" stroke=\"black\"/>\n",
       "<polygon fill=\"black\" points=\"22207.1,-400.732 22216.5,-395.861 22206.1,-393.802 22207.1,-400.732\" stroke=\"black\"/>\n",
       "</g>\n",
       "<!-- 342 -->\n",
       "<g class=\"node\" id=\"node343\"><title>342</title>\n",
       "<polygon fill=\"#df63ea\" points=\"21429.5,-306 21295.5,-306 21295.5,-223 21429.5,-223 21429.5,-306\" stroke=\"black\"/>\n",
       "<text font-family=\"Times New Roman,serif\" font-size=\"14.00\" text-anchor=\"middle\" x=\"21362.5\" y=\"-290.8\">Ever_Married &lt;= 1.0</text>\n",
       "<text font-family=\"Times New Roman,serif\" font-size=\"14.00\" text-anchor=\"middle\" x=\"21362.5\" y=\"-275.8\">gini = 0.331</text>\n",
       "<text font-family=\"Times New Roman,serif\" font-size=\"14.00\" text-anchor=\"middle\" x=\"21362.5\" y=\"-260.8\">samples = 21</text>\n",
       "<text font-family=\"Times New Roman,serif\" font-size=\"14.00\" text-anchor=\"middle\" x=\"21362.5\" y=\"-245.8\">value = [2, 1, 1, 17]</text>\n",
       "<text font-family=\"Times New Roman,serif\" font-size=\"14.00\" text-anchor=\"middle\" x=\"21362.5\" y=\"-230.8\">class = D</text>\n",
       "</g>\n",
       "<!-- 341&#45;&gt;342 -->\n",
       "<g class=\"edge\" id=\"edge342\"><title>341-&gt;342</title>\n",
       "<path d=\"M21434.3,-341.907C21425.7,-332.742 21416.5,-322.927 21407.6,-313.489\" fill=\"none\" stroke=\"black\"/>\n",
       "<polygon fill=\"black\" points=\"21410,-310.909 21400.6,-306.021 21404.9,-315.704 21410,-310.909\" stroke=\"black\"/>\n",
       "</g>\n",
       "<!-- 347 -->\n",
       "<g class=\"node\" id=\"node348\"><title>347</title>\n",
       "<polygon fill=\"#f1bcf6\" points=\"21655.5,-306 21509.5,-306 21509.5,-223 21655.5,-223 21655.5,-306\" stroke=\"black\"/>\n",
       "<text font-family=\"Times New Roman,serif\" font-size=\"14.00\" text-anchor=\"middle\" x=\"21582.5\" y=\"-290.8\">Profession &lt;= 7.5</text>\n",
       "<text font-family=\"Times New Roman,serif\" font-size=\"14.00\" text-anchor=\"middle\" x=\"21582.5\" y=\"-275.8\">gini = 0.624</text>\n",
       "<text font-family=\"Times New Roman,serif\" font-size=\"14.00\" text-anchor=\"middle\" x=\"21582.5\" y=\"-260.8\">samples = 177</text>\n",
       "<text font-family=\"Times New Roman,serif\" font-size=\"14.00\" text-anchor=\"middle\" x=\"21582.5\" y=\"-245.8\">value = [50, 22, 12, 93]</text>\n",
       "<text font-family=\"Times New Roman,serif\" font-size=\"14.00\" text-anchor=\"middle\" x=\"21582.5\" y=\"-230.8\">class = D</text>\n",
       "</g>\n",
       "<!-- 341&#45;&gt;347 -->\n",
       "<g class=\"edge\" id=\"edge347\"><title>341-&gt;347</title>\n",
       "<path d=\"M21510.7,-341.907C21519.3,-332.742 21528.5,-322.927 21537.4,-313.489\" fill=\"none\" stroke=\"black\"/>\n",
       "<polygon fill=\"black\" points=\"21540.1,-315.704 21544.4,-306.021 21535,-310.909 21540.1,-315.704\" stroke=\"black\"/>\n",
       "</g>\n",
       "<!-- 343 -->\n",
       "<g class=\"node\" id=\"node344\"><title>343</title>\n",
       "<polygon fill=\"#d739e5\" points=\"21284.5,-179.5 21158.5,-179.5 21158.5,-111.5 21284.5,-111.5 21284.5,-179.5\" stroke=\"black\"/>\n",
       "<text font-family=\"Times New Roman,serif\" font-size=\"14.00\" text-anchor=\"middle\" x=\"21221.5\" y=\"-164.3\">gini = 0.0</text>\n",
       "<text font-family=\"Times New Roman,serif\" font-size=\"14.00\" text-anchor=\"middle\" x=\"21221.5\" y=\"-149.3\">samples = 13</text>\n",
       "<text font-family=\"Times New Roman,serif\" font-size=\"14.00\" text-anchor=\"middle\" x=\"21221.5\" y=\"-134.3\">value = [0, 0, 0, 13]</text>\n",
       "<text font-family=\"Times New Roman,serif\" font-size=\"14.00\" text-anchor=\"middle\" x=\"21221.5\" y=\"-119.3\">class = D</text>\n",
       "</g>\n",
       "<!-- 342&#45;&gt;343 -->\n",
       "<g class=\"edge\" id=\"edge343\"><title>342-&gt;343</title>\n",
       "<path d=\"M21313.6,-222.907C21299.2,-210.99 21283.5,-197.976 21269.2,-186.12\" fill=\"none\" stroke=\"black\"/>\n",
       "<polygon fill=\"black\" points=\"21271.4,-183.359 21261.5,-179.667 21266.9,-188.746 21271.4,-183.359\" stroke=\"black\"/>\n",
       "</g>\n",
       "<!-- 344 -->\n",
       "<g class=\"node\" id=\"node345\"><title>344</title>\n",
       "<polygon fill=\"#f2bdf6\" points=\"21422,-187 21303,-187 21303,-104 21422,-104 21422,-187\" stroke=\"black\"/>\n",
       "<text font-family=\"Times New Roman,serif\" font-size=\"14.00\" text-anchor=\"middle\" x=\"21362.5\" y=\"-171.8\">Gender &lt;= 0.5</text>\n",
       "<text font-family=\"Times New Roman,serif\" font-size=\"14.00\" text-anchor=\"middle\" x=\"21362.5\" y=\"-156.8\">gini = 0.656</text>\n",
       "<text font-family=\"Times New Roman,serif\" font-size=\"14.00\" text-anchor=\"middle\" x=\"21362.5\" y=\"-141.8\">samples = 8</text>\n",
       "<text font-family=\"Times New Roman,serif\" font-size=\"14.00\" text-anchor=\"middle\" x=\"21362.5\" y=\"-126.8\">value = [2, 1, 1, 4]</text>\n",
       "<text font-family=\"Times New Roman,serif\" font-size=\"14.00\" text-anchor=\"middle\" x=\"21362.5\" y=\"-111.8\">class = D</text>\n",
       "</g>\n",
       "<!-- 342&#45;&gt;344 -->\n",
       "<g class=\"edge\" id=\"edge344\"><title>342-&gt;344</title>\n",
       "<path d=\"M21362.5,-222.907C21362.5,-214.649 21362.5,-205.864 21362.5,-197.302\" fill=\"none\" stroke=\"black\"/>\n",
       "<polygon fill=\"black\" points=\"21366,-197.021 21362.5,-187.021 21359,-197.021 21366,-197.021\" stroke=\"black\"/>\n",
       "</g>\n",
       "<!-- 345 -->\n",
       "<g class=\"node\" id=\"node346\"><title>345</title>\n",
       "<polygon fill=\"#ffffff\" points=\"21285,-68 21166,-68 21166,-0 21285,-0 21285,-68\" stroke=\"black\"/>\n",
       "<text font-family=\"Times New Roman,serif\" font-size=\"14.00\" text-anchor=\"middle\" x=\"21225.5\" y=\"-52.8\">gini = 0.667</text>\n",
       "<text font-family=\"Times New Roman,serif\" font-size=\"14.00\" text-anchor=\"middle\" x=\"21225.5\" y=\"-37.8\">samples = 3</text>\n",
       "<text font-family=\"Times New Roman,serif\" font-size=\"14.00\" text-anchor=\"middle\" x=\"21225.5\" y=\"-22.8\">value = [1, 1, 1, 0]</text>\n",
       "<text font-family=\"Times New Roman,serif\" font-size=\"14.00\" text-anchor=\"middle\" x=\"21225.5\" y=\"-7.8\">class = A</text>\n",
       "</g>\n",
       "<!-- 344&#45;&gt;345 -->\n",
       "<g class=\"edge\" id=\"edge345\"><title>344-&gt;345</title>\n",
       "<path d=\"M21311.5,-103.726C21299.6,-94.2406 21287,-84.1551 21275.2,-74.7159\" fill=\"none\" stroke=\"black\"/>\n",
       "<polygon fill=\"black\" points=\"21277.2,-71.8091 21267.2,-68.2996 21272.8,-77.2771 21277.2,-71.8091\" stroke=\"black\"/>\n",
       "</g>\n",
       "<!-- 346 -->\n",
       "<g class=\"node\" id=\"node347\"><title>346</title>\n",
       "<polygon fill=\"#e16aec\" points=\"21422,-68 21303,-68 21303,-0 21422,-0 21422,-68\" stroke=\"black\"/>\n",
       "<text font-family=\"Times New Roman,serif\" font-size=\"14.00\" text-anchor=\"middle\" x=\"21362.5\" y=\"-52.8\">gini = 0.32</text>\n",
       "<text font-family=\"Times New Roman,serif\" font-size=\"14.00\" text-anchor=\"middle\" x=\"21362.5\" y=\"-37.8\">samples = 5</text>\n",
       "<text font-family=\"Times New Roman,serif\" font-size=\"14.00\" text-anchor=\"middle\" x=\"21362.5\" y=\"-22.8\">value = [1, 0, 0, 4]</text>\n",
       "<text font-family=\"Times New Roman,serif\" font-size=\"14.00\" text-anchor=\"middle\" x=\"21362.5\" y=\"-7.8\">class = D</text>\n",
       "</g>\n",
       "<!-- 344&#45;&gt;346 -->\n",
       "<g class=\"edge\" id=\"edge346\"><title>344-&gt;346</title>\n",
       "<path d=\"M21362.5,-103.726C21362.5,-95.5175 21362.5,-86.8595 21362.5,-78.56\" fill=\"none\" stroke=\"black\"/>\n",
       "<polygon fill=\"black\" points=\"21366,-78.2996 21362.5,-68.2996 21359,-78.2996 21366,-78.2996\" stroke=\"black\"/>\n",
       "</g>\n",
       "<!-- 348 -->\n",
       "<g class=\"node\" id=\"node349\"><title>348</title>\n",
       "<polygon fill=\"#f6d4f9\" points=\"21652.5,-187 21512.5,-187 21512.5,-104 21652.5,-104 21652.5,-187\" stroke=\"black\"/>\n",
       "<text font-family=\"Times New Roman,serif\" font-size=\"14.00\" text-anchor=\"middle\" x=\"21582.5\" y=\"-171.8\">Profession &lt;= 6.5</text>\n",
       "<text font-family=\"Times New Roman,serif\" font-size=\"14.00\" text-anchor=\"middle\" x=\"21582.5\" y=\"-156.8\">gini = 0.649</text>\n",
       "<text font-family=\"Times New Roman,serif\" font-size=\"14.00\" text-anchor=\"middle\" x=\"21582.5\" y=\"-141.8\">samples = 117</text>\n",
       "<text font-family=\"Times New Roman,serif\" font-size=\"14.00\" text-anchor=\"middle\" x=\"21582.5\" y=\"-126.8\">value = [38, 17, 7, 55]</text>\n",
       "<text font-family=\"Times New Roman,serif\" font-size=\"14.00\" text-anchor=\"middle\" x=\"21582.5\" y=\"-111.8\">class = D</text>\n",
       "</g>\n",
       "<!-- 347&#45;&gt;348 -->\n",
       "<g class=\"edge\" id=\"edge348\"><title>347-&gt;348</title>\n",
       "<path d=\"M21582.5,-222.907C21582.5,-214.649 21582.5,-205.864 21582.5,-197.302\" fill=\"none\" stroke=\"black\"/>\n",
       "<polygon fill=\"black\" points=\"21586,-197.021 21582.5,-187.021 21579,-197.021 21586,-197.021\" stroke=\"black\"/>\n",
       "</g>\n",
       "<!-- 351 -->\n",
       "<g class=\"node\" id=\"node352\"><title>351</title>\n",
       "<polygon fill=\"#e994f1\" points=\"21866,-187 21733,-187 21733,-104 21866,-104 21866,-187\" stroke=\"black\"/>\n",
       "<text font-family=\"Times New Roman,serif\" font-size=\"14.00\" text-anchor=\"middle\" x=\"21799.5\" y=\"-171.8\">Profession &lt;= 8.5</text>\n",
       "<text font-family=\"Times New Roman,serif\" font-size=\"14.00\" text-anchor=\"middle\" x=\"21799.5\" y=\"-156.8\">gini = 0.545</text>\n",
       "<text font-family=\"Times New Roman,serif\" font-size=\"14.00\" text-anchor=\"middle\" x=\"21799.5\" y=\"-141.8\">samples = 60</text>\n",
       "<text font-family=\"Times New Roman,serif\" font-size=\"14.00\" text-anchor=\"middle\" x=\"21799.5\" y=\"-126.8\">value = [12, 5, 5, 38]</text>\n",
       "<text font-family=\"Times New Roman,serif\" font-size=\"14.00\" text-anchor=\"middle\" x=\"21799.5\" y=\"-111.8\">class = D</text>\n",
       "</g>\n",
       "<!-- 347&#45;&gt;351 -->\n",
       "<g class=\"edge\" id=\"edge351\"><title>347-&gt;351</title>\n",
       "<path d=\"M21655.7,-224.052C21677.6,-212.216 21701.7,-199.211 21723.8,-187.29\" fill=\"none\" stroke=\"black\"/>\n",
       "<polygon fill=\"black\" points=\"21725.7,-190.257 21732.9,-182.43 21722.4,-184.096 21725.7,-190.257\" stroke=\"black\"/>\n",
       "</g>\n",
       "<!-- 349 -->\n",
       "<g class=\"node\" id=\"node350\"><title>349</title>\n",
       "<polygon fill=\"#f6d3f9\" points=\"21580.5,-68 21440.5,-68 21440.5,-0 21580.5,-0 21580.5,-68\" stroke=\"black\"/>\n",
       "<text font-family=\"Times New Roman,serif\" font-size=\"14.00\" text-anchor=\"middle\" x=\"21510.5\" y=\"-52.8\">gini = 0.641</text>\n",
       "<text font-family=\"Times New Roman,serif\" font-size=\"14.00\" text-anchor=\"middle\" x=\"21510.5\" y=\"-37.8\">samples = 115</text>\n",
       "<text font-family=\"Times New Roman,serif\" font-size=\"14.00\" text-anchor=\"middle\" x=\"21510.5\" y=\"-22.8\">value = [38, 15, 7, 55]</text>\n",
       "<text font-family=\"Times New Roman,serif\" font-size=\"14.00\" text-anchor=\"middle\" x=\"21510.5\" y=\"-7.8\">class = D</text>\n",
       "</g>\n",
       "<!-- 348&#45;&gt;349 -->\n",
       "<g class=\"edge\" id=\"edge349\"><title>348-&gt;349</title>\n",
       "<path d=\"M21555.7,-103.726C21549.9,-94.9703 21543.8,-85.7032 21538.1,-76.9051\" fill=\"none\" stroke=\"black\"/>\n",
       "<polygon fill=\"black\" points=\"21540.8,-74.7322 21532.4,-68.2996 21535,-78.5781 21540.8,-74.7322\" stroke=\"black\"/>\n",
       "</g>\n",
       "<!-- 350 -->\n",
       "<g class=\"node\" id=\"node351\"><title>350</title>\n",
       "<polygon fill=\"#47e539\" points=\"21718,-68 21599,-68 21599,-0 21718,-0 21718,-68\" stroke=\"black\"/>\n",
       "<text font-family=\"Times New Roman,serif\" font-size=\"14.00\" text-anchor=\"middle\" x=\"21658.5\" y=\"-52.8\">gini = 0.0</text>\n",
       "<text font-family=\"Times New Roman,serif\" font-size=\"14.00\" text-anchor=\"middle\" x=\"21658.5\" y=\"-37.8\">samples = 2</text>\n",
       "<text font-family=\"Times New Roman,serif\" font-size=\"14.00\" text-anchor=\"middle\" x=\"21658.5\" y=\"-22.8\">value = [0, 2, 0, 0]</text>\n",
       "<text font-family=\"Times New Roman,serif\" font-size=\"14.00\" text-anchor=\"middle\" x=\"21658.5\" y=\"-7.8\">class = B</text>\n",
       "</g>\n",
       "<!-- 348&#45;&gt;350 -->\n",
       "<g class=\"edge\" id=\"edge350\"><title>348-&gt;350</title>\n",
       "<path d=\"M21610.8,-103.726C21616.9,-94.879 21623.4,-85.51 21629.6,-76.6303\" fill=\"none\" stroke=\"black\"/>\n",
       "<polygon fill=\"black\" points=\"21632.6,-78.5104 21635.4,-68.2996 21626.8,-74.5191 21632.6,-78.5104\" stroke=\"black\"/>\n",
       "</g>\n",
       "<!-- 352 -->\n",
       "<g class=\"node\" id=\"node353\"><title>352</title>\n",
       "<polygon fill=\"#e479ed\" points=\"21862.5,-68 21736.5,-68 21736.5,-0 21862.5,-0 21862.5,-68\" stroke=\"black\"/>\n",
       "<text font-family=\"Times New Roman,serif\" font-size=\"14.00\" text-anchor=\"middle\" x=\"21799.5\" y=\"-52.8\">gini = 0.437</text>\n",
       "<text font-family=\"Times New Roman,serif\" font-size=\"14.00\" text-anchor=\"middle\" x=\"21799.5\" y=\"-37.8\">samples = 44</text>\n",
       "<text font-family=\"Times New Roman,serif\" font-size=\"14.00\" text-anchor=\"middle\" x=\"21799.5\" y=\"-22.8\">value = [7, 4, 1, 32]</text>\n",
       "<text font-family=\"Times New Roman,serif\" font-size=\"14.00\" text-anchor=\"middle\" x=\"21799.5\" y=\"-7.8\">class = D</text>\n",
       "</g>\n",
       "<!-- 351&#45;&gt;352 -->\n",
       "<g class=\"edge\" id=\"edge352\"><title>351-&gt;352</title>\n",
       "<path d=\"M21799.5,-103.726C21799.5,-95.5175 21799.5,-86.8595 21799.5,-78.56\" fill=\"none\" stroke=\"black\"/>\n",
       "<polygon fill=\"black\" points=\"21803,-78.2996 21799.5,-68.2996 21796,-78.2996 21803,-78.2996\" stroke=\"black\"/>\n",
       "</g>\n",
       "<!-- 353 -->\n",
       "<g class=\"node\" id=\"node354\"><title>353</title>\n",
       "<polygon fill=\"#fbedfd\" points=\"22000,-68 21881,-68 21881,-0 22000,-0 22000,-68\" stroke=\"black\"/>\n",
       "<text font-family=\"Times New Roman,serif\" font-size=\"14.00\" text-anchor=\"middle\" x=\"21940.5\" y=\"-52.8\">gini = 0.695</text>\n",
       "<text font-family=\"Times New Roman,serif\" font-size=\"14.00\" text-anchor=\"middle\" x=\"21940.5\" y=\"-37.8\">samples = 16</text>\n",
       "<text font-family=\"Times New Roman,serif\" font-size=\"14.00\" text-anchor=\"middle\" x=\"21940.5\" y=\"-22.8\">value = [5, 1, 4, 6]</text>\n",
       "<text font-family=\"Times New Roman,serif\" font-size=\"14.00\" text-anchor=\"middle\" x=\"21940.5\" y=\"-7.8\">class = D</text>\n",
       "</g>\n",
       "<!-- 351&#45;&gt;353 -->\n",
       "<g class=\"edge\" id=\"edge353\"><title>351-&gt;353</title>\n",
       "<path d=\"M21852,-103.726C21864.3,-94.1494 21877.5,-83.9611 21889.7,-74.4438\" fill=\"none\" stroke=\"black\"/>\n",
       "<polygon fill=\"black\" points=\"21891.9,-77.1975 21897.6,-68.2996 21887.6,-71.6689 21891.9,-77.1975\" stroke=\"black\"/>\n",
       "</g>\n",
       "<!-- 355 -->\n",
       "<g class=\"node\" id=\"node356\"><title>355</title>\n",
       "<polygon fill=\"#f8dcfa\" points=\"22366.5,-306 22226.5,-306 22226.5,-223 22366.5,-223 22366.5,-306\" stroke=\"black\"/>\n",
       "<text font-family=\"Times New Roman,serif\" font-size=\"14.00\" text-anchor=\"middle\" x=\"22296.5\" y=\"-290.8\">Ever_Married &lt;= 0.5</text>\n",
       "<text font-family=\"Times New Roman,serif\" font-size=\"14.00\" text-anchor=\"middle\" x=\"22296.5\" y=\"-275.8\">gini = 0.649</text>\n",
       "<text font-family=\"Times New Roman,serif\" font-size=\"14.00\" text-anchor=\"middle\" x=\"22296.5\" y=\"-260.8\">samples = 137</text>\n",
       "<text font-family=\"Times New Roman,serif\" font-size=\"14.00\" text-anchor=\"middle\" x=\"22296.5\" y=\"-245.8\">value = [47, 18, 9, 63]</text>\n",
       "<text font-family=\"Times New Roman,serif\" font-size=\"14.00\" text-anchor=\"middle\" x=\"22296.5\" y=\"-230.8\">class = D</text>\n",
       "</g>\n",
       "<!-- 354&#45;&gt;355 -->\n",
       "<g class=\"edge\" id=\"edge355\"><title>354-&gt;355</title>\n",
       "<path d=\"M22296.5,-341.907C22296.5,-333.649 22296.5,-324.864 22296.5,-316.302\" fill=\"none\" stroke=\"black\"/>\n",
       "<polygon fill=\"black\" points=\"22300,-316.021 22296.5,-306.021 22293,-316.021 22300,-316.021\" stroke=\"black\"/>\n",
       "</g>\n",
       "<!-- 362 -->\n",
       "<g class=\"node\" id=\"node363\"><title>362</title>\n",
       "<polygon fill=\"#fef9f6\" points=\"22766.5,-306 22600.5,-306 22600.5,-223 22766.5,-223 22766.5,-306\" stroke=\"black\"/>\n",
       "<text font-family=\"Times New Roman,serif\" font-size=\"14.00\" text-anchor=\"middle\" x=\"22683.5\" y=\"-290.8\">Work_Experience &lt;= 11.0</text>\n",
       "<text font-family=\"Times New Roman,serif\" font-size=\"14.00\" text-anchor=\"middle\" x=\"22683.5\" y=\"-275.8\">gini = 0.74</text>\n",
       "<text font-family=\"Times New Roman,serif\" font-size=\"14.00\" text-anchor=\"middle\" x=\"22683.5\" y=\"-260.8\">samples = 207</text>\n",
       "<text font-family=\"Times New Roman,serif\" font-size=\"14.00\" text-anchor=\"middle\" x=\"22683.5\" y=\"-245.8\">value = [65, 46, 38, 58]</text>\n",
       "<text font-family=\"Times New Roman,serif\" font-size=\"14.00\" text-anchor=\"middle\" x=\"22683.5\" y=\"-230.8\">class = A</text>\n",
       "</g>\n",
       "<!-- 354&#45;&gt;362 -->\n",
       "<g class=\"edge\" id=\"edge362\"><title>354-&gt;362</title>\n",
       "<path d=\"M22376.7,-358.258C22438.9,-339.444 22525.3,-313.333 22590.5,-293.606\" fill=\"none\" stroke=\"black\"/>\n",
       "<polygon fill=\"black\" points=\"22591.9,-296.864 22600.4,-290.62 22589.8,-290.164 22591.9,-296.864\" stroke=\"black\"/>\n",
       "</g>\n",
       "<!-- 356 -->\n",
       "<g class=\"node\" id=\"node357\"><title>356</title>\n",
       "<polygon fill=\"#e26eec\" points=\"22279.5,-187 22153.5,-187 22153.5,-104 22279.5,-104 22279.5,-187\" stroke=\"black\"/>\n",
       "<text font-family=\"Times New Roman,serif\" font-size=\"14.00\" text-anchor=\"middle\" x=\"22216.5\" y=\"-171.8\">Age &lt;= 86.5</text>\n",
       "<text font-family=\"Times New Roman,serif\" font-size=\"14.00\" text-anchor=\"middle\" x=\"22216.5\" y=\"-156.8\">gini = 0.388</text>\n",
       "<text font-family=\"Times New Roman,serif\" font-size=\"14.00\" text-anchor=\"middle\" x=\"22216.5\" y=\"-141.8\">samples = 17</text>\n",
       "<text font-family=\"Times New Roman,serif\" font-size=\"14.00\" text-anchor=\"middle\" x=\"22216.5\" y=\"-126.8\">value = [2, 0, 2, 13]</text>\n",
       "<text font-family=\"Times New Roman,serif\" font-size=\"14.00\" text-anchor=\"middle\" x=\"22216.5\" y=\"-111.8\">class = D</text>\n",
       "</g>\n",
       "<!-- 355&#45;&gt;356 -->\n",
       "<g class=\"edge\" id=\"edge356\"><title>355-&gt;356</title>\n",
       "<path d=\"M22268.7,-222.907C22262.7,-214.014 22256.2,-204.509 22249.9,-195.331\" fill=\"none\" stroke=\"black\"/>\n",
       "<polygon fill=\"black\" points=\"22252.7,-193.3 22244.2,-187.021 22247,-197.251 22252.7,-193.3\" stroke=\"black\"/>\n",
       "</g>\n",
       "<!-- 359 -->\n",
       "<g class=\"node\" id=\"node360\"><title>359</title>\n",
       "<polygon fill=\"#fcf2fd\" points=\"22457,-187 22298,-187 22298,-104 22457,-104 22457,-187\" stroke=\"black\"/>\n",
       "<text font-family=\"Times New Roman,serif\" font-size=\"14.00\" text-anchor=\"middle\" x=\"22377.5\" y=\"-171.8\">Work_Experience &lt;= 0.5</text>\n",
       "<text font-family=\"Times New Roman,serif\" font-size=\"14.00\" text-anchor=\"middle\" x=\"22377.5\" y=\"-156.8\">gini = 0.66</text>\n",
       "<text font-family=\"Times New Roman,serif\" font-size=\"14.00\" text-anchor=\"middle\" x=\"22377.5\" y=\"-141.8\">samples = 120</text>\n",
       "<text font-family=\"Times New Roman,serif\" font-size=\"14.00\" text-anchor=\"middle\" x=\"22377.5\" y=\"-126.8\">value = [45, 18, 7, 50]</text>\n",
       "<text font-family=\"Times New Roman,serif\" font-size=\"14.00\" text-anchor=\"middle\" x=\"22377.5\" y=\"-111.8\">class = D</text>\n",
       "</g>\n",
       "<!-- 355&#45;&gt;359 -->\n",
       "<g class=\"edge\" id=\"edge359\"><title>355-&gt;359</title>\n",
       "<path d=\"M22324.6,-222.907C22330.8,-214.014 22337.3,-204.509 22343.7,-195.331\" fill=\"none\" stroke=\"black\"/>\n",
       "<polygon fill=\"black\" points=\"22346.6,-197.235 22349.4,-187.021 22340.9,-193.251 22346.6,-197.235\" stroke=\"black\"/>\n",
       "</g>\n",
       "<!-- 357 -->\n",
       "<g class=\"node\" id=\"node358\"><title>357</title>\n",
       "<polygon fill=\"#e063eb\" points=\"22144.5,-68 22018.5,-68 22018.5,-0 22144.5,-0 22144.5,-68\" stroke=\"black\"/>\n",
       "<text font-family=\"Times New Roman,serif\" font-size=\"14.00\" text-anchor=\"middle\" x=\"22081.5\" y=\"-52.8\">gini = 0.32</text>\n",
       "<text font-family=\"Times New Roman,serif\" font-size=\"14.00\" text-anchor=\"middle\" x=\"22081.5\" y=\"-37.8\">samples = 16</text>\n",
       "<text font-family=\"Times New Roman,serif\" font-size=\"14.00\" text-anchor=\"middle\" x=\"22081.5\" y=\"-22.8\">value = [1, 0, 2, 13]</text>\n",
       "<text font-family=\"Times New Roman,serif\" font-size=\"14.00\" text-anchor=\"middle\" x=\"22081.5\" y=\"-7.8\">class = D</text>\n",
       "</g>\n",
       "<!-- 356&#45;&gt;357 -->\n",
       "<g class=\"edge\" id=\"edge357\"><title>356-&gt;357</title>\n",
       "<path d=\"M22166.2,-103.726C22154.5,-94.2406 22142.1,-84.1551 22130.5,-74.7159\" fill=\"none\" stroke=\"black\"/>\n",
       "<polygon fill=\"black\" points=\"22132.5,-71.8808 22122.6,-68.2996 22128.1,-77.3173 22132.5,-71.8808\" stroke=\"black\"/>\n",
       "</g>\n",
       "<!-- 358 -->\n",
       "<g class=\"node\" id=\"node359\"><title>358</title>\n",
       "<polygon fill=\"#e58139\" points=\"22282,-68 22163,-68 22163,-0 22282,-0 22282,-68\" stroke=\"black\"/>\n",
       "<text font-family=\"Times New Roman,serif\" font-size=\"14.00\" text-anchor=\"middle\" x=\"22222.5\" y=\"-52.8\">gini = 0.0</text>\n",
       "<text font-family=\"Times New Roman,serif\" font-size=\"14.00\" text-anchor=\"middle\" x=\"22222.5\" y=\"-37.8\">samples = 1</text>\n",
       "<text font-family=\"Times New Roman,serif\" font-size=\"14.00\" text-anchor=\"middle\" x=\"22222.5\" y=\"-22.8\">value = [1, 0, 0, 0]</text>\n",
       "<text font-family=\"Times New Roman,serif\" font-size=\"14.00\" text-anchor=\"middle\" x=\"22222.5\" y=\"-7.8\">class = A</text>\n",
       "</g>\n",
       "<!-- 356&#45;&gt;358 -->\n",
       "<g class=\"edge\" id=\"edge358\"><title>356-&gt;358</title>\n",
       "<path d=\"M22218.7,-103.726C22219.2,-95.5175 22219.7,-86.8595 22220.1,-78.56\" fill=\"none\" stroke=\"black\"/>\n",
       "<polygon fill=\"black\" points=\"22223.6,-78.4761 22220.7,-68.2996 22216.6,-78.0931 22223.6,-78.4761\" stroke=\"black\"/>\n",
       "</g>\n",
       "<!-- 360 -->\n",
       "<g class=\"node\" id=\"node361\"><title>360</title>\n",
       "<polygon fill=\"#f2c0f7\" points=\"22440.5,-68 22300.5,-68 22300.5,-0 22440.5,-0 22440.5,-68\" stroke=\"black\"/>\n",
       "<text font-family=\"Times New Roman,serif\" font-size=\"14.00\" text-anchor=\"middle\" x=\"22370.5\" y=\"-52.8\">gini = 0.618</text>\n",
       "<text font-family=\"Times New Roman,serif\" font-size=\"14.00\" text-anchor=\"middle\" x=\"22370.5\" y=\"-37.8\">samples = 62</text>\n",
       "<text font-family=\"Times New Roman,serif\" font-size=\"14.00\" text-anchor=\"middle\" x=\"22370.5\" y=\"-22.8\">value = [18, 11, 1, 32]</text>\n",
       "<text font-family=\"Times New Roman,serif\" font-size=\"14.00\" text-anchor=\"middle\" x=\"22370.5\" y=\"-7.8\">class = D</text>\n",
       "</g>\n",
       "<!-- 359&#45;&gt;360 -->\n",
       "<g class=\"edge\" id=\"edge360\"><title>359-&gt;360</title>\n",
       "<path d=\"M22374.9,-103.726C22374.4,-95.4263 22373.8,-86.6671 22373.3,-78.2834\" fill=\"none\" stroke=\"black\"/>\n",
       "<polygon fill=\"black\" points=\"22376.8,-78.0559 22372.6,-68.2996 22369.8,-78.5025 22376.8,-78.0559\" stroke=\"black\"/>\n",
       "</g>\n",
       "<!-- 361 -->\n",
       "<g class=\"node\" id=\"node362\"><title>361</title>\n",
       "<polygon fill=\"#f9e3d2\" points=\"22592,-68 22459,-68 22459,-0 22592,-0 22592,-68\" stroke=\"black\"/>\n",
       "<text font-family=\"Times New Roman,serif\" font-size=\"14.00\" text-anchor=\"middle\" x=\"22525.5\" y=\"-52.8\">gini = 0.662</text>\n",
       "<text font-family=\"Times New Roman,serif\" font-size=\"14.00\" text-anchor=\"middle\" x=\"22525.5\" y=\"-37.8\">samples = 58</text>\n",
       "<text font-family=\"Times New Roman,serif\" font-size=\"14.00\" text-anchor=\"middle\" x=\"22525.5\" y=\"-22.8\">value = [27, 7, 6, 18]</text>\n",
       "<text font-family=\"Times New Roman,serif\" font-size=\"14.00\" text-anchor=\"middle\" x=\"22525.5\" y=\"-7.8\">class = A</text>\n",
       "</g>\n",
       "<!-- 359&#45;&gt;361 -->\n",
       "<g class=\"edge\" id=\"edge361\"><title>359-&gt;361</title>\n",
       "<path d=\"M22432.6,-103.726C22445.6,-94.1494 22459.3,-83.9611 22472.2,-74.4438\" fill=\"none\" stroke=\"black\"/>\n",
       "<polygon fill=\"black\" points=\"22474.5,-77.061 22480.5,-68.2996 22470.4,-71.4337 22474.5,-77.061\" stroke=\"black\"/>\n",
       "</g>\n",
       "<!-- 363 -->\n",
       "<g class=\"node\" id=\"node364\"><title>363</title>\n",
       "<polygon fill=\"#fefcfb\" points=\"22756.5,-187 22610.5,-187 22610.5,-104 22756.5,-104 22756.5,-187\" stroke=\"black\"/>\n",
       "<text font-family=\"Times New Roman,serif\" font-size=\"14.00\" text-anchor=\"middle\" x=\"22683.5\" y=\"-171.8\">Profession &lt;= 7.5</text>\n",
       "<text font-family=\"Times New Roman,serif\" font-size=\"14.00\" text-anchor=\"middle\" x=\"22683.5\" y=\"-156.8\">gini = 0.742</text>\n",
       "<text font-family=\"Times New Roman,serif\" font-size=\"14.00\" text-anchor=\"middle\" x=\"22683.5\" y=\"-141.8\">samples = 203</text>\n",
       "<text font-family=\"Times New Roman,serif\" font-size=\"14.00\" text-anchor=\"middle\" x=\"22683.5\" y=\"-126.8\">value = [61, 46, 38, 58]</text>\n",
       "<text font-family=\"Times New Roman,serif\" font-size=\"14.00\" text-anchor=\"middle\" x=\"22683.5\" y=\"-111.8\">class = A</text>\n",
       "</g>\n",
       "<!-- 362&#45;&gt;363 -->\n",
       "<g class=\"edge\" id=\"edge363\"><title>362-&gt;363</title>\n",
       "<path d=\"M22683.5,-222.907C22683.5,-214.649 22683.5,-205.864 22683.5,-197.302\" fill=\"none\" stroke=\"black\"/>\n",
       "<polygon fill=\"black\" points=\"22687,-197.021 22683.5,-187.021 22680,-197.021 22687,-197.021\" stroke=\"black\"/>\n",
       "</g>\n",
       "<!-- 366 -->\n",
       "<g class=\"node\" id=\"node367\"><title>366</title>\n",
       "<polygon fill=\"#e58139\" points=\"22894,-179.5 22775,-179.5 22775,-111.5 22894,-111.5 22894,-179.5\" stroke=\"black\"/>\n",
       "<text font-family=\"Times New Roman,serif\" font-size=\"14.00\" text-anchor=\"middle\" x=\"22834.5\" y=\"-164.3\">gini = 0.0</text>\n",
       "<text font-family=\"Times New Roman,serif\" font-size=\"14.00\" text-anchor=\"middle\" x=\"22834.5\" y=\"-149.3\">samples = 4</text>\n",
       "<text font-family=\"Times New Roman,serif\" font-size=\"14.00\" text-anchor=\"middle\" x=\"22834.5\" y=\"-134.3\">value = [4, 0, 0, 0]</text>\n",
       "<text font-family=\"Times New Roman,serif\" font-size=\"14.00\" text-anchor=\"middle\" x=\"22834.5\" y=\"-119.3\">class = A</text>\n",
       "</g>\n",
       "<!-- 362&#45;&gt;366 -->\n",
       "<g class=\"edge\" id=\"edge366\"><title>362-&gt;366</title>\n",
       "<path d=\"M22735.9,-222.907C22751.3,-210.99 22768.1,-197.976 22783.4,-186.12\" fill=\"none\" stroke=\"black\"/>\n",
       "<polygon fill=\"black\" points=\"22785.9,-188.559 22791.7,-179.667 22781.6,-183.025 22785.9,-188.559\" stroke=\"black\"/>\n",
       "</g>\n",
       "<!-- 364 -->\n",
       "<g class=\"node\" id=\"node365\"><title>364</title>\n",
       "<polygon fill=\"#fdf5f0\" points=\"22756.5,-68 22610.5,-68 22610.5,-0 22756.5,-0 22756.5,-68\" stroke=\"black\"/>\n",
       "<text font-family=\"Times New Roman,serif\" font-size=\"14.00\" text-anchor=\"middle\" x=\"22683.5\" y=\"-52.8\">gini = 0.743</text>\n",
       "<text font-family=\"Times New Roman,serif\" font-size=\"14.00\" text-anchor=\"middle\" x=\"22683.5\" y=\"-37.8\">samples = 175</text>\n",
       "<text font-family=\"Times New Roman,serif\" font-size=\"14.00\" text-anchor=\"middle\" x=\"22683.5\" y=\"-22.8\">value = [55, 39, 36, 45]</text>\n",
       "<text font-family=\"Times New Roman,serif\" font-size=\"14.00\" text-anchor=\"middle\" x=\"22683.5\" y=\"-7.8\">class = A</text>\n",
       "</g>\n",
       "<!-- 363&#45;&gt;364 -->\n",
       "<g class=\"edge\" id=\"edge364\"><title>363-&gt;364</title>\n",
       "<path d=\"M22683.5,-103.726C22683.5,-95.5175 22683.5,-86.8595 22683.5,-78.56\" fill=\"none\" stroke=\"black\"/>\n",
       "<polygon fill=\"black\" points=\"22687,-78.2996 22683.5,-68.2996 22680,-78.2996 22687,-78.2996\" stroke=\"black\"/>\n",
       "</g>\n",
       "<!-- 365 -->\n",
       "<g class=\"node\" id=\"node366\"><title>365</title>\n",
       "<polygon fill=\"#f4c6f8\" points=\"22900.5,-68 22774.5,-68 22774.5,-0 22900.5,-0 22900.5,-68\" stroke=\"black\"/>\n",
       "<text font-family=\"Times New Roman,serif\" font-size=\"14.00\" text-anchor=\"middle\" x=\"22837.5\" y=\"-52.8\">gini = 0.671</text>\n",
       "<text font-family=\"Times New Roman,serif\" font-size=\"14.00\" text-anchor=\"middle\" x=\"22837.5\" y=\"-37.8\">samples = 28</text>\n",
       "<text font-family=\"Times New Roman,serif\" font-size=\"14.00\" text-anchor=\"middle\" x=\"22837.5\" y=\"-22.8\">value = [6, 7, 2, 13]</text>\n",
       "<text font-family=\"Times New Roman,serif\" font-size=\"14.00\" text-anchor=\"middle\" x=\"22837.5\" y=\"-7.8\">class = D</text>\n",
       "</g>\n",
       "<!-- 363&#45;&gt;365 -->\n",
       "<g class=\"edge\" id=\"edge365\"><title>363-&gt;365</title>\n",
       "<path d=\"M22740.8,-103.726C22754.4,-94.0582 22768.9,-83.767 22782.4,-74.172\" fill=\"none\" stroke=\"black\"/>\n",
       "<polygon fill=\"black\" points=\"22784.5,-76.9469 22790.7,-68.2996 22780.5,-71.242 22784.5,-76.9469\" stroke=\"black\"/>\n",
       "</g>\n",
       "</g>\n",
       "</svg>"
      ],
      "text/plain": [
       "<IPython.core.display.SVG object>"
      ]
     },
     "metadata": {},
     "output_type": "display_data"
    }
   ],
   "source": [
    "## Plot hierarchy of train data.\n",
    "plottree(clf)"
   ]
  },
  {
   "cell_type": "code",
   "execution_count": 1039,
   "metadata": {},
   "outputs": [],
   "source": [
    "## Getting the predictions on train and validation data.\n",
    "train_pred = clf.predict(X_train)\n",
    "test_pred = clf.predict(X_test)"
   ]
  },
  {
   "cell_type": "code",
   "execution_count": 1040,
   "metadata": {},
   "outputs": [
    {
     "name": "stdout",
     "output_type": "stream",
     "text": [
      "Train Accuracy : 0.58537341183762\n"
     ]
    }
   ],
   "source": [
    "## Display accuracy value for train data.\n",
    "print(\"Train Accuracy :\",accuracy_score(y_train,train_pred))"
   ]
  },
  {
   "cell_type": "code",
   "execution_count": 1041,
   "metadata": {},
   "outputs": [
    {
     "name": "stdout",
     "output_type": "stream",
     "text": [
      "Validation Accuracy : 0.49070631970260226\n"
     ]
    }
   ],
   "source": [
    "## Display  accuracy value for validation data.\n",
    "print(\"Validation Accuracy :\",accuracy_score(y_test,test_pred))"
   ]
  },
  {
   "cell_type": "code",
   "execution_count": 1042,
   "metadata": {},
   "outputs": [
    {
     "name": "stdout",
     "output_type": "stream",
     "text": [
      "[[ 774  328  176  318]\n",
      " [ 238  656  391  186]\n",
      " [ 146  269  942  206]\n",
      " [ 274  103   41 1406]]\n",
      "[[130 111  44  91]\n",
      " [ 84 128 122  53]\n",
      " [ 47  79 222  59]\n",
      " [ 92  21  19 312]]\n"
     ]
    }
   ],
   "source": [
    "## Get confusion matrix for train and validation and display it.\n",
    "confusion_matrix_train = confusion_matrix(y_train, train_pred)\n",
    "confusion_matrix_test = confusion_matrix(y_test, test_pred)\n",
    "\n",
    "print(confusion_matrix_train)\n",
    "print(confusion_matrix_test)"
   ]
  },
  {
   "cell_type": "code",
   "execution_count": 1043,
   "metadata": {
    "scrolled": true
   },
   "outputs": [
    {
     "name": "stdout",
     "output_type": "stream",
     "text": [
      "              precision    recall  f1-score   support\n",
      "\n",
      "           0       0.54      0.48      0.51      1596\n",
      "           1       0.48      0.45      0.46      1471\n",
      "           2       0.61      0.60      0.61      1563\n",
      "           3       0.66      0.77      0.71      1824\n",
      "\n",
      "    accuracy                           0.59      6454\n",
      "   macro avg       0.57      0.58      0.57      6454\n",
      "weighted avg       0.58      0.59      0.58      6454\n",
      "\n"
     ]
    }
   ],
   "source": [
    "## Display metric of train data.\n",
    "print(classification_report(y_true=y_train,y_pred=train_pred))"
   ]
  },
  {
   "cell_type": "code",
   "execution_count": 1044,
   "metadata": {},
   "outputs": [
    {
     "name": "stdout",
     "output_type": "stream",
     "text": [
      "              precision    recall  f1-score   support\n",
      "\n",
      "           0       0.37      0.35      0.36       376\n",
      "           1       0.38      0.33      0.35       387\n",
      "           2       0.55      0.55      0.55       407\n",
      "           3       0.61      0.70      0.65       444\n",
      "\n",
      "    accuracy                           0.49      1614\n",
      "   macro avg       0.47      0.48      0.48      1614\n",
      "weighted avg       0.48      0.49      0.48      1614\n",
      "\n"
     ]
    }
   ],
   "source": [
    "## Display metric of validation data.\n",
    "print(classification_report(y_true=y_test,y_pred=test_pred))"
   ]
  },
  {
   "cell_type": "code",
   "execution_count": 1045,
   "metadata": {},
   "outputs": [],
   "source": [
    "## Prepares a dictionary for parameters of grid search model.\n",
    "param_grid = {\"criterion\": [\"gini\", \"entropy\"],\n",
    "              \"min_samples_split\": [2, 10, 20],\n",
    "              \"max_depth\": [None, 2, 5, 10],\n",
    "              \"min_samples_leaf\": [1, 5, 10],\n",
    "              \"max_leaf_nodes\": [None, 5, 10, 20],\n",
    "              }"
   ]
  },
  {
   "cell_type": "code",
   "execution_count": 1046,
   "metadata": {},
   "outputs": [
    {
     "name": "stdout",
     "output_type": "stream",
     "text": [
      "Wall time: 47.6 s\n"
     ]
    },
    {
     "data": {
      "text/plain": [
       "GridSearchCV(cv=10, error_score=nan,\n",
       "             estimator=DecisionTreeClassifier(ccp_alpha=0.0, class_weight=None,\n",
       "                                              criterion='gini', max_depth=None,\n",
       "                                              max_features=None,\n",
       "                                              max_leaf_nodes=None,\n",
       "                                              min_impurity_decrease=0.0,\n",
       "                                              min_impurity_split=None,\n",
       "                                              min_samples_leaf=1,\n",
       "                                              min_samples_split=2,\n",
       "                                              min_weight_fraction_leaf=0.0,\n",
       "                                              presort='deprecated',\n",
       "                                              random_state=None,\n",
       "                                              splitter='best'),\n",
       "             iid='deprecated', n_jobs=None,\n",
       "             param_grid={'criterion': ['gini', 'entropy'],\n",
       "                         'max_depth': [None, 2, 5, 10],\n",
       "                         'max_leaf_nodes': [None, 5, 10, 20],\n",
       "                         'min_samples_leaf': [1, 5, 10],\n",
       "                         'min_samples_split': [2, 10, 20]},\n",
       "             pre_dispatch='2*n_jobs', refit=True, return_train_score=False,\n",
       "             scoring=None, verbose=0)"
      ]
     },
     "execution_count": 1046,
     "metadata": {},
     "output_type": "execute_result"
    }
   ],
   "source": [
    "## Instantiate model andd fit it.\n",
    "dt = DecisionTreeClassifier()\n",
    "clf = GridSearchCV(dt,         ## Decision tree model.\n",
    "                   param_grid, ## Dictionary parameters for grid search.\n",
    "                   cv=10)      ## Number of folds for cross validation.\n",
    "%time clf.fit(X_train, y_train)"
   ]
  },
  {
   "cell_type": "code",
   "execution_count": 1047,
   "metadata": {
    "scrolled": true
   },
   "outputs": [
    {
     "data": {
      "text/plain": [
       "{'criterion': 'gini',\n",
       " 'max_depth': None,\n",
       " 'max_leaf_nodes': 20,\n",
       " 'min_samples_leaf': 1,\n",
       " 'min_samples_split': 2}"
      ]
     },
     "execution_count": 1047,
     "metadata": {},
     "output_type": "execute_result"
    }
   ],
   "source": [
    "## Get best parameters from grid search.\n",
    "clf.best_params_"
   ]
  },
  {
   "cell_type": "code",
   "execution_count": 1048,
   "metadata": {},
   "outputs": [],
   "source": [
    "## Instantiate decision tree with best parameters and  fit a model.\n",
    "clf = DecisionTreeClassifier(criterion = 'gini',    ## The function to measure the quality of a split\n",
    "                             max_leaf_nodes = 5,   ## Maximum number of leaf nodes.\n",
    "                             min_samples_leaf = 1,  ## Minumn samples in leaf nodes.\n",
    "                             min_samples_split = 2, ## Minum samples for a split.\n",
    "                             max_depth=8)           ##  Depth of the tree.\n",
    "clf = clf.fit(X_train, y_train)"
   ]
  },
  {
   "cell_type": "code",
   "execution_count": 1049,
   "metadata": {},
   "outputs": [],
   "source": [
    "## Get predictions on train and validation data.\n",
    "train_pred = clf.predict(X_train)\n",
    "test_pred = clf.predict(X_test)"
   ]
  },
  {
   "cell_type": "code",
   "execution_count": 1050,
   "metadata": {},
   "outputs": [
    {
     "name": "stdout",
     "output_type": "stream",
     "text": [
      "Train Accuracy : 0.48342113418035326\n"
     ]
    }
   ],
   "source": [
    "## Display accuracy value for train data.\n",
    "print(\"Train Accuracy :\",accuracy_score(y_train,train_pred))"
   ]
  },
  {
   "cell_type": "code",
   "execution_count": 1051,
   "metadata": {},
   "outputs": [
    {
     "name": "stdout",
     "output_type": "stream",
     "text": [
      "Validation Accuracy : 0.4745972738537794\n"
     ]
    }
   ],
   "source": [
    "## Display accuracy value for validation data.\n",
    "print(\"Validation Accuracy :\",accuracy_score(y_test,test_pred))"
   ]
  },
  {
   "cell_type": "code",
   "execution_count": 1052,
   "metadata": {},
   "outputs": [
    {
     "name": "stdout",
     "output_type": "stream",
     "text": [
      "[[ 756  318   84  438]\n",
      " [ 528  488  237  218]\n",
      " [ 304  406  607  246]\n",
      " [ 402  139   14 1269]]\n",
      "[[179  78  21  98]\n",
      " [134 124  66  63]\n",
      " [ 80 107 161  59]\n",
      " [114  25   3 302]]\n"
     ]
    }
   ],
   "source": [
    "## Get confusion matrix for train and validation and display it.\n",
    "confusion_matrix_test = confusion_matrix(y_test, test_pred)\n",
    "confusion_matrix_train = confusion_matrix(y_train, train_pred)\n",
    "\n",
    "print(confusion_matrix_train)\n",
    "print(confusion_matrix_test)"
   ]
  },
  {
   "cell_type": "code",
   "execution_count": 1053,
   "metadata": {},
   "outputs": [
    {
     "name": "stdout",
     "output_type": "stream",
     "text": [
      "              precision    recall  f1-score   support\n",
      "\n",
      "           0       0.38      0.47      0.42      1596\n",
      "           1       0.36      0.33      0.35      1471\n",
      "           2       0.64      0.39      0.48      1563\n",
      "           3       0.58      0.70      0.64      1824\n",
      "\n",
      "    accuracy                           0.48      6454\n",
      "   macro avg       0.49      0.47      0.47      6454\n",
      "weighted avg       0.50      0.48      0.48      6454\n",
      "\n"
     ]
    }
   ],
   "source": [
    "## Display metrics for train data.\n",
    "print(classification_report(y_true=y_train,y_pred=train_pred))"
   ]
  },
  {
   "cell_type": "code",
   "execution_count": 1054,
   "metadata": {
    "scrolled": true
   },
   "outputs": [
    {
     "name": "stdout",
     "output_type": "stream",
     "text": [
      "              precision    recall  f1-score   support\n",
      "\n",
      "           0       0.35      0.48      0.41       376\n",
      "           1       0.37      0.32      0.34       387\n",
      "           2       0.64      0.40      0.49       407\n",
      "           3       0.58      0.68      0.63       444\n",
      "\n",
      "    accuracy                           0.47      1614\n",
      "   macro avg       0.49      0.47      0.47      1614\n",
      "weighted avg       0.49      0.47      0.47      1614\n",
      "\n"
     ]
    }
   ],
   "source": [
    "## Display metrics for validation data.\n",
    "print(classification_report(y_true=y_test,y_pred=test_pred))"
   ]
  },
  {
   "cell_type": "code",
   "execution_count": 1055,
   "metadata": {},
   "outputs": [],
   "source": [
    "## Get the predictions on test data.\n",
    "y_pred = model.predict(test)"
   ]
  },
  {
   "cell_type": "code",
   "execution_count": 1056,
   "metadata": {},
   "outputs": [],
   "source": [
    "## Copy test data into temp.\n",
    "temp = test.copy()"
   ]
  },
  {
   "cell_type": "code",
   "execution_count": 1057,
   "metadata": {},
   "outputs": [
    {
     "data": {
      "text/plain": [
       "array([0, 1, 0, ..., 0, 2, 3])"
      ]
     },
     "execution_count": 1057,
     "metadata": {},
     "output_type": "execute_result"
    }
   ],
   "source": [
    "## Display prediction values.\n",
    "y_pred"
   ]
  },
  {
   "cell_type": "code",
   "execution_count": 1058,
   "metadata": {},
   "outputs": [],
   "source": [
    "## Do Inverse ransform on predictions,so that will get it's original values.\n",
    "temp['Segmentation'] = le_segmentation.inverse_transform(y_pred)"
   ]
  },
  {
   "cell_type": "code",
   "execution_count": 1059,
   "metadata": {},
   "outputs": [],
   "source": [
    "## Reset index of temp data.\n",
    "temp.reset_index(inplace=True)"
   ]
  },
  {
   "cell_type": "code",
   "execution_count": 1060,
   "metadata": {},
   "outputs": [],
   "source": [
    "## Copy ID , Crop_Damage columns from temp to to_submit.\n",
    "to_submit = temp[['ID', 'Segmentation']]"
   ]
  },
  {
   "cell_type": "code",
   "execution_count": 1061,
   "metadata": {},
   "outputs": [
    {
     "data": {
      "text/plain": [
       "D    818\n",
       "A    680\n",
       "C    599\n",
       "B    530\n",
       "Name: Segmentation, dtype: int64"
      ]
     },
     "execution_count": 1061,
     "metadata": {},
     "output_type": "execute_result"
    }
   ],
   "source": [
    "## Get each level count of Crop_Damage column.\n",
    "to_submit.Segmentation.value_counts()"
   ]
  },
  {
   "cell_type": "code",
   "execution_count": 1062,
   "metadata": {},
   "outputs": [
    {
     "data": {
      "text/plain": [
       "(2627, 2)"
      ]
     },
     "execution_count": 1062,
     "metadata": {},
     "output_type": "execute_result"
    }
   ],
   "source": [
    "## Check dimensions of to_submit data.\n",
    "to_submit.shape"
   ]
  },
  {
   "cell_type": "code",
   "execution_count": 1063,
   "metadata": {},
   "outputs": [
    {
     "data": {
      "text/plain": [
       "(2627, 9)"
      ]
     },
     "execution_count": 1063,
     "metadata": {},
     "output_type": "execute_result"
    }
   ],
   "source": [
    "## Check dimensions of test data.\n",
    "test.shape"
   ]
  },
  {
   "cell_type": "code",
   "execution_count": 1064,
   "metadata": {},
   "outputs": [],
   "source": [
    "## Store to_submit into csv file with name DecisionTree. \n",
    "to_submit.to_csv('DecisionTree.csv',index = False)"
   ]
  },
  {
   "cell_type": "code",
   "execution_count": 1065,
   "metadata": {},
   "outputs": [],
   "source": [
    "############################################# Naive Bayes #####################################################################"
   ]
  },
  {
   "cell_type": "code",
   "execution_count": 1066,
   "metadata": {},
   "outputs": [],
   "source": [
    "## Instantiate naive bayes model.\n",
    "model = GaussianNB()"
   ]
  },
  {
   "cell_type": "code",
   "execution_count": 1067,
   "metadata": {},
   "outputs": [
    {
     "data": {
      "text/plain": [
       "GaussianNB(priors=None, var_smoothing=1e-09)"
      ]
     },
     "execution_count": 1067,
     "metadata": {},
     "output_type": "execute_result"
    }
   ],
   "source": [
    "## Fit a model.\n",
    "model.fit(X_train,y_train)"
   ]
  },
  {
   "cell_type": "code",
   "execution_count": 1068,
   "metadata": {},
   "outputs": [],
   "source": [
    "## Get predictions on train data.\n",
    "predict_train = model.predict(X_train)"
   ]
  },
  {
   "cell_type": "code",
   "execution_count": 1069,
   "metadata": {},
   "outputs": [
    {
     "name": "stdout",
     "output_type": "stream",
     "text": [
      "Train Accuracy : 0.4835760768515649\n"
     ]
    }
   ],
   "source": [
    "## Display accuracy value for train data.\n",
    "print(\"Train Accuracy :\",accuracy_score(y_train,predict_train))"
   ]
  },
  {
   "cell_type": "code",
   "execution_count": 1070,
   "metadata": {},
   "outputs": [],
   "source": [
    "## Get predictions on validation data.\n",
    "validation_pred = model.predict(X_test)"
   ]
  },
  {
   "cell_type": "code",
   "execution_count": 1071,
   "metadata": {},
   "outputs": [
    {
     "name": "stdout",
     "output_type": "stream",
     "text": [
      "Validation Accuracy : 0.4826517967781908\n"
     ]
    }
   ],
   "source": [
    "## Display  accuracy value for validation data.\n",
    "print(\"Validation Accuracy :\",accuracy_score(y_test,validation_pred))"
   ]
  },
  {
   "cell_type": "code",
   "execution_count": 1072,
   "metadata": {},
   "outputs": [
    {
     "name": "stdout",
     "output_type": "stream",
     "text": [
      "[[ 555  176  378  487]\n",
      " [ 374  234  653  210]\n",
      " [ 188  152  984  239]\n",
      " [ 265  116   95 1348]]\n"
     ]
    }
   ],
   "source": [
    "## Get confusion matrix for train data and display it.\n",
    "confusion_matrix_train = confusion_matrix(y_train, predict_train)\n",
    "print(confusion_matrix_train)"
   ]
  },
  {
   "cell_type": "code",
   "execution_count": 1073,
   "metadata": {},
   "outputs": [
    {
     "name": "stdout",
     "output_type": "stream",
     "text": [
      "[[124  58  83 111]\n",
      " [ 95  66 164  62]\n",
      " [ 45  35 263  64]\n",
      " [ 66  27  25 326]]\n"
     ]
    }
   ],
   "source": [
    "## Get confusion matrix for validation data and display it.\n",
    "confusion_matrix_test = confusion_matrix(y_test, validation_pred)\n",
    "print(confusion_matrix_test)"
   ]
  },
  {
   "cell_type": "code",
   "execution_count": 1074,
   "metadata": {},
   "outputs": [
    {
     "name": "stdout",
     "output_type": "stream",
     "text": [
      "              precision    recall  f1-score   support\n",
      "\n",
      "           0       0.38      0.47      0.42      1596\n",
      "           1       0.36      0.33      0.35      1471\n",
      "           2       0.64      0.39      0.48      1563\n",
      "           3       0.58      0.70      0.64      1824\n",
      "\n",
      "    accuracy                           0.48      6454\n",
      "   macro avg       0.49      0.47      0.47      6454\n",
      "weighted avg       0.50      0.48      0.48      6454\n",
      "\n"
     ]
    }
   ],
   "source": [
    "## Display metric of train data.\n",
    "print(classification_report(y_true=y_train,y_pred=train_pred))"
   ]
  },
  {
   "cell_type": "code",
   "execution_count": 1075,
   "metadata": {
    "scrolled": true
   },
   "outputs": [
    {
     "name": "stdout",
     "output_type": "stream",
     "text": [
      "              precision    recall  f1-score   support\n",
      "\n",
      "           0       0.38      0.33      0.35       376\n",
      "           1       0.35      0.17      0.23       387\n",
      "           2       0.49      0.65      0.56       407\n",
      "           3       0.58      0.73      0.65       444\n",
      "\n",
      "    accuracy                           0.48      1614\n",
      "   macro avg       0.45      0.47      0.45      1614\n",
      "weighted avg       0.46      0.48      0.46      1614\n",
      "\n"
     ]
    }
   ],
   "source": [
    "## Display metric of validation data.\n",
    "print(classification_report(y_true=y_test,y_pred=validation_pred))"
   ]
  },
  {
   "cell_type": "code",
   "execution_count": 1076,
   "metadata": {},
   "outputs": [],
   "source": [
    "## Get the predictions on test data.\n",
    "y_pred = model.predict(test)"
   ]
  },
  {
   "cell_type": "code",
   "execution_count": 1077,
   "metadata": {},
   "outputs": [],
   "source": [
    "## Copy test data into temp.\n",
    "temp = test.copy()"
   ]
  },
  {
   "cell_type": "code",
   "execution_count": 1078,
   "metadata": {},
   "outputs": [
    {
     "data": {
      "text/plain": [
       "array([2, 2, 0, ..., 0, 2, 3])"
      ]
     },
     "execution_count": 1078,
     "metadata": {},
     "output_type": "execute_result"
    }
   ],
   "source": [
    "## Display prediction values.\n",
    "y_pred"
   ]
  },
  {
   "cell_type": "code",
   "execution_count": 1079,
   "metadata": {},
   "outputs": [],
   "source": [
    "## Do Inverse ransform on predictions,so that will get it's original values.\n",
    "temp['Segmentation'] = le_segmentation.inverse_transform(y_pred)"
   ]
  },
  {
   "cell_type": "code",
   "execution_count": 1080,
   "metadata": {},
   "outputs": [],
   "source": [
    "## Reset index of temp data.\n",
    "temp.reset_index(inplace=True)"
   ]
  },
  {
   "cell_type": "code",
   "execution_count": 1081,
   "metadata": {},
   "outputs": [],
   "source": [
    "## Copy ID , Crop_Damage columns from temp to to_submit.\n",
    "to_submit = temp[['ID', 'Segmentation']]"
   ]
  },
  {
   "cell_type": "code",
   "execution_count": 1082,
   "metadata": {},
   "outputs": [
    {
     "data": {
      "text/plain": [
       "D    919\n",
       "C    846\n",
       "A    585\n",
       "B    277\n",
       "Name: Segmentation, dtype: int64"
      ]
     },
     "execution_count": 1082,
     "metadata": {},
     "output_type": "execute_result"
    }
   ],
   "source": [
    "## Get each level count of Crop_Damage column.\n",
    "to_submit.Segmentation.value_counts()"
   ]
  },
  {
   "cell_type": "code",
   "execution_count": 1083,
   "metadata": {},
   "outputs": [
    {
     "data": {
      "text/plain": [
       "(2627, 2)"
      ]
     },
     "execution_count": 1083,
     "metadata": {},
     "output_type": "execute_result"
    }
   ],
   "source": [
    "## Check dimensions of to_submit data.\n",
    "to_submit.shape"
   ]
  },
  {
   "cell_type": "code",
   "execution_count": 1084,
   "metadata": {},
   "outputs": [
    {
     "data": {
      "text/plain": [
       "(2627, 9)"
      ]
     },
     "execution_count": 1084,
     "metadata": {},
     "output_type": "execute_result"
    }
   ],
   "source": [
    "## Check dimensions of test data.\n",
    "test.shape"
   ]
  },
  {
   "cell_type": "code",
   "execution_count": 1085,
   "metadata": {},
   "outputs": [],
   "source": [
    "## Store to_submit data into a csv file with name NaiveBayes. \n",
    "to_submit.to_csv('NaiveBayes.csv',index = False)"
   ]
  },
  {
   "cell_type": "code",
   "execution_count": 1086,
   "metadata": {},
   "outputs": [],
   "source": [
    "################################################## KNN ######################################################################"
   ]
  },
  {
   "cell_type": "code",
   "execution_count": 1087,
   "metadata": {},
   "outputs": [],
   "source": [
    "## Instantiate KNN model.\n",
    "knn = KNeighborsClassifier(algorithm = 'brute',  ## Algorithm used to compute the nearest neighbors.\n",
    "                           n_neighbors = 3,      ## Number of neighbors.\n",
    "                           metric = \"euclidean\") ## The distance metric to use for the tree."
   ]
  },
  {
   "cell_type": "code",
   "execution_count": 1088,
   "metadata": {},
   "outputs": [
    {
     "data": {
      "text/plain": [
       "KNeighborsClassifier(algorithm='brute', leaf_size=30, metric='euclidean',\n",
       "                     metric_params=None, n_jobs=None, n_neighbors=3, p=2,\n",
       "                     weights='uniform')"
      ]
     },
     "execution_count": 1088,
     "metadata": {},
     "output_type": "execute_result"
    }
   ],
   "source": [
    "## Fit a model.\n",
    "knn.fit(X_train, y_train)"
   ]
  },
  {
   "cell_type": "code",
   "execution_count": 1089,
   "metadata": {},
   "outputs": [],
   "source": [
    "## Get predictions on train data.\n",
    "train_pred = knn.predict(X_train)"
   ]
  },
  {
   "cell_type": "code",
   "execution_count": 1090,
   "metadata": {},
   "outputs": [
    {
     "name": "stdout",
     "output_type": "stream",
     "text": [
      "Train Accuracy : 0.682367524016114\n"
     ]
    }
   ],
   "source": [
    "## Display accuracy value for train data.\n",
    "print(\"Train Accuracy :\",accuracy_score(y_train,train_pred))"
   ]
  },
  {
   "cell_type": "code",
   "execution_count": 1091,
   "metadata": {},
   "outputs": [],
   "source": [
    "## Get predictions on validation data.\n",
    "test_pred = knn.predict(X_test)"
   ]
  },
  {
   "cell_type": "code",
   "execution_count": 1092,
   "metadata": {},
   "outputs": [
    {
     "name": "stdout",
     "output_type": "stream",
     "text": [
      "Validation Accuracy : 0.46158612143742256\n"
     ]
    }
   ],
   "source": [
    "## Display accuracy value for validation data.\n",
    "print(\"Validation Accuracy :\",accuracy_score(y_test,test_pred))"
   ]
  },
  {
   "cell_type": "code",
   "execution_count": 1093,
   "metadata": {},
   "outputs": [
    {
     "name": "stdout",
     "output_type": "stream",
     "text": [
      "[[1266  132   91  107]\n",
      " [ 374  846  182   69]\n",
      " [ 306  199  995   63]\n",
      " [ 364  126   37 1297]]\n"
     ]
    }
   ],
   "source": [
    "## Get confusion matrix for train data and display it.\n",
    "confusion_matrix_train = confusion_matrix(y_train, train_pred)\n",
    "print(confusion_matrix_train)"
   ]
  },
  {
   "cell_type": "code",
   "execution_count": 1094,
   "metadata": {},
   "outputs": [
    {
     "name": "stdout",
     "output_type": "stream",
     "text": [
      "[[203  74  40  59]\n",
      " [158 114  92  23]\n",
      " [100  93 184  30]\n",
      " [129  40  31 244]]\n"
     ]
    }
   ],
   "source": [
    "## Get confusion matrix for validation data and display it.\n",
    "confusion_matrix_test = confusion_matrix(y_test, test_pred)\n",
    "print(confusion_matrix_test)"
   ]
  },
  {
   "cell_type": "code",
   "execution_count": 1095,
   "metadata": {},
   "outputs": [
    {
     "name": "stdout",
     "output_type": "stream",
     "text": [
      "              precision    recall  f1-score   support\n",
      "\n",
      "           0       0.55      0.79      0.65      1596\n",
      "           1       0.65      0.58      0.61      1471\n",
      "           2       0.76      0.64      0.69      1563\n",
      "           3       0.84      0.71      0.77      1824\n",
      "\n",
      "    accuracy                           0.68      6454\n",
      "   macro avg       0.70      0.68      0.68      6454\n",
      "weighted avg       0.71      0.68      0.69      6454\n",
      "\n"
     ]
    }
   ],
   "source": [
    "## Display metric of train data.\n",
    "print(classification_report(y_true=y_train,y_pred=train_pred))"
   ]
  },
  {
   "cell_type": "code",
   "execution_count": 1096,
   "metadata": {
    "scrolled": true
   },
   "outputs": [
    {
     "name": "stdout",
     "output_type": "stream",
     "text": [
      "              precision    recall  f1-score   support\n",
      "\n",
      "           0       0.34      0.54      0.42       376\n",
      "           1       0.36      0.29      0.32       387\n",
      "           2       0.53      0.45      0.49       407\n",
      "           3       0.69      0.55      0.61       444\n",
      "\n",
      "    accuracy                           0.46      1614\n",
      "   macro avg       0.48      0.46      0.46      1614\n",
      "weighted avg       0.49      0.46      0.47      1614\n",
      "\n"
     ]
    }
   ],
   "source": [
    "## Display metric of validation data.\n",
    "print(classification_report(y_true=y_test,y_pred=test_pred))"
   ]
  },
  {
   "cell_type": "code",
   "execution_count": 1097,
   "metadata": {},
   "outputs": [],
   "source": [
    "## Get the predictions on test data.\n",
    "y_pred = model.predict(test)"
   ]
  },
  {
   "cell_type": "code",
   "execution_count": 1098,
   "metadata": {},
   "outputs": [],
   "source": [
    "## Copy test data into temp.\n",
    "temp = test.copy()"
   ]
  },
  {
   "cell_type": "code",
   "execution_count": 1099,
   "metadata": {},
   "outputs": [
    {
     "data": {
      "text/plain": [
       "array([2, 2, 0, ..., 0, 2, 3])"
      ]
     },
     "execution_count": 1099,
     "metadata": {},
     "output_type": "execute_result"
    }
   ],
   "source": [
    "## Display prediction values.\n",
    "y_pred"
   ]
  },
  {
   "cell_type": "code",
   "execution_count": 1100,
   "metadata": {},
   "outputs": [],
   "source": [
    "## Do Inverse ransform on predictions,so that will get it's original values.\n",
    "temp['Segmentation'] = le_segmentation.inverse_transform(y_pred)"
   ]
  },
  {
   "cell_type": "code",
   "execution_count": 1101,
   "metadata": {},
   "outputs": [],
   "source": [
    "## Reset index of temp data.\n",
    "temp.reset_index(inplace=True)"
   ]
  },
  {
   "cell_type": "code",
   "execution_count": 1102,
   "metadata": {},
   "outputs": [],
   "source": [
    "## Copy ID , Crop_Damage columns from temp to to_submit.\n",
    "to_submit = temp[['ID', 'Segmentation']]"
   ]
  },
  {
   "cell_type": "code",
   "execution_count": 1103,
   "metadata": {},
   "outputs": [
    {
     "data": {
      "text/plain": [
       "D    919\n",
       "C    846\n",
       "A    585\n",
       "B    277\n",
       "Name: Segmentation, dtype: int64"
      ]
     },
     "execution_count": 1103,
     "metadata": {},
     "output_type": "execute_result"
    }
   ],
   "source": [
    "## Get each level count of Crop_Damage column.\n",
    "to_submit.Segmentation.value_counts()"
   ]
  },
  {
   "cell_type": "code",
   "execution_count": 1104,
   "metadata": {},
   "outputs": [
    {
     "data": {
      "text/plain": [
       "(2627, 2)"
      ]
     },
     "execution_count": 1104,
     "metadata": {},
     "output_type": "execute_result"
    }
   ],
   "source": [
    "## Check dimensions of to_submit data.\n",
    "to_submit.shape"
   ]
  },
  {
   "cell_type": "code",
   "execution_count": 1105,
   "metadata": {},
   "outputs": [
    {
     "data": {
      "text/plain": [
       "(2627, 9)"
      ]
     },
     "execution_count": 1105,
     "metadata": {},
     "output_type": "execute_result"
    }
   ],
   "source": [
    "## Check dimensions of test data.\n",
    "test.shape"
   ]
  },
  {
   "cell_type": "code",
   "execution_count": 1106,
   "metadata": {},
   "outputs": [],
   "source": [
    "## Store to_submit into csv file with name KNN. \n",
    "to_submit.to_csv('KNN.csv',index = False)"
   ]
  },
  {
   "cell_type": "code",
   "execution_count": 1107,
   "metadata": {},
   "outputs": [],
   "source": [
    "################################################ Random Forest ################################################################"
   ]
  },
  {
   "cell_type": "code",
   "execution_count": 1108,
   "metadata": {},
   "outputs": [],
   "source": [
    "## Instantiate random forest model.\n",
    "rc = RandomForestClassifier(n_estimators=30, ## Number of trees.\n",
    "                            max_depth=10,    ## Tree depth.\n",
    "                            n_jobs=-1)       ## To run the jobs parallel(uses all processors to complete the job)."
   ]
  },
  {
   "cell_type": "code",
   "execution_count": 1109,
   "metadata": {},
   "outputs": [
    {
     "data": {
      "text/plain": [
       "RandomForestClassifier(bootstrap=True, ccp_alpha=0.0, class_weight=None,\n",
       "                       criterion='gini', max_depth=10, max_features='auto',\n",
       "                       max_leaf_nodes=None, max_samples=None,\n",
       "                       min_impurity_decrease=0.0, min_impurity_split=None,\n",
       "                       min_samples_leaf=1, min_samples_split=2,\n",
       "                       min_weight_fraction_leaf=0.0, n_estimators=30, n_jobs=-1,\n",
       "                       oob_score=False, random_state=None, verbose=0,\n",
       "                       warm_start=False)"
      ]
     },
     "execution_count": 1109,
     "metadata": {},
     "output_type": "execute_result"
    }
   ],
   "source": [
    "## Fit a model.\n",
    "rc.fit(X_train,y_train)"
   ]
  },
  {
   "cell_type": "code",
   "execution_count": 1110,
   "metadata": {},
   "outputs": [],
   "source": [
    "## Get predictions on train and validation data.\n",
    "train_pred = rc.predict(X_train)\n",
    "test_pred = rc.predict(X_test)"
   ]
  },
  {
   "cell_type": "code",
   "execution_count": 1111,
   "metadata": {},
   "outputs": [
    {
     "name": "stdout",
     "output_type": "stream",
     "text": [
      "Train Accuracy : 0.7017353579175705\n"
     ]
    }
   ],
   "source": [
    "## Display accuracy value for train data.\n",
    "print(\"Train Accuracy :\",accuracy_score(y_train,train_pred))"
   ]
  },
  {
   "cell_type": "code",
   "execution_count": 1112,
   "metadata": {},
   "outputs": [
    {
     "name": "stdout",
     "output_type": "stream",
     "text": [
      "Validation Accuracy : 0.5353159851301115\n"
     ]
    }
   ],
   "source": [
    "## Display  accuracy value for validation data.\n",
    "print(\"Validation Accuracy :\",accuracy_score(y_test,test_pred))"
   ]
  },
  {
   "cell_type": "code",
   "execution_count": 1113,
   "metadata": {},
   "outputs": [
    {
     "name": "stdout",
     "output_type": "stream",
     "text": [
      "[[1123  160  137  176]\n",
      " [ 221  777  326  147]\n",
      " [ 119  194 1074  176]\n",
      " [ 177   70   22 1555]]\n"
     ]
    }
   ],
   "source": [
    "## Get confusion matrix for train data and display it.\n",
    "confusion_matrix_train = confusion_matrix(y_train, train_pred)\n",
    "print(confusion_matrix_train)"
   ]
  },
  {
   "cell_type": "code",
   "execution_count": 1114,
   "metadata": {
    "scrolled": true
   },
   "outputs": [
    {
     "name": "stdout",
     "output_type": "stream",
     "text": [
      "[[170  75  42  89]\n",
      " [ 91 136 105  55]\n",
      " [ 45  73 232  57]\n",
      " [ 88  20  10 326]]\n"
     ]
    }
   ],
   "source": [
    "## Get confusion matrix for validation data and display it.\n",
    "confusion_matrix_test = confusion_matrix(y_test, test_pred)\n",
    "print(confusion_matrix_test)"
   ]
  },
  {
   "cell_type": "code",
   "execution_count": 1115,
   "metadata": {},
   "outputs": [
    {
     "name": "stdout",
     "output_type": "stream",
     "text": [
      "              precision    recall  f1-score   support\n",
      "\n",
      "           0       0.68      0.70      0.69      1596\n",
      "           1       0.65      0.53      0.58      1471\n",
      "           2       0.69      0.69      0.69      1563\n",
      "           3       0.76      0.85      0.80      1824\n",
      "\n",
      "    accuracy                           0.70      6454\n",
      "   macro avg       0.69      0.69      0.69      6454\n",
      "weighted avg       0.70      0.70      0.70      6454\n",
      "\n"
     ]
    }
   ],
   "source": [
    "## Display metric of train data.\n",
    "print(classification_report(y_true=y_train,y_pred=train_pred))"
   ]
  },
  {
   "cell_type": "code",
   "execution_count": 1116,
   "metadata": {
    "scrolled": true
   },
   "outputs": [
    {
     "name": "stdout",
     "output_type": "stream",
     "text": [
      "              precision    recall  f1-score   support\n",
      "\n",
      "           0       0.43      0.45      0.44       376\n",
      "           1       0.45      0.35      0.39       387\n",
      "           2       0.60      0.57      0.58       407\n",
      "           3       0.62      0.73      0.67       444\n",
      "\n",
      "    accuracy                           0.54      1614\n",
      "   macro avg       0.52      0.53      0.52      1614\n",
      "weighted avg       0.53      0.54      0.53      1614\n",
      "\n"
     ]
    }
   ],
   "source": [
    "## Display metric of validation data.\n",
    "print(classification_report(y_true=y_test,y_pred=test_pred))"
   ]
  },
  {
   "cell_type": "code",
   "execution_count": 1117,
   "metadata": {},
   "outputs": [],
   "source": [
    "## Get the predictions on test data.\n",
    "y_pred = model.predict(test)"
   ]
  },
  {
   "cell_type": "code",
   "execution_count": 1118,
   "metadata": {},
   "outputs": [],
   "source": [
    "## Copy test data into temp.\n",
    "temp = test.copy()"
   ]
  },
  {
   "cell_type": "code",
   "execution_count": 1119,
   "metadata": {},
   "outputs": [
    {
     "data": {
      "text/plain": [
       "array([2, 2, 0, ..., 0, 2, 3])"
      ]
     },
     "execution_count": 1119,
     "metadata": {},
     "output_type": "execute_result"
    }
   ],
   "source": [
    "## Do Inverse ransform on predictions,so that will get it's original values.\n",
    "temp['Segmentation'] = le_segmentation.inverse_transform(y_pred)\n",
    "\n",
    "## Reset index of temp data.\n",
    "temp.reset_index(inplace=True)\n",
    "\n",
    "## Copy ID , Crop_Damage columns from temp to to_submit.\n",
    "to_submit = temp[['ID', 'Segmentation']]\n",
    "\n",
    "## Get each level count of Crop_Damage column.\n",
    "to_submit.Segmentation.value_counts()## Display prediction values.\n",
    "y_pred"
   ]
  },
  {
   "cell_type": "code",
   "execution_count": 1120,
   "metadata": {},
   "outputs": [],
   "source": [
    "## Do Inverse ransform on predictions,so that will get it's original values.\n",
    "temp['Segmentation'] = le_segmentation.inverse_transform(y_pred)"
   ]
  },
  {
   "cell_type": "code",
   "execution_count": 1121,
   "metadata": {},
   "outputs": [],
   "source": [
    "## Reset index of temp data.\n",
    "temp.reset_index(inplace=True)"
   ]
  },
  {
   "cell_type": "code",
   "execution_count": 1122,
   "metadata": {},
   "outputs": [],
   "source": [
    "## Copy ID , Crop_Damage columns from temp to to_submit.\n",
    "to_submit = temp[['ID', 'Segmentation']]"
   ]
  },
  {
   "cell_type": "code",
   "execution_count": 1123,
   "metadata": {},
   "outputs": [
    {
     "data": {
      "text/plain": [
       "D    919\n",
       "C    846\n",
       "A    585\n",
       "B    277\n",
       "Name: Segmentation, dtype: int64"
      ]
     },
     "execution_count": 1123,
     "metadata": {},
     "output_type": "execute_result"
    }
   ],
   "source": [
    "## Get each level count of Crop_Damage column.\n",
    "to_submit.Segmentation.value_counts()"
   ]
  },
  {
   "cell_type": "code",
   "execution_count": 1124,
   "metadata": {},
   "outputs": [
    {
     "data": {
      "text/plain": [
       "(2627, 2)"
      ]
     },
     "execution_count": 1124,
     "metadata": {},
     "output_type": "execute_result"
    }
   ],
   "source": [
    "## Check dimensions of to_submit data.\n",
    "to_submit.shape"
   ]
  },
  {
   "cell_type": "code",
   "execution_count": 1125,
   "metadata": {},
   "outputs": [
    {
     "data": {
      "text/plain": [
       "(2627, 9)"
      ]
     },
     "execution_count": 1125,
     "metadata": {},
     "output_type": "execute_result"
    }
   ],
   "source": [
    "## Check dimensions of test data.\n",
    "test.shape"
   ]
  },
  {
   "cell_type": "code",
   "execution_count": 1126,
   "metadata": {},
   "outputs": [],
   "source": [
    "## Store to_submit into csv file with name RandomForest. \n",
    "to_submit.to_csv('RandomForest.csv',index = False)"
   ]
  },
  {
   "cell_type": "code",
   "execution_count": 1127,
   "metadata": {},
   "outputs": [],
   "source": [
    "######################################################### Bagging ##############################################################"
   ]
  },
  {
   "cell_type": "code",
   "execution_count": 1128,
   "metadata": {},
   "outputs": [
    {
     "data": {
      "text/plain": [
       "BaggingClassifier(base_estimator=None, bootstrap=True, bootstrap_features=False,\n",
       "                  max_features=1.0, max_samples=1.0, n_estimators=200,\n",
       "                  n_jobs=None, oob_score=False, random_state=None, verbose=0,\n",
       "                  warm_start=False)"
      ]
     },
     "execution_count": 1128,
     "metadata": {},
     "output_type": "execute_result"
    }
   ],
   "source": [
    "## Instantiate Bagging model and fit it.\n",
    "clf = BaggingClassifier(n_estimators=200) ## Number of trees.\n",
    "clf.fit(X=X_train, y=y_train)"
   ]
  },
  {
   "cell_type": "code",
   "execution_count": 1129,
   "metadata": {},
   "outputs": [],
   "source": [
    "## Get predictions on train and validation data.\n",
    "train_pred = clf.predict(X_train)\n",
    "test_pred = clf.predict(X_test)"
   ]
  },
  {
   "cell_type": "code",
   "execution_count": 1130,
   "metadata": {},
   "outputs": [
    {
     "name": "stdout",
     "output_type": "stream",
     "text": [
      "Train Accuracy : 0.9614192748682987\n"
     ]
    }
   ],
   "source": [
    "## Display accuracy value for train data.\n",
    "print(\"Train Accuracy :\",accuracy_score(y_train,train_pred))"
   ]
  },
  {
   "cell_type": "code",
   "execution_count": 1131,
   "metadata": {},
   "outputs": [
    {
     "name": "stdout",
     "output_type": "stream",
     "text": [
      "Validation Accuracy : 0.48141263940520446\n"
     ]
    }
   ],
   "source": [
    "## Display  accuracy value for validation data.\n",
    "print(\"Validation Accuracy :\",accuracy_score(y_test,test_pred))"
   ]
  },
  {
   "cell_type": "code",
   "execution_count": 1132,
   "metadata": {},
   "outputs": [
    {
     "name": "stdout",
     "output_type": "stream",
     "text": [
      "[[1537   29   20   10]\n",
      " [  23 1385   52   11]\n",
      " [  16   37 1491   19]\n",
      " [  12    8   12 1792]]\n"
     ]
    }
   ],
   "source": [
    "## Get confusion matrix for train data and display it.\n",
    "confusion_matrix_train = confusion_matrix(y_train, train_pred)\n",
    "print(confusion_matrix_train)"
   ]
  },
  {
   "cell_type": "code",
   "execution_count": 1133,
   "metadata": {},
   "outputs": [
    {
     "name": "stdout",
     "output_type": "stream",
     "text": [
      "[[148  96  49  83]\n",
      " [ 91 141 103  52]\n",
      " [ 63 101 195  48]\n",
      " [ 86  38  27 293]]\n"
     ]
    }
   ],
   "source": [
    "## Get confusion matrix for validation data and display it.\n",
    "confusion_matrix_test = confusion_matrix(y_test, test_pred)\n",
    "print(confusion_matrix_test)"
   ]
  },
  {
   "cell_type": "code",
   "execution_count": 1134,
   "metadata": {},
   "outputs": [
    {
     "name": "stdout",
     "output_type": "stream",
     "text": [
      "              precision    recall  f1-score   support\n",
      "\n",
      "           0       0.97      0.96      0.97      1596\n",
      "           1       0.95      0.94      0.95      1471\n",
      "           2       0.95      0.95      0.95      1563\n",
      "           3       0.98      0.98      0.98      1824\n",
      "\n",
      "    accuracy                           0.96      6454\n",
      "   macro avg       0.96      0.96      0.96      6454\n",
      "weighted avg       0.96      0.96      0.96      6454\n",
      "\n"
     ]
    }
   ],
   "source": [
    "## Display metric of train data.\n",
    "print(classification_report(y_true=y_train,y_pred=train_pred))"
   ]
  },
  {
   "cell_type": "code",
   "execution_count": 1135,
   "metadata": {
    "scrolled": true
   },
   "outputs": [
    {
     "name": "stdout",
     "output_type": "stream",
     "text": [
      "              precision    recall  f1-score   support\n",
      "\n",
      "           0       0.38      0.39      0.39       376\n",
      "           1       0.38      0.36      0.37       387\n",
      "           2       0.52      0.48      0.50       407\n",
      "           3       0.62      0.66      0.64       444\n",
      "\n",
      "    accuracy                           0.48      1614\n",
      "   macro avg       0.47      0.47      0.47      1614\n",
      "weighted avg       0.48      0.48      0.48      1614\n",
      "\n"
     ]
    }
   ],
   "source": [
    "## Display metric of validation data.\n",
    "print(classification_report(y_true=y_test,y_pred=test_pred))"
   ]
  },
  {
   "cell_type": "code",
   "execution_count": 1136,
   "metadata": {},
   "outputs": [],
   "source": [
    "## Get the predictions on test data.\n",
    "y_pred = model.predict(test)"
   ]
  },
  {
   "cell_type": "code",
   "execution_count": 1137,
   "metadata": {},
   "outputs": [],
   "source": [
    "## Copy test data into temp.\n",
    "temp = test.copy()"
   ]
  },
  {
   "cell_type": "code",
   "execution_count": 1138,
   "metadata": {},
   "outputs": [
    {
     "data": {
      "text/plain": [
       "array([2, 2, 0, ..., 0, 2, 3])"
      ]
     },
     "execution_count": 1138,
     "metadata": {},
     "output_type": "execute_result"
    }
   ],
   "source": [
    "## Display prediction values.\n",
    "y_pred"
   ]
  },
  {
   "cell_type": "code",
   "execution_count": 1139,
   "metadata": {},
   "outputs": [],
   "source": [
    "## Do Inverse ransform on predictions,so that will get it's original values.\n",
    "temp['Segmentation'] = le_segmentation.inverse_transform(y_pred)"
   ]
  },
  {
   "cell_type": "code",
   "execution_count": 1140,
   "metadata": {},
   "outputs": [],
   "source": [
    "## Reset index of temp data.\n",
    "temp.reset_index(inplace=True)"
   ]
  },
  {
   "cell_type": "code",
   "execution_count": 1141,
   "metadata": {},
   "outputs": [],
   "source": [
    "## Copy ID , Crop_Damage columns from temp to to_submit.\n",
    "to_submit = temp[['ID', 'Segmentation']]"
   ]
  },
  {
   "cell_type": "code",
   "execution_count": 1142,
   "metadata": {},
   "outputs": [
    {
     "data": {
      "text/plain": [
       "D    919\n",
       "C    846\n",
       "A    585\n",
       "B    277\n",
       "Name: Segmentation, dtype: int64"
      ]
     },
     "execution_count": 1142,
     "metadata": {},
     "output_type": "execute_result"
    }
   ],
   "source": [
    "## Get each level count of Crop_Damage column.\n",
    "to_submit.Segmentation.value_counts()"
   ]
  },
  {
   "cell_type": "code",
   "execution_count": 1143,
   "metadata": {},
   "outputs": [
    {
     "data": {
      "text/plain": [
       "(2627, 2)"
      ]
     },
     "execution_count": 1143,
     "metadata": {},
     "output_type": "execute_result"
    }
   ],
   "source": [
    "## Check dimensions of to_submit data.\n",
    "to_submit.shape"
   ]
  },
  {
   "cell_type": "code",
   "execution_count": 1144,
   "metadata": {},
   "outputs": [
    {
     "data": {
      "text/plain": [
       "(2627, 9)"
      ]
     },
     "execution_count": 1144,
     "metadata": {},
     "output_type": "execute_result"
    }
   ],
   "source": [
    "## Check dimensions of test data.\n",
    "test.shape"
   ]
  },
  {
   "cell_type": "code",
   "execution_count": 1145,
   "metadata": {},
   "outputs": [],
   "source": [
    "## Store to_submit data into a csv file with name Bagging. \n",
    "to_submit.to_csv('Bagging.csv',index = False)"
   ]
  },
  {
   "cell_type": "code",
   "execution_count": 1146,
   "metadata": {},
   "outputs": [],
   "source": [
    "################################################### AdaBoost ##################################################################"
   ]
  },
  {
   "cell_type": "code",
   "execution_count": 1147,
   "metadata": {},
   "outputs": [
    {
     "name": "stdout",
     "output_type": "stream",
     "text": [
      "Wall time: 318 ms\n"
     ]
    },
    {
     "data": {
      "text/plain": [
       "AdaBoostClassifier(algorithm='SAMME.R', base_estimator=None, learning_rate=1,\n",
       "                   n_estimators=50, random_state=None)"
      ]
     },
     "execution_count": 1147,
     "metadata": {},
     "output_type": "execute_result"
    }
   ],
   "source": [
    "## Instantiate AdaBoost model and fit it.\n",
    "Adaboost_model = AdaBoostClassifier(n_estimators=50, ## Number of trees.\n",
    "                                    learning_rate=1) ## Learning rate.\n",
    "%time Adaboost_model.fit(X_train, y_train)"
   ]
  },
  {
   "cell_type": "code",
   "execution_count": 1148,
   "metadata": {},
   "outputs": [],
   "source": [
    "## Get predictions on train and validation data.\n",
    "train_pred = Adaboost_model.predict(X_train)\n",
    "test_pred = Adaboost_model.predict(X_test)"
   ]
  },
  {
   "cell_type": "code",
   "execution_count": 1149,
   "metadata": {},
   "outputs": [
    {
     "name": "stdout",
     "output_type": "stream",
     "text": [
      "Train Accuracy : 0.5300588782150605\n"
     ]
    }
   ],
   "source": [
    "## Display accuracy value for train data.\n",
    "print(\"Train Accuracy :\",accuracy_score(y_train,train_pred))"
   ]
  },
  {
   "cell_type": "code",
   "execution_count": 1150,
   "metadata": {},
   "outputs": [
    {
     "name": "stdout",
     "output_type": "stream",
     "text": [
      "Validation Accuracy : 0.4993804213135068\n"
     ]
    }
   ],
   "source": [
    "## Display  accuracy value for validation data.\n",
    "print(\"Validation Accuracy :\",accuracy_score(y_test,test_pred))"
   ]
  },
  {
   "cell_type": "code",
   "execution_count": 1151,
   "metadata": {},
   "outputs": [
    {
     "name": "stdout",
     "output_type": "stream",
     "text": [
      "[[ 774  212  292  318]\n",
      " [ 406  418  478  169]\n",
      " [ 182  255  916  210]\n",
      " [ 324  104   83 1313]]\n"
     ]
    }
   ],
   "source": [
    "## Get confusion matrix for train data and display it.\n",
    "confusion_matrix_train = confusion_matrix(y_train, train_pred)\n",
    "print(confusion_matrix_train)"
   ]
  },
  {
   "cell_type": "code",
   "execution_count": 1152,
   "metadata": {},
   "outputs": [
    {
     "name": "stdout",
     "output_type": "stream",
     "text": [
      "[[165  71  62  78]\n",
      " [112  91 135  49]\n",
      " [ 55  67 231  54]\n",
      " [ 86  19  20 319]]\n"
     ]
    }
   ],
   "source": [
    "## Get confusion matrix for validation data and display it.\n",
    "confusion_matrix_test = confusion_matrix(y_test, test_pred)\n",
    "print(confusion_matrix_test)"
   ]
  },
  {
   "cell_type": "code",
   "execution_count": 1153,
   "metadata": {},
   "outputs": [
    {
     "name": "stdout",
     "output_type": "stream",
     "text": [
      "              precision    recall  f1-score   support\n",
      "\n",
      "           0       0.46      0.48      0.47      1596\n",
      "           1       0.42      0.28      0.34      1471\n",
      "           2       0.52      0.59      0.55      1563\n",
      "           3       0.65      0.72      0.68      1824\n",
      "\n",
      "    accuracy                           0.53      6454\n",
      "   macro avg       0.51      0.52      0.51      6454\n",
      "weighted avg       0.52      0.53      0.52      6454\n",
      "\n"
     ]
    }
   ],
   "source": [
    "## Display metric of train data.\n",
    "print(classification_report(y_true=y_train,y_pred=train_pred))"
   ]
  },
  {
   "cell_type": "code",
   "execution_count": 1154,
   "metadata": {
    "scrolled": true
   },
   "outputs": [
    {
     "name": "stdout",
     "output_type": "stream",
     "text": [
      "              precision    recall  f1-score   support\n",
      "\n",
      "           0       0.39      0.44      0.42       376\n",
      "           1       0.37      0.24      0.29       387\n",
      "           2       0.52      0.57      0.54       407\n",
      "           3       0.64      0.72      0.68       444\n",
      "\n",
      "    accuracy                           0.50      1614\n",
      "   macro avg       0.48      0.49      0.48      1614\n",
      "weighted avg       0.49      0.50      0.49      1614\n",
      "\n"
     ]
    }
   ],
   "source": [
    "## Display metric of validation data.\n",
    "print(classification_report(y_true=y_test,y_pred=test_pred))"
   ]
  },
  {
   "cell_type": "code",
   "execution_count": 1155,
   "metadata": {},
   "outputs": [],
   "source": [
    "## Get the predictions on test data.\n",
    "y_pred = model.predict(test)"
   ]
  },
  {
   "cell_type": "code",
   "execution_count": 1156,
   "metadata": {},
   "outputs": [],
   "source": [
    "## Copy test data into temp.\n",
    "temp = test.copy()"
   ]
  },
  {
   "cell_type": "code",
   "execution_count": 1157,
   "metadata": {},
   "outputs": [
    {
     "data": {
      "text/plain": [
       "array([2, 2, 0, ..., 0, 2, 3])"
      ]
     },
     "execution_count": 1157,
     "metadata": {},
     "output_type": "execute_result"
    }
   ],
   "source": [
    "## Display prediction values.\n",
    "y_pred"
   ]
  },
  {
   "cell_type": "code",
   "execution_count": 1158,
   "metadata": {},
   "outputs": [],
   "source": [
    "## Do Inverse ransform on predictions,so that will get it's original values.\n",
    "temp['Segmentation'] = le_segmentation.inverse_transform(y_pred)"
   ]
  },
  {
   "cell_type": "code",
   "execution_count": 1159,
   "metadata": {},
   "outputs": [],
   "source": [
    "## Reset index of temp data.\n",
    "temp.reset_index(inplace=True)"
   ]
  },
  {
   "cell_type": "code",
   "execution_count": 1160,
   "metadata": {},
   "outputs": [],
   "source": [
    "## Copy ID , Crop_Damage columns from temp to to_submit.\n",
    "to_submit = temp[['ID', 'Segmentation']]"
   ]
  },
  {
   "cell_type": "code",
   "execution_count": 1161,
   "metadata": {},
   "outputs": [
    {
     "data": {
      "text/plain": [
       "D    919\n",
       "C    846\n",
       "A    585\n",
       "B    277\n",
       "Name: Segmentation, dtype: int64"
      ]
     },
     "execution_count": 1161,
     "metadata": {},
     "output_type": "execute_result"
    }
   ],
   "source": [
    "## Get each level count of Crop_Damage column.\n",
    "to_submit.Segmentation.value_counts()"
   ]
  },
  {
   "cell_type": "code",
   "execution_count": 1162,
   "metadata": {},
   "outputs": [
    {
     "data": {
      "text/plain": [
       "(2627, 2)"
      ]
     },
     "execution_count": 1162,
     "metadata": {},
     "output_type": "execute_result"
    }
   ],
   "source": [
    "## Check dimensions of to_submit data.\n",
    "to_submit.shape"
   ]
  },
  {
   "cell_type": "code",
   "execution_count": 1163,
   "metadata": {},
   "outputs": [
    {
     "data": {
      "text/plain": [
       "(2627, 9)"
      ]
     },
     "execution_count": 1163,
     "metadata": {},
     "output_type": "execute_result"
    }
   ],
   "source": [
    "## Check dimensions of test data.\n",
    "test.shape"
   ]
  },
  {
   "cell_type": "code",
   "execution_count": 1164,
   "metadata": {},
   "outputs": [],
   "source": [
    "## Store to_submit data into a csv file with name Adaboost. \n",
    "to_submit.to_csv('Adaboost.csv',index = False)"
   ]
  },
  {
   "cell_type": "code",
   "execution_count": 1165,
   "metadata": {},
   "outputs": [],
   "source": [
    "############################################ Gradient Boosting #################################################################"
   ]
  },
  {
   "cell_type": "code",
   "execution_count": 1166,
   "metadata": {},
   "outputs": [
    {
     "name": "stdout",
     "output_type": "stream",
     "text": [
      "Wall time: 4.38 s\n"
     ]
    },
    {
     "data": {
      "text/plain": [
       "GradientBoostingClassifier(ccp_alpha=0.0, criterion='friedman_mse', init=None,\n",
       "                           learning_rate=0.3, loss='deviance', max_depth=3,\n",
       "                           max_features=None, max_leaf_nodes=None,\n",
       "                           min_impurity_decrease=0.0, min_impurity_split=None,\n",
       "                           min_samples_leaf=1, min_samples_split=2,\n",
       "                           min_weight_fraction_leaf=0.0, n_estimators=100,\n",
       "                           n_iter_no_change=None, presort='deprecated',\n",
       "                           random_state=None, subsample=1.0, tol=0.0001,\n",
       "                           validation_fraction=0.1, verbose=0,\n",
       "                           warm_start=False)"
      ]
     },
     "execution_count": 1166,
     "metadata": {},
     "output_type": "execute_result"
    }
   ],
   "source": [
    "## Instantiate GB model and fit it.\n",
    "gbm = GradientBoostingClassifier(n_estimators=100, ## Number of trees.\n",
    "                                 learning_rate=0.3)## Learning rate.\n",
    "%time gbm.fit(X=X_train, y=y_train)"
   ]
  },
  {
   "cell_type": "code",
   "execution_count": 1167,
   "metadata": {},
   "outputs": [],
   "source": [
    "## Get predictions on train and validation data.\n",
    "train_pred = gbm.predict(X_train)\n",
    "test_pred = gbm.predict(X_test)"
   ]
  },
  {
   "cell_type": "code",
   "execution_count": 1168,
   "metadata": {},
   "outputs": [
    {
     "name": "stdout",
     "output_type": "stream",
     "text": [
      "Train Accuracy : 0.6340254105980787\n"
     ]
    }
   ],
   "source": [
    "## Display accuracy value for train data.\n",
    "print(\"Train Accuracy :\",accuracy_score(y_train,train_pred))"
   ]
  },
  {
   "cell_type": "code",
   "execution_count": 1169,
   "metadata": {},
   "outputs": [
    {
     "name": "stdout",
     "output_type": "stream",
     "text": [
      "Validation Accuracy : 0.5210656753407683\n"
     ]
    }
   ],
   "source": [
    "## Display  accuracy value for validation data.\n",
    "print(\"Validation Accuracy :\",accuracy_score(y_test,test_pred))"
   ]
  },
  {
   "cell_type": "code",
   "execution_count": 1170,
   "metadata": {},
   "outputs": [
    {
     "name": "stdout",
     "output_type": "stream",
     "text": [
      "[[ 973  228  156  239]\n",
      " [ 286  689  341  155]\n",
      " [ 143  227 1005  188]\n",
      " [ 278   89   32 1425]]\n"
     ]
    }
   ],
   "source": [
    "## Get predictions on train data and display it.\n",
    "confusion_matrix_train = confusion_matrix(y_train, train_pred)\n",
    "print(confusion_matrix_train)"
   ]
  },
  {
   "cell_type": "code",
   "execution_count": 1171,
   "metadata": {
    "scrolled": true
   },
   "outputs": [
    {
     "name": "stdout",
     "output_type": "stream",
     "text": [
      "[[173  82  40  81]\n",
      " [108 127 107  45]\n",
      " [ 43  81 228  55]\n",
      " [ 97  23  11 313]]\n"
     ]
    }
   ],
   "source": [
    "## Get predictions on validation data and display it.\n",
    "confusion_matrix_test = confusion_matrix(y_test, test_pred)\n",
    "print(confusion_matrix_test)"
   ]
  },
  {
   "cell_type": "code",
   "execution_count": 1172,
   "metadata": {},
   "outputs": [
    {
     "name": "stdout",
     "output_type": "stream",
     "text": [
      "              precision    recall  f1-score   support\n",
      "\n",
      "           0       0.58      0.61      0.59      1596\n",
      "           1       0.56      0.47      0.51      1471\n",
      "           2       0.66      0.64      0.65      1563\n",
      "           3       0.71      0.78      0.74      1824\n",
      "\n",
      "    accuracy                           0.63      6454\n",
      "   macro avg       0.63      0.63      0.62      6454\n",
      "weighted avg       0.63      0.63      0.63      6454\n",
      "\n"
     ]
    }
   ],
   "source": [
    "## Display metric of train data.\n",
    "print(classification_report(y_true=y_train,y_pred=train_pred))"
   ]
  },
  {
   "cell_type": "code",
   "execution_count": 1173,
   "metadata": {},
   "outputs": [
    {
     "name": "stdout",
     "output_type": "stream",
     "text": [
      "              precision    recall  f1-score   support\n",
      "\n",
      "           0       0.41      0.46      0.43       376\n",
      "           1       0.41      0.33      0.36       387\n",
      "           2       0.59      0.56      0.58       407\n",
      "           3       0.63      0.70      0.67       444\n",
      "\n",
      "    accuracy                           0.52      1614\n",
      "   macro avg       0.51      0.51      0.51      1614\n",
      "weighted avg       0.52      0.52      0.52      1614\n",
      "\n"
     ]
    }
   ],
   "source": [
    "## Display metric of validation data.\n",
    "print(classification_report(y_true=y_test,y_pred=test_pred))"
   ]
  },
  {
   "cell_type": "code",
   "execution_count": 1174,
   "metadata": {},
   "outputs": [],
   "source": [
    "## Get the predictions on test data.\n",
    "y_pred = model.predict(test)"
   ]
  },
  {
   "cell_type": "code",
   "execution_count": 1175,
   "metadata": {},
   "outputs": [],
   "source": [
    "## Copy test data into temp.\n",
    "temp = test.copy()"
   ]
  },
  {
   "cell_type": "code",
   "execution_count": 1176,
   "metadata": {},
   "outputs": [
    {
     "data": {
      "text/plain": [
       "array([2, 2, 0, ..., 0, 2, 3])"
      ]
     },
     "execution_count": 1176,
     "metadata": {},
     "output_type": "execute_result"
    }
   ],
   "source": [
    "## Do Inverse ransform on predictions,so that will get it's original values.\n",
    "temp['Segmentation'] = le_segmentation.inverse_transform(y_pred)\n",
    "\n",
    "## Reset index of temp data.\n",
    "temp.reset_index(inplace=True)\n",
    "\n",
    "## Copy ID , Crop_Damage columns from temp to to_submit.\n",
    "to_submit = temp[['ID', 'Segmentation']]\n",
    "\n",
    "## Get each level count of Crop_Damage column.\n",
    "to_submit.Segmentation.value_counts()## Display prediction values.\n",
    "y_pred"
   ]
  },
  {
   "cell_type": "code",
   "execution_count": 1177,
   "metadata": {},
   "outputs": [],
   "source": [
    "## Do Inverse ransform on predictions,so that will get it's original values.\n",
    "temp['Segmentation'] = le_segmentation.inverse_transform(y_pred)"
   ]
  },
  {
   "cell_type": "code",
   "execution_count": 1178,
   "metadata": {},
   "outputs": [],
   "source": [
    "## Reset index of temp data.\n",
    "temp.reset_index(inplace=True)"
   ]
  },
  {
   "cell_type": "code",
   "execution_count": 1179,
   "metadata": {},
   "outputs": [],
   "source": [
    "## Copy ID , Crop_Damage columns from temp to to_submit.\n",
    "to_submit = temp[['ID', 'Segmentation']]"
   ]
  },
  {
   "cell_type": "code",
   "execution_count": 1180,
   "metadata": {},
   "outputs": [
    {
     "data": {
      "text/plain": [
       "D    919\n",
       "C    846\n",
       "A    585\n",
       "B    277\n",
       "Name: Segmentation, dtype: int64"
      ]
     },
     "execution_count": 1180,
     "metadata": {},
     "output_type": "execute_result"
    }
   ],
   "source": [
    "## Get each level count of Crop_Damage column.\n",
    "to_submit.Segmentation.value_counts()"
   ]
  },
  {
   "cell_type": "code",
   "execution_count": 1181,
   "metadata": {},
   "outputs": [
    {
     "data": {
      "text/plain": [
       "(2627, 2)"
      ]
     },
     "execution_count": 1181,
     "metadata": {},
     "output_type": "execute_result"
    }
   ],
   "source": [
    "## Check dimensions of to_submit data.\n",
    "to_submit.shape"
   ]
  },
  {
   "cell_type": "code",
   "execution_count": 1182,
   "metadata": {},
   "outputs": [
    {
     "data": {
      "text/plain": [
       "(2627, 9)"
      ]
     },
     "execution_count": 1182,
     "metadata": {},
     "output_type": "execute_result"
    }
   ],
   "source": [
    "## Check dimensions of test data.\n",
    "test.shape"
   ]
  },
  {
   "cell_type": "code",
   "execution_count": 1183,
   "metadata": {},
   "outputs": [],
   "source": [
    "## Store to_submit data into a csv file with name GradientBoosting. \n",
    "to_submit.to_csv('GradientBoosting.csv',index = False)"
   ]
  },
  {
   "cell_type": "code",
   "execution_count": 1184,
   "metadata": {},
   "outputs": [],
   "source": [
    "################################################## SVC ########################################################################"
   ]
  },
  {
   "cell_type": "code",
   "execution_count": 1185,
   "metadata": {},
   "outputs": [],
   "source": [
    "## Instantiate SVC model.\n",
    "svc_c10_rbf = SVC(C=10,         ## Regularization parameter.\n",
    "                  kernel='rbf') ## Specifies the kernel type to be used in the algorithm."
   ]
  },
  {
   "cell_type": "code",
   "execution_count": 1186,
   "metadata": {},
   "outputs": [
    {
     "data": {
      "text/plain": [
       "SVC(C=10, break_ties=False, cache_size=200, class_weight=None, coef0=0.0,\n",
       "    decision_function_shape='ovr', degree=3, gamma='scale', kernel='rbf',\n",
       "    max_iter=-1, probability=False, random_state=None, shrinking=True,\n",
       "    tol=0.001, verbose=False)"
      ]
     },
     "execution_count": 1186,
     "metadata": {},
     "output_type": "execute_result"
    }
   ],
   "source": [
    "## Fit a model.\n",
    "svc_c10_rbf.fit(X=X_train,y=y_train)"
   ]
  },
  {
   "cell_type": "code",
   "execution_count": 1187,
   "metadata": {},
   "outputs": [],
   "source": [
    "## Get predictions on train and validation data.\n",
    "train_pred = svc_c10_rbf.predict(X_train)\n",
    "test_pred = svc_c10_rbf.predict(X_test)"
   ]
  },
  {
   "cell_type": "code",
   "execution_count": 1188,
   "metadata": {},
   "outputs": [
    {
     "name": "stdout",
     "output_type": "stream",
     "text": [
      "Train Accuracy : 0.5114657576696622\n"
     ]
    }
   ],
   "source": [
    "## Display accuracy value for train data.\n",
    "print(\"Train Accuracy :\",accuracy_score(y_train,train_pred))"
   ]
  },
  {
   "cell_type": "code",
   "execution_count": 1189,
   "metadata": {},
   "outputs": [
    {
     "name": "stdout",
     "output_type": "stream",
     "text": [
      "Validation Accuracy : 0.5030978934324659\n"
     ]
    }
   ],
   "source": [
    "## Display  accuracy value for validation data.\n",
    "print(\"Validation Accuracy :\",accuracy_score(y_test,test_pred))"
   ]
  },
  {
   "cell_type": "code",
   "execution_count": 1190,
   "metadata": {},
   "outputs": [
    {
     "name": "stdout",
     "output_type": "stream",
     "text": [
      "[[ 862  239  179  316]\n",
      " [ 496  382  422  171]\n",
      " [ 267  278  797  221]\n",
      " [ 445   86   33 1260]]\n"
     ]
    }
   ],
   "source": [
    "## Get confusion matrix for train data and display it.\n",
    "confusion_matrix_train = confusion_matrix(y_train, train_pred)\n",
    "print(confusion_matrix_train)"
   ]
  },
  {
   "cell_type": "code",
   "execution_count": 1191,
   "metadata": {
    "scrolled": true
   },
   "outputs": [
    {
     "name": "stdout",
     "output_type": "stream",
     "text": [
      "[[194  70  33  79]\n",
      " [129 100 108  50]\n",
      " [ 77  68 212  50]\n",
      " [108  23   7 306]]\n"
     ]
    }
   ],
   "source": [
    "## Get confusion matrix for validation data and display it.\n",
    "confusion_matrix_test = confusion_matrix(y_test, test_pred)\n",
    "print(confusion_matrix_test)"
   ]
  },
  {
   "cell_type": "code",
   "execution_count": 1192,
   "metadata": {},
   "outputs": [
    {
     "name": "stdout",
     "output_type": "stream",
     "text": [
      "              precision    recall  f1-score   support\n",
      "\n",
      "           0       0.42      0.54      0.47      1596\n",
      "           1       0.39      0.26      0.31      1471\n",
      "           2       0.56      0.51      0.53      1563\n",
      "           3       0.64      0.69      0.66      1824\n",
      "\n",
      "    accuracy                           0.51      6454\n",
      "   macro avg       0.50      0.50      0.49      6454\n",
      "weighted avg       0.51      0.51      0.50      6454\n",
      "\n"
     ]
    }
   ],
   "source": [
    "## Display metric of train data.\n",
    "print(classification_report(y_true=y_train,y_pred=train_pred))"
   ]
  },
  {
   "cell_type": "code",
   "execution_count": 1193,
   "metadata": {},
   "outputs": [
    {
     "name": "stdout",
     "output_type": "stream",
     "text": [
      "              precision    recall  f1-score   support\n",
      "\n",
      "           0       0.38      0.52      0.44       376\n",
      "           1       0.38      0.26      0.31       387\n",
      "           2       0.59      0.52      0.55       407\n",
      "           3       0.63      0.69      0.66       444\n",
      "\n",
      "    accuracy                           0.50      1614\n",
      "   macro avg       0.50      0.50      0.49      1614\n",
      "weighted avg       0.50      0.50      0.50      1614\n",
      "\n"
     ]
    }
   ],
   "source": [
    "## Display metric of validation data.\n",
    "print(classification_report(y_true=y_test,y_pred=test_pred))\n"
   ]
  },
  {
   "cell_type": "code",
   "execution_count": 1194,
   "metadata": {},
   "outputs": [],
   "source": [
    "## Get the predictions on test data.\n",
    "y_pred = model.predict(test)"
   ]
  },
  {
   "cell_type": "code",
   "execution_count": 1195,
   "metadata": {},
   "outputs": [],
   "source": [
    "## Copy test data into temp.\n",
    "temp = test.copy()"
   ]
  },
  {
   "cell_type": "code",
   "execution_count": 1196,
   "metadata": {},
   "outputs": [
    {
     "data": {
      "text/plain": [
       "array([2, 2, 0, ..., 0, 2, 3])"
      ]
     },
     "execution_count": 1196,
     "metadata": {},
     "output_type": "execute_result"
    }
   ],
   "source": [
    "## Display prediction values.\n",
    "y_pred"
   ]
  },
  {
   "cell_type": "code",
   "execution_count": 1197,
   "metadata": {},
   "outputs": [],
   "source": [
    "## Do Inverse ransform on predictions,so that will get it's original values.\n",
    "temp['Segmentation'] = le_segmentation.inverse_transform(y_pred)"
   ]
  },
  {
   "cell_type": "code",
   "execution_count": 1198,
   "metadata": {},
   "outputs": [],
   "source": [
    "## Reset index of temp data.\n",
    "temp.reset_index(inplace=True)"
   ]
  },
  {
   "cell_type": "code",
   "execution_count": 1199,
   "metadata": {},
   "outputs": [],
   "source": [
    "## Copy ID , Crop_Damage columns from temp to to_submit.\n",
    "to_submit = temp[['ID', 'Segmentation']]"
   ]
  },
  {
   "cell_type": "code",
   "execution_count": 1200,
   "metadata": {},
   "outputs": [
    {
     "data": {
      "text/plain": [
       "D    919\n",
       "C    846\n",
       "A    585\n",
       "B    277\n",
       "Name: Segmentation, dtype: int64"
      ]
     },
     "execution_count": 1200,
     "metadata": {},
     "output_type": "execute_result"
    }
   ],
   "source": [
    "## Get each level count of Crop_Damage column.\n",
    "to_submit.Segmentation.value_counts()"
   ]
  },
  {
   "cell_type": "code",
   "execution_count": 1201,
   "metadata": {},
   "outputs": [
    {
     "data": {
      "text/plain": [
       "(2627, 2)"
      ]
     },
     "execution_count": 1201,
     "metadata": {},
     "output_type": "execute_result"
    }
   ],
   "source": [
    "## Check dimensions of to_submit data.\n",
    "to_submit.shape"
   ]
  },
  {
   "cell_type": "code",
   "execution_count": 1202,
   "metadata": {},
   "outputs": [
    {
     "data": {
      "text/plain": [
       "(2627, 9)"
      ]
     },
     "execution_count": 1202,
     "metadata": {},
     "output_type": "execute_result"
    }
   ],
   "source": [
    "## Check dimensions of test data.\n",
    "test.shape"
   ]
  },
  {
   "cell_type": "code",
   "execution_count": 1203,
   "metadata": {},
   "outputs": [],
   "source": [
    "## Store to_submit data into a csv file with name SVC. \n",
    "to_submit.to_csv('SVC.csv',index = False)"
   ]
  },
  {
   "cell_type": "code",
   "execution_count": 1204,
   "metadata": {},
   "outputs": [],
   "source": [
    "############################################### Nueral Network ################################################################"
   ]
  },
  {
   "cell_type": "code",
   "execution_count": 1205,
   "metadata": {},
   "outputs": [],
   "source": [
    "## Instantiate sequential model.\n",
    "perceptron_model = Sequential()\n",
    "\n",
    "## Add fully connected layer to model.\n",
    "perceptron_model.add(Dense(1,                           ## Output shapes.\n",
    "                           input_dim=X_train.shape[1],  ## input shapes.\n",
    "                           activation='sigmoid',        ## Activation function.\n",
    "                           kernel_initializer='normal'))## Distrubution type."
   ]
  },
  {
   "cell_type": "code",
   "execution_count": 1206,
   "metadata": {},
   "outputs": [],
   "source": [
    "## Add compiler to model.\n",
    "perceptron_model.compile(optimizer='adam',           ## Optimizer name.\n",
    "                         loss='binary_crossentropy', ## Loss funnction.\n",
    "                         metrics=['accuracy'])       ## Error metric."
   ]
  },
  {
   "cell_type": "code",
   "execution_count": 1207,
   "metadata": {},
   "outputs": [
    {
     "name": "stdout",
     "output_type": "stream",
     "text": [
      "Epoch 1/30\n",
      "6454/6454 [==============================] - 1s 80us/step - loss: -2.9424 - accuracy: 0.2282\n",
      "Epoch 2/30\n",
      "6454/6454 [==============================] - 0s 61us/step - loss: -8.2260 - accuracy: 0.2279\n",
      "Epoch 3/30\n",
      "6454/6454 [==============================] - 0s 59us/step - loss: -13.6053 - accuracy: 0.2279\n",
      "Epoch 4/30\n",
      "6454/6454 [==============================] - 0s 77us/step - loss: -19.0444 - accuracy: 0.2279\n",
      "Epoch 5/30\n",
      "6454/6454 [==============================] - 1s 107us/step - loss: -24.5060 - accuracy: 0.2279\n",
      "Epoch 6/30\n",
      "6454/6454 [==============================] - 0s 67us/step - loss: -29.9931 - accuracy: 0.2279\n",
      "Epoch 7/30\n",
      "6454/6454 [==============================] - 0s 68us/step - loss: -35.4841 - accuracy: 0.2279\n",
      "Epoch 8/30\n",
      "6454/6454 [==============================] - 1s 78us/step - loss: -40.9765 - accuracy: 0.2279\n",
      "Epoch 9/30\n",
      "6454/6454 [==============================] - 1s 79us/step - loss: -46.4789 - accuracy: 0.2279\n",
      "Epoch 10/30\n",
      "6454/6454 [==============================] - 0s 69us/step - loss: -51.9826 - accuracy: 0.2279\n",
      "Epoch 11/30\n",
      "6454/6454 [==============================] - 0s 47us/step - loss: -57.5013 - accuracy: 0.2279\n",
      "Epoch 12/30\n",
      "6454/6454 [==============================] - 1s 80us/step - loss: -63.0072 - accuracy: 0.2279\n",
      "Epoch 13/30\n",
      "6454/6454 [==============================] - 0s 71us/step - loss: -68.5052 - accuracy: 0.2279\n",
      "Epoch 14/30\n",
      "6454/6454 [==============================] - 0s 66us/step - loss: -74.0089 - accuracy: 0.2279\n",
      "Epoch 15/30\n",
      "6454/6454 [==============================] - 0s 76us/step - loss: -79.5211 - accuracy: 0.2279\n",
      "Epoch 16/30\n",
      "6454/6454 [==============================] - 0s 56us/step - loss: -85.0406 - accuracy: 0.2279\n",
      "Epoch 17/30\n",
      "6454/6454 [==============================] - 0s 64us/step - loss: -90.5490 - accuracy: 0.2279\n",
      "Epoch 18/30\n",
      "6454/6454 [==============================] - 0s 76us/step - loss: -96.0605 - accuracy: 0.2279\n",
      "Epoch 19/30\n",
      "6454/6454 [==============================] - 0s 70us/step - loss: -101.5870 - accuracy: 0.2279\n",
      "Epoch 20/30\n",
      "6454/6454 [==============================] - 0s 57us/step - loss: -107.1184 - accuracy: 0.2279\n",
      "Epoch 21/30\n",
      "6454/6454 [==============================] - 0s 71us/step - loss: -112.6410 - accuracy: 0.2279\n",
      "Epoch 22/30\n",
      "6454/6454 [==============================] - 0s 75us/step - loss: -118.1619 - accuracy: 0.2279\n",
      "Epoch 23/30\n",
      "6454/6454 [==============================] - 0s 63us/step - loss: -123.6920 - accuracy: 0.2279\n",
      "Epoch 24/30\n",
      "6454/6454 [==============================] - 0s 58us/step - loss: -129.2263 - accuracy: 0.2279\n",
      "Epoch 25/30\n",
      "6454/6454 [==============================] - 0s 67us/step - loss: -134.7672 - accuracy: 0.2279\n",
      "Epoch 26/30\n",
      "6454/6454 [==============================] - 1s 78us/step - loss: -140.3028 - accuracy: 0.2279\n",
      "Epoch 27/30\n",
      "6454/6454 [==============================] - 0s 50us/step - loss: -145.8145 - accuracy: 0.2279\n",
      "Epoch 28/30\n",
      "6454/6454 [==============================] - 0s 59us/step - loss: -151.3350 - accuracy: 0.2279\n",
      "Epoch 29/30\n",
      "6454/6454 [==============================] - 0s 59us/step - loss: -156.8594 - accuracy: 0.2279\n",
      "Epoch 30/30\n",
      "6454/6454 [==============================] - 0s 53us/step - loss: -162.3859 - accuracy: 0.2279\n"
     ]
    },
    {
     "data": {
      "text/plain": [
       "<keras.callbacks.callbacks.History at 0x2868d637d68>"
      ]
     },
     "execution_count": 1207,
     "metadata": {},
     "output_type": "execute_result"
    }
   ],
   "source": [
    "## Fit a model.\n",
    "perceptron_model.fit(X_train,  ## Train data.\n",
    "                     y_train,  ## Validation data.\n",
    "                     epochs=30)## Number of times data has to show to model."
   ]
  },
  {
   "cell_type": "code",
   "execution_count": 1208,
   "metadata": {},
   "outputs": [],
   "source": [
    "## Get predictions on train and validation data.\n",
    "test_pred=perceptron_model.predict_classes(X_test)\n",
    "train_pred=perceptron_model.predict_classes(X_train)"
   ]
  },
  {
   "cell_type": "code",
   "execution_count": 1209,
   "metadata": {},
   "outputs": [
    {
     "name": "stdout",
     "output_type": "stream",
     "text": [
      "Train Accuracy : 0.22792066935233962\n"
     ]
    }
   ],
   "source": [
    "## Display accuracy value for train data.\n",
    "print(\"Train Accuracy :\",accuracy_score(y_train,train_pred))"
   ]
  },
  {
   "cell_type": "code",
   "execution_count": 1210,
   "metadata": {},
   "outputs": [
    {
     "name": "stdout",
     "output_type": "stream",
     "text": [
      "Validation Accuracy : 0.23977695167286245\n"
     ]
    }
   ],
   "source": [
    "## Display  accuracy value for validation data.\n",
    "print(\"Validation Accuracy :\",accuracy_score(y_test,test_pred))"
   ]
  },
  {
   "cell_type": "code",
   "execution_count": 1211,
   "metadata": {},
   "outputs": [
    {
     "name": "stdout",
     "output_type": "stream",
     "text": [
      "[[   0 1596    0    0]\n",
      " [   0 1471    0    0]\n",
      " [   0 1563    0    0]\n",
      " [   0 1824    0    0]]\n"
     ]
    }
   ],
   "source": [
    "## Get confusion matrix for train data and display it.\n",
    "confusion_matrix_train = confusion_matrix(y_train, train_pred)\n",
    "print(confusion_matrix_train)"
   ]
  },
  {
   "cell_type": "code",
   "execution_count": 1212,
   "metadata": {
    "scrolled": true
   },
   "outputs": [
    {
     "name": "stdout",
     "output_type": "stream",
     "text": [
      "[[  0 376   0   0]\n",
      " [  0 387   0   0]\n",
      " [  0 407   0   0]\n",
      " [  0 444   0   0]]\n"
     ]
    }
   ],
   "source": [
    "## Get confusion matrix for validation data and display it.\n",
    "confusion_matrix_test = confusion_matrix(y_test, test_pred)\n",
    "print(confusion_matrix_test)"
   ]
  },
  {
   "cell_type": "code",
   "execution_count": 1213,
   "metadata": {},
   "outputs": [
    {
     "name": "stdout",
     "output_type": "stream",
     "text": [
      "              precision    recall  f1-score   support\n",
      "\n",
      "           0       0.00      0.00      0.00      1596\n",
      "           1       0.23      1.00      0.37      1471\n",
      "           2       0.00      0.00      0.00      1563\n",
      "           3       0.00      0.00      0.00      1824\n",
      "\n",
      "    accuracy                           0.23      6454\n",
      "   macro avg       0.06      0.25      0.09      6454\n",
      "weighted avg       0.05      0.23      0.08      6454\n",
      "\n"
     ]
    },
    {
     "name": "stderr",
     "output_type": "stream",
     "text": [
      "C:\\Users\\nagar\\Anaconda3\\lib\\site-packages\\sklearn\\metrics\\_classification.py:1268: UndefinedMetricWarning: Precision and F-score are ill-defined and being set to 0.0 in labels with no predicted samples. Use `zero_division` parameter to control this behavior.\n",
      "  _warn_prf(average, modifier, msg_start, len(result))\n"
     ]
    }
   ],
   "source": [
    "## Display metric of train data.\n",
    "print(classification_report(y_true=y_train,y_pred=train_pred))"
   ]
  },
  {
   "cell_type": "code",
   "execution_count": 1214,
   "metadata": {
    "scrolled": true
   },
   "outputs": [
    {
     "name": "stdout",
     "output_type": "stream",
     "text": [
      "              precision    recall  f1-score   support\n",
      "\n",
      "           0       0.00      0.00      0.00       376\n",
      "           1       0.24      1.00      0.39       387\n",
      "           2       0.00      0.00      0.00       407\n",
      "           3       0.00      0.00      0.00       444\n",
      "\n",
      "    accuracy                           0.24      1614\n",
      "   macro avg       0.06      0.25      0.10      1614\n",
      "weighted avg       0.06      0.24      0.09      1614\n",
      "\n"
     ]
    },
    {
     "name": "stderr",
     "output_type": "stream",
     "text": [
      "C:\\Users\\nagar\\Anaconda3\\lib\\site-packages\\sklearn\\metrics\\_classification.py:1268: UndefinedMetricWarning: Precision and F-score are ill-defined and being set to 0.0 in labels with no predicted samples. Use `zero_division` parameter to control this behavior.\n",
      "  _warn_prf(average, modifier, msg_start, len(result))\n"
     ]
    }
   ],
   "source": [
    "## Display metric of validation data.\n",
    "print(classification_report(y_true=y_test,y_pred=test_pred))"
   ]
  },
  {
   "cell_type": "code",
   "execution_count": 1215,
   "metadata": {},
   "outputs": [],
   "source": [
    "## Get the predictions on test data.\n",
    "y_pred = model.predict(test)"
   ]
  },
  {
   "cell_type": "code",
   "execution_count": 1216,
   "metadata": {},
   "outputs": [],
   "source": [
    "## Copy test data into temp.\n",
    "temp = test.copy()"
   ]
  },
  {
   "cell_type": "code",
   "execution_count": 1217,
   "metadata": {},
   "outputs": [
    {
     "data": {
      "text/plain": [
       "array([2, 2, 0, ..., 0, 2, 3])"
      ]
     },
     "execution_count": 1217,
     "metadata": {},
     "output_type": "execute_result"
    }
   ],
   "source": [
    "## Display prediction values.\n",
    "y_pred"
   ]
  },
  {
   "cell_type": "code",
   "execution_count": 1218,
   "metadata": {},
   "outputs": [],
   "source": [
    "## Do Inverse ransform on predictions,so that will get it's original values.\n",
    "temp['Segmentation'] = le_segmentation.inverse_transform(y_pred)"
   ]
  },
  {
   "cell_type": "code",
   "execution_count": 1219,
   "metadata": {},
   "outputs": [],
   "source": [
    "## Reset index of temp data.\n",
    "temp.reset_index(inplace=True)"
   ]
  },
  {
   "cell_type": "code",
   "execution_count": 1220,
   "metadata": {},
   "outputs": [],
   "source": [
    "## Copy ID , Crop_Damage columns from temp to to_submit.\n",
    "to_submit = temp[['ID', 'Segmentation']]"
   ]
  },
  {
   "cell_type": "code",
   "execution_count": 1221,
   "metadata": {},
   "outputs": [
    {
     "data": {
      "text/plain": [
       "D    919\n",
       "C    846\n",
       "A    585\n",
       "B    277\n",
       "Name: Segmentation, dtype: int64"
      ]
     },
     "execution_count": 1221,
     "metadata": {},
     "output_type": "execute_result"
    }
   ],
   "source": [
    "## Get each level count of Crop_Damage column.\n",
    "to_submit.Segmentation.value_counts()"
   ]
  },
  {
   "cell_type": "code",
   "execution_count": 1222,
   "metadata": {},
   "outputs": [
    {
     "data": {
      "text/plain": [
       "(2627, 2)"
      ]
     },
     "execution_count": 1222,
     "metadata": {},
     "output_type": "execute_result"
    }
   ],
   "source": [
    "## Check dimensions of to_submit data.\n",
    "to_submit.shape"
   ]
  },
  {
   "cell_type": "code",
   "execution_count": 1223,
   "metadata": {},
   "outputs": [
    {
     "data": {
      "text/plain": [
       "(2627, 9)"
      ]
     },
     "execution_count": 1223,
     "metadata": {},
     "output_type": "execute_result"
    }
   ],
   "source": [
    "## Check dimensions of test data.\n",
    "test.shape"
   ]
  },
  {
   "cell_type": "code",
   "execution_count": 1224,
   "metadata": {},
   "outputs": [],
   "source": [
    "## Store to_submit data into a csv file with name NeuralNetwork. \n",
    "to_submit.to_csv('NeuralNetwork.csv',index = False)"
   ]
  },
  {
   "cell_type": "code",
   "execution_count": 1225,
   "metadata": {},
   "outputs": [],
   "source": [
    "############################### Perform Grid Search,Ridge,Lasso ###############################################################"
   ]
  },
  {
   "cell_type": "code",
   "execution_count": 1226,
   "metadata": {},
   "outputs": [],
   "source": [
    "##################################################### Ridge ###################################################################"
   ]
  },
  {
   "cell_type": "code",
   "execution_count": 1227,
   "metadata": {},
   "outputs": [
    {
     "name": "stdout",
     "output_type": "stream",
     "text": [
      "GridSearchCV(cv=10, error_score=nan,\n",
      "             estimator=RidgeClassifier(alpha=1.0, class_weight=None,\n",
      "                                       copy_X=True, fit_intercept=True,\n",
      "                                       max_iter=None, normalize=False,\n",
      "                                       random_state=None, solver='auto',\n",
      "                                       tol=0.001),\n",
      "             iid='deprecated', n_jobs=None,\n",
      "             param_grid={'alpha': array([1.0e+00, 1.0e-01, 1.0e-02, 1.0e-03, 1.0e-04, 0.0e+00, 1.5e+00,\n",
      "       2.0e+00])},\n",
      "             pre_dispatch='2*n_jobs', refit=True, return_train_score=False,\n",
      "             scoring=None, verbose=0)\n"
     ]
    }
   ],
   "source": [
    "## Ridge regression is parametric and takes a parameter alpha. The value of alpha determines the reduction in magnitude of coefficients.\n",
    "## But we also need to check which value of alpha gives best predictions on test data. For this we experiment with several values of alpha and pick the best\n",
    "## We do this by performing grid search over several values of alpha. \n",
    "alphas = np.array([1,0.1,0.01,0.001,0.0001,0,1.5,2]) ## Pick the best of these values.\n",
    "## Create and fit a ridge regression model, testing each alpha.\n",
    "model_ridge = RidgeClassifier()\n",
    "grid = GridSearchCV(estimator=model_ridge, param_grid=dict(alpha=alphas),cv=10) ## Here the argument cv=10 implies compute error on 10 chucks of data and report average value\n",
    "## Fit a model.\n",
    "grid.fit(X_train,y_train)\n",
    "## Display ridge parameters.\n",
    "print(grid)"
   ]
  },
  {
   "cell_type": "code",
   "execution_count": 1228,
   "metadata": {},
   "outputs": [
    {
     "name": "stdout",
     "output_type": "stream",
     "text": [
      "0.4798593611251111\n",
      "1.0\n"
     ]
    }
   ],
   "source": [
    "## Display best score and parameters.\n",
    "print(grid.best_score_)\n",
    "print(grid.best_estimator_.alpha)"
   ]
  },
  {
   "cell_type": "code",
   "execution_count": 1229,
   "metadata": {},
   "outputs": [
    {
     "data": {
      "text/plain": [
       "RidgeClassifier(alpha=0.1, class_weight=None, copy_X=True, fit_intercept=True,\n",
       "                max_iter=None, normalize=False, random_state=None,\n",
       "                solver='auto', tol=0.001)"
      ]
     },
     "execution_count": 1229,
     "metadata": {},
     "output_type": "execute_result"
    }
   ],
   "source": [
    "## Instantiate ridge mdoel and fit it.\n",
    "Ridge_model= RidgeClassifier(alpha=0.1,normalize=False)\n",
    "Ridge_model.fit(X_train,y_train) ## Applying it on the train data, to obtain the coefficients."
   ]
  },
  {
   "cell_type": "code",
   "execution_count": 1230,
   "metadata": {},
   "outputs": [],
   "source": [
    "## Get the predictions on train and validation data.\n",
    "pred_train = Ridge_model.predict(X_train)\n",
    "pred_test = Ridge_model.predict(X_test)"
   ]
  },
  {
   "cell_type": "code",
   "execution_count": 1231,
   "metadata": {},
   "outputs": [
    {
     "name": "stdout",
     "output_type": "stream",
     "text": [
      "Train Accuracy : 0.22792066935233962\n"
     ]
    }
   ],
   "source": [
    "## Display accuracy value for train data.\n",
    "print(\"Train Accuracy :\",accuracy_score(y_train,train_pred))"
   ]
  },
  {
   "cell_type": "code",
   "execution_count": 1232,
   "metadata": {},
   "outputs": [
    {
     "name": "stdout",
     "output_type": "stream",
     "text": [
      "Validation Accuracy : 0.23977695167286245\n"
     ]
    }
   ],
   "source": [
    "## Display  accuracy value for validation data.\n",
    "print(\"Validation Accuracy :\",accuracy_score(y_test,test_pred))"
   ]
  },
  {
   "cell_type": "code",
   "execution_count": 1233,
   "metadata": {},
   "outputs": [
    {
     "name": "stdout",
     "output_type": "stream",
     "text": [
      "[[   0 1596    0    0]\n",
      " [   0 1471    0    0]\n",
      " [   0 1563    0    0]\n",
      " [   0 1824    0    0]]\n"
     ]
    }
   ],
   "source": [
    "## Get confusion matrix for train data and display it.\n",
    "confusion_matrix_train = confusion_matrix(y_train, train_pred)\n",
    "print(confusion_matrix_train)"
   ]
  },
  {
   "cell_type": "code",
   "execution_count": 1234,
   "metadata": {},
   "outputs": [
    {
     "name": "stdout",
     "output_type": "stream",
     "text": [
      "[[  0 376   0   0]\n",
      " [  0 387   0   0]\n",
      " [  0 407   0   0]\n",
      " [  0 444   0   0]]\n"
     ]
    }
   ],
   "source": [
    "## Get confusion matrix for validation data and display it.\n",
    "confusion_matrix_test = confusion_matrix(y_test, test_pred)\n",
    "print(confusion_matrix_test)"
   ]
  },
  {
   "cell_type": "code",
   "execution_count": 1235,
   "metadata": {},
   "outputs": [
    {
     "name": "stdout",
     "output_type": "stream",
     "text": [
      "              precision    recall  f1-score   support\n",
      "\n",
      "           0       0.00      0.00      0.00      1596\n",
      "           1       0.23      1.00      0.37      1471\n",
      "           2       0.00      0.00      0.00      1563\n",
      "           3       0.00      0.00      0.00      1824\n",
      "\n",
      "    accuracy                           0.23      6454\n",
      "   macro avg       0.06      0.25      0.09      6454\n",
      "weighted avg       0.05      0.23      0.08      6454\n",
      "\n"
     ]
    },
    {
     "name": "stderr",
     "output_type": "stream",
     "text": [
      "C:\\Users\\nagar\\Anaconda3\\lib\\site-packages\\sklearn\\metrics\\_classification.py:1268: UndefinedMetricWarning: Precision and F-score are ill-defined and being set to 0.0 in labels with no predicted samples. Use `zero_division` parameter to control this behavior.\n",
      "  _warn_prf(average, modifier, msg_start, len(result))\n"
     ]
    }
   ],
   "source": [
    "## Display metric of train data.\n",
    "print(classification_report(y_true=y_train,y_pred=train_pred))"
   ]
  },
  {
   "cell_type": "code",
   "execution_count": 1236,
   "metadata": {},
   "outputs": [
    {
     "name": "stdout",
     "output_type": "stream",
     "text": [
      "              precision    recall  f1-score   support\n",
      "\n",
      "           0       0.00      0.00      0.00       376\n",
      "           1       0.24      1.00      0.39       387\n",
      "           2       0.00      0.00      0.00       407\n",
      "           3       0.00      0.00      0.00       444\n",
      "\n",
      "    accuracy                           0.24      1614\n",
      "   macro avg       0.06      0.25      0.10      1614\n",
      "weighted avg       0.06      0.24      0.09      1614\n",
      "\n"
     ]
    },
    {
     "name": "stderr",
     "output_type": "stream",
     "text": [
      "C:\\Users\\nagar\\Anaconda3\\lib\\site-packages\\sklearn\\metrics\\_classification.py:1268: UndefinedMetricWarning: Precision and F-score are ill-defined and being set to 0.0 in labels with no predicted samples. Use `zero_division` parameter to control this behavior.\n",
      "  _warn_prf(average, modifier, msg_start, len(result))\n"
     ]
    }
   ],
   "source": [
    "## Display metric of validation data.\n",
    "print(classification_report(y_true=y_test,y_pred=test_pred))"
   ]
  },
  {
   "cell_type": "code",
   "execution_count": 1237,
   "metadata": {},
   "outputs": [],
   "source": [
    "## Get the predictions on test data.\n",
    "y_pred = model.predict(test)"
   ]
  },
  {
   "cell_type": "code",
   "execution_count": 1238,
   "metadata": {},
   "outputs": [],
   "source": [
    "## Copy test data into temp.\n",
    "temp = test.copy()"
   ]
  },
  {
   "cell_type": "code",
   "execution_count": 1239,
   "metadata": {},
   "outputs": [
    {
     "data": {
      "text/plain": [
       "array([2, 2, 0, ..., 0, 2, 3])"
      ]
     },
     "execution_count": 1239,
     "metadata": {},
     "output_type": "execute_result"
    }
   ],
   "source": [
    "## Display prediction values.\n",
    "y_pred"
   ]
  },
  {
   "cell_type": "code",
   "execution_count": 1240,
   "metadata": {},
   "outputs": [],
   "source": [
    "## Do Inverse ransform on predictions,so that will get it's original values.\n",
    "temp['Segmentation'] = le_segmentation.inverse_transform(y_pred)"
   ]
  },
  {
   "cell_type": "code",
   "execution_count": 1241,
   "metadata": {},
   "outputs": [],
   "source": [
    "## Reset index of temp data.\n",
    "temp.reset_index(inplace=True)"
   ]
  },
  {
   "cell_type": "code",
   "execution_count": 1242,
   "metadata": {},
   "outputs": [],
   "source": [
    "## Copy ID , Crop_Damage columns from temp to to_submit.\n",
    "to_submit = temp[['ID', 'Segmentation']]"
   ]
  },
  {
   "cell_type": "code",
   "execution_count": 1243,
   "metadata": {},
   "outputs": [
    {
     "data": {
      "text/plain": [
       "D    919\n",
       "C    846\n",
       "A    585\n",
       "B    277\n",
       "Name: Segmentation, dtype: int64"
      ]
     },
     "execution_count": 1243,
     "metadata": {},
     "output_type": "execute_result"
    }
   ],
   "source": [
    "## Get each level count of Crop_Damage column.\n",
    "to_submit.Segmentation.value_counts()"
   ]
  },
  {
   "cell_type": "code",
   "execution_count": 1244,
   "metadata": {},
   "outputs": [
    {
     "data": {
      "text/plain": [
       "(2627, 2)"
      ]
     },
     "execution_count": 1244,
     "metadata": {},
     "output_type": "execute_result"
    }
   ],
   "source": [
    "## Check dimensions of to_submit data.\n",
    "to_submit.shape"
   ]
  },
  {
   "cell_type": "code",
   "execution_count": 1245,
   "metadata": {},
   "outputs": [
    {
     "data": {
      "text/plain": [
       "(2627, 9)"
      ]
     },
     "execution_count": 1245,
     "metadata": {},
     "output_type": "execute_result"
    }
   ],
   "source": [
    "## Check dimensions of test data.\n",
    "test.shape"
   ]
  },
  {
   "cell_type": "code",
   "execution_count": 1246,
   "metadata": {},
   "outputs": [],
   "source": [
    "## Store to_submit data into a csv file with name Ridge. \n",
    "to_submit.to_csv('Ridge.csv',index = False)"
   ]
  },
  {
   "cell_type": "code",
   "execution_count": 1247,
   "metadata": {},
   "outputs": [],
   "source": [
    "#################################################### Lasso ####################################################################"
   ]
  },
  {
   "cell_type": "code",
   "execution_count": 1248,
   "metadata": {},
   "outputs": [
    {
     "name": "stderr",
     "output_type": "stream",
     "text": [
      "C:\\Users\\nagar\\Anaconda3\\lib\\site-packages\\sklearn\\model_selection\\_validation.py:515: UserWarning: With alpha=0, this algorithm does not converge well. You are advised to use the LinearRegression estimator\n",
      "  estimator.fit(X_train, y_train, **fit_params)\n",
      "C:\\Users\\nagar\\Anaconda3\\lib\\site-packages\\sklearn\\linear_model\\_coordinate_descent.py:476: UserWarning: Coordinate descent with no regularization may lead to unexpected results and is discouraged.\n",
      "  positive)\n",
      "C:\\Users\\nagar\\Anaconda3\\lib\\site-packages\\sklearn\\linear_model\\_coordinate_descent.py:476: ConvergenceWarning: Objective did not converge. You might want to increase the number of iterations. Duality gap: 3290.759508479266, tolerance: 0.7572079889807161\n",
      "  positive)\n",
      "C:\\Users\\nagar\\Anaconda3\\lib\\site-packages\\sklearn\\model_selection\\_validation.py:515: UserWarning: With alpha=0, this algorithm does not converge well. You are advised to use the LinearRegression estimator\n",
      "  estimator.fit(X_train, y_train, **fit_params)\n",
      "C:\\Users\\nagar\\Anaconda3\\lib\\site-packages\\sklearn\\linear_model\\_coordinate_descent.py:476: UserWarning: Coordinate descent with no regularization may lead to unexpected results and is discouraged.\n",
      "  positive)\n",
      "C:\\Users\\nagar\\Anaconda3\\lib\\site-packages\\sklearn\\linear_model\\_coordinate_descent.py:476: ConvergenceWarning: Objective did not converge. You might want to increase the number of iterations. Duality gap: 3310.5758335390296, tolerance: 0.758970179063361\n",
      "  positive)\n",
      "C:\\Users\\nagar\\Anaconda3\\lib\\site-packages\\sklearn\\model_selection\\_validation.py:515: UserWarning: With alpha=0, this algorithm does not converge well. You are advised to use the LinearRegression estimator\n",
      "  estimator.fit(X_train, y_train, **fit_params)\n",
      "C:\\Users\\nagar\\Anaconda3\\lib\\site-packages\\sklearn\\linear_model\\_coordinate_descent.py:476: UserWarning: Coordinate descent with no regularization may lead to unexpected results and is discouraged.\n",
      "  positive)\n",
      "C:\\Users\\nagar\\Anaconda3\\lib\\site-packages\\sklearn\\linear_model\\_coordinate_descent.py:476: ConvergenceWarning: Objective did not converge. You might want to increase the number of iterations. Duality gap: 3335.535228596179, tolerance: 0.7622258780991737\n",
      "  positive)\n",
      "C:\\Users\\nagar\\Anaconda3\\lib\\site-packages\\sklearn\\model_selection\\_validation.py:515: UserWarning: With alpha=0, this algorithm does not converge well. You are advised to use the LinearRegression estimator\n",
      "  estimator.fit(X_train, y_train, **fit_params)\n",
      "C:\\Users\\nagar\\Anaconda3\\lib\\site-packages\\sklearn\\linear_model\\_coordinate_descent.py:476: UserWarning: Coordinate descent with no regularization may lead to unexpected results and is discouraged.\n",
      "  positive)\n",
      "C:\\Users\\nagar\\Anaconda3\\lib\\site-packages\\sklearn\\linear_model\\_coordinate_descent.py:476: ConvergenceWarning: Objective did not converge. You might want to increase the number of iterations. Duality gap: 3319.7695678666432, tolerance: 0.7595658402203859\n",
      "  positive)\n",
      "C:\\Users\\nagar\\Anaconda3\\lib\\site-packages\\sklearn\\model_selection\\_validation.py:515: UserWarning: With alpha=0, this algorithm does not converge well. You are advised to use the LinearRegression estimator\n",
      "  estimator.fit(X_train, y_train, **fit_params)\n",
      "C:\\Users\\nagar\\Anaconda3\\lib\\site-packages\\sklearn\\linear_model\\_coordinate_descent.py:476: UserWarning: Coordinate descent with no regularization may lead to unexpected results and is discouraged.\n",
      "  positive)\n",
      "C:\\Users\\nagar\\Anaconda3\\lib\\site-packages\\sklearn\\linear_model\\_coordinate_descent.py:476: ConvergenceWarning: Objective did not converge. You might want to increase the number of iterations. Duality gap: 3323.824905662429, tolerance: 0.7583628851781719\n",
      "  positive)\n",
      "C:\\Users\\nagar\\Anaconda3\\lib\\site-packages\\sklearn\\model_selection\\_validation.py:515: UserWarning: With alpha=0, this algorithm does not converge well. You are advised to use the LinearRegression estimator\n",
      "  estimator.fit(X_train, y_train, **fit_params)\n",
      "C:\\Users\\nagar\\Anaconda3\\lib\\site-packages\\sklearn\\linear_model\\_coordinate_descent.py:476: UserWarning: Coordinate descent with no regularization may lead to unexpected results and is discouraged.\n",
      "  positive)\n",
      "C:\\Users\\nagar\\Anaconda3\\lib\\site-packages\\sklearn\\linear_model\\_coordinate_descent.py:476: ConvergenceWarning: Objective did not converge. You might want to increase the number of iterations. Duality gap: 3294.7705435938205, tolerance: 0.7567760027543469\n",
      "  positive)\n",
      "C:\\Users\\nagar\\Anaconda3\\lib\\site-packages\\sklearn\\model_selection\\_validation.py:515: UserWarning: With alpha=0, this algorithm does not converge well. You are advised to use the LinearRegression estimator\n",
      "  estimator.fit(X_train, y_train, **fit_params)\n",
      "C:\\Users\\nagar\\Anaconda3\\lib\\site-packages\\sklearn\\linear_model\\_coordinate_descent.py:476: UserWarning: Coordinate descent with no regularization may lead to unexpected results and is discouraged.\n",
      "  positive)\n",
      "C:\\Users\\nagar\\Anaconda3\\lib\\site-packages\\sklearn\\linear_model\\_coordinate_descent.py:476: ConvergenceWarning: Objective did not converge. You might want to increase the number of iterations. Duality gap: 3309.0320981102195, tolerance: 0.7593559993114134\n",
      "  positive)\n",
      "C:\\Users\\nagar\\Anaconda3\\lib\\site-packages\\sklearn\\model_selection\\_validation.py:515: UserWarning: With alpha=0, this algorithm does not converge well. You are advised to use the LinearRegression estimator\n",
      "  estimator.fit(X_train, y_train, **fit_params)\n",
      "C:\\Users\\nagar\\Anaconda3\\lib\\site-packages\\sklearn\\linear_model\\_coordinate_descent.py:476: UserWarning: Coordinate descent with no regularization may lead to unexpected results and is discouraged.\n",
      "  positive)\n",
      "C:\\Users\\nagar\\Anaconda3\\lib\\site-packages\\sklearn\\linear_model\\_coordinate_descent.py:476: ConvergenceWarning: Objective did not converge. You might want to increase the number of iterations. Duality gap: 3324.0825379243215, tolerance: 0.7580125322775004\n",
      "  positive)\n",
      "C:\\Users\\nagar\\Anaconda3\\lib\\site-packages\\sklearn\\model_selection\\_validation.py:515: UserWarning: With alpha=0, this algorithm does not converge well. You are advised to use the LinearRegression estimator\n",
      "  estimator.fit(X_train, y_train, **fit_params)\n",
      "C:\\Users\\nagar\\Anaconda3\\lib\\site-packages\\sklearn\\linear_model\\_coordinate_descent.py:476: UserWarning: Coordinate descent with no regularization may lead to unexpected results and is discouraged.\n",
      "  positive)\n",
      "C:\\Users\\nagar\\Anaconda3\\lib\\site-packages\\sklearn\\linear_model\\_coordinate_descent.py:476: ConvergenceWarning: Objective did not converge. You might want to increase the number of iterations. Duality gap: 3314.5116967664744, tolerance: 0.7594616285074884\n",
      "  positive)\n",
      "C:\\Users\\nagar\\Anaconda3\\lib\\site-packages\\sklearn\\model_selection\\_validation.py:515: UserWarning: With alpha=0, this algorithm does not converge well. You are advised to use the LinearRegression estimator\n",
      "  estimator.fit(X_train, y_train, **fit_params)\n",
      "C:\\Users\\nagar\\Anaconda3\\lib\\site-packages\\sklearn\\linear_model\\_coordinate_descent.py:476: UserWarning: Coordinate descent with no regularization may lead to unexpected results and is discouraged.\n",
      "  positive)\n",
      "C:\\Users\\nagar\\Anaconda3\\lib\\site-packages\\sklearn\\linear_model\\_coordinate_descent.py:476: ConvergenceWarning: Objective did not converge. You might want to increase the number of iterations. Duality gap: 3296.7013798501785, tolerance: 0.7571126872095023\n",
      "  positive)\n"
     ]
    },
    {
     "name": "stdout",
     "output_type": "stream",
     "text": [
      "GridSearchCV(cv=10, error_score=nan,\n",
      "             estimator=Lasso(alpha=1.0, copy_X=True, fit_intercept=True,\n",
      "                             max_iter=1000, normalize=False, positive=False,\n",
      "                             precompute=False, random_state=None,\n",
      "                             selection='cyclic', tol=0.0001, warm_start=False),\n",
      "             iid='deprecated', n_jobs=None,\n",
      "             param_grid={'alpha': array([1.0e+00, 1.0e-01, 1.0e-02, 1.0e-03, 1.0e-04, 0.0e+00, 1.5e+00,\n",
      "       2.0e+00])},\n",
      "             pre_dispatch='2*n_jobs', refit=True, return_train_score=False,\n",
      "             scoring=None, verbose=0)\n"
     ]
    },
    {
     "name": "stderr",
     "output_type": "stream",
     "text": [
      "C:\\Users\\nagar\\Anaconda3\\lib\\site-packages\\sklearn\\model_selection\\_search.py:741: UserWarning: With alpha=0, this algorithm does not converge well. You are advised to use the LinearRegression estimator\n",
      "  self.best_estimator_.fit(X, y, **fit_params)\n",
      "C:\\Users\\nagar\\Anaconda3\\lib\\site-packages\\sklearn\\linear_model\\_coordinate_descent.py:476: UserWarning: Coordinate descent with no regularization may lead to unexpected results and is discouraged.\n",
      "  positive)\n",
      "C:\\Users\\nagar\\Anaconda3\\lib\\site-packages\\sklearn\\linear_model\\_coordinate_descent.py:476: ConvergenceWarning: Objective did not converge. You might want to increase the number of iterations. Duality gap: 3680.655463883732, tolerance: 0.8430174310505114\n",
      "  positive)\n"
     ]
    }
   ],
   "source": [
    "## Instantiate lasso model and fit it.\n",
    "model_lasso = Lasso()\n",
    "grid = GridSearchCV(estimator=model_lasso, param_grid=dict(alpha=alphas),cv=10) #Here the argument cv=10 implies compute error on 10 chucks of data and report average value\n",
    "grid.fit(X_train,y_train)\n",
    "print(grid)"
   ]
  },
  {
   "cell_type": "code",
   "execution_count": 1249,
   "metadata": {},
   "outputs": [
    {
     "name": "stdout",
     "output_type": "stream",
     "text": [
      "0.12278807276201187\n",
      "0.0\n"
     ]
    }
   ],
   "source": [
    "## Display best score and paramters.\n",
    "print(grid.best_score_)\n",
    "print(grid.best_estimator_.alpha)"
   ]
  },
  {
   "cell_type": "code",
   "execution_count": 1250,
   "metadata": {},
   "outputs": [
    {
     "data": {
      "text/plain": [
       "Lasso(alpha=0.0001, copy_X=True, fit_intercept=True, max_iter=1000,\n",
       "      normalize=False, positive=False, precompute=False, random_state=None,\n",
       "      selection='cyclic', tol=0.0001, warm_start=False)"
      ]
     },
     "execution_count": 1250,
     "metadata": {},
     "output_type": "execute_result"
    }
   ],
   "source": [
    "## Instantiate Lasso model and fit it.\n",
    "Lasso_model= Lasso(alpha=0.0001,normalize=False)\n",
    "Lasso_model.fit(X_train,y_train) ## Applying it on the train data, to obtain the coefficients."
   ]
  },
  {
   "cell_type": "code",
   "execution_count": 1251,
   "metadata": {},
   "outputs": [],
   "source": [
    "## Get the predictions on train and validation data.\n",
    "pred_train = Lasso_model.predict(X_train)\n",
    "pred_test = Lasso_model.predict(X_test)"
   ]
  },
  {
   "cell_type": "code",
   "execution_count": 1252,
   "metadata": {},
   "outputs": [
    {
     "name": "stdout",
     "output_type": "stream",
     "text": [
      "Train Accuracy : 0.22792066935233962\n"
     ]
    }
   ],
   "source": [
    "## Display accuracy value for train data.\n",
    "print(\"Train Accuracy :\",accuracy_score(y_train,train_pred))"
   ]
  },
  {
   "cell_type": "code",
   "execution_count": 1253,
   "metadata": {},
   "outputs": [
    {
     "name": "stdout",
     "output_type": "stream",
     "text": [
      "Validation Accuracy : 0.23977695167286245\n"
     ]
    }
   ],
   "source": [
    "## Display  accuracy value for validation data.\n",
    "print(\"Validation Accuracy :\",accuracy_score(y_test,test_pred))"
   ]
  },
  {
   "cell_type": "code",
   "execution_count": 1254,
   "metadata": {},
   "outputs": [
    {
     "name": "stdout",
     "output_type": "stream",
     "text": [
      "[[   0 1596    0    0]\n",
      " [   0 1471    0    0]\n",
      " [   0 1563    0    0]\n",
      " [   0 1824    0    0]]\n"
     ]
    }
   ],
   "source": [
    "## Get confusion matrix for train data and display it.\n",
    "confusion_matrix_train = confusion_matrix(y_train, train_pred)\n",
    "print(confusion_matrix_train)"
   ]
  },
  {
   "cell_type": "code",
   "execution_count": 1255,
   "metadata": {},
   "outputs": [
    {
     "name": "stdout",
     "output_type": "stream",
     "text": [
      "[[  0 376   0   0]\n",
      " [  0 387   0   0]\n",
      " [  0 407   0   0]\n",
      " [  0 444   0   0]]\n"
     ]
    }
   ],
   "source": [
    "## Get confusion matrix for validation data and display it.\n",
    "confusion_matrix_test = confusion_matrix(y_test, test_pred)\n",
    "print(confusion_matrix_test)"
   ]
  },
  {
   "cell_type": "code",
   "execution_count": 1256,
   "metadata": {},
   "outputs": [
    {
     "name": "stdout",
     "output_type": "stream",
     "text": [
      "              precision    recall  f1-score   support\n",
      "\n",
      "           0       0.00      0.00      0.00      1596\n",
      "           1       0.23      1.00      0.37      1471\n",
      "           2       0.00      0.00      0.00      1563\n",
      "           3       0.00      0.00      0.00      1824\n",
      "\n",
      "    accuracy                           0.23      6454\n",
      "   macro avg       0.06      0.25      0.09      6454\n",
      "weighted avg       0.05      0.23      0.08      6454\n",
      "\n"
     ]
    },
    {
     "name": "stderr",
     "output_type": "stream",
     "text": [
      "C:\\Users\\nagar\\Anaconda3\\lib\\site-packages\\sklearn\\metrics\\_classification.py:1268: UndefinedMetricWarning: Precision and F-score are ill-defined and being set to 0.0 in labels with no predicted samples. Use `zero_division` parameter to control this behavior.\n",
      "  _warn_prf(average, modifier, msg_start, len(result))\n"
     ]
    }
   ],
   "source": [
    "## Display metric of train data.\n",
    "print(classification_report(y_true=y_train,y_pred=train_pred))"
   ]
  },
  {
   "cell_type": "code",
   "execution_count": 1257,
   "metadata": {},
   "outputs": [
    {
     "name": "stdout",
     "output_type": "stream",
     "text": [
      "              precision    recall  f1-score   support\n",
      "\n",
      "           0       0.00      0.00      0.00       376\n",
      "           1       0.24      1.00      0.39       387\n",
      "           2       0.00      0.00      0.00       407\n",
      "           3       0.00      0.00      0.00       444\n",
      "\n",
      "    accuracy                           0.24      1614\n",
      "   macro avg       0.06      0.25      0.10      1614\n",
      "weighted avg       0.06      0.24      0.09      1614\n",
      "\n"
     ]
    },
    {
     "name": "stderr",
     "output_type": "stream",
     "text": [
      "C:\\Users\\nagar\\Anaconda3\\lib\\site-packages\\sklearn\\metrics\\_classification.py:1268: UndefinedMetricWarning: Precision and F-score are ill-defined and being set to 0.0 in labels with no predicted samples. Use `zero_division` parameter to control this behavior.\n",
      "  _warn_prf(average, modifier, msg_start, len(result))\n"
     ]
    }
   ],
   "source": [
    "## Display metric of validation data.\n",
    "print(classification_report(y_true=y_test,y_pred=test_pred))"
   ]
  },
  {
   "cell_type": "code",
   "execution_count": 1258,
   "metadata": {},
   "outputs": [],
   "source": [
    "## Get the predictions on test data.\n",
    "y_pred = model.predict(test)"
   ]
  },
  {
   "cell_type": "code",
   "execution_count": 1259,
   "metadata": {},
   "outputs": [],
   "source": [
    "## Copy test data into temp.\n",
    "temp = test.copy()"
   ]
  },
  {
   "cell_type": "code",
   "execution_count": 1260,
   "metadata": {},
   "outputs": [
    {
     "data": {
      "text/plain": [
       "array([2, 2, 0, ..., 0, 2, 3])"
      ]
     },
     "execution_count": 1260,
     "metadata": {},
     "output_type": "execute_result"
    }
   ],
   "source": [
    "## Display prediction values.\n",
    "y_pred"
   ]
  },
  {
   "cell_type": "code",
   "execution_count": 1261,
   "metadata": {},
   "outputs": [],
   "source": [
    "## Do Inverse ransform on predictions,so that will get it's original values.\n",
    "temp['Segmentation'] = le_segmentation.inverse_transform(y_pred)"
   ]
  },
  {
   "cell_type": "code",
   "execution_count": 1262,
   "metadata": {},
   "outputs": [],
   "source": [
    "## Reset index of temp data.\n",
    "temp.reset_index(inplace=True)"
   ]
  },
  {
   "cell_type": "code",
   "execution_count": 1263,
   "metadata": {},
   "outputs": [],
   "source": [
    "## Copy ID , Crop_Damage columns from temp to to_submit.\n",
    "to_submit = temp[['ID', 'Segmentation']]"
   ]
  },
  {
   "cell_type": "code",
   "execution_count": 1264,
   "metadata": {},
   "outputs": [
    {
     "data": {
      "text/plain": [
       "D    919\n",
       "C    846\n",
       "A    585\n",
       "B    277\n",
       "Name: Segmentation, dtype: int64"
      ]
     },
     "execution_count": 1264,
     "metadata": {},
     "output_type": "execute_result"
    }
   ],
   "source": [
    "## Get each level count of Crop_Damage column.\n",
    "to_submit.Segmentation.value_counts()"
   ]
  },
  {
   "cell_type": "code",
   "execution_count": 1265,
   "metadata": {},
   "outputs": [
    {
     "data": {
      "text/plain": [
       "(2627, 2)"
      ]
     },
     "execution_count": 1265,
     "metadata": {},
     "output_type": "execute_result"
    }
   ],
   "source": [
    "## Check dimensions of to_submit data.\n",
    "to_submit.shape"
   ]
  },
  {
   "cell_type": "code",
   "execution_count": 1266,
   "metadata": {},
   "outputs": [
    {
     "data": {
      "text/plain": [
       "(2627, 9)"
      ]
     },
     "execution_count": 1266,
     "metadata": {},
     "output_type": "execute_result"
    }
   ],
   "source": [
    "## Check dimensions of test data.\n",
    "test.shape"
   ]
  },
  {
   "cell_type": "code",
   "execution_count": 1267,
   "metadata": {},
   "outputs": [],
   "source": [
    "## Store to_submit data into a csv file with name Lasso. \n",
    "to_submit.to_csv('Lasso.csv',index = False)"
   ]
  }
 ],
 "metadata": {
  "kernelspec": {
   "display_name": "Python 3",
   "language": "python",
   "name": "python3"
  },
  "language_info": {
   "codemirror_mode": {
    "name": "ipython",
    "version": 3
   },
   "file_extension": ".py",
   "mimetype": "text/x-python",
   "name": "python",
   "nbconvert_exporter": "python",
   "pygments_lexer": "ipython3",
   "version": "3.6.5"
  },
  "toc": {
   "base_numbering": 1,
   "nav_menu": {},
   "number_sections": true,
   "sideBar": true,
   "skip_h1_title": false,
   "title_cell": "Table of Contents",
   "title_sidebar": "Contents",
   "toc_cell": false,
   "toc_position": {},
   "toc_section_display": true,
   "toc_window_display": false
  }
 },
 "nbformat": 4,
 "nbformat_minor": 2
}
