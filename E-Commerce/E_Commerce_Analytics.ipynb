{
 "cells": [
  {
   "cell_type": "markdown",
   "metadata": {},
   "source": [
    "## Analytics_Vidhya_E_commerce_analytics\n",
    "\n",
    "* **1. Introduction to Machine learning**\n",
    "* **2. Machine Learning Components**\n",
    "* **3. Machine Learning Process**\n",
    "* **4. Machine Learning Types**\n",
    "    * 4.1 Types of Supervised Learning\n",
    "    * 4.2 Types of UnSupervised Learning\n",
    "* **5. Problem Statement**\n",
    "* **6. Data preparation**\n",
    "    * 6.1 Load data and check basic statistics of data\n",
    "    * 6.2 Check for null, missing values\n",
    "    * 6.3 Feature Extraction\n",
    "    * 6.4 Split data into train and validation\n",
    "    * 6.5 Label encoding\n",
    "* **7. Build Different Classification Models**\n",
    "    * 7.1 XGBoost\n",
    "    * 7.2 Decision Tree\n",
    "    * 7.3 Naive Bayes\n",
    "    * 7.4 KNN\n",
    "    * 7.5 Random Forest\n",
    "    * 7.6 Bagging\n",
    "    * 7.7 AdaBoost\n",
    "    * 7.8 Gradient Boosting\n",
    "    * 7.9 SVC\n",
    "    * 7.10 Nueral Network"
   ]
  },
  {
   "cell_type": "markdown",
   "metadata": {},
   "source": [
    "# 1. Introduction to Machine learning \n",
    "\n",
    "Machine learning (ML) is a category of an algorithm that allows software applications to become more accurate in predicting outcomes without being explicitly programmed. The basic premise of machine learning is to build algorithms that can receive input data and use statistical analysis to predict an output\n",
    "\n",
    "![](https://d2h0cx97tjks2p.cloudfront.net/blogs/wp-content/uploads/sites/2/2017/07/what-is-machine-learning.jpg)\n",
    "\n",
    "**Need For Machine Learning:** \n",
    "\n",
    "**Increase in Data Generation:** Due to excessive production of data, we need a method that can be used to structure, analyze and draw useful insights from data. This is where Machine Learning comes in. It uses data to solve problems and find solutions to the most complex tasks faced by organizations.\n",
    "\n",
    "**Improve Decision Making:** By making use of various algorithms, Machine Learning can be used to make better business decisions. For example, Machine Learning is used to forecast sales, predict downfalls in the stock market, identify risks and anomalies, etc.\n",
    "\n",
    "**Uncover patterns & trends in data:** Finding hidden patterns and extracting key insights from data is the most essential part of Machine Learning. By building predictive models and using statistical techniques, Machine Learning allows you to dig beneath the surface and explore the data at a minute scale. Understanding data and extracting patterns manually will take days, whereas Machine Learning algorithms can perform such computations in less than a second.\n",
    "\n",
    "**Solve complex problems:** From detecting the genes linked to the deadly ALS disease to building self-driving cars, Machine Learning can be used to solve the most complex problems.\n",
    "        \n",
    "![](https://d1jnx9ba8s6j9r.cloudfront.net/blog/wp-content/uploads/2019/04/Importance-Of-Machine-Learning-Introduction-To-Machine-Learning-Edureka.png)\n",
    "\n",
    "EX: \n",
    "\n",
    "**Netflix’s Recommendation Engine:** The core of Netflix is its infamous recommendation engine. Over 75% of what you watch is recommended by Netflix and these recommendations are made by implementing Machine Learning.\n",
    "\n",
    "**Facebook’s Auto-tagging feature:** The logic behind Facebook’s DeepMind face verification system is Machine Learning and Neural Networks. DeepMind studies the facial features in an image to tag your friends and family.\n",
    "\n",
    "**Amazon’s Alexa:** The infamous Alexa, which is based on Natural Language Processing and Machine Learning is an advanced level Virtual Assistant that does more than just play songs on your playlist. It can book you an Uber, connect with the other IoT devices at home, track your health, etc.\n",
    "\n",
    "**Google’s Spam Filter:** Gmail makes use of Machine Learning to filter out spam messages. It uses Machine Learning algorithms and Natural Language Processing to analyze emails in real-time and classify them as either spam or non-spam."
   ]
  },
  {
   "cell_type": "markdown",
   "metadata": {},
   "source": [
    "# 2. Machine Learning Components\n",
    "\n",
    "**Algorithm:** A Machine Learning algorithm is a set of rules and statistical techniques used to learn patterns from data and draw significant information from it. It is the logic behind a Machine Learning model. An example of a Machine Learning algorithm is the Linear Regression algorithm.\n",
    "\n",
    "**Model:** A model is the main component of Machine Learning. A model is trained by using a Machine Learning Algorithm. An algorithm maps all the decisions that a model is supposed to take based on the given input, in order to get the correct output.\n",
    "\n",
    "**Predictor Variable:** It is a feature(s) of the data that can be used to predict the output.\n",
    "\n",
    "**Response Variable:** It is the feature or the output variable that needs to be predicted by using the predictor variable(s).\n",
    "\n",
    "**Training Data:** The Machine Learning model is built using the training data. The training data helps the model to identify key trends and patterns essential to predict the output.\n",
    "\n",
    "**Testing Data:** After the model is trained, it must be tested to evaluate how accurately it can predict an outcome. This is done by the testing data set.\n",
    "\n",
    "![](https://d1jnx9ba8s6j9r.cloudfront.net/blog/wp-content/uploads/2019/04/What-Is-Machine-Learning-Introduction-To-Machine-Learning-Edureka.png)\n"
   ]
  },
  {
   "cell_type": "markdown",
   "metadata": {},
   "source": [
    "# 3. Machine Learning Process\n",
    "\n",
    "**Define the objective of the Problem Statement:** we must understand what exactly needs to be predicted.\n",
    "\n",
    "**Data Gathering:** At this stage, you must be asking questions such as,\n",
    "\n",
    "What kind of data is needed to solve this problem?\n",
    "Is the data available?\n",
    "How can I get the data?\n",
    "\n",
    "Once you know the types of data that is required, you must understand how you can derive this data. Data collection can be done manually or by web scraping.\n",
    "\n",
    "**Data Preparation:** The data you collected is almost never in the right format. You will encounter a lot of inconsistencies in the data set such as missing values, redundant variables, duplicate values, etc. Removing such inconsistencies is very essential because they might lead to wrongful computations and predictions.\n",
    "    \n",
    "**Exploratory Data Analysis:** EDA is the brainstorming stage of Machine Learning. Data Exploration involves understanding the patterns and trends in the data and all the useful insights are drawn.\n",
    "    \n",
    "**Building a Machine Learning Model:** All the insights and patterns derived during Data Exploration are used to build the Machine Learning Model. This stage always begins by splitting the data set into two parts, training data, and testing data. The training data will be used to build and analyze the model. The logic of the model is based on the Machine Learning Algorithm that is being implemented.Choosing the right algorithm depends on the type of problem you’re trying to solve, the data set and the level of complexity of the problem. \n",
    "    \n",
    "**Model Evaluation & Optimization:** After building a model by using the training data set, it is finally time to put the model to a test. The testing data set is used to check the efficiency of the model and how accurately it can predict the outcome. Once the accuracy is calculated, any further improvements in the model can be implemented at this stage. Methods like parameter tuning and cross-validation can be used to improve the performance of the model.\n",
    "    \n",
    "**Predictions:** Once the model is evaluated and improved, it is finally used to make predictions. The final output can be a Categorical variable (eg. True or False) or it can be a Continuous Quantity (eg. the predicted value of a stock).\n",
    "\n",
    "![](https://miro.medium.com/max/1400/1*j4iI3YvxQVozIzcWAJU1zw.png)"
   ]
  },
  {
   "cell_type": "markdown",
   "metadata": {},
   "source": [
    "# 4. Machine Learning Types\n",
    "\n",
    "A machine can learn to solve a problem by following any one of the following three approaches. These are the ways in which a machine can learn:\n",
    "\n",
    "1)Supervised Learning\n",
    "2)Unsupervised Learning\n",
    "3)Reinforcement Learning\n",
    "\n",
    "![](https://data-flair.training/blogs/wp-content/uploads/sites/2/2019/08/Types-of-Machine-Learning-algorithms.jpg)\n",
    "\n",
    "![](https://cdn.app.compendium.com/uploads/user/e7c690e8-6ff9-102a-ac6d-e4aebca50425/03391c68-5c5e-493c-95a5-a92b492b9025/Image/5effec57771fb85b9fbaaafc87fbb27d/picture1.png)\n",
    "\n",
    "**Supervised Learning:** Supervised learning is a technique in which we teach or train the machine using data which is well labeled.Labelled data is past input and output pairs provided during the learning process to teach the model how it should behave\n",
    "\n",
    "Ex: classifying whether an email is spam or not,predicting stock market price.\n",
    "\n",
    "\n",
    "![](https://miro.medium.com/max/1400/1*wYyo83QTlX5nCHy2USpVsA.png)\n",
    "\n",
    "## 4.1 Types of Supervised Learning:\n",
    "\n",
    "**1)Classification:** Classification is used to group the similar data points into different sections in order to classify them.Output variable is a category. A problem like, “Will he make this purchase” will have an answer that falls into two specific categories: yes or no. This is also called a, binary classification problem.\n",
    "\n",
    "**Ex Models:** Logistic Regression,Naive Bayes,Decision Tree,KNN,Random Forest,Stacking,Bagging,Boosting(AdaBoost,GraidentBoost,XGBoost),SVM,Nueral Network,\n",
    "\n",
    "![](https://i.ytimg.com/vi/qw-IytEbZC8/maxresdefault.jpg)\n",
    "\n",
    "**2)Regression:** Output variable is a real or continuous value.If you want to predict continuous values, such as trying to predict the cost of a house or the weather outside in degrees, you would use regression. \n",
    "\n",
    "**Ex Models:** Linear Regression,Decision Tree,KNN,Random Forest,Stacking,Bagging,Boosting(AdaBoost,GraidentBoost,XGBoost),SVR,Nueral Network,\n",
    "\n",
    "![](https://qph.fs.quoracdn.net/main-qimg-a3b451c289a71014f9ecee452963f6c8)\n",
    "\n",
    "**Unsupervised Learning:** Unsupervised learning involves training by using unlabeled data and allowing the model to act on that information without guidance.Meaning, there is no “right” answer given to the machine to learn, but the machine must hopefully find patterns from the data to come up with an answer.\n",
    "\n",
    "![](https://miro.medium.com/max/1400/1*af-tNiqd-3_ResjoDOFm5A.png)\n",
    "\n",
    "Ex: grouping customers by purchasing behavior.\n",
    "\n",
    "## 4.2 Types of UnSupervised Learning:\n",
    "\n",
    "**1)Clustering:** A clustering problem involves assigning the input into two or more clusters based on feature similarity. For example, clustering viewers into similar groups based on their interests, age, geography, etc can be done by using Unsupervised Learning algorithms like K-Means Clustering.\n",
    "\n",
    "**Ex Models:** K-Mean,K-Medoids,Hierarchical clustering\n",
    "\n",
    "![](https://enstoa.com/sites/default/files/inline-images/Machine%20Learning%20clustering%20figure%201.png)\n",
    "\n",
    "**2)Association:** An association rule learning problem is where you want to discover rules that describe large portions of your data, such as people that buy X also tend to buy Y.\n",
    "\n",
    "**Ex Models:** Apriori algorithm\n",
    "\n",
    "![](https://annalyzin.files.wordpress.com/2016/04/association-rule-support-table.png?w=503&h=447)\n",
    "\n",
    "**Reinforcement Learning:** Reinforcement Learning is a part of Machine learning where an agent is put in an environment and he learns to behave in this environment by performing certain actions and observing the rewards which it gets from those actions.\n",
    "\n",
    "Ex: Training a machine to learn how to play (Chess, Go),Self-driving cars.\n",
    "\n",
    "![](https://miro.medium.com/max/1280/1*1qBauAy9xWzNFt1N_mmfEw.gif)\n",
    "\n",
    "![](https://miro.medium.com/max/1204/1*sTXlD9Vo6shG8RLuigobvA.png)\n",
    "\n"
   ]
  },
  {
   "cell_type": "markdown",
   "metadata": {},
   "source": [
    "# 5. Problem Statement\n",
    "\n",
    "![](https://datahack-prod.s3.ap-south-1.amazonaws.com/__sized__/contest_cover/janta_hack-thumbnail-1200x1200-90.jpg)\n",
    "\n",
    "![](https://github.com/chandrakant-sonawane/Hackathons/raw/master/JanataHack%20-%20E-Commerce%20Analytics%20ML%20Hackathon/image.png)\n",
    "\n",
    "The evolution of the information and communication technologies and the rapid growth of the Internet for the exchange and distribution of information, Electronic Commerce (e-commerce) has gained massive momentum globally, and attracted more and more worldwide users overcoming the time constraints and distance barriers.\n",
    "\n",
    "It is important to gain in-depth insights into e-commerce via data-driven analytics and identify the factors affecting product sales, the impact of characteristics of customers on their purchase habits.\n",
    "\n",
    "It is quite useful to understand the demand, habits, concern, perception, and interest of customers from the clue of genders for e-commerce companies.\n",
    "\n",
    "However, the genders of users are in general unavailable in e-commerce platforms. To address this gap the aim here is to predict the gender of e-commerce’s participants from their product viewing records.\n",
    "\n",
    "![](https://acowebs.com/wp-content/uploads/2019/02/Impact-of-eCommerce-On-Society.png)"
   ]
  },
  {
   "cell_type": "code",
   "execution_count": 1,
   "metadata": {},
   "outputs": [
    {
     "name": "stderr",
     "output_type": "stream",
     "text": [
      "C:\\Users\\nagar\\Anaconda3\\lib\\site-packages\\h5py\\__init__.py:36: FutureWarning: Conversion of the second argument of issubdtype from `float` to `np.floating` is deprecated. In future, it will be treated as `np.float64 == np.dtype(float).type`.\n",
      "  from ._conv import register_converters as _register_converters\n",
      "Using TensorFlow backend.\n"
     ]
    }
   ],
   "source": [
    "## Import neccessary libraries\n",
    "import numpy as np\n",
    "import pandas as pd\n",
    "from sklearn.preprocessing import LabelEncoder ## For label encoding(converting categorical values to label)\n",
    "from xgboost import XGBClassifier ## XG boost model\n",
    "from sklearn.model_selection import GridSearchCV ##For Grid search(cross validation)\n",
    "from sklearn.tree import DecisionTreeClassifier,export_graphviz ## DecisionTree model\n",
    "from sklearn.naive_bayes import GaussianNB ## Naive Nayes Model\n",
    "from sklearn.neighbors import KNeighborsClassifier ## KNN Model\n",
    "from sklearn.ensemble import RandomForestClassifier ## Random Forest  Model\n",
    "from sklearn.ensemble import BaggingClassifier ## Bagging Model\n",
    "from sklearn.ensemble import AdaBoostClassifier ## AdaBoost Model\n",
    "from sklearn.ensemble import GradientBoostingClassifier ## GradientBoost Model\n",
    "from sklearn.svm import SVC ## SVC Model\n",
    "from keras.models import Sequential, Model ## Sequential Model(Neural Network)\n",
    "from keras.layers import Input, Dense ## Innput  and Fully connected(o/P) layer \n",
    "from sklearn.metrics import confusion_matrix,classification_report ## For classifier metrics(accuracy,TPR,TNR)\n",
    "from sklearn.metrics import accuracy_score ## For getting accuracy value\n",
    "from sklearn.model_selection import train_test_split ## For splitting data into train and validation\n",
    "from datetime import datetime ## For converting time into date format\n",
    "import warnings ## Ignorinng warning\n",
    "warnings.filterwarnings('ignore')\n",
    "import matplotlib.pyplot as plt ## For Visualization\n",
    "# Magic Command\n",
    "%matplotlib inline \n",
    "import os ## connnectinng to  local machine(operating system) "
   ]
  },
  {
   "cell_type": "code",
   "execution_count": 2,
   "metadata": {},
   "outputs": [],
   "source": [
    "## set max how many rows and columns u want to display in jupyter notebook\n",
    "pd.options.display.max_columns = 200 \n",
    "pd.get_option('display.max_rows') \n",
    "pd.set_option('display.max_rows',None) "
   ]
  },
  {
   "cell_type": "markdown",
   "metadata": {},
   "source": [
    "# 6. Data preparation\n",
    "\n",
    "## 6.1 Load data and check basic statistics of data"
   ]
  },
  {
   "cell_type": "code",
   "execution_count": 3,
   "metadata": {},
   "outputs": [
    {
     "data": {
      "text/plain": [
       "'D:\\\\Python\\\\Regression'"
      ]
     },
     "execution_count": 3,
     "metadata": {},
     "output_type": "execute_result"
    }
   ],
   "source": [
    "## Get  current working directory\n",
    "os.getcwd()"
   ]
  },
  {
   "cell_type": "code",
   "execution_count": 4,
   "metadata": {},
   "outputs": [
    {
     "data": {
      "text/plain": [
       "'D:\\\\DataScience\\\\Pratice\\\\E-Commerce'"
      ]
     },
     "execution_count": 4,
     "metadata": {},
     "output_type": "execute_result"
    }
   ],
   "source": [
    "## Set Working directory(Set the path according to your directory where the train and  test files are stored )\n",
    "os.chdir(\"D:/DataScience/Pratice/E-Commerce/\")\n",
    "os.getcwd()"
   ]
  },
  {
   "cell_type": "code",
   "execution_count": 5,
   "metadata": {},
   "outputs": [],
   "source": [
    "## Read data sets\n",
    "data = pd.read_csv(\"train.csv\",header='infer',sep=',')\n",
    "test_data = pd.read_csv('test.csv',header='infer',sep=',')"
   ]
  },
  {
   "cell_type": "code",
   "execution_count": 6,
   "metadata": {},
   "outputs": [
    {
     "name": "stdout",
     "output_type": "stream",
     "text": [
      "Train Shapes (10500, 5)\n",
      "Test Shapes (4500, 4)\n"
     ]
    }
   ],
   "source": [
    "## Check dimensions of train and test data\n",
    "print('Train Shapes',data.shape)\n",
    "print('Test Shapes',test_data.shape)"
   ]
  },
  {
   "cell_type": "code",
   "execution_count": 7,
   "metadata": {},
   "outputs": [
    {
     "data": {
      "text/html": [
       "<div>\n",
       "<style scoped>\n",
       "    .dataframe tbody tr th:only-of-type {\n",
       "        vertical-align: middle;\n",
       "    }\n",
       "\n",
       "    .dataframe tbody tr th {\n",
       "        vertical-align: top;\n",
       "    }\n",
       "\n",
       "    .dataframe thead th {\n",
       "        text-align: right;\n",
       "    }\n",
       "</style>\n",
       "<table border=\"1\" class=\"dataframe\">\n",
       "  <thead>\n",
       "    <tr style=\"text-align: right;\">\n",
       "      <th></th>\n",
       "      <th>session_id</th>\n",
       "      <th>startTime</th>\n",
       "      <th>endTime</th>\n",
       "      <th>ProductList</th>\n",
       "      <th>gender</th>\n",
       "    </tr>\n",
       "  </thead>\n",
       "  <tbody>\n",
       "    <tr>\n",
       "      <th>0</th>\n",
       "      <td>u16159</td>\n",
       "      <td>15-12-2014 18:11</td>\n",
       "      <td>15-12-2014 18:12</td>\n",
       "      <td>A00002/B00003/C00006/D28435/;A00002/B00003/C00...</td>\n",
       "      <td>female</td>\n",
       "    </tr>\n",
       "    <tr>\n",
       "      <th>1</th>\n",
       "      <td>u10253</td>\n",
       "      <td>16-12-2014 14:35</td>\n",
       "      <td>16-12-2014 14:41</td>\n",
       "      <td>A00001/B00009/C00031/D29404/;A00001/B00009/C00...</td>\n",
       "      <td>male</td>\n",
       "    </tr>\n",
       "    <tr>\n",
       "      <th>2</th>\n",
       "      <td>u19037</td>\n",
       "      <td>01-12-2014 15:58</td>\n",
       "      <td>01-12-2014 15:58</td>\n",
       "      <td>A00002/B00001/C00020/D16944/</td>\n",
       "      <td>female</td>\n",
       "    </tr>\n",
       "    <tr>\n",
       "      <th>3</th>\n",
       "      <td>u14556</td>\n",
       "      <td>23-11-2014 02:57</td>\n",
       "      <td>23-11-2014 03:00</td>\n",
       "      <td>A00002/B00004/C00018/D10284/;A00002/B00004/C00...</td>\n",
       "      <td>female</td>\n",
       "    </tr>\n",
       "    <tr>\n",
       "      <th>4</th>\n",
       "      <td>u24295</td>\n",
       "      <td>17-12-2014 16:44</td>\n",
       "      <td>17-12-2014 16:46</td>\n",
       "      <td>A00001/B00001/C00012/D30805/;A00001/B00001/C00...</td>\n",
       "      <td>male</td>\n",
       "    </tr>\n",
       "  </tbody>\n",
       "</table>\n",
       "</div>"
      ],
      "text/plain": [
       "  session_id         startTime           endTime  \\\n",
       "0     u16159  15-12-2014 18:11  15-12-2014 18:12   \n",
       "1     u10253  16-12-2014 14:35  16-12-2014 14:41   \n",
       "2     u19037  01-12-2014 15:58  01-12-2014 15:58   \n",
       "3     u14556  23-11-2014 02:57  23-11-2014 03:00   \n",
       "4     u24295  17-12-2014 16:44  17-12-2014 16:46   \n",
       "\n",
       "                                         ProductList  gender  \n",
       "0  A00002/B00003/C00006/D28435/;A00002/B00003/C00...  female  \n",
       "1  A00001/B00009/C00031/D29404/;A00001/B00009/C00...    male  \n",
       "2                       A00002/B00001/C00020/D16944/  female  \n",
       "3  A00002/B00004/C00018/D10284/;A00002/B00004/C00...  female  \n",
       "4  A00001/B00001/C00012/D30805/;A00001/B00001/C00...    male  "
      ]
     },
     "execution_count": 7,
     "metadata": {},
     "output_type": "execute_result"
    }
   ],
   "source": [
    "## Check first 5 records of train data\n",
    "data.head()"
   ]
  },
  {
   "cell_type": "code",
   "execution_count": 8,
   "metadata": {},
   "outputs": [
    {
     "data": {
      "text/html": [
       "<div>\n",
       "<style scoped>\n",
       "    .dataframe tbody tr th:only-of-type {\n",
       "        vertical-align: middle;\n",
       "    }\n",
       "\n",
       "    .dataframe tbody tr th {\n",
       "        vertical-align: top;\n",
       "    }\n",
       "\n",
       "    .dataframe thead th {\n",
       "        text-align: right;\n",
       "    }\n",
       "</style>\n",
       "<table border=\"1\" class=\"dataframe\">\n",
       "  <thead>\n",
       "    <tr style=\"text-align: right;\">\n",
       "      <th></th>\n",
       "      <th>session_id</th>\n",
       "      <th>startTime</th>\n",
       "      <th>endTime</th>\n",
       "      <th>ProductList</th>\n",
       "    </tr>\n",
       "  </thead>\n",
       "  <tbody>\n",
       "    <tr>\n",
       "      <th>0</th>\n",
       "      <td>u12112</td>\n",
       "      <td>08-12-2014 13:36</td>\n",
       "      <td>08-12-2014 13:36</td>\n",
       "      <td>A00002/B00003/C00006/D19956/</td>\n",
       "    </tr>\n",
       "    <tr>\n",
       "      <th>1</th>\n",
       "      <td>u19725</td>\n",
       "      <td>19-12-2014 13:52</td>\n",
       "      <td>19-12-2014 13:52</td>\n",
       "      <td>A00002/B00005/C00067/D02026/</td>\n",
       "    </tr>\n",
       "    <tr>\n",
       "      <th>2</th>\n",
       "      <td>u11795</td>\n",
       "      <td>01-12-2014 10:44</td>\n",
       "      <td>01-12-2014 10:44</td>\n",
       "      <td>A00002/B00002/C00004/D12538/</td>\n",
       "    </tr>\n",
       "    <tr>\n",
       "      <th>3</th>\n",
       "      <td>u22639</td>\n",
       "      <td>08-12-2014 20:19</td>\n",
       "      <td>08-12-2014 20:22</td>\n",
       "      <td>A00002/B00003/C00079/D22781/;A00002/B00003/C00...</td>\n",
       "    </tr>\n",
       "    <tr>\n",
       "      <th>4</th>\n",
       "      <td>u18034</td>\n",
       "      <td>15-12-2014 19:33</td>\n",
       "      <td>15-12-2014 19:33</td>\n",
       "      <td>A00002/B00001/C00010/D23419/</td>\n",
       "    </tr>\n",
       "  </tbody>\n",
       "</table>\n",
       "</div>"
      ],
      "text/plain": [
       "  session_id         startTime           endTime  \\\n",
       "0     u12112  08-12-2014 13:36  08-12-2014 13:36   \n",
       "1     u19725  19-12-2014 13:52  19-12-2014 13:52   \n",
       "2     u11795  01-12-2014 10:44  01-12-2014 10:44   \n",
       "3     u22639  08-12-2014 20:19  08-12-2014 20:22   \n",
       "4     u18034  15-12-2014 19:33  15-12-2014 19:33   \n",
       "\n",
       "                                         ProductList  \n",
       "0                       A00002/B00003/C00006/D19956/  \n",
       "1                       A00002/B00005/C00067/D02026/  \n",
       "2                       A00002/B00002/C00004/D12538/  \n",
       "3  A00002/B00003/C00079/D22781/;A00002/B00003/C00...  \n",
       "4                       A00002/B00001/C00010/D23419/  "
      ]
     },
     "execution_count": 8,
     "metadata": {},
     "output_type": "execute_result"
    }
   ],
   "source": [
    "## Check first 5 records of test data\n",
    "test_data.head()"
   ]
  },
  {
   "cell_type": "code",
   "execution_count": 9,
   "metadata": {},
   "outputs": [
    {
     "data": {
      "text/html": [
       "<div>\n",
       "<style scoped>\n",
       "    .dataframe tbody tr th:only-of-type {\n",
       "        vertical-align: middle;\n",
       "    }\n",
       "\n",
       "    .dataframe tbody tr th {\n",
       "        vertical-align: top;\n",
       "    }\n",
       "\n",
       "    .dataframe thead th {\n",
       "        text-align: right;\n",
       "    }\n",
       "</style>\n",
       "<table border=\"1\" class=\"dataframe\">\n",
       "  <thead>\n",
       "    <tr style=\"text-align: right;\">\n",
       "      <th></th>\n",
       "      <th>session_id</th>\n",
       "      <th>startTime</th>\n",
       "      <th>endTime</th>\n",
       "      <th>ProductList</th>\n",
       "      <th>gender</th>\n",
       "    </tr>\n",
       "  </thead>\n",
       "  <tbody>\n",
       "    <tr>\n",
       "      <th>10495</th>\n",
       "      <td>u15442</td>\n",
       "      <td>18-11-2014 07:39</td>\n",
       "      <td>18-11-2014 07:42</td>\n",
       "      <td>A00002/B00002/C00007/D06407/;A00002/B00002/C00...</td>\n",
       "      <td>female</td>\n",
       "    </tr>\n",
       "    <tr>\n",
       "      <th>10496</th>\n",
       "      <td>u17986</td>\n",
       "      <td>25-11-2014 15:16</td>\n",
       "      <td>25-11-2014 15:16</td>\n",
       "      <td>A00006/B00030/C00334/D11660/</td>\n",
       "      <td>female</td>\n",
       "    </tr>\n",
       "    <tr>\n",
       "      <th>10497</th>\n",
       "      <td>u22508</td>\n",
       "      <td>09-12-2014 10:11</td>\n",
       "      <td>09-12-2014 10:11</td>\n",
       "      <td>A00002/B00002/C00007/D18028/</td>\n",
       "      <td>female</td>\n",
       "    </tr>\n",
       "    <tr>\n",
       "      <th>10498</th>\n",
       "      <td>u17087</td>\n",
       "      <td>22-11-2014 11:27</td>\n",
       "      <td>22-11-2014 11:27</td>\n",
       "      <td>A00003/B00012/C00131/D09453/;A00003/B00012/C00...</td>\n",
       "      <td>female</td>\n",
       "    </tr>\n",
       "    <tr>\n",
       "      <th>10499</th>\n",
       "      <td>u23137</td>\n",
       "      <td>19-12-2014 03:11</td>\n",
       "      <td>19-12-2014 03:19</td>\n",
       "      <td>A00002/B00001/C00010/D02309/;A00002/B00002/C00...</td>\n",
       "      <td>female</td>\n",
       "    </tr>\n",
       "  </tbody>\n",
       "</table>\n",
       "</div>"
      ],
      "text/plain": [
       "      session_id         startTime           endTime  \\\n",
       "10495     u15442  18-11-2014 07:39  18-11-2014 07:42   \n",
       "10496     u17986  25-11-2014 15:16  25-11-2014 15:16   \n",
       "10497     u22508  09-12-2014 10:11  09-12-2014 10:11   \n",
       "10498     u17087  22-11-2014 11:27  22-11-2014 11:27   \n",
       "10499     u23137  19-12-2014 03:11  19-12-2014 03:19   \n",
       "\n",
       "                                             ProductList  gender  \n",
       "10495  A00002/B00002/C00007/D06407/;A00002/B00002/C00...  female  \n",
       "10496                       A00006/B00030/C00334/D11660/  female  \n",
       "10497                       A00002/B00002/C00007/D18028/  female  \n",
       "10498  A00003/B00012/C00131/D09453/;A00003/B00012/C00...  female  \n",
       "10499  A00002/B00001/C00010/D02309/;A00002/B00002/C00...  female  "
      ]
     },
     "execution_count": 9,
     "metadata": {},
     "output_type": "execute_result"
    }
   ],
   "source": [
    "## Check last 5 records of train data\n",
    "data.tail()"
   ]
  },
  {
   "cell_type": "code",
   "execution_count": 10,
   "metadata": {},
   "outputs": [
    {
     "data": {
      "text/html": [
       "<div>\n",
       "<style scoped>\n",
       "    .dataframe tbody tr th:only-of-type {\n",
       "        vertical-align: middle;\n",
       "    }\n",
       "\n",
       "    .dataframe tbody tr th {\n",
       "        vertical-align: top;\n",
       "    }\n",
       "\n",
       "    .dataframe thead th {\n",
       "        text-align: right;\n",
       "    }\n",
       "</style>\n",
       "<table border=\"1\" class=\"dataframe\">\n",
       "  <thead>\n",
       "    <tr style=\"text-align: right;\">\n",
       "      <th></th>\n",
       "      <th>session_id</th>\n",
       "      <th>startTime</th>\n",
       "      <th>endTime</th>\n",
       "      <th>ProductList</th>\n",
       "    </tr>\n",
       "  </thead>\n",
       "  <tbody>\n",
       "    <tr>\n",
       "      <th>4495</th>\n",
       "      <td>u23966</td>\n",
       "      <td>15-12-2014 21:11</td>\n",
       "      <td>15-12-2014 21:12</td>\n",
       "      <td>A00001/B00031/C00044/D03435/;A00001/B00031/C00...</td>\n",
       "    </tr>\n",
       "    <tr>\n",
       "      <th>4496</th>\n",
       "      <td>u20527</td>\n",
       "      <td>02-12-2014 07:53</td>\n",
       "      <td>02-12-2014 07:54</td>\n",
       "      <td>A00002/B00002/C00004/D17474/;A00002/B00002/C00...</td>\n",
       "    </tr>\n",
       "    <tr>\n",
       "      <th>4497</th>\n",
       "      <td>u13253</td>\n",
       "      <td>15-11-2014 21:38</td>\n",
       "      <td>15-11-2014 21:46</td>\n",
       "      <td>A00002/B00007/C00098/D03350/;A00002/B00007/C00...</td>\n",
       "    </tr>\n",
       "    <tr>\n",
       "      <th>4498</th>\n",
       "      <td>u17094</td>\n",
       "      <td>17-12-2014 08:51</td>\n",
       "      <td>17-12-2014 08:51</td>\n",
       "      <td>A00001/B00031/C00044/D09604/</td>\n",
       "    </tr>\n",
       "    <tr>\n",
       "      <th>4499</th>\n",
       "      <td>u24310</td>\n",
       "      <td>17-12-2014 17:25</td>\n",
       "      <td>17-12-2014 17:26</td>\n",
       "      <td>A00002/B00002/C00003/D20004/;A00002/B00002/C00...</td>\n",
       "    </tr>\n",
       "  </tbody>\n",
       "</table>\n",
       "</div>"
      ],
      "text/plain": [
       "     session_id         startTime           endTime  \\\n",
       "4495     u23966  15-12-2014 21:11  15-12-2014 21:12   \n",
       "4496     u20527  02-12-2014 07:53  02-12-2014 07:54   \n",
       "4497     u13253  15-11-2014 21:38  15-11-2014 21:46   \n",
       "4498     u17094  17-12-2014 08:51  17-12-2014 08:51   \n",
       "4499     u24310  17-12-2014 17:25  17-12-2014 17:26   \n",
       "\n",
       "                                            ProductList  \n",
       "4495  A00001/B00031/C00044/D03435/;A00001/B00031/C00...  \n",
       "4496  A00002/B00002/C00004/D17474/;A00002/B00002/C00...  \n",
       "4497  A00002/B00007/C00098/D03350/;A00002/B00007/C00...  \n",
       "4498                       A00001/B00031/C00044/D09604/  \n",
       "4499  A00002/B00002/C00003/D20004/;A00002/B00002/C00...  "
      ]
     },
     "execution_count": 10,
     "metadata": {},
     "output_type": "execute_result"
    }
   ],
   "source": [
    "## Check last 5 records of test data\n",
    "test_data.tail()"
   ]
  },
  {
   "cell_type": "code",
   "execution_count": 11,
   "metadata": {},
   "outputs": [
    {
     "data": {
      "text/html": [
       "<div>\n",
       "<style scoped>\n",
       "    .dataframe tbody tr th:only-of-type {\n",
       "        vertical-align: middle;\n",
       "    }\n",
       "\n",
       "    .dataframe tbody tr th {\n",
       "        vertical-align: top;\n",
       "    }\n",
       "\n",
       "    .dataframe thead th {\n",
       "        text-align: right;\n",
       "    }\n",
       "</style>\n",
       "<table border=\"1\" class=\"dataframe\">\n",
       "  <thead>\n",
       "    <tr style=\"text-align: right;\">\n",
       "      <th></th>\n",
       "      <th>session_id</th>\n",
       "      <th>startTime</th>\n",
       "      <th>endTime</th>\n",
       "      <th>ProductList</th>\n",
       "      <th>gender</th>\n",
       "    </tr>\n",
       "  </thead>\n",
       "  <tbody>\n",
       "    <tr>\n",
       "      <th>count</th>\n",
       "      <td>10500</td>\n",
       "      <td>10500</td>\n",
       "      <td>10500</td>\n",
       "      <td>10500</td>\n",
       "      <td>10500</td>\n",
       "    </tr>\n",
       "    <tr>\n",
       "      <th>unique</th>\n",
       "      <td>10500</td>\n",
       "      <td>8815</td>\n",
       "      <td>8803</td>\n",
       "      <td>9402</td>\n",
       "      <td>2</td>\n",
       "    </tr>\n",
       "    <tr>\n",
       "      <th>top</th>\n",
       "      <td>u16619</td>\n",
       "      <td>05-12-2014 20:23</td>\n",
       "      <td>09-12-2014 14:58</td>\n",
       "      <td>A00002/B00002/C00007/D00266/</td>\n",
       "      <td>female</td>\n",
       "    </tr>\n",
       "    <tr>\n",
       "      <th>freq</th>\n",
       "      <td>1</td>\n",
       "      <td>5</td>\n",
       "      <td>5</td>\n",
       "      <td>25</td>\n",
       "      <td>8192</td>\n",
       "    </tr>\n",
       "  </tbody>\n",
       "</table>\n",
       "</div>"
      ],
      "text/plain": [
       "       session_id         startTime           endTime  \\\n",
       "count       10500             10500             10500   \n",
       "unique      10500              8815              8803   \n",
       "top        u16619  05-12-2014 20:23  09-12-2014 14:58   \n",
       "freq            1                 5                 5   \n",
       "\n",
       "                         ProductList  gender  \n",
       "count                          10500   10500  \n",
       "unique                          9402       2  \n",
       "top     A00002/B00002/C00007/D00266/  female  \n",
       "freq                              25    8192  "
      ]
     },
     "execution_count": 11,
     "metadata": {},
     "output_type": "execute_result"
    }
   ],
   "source": [
    "## Check summary statistics of train data\n",
    "data.describe(include='all')"
   ]
  },
  {
   "cell_type": "code",
   "execution_count": 12,
   "metadata": {},
   "outputs": [
    {
     "data": {
      "text/html": [
       "<div>\n",
       "<style scoped>\n",
       "    .dataframe tbody tr th:only-of-type {\n",
       "        vertical-align: middle;\n",
       "    }\n",
       "\n",
       "    .dataframe tbody tr th {\n",
       "        vertical-align: top;\n",
       "    }\n",
       "\n",
       "    .dataframe thead th {\n",
       "        text-align: right;\n",
       "    }\n",
       "</style>\n",
       "<table border=\"1\" class=\"dataframe\">\n",
       "  <thead>\n",
       "    <tr style=\"text-align: right;\">\n",
       "      <th></th>\n",
       "      <th>session_id</th>\n",
       "      <th>startTime</th>\n",
       "      <th>endTime</th>\n",
       "      <th>ProductList</th>\n",
       "    </tr>\n",
       "  </thead>\n",
       "  <tbody>\n",
       "    <tr>\n",
       "      <th>count</th>\n",
       "      <td>4500</td>\n",
       "      <td>4500</td>\n",
       "      <td>4500</td>\n",
       "      <td>4500</td>\n",
       "    </tr>\n",
       "    <tr>\n",
       "      <th>unique</th>\n",
       "      <td>4500</td>\n",
       "      <td>4203</td>\n",
       "      <td>4144</td>\n",
       "      <td>4207</td>\n",
       "    </tr>\n",
       "    <tr>\n",
       "      <th>top</th>\n",
       "      <td>u19962</td>\n",
       "      <td>27-11-2014 14:15</td>\n",
       "      <td>07-12-2014 12:17</td>\n",
       "      <td>A00002/B00002/C00007/D00266/</td>\n",
       "    </tr>\n",
       "    <tr>\n",
       "      <th>freq</th>\n",
       "      <td>1</td>\n",
       "      <td>3</td>\n",
       "      <td>4</td>\n",
       "      <td>14</td>\n",
       "    </tr>\n",
       "  </tbody>\n",
       "</table>\n",
       "</div>"
      ],
      "text/plain": [
       "       session_id         startTime           endTime  \\\n",
       "count        4500              4500              4500   \n",
       "unique       4500              4203              4144   \n",
       "top        u19962  27-11-2014 14:15  07-12-2014 12:17   \n",
       "freq            1                 3                 4   \n",
       "\n",
       "                         ProductList  \n",
       "count                           4500  \n",
       "unique                          4207  \n",
       "top     A00002/B00002/C00007/D00266/  \n",
       "freq                              14  "
      ]
     },
     "execution_count": 12,
     "metadata": {},
     "output_type": "execute_result"
    }
   ],
   "source": [
    "## Check summary statistics of test data\n",
    "test_data.describe(include='all')"
   ]
  },
  {
   "cell_type": "code",
   "execution_count": 13,
   "metadata": {},
   "outputs": [
    {
     "data": {
      "text/plain": [
       "session_id     object\n",
       "startTime      object\n",
       "endTime        object\n",
       "ProductList    object\n",
       "gender         object\n",
       "dtype: object"
      ]
     },
     "execution_count": 13,
     "metadata": {},
     "output_type": "execute_result"
    }
   ],
   "source": [
    "## Check data types of train data\n",
    "data.dtypes"
   ]
  },
  {
   "cell_type": "code",
   "execution_count": 14,
   "metadata": {},
   "outputs": [
    {
     "data": {
      "text/plain": [
       "session_id     object\n",
       "startTime      object\n",
       "endTime        object\n",
       "ProductList    object\n",
       "dtype: object"
      ]
     },
     "execution_count": 14,
     "metadata": {},
     "output_type": "execute_result"
    }
   ],
   "source": [
    "## Check data types of test data\n",
    "test_data.dtypes"
   ]
  },
  {
   "cell_type": "code",
   "execution_count": 15,
   "metadata": {},
   "outputs": [
    {
     "data": {
      "text/plain": [
       "Index(['session_id', 'startTime', 'endTime', 'ProductList', 'gender'], dtype='object')"
      ]
     },
     "execution_count": 15,
     "metadata": {},
     "output_type": "execute_result"
    }
   ],
   "source": [
    "## Check column names of train data\n",
    "data.columns"
   ]
  },
  {
   "cell_type": "code",
   "execution_count": 16,
   "metadata": {},
   "outputs": [
    {
     "data": {
      "text/plain": [
       "Index(['session_id', 'startTime', 'endTime', 'ProductList'], dtype='object')"
      ]
     },
     "execution_count": 16,
     "metadata": {},
     "output_type": "execute_result"
    }
   ],
   "source": [
    "## Check column names of test data\n",
    "test_data.columns"
   ]
  },
  {
   "cell_type": "code",
   "execution_count": 17,
   "metadata": {},
   "outputs": [
    {
     "data": {
      "text/plain": [
       "RangeIndex(start=0, stop=10500, step=1)"
      ]
     },
     "execution_count": 17,
     "metadata": {},
     "output_type": "execute_result"
    }
   ],
   "source": [
    "## Check index range for train data\n",
    "data.index"
   ]
  },
  {
   "cell_type": "code",
   "execution_count": 18,
   "metadata": {
    "scrolled": true
   },
   "outputs": [
    {
     "data": {
      "text/plain": [
       "RangeIndex(start=0, stop=4500, step=1)"
      ]
     },
     "execution_count": 18,
     "metadata": {},
     "output_type": "execute_result"
    }
   ],
   "source": [
    "## Check index rangle for test data\n",
    "test_data.index"
   ]
  },
  {
   "cell_type": "markdown",
   "metadata": {},
   "source": [
    "## 6.2 Check for null, missing values"
   ]
  },
  {
   "cell_type": "code",
   "execution_count": 19,
   "metadata": {},
   "outputs": [
    {
     "data": {
      "text/plain": [
       "session_id     0\n",
       "startTime      0\n",
       "endTime        0\n",
       "ProductList    0\n",
       "gender         0\n",
       "dtype: int64"
      ]
     },
     "execution_count": 19,
     "metadata": {},
     "output_type": "execute_result"
    }
   ],
   "source": [
    "## Check NA values in train data\n",
    "data.isna().sum()"
   ]
  },
  {
   "cell_type": "code",
   "execution_count": 20,
   "metadata": {},
   "outputs": [
    {
     "data": {
      "text/plain": [
       "session_id     0\n",
       "startTime      0\n",
       "endTime        0\n",
       "ProductList    0\n",
       "dtype: int64"
      ]
     },
     "execution_count": 20,
     "metadata": {},
     "output_type": "execute_result"
    }
   ],
   "source": [
    "## Check NA values in test data\n",
    "test_data.isna().sum()"
   ]
  },
  {
   "cell_type": "code",
   "execution_count": 21,
   "metadata": {},
   "outputs": [],
   "source": [
    "## this method will return number of levels,null values,unique values,data types\n",
    "\n",
    "def Observations(df):\n",
    "    return(pd.DataFrame({'dtypes' : df.dtypes,\n",
    "                         'levels' : [df[x].unique() for x in df.columns],\n",
    "                         'null_values' : df.isnull().sum(),\n",
    "                         'Unique Values': df.nunique()\n",
    "                        }))"
   ]
  },
  {
   "cell_type": "code",
   "execution_count": 22,
   "metadata": {},
   "outputs": [
    {
     "data": {
      "text/html": [
       "<div>\n",
       "<style scoped>\n",
       "    .dataframe tbody tr th:only-of-type {\n",
       "        vertical-align: middle;\n",
       "    }\n",
       "\n",
       "    .dataframe tbody tr th {\n",
       "        vertical-align: top;\n",
       "    }\n",
       "\n",
       "    .dataframe thead th {\n",
       "        text-align: right;\n",
       "    }\n",
       "</style>\n",
       "<table border=\"1\" class=\"dataframe\">\n",
       "  <thead>\n",
       "    <tr style=\"text-align: right;\">\n",
       "      <th></th>\n",
       "      <th>dtypes</th>\n",
       "      <th>levels</th>\n",
       "      <th>null_values</th>\n",
       "      <th>Unique Values</th>\n",
       "    </tr>\n",
       "  </thead>\n",
       "  <tbody>\n",
       "    <tr>\n",
       "      <th>session_id</th>\n",
       "      <td>object</td>\n",
       "      <td>[u16159, u10253, u19037, u14556, u24295, u2096...</td>\n",
       "      <td>0</td>\n",
       "      <td>10500</td>\n",
       "    </tr>\n",
       "    <tr>\n",
       "      <th>startTime</th>\n",
       "      <td>object</td>\n",
       "      <td>[15-12-2014 18:11, 16-12-2014 14:35, 01-12-201...</td>\n",
       "      <td>0</td>\n",
       "      <td>8815</td>\n",
       "    </tr>\n",
       "    <tr>\n",
       "      <th>endTime</th>\n",
       "      <td>object</td>\n",
       "      <td>[15-12-2014 18:12, 16-12-2014 14:41, 01-12-201...</td>\n",
       "      <td>0</td>\n",
       "      <td>8803</td>\n",
       "    </tr>\n",
       "    <tr>\n",
       "      <th>ProductList</th>\n",
       "      <td>object</td>\n",
       "      <td>[A00002/B00003/C00006/D28435/;A00002/B00003/C0...</td>\n",
       "      <td>0</td>\n",
       "      <td>9402</td>\n",
       "    </tr>\n",
       "    <tr>\n",
       "      <th>gender</th>\n",
       "      <td>object</td>\n",
       "      <td>[female, male]</td>\n",
       "      <td>0</td>\n",
       "      <td>2</td>\n",
       "    </tr>\n",
       "  </tbody>\n",
       "</table>\n",
       "</div>"
      ],
      "text/plain": [
       "             dtypes                                             levels  \\\n",
       "session_id   object  [u16159, u10253, u19037, u14556, u24295, u2096...   \n",
       "startTime    object  [15-12-2014 18:11, 16-12-2014 14:35, 01-12-201...   \n",
       "endTime      object  [15-12-2014 18:12, 16-12-2014 14:41, 01-12-201...   \n",
       "ProductList  object  [A00002/B00003/C00006/D28435/;A00002/B00003/C0...   \n",
       "gender       object                                     [female, male]   \n",
       "\n",
       "             null_values  Unique Values  \n",
       "session_id             0          10500  \n",
       "startTime              0           8815  \n",
       "endTime                0           8803  \n",
       "ProductList            0           9402  \n",
       "gender                 0              2  "
      ]
     },
     "execution_count": 22,
     "metadata": {},
     "output_type": "execute_result"
    }
   ],
   "source": [
    "## Check number of levels,null values,unique values,data types for train data\n",
    "Observations(data)"
   ]
  },
  {
   "cell_type": "code",
   "execution_count": 23,
   "metadata": {
    "scrolled": true
   },
   "outputs": [
    {
     "data": {
      "text/html": [
       "<div>\n",
       "<style scoped>\n",
       "    .dataframe tbody tr th:only-of-type {\n",
       "        vertical-align: middle;\n",
       "    }\n",
       "\n",
       "    .dataframe tbody tr th {\n",
       "        vertical-align: top;\n",
       "    }\n",
       "\n",
       "    .dataframe thead th {\n",
       "        text-align: right;\n",
       "    }\n",
       "</style>\n",
       "<table border=\"1\" class=\"dataframe\">\n",
       "  <thead>\n",
       "    <tr style=\"text-align: right;\">\n",
       "      <th></th>\n",
       "      <th>dtypes</th>\n",
       "      <th>levels</th>\n",
       "      <th>null_values</th>\n",
       "      <th>Unique Values</th>\n",
       "    </tr>\n",
       "  </thead>\n",
       "  <tbody>\n",
       "    <tr>\n",
       "      <th>session_id</th>\n",
       "      <td>object</td>\n",
       "      <td>[u12112, u19725, u11795, u22639, u18034, u1132...</td>\n",
       "      <td>0</td>\n",
       "      <td>4500</td>\n",
       "    </tr>\n",
       "    <tr>\n",
       "      <th>startTime</th>\n",
       "      <td>object</td>\n",
       "      <td>[08-12-2014 13:36, 19-12-2014 13:52, 01-12-201...</td>\n",
       "      <td>0</td>\n",
       "      <td>4203</td>\n",
       "    </tr>\n",
       "    <tr>\n",
       "      <th>endTime</th>\n",
       "      <td>object</td>\n",
       "      <td>[08-12-2014 13:36, 19-12-2014 13:52, 01-12-201...</td>\n",
       "      <td>0</td>\n",
       "      <td>4144</td>\n",
       "    </tr>\n",
       "    <tr>\n",
       "      <th>ProductList</th>\n",
       "      <td>object</td>\n",
       "      <td>[A00002/B00003/C00006/D19956/, A00002/B00005/C...</td>\n",
       "      <td>0</td>\n",
       "      <td>4207</td>\n",
       "    </tr>\n",
       "  </tbody>\n",
       "</table>\n",
       "</div>"
      ],
      "text/plain": [
       "             dtypes                                             levels  \\\n",
       "session_id   object  [u12112, u19725, u11795, u22639, u18034, u1132...   \n",
       "startTime    object  [08-12-2014 13:36, 19-12-2014 13:52, 01-12-201...   \n",
       "endTime      object  [08-12-2014 13:36, 19-12-2014 13:52, 01-12-201...   \n",
       "ProductList  object  [A00002/B00003/C00006/D19956/, A00002/B00005/C...   \n",
       "\n",
       "             null_values  Unique Values  \n",
       "session_id             0           4500  \n",
       "startTime              0           4203  \n",
       "endTime                0           4144  \n",
       "ProductList            0           4207  "
      ]
     },
     "execution_count": 23,
     "metadata": {},
     "output_type": "execute_result"
    }
   ],
   "source": [
    "## Check number of levels,null values,unique values,data types for test data\n",
    "Observations(test_data)"
   ]
  },
  {
   "cell_type": "markdown",
   "metadata": {},
   "source": [
    "## 6.3 Features Extraction"
   ]
  },
  {
   "cell_type": "code",
   "execution_count": 24,
   "metadata": {},
   "outputs": [],
   "source": [
    "## Converting starTime and endTime into datetime format for train data\n",
    "data['start_datetime'] = pd.to_datetime(data['startTime'])\n",
    "data['end_datetime'] = pd.to_datetime(data['endTime'])"
   ]
  },
  {
   "cell_type": "code",
   "execution_count": 25,
   "metadata": {},
   "outputs": [],
   "source": [
    "## Converting starTime and endTime into datetime format for test data\n",
    "test_data['start_datetime'] = pd.to_datetime(test_data['startTime'])\n",
    "test_data['end_datetime'] = pd.to_datetime(test_data['endTime'])"
   ]
  },
  {
   "cell_type": "code",
   "execution_count": 26,
   "metadata": {},
   "outputs": [],
   "source": [
    "## Extract date and time from start_datetime,end_datetime for train data\n",
    "data['start_date'] = [d.date() for d in data['start_datetime']]\n",
    "data['start_time'] = [d.time() for d in data['start_datetime']]\n",
    "data['end_date'] = [d.date() for d in data['end_datetime']]\n",
    "data['end_time'] = [d.time() for d in data['end_datetime']]"
   ]
  },
  {
   "cell_type": "code",
   "execution_count": 27,
   "metadata": {},
   "outputs": [],
   "source": [
    "## Extract date and time from start_datetime,end_datetime for test data\n",
    "test_data['start_date'] = [d.date() for d in test_data['start_datetime']]\n",
    "test_data['start_time'] = [d.time() for d in test_data['start_datetime']]\n",
    "test_data['end_date'] = [d.date() for d in test_data['end_datetime']]\n",
    "test_data['end_time'] = [d.time() for d in test_data['end_datetime']]"
   ]
  },
  {
   "cell_type": "code",
   "execution_count": 28,
   "metadata": {},
   "outputs": [],
   "source": [
    "## Drop startTime, endTime, start_datetime, end_datetime columns from train data beacuse we have extracted features from them\n",
    "## so those columns are not required.\n",
    "data.drop(['startTime', 'endTime', 'start_datetime', 'end_datetime'], axis=1, inplace=True)"
   ]
  },
  {
   "cell_type": "code",
   "execution_count": 29,
   "metadata": {},
   "outputs": [],
   "source": [
    "## Drop startTime, endTime, start_datetime, end_datetime columns from test data beacuse we have extracted features from them\n",
    "## so those columns are not required.\n",
    "test_data.drop(['startTime', 'endTime', 'start_datetime', 'end_datetime'], axis=1, inplace=True)"
   ]
  },
  {
   "cell_type": "code",
   "execution_count": 30,
   "metadata": {},
   "outputs": [],
   "source": [
    "## Extract day,month,year features from start_date,end_date columns of train data and also drop \n",
    "## start_date, end_date columns after feature extraction\n",
    "data['start_Y'] = data['start_date'].apply(lambda x: x.year)\n",
    "data['start_M'] = data['start_date'].apply(lambda x: x.month)\n",
    "data['start_D'] = data['start_date'].apply(lambda x: x.day)\n",
    "data['end_Y'] = data['end_date'].apply(lambda x: x.year)\n",
    "data['end_M'] = data['end_date'].apply(lambda x: x.month)\n",
    "data['end_D'] = data['end_date'].apply(lambda x: x.day)\n",
    "data.drop(['start_date', 'end_date'], axis=1, inplace=True)"
   ]
  },
  {
   "cell_type": "code",
   "execution_count": 31,
   "metadata": {},
   "outputs": [],
   "source": [
    "## Extract day,month,year features from start_date,end_date columns of test data and also drop \n",
    "## start_date, end_date columns after feature extraction\n",
    "test_data['start_Y'] = test_data['start_date'].apply(lambda x: x.year)\n",
    "test_data['start_M'] = test_data['start_date'].apply(lambda x: x.month)\n",
    "test_data['start_D'] = test_data['start_date'].apply(lambda x: x.day)\n",
    "test_data['end_Y'] = test_data['end_date'].apply(lambda x: x.year)\n",
    "test_data['end_M'] = test_data['end_date'].apply(lambda x: x.month)\n",
    "test_data['end_D'] = test_data['end_date'].apply(lambda x: x.day)\n",
    "test_data.drop(['start_date', 'end_date'], axis=1, inplace=True)"
   ]
  },
  {
   "cell_type": "code",
   "execution_count": 32,
   "metadata": {},
   "outputs": [],
   "source": [
    "## Extract second,minute,hour features from start_time,end_time columns of train data and also drop \n",
    "## start_time,end_time columns after feature extraction\n",
    "data['start_hour'] = data['start_time'].apply(lambda x: x.hour)\n",
    "data['start_min'] = data['start_time'].apply(lambda x: x.minute)\n",
    "data['start_sec'] = data['start_time'].apply(lambda x: x.second)\n",
    "data['end_hour'] = data['end_time'].apply(lambda x: x.hour)\n",
    "data['end_min'] = data['end_time'].apply(lambda x: x.minute)\n",
    "data['end_sec'] = data['end_time'].apply(lambda x: x.second)\n",
    "data.drop(['start_time', 'end_time'], axis=1, inplace=True)"
   ]
  },
  {
   "cell_type": "code",
   "execution_count": 33,
   "metadata": {},
   "outputs": [],
   "source": [
    "## Extract second,minute,hour features from start_time,end_time columns of test data and also drop \n",
    "## start_time,end_time columns after feature extraction\n",
    "test_data['start_hour'] = test_data['start_time'].apply(lambda x: x.hour)\n",
    "test_data['start_min'] = test_data['start_time'].apply(lambda x: x.minute)\n",
    "test_data['start_sec'] = test_data['start_time'].apply(lambda x: x.second)\n",
    "test_data['end_hour'] = test_data['end_time'].apply(lambda x: x.hour)\n",
    "test_data['end_min'] = test_data['end_time'].apply(lambda x: x.minute)\n",
    "test_data['end_sec'] = test_data['end_time'].apply(lambda x: x.second)\n",
    "test_data.drop(['start_time', 'end_time'], axis=1, inplace=True)"
   ]
  },
  {
   "cell_type": "code",
   "execution_count": 34,
   "metadata": {
    "scrolled": true
   },
   "outputs": [
    {
     "data": {
      "text/html": [
       "<div>\n",
       "<style scoped>\n",
       "    .dataframe tbody tr th:only-of-type {\n",
       "        vertical-align: middle;\n",
       "    }\n",
       "\n",
       "    .dataframe tbody tr th {\n",
       "        vertical-align: top;\n",
       "    }\n",
       "\n",
       "    .dataframe thead th {\n",
       "        text-align: right;\n",
       "    }\n",
       "</style>\n",
       "<table border=\"1\" class=\"dataframe\">\n",
       "  <thead>\n",
       "    <tr style=\"text-align: right;\">\n",
       "      <th></th>\n",
       "      <th>session_id</th>\n",
       "      <th>ProductList</th>\n",
       "      <th>gender</th>\n",
       "      <th>start_Y</th>\n",
       "      <th>start_M</th>\n",
       "      <th>start_D</th>\n",
       "      <th>end_Y</th>\n",
       "      <th>end_M</th>\n",
       "      <th>end_D</th>\n",
       "      <th>start_hour</th>\n",
       "      <th>start_min</th>\n",
       "      <th>start_sec</th>\n",
       "      <th>end_hour</th>\n",
       "      <th>end_min</th>\n",
       "      <th>end_sec</th>\n",
       "    </tr>\n",
       "  </thead>\n",
       "  <tbody>\n",
       "    <tr>\n",
       "      <th>0</th>\n",
       "      <td>u16159</td>\n",
       "      <td>A00002/B00003/C00006/D28435/;A00002/B00003/C00...</td>\n",
       "      <td>female</td>\n",
       "      <td>2014</td>\n",
       "      <td>12</td>\n",
       "      <td>15</td>\n",
       "      <td>2014</td>\n",
       "      <td>12</td>\n",
       "      <td>15</td>\n",
       "      <td>18</td>\n",
       "      <td>11</td>\n",
       "      <td>0</td>\n",
       "      <td>18</td>\n",
       "      <td>12</td>\n",
       "      <td>0</td>\n",
       "    </tr>\n",
       "    <tr>\n",
       "      <th>1</th>\n",
       "      <td>u10253</td>\n",
       "      <td>A00001/B00009/C00031/D29404/;A00001/B00009/C00...</td>\n",
       "      <td>male</td>\n",
       "      <td>2014</td>\n",
       "      <td>12</td>\n",
       "      <td>16</td>\n",
       "      <td>2014</td>\n",
       "      <td>12</td>\n",
       "      <td>16</td>\n",
       "      <td>14</td>\n",
       "      <td>35</td>\n",
       "      <td>0</td>\n",
       "      <td>14</td>\n",
       "      <td>41</td>\n",
       "      <td>0</td>\n",
       "    </tr>\n",
       "    <tr>\n",
       "      <th>2</th>\n",
       "      <td>u19037</td>\n",
       "      <td>A00002/B00001/C00020/D16944/</td>\n",
       "      <td>female</td>\n",
       "      <td>2014</td>\n",
       "      <td>1</td>\n",
       "      <td>12</td>\n",
       "      <td>2014</td>\n",
       "      <td>1</td>\n",
       "      <td>12</td>\n",
       "      <td>15</td>\n",
       "      <td>58</td>\n",
       "      <td>0</td>\n",
       "      <td>15</td>\n",
       "      <td>58</td>\n",
       "      <td>0</td>\n",
       "    </tr>\n",
       "    <tr>\n",
       "      <th>3</th>\n",
       "      <td>u14556</td>\n",
       "      <td>A00002/B00004/C00018/D10284/;A00002/B00004/C00...</td>\n",
       "      <td>female</td>\n",
       "      <td>2014</td>\n",
       "      <td>11</td>\n",
       "      <td>23</td>\n",
       "      <td>2014</td>\n",
       "      <td>11</td>\n",
       "      <td>23</td>\n",
       "      <td>2</td>\n",
       "      <td>57</td>\n",
       "      <td>0</td>\n",
       "      <td>3</td>\n",
       "      <td>0</td>\n",
       "      <td>0</td>\n",
       "    </tr>\n",
       "    <tr>\n",
       "      <th>4</th>\n",
       "      <td>u24295</td>\n",
       "      <td>A00001/B00001/C00012/D30805/;A00001/B00001/C00...</td>\n",
       "      <td>male</td>\n",
       "      <td>2014</td>\n",
       "      <td>12</td>\n",
       "      <td>17</td>\n",
       "      <td>2014</td>\n",
       "      <td>12</td>\n",
       "      <td>17</td>\n",
       "      <td>16</td>\n",
       "      <td>44</td>\n",
       "      <td>0</td>\n",
       "      <td>16</td>\n",
       "      <td>46</td>\n",
       "      <td>0</td>\n",
       "    </tr>\n",
       "  </tbody>\n",
       "</table>\n",
       "</div>"
      ],
      "text/plain": [
       "  session_id                                        ProductList  gender  \\\n",
       "0     u16159  A00002/B00003/C00006/D28435/;A00002/B00003/C00...  female   \n",
       "1     u10253  A00001/B00009/C00031/D29404/;A00001/B00009/C00...    male   \n",
       "2     u19037                       A00002/B00001/C00020/D16944/  female   \n",
       "3     u14556  A00002/B00004/C00018/D10284/;A00002/B00004/C00...  female   \n",
       "4     u24295  A00001/B00001/C00012/D30805/;A00001/B00001/C00...    male   \n",
       "\n",
       "   start_Y  start_M  start_D  end_Y  end_M  end_D  start_hour  start_min  \\\n",
       "0     2014       12       15   2014     12     15          18         11   \n",
       "1     2014       12       16   2014     12     16          14         35   \n",
       "2     2014        1       12   2014      1     12          15         58   \n",
       "3     2014       11       23   2014     11     23           2         57   \n",
       "4     2014       12       17   2014     12     17          16         44   \n",
       "\n",
       "   start_sec  end_hour  end_min  end_sec  \n",
       "0          0        18       12        0  \n",
       "1          0        14       41        0  \n",
       "2          0        15       58        0  \n",
       "3          0         3        0        0  \n",
       "4          0        16       46        0  "
      ]
     },
     "execution_count": 34,
     "metadata": {},
     "output_type": "execute_result"
    }
   ],
   "source": [
    "## Check head of train data after feature extraction\n",
    "data.head()"
   ]
  },
  {
   "cell_type": "code",
   "execution_count": 35,
   "metadata": {
    "scrolled": true
   },
   "outputs": [
    {
     "data": {
      "text/html": [
       "<div>\n",
       "<style scoped>\n",
       "    .dataframe tbody tr th:only-of-type {\n",
       "        vertical-align: middle;\n",
       "    }\n",
       "\n",
       "    .dataframe tbody tr th {\n",
       "        vertical-align: top;\n",
       "    }\n",
       "\n",
       "    .dataframe thead th {\n",
       "        text-align: right;\n",
       "    }\n",
       "</style>\n",
       "<table border=\"1\" class=\"dataframe\">\n",
       "  <thead>\n",
       "    <tr style=\"text-align: right;\">\n",
       "      <th></th>\n",
       "      <th>session_id</th>\n",
       "      <th>ProductList</th>\n",
       "      <th>start_Y</th>\n",
       "      <th>start_M</th>\n",
       "      <th>start_D</th>\n",
       "      <th>end_Y</th>\n",
       "      <th>end_M</th>\n",
       "      <th>end_D</th>\n",
       "      <th>start_hour</th>\n",
       "      <th>start_min</th>\n",
       "      <th>start_sec</th>\n",
       "      <th>end_hour</th>\n",
       "      <th>end_min</th>\n",
       "      <th>end_sec</th>\n",
       "    </tr>\n",
       "  </thead>\n",
       "  <tbody>\n",
       "    <tr>\n",
       "      <th>0</th>\n",
       "      <td>u12112</td>\n",
       "      <td>A00002/B00003/C00006/D19956/</td>\n",
       "      <td>2014</td>\n",
       "      <td>8</td>\n",
       "      <td>12</td>\n",
       "      <td>2014</td>\n",
       "      <td>8</td>\n",
       "      <td>12</td>\n",
       "      <td>13</td>\n",
       "      <td>36</td>\n",
       "      <td>0</td>\n",
       "      <td>13</td>\n",
       "      <td>36</td>\n",
       "      <td>0</td>\n",
       "    </tr>\n",
       "    <tr>\n",
       "      <th>1</th>\n",
       "      <td>u19725</td>\n",
       "      <td>A00002/B00005/C00067/D02026/</td>\n",
       "      <td>2014</td>\n",
       "      <td>12</td>\n",
       "      <td>19</td>\n",
       "      <td>2014</td>\n",
       "      <td>12</td>\n",
       "      <td>19</td>\n",
       "      <td>13</td>\n",
       "      <td>52</td>\n",
       "      <td>0</td>\n",
       "      <td>13</td>\n",
       "      <td>52</td>\n",
       "      <td>0</td>\n",
       "    </tr>\n",
       "    <tr>\n",
       "      <th>2</th>\n",
       "      <td>u11795</td>\n",
       "      <td>A00002/B00002/C00004/D12538/</td>\n",
       "      <td>2014</td>\n",
       "      <td>1</td>\n",
       "      <td>12</td>\n",
       "      <td>2014</td>\n",
       "      <td>1</td>\n",
       "      <td>12</td>\n",
       "      <td>10</td>\n",
       "      <td>44</td>\n",
       "      <td>0</td>\n",
       "      <td>10</td>\n",
       "      <td>44</td>\n",
       "      <td>0</td>\n",
       "    </tr>\n",
       "    <tr>\n",
       "      <th>3</th>\n",
       "      <td>u22639</td>\n",
       "      <td>A00002/B00003/C00079/D22781/;A00002/B00003/C00...</td>\n",
       "      <td>2014</td>\n",
       "      <td>8</td>\n",
       "      <td>12</td>\n",
       "      <td>2014</td>\n",
       "      <td>8</td>\n",
       "      <td>12</td>\n",
       "      <td>20</td>\n",
       "      <td>19</td>\n",
       "      <td>0</td>\n",
       "      <td>20</td>\n",
       "      <td>22</td>\n",
       "      <td>0</td>\n",
       "    </tr>\n",
       "    <tr>\n",
       "      <th>4</th>\n",
       "      <td>u18034</td>\n",
       "      <td>A00002/B00001/C00010/D23419/</td>\n",
       "      <td>2014</td>\n",
       "      <td>12</td>\n",
       "      <td>15</td>\n",
       "      <td>2014</td>\n",
       "      <td>12</td>\n",
       "      <td>15</td>\n",
       "      <td>19</td>\n",
       "      <td>33</td>\n",
       "      <td>0</td>\n",
       "      <td>19</td>\n",
       "      <td>33</td>\n",
       "      <td>0</td>\n",
       "    </tr>\n",
       "  </tbody>\n",
       "</table>\n",
       "</div>"
      ],
      "text/plain": [
       "  session_id                                        ProductList  start_Y  \\\n",
       "0     u12112                       A00002/B00003/C00006/D19956/     2014   \n",
       "1     u19725                       A00002/B00005/C00067/D02026/     2014   \n",
       "2     u11795                       A00002/B00002/C00004/D12538/     2014   \n",
       "3     u22639  A00002/B00003/C00079/D22781/;A00002/B00003/C00...     2014   \n",
       "4     u18034                       A00002/B00001/C00010/D23419/     2014   \n",
       "\n",
       "   start_M  start_D  end_Y  end_M  end_D  start_hour  start_min  start_sec  \\\n",
       "0        8       12   2014      8     12          13         36          0   \n",
       "1       12       19   2014     12     19          13         52          0   \n",
       "2        1       12   2014      1     12          10         44          0   \n",
       "3        8       12   2014      8     12          20         19          0   \n",
       "4       12       15   2014     12     15          19         33          0   \n",
       "\n",
       "   end_hour  end_min  end_sec  \n",
       "0        13       36        0  \n",
       "1        13       52        0  \n",
       "2        10       44        0  \n",
       "3        20       22        0  \n",
       "4        19       33        0  "
      ]
     },
     "execution_count": 35,
     "metadata": {},
     "output_type": "execute_result"
    }
   ],
   "source": [
    "## Check head of test data after feature extraction\n",
    "test_data.head()"
   ]
  },
  {
   "cell_type": "code",
   "execution_count": 36,
   "metadata": {
    "scrolled": true
   },
   "outputs": [
    {
     "data": {
      "text/plain": [
       "session_id     0\n",
       "ProductList    0\n",
       "gender         0\n",
       "start_Y        0\n",
       "start_M        0\n",
       "start_D        0\n",
       "end_Y          0\n",
       "end_M          0\n",
       "end_D          0\n",
       "start_hour     0\n",
       "start_min      0\n",
       "start_sec      0\n",
       "end_hour       0\n",
       "end_min        0\n",
       "end_sec        0\n",
       "dtype: int64"
      ]
     },
     "execution_count": 36,
     "metadata": {},
     "output_type": "execute_result"
    }
   ],
   "source": [
    "## Check null values for train data\n",
    "data.isnull().sum()"
   ]
  },
  {
   "cell_type": "code",
   "execution_count": 37,
   "metadata": {},
   "outputs": [
    {
     "data": {
      "text/plain": [
       "session_id     0\n",
       "ProductList    0\n",
       "start_Y        0\n",
       "start_M        0\n",
       "start_D        0\n",
       "end_Y          0\n",
       "end_M          0\n",
       "end_D          0\n",
       "start_hour     0\n",
       "start_min      0\n",
       "start_sec      0\n",
       "end_hour       0\n",
       "end_min        0\n",
       "end_sec        0\n",
       "dtype: int64"
      ]
     },
     "execution_count": 37,
     "metadata": {},
     "output_type": "execute_result"
    }
   ],
   "source": [
    "## Check null values for test data\n",
    "test_data.isnull().sum()"
   ]
  },
  {
   "cell_type": "code",
   "execution_count": 38,
   "metadata": {},
   "outputs": [
    {
     "data": {
      "text/plain": [
       "'A00002/B00003/C00006/D28435/;A00002/B00003/C00006/D02554/;A00002/B00003/C00006/D28436/;A00002/B00003/C00006/D28437/'"
      ]
     },
     "execution_count": 38,
     "metadata": {},
     "output_type": "execute_result"
    }
   ],
   "source": [
    "## Get first item from product list column\n",
    "data['ProductList'][0]"
   ]
  },
  {
   "cell_type": "code",
   "execution_count": 39,
   "metadata": {},
   "outputs": [],
   "source": [
    "temp = data['ProductList'].str.split(';')"
   ]
  },
  {
   "cell_type": "code",
   "execution_count": 40,
   "metadata": {
    "scrolled": false
   },
   "outputs": [
    {
     "data": {
      "text/plain": [
       "['A00002/B00003/C00006/D28435/',\n",
       " 'A00002/B00003/C00006/D02554/',\n",
       " 'A00002/B00003/C00006/D28436/',\n",
       " 'A00002/B00003/C00006/D28437/']"
      ]
     },
     "execution_count": 40,
     "metadata": {},
     "output_type": "execute_result"
    }
   ],
   "source": [
    "temp[0]"
   ]
  },
  {
   "cell_type": "code",
   "execution_count": 41,
   "metadata": {},
   "outputs": [
    {
     "data": {
      "text/plain": [
       "10500"
      ]
     },
     "execution_count": 41,
     "metadata": {},
     "output_type": "execute_result"
    }
   ],
   "source": [
    "len(temp)"
   ]
  },
  {
   "cell_type": "code",
   "execution_count": 42,
   "metadata": {},
   "outputs": [
    {
     "data": {
      "text/plain": [
       "0    4\n",
       "1    7\n",
       "2    1\n",
       "3    3\n",
       "4    2\n",
       "Name: ProductList, dtype: int64"
      ]
     },
     "execution_count": 42,
     "metadata": {},
     "output_type": "execute_result"
    }
   ],
   "source": [
    "temp.apply(len)[:5]"
   ]
  },
  {
   "cell_type": "code",
   "execution_count": 43,
   "metadata": {
    "scrolled": true
   },
   "outputs": [
    {
     "data": {
      "text/plain": [
       "Int64Index([    0,     0,     0,     0,     1,     1,     1,     1,     1,\n",
       "                1,\n",
       "            ...\n",
       "            10495, 10495, 10496, 10497, 10498, 10498, 10499, 10499, 10499,\n",
       "            10499],\n",
       "           dtype='int64', length=23251)"
      ]
     },
     "execution_count": 43,
     "metadata": {},
     "output_type": "execute_result"
    }
   ],
   "source": [
    "data.index.repeat(temp.apply(len))"
   ]
  },
  {
   "cell_type": "code",
   "execution_count": 44,
   "metadata": {},
   "outputs": [
    {
     "data": {
      "text/html": [
       "<div>\n",
       "<style scoped>\n",
       "    .dataframe tbody tr th:only-of-type {\n",
       "        vertical-align: middle;\n",
       "    }\n",
       "\n",
       "    .dataframe tbody tr th {\n",
       "        vertical-align: top;\n",
       "    }\n",
       "\n",
       "    .dataframe thead th {\n",
       "        text-align: right;\n",
       "    }\n",
       "</style>\n",
       "<table border=\"1\" class=\"dataframe\">\n",
       "  <thead>\n",
       "    <tr style=\"text-align: right;\">\n",
       "      <th></th>\n",
       "      <th>session_id</th>\n",
       "      <th>ProductList</th>\n",
       "      <th>gender</th>\n",
       "      <th>start_Y</th>\n",
       "      <th>start_M</th>\n",
       "      <th>start_D</th>\n",
       "      <th>end_Y</th>\n",
       "      <th>end_M</th>\n",
       "      <th>end_D</th>\n",
       "      <th>start_hour</th>\n",
       "      <th>start_min</th>\n",
       "      <th>start_sec</th>\n",
       "      <th>end_hour</th>\n",
       "      <th>end_min</th>\n",
       "      <th>end_sec</th>\n",
       "    </tr>\n",
       "  </thead>\n",
       "  <tbody>\n",
       "    <tr>\n",
       "      <th>0</th>\n",
       "      <td>u16159</td>\n",
       "      <td>A00002/B00003/C00006/D28435/;A00002/B00003/C00...</td>\n",
       "      <td>female</td>\n",
       "      <td>2014</td>\n",
       "      <td>12</td>\n",
       "      <td>15</td>\n",
       "      <td>2014</td>\n",
       "      <td>12</td>\n",
       "      <td>15</td>\n",
       "      <td>18</td>\n",
       "      <td>11</td>\n",
       "      <td>0</td>\n",
       "      <td>18</td>\n",
       "      <td>12</td>\n",
       "      <td>0</td>\n",
       "    </tr>\n",
       "    <tr>\n",
       "      <th>0</th>\n",
       "      <td>u16159</td>\n",
       "      <td>A00002/B00003/C00006/D28435/;A00002/B00003/C00...</td>\n",
       "      <td>female</td>\n",
       "      <td>2014</td>\n",
       "      <td>12</td>\n",
       "      <td>15</td>\n",
       "      <td>2014</td>\n",
       "      <td>12</td>\n",
       "      <td>15</td>\n",
       "      <td>18</td>\n",
       "      <td>11</td>\n",
       "      <td>0</td>\n",
       "      <td>18</td>\n",
       "      <td>12</td>\n",
       "      <td>0</td>\n",
       "    </tr>\n",
       "    <tr>\n",
       "      <th>0</th>\n",
       "      <td>u16159</td>\n",
       "      <td>A00002/B00003/C00006/D28435/;A00002/B00003/C00...</td>\n",
       "      <td>female</td>\n",
       "      <td>2014</td>\n",
       "      <td>12</td>\n",
       "      <td>15</td>\n",
       "      <td>2014</td>\n",
       "      <td>12</td>\n",
       "      <td>15</td>\n",
       "      <td>18</td>\n",
       "      <td>11</td>\n",
       "      <td>0</td>\n",
       "      <td>18</td>\n",
       "      <td>12</td>\n",
       "      <td>0</td>\n",
       "    </tr>\n",
       "    <tr>\n",
       "      <th>0</th>\n",
       "      <td>u16159</td>\n",
       "      <td>A00002/B00003/C00006/D28435/;A00002/B00003/C00...</td>\n",
       "      <td>female</td>\n",
       "      <td>2014</td>\n",
       "      <td>12</td>\n",
       "      <td>15</td>\n",
       "      <td>2014</td>\n",
       "      <td>12</td>\n",
       "      <td>15</td>\n",
       "      <td>18</td>\n",
       "      <td>11</td>\n",
       "      <td>0</td>\n",
       "      <td>18</td>\n",
       "      <td>12</td>\n",
       "      <td>0</td>\n",
       "    </tr>\n",
       "    <tr>\n",
       "      <th>1</th>\n",
       "      <td>u10253</td>\n",
       "      <td>A00001/B00009/C00031/D29404/;A00001/B00009/C00...</td>\n",
       "      <td>male</td>\n",
       "      <td>2014</td>\n",
       "      <td>12</td>\n",
       "      <td>16</td>\n",
       "      <td>2014</td>\n",
       "      <td>12</td>\n",
       "      <td>16</td>\n",
       "      <td>14</td>\n",
       "      <td>35</td>\n",
       "      <td>0</td>\n",
       "      <td>14</td>\n",
       "      <td>41</td>\n",
       "      <td>0</td>\n",
       "    </tr>\n",
       "  </tbody>\n",
       "</table>\n",
       "</div>"
      ],
      "text/plain": [
       "  session_id                                        ProductList  gender  \\\n",
       "0     u16159  A00002/B00003/C00006/D28435/;A00002/B00003/C00...  female   \n",
       "0     u16159  A00002/B00003/C00006/D28435/;A00002/B00003/C00...  female   \n",
       "0     u16159  A00002/B00003/C00006/D28435/;A00002/B00003/C00...  female   \n",
       "0     u16159  A00002/B00003/C00006/D28435/;A00002/B00003/C00...  female   \n",
       "1     u10253  A00001/B00009/C00031/D29404/;A00001/B00009/C00...    male   \n",
       "\n",
       "   start_Y  start_M  start_D  end_Y  end_M  end_D  start_hour  start_min  \\\n",
       "0     2014       12       15   2014     12     15          18         11   \n",
       "0     2014       12       15   2014     12     15          18         11   \n",
       "0     2014       12       15   2014     12     15          18         11   \n",
       "0     2014       12       15   2014     12     15          18         11   \n",
       "1     2014       12       16   2014     12     16          14         35   \n",
       "\n",
       "   start_sec  end_hour  end_min  end_sec  \n",
       "0          0        18       12        0  \n",
       "0          0        18       12        0  \n",
       "0          0        18       12        0  \n",
       "0          0        18       12        0  \n",
       "1          0        14       41        0  "
      ]
     },
     "execution_count": 44,
     "metadata": {},
     "output_type": "execute_result"
    }
   ],
   "source": [
    "data.reindex(data.index.repeat(temp.apply(len))).head()"
   ]
  },
  {
   "cell_type": "code",
   "execution_count": 45,
   "metadata": {},
   "outputs": [
    {
     "data": {
      "text/plain": [
       "array(['A00002/B00003/C00006/D28435/', 'A00002/B00003/C00006/D02554/',\n",
       "       'A00002/B00003/C00006/D28436/', ...,\n",
       "       'A00002/B00002/C00002/D32450/', 'A00002/B00001/C00059/D21254/',\n",
       "       'A00003/B00004/C00089/D18619/'], dtype='<U28')"
      ]
     },
     "execution_count": 45,
     "metadata": {},
     "output_type": "execute_result"
    }
   ],
   "source": [
    "np.hstack(temp)"
   ]
  },
  {
   "cell_type": "code",
   "execution_count": 46,
   "metadata": {},
   "outputs": [],
   "source": [
    "## The products list are separated by semi-colon. We can split each product into a new row(for Train data)\n",
    "\n",
    "temp = data['ProductList'].str.split(';') ## It splits each record with semocolon separator and forms a 1D array \n",
    "\n",
    "## temp.apply(len) ---> Invoke function on values of Series.\n",
    "## Can be ufunc (a NumPy function that applies to the entire Series)\n",
    "## or a Python function that only works on single values.\n",
    "\n",
    "## data.index.repeat(temp.apply(len)) ---> Returns a new Index where each element of the current Index\n",
    "## is repeated consecutively a given number of times.\n",
    "data = data.reindex(data.index.repeat(temp.apply(len))) ## Conform DataFrame to new index with optional filling logic, placing\n",
    "                                                        ## NA/NaN in locations having no value in the previous index. A new object\n",
    "                                                        ## is produced unless the new index is equivalent to the current one \n",
    "data['product_data'] = np.hstack(temp) ## tack arrays in sequence horizontally (column wise)."
   ]
  },
  {
   "cell_type": "code",
   "execution_count": 47,
   "metadata": {},
   "outputs": [],
   "source": [
    "## The products list are separated by semi-colon. We can split each product into a new row(for Test data)\n",
    "temp = test_data['ProductList'].str.split(';')\n",
    "test_data = test_data.reindex(test_data.index.repeat(temp.apply(len)))\n",
    "test_data['product_data'] = np.hstack(temp)"
   ]
  },
  {
   "cell_type": "code",
   "execution_count": 48,
   "metadata": {
    "scrolled": true
   },
   "outputs": [
    {
     "data": {
      "text/html": [
       "<div>\n",
       "<style scoped>\n",
       "    .dataframe tbody tr th:only-of-type {\n",
       "        vertical-align: middle;\n",
       "    }\n",
       "\n",
       "    .dataframe tbody tr th {\n",
       "        vertical-align: top;\n",
       "    }\n",
       "\n",
       "    .dataframe thead th {\n",
       "        text-align: right;\n",
       "    }\n",
       "</style>\n",
       "<table border=\"1\" class=\"dataframe\">\n",
       "  <thead>\n",
       "    <tr style=\"text-align: right;\">\n",
       "      <th></th>\n",
       "      <th>session_id</th>\n",
       "      <th>ProductList</th>\n",
       "      <th>gender</th>\n",
       "      <th>start_Y</th>\n",
       "      <th>start_M</th>\n",
       "      <th>start_D</th>\n",
       "      <th>end_Y</th>\n",
       "      <th>end_M</th>\n",
       "      <th>end_D</th>\n",
       "      <th>start_hour</th>\n",
       "      <th>start_min</th>\n",
       "      <th>start_sec</th>\n",
       "      <th>end_hour</th>\n",
       "      <th>end_min</th>\n",
       "      <th>end_sec</th>\n",
       "      <th>product_data</th>\n",
       "    </tr>\n",
       "  </thead>\n",
       "  <tbody>\n",
       "    <tr>\n",
       "      <th>0</th>\n",
       "      <td>u16159</td>\n",
       "      <td>A00002/B00003/C00006/D28435/;A00002/B00003/C00...</td>\n",
       "      <td>female</td>\n",
       "      <td>2014</td>\n",
       "      <td>12</td>\n",
       "      <td>15</td>\n",
       "      <td>2014</td>\n",
       "      <td>12</td>\n",
       "      <td>15</td>\n",
       "      <td>18</td>\n",
       "      <td>11</td>\n",
       "      <td>0</td>\n",
       "      <td>18</td>\n",
       "      <td>12</td>\n",
       "      <td>0</td>\n",
       "      <td>A00002/B00003/C00006/D28435/</td>\n",
       "    </tr>\n",
       "    <tr>\n",
       "      <th>0</th>\n",
       "      <td>u16159</td>\n",
       "      <td>A00002/B00003/C00006/D28435/;A00002/B00003/C00...</td>\n",
       "      <td>female</td>\n",
       "      <td>2014</td>\n",
       "      <td>12</td>\n",
       "      <td>15</td>\n",
       "      <td>2014</td>\n",
       "      <td>12</td>\n",
       "      <td>15</td>\n",
       "      <td>18</td>\n",
       "      <td>11</td>\n",
       "      <td>0</td>\n",
       "      <td>18</td>\n",
       "      <td>12</td>\n",
       "      <td>0</td>\n",
       "      <td>A00002/B00003/C00006/D02554/</td>\n",
       "    </tr>\n",
       "    <tr>\n",
       "      <th>0</th>\n",
       "      <td>u16159</td>\n",
       "      <td>A00002/B00003/C00006/D28435/;A00002/B00003/C00...</td>\n",
       "      <td>female</td>\n",
       "      <td>2014</td>\n",
       "      <td>12</td>\n",
       "      <td>15</td>\n",
       "      <td>2014</td>\n",
       "      <td>12</td>\n",
       "      <td>15</td>\n",
       "      <td>18</td>\n",
       "      <td>11</td>\n",
       "      <td>0</td>\n",
       "      <td>18</td>\n",
       "      <td>12</td>\n",
       "      <td>0</td>\n",
       "      <td>A00002/B00003/C00006/D28436/</td>\n",
       "    </tr>\n",
       "    <tr>\n",
       "      <th>0</th>\n",
       "      <td>u16159</td>\n",
       "      <td>A00002/B00003/C00006/D28435/;A00002/B00003/C00...</td>\n",
       "      <td>female</td>\n",
       "      <td>2014</td>\n",
       "      <td>12</td>\n",
       "      <td>15</td>\n",
       "      <td>2014</td>\n",
       "      <td>12</td>\n",
       "      <td>15</td>\n",
       "      <td>18</td>\n",
       "      <td>11</td>\n",
       "      <td>0</td>\n",
       "      <td>18</td>\n",
       "      <td>12</td>\n",
       "      <td>0</td>\n",
       "      <td>A00002/B00003/C00006/D28437/</td>\n",
       "    </tr>\n",
       "    <tr>\n",
       "      <th>1</th>\n",
       "      <td>u10253</td>\n",
       "      <td>A00001/B00009/C00031/D29404/;A00001/B00009/C00...</td>\n",
       "      <td>male</td>\n",
       "      <td>2014</td>\n",
       "      <td>12</td>\n",
       "      <td>16</td>\n",
       "      <td>2014</td>\n",
       "      <td>12</td>\n",
       "      <td>16</td>\n",
       "      <td>14</td>\n",
       "      <td>35</td>\n",
       "      <td>0</td>\n",
       "      <td>14</td>\n",
       "      <td>41</td>\n",
       "      <td>0</td>\n",
       "      <td>A00001/B00009/C00031/D29404/</td>\n",
       "    </tr>\n",
       "  </tbody>\n",
       "</table>\n",
       "</div>"
      ],
      "text/plain": [
       "  session_id                                        ProductList  gender  \\\n",
       "0     u16159  A00002/B00003/C00006/D28435/;A00002/B00003/C00...  female   \n",
       "0     u16159  A00002/B00003/C00006/D28435/;A00002/B00003/C00...  female   \n",
       "0     u16159  A00002/B00003/C00006/D28435/;A00002/B00003/C00...  female   \n",
       "0     u16159  A00002/B00003/C00006/D28435/;A00002/B00003/C00...  female   \n",
       "1     u10253  A00001/B00009/C00031/D29404/;A00001/B00009/C00...    male   \n",
       "\n",
       "   start_Y  start_M  start_D  end_Y  end_M  end_D  start_hour  start_min  \\\n",
       "0     2014       12       15   2014     12     15          18         11   \n",
       "0     2014       12       15   2014     12     15          18         11   \n",
       "0     2014       12       15   2014     12     15          18         11   \n",
       "0     2014       12       15   2014     12     15          18         11   \n",
       "1     2014       12       16   2014     12     16          14         35   \n",
       "\n",
       "   start_sec  end_hour  end_min  end_sec                  product_data  \n",
       "0          0        18       12        0  A00002/B00003/C00006/D28435/  \n",
       "0          0        18       12        0  A00002/B00003/C00006/D02554/  \n",
       "0          0        18       12        0  A00002/B00003/C00006/D28436/  \n",
       "0          0        18       12        0  A00002/B00003/C00006/D28437/  \n",
       "1          0        14       41        0  A00001/B00009/C00031/D29404/  "
      ]
     },
     "execution_count": 48,
     "metadata": {},
     "output_type": "execute_result"
    }
   ],
   "source": [
    "## Check first 5 records after adding product_data column for train data\n",
    "data.head()"
   ]
  },
  {
   "cell_type": "code",
   "execution_count": 49,
   "metadata": {},
   "outputs": [
    {
     "data": {
      "text/html": [
       "<div>\n",
       "<style scoped>\n",
       "    .dataframe tbody tr th:only-of-type {\n",
       "        vertical-align: middle;\n",
       "    }\n",
       "\n",
       "    .dataframe tbody tr th {\n",
       "        vertical-align: top;\n",
       "    }\n",
       "\n",
       "    .dataframe thead th {\n",
       "        text-align: right;\n",
       "    }\n",
       "</style>\n",
       "<table border=\"1\" class=\"dataframe\">\n",
       "  <thead>\n",
       "    <tr style=\"text-align: right;\">\n",
       "      <th></th>\n",
       "      <th>session_id</th>\n",
       "      <th>ProductList</th>\n",
       "      <th>start_Y</th>\n",
       "      <th>start_M</th>\n",
       "      <th>start_D</th>\n",
       "      <th>end_Y</th>\n",
       "      <th>end_M</th>\n",
       "      <th>end_D</th>\n",
       "      <th>start_hour</th>\n",
       "      <th>start_min</th>\n",
       "      <th>start_sec</th>\n",
       "      <th>end_hour</th>\n",
       "      <th>end_min</th>\n",
       "      <th>end_sec</th>\n",
       "      <th>product_data</th>\n",
       "    </tr>\n",
       "  </thead>\n",
       "  <tbody>\n",
       "    <tr>\n",
       "      <th>0</th>\n",
       "      <td>u12112</td>\n",
       "      <td>A00002/B00003/C00006/D19956/</td>\n",
       "      <td>2014</td>\n",
       "      <td>8</td>\n",
       "      <td>12</td>\n",
       "      <td>2014</td>\n",
       "      <td>8</td>\n",
       "      <td>12</td>\n",
       "      <td>13</td>\n",
       "      <td>36</td>\n",
       "      <td>0</td>\n",
       "      <td>13</td>\n",
       "      <td>36</td>\n",
       "      <td>0</td>\n",
       "      <td>A00002/B00003/C00006/D19956/</td>\n",
       "    </tr>\n",
       "    <tr>\n",
       "      <th>1</th>\n",
       "      <td>u19725</td>\n",
       "      <td>A00002/B00005/C00067/D02026/</td>\n",
       "      <td>2014</td>\n",
       "      <td>12</td>\n",
       "      <td>19</td>\n",
       "      <td>2014</td>\n",
       "      <td>12</td>\n",
       "      <td>19</td>\n",
       "      <td>13</td>\n",
       "      <td>52</td>\n",
       "      <td>0</td>\n",
       "      <td>13</td>\n",
       "      <td>52</td>\n",
       "      <td>0</td>\n",
       "      <td>A00002/B00005/C00067/D02026/</td>\n",
       "    </tr>\n",
       "    <tr>\n",
       "      <th>2</th>\n",
       "      <td>u11795</td>\n",
       "      <td>A00002/B00002/C00004/D12538/</td>\n",
       "      <td>2014</td>\n",
       "      <td>1</td>\n",
       "      <td>12</td>\n",
       "      <td>2014</td>\n",
       "      <td>1</td>\n",
       "      <td>12</td>\n",
       "      <td>10</td>\n",
       "      <td>44</td>\n",
       "      <td>0</td>\n",
       "      <td>10</td>\n",
       "      <td>44</td>\n",
       "      <td>0</td>\n",
       "      <td>A00002/B00002/C00004/D12538/</td>\n",
       "    </tr>\n",
       "    <tr>\n",
       "      <th>3</th>\n",
       "      <td>u22639</td>\n",
       "      <td>A00002/B00003/C00079/D22781/;A00002/B00003/C00...</td>\n",
       "      <td>2014</td>\n",
       "      <td>8</td>\n",
       "      <td>12</td>\n",
       "      <td>2014</td>\n",
       "      <td>8</td>\n",
       "      <td>12</td>\n",
       "      <td>20</td>\n",
       "      <td>19</td>\n",
       "      <td>0</td>\n",
       "      <td>20</td>\n",
       "      <td>22</td>\n",
       "      <td>0</td>\n",
       "      <td>A00002/B00003/C00079/D22781/</td>\n",
       "    </tr>\n",
       "    <tr>\n",
       "      <th>3</th>\n",
       "      <td>u22639</td>\n",
       "      <td>A00002/B00003/C00079/D22781/;A00002/B00003/C00...</td>\n",
       "      <td>2014</td>\n",
       "      <td>8</td>\n",
       "      <td>12</td>\n",
       "      <td>2014</td>\n",
       "      <td>8</td>\n",
       "      <td>12</td>\n",
       "      <td>20</td>\n",
       "      <td>19</td>\n",
       "      <td>0</td>\n",
       "      <td>20</td>\n",
       "      <td>22</td>\n",
       "      <td>0</td>\n",
       "      <td>A00002/B00003/C00079/D22782/</td>\n",
       "    </tr>\n",
       "  </tbody>\n",
       "</table>\n",
       "</div>"
      ],
      "text/plain": [
       "  session_id                                        ProductList  start_Y  \\\n",
       "0     u12112                       A00002/B00003/C00006/D19956/     2014   \n",
       "1     u19725                       A00002/B00005/C00067/D02026/     2014   \n",
       "2     u11795                       A00002/B00002/C00004/D12538/     2014   \n",
       "3     u22639  A00002/B00003/C00079/D22781/;A00002/B00003/C00...     2014   \n",
       "3     u22639  A00002/B00003/C00079/D22781/;A00002/B00003/C00...     2014   \n",
       "\n",
       "   start_M  start_D  end_Y  end_M  end_D  start_hour  start_min  start_sec  \\\n",
       "0        8       12   2014      8     12          13         36          0   \n",
       "1       12       19   2014     12     19          13         52          0   \n",
       "2        1       12   2014      1     12          10         44          0   \n",
       "3        8       12   2014      8     12          20         19          0   \n",
       "3        8       12   2014      8     12          20         19          0   \n",
       "\n",
       "   end_hour  end_min  end_sec                  product_data  \n",
       "0        13       36        0  A00002/B00003/C00006/D19956/  \n",
       "1        13       52        0  A00002/B00005/C00067/D02026/  \n",
       "2        10       44        0  A00002/B00002/C00004/D12538/  \n",
       "3        20       22        0  A00002/B00003/C00079/D22781/  \n",
       "3        20       22        0  A00002/B00003/C00079/D22782/  "
      ]
     },
     "execution_count": 49,
     "metadata": {},
     "output_type": "execute_result"
    }
   ],
   "source": [
    "## Check first 5 records after adding product_data column for test data\n",
    "test_data.head()"
   ]
  },
  {
   "cell_type": "code",
   "execution_count": 50,
   "metadata": {
    "scrolled": true
   },
   "outputs": [
    {
     "data": {
      "text/html": [
       "<div>\n",
       "<style scoped>\n",
       "    .dataframe tbody tr th:only-of-type {\n",
       "        vertical-align: middle;\n",
       "    }\n",
       "\n",
       "    .dataframe tbody tr th {\n",
       "        vertical-align: top;\n",
       "    }\n",
       "\n",
       "    .dataframe thead th {\n",
       "        text-align: right;\n",
       "    }\n",
       "</style>\n",
       "<table border=\"1\" class=\"dataframe\">\n",
       "  <thead>\n",
       "    <tr style=\"text-align: right;\">\n",
       "      <th></th>\n",
       "      <th>session_id</th>\n",
       "      <th>ProductList</th>\n",
       "      <th>gender</th>\n",
       "      <th>start_Y</th>\n",
       "      <th>start_M</th>\n",
       "      <th>start_D</th>\n",
       "      <th>end_Y</th>\n",
       "      <th>end_M</th>\n",
       "      <th>end_D</th>\n",
       "      <th>start_hour</th>\n",
       "      <th>start_min</th>\n",
       "      <th>start_sec</th>\n",
       "      <th>end_hour</th>\n",
       "      <th>end_min</th>\n",
       "      <th>end_sec</th>\n",
       "      <th>product_data</th>\n",
       "    </tr>\n",
       "  </thead>\n",
       "  <tbody>\n",
       "    <tr>\n",
       "      <th>10498</th>\n",
       "      <td>u17087</td>\n",
       "      <td>A00003/B00012/C00131/D09453/;A00003/B00012/C00...</td>\n",
       "      <td>female</td>\n",
       "      <td>2014</td>\n",
       "      <td>11</td>\n",
       "      <td>22</td>\n",
       "      <td>2014</td>\n",
       "      <td>11</td>\n",
       "      <td>22</td>\n",
       "      <td>11</td>\n",
       "      <td>27</td>\n",
       "      <td>0</td>\n",
       "      <td>11</td>\n",
       "      <td>27</td>\n",
       "      <td>0</td>\n",
       "      <td>A00003/B00012/C00073/D09454/</td>\n",
       "    </tr>\n",
       "    <tr>\n",
       "      <th>10499</th>\n",
       "      <td>u23137</td>\n",
       "      <td>A00002/B00001/C00010/D02309/;A00002/B00002/C00...</td>\n",
       "      <td>female</td>\n",
       "      <td>2014</td>\n",
       "      <td>12</td>\n",
       "      <td>19</td>\n",
       "      <td>2014</td>\n",
       "      <td>12</td>\n",
       "      <td>19</td>\n",
       "      <td>3</td>\n",
       "      <td>11</td>\n",
       "      <td>0</td>\n",
       "      <td>3</td>\n",
       "      <td>19</td>\n",
       "      <td>0</td>\n",
       "      <td>A00002/B00001/C00010/D02309/</td>\n",
       "    </tr>\n",
       "    <tr>\n",
       "      <th>10499</th>\n",
       "      <td>u23137</td>\n",
       "      <td>A00002/B00001/C00010/D02309/;A00002/B00002/C00...</td>\n",
       "      <td>female</td>\n",
       "      <td>2014</td>\n",
       "      <td>12</td>\n",
       "      <td>19</td>\n",
       "      <td>2014</td>\n",
       "      <td>12</td>\n",
       "      <td>19</td>\n",
       "      <td>3</td>\n",
       "      <td>11</td>\n",
       "      <td>0</td>\n",
       "      <td>3</td>\n",
       "      <td>19</td>\n",
       "      <td>0</td>\n",
       "      <td>A00002/B00002/C00002/D32450/</td>\n",
       "    </tr>\n",
       "    <tr>\n",
       "      <th>10499</th>\n",
       "      <td>u23137</td>\n",
       "      <td>A00002/B00001/C00010/D02309/;A00002/B00002/C00...</td>\n",
       "      <td>female</td>\n",
       "      <td>2014</td>\n",
       "      <td>12</td>\n",
       "      <td>19</td>\n",
       "      <td>2014</td>\n",
       "      <td>12</td>\n",
       "      <td>19</td>\n",
       "      <td>3</td>\n",
       "      <td>11</td>\n",
       "      <td>0</td>\n",
       "      <td>3</td>\n",
       "      <td>19</td>\n",
       "      <td>0</td>\n",
       "      <td>A00002/B00001/C00059/D21254/</td>\n",
       "    </tr>\n",
       "    <tr>\n",
       "      <th>10499</th>\n",
       "      <td>u23137</td>\n",
       "      <td>A00002/B00001/C00010/D02309/;A00002/B00002/C00...</td>\n",
       "      <td>female</td>\n",
       "      <td>2014</td>\n",
       "      <td>12</td>\n",
       "      <td>19</td>\n",
       "      <td>2014</td>\n",
       "      <td>12</td>\n",
       "      <td>19</td>\n",
       "      <td>3</td>\n",
       "      <td>11</td>\n",
       "      <td>0</td>\n",
       "      <td>3</td>\n",
       "      <td>19</td>\n",
       "      <td>0</td>\n",
       "      <td>A00003/B00004/C00089/D18619/</td>\n",
       "    </tr>\n",
       "  </tbody>\n",
       "</table>\n",
       "</div>"
      ],
      "text/plain": [
       "      session_id                                        ProductList  gender  \\\n",
       "10498     u17087  A00003/B00012/C00131/D09453/;A00003/B00012/C00...  female   \n",
       "10499     u23137  A00002/B00001/C00010/D02309/;A00002/B00002/C00...  female   \n",
       "10499     u23137  A00002/B00001/C00010/D02309/;A00002/B00002/C00...  female   \n",
       "10499     u23137  A00002/B00001/C00010/D02309/;A00002/B00002/C00...  female   \n",
       "10499     u23137  A00002/B00001/C00010/D02309/;A00002/B00002/C00...  female   \n",
       "\n",
       "       start_Y  start_M  start_D  end_Y  end_M  end_D  start_hour  start_min  \\\n",
       "10498     2014       11       22   2014     11     22          11         27   \n",
       "10499     2014       12       19   2014     12     19           3         11   \n",
       "10499     2014       12       19   2014     12     19           3         11   \n",
       "10499     2014       12       19   2014     12     19           3         11   \n",
       "10499     2014       12       19   2014     12     19           3         11   \n",
       "\n",
       "       start_sec  end_hour  end_min  end_sec                  product_data  \n",
       "10498          0        11       27        0  A00003/B00012/C00073/D09454/  \n",
       "10499          0         3       19        0  A00002/B00001/C00010/D02309/  \n",
       "10499          0         3       19        0  A00002/B00002/C00002/D32450/  \n",
       "10499          0         3       19        0  A00002/B00001/C00059/D21254/  \n",
       "10499          0         3       19        0  A00003/B00004/C00089/D18619/  "
      ]
     },
     "execution_count": 50,
     "metadata": {},
     "output_type": "execute_result"
    }
   ],
   "source": [
    "## Check last 5 records after adding product_data column for train data\n",
    "data.tail()"
   ]
  },
  {
   "cell_type": "code",
   "execution_count": 51,
   "metadata": {},
   "outputs": [
    {
     "data": {
      "text/html": [
       "<div>\n",
       "<style scoped>\n",
       "    .dataframe tbody tr th:only-of-type {\n",
       "        vertical-align: middle;\n",
       "    }\n",
       "\n",
       "    .dataframe tbody tr th {\n",
       "        vertical-align: top;\n",
       "    }\n",
       "\n",
       "    .dataframe thead th {\n",
       "        text-align: right;\n",
       "    }\n",
       "</style>\n",
       "<table border=\"1\" class=\"dataframe\">\n",
       "  <thead>\n",
       "    <tr style=\"text-align: right;\">\n",
       "      <th></th>\n",
       "      <th>session_id</th>\n",
       "      <th>ProductList</th>\n",
       "      <th>start_Y</th>\n",
       "      <th>start_M</th>\n",
       "      <th>start_D</th>\n",
       "      <th>end_Y</th>\n",
       "      <th>end_M</th>\n",
       "      <th>end_D</th>\n",
       "      <th>start_hour</th>\n",
       "      <th>start_min</th>\n",
       "      <th>start_sec</th>\n",
       "      <th>end_hour</th>\n",
       "      <th>end_min</th>\n",
       "      <th>end_sec</th>\n",
       "      <th>product_data</th>\n",
       "    </tr>\n",
       "  </thead>\n",
       "  <tbody>\n",
       "    <tr>\n",
       "      <th>4497</th>\n",
       "      <td>u13253</td>\n",
       "      <td>A00002/B00007/C00098/D03350/;A00002/B00007/C00...</td>\n",
       "      <td>2014</td>\n",
       "      <td>11</td>\n",
       "      <td>15</td>\n",
       "      <td>2014</td>\n",
       "      <td>11</td>\n",
       "      <td>15</td>\n",
       "      <td>21</td>\n",
       "      <td>38</td>\n",
       "      <td>0</td>\n",
       "      <td>21</td>\n",
       "      <td>46</td>\n",
       "      <td>0</td>\n",
       "      <td>A00002/B00007/C00041/D03362/</td>\n",
       "    </tr>\n",
       "    <tr>\n",
       "      <th>4497</th>\n",
       "      <td>u13253</td>\n",
       "      <td>A00002/B00007/C00098/D03350/;A00002/B00007/C00...</td>\n",
       "      <td>2014</td>\n",
       "      <td>11</td>\n",
       "      <td>15</td>\n",
       "      <td>2014</td>\n",
       "      <td>11</td>\n",
       "      <td>15</td>\n",
       "      <td>21</td>\n",
       "      <td>38</td>\n",
       "      <td>0</td>\n",
       "      <td>21</td>\n",
       "      <td>46</td>\n",
       "      <td>0</td>\n",
       "      <td>A00002/B00007/C00041/D03364/</td>\n",
       "    </tr>\n",
       "    <tr>\n",
       "      <th>4498</th>\n",
       "      <td>u17094</td>\n",
       "      <td>A00001/B00031/C00044/D09604/</td>\n",
       "      <td>2014</td>\n",
       "      <td>12</td>\n",
       "      <td>17</td>\n",
       "      <td>2014</td>\n",
       "      <td>12</td>\n",
       "      <td>17</td>\n",
       "      <td>8</td>\n",
       "      <td>51</td>\n",
       "      <td>0</td>\n",
       "      <td>8</td>\n",
       "      <td>51</td>\n",
       "      <td>0</td>\n",
       "      <td>A00001/B00031/C00044/D09604/</td>\n",
       "    </tr>\n",
       "    <tr>\n",
       "      <th>4499</th>\n",
       "      <td>u24310</td>\n",
       "      <td>A00002/B00002/C00003/D20004/;A00002/B00002/C00...</td>\n",
       "      <td>2014</td>\n",
       "      <td>12</td>\n",
       "      <td>17</td>\n",
       "      <td>2014</td>\n",
       "      <td>12</td>\n",
       "      <td>17</td>\n",
       "      <td>17</td>\n",
       "      <td>25</td>\n",
       "      <td>0</td>\n",
       "      <td>17</td>\n",
       "      <td>26</td>\n",
       "      <td>0</td>\n",
       "      <td>A00002/B00002/C00003/D20004/</td>\n",
       "    </tr>\n",
       "    <tr>\n",
       "      <th>4499</th>\n",
       "      <td>u24310</td>\n",
       "      <td>A00002/B00002/C00003/D20004/;A00002/B00002/C00...</td>\n",
       "      <td>2014</td>\n",
       "      <td>12</td>\n",
       "      <td>17</td>\n",
       "      <td>2014</td>\n",
       "      <td>12</td>\n",
       "      <td>17</td>\n",
       "      <td>17</td>\n",
       "      <td>25</td>\n",
       "      <td>0</td>\n",
       "      <td>17</td>\n",
       "      <td>26</td>\n",
       "      <td>0</td>\n",
       "      <td>A00002/B00002/C00007/D27733/</td>\n",
       "    </tr>\n",
       "  </tbody>\n",
       "</table>\n",
       "</div>"
      ],
      "text/plain": [
       "     session_id                                        ProductList  start_Y  \\\n",
       "4497     u13253  A00002/B00007/C00098/D03350/;A00002/B00007/C00...     2014   \n",
       "4497     u13253  A00002/B00007/C00098/D03350/;A00002/B00007/C00...     2014   \n",
       "4498     u17094                       A00001/B00031/C00044/D09604/     2014   \n",
       "4499     u24310  A00002/B00002/C00003/D20004/;A00002/B00002/C00...     2014   \n",
       "4499     u24310  A00002/B00002/C00003/D20004/;A00002/B00002/C00...     2014   \n",
       "\n",
       "      start_M  start_D  end_Y  end_M  end_D  start_hour  start_min  start_sec  \\\n",
       "4497       11       15   2014     11     15          21         38          0   \n",
       "4497       11       15   2014     11     15          21         38          0   \n",
       "4498       12       17   2014     12     17           8         51          0   \n",
       "4499       12       17   2014     12     17          17         25          0   \n",
       "4499       12       17   2014     12     17          17         25          0   \n",
       "\n",
       "      end_hour  end_min  end_sec                  product_data  \n",
       "4497        21       46        0  A00002/B00007/C00041/D03362/  \n",
       "4497        21       46        0  A00002/B00007/C00041/D03364/  \n",
       "4498         8       51        0  A00001/B00031/C00044/D09604/  \n",
       "4499        17       26        0  A00002/B00002/C00003/D20004/  \n",
       "4499        17       26        0  A00002/B00002/C00007/D27733/  "
      ]
     },
     "execution_count": 51,
     "metadata": {},
     "output_type": "execute_result"
    }
   ],
   "source": [
    "## Check last 5 records after adding product_data column for test data\n",
    "test_data.tail()"
   ]
  },
  {
   "cell_type": "code",
   "execution_count": 52,
   "metadata": {},
   "outputs": [],
   "source": [
    "## The product data is separated by forward slash as follows: category id, sub category id, sub sub category id and product id.\n",
    "## We can split this data into 4 columns and drop ProductList, product_data after extarcting features(for train data)\n",
    "\n",
    "data['category'] = data['product_data'].str.split('/').str[0]\n",
    "data['sub_category'] = data['product_data'].str.split('/').str[1]\n",
    "data['sub_sub_category'] = data['product_data'].str.split('/').str[2]\n",
    "data['product'] = data['product_data'].str.split('/').str[3]\n",
    "\n",
    "data.drop(['ProductList', 'product_data'], axis=1, inplace=True)"
   ]
  },
  {
   "cell_type": "code",
   "execution_count": 53,
   "metadata": {},
   "outputs": [],
   "source": [
    "## The product data is separated by forward slash as follows: category id, sub category id, sub sub category id and product id.\n",
    "## We can split this data into 4 columns and drop ProductList, product_data after extarcting features(for test data)\n",
    "test_data['category'] = test_data['product_data'].str.split('/').str[0]\n",
    "test_data['sub_category'] = test_data['product_data'].str.split('/').str[1]\n",
    "test_data['sub_sub_category'] = test_data['product_data'].str.split('/').str[2]\n",
    "test_data['product'] = test_data['product_data'].str.split('/').str[3]\n",
    "\n",
    "test_data.drop(['ProductList', 'product_data'], axis=1, inplace=True)"
   ]
  },
  {
   "cell_type": "code",
   "execution_count": 54,
   "metadata": {
    "scrolled": true
   },
   "outputs": [
    {
     "data": {
      "text/html": [
       "<div>\n",
       "<style scoped>\n",
       "    .dataframe tbody tr th:only-of-type {\n",
       "        vertical-align: middle;\n",
       "    }\n",
       "\n",
       "    .dataframe tbody tr th {\n",
       "        vertical-align: top;\n",
       "    }\n",
       "\n",
       "    .dataframe thead th {\n",
       "        text-align: right;\n",
       "    }\n",
       "</style>\n",
       "<table border=\"1\" class=\"dataframe\">\n",
       "  <thead>\n",
       "    <tr style=\"text-align: right;\">\n",
       "      <th></th>\n",
       "      <th>session_id</th>\n",
       "      <th>gender</th>\n",
       "      <th>start_Y</th>\n",
       "      <th>start_M</th>\n",
       "      <th>start_D</th>\n",
       "      <th>end_Y</th>\n",
       "      <th>end_M</th>\n",
       "      <th>end_D</th>\n",
       "      <th>start_hour</th>\n",
       "      <th>start_min</th>\n",
       "      <th>start_sec</th>\n",
       "      <th>end_hour</th>\n",
       "      <th>end_min</th>\n",
       "      <th>end_sec</th>\n",
       "      <th>category</th>\n",
       "      <th>sub_category</th>\n",
       "      <th>sub_sub_category</th>\n",
       "      <th>product</th>\n",
       "    </tr>\n",
       "  </thead>\n",
       "  <tbody>\n",
       "    <tr>\n",
       "      <th>0</th>\n",
       "      <td>u16159</td>\n",
       "      <td>female</td>\n",
       "      <td>2014</td>\n",
       "      <td>12</td>\n",
       "      <td>15</td>\n",
       "      <td>2014</td>\n",
       "      <td>12</td>\n",
       "      <td>15</td>\n",
       "      <td>18</td>\n",
       "      <td>11</td>\n",
       "      <td>0</td>\n",
       "      <td>18</td>\n",
       "      <td>12</td>\n",
       "      <td>0</td>\n",
       "      <td>A00002</td>\n",
       "      <td>B00003</td>\n",
       "      <td>C00006</td>\n",
       "      <td>D28435</td>\n",
       "    </tr>\n",
       "    <tr>\n",
       "      <th>0</th>\n",
       "      <td>u16159</td>\n",
       "      <td>female</td>\n",
       "      <td>2014</td>\n",
       "      <td>12</td>\n",
       "      <td>15</td>\n",
       "      <td>2014</td>\n",
       "      <td>12</td>\n",
       "      <td>15</td>\n",
       "      <td>18</td>\n",
       "      <td>11</td>\n",
       "      <td>0</td>\n",
       "      <td>18</td>\n",
       "      <td>12</td>\n",
       "      <td>0</td>\n",
       "      <td>A00002</td>\n",
       "      <td>B00003</td>\n",
       "      <td>C00006</td>\n",
       "      <td>D02554</td>\n",
       "    </tr>\n",
       "    <tr>\n",
       "      <th>0</th>\n",
       "      <td>u16159</td>\n",
       "      <td>female</td>\n",
       "      <td>2014</td>\n",
       "      <td>12</td>\n",
       "      <td>15</td>\n",
       "      <td>2014</td>\n",
       "      <td>12</td>\n",
       "      <td>15</td>\n",
       "      <td>18</td>\n",
       "      <td>11</td>\n",
       "      <td>0</td>\n",
       "      <td>18</td>\n",
       "      <td>12</td>\n",
       "      <td>0</td>\n",
       "      <td>A00002</td>\n",
       "      <td>B00003</td>\n",
       "      <td>C00006</td>\n",
       "      <td>D28436</td>\n",
       "    </tr>\n",
       "    <tr>\n",
       "      <th>0</th>\n",
       "      <td>u16159</td>\n",
       "      <td>female</td>\n",
       "      <td>2014</td>\n",
       "      <td>12</td>\n",
       "      <td>15</td>\n",
       "      <td>2014</td>\n",
       "      <td>12</td>\n",
       "      <td>15</td>\n",
       "      <td>18</td>\n",
       "      <td>11</td>\n",
       "      <td>0</td>\n",
       "      <td>18</td>\n",
       "      <td>12</td>\n",
       "      <td>0</td>\n",
       "      <td>A00002</td>\n",
       "      <td>B00003</td>\n",
       "      <td>C00006</td>\n",
       "      <td>D28437</td>\n",
       "    </tr>\n",
       "    <tr>\n",
       "      <th>1</th>\n",
       "      <td>u10253</td>\n",
       "      <td>male</td>\n",
       "      <td>2014</td>\n",
       "      <td>12</td>\n",
       "      <td>16</td>\n",
       "      <td>2014</td>\n",
       "      <td>12</td>\n",
       "      <td>16</td>\n",
       "      <td>14</td>\n",
       "      <td>35</td>\n",
       "      <td>0</td>\n",
       "      <td>14</td>\n",
       "      <td>41</td>\n",
       "      <td>0</td>\n",
       "      <td>A00001</td>\n",
       "      <td>B00009</td>\n",
       "      <td>C00031</td>\n",
       "      <td>D29404</td>\n",
       "    </tr>\n",
       "  </tbody>\n",
       "</table>\n",
       "</div>"
      ],
      "text/plain": [
       "  session_id  gender  start_Y  start_M  start_D  end_Y  end_M  end_D  \\\n",
       "0     u16159  female     2014       12       15   2014     12     15   \n",
       "0     u16159  female     2014       12       15   2014     12     15   \n",
       "0     u16159  female     2014       12       15   2014     12     15   \n",
       "0     u16159  female     2014       12       15   2014     12     15   \n",
       "1     u10253    male     2014       12       16   2014     12     16   \n",
       "\n",
       "   start_hour  start_min  start_sec  end_hour  end_min  end_sec category  \\\n",
       "0          18         11          0        18       12        0   A00002   \n",
       "0          18         11          0        18       12        0   A00002   \n",
       "0          18         11          0        18       12        0   A00002   \n",
       "0          18         11          0        18       12        0   A00002   \n",
       "1          14         35          0        14       41        0   A00001   \n",
       "\n",
       "  sub_category sub_sub_category product  \n",
       "0       B00003           C00006  D28435  \n",
       "0       B00003           C00006  D02554  \n",
       "0       B00003           C00006  D28436  \n",
       "0       B00003           C00006  D28437  \n",
       "1       B00009           C00031  D29404  "
      ]
     },
     "execution_count": 54,
     "metadata": {},
     "output_type": "execute_result"
    }
   ],
   "source": [
    "## Check first 5 records after extarcting features for train data\n",
    "data.head()"
   ]
  },
  {
   "cell_type": "code",
   "execution_count": 55,
   "metadata": {},
   "outputs": [
    {
     "data": {
      "text/html": [
       "<div>\n",
       "<style scoped>\n",
       "    .dataframe tbody tr th:only-of-type {\n",
       "        vertical-align: middle;\n",
       "    }\n",
       "\n",
       "    .dataframe tbody tr th {\n",
       "        vertical-align: top;\n",
       "    }\n",
       "\n",
       "    .dataframe thead th {\n",
       "        text-align: right;\n",
       "    }\n",
       "</style>\n",
       "<table border=\"1\" class=\"dataframe\">\n",
       "  <thead>\n",
       "    <tr style=\"text-align: right;\">\n",
       "      <th></th>\n",
       "      <th>session_id</th>\n",
       "      <th>start_Y</th>\n",
       "      <th>start_M</th>\n",
       "      <th>start_D</th>\n",
       "      <th>end_Y</th>\n",
       "      <th>end_M</th>\n",
       "      <th>end_D</th>\n",
       "      <th>start_hour</th>\n",
       "      <th>start_min</th>\n",
       "      <th>start_sec</th>\n",
       "      <th>end_hour</th>\n",
       "      <th>end_min</th>\n",
       "      <th>end_sec</th>\n",
       "      <th>category</th>\n",
       "      <th>sub_category</th>\n",
       "      <th>sub_sub_category</th>\n",
       "      <th>product</th>\n",
       "    </tr>\n",
       "  </thead>\n",
       "  <tbody>\n",
       "    <tr>\n",
       "      <th>0</th>\n",
       "      <td>u12112</td>\n",
       "      <td>2014</td>\n",
       "      <td>8</td>\n",
       "      <td>12</td>\n",
       "      <td>2014</td>\n",
       "      <td>8</td>\n",
       "      <td>12</td>\n",
       "      <td>13</td>\n",
       "      <td>36</td>\n",
       "      <td>0</td>\n",
       "      <td>13</td>\n",
       "      <td>36</td>\n",
       "      <td>0</td>\n",
       "      <td>A00002</td>\n",
       "      <td>B00003</td>\n",
       "      <td>C00006</td>\n",
       "      <td>D19956</td>\n",
       "    </tr>\n",
       "    <tr>\n",
       "      <th>1</th>\n",
       "      <td>u19725</td>\n",
       "      <td>2014</td>\n",
       "      <td>12</td>\n",
       "      <td>19</td>\n",
       "      <td>2014</td>\n",
       "      <td>12</td>\n",
       "      <td>19</td>\n",
       "      <td>13</td>\n",
       "      <td>52</td>\n",
       "      <td>0</td>\n",
       "      <td>13</td>\n",
       "      <td>52</td>\n",
       "      <td>0</td>\n",
       "      <td>A00002</td>\n",
       "      <td>B00005</td>\n",
       "      <td>C00067</td>\n",
       "      <td>D02026</td>\n",
       "    </tr>\n",
       "    <tr>\n",
       "      <th>2</th>\n",
       "      <td>u11795</td>\n",
       "      <td>2014</td>\n",
       "      <td>1</td>\n",
       "      <td>12</td>\n",
       "      <td>2014</td>\n",
       "      <td>1</td>\n",
       "      <td>12</td>\n",
       "      <td>10</td>\n",
       "      <td>44</td>\n",
       "      <td>0</td>\n",
       "      <td>10</td>\n",
       "      <td>44</td>\n",
       "      <td>0</td>\n",
       "      <td>A00002</td>\n",
       "      <td>B00002</td>\n",
       "      <td>C00004</td>\n",
       "      <td>D12538</td>\n",
       "    </tr>\n",
       "    <tr>\n",
       "      <th>3</th>\n",
       "      <td>u22639</td>\n",
       "      <td>2014</td>\n",
       "      <td>8</td>\n",
       "      <td>12</td>\n",
       "      <td>2014</td>\n",
       "      <td>8</td>\n",
       "      <td>12</td>\n",
       "      <td>20</td>\n",
       "      <td>19</td>\n",
       "      <td>0</td>\n",
       "      <td>20</td>\n",
       "      <td>22</td>\n",
       "      <td>0</td>\n",
       "      <td>A00002</td>\n",
       "      <td>B00003</td>\n",
       "      <td>C00079</td>\n",
       "      <td>D22781</td>\n",
       "    </tr>\n",
       "    <tr>\n",
       "      <th>3</th>\n",
       "      <td>u22639</td>\n",
       "      <td>2014</td>\n",
       "      <td>8</td>\n",
       "      <td>12</td>\n",
       "      <td>2014</td>\n",
       "      <td>8</td>\n",
       "      <td>12</td>\n",
       "      <td>20</td>\n",
       "      <td>19</td>\n",
       "      <td>0</td>\n",
       "      <td>20</td>\n",
       "      <td>22</td>\n",
       "      <td>0</td>\n",
       "      <td>A00002</td>\n",
       "      <td>B00003</td>\n",
       "      <td>C00079</td>\n",
       "      <td>D22782</td>\n",
       "    </tr>\n",
       "  </tbody>\n",
       "</table>\n",
       "</div>"
      ],
      "text/plain": [
       "  session_id  start_Y  start_M  start_D  end_Y  end_M  end_D  start_hour  \\\n",
       "0     u12112     2014        8       12   2014      8     12          13   \n",
       "1     u19725     2014       12       19   2014     12     19          13   \n",
       "2     u11795     2014        1       12   2014      1     12          10   \n",
       "3     u22639     2014        8       12   2014      8     12          20   \n",
       "3     u22639     2014        8       12   2014      8     12          20   \n",
       "\n",
       "   start_min  start_sec  end_hour  end_min  end_sec category sub_category  \\\n",
       "0         36          0        13       36        0   A00002       B00003   \n",
       "1         52          0        13       52        0   A00002       B00005   \n",
       "2         44          0        10       44        0   A00002       B00002   \n",
       "3         19          0        20       22        0   A00002       B00003   \n",
       "3         19          0        20       22        0   A00002       B00003   \n",
       "\n",
       "  sub_sub_category product  \n",
       "0           C00006  D19956  \n",
       "1           C00067  D02026  \n",
       "2           C00004  D12538  \n",
       "3           C00079  D22781  \n",
       "3           C00079  D22782  "
      ]
     },
     "execution_count": 55,
     "metadata": {},
     "output_type": "execute_result"
    }
   ],
   "source": [
    "## Check first 5 records after extarcting features for test data\n",
    "test_data.head()"
   ]
  },
  {
   "cell_type": "code",
   "execution_count": 56,
   "metadata": {
    "scrolled": false
   },
   "outputs": [
    {
     "data": {
      "text/html": [
       "<div>\n",
       "<style scoped>\n",
       "    .dataframe tbody tr th:only-of-type {\n",
       "        vertical-align: middle;\n",
       "    }\n",
       "\n",
       "    .dataframe tbody tr th {\n",
       "        vertical-align: top;\n",
       "    }\n",
       "\n",
       "    .dataframe thead th {\n",
       "        text-align: right;\n",
       "    }\n",
       "</style>\n",
       "<table border=\"1\" class=\"dataframe\">\n",
       "  <thead>\n",
       "    <tr style=\"text-align: right;\">\n",
       "      <th></th>\n",
       "      <th>session_id</th>\n",
       "      <th>gender</th>\n",
       "      <th>start_Y</th>\n",
       "      <th>start_M</th>\n",
       "      <th>start_D</th>\n",
       "      <th>end_Y</th>\n",
       "      <th>end_M</th>\n",
       "      <th>end_D</th>\n",
       "      <th>start_hour</th>\n",
       "      <th>start_min</th>\n",
       "      <th>start_sec</th>\n",
       "      <th>end_hour</th>\n",
       "      <th>end_min</th>\n",
       "      <th>end_sec</th>\n",
       "      <th>category</th>\n",
       "      <th>sub_category</th>\n",
       "      <th>sub_sub_category</th>\n",
       "      <th>product</th>\n",
       "    </tr>\n",
       "  </thead>\n",
       "  <tbody>\n",
       "    <tr>\n",
       "      <th>10498</th>\n",
       "      <td>u17087</td>\n",
       "      <td>female</td>\n",
       "      <td>2014</td>\n",
       "      <td>11</td>\n",
       "      <td>22</td>\n",
       "      <td>2014</td>\n",
       "      <td>11</td>\n",
       "      <td>22</td>\n",
       "      <td>11</td>\n",
       "      <td>27</td>\n",
       "      <td>0</td>\n",
       "      <td>11</td>\n",
       "      <td>27</td>\n",
       "      <td>0</td>\n",
       "      <td>A00003</td>\n",
       "      <td>B00012</td>\n",
       "      <td>C00073</td>\n",
       "      <td>D09454</td>\n",
       "    </tr>\n",
       "    <tr>\n",
       "      <th>10499</th>\n",
       "      <td>u23137</td>\n",
       "      <td>female</td>\n",
       "      <td>2014</td>\n",
       "      <td>12</td>\n",
       "      <td>19</td>\n",
       "      <td>2014</td>\n",
       "      <td>12</td>\n",
       "      <td>19</td>\n",
       "      <td>3</td>\n",
       "      <td>11</td>\n",
       "      <td>0</td>\n",
       "      <td>3</td>\n",
       "      <td>19</td>\n",
       "      <td>0</td>\n",
       "      <td>A00002</td>\n",
       "      <td>B00001</td>\n",
       "      <td>C00010</td>\n",
       "      <td>D02309</td>\n",
       "    </tr>\n",
       "    <tr>\n",
       "      <th>10499</th>\n",
       "      <td>u23137</td>\n",
       "      <td>female</td>\n",
       "      <td>2014</td>\n",
       "      <td>12</td>\n",
       "      <td>19</td>\n",
       "      <td>2014</td>\n",
       "      <td>12</td>\n",
       "      <td>19</td>\n",
       "      <td>3</td>\n",
       "      <td>11</td>\n",
       "      <td>0</td>\n",
       "      <td>3</td>\n",
       "      <td>19</td>\n",
       "      <td>0</td>\n",
       "      <td>A00002</td>\n",
       "      <td>B00002</td>\n",
       "      <td>C00002</td>\n",
       "      <td>D32450</td>\n",
       "    </tr>\n",
       "    <tr>\n",
       "      <th>10499</th>\n",
       "      <td>u23137</td>\n",
       "      <td>female</td>\n",
       "      <td>2014</td>\n",
       "      <td>12</td>\n",
       "      <td>19</td>\n",
       "      <td>2014</td>\n",
       "      <td>12</td>\n",
       "      <td>19</td>\n",
       "      <td>3</td>\n",
       "      <td>11</td>\n",
       "      <td>0</td>\n",
       "      <td>3</td>\n",
       "      <td>19</td>\n",
       "      <td>0</td>\n",
       "      <td>A00002</td>\n",
       "      <td>B00001</td>\n",
       "      <td>C00059</td>\n",
       "      <td>D21254</td>\n",
       "    </tr>\n",
       "    <tr>\n",
       "      <th>10499</th>\n",
       "      <td>u23137</td>\n",
       "      <td>female</td>\n",
       "      <td>2014</td>\n",
       "      <td>12</td>\n",
       "      <td>19</td>\n",
       "      <td>2014</td>\n",
       "      <td>12</td>\n",
       "      <td>19</td>\n",
       "      <td>3</td>\n",
       "      <td>11</td>\n",
       "      <td>0</td>\n",
       "      <td>3</td>\n",
       "      <td>19</td>\n",
       "      <td>0</td>\n",
       "      <td>A00003</td>\n",
       "      <td>B00004</td>\n",
       "      <td>C00089</td>\n",
       "      <td>D18619</td>\n",
       "    </tr>\n",
       "  </tbody>\n",
       "</table>\n",
       "</div>"
      ],
      "text/plain": [
       "      session_id  gender  start_Y  start_M  start_D  end_Y  end_M  end_D  \\\n",
       "10498     u17087  female     2014       11       22   2014     11     22   \n",
       "10499     u23137  female     2014       12       19   2014     12     19   \n",
       "10499     u23137  female     2014       12       19   2014     12     19   \n",
       "10499     u23137  female     2014       12       19   2014     12     19   \n",
       "10499     u23137  female     2014       12       19   2014     12     19   \n",
       "\n",
       "       start_hour  start_min  start_sec  end_hour  end_min  end_sec category  \\\n",
       "10498          11         27          0        11       27        0   A00003   \n",
       "10499           3         11          0         3       19        0   A00002   \n",
       "10499           3         11          0         3       19        0   A00002   \n",
       "10499           3         11          0         3       19        0   A00002   \n",
       "10499           3         11          0         3       19        0   A00003   \n",
       "\n",
       "      sub_category sub_sub_category product  \n",
       "10498       B00012           C00073  D09454  \n",
       "10499       B00001           C00010  D02309  \n",
       "10499       B00002           C00002  D32450  \n",
       "10499       B00001           C00059  D21254  \n",
       "10499       B00004           C00089  D18619  "
      ]
     },
     "execution_count": 56,
     "metadata": {},
     "output_type": "execute_result"
    }
   ],
   "source": [
    "## Check last 5 records after extracting features for train data\n",
    "data.tail()"
   ]
  },
  {
   "cell_type": "code",
   "execution_count": 57,
   "metadata": {},
   "outputs": [
    {
     "data": {
      "text/html": [
       "<div>\n",
       "<style scoped>\n",
       "    .dataframe tbody tr th:only-of-type {\n",
       "        vertical-align: middle;\n",
       "    }\n",
       "\n",
       "    .dataframe tbody tr th {\n",
       "        vertical-align: top;\n",
       "    }\n",
       "\n",
       "    .dataframe thead th {\n",
       "        text-align: right;\n",
       "    }\n",
       "</style>\n",
       "<table border=\"1\" class=\"dataframe\">\n",
       "  <thead>\n",
       "    <tr style=\"text-align: right;\">\n",
       "      <th></th>\n",
       "      <th>session_id</th>\n",
       "      <th>start_Y</th>\n",
       "      <th>start_M</th>\n",
       "      <th>start_D</th>\n",
       "      <th>end_Y</th>\n",
       "      <th>end_M</th>\n",
       "      <th>end_D</th>\n",
       "      <th>start_hour</th>\n",
       "      <th>start_min</th>\n",
       "      <th>start_sec</th>\n",
       "      <th>end_hour</th>\n",
       "      <th>end_min</th>\n",
       "      <th>end_sec</th>\n",
       "      <th>category</th>\n",
       "      <th>sub_category</th>\n",
       "      <th>sub_sub_category</th>\n",
       "      <th>product</th>\n",
       "    </tr>\n",
       "  </thead>\n",
       "  <tbody>\n",
       "    <tr>\n",
       "      <th>4497</th>\n",
       "      <td>u13253</td>\n",
       "      <td>2014</td>\n",
       "      <td>11</td>\n",
       "      <td>15</td>\n",
       "      <td>2014</td>\n",
       "      <td>11</td>\n",
       "      <td>15</td>\n",
       "      <td>21</td>\n",
       "      <td>38</td>\n",
       "      <td>0</td>\n",
       "      <td>21</td>\n",
       "      <td>46</td>\n",
       "      <td>0</td>\n",
       "      <td>A00002</td>\n",
       "      <td>B00007</td>\n",
       "      <td>C00041</td>\n",
       "      <td>D03362</td>\n",
       "    </tr>\n",
       "    <tr>\n",
       "      <th>4497</th>\n",
       "      <td>u13253</td>\n",
       "      <td>2014</td>\n",
       "      <td>11</td>\n",
       "      <td>15</td>\n",
       "      <td>2014</td>\n",
       "      <td>11</td>\n",
       "      <td>15</td>\n",
       "      <td>21</td>\n",
       "      <td>38</td>\n",
       "      <td>0</td>\n",
       "      <td>21</td>\n",
       "      <td>46</td>\n",
       "      <td>0</td>\n",
       "      <td>A00002</td>\n",
       "      <td>B00007</td>\n",
       "      <td>C00041</td>\n",
       "      <td>D03364</td>\n",
       "    </tr>\n",
       "    <tr>\n",
       "      <th>4498</th>\n",
       "      <td>u17094</td>\n",
       "      <td>2014</td>\n",
       "      <td>12</td>\n",
       "      <td>17</td>\n",
       "      <td>2014</td>\n",
       "      <td>12</td>\n",
       "      <td>17</td>\n",
       "      <td>8</td>\n",
       "      <td>51</td>\n",
       "      <td>0</td>\n",
       "      <td>8</td>\n",
       "      <td>51</td>\n",
       "      <td>0</td>\n",
       "      <td>A00001</td>\n",
       "      <td>B00031</td>\n",
       "      <td>C00044</td>\n",
       "      <td>D09604</td>\n",
       "    </tr>\n",
       "    <tr>\n",
       "      <th>4499</th>\n",
       "      <td>u24310</td>\n",
       "      <td>2014</td>\n",
       "      <td>12</td>\n",
       "      <td>17</td>\n",
       "      <td>2014</td>\n",
       "      <td>12</td>\n",
       "      <td>17</td>\n",
       "      <td>17</td>\n",
       "      <td>25</td>\n",
       "      <td>0</td>\n",
       "      <td>17</td>\n",
       "      <td>26</td>\n",
       "      <td>0</td>\n",
       "      <td>A00002</td>\n",
       "      <td>B00002</td>\n",
       "      <td>C00003</td>\n",
       "      <td>D20004</td>\n",
       "    </tr>\n",
       "    <tr>\n",
       "      <th>4499</th>\n",
       "      <td>u24310</td>\n",
       "      <td>2014</td>\n",
       "      <td>12</td>\n",
       "      <td>17</td>\n",
       "      <td>2014</td>\n",
       "      <td>12</td>\n",
       "      <td>17</td>\n",
       "      <td>17</td>\n",
       "      <td>25</td>\n",
       "      <td>0</td>\n",
       "      <td>17</td>\n",
       "      <td>26</td>\n",
       "      <td>0</td>\n",
       "      <td>A00002</td>\n",
       "      <td>B00002</td>\n",
       "      <td>C00007</td>\n",
       "      <td>D27733</td>\n",
       "    </tr>\n",
       "  </tbody>\n",
       "</table>\n",
       "</div>"
      ],
      "text/plain": [
       "     session_id  start_Y  start_M  start_D  end_Y  end_M  end_D  start_hour  \\\n",
       "4497     u13253     2014       11       15   2014     11     15          21   \n",
       "4497     u13253     2014       11       15   2014     11     15          21   \n",
       "4498     u17094     2014       12       17   2014     12     17           8   \n",
       "4499     u24310     2014       12       17   2014     12     17          17   \n",
       "4499     u24310     2014       12       17   2014     12     17          17   \n",
       "\n",
       "      start_min  start_sec  end_hour  end_min  end_sec category sub_category  \\\n",
       "4497         38          0        21       46        0   A00002       B00007   \n",
       "4497         38          0        21       46        0   A00002       B00007   \n",
       "4498         51          0         8       51        0   A00001       B00031   \n",
       "4499         25          0        17       26        0   A00002       B00002   \n",
       "4499         25          0        17       26        0   A00002       B00002   \n",
       "\n",
       "     sub_sub_category product  \n",
       "4497           C00041  D03362  \n",
       "4497           C00041  D03364  \n",
       "4498           C00044  D09604  \n",
       "4499           C00003  D20004  \n",
       "4499           C00007  D27733  "
      ]
     },
     "execution_count": 57,
     "metadata": {},
     "output_type": "execute_result"
    }
   ],
   "source": [
    "## Check last 5 records after extracting features for test data\n",
    "test_data.tail()"
   ]
  },
  {
   "cell_type": "code",
   "execution_count": 58,
   "metadata": {
    "scrolled": true
   },
   "outputs": [
    {
     "data": {
      "text/plain": [
       "A00002    14931\n",
       "A00003     3822\n",
       "A00001     3300\n",
       "A00005      413\n",
       "A00004      261\n",
       "A00006      182\n",
       "A00011      130\n",
       "A00010       75\n",
       "A00007       52\n",
       "A00009       47\n",
       "A00008       38\n",
       "Name: category, dtype: int64"
      ]
     },
     "execution_count": 58,
     "metadata": {},
     "output_type": "execute_result"
    }
   ],
   "source": [
    "## Check categories count for train data\n",
    "data['category'].value_counts() ## There are only 11 categories across the entire dataset"
   ]
  },
  {
   "cell_type": "code",
   "execution_count": 59,
   "metadata": {},
   "outputs": [
    {
     "data": {
      "text/plain": [
       "A00002    6439\n",
       "A00003    1792\n",
       "A00001    1478\n",
       "A00005     164\n",
       "A00004     111\n",
       "A00006      94\n",
       "A00011      38\n",
       "A00010      34\n",
       "A00009      20\n",
       "A00008      18\n",
       "A00007      16\n",
       "Name: category, dtype: int64"
      ]
     },
     "execution_count": 59,
     "metadata": {},
     "output_type": "execute_result"
    }
   ],
   "source": [
    "## Check categories count for test data\n",
    "test_data['category'].value_counts() ## There are only 11 categories across the entire dataset"
   ]
  },
  {
   "cell_type": "code",
   "execution_count": 60,
   "metadata": {
    "scrolled": false
   },
   "outputs": [
    {
     "data": {
      "text/html": [
       "<div>\n",
       "<style scoped>\n",
       "    .dataframe tbody tr th:only-of-type {\n",
       "        vertical-align: middle;\n",
       "    }\n",
       "\n",
       "    .dataframe tbody tr th {\n",
       "        vertical-align: top;\n",
       "    }\n",
       "\n",
       "    .dataframe thead th {\n",
       "        text-align: right;\n",
       "    }\n",
       "</style>\n",
       "<table border=\"1\" class=\"dataframe\">\n",
       "  <thead>\n",
       "    <tr style=\"text-align: right;\">\n",
       "      <th></th>\n",
       "      <th>dtypes</th>\n",
       "      <th>levels</th>\n",
       "      <th>null_values</th>\n",
       "      <th>Unique Values</th>\n",
       "    </tr>\n",
       "  </thead>\n",
       "  <tbody>\n",
       "    <tr>\n",
       "      <th>session_id</th>\n",
       "      <td>object</td>\n",
       "      <td>[u16159, u10253, u19037, u14556, u24295, u2096...</td>\n",
       "      <td>0</td>\n",
       "      <td>10500</td>\n",
       "    </tr>\n",
       "    <tr>\n",
       "      <th>gender</th>\n",
       "      <td>object</td>\n",
       "      <td>[female, male]</td>\n",
       "      <td>0</td>\n",
       "      <td>2</td>\n",
       "    </tr>\n",
       "    <tr>\n",
       "      <th>start_Y</th>\n",
       "      <td>int64</td>\n",
       "      <td>[2014]</td>\n",
       "      <td>0</td>\n",
       "      <td>1</td>\n",
       "    </tr>\n",
       "    <tr>\n",
       "      <th>start_M</th>\n",
       "      <td>int64</td>\n",
       "      <td>[12, 1, 11, 5, 9, 6, 8, 7, 2, 3]</td>\n",
       "      <td>0</td>\n",
       "      <td>10</td>\n",
       "    </tr>\n",
       "    <tr>\n",
       "      <th>start_D</th>\n",
       "      <td>int64</td>\n",
       "      <td>[15, 16, 12, 23, 17, 25, 22, 19, 29, 20, 14, 1...</td>\n",
       "      <td>0</td>\n",
       "      <td>18</td>\n",
       "    </tr>\n",
       "    <tr>\n",
       "      <th>end_Y</th>\n",
       "      <td>int64</td>\n",
       "      <td>[2014]</td>\n",
       "      <td>0</td>\n",
       "      <td>1</td>\n",
       "    </tr>\n",
       "    <tr>\n",
       "      <th>end_M</th>\n",
       "      <td>int64</td>\n",
       "      <td>[12, 1, 11, 5, 9, 6, 8, 7, 2, 3]</td>\n",
       "      <td>0</td>\n",
       "      <td>10</td>\n",
       "    </tr>\n",
       "    <tr>\n",
       "      <th>end_D</th>\n",
       "      <td>int64</td>\n",
       "      <td>[15, 16, 12, 23, 17, 25, 22, 19, 29, 20, 14, 1...</td>\n",
       "      <td>0</td>\n",
       "      <td>18</td>\n",
       "    </tr>\n",
       "    <tr>\n",
       "      <th>start_hour</th>\n",
       "      <td>int64</td>\n",
       "      <td>[18, 14, 15, 2, 16, 19, 11, 12, 22, 13, 20, 23...</td>\n",
       "      <td>0</td>\n",
       "      <td>24</td>\n",
       "    </tr>\n",
       "    <tr>\n",
       "      <th>start_min</th>\n",
       "      <td>int64</td>\n",
       "      <td>[11, 35, 58, 57, 44, 31, 33, 2, 55, 16, 32, 42...</td>\n",
       "      <td>0</td>\n",
       "      <td>60</td>\n",
       "    </tr>\n",
       "    <tr>\n",
       "      <th>start_sec</th>\n",
       "      <td>int64</td>\n",
       "      <td>[0]</td>\n",
       "      <td>0</td>\n",
       "      <td>1</td>\n",
       "    </tr>\n",
       "    <tr>\n",
       "      <th>end_hour</th>\n",
       "      <td>int64</td>\n",
       "      <td>[18, 14, 15, 3, 16, 19, 11, 12, 22, 13, 20, 23...</td>\n",
       "      <td>0</td>\n",
       "      <td>24</td>\n",
       "    </tr>\n",
       "    <tr>\n",
       "      <th>end_min</th>\n",
       "      <td>int64</td>\n",
       "      <td>[12, 41, 58, 0, 46, 31, 34, 6, 55, 17, 32, 42,...</td>\n",
       "      <td>0</td>\n",
       "      <td>60</td>\n",
       "    </tr>\n",
       "    <tr>\n",
       "      <th>end_sec</th>\n",
       "      <td>int64</td>\n",
       "      <td>[0]</td>\n",
       "      <td>0</td>\n",
       "      <td>1</td>\n",
       "    </tr>\n",
       "    <tr>\n",
       "      <th>category</th>\n",
       "      <td>object</td>\n",
       "      <td>[A00002, A00001, A00003, A00004, A00005, A0000...</td>\n",
       "      <td>0</td>\n",
       "      <td>11</td>\n",
       "    </tr>\n",
       "    <tr>\n",
       "      <th>sub_category</th>\n",
       "      <td>object</td>\n",
       "      <td>[B00003, B00009, B00001, B00004, B00002, B0001...</td>\n",
       "      <td>0</td>\n",
       "      <td>85</td>\n",
       "    </tr>\n",
       "    <tr>\n",
       "      <th>sub_sub_category</th>\n",
       "      <td>object</td>\n",
       "      <td>[C00006, C00031, C00020, C00018, C00012, C0008...</td>\n",
       "      <td>0</td>\n",
       "      <td>360</td>\n",
       "    </tr>\n",
       "    <tr>\n",
       "      <th>product</th>\n",
       "      <td>object</td>\n",
       "      <td>[D28435, D02554, D28436, D28437, D29404, D0261...</td>\n",
       "      <td>0</td>\n",
       "      <td>16503</td>\n",
       "    </tr>\n",
       "  </tbody>\n",
       "</table>\n",
       "</div>"
      ],
      "text/plain": [
       "                  dtypes                                             levels  \\\n",
       "session_id        object  [u16159, u10253, u19037, u14556, u24295, u2096...   \n",
       "gender            object                                     [female, male]   \n",
       "start_Y            int64                                             [2014]   \n",
       "start_M            int64                   [12, 1, 11, 5, 9, 6, 8, 7, 2, 3]   \n",
       "start_D            int64  [15, 16, 12, 23, 17, 25, 22, 19, 29, 20, 14, 1...   \n",
       "end_Y              int64                                             [2014]   \n",
       "end_M              int64                   [12, 1, 11, 5, 9, 6, 8, 7, 2, 3]   \n",
       "end_D              int64  [15, 16, 12, 23, 17, 25, 22, 19, 29, 20, 14, 1...   \n",
       "start_hour         int64  [18, 14, 15, 2, 16, 19, 11, 12, 22, 13, 20, 23...   \n",
       "start_min          int64  [11, 35, 58, 57, 44, 31, 33, 2, 55, 16, 32, 42...   \n",
       "start_sec          int64                                                [0]   \n",
       "end_hour           int64  [18, 14, 15, 3, 16, 19, 11, 12, 22, 13, 20, 23...   \n",
       "end_min            int64  [12, 41, 58, 0, 46, 31, 34, 6, 55, 17, 32, 42,...   \n",
       "end_sec            int64                                                [0]   \n",
       "category          object  [A00002, A00001, A00003, A00004, A00005, A0000...   \n",
       "sub_category      object  [B00003, B00009, B00001, B00004, B00002, B0001...   \n",
       "sub_sub_category  object  [C00006, C00031, C00020, C00018, C00012, C0008...   \n",
       "product           object  [D28435, D02554, D28436, D28437, D29404, D0261...   \n",
       "\n",
       "                  null_values  Unique Values  \n",
       "session_id                  0          10500  \n",
       "gender                      0              2  \n",
       "start_Y                     0              1  \n",
       "start_M                     0             10  \n",
       "start_D                     0             18  \n",
       "end_Y                       0              1  \n",
       "end_M                       0             10  \n",
       "end_D                       0             18  \n",
       "start_hour                  0             24  \n",
       "start_min                   0             60  \n",
       "start_sec                   0              1  \n",
       "end_hour                    0             24  \n",
       "end_min                     0             60  \n",
       "end_sec                     0              1  \n",
       "category                    0             11  \n",
       "sub_category                0             85  \n",
       "sub_sub_category            0            360  \n",
       "product                     0          16503  "
      ]
     },
     "execution_count": 60,
     "metadata": {},
     "output_type": "execute_result"
    }
   ],
   "source": [
    "## Check number of levels,null values,unique values,data types for train data\n",
    "Observations(data)"
   ]
  },
  {
   "cell_type": "code",
   "execution_count": 61,
   "metadata": {},
   "outputs": [
    {
     "data": {
      "text/html": [
       "<div>\n",
       "<style scoped>\n",
       "    .dataframe tbody tr th:only-of-type {\n",
       "        vertical-align: middle;\n",
       "    }\n",
       "\n",
       "    .dataframe tbody tr th {\n",
       "        vertical-align: top;\n",
       "    }\n",
       "\n",
       "    .dataframe thead th {\n",
       "        text-align: right;\n",
       "    }\n",
       "</style>\n",
       "<table border=\"1\" class=\"dataframe\">\n",
       "  <thead>\n",
       "    <tr style=\"text-align: right;\">\n",
       "      <th></th>\n",
       "      <th>dtypes</th>\n",
       "      <th>levels</th>\n",
       "      <th>null_values</th>\n",
       "      <th>Unique Values</th>\n",
       "    </tr>\n",
       "  </thead>\n",
       "  <tbody>\n",
       "    <tr>\n",
       "      <th>session_id</th>\n",
       "      <td>object</td>\n",
       "      <td>[u12112, u19725, u11795, u22639, u18034, u1132...</td>\n",
       "      <td>0</td>\n",
       "      <td>4500</td>\n",
       "    </tr>\n",
       "    <tr>\n",
       "      <th>start_Y</th>\n",
       "      <td>int64</td>\n",
       "      <td>[2014]</td>\n",
       "      <td>0</td>\n",
       "      <td>1</td>\n",
       "    </tr>\n",
       "    <tr>\n",
       "      <th>start_M</th>\n",
       "      <td>int64</td>\n",
       "      <td>[8, 12, 1, 11, 9, 2, 7, 6, 5, 3]</td>\n",
       "      <td>0</td>\n",
       "      <td>10</td>\n",
       "    </tr>\n",
       "    <tr>\n",
       "      <th>start_D</th>\n",
       "      <td>int64</td>\n",
       "      <td>[12, 19, 15, 27, 26, 25, 20, 18, 22, 14, 29, 1...</td>\n",
       "      <td>0</td>\n",
       "      <td>18</td>\n",
       "    </tr>\n",
       "    <tr>\n",
       "      <th>end_Y</th>\n",
       "      <td>int64</td>\n",
       "      <td>[2014]</td>\n",
       "      <td>0</td>\n",
       "      <td>1</td>\n",
       "    </tr>\n",
       "    <tr>\n",
       "      <th>end_M</th>\n",
       "      <td>int64</td>\n",
       "      <td>[8, 12, 1, 11, 9, 2, 7, 6, 5, 3]</td>\n",
       "      <td>0</td>\n",
       "      <td>10</td>\n",
       "    </tr>\n",
       "    <tr>\n",
       "      <th>end_D</th>\n",
       "      <td>int64</td>\n",
       "      <td>[12, 19, 15, 27, 26, 25, 20, 18, 22, 14, 29, 1...</td>\n",
       "      <td>0</td>\n",
       "      <td>18</td>\n",
       "    </tr>\n",
       "    <tr>\n",
       "      <th>start_hour</th>\n",
       "      <td>int64</td>\n",
       "      <td>[13, 10, 20, 19, 8, 21, 16, 18, 7, 9, 14, 12, ...</td>\n",
       "      <td>0</td>\n",
       "      <td>24</td>\n",
       "    </tr>\n",
       "    <tr>\n",
       "      <th>start_min</th>\n",
       "      <td>int64</td>\n",
       "      <td>[36, 52, 44, 19, 33, 41, 23, 2, 26, 15, 3, 20,...</td>\n",
       "      <td>0</td>\n",
       "      <td>60</td>\n",
       "    </tr>\n",
       "    <tr>\n",
       "      <th>start_sec</th>\n",
       "      <td>int64</td>\n",
       "      <td>[0]</td>\n",
       "      <td>0</td>\n",
       "      <td>1</td>\n",
       "    </tr>\n",
       "    <tr>\n",
       "      <th>end_hour</th>\n",
       "      <td>int64</td>\n",
       "      <td>[13, 10, 20, 19, 8, 21, 16, 18, 7, 9, 14, 12, ...</td>\n",
       "      <td>0</td>\n",
       "      <td>24</td>\n",
       "    </tr>\n",
       "    <tr>\n",
       "      <th>end_min</th>\n",
       "      <td>int64</td>\n",
       "      <td>[36, 52, 44, 22, 33, 47, 24, 3, 26, 19, 20, 42...</td>\n",
       "      <td>0</td>\n",
       "      <td>60</td>\n",
       "    </tr>\n",
       "    <tr>\n",
       "      <th>end_sec</th>\n",
       "      <td>int64</td>\n",
       "      <td>[0]</td>\n",
       "      <td>0</td>\n",
       "      <td>1</td>\n",
       "    </tr>\n",
       "    <tr>\n",
       "      <th>category</th>\n",
       "      <td>object</td>\n",
       "      <td>[A00002, A00001, A00004, A00003, A00005, A0001...</td>\n",
       "      <td>0</td>\n",
       "      <td>11</td>\n",
       "    </tr>\n",
       "    <tr>\n",
       "      <th>sub_category</th>\n",
       "      <td>object</td>\n",
       "      <td>[B00003, B00005, B00002, B00001, B00009, B0003...</td>\n",
       "      <td>0</td>\n",
       "      <td>71</td>\n",
       "    </tr>\n",
       "    <tr>\n",
       "      <th>sub_sub_category</th>\n",
       "      <td>object</td>\n",
       "      <td>[C00006, C00067, C00004, C00079, C00010, C0002...</td>\n",
       "      <td>0</td>\n",
       "      <td>282</td>\n",
       "    </tr>\n",
       "    <tr>\n",
       "      <th>product</th>\n",
       "      <td>object</td>\n",
       "      <td>[D19956, D02026, D12538, D22781, D22782, D1932...</td>\n",
       "      <td>0</td>\n",
       "      <td>8300</td>\n",
       "    </tr>\n",
       "  </tbody>\n",
       "</table>\n",
       "</div>"
      ],
      "text/plain": [
       "                  dtypes                                             levels  \\\n",
       "session_id        object  [u12112, u19725, u11795, u22639, u18034, u1132...   \n",
       "start_Y            int64                                             [2014]   \n",
       "start_M            int64                   [8, 12, 1, 11, 9, 2, 7, 6, 5, 3]   \n",
       "start_D            int64  [12, 19, 15, 27, 26, 25, 20, 18, 22, 14, 29, 1...   \n",
       "end_Y              int64                                             [2014]   \n",
       "end_M              int64                   [8, 12, 1, 11, 9, 2, 7, 6, 5, 3]   \n",
       "end_D              int64  [12, 19, 15, 27, 26, 25, 20, 18, 22, 14, 29, 1...   \n",
       "start_hour         int64  [13, 10, 20, 19, 8, 21, 16, 18, 7, 9, 14, 12, ...   \n",
       "start_min          int64  [36, 52, 44, 19, 33, 41, 23, 2, 26, 15, 3, 20,...   \n",
       "start_sec          int64                                                [0]   \n",
       "end_hour           int64  [13, 10, 20, 19, 8, 21, 16, 18, 7, 9, 14, 12, ...   \n",
       "end_min            int64  [36, 52, 44, 22, 33, 47, 24, 3, 26, 19, 20, 42...   \n",
       "end_sec            int64                                                [0]   \n",
       "category          object  [A00002, A00001, A00004, A00003, A00005, A0001...   \n",
       "sub_category      object  [B00003, B00005, B00002, B00001, B00009, B0003...   \n",
       "sub_sub_category  object  [C00006, C00067, C00004, C00079, C00010, C0002...   \n",
       "product           object  [D19956, D02026, D12538, D22781, D22782, D1932...   \n",
       "\n",
       "                  null_values  Unique Values  \n",
       "session_id                  0           4500  \n",
       "start_Y                     0              1  \n",
       "start_M                     0             10  \n",
       "start_D                     0             18  \n",
       "end_Y                       0              1  \n",
       "end_M                       0             10  \n",
       "end_D                       0             18  \n",
       "start_hour                  0             24  \n",
       "start_min                   0             60  \n",
       "start_sec                   0              1  \n",
       "end_hour                    0             24  \n",
       "end_min                     0             60  \n",
       "end_sec                     0              1  \n",
       "category                    0             11  \n",
       "sub_category                0             71  \n",
       "sub_sub_category            0            282  \n",
       "product                     0           8300  "
      ]
     },
     "execution_count": 61,
     "metadata": {},
     "output_type": "execute_result"
    }
   ],
   "source": [
    "## Check number of levels,null values,unique values,data types for test data\n",
    "Observations(test_data)"
   ]
  },
  {
   "cell_type": "code",
   "execution_count": 62,
   "metadata": {
    "scrolled": true
   },
   "outputs": [
    {
     "data": {
      "text/plain": [
       "female    18410\n",
       "male       4841\n",
       "Name: gender, dtype: int64"
      ]
     },
     "execution_count": 62,
     "metadata": {},
     "output_type": "execute_result"
    }
   ],
   "source": [
    "## Check Gender column values count for train data\n",
    "data.gender.value_counts()"
   ]
  },
  {
   "cell_type": "markdown",
   "metadata": {},
   "source": [
    "## 6.4 Split data into train and validation"
   ]
  },
  {
   "cell_type": "code",
   "execution_count": 63,
   "metadata": {},
   "outputs": [],
   "source": [
    "## Store features into train_data (for train data)\n",
    "train_data = data.drop('gender', axis=1)"
   ]
  },
  {
   "cell_type": "code",
   "execution_count": 64,
   "metadata": {},
   "outputs": [],
   "source": [
    "## Store traget into y(for train data)\n",
    "y = data['gender']"
   ]
  },
  {
   "cell_type": "code",
   "execution_count": 65,
   "metadata": {},
   "outputs": [],
   "source": [
    "## Split the train data into  train and validation\n",
    "X_train,X_test,y_train,y_test = train_test_split(train_data,y,test_size=0.2,random_state =1234)"
   ]
  },
  {
   "cell_type": "markdown",
   "metadata": {},
   "source": [
    "## 6.5 Label Encoding"
   ]
  },
  {
   "cell_type": "code",
   "execution_count": 66,
   "metadata": {},
   "outputs": [],
   "source": [
    "## To perform label encoding, we need to append train and test data and fit label encoder on it\n",
    "## (beacuse train and  test will not have same lebel so that is reason we combined both  data and build label encoder and\n",
    "## will transform train and  test individuallly)\n",
    "combined_data = train_data.append(test_data)"
   ]
  },
  {
   "cell_type": "code",
   "execution_count": 67,
   "metadata": {},
   "outputs": [],
   "source": [
    "## Instantiate label encoder\n",
    "le_cat = LabelEncoder()\n",
    "le_subcat = LabelEncoder()\n",
    "le_subsubcat = LabelEncoder()\n",
    "le_product = LabelEncoder()\n",
    "le_gender = LabelEncoder()\n",
    "le_session = LabelEncoder()\n",
    "le_start_Y = LabelEncoder()\n",
    "le_start_M = LabelEncoder()\n",
    "le_start_D = LabelEncoder()\n",
    "le_end_Y = LabelEncoder()\n",
    "le_end_M = LabelEncoder()\n",
    "le_end_D = LabelEncoder()\n",
    "le_start_hour = LabelEncoder()\n",
    "le_start_min = LabelEncoder()\n",
    "le_start_sec = LabelEncoder()\n",
    "le_end_hour = LabelEncoder()\n",
    "le_end_min = LabelEncoder()\n",
    "le_end_sec = LabelEncoder()"
   ]
  },
  {
   "cell_type": "code",
   "execution_count": 68,
   "metadata": {},
   "outputs": [],
   "source": [
    "## Fit the label encoder model\n",
    "combined_data['category'] = le_cat.fit_transform(combined_data['category'])\n",
    "combined_data['sub_category'] = le_subcat.fit_transform(combined_data['sub_category'])\n",
    "combined_data['sub_sub_category'] = le_subsubcat.fit_transform(combined_data['sub_sub_category'])\n",
    "combined_data['product'] = le_product.fit_transform(combined_data['product'])\n",
    "combined_data['session_id'] = le_session.fit_transform(combined_data['session_id'])\n",
    "combined_data['start_Y'] = le_start_Y.fit_transform(combined_data['start_Y'])\n",
    "combined_data['start_M'] = le_start_M.fit_transform(combined_data['start_M'])\n",
    "combined_data['start_D'] = le_start_D.fit_transform(combined_data['start_D'])\n",
    "combined_data['end_Y'] = le_end_Y.fit_transform(combined_data['end_Y'])\n",
    "combined_data['end_M'] = le_end_M.fit_transform(combined_data['end_M'])\n",
    "combined_data['end_D'] = le_end_D.fit_transform(combined_data['end_D'])\n",
    "combined_data['start_hour'] = le_start_hour.fit_transform(combined_data['start_hour'])\n",
    "combined_data['start_min'] = le_start_min.fit_transform(combined_data['start_min'])\n",
    "combined_data['start_sec'] = le_start_sec.fit_transform(combined_data['start_sec'])\n",
    "combined_data['end_hour'] = le_end_hour.fit_transform(combined_data['end_hour'])\n",
    "combined_data['end_min'] = le_end_min.fit_transform(combined_data['end_min'])\n",
    "combined_data['end_sec'] = le_end_sec.fit_transform(combined_data['end_sec'])\n",
    "y = le_gender.fit_transform(y)"
   ]
  },
  {
   "cell_type": "code",
   "execution_count": 69,
   "metadata": {},
   "outputs": [
    {
     "data": {
      "text/html": [
       "<div>\n",
       "<style scoped>\n",
       "    .dataframe tbody tr th:only-of-type {\n",
       "        vertical-align: middle;\n",
       "    }\n",
       "\n",
       "    .dataframe tbody tr th {\n",
       "        vertical-align: top;\n",
       "    }\n",
       "\n",
       "    .dataframe thead th {\n",
       "        text-align: right;\n",
       "    }\n",
       "</style>\n",
       "<table border=\"1\" class=\"dataframe\">\n",
       "  <thead>\n",
       "    <tr style=\"text-align: right;\">\n",
       "      <th></th>\n",
       "      <th>session_id</th>\n",
       "      <th>start_Y</th>\n",
       "      <th>start_M</th>\n",
       "      <th>start_D</th>\n",
       "      <th>end_Y</th>\n",
       "      <th>end_M</th>\n",
       "      <th>end_D</th>\n",
       "      <th>start_hour</th>\n",
       "      <th>start_min</th>\n",
       "      <th>start_sec</th>\n",
       "      <th>end_hour</th>\n",
       "      <th>end_min</th>\n",
       "      <th>end_sec</th>\n",
       "      <th>category</th>\n",
       "      <th>sub_category</th>\n",
       "      <th>sub_sub_category</th>\n",
       "      <th>product</th>\n",
       "    </tr>\n",
       "  </thead>\n",
       "  <tbody>\n",
       "    <tr>\n",
       "      <th>0</th>\n",
       "      <td>6158</td>\n",
       "      <td>0</td>\n",
       "      <td>9</td>\n",
       "      <td>3</td>\n",
       "      <td>0</td>\n",
       "      <td>9</td>\n",
       "      <td>3</td>\n",
       "      <td>18</td>\n",
       "      <td>11</td>\n",
       "      <td>0</td>\n",
       "      <td>18</td>\n",
       "      <td>12</td>\n",
       "      <td>0</td>\n",
       "      <td>1</td>\n",
       "      <td>2</td>\n",
       "      <td>5</td>\n",
       "      <td>17574</td>\n",
       "    </tr>\n",
       "    <tr>\n",
       "      <th>0</th>\n",
       "      <td>6158</td>\n",
       "      <td>0</td>\n",
       "      <td>9</td>\n",
       "      <td>3</td>\n",
       "      <td>0</td>\n",
       "      <td>9</td>\n",
       "      <td>3</td>\n",
       "      <td>18</td>\n",
       "      <td>11</td>\n",
       "      <td>0</td>\n",
       "      <td>18</td>\n",
       "      <td>12</td>\n",
       "      <td>0</td>\n",
       "      <td>1</td>\n",
       "      <td>2</td>\n",
       "      <td>5</td>\n",
       "      <td>1789</td>\n",
       "    </tr>\n",
       "    <tr>\n",
       "      <th>0</th>\n",
       "      <td>6158</td>\n",
       "      <td>0</td>\n",
       "      <td>9</td>\n",
       "      <td>3</td>\n",
       "      <td>0</td>\n",
       "      <td>9</td>\n",
       "      <td>3</td>\n",
       "      <td>18</td>\n",
       "      <td>11</td>\n",
       "      <td>0</td>\n",
       "      <td>18</td>\n",
       "      <td>12</td>\n",
       "      <td>0</td>\n",
       "      <td>1</td>\n",
       "      <td>2</td>\n",
       "      <td>5</td>\n",
       "      <td>17575</td>\n",
       "    </tr>\n",
       "    <tr>\n",
       "      <th>0</th>\n",
       "      <td>6158</td>\n",
       "      <td>0</td>\n",
       "      <td>9</td>\n",
       "      <td>3</td>\n",
       "      <td>0</td>\n",
       "      <td>9</td>\n",
       "      <td>3</td>\n",
       "      <td>18</td>\n",
       "      <td>11</td>\n",
       "      <td>0</td>\n",
       "      <td>18</td>\n",
       "      <td>12</td>\n",
       "      <td>0</td>\n",
       "      <td>1</td>\n",
       "      <td>2</td>\n",
       "      <td>5</td>\n",
       "      <td>17576</td>\n",
       "    </tr>\n",
       "    <tr>\n",
       "      <th>1</th>\n",
       "      <td>252</td>\n",
       "      <td>0</td>\n",
       "      <td>9</td>\n",
       "      <td>4</td>\n",
       "      <td>0</td>\n",
       "      <td>9</td>\n",
       "      <td>4</td>\n",
       "      <td>14</td>\n",
       "      <td>35</td>\n",
       "      <td>0</td>\n",
       "      <td>14</td>\n",
       "      <td>41</td>\n",
       "      <td>0</td>\n",
       "      <td>0</td>\n",
       "      <td>8</td>\n",
       "      <td>30</td>\n",
       "      <td>18146</td>\n",
       "    </tr>\n",
       "  </tbody>\n",
       "</table>\n",
       "</div>"
      ],
      "text/plain": [
       "   session_id  start_Y  start_M  start_D  end_Y  end_M  end_D  start_hour  \\\n",
       "0        6158        0        9        3      0      9      3          18   \n",
       "0        6158        0        9        3      0      9      3          18   \n",
       "0        6158        0        9        3      0      9      3          18   \n",
       "0        6158        0        9        3      0      9      3          18   \n",
       "1         252        0        9        4      0      9      4          14   \n",
       "\n",
       "   start_min  start_sec  end_hour  end_min  end_sec  category  sub_category  \\\n",
       "0         11          0        18       12        0         1             2   \n",
       "0         11          0        18       12        0         1             2   \n",
       "0         11          0        18       12        0         1             2   \n",
       "0         11          0        18       12        0         1             2   \n",
       "1         35          0        14       41        0         0             8   \n",
       "\n",
       "   sub_sub_category  product  \n",
       "0                 5    17574  \n",
       "0                 5     1789  \n",
       "0                 5    17575  \n",
       "0                 5    17576  \n",
       "1                30    18146  "
      ]
     },
     "execution_count": 69,
     "metadata": {},
     "output_type": "execute_result"
    }
   ],
   "source": [
    "## Check first 5 records of combined data after doing label encoding\n",
    "combined_data.head()"
   ]
  },
  {
   "cell_type": "code",
   "execution_count": 70,
   "metadata": {},
   "outputs": [],
   "source": [
    "## Do labe encoding for trian data \n",
    "X_train['category'] = le_cat.transform(X_train['category'])\n",
    "X_train['sub_category'] = le_subcat.transform(X_train['sub_category'])\n",
    "X_train['sub_sub_category'] = le_subsubcat.transform(X_train['sub_sub_category'])\n",
    "X_train['product'] = le_product.transform(X_train['product'])\n",
    "X_train['session_id'] = le_session.transform(X_train['session_id'])\n",
    "X_train['start_Y'] = le_start_Y.fit_transform(X_train['start_Y'])\n",
    "X_train['start_M'] = le_start_M.fit_transform(X_train['start_M'])\n",
    "X_train['start_D'] = le_start_D.fit_transform(X_train['start_D'])\n",
    "X_train['end_Y'] = le_end_Y.fit_transform(X_train['end_Y'])\n",
    "X_train['end_M'] = le_end_M.fit_transform(X_train['end_M'])\n",
    "X_train['end_D'] = le_end_D.fit_transform(X_train['end_D'])\n",
    "X_train['start_hour'] = le_start_hour.fit_transform(X_train['start_hour'])\n",
    "X_train['start_min'] = le_start_min.fit_transform(X_train['start_min'])\n",
    "X_train['start_sec'] = le_start_sec.fit_transform(X_train['start_sec'])\n",
    "X_train['end_hour'] = le_end_hour.fit_transform(X_train['end_hour'])\n",
    "X_train['end_min'] = le_end_min.fit_transform(X_train['end_min'])\n",
    "X_train['end_sec'] = le_end_sec.fit_transform(X_train['end_sec'])\n",
    "y_train = le_gender.transform(y_train)"
   ]
  },
  {
   "cell_type": "code",
   "execution_count": 71,
   "metadata": {},
   "outputs": [],
   "source": [
    "## Do labe encoding for validation data \n",
    "X_test['category'] = le_cat.transform(X_test['category'])\n",
    "X_test['sub_category'] = le_subcat.transform(X_test['sub_category'])\n",
    "X_test['sub_sub_category'] = le_subsubcat.transform(X_test['sub_sub_category'])\n",
    "X_test['product'] = le_product.transform(X_test['product'])\n",
    "X_test['session_id'] = le_session.transform(X_test['session_id'])\n",
    "X_test['start_Y'] = le_start_Y.fit_transform(X_test['start_Y'])\n",
    "X_test['start_M'] = le_start_M.fit_transform(X_test['start_M'])\n",
    "X_test['start_D'] = le_start_D.fit_transform(X_test['start_D'])\n",
    "X_test['end_Y'] = le_end_Y.fit_transform(X_test['end_Y'])\n",
    "X_test['end_M'] = le_end_M.fit_transform(X_test['end_M'])\n",
    "X_test['end_D'] = le_end_D.fit_transform(X_test['end_D'])\n",
    "X_test['start_hour'] = le_start_hour.fit_transform(X_test['start_hour'])\n",
    "X_test['start_min'] = le_start_min.fit_transform(X_test['start_min'])\n",
    "X_test['start_sec'] = le_start_sec.fit_transform(X_test['start_sec'])\n",
    "X_test['end_hour'] = le_end_hour.fit_transform(X_test['end_hour'])\n",
    "X_test['end_min'] = le_end_min.fit_transform(X_test['end_min'])\n",
    "X_test['end_sec'] = le_end_sec.fit_transform(X_test['end_sec'])\n",
    "y_test = le_gender.transform(y_test)"
   ]
  },
  {
   "cell_type": "code",
   "execution_count": 72,
   "metadata": {},
   "outputs": [],
   "source": [
    "## Do labe encoding for test data \n",
    "test_data['category'] = le_cat.transform(test_data['category'])\n",
    "test_data['sub_category'] = le_subcat.transform(test_data['sub_category'])\n",
    "test_data['sub_sub_category'] = le_subsubcat.transform(test_data['sub_sub_category'])\n",
    "test_data['product'] = le_product.transform(test_data['product'])\n",
    "test_data['session_id'] = le_session.transform(test_data['session_id'])\n",
    "test_data['start_Y'] = le_start_Y.fit_transform(test_data['start_Y'])\n",
    "test_data['start_M'] = le_start_M.fit_transform(test_data['start_M'])\n",
    "test_data['start_D'] = le_start_D.fit_transform(test_data['start_D'])\n",
    "test_data['end_Y'] = le_end_Y.fit_transform(test_data['end_Y'])\n",
    "test_data['end_M'] = le_end_M.fit_transform(test_data['end_M'])\n",
    "test_data['end_D'] = le_end_D.fit_transform(test_data['end_D'])\n",
    "test_data['start_hour'] = le_start_hour.fit_transform(test_data['start_hour'])\n",
    "test_data['start_min'] = le_start_min.fit_transform(test_data['start_min'])\n",
    "test_data['start_sec'] = le_start_sec.fit_transform(test_data['start_sec'])\n",
    "test_data['end_hour'] = le_end_hour.fit_transform(test_data['end_hour'])\n",
    "test_data['end_min'] = le_end_min.fit_transform(test_data['end_min'])\n",
    "test_data['end_sec'] = le_end_sec.fit_transform(test_data['end_sec'])"
   ]
  },
  {
   "cell_type": "code",
   "execution_count": 73,
   "metadata": {
    "scrolled": true
   },
   "outputs": [
    {
     "data": {
      "text/html": [
       "<div>\n",
       "<style scoped>\n",
       "    .dataframe tbody tr th:only-of-type {\n",
       "        vertical-align: middle;\n",
       "    }\n",
       "\n",
       "    .dataframe tbody tr th {\n",
       "        vertical-align: top;\n",
       "    }\n",
       "\n",
       "    .dataframe thead th {\n",
       "        text-align: right;\n",
       "    }\n",
       "</style>\n",
       "<table border=\"1\" class=\"dataframe\">\n",
       "  <thead>\n",
       "    <tr style=\"text-align: right;\">\n",
       "      <th></th>\n",
       "      <th>session_id</th>\n",
       "      <th>start_Y</th>\n",
       "      <th>start_M</th>\n",
       "      <th>start_D</th>\n",
       "      <th>end_Y</th>\n",
       "      <th>end_M</th>\n",
       "      <th>end_D</th>\n",
       "      <th>start_hour</th>\n",
       "      <th>start_min</th>\n",
       "      <th>start_sec</th>\n",
       "      <th>end_hour</th>\n",
       "      <th>end_min</th>\n",
       "      <th>end_sec</th>\n",
       "      <th>category</th>\n",
       "      <th>sub_category</th>\n",
       "      <th>sub_sub_category</th>\n",
       "      <th>product</th>\n",
       "    </tr>\n",
       "  </thead>\n",
       "  <tbody>\n",
       "    <tr>\n",
       "      <th>3132</th>\n",
       "      <td>2495</td>\n",
       "      <td>0</td>\n",
       "      <td>8</td>\n",
       "      <td>2</td>\n",
       "      <td>0</td>\n",
       "      <td>8</td>\n",
       "      <td>2</td>\n",
       "      <td>15</td>\n",
       "      <td>9</td>\n",
       "      <td>0</td>\n",
       "      <td>15</td>\n",
       "      <td>9</td>\n",
       "      <td>0</td>\n",
       "      <td>2</td>\n",
       "      <td>11</td>\n",
       "      <td>47</td>\n",
       "      <td>672</td>\n",
       "    </tr>\n",
       "    <tr>\n",
       "      <th>6183</th>\n",
       "      <td>5949</td>\n",
       "      <td>0</td>\n",
       "      <td>9</td>\n",
       "      <td>0</td>\n",
       "      <td>0</td>\n",
       "      <td>9</td>\n",
       "      <td>0</td>\n",
       "      <td>19</td>\n",
       "      <td>26</td>\n",
       "      <td>0</td>\n",
       "      <td>19</td>\n",
       "      <td>29</td>\n",
       "      <td>0</td>\n",
       "      <td>1</td>\n",
       "      <td>1</td>\n",
       "      <td>10</td>\n",
       "      <td>12073</td>\n",
       "    </tr>\n",
       "    <tr>\n",
       "      <th>8311</th>\n",
       "      <td>13686</td>\n",
       "      <td>0</td>\n",
       "      <td>9</td>\n",
       "      <td>2</td>\n",
       "      <td>0</td>\n",
       "      <td>9</td>\n",
       "      <td>2</td>\n",
       "      <td>21</td>\n",
       "      <td>48</td>\n",
       "      <td>0</td>\n",
       "      <td>22</td>\n",
       "      <td>2</td>\n",
       "      <td>0</td>\n",
       "      <td>1</td>\n",
       "      <td>1</td>\n",
       "      <td>11</td>\n",
       "      <td>17012</td>\n",
       "    </tr>\n",
       "    <tr>\n",
       "      <th>1559</th>\n",
       "      <td>7212</td>\n",
       "      <td>0</td>\n",
       "      <td>8</td>\n",
       "      <td>10</td>\n",
       "      <td>0</td>\n",
       "      <td>8</td>\n",
       "      <td>10</td>\n",
       "      <td>11</td>\n",
       "      <td>40</td>\n",
       "      <td>0</td>\n",
       "      <td>11</td>\n",
       "      <td>40</td>\n",
       "      <td>0</td>\n",
       "      <td>5</td>\n",
       "      <td>56</td>\n",
       "      <td>288</td>\n",
       "      <td>6253</td>\n",
       "    </tr>\n",
       "    <tr>\n",
       "      <th>10135</th>\n",
       "      <td>4996</td>\n",
       "      <td>0</td>\n",
       "      <td>8</td>\n",
       "      <td>4</td>\n",
       "      <td>0</td>\n",
       "      <td>8</td>\n",
       "      <td>4</td>\n",
       "      <td>23</td>\n",
       "      <td>2</td>\n",
       "      <td>0</td>\n",
       "      <td>23</td>\n",
       "      <td>11</td>\n",
       "      <td>0</td>\n",
       "      <td>1</td>\n",
       "      <td>1</td>\n",
       "      <td>6</td>\n",
       "      <td>3219</td>\n",
       "    </tr>\n",
       "  </tbody>\n",
       "</table>\n",
       "</div>"
      ],
      "text/plain": [
       "       session_id  start_Y  start_M  start_D  end_Y  end_M  end_D  start_hour  \\\n",
       "3132         2495        0        8        2      0      8      2          15   \n",
       "6183         5949        0        9        0      0      9      0          19   \n",
       "8311        13686        0        9        2      0      9      2          21   \n",
       "1559         7212        0        8       10      0      8     10          11   \n",
       "10135        4996        0        8        4      0      8      4          23   \n",
       "\n",
       "       start_min  start_sec  end_hour  end_min  end_sec  category  \\\n",
       "3132           9          0        15        9        0         2   \n",
       "6183          26          0        19       29        0         1   \n",
       "8311          48          0        22        2        0         1   \n",
       "1559          40          0        11       40        0         5   \n",
       "10135          2          0        23       11        0         1   \n",
       "\n",
       "       sub_category  sub_sub_category  product  \n",
       "3132             11                47      672  \n",
       "6183              1                10    12073  \n",
       "8311              1                11    17012  \n",
       "1559             56               288     6253  \n",
       "10135             1                 6     3219  "
      ]
     },
     "execution_count": 73,
     "metadata": {},
     "output_type": "execute_result"
    }
   ],
   "source": [
    "## Check first 5 records of train data after doing label encoding\n",
    "X_train.head()"
   ]
  },
  {
   "cell_type": "code",
   "execution_count": 74,
   "metadata": {},
   "outputs": [
    {
     "data": {
      "text/html": [
       "<div>\n",
       "<style scoped>\n",
       "    .dataframe tbody tr th:only-of-type {\n",
       "        vertical-align: middle;\n",
       "    }\n",
       "\n",
       "    .dataframe tbody tr th {\n",
       "        vertical-align: top;\n",
       "    }\n",
       "\n",
       "    .dataframe thead th {\n",
       "        text-align: right;\n",
       "    }\n",
       "</style>\n",
       "<table border=\"1\" class=\"dataframe\">\n",
       "  <thead>\n",
       "    <tr style=\"text-align: right;\">\n",
       "      <th></th>\n",
       "      <th>session_id</th>\n",
       "      <th>start_Y</th>\n",
       "      <th>start_M</th>\n",
       "      <th>start_D</th>\n",
       "      <th>end_Y</th>\n",
       "      <th>end_M</th>\n",
       "      <th>end_D</th>\n",
       "      <th>start_hour</th>\n",
       "      <th>start_min</th>\n",
       "      <th>start_sec</th>\n",
       "      <th>end_hour</th>\n",
       "      <th>end_min</th>\n",
       "      <th>end_sec</th>\n",
       "      <th>category</th>\n",
       "      <th>sub_category</th>\n",
       "      <th>sub_sub_category</th>\n",
       "      <th>product</th>\n",
       "    </tr>\n",
       "  </thead>\n",
       "  <tbody>\n",
       "    <tr>\n",
       "      <th>1771</th>\n",
       "      <td>1968</td>\n",
       "      <td>0</td>\n",
       "      <td>9</td>\n",
       "      <td>3</td>\n",
       "      <td>0</td>\n",
       "      <td>9</td>\n",
       "      <td>3</td>\n",
       "      <td>14</td>\n",
       "      <td>41</td>\n",
       "      <td>0</td>\n",
       "      <td>14</td>\n",
       "      <td>44</td>\n",
       "      <td>0</td>\n",
       "      <td>2</td>\n",
       "      <td>21</td>\n",
       "      <td>71</td>\n",
       "      <td>17409</td>\n",
       "    </tr>\n",
       "    <tr>\n",
       "      <th>2912</th>\n",
       "      <td>13602</td>\n",
       "      <td>0</td>\n",
       "      <td>9</td>\n",
       "      <td>7</td>\n",
       "      <td>0</td>\n",
       "      <td>9</td>\n",
       "      <td>7</td>\n",
       "      <td>19</td>\n",
       "      <td>56</td>\n",
       "      <td>0</td>\n",
       "      <td>20</td>\n",
       "      <td>5</td>\n",
       "      <td>0</td>\n",
       "      <td>4</td>\n",
       "      <td>61</td>\n",
       "      <td>263</td>\n",
       "      <td>20351</td>\n",
       "    </tr>\n",
       "    <tr>\n",
       "      <th>5401</th>\n",
       "      <td>13900</td>\n",
       "      <td>0</td>\n",
       "      <td>9</td>\n",
       "      <td>7</td>\n",
       "      <td>0</td>\n",
       "      <td>9</td>\n",
       "      <td>7</td>\n",
       "      <td>12</td>\n",
       "      <td>52</td>\n",
       "      <td>0</td>\n",
       "      <td>13</td>\n",
       "      <td>4</td>\n",
       "      <td>0</td>\n",
       "      <td>0</td>\n",
       "      <td>14</td>\n",
       "      <td>16</td>\n",
       "      <td>20084</td>\n",
       "    </tr>\n",
       "    <tr>\n",
       "      <th>4585</th>\n",
       "      <td>9091</td>\n",
       "      <td>0</td>\n",
       "      <td>8</td>\n",
       "      <td>14</td>\n",
       "      <td>0</td>\n",
       "      <td>8</td>\n",
       "      <td>14</td>\n",
       "      <td>9</td>\n",
       "      <td>13</td>\n",
       "      <td>0</td>\n",
       "      <td>9</td>\n",
       "      <td>13</td>\n",
       "      <td>0</td>\n",
       "      <td>1</td>\n",
       "      <td>0</td>\n",
       "      <td>9</td>\n",
       "      <td>8872</td>\n",
       "    </tr>\n",
       "    <tr>\n",
       "      <th>10025</th>\n",
       "      <td>1091</td>\n",
       "      <td>0</td>\n",
       "      <td>8</td>\n",
       "      <td>6</td>\n",
       "      <td>0</td>\n",
       "      <td>8</td>\n",
       "      <td>6</td>\n",
       "      <td>8</td>\n",
       "      <td>18</td>\n",
       "      <td>0</td>\n",
       "      <td>8</td>\n",
       "      <td>20</td>\n",
       "      <td>0</td>\n",
       "      <td>1</td>\n",
       "      <td>1</td>\n",
       "      <td>8</td>\n",
       "      <td>4348</td>\n",
       "    </tr>\n",
       "  </tbody>\n",
       "</table>\n",
       "</div>"
      ],
      "text/plain": [
       "       session_id  start_Y  start_M  start_D  end_Y  end_M  end_D  start_hour  \\\n",
       "1771         1968        0        9        3      0      9      3          14   \n",
       "2912        13602        0        9        7      0      9      7          19   \n",
       "5401        13900        0        9        7      0      9      7          12   \n",
       "4585         9091        0        8       14      0      8     14           9   \n",
       "10025        1091        0        8        6      0      8      6           8   \n",
       "\n",
       "       start_min  start_sec  end_hour  end_min  end_sec  category  \\\n",
       "1771          41          0        14       44        0         2   \n",
       "2912          56          0        20        5        0         4   \n",
       "5401          52          0        13        4        0         0   \n",
       "4585          13          0         9       13        0         1   \n",
       "10025         18          0         8       20        0         1   \n",
       "\n",
       "       sub_category  sub_sub_category  product  \n",
       "1771             21                71    17409  \n",
       "2912             61               263    20351  \n",
       "5401             14                16    20084  \n",
       "4585              0                 9     8872  \n",
       "10025             1                 8     4348  "
      ]
     },
     "execution_count": 74,
     "metadata": {},
     "output_type": "execute_result"
    }
   ],
   "source": [
    "## Check first 5 records of validation data after doing label encoding\n",
    "X_test.head()"
   ]
  },
  {
   "cell_type": "code",
   "execution_count": 75,
   "metadata": {
    "scrolled": true
   },
   "outputs": [
    {
     "data": {
      "text/html": [
       "<div>\n",
       "<style scoped>\n",
       "    .dataframe tbody tr th:only-of-type {\n",
       "        vertical-align: middle;\n",
       "    }\n",
       "\n",
       "    .dataframe tbody tr th {\n",
       "        vertical-align: top;\n",
       "    }\n",
       "\n",
       "    .dataframe thead th {\n",
       "        text-align: right;\n",
       "    }\n",
       "</style>\n",
       "<table border=\"1\" class=\"dataframe\">\n",
       "  <thead>\n",
       "    <tr style=\"text-align: right;\">\n",
       "      <th></th>\n",
       "      <th>session_id</th>\n",
       "      <th>start_Y</th>\n",
       "      <th>start_M</th>\n",
       "      <th>start_D</th>\n",
       "      <th>end_Y</th>\n",
       "      <th>end_M</th>\n",
       "      <th>end_D</th>\n",
       "      <th>start_hour</th>\n",
       "      <th>start_min</th>\n",
       "      <th>start_sec</th>\n",
       "      <th>end_hour</th>\n",
       "      <th>end_min</th>\n",
       "      <th>end_sec</th>\n",
       "      <th>category</th>\n",
       "      <th>sub_category</th>\n",
       "      <th>sub_sub_category</th>\n",
       "      <th>product</th>\n",
       "    </tr>\n",
       "  </thead>\n",
       "  <tbody>\n",
       "    <tr>\n",
       "      <th>0</th>\n",
       "      <td>2111</td>\n",
       "      <td>0</td>\n",
       "      <td>6</td>\n",
       "      <td>0</td>\n",
       "      <td>0</td>\n",
       "      <td>6</td>\n",
       "      <td>0</td>\n",
       "      <td>13</td>\n",
       "      <td>36</td>\n",
       "      <td>0</td>\n",
       "      <td>13</td>\n",
       "      <td>36</td>\n",
       "      <td>0</td>\n",
       "      <td>1</td>\n",
       "      <td>2</td>\n",
       "      <td>5</td>\n",
       "      <td>12675</td>\n",
       "    </tr>\n",
       "    <tr>\n",
       "      <th>1</th>\n",
       "      <td>9724</td>\n",
       "      <td>0</td>\n",
       "      <td>9</td>\n",
       "      <td>7</td>\n",
       "      <td>0</td>\n",
       "      <td>9</td>\n",
       "      <td>7</td>\n",
       "      <td>13</td>\n",
       "      <td>52</td>\n",
       "      <td>0</td>\n",
       "      <td>13</td>\n",
       "      <td>52</td>\n",
       "      <td>0</td>\n",
       "      <td>1</td>\n",
       "      <td>4</td>\n",
       "      <td>66</td>\n",
       "      <td>1407</td>\n",
       "    </tr>\n",
       "    <tr>\n",
       "      <th>2</th>\n",
       "      <td>1794</td>\n",
       "      <td>0</td>\n",
       "      <td>0</td>\n",
       "      <td>0</td>\n",
       "      <td>0</td>\n",
       "      <td>0</td>\n",
       "      <td>0</td>\n",
       "      <td>10</td>\n",
       "      <td>44</td>\n",
       "      <td>0</td>\n",
       "      <td>10</td>\n",
       "      <td>44</td>\n",
       "      <td>0</td>\n",
       "      <td>1</td>\n",
       "      <td>1</td>\n",
       "      <td>3</td>\n",
       "      <td>8129</td>\n",
       "    </tr>\n",
       "    <tr>\n",
       "      <th>3</th>\n",
       "      <td>12638</td>\n",
       "      <td>0</td>\n",
       "      <td>6</td>\n",
       "      <td>0</td>\n",
       "      <td>0</td>\n",
       "      <td>6</td>\n",
       "      <td>0</td>\n",
       "      <td>20</td>\n",
       "      <td>19</td>\n",
       "      <td>0</td>\n",
       "      <td>20</td>\n",
       "      <td>22</td>\n",
       "      <td>0</td>\n",
       "      <td>1</td>\n",
       "      <td>2</td>\n",
       "      <td>77</td>\n",
       "      <td>14345</td>\n",
       "    </tr>\n",
       "    <tr>\n",
       "      <th>3</th>\n",
       "      <td>12638</td>\n",
       "      <td>0</td>\n",
       "      <td>6</td>\n",
       "      <td>0</td>\n",
       "      <td>0</td>\n",
       "      <td>6</td>\n",
       "      <td>0</td>\n",
       "      <td>20</td>\n",
       "      <td>19</td>\n",
       "      <td>0</td>\n",
       "      <td>20</td>\n",
       "      <td>22</td>\n",
       "      <td>0</td>\n",
       "      <td>1</td>\n",
       "      <td>2</td>\n",
       "      <td>77</td>\n",
       "      <td>14346</td>\n",
       "    </tr>\n",
       "  </tbody>\n",
       "</table>\n",
       "</div>"
      ],
      "text/plain": [
       "   session_id  start_Y  start_M  start_D  end_Y  end_M  end_D  start_hour  \\\n",
       "0        2111        0        6        0      0      6      0          13   \n",
       "1        9724        0        9        7      0      9      7          13   \n",
       "2        1794        0        0        0      0      0      0          10   \n",
       "3       12638        0        6        0      0      6      0          20   \n",
       "3       12638        0        6        0      0      6      0          20   \n",
       "\n",
       "   start_min  start_sec  end_hour  end_min  end_sec  category  sub_category  \\\n",
       "0         36          0        13       36        0         1             2   \n",
       "1         52          0        13       52        0         1             4   \n",
       "2         44          0        10       44        0         1             1   \n",
       "3         19          0        20       22        0         1             2   \n",
       "3         19          0        20       22        0         1             2   \n",
       "\n",
       "   sub_sub_category  product  \n",
       "0                 5    12675  \n",
       "1                66     1407  \n",
       "2                 3     8129  \n",
       "3                77    14345  \n",
       "3                77    14346  "
      ]
     },
     "execution_count": 75,
     "metadata": {},
     "output_type": "execute_result"
    }
   ],
   "source": [
    "## Check first 5 records of test data after doing label encoding\n",
    "test_data.head()"
   ]
  },
  {
   "cell_type": "code",
   "execution_count": 76,
   "metadata": {},
   "outputs": [],
   "source": [
    "test = test_data.copy()"
   ]
  },
  {
   "cell_type": "code",
   "execution_count": 77,
   "metadata": {
    "scrolled": false
   },
   "outputs": [
    {
     "data": {
      "text/html": [
       "<div>\n",
       "<style scoped>\n",
       "    .dataframe tbody tr th:only-of-type {\n",
       "        vertical-align: middle;\n",
       "    }\n",
       "\n",
       "    .dataframe tbody tr th {\n",
       "        vertical-align: top;\n",
       "    }\n",
       "\n",
       "    .dataframe thead th {\n",
       "        text-align: right;\n",
       "    }\n",
       "</style>\n",
       "<table border=\"1\" class=\"dataframe\">\n",
       "  <thead>\n",
       "    <tr style=\"text-align: right;\">\n",
       "      <th></th>\n",
       "      <th>session_id</th>\n",
       "      <th>start_Y</th>\n",
       "      <th>start_M</th>\n",
       "      <th>start_D</th>\n",
       "      <th>end_Y</th>\n",
       "      <th>end_M</th>\n",
       "      <th>end_D</th>\n",
       "      <th>start_hour</th>\n",
       "      <th>start_min</th>\n",
       "      <th>start_sec</th>\n",
       "      <th>end_hour</th>\n",
       "      <th>end_min</th>\n",
       "      <th>end_sec</th>\n",
       "      <th>category</th>\n",
       "      <th>sub_category</th>\n",
       "      <th>sub_sub_category</th>\n",
       "      <th>product</th>\n",
       "    </tr>\n",
       "  </thead>\n",
       "  <tbody>\n",
       "    <tr>\n",
       "      <th>0</th>\n",
       "      <td>2111</td>\n",
       "      <td>0</td>\n",
       "      <td>6</td>\n",
       "      <td>0</td>\n",
       "      <td>0</td>\n",
       "      <td>6</td>\n",
       "      <td>0</td>\n",
       "      <td>13</td>\n",
       "      <td>36</td>\n",
       "      <td>0</td>\n",
       "      <td>13</td>\n",
       "      <td>36</td>\n",
       "      <td>0</td>\n",
       "      <td>1</td>\n",
       "      <td>2</td>\n",
       "      <td>5</td>\n",
       "      <td>12675</td>\n",
       "    </tr>\n",
       "    <tr>\n",
       "      <th>1</th>\n",
       "      <td>9724</td>\n",
       "      <td>0</td>\n",
       "      <td>9</td>\n",
       "      <td>7</td>\n",
       "      <td>0</td>\n",
       "      <td>9</td>\n",
       "      <td>7</td>\n",
       "      <td>13</td>\n",
       "      <td>52</td>\n",
       "      <td>0</td>\n",
       "      <td>13</td>\n",
       "      <td>52</td>\n",
       "      <td>0</td>\n",
       "      <td>1</td>\n",
       "      <td>4</td>\n",
       "      <td>66</td>\n",
       "      <td>1407</td>\n",
       "    </tr>\n",
       "    <tr>\n",
       "      <th>2</th>\n",
       "      <td>1794</td>\n",
       "      <td>0</td>\n",
       "      <td>0</td>\n",
       "      <td>0</td>\n",
       "      <td>0</td>\n",
       "      <td>0</td>\n",
       "      <td>0</td>\n",
       "      <td>10</td>\n",
       "      <td>44</td>\n",
       "      <td>0</td>\n",
       "      <td>10</td>\n",
       "      <td>44</td>\n",
       "      <td>0</td>\n",
       "      <td>1</td>\n",
       "      <td>1</td>\n",
       "      <td>3</td>\n",
       "      <td>8129</td>\n",
       "    </tr>\n",
       "    <tr>\n",
       "      <th>3</th>\n",
       "      <td>12638</td>\n",
       "      <td>0</td>\n",
       "      <td>6</td>\n",
       "      <td>0</td>\n",
       "      <td>0</td>\n",
       "      <td>6</td>\n",
       "      <td>0</td>\n",
       "      <td>20</td>\n",
       "      <td>19</td>\n",
       "      <td>0</td>\n",
       "      <td>20</td>\n",
       "      <td>22</td>\n",
       "      <td>0</td>\n",
       "      <td>1</td>\n",
       "      <td>2</td>\n",
       "      <td>77</td>\n",
       "      <td>14345</td>\n",
       "    </tr>\n",
       "    <tr>\n",
       "      <th>3</th>\n",
       "      <td>12638</td>\n",
       "      <td>0</td>\n",
       "      <td>6</td>\n",
       "      <td>0</td>\n",
       "      <td>0</td>\n",
       "      <td>6</td>\n",
       "      <td>0</td>\n",
       "      <td>20</td>\n",
       "      <td>19</td>\n",
       "      <td>0</td>\n",
       "      <td>20</td>\n",
       "      <td>22</td>\n",
       "      <td>0</td>\n",
       "      <td>1</td>\n",
       "      <td>2</td>\n",
       "      <td>77</td>\n",
       "      <td>14346</td>\n",
       "    </tr>\n",
       "  </tbody>\n",
       "</table>\n",
       "</div>"
      ],
      "text/plain": [
       "   session_id  start_Y  start_M  start_D  end_Y  end_M  end_D  start_hour  \\\n",
       "0        2111        0        6        0      0      6      0          13   \n",
       "1        9724        0        9        7      0      9      7          13   \n",
       "2        1794        0        0        0      0      0      0          10   \n",
       "3       12638        0        6        0      0      6      0          20   \n",
       "3       12638        0        6        0      0      6      0          20   \n",
       "\n",
       "   start_min  start_sec  end_hour  end_min  end_sec  category  sub_category  \\\n",
       "0         36          0        13       36        0         1             2   \n",
       "1         52          0        13       52        0         1             4   \n",
       "2         44          0        10       44        0         1             1   \n",
       "3         19          0        20       22        0         1             2   \n",
       "3         19          0        20       22        0         1             2   \n",
       "\n",
       "   sub_sub_category  product  \n",
       "0                 5    12675  \n",
       "1                66     1407  \n",
       "2                 3     8129  \n",
       "3                77    14345  \n",
       "3                77    14346  "
      ]
     },
     "execution_count": 77,
     "metadata": {},
     "output_type": "execute_result"
    }
   ],
   "source": [
    "test.head()"
   ]
  },
  {
   "cell_type": "markdown",
   "metadata": {},
   "source": [
    "# 7. Build Different Classification Models"
   ]
  },
  {
   "cell_type": "markdown",
   "metadata": {},
   "source": [
    "## 7.1 XGBoost"
   ]
  },
  {
   "cell_type": "code",
   "execution_count": 78,
   "metadata": {},
   "outputs": [
    {
     "name": "stdout",
     "output_type": "stream",
     "text": [
      "Fitting 5 folds for each of 48 candidates, totalling 240 fits\n"
     ]
    },
    {
     "name": "stderr",
     "output_type": "stream",
     "text": [
      "[Parallel(n_jobs=-1)]: Using backend LokyBackend with 12 concurrent workers.\n",
      "[Parallel(n_jobs=-1)]: Done  26 tasks      | elapsed:   12.4s\n",
      "[Parallel(n_jobs=-1)]: Done 176 tasks      | elapsed:  1.1min\n",
      "[Parallel(n_jobs=-1)]: Done 240 out of 240 | elapsed:  1.8min finished\n"
     ]
    },
    {
     "name": "stdout",
     "output_type": "stream",
     "text": [
      "Wall time: 2min 2s\n",
      "0.9446774193548387\n",
      "{'max_depth': 7, 'n_estimators': 200}\n"
     ]
    }
   ],
   "source": [
    "xgb = XGBClassifier() ## Instantiate XGBClassifier model\n",
    "\n",
    "optimization_dict = {'max_depth': [2,3,4,5,6,7], ## trying with different max_depth,n_estimators to find best model\n",
    "                      'n_estimators': [50,60,70,80,90,100,150,200]} \n",
    "\n",
    "## Build best model with Grid Search params\n",
    "model = GridSearchCV(xgb, ## XGB model\n",
    "                     optimization_dict, ## dictory with different max_depth,n_estimators\n",
    "                     scoring='accuracy', ## on which parameter we are interested\n",
    "                     verbose=1, ## for messaging purpose\n",
    "                     n_jobs=-1) ## Number of jobs to run in parallel. ''-1' means use all processors\n",
    "\n",
    "%time model.fit(X_train, y_train) ## Fit a model\n",
    "print(model.best_score_) ## Display best score calues\n",
    "print(model.best_params_) ## Display best parameters"
   ]
  },
  {
   "cell_type": "code",
   "execution_count": 79,
   "metadata": {},
   "outputs": [
    {
     "name": "stdout",
     "output_type": "stream",
     "text": [
      "Wall time: 11.7 s\n"
     ]
    },
    {
     "data": {
      "text/plain": [
       "XGBClassifier(base_score=0.5, booster='gbtree', colsample_bylevel=1,\n",
       "              colsample_bynode=1, colsample_bytree=1, gamma=0,\n",
       "              learning_rate=0.1, max_delta_step=0, max_depth=7,\n",
       "              min_child_weight=1, missing=None, n_estimators=200, n_jobs=1,\n",
       "              nthread=None, objective='binary:logistic', random_state=0,\n",
       "              reg_alpha=0, reg_lambda=1, scale_pos_weight=1, seed=None,\n",
       "              silent=None, subsample=1, verbosity=1)"
      ]
     },
     "execution_count": 79,
     "metadata": {},
     "output_type": "execute_result"
    }
   ],
   "source": [
    "## The best params were found after grid search CV (above code)\n",
    "model = XGBClassifier(max_depth=7, n_estimators=200)\n",
    "%time model.fit(X_train, y_train)"
   ]
  },
  {
   "cell_type": "code",
   "execution_count": 80,
   "metadata": {},
   "outputs": [],
   "source": [
    "## Get the important features from model and sort them  based on value\n",
    "results=pd.DataFrame()\n",
    "results['columns']=X_train.columns\n",
    "results['importances'] = model.feature_importances_\n",
    "results.sort_values(by='importances',ascending=False,inplace=True)"
   ]
  },
  {
   "cell_type": "code",
   "execution_count": 81,
   "metadata": {
    "scrolled": true
   },
   "outputs": [
    {
     "data": {
      "text/html": [
       "<div>\n",
       "<style scoped>\n",
       "    .dataframe tbody tr th:only-of-type {\n",
       "        vertical-align: middle;\n",
       "    }\n",
       "\n",
       "    .dataframe tbody tr th {\n",
       "        vertical-align: top;\n",
       "    }\n",
       "\n",
       "    .dataframe thead th {\n",
       "        text-align: right;\n",
       "    }\n",
       "</style>\n",
       "<table border=\"1\" class=\"dataframe\">\n",
       "  <thead>\n",
       "    <tr style=\"text-align: right;\">\n",
       "      <th></th>\n",
       "      <th>columns</th>\n",
       "      <th>importances</th>\n",
       "    </tr>\n",
       "  </thead>\n",
       "  <tbody>\n",
       "    <tr>\n",
       "      <th>13</th>\n",
       "      <td>category</td>\n",
       "      <td>0.620434</td>\n",
       "    </tr>\n",
       "    <tr>\n",
       "      <th>0</th>\n",
       "      <td>session_id</td>\n",
       "      <td>0.059261</td>\n",
       "    </tr>\n",
       "    <tr>\n",
       "      <th>10</th>\n",
       "      <td>end_hour</td>\n",
       "      <td>0.035345</td>\n",
       "    </tr>\n",
       "    <tr>\n",
       "      <th>5</th>\n",
       "      <td>end_M</td>\n",
       "      <td>0.035240</td>\n",
       "    </tr>\n",
       "    <tr>\n",
       "      <th>6</th>\n",
       "      <td>end_D</td>\n",
       "      <td>0.031765</td>\n",
       "    </tr>\n",
       "  </tbody>\n",
       "</table>\n",
       "</div>"
      ],
      "text/plain": [
       "       columns  importances\n",
       "13    category     0.620434\n",
       "0   session_id     0.059261\n",
       "10    end_hour     0.035345\n",
       "5        end_M     0.035240\n",
       "6        end_D     0.031765"
      ]
     },
     "execution_count": 81,
     "metadata": {},
     "output_type": "execute_result"
    }
   ],
   "source": [
    "## Check first 5 records of results\n",
    "results.head()"
   ]
  },
  {
   "cell_type": "code",
   "execution_count": 82,
   "metadata": {},
   "outputs": [],
   "source": [
    "## Get the predictions on train data\n",
    "train_pred = model.predict(X_train)"
   ]
  },
  {
   "cell_type": "code",
   "execution_count": 83,
   "metadata": {},
   "outputs": [
    {
     "name": "stdout",
     "output_type": "stream",
     "text": [
      "Train Accuracy : 0.9748924731182795\n"
     ]
    }
   ],
   "source": [
    "## Display accuracy value for train data\n",
    "print(\"Train Accuracy :\",accuracy_score(y_train,train_pred))"
   ]
  },
  {
   "cell_type": "code",
   "execution_count": 84,
   "metadata": {},
   "outputs": [],
   "source": [
    "## Get the predictions on validation data\n",
    "validation_pred = model.predict(X_test)"
   ]
  },
  {
   "cell_type": "code",
   "execution_count": 85,
   "metadata": {},
   "outputs": [
    {
     "name": "stdout",
     "output_type": "stream",
     "text": [
      "Validation Accuracy : 0.9546334121694259\n"
     ]
    }
   ],
   "source": [
    "## Display  accuracy value for validation data\n",
    "print(\"Validation Accuracy :\",accuracy_score(y_test,validation_pred))"
   ]
  },
  {
   "cell_type": "code",
   "execution_count": 86,
   "metadata": {},
   "outputs": [
    {
     "name": "stdout",
     "output_type": "stream",
     "text": [
      "[[14643    64]\n",
      " [  403  3490]]\n"
     ]
    }
   ],
   "source": [
    "## Get the confusion matrix for train data\n",
    "confusion_matrix_train = confusion_matrix(y_train, train_pred)\n",
    "print(confusion_matrix_train)"
   ]
  },
  {
   "cell_type": "code",
   "execution_count": 87,
   "metadata": {},
   "outputs": [
    {
     "name": "stdout",
     "output_type": "stream",
     "text": [
      "[[3652   51]\n",
      " [ 160  788]]\n"
     ]
    }
   ],
   "source": [
    "## Get the confusion matrix for validation data\n",
    "confusion_matrix_test = confusion_matrix(y_test, validation_pred)\n",
    "print(confusion_matrix_test)"
   ]
  },
  {
   "cell_type": "code",
   "execution_count": 88,
   "metadata": {
    "scrolled": true
   },
   "outputs": [
    {
     "name": "stdout",
     "output_type": "stream",
     "text": [
      "Train TNR:  0.9956483307268648\n",
      "\n",
      "\n",
      "Train TPR:  0.8964808630875931\n",
      "\n",
      "\n",
      "Train Accuracy:  0.9748924731182795\n"
     ]
    }
   ],
   "source": [
    "Accuracy_Train=(confusion_matrix_train[0,0]+confusion_matrix_train[1,1])/(confusion_matrix_train[0,0]+confusion_matrix_train[0,1]+confusion_matrix_train[1,0]+confusion_matrix_train[1,1])\n",
    "TNR_Train= confusion_matrix_train[0,0]/(confusion_matrix_train[0,0]+confusion_matrix_train[0,1])\n",
    "TPR_Train= confusion_matrix_train[1,1]/(confusion_matrix_train[1,0]+confusion_matrix_train[1,1])\n",
    "\n",
    "print(\"Train TNR: \",TNR_Train)\n",
    "print(\"\\n\")\n",
    "print(\"Train TPR: \",TPR_Train)\n",
    "print(\"\\n\")\n",
    "print(\"Train Accuracy: \",Accuracy_Train)"
   ]
  },
  {
   "cell_type": "code",
   "execution_count": 89,
   "metadata": {},
   "outputs": [
    {
     "name": "stdout",
     "output_type": "stream",
     "text": [
      "Test TNR:  0.9862273832028086\n",
      "\n",
      "\n",
      "Test TPR:  0.8312236286919831\n",
      "\n",
      "\n",
      "Test Accuracy:  0.9546334121694259\n"
     ]
    }
   ],
   "source": [
    "Accuracy_Test=(confusion_matrix_test[0,0]+confusion_matrix_test[1,1])/(confusion_matrix_test[0,0]+confusion_matrix_test[0,1]+confusion_matrix_test[1,0]+confusion_matrix_test[1,1])\n",
    "TNR_Test= confusion_matrix_test[0,0]/(confusion_matrix_test[0,0] +confusion_matrix_test[0,1])\n",
    "TPR_Test= confusion_matrix_test[1,1]/(confusion_matrix_test[1,0] +confusion_matrix_test[1,1])\n",
    "\n",
    "print(\"Test TNR: \",TNR_Test)\n",
    "print(\"\\n\")\n",
    "print(\"Test TPR: \",TPR_Test)\n",
    "print(\"\\n\")\n",
    "print(\"Test Accuracy: \",Accuracy_Test)"
   ]
  },
  {
   "cell_type": "code",
   "execution_count": 90,
   "metadata": {},
   "outputs": [],
   "source": [
    "## Get the predictions on test data\n",
    "y_pred = model.predict(test_data)"
   ]
  },
  {
   "cell_type": "code",
   "execution_count": 91,
   "metadata": {},
   "outputs": [
    {
     "data": {
      "text/plain": [
       "array([0, 0, 0, ..., 0, 0, 0])"
      ]
     },
     "execution_count": 91,
     "metadata": {},
     "output_type": "execute_result"
    }
   ],
   "source": [
    "y_pred"
   ]
  },
  {
   "cell_type": "code",
   "execution_count": 92,
   "metadata": {},
   "outputs": [],
   "source": [
    "## Do inverse transform on y_ped so that we will get it's original values(male,female)\n",
    "test_data['gender'] = le_gender.inverse_transform(y_pred)"
   ]
  },
  {
   "cell_type": "code",
   "execution_count": 93,
   "metadata": {},
   "outputs": [],
   "source": [
    "## Do inverse transform on session_id so that we will get it's original values\n",
    "test_data['session_id'] = le_session.inverse_transform(test_data['session_id'])"
   ]
  },
  {
   "cell_type": "code",
   "execution_count": 94,
   "metadata": {
    "scrolled": false
   },
   "outputs": [
    {
     "data": {
      "text/html": [
       "<div>\n",
       "<style scoped>\n",
       "    .dataframe tbody tr th:only-of-type {\n",
       "        vertical-align: middle;\n",
       "    }\n",
       "\n",
       "    .dataframe tbody tr th {\n",
       "        vertical-align: top;\n",
       "    }\n",
       "\n",
       "    .dataframe thead th {\n",
       "        text-align: right;\n",
       "    }\n",
       "</style>\n",
       "<table border=\"1\" class=\"dataframe\">\n",
       "  <thead>\n",
       "    <tr style=\"text-align: right;\">\n",
       "      <th></th>\n",
       "      <th>session_id</th>\n",
       "      <th>start_Y</th>\n",
       "      <th>start_M</th>\n",
       "      <th>start_D</th>\n",
       "      <th>end_Y</th>\n",
       "      <th>end_M</th>\n",
       "      <th>end_D</th>\n",
       "      <th>start_hour</th>\n",
       "      <th>start_min</th>\n",
       "      <th>start_sec</th>\n",
       "      <th>end_hour</th>\n",
       "      <th>end_min</th>\n",
       "      <th>end_sec</th>\n",
       "      <th>category</th>\n",
       "      <th>sub_category</th>\n",
       "      <th>sub_sub_category</th>\n",
       "      <th>product</th>\n",
       "      <th>gender</th>\n",
       "    </tr>\n",
       "  </thead>\n",
       "  <tbody>\n",
       "    <tr>\n",
       "      <th>0</th>\n",
       "      <td>u12112</td>\n",
       "      <td>0</td>\n",
       "      <td>6</td>\n",
       "      <td>0</td>\n",
       "      <td>0</td>\n",
       "      <td>6</td>\n",
       "      <td>0</td>\n",
       "      <td>13</td>\n",
       "      <td>36</td>\n",
       "      <td>0</td>\n",
       "      <td>13</td>\n",
       "      <td>36</td>\n",
       "      <td>0</td>\n",
       "      <td>1</td>\n",
       "      <td>2</td>\n",
       "      <td>5</td>\n",
       "      <td>12675</td>\n",
       "      <td>female</td>\n",
       "    </tr>\n",
       "    <tr>\n",
       "      <th>1</th>\n",
       "      <td>u19725</td>\n",
       "      <td>0</td>\n",
       "      <td>9</td>\n",
       "      <td>7</td>\n",
       "      <td>0</td>\n",
       "      <td>9</td>\n",
       "      <td>7</td>\n",
       "      <td>13</td>\n",
       "      <td>52</td>\n",
       "      <td>0</td>\n",
       "      <td>13</td>\n",
       "      <td>52</td>\n",
       "      <td>0</td>\n",
       "      <td>1</td>\n",
       "      <td>4</td>\n",
       "      <td>66</td>\n",
       "      <td>1407</td>\n",
       "      <td>female</td>\n",
       "    </tr>\n",
       "    <tr>\n",
       "      <th>2</th>\n",
       "      <td>u11795</td>\n",
       "      <td>0</td>\n",
       "      <td>0</td>\n",
       "      <td>0</td>\n",
       "      <td>0</td>\n",
       "      <td>0</td>\n",
       "      <td>0</td>\n",
       "      <td>10</td>\n",
       "      <td>44</td>\n",
       "      <td>0</td>\n",
       "      <td>10</td>\n",
       "      <td>44</td>\n",
       "      <td>0</td>\n",
       "      <td>1</td>\n",
       "      <td>1</td>\n",
       "      <td>3</td>\n",
       "      <td>8129</td>\n",
       "      <td>female</td>\n",
       "    </tr>\n",
       "    <tr>\n",
       "      <th>3</th>\n",
       "      <td>u22639</td>\n",
       "      <td>0</td>\n",
       "      <td>6</td>\n",
       "      <td>0</td>\n",
       "      <td>0</td>\n",
       "      <td>6</td>\n",
       "      <td>0</td>\n",
       "      <td>20</td>\n",
       "      <td>19</td>\n",
       "      <td>0</td>\n",
       "      <td>20</td>\n",
       "      <td>22</td>\n",
       "      <td>0</td>\n",
       "      <td>1</td>\n",
       "      <td>2</td>\n",
       "      <td>77</td>\n",
       "      <td>14345</td>\n",
       "      <td>male</td>\n",
       "    </tr>\n",
       "    <tr>\n",
       "      <th>3</th>\n",
       "      <td>u22639</td>\n",
       "      <td>0</td>\n",
       "      <td>6</td>\n",
       "      <td>0</td>\n",
       "      <td>0</td>\n",
       "      <td>6</td>\n",
       "      <td>0</td>\n",
       "      <td>20</td>\n",
       "      <td>19</td>\n",
       "      <td>0</td>\n",
       "      <td>20</td>\n",
       "      <td>22</td>\n",
       "      <td>0</td>\n",
       "      <td>1</td>\n",
       "      <td>2</td>\n",
       "      <td>77</td>\n",
       "      <td>14346</td>\n",
       "      <td>male</td>\n",
       "    </tr>\n",
       "  </tbody>\n",
       "</table>\n",
       "</div>"
      ],
      "text/plain": [
       "  session_id  start_Y  start_M  start_D  end_Y  end_M  end_D  start_hour  \\\n",
       "0     u12112        0        6        0      0      6      0          13   \n",
       "1     u19725        0        9        7      0      9      7          13   \n",
       "2     u11795        0        0        0      0      0      0          10   \n",
       "3     u22639        0        6        0      0      6      0          20   \n",
       "3     u22639        0        6        0      0      6      0          20   \n",
       "\n",
       "   start_min  start_sec  end_hour  end_min  end_sec  category  sub_category  \\\n",
       "0         36          0        13       36        0         1             2   \n",
       "1         52          0        13       52        0         1             4   \n",
       "2         44          0        10       44        0         1             1   \n",
       "3         19          0        20       22        0         1             2   \n",
       "3         19          0        20       22        0         1             2   \n",
       "\n",
       "   sub_sub_category  product  gender  \n",
       "0                 5    12675  female  \n",
       "1                66     1407  female  \n",
       "2                 3     8129  female  \n",
       "3                77    14345    male  \n",
       "3                77    14346    male  "
      ]
     },
     "execution_count": 94,
     "metadata": {},
     "output_type": "execute_result"
    }
   ],
   "source": [
    "## Check first 5 records after doing inverse transformation\n",
    "test_data.head()"
   ]
  },
  {
   "cell_type": "code",
   "execution_count": 95,
   "metadata": {},
   "outputs": [
    {
     "data": {
      "text/html": [
       "<div>\n",
       "<style scoped>\n",
       "    .dataframe tbody tr th:only-of-type {\n",
       "        vertical-align: middle;\n",
       "    }\n",
       "\n",
       "    .dataframe tbody tr th {\n",
       "        vertical-align: top;\n",
       "    }\n",
       "\n",
       "    .dataframe thead th {\n",
       "        text-align: right;\n",
       "    }\n",
       "</style>\n",
       "<table border=\"1\" class=\"dataframe\">\n",
       "  <thead>\n",
       "    <tr style=\"text-align: right;\">\n",
       "      <th></th>\n",
       "      <th>session_id</th>\n",
       "      <th>start_Y</th>\n",
       "      <th>start_M</th>\n",
       "      <th>start_D</th>\n",
       "      <th>end_Y</th>\n",
       "      <th>end_M</th>\n",
       "      <th>end_D</th>\n",
       "      <th>start_hour</th>\n",
       "      <th>start_min</th>\n",
       "      <th>start_sec</th>\n",
       "      <th>end_hour</th>\n",
       "      <th>end_min</th>\n",
       "      <th>end_sec</th>\n",
       "      <th>category</th>\n",
       "      <th>sub_category</th>\n",
       "      <th>sub_sub_category</th>\n",
       "      <th>product</th>\n",
       "      <th>gender</th>\n",
       "    </tr>\n",
       "  </thead>\n",
       "  <tbody>\n",
       "    <tr>\n",
       "      <th>0</th>\n",
       "      <td>u12112</td>\n",
       "      <td>0</td>\n",
       "      <td>6</td>\n",
       "      <td>0</td>\n",
       "      <td>0</td>\n",
       "      <td>6</td>\n",
       "      <td>0</td>\n",
       "      <td>13</td>\n",
       "      <td>36</td>\n",
       "      <td>0</td>\n",
       "      <td>13</td>\n",
       "      <td>36</td>\n",
       "      <td>0</td>\n",
       "      <td>1</td>\n",
       "      <td>2</td>\n",
       "      <td>5</td>\n",
       "      <td>12675</td>\n",
       "      <td>female</td>\n",
       "    </tr>\n",
       "    <tr>\n",
       "      <th>1</th>\n",
       "      <td>u19725</td>\n",
       "      <td>0</td>\n",
       "      <td>9</td>\n",
       "      <td>7</td>\n",
       "      <td>0</td>\n",
       "      <td>9</td>\n",
       "      <td>7</td>\n",
       "      <td>13</td>\n",
       "      <td>52</td>\n",
       "      <td>0</td>\n",
       "      <td>13</td>\n",
       "      <td>52</td>\n",
       "      <td>0</td>\n",
       "      <td>1</td>\n",
       "      <td>4</td>\n",
       "      <td>66</td>\n",
       "      <td>1407</td>\n",
       "      <td>female</td>\n",
       "    </tr>\n",
       "    <tr>\n",
       "      <th>2</th>\n",
       "      <td>u11795</td>\n",
       "      <td>0</td>\n",
       "      <td>0</td>\n",
       "      <td>0</td>\n",
       "      <td>0</td>\n",
       "      <td>0</td>\n",
       "      <td>0</td>\n",
       "      <td>10</td>\n",
       "      <td>44</td>\n",
       "      <td>0</td>\n",
       "      <td>10</td>\n",
       "      <td>44</td>\n",
       "      <td>0</td>\n",
       "      <td>1</td>\n",
       "      <td>1</td>\n",
       "      <td>3</td>\n",
       "      <td>8129</td>\n",
       "      <td>female</td>\n",
       "    </tr>\n",
       "    <tr>\n",
       "      <th>3</th>\n",
       "      <td>u22639</td>\n",
       "      <td>0</td>\n",
       "      <td>6</td>\n",
       "      <td>0</td>\n",
       "      <td>0</td>\n",
       "      <td>6</td>\n",
       "      <td>0</td>\n",
       "      <td>20</td>\n",
       "      <td>19</td>\n",
       "      <td>0</td>\n",
       "      <td>20</td>\n",
       "      <td>22</td>\n",
       "      <td>0</td>\n",
       "      <td>1</td>\n",
       "      <td>2</td>\n",
       "      <td>77</td>\n",
       "      <td>14345</td>\n",
       "      <td>male</td>\n",
       "    </tr>\n",
       "    <tr>\n",
       "      <th>4</th>\n",
       "      <td>u18034</td>\n",
       "      <td>0</td>\n",
       "      <td>9</td>\n",
       "      <td>3</td>\n",
       "      <td>0</td>\n",
       "      <td>9</td>\n",
       "      <td>3</td>\n",
       "      <td>19</td>\n",
       "      <td>33</td>\n",
       "      <td>0</td>\n",
       "      <td>19</td>\n",
       "      <td>33</td>\n",
       "      <td>0</td>\n",
       "      <td>1</td>\n",
       "      <td>0</td>\n",
       "      <td>9</td>\n",
       "      <td>14712</td>\n",
       "      <td>female</td>\n",
       "    </tr>\n",
       "  </tbody>\n",
       "</table>\n",
       "</div>"
      ],
      "text/plain": [
       "  session_id  start_Y  start_M  start_D  end_Y  end_M  end_D  start_hour  \\\n",
       "0     u12112        0        6        0      0      6      0          13   \n",
       "1     u19725        0        9        7      0      9      7          13   \n",
       "2     u11795        0        0        0      0      0      0          10   \n",
       "3     u22639        0        6        0      0      6      0          20   \n",
       "4     u18034        0        9        3      0      9      3          19   \n",
       "\n",
       "   start_min  start_sec  end_hour  end_min  end_sec  category  sub_category  \\\n",
       "0         36          0        13       36        0         1             2   \n",
       "1         52          0        13       52        0         1             4   \n",
       "2         44          0        10       44        0         1             1   \n",
       "3         19          0        20       22        0         1             2   \n",
       "4         33          0        19       33        0         1             0   \n",
       "\n",
       "   sub_sub_category  product  gender  \n",
       "0                 5    12675  female  \n",
       "1                66     1407  female  \n",
       "2                 3     8129  female  \n",
       "3                77    14345    male  \n",
       "4                 9    14712  female  "
      ]
     },
     "execution_count": 95,
     "metadata": {},
     "output_type": "execute_result"
    }
   ],
   "source": [
    "test_data.drop_duplicates(subset=['session_id']).head()"
   ]
  },
  {
   "cell_type": "code",
   "execution_count": 96,
   "metadata": {
    "scrolled": false
   },
   "outputs": [
    {
     "data": {
      "text/html": [
       "<div>\n",
       "<style scoped>\n",
       "    .dataframe tbody tr th:only-of-type {\n",
       "        vertical-align: middle;\n",
       "    }\n",
       "\n",
       "    .dataframe tbody tr th {\n",
       "        vertical-align: top;\n",
       "    }\n",
       "\n",
       "    .dataframe thead th {\n",
       "        text-align: right;\n",
       "    }\n",
       "</style>\n",
       "<table border=\"1\" class=\"dataframe\">\n",
       "  <thead>\n",
       "    <tr style=\"text-align: right;\">\n",
       "      <th></th>\n",
       "      <th>session_id</th>\n",
       "      <th>start_Y</th>\n",
       "      <th>start_M</th>\n",
       "      <th>start_D</th>\n",
       "      <th>end_Y</th>\n",
       "      <th>end_M</th>\n",
       "      <th>end_D</th>\n",
       "      <th>start_hour</th>\n",
       "      <th>start_min</th>\n",
       "      <th>start_sec</th>\n",
       "      <th>end_hour</th>\n",
       "      <th>end_min</th>\n",
       "      <th>end_sec</th>\n",
       "      <th>category</th>\n",
       "      <th>sub_category</th>\n",
       "      <th>sub_sub_category</th>\n",
       "      <th>product</th>\n",
       "      <th>gender</th>\n",
       "    </tr>\n",
       "  </thead>\n",
       "  <tbody>\n",
       "    <tr>\n",
       "      <th>9</th>\n",
       "      <td>u24492</td>\n",
       "      <td>0</td>\n",
       "      <td>9</td>\n",
       "      <td>6</td>\n",
       "      <td>0</td>\n",
       "      <td>9</td>\n",
       "      <td>6</td>\n",
       "      <td>13</td>\n",
       "      <td>15</td>\n",
       "      <td>0</td>\n",
       "      <td>13</td>\n",
       "      <td>19</td>\n",
       "      <td>0</td>\n",
       "      <td>0</td>\n",
       "      <td>0</td>\n",
       "      <td>18</td>\n",
       "      <td>3347</td>\n",
       "      <td>female</td>\n",
       "    </tr>\n",
       "    <tr>\n",
       "      <th>9</th>\n",
       "      <td>u24492</td>\n",
       "      <td>0</td>\n",
       "      <td>9</td>\n",
       "      <td>6</td>\n",
       "      <td>0</td>\n",
       "      <td>9</td>\n",
       "      <td>6</td>\n",
       "      <td>13</td>\n",
       "      <td>15</td>\n",
       "      <td>0</td>\n",
       "      <td>13</td>\n",
       "      <td>19</td>\n",
       "      <td>0</td>\n",
       "      <td>0</td>\n",
       "      <td>0</td>\n",
       "      <td>18</td>\n",
       "      <td>2601</td>\n",
       "      <td>female</td>\n",
       "    </tr>\n",
       "    <tr>\n",
       "      <th>9</th>\n",
       "      <td>u24492</td>\n",
       "      <td>0</td>\n",
       "      <td>9</td>\n",
       "      <td>6</td>\n",
       "      <td>0</td>\n",
       "      <td>9</td>\n",
       "      <td>6</td>\n",
       "      <td>13</td>\n",
       "      <td>15</td>\n",
       "      <td>0</td>\n",
       "      <td>13</td>\n",
       "      <td>19</td>\n",
       "      <td>0</td>\n",
       "      <td>0</td>\n",
       "      <td>0</td>\n",
       "      <td>18</td>\n",
       "      <td>19393</td>\n",
       "      <td>male</td>\n",
       "    </tr>\n",
       "    <tr>\n",
       "      <th>9</th>\n",
       "      <td>u24492</td>\n",
       "      <td>0</td>\n",
       "      <td>9</td>\n",
       "      <td>6</td>\n",
       "      <td>0</td>\n",
       "      <td>9</td>\n",
       "      <td>6</td>\n",
       "      <td>13</td>\n",
       "      <td>15</td>\n",
       "      <td>0</td>\n",
       "      <td>13</td>\n",
       "      <td>19</td>\n",
       "      <td>0</td>\n",
       "      <td>0</td>\n",
       "      <td>0</td>\n",
       "      <td>18</td>\n",
       "      <td>19394</td>\n",
       "      <td>male</td>\n",
       "    </tr>\n",
       "  </tbody>\n",
       "</table>\n",
       "</div>"
      ],
      "text/plain": [
       "  session_id  start_Y  start_M  start_D  end_Y  end_M  end_D  start_hour  \\\n",
       "9     u24492        0        9        6      0      9      6          13   \n",
       "9     u24492        0        9        6      0      9      6          13   \n",
       "9     u24492        0        9        6      0      9      6          13   \n",
       "9     u24492        0        9        6      0      9      6          13   \n",
       "\n",
       "   start_min  start_sec  end_hour  end_min  end_sec  category  sub_category  \\\n",
       "9         15          0        13       19        0         0             0   \n",
       "9         15          0        13       19        0         0             0   \n",
       "9         15          0        13       19        0         0             0   \n",
       "9         15          0        13       19        0         0             0   \n",
       "\n",
       "   sub_sub_category  product  gender  \n",
       "9                18     3347  female  \n",
       "9                18     2601  female  \n",
       "9                18    19393    male  \n",
       "9                18    19394    male  "
      ]
     },
     "execution_count": 96,
     "metadata": {},
     "output_type": "execute_result"
    }
   ],
   "source": [
    "test_data[test_data['session_id']=='u24492']"
   ]
  },
  {
   "cell_type": "code",
   "execution_count": 97,
   "metadata": {},
   "outputs": [
    {
     "data": {
      "text/plain": [
       "(10204, 18)"
      ]
     },
     "execution_count": 97,
     "metadata": {},
     "output_type": "execute_result"
    }
   ],
   "source": [
    "## Check the dimensions of the test_data before dropping dupliccate data\n",
    "test_data.shape"
   ]
  },
  {
   "cell_type": "code",
   "execution_count": 98,
   "metadata": {},
   "outputs": [],
   "source": [
    "## Drop duplicate session_id values\n",
    "test_data = test_data.drop_duplicates(subset=['session_id'])"
   ]
  },
  {
   "cell_type": "code",
   "execution_count": 99,
   "metadata": {},
   "outputs": [
    {
     "data": {
      "text/html": [
       "<div>\n",
       "<style scoped>\n",
       "    .dataframe tbody tr th:only-of-type {\n",
       "        vertical-align: middle;\n",
       "    }\n",
       "\n",
       "    .dataframe tbody tr th {\n",
       "        vertical-align: top;\n",
       "    }\n",
       "\n",
       "    .dataframe thead th {\n",
       "        text-align: right;\n",
       "    }\n",
       "</style>\n",
       "<table border=\"1\" class=\"dataframe\">\n",
       "  <thead>\n",
       "    <tr style=\"text-align: right;\">\n",
       "      <th></th>\n",
       "      <th>session_id</th>\n",
       "      <th>start_Y</th>\n",
       "      <th>start_M</th>\n",
       "      <th>start_D</th>\n",
       "      <th>end_Y</th>\n",
       "      <th>end_M</th>\n",
       "      <th>end_D</th>\n",
       "      <th>start_hour</th>\n",
       "      <th>start_min</th>\n",
       "      <th>start_sec</th>\n",
       "      <th>end_hour</th>\n",
       "      <th>end_min</th>\n",
       "      <th>end_sec</th>\n",
       "      <th>category</th>\n",
       "      <th>sub_category</th>\n",
       "      <th>sub_sub_category</th>\n",
       "      <th>product</th>\n",
       "      <th>gender</th>\n",
       "    </tr>\n",
       "  </thead>\n",
       "  <tbody>\n",
       "    <tr>\n",
       "      <th>9</th>\n",
       "      <td>u24492</td>\n",
       "      <td>0</td>\n",
       "      <td>9</td>\n",
       "      <td>6</td>\n",
       "      <td>0</td>\n",
       "      <td>9</td>\n",
       "      <td>6</td>\n",
       "      <td>13</td>\n",
       "      <td>15</td>\n",
       "      <td>0</td>\n",
       "      <td>13</td>\n",
       "      <td>19</td>\n",
       "      <td>0</td>\n",
       "      <td>0</td>\n",
       "      <td>0</td>\n",
       "      <td>18</td>\n",
       "      <td>3347</td>\n",
       "      <td>female</td>\n",
       "    </tr>\n",
       "  </tbody>\n",
       "</table>\n",
       "</div>"
      ],
      "text/plain": [
       "  session_id  start_Y  start_M  start_D  end_Y  end_M  end_D  start_hour  \\\n",
       "9     u24492        0        9        6      0      9      6          13   \n",
       "\n",
       "   start_min  start_sec  end_hour  end_min  end_sec  category  sub_category  \\\n",
       "9         15          0        13       19        0         0             0   \n",
       "\n",
       "   sub_sub_category  product  gender  \n",
       "9                18     3347  female  "
      ]
     },
     "execution_count": 99,
     "metadata": {},
     "output_type": "execute_result"
    }
   ],
   "source": [
    "test_data[test_data['session_id']=='u24492']"
   ]
  },
  {
   "cell_type": "code",
   "execution_count": 100,
   "metadata": {},
   "outputs": [
    {
     "data": {
      "text/plain": [
       "(4500, 18)"
      ]
     },
     "execution_count": 100,
     "metadata": {},
     "output_type": "execute_result"
    }
   ],
   "source": [
    "## Check the dimensions of the test_data after dropping dupliccate data\n",
    "test_data.shape"
   ]
  },
  {
   "cell_type": "code",
   "execution_count": 101,
   "metadata": {},
   "outputs": [],
   "source": [
    "## Get session_id,gender from test_data and store into to_submit\n",
    "to_submit = test_data[['session_id', 'gender']]"
   ]
  },
  {
   "cell_type": "code",
   "execution_count": 102,
   "metadata": {},
   "outputs": [
    {
     "data": {
      "text/html": [
       "<div>\n",
       "<style scoped>\n",
       "    .dataframe tbody tr th:only-of-type {\n",
       "        vertical-align: middle;\n",
       "    }\n",
       "\n",
       "    .dataframe tbody tr th {\n",
       "        vertical-align: top;\n",
       "    }\n",
       "\n",
       "    .dataframe thead th {\n",
       "        text-align: right;\n",
       "    }\n",
       "</style>\n",
       "<table border=\"1\" class=\"dataframe\">\n",
       "  <thead>\n",
       "    <tr style=\"text-align: right;\">\n",
       "      <th></th>\n",
       "      <th>session_id</th>\n",
       "      <th>gender</th>\n",
       "    </tr>\n",
       "  </thead>\n",
       "  <tbody>\n",
       "    <tr>\n",
       "      <th>0</th>\n",
       "      <td>u12112</td>\n",
       "      <td>female</td>\n",
       "    </tr>\n",
       "    <tr>\n",
       "      <th>1</th>\n",
       "      <td>u19725</td>\n",
       "      <td>female</td>\n",
       "    </tr>\n",
       "    <tr>\n",
       "      <th>2</th>\n",
       "      <td>u11795</td>\n",
       "      <td>female</td>\n",
       "    </tr>\n",
       "    <tr>\n",
       "      <th>3</th>\n",
       "      <td>u22639</td>\n",
       "      <td>male</td>\n",
       "    </tr>\n",
       "    <tr>\n",
       "      <th>4</th>\n",
       "      <td>u18034</td>\n",
       "      <td>female</td>\n",
       "    </tr>\n",
       "  </tbody>\n",
       "</table>\n",
       "</div>"
      ],
      "text/plain": [
       "  session_id  gender\n",
       "0     u12112  female\n",
       "1     u19725  female\n",
       "2     u11795  female\n",
       "3     u22639    male\n",
       "4     u18034  female"
      ]
     },
     "execution_count": 102,
     "metadata": {},
     "output_type": "execute_result"
    }
   ],
   "source": [
    "## Check first 5 records of to_submit\n",
    "to_submit.head()"
   ]
  },
  {
   "cell_type": "code",
   "execution_count": 103,
   "metadata": {},
   "outputs": [
    {
     "data": {
      "text/plain": [
       "female    3705\n",
       "male       795\n",
       "Name: gender, dtype: int64"
      ]
     },
     "execution_count": 103,
     "metadata": {},
     "output_type": "execute_result"
    }
   ],
   "source": [
    "## Get gender count value \n",
    "to_submit.gender.value_counts()"
   ]
  },
  {
   "cell_type": "code",
   "execution_count": 104,
   "metadata": {},
   "outputs": [],
   "source": [
    "## store to_submit into csv file with name xgb_model \n",
    "to_submit.to_csv('xgb_model.csv',index = False)"
   ]
  },
  {
   "cell_type": "markdown",
   "metadata": {},
   "source": [
    "## 7.2 Decision Tree "
   ]
  },
  {
   "cell_type": "code",
   "execution_count": 105,
   "metadata": {},
   "outputs": [],
   "source": [
    "## Instantiate Decision Tree and fit the model\n",
    "clf = DecisionTreeClassifier(max_depth=8)\n",
    "clf = clf.fit(X_train, y_train)"
   ]
  },
  {
   "cell_type": "code",
   "execution_count": 106,
   "metadata": {
    "scrolled": true
   },
   "outputs": [
    {
     "data": {
      "text/html": [
       "<div>\n",
       "<style scoped>\n",
       "    .dataframe tbody tr th:only-of-type {\n",
       "        vertical-align: middle;\n",
       "    }\n",
       "\n",
       "    .dataframe tbody tr th {\n",
       "        vertical-align: top;\n",
       "    }\n",
       "\n",
       "    .dataframe thead th {\n",
       "        text-align: right;\n",
       "    }\n",
       "</style>\n",
       "<table border=\"1\" class=\"dataframe\">\n",
       "  <thead>\n",
       "    <tr style=\"text-align: right;\">\n",
       "      <th></th>\n",
       "      <th>Imp</th>\n",
       "    </tr>\n",
       "  </thead>\n",
       "  <tbody>\n",
       "    <tr>\n",
       "      <th>category</th>\n",
       "      <td>0.746204</td>\n",
       "    </tr>\n",
       "    <tr>\n",
       "      <th>session_id</th>\n",
       "      <td>0.143283</td>\n",
       "    </tr>\n",
       "    <tr>\n",
       "      <th>sub_sub_category</th>\n",
       "      <td>0.025259</td>\n",
       "    </tr>\n",
       "    <tr>\n",
       "      <th>product</th>\n",
       "      <td>0.023325</td>\n",
       "    </tr>\n",
       "    <tr>\n",
       "      <th>sub_category</th>\n",
       "      <td>0.011094</td>\n",
       "    </tr>\n",
       "    <tr>\n",
       "      <th>start_min</th>\n",
       "      <td>0.010776</td>\n",
       "    </tr>\n",
       "    <tr>\n",
       "      <th>end_D</th>\n",
       "      <td>0.008914</td>\n",
       "    </tr>\n",
       "    <tr>\n",
       "      <th>start_hour</th>\n",
       "      <td>0.008213</td>\n",
       "    </tr>\n",
       "    <tr>\n",
       "      <th>end_hour</th>\n",
       "      <td>0.007728</td>\n",
       "    </tr>\n",
       "    <tr>\n",
       "      <th>end_min</th>\n",
       "      <td>0.005019</td>\n",
       "    </tr>\n",
       "    <tr>\n",
       "      <th>start_D</th>\n",
       "      <td>0.003976</td>\n",
       "    </tr>\n",
       "    <tr>\n",
       "      <th>start_M</th>\n",
       "      <td>0.003968</td>\n",
       "    </tr>\n",
       "    <tr>\n",
       "      <th>end_M</th>\n",
       "      <td>0.002241</td>\n",
       "    </tr>\n",
       "    <tr>\n",
       "      <th>end_sec</th>\n",
       "      <td>0.000000</td>\n",
       "    </tr>\n",
       "    <tr>\n",
       "      <th>start_sec</th>\n",
       "      <td>0.000000</td>\n",
       "    </tr>\n",
       "    <tr>\n",
       "      <th>end_Y</th>\n",
       "      <td>0.000000</td>\n",
       "    </tr>\n",
       "    <tr>\n",
       "      <th>start_Y</th>\n",
       "      <td>0.000000</td>\n",
       "    </tr>\n",
       "  </tbody>\n",
       "</table>\n",
       "</div>"
      ],
      "text/plain": [
       "                       Imp\n",
       "category          0.746204\n",
       "session_id        0.143283\n",
       "sub_sub_category  0.025259\n",
       "product           0.023325\n",
       "sub_category      0.011094\n",
       "start_min         0.010776\n",
       "end_D             0.008914\n",
       "start_hour        0.008213\n",
       "end_hour          0.007728\n",
       "end_min           0.005019\n",
       "start_D           0.003976\n",
       "start_M           0.003968\n",
       "end_M             0.002241\n",
       "end_sec           0.000000\n",
       "start_sec         0.000000\n",
       "end_Y             0.000000\n",
       "start_Y           0.000000"
      ]
     },
     "execution_count": 106,
     "metadata": {},
     "output_type": "execute_result"
    }
   ],
   "source": [
    "## Get important features from model\n",
    "importances = clf.feature_importances_\n",
    "indices = np.argsort(importances)[::-1]\n",
    "names=np.asarray(X_train.columns[indices])\n",
    "Important=pd.DataFrame(np.sort(importances)[::-1],index=names,columns=['Imp'])\n",
    "Important"
   ]
  },
  {
   "cell_type": "code",
   "execution_count": 107,
   "metadata": {},
   "outputs": [
    {
     "data": {
      "text/plain": [
       "<matplotlib.axes._subplots.AxesSubplot at 0x27f31195c88>"
      ]
     },
     "execution_count": 107,
     "metadata": {},
     "output_type": "execute_result"
    },
    {
     "data": {
      "image/png": "[encoded data removed]",
      "text/plain": [
       "<Figure size 432x288 with 1 Axes>"
      ]
     },
     "metadata": {},
     "output_type": "display_data"
    }
   ],
   "source": [
    "### Plot importances features\n",
    "Important.plot(kind='bar')"
   ]
  },
  {
   "cell_type": "code",
   "execution_count": 108,
   "metadata": {},
   "outputs": [],
   "source": [
    "## Get the predictions on train and test\n",
    "train_pred = clf.predict(X_train)\n",
    "validation_pred = clf.predict(X_test)"
   ]
  },
  {
   "cell_type": "code",
   "execution_count": 109,
   "metadata": {},
   "outputs": [
    {
     "name": "stdout",
     "output_type": "stream",
     "text": [
      "[[14336   371]\n",
      " [ 1369  2524]]\n",
      "[[3602  101]\n",
      " [ 325  623]]\n"
     ]
    }
   ],
   "source": [
    "## Get confusion matrix for train and validation data\n",
    "confusion_matrix_train = confusion_matrix(y_train, train_pred)\n",
    "confusion_matrix_validation = confusion_matrix(y_test, validation_pred)\n",
    "\n",
    "print(confusion_matrix_train)\n",
    "print(confusion_matrix_validation)"
   ]
  },
  {
   "cell_type": "code",
   "execution_count": 110,
   "metadata": {},
   "outputs": [
    {
     "name": "stdout",
     "output_type": "stream",
     "text": [
      "Train TNR:  0.9747739171822941\n",
      "\n",
      "\n",
      "Train TPR:  0.6483431800667866\n",
      "\n",
      "\n",
      "Train Accuracy:  0.9064516129032258\n"
     ]
    }
   ],
   "source": [
    "Accuracy_Train=(confusion_matrix_train[0,0]+confusion_matrix_train[1,1])/(confusion_matrix_train[0,0]+confusion_matrix_train[0,1]+confusion_matrix_train[1,0]+confusion_matrix_train[1,1])\n",
    "TNR_Train= confusion_matrix_train[0,0]/(confusion_matrix_train[0,0]+confusion_matrix_train[0,1])\n",
    "TPR_Train= confusion_matrix_train[1,1]/(confusion_matrix_train[1,0]+confusion_matrix_train[1,1])\n",
    "\n",
    "print(\"Train TNR: \",TNR_Train)\n",
    "print(\"\\n\")\n",
    "print(\"Train TPR: \",TPR_Train)\n",
    "print(\"\\n\")\n",
    "print(\"Train Accuracy: \",Accuracy_Train)"
   ]
  },
  {
   "cell_type": "code",
   "execution_count": 111,
   "metadata": {
    "scrolled": true
   },
   "outputs": [
    {
     "name": "stdout",
     "output_type": "stream",
     "text": [
      "Validation TNR:  0.9727248177153659\n",
      "\n",
      "\n",
      "Validation TPR:  0.6571729957805907\n",
      "\n",
      "\n",
      "Validation Accuracy:  0.9084067942377984\n"
     ]
    }
   ],
   "source": [
    "Accuracy_Test=(confusion_matrix_validation[0,0]+confusion_matrix_validation[1,1])/(confusion_matrix_validation[0,0]+confusion_matrix_validation[0,1]+confusion_matrix_validation[1,0]+confusion_matrix_validation[1,1])\n",
    "TNR_Test= confusion_matrix_validation[0,0]/(confusion_matrix_validation[0,0] +confusion_matrix_validation[0,1])\n",
    "TPR_Test= confusion_matrix_validation[1,1]/(confusion_matrix_validation[1,0] +confusion_matrix_validation[1,1])\n",
    "\n",
    "print(\"Validation TNR: \",TNR_Test)\n",
    "print(\"\\n\")\n",
    "print(\"Validation TPR: \",TPR_Test)\n",
    "print(\"\\n\")\n",
    "print(\"Validation Accuracy: \",Accuracy_Test)"
   ]
  },
  {
   "cell_type": "code",
   "execution_count": 112,
   "metadata": {},
   "outputs": [
    {
     "name": "stdout",
     "output_type": "stream",
     "text": [
      "              precision    recall  f1-score   support\n",
      "\n",
      "           0       0.91      0.97      0.94     14707\n",
      "           1       0.87      0.65      0.74      3893\n",
      "\n",
      "    accuracy                           0.91     18600\n",
      "   macro avg       0.89      0.81      0.84     18600\n",
      "weighted avg       0.90      0.91      0.90     18600\n",
      "\n"
     ]
    }
   ],
   "source": [
    "## Display classification metrics for train data\n",
    "print(classification_report(y_true=y_train,y_pred=train_pred))"
   ]
  },
  {
   "cell_type": "code",
   "execution_count": 113,
   "metadata": {},
   "outputs": [
    {
     "name": "stdout",
     "output_type": "stream",
     "text": [
      "              precision    recall  f1-score   support\n",
      "\n",
      "           0       0.92      0.97      0.94      3703\n",
      "           1       0.86      0.66      0.75       948\n",
      "\n",
      "    accuracy                           0.91      4651\n",
      "   macro avg       0.89      0.81      0.84      4651\n",
      "weighted avg       0.91      0.91      0.90      4651\n",
      "\n"
     ]
    }
   ],
   "source": [
    "## Display classification metrics for validation data\n",
    "print(classification_report(y_true=y_test,y_pred=validation_pred))"
   ]
  },
  {
   "cell_type": "code",
   "execution_count": 114,
   "metadata": {},
   "outputs": [],
   "source": [
    "## Try with different parameters to find best mode\n",
    "param_grid = {\"criterion\": [\"gini\", \"entropy\"],\n",
    "              \"min_samples_split\": [2, 10, 20],\n",
    "              \"max_depth\": [2, 5, 10],\n",
    "              \"min_samples_leaf\": [1, 5, 10],\n",
    "              \"max_leaf_nodes\": [5, 10, 20],\n",
    "              }"
   ]
  },
  {
   "cell_type": "code",
   "execution_count": 115,
   "metadata": {},
   "outputs": [
    {
     "name": "stdout",
     "output_type": "stream",
     "text": [
      "Wall time: 2min 12s\n"
     ]
    },
    {
     "data": {
      "text/plain": [
       "GridSearchCV(cv=10, error_score=nan,\n",
       "             estimator=DecisionTreeClassifier(ccp_alpha=0.0, class_weight=None,\n",
       "                                              criterion='gini', max_depth=None,\n",
       "                                              max_features=None,\n",
       "                                              max_leaf_nodes=None,\n",
       "                                              min_impurity_decrease=0.0,\n",
       "                                              min_impurity_split=None,\n",
       "                                              min_samples_leaf=1,\n",
       "                                              min_samples_split=2,\n",
       "                                              min_weight_fraction_leaf=0.0,\n",
       "                                              presort='deprecated',\n",
       "                                              random_state=None,\n",
       "                                              splitter='best'),\n",
       "             iid='deprecated', n_jobs=None,\n",
       "             param_grid={'criterion': ['gini', 'entropy'],\n",
       "                         'max_depth': [2, 5, 10], 'max_leaf_nodes': [5, 10, 20],\n",
       "                         'min_samples_leaf': [1, 5, 10],\n",
       "                         'min_samples_split': [2, 10, 20]},\n",
       "             pre_dispatch='2*n_jobs', refit=True, return_train_score=False,\n",
       "             scoring=None, verbose=0)"
      ]
     },
     "execution_count": 115,
     "metadata": {},
     "output_type": "execute_result"
    }
   ],
   "source": [
    "## Instantiate model and send to Grid search to find best model and fit a model\n",
    "dt = DecisionTreeClassifier()\n",
    "clf = GridSearchCV(dt, param_grid, cv=10)\n",
    "%time clf.fit(X_train, y_train)"
   ]
  },
  {
   "cell_type": "code",
   "execution_count": 116,
   "metadata": {},
   "outputs": [
    {
     "data": {
      "text/plain": [
       "{'criterion': 'entropy',\n",
       " 'max_depth': 10,\n",
       " 'max_leaf_nodes': 20,\n",
       " 'min_samples_leaf': 1,\n",
       " 'min_samples_split': 2}"
      ]
     },
     "execution_count": 116,
     "metadata": {},
     "output_type": "execute_result"
    }
   ],
   "source": [
    "## Get best parameters from model\n",
    "clf.best_params_"
   ]
  },
  {
   "cell_type": "code",
   "execution_count": 117,
   "metadata": {},
   "outputs": [
    {
     "name": "stdout",
     "output_type": "stream",
     "text": [
      "Wall time: 92.3 ms\n"
     ]
    },
    {
     "data": {
      "text/plain": [
       "DecisionTreeClassifier(ccp_alpha=0.0, class_weight=None, criterion='entropy',\n",
       "                       max_depth=10, max_features=None, max_leaf_nodes=20,\n",
       "                       min_impurity_decrease=0.0, min_impurity_split=None,\n",
       "                       min_samples_leaf=1, min_samples_split=2,\n",
       "                       min_weight_fraction_leaf=0.0, presort='deprecated',\n",
       "                       random_state=None, splitter='best')"
      ]
     },
     "execution_count": 117,
     "metadata": {},
     "output_type": "execute_result"
    }
   ],
   "source": [
    "## Instantiate Decision Tree with best parameters and fit a model\n",
    "dt = DecisionTreeClassifier(criterion='entropy',max_depth=10,max_leaf_nodes=20)\n",
    "%time dt.fit(X_train, y_train)"
   ]
  },
  {
   "cell_type": "code",
   "execution_count": 118,
   "metadata": {},
   "outputs": [],
   "source": [
    "## Get prediction on train and validation \n",
    "train_pred = dt.predict(X_train)\n",
    "validation_pred= dt.predict(X_test)"
   ]
  },
  {
   "cell_type": "code",
   "execution_count": 119,
   "metadata": {},
   "outputs": [
    {
     "name": "stdout",
     "output_type": "stream",
     "text": [
      "[[14118   589]\n",
      " [ 1473  2420]]\n",
      "[[3570  133]\n",
      " [ 341  607]]\n"
     ]
    }
   ],
   "source": [
    "## Get confusion matrix on train and validation \n",
    "confusion_matrix_train = confusion_matrix(y_train, train_pred)\n",
    "confusion_matrix_validation = confusion_matrix(y_test, validation_pred)\n",
    "\n",
    "print(confusion_matrix_train)\n",
    "print(confusion_matrix_validation)"
   ]
  },
  {
   "cell_type": "code",
   "execution_count": 120,
   "metadata": {},
   "outputs": [
    {
     "name": "stdout",
     "output_type": "stream",
     "text": [
      "Train TNR:  0.9599510437206772\n",
      "\n",
      "\n",
      "Train TPR:  0.6216285640893913\n",
      "\n",
      "\n",
      "Train Accuracy:  0.8891397849462366\n"
     ]
    }
   ],
   "source": [
    "Accuracy_Train=(confusion_matrix_train[0,0]+confusion_matrix_train[1,1])/(confusion_matrix_train[0,0]+confusion_matrix_train[0,1]+confusion_matrix_train[1,0]+confusion_matrix_train[1,1])\n",
    "TNR_Train= confusion_matrix_train[0,0]/(confusion_matrix_train[0,0]+confusion_matrix_train[0,1])\n",
    "TPR_Train= confusion_matrix_train[1,1]/(confusion_matrix_train[1,0]+confusion_matrix_train[1,1])\n",
    "\n",
    "print(\"Train TNR: \",TNR_Train)\n",
    "print(\"\\n\")\n",
    "print(\"Train TPR: \",TPR_Train)\n",
    "print(\"\\n\")\n",
    "print(\"Train Accuracy: \",Accuracy_Train)"
   ]
  },
  {
   "cell_type": "code",
   "execution_count": 121,
   "metadata": {},
   "outputs": [
    {
     "name": "stdout",
     "output_type": "stream",
     "text": [
      "Validation TNR:  0.9640831758034026\n",
      "\n",
      "\n",
      "Validation TPR:  0.640295358649789\n",
      "\n",
      "\n",
      "Validation Accuracy:  0.8980864330251559\n"
     ]
    }
   ],
   "source": [
    "Accuracy_Test=(confusion_matrix_validation[0,0]+confusion_matrix_validation[1,1])/(confusion_matrix_validation[0,0]+confusion_matrix_validation[0,1]+confusion_matrix_validation[1,0]+confusion_matrix_validation[1,1])\n",
    "TNR_Test= confusion_matrix_validation[0,0]/(confusion_matrix_validation[0,0] +confusion_matrix_validation[0,1])\n",
    "TPR_Test= confusion_matrix_validation[1,1]/(confusion_matrix_validation[1,0] +confusion_matrix_validation[1,1])\n",
    "\n",
    "print(\"Validation TNR: \",TNR_Test)\n",
    "print(\"\\n\")\n",
    "print(\"Validation TPR: \",TPR_Test)\n",
    "print(\"\\n\")\n",
    "print(\"Validation Accuracy: \",Accuracy_Test)"
   ]
  },
  {
   "cell_type": "code",
   "execution_count": 122,
   "metadata": {},
   "outputs": [
    {
     "name": "stdout",
     "output_type": "stream",
     "text": [
      "              precision    recall  f1-score   support\n",
      "\n",
      "           0       0.91      0.96      0.93     14707\n",
      "           1       0.80      0.62      0.70      3893\n",
      "\n",
      "    accuracy                           0.89     18600\n",
      "   macro avg       0.85      0.79      0.82     18600\n",
      "weighted avg       0.88      0.89      0.88     18600\n",
      "\n"
     ]
    }
   ],
   "source": [
    "## Display classification metrics for train data\n",
    "print(classification_report(y_true=y_train,y_pred=train_pred))"
   ]
  },
  {
   "cell_type": "code",
   "execution_count": 123,
   "metadata": {
    "scrolled": true
   },
   "outputs": [
    {
     "name": "stdout",
     "output_type": "stream",
     "text": [
      "              precision    recall  f1-score   support\n",
      "\n",
      "           0       0.91      0.96      0.94      3703\n",
      "           1       0.82      0.64      0.72       948\n",
      "\n",
      "    accuracy                           0.90      4651\n",
      "   macro avg       0.87      0.80      0.83      4651\n",
      "weighted avg       0.89      0.90      0.89      4651\n",
      "\n"
     ]
    }
   ],
   "source": [
    "## Display classification metrics for validation data\n",
    "print(classification_report(y_true=y_test,y_pred=validation_pred))"
   ]
  },
  {
   "cell_type": "code",
   "execution_count": 124,
   "metadata": {},
   "outputs": [],
   "source": [
    "## Get copy of test data\n",
    "test_data = test.copy()"
   ]
  },
  {
   "cell_type": "code",
   "execution_count": 125,
   "metadata": {},
   "outputs": [],
   "source": [
    "## Get the predictions on test data\n",
    "y_pred = dt.predict(test_data)"
   ]
  },
  {
   "cell_type": "code",
   "execution_count": 126,
   "metadata": {},
   "outputs": [
    {
     "data": {
      "text/plain": [
       "array([0, 0, 0, ..., 1, 0, 0])"
      ]
     },
     "execution_count": 126,
     "metadata": {},
     "output_type": "execute_result"
    }
   ],
   "source": [
    "y_pred"
   ]
  },
  {
   "cell_type": "code",
   "execution_count": 127,
   "metadata": {},
   "outputs": [],
   "source": [
    "## Do inverse transform on y_ped so that we will get it's original values(male,female)\n",
    "test_data['gender'] = le_gender.inverse_transform(y_pred)"
   ]
  },
  {
   "cell_type": "code",
   "execution_count": 128,
   "metadata": {},
   "outputs": [],
   "source": [
    "## Do inverse transform on session_id so that we will get it's original values\n",
    "test_data['session_id'] = le_session.inverse_transform(test_data['session_id'])"
   ]
  },
  {
   "cell_type": "code",
   "execution_count": 129,
   "metadata": {},
   "outputs": [
    {
     "data": {
      "text/html": [
       "<div>\n",
       "<style scoped>\n",
       "    .dataframe tbody tr th:only-of-type {\n",
       "        vertical-align: middle;\n",
       "    }\n",
       "\n",
       "    .dataframe tbody tr th {\n",
       "        vertical-align: top;\n",
       "    }\n",
       "\n",
       "    .dataframe thead th {\n",
       "        text-align: right;\n",
       "    }\n",
       "</style>\n",
       "<table border=\"1\" class=\"dataframe\">\n",
       "  <thead>\n",
       "    <tr style=\"text-align: right;\">\n",
       "      <th></th>\n",
       "      <th>session_id</th>\n",
       "      <th>start_Y</th>\n",
       "      <th>start_M</th>\n",
       "      <th>start_D</th>\n",
       "      <th>end_Y</th>\n",
       "      <th>end_M</th>\n",
       "      <th>end_D</th>\n",
       "      <th>start_hour</th>\n",
       "      <th>start_min</th>\n",
       "      <th>start_sec</th>\n",
       "      <th>end_hour</th>\n",
       "      <th>end_min</th>\n",
       "      <th>end_sec</th>\n",
       "      <th>category</th>\n",
       "      <th>sub_category</th>\n",
       "      <th>sub_sub_category</th>\n",
       "      <th>product</th>\n",
       "      <th>gender</th>\n",
       "    </tr>\n",
       "  </thead>\n",
       "  <tbody>\n",
       "    <tr>\n",
       "      <th>0</th>\n",
       "      <td>u12112</td>\n",
       "      <td>0</td>\n",
       "      <td>6</td>\n",
       "      <td>0</td>\n",
       "      <td>0</td>\n",
       "      <td>6</td>\n",
       "      <td>0</td>\n",
       "      <td>13</td>\n",
       "      <td>36</td>\n",
       "      <td>0</td>\n",
       "      <td>13</td>\n",
       "      <td>36</td>\n",
       "      <td>0</td>\n",
       "      <td>1</td>\n",
       "      <td>2</td>\n",
       "      <td>5</td>\n",
       "      <td>12675</td>\n",
       "      <td>female</td>\n",
       "    </tr>\n",
       "    <tr>\n",
       "      <th>1</th>\n",
       "      <td>u19725</td>\n",
       "      <td>0</td>\n",
       "      <td>9</td>\n",
       "      <td>7</td>\n",
       "      <td>0</td>\n",
       "      <td>9</td>\n",
       "      <td>7</td>\n",
       "      <td>13</td>\n",
       "      <td>52</td>\n",
       "      <td>0</td>\n",
       "      <td>13</td>\n",
       "      <td>52</td>\n",
       "      <td>0</td>\n",
       "      <td>1</td>\n",
       "      <td>4</td>\n",
       "      <td>66</td>\n",
       "      <td>1407</td>\n",
       "      <td>female</td>\n",
       "    </tr>\n",
       "    <tr>\n",
       "      <th>2</th>\n",
       "      <td>u11795</td>\n",
       "      <td>0</td>\n",
       "      <td>0</td>\n",
       "      <td>0</td>\n",
       "      <td>0</td>\n",
       "      <td>0</td>\n",
       "      <td>0</td>\n",
       "      <td>10</td>\n",
       "      <td>44</td>\n",
       "      <td>0</td>\n",
       "      <td>10</td>\n",
       "      <td>44</td>\n",
       "      <td>0</td>\n",
       "      <td>1</td>\n",
       "      <td>1</td>\n",
       "      <td>3</td>\n",
       "      <td>8129</td>\n",
       "      <td>female</td>\n",
       "    </tr>\n",
       "    <tr>\n",
       "      <th>3</th>\n",
       "      <td>u22639</td>\n",
       "      <td>0</td>\n",
       "      <td>6</td>\n",
       "      <td>0</td>\n",
       "      <td>0</td>\n",
       "      <td>6</td>\n",
       "      <td>0</td>\n",
       "      <td>20</td>\n",
       "      <td>19</td>\n",
       "      <td>0</td>\n",
       "      <td>20</td>\n",
       "      <td>22</td>\n",
       "      <td>0</td>\n",
       "      <td>1</td>\n",
       "      <td>2</td>\n",
       "      <td>77</td>\n",
       "      <td>14345</td>\n",
       "      <td>female</td>\n",
       "    </tr>\n",
       "    <tr>\n",
       "      <th>3</th>\n",
       "      <td>u22639</td>\n",
       "      <td>0</td>\n",
       "      <td>6</td>\n",
       "      <td>0</td>\n",
       "      <td>0</td>\n",
       "      <td>6</td>\n",
       "      <td>0</td>\n",
       "      <td>20</td>\n",
       "      <td>19</td>\n",
       "      <td>0</td>\n",
       "      <td>20</td>\n",
       "      <td>22</td>\n",
       "      <td>0</td>\n",
       "      <td>1</td>\n",
       "      <td>2</td>\n",
       "      <td>77</td>\n",
       "      <td>14346</td>\n",
       "      <td>female</td>\n",
       "    </tr>\n",
       "  </tbody>\n",
       "</table>\n",
       "</div>"
      ],
      "text/plain": [
       "  session_id  start_Y  start_M  start_D  end_Y  end_M  end_D  start_hour  \\\n",
       "0     u12112        0        6        0      0      6      0          13   \n",
       "1     u19725        0        9        7      0      9      7          13   \n",
       "2     u11795        0        0        0      0      0      0          10   \n",
       "3     u22639        0        6        0      0      6      0          20   \n",
       "3     u22639        0        6        0      0      6      0          20   \n",
       "\n",
       "   start_min  start_sec  end_hour  end_min  end_sec  category  sub_category  \\\n",
       "0         36          0        13       36        0         1             2   \n",
       "1         52          0        13       52        0         1             4   \n",
       "2         44          0        10       44        0         1             1   \n",
       "3         19          0        20       22        0         1             2   \n",
       "3         19          0        20       22        0         1             2   \n",
       "\n",
       "   sub_sub_category  product  gender  \n",
       "0                 5    12675  female  \n",
       "1                66     1407  female  \n",
       "2                 3     8129  female  \n",
       "3                77    14345  female  \n",
       "3                77    14346  female  "
      ]
     },
     "execution_count": 129,
     "metadata": {},
     "output_type": "execute_result"
    }
   ],
   "source": [
    "## Check first 5 records after doing inverse transformation\n",
    "test_data.head()"
   ]
  },
  {
   "cell_type": "code",
   "execution_count": 130,
   "metadata": {},
   "outputs": [
    {
     "data": {
      "text/plain": [
       "(10204, 18)"
      ]
     },
     "execution_count": 130,
     "metadata": {},
     "output_type": "execute_result"
    }
   ],
   "source": [
    "## Check the dimensions of the test_data before dropping dupliccate data\n",
    "test_data.shape"
   ]
  },
  {
   "cell_type": "code",
   "execution_count": 131,
   "metadata": {},
   "outputs": [],
   "source": [
    "## Drop duplicate session_id values\n",
    "test_data = test_data.drop_duplicates(subset=['session_id'])"
   ]
  },
  {
   "cell_type": "code",
   "execution_count": 132,
   "metadata": {},
   "outputs": [
    {
     "data": {
      "text/plain": [
       "(4500, 18)"
      ]
     },
     "execution_count": 132,
     "metadata": {},
     "output_type": "execute_result"
    }
   ],
   "source": [
    "## Check the dimensions of the test_data after dropping dupliccate data\n",
    "test_data.shape"
   ]
  },
  {
   "cell_type": "code",
   "execution_count": 133,
   "metadata": {},
   "outputs": [],
   "source": [
    "## Get session_id,gender from test_data and store into to_submit\n",
    "to_submit = test_data[['session_id', 'gender']]"
   ]
  },
  {
   "cell_type": "code",
   "execution_count": 134,
   "metadata": {},
   "outputs": [
    {
     "data": {
      "text/html": [
       "<div>\n",
       "<style scoped>\n",
       "    .dataframe tbody tr th:only-of-type {\n",
       "        vertical-align: middle;\n",
       "    }\n",
       "\n",
       "    .dataframe tbody tr th {\n",
       "        vertical-align: top;\n",
       "    }\n",
       "\n",
       "    .dataframe thead th {\n",
       "        text-align: right;\n",
       "    }\n",
       "</style>\n",
       "<table border=\"1\" class=\"dataframe\">\n",
       "  <thead>\n",
       "    <tr style=\"text-align: right;\">\n",
       "      <th></th>\n",
       "      <th>session_id</th>\n",
       "      <th>gender</th>\n",
       "    </tr>\n",
       "  </thead>\n",
       "  <tbody>\n",
       "    <tr>\n",
       "      <th>0</th>\n",
       "      <td>u12112</td>\n",
       "      <td>female</td>\n",
       "    </tr>\n",
       "    <tr>\n",
       "      <th>1</th>\n",
       "      <td>u19725</td>\n",
       "      <td>female</td>\n",
       "    </tr>\n",
       "    <tr>\n",
       "      <th>2</th>\n",
       "      <td>u11795</td>\n",
       "      <td>female</td>\n",
       "    </tr>\n",
       "    <tr>\n",
       "      <th>3</th>\n",
       "      <td>u22639</td>\n",
       "      <td>female</td>\n",
       "    </tr>\n",
       "    <tr>\n",
       "      <th>4</th>\n",
       "      <td>u18034</td>\n",
       "      <td>female</td>\n",
       "    </tr>\n",
       "  </tbody>\n",
       "</table>\n",
       "</div>"
      ],
      "text/plain": [
       "  session_id  gender\n",
       "0     u12112  female\n",
       "1     u19725  female\n",
       "2     u11795  female\n",
       "3     u22639  female\n",
       "4     u18034  female"
      ]
     },
     "execution_count": 134,
     "metadata": {},
     "output_type": "execute_result"
    }
   ],
   "source": [
    "## Check first 5 records of to_submit\n",
    "to_submit.head()"
   ]
  },
  {
   "cell_type": "code",
   "execution_count": 135,
   "metadata": {},
   "outputs": [
    {
     "data": {
      "text/plain": [
       "female    3728\n",
       "male       772\n",
       "Name: gender, dtype: int64"
      ]
     },
     "execution_count": 135,
     "metadata": {},
     "output_type": "execute_result"
    }
   ],
   "source": [
    "## Get gender count value \n",
    "to_submit.gender.value_counts()"
   ]
  },
  {
   "cell_type": "code",
   "execution_count": 136,
   "metadata": {},
   "outputs": [],
   "source": [
    "## store to_submit into csv file with name decisiontree_model \n",
    "to_submit.to_csv('decisiontree_model.csv',index = False)"
   ]
  },
  {
   "cell_type": "markdown",
   "metadata": {},
   "source": [
    "## 7.3 Naive Bayes"
   ]
  },
  {
   "cell_type": "code",
   "execution_count": 137,
   "metadata": {},
   "outputs": [],
   "source": [
    "## Instantiate Navie Bayes Model\n",
    "model = GaussianNB()"
   ]
  },
  {
   "cell_type": "code",
   "execution_count": 138,
   "metadata": {},
   "outputs": [
    {
     "data": {
      "text/plain": [
       "GaussianNB(priors=None, var_smoothing=1e-09)"
      ]
     },
     "execution_count": 138,
     "metadata": {},
     "output_type": "execute_result"
    }
   ],
   "source": [
    "## Fit a model\n",
    "model.fit(X_train,y_train)"
   ]
  },
  {
   "cell_type": "code",
   "execution_count": 139,
   "metadata": {},
   "outputs": [],
   "source": [
    "## Get prediction on train and validation data\n",
    "predict_train = model.predict(X_train)\n",
    "predict_validation = model.predict(X_test)"
   ]
  },
  {
   "cell_type": "code",
   "execution_count": 140,
   "metadata": {},
   "outputs": [
    {
     "name": "stdout",
     "output_type": "stream",
     "text": [
      "[[13754   953]\n",
      " [ 3174   719]]\n"
     ]
    }
   ],
   "source": [
    "## Get confusion matrix for train data\n",
    "confusion_matrix_train = confusion_matrix(y_train, predict_train)\n",
    "print(confusion_matrix_train)"
   ]
  },
  {
   "cell_type": "code",
   "execution_count": 141,
   "metadata": {},
   "outputs": [
    {
     "name": "stdout",
     "output_type": "stream",
     "text": [
      "[[3479  224]\n",
      " [ 771  177]]\n"
     ]
    }
   ],
   "source": [
    "## Get confusion matrix for validation data\n",
    "confusion_matrix_validation = confusion_matrix(y_test, predict_validation)\n",
    "print(confusion_matrix_validation)"
   ]
  },
  {
   "cell_type": "code",
   "execution_count": 142,
   "metadata": {},
   "outputs": [
    {
     "name": "stdout",
     "output_type": "stream",
     "text": [
      "Train TNR:  0.9352009247297205\n",
      "\n",
      "\n",
      "Train TPR:  0.18469047007449269\n",
      "\n",
      "\n",
      "Train Accuracy:  0.7781182795698924\n"
     ]
    }
   ],
   "source": [
    "Accuracy_Train=(confusion_matrix_train[0,0]+confusion_matrix_train[1,1])/(confusion_matrix_train[0,0]+confusion_matrix_train[0,1]+confusion_matrix_train[1,0]+confusion_matrix_train[1,1])\n",
    "TNR_Train= confusion_matrix_train[0,0]/(confusion_matrix_train[0,0]+confusion_matrix_train[0,1])\n",
    "TPR_Train= confusion_matrix_train[1,1]/(confusion_matrix_train[1,0]+confusion_matrix_train[1,1])\n",
    "\n",
    "print(\"Train TNR: \",TNR_Train)\n",
    "print(\"\\n\")\n",
    "print(\"Train TPR: \",TPR_Train)\n",
    "print(\"\\n\")\n",
    "print(\"Train Accuracy: \",Accuracy_Train)"
   ]
  },
  {
   "cell_type": "code",
   "execution_count": 143,
   "metadata": {},
   "outputs": [
    {
     "name": "stdout",
     "output_type": "stream",
     "text": [
      "Validation TNR:  0.9395085066162571\n",
      "\n",
      "\n",
      "Validation TPR:  0.18670886075949367\n",
      "\n",
      "\n",
      "Validation Accuracy:  0.7860675123629327\n"
     ]
    }
   ],
   "source": [
    "Accuracy_Test=(confusion_matrix_validation[0,0]+confusion_matrix_validation[1,1])/(confusion_matrix_validation[0,0]+confusion_matrix_validation[0,1]+confusion_matrix_validation[1,0]+confusion_matrix_validation[1,1])\n",
    "TNR_Test= confusion_matrix_validation[0,0]/(confusion_matrix_validation[0,0] +confusion_matrix_validation[0,1])\n",
    "TPR_Test= confusion_matrix_validation[1,1]/(confusion_matrix_validation[1,0] +confusion_matrix_validation[1,1])\n",
    "\n",
    "print(\"Validation TNR: \",TNR_Test)\n",
    "print(\"\\n\")\n",
    "print(\"Validation TPR: \",TPR_Test)\n",
    "print(\"\\n\")\n",
    "print(\"Validation Accuracy: \",Accuracy_Test)"
   ]
  },
  {
   "cell_type": "code",
   "execution_count": 144,
   "metadata": {},
   "outputs": [
    {
     "name": "stdout",
     "output_type": "stream",
     "text": [
      "              precision    recall  f1-score   support\n",
      "\n",
      "           0       0.91      0.96      0.93     14707\n",
      "           1       0.80      0.62      0.70      3893\n",
      "\n",
      "    accuracy                           0.89     18600\n",
      "   macro avg       0.85      0.79      0.82     18600\n",
      "weighted avg       0.88      0.89      0.88     18600\n",
      "\n"
     ]
    }
   ],
   "source": [
    "## Display classification metrics for train data\n",
    "print(classification_report(y_true=y_train,y_pred=train_pred))"
   ]
  },
  {
   "cell_type": "code",
   "execution_count": 145,
   "metadata": {},
   "outputs": [
    {
     "name": "stdout",
     "output_type": "stream",
     "text": [
      "              precision    recall  f1-score   support\n",
      "\n",
      "           0       0.91      0.96      0.94      3703\n",
      "           1       0.82      0.64      0.72       948\n",
      "\n",
      "    accuracy                           0.90      4651\n",
      "   macro avg       0.87      0.80      0.83      4651\n",
      "weighted avg       0.89      0.90      0.89      4651\n",
      "\n"
     ]
    }
   ],
   "source": [
    "## Display classification metrics for validation data\n",
    "print(classification_report(y_true=y_test,y_pred=validation_pred))"
   ]
  },
  {
   "cell_type": "code",
   "execution_count": 146,
   "metadata": {},
   "outputs": [],
   "source": [
    "## Get copy of test data\n",
    "test_data = test.copy()"
   ]
  },
  {
   "cell_type": "code",
   "execution_count": 147,
   "metadata": {},
   "outputs": [],
   "source": [
    "## Get the predictions on test data\n",
    "y_pred = model.predict(test_data)"
   ]
  },
  {
   "cell_type": "code",
   "execution_count": 148,
   "metadata": {},
   "outputs": [
    {
     "data": {
      "text/plain": [
       "array([0, 0, 0, ..., 0, 0, 0])"
      ]
     },
     "execution_count": 148,
     "metadata": {},
     "output_type": "execute_result"
    }
   ],
   "source": [
    "y_pred"
   ]
  },
  {
   "cell_type": "code",
   "execution_count": 149,
   "metadata": {},
   "outputs": [],
   "source": [
    "## Do inverse transform on y_ped so that we will get it's original values(male,female)\n",
    "test_data['gender'] = le_gender.inverse_transform(y_pred)"
   ]
  },
  {
   "cell_type": "code",
   "execution_count": 150,
   "metadata": {},
   "outputs": [],
   "source": [
    "## Do inverse transform on session_id so that we will get it's original values\n",
    "test_data['session_id'] = le_session.inverse_transform(test_data['session_id'])"
   ]
  },
  {
   "cell_type": "code",
   "execution_count": 151,
   "metadata": {},
   "outputs": [
    {
     "data": {
      "text/html": [
       "<div>\n",
       "<style scoped>\n",
       "    .dataframe tbody tr th:only-of-type {\n",
       "        vertical-align: middle;\n",
       "    }\n",
       "\n",
       "    .dataframe tbody tr th {\n",
       "        vertical-align: top;\n",
       "    }\n",
       "\n",
       "    .dataframe thead th {\n",
       "        text-align: right;\n",
       "    }\n",
       "</style>\n",
       "<table border=\"1\" class=\"dataframe\">\n",
       "  <thead>\n",
       "    <tr style=\"text-align: right;\">\n",
       "      <th></th>\n",
       "      <th>session_id</th>\n",
       "      <th>start_Y</th>\n",
       "      <th>start_M</th>\n",
       "      <th>start_D</th>\n",
       "      <th>end_Y</th>\n",
       "      <th>end_M</th>\n",
       "      <th>end_D</th>\n",
       "      <th>start_hour</th>\n",
       "      <th>start_min</th>\n",
       "      <th>start_sec</th>\n",
       "      <th>end_hour</th>\n",
       "      <th>end_min</th>\n",
       "      <th>end_sec</th>\n",
       "      <th>category</th>\n",
       "      <th>sub_category</th>\n",
       "      <th>sub_sub_category</th>\n",
       "      <th>product</th>\n",
       "      <th>gender</th>\n",
       "    </tr>\n",
       "  </thead>\n",
       "  <tbody>\n",
       "    <tr>\n",
       "      <th>0</th>\n",
       "      <td>u12112</td>\n",
       "      <td>0</td>\n",
       "      <td>6</td>\n",
       "      <td>0</td>\n",
       "      <td>0</td>\n",
       "      <td>6</td>\n",
       "      <td>0</td>\n",
       "      <td>13</td>\n",
       "      <td>36</td>\n",
       "      <td>0</td>\n",
       "      <td>13</td>\n",
       "      <td>36</td>\n",
       "      <td>0</td>\n",
       "      <td>1</td>\n",
       "      <td>2</td>\n",
       "      <td>5</td>\n",
       "      <td>12675</td>\n",
       "      <td>female</td>\n",
       "    </tr>\n",
       "    <tr>\n",
       "      <th>1</th>\n",
       "      <td>u19725</td>\n",
       "      <td>0</td>\n",
       "      <td>9</td>\n",
       "      <td>7</td>\n",
       "      <td>0</td>\n",
       "      <td>9</td>\n",
       "      <td>7</td>\n",
       "      <td>13</td>\n",
       "      <td>52</td>\n",
       "      <td>0</td>\n",
       "      <td>13</td>\n",
       "      <td>52</td>\n",
       "      <td>0</td>\n",
       "      <td>1</td>\n",
       "      <td>4</td>\n",
       "      <td>66</td>\n",
       "      <td>1407</td>\n",
       "      <td>female</td>\n",
       "    </tr>\n",
       "    <tr>\n",
       "      <th>2</th>\n",
       "      <td>u11795</td>\n",
       "      <td>0</td>\n",
       "      <td>0</td>\n",
       "      <td>0</td>\n",
       "      <td>0</td>\n",
       "      <td>0</td>\n",
       "      <td>0</td>\n",
       "      <td>10</td>\n",
       "      <td>44</td>\n",
       "      <td>0</td>\n",
       "      <td>10</td>\n",
       "      <td>44</td>\n",
       "      <td>0</td>\n",
       "      <td>1</td>\n",
       "      <td>1</td>\n",
       "      <td>3</td>\n",
       "      <td>8129</td>\n",
       "      <td>female</td>\n",
       "    </tr>\n",
       "    <tr>\n",
       "      <th>3</th>\n",
       "      <td>u22639</td>\n",
       "      <td>0</td>\n",
       "      <td>6</td>\n",
       "      <td>0</td>\n",
       "      <td>0</td>\n",
       "      <td>6</td>\n",
       "      <td>0</td>\n",
       "      <td>20</td>\n",
       "      <td>19</td>\n",
       "      <td>0</td>\n",
       "      <td>20</td>\n",
       "      <td>22</td>\n",
       "      <td>0</td>\n",
       "      <td>1</td>\n",
       "      <td>2</td>\n",
       "      <td>77</td>\n",
       "      <td>14345</td>\n",
       "      <td>female</td>\n",
       "    </tr>\n",
       "    <tr>\n",
       "      <th>3</th>\n",
       "      <td>u22639</td>\n",
       "      <td>0</td>\n",
       "      <td>6</td>\n",
       "      <td>0</td>\n",
       "      <td>0</td>\n",
       "      <td>6</td>\n",
       "      <td>0</td>\n",
       "      <td>20</td>\n",
       "      <td>19</td>\n",
       "      <td>0</td>\n",
       "      <td>20</td>\n",
       "      <td>22</td>\n",
       "      <td>0</td>\n",
       "      <td>1</td>\n",
       "      <td>2</td>\n",
       "      <td>77</td>\n",
       "      <td>14346</td>\n",
       "      <td>female</td>\n",
       "    </tr>\n",
       "  </tbody>\n",
       "</table>\n",
       "</div>"
      ],
      "text/plain": [
       "  session_id  start_Y  start_M  start_D  end_Y  end_M  end_D  start_hour  \\\n",
       "0     u12112        0        6        0      0      6      0          13   \n",
       "1     u19725        0        9        7      0      9      7          13   \n",
       "2     u11795        0        0        0      0      0      0          10   \n",
       "3     u22639        0        6        0      0      6      0          20   \n",
       "3     u22639        0        6        0      0      6      0          20   \n",
       "\n",
       "   start_min  start_sec  end_hour  end_min  end_sec  category  sub_category  \\\n",
       "0         36          0        13       36        0         1             2   \n",
       "1         52          0        13       52        0         1             4   \n",
       "2         44          0        10       44        0         1             1   \n",
       "3         19          0        20       22        0         1             2   \n",
       "3         19          0        20       22        0         1             2   \n",
       "\n",
       "   sub_sub_category  product  gender  \n",
       "0                 5    12675  female  \n",
       "1                66     1407  female  \n",
       "2                 3     8129  female  \n",
       "3                77    14345  female  \n",
       "3                77    14346  female  "
      ]
     },
     "execution_count": 151,
     "metadata": {},
     "output_type": "execute_result"
    }
   ],
   "source": [
    "## Check first 5 records after doing inverse transformation\n",
    "test_data.head()"
   ]
  },
  {
   "cell_type": "code",
   "execution_count": 152,
   "metadata": {},
   "outputs": [
    {
     "data": {
      "text/plain": [
       "(10204, 18)"
      ]
     },
     "execution_count": 152,
     "metadata": {},
     "output_type": "execute_result"
    }
   ],
   "source": [
    "## Check the dimensions of the test_data before dropping dupliccate data\n",
    "test_data.shape"
   ]
  },
  {
   "cell_type": "code",
   "execution_count": 153,
   "metadata": {},
   "outputs": [],
   "source": [
    "## Drop duplicate session_id values\n",
    "test_data = test_data.drop_duplicates(subset=['session_id'])"
   ]
  },
  {
   "cell_type": "code",
   "execution_count": 154,
   "metadata": {},
   "outputs": [
    {
     "data": {
      "text/plain": [
       "(4500, 18)"
      ]
     },
     "execution_count": 154,
     "metadata": {},
     "output_type": "execute_result"
    }
   ],
   "source": [
    "## Check the dimensions of the test_data after dropping dupliccate data\n",
    "test_data.shape"
   ]
  },
  {
   "cell_type": "code",
   "execution_count": 155,
   "metadata": {},
   "outputs": [],
   "source": [
    "## Get session_id,gender from test_data and store into to_submit\n",
    "to_submit = test_data[['session_id', 'gender']]"
   ]
  },
  {
   "cell_type": "code",
   "execution_count": 156,
   "metadata": {},
   "outputs": [
    {
     "data": {
      "text/html": [
       "<div>\n",
       "<style scoped>\n",
       "    .dataframe tbody tr th:only-of-type {\n",
       "        vertical-align: middle;\n",
       "    }\n",
       "\n",
       "    .dataframe tbody tr th {\n",
       "        vertical-align: top;\n",
       "    }\n",
       "\n",
       "    .dataframe thead th {\n",
       "        text-align: right;\n",
       "    }\n",
       "</style>\n",
       "<table border=\"1\" class=\"dataframe\">\n",
       "  <thead>\n",
       "    <tr style=\"text-align: right;\">\n",
       "      <th></th>\n",
       "      <th>session_id</th>\n",
       "      <th>gender</th>\n",
       "    </tr>\n",
       "  </thead>\n",
       "  <tbody>\n",
       "    <tr>\n",
       "      <th>0</th>\n",
       "      <td>u12112</td>\n",
       "      <td>female</td>\n",
       "    </tr>\n",
       "    <tr>\n",
       "      <th>1</th>\n",
       "      <td>u19725</td>\n",
       "      <td>female</td>\n",
       "    </tr>\n",
       "    <tr>\n",
       "      <th>2</th>\n",
       "      <td>u11795</td>\n",
       "      <td>female</td>\n",
       "    </tr>\n",
       "    <tr>\n",
       "      <th>3</th>\n",
       "      <td>u22639</td>\n",
       "      <td>female</td>\n",
       "    </tr>\n",
       "    <tr>\n",
       "      <th>4</th>\n",
       "      <td>u18034</td>\n",
       "      <td>female</td>\n",
       "    </tr>\n",
       "  </tbody>\n",
       "</table>\n",
       "</div>"
      ],
      "text/plain": [
       "  session_id  gender\n",
       "0     u12112  female\n",
       "1     u19725  female\n",
       "2     u11795  female\n",
       "3     u22639  female\n",
       "4     u18034  female"
      ]
     },
     "execution_count": 156,
     "metadata": {},
     "output_type": "execute_result"
    }
   ],
   "source": [
    "## Check first 5 records of to_submit\n",
    "to_submit.head()"
   ]
  },
  {
   "cell_type": "code",
   "execution_count": 157,
   "metadata": {},
   "outputs": [
    {
     "data": {
      "text/plain": [
       "female    4071\n",
       "male       429\n",
       "Name: gender, dtype: int64"
      ]
     },
     "execution_count": 157,
     "metadata": {},
     "output_type": "execute_result"
    }
   ],
   "source": [
    "## Get gender count value \n",
    "to_submit.gender.value_counts()"
   ]
  },
  {
   "cell_type": "code",
   "execution_count": 158,
   "metadata": {},
   "outputs": [],
   "source": [
    "## store to_submit into csv file with name naivebayes_model \n",
    "to_submit.to_csv('naivebayes_model.csv',index = False)"
   ]
  },
  {
   "cell_type": "markdown",
   "metadata": {},
   "source": [
    "## 7.4 KNN "
   ]
  },
  {
   "cell_type": "code",
   "execution_count": 159,
   "metadata": {},
   "outputs": [],
   "source": [
    "## Instantiate KNN model\n",
    "knn = KNeighborsClassifier(algorithm = 'brute', n_neighbors = 3,\n",
    "                           metric = \"euclidean\")"
   ]
  },
  {
   "cell_type": "code",
   "execution_count": 160,
   "metadata": {},
   "outputs": [
    {
     "data": {
      "text/plain": [
       "KNeighborsClassifier(algorithm='brute', leaf_size=30, metric='euclidean',\n",
       "                     metric_params=None, n_jobs=None, n_neighbors=3, p=2,\n",
       "                     weights='uniform')"
      ]
     },
     "execution_count": 160,
     "metadata": {},
     "output_type": "execute_result"
    }
   ],
   "source": [
    "## Fit a model\n",
    "knn.fit(X_train, y_train)"
   ]
  },
  {
   "cell_type": "code",
   "execution_count": 161,
   "metadata": {},
   "outputs": [],
   "source": [
    "## Get prediction on trian and validation data\n",
    "train_pred = knn.predict(X_train)\n",
    "validation_pred = knn.predict(X_test)"
   ]
  },
  {
   "cell_type": "code",
   "execution_count": 162,
   "metadata": {},
   "outputs": [
    {
     "name": "stdout",
     "output_type": "stream",
     "text": [
      "[[14225   482]\n",
      " [  953  2940]]\n"
     ]
    }
   ],
   "source": [
    "## Get confusion matrix for train data\n",
    "confusion_matrix_train = confusion_matrix(y_train, train_pred)\n",
    "print(confusion_matrix_train)"
   ]
  },
  {
   "cell_type": "code",
   "execution_count": 163,
   "metadata": {},
   "outputs": [
    {
     "name": "stdout",
     "output_type": "stream",
     "text": [
      "[[3430  273]\n",
      " [ 368  580]]\n"
     ]
    }
   ],
   "source": [
    "## Get confusion matrix for validation data\n",
    "confusion_matrix_validation = confusion_matrix(y_test, validation_pred)\n",
    "print(confusion_matrix_validation)"
   ]
  },
  {
   "cell_type": "code",
   "execution_count": 164,
   "metadata": {},
   "outputs": [
    {
     "name": "stdout",
     "output_type": "stream",
     "text": [
      "Train TNR:  0.9672264907867002\n",
      "\n",
      "\n",
      "Train TPR:  0.7552016439763678\n",
      "\n",
      "\n",
      "Train Accuracy:  0.9228494623655914\n"
     ]
    }
   ],
   "source": [
    "Accuracy_Train=(confusion_matrix_train[0,0]+confusion_matrix_train[1,1])/(confusion_matrix_train[0,0]+confusion_matrix_train[0,1]+confusion_matrix_train[1,0]+confusion_matrix_train[1,1])\n",
    "TNR_Train= confusion_matrix_train[0,0]/(confusion_matrix_train[0,0]+confusion_matrix_train[0,1])\n",
    "TPR_Train= confusion_matrix_train[1,1]/(confusion_matrix_train[1,0]+confusion_matrix_train[1,1])\n",
    "\n",
    "print(\"Train TNR: \",TNR_Train)\n",
    "print(\"\\n\")\n",
    "print(\"Train TPR: \",TPR_Train)\n",
    "print(\"\\n\")\n",
    "print(\"Train Accuracy: \",Accuracy_Train)"
   ]
  },
  {
   "cell_type": "code",
   "execution_count": 165,
   "metadata": {
    "scrolled": false
   },
   "outputs": [
    {
     "name": "stdout",
     "output_type": "stream",
     "text": [
      "Validation TNR:  0.9262759924385633\n",
      "\n",
      "\n",
      "Validation TPR:  0.6118143459915611\n",
      "\n",
      "\n",
      "Validation Accuracy:  0.8621801763061707\n"
     ]
    }
   ],
   "source": [
    "Accuracy_Test=(confusion_matrix_validation[0,0]+confusion_matrix_validation[1,1])/(confusion_matrix_validation[0,0]+confusion_matrix_validation[0,1]+confusion_matrix_validation[1,0]+confusion_matrix_validation[1,1])\n",
    "TNR_Test= confusion_matrix_validation[0,0]/(confusion_matrix_validation[0,0] +confusion_matrix_validation[0,1])\n",
    "TPR_Test= confusion_matrix_validation[1,1]/(confusion_matrix_validation[1,0] +confusion_matrix_validation[1,1])\n",
    "\n",
    "print(\"Validation TNR: \",TNR_Test)\n",
    "print(\"\\n\")\n",
    "print(\"Validation TPR: \",TPR_Test)\n",
    "print(\"\\n\")\n",
    "print(\"Validation Accuracy: \",Accuracy_Test)"
   ]
  },
  {
   "cell_type": "code",
   "execution_count": 166,
   "metadata": {},
   "outputs": [
    {
     "name": "stdout",
     "output_type": "stream",
     "text": [
      "              precision    recall  f1-score   support\n",
      "\n",
      "           0       0.94      0.97      0.95     14707\n",
      "           1       0.86      0.76      0.80      3893\n",
      "\n",
      "    accuracy                           0.92     18600\n",
      "   macro avg       0.90      0.86      0.88     18600\n",
      "weighted avg       0.92      0.92      0.92     18600\n",
      "\n"
     ]
    }
   ],
   "source": [
    "## Display classification metrics for train data\n",
    "print(classification_report(y_true=y_train,y_pred=train_pred))"
   ]
  },
  {
   "cell_type": "code",
   "execution_count": 167,
   "metadata": {},
   "outputs": [
    {
     "name": "stdout",
     "output_type": "stream",
     "text": [
      "              precision    recall  f1-score   support\n",
      "\n",
      "           0       0.90      0.93      0.91      3703\n",
      "           1       0.68      0.61      0.64       948\n",
      "\n",
      "    accuracy                           0.86      4651\n",
      "   macro avg       0.79      0.77      0.78      4651\n",
      "weighted avg       0.86      0.86      0.86      4651\n",
      "\n"
     ]
    }
   ],
   "source": [
    "## Display classification metrics for validation data\n",
    "print(classification_report(y_true=y_test,y_pred=validation_pred))"
   ]
  },
  {
   "cell_type": "code",
   "execution_count": 168,
   "metadata": {},
   "outputs": [],
   "source": [
    "## Get copy of test data\n",
    "test_data = test.copy()"
   ]
  },
  {
   "cell_type": "code",
   "execution_count": 169,
   "metadata": {},
   "outputs": [],
   "source": [
    "## Get the predictions on test data\n",
    "y_pred = knn.predict(test_data)"
   ]
  },
  {
   "cell_type": "code",
   "execution_count": 170,
   "metadata": {},
   "outputs": [
    {
     "data": {
      "text/plain": [
       "array([0, 0, 0, ..., 0, 0, 0])"
      ]
     },
     "execution_count": 170,
     "metadata": {},
     "output_type": "execute_result"
    }
   ],
   "source": [
    "y_pred"
   ]
  },
  {
   "cell_type": "code",
   "execution_count": 171,
   "metadata": {},
   "outputs": [],
   "source": [
    "## Do inverse transform on y_ped so that we will get it's original values(male,female)\n",
    "test_data['gender'] = le_gender.inverse_transform(y_pred)"
   ]
  },
  {
   "cell_type": "code",
   "execution_count": 172,
   "metadata": {},
   "outputs": [],
   "source": [
    "## Do inverse transform on session_id so that we will get it's original values\n",
    "test_data['session_id'] = le_session.inverse_transform(test_data['session_id'])"
   ]
  },
  {
   "cell_type": "code",
   "execution_count": 173,
   "metadata": {},
   "outputs": [
    {
     "data": {
      "text/html": [
       "<div>\n",
       "<style scoped>\n",
       "    .dataframe tbody tr th:only-of-type {\n",
       "        vertical-align: middle;\n",
       "    }\n",
       "\n",
       "    .dataframe tbody tr th {\n",
       "        vertical-align: top;\n",
       "    }\n",
       "\n",
       "    .dataframe thead th {\n",
       "        text-align: right;\n",
       "    }\n",
       "</style>\n",
       "<table border=\"1\" class=\"dataframe\">\n",
       "  <thead>\n",
       "    <tr style=\"text-align: right;\">\n",
       "      <th></th>\n",
       "      <th>session_id</th>\n",
       "      <th>start_Y</th>\n",
       "      <th>start_M</th>\n",
       "      <th>start_D</th>\n",
       "      <th>end_Y</th>\n",
       "      <th>end_M</th>\n",
       "      <th>end_D</th>\n",
       "      <th>start_hour</th>\n",
       "      <th>start_min</th>\n",
       "      <th>start_sec</th>\n",
       "      <th>end_hour</th>\n",
       "      <th>end_min</th>\n",
       "      <th>end_sec</th>\n",
       "      <th>category</th>\n",
       "      <th>sub_category</th>\n",
       "      <th>sub_sub_category</th>\n",
       "      <th>product</th>\n",
       "      <th>gender</th>\n",
       "    </tr>\n",
       "  </thead>\n",
       "  <tbody>\n",
       "    <tr>\n",
       "      <th>0</th>\n",
       "      <td>u12112</td>\n",
       "      <td>0</td>\n",
       "      <td>6</td>\n",
       "      <td>0</td>\n",
       "      <td>0</td>\n",
       "      <td>6</td>\n",
       "      <td>0</td>\n",
       "      <td>13</td>\n",
       "      <td>36</td>\n",
       "      <td>0</td>\n",
       "      <td>13</td>\n",
       "      <td>36</td>\n",
       "      <td>0</td>\n",
       "      <td>1</td>\n",
       "      <td>2</td>\n",
       "      <td>5</td>\n",
       "      <td>12675</td>\n",
       "      <td>female</td>\n",
       "    </tr>\n",
       "    <tr>\n",
       "      <th>1</th>\n",
       "      <td>u19725</td>\n",
       "      <td>0</td>\n",
       "      <td>9</td>\n",
       "      <td>7</td>\n",
       "      <td>0</td>\n",
       "      <td>9</td>\n",
       "      <td>7</td>\n",
       "      <td>13</td>\n",
       "      <td>52</td>\n",
       "      <td>0</td>\n",
       "      <td>13</td>\n",
       "      <td>52</td>\n",
       "      <td>0</td>\n",
       "      <td>1</td>\n",
       "      <td>4</td>\n",
       "      <td>66</td>\n",
       "      <td>1407</td>\n",
       "      <td>female</td>\n",
       "    </tr>\n",
       "    <tr>\n",
       "      <th>2</th>\n",
       "      <td>u11795</td>\n",
       "      <td>0</td>\n",
       "      <td>0</td>\n",
       "      <td>0</td>\n",
       "      <td>0</td>\n",
       "      <td>0</td>\n",
       "      <td>0</td>\n",
       "      <td>10</td>\n",
       "      <td>44</td>\n",
       "      <td>0</td>\n",
       "      <td>10</td>\n",
       "      <td>44</td>\n",
       "      <td>0</td>\n",
       "      <td>1</td>\n",
       "      <td>1</td>\n",
       "      <td>3</td>\n",
       "      <td>8129</td>\n",
       "      <td>female</td>\n",
       "    </tr>\n",
       "    <tr>\n",
       "      <th>3</th>\n",
       "      <td>u22639</td>\n",
       "      <td>0</td>\n",
       "      <td>6</td>\n",
       "      <td>0</td>\n",
       "      <td>0</td>\n",
       "      <td>6</td>\n",
       "      <td>0</td>\n",
       "      <td>20</td>\n",
       "      <td>19</td>\n",
       "      <td>0</td>\n",
       "      <td>20</td>\n",
       "      <td>22</td>\n",
       "      <td>0</td>\n",
       "      <td>1</td>\n",
       "      <td>2</td>\n",
       "      <td>77</td>\n",
       "      <td>14345</td>\n",
       "      <td>male</td>\n",
       "    </tr>\n",
       "    <tr>\n",
       "      <th>3</th>\n",
       "      <td>u22639</td>\n",
       "      <td>0</td>\n",
       "      <td>6</td>\n",
       "      <td>0</td>\n",
       "      <td>0</td>\n",
       "      <td>6</td>\n",
       "      <td>0</td>\n",
       "      <td>20</td>\n",
       "      <td>19</td>\n",
       "      <td>0</td>\n",
       "      <td>20</td>\n",
       "      <td>22</td>\n",
       "      <td>0</td>\n",
       "      <td>1</td>\n",
       "      <td>2</td>\n",
       "      <td>77</td>\n",
       "      <td>14346</td>\n",
       "      <td>male</td>\n",
       "    </tr>\n",
       "  </tbody>\n",
       "</table>\n",
       "</div>"
      ],
      "text/plain": [
       "  session_id  start_Y  start_M  start_D  end_Y  end_M  end_D  start_hour  \\\n",
       "0     u12112        0        6        0      0      6      0          13   \n",
       "1     u19725        0        9        7      0      9      7          13   \n",
       "2     u11795        0        0        0      0      0      0          10   \n",
       "3     u22639        0        6        0      0      6      0          20   \n",
       "3     u22639        0        6        0      0      6      0          20   \n",
       "\n",
       "   start_min  start_sec  end_hour  end_min  end_sec  category  sub_category  \\\n",
       "0         36          0        13       36        0         1             2   \n",
       "1         52          0        13       52        0         1             4   \n",
       "2         44          0        10       44        0         1             1   \n",
       "3         19          0        20       22        0         1             2   \n",
       "3         19          0        20       22        0         1             2   \n",
       "\n",
       "   sub_sub_category  product  gender  \n",
       "0                 5    12675  female  \n",
       "1                66     1407  female  \n",
       "2                 3     8129  female  \n",
       "3                77    14345    male  \n",
       "3                77    14346    male  "
      ]
     },
     "execution_count": 173,
     "metadata": {},
     "output_type": "execute_result"
    }
   ],
   "source": [
    "## Check first 5 records after doing inverse transformation\n",
    "test_data.head()"
   ]
  },
  {
   "cell_type": "code",
   "execution_count": 174,
   "metadata": {},
   "outputs": [
    {
     "data": {
      "text/plain": [
       "(10204, 18)"
      ]
     },
     "execution_count": 174,
     "metadata": {},
     "output_type": "execute_result"
    }
   ],
   "source": [
    "## Check the dimensions of the test_data before dropping dupliccate data\n",
    "test_data.shape"
   ]
  },
  {
   "cell_type": "code",
   "execution_count": 175,
   "metadata": {},
   "outputs": [],
   "source": [
    "## Drop duplicate session_id values\n",
    "test_data = test_data.drop_duplicates(subset=['session_id'])"
   ]
  },
  {
   "cell_type": "code",
   "execution_count": 176,
   "metadata": {},
   "outputs": [
    {
     "data": {
      "text/plain": [
       "(4500, 18)"
      ]
     },
     "execution_count": 176,
     "metadata": {},
     "output_type": "execute_result"
    }
   ],
   "source": [
    "## Check the dimensions of the test_data after dropping dupliccate data\n",
    "test_data.shape"
   ]
  },
  {
   "cell_type": "code",
   "execution_count": 177,
   "metadata": {},
   "outputs": [],
   "source": [
    "## Get session_id,gender from test_data and store into to_submit\n",
    "to_submit = test_data[['session_id', 'gender']]"
   ]
  },
  {
   "cell_type": "code",
   "execution_count": 178,
   "metadata": {},
   "outputs": [
    {
     "data": {
      "text/html": [
       "<div>\n",
       "<style scoped>\n",
       "    .dataframe tbody tr th:only-of-type {\n",
       "        vertical-align: middle;\n",
       "    }\n",
       "\n",
       "    .dataframe tbody tr th {\n",
       "        vertical-align: top;\n",
       "    }\n",
       "\n",
       "    .dataframe thead th {\n",
       "        text-align: right;\n",
       "    }\n",
       "</style>\n",
       "<table border=\"1\" class=\"dataframe\">\n",
       "  <thead>\n",
       "    <tr style=\"text-align: right;\">\n",
       "      <th></th>\n",
       "      <th>session_id</th>\n",
       "      <th>gender</th>\n",
       "    </tr>\n",
       "  </thead>\n",
       "  <tbody>\n",
       "    <tr>\n",
       "      <th>0</th>\n",
       "      <td>u12112</td>\n",
       "      <td>female</td>\n",
       "    </tr>\n",
       "    <tr>\n",
       "      <th>1</th>\n",
       "      <td>u19725</td>\n",
       "      <td>female</td>\n",
       "    </tr>\n",
       "    <tr>\n",
       "      <th>2</th>\n",
       "      <td>u11795</td>\n",
       "      <td>female</td>\n",
       "    </tr>\n",
       "    <tr>\n",
       "      <th>3</th>\n",
       "      <td>u22639</td>\n",
       "      <td>male</td>\n",
       "    </tr>\n",
       "    <tr>\n",
       "      <th>4</th>\n",
       "      <td>u18034</td>\n",
       "      <td>female</td>\n",
       "    </tr>\n",
       "  </tbody>\n",
       "</table>\n",
       "</div>"
      ],
      "text/plain": [
       "  session_id  gender\n",
       "0     u12112  female\n",
       "1     u19725  female\n",
       "2     u11795  female\n",
       "3     u22639    male\n",
       "4     u18034  female"
      ]
     },
     "execution_count": 178,
     "metadata": {},
     "output_type": "execute_result"
    }
   ],
   "source": [
    "## Check first 5 records of to_submit\n",
    "to_submit.head()"
   ]
  },
  {
   "cell_type": "code",
   "execution_count": 179,
   "metadata": {},
   "outputs": [
    {
     "data": {
      "text/plain": [
       "female    3664\n",
       "male       836\n",
       "Name: gender, dtype: int64"
      ]
     },
     "execution_count": 179,
     "metadata": {},
     "output_type": "execute_result"
    }
   ],
   "source": [
    "## Get gender count value \n",
    "to_submit.gender.value_counts()"
   ]
  },
  {
   "cell_type": "code",
   "execution_count": 180,
   "metadata": {},
   "outputs": [],
   "source": [
    "## store to_submit into csv file with name knn_model \n",
    "to_submit.to_csv('knn_model.csv',index = False)"
   ]
  },
  {
   "cell_type": "markdown",
   "metadata": {},
   "source": [
    "## 7.5 Random Forest"
   ]
  },
  {
   "cell_type": "code",
   "execution_count": 181,
   "metadata": {},
   "outputs": [],
   "source": [
    "## Instantiate RandoForest model\n",
    "rc = RandomForestClassifier(n_estimators=30,max_depth=10,n_jobs=-1)"
   ]
  },
  {
   "cell_type": "code",
   "execution_count": 182,
   "metadata": {},
   "outputs": [
    {
     "data": {
      "text/plain": [
       "RandomForestClassifier(bootstrap=True, ccp_alpha=0.0, class_weight=None,\n",
       "                       criterion='gini', max_depth=10, max_features='auto',\n",
       "                       max_leaf_nodes=None, max_samples=None,\n",
       "                       min_impurity_decrease=0.0, min_impurity_split=None,\n",
       "                       min_samples_leaf=1, min_samples_split=2,\n",
       "                       min_weight_fraction_leaf=0.0, n_estimators=30, n_jobs=-1,\n",
       "                       oob_score=False, random_state=None, verbose=0,\n",
       "                       warm_start=False)"
      ]
     },
     "execution_count": 182,
     "metadata": {},
     "output_type": "execute_result"
    }
   ],
   "source": [
    "## Fit a model\n",
    "rc.fit(X_train,y_train)"
   ]
  },
  {
   "cell_type": "code",
   "execution_count": 183,
   "metadata": {},
   "outputs": [],
   "source": [
    "## Get predictions on train and validation data\n",
    "train_pred = rc.predict(X_train)\n",
    "validation_pred = rc.predict(X_test)"
   ]
  },
  {
   "cell_type": "code",
   "execution_count": 184,
   "metadata": {},
   "outputs": [
    {
     "name": "stdout",
     "output_type": "stream",
     "text": [
      "[[14393   314]\n",
      " [ 1399  2494]]\n"
     ]
    }
   ],
   "source": [
    "## Get confusion matrix for train data\n",
    "confusion_matrix_train = confusion_matrix(y_train, train_pred)\n",
    "print(confusion_matrix_train)"
   ]
  },
  {
   "cell_type": "code",
   "execution_count": 185,
   "metadata": {},
   "outputs": [
    {
     "name": "stdout",
     "output_type": "stream",
     "text": [
      "[[3620   83]\n",
      " [ 337  611]]\n"
     ]
    }
   ],
   "source": [
    "## Get confusion matrix for validation data\n",
    "confusion_matrix_validation = confusion_matrix(y_test, validation_pred)\n",
    "print(confusion_matrix_validation)"
   ]
  },
  {
   "cell_type": "code",
   "execution_count": 186,
   "metadata": {},
   "outputs": [
    {
     "name": "stdout",
     "output_type": "stream",
     "text": [
      "Train TNR:  0.9786496226286803\n",
      "\n",
      "\n",
      "Train TPR:  0.6406370408425379\n",
      "\n",
      "\n",
      "Train Accuracy:  0.9079032258064517\n"
     ]
    }
   ],
   "source": [
    "Accuracy_Train=(confusion_matrix_train[0,0]+confusion_matrix_train[1,1])/(confusion_matrix_train[0,0]+confusion_matrix_train[0,1]+confusion_matrix_train[1,0]+confusion_matrix_train[1,1])\n",
    "TNR_Train= confusion_matrix_train[0,0]/(confusion_matrix_train[0,0]+confusion_matrix_train[0,1])\n",
    "TPR_Train= confusion_matrix_train[1,1]/(confusion_matrix_train[1,0]+confusion_matrix_train[1,1])\n",
    "\n",
    "print(\"Train TNR: \",TNR_Train)\n",
    "print(\"\\n\")\n",
    "print(\"Train TPR: \",TPR_Train)\n",
    "print(\"\\n\")\n",
    "print(\"Train Accuracy: \",Accuracy_Train)"
   ]
  },
  {
   "cell_type": "code",
   "execution_count": 187,
   "metadata": {
    "scrolled": true
   },
   "outputs": [
    {
     "name": "stdout",
     "output_type": "stream",
     "text": [
      "Validation TNR:  0.9775857412908453\n",
      "\n",
      "\n",
      "Validation TPR:  0.6445147679324894\n",
      "\n",
      "\n",
      "Validation Accuracy:  0.9096968393893786\n"
     ]
    }
   ],
   "source": [
    "Accuracy_Test=(confusion_matrix_validation[0,0]+confusion_matrix_validation[1,1])/(confusion_matrix_validation[0,0]+confusion_matrix_validation[0,1]+confusion_matrix_validation[1,0]+confusion_matrix_validation[1,1])\n",
    "TNR_Test= confusion_matrix_validation[0,0]/(confusion_matrix_validation[0,0] +confusion_matrix_validation[0,1])\n",
    "TPR_Test= confusion_matrix_validation[1,1]/(confusion_matrix_validation[1,0] +confusion_matrix_validation[1,1])\n",
    "\n",
    "print(\"Validation TNR: \",TNR_Test)\n",
    "print(\"\\n\")\n",
    "print(\"Validation TPR: \",TPR_Test)\n",
    "print(\"\\n\")\n",
    "print(\"Validation Accuracy: \",Accuracy_Test)"
   ]
  },
  {
   "cell_type": "code",
   "execution_count": 188,
   "metadata": {},
   "outputs": [
    {
     "name": "stdout",
     "output_type": "stream",
     "text": [
      "              precision    recall  f1-score   support\n",
      "\n",
      "           0       0.91      0.98      0.94     14707\n",
      "           1       0.89      0.64      0.74      3893\n",
      "\n",
      "    accuracy                           0.91     18600\n",
      "   macro avg       0.90      0.81      0.84     18600\n",
      "weighted avg       0.91      0.91      0.90     18600\n",
      "\n"
     ]
    }
   ],
   "source": [
    "## Display classification metrics for train data\n",
    "print(classification_report(y_true=y_train,y_pred=train_pred))"
   ]
  },
  {
   "cell_type": "code",
   "execution_count": 189,
   "metadata": {},
   "outputs": [
    {
     "name": "stdout",
     "output_type": "stream",
     "text": [
      "              precision    recall  f1-score   support\n",
      "\n",
      "           0       0.91      0.98      0.95      3703\n",
      "           1       0.88      0.64      0.74       948\n",
      "\n",
      "    accuracy                           0.91      4651\n",
      "   macro avg       0.90      0.81      0.84      4651\n",
      "weighted avg       0.91      0.91      0.90      4651\n",
      "\n"
     ]
    }
   ],
   "source": [
    "## Display classification metrics for validation data\n",
    "print(classification_report(y_true=y_test,y_pred=validation_pred))"
   ]
  },
  {
   "cell_type": "code",
   "execution_count": 190,
   "metadata": {},
   "outputs": [],
   "source": [
    "## Get copy of test data\n",
    "test_data = test.copy()"
   ]
  },
  {
   "cell_type": "code",
   "execution_count": 191,
   "metadata": {},
   "outputs": [],
   "source": [
    "## Get the predictions on test data\n",
    "y_pred = rc.predict(test_data)"
   ]
  },
  {
   "cell_type": "code",
   "execution_count": 192,
   "metadata": {},
   "outputs": [
    {
     "data": {
      "text/plain": [
       "array([0, 0, 0, ..., 1, 0, 0])"
      ]
     },
     "execution_count": 192,
     "metadata": {},
     "output_type": "execute_result"
    }
   ],
   "source": [
    "y_pred"
   ]
  },
  {
   "cell_type": "code",
   "execution_count": 193,
   "metadata": {},
   "outputs": [],
   "source": [
    "## Do inverse transform on y_ped so that we will get it's original values(male,female)\n",
    "test_data['gender'] = le_gender.inverse_transform(y_pred)"
   ]
  },
  {
   "cell_type": "code",
   "execution_count": 194,
   "metadata": {},
   "outputs": [],
   "source": [
    "## Do inverse transform on session_id so that we will get it's original values\n",
    "test_data['session_id'] = le_session.inverse_transform(test_data['session_id'])"
   ]
  },
  {
   "cell_type": "code",
   "execution_count": 195,
   "metadata": {},
   "outputs": [
    {
     "data": {
      "text/html": [
       "<div>\n",
       "<style scoped>\n",
       "    .dataframe tbody tr th:only-of-type {\n",
       "        vertical-align: middle;\n",
       "    }\n",
       "\n",
       "    .dataframe tbody tr th {\n",
       "        vertical-align: top;\n",
       "    }\n",
       "\n",
       "    .dataframe thead th {\n",
       "        text-align: right;\n",
       "    }\n",
       "</style>\n",
       "<table border=\"1\" class=\"dataframe\">\n",
       "  <thead>\n",
       "    <tr style=\"text-align: right;\">\n",
       "      <th></th>\n",
       "      <th>session_id</th>\n",
       "      <th>start_Y</th>\n",
       "      <th>start_M</th>\n",
       "      <th>start_D</th>\n",
       "      <th>end_Y</th>\n",
       "      <th>end_M</th>\n",
       "      <th>end_D</th>\n",
       "      <th>start_hour</th>\n",
       "      <th>start_min</th>\n",
       "      <th>start_sec</th>\n",
       "      <th>end_hour</th>\n",
       "      <th>end_min</th>\n",
       "      <th>end_sec</th>\n",
       "      <th>category</th>\n",
       "      <th>sub_category</th>\n",
       "      <th>sub_sub_category</th>\n",
       "      <th>product</th>\n",
       "      <th>gender</th>\n",
       "    </tr>\n",
       "  </thead>\n",
       "  <tbody>\n",
       "    <tr>\n",
       "      <th>0</th>\n",
       "      <td>u12112</td>\n",
       "      <td>0</td>\n",
       "      <td>6</td>\n",
       "      <td>0</td>\n",
       "      <td>0</td>\n",
       "      <td>6</td>\n",
       "      <td>0</td>\n",
       "      <td>13</td>\n",
       "      <td>36</td>\n",
       "      <td>0</td>\n",
       "      <td>13</td>\n",
       "      <td>36</td>\n",
       "      <td>0</td>\n",
       "      <td>1</td>\n",
       "      <td>2</td>\n",
       "      <td>5</td>\n",
       "      <td>12675</td>\n",
       "      <td>female</td>\n",
       "    </tr>\n",
       "    <tr>\n",
       "      <th>1</th>\n",
       "      <td>u19725</td>\n",
       "      <td>0</td>\n",
       "      <td>9</td>\n",
       "      <td>7</td>\n",
       "      <td>0</td>\n",
       "      <td>9</td>\n",
       "      <td>7</td>\n",
       "      <td>13</td>\n",
       "      <td>52</td>\n",
       "      <td>0</td>\n",
       "      <td>13</td>\n",
       "      <td>52</td>\n",
       "      <td>0</td>\n",
       "      <td>1</td>\n",
       "      <td>4</td>\n",
       "      <td>66</td>\n",
       "      <td>1407</td>\n",
       "      <td>female</td>\n",
       "    </tr>\n",
       "    <tr>\n",
       "      <th>2</th>\n",
       "      <td>u11795</td>\n",
       "      <td>0</td>\n",
       "      <td>0</td>\n",
       "      <td>0</td>\n",
       "      <td>0</td>\n",
       "      <td>0</td>\n",
       "      <td>0</td>\n",
       "      <td>10</td>\n",
       "      <td>44</td>\n",
       "      <td>0</td>\n",
       "      <td>10</td>\n",
       "      <td>44</td>\n",
       "      <td>0</td>\n",
       "      <td>1</td>\n",
       "      <td>1</td>\n",
       "      <td>3</td>\n",
       "      <td>8129</td>\n",
       "      <td>female</td>\n",
       "    </tr>\n",
       "    <tr>\n",
       "      <th>3</th>\n",
       "      <td>u22639</td>\n",
       "      <td>0</td>\n",
       "      <td>6</td>\n",
       "      <td>0</td>\n",
       "      <td>0</td>\n",
       "      <td>6</td>\n",
       "      <td>0</td>\n",
       "      <td>20</td>\n",
       "      <td>19</td>\n",
       "      <td>0</td>\n",
       "      <td>20</td>\n",
       "      <td>22</td>\n",
       "      <td>0</td>\n",
       "      <td>1</td>\n",
       "      <td>2</td>\n",
       "      <td>77</td>\n",
       "      <td>14345</td>\n",
       "      <td>female</td>\n",
       "    </tr>\n",
       "    <tr>\n",
       "      <th>3</th>\n",
       "      <td>u22639</td>\n",
       "      <td>0</td>\n",
       "      <td>6</td>\n",
       "      <td>0</td>\n",
       "      <td>0</td>\n",
       "      <td>6</td>\n",
       "      <td>0</td>\n",
       "      <td>20</td>\n",
       "      <td>19</td>\n",
       "      <td>0</td>\n",
       "      <td>20</td>\n",
       "      <td>22</td>\n",
       "      <td>0</td>\n",
       "      <td>1</td>\n",
       "      <td>2</td>\n",
       "      <td>77</td>\n",
       "      <td>14346</td>\n",
       "      <td>female</td>\n",
       "    </tr>\n",
       "  </tbody>\n",
       "</table>\n",
       "</div>"
      ],
      "text/plain": [
       "  session_id  start_Y  start_M  start_D  end_Y  end_M  end_D  start_hour  \\\n",
       "0     u12112        0        6        0      0      6      0          13   \n",
       "1     u19725        0        9        7      0      9      7          13   \n",
       "2     u11795        0        0        0      0      0      0          10   \n",
       "3     u22639        0        6        0      0      6      0          20   \n",
       "3     u22639        0        6        0      0      6      0          20   \n",
       "\n",
       "   start_min  start_sec  end_hour  end_min  end_sec  category  sub_category  \\\n",
       "0         36          0        13       36        0         1             2   \n",
       "1         52          0        13       52        0         1             4   \n",
       "2         44          0        10       44        0         1             1   \n",
       "3         19          0        20       22        0         1             2   \n",
       "3         19          0        20       22        0         1             2   \n",
       "\n",
       "   sub_sub_category  product  gender  \n",
       "0                 5    12675  female  \n",
       "1                66     1407  female  \n",
       "2                 3     8129  female  \n",
       "3                77    14345  female  \n",
       "3                77    14346  female  "
      ]
     },
     "execution_count": 195,
     "metadata": {},
     "output_type": "execute_result"
    }
   ],
   "source": [
    "## Check first 5 records after doing inverse transformation\n",
    "test_data.head()"
   ]
  },
  {
   "cell_type": "code",
   "execution_count": 196,
   "metadata": {},
   "outputs": [
    {
     "data": {
      "text/plain": [
       "(10204, 18)"
      ]
     },
     "execution_count": 196,
     "metadata": {},
     "output_type": "execute_result"
    }
   ],
   "source": [
    "## Check the dimensions of the test_data before dropping dupliccate data\n",
    "test_data.shape"
   ]
  },
  {
   "cell_type": "code",
   "execution_count": 197,
   "metadata": {},
   "outputs": [],
   "source": [
    "## Drop duplicate session_id values\n",
    "test_data = test_data.drop_duplicates(subset=['session_id'])"
   ]
  },
  {
   "cell_type": "code",
   "execution_count": 198,
   "metadata": {},
   "outputs": [
    {
     "data": {
      "text/plain": [
       "(4500, 18)"
      ]
     },
     "execution_count": 198,
     "metadata": {},
     "output_type": "execute_result"
    }
   ],
   "source": [
    "## Check the dimensions of the test_data after dropping dupliccate data\n",
    "test_data.shape"
   ]
  },
  {
   "cell_type": "code",
   "execution_count": 199,
   "metadata": {},
   "outputs": [],
   "source": [
    "## Get session_id,gender from test_data and store into to_submit\n",
    "to_submit = test_data[['session_id', 'gender']]"
   ]
  },
  {
   "cell_type": "code",
   "execution_count": 200,
   "metadata": {},
   "outputs": [
    {
     "data": {
      "text/html": [
       "<div>\n",
       "<style scoped>\n",
       "    .dataframe tbody tr th:only-of-type {\n",
       "        vertical-align: middle;\n",
       "    }\n",
       "\n",
       "    .dataframe tbody tr th {\n",
       "        vertical-align: top;\n",
       "    }\n",
       "\n",
       "    .dataframe thead th {\n",
       "        text-align: right;\n",
       "    }\n",
       "</style>\n",
       "<table border=\"1\" class=\"dataframe\">\n",
       "  <thead>\n",
       "    <tr style=\"text-align: right;\">\n",
       "      <th></th>\n",
       "      <th>session_id</th>\n",
       "      <th>gender</th>\n",
       "    </tr>\n",
       "  </thead>\n",
       "  <tbody>\n",
       "    <tr>\n",
       "      <th>0</th>\n",
       "      <td>u12112</td>\n",
       "      <td>female</td>\n",
       "    </tr>\n",
       "    <tr>\n",
       "      <th>1</th>\n",
       "      <td>u19725</td>\n",
       "      <td>female</td>\n",
       "    </tr>\n",
       "    <tr>\n",
       "      <th>2</th>\n",
       "      <td>u11795</td>\n",
       "      <td>female</td>\n",
       "    </tr>\n",
       "    <tr>\n",
       "      <th>3</th>\n",
       "      <td>u22639</td>\n",
       "      <td>female</td>\n",
       "    </tr>\n",
       "    <tr>\n",
       "      <th>4</th>\n",
       "      <td>u18034</td>\n",
       "      <td>female</td>\n",
       "    </tr>\n",
       "  </tbody>\n",
       "</table>\n",
       "</div>"
      ],
      "text/plain": [
       "  session_id  gender\n",
       "0     u12112  female\n",
       "1     u19725  female\n",
       "2     u11795  female\n",
       "3     u22639  female\n",
       "4     u18034  female"
      ]
     },
     "execution_count": 200,
     "metadata": {},
     "output_type": "execute_result"
    }
   ],
   "source": [
    "## Check first 5 records of to_submit\n",
    "to_submit.head()"
   ]
  },
  {
   "cell_type": "code",
   "execution_count": 201,
   "metadata": {},
   "outputs": [
    {
     "data": {
      "text/plain": [
       "female    3788\n",
       "male       712\n",
       "Name: gender, dtype: int64"
      ]
     },
     "execution_count": 201,
     "metadata": {},
     "output_type": "execute_result"
    }
   ],
   "source": [
    "## Get gender count value \n",
    "to_submit.gender.value_counts()"
   ]
  },
  {
   "cell_type": "code",
   "execution_count": 202,
   "metadata": {},
   "outputs": [],
   "source": [
    "## store to_submit into csv file with name randomforest_model \n",
    "to_submit.to_csv('randomforest_model.csv',index = False)"
   ]
  },
  {
   "cell_type": "markdown",
   "metadata": {},
   "source": [
    "## 7.6 Bagging "
   ]
  },
  {
   "cell_type": "code",
   "execution_count": 203,
   "metadata": {},
   "outputs": [
    {
     "data": {
      "text/plain": [
       "BaggingClassifier(base_estimator=None, bootstrap=True, bootstrap_features=False,\n",
       "                  max_features=1.0, max_samples=1.0, n_estimators=10,\n",
       "                  n_jobs=None, oob_score=False, random_state=None, verbose=0,\n",
       "                  warm_start=False)"
      ]
     },
     "execution_count": 203,
     "metadata": {},
     "output_type": "execute_result"
    }
   ],
   "source": [
    "## Instantiate Bagging model and fit it\n",
    "clf = BaggingClassifier(n_estimators=10)\n",
    "clf.fit(X=X_train, y=y_train)"
   ]
  },
  {
   "cell_type": "code",
   "execution_count": 204,
   "metadata": {},
   "outputs": [],
   "source": [
    "## Get prediction on train and validation data\n",
    "train_pred = clf.predict(X_train)\n",
    "validation_pred = clf.predict(X_test)"
   ]
  },
  {
   "cell_type": "code",
   "execution_count": 205,
   "metadata": {},
   "outputs": [
    {
     "name": "stdout",
     "output_type": "stream",
     "text": [
      "[[14703     4]\n",
      " [   64  3829]]\n"
     ]
    }
   ],
   "source": [
    "## Get confusion matrix for train data\n",
    "confusion_matrix_train = confusion_matrix(y_train, train_pred)\n",
    "print(confusion_matrix_train)"
   ]
  },
  {
   "cell_type": "code",
   "execution_count": 206,
   "metadata": {},
   "outputs": [
    {
     "name": "stdout",
     "output_type": "stream",
     "text": [
      "[[3652   51]\n",
      " [ 154  794]]\n"
     ]
    }
   ],
   "source": [
    "## Get confusion matrix for validation data\n",
    "confusion_matrix_validation = confusion_matrix(y_test, validation_pred)\n",
    "print(confusion_matrix_validation)"
   ]
  },
  {
   "cell_type": "code",
   "execution_count": 207,
   "metadata": {},
   "outputs": [
    {
     "name": "stdout",
     "output_type": "stream",
     "text": [
      "Train TNR:  0.9997280206704291\n",
      "\n",
      "\n",
      "Train TPR:  0.9835602363216028\n",
      "\n",
      "\n",
      "Train Accuracy:  0.9963440860215054\n"
     ]
    }
   ],
   "source": [
    "Accuracy_Train=(confusion_matrix_train[0,0]+confusion_matrix_train[1,1])/(confusion_matrix_train[0,0]+confusion_matrix_train[0,1]+confusion_matrix_train[1,0]+confusion_matrix_train[1,1])\n",
    "TNR_Train= confusion_matrix_train[0,0]/(confusion_matrix_train[0,0]+confusion_matrix_train[0,1])\n",
    "TPR_Train= confusion_matrix_train[1,1]/(confusion_matrix_train[1,0]+confusion_matrix_train[1,1])\n",
    "\n",
    "print(\"Train TNR: \",TNR_Train)\n",
    "print(\"\\n\")\n",
    "print(\"Train TPR: \",TPR_Train)\n",
    "print(\"\\n\")\n",
    "print(\"Train Accuracy: \",Accuracy_Train)"
   ]
  },
  {
   "cell_type": "code",
   "execution_count": 208,
   "metadata": {},
   "outputs": [
    {
     "name": "stdout",
     "output_type": "stream",
     "text": [
      "Validation TNR:  0.9862273832028086\n",
      "\n",
      "\n",
      "Validation TPR:  0.8375527426160337\n",
      "\n",
      "\n",
      "Validation Accuracy:  0.9559234573210063\n"
     ]
    }
   ],
   "source": [
    "Accuracy_Test=(confusion_matrix_validation[0,0]+confusion_matrix_validation[1,1])/(confusion_matrix_validation[0,0]+confusion_matrix_validation[0,1]+confusion_matrix_validation[1,0]+confusion_matrix_validation[1,1])\n",
    "TNR_Test= confusion_matrix_validation[0,0]/(confusion_matrix_validation[0,0] +confusion_matrix_validation[0,1])\n",
    "TPR_Test= confusion_matrix_validation[1,1]/(confusion_matrix_validation[1,0] +confusion_matrix_validation[1,1])\n",
    "\n",
    "print(\"Validation TNR: \",TNR_Test)\n",
    "print(\"\\n\")\n",
    "print(\"Validation TPR: \",TPR_Test)\n",
    "print(\"\\n\")\n",
    "print(\"Validation Accuracy: \",Accuracy_Test)"
   ]
  },
  {
   "cell_type": "code",
   "execution_count": 209,
   "metadata": {},
   "outputs": [
    {
     "name": "stdout",
     "output_type": "stream",
     "text": [
      "              precision    recall  f1-score   support\n",
      "\n",
      "           0       1.00      1.00      1.00     14707\n",
      "           1       1.00      0.98      0.99      3893\n",
      "\n",
      "    accuracy                           1.00     18600\n",
      "   macro avg       1.00      0.99      0.99     18600\n",
      "weighted avg       1.00      1.00      1.00     18600\n",
      "\n"
     ]
    }
   ],
   "source": [
    "## Display classification metrics for train data\n",
    "print(classification_report(y_true=y_train,y_pred=train_pred))"
   ]
  },
  {
   "cell_type": "code",
   "execution_count": 210,
   "metadata": {},
   "outputs": [
    {
     "name": "stdout",
     "output_type": "stream",
     "text": [
      "              precision    recall  f1-score   support\n",
      "\n",
      "           0       0.96      0.99      0.97      3703\n",
      "           1       0.94      0.84      0.89       948\n",
      "\n",
      "    accuracy                           0.96      4651\n",
      "   macro avg       0.95      0.91      0.93      4651\n",
      "weighted avg       0.96      0.96      0.95      4651\n",
      "\n"
     ]
    }
   ],
   "source": [
    "## Display classification metrics for validation data\n",
    "print(classification_report(y_true=y_test,y_pred=validation_pred))"
   ]
  },
  {
   "cell_type": "code",
   "execution_count": 211,
   "metadata": {},
   "outputs": [],
   "source": [
    "## Get copy of test data\n",
    "test_data = test.copy()"
   ]
  },
  {
   "cell_type": "code",
   "execution_count": 212,
   "metadata": {},
   "outputs": [],
   "source": [
    "## Get the predictions on test data\n",
    "y_pred = clf.predict(test_data)"
   ]
  },
  {
   "cell_type": "code",
   "execution_count": 213,
   "metadata": {},
   "outputs": [
    {
     "data": {
      "text/plain": [
       "array([0, 0, 0, ..., 0, 0, 0])"
      ]
     },
     "execution_count": 213,
     "metadata": {},
     "output_type": "execute_result"
    }
   ],
   "source": [
    "y_pred"
   ]
  },
  {
   "cell_type": "code",
   "execution_count": 214,
   "metadata": {},
   "outputs": [],
   "source": [
    "## Do inverse transform on y_ped so that we will get it's original values(male,female)\n",
    "test_data['gender'] = le_gender.inverse_transform(y_pred)"
   ]
  },
  {
   "cell_type": "code",
   "execution_count": 215,
   "metadata": {},
   "outputs": [],
   "source": [
    "## Do inverse transform on session_id so that we will get it's original values\n",
    "test_data['session_id'] = le_session.inverse_transform(test_data['session_id'])"
   ]
  },
  {
   "cell_type": "code",
   "execution_count": 216,
   "metadata": {},
   "outputs": [
    {
     "data": {
      "text/html": [
       "<div>\n",
       "<style scoped>\n",
       "    .dataframe tbody tr th:only-of-type {\n",
       "        vertical-align: middle;\n",
       "    }\n",
       "\n",
       "    .dataframe tbody tr th {\n",
       "        vertical-align: top;\n",
       "    }\n",
       "\n",
       "    .dataframe thead th {\n",
       "        text-align: right;\n",
       "    }\n",
       "</style>\n",
       "<table border=\"1\" class=\"dataframe\">\n",
       "  <thead>\n",
       "    <tr style=\"text-align: right;\">\n",
       "      <th></th>\n",
       "      <th>session_id</th>\n",
       "      <th>start_Y</th>\n",
       "      <th>start_M</th>\n",
       "      <th>start_D</th>\n",
       "      <th>end_Y</th>\n",
       "      <th>end_M</th>\n",
       "      <th>end_D</th>\n",
       "      <th>start_hour</th>\n",
       "      <th>start_min</th>\n",
       "      <th>start_sec</th>\n",
       "      <th>end_hour</th>\n",
       "      <th>end_min</th>\n",
       "      <th>end_sec</th>\n",
       "      <th>category</th>\n",
       "      <th>sub_category</th>\n",
       "      <th>sub_sub_category</th>\n",
       "      <th>product</th>\n",
       "      <th>gender</th>\n",
       "    </tr>\n",
       "  </thead>\n",
       "  <tbody>\n",
       "    <tr>\n",
       "      <th>0</th>\n",
       "      <td>u12112</td>\n",
       "      <td>0</td>\n",
       "      <td>6</td>\n",
       "      <td>0</td>\n",
       "      <td>0</td>\n",
       "      <td>6</td>\n",
       "      <td>0</td>\n",
       "      <td>13</td>\n",
       "      <td>36</td>\n",
       "      <td>0</td>\n",
       "      <td>13</td>\n",
       "      <td>36</td>\n",
       "      <td>0</td>\n",
       "      <td>1</td>\n",
       "      <td>2</td>\n",
       "      <td>5</td>\n",
       "      <td>12675</td>\n",
       "      <td>female</td>\n",
       "    </tr>\n",
       "    <tr>\n",
       "      <th>1</th>\n",
       "      <td>u19725</td>\n",
       "      <td>0</td>\n",
       "      <td>9</td>\n",
       "      <td>7</td>\n",
       "      <td>0</td>\n",
       "      <td>9</td>\n",
       "      <td>7</td>\n",
       "      <td>13</td>\n",
       "      <td>52</td>\n",
       "      <td>0</td>\n",
       "      <td>13</td>\n",
       "      <td>52</td>\n",
       "      <td>0</td>\n",
       "      <td>1</td>\n",
       "      <td>4</td>\n",
       "      <td>66</td>\n",
       "      <td>1407</td>\n",
       "      <td>female</td>\n",
       "    </tr>\n",
       "    <tr>\n",
       "      <th>2</th>\n",
       "      <td>u11795</td>\n",
       "      <td>0</td>\n",
       "      <td>0</td>\n",
       "      <td>0</td>\n",
       "      <td>0</td>\n",
       "      <td>0</td>\n",
       "      <td>0</td>\n",
       "      <td>10</td>\n",
       "      <td>44</td>\n",
       "      <td>0</td>\n",
       "      <td>10</td>\n",
       "      <td>44</td>\n",
       "      <td>0</td>\n",
       "      <td>1</td>\n",
       "      <td>1</td>\n",
       "      <td>3</td>\n",
       "      <td>8129</td>\n",
       "      <td>female</td>\n",
       "    </tr>\n",
       "    <tr>\n",
       "      <th>3</th>\n",
       "      <td>u22639</td>\n",
       "      <td>0</td>\n",
       "      <td>6</td>\n",
       "      <td>0</td>\n",
       "      <td>0</td>\n",
       "      <td>6</td>\n",
       "      <td>0</td>\n",
       "      <td>20</td>\n",
       "      <td>19</td>\n",
       "      <td>0</td>\n",
       "      <td>20</td>\n",
       "      <td>22</td>\n",
       "      <td>0</td>\n",
       "      <td>1</td>\n",
       "      <td>2</td>\n",
       "      <td>77</td>\n",
       "      <td>14345</td>\n",
       "      <td>male</td>\n",
       "    </tr>\n",
       "    <tr>\n",
       "      <th>3</th>\n",
       "      <td>u22639</td>\n",
       "      <td>0</td>\n",
       "      <td>6</td>\n",
       "      <td>0</td>\n",
       "      <td>0</td>\n",
       "      <td>6</td>\n",
       "      <td>0</td>\n",
       "      <td>20</td>\n",
       "      <td>19</td>\n",
       "      <td>0</td>\n",
       "      <td>20</td>\n",
       "      <td>22</td>\n",
       "      <td>0</td>\n",
       "      <td>1</td>\n",
       "      <td>2</td>\n",
       "      <td>77</td>\n",
       "      <td>14346</td>\n",
       "      <td>male</td>\n",
       "    </tr>\n",
       "  </tbody>\n",
       "</table>\n",
       "</div>"
      ],
      "text/plain": [
       "  session_id  start_Y  start_M  start_D  end_Y  end_M  end_D  start_hour  \\\n",
       "0     u12112        0        6        0      0      6      0          13   \n",
       "1     u19725        0        9        7      0      9      7          13   \n",
       "2     u11795        0        0        0      0      0      0          10   \n",
       "3     u22639        0        6        0      0      6      0          20   \n",
       "3     u22639        0        6        0      0      6      0          20   \n",
       "\n",
       "   start_min  start_sec  end_hour  end_min  end_sec  category  sub_category  \\\n",
       "0         36          0        13       36        0         1             2   \n",
       "1         52          0        13       52        0         1             4   \n",
       "2         44          0        10       44        0         1             1   \n",
       "3         19          0        20       22        0         1             2   \n",
       "3         19          0        20       22        0         1             2   \n",
       "\n",
       "   sub_sub_category  product  gender  \n",
       "0                 5    12675  female  \n",
       "1                66     1407  female  \n",
       "2                 3     8129  female  \n",
       "3                77    14345    male  \n",
       "3                77    14346    male  "
      ]
     },
     "execution_count": 216,
     "metadata": {},
     "output_type": "execute_result"
    }
   ],
   "source": [
    "## Check first 5 records after doing inverse transformation\n",
    "test_data.head()"
   ]
  },
  {
   "cell_type": "code",
   "execution_count": 217,
   "metadata": {},
   "outputs": [
    {
     "data": {
      "text/plain": [
       "(10204, 18)"
      ]
     },
     "execution_count": 217,
     "metadata": {},
     "output_type": "execute_result"
    }
   ],
   "source": [
    "## Check the dimensions of the test_data before dropping dupliccate data\n",
    "test_data.shape"
   ]
  },
  {
   "cell_type": "code",
   "execution_count": 218,
   "metadata": {},
   "outputs": [],
   "source": [
    "## Drop duplicate session_id values\n",
    "test_data = test_data.drop_duplicates(subset=['session_id'])"
   ]
  },
  {
   "cell_type": "code",
   "execution_count": 219,
   "metadata": {},
   "outputs": [
    {
     "data": {
      "text/plain": [
       "(4500, 18)"
      ]
     },
     "execution_count": 219,
     "metadata": {},
     "output_type": "execute_result"
    }
   ],
   "source": [
    "## Check the dimensions of the test_data after dropping dupliccate data\n",
    "test_data.shape"
   ]
  },
  {
   "cell_type": "code",
   "execution_count": 220,
   "metadata": {},
   "outputs": [],
   "source": [
    "## Get session_id,gender from test_data and store into to_submit\n",
    "to_submit = test_data[['session_id', 'gender']]"
   ]
  },
  {
   "cell_type": "code",
   "execution_count": 221,
   "metadata": {},
   "outputs": [
    {
     "data": {
      "text/html": [
       "<div>\n",
       "<style scoped>\n",
       "    .dataframe tbody tr th:only-of-type {\n",
       "        vertical-align: middle;\n",
       "    }\n",
       "\n",
       "    .dataframe tbody tr th {\n",
       "        vertical-align: top;\n",
       "    }\n",
       "\n",
       "    .dataframe thead th {\n",
       "        text-align: right;\n",
       "    }\n",
       "</style>\n",
       "<table border=\"1\" class=\"dataframe\">\n",
       "  <thead>\n",
       "    <tr style=\"text-align: right;\">\n",
       "      <th></th>\n",
       "      <th>session_id</th>\n",
       "      <th>gender</th>\n",
       "    </tr>\n",
       "  </thead>\n",
       "  <tbody>\n",
       "    <tr>\n",
       "      <th>0</th>\n",
       "      <td>u12112</td>\n",
       "      <td>female</td>\n",
       "    </tr>\n",
       "    <tr>\n",
       "      <th>1</th>\n",
       "      <td>u19725</td>\n",
       "      <td>female</td>\n",
       "    </tr>\n",
       "    <tr>\n",
       "      <th>2</th>\n",
       "      <td>u11795</td>\n",
       "      <td>female</td>\n",
       "    </tr>\n",
       "    <tr>\n",
       "      <th>3</th>\n",
       "      <td>u22639</td>\n",
       "      <td>male</td>\n",
       "    </tr>\n",
       "    <tr>\n",
       "      <th>4</th>\n",
       "      <td>u18034</td>\n",
       "      <td>male</td>\n",
       "    </tr>\n",
       "  </tbody>\n",
       "</table>\n",
       "</div>"
      ],
      "text/plain": [
       "  session_id  gender\n",
       "0     u12112  female\n",
       "1     u19725  female\n",
       "2     u11795  female\n",
       "3     u22639    male\n",
       "4     u18034    male"
      ]
     },
     "execution_count": 221,
     "metadata": {},
     "output_type": "execute_result"
    }
   ],
   "source": [
    "## Check first 5 records of to_submit\n",
    "to_submit.head()"
   ]
  },
  {
   "cell_type": "code",
   "execution_count": 222,
   "metadata": {},
   "outputs": [
    {
     "data": {
      "text/plain": [
       "female    3710\n",
       "male       790\n",
       "Name: gender, dtype: int64"
      ]
     },
     "execution_count": 222,
     "metadata": {},
     "output_type": "execute_result"
    }
   ],
   "source": [
    "## Get gender count value \n",
    "to_submit.gender.value_counts()"
   ]
  },
  {
   "cell_type": "code",
   "execution_count": 223,
   "metadata": {},
   "outputs": [],
   "source": [
    "## store to_submit into csv file with name bagging_model \n",
    "to_submit.to_csv('bagging_model.csv',index = False)"
   ]
  },
  {
   "cell_type": "markdown",
   "metadata": {},
   "source": [
    "## 7.7 AdaBoost "
   ]
  },
  {
   "cell_type": "code",
   "execution_count": 224,
   "metadata": {},
   "outputs": [
    {
     "name": "stdout",
     "output_type": "stream",
     "text": [
      "Wall time: 732 ms\n"
     ]
    },
    {
     "data": {
      "text/plain": [
       "AdaBoostClassifier(algorithm='SAMME.R', base_estimator=None, learning_rate=1,\n",
       "                   n_estimators=50, random_state=None)"
      ]
     },
     "execution_count": 224,
     "metadata": {},
     "output_type": "execute_result"
    }
   ],
   "source": [
    "## Instantiate AdaBoost model and fit it\n",
    "Adaboost_model = AdaBoostClassifier(n_estimators=50,learning_rate=1)\n",
    "%time Adaboost_model.fit(X_train, y_train)"
   ]
  },
  {
   "cell_type": "code",
   "execution_count": 225,
   "metadata": {},
   "outputs": [],
   "source": [
    "## Get predictions on train and validation data\n",
    "train_pred = Adaboost_model.predict(X_train)\n",
    "validation_pred = Adaboost_model.predict(X_test)"
   ]
  },
  {
   "cell_type": "code",
   "execution_count": 226,
   "metadata": {},
   "outputs": [
    {
     "name": "stdout",
     "output_type": "stream",
     "text": [
      "[[14171   536]\n",
      " [ 1585  2308]]\n"
     ]
    }
   ],
   "source": [
    "## Get confusion matrix for train data\n",
    "confusion_matrix_train = confusion_matrix(y_train, train_pred)\n",
    "print(confusion_matrix_train)"
   ]
  },
  {
   "cell_type": "code",
   "execution_count": 227,
   "metadata": {},
   "outputs": [
    {
     "name": "stdout",
     "output_type": "stream",
     "text": [
      "[[3575  128]\n",
      " [ 370  578]]\n"
     ]
    }
   ],
   "source": [
    "## Get confusion matrrix for validation data\n",
    "confusion_matrix_validation = confusion_matrix(y_test, validation_pred)\n",
    "print(confusion_matrix_validation)"
   ]
  },
  {
   "cell_type": "code",
   "execution_count": 228,
   "metadata": {},
   "outputs": [
    {
     "name": "stdout",
     "output_type": "stream",
     "text": [
      "Train TNR:  0.9635547698374923\n",
      "\n",
      "\n",
      "Train TPR:  0.5928589776521962\n",
      "\n",
      "\n",
      "Train Accuracy:  0.8859677419354839\n"
     ]
    }
   ],
   "source": [
    "Accuracy_Train=(confusion_matrix_train[0,0]+confusion_matrix_train[1,1])/(confusion_matrix_train[0,0]+confusion_matrix_train[0,1]+confusion_matrix_train[1,0]+confusion_matrix_train[1,1])\n",
    "TNR_Train= confusion_matrix_train[0,0]/(confusion_matrix_train[0,0]+confusion_matrix_train[0,1])\n",
    "TPR_Train= confusion_matrix_train[1,1]/(confusion_matrix_train[1,0]+confusion_matrix_train[1,1])\n",
    "\n",
    "print(\"Train TNR: \",TNR_Train)\n",
    "print(\"\\n\")\n",
    "print(\"Train TPR: \",TPR_Train)\n",
    "print(\"\\n\")\n",
    "print(\"Train Accuracy: \",Accuracy_Train)"
   ]
  },
  {
   "cell_type": "code",
   "execution_count": 229,
   "metadata": {},
   "outputs": [
    {
     "name": "stdout",
     "output_type": "stream",
     "text": [
      "Validation TNR:  0.965433432352147\n",
      "\n",
      "\n",
      "Validation TPR:  0.609704641350211\n",
      "\n",
      "\n",
      "Validation Accuracy:  0.8929262524188346\n"
     ]
    }
   ],
   "source": [
    "Accuracy_Test=(confusion_matrix_validation[0,0]+confusion_matrix_validation[1,1])/(confusion_matrix_validation[0,0]+confusion_matrix_validation[0,1]+confusion_matrix_validation[1,0]+confusion_matrix_validation[1,1])\n",
    "TNR_Test= confusion_matrix_validation[0,0]/(confusion_matrix_validation[0,0] +confusion_matrix_validation[0,1])\n",
    "TPR_Test= confusion_matrix_validation[1,1]/(confusion_matrix_validation[1,0] +confusion_matrix_validation[1,1])\n",
    "\n",
    "print(\"Validation TNR: \",TNR_Test)\n",
    "print(\"\\n\")\n",
    "print(\"Validation TPR: \",TPR_Test)\n",
    "print(\"\\n\")\n",
    "print(\"Validation Accuracy: \",Accuracy_Test)"
   ]
  },
  {
   "cell_type": "code",
   "execution_count": 230,
   "metadata": {},
   "outputs": [
    {
     "name": "stdout",
     "output_type": "stream",
     "text": [
      "              precision    recall  f1-score   support\n",
      "\n",
      "           0       0.90      0.96      0.93     14707\n",
      "           1       0.81      0.59      0.69      3893\n",
      "\n",
      "    accuracy                           0.89     18600\n",
      "   macro avg       0.86      0.78      0.81     18600\n",
      "weighted avg       0.88      0.89      0.88     18600\n",
      "\n"
     ]
    }
   ],
   "source": [
    "## Display classification metrics for train data\n",
    "print(classification_report(y_true=y_train,y_pred=train_pred))"
   ]
  },
  {
   "cell_type": "code",
   "execution_count": 231,
   "metadata": {},
   "outputs": [
    {
     "name": "stdout",
     "output_type": "stream",
     "text": [
      "              precision    recall  f1-score   support\n",
      "\n",
      "           0       0.91      0.97      0.93      3703\n",
      "           1       0.82      0.61      0.70       948\n",
      "\n",
      "    accuracy                           0.89      4651\n",
      "   macro avg       0.86      0.79      0.82      4651\n",
      "weighted avg       0.89      0.89      0.89      4651\n",
      "\n"
     ]
    }
   ],
   "source": [
    "## Display classification metrics for validation data\n",
    "print(classification_report(y_true=y_test,y_pred=validation_pred))"
   ]
  },
  {
   "cell_type": "code",
   "execution_count": 232,
   "metadata": {},
   "outputs": [],
   "source": [
    "## Get copy of test data\n",
    "test_data = test.copy()"
   ]
  },
  {
   "cell_type": "code",
   "execution_count": 233,
   "metadata": {},
   "outputs": [],
   "source": [
    "## Get the predictions on test data\n",
    "y_pred = Adaboost_model.predict(test_data)"
   ]
  },
  {
   "cell_type": "code",
   "execution_count": 234,
   "metadata": {},
   "outputs": [
    {
     "data": {
      "text/plain": [
       "array([0, 0, 0, ..., 1, 0, 0])"
      ]
     },
     "execution_count": 234,
     "metadata": {},
     "output_type": "execute_result"
    }
   ],
   "source": [
    "y_pred"
   ]
  },
  {
   "cell_type": "code",
   "execution_count": 235,
   "metadata": {},
   "outputs": [],
   "source": [
    "## Do inverse transform on y_ped so that we will get it's original values(male,female)\n",
    "test_data['gender'] = le_gender.inverse_transform(y_pred)"
   ]
  },
  {
   "cell_type": "code",
   "execution_count": 236,
   "metadata": {},
   "outputs": [],
   "source": [
    "## Do inverse transform on session_id so that we will get it's original values\n",
    "test_data['session_id'] = le_session.inverse_transform(test_data['session_id'])"
   ]
  },
  {
   "cell_type": "code",
   "execution_count": 237,
   "metadata": {},
   "outputs": [
    {
     "data": {
      "text/html": [
       "<div>\n",
       "<style scoped>\n",
       "    .dataframe tbody tr th:only-of-type {\n",
       "        vertical-align: middle;\n",
       "    }\n",
       "\n",
       "    .dataframe tbody tr th {\n",
       "        vertical-align: top;\n",
       "    }\n",
       "\n",
       "    .dataframe thead th {\n",
       "        text-align: right;\n",
       "    }\n",
       "</style>\n",
       "<table border=\"1\" class=\"dataframe\">\n",
       "  <thead>\n",
       "    <tr style=\"text-align: right;\">\n",
       "      <th></th>\n",
       "      <th>session_id</th>\n",
       "      <th>start_Y</th>\n",
       "      <th>start_M</th>\n",
       "      <th>start_D</th>\n",
       "      <th>end_Y</th>\n",
       "      <th>end_M</th>\n",
       "      <th>end_D</th>\n",
       "      <th>start_hour</th>\n",
       "      <th>start_min</th>\n",
       "      <th>start_sec</th>\n",
       "      <th>end_hour</th>\n",
       "      <th>end_min</th>\n",
       "      <th>end_sec</th>\n",
       "      <th>category</th>\n",
       "      <th>sub_category</th>\n",
       "      <th>sub_sub_category</th>\n",
       "      <th>product</th>\n",
       "      <th>gender</th>\n",
       "    </tr>\n",
       "  </thead>\n",
       "  <tbody>\n",
       "    <tr>\n",
       "      <th>0</th>\n",
       "      <td>u12112</td>\n",
       "      <td>0</td>\n",
       "      <td>6</td>\n",
       "      <td>0</td>\n",
       "      <td>0</td>\n",
       "      <td>6</td>\n",
       "      <td>0</td>\n",
       "      <td>13</td>\n",
       "      <td>36</td>\n",
       "      <td>0</td>\n",
       "      <td>13</td>\n",
       "      <td>36</td>\n",
       "      <td>0</td>\n",
       "      <td>1</td>\n",
       "      <td>2</td>\n",
       "      <td>5</td>\n",
       "      <td>12675</td>\n",
       "      <td>female</td>\n",
       "    </tr>\n",
       "    <tr>\n",
       "      <th>1</th>\n",
       "      <td>u19725</td>\n",
       "      <td>0</td>\n",
       "      <td>9</td>\n",
       "      <td>7</td>\n",
       "      <td>0</td>\n",
       "      <td>9</td>\n",
       "      <td>7</td>\n",
       "      <td>13</td>\n",
       "      <td>52</td>\n",
       "      <td>0</td>\n",
       "      <td>13</td>\n",
       "      <td>52</td>\n",
       "      <td>0</td>\n",
       "      <td>1</td>\n",
       "      <td>4</td>\n",
       "      <td>66</td>\n",
       "      <td>1407</td>\n",
       "      <td>female</td>\n",
       "    </tr>\n",
       "    <tr>\n",
       "      <th>2</th>\n",
       "      <td>u11795</td>\n",
       "      <td>0</td>\n",
       "      <td>0</td>\n",
       "      <td>0</td>\n",
       "      <td>0</td>\n",
       "      <td>0</td>\n",
       "      <td>0</td>\n",
       "      <td>10</td>\n",
       "      <td>44</td>\n",
       "      <td>0</td>\n",
       "      <td>10</td>\n",
       "      <td>44</td>\n",
       "      <td>0</td>\n",
       "      <td>1</td>\n",
       "      <td>1</td>\n",
       "      <td>3</td>\n",
       "      <td>8129</td>\n",
       "      <td>female</td>\n",
       "    </tr>\n",
       "    <tr>\n",
       "      <th>3</th>\n",
       "      <td>u22639</td>\n",
       "      <td>0</td>\n",
       "      <td>6</td>\n",
       "      <td>0</td>\n",
       "      <td>0</td>\n",
       "      <td>6</td>\n",
       "      <td>0</td>\n",
       "      <td>20</td>\n",
       "      <td>19</td>\n",
       "      <td>0</td>\n",
       "      <td>20</td>\n",
       "      <td>22</td>\n",
       "      <td>0</td>\n",
       "      <td>1</td>\n",
       "      <td>2</td>\n",
       "      <td>77</td>\n",
       "      <td>14345</td>\n",
       "      <td>female</td>\n",
       "    </tr>\n",
       "    <tr>\n",
       "      <th>3</th>\n",
       "      <td>u22639</td>\n",
       "      <td>0</td>\n",
       "      <td>6</td>\n",
       "      <td>0</td>\n",
       "      <td>0</td>\n",
       "      <td>6</td>\n",
       "      <td>0</td>\n",
       "      <td>20</td>\n",
       "      <td>19</td>\n",
       "      <td>0</td>\n",
       "      <td>20</td>\n",
       "      <td>22</td>\n",
       "      <td>0</td>\n",
       "      <td>1</td>\n",
       "      <td>2</td>\n",
       "      <td>77</td>\n",
       "      <td>14346</td>\n",
       "      <td>female</td>\n",
       "    </tr>\n",
       "  </tbody>\n",
       "</table>\n",
       "</div>"
      ],
      "text/plain": [
       "  session_id  start_Y  start_M  start_D  end_Y  end_M  end_D  start_hour  \\\n",
       "0     u12112        0        6        0      0      6      0          13   \n",
       "1     u19725        0        9        7      0      9      7          13   \n",
       "2     u11795        0        0        0      0      0      0          10   \n",
       "3     u22639        0        6        0      0      6      0          20   \n",
       "3     u22639        0        6        0      0      6      0          20   \n",
       "\n",
       "   start_min  start_sec  end_hour  end_min  end_sec  category  sub_category  \\\n",
       "0         36          0        13       36        0         1             2   \n",
       "1         52          0        13       52        0         1             4   \n",
       "2         44          0        10       44        0         1             1   \n",
       "3         19          0        20       22        0         1             2   \n",
       "3         19          0        20       22        0         1             2   \n",
       "\n",
       "   sub_sub_category  product  gender  \n",
       "0                 5    12675  female  \n",
       "1                66     1407  female  \n",
       "2                 3     8129  female  \n",
       "3                77    14345  female  \n",
       "3                77    14346  female  "
      ]
     },
     "execution_count": 237,
     "metadata": {},
     "output_type": "execute_result"
    }
   ],
   "source": [
    "## Check first 5 records after doing inverse transformation\n",
    "test_data.head()"
   ]
  },
  {
   "cell_type": "code",
   "execution_count": 238,
   "metadata": {},
   "outputs": [
    {
     "data": {
      "text/plain": [
       "(10204, 18)"
      ]
     },
     "execution_count": 238,
     "metadata": {},
     "output_type": "execute_result"
    }
   ],
   "source": [
    "## Check the dimensions of the test_data before dropping dupliccate data\n",
    "test_data.shape"
   ]
  },
  {
   "cell_type": "code",
   "execution_count": 239,
   "metadata": {},
   "outputs": [],
   "source": [
    "## Drop duplicate session_id values\n",
    "test_data = test_data.drop_duplicates(subset=['session_id'])"
   ]
  },
  {
   "cell_type": "code",
   "execution_count": 240,
   "metadata": {},
   "outputs": [
    {
     "data": {
      "text/plain": [
       "(4500, 18)"
      ]
     },
     "execution_count": 240,
     "metadata": {},
     "output_type": "execute_result"
    }
   ],
   "source": [
    "## Check the dimensions of the test_data after dropping dupliccate data\n",
    "test_data.shape"
   ]
  },
  {
   "cell_type": "code",
   "execution_count": 241,
   "metadata": {},
   "outputs": [],
   "source": [
    "## Get session_id,gender from test_data and store into to_submit\n",
    "to_submit = test_data[['session_id', 'gender']]"
   ]
  },
  {
   "cell_type": "code",
   "execution_count": 242,
   "metadata": {},
   "outputs": [
    {
     "data": {
      "text/html": [
       "<div>\n",
       "<style scoped>\n",
       "    .dataframe tbody tr th:only-of-type {\n",
       "        vertical-align: middle;\n",
       "    }\n",
       "\n",
       "    .dataframe tbody tr th {\n",
       "        vertical-align: top;\n",
       "    }\n",
       "\n",
       "    .dataframe thead th {\n",
       "        text-align: right;\n",
       "    }\n",
       "</style>\n",
       "<table border=\"1\" class=\"dataframe\">\n",
       "  <thead>\n",
       "    <tr style=\"text-align: right;\">\n",
       "      <th></th>\n",
       "      <th>session_id</th>\n",
       "      <th>gender</th>\n",
       "    </tr>\n",
       "  </thead>\n",
       "  <tbody>\n",
       "    <tr>\n",
       "      <th>0</th>\n",
       "      <td>u12112</td>\n",
       "      <td>female</td>\n",
       "    </tr>\n",
       "    <tr>\n",
       "      <th>1</th>\n",
       "      <td>u19725</td>\n",
       "      <td>female</td>\n",
       "    </tr>\n",
       "    <tr>\n",
       "      <th>2</th>\n",
       "      <td>u11795</td>\n",
       "      <td>female</td>\n",
       "    </tr>\n",
       "    <tr>\n",
       "      <th>3</th>\n",
       "      <td>u22639</td>\n",
       "      <td>female</td>\n",
       "    </tr>\n",
       "    <tr>\n",
       "      <th>4</th>\n",
       "      <td>u18034</td>\n",
       "      <td>female</td>\n",
       "    </tr>\n",
       "  </tbody>\n",
       "</table>\n",
       "</div>"
      ],
      "text/plain": [
       "  session_id  gender\n",
       "0     u12112  female\n",
       "1     u19725  female\n",
       "2     u11795  female\n",
       "3     u22639  female\n",
       "4     u18034  female"
      ]
     },
     "execution_count": 242,
     "metadata": {},
     "output_type": "execute_result"
    }
   ],
   "source": [
    "## Check first 5 records of to_submit\n",
    "to_submit.head()"
   ]
  },
  {
   "cell_type": "code",
   "execution_count": 243,
   "metadata": {},
   "outputs": [
    {
     "data": {
      "text/plain": [
       "female    3778\n",
       "male       722\n",
       "Name: gender, dtype: int64"
      ]
     },
     "execution_count": 243,
     "metadata": {},
     "output_type": "execute_result"
    }
   ],
   "source": [
    "## Get gender count value \n",
    "to_submit.gender.value_counts()"
   ]
  },
  {
   "cell_type": "code",
   "execution_count": 244,
   "metadata": {},
   "outputs": [],
   "source": [
    "## store to_submit into csv file with name adaboost_model \n",
    "to_submit.to_csv('adaboost_model.csv',index = False)"
   ]
  },
  {
   "cell_type": "markdown",
   "metadata": {},
   "source": [
    "## 7.8 Gradient Boosting "
   ]
  },
  {
   "cell_type": "code",
   "execution_count": 245,
   "metadata": {},
   "outputs": [
    {
     "name": "stdout",
     "output_type": "stream",
     "text": [
      "Wall time: 2.78 s\n"
     ]
    },
    {
     "data": {
      "text/plain": [
       "GradientBoostingClassifier(ccp_alpha=0.0, criterion='friedman_mse', init=None,\n",
       "                           learning_rate=0.3, loss='deviance', max_depth=3,\n",
       "                           max_features=None, max_leaf_nodes=None,\n",
       "                           min_impurity_decrease=0.0, min_impurity_split=None,\n",
       "                           min_samples_leaf=1, min_samples_split=2,\n",
       "                           min_weight_fraction_leaf=0.0, n_estimators=100,\n",
       "                           n_iter_no_change=None, presort='deprecated',\n",
       "                           random_state=None, subsample=1.0, tol=0.0001,\n",
       "                           validation_fraction=0.1, verbose=0,\n",
       "                           warm_start=False)"
      ]
     },
     "execution_count": 245,
     "metadata": {},
     "output_type": "execute_result"
    }
   ],
   "source": [
    "## Instantiate GradientBoost model and fit it\n",
    "gbm = GradientBoostingClassifier(n_estimators=100,learning_rate=0.3)\n",
    "%time gbm.fit(X=X_train, y=y_train)"
   ]
  },
  {
   "cell_type": "code",
   "execution_count": 246,
   "metadata": {},
   "outputs": [],
   "source": [
    "## Get predictions on train and validation data\n",
    "train_pred = gbm.predict(X_train)\n",
    "validation_pred = gbm.predict(X_test)"
   ]
  },
  {
   "cell_type": "code",
   "execution_count": 247,
   "metadata": {},
   "outputs": [
    {
     "name": "stdout",
     "output_type": "stream",
     "text": [
      "[[14368   339]\n",
      " [  917  2976]]\n"
     ]
    }
   ],
   "source": [
    "## Get confusion matrix for train data\n",
    "confusion_matrix_train = confusion_matrix(y_train, train_pred)\n",
    "print(confusion_matrix_train)"
   ]
  },
  {
   "cell_type": "code",
   "execution_count": 248,
   "metadata": {},
   "outputs": [
    {
     "name": "stdout",
     "output_type": "stream",
     "text": [
      "[[3620   83]\n",
      " [ 233  715]]\n"
     ]
    }
   ],
   "source": [
    "## Get confusion matrix for validation data\n",
    "confusion_matrix_validation = confusion_matrix(y_test, validation_pred)\n",
    "print(confusion_matrix_validation)"
   ]
  },
  {
   "cell_type": "code",
   "execution_count": 249,
   "metadata": {},
   "outputs": [
    {
     "name": "stdout",
     "output_type": "stream",
     "text": [
      "Train TNR:  0.9769497518188618\n",
      "\n",
      "\n",
      "Train TPR:  0.7644490110454663\n",
      "\n",
      "\n",
      "Train Accuracy:  0.9324731182795699\n"
     ]
    }
   ],
   "source": [
    "Accuracy_Train=(confusion_matrix_train[0,0]+confusion_matrix_train[1,1])/(confusion_matrix_train[0,0]+confusion_matrix_train[0,1]+confusion_matrix_train[1,0]+confusion_matrix_train[1,1])\n",
    "TNR_Train= confusion_matrix_train[0,0]/(confusion_matrix_train[0,0]+confusion_matrix_train[0,1])\n",
    "TPR_Train= confusion_matrix_train[1,1]/(confusion_matrix_train[1,0]+confusion_matrix_train[1,1])\n",
    "\n",
    "print(\"Train TNR: \",TNR_Train)\n",
    "print(\"\\n\")\n",
    "print(\"Train TPR: \",TPR_Train)\n",
    "print(\"\\n\")\n",
    "print(\"Train Accuracy: \",Accuracy_Train)"
   ]
  },
  {
   "cell_type": "code",
   "execution_count": 250,
   "metadata": {},
   "outputs": [
    {
     "name": "stdout",
     "output_type": "stream",
     "text": [
      "Validation TNR:  0.9775857412908453\n",
      "\n",
      "\n",
      "Validation TPR:  0.7542194092827004\n",
      "\n",
      "\n",
      "Validation Accuracy:  0.9320576220167706\n"
     ]
    }
   ],
   "source": [
    "Accuracy_Test=(confusion_matrix_validation[0,0]+confusion_matrix_validation[1,1])/(confusion_matrix_validation[0,0]+confusion_matrix_validation[0,1]+confusion_matrix_validation[1,0]+confusion_matrix_validation[1,1])\n",
    "TNR_Test= confusion_matrix_validation[0,0]/(confusion_matrix_validation[0,0] +confusion_matrix_validation[0,1])\n",
    "TPR_Test= confusion_matrix_validation[1,1]/(confusion_matrix_validation[1,0] +confusion_matrix_validation[1,1])\n",
    "\n",
    "print(\"Validation TNR: \",TNR_Test)\n",
    "print(\"\\n\")\n",
    "print(\"Validation TPR: \",TPR_Test)\n",
    "print(\"\\n\")\n",
    "print(\"Validation Accuracy: \",Accuracy_Test)"
   ]
  },
  {
   "cell_type": "code",
   "execution_count": 251,
   "metadata": {},
   "outputs": [
    {
     "name": "stdout",
     "output_type": "stream",
     "text": [
      "              precision    recall  f1-score   support\n",
      "\n",
      "           0       0.94      0.98      0.96     14707\n",
      "           1       0.90      0.76      0.83      3893\n",
      "\n",
      "    accuracy                           0.93     18600\n",
      "   macro avg       0.92      0.87      0.89     18600\n",
      "weighted avg       0.93      0.93      0.93     18600\n",
      "\n"
     ]
    }
   ],
   "source": [
    "## Display classification metrics for train data\n",
    "print(classification_report(y_true=y_train,y_pred=train_pred))"
   ]
  },
  {
   "cell_type": "code",
   "execution_count": 252,
   "metadata": {},
   "outputs": [
    {
     "name": "stdout",
     "output_type": "stream",
     "text": [
      "              precision    recall  f1-score   support\n",
      "\n",
      "           0       0.94      0.98      0.96      3703\n",
      "           1       0.90      0.75      0.82       948\n",
      "\n",
      "    accuracy                           0.93      4651\n",
      "   macro avg       0.92      0.87      0.89      4651\n",
      "weighted avg       0.93      0.93      0.93      4651\n",
      "\n"
     ]
    }
   ],
   "source": [
    "## Display classification metrics for validation data\n",
    "print(classification_report(y_true=y_test,y_pred=validation_pred))"
   ]
  },
  {
   "cell_type": "code",
   "execution_count": 253,
   "metadata": {},
   "outputs": [],
   "source": [
    "## Get copy of test data\n",
    "test_data = test.copy()"
   ]
  },
  {
   "cell_type": "code",
   "execution_count": 254,
   "metadata": {},
   "outputs": [],
   "source": [
    "## Get the predictions on test data\n",
    "y_pred = gbm.predict(test_data)"
   ]
  },
  {
   "cell_type": "code",
   "execution_count": 255,
   "metadata": {},
   "outputs": [
    {
     "data": {
      "text/plain": [
       "array([0, 0, 0, ..., 1, 0, 0])"
      ]
     },
     "execution_count": 255,
     "metadata": {},
     "output_type": "execute_result"
    }
   ],
   "source": [
    "y_pred"
   ]
  },
  {
   "cell_type": "code",
   "execution_count": 256,
   "metadata": {},
   "outputs": [],
   "source": [
    "## Do inverse transform on y_ped so that we will get it's original values(male,female)\n",
    "test_data['gender'] = le_gender.inverse_transform(y_pred)"
   ]
  },
  {
   "cell_type": "code",
   "execution_count": 257,
   "metadata": {},
   "outputs": [],
   "source": [
    "## Do inverse transform on session_id so that we will get it's original values\n",
    "test_data['session_id'] = le_session.inverse_transform(test_data['session_id'])"
   ]
  },
  {
   "cell_type": "code",
   "execution_count": 258,
   "metadata": {},
   "outputs": [
    {
     "data": {
      "text/html": [
       "<div>\n",
       "<style scoped>\n",
       "    .dataframe tbody tr th:only-of-type {\n",
       "        vertical-align: middle;\n",
       "    }\n",
       "\n",
       "    .dataframe tbody tr th {\n",
       "        vertical-align: top;\n",
       "    }\n",
       "\n",
       "    .dataframe thead th {\n",
       "        text-align: right;\n",
       "    }\n",
       "</style>\n",
       "<table border=\"1\" class=\"dataframe\">\n",
       "  <thead>\n",
       "    <tr style=\"text-align: right;\">\n",
       "      <th></th>\n",
       "      <th>session_id</th>\n",
       "      <th>start_Y</th>\n",
       "      <th>start_M</th>\n",
       "      <th>start_D</th>\n",
       "      <th>end_Y</th>\n",
       "      <th>end_M</th>\n",
       "      <th>end_D</th>\n",
       "      <th>start_hour</th>\n",
       "      <th>start_min</th>\n",
       "      <th>start_sec</th>\n",
       "      <th>end_hour</th>\n",
       "      <th>end_min</th>\n",
       "      <th>end_sec</th>\n",
       "      <th>category</th>\n",
       "      <th>sub_category</th>\n",
       "      <th>sub_sub_category</th>\n",
       "      <th>product</th>\n",
       "      <th>gender</th>\n",
       "    </tr>\n",
       "  </thead>\n",
       "  <tbody>\n",
       "    <tr>\n",
       "      <th>0</th>\n",
       "      <td>u12112</td>\n",
       "      <td>0</td>\n",
       "      <td>6</td>\n",
       "      <td>0</td>\n",
       "      <td>0</td>\n",
       "      <td>6</td>\n",
       "      <td>0</td>\n",
       "      <td>13</td>\n",
       "      <td>36</td>\n",
       "      <td>0</td>\n",
       "      <td>13</td>\n",
       "      <td>36</td>\n",
       "      <td>0</td>\n",
       "      <td>1</td>\n",
       "      <td>2</td>\n",
       "      <td>5</td>\n",
       "      <td>12675</td>\n",
       "      <td>female</td>\n",
       "    </tr>\n",
       "    <tr>\n",
       "      <th>1</th>\n",
       "      <td>u19725</td>\n",
       "      <td>0</td>\n",
       "      <td>9</td>\n",
       "      <td>7</td>\n",
       "      <td>0</td>\n",
       "      <td>9</td>\n",
       "      <td>7</td>\n",
       "      <td>13</td>\n",
       "      <td>52</td>\n",
       "      <td>0</td>\n",
       "      <td>13</td>\n",
       "      <td>52</td>\n",
       "      <td>0</td>\n",
       "      <td>1</td>\n",
       "      <td>4</td>\n",
       "      <td>66</td>\n",
       "      <td>1407</td>\n",
       "      <td>female</td>\n",
       "    </tr>\n",
       "    <tr>\n",
       "      <th>2</th>\n",
       "      <td>u11795</td>\n",
       "      <td>0</td>\n",
       "      <td>0</td>\n",
       "      <td>0</td>\n",
       "      <td>0</td>\n",
       "      <td>0</td>\n",
       "      <td>0</td>\n",
       "      <td>10</td>\n",
       "      <td>44</td>\n",
       "      <td>0</td>\n",
       "      <td>10</td>\n",
       "      <td>44</td>\n",
       "      <td>0</td>\n",
       "      <td>1</td>\n",
       "      <td>1</td>\n",
       "      <td>3</td>\n",
       "      <td>8129</td>\n",
       "      <td>female</td>\n",
       "    </tr>\n",
       "    <tr>\n",
       "      <th>3</th>\n",
       "      <td>u22639</td>\n",
       "      <td>0</td>\n",
       "      <td>6</td>\n",
       "      <td>0</td>\n",
       "      <td>0</td>\n",
       "      <td>6</td>\n",
       "      <td>0</td>\n",
       "      <td>20</td>\n",
       "      <td>19</td>\n",
       "      <td>0</td>\n",
       "      <td>20</td>\n",
       "      <td>22</td>\n",
       "      <td>0</td>\n",
       "      <td>1</td>\n",
       "      <td>2</td>\n",
       "      <td>77</td>\n",
       "      <td>14345</td>\n",
       "      <td>male</td>\n",
       "    </tr>\n",
       "    <tr>\n",
       "      <th>3</th>\n",
       "      <td>u22639</td>\n",
       "      <td>0</td>\n",
       "      <td>6</td>\n",
       "      <td>0</td>\n",
       "      <td>0</td>\n",
       "      <td>6</td>\n",
       "      <td>0</td>\n",
       "      <td>20</td>\n",
       "      <td>19</td>\n",
       "      <td>0</td>\n",
       "      <td>20</td>\n",
       "      <td>22</td>\n",
       "      <td>0</td>\n",
       "      <td>1</td>\n",
       "      <td>2</td>\n",
       "      <td>77</td>\n",
       "      <td>14346</td>\n",
       "      <td>male</td>\n",
       "    </tr>\n",
       "  </tbody>\n",
       "</table>\n",
       "</div>"
      ],
      "text/plain": [
       "  session_id  start_Y  start_M  start_D  end_Y  end_M  end_D  start_hour  \\\n",
       "0     u12112        0        6        0      0      6      0          13   \n",
       "1     u19725        0        9        7      0      9      7          13   \n",
       "2     u11795        0        0        0      0      0      0          10   \n",
       "3     u22639        0        6        0      0      6      0          20   \n",
       "3     u22639        0        6        0      0      6      0          20   \n",
       "\n",
       "   start_min  start_sec  end_hour  end_min  end_sec  category  sub_category  \\\n",
       "0         36          0        13       36        0         1             2   \n",
       "1         52          0        13       52        0         1             4   \n",
       "2         44          0        10       44        0         1             1   \n",
       "3         19          0        20       22        0         1             2   \n",
       "3         19          0        20       22        0         1             2   \n",
       "\n",
       "   sub_sub_category  product  gender  \n",
       "0                 5    12675  female  \n",
       "1                66     1407  female  \n",
       "2                 3     8129  female  \n",
       "3                77    14345    male  \n",
       "3                77    14346    male  "
      ]
     },
     "execution_count": 258,
     "metadata": {},
     "output_type": "execute_result"
    }
   ],
   "source": [
    "## Check first 5 records after doing inverse transformation\n",
    "test_data.head()"
   ]
  },
  {
   "cell_type": "code",
   "execution_count": 259,
   "metadata": {},
   "outputs": [
    {
     "data": {
      "text/plain": [
       "(10204, 18)"
      ]
     },
     "execution_count": 259,
     "metadata": {},
     "output_type": "execute_result"
    }
   ],
   "source": [
    "## Check the dimensions of the test_data before dropping dupliccate data\n",
    "test_data.shape"
   ]
  },
  {
   "cell_type": "code",
   "execution_count": 260,
   "metadata": {},
   "outputs": [],
   "source": [
    "## Drop duplicate session_id values\n",
    "test_data = test_data.drop_duplicates(subset=['session_id'])"
   ]
  },
  {
   "cell_type": "code",
   "execution_count": 261,
   "metadata": {},
   "outputs": [
    {
     "data": {
      "text/plain": [
       "(4500, 18)"
      ]
     },
     "execution_count": 261,
     "metadata": {},
     "output_type": "execute_result"
    }
   ],
   "source": [
    "## Check the dimensions of the test_data after dropping dupliccate data\n",
    "test_data.shape"
   ]
  },
  {
   "cell_type": "code",
   "execution_count": 262,
   "metadata": {},
   "outputs": [],
   "source": [
    "## Get session_id,gender from test_data and store into to_submit\n",
    "to_submit = test_data[['session_id', 'gender']]"
   ]
  },
  {
   "cell_type": "code",
   "execution_count": 263,
   "metadata": {},
   "outputs": [
    {
     "data": {
      "text/html": [
       "<div>\n",
       "<style scoped>\n",
       "    .dataframe tbody tr th:only-of-type {\n",
       "        vertical-align: middle;\n",
       "    }\n",
       "\n",
       "    .dataframe tbody tr th {\n",
       "        vertical-align: top;\n",
       "    }\n",
       "\n",
       "    .dataframe thead th {\n",
       "        text-align: right;\n",
       "    }\n",
       "</style>\n",
       "<table border=\"1\" class=\"dataframe\">\n",
       "  <thead>\n",
       "    <tr style=\"text-align: right;\">\n",
       "      <th></th>\n",
       "      <th>session_id</th>\n",
       "      <th>gender</th>\n",
       "    </tr>\n",
       "  </thead>\n",
       "  <tbody>\n",
       "    <tr>\n",
       "      <th>0</th>\n",
       "      <td>u12112</td>\n",
       "      <td>female</td>\n",
       "    </tr>\n",
       "    <tr>\n",
       "      <th>1</th>\n",
       "      <td>u19725</td>\n",
       "      <td>female</td>\n",
       "    </tr>\n",
       "    <tr>\n",
       "      <th>2</th>\n",
       "      <td>u11795</td>\n",
       "      <td>female</td>\n",
       "    </tr>\n",
       "    <tr>\n",
       "      <th>3</th>\n",
       "      <td>u22639</td>\n",
       "      <td>male</td>\n",
       "    </tr>\n",
       "    <tr>\n",
       "      <th>4</th>\n",
       "      <td>u18034</td>\n",
       "      <td>female</td>\n",
       "    </tr>\n",
       "  </tbody>\n",
       "</table>\n",
       "</div>"
      ],
      "text/plain": [
       "  session_id  gender\n",
       "0     u12112  female\n",
       "1     u19725  female\n",
       "2     u11795  female\n",
       "3     u22639    male\n",
       "4     u18034  female"
      ]
     },
     "execution_count": 263,
     "metadata": {},
     "output_type": "execute_result"
    }
   ],
   "source": [
    "## Check first 5 records of to_submit\n",
    "to_submit.head()"
   ]
  },
  {
   "cell_type": "code",
   "execution_count": 264,
   "metadata": {},
   "outputs": [
    {
     "data": {
      "text/plain": [
       "female    3691\n",
       "male       809\n",
       "Name: gender, dtype: int64"
      ]
     },
     "execution_count": 264,
     "metadata": {},
     "output_type": "execute_result"
    }
   ],
   "source": [
    "## Get gender count value \n",
    "to_submit.gender.value_counts()"
   ]
  },
  {
   "cell_type": "code",
   "execution_count": 265,
   "metadata": {},
   "outputs": [],
   "source": [
    "## store to_submit into csv file with name gb_model \n",
    "to_submit.to_csv('gb_model.csv',index = False)"
   ]
  },
  {
   "cell_type": "markdown",
   "metadata": {},
   "source": [
    "## 7.9 SVC "
   ]
  },
  {
   "cell_type": "code",
   "execution_count": 266,
   "metadata": {},
   "outputs": [],
   "source": [
    "## Instantiate SVC model\n",
    "svc_c10_rbf = SVC(C=10,kernel='rbf')"
   ]
  },
  {
   "cell_type": "code",
   "execution_count": 267,
   "metadata": {},
   "outputs": [
    {
     "name": "stdout",
     "output_type": "stream",
     "text": [
      "Wall time: 19.9 s\n"
     ]
    },
    {
     "data": {
      "text/plain": [
       "SVC(C=10, break_ties=False, cache_size=200, class_weight=None, coef0=0.0,\n",
       "    decision_function_shape='ovr', degree=3, gamma='scale', kernel='rbf',\n",
       "    max_iter=-1, probability=False, random_state=None, shrinking=True,\n",
       "    tol=0.001, verbose=False)"
      ]
     },
     "execution_count": 267,
     "metadata": {},
     "output_type": "execute_result"
    }
   ],
   "source": [
    "## Fit a model\n",
    "%time svc_c10_rbf.fit(X=X_train,y=y_train)"
   ]
  },
  {
   "cell_type": "code",
   "execution_count": 268,
   "metadata": {},
   "outputs": [],
   "source": [
    "## Get predictions on train and validations data\n",
    "train_pred = svc_c10_rbf.predict(X_train)\n",
    "validation_pred = svc_c10_rbf.predict(X_test)"
   ]
  },
  {
   "cell_type": "code",
   "execution_count": 269,
   "metadata": {},
   "outputs": [
    {
     "name": "stdout",
     "output_type": "stream",
     "text": [
      "[[14707     0]\n",
      " [ 3893     0]]\n"
     ]
    }
   ],
   "source": [
    "## Get confusion matrix for train data\n",
    "confusion_matrix_train = confusion_matrix(y_train, train_pred)\n",
    "print(confusion_matrix_train)"
   ]
  },
  {
   "cell_type": "code",
   "execution_count": 270,
   "metadata": {},
   "outputs": [
    {
     "name": "stdout",
     "output_type": "stream",
     "text": [
      "[[3703    0]\n",
      " [ 948    0]]\n"
     ]
    }
   ],
   "source": [
    "## Get confusion matrix for validation data\n",
    "confusion_matrix_validation = confusion_matrix(y_test, validation_pred)\n",
    "print(confusion_matrix_validation)"
   ]
  },
  {
   "cell_type": "code",
   "execution_count": 271,
   "metadata": {},
   "outputs": [
    {
     "name": "stdout",
     "output_type": "stream",
     "text": [
      "Train TNR:  1.0\n",
      "\n",
      "\n",
      "Train TPR:  0.0\n",
      "\n",
      "\n",
      "Train Accuracy:  0.7906989247311828\n"
     ]
    }
   ],
   "source": [
    "Accuracy_Train=(confusion_matrix_train[0,0]+confusion_matrix_train[1,1])/(confusion_matrix_train[0,0]+confusion_matrix_train[0,1]+confusion_matrix_train[1,0]+confusion_matrix_train[1,1])\n",
    "TNR_Train= confusion_matrix_train[0,0]/(confusion_matrix_train[0,0]+confusion_matrix_train[0,1])\n",
    "TPR_Train= confusion_matrix_train[1,1]/(confusion_matrix_train[1,0]+confusion_matrix_train[1,1])\n",
    "\n",
    "print(\"Train TNR: \",TNR_Train)\n",
    "print(\"\\n\")\n",
    "print(\"Train TPR: \",TPR_Train)\n",
    "print(\"\\n\")\n",
    "print(\"Train Accuracy: \",Accuracy_Train)"
   ]
  },
  {
   "cell_type": "code",
   "execution_count": 272,
   "metadata": {},
   "outputs": [
    {
     "name": "stdout",
     "output_type": "stream",
     "text": [
      "Validation TNR:  1.0\n",
      "\n",
      "\n",
      "Validation TPR:  0.0\n",
      "\n",
      "\n",
      "Validation Accuracy:  0.7961728660503118\n"
     ]
    }
   ],
   "source": [
    "Accuracy_Test=(confusion_matrix_validation[0,0]+confusion_matrix_validation[1,1])/(confusion_matrix_validation[0,0]+confusion_matrix_validation[0,1]+confusion_matrix_validation[1,0]+confusion_matrix_validation[1,1])\n",
    "TNR_Test= confusion_matrix_validation[0,0]/(confusion_matrix_validation[0,0] +confusion_matrix_validation[0,1])\n",
    "TPR_Test= confusion_matrix_validation[1,1]/(confusion_matrix_validation[1,0] +confusion_matrix_validation[1,1])\n",
    "\n",
    "print(\"Validation TNR: \",TNR_Test)\n",
    "print(\"\\n\")\n",
    "print(\"Validation TPR: \",TPR_Test)\n",
    "print(\"\\n\")\n",
    "print(\"Validation Accuracy: \",Accuracy_Test)"
   ]
  },
  {
   "cell_type": "code",
   "execution_count": 273,
   "metadata": {},
   "outputs": [
    {
     "name": "stdout",
     "output_type": "stream",
     "text": [
      "              precision    recall  f1-score   support\n",
      "\n",
      "           0       0.79      1.00      0.88     14707\n",
      "           1       0.00      0.00      0.00      3893\n",
      "\n",
      "    accuracy                           0.79     18600\n",
      "   macro avg       0.40      0.50      0.44     18600\n",
      "weighted avg       0.63      0.79      0.70     18600\n",
      "\n"
     ]
    }
   ],
   "source": [
    "## Display classification metrics for train data\n",
    "print(classification_report(y_true=y_train,y_pred=train_pred))"
   ]
  },
  {
   "cell_type": "code",
   "execution_count": 274,
   "metadata": {},
   "outputs": [
    {
     "name": "stdout",
     "output_type": "stream",
     "text": [
      "              precision    recall  f1-score   support\n",
      "\n",
      "           0       0.80      1.00      0.89      3703\n",
      "           1       0.00      0.00      0.00       948\n",
      "\n",
      "    accuracy                           0.80      4651\n",
      "   macro avg       0.40      0.50      0.44      4651\n",
      "weighted avg       0.63      0.80      0.71      4651\n",
      "\n"
     ]
    }
   ],
   "source": [
    "## Display classification metrics for validation data\n",
    "print(classification_report(y_true=y_test,y_pred=validation_pred))"
   ]
  },
  {
   "cell_type": "code",
   "execution_count": 275,
   "metadata": {},
   "outputs": [],
   "source": [
    "## Get copy of test data\n",
    "test_data = test.copy()"
   ]
  },
  {
   "cell_type": "code",
   "execution_count": 276,
   "metadata": {},
   "outputs": [],
   "source": [
    "## Get the predictions on test data\n",
    "y_pred = svc_c10_rbf.predict(test_data)"
   ]
  },
  {
   "cell_type": "code",
   "execution_count": 277,
   "metadata": {},
   "outputs": [
    {
     "data": {
      "text/plain": [
       "array([0, 0, 0, ..., 0, 0, 0])"
      ]
     },
     "execution_count": 277,
     "metadata": {},
     "output_type": "execute_result"
    }
   ],
   "source": [
    "y_pred"
   ]
  },
  {
   "cell_type": "code",
   "execution_count": 278,
   "metadata": {},
   "outputs": [],
   "source": [
    "## Do inverse transform on y_ped so that we will get it's original values(male,female)\n",
    "test_data['gender'] = le_gender.inverse_transform(y_pred)"
   ]
  },
  {
   "cell_type": "code",
   "execution_count": 279,
   "metadata": {},
   "outputs": [],
   "source": [
    "## Do inverse transform on session_id so that we will get it's original values\n",
    "test_data['session_id'] = le_session.inverse_transform(test_data['session_id'])"
   ]
  },
  {
   "cell_type": "code",
   "execution_count": 280,
   "metadata": {},
   "outputs": [
    {
     "data": {
      "text/html": [
       "<div>\n",
       "<style scoped>\n",
       "    .dataframe tbody tr th:only-of-type {\n",
       "        vertical-align: middle;\n",
       "    }\n",
       "\n",
       "    .dataframe tbody tr th {\n",
       "        vertical-align: top;\n",
       "    }\n",
       "\n",
       "    .dataframe thead th {\n",
       "        text-align: right;\n",
       "    }\n",
       "</style>\n",
       "<table border=\"1\" class=\"dataframe\">\n",
       "  <thead>\n",
       "    <tr style=\"text-align: right;\">\n",
       "      <th></th>\n",
       "      <th>session_id</th>\n",
       "      <th>start_Y</th>\n",
       "      <th>start_M</th>\n",
       "      <th>start_D</th>\n",
       "      <th>end_Y</th>\n",
       "      <th>end_M</th>\n",
       "      <th>end_D</th>\n",
       "      <th>start_hour</th>\n",
       "      <th>start_min</th>\n",
       "      <th>start_sec</th>\n",
       "      <th>end_hour</th>\n",
       "      <th>end_min</th>\n",
       "      <th>end_sec</th>\n",
       "      <th>category</th>\n",
       "      <th>sub_category</th>\n",
       "      <th>sub_sub_category</th>\n",
       "      <th>product</th>\n",
       "      <th>gender</th>\n",
       "    </tr>\n",
       "  </thead>\n",
       "  <tbody>\n",
       "    <tr>\n",
       "      <th>0</th>\n",
       "      <td>u12112</td>\n",
       "      <td>0</td>\n",
       "      <td>6</td>\n",
       "      <td>0</td>\n",
       "      <td>0</td>\n",
       "      <td>6</td>\n",
       "      <td>0</td>\n",
       "      <td>13</td>\n",
       "      <td>36</td>\n",
       "      <td>0</td>\n",
       "      <td>13</td>\n",
       "      <td>36</td>\n",
       "      <td>0</td>\n",
       "      <td>1</td>\n",
       "      <td>2</td>\n",
       "      <td>5</td>\n",
       "      <td>12675</td>\n",
       "      <td>female</td>\n",
       "    </tr>\n",
       "    <tr>\n",
       "      <th>1</th>\n",
       "      <td>u19725</td>\n",
       "      <td>0</td>\n",
       "      <td>9</td>\n",
       "      <td>7</td>\n",
       "      <td>0</td>\n",
       "      <td>9</td>\n",
       "      <td>7</td>\n",
       "      <td>13</td>\n",
       "      <td>52</td>\n",
       "      <td>0</td>\n",
       "      <td>13</td>\n",
       "      <td>52</td>\n",
       "      <td>0</td>\n",
       "      <td>1</td>\n",
       "      <td>4</td>\n",
       "      <td>66</td>\n",
       "      <td>1407</td>\n",
       "      <td>female</td>\n",
       "    </tr>\n",
       "    <tr>\n",
       "      <th>2</th>\n",
       "      <td>u11795</td>\n",
       "      <td>0</td>\n",
       "      <td>0</td>\n",
       "      <td>0</td>\n",
       "      <td>0</td>\n",
       "      <td>0</td>\n",
       "      <td>0</td>\n",
       "      <td>10</td>\n",
       "      <td>44</td>\n",
       "      <td>0</td>\n",
       "      <td>10</td>\n",
       "      <td>44</td>\n",
       "      <td>0</td>\n",
       "      <td>1</td>\n",
       "      <td>1</td>\n",
       "      <td>3</td>\n",
       "      <td>8129</td>\n",
       "      <td>female</td>\n",
       "    </tr>\n",
       "    <tr>\n",
       "      <th>3</th>\n",
       "      <td>u22639</td>\n",
       "      <td>0</td>\n",
       "      <td>6</td>\n",
       "      <td>0</td>\n",
       "      <td>0</td>\n",
       "      <td>6</td>\n",
       "      <td>0</td>\n",
       "      <td>20</td>\n",
       "      <td>19</td>\n",
       "      <td>0</td>\n",
       "      <td>20</td>\n",
       "      <td>22</td>\n",
       "      <td>0</td>\n",
       "      <td>1</td>\n",
       "      <td>2</td>\n",
       "      <td>77</td>\n",
       "      <td>14345</td>\n",
       "      <td>female</td>\n",
       "    </tr>\n",
       "    <tr>\n",
       "      <th>3</th>\n",
       "      <td>u22639</td>\n",
       "      <td>0</td>\n",
       "      <td>6</td>\n",
       "      <td>0</td>\n",
       "      <td>0</td>\n",
       "      <td>6</td>\n",
       "      <td>0</td>\n",
       "      <td>20</td>\n",
       "      <td>19</td>\n",
       "      <td>0</td>\n",
       "      <td>20</td>\n",
       "      <td>22</td>\n",
       "      <td>0</td>\n",
       "      <td>1</td>\n",
       "      <td>2</td>\n",
       "      <td>77</td>\n",
       "      <td>14346</td>\n",
       "      <td>female</td>\n",
       "    </tr>\n",
       "  </tbody>\n",
       "</table>\n",
       "</div>"
      ],
      "text/plain": [
       "  session_id  start_Y  start_M  start_D  end_Y  end_M  end_D  start_hour  \\\n",
       "0     u12112        0        6        0      0      6      0          13   \n",
       "1     u19725        0        9        7      0      9      7          13   \n",
       "2     u11795        0        0        0      0      0      0          10   \n",
       "3     u22639        0        6        0      0      6      0          20   \n",
       "3     u22639        0        6        0      0      6      0          20   \n",
       "\n",
       "   start_min  start_sec  end_hour  end_min  end_sec  category  sub_category  \\\n",
       "0         36          0        13       36        0         1             2   \n",
       "1         52          0        13       52        0         1             4   \n",
       "2         44          0        10       44        0         1             1   \n",
       "3         19          0        20       22        0         1             2   \n",
       "3         19          0        20       22        0         1             2   \n",
       "\n",
       "   sub_sub_category  product  gender  \n",
       "0                 5    12675  female  \n",
       "1                66     1407  female  \n",
       "2                 3     8129  female  \n",
       "3                77    14345  female  \n",
       "3                77    14346  female  "
      ]
     },
     "execution_count": 280,
     "metadata": {},
     "output_type": "execute_result"
    }
   ],
   "source": [
    "## Check first 5 records after doing inverse transformation\n",
    "test_data.head()"
   ]
  },
  {
   "cell_type": "code",
   "execution_count": 281,
   "metadata": {},
   "outputs": [
    {
     "data": {
      "text/plain": [
       "(10204, 18)"
      ]
     },
     "execution_count": 281,
     "metadata": {},
     "output_type": "execute_result"
    }
   ],
   "source": [
    "## Check the dimensions of the test_data before dropping dupliccate data\n",
    "test_data.shape"
   ]
  },
  {
   "cell_type": "code",
   "execution_count": 282,
   "metadata": {},
   "outputs": [],
   "source": [
    "## Drop duplicate session_id values\n",
    "test_data = test_data.drop_duplicates(subset=['session_id'])"
   ]
  },
  {
   "cell_type": "code",
   "execution_count": 283,
   "metadata": {},
   "outputs": [
    {
     "data": {
      "text/plain": [
       "(4500, 18)"
      ]
     },
     "execution_count": 283,
     "metadata": {},
     "output_type": "execute_result"
    }
   ],
   "source": [
    "## Check the dimensions of the test_data after dropping dupliccate data\n",
    "test_data.shape"
   ]
  },
  {
   "cell_type": "code",
   "execution_count": 284,
   "metadata": {},
   "outputs": [],
   "source": [
    "## Get session_id,gender from test_data and store into to_submit\n",
    "to_submit = test_data[['session_id', 'gender']]"
   ]
  },
  {
   "cell_type": "code",
   "execution_count": 285,
   "metadata": {},
   "outputs": [
    {
     "data": {
      "text/html": [
       "<div>\n",
       "<style scoped>\n",
       "    .dataframe tbody tr th:only-of-type {\n",
       "        vertical-align: middle;\n",
       "    }\n",
       "\n",
       "    .dataframe tbody tr th {\n",
       "        vertical-align: top;\n",
       "    }\n",
       "\n",
       "    .dataframe thead th {\n",
       "        text-align: right;\n",
       "    }\n",
       "</style>\n",
       "<table border=\"1\" class=\"dataframe\">\n",
       "  <thead>\n",
       "    <tr style=\"text-align: right;\">\n",
       "      <th></th>\n",
       "      <th>session_id</th>\n",
       "      <th>gender</th>\n",
       "    </tr>\n",
       "  </thead>\n",
       "  <tbody>\n",
       "    <tr>\n",
       "      <th>0</th>\n",
       "      <td>u12112</td>\n",
       "      <td>female</td>\n",
       "    </tr>\n",
       "    <tr>\n",
       "      <th>1</th>\n",
       "      <td>u19725</td>\n",
       "      <td>female</td>\n",
       "    </tr>\n",
       "    <tr>\n",
       "      <th>2</th>\n",
       "      <td>u11795</td>\n",
       "      <td>female</td>\n",
       "    </tr>\n",
       "    <tr>\n",
       "      <th>3</th>\n",
       "      <td>u22639</td>\n",
       "      <td>female</td>\n",
       "    </tr>\n",
       "    <tr>\n",
       "      <th>4</th>\n",
       "      <td>u18034</td>\n",
       "      <td>female</td>\n",
       "    </tr>\n",
       "  </tbody>\n",
       "</table>\n",
       "</div>"
      ],
      "text/plain": [
       "  session_id  gender\n",
       "0     u12112  female\n",
       "1     u19725  female\n",
       "2     u11795  female\n",
       "3     u22639  female\n",
       "4     u18034  female"
      ]
     },
     "execution_count": 285,
     "metadata": {},
     "output_type": "execute_result"
    }
   ],
   "source": [
    "## Check first 5 records of to_submit\n",
    "to_submit.head()"
   ]
  },
  {
   "cell_type": "code",
   "execution_count": 286,
   "metadata": {},
   "outputs": [
    {
     "data": {
      "text/plain": [
       "female    4500\n",
       "Name: gender, dtype: int64"
      ]
     },
     "execution_count": 286,
     "metadata": {},
     "output_type": "execute_result"
    }
   ],
   "source": [
    "## Get gender count value \n",
    "to_submit.gender.value_counts()"
   ]
  },
  {
   "cell_type": "code",
   "execution_count": 287,
   "metadata": {},
   "outputs": [],
   "source": [
    "## store to_submit into csv file with name svc_model \n",
    "to_submit.to_csv('svc_model.csv',index = False)"
   ]
  },
  {
   "cell_type": "markdown",
   "metadata": {},
   "source": [
    "## 7.10 Nueral Network "
   ]
  },
  {
   "cell_type": "code",
   "execution_count": 288,
   "metadata": {},
   "outputs": [],
   "source": [
    "## Instantiate sequential model and fully connected layer to it\n",
    "perceptron_model = Sequential()\n",
    "\n",
    "perceptron_model.add(Dense(1, input_dim=X_train.shape[1], activation='sigmoid', kernel_initializer='normal'))"
   ]
  },
  {
   "cell_type": "code",
   "execution_count": 289,
   "metadata": {},
   "outputs": [],
   "source": [
    "## add compile to seequential model\n",
    "perceptron_model.compile(optimizer='adam', loss='binary_crossentropy', metrics=['accuracy'])"
   ]
  },
  {
   "cell_type": "code",
   "execution_count": 290,
   "metadata": {},
   "outputs": [
    {
     "name": "stdout",
     "output_type": "stream",
     "text": [
      "Epoch 1/20\n",
      "18600/18600 [==============================] - 1s 55us/step - loss: 6.0972 - accuracy: 0.6995\n",
      "Epoch 2/20\n",
      "18600/18600 [==============================] - 2s 81us/step - loss: 0.7801 - accuracy: 0.7285\n",
      "Epoch 3/20\n",
      "18600/18600 [==============================] - 1s 80us/step - loss: 0.7582 - accuracy: 0.7423\n",
      "Epoch 4/20\n",
      "18600/18600 [==============================] - 1s 70us/step - loss: 0.6825 - accuracy: 0.7527\n",
      "Epoch 5/20\n",
      "18600/18600 [==============================] - 1s 55us/step - loss: 0.8314 - accuracy: 0.7459\n",
      "Epoch 6/20\n",
      "18600/18600 [==============================] - 1s 67us/step - loss: 0.6668 - accuracy: 0.7611\n",
      "Epoch 7/20\n",
      "18600/18600 [==============================] - 1s 55us/step - loss: 0.6856 - accuracy: 0.7617\n",
      "Epoch 8/20\n",
      "18600/18600 [==============================] - 1s 55us/step - loss: 0.6514 - accuracy: 0.7643\n",
      "Epoch 9/20\n",
      "18600/18600 [==============================] - 1s 54us/step - loss: 0.7289 - accuracy: 0.7590\n",
      "Epoch 10/20\n",
      "18600/18600 [==============================] - 1s 54us/step - loss: 0.6932 - accuracy: 0.7656\n",
      "Epoch 11/20\n",
      "18600/18600 [==============================] - 1s 49us/step - loss: 0.7640 - accuracy: 0.7577\n",
      "Epoch 12/20\n",
      "18600/18600 [==============================] - 1s 55us/step - loss: 0.6935 - accuracy: 0.7630\n",
      "Epoch 13/20\n",
      "18600/18600 [==============================] - 1s 51us/step - loss: 0.6992 - accuracy: 0.7676\n",
      "Epoch 14/20\n",
      "18600/18600 [==============================] - 1s 58us/step - loss: 0.7525 - accuracy: 0.7661\n",
      "Epoch 15/20\n",
      "18600/18600 [==============================] - 1s 61us/step - loss: 0.7680 - accuracy: 0.7668\n",
      "Epoch 16/20\n",
      "18600/18600 [==============================] - 1s 58us/step - loss: 0.6898 - accuracy: 0.7745\n",
      "Epoch 17/20\n",
      "18600/18600 [==============================] - 1s 52us/step - loss: 0.6414 - accuracy: 0.7828\n",
      "Epoch 18/20\n",
      "18600/18600 [==============================] - 1s 55us/step - loss: 0.7357 - accuracy: 0.7619\n",
      "Epoch 19/20\n",
      "18600/18600 [==============================] - 1s 54us/step - loss: 0.7670 - accuracy: 0.7619\n",
      "Epoch 20/20\n",
      "18600/18600 [==============================] - 1s 67us/step - loss: 0.7215 - accuracy: 0.7734\n"
     ]
    },
    {
     "data": {
      "text/plain": [
       "<keras.callbacks.callbacks.History at 0x27f2b86a1d0>"
      ]
     },
     "execution_count": 290,
     "metadata": {},
     "output_type": "execute_result"
    }
   ],
   "source": [
    "## Fit a model\n",
    "perceptron_model.fit(X_train, y_train, epochs=20)"
   ]
  },
  {
   "cell_type": "code",
   "execution_count": 291,
   "metadata": {},
   "outputs": [],
   "source": [
    "## Get preidctions on train and validation data\n",
    "train_pred = perceptron_model.predict_classes(X_train)\n",
    "validation_pred = perceptron_model.predict_classes(X_test)"
   ]
  },
  {
   "cell_type": "code",
   "execution_count": 292,
   "metadata": {},
   "outputs": [
    {
     "name": "stdout",
     "output_type": "stream",
     "text": [
      "[[14671    36]\n",
      " [ 3796    97]]\n"
     ]
    }
   ],
   "source": [
    "## Get confusion matrix for train data\n",
    "confusion_matrix_train = confusion_matrix(y_train, train_pred)\n",
    "print(confusion_matrix_train)"
   ]
  },
  {
   "cell_type": "code",
   "execution_count": 293,
   "metadata": {},
   "outputs": [
    {
     "name": "stdout",
     "output_type": "stream",
     "text": [
      "[[3691   12]\n",
      " [ 917   31]]\n"
     ]
    }
   ],
   "source": [
    "## Get confusion matrix for validation data\n",
    "confusion_matrix_validation = confusion_matrix(y_test, validation_pred)\n",
    "print(confusion_matrix_validation)"
   ]
  },
  {
   "cell_type": "code",
   "execution_count": 294,
   "metadata": {},
   "outputs": [
    {
     "name": "stdout",
     "output_type": "stream",
     "text": [
      "Train TNR:  0.9975521860338614\n",
      "\n",
      "\n",
      "Train TPR:  0.02491651682507064\n",
      "\n",
      "\n",
      "Train Accuracy:  0.7939784946236559\n"
     ]
    }
   ],
   "source": [
    "Accuracy_Train=(confusion_matrix_train[0,0]+confusion_matrix_train[1,1])/(confusion_matrix_train[0,0]+confusion_matrix_train[0,1]+confusion_matrix_train[1,0]+confusion_matrix_train[1,1])\n",
    "TNR_Train= confusion_matrix_train[0,0]/(confusion_matrix_train[0,0]+confusion_matrix_train[0,1])\n",
    "TPR_Train= confusion_matrix_train[1,1]/(confusion_matrix_train[1,0]+confusion_matrix_train[1,1])\n",
    "\n",
    "print(\"Train TNR: \",TNR_Train)\n",
    "print(\"\\n\")\n",
    "print(\"Train TPR: \",TPR_Train)\n",
    "print(\"\\n\")\n",
    "print(\"Train Accuracy: \",Accuracy_Train)"
   ]
  },
  {
   "cell_type": "code",
   "execution_count": 295,
   "metadata": {
    "scrolled": true
   },
   "outputs": [
    {
     "name": "stdout",
     "output_type": "stream",
     "text": [
      "Validation TNR:  0.9967593842830138\n",
      "\n",
      "\n",
      "Validation TPR:  0.03270042194092827\n",
      "\n",
      "\n",
      "Validation Accuracy:  0.8002580090303161\n"
     ]
    }
   ],
   "source": [
    "Accuracy_Test=(confusion_matrix_validation[0,0]+confusion_matrix_validation[1,1])/(confusion_matrix_validation[0,0]+confusion_matrix_validation[0,1]+confusion_matrix_validation[1,0]+confusion_matrix_validation[1,1])\n",
    "TNR_Test= confusion_matrix_validation[0,0]/(confusion_matrix_validation[0,0] +confusion_matrix_validation[0,1])\n",
    "TPR_Test= confusion_matrix_validation[1,1]/(confusion_matrix_validation[1,0] +confusion_matrix_validation[1,1])\n",
    "\n",
    "print(\"Validation TNR: \",TNR_Test)\n",
    "print(\"\\n\")\n",
    "print(\"Validation TPR: \",TPR_Test)\n",
    "print(\"\\n\")\n",
    "print(\"Validation Accuracy: \",Accuracy_Test)"
   ]
  },
  {
   "cell_type": "code",
   "execution_count": 296,
   "metadata": {},
   "outputs": [
    {
     "name": "stdout",
     "output_type": "stream",
     "text": [
      "              precision    recall  f1-score   support\n",
      "\n",
      "           0       0.79      1.00      0.88     14707\n",
      "           1       0.73      0.02      0.05      3893\n",
      "\n",
      "    accuracy                           0.79     18600\n",
      "   macro avg       0.76      0.51      0.47     18600\n",
      "weighted avg       0.78      0.79      0.71     18600\n",
      "\n"
     ]
    }
   ],
   "source": [
    "## Display classification metrics for train data\n",
    "print(classification_report(y_true=y_train,y_pred=train_pred))"
   ]
  },
  {
   "cell_type": "code",
   "execution_count": 297,
   "metadata": {},
   "outputs": [
    {
     "name": "stdout",
     "output_type": "stream",
     "text": [
      "              precision    recall  f1-score   support\n",
      "\n",
      "           0       0.80      1.00      0.89      3703\n",
      "           1       0.72      0.03      0.06       948\n",
      "\n",
      "    accuracy                           0.80      4651\n",
      "   macro avg       0.76      0.51      0.48      4651\n",
      "weighted avg       0.78      0.80      0.72      4651\n",
      "\n"
     ]
    }
   ],
   "source": [
    "## Display classification metrics for validation data\n",
    "print(classification_report(y_true=y_test,y_pred=validation_pred))"
   ]
  },
  {
   "cell_type": "code",
   "execution_count": 298,
   "metadata": {},
   "outputs": [],
   "source": [
    "## Get copy of test data\n",
    "test_data = test.copy()"
   ]
  },
  {
   "cell_type": "code",
   "execution_count": 299,
   "metadata": {},
   "outputs": [],
   "source": [
    "## Get the predictions on test data\n",
    "y_pred = perceptron_model.predict(test_data)"
   ]
  },
  {
   "cell_type": "code",
   "execution_count": 300,
   "metadata": {
    "scrolled": true
   },
   "outputs": [
    {
     "data": {
      "text/plain": [
       "array([[6.7133904e-03],\n",
       "       [8.0439448e-04],\n",
       "       [1.7168432e-02],\n",
       "       ...,\n",
       "       [5.4528307e-02],\n",
       "       [6.1316014e-06],\n",
       "       [3.6173847e-06]], dtype=float32)"
      ]
     },
     "execution_count": 300,
     "metadata": {},
     "output_type": "execute_result"
    }
   ],
   "source": [
    "y_pred"
   ]
  },
  {
   "cell_type": "code",
   "execution_count": 301,
   "metadata": {},
   "outputs": [],
   "source": [
    "## Copy y_pred values into temp and empty the y_pred\n",
    "temp = y_pred\n",
    "y_pred = []"
   ]
  },
  {
   "cell_type": "code",
   "execution_count": 302,
   "metadata": {},
   "outputs": [],
   "source": [
    "## map y_pred values based on threshold\n",
    "for i in temp:\n",
    "    if i>0.5:\n",
    "        y_pred.append(1)\n",
    "    else:\n",
    "        y_pred.append(0)"
   ]
  },
  {
   "cell_type": "code",
   "execution_count": 303,
   "metadata": {},
   "outputs": [
    {
     "data": {
      "text/plain": [
       "[0, 0, 0, 0, 0, 0, 0, 0, 0, 0]"
      ]
     },
     "execution_count": 303,
     "metadata": {},
     "output_type": "execute_result"
    }
   ],
   "source": [
    "y_pred[:10]"
   ]
  },
  {
   "cell_type": "code",
   "execution_count": 304,
   "metadata": {},
   "outputs": [],
   "source": [
    "## Do inverse transform on y_ped so that we will get it's original values(male,female)\n",
    "test_data['gender'] = le_gender.inverse_transform(y_pred)"
   ]
  },
  {
   "cell_type": "code",
   "execution_count": 305,
   "metadata": {},
   "outputs": [],
   "source": [
    "## Do inverse transform on session_id so that we will get it's original values\n",
    "test_data['session_id'] = le_session.inverse_transform(test_data['session_id'])"
   ]
  },
  {
   "cell_type": "code",
   "execution_count": 306,
   "metadata": {},
   "outputs": [
    {
     "data": {
      "text/html": [
       "<div>\n",
       "<style scoped>\n",
       "    .dataframe tbody tr th:only-of-type {\n",
       "        vertical-align: middle;\n",
       "    }\n",
       "\n",
       "    .dataframe tbody tr th {\n",
       "        vertical-align: top;\n",
       "    }\n",
       "\n",
       "    .dataframe thead th {\n",
       "        text-align: right;\n",
       "    }\n",
       "</style>\n",
       "<table border=\"1\" class=\"dataframe\">\n",
       "  <thead>\n",
       "    <tr style=\"text-align: right;\">\n",
       "      <th></th>\n",
       "      <th>session_id</th>\n",
       "      <th>start_Y</th>\n",
       "      <th>start_M</th>\n",
       "      <th>start_D</th>\n",
       "      <th>end_Y</th>\n",
       "      <th>end_M</th>\n",
       "      <th>end_D</th>\n",
       "      <th>start_hour</th>\n",
       "      <th>start_min</th>\n",
       "      <th>start_sec</th>\n",
       "      <th>end_hour</th>\n",
       "      <th>end_min</th>\n",
       "      <th>end_sec</th>\n",
       "      <th>category</th>\n",
       "      <th>sub_category</th>\n",
       "      <th>sub_sub_category</th>\n",
       "      <th>product</th>\n",
       "      <th>gender</th>\n",
       "    </tr>\n",
       "  </thead>\n",
       "  <tbody>\n",
       "    <tr>\n",
       "      <th>0</th>\n",
       "      <td>u12112</td>\n",
       "      <td>0</td>\n",
       "      <td>6</td>\n",
       "      <td>0</td>\n",
       "      <td>0</td>\n",
       "      <td>6</td>\n",
       "      <td>0</td>\n",
       "      <td>13</td>\n",
       "      <td>36</td>\n",
       "      <td>0</td>\n",
       "      <td>13</td>\n",
       "      <td>36</td>\n",
       "      <td>0</td>\n",
       "      <td>1</td>\n",
       "      <td>2</td>\n",
       "      <td>5</td>\n",
       "      <td>12675</td>\n",
       "      <td>female</td>\n",
       "    </tr>\n",
       "    <tr>\n",
       "      <th>1</th>\n",
       "      <td>u19725</td>\n",
       "      <td>0</td>\n",
       "      <td>9</td>\n",
       "      <td>7</td>\n",
       "      <td>0</td>\n",
       "      <td>9</td>\n",
       "      <td>7</td>\n",
       "      <td>13</td>\n",
       "      <td>52</td>\n",
       "      <td>0</td>\n",
       "      <td>13</td>\n",
       "      <td>52</td>\n",
       "      <td>0</td>\n",
       "      <td>1</td>\n",
       "      <td>4</td>\n",
       "      <td>66</td>\n",
       "      <td>1407</td>\n",
       "      <td>female</td>\n",
       "    </tr>\n",
       "    <tr>\n",
       "      <th>2</th>\n",
       "      <td>u11795</td>\n",
       "      <td>0</td>\n",
       "      <td>0</td>\n",
       "      <td>0</td>\n",
       "      <td>0</td>\n",
       "      <td>0</td>\n",
       "      <td>0</td>\n",
       "      <td>10</td>\n",
       "      <td>44</td>\n",
       "      <td>0</td>\n",
       "      <td>10</td>\n",
       "      <td>44</td>\n",
       "      <td>0</td>\n",
       "      <td>1</td>\n",
       "      <td>1</td>\n",
       "      <td>3</td>\n",
       "      <td>8129</td>\n",
       "      <td>female</td>\n",
       "    </tr>\n",
       "    <tr>\n",
       "      <th>3</th>\n",
       "      <td>u22639</td>\n",
       "      <td>0</td>\n",
       "      <td>6</td>\n",
       "      <td>0</td>\n",
       "      <td>0</td>\n",
       "      <td>6</td>\n",
       "      <td>0</td>\n",
       "      <td>20</td>\n",
       "      <td>19</td>\n",
       "      <td>0</td>\n",
       "      <td>20</td>\n",
       "      <td>22</td>\n",
       "      <td>0</td>\n",
       "      <td>1</td>\n",
       "      <td>2</td>\n",
       "      <td>77</td>\n",
       "      <td>14345</td>\n",
       "      <td>female</td>\n",
       "    </tr>\n",
       "    <tr>\n",
       "      <th>3</th>\n",
       "      <td>u22639</td>\n",
       "      <td>0</td>\n",
       "      <td>6</td>\n",
       "      <td>0</td>\n",
       "      <td>0</td>\n",
       "      <td>6</td>\n",
       "      <td>0</td>\n",
       "      <td>20</td>\n",
       "      <td>19</td>\n",
       "      <td>0</td>\n",
       "      <td>20</td>\n",
       "      <td>22</td>\n",
       "      <td>0</td>\n",
       "      <td>1</td>\n",
       "      <td>2</td>\n",
       "      <td>77</td>\n",
       "      <td>14346</td>\n",
       "      <td>female</td>\n",
       "    </tr>\n",
       "  </tbody>\n",
       "</table>\n",
       "</div>"
      ],
      "text/plain": [
       "  session_id  start_Y  start_M  start_D  end_Y  end_M  end_D  start_hour  \\\n",
       "0     u12112        0        6        0      0      6      0          13   \n",
       "1     u19725        0        9        7      0      9      7          13   \n",
       "2     u11795        0        0        0      0      0      0          10   \n",
       "3     u22639        0        6        0      0      6      0          20   \n",
       "3     u22639        0        6        0      0      6      0          20   \n",
       "\n",
       "   start_min  start_sec  end_hour  end_min  end_sec  category  sub_category  \\\n",
       "0         36          0        13       36        0         1             2   \n",
       "1         52          0        13       52        0         1             4   \n",
       "2         44          0        10       44        0         1             1   \n",
       "3         19          0        20       22        0         1             2   \n",
       "3         19          0        20       22        0         1             2   \n",
       "\n",
       "   sub_sub_category  product  gender  \n",
       "0                 5    12675  female  \n",
       "1                66     1407  female  \n",
       "2                 3     8129  female  \n",
       "3                77    14345  female  \n",
       "3                77    14346  female  "
      ]
     },
     "execution_count": 306,
     "metadata": {},
     "output_type": "execute_result"
    }
   ],
   "source": [
    "## Check first 5 records after doing inverse transformation\n",
    "test_data.head()"
   ]
  },
  {
   "cell_type": "code",
   "execution_count": 307,
   "metadata": {},
   "outputs": [
    {
     "data": {
      "text/plain": [
       "(10204, 18)"
      ]
     },
     "execution_count": 307,
     "metadata": {},
     "output_type": "execute_result"
    }
   ],
   "source": [
    "## Check the dimensions of the test_data before dropping dupliccate data\n",
    "test_data.shape"
   ]
  },
  {
   "cell_type": "code",
   "execution_count": 308,
   "metadata": {},
   "outputs": [],
   "source": [
    "## Drop duplicate session_id values\n",
    "test_data = test_data.drop_duplicates(subset=['session_id'])"
   ]
  },
  {
   "cell_type": "code",
   "execution_count": 309,
   "metadata": {},
   "outputs": [
    {
     "data": {
      "text/plain": [
       "(4500, 18)"
      ]
     },
     "execution_count": 309,
     "metadata": {},
     "output_type": "execute_result"
    }
   ],
   "source": [
    "## Check the dimensions of the test_data after dropping dupliccate data\n",
    "test_data.shape"
   ]
  },
  {
   "cell_type": "code",
   "execution_count": 310,
   "metadata": {},
   "outputs": [],
   "source": [
    "## Get session_id,gender from test_data and store into to_submit\n",
    "to_submit = test_data[['session_id', 'gender']]"
   ]
  },
  {
   "cell_type": "code",
   "execution_count": 311,
   "metadata": {},
   "outputs": [
    {
     "data": {
      "text/html": [
       "<div>\n",
       "<style scoped>\n",
       "    .dataframe tbody tr th:only-of-type {\n",
       "        vertical-align: middle;\n",
       "    }\n",
       "\n",
       "    .dataframe tbody tr th {\n",
       "        vertical-align: top;\n",
       "    }\n",
       "\n",
       "    .dataframe thead th {\n",
       "        text-align: right;\n",
       "    }\n",
       "</style>\n",
       "<table border=\"1\" class=\"dataframe\">\n",
       "  <thead>\n",
       "    <tr style=\"text-align: right;\">\n",
       "      <th></th>\n",
       "      <th>session_id</th>\n",
       "      <th>gender</th>\n",
       "    </tr>\n",
       "  </thead>\n",
       "  <tbody>\n",
       "    <tr>\n",
       "      <th>0</th>\n",
       "      <td>u12112</td>\n",
       "      <td>female</td>\n",
       "    </tr>\n",
       "    <tr>\n",
       "      <th>1</th>\n",
       "      <td>u19725</td>\n",
       "      <td>female</td>\n",
       "    </tr>\n",
       "    <tr>\n",
       "      <th>2</th>\n",
       "      <td>u11795</td>\n",
       "      <td>female</td>\n",
       "    </tr>\n",
       "    <tr>\n",
       "      <th>3</th>\n",
       "      <td>u22639</td>\n",
       "      <td>female</td>\n",
       "    </tr>\n",
       "    <tr>\n",
       "      <th>4</th>\n",
       "      <td>u18034</td>\n",
       "      <td>female</td>\n",
       "    </tr>\n",
       "  </tbody>\n",
       "</table>\n",
       "</div>"
      ],
      "text/plain": [
       "  session_id  gender\n",
       "0     u12112  female\n",
       "1     u19725  female\n",
       "2     u11795  female\n",
       "3     u22639  female\n",
       "4     u18034  female"
      ]
     },
     "execution_count": 311,
     "metadata": {},
     "output_type": "execute_result"
    }
   ],
   "source": [
    "## Check first 5 records of to_submit\n",
    "to_submit.head()"
   ]
  },
  {
   "cell_type": "code",
   "execution_count": 312,
   "metadata": {},
   "outputs": [
    {
     "data": {
      "text/plain": [
       "female    4464\n",
       "male        36\n",
       "Name: gender, dtype: int64"
      ]
     },
     "execution_count": 312,
     "metadata": {},
     "output_type": "execute_result"
    }
   ],
   "source": [
    "## Get gender count value \n",
    "to_submit.gender.value_counts()"
   ]
  },
  {
   "cell_type": "code",
   "execution_count": 313,
   "metadata": {},
   "outputs": [],
   "source": [
    "## store to_submit into csv file with name neuralnetworks_model \n",
    "to_submit.to_csv('neuralnetworks_model.csv',index = False)"
   ]
  }
 ],
 "metadata": {
  "kernelspec": {
   "display_name": "Python 3",
   "language": "python",
   "name": "python3"
  },
  "language_info": {
   "codemirror_mode": {
    "name": "ipython",
    "version": 3
   },
   "file_extension": ".py",
   "mimetype": "text/x-python",
   "name": "python",
   "nbconvert_exporter": "python",
   "pygments_lexer": "ipython3",
   "version": "3.6.5"
  },
  "toc": {
   "base_numbering": 1,
   "nav_menu": {},
   "number_sections": true,
   "sideBar": true,
   "skip_h1_title": false,
   "title_cell": "Table of Contents",
   "title_sidebar": "Contents",
   "toc_cell": false,
   "toc_position": {},
   "toc_section_display": true,
   "toc_window_display": false
  }
 },
 "nbformat": 4,
 "nbformat_minor": 2
}
