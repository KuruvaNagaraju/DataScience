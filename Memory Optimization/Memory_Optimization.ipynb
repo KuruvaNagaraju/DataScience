{
 "cells": [
  {
   "cell_type": "markdown",
   "metadata": {},
   "source": [
    "### When we are dealing with data of huge size it is important to optimize the memory\n",
    "\n",
    "#### In this notebook we discuss \"categorical mapping\" and \"type conversions\" which are the most used memory optimization techniques"
   ]
  },
  {
   "cell_type": "code",
   "execution_count": 21,
   "metadata": {},
   "outputs": [],
   "source": [
    "import pandas as pd ## To Create dataframe.\n",
    "import numpy as np ## To get data types range."
   ]
  },
  {
   "cell_type": "code",
   "execution_count": 22,
   "metadata": {},
   "outputs": [],
   "source": [
    "## Create a dataframe with randomly generated column.\n",
    "df1 = pd.DataFrame({\"categorical_level\": ['Abc', 'Def', 'Ghi']*5000})"
   ]
  },
  {
   "cell_type": "code",
   "execution_count": 23,
   "metadata": {},
   "outputs": [
    {
     "data": {
      "text/html": [
       "<div>\n",
       "<style scoped>\n",
       "    .dataframe tbody tr th:only-of-type {\n",
       "        vertical-align: middle;\n",
       "    }\n",
       "\n",
       "    .dataframe tbody tr th {\n",
       "        vertical-align: top;\n",
       "    }\n",
       "\n",
       "    .dataframe thead th {\n",
       "        text-align: right;\n",
       "    }\n",
       "</style>\n",
       "<table border=\"1\" class=\"dataframe\">\n",
       "  <thead>\n",
       "    <tr style=\"text-align: right;\">\n",
       "      <th></th>\n",
       "      <th>categorical_level</th>\n",
       "    </tr>\n",
       "  </thead>\n",
       "  <tbody>\n",
       "    <tr>\n",
       "      <th>0</th>\n",
       "      <td>Abc</td>\n",
       "    </tr>\n",
       "    <tr>\n",
       "      <th>1</th>\n",
       "      <td>Def</td>\n",
       "    </tr>\n",
       "    <tr>\n",
       "      <th>2</th>\n",
       "      <td>Ghi</td>\n",
       "    </tr>\n",
       "    <tr>\n",
       "      <th>3</th>\n",
       "      <td>Abc</td>\n",
       "    </tr>\n",
       "    <tr>\n",
       "      <th>4</th>\n",
       "      <td>Def</td>\n",
       "    </tr>\n",
       "  </tbody>\n",
       "</table>\n",
       "</div>"
      ],
      "text/plain": [
       "  categorical_level\n",
       "0               Abc\n",
       "1               Def\n",
       "2               Ghi\n",
       "3               Abc\n",
       "4               Def"
      ]
     },
     "execution_count": 23,
     "metadata": {},
     "output_type": "execute_result"
    }
   ],
   "source": [
    "## Get first 5 records of dataframe.\n",
    "df1.head()"
   ]
  },
  {
   "cell_type": "code",
   "execution_count": 24,
   "metadata": {},
   "outputs": [
    {
     "data": {
      "text/plain": [
       "900128"
      ]
     },
     "execution_count": 24,
     "metadata": {},
     "output_type": "execute_result"
    }
   ],
   "source": [
    "## Get memory usgae of dataframe.\n",
    "df1['categorical_level'].memory_usage(deep=True)"
   ]
  },
  {
   "cell_type": "code",
   "execution_count": 25,
   "metadata": {},
   "outputs": [
    {
     "data": {
      "text/plain": [
       "Ghi    5000\n",
       "Def    5000\n",
       "Abc    5000\n",
       "Name: categorical_level, dtype: int64"
      ]
     },
     "execution_count": 25,
     "metadata": {},
     "output_type": "execute_result"
    }
   ],
   "source": [
    "## Get category column levels count.\n",
    "df1.categorical_level.value_counts()"
   ]
  },
  {
   "cell_type": "code",
   "execution_count": 26,
   "metadata": {},
   "outputs": [],
   "source": [
    "## Save the unique values in a variable.\n",
    "categorical_level_unique = df1['categorical_level'].unique()"
   ]
  },
  {
   "cell_type": "code",
   "execution_count": 27,
   "metadata": {},
   "outputs": [
    {
     "data": {
      "text/plain": [
       "array(['Abc', 'Def', 'Ghi'], dtype=object)"
      ]
     },
     "execution_count": 27,
     "metadata": {},
     "output_type": "execute_result"
    }
   ],
   "source": [
    "## Display unique levels.\n",
    "categorical_level_unique"
   ]
  },
  {
   "cell_type": "code",
   "execution_count": 28,
   "metadata": {},
   "outputs": [],
   "source": [
    "## Use a dictionary comprehension to create a map between the original value and an integer.\n",
    "\n",
    "## The integer is recommended to be between 1 and number of unique values in the column (optional).\n",
    "\n",
    "categorical_level_mapping = {categorical_level: idx for \n",
    "                             idx, categorical_level in \n",
    "                             enumerate(categorical_level_unique, 1)}"
   ]
  },
  {
   "cell_type": "code",
   "execution_count": 29,
   "metadata": {},
   "outputs": [
    {
     "data": {
      "text/plain": [
       "{'Abc': 1, 'Def': 2, 'Ghi': 3}"
      ]
     },
     "execution_count": 29,
     "metadata": {},
     "output_type": "execute_result"
    }
   ],
   "source": [
    "## Display mapping levels.\n",
    "categorical_level_mapping"
   ]
  },
  {
   "cell_type": "code",
   "execution_count": 30,
   "metadata": {},
   "outputs": [],
   "source": [
    "## Use the .map() method on the column to replace all the original values in the column to the encoded values.\n",
    "\n",
    "df1['categorical_level'] = df1['categorical_level'].map(categorical_level_mapping)"
   ]
  },
  {
   "cell_type": "code",
   "execution_count": 31,
   "metadata": {
    "scrolled": true
   },
   "outputs": [
    {
     "data": {
      "text/plain": [
       "120128"
      ]
     },
     "execution_count": 31,
     "metadata": {},
     "output_type": "execute_result"
    }
   ],
   "source": [
    "## Display the memory usage after mapping.\n",
    "df1['categorical_level'].memory_usage(deep=True)"
   ]
  },
  {
   "cell_type": "code",
   "execution_count": 39,
   "metadata": {},
   "outputs": [
    {
     "data": {
      "text/plain": [
       "0    1\n",
       "1    2\n",
       "2    3\n",
       "3    1\n",
       "4    2\n",
       "Name: categorical_level, dtype: int8"
      ]
     },
     "execution_count": 39,
     "metadata": {},
     "output_type": "execute_result"
    }
   ],
   "source": [
    "## Display first 5 records of dataframe after mapping.\n",
    "df1['categorical_level'].head()"
   ]
  },
  {
   "cell_type": "code",
   "execution_count": 33,
   "metadata": {},
   "outputs": [
    {
     "data": {
      "text/plain": [
       "1"
      ]
     },
     "execution_count": 33,
     "metadata": {},
     "output_type": "execute_result"
    }
   ],
   "source": [
    "## Get minimum value of category column.\n",
    "df1.categorical_level.min()"
   ]
  },
  {
   "cell_type": "code",
   "execution_count": 34,
   "metadata": {
    "scrolled": true
   },
   "outputs": [
    {
     "data": {
      "text/plain": [
       "3"
      ]
     },
     "execution_count": 34,
     "metadata": {},
     "output_type": "execute_result"
    }
   ],
   "source": [
    "## Get maximum value of category column.\n",
    "df1.categorical_level.max()"
   ]
  },
  {
   "cell_type": "code",
   "execution_count": 35,
   "metadata": {},
   "outputs": [
    {
     "name": "stdout",
     "output_type": "stream",
     "text": [
      "int8 datatype can handle integer values ranging from -128 to 127\n",
      "int16 datatype can handle integer values ranging from -32768 to 32767\n",
      "int32 datatype can handle integer values ranging from -2147483648 to 2147483647\n",
      "int64 datatype can handle integer values ranging from -9223372036854775808 to 9223372036854775807\n"
     ]
    }
   ],
   "source": [
    "## Display data types range.\n",
    "print(\"int8 datatype can handle integer values ranging from {} to {}\".format(np.iinfo(np.int8).min,np.iinfo(np.int8).max))\n",
    "print(\"int16 datatype can handle integer values ranging from {} to {}\".format(np.iinfo(np.int16).min,np.iinfo(np.int16).max))\n",
    "print(\"int32 datatype can handle integer values ranging from {} to {}\".format(np.iinfo(np.int32).min,np.iinfo(np.int32).max))\n",
    "print(\"int64 datatype can handle integer values ranging from {} to {}\".format(np.iinfo(np.int64).min,np.iinfo(np.int64).max))"
   ]
  },
  {
   "cell_type": "markdown",
   "metadata": {},
   "source": [
    "#### For more details refer\n",
    "\n",
    "https://pandas.pydata.org/pandas-docs/stable/getting_started/basics.html#basics-dtypes\n"
   ]
  },
  {
   "cell_type": "code",
   "execution_count": 36,
   "metadata": {},
   "outputs": [
    {
     "data": {
      "text/plain": [
       "120128"
      ]
     },
     "execution_count": 36,
     "metadata": {},
     "output_type": "execute_result"
    }
   ],
   "source": [
    "## Display memory usgae of dataframe before data type conversion.\n",
    "df1['categorical_level'].memory_usage(deep=True)"
   ]
  },
  {
   "cell_type": "code",
   "execution_count": 37,
   "metadata": {},
   "outputs": [],
   "source": [
    "## As we can see that the min and max values of this particular column falls inside int8.\n",
    "## As int8 would take much lesser memory than in64 so,we can convert it to int8.\n",
    "\n",
    "df1['categorical_level'] = df1['categorical_level'].astype(\"int8\")"
   ]
  },
  {
   "cell_type": "code",
   "execution_count": 38,
   "metadata": {
    "scrolled": true
   },
   "outputs": [
    {
     "data": {
      "text/plain": [
       "15128"
      ]
     },
     "execution_count": 38,
     "metadata": {},
     "output_type": "execute_result"
    }
   ],
   "source": [
    "## Display memory usgae of dataframe after data type conversion.\n",
    "df1['categorical_level'].memory_usage(deep=True)"
   ]
  },
  {
   "cell_type": "markdown",
   "metadata": {},
   "source": [
    "#### In this case we had a categorical columns for which we did a \"categorical mapping\" first and then a \"type conversion\". \n",
    "#### This decreased our memory from 900128 to 15128\n",
    "\n",
    "\n",
    "#### For numeric variables use appropriate \"type conversion\" to decrease the memory footprint.\n"
   ]
  }
 ],
 "metadata": {
  "kernelspec": {
   "display_name": "Python 3",
   "language": "python",
   "name": "python3"
  },
  "language_info": {
   "codemirror_mode": {
    "name": "ipython",
    "version": 3
   },
   "file_extension": ".py",
   "mimetype": "text/x-python",
   "name": "python",
   "nbconvert_exporter": "python",
   "pygments_lexer": "ipython3",
   "version": "3.6.5"
  },
  "toc": {
   "base_numbering": 1,
   "nav_menu": {},
   "number_sections": true,
   "sideBar": true,
   "skip_h1_title": false,
   "title_cell": "Table of Contents",
   "title_sidebar": "Contents",
   "toc_cell": false,
   "toc_position": {},
   "toc_section_display": true,
   "toc_window_display": false
  }
 },
 "nbformat": 4,
 "nbformat_minor": 2
}
