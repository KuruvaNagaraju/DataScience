{
 "cells": [
  {
   "cell_type": "markdown",
   "metadata": {},
   "source": [
    "## Introduction to Machine learning \n",
    "\n",
    "Machine learning (ML) is a category of an algorithm that allows software applications to become more accurate in predicting outcomes without being explicitly programmed. The basic premise of machine learning is to build algorithms that can receive input data and use statistical analysis to predict an output\n",
    "\n",
    "![](https://d2h0cx97tjks2p.cloudfront.net/blogs/wp-content/uploads/sites/2/2017/07/what-is-machine-learning.jpg)\n",
    "\n",
    "**Need For Machine Learning:** \n",
    "\n",
    "**Increase in Data Generation:** Due to excessive production of data, we need a method that can be used to structure, analyze and draw useful insights from data. This is where Machine Learning comes in. It uses data to solve problems and find solutions to the most complex tasks faced by organizations.\n",
    "\n",
    "**Improve Decision Making:** By making use of various algorithms, Machine Learning can be used to make better business decisions. For example, Machine Learning is used to forecast sales, predict downfalls in the stock market, identify risks and anomalies, etc.\n",
    "\n",
    "**Uncover patterns & trends in data:** Finding hidden patterns and extracting key insights from data is the most essential part of Machine Learning. By building predictive models and using statistical techniques, Machine Learning allows you to dig beneath the surface and explore the data at a minute scale. Understanding data and extracting patterns manually will take days, whereas Machine Learning algorithms can perform such computations in less than a second.\n",
    "\n",
    "**Solve complex problems:** From detecting the genes linked to the deadly ALS disease to building self-driving cars, Machine Learning can be used to solve the most complex problems.\n",
    "        \n",
    "![](https://d1jnx9ba8s6j9r.cloudfront.net/blog/wp-content/uploads/2019/04/Importance-Of-Machine-Learning-Introduction-To-Machine-Learning-Edureka.png)\n",
    "\n",
    "EX: \n",
    "\n",
    "**Netflix’s Recommendation Engine:** The core of Netflix is its infamous recommendation engine. Over 75% of what you watch is recommended by Netflix and these recommendations are made by implementing Machine Learning.\n",
    "\n",
    "**Facebook’s Auto-tagging feature:** The logic behind Facebook’s DeepMind face verification system is Machine Learning and Neural Networks. DeepMind studies the facial features in an image to tag your friends and family.\n",
    "\n",
    "**Amazon’s Alexa:** The infamous Alexa, which is based on Natural Language Processing and Machine Learning is an advanced level Virtual Assistant that does more than just play songs on your playlist. It can book you an Uber, connect with the other IoT devices at home, track your health, etc.\n",
    "\n",
    "**Google’s Spam Filter:** Gmail makes use of Machine Learning to filter out spam messages. It uses Machine Learning algorithms and Natural Language Processing to analyze emails in real-time and classify them as either spam or non-spam."
   ]
  },
  {
   "cell_type": "markdown",
   "metadata": {},
   "source": [
    "## Machine Learning Components\n",
    "\n",
    "**Algorithm:** A Machine Learning algorithm is a set of rules and statistical techniques used to learn patterns from data and draw significant information from it. It is the logic behind a Machine Learning model. An example of a Machine Learning algorithm is the Linear Regression algorithm.\n",
    "\n",
    "**Model:** A model is the main component of Machine Learning. A model is trained by using a Machine Learning Algorithm. An algorithm maps all the decisions that a model is supposed to take based on the given input, in order to get the correct output.\n",
    "\n",
    "**Predictor Variable:** It is a feature(s) of the data that can be used to predict the output.\n",
    "\n",
    "**Response Variable:** It is the feature or the output variable that needs to be predicted by using the predictor variable(s).\n",
    "\n",
    "**Training Data:** The Machine Learning model is built using the training data. The training data helps the model to identify key trends and patterns essential to predict the output.\n",
    "\n",
    "**Testing Data:** After the model is trained, it must be tested to evaluate how accurately it can predict an outcome. This is done by the testing data set.\n",
    "\n",
    "![](https://d1jnx9ba8s6j9r.cloudfront.net/blog/wp-content/uploads/2019/04/What-Is-Machine-Learning-Introduction-To-Machine-Learning-Edureka.png)\n"
   ]
  },
  {
   "cell_type": "markdown",
   "metadata": {},
   "source": [
    "## Machine Learning Process\n",
    "\n",
    "**Define the objective of the Problem Statement:** we must understand what exactly needs to be predicted.\n",
    "\n",
    "**Data Gathering:** At this stage, you must be asking questions such as,\n",
    "\n",
    "What kind of data is needed to solve this problem?\n",
    "Is the data available?\n",
    "How can I get the data?\n",
    "\n",
    "Once you know the types of data that is required, you must understand how you can derive this data. Data collection can be done manually or by web scraping.\n",
    "\n",
    "**Data Preparation:** The data you collected is almost never in the right format. You will encounter a lot of inconsistencies in the data set such as missing values, redundant variables, duplicate values, etc. Removing such inconsistencies is very essential because they might lead to wrongful computations and predictions.\n",
    "    \n",
    "**Exploratory Data Analysis:** EDA is the brainstorming stage of Machine Learning. Data Exploration involves understanding the patterns and trends in the data and all the useful insights are drawn.\n",
    "    \n",
    "**Building a Machine Learning Model:** All the insights and patterns derived during Data Exploration are used to build the Machine Learning Model. This stage always begins by splitting the data set into two parts, training data, and testing data. The training data will be used to build and analyze the model. The logic of the model is based on the Machine Learning Algorithm that is being implemented.Choosing the right algorithm depends on the type of problem you’re trying to solve, the data set and the level of complexity of the problem. \n",
    "    \n",
    "**Model Evaluation & Optimization:** After building a model by using the training data set, it is finally time to put the model to a test. The testing data set is used to check the efficiency of the model and how accurately it can predict the outcome. Once the accuracy is calculated, any further improvements in the model can be implemented at this stage. Methods like parameter tuning and cross-validation can be used to improve the performance of the model.\n",
    "    \n",
    "**Predictions:** Once the model is evaluated and improved, it is finally used to make predictions. The final output can be a Categorical variable (eg. True or False) or it can be a Continuous Quantity (eg. the predicted value of a stock).\n",
    "\n",
    "![](https://miro.medium.com/max/1400/1*j4iI3YvxQVozIzcWAJU1zw.png)"
   ]
  },
  {
   "cell_type": "markdown",
   "metadata": {},
   "source": [
    "## Machine Learning Types\n",
    "\n",
    "A machine can learn to solve a problem by following any one of the following three approaches. These are the ways in which a machine can learn:\n",
    "\n",
    "1)Supervised Learning\n",
    "2)Unsupervised Learning\n",
    "3)Reinforcement Learning\n",
    "\n",
    "![](https://data-flair.training/blogs/wp-content/uploads/sites/2/2019/08/Types-of-Machine-Learning-algorithms.jpg)\n",
    "\n",
    "![](https://cdn.app.compendium.com/uploads/user/e7c690e8-6ff9-102a-ac6d-e4aebca50425/03391c68-5c5e-493c-95a5-a92b492b9025/Image/5effec57771fb85b9fbaaafc87fbb27d/picture1.png)\n",
    "\n",
    "**Supervised Learning:** Supervised learning is a technique in which we teach or train the machine using data which is well labeled.Labelled data is past input and output pairs provided during the learning process to teach the model how it should behave\n",
    "\n",
    "Ex: classifying whether an email is spam or not,predicting stock market price.\n",
    "\n",
    "\n",
    "![](https://miro.medium.com/max/1400/1*wYyo83QTlX5nCHy2USpVsA.png)\n",
    "\n",
    "**Types of Supervised Learning:** \n",
    "\n",
    "**1)Classification:** Classification is used to group the similar data points into different sections in order to classify them.Output variable is a category. A problem like, “Will he make this purchase” will have an answer that falls into two specific categories: yes or no. This is also called a, binary classification problem.\n",
    "\n",
    "**Ex Models:** Logistic Regression,Naive Bayes,Decision Tree,KNN,Random Forest,Stacking,Bagging,Boosting(AdaBoost,GraidentBoost,XGBoost),SVM,Nueral Network,\n",
    "\n",
    "![](https://i.ytimg.com/vi/qw-IytEbZC8/maxresdefault.jpg)\n",
    "\n",
    "**2)Regression:** Output variable is a real or continuous value.If you want to predict continuous values, such as trying to predict the cost of a house or the weather outside in degrees, you would use regression. \n",
    "\n",
    "**Ex Models:** Linear Regression,Decision Tree,KNN,Random Forest,Stacking,Bagging,Boosting(AdaBoost,GraidentBoost,XGBoost),SVR,Nueral Network,\n",
    "\n",
    "![](https://qph.fs.quoracdn.net/main-qimg-a3b451c289a71014f9ecee452963f6c8)\n",
    "\n",
    "**Unsupervised Learning:** Unsupervised learning involves training by using unlabeled data and allowing the model to act on that information without guidance.Meaning, there is no “right” answer given to the machine to learn, but the machine must hopefully find patterns from the data to come up with an answer.\n",
    "\n",
    "![](https://miro.medium.com/max/1400/1*af-tNiqd-3_ResjoDOFm5A.png)\n",
    "\n",
    "Ex: grouping customers by purchasing behavior.\n",
    "\n",
    "**Types of Supervised Learning:**\n",
    "\n",
    "**1)Clustering:** A clustering problem involves assigning the input into two or more clusters based on feature similarity. For example, clustering viewers into similar groups based on their interests, age, geography, etc can be done by using Unsupervised Learning algorithms like K-Means Clustering.\n",
    "\n",
    "**Ex Models:** K-Mean,K-Medoids,Hierarchical clustering\n",
    "\n",
    "![](https://enstoa.com/sites/default/files/inline-images/Machine%20Learning%20clustering%20figure%201.png)\n",
    "\n",
    "**2)Association:** An association rule learning problem is where you want to discover rules that describe large portions of your data, such as people that buy X also tend to buy Y.\n",
    "\n",
    "**Ex Models:** Apriori algorithm\n",
    "\n",
    "![](https://annalyzin.files.wordpress.com/2016/04/association-rule-support-table.png?w=503&h=447)\n",
    "\n",
    "**Reinforcement Learning:** Reinforcement Learning is a part of Machine learning where an agent is put in an environment and he learns to behave in this environment by performing certain actions and observing the rewards which it gets from those actions.\n",
    "\n",
    "Ex: Training a machine to learn how to play (Chess, Go),Self-driving cars.\n",
    "\n",
    "![](https://miro.medium.com/max/1280/1*1qBauAy9xWzNFt1N_mmfEw.gif)\n",
    "\n",
    "![](https://miro.medium.com/max/1204/1*sTXlD9Vo6shG8RLuigobvA.png)\n",
    "\n"
   ]
  },
  {
   "cell_type": "markdown",
   "metadata": {},
   "source": [
    "## Problem Statement\n",
    "\n",
    "**Predict if the server will be hacked**\n",
    "\n",
    "All the countries across the globe have adapted to means of digital payments. And with the increased volume of digital payments, hacking has become a pretty common event wherein the hacker can try to hack your details just with your phone number linked to your bank account. However, there is data with some anonymized variables based on which one can predict that the hack is going to happen.\n",
    "\n",
    "**Data**\n",
    "\n",
    "| **Column**  | **Description** |\n",
    "| --- | --- |\n",
    "| INCIDENT_ID | Unique identifier for an incident log |\n",
    "| DATE |  Date wof incident occurence |\n",
    "| X_1-X_15 | Anonymized logging parameters |\n",
    "| MULTIPLE_OFFENSE | [Target] Indicates if the incident was a hack [1: Yes; 0: No] |\n",
    "\n",
    "**Data Files**\n",
    "\n",
    "    Train.csv : Training data [23856 x 18] to be used for training of model\n",
    "    \n",
    "    Test.csv : Test data [15903 x 17] on which predictions need to be made\n",
    "    \n",
    "    sample_submission.csv : submission format that needs to be followed when uploading predictions on platform\n",
    "\n",
    "**Evaluation Criteria:**\n",
    "\n",
    "![](https://www.oreilly.com/library/view/machine-learning-for/9781786469878/assets/f662d6a2-223f-4aec-808e-f689c38ba269.png)\n",
    "\n",
    "**score = recall_score(actual_values,predicted_values)**\n",
    "\n",
    "**Submission Format:**\n",
    "\n",
    "You need to upload your predictions in a .csv format under 'Upload File' section.\n",
    "\n",
    "\tPlease ensure the format of the file matches the sample_submission.csv provided to avoid any exceptions.\n",
    "    \n",
    "    Please ensure the 'INCIDENT_ID' column values match the test data's 'INCIDENT_ID' values to avoid any exceptions.\n",
    "    \n",
    "You need to upload your notebook file containing detailed documentation of your approach on EDA & algorithm choice under 'Upload Source Code'.\n",
    "    "
   ]
  },
  {
   "cell_type": "code",
   "execution_count": 34,
   "metadata": {},
   "outputs": [],
   "source": [
    "## Import necessary Libraries.\n",
    "\n",
    "import pandas as pd ## Pandas Library (will use to load data,create data frame...etc).\n",
    "import numpy as np ## Numpy Library ( will use to convert data frame to array or creating array etc...).\n",
    "import os ## For connecting to machine to get path for reading/writing files.\n",
    "import matplotlib.pyplot as plt # For Visualization.\n",
    "import seaborn as sns # For Visualization.\n",
    "# Magic command.\n",
    "%matplotlib inline\n",
    "from sklearn.model_selection import train_test_split ## For splitting data into train and validation.\n",
    "from sklearn.preprocessing import LabelEncoder ## For label encoding(converting categorical values to label).\n",
    "from xgboost import XGBClassifier ## XG boost model.\n",
    "from sklearn.model_selection import GridSearchCV ##For Grid search(cross validation).\n",
    "from sklearn.metrics import accuracy_score ## For getting accuracy value.\n",
    "from sklearn.metrics import confusion_matrix,classification_report,recall_score ## For classifier metrics(accuracy,TPR,TNR)."
   ]
  },
  {
   "cell_type": "code",
   "execution_count": 3,
   "metadata": {},
   "outputs": [
    {
     "data": {
      "text/plain": [
       "'D:\\\\Python\\\\Pratice\\\\Novartis_Data_Science_Hackathonn'"
      ]
     },
     "execution_count": 3,
     "metadata": {},
     "output_type": "execute_result"
    }
   ],
   "source": [
    "## Get current working directory.\n",
    "os.getcwd()"
   ]
  },
  {
   "cell_type": "code",
   "execution_count": 35,
   "metadata": {},
   "outputs": [
    {
     "data": {
      "text/plain": [
       "'D:\\\\DataScience\\\\Pratice\\\\Novarties_Hackathon\\\\Dataset'"
      ]
     },
     "execution_count": 35,
     "metadata": {},
     "output_type": "execute_result"
    }
   ],
   "source": [
    "## Set working directory.\n",
    "os.chdir(\"D:/DataScience/Pratice/Novarties_Hackathon/Dataset/\")\n",
    "os.getcwd()"
   ]
  },
  {
   "cell_type": "code",
   "execution_count": 36,
   "metadata": {},
   "outputs": [],
   "source": [
    "## Load train and test data.\n",
    "train = pd.read_csv('Train.csv',header='infer',sep=',')\n",
    "test = pd.read_csv('Test.csv',header='infer',sep=',')"
   ]
  },
  {
   "cell_type": "code",
   "execution_count": 37,
   "metadata": {},
   "outputs": [
    {
     "name": "stdout",
     "output_type": "stream",
     "text": [
      "(23856, 18)\n",
      "(15903, 17)\n"
     ]
    }
   ],
   "source": [
    "## Check dimesnions of train and test data.\n",
    "print(train.shape)\n",
    "print(test.shape)"
   ]
  },
  {
   "cell_type": "code",
   "execution_count": 38,
   "metadata": {},
   "outputs": [
    {
     "data": {
      "text/html": [
       "<div>\n",
       "<style scoped>\n",
       "    .dataframe tbody tr th:only-of-type {\n",
       "        vertical-align: middle;\n",
       "    }\n",
       "\n",
       "    .dataframe tbody tr th {\n",
       "        vertical-align: top;\n",
       "    }\n",
       "\n",
       "    .dataframe thead th {\n",
       "        text-align: right;\n",
       "    }\n",
       "</style>\n",
       "<table border=\"1\" class=\"dataframe\">\n",
       "  <thead>\n",
       "    <tr style=\"text-align: right;\">\n",
       "      <th></th>\n",
       "      <th>INCIDENT_ID</th>\n",
       "      <th>DATE</th>\n",
       "      <th>X_1</th>\n",
       "      <th>X_2</th>\n",
       "      <th>X_3</th>\n",
       "      <th>X_4</th>\n",
       "      <th>X_5</th>\n",
       "      <th>X_6</th>\n",
       "      <th>X_7</th>\n",
       "      <th>X_8</th>\n",
       "      <th>X_9</th>\n",
       "      <th>X_10</th>\n",
       "      <th>X_11</th>\n",
       "      <th>X_12</th>\n",
       "      <th>X_13</th>\n",
       "      <th>X_14</th>\n",
       "      <th>X_15</th>\n",
       "      <th>MULTIPLE_OFFENSE</th>\n",
       "    </tr>\n",
       "  </thead>\n",
       "  <tbody>\n",
       "    <tr>\n",
       "      <th>0</th>\n",
       "      <td>CR_102659</td>\n",
       "      <td>04-JUL-04</td>\n",
       "      <td>0</td>\n",
       "      <td>36</td>\n",
       "      <td>34</td>\n",
       "      <td>2</td>\n",
       "      <td>1</td>\n",
       "      <td>5</td>\n",
       "      <td>6</td>\n",
       "      <td>1</td>\n",
       "      <td>6</td>\n",
       "      <td>1</td>\n",
       "      <td>174</td>\n",
       "      <td>1.0</td>\n",
       "      <td>92</td>\n",
       "      <td>29</td>\n",
       "      <td>36</td>\n",
       "      <td>0</td>\n",
       "    </tr>\n",
       "  </tbody>\n",
       "</table>\n",
       "</div>"
      ],
      "text/plain": [
       "  INCIDENT_ID       DATE  X_1  X_2  X_3  X_4  X_5  X_6  X_7  X_8  X_9  X_10  \\\n",
       "0   CR_102659  04-JUL-04    0   36   34    2    1    5    6    1    6     1   \n",
       "\n",
       "   X_11  X_12  X_13  X_14  X_15  MULTIPLE_OFFENSE  \n",
       "0   174   1.0    92    29    36                 0  "
      ]
     },
     "execution_count": 38,
     "metadata": {},
     "output_type": "execute_result"
    }
   ],
   "source": [
    "## Check first row of train data.\n",
    "train.head(1)"
   ]
  },
  {
   "cell_type": "code",
   "execution_count": 39,
   "metadata": {},
   "outputs": [
    {
     "data": {
      "text/html": [
       "<div>\n",
       "<style scoped>\n",
       "    .dataframe tbody tr th:only-of-type {\n",
       "        vertical-align: middle;\n",
       "    }\n",
       "\n",
       "    .dataframe tbody tr th {\n",
       "        vertical-align: top;\n",
       "    }\n",
       "\n",
       "    .dataframe thead th {\n",
       "        text-align: right;\n",
       "    }\n",
       "</style>\n",
       "<table border=\"1\" class=\"dataframe\">\n",
       "  <thead>\n",
       "    <tr style=\"text-align: right;\">\n",
       "      <th></th>\n",
       "      <th>INCIDENT_ID</th>\n",
       "      <th>DATE</th>\n",
       "      <th>X_1</th>\n",
       "      <th>X_2</th>\n",
       "      <th>X_3</th>\n",
       "      <th>X_4</th>\n",
       "      <th>X_5</th>\n",
       "      <th>X_6</th>\n",
       "      <th>X_7</th>\n",
       "      <th>X_8</th>\n",
       "      <th>X_9</th>\n",
       "      <th>X_10</th>\n",
       "      <th>X_11</th>\n",
       "      <th>X_12</th>\n",
       "      <th>X_13</th>\n",
       "      <th>X_14</th>\n",
       "      <th>X_15</th>\n",
       "      <th>MULTIPLE_OFFENSE</th>\n",
       "    </tr>\n",
       "  </thead>\n",
       "  <tbody>\n",
       "    <tr>\n",
       "      <th>23855</th>\n",
       "      <td>CR_22575</td>\n",
       "      <td>08-NOV-94</td>\n",
       "      <td>7</td>\n",
       "      <td>36</td>\n",
       "      <td>34</td>\n",
       "      <td>2</td>\n",
       "      <td>1</td>\n",
       "      <td>9</td>\n",
       "      <td>8</td>\n",
       "      <td>0</td>\n",
       "      <td>5</td>\n",
       "      <td>1</td>\n",
       "      <td>249</td>\n",
       "      <td>1.0</td>\n",
       "      <td>92</td>\n",
       "      <td>29</td>\n",
       "      <td>34</td>\n",
       "      <td>1</td>\n",
       "    </tr>\n",
       "  </tbody>\n",
       "</table>\n",
       "</div>"
      ],
      "text/plain": [
       "      INCIDENT_ID       DATE  X_1  X_2  X_3  X_4  X_5  X_6  X_7  X_8  X_9  \\\n",
       "23855    CR_22575  08-NOV-94    7   36   34    2    1    9    8    0    5   \n",
       "\n",
       "       X_10  X_11  X_12  X_13  X_14  X_15  MULTIPLE_OFFENSE  \n",
       "23855     1   249   1.0    92    29    34                 1  "
      ]
     },
     "execution_count": 39,
     "metadata": {},
     "output_type": "execute_result"
    }
   ],
   "source": [
    "## Check last row of train data.\n",
    "train.tail(1)"
   ]
  },
  {
   "cell_type": "code",
   "execution_count": 40,
   "metadata": {},
   "outputs": [
    {
     "data": {
      "text/html": [
       "<div>\n",
       "<style scoped>\n",
       "    .dataframe tbody tr th:only-of-type {\n",
       "        vertical-align: middle;\n",
       "    }\n",
       "\n",
       "    .dataframe tbody tr th {\n",
       "        vertical-align: top;\n",
       "    }\n",
       "\n",
       "    .dataframe thead th {\n",
       "        text-align: right;\n",
       "    }\n",
       "</style>\n",
       "<table border=\"1\" class=\"dataframe\">\n",
       "  <thead>\n",
       "    <tr style=\"text-align: right;\">\n",
       "      <th></th>\n",
       "      <th>INCIDENT_ID</th>\n",
       "      <th>DATE</th>\n",
       "      <th>X_1</th>\n",
       "      <th>X_2</th>\n",
       "      <th>X_3</th>\n",
       "      <th>X_4</th>\n",
       "      <th>X_5</th>\n",
       "      <th>X_6</th>\n",
       "      <th>X_7</th>\n",
       "      <th>X_8</th>\n",
       "      <th>X_9</th>\n",
       "      <th>X_10</th>\n",
       "      <th>X_11</th>\n",
       "      <th>X_12</th>\n",
       "      <th>X_13</th>\n",
       "      <th>X_14</th>\n",
       "      <th>X_15</th>\n",
       "    </tr>\n",
       "  </thead>\n",
       "  <tbody>\n",
       "    <tr>\n",
       "      <th>0</th>\n",
       "      <td>CR_195453</td>\n",
       "      <td>01-FEB-18</td>\n",
       "      <td>0</td>\n",
       "      <td>30</td>\n",
       "      <td>35</td>\n",
       "      <td>7</td>\n",
       "      <td>3</td>\n",
       "      <td>6</td>\n",
       "      <td>4</td>\n",
       "      <td>0</td>\n",
       "      <td>5</td>\n",
       "      <td>1</td>\n",
       "      <td>174</td>\n",
       "      <td>NaN</td>\n",
       "      <td>72</td>\n",
       "      <td>119</td>\n",
       "      <td>23</td>\n",
       "    </tr>\n",
       "  </tbody>\n",
       "</table>\n",
       "</div>"
      ],
      "text/plain": [
       "  INCIDENT_ID       DATE  X_1  X_2  X_3  X_4  X_5  X_6  X_7  X_8  X_9  X_10  \\\n",
       "0   CR_195453  01-FEB-18    0   30   35    7    3    6    4    0    5     1   \n",
       "\n",
       "   X_11  X_12  X_13  X_14  X_15  \n",
       "0   174   NaN    72   119    23  "
      ]
     },
     "execution_count": 40,
     "metadata": {},
     "output_type": "execute_result"
    }
   ],
   "source": [
    "## Check first row of test data.\n",
    "test.head(1)"
   ]
  },
  {
   "cell_type": "code",
   "execution_count": 41,
   "metadata": {},
   "outputs": [
    {
     "data": {
      "text/html": [
       "<div>\n",
       "<style scoped>\n",
       "    .dataframe tbody tr th:only-of-type {\n",
       "        vertical-align: middle;\n",
       "    }\n",
       "\n",
       "    .dataframe tbody tr th {\n",
       "        vertical-align: top;\n",
       "    }\n",
       "\n",
       "    .dataframe thead th {\n",
       "        text-align: right;\n",
       "    }\n",
       "</style>\n",
       "<table border=\"1\" class=\"dataframe\">\n",
       "  <thead>\n",
       "    <tr style=\"text-align: right;\">\n",
       "      <th></th>\n",
       "      <th>INCIDENT_ID</th>\n",
       "      <th>DATE</th>\n",
       "      <th>X_1</th>\n",
       "      <th>X_2</th>\n",
       "      <th>X_3</th>\n",
       "      <th>X_4</th>\n",
       "      <th>X_5</th>\n",
       "      <th>X_6</th>\n",
       "      <th>X_7</th>\n",
       "      <th>X_8</th>\n",
       "      <th>X_9</th>\n",
       "      <th>X_10</th>\n",
       "      <th>X_11</th>\n",
       "      <th>X_12</th>\n",
       "      <th>X_13</th>\n",
       "      <th>X_14</th>\n",
       "      <th>X_15</th>\n",
       "    </tr>\n",
       "  </thead>\n",
       "  <tbody>\n",
       "    <tr>\n",
       "      <th>15902</th>\n",
       "      <td>CR_33545</td>\n",
       "      <td>24-APR-96</td>\n",
       "      <td>0</td>\n",
       "      <td>4</td>\n",
       "      <td>4</td>\n",
       "      <td>6</td>\n",
       "      <td>5</td>\n",
       "      <td>4</td>\n",
       "      <td>2</td>\n",
       "      <td>5</td>\n",
       "      <td>6</td>\n",
       "      <td>1</td>\n",
       "      <td>249</td>\n",
       "      <td>1.0</td>\n",
       "      <td>72</td>\n",
       "      <td>29</td>\n",
       "      <td>34</td>\n",
       "    </tr>\n",
       "  </tbody>\n",
       "</table>\n",
       "</div>"
      ],
      "text/plain": [
       "      INCIDENT_ID       DATE  X_1  X_2  X_3  X_4  X_5  X_6  X_7  X_8  X_9  \\\n",
       "15902    CR_33545  24-APR-96    0    4    4    6    5    4    2    5    6   \n",
       "\n",
       "       X_10  X_11  X_12  X_13  X_14  X_15  \n",
       "15902     1   249   1.0    72    29    34  "
      ]
     },
     "execution_count": 41,
     "metadata": {},
     "output_type": "execute_result"
    }
   ],
   "source": [
    "## Check last row of test data.\n",
    "test.tail(1)"
   ]
  },
  {
   "cell_type": "code",
   "execution_count": 42,
   "metadata": {},
   "outputs": [
    {
     "data": {
      "text/html": [
       "<div>\n",
       "<style scoped>\n",
       "    .dataframe tbody tr th:only-of-type {\n",
       "        vertical-align: middle;\n",
       "    }\n",
       "\n",
       "    .dataframe tbody tr th {\n",
       "        vertical-align: top;\n",
       "    }\n",
       "\n",
       "    .dataframe thead th {\n",
       "        text-align: right;\n",
       "    }\n",
       "</style>\n",
       "<table border=\"1\" class=\"dataframe\">\n",
       "  <thead>\n",
       "    <tr style=\"text-align: right;\">\n",
       "      <th></th>\n",
       "      <th>INCIDENT_ID</th>\n",
       "      <th>DATE</th>\n",
       "      <th>X_1</th>\n",
       "      <th>X_2</th>\n",
       "      <th>X_3</th>\n",
       "      <th>X_4</th>\n",
       "      <th>X_5</th>\n",
       "      <th>X_6</th>\n",
       "      <th>X_7</th>\n",
       "      <th>X_8</th>\n",
       "      <th>X_9</th>\n",
       "      <th>X_10</th>\n",
       "      <th>X_11</th>\n",
       "      <th>X_12</th>\n",
       "      <th>X_13</th>\n",
       "      <th>X_14</th>\n",
       "      <th>X_15</th>\n",
       "      <th>MULTIPLE_OFFENSE</th>\n",
       "    </tr>\n",
       "  </thead>\n",
       "  <tbody>\n",
       "    <tr>\n",
       "      <th>count</th>\n",
       "      <td>23856</td>\n",
       "      <td>23856</td>\n",
       "      <td>23856.000000</td>\n",
       "      <td>23856.000000</td>\n",
       "      <td>23856.000000</td>\n",
       "      <td>23856.000000</td>\n",
       "      <td>23856.000000</td>\n",
       "      <td>23856.000000</td>\n",
       "      <td>23856.000000</td>\n",
       "      <td>23856.000000</td>\n",
       "      <td>23856.000000</td>\n",
       "      <td>23856.000000</td>\n",
       "      <td>23856.000000</td>\n",
       "      <td>23674.000000</td>\n",
       "      <td>23856.000000</td>\n",
       "      <td>23856.000000</td>\n",
       "      <td>23856.000000</td>\n",
       "      <td>23856.000000</td>\n",
       "    </tr>\n",
       "    <tr>\n",
       "      <th>unique</th>\n",
       "      <td>23856</td>\n",
       "      <td>9121</td>\n",
       "      <td>NaN</td>\n",
       "      <td>NaN</td>\n",
       "      <td>NaN</td>\n",
       "      <td>NaN</td>\n",
       "      <td>NaN</td>\n",
       "      <td>NaN</td>\n",
       "      <td>NaN</td>\n",
       "      <td>NaN</td>\n",
       "      <td>NaN</td>\n",
       "      <td>NaN</td>\n",
       "      <td>NaN</td>\n",
       "      <td>NaN</td>\n",
       "      <td>NaN</td>\n",
       "      <td>NaN</td>\n",
       "      <td>NaN</td>\n",
       "      <td>NaN</td>\n",
       "    </tr>\n",
       "    <tr>\n",
       "      <th>top</th>\n",
       "      <td>CR_105207</td>\n",
       "      <td>12-SEP-01</td>\n",
       "      <td>NaN</td>\n",
       "      <td>NaN</td>\n",
       "      <td>NaN</td>\n",
       "      <td>NaN</td>\n",
       "      <td>NaN</td>\n",
       "      <td>NaN</td>\n",
       "      <td>NaN</td>\n",
       "      <td>NaN</td>\n",
       "      <td>NaN</td>\n",
       "      <td>NaN</td>\n",
       "      <td>NaN</td>\n",
       "      <td>NaN</td>\n",
       "      <td>NaN</td>\n",
       "      <td>NaN</td>\n",
       "      <td>NaN</td>\n",
       "      <td>NaN</td>\n",
       "    </tr>\n",
       "    <tr>\n",
       "      <th>freq</th>\n",
       "      <td>1</td>\n",
       "      <td>22</td>\n",
       "      <td>NaN</td>\n",
       "      <td>NaN</td>\n",
       "      <td>NaN</td>\n",
       "      <td>NaN</td>\n",
       "      <td>NaN</td>\n",
       "      <td>NaN</td>\n",
       "      <td>NaN</td>\n",
       "      <td>NaN</td>\n",
       "      <td>NaN</td>\n",
       "      <td>NaN</td>\n",
       "      <td>NaN</td>\n",
       "      <td>NaN</td>\n",
       "      <td>NaN</td>\n",
       "      <td>NaN</td>\n",
       "      <td>NaN</td>\n",
       "      <td>NaN</td>\n",
       "    </tr>\n",
       "    <tr>\n",
       "      <th>mean</th>\n",
       "      <td>NaN</td>\n",
       "      <td>NaN</td>\n",
       "      <td>0.483778</td>\n",
       "      <td>24.791206</td>\n",
       "      <td>24.637450</td>\n",
       "      <td>4.276744</td>\n",
       "      <td>2.455609</td>\n",
       "      <td>6.154175</td>\n",
       "      <td>4.876509</td>\n",
       "      <td>0.972460</td>\n",
       "      <td>4.924128</td>\n",
       "      <td>1.244802</td>\n",
       "      <td>206.954519</td>\n",
       "      <td>0.974064</td>\n",
       "      <td>85.237383</td>\n",
       "      <td>72.674296</td>\n",
       "      <td>33.464747</td>\n",
       "      <td>0.955231</td>\n",
       "    </tr>\n",
       "    <tr>\n",
       "      <th>std</th>\n",
       "      <td>NaN</td>\n",
       "      <td>NaN</td>\n",
       "      <td>1.439738</td>\n",
       "      <td>15.240231</td>\n",
       "      <td>15.135093</td>\n",
       "      <td>2.944672</td>\n",
       "      <td>1.963095</td>\n",
       "      <td>4.471756</td>\n",
       "      <td>3.881931</td>\n",
       "      <td>1.453144</td>\n",
       "      <td>1.362625</td>\n",
       "      <td>1.119301</td>\n",
       "      <td>93.033348</td>\n",
       "      <td>1.167725</td>\n",
       "      <td>27.597226</td>\n",
       "      <td>43.297320</td>\n",
       "      <td>8.386834</td>\n",
       "      <td>0.206800</td>\n",
       "    </tr>\n",
       "    <tr>\n",
       "      <th>min</th>\n",
       "      <td>NaN</td>\n",
       "      <td>NaN</td>\n",
       "      <td>0.000000</td>\n",
       "      <td>0.000000</td>\n",
       "      <td>0.000000</td>\n",
       "      <td>0.000000</td>\n",
       "      <td>0.000000</td>\n",
       "      <td>1.000000</td>\n",
       "      <td>0.000000</td>\n",
       "      <td>0.000000</td>\n",
       "      <td>0.000000</td>\n",
       "      <td>1.000000</td>\n",
       "      <td>0.000000</td>\n",
       "      <td>0.000000</td>\n",
       "      <td>0.000000</td>\n",
       "      <td>0.000000</td>\n",
       "      <td>0.000000</td>\n",
       "      <td>0.000000</td>\n",
       "    </tr>\n",
       "    <tr>\n",
       "      <th>25%</th>\n",
       "      <td>NaN</td>\n",
       "      <td>NaN</td>\n",
       "      <td>0.000000</td>\n",
       "      <td>7.000000</td>\n",
       "      <td>8.000000</td>\n",
       "      <td>2.000000</td>\n",
       "      <td>1.000000</td>\n",
       "      <td>3.000000</td>\n",
       "      <td>2.000000</td>\n",
       "      <td>0.000000</td>\n",
       "      <td>5.000000</td>\n",
       "      <td>1.000000</td>\n",
       "      <td>174.000000</td>\n",
       "      <td>1.000000</td>\n",
       "      <td>72.000000</td>\n",
       "      <td>29.000000</td>\n",
       "      <td>34.000000</td>\n",
       "      <td>1.000000</td>\n",
       "    </tr>\n",
       "    <tr>\n",
       "      <th>50%</th>\n",
       "      <td>NaN</td>\n",
       "      <td>NaN</td>\n",
       "      <td>0.000000</td>\n",
       "      <td>24.000000</td>\n",
       "      <td>24.000000</td>\n",
       "      <td>4.000000</td>\n",
       "      <td>3.000000</td>\n",
       "      <td>5.000000</td>\n",
       "      <td>4.000000</td>\n",
       "      <td>1.000000</td>\n",
       "      <td>5.000000</td>\n",
       "      <td>1.000000</td>\n",
       "      <td>249.000000</td>\n",
       "      <td>1.000000</td>\n",
       "      <td>98.000000</td>\n",
       "      <td>62.000000</td>\n",
       "      <td>34.000000</td>\n",
       "      <td>1.000000</td>\n",
       "    </tr>\n",
       "    <tr>\n",
       "      <th>75%</th>\n",
       "      <td>NaN</td>\n",
       "      <td>NaN</td>\n",
       "      <td>0.000000</td>\n",
       "      <td>36.000000</td>\n",
       "      <td>35.000000</td>\n",
       "      <td>6.000000</td>\n",
       "      <td>5.000000</td>\n",
       "      <td>8.000000</td>\n",
       "      <td>7.000000</td>\n",
       "      <td>1.000000</td>\n",
       "      <td>6.000000</td>\n",
       "      <td>1.000000</td>\n",
       "      <td>249.000000</td>\n",
       "      <td>1.000000</td>\n",
       "      <td>103.000000</td>\n",
       "      <td>107.000000</td>\n",
       "      <td>34.000000</td>\n",
       "      <td>1.000000</td>\n",
       "    </tr>\n",
       "    <tr>\n",
       "      <th>max</th>\n",
       "      <td>NaN</td>\n",
       "      <td>NaN</td>\n",
       "      <td>7.000000</td>\n",
       "      <td>52.000000</td>\n",
       "      <td>52.000000</td>\n",
       "      <td>10.000000</td>\n",
       "      <td>5.000000</td>\n",
       "      <td>19.000000</td>\n",
       "      <td>18.000000</td>\n",
       "      <td>99.000000</td>\n",
       "      <td>6.000000</td>\n",
       "      <td>90.000000</td>\n",
       "      <td>332.000000</td>\n",
       "      <td>90.000000</td>\n",
       "      <td>116.000000</td>\n",
       "      <td>142.000000</td>\n",
       "      <td>50.000000</td>\n",
       "      <td>1.000000</td>\n",
       "    </tr>\n",
       "  </tbody>\n",
       "</table>\n",
       "</div>"
      ],
      "text/plain": [
       "       INCIDENT_ID       DATE           X_1           X_2           X_3  \\\n",
       "count        23856      23856  23856.000000  23856.000000  23856.000000   \n",
       "unique       23856       9121           NaN           NaN           NaN   \n",
       "top      CR_105207  12-SEP-01           NaN           NaN           NaN   \n",
       "freq             1         22           NaN           NaN           NaN   \n",
       "mean           NaN        NaN      0.483778     24.791206     24.637450   \n",
       "std            NaN        NaN      1.439738     15.240231     15.135093   \n",
       "min            NaN        NaN      0.000000      0.000000      0.000000   \n",
       "25%            NaN        NaN      0.000000      7.000000      8.000000   \n",
       "50%            NaN        NaN      0.000000     24.000000     24.000000   \n",
       "75%            NaN        NaN      0.000000     36.000000     35.000000   \n",
       "max            NaN        NaN      7.000000     52.000000     52.000000   \n",
       "\n",
       "                 X_4           X_5           X_6           X_7           X_8  \\\n",
       "count   23856.000000  23856.000000  23856.000000  23856.000000  23856.000000   \n",
       "unique           NaN           NaN           NaN           NaN           NaN   \n",
       "top              NaN           NaN           NaN           NaN           NaN   \n",
       "freq             NaN           NaN           NaN           NaN           NaN   \n",
       "mean        4.276744      2.455609      6.154175      4.876509      0.972460   \n",
       "std         2.944672      1.963095      4.471756      3.881931      1.453144   \n",
       "min         0.000000      0.000000      1.000000      0.000000      0.000000   \n",
       "25%         2.000000      1.000000      3.000000      2.000000      0.000000   \n",
       "50%         4.000000      3.000000      5.000000      4.000000      1.000000   \n",
       "75%         6.000000      5.000000      8.000000      7.000000      1.000000   \n",
       "max        10.000000      5.000000     19.000000     18.000000     99.000000   \n",
       "\n",
       "                 X_9          X_10          X_11          X_12          X_13  \\\n",
       "count   23856.000000  23856.000000  23856.000000  23674.000000  23856.000000   \n",
       "unique           NaN           NaN           NaN           NaN           NaN   \n",
       "top              NaN           NaN           NaN           NaN           NaN   \n",
       "freq             NaN           NaN           NaN           NaN           NaN   \n",
       "mean        4.924128      1.244802    206.954519      0.974064     85.237383   \n",
       "std         1.362625      1.119301     93.033348      1.167725     27.597226   \n",
       "min         0.000000      1.000000      0.000000      0.000000      0.000000   \n",
       "25%         5.000000      1.000000    174.000000      1.000000     72.000000   \n",
       "50%         5.000000      1.000000    249.000000      1.000000     98.000000   \n",
       "75%         6.000000      1.000000    249.000000      1.000000    103.000000   \n",
       "max         6.000000     90.000000    332.000000     90.000000    116.000000   \n",
       "\n",
       "                X_14          X_15  MULTIPLE_OFFENSE  \n",
       "count   23856.000000  23856.000000      23856.000000  \n",
       "unique           NaN           NaN               NaN  \n",
       "top              NaN           NaN               NaN  \n",
       "freq             NaN           NaN               NaN  \n",
       "mean       72.674296     33.464747          0.955231  \n",
       "std        43.297320      8.386834          0.206800  \n",
       "min         0.000000      0.000000          0.000000  \n",
       "25%        29.000000     34.000000          1.000000  \n",
       "50%        62.000000     34.000000          1.000000  \n",
       "75%       107.000000     34.000000          1.000000  \n",
       "max       142.000000     50.000000          1.000000  "
      ]
     },
     "execution_count": 42,
     "metadata": {},
     "output_type": "execute_result"
    }
   ],
   "source": [
    "## Check summary statistics of train data.\n",
    "train.describe(include='all')"
   ]
  },
  {
   "cell_type": "code",
   "execution_count": 43,
   "metadata": {},
   "outputs": [
    {
     "data": {
      "text/html": [
       "<div>\n",
       "<style scoped>\n",
       "    .dataframe tbody tr th:only-of-type {\n",
       "        vertical-align: middle;\n",
       "    }\n",
       "\n",
       "    .dataframe tbody tr th {\n",
       "        vertical-align: top;\n",
       "    }\n",
       "\n",
       "    .dataframe thead th {\n",
       "        text-align: right;\n",
       "    }\n",
       "</style>\n",
       "<table border=\"1\" class=\"dataframe\">\n",
       "  <thead>\n",
       "    <tr style=\"text-align: right;\">\n",
       "      <th></th>\n",
       "      <th>INCIDENT_ID</th>\n",
       "      <th>DATE</th>\n",
       "      <th>X_1</th>\n",
       "      <th>X_2</th>\n",
       "      <th>X_3</th>\n",
       "      <th>X_4</th>\n",
       "      <th>X_5</th>\n",
       "      <th>X_6</th>\n",
       "      <th>X_7</th>\n",
       "      <th>X_8</th>\n",
       "      <th>X_9</th>\n",
       "      <th>X_10</th>\n",
       "      <th>X_11</th>\n",
       "      <th>X_12</th>\n",
       "      <th>X_13</th>\n",
       "      <th>X_14</th>\n",
       "      <th>X_15</th>\n",
       "    </tr>\n",
       "  </thead>\n",
       "  <tbody>\n",
       "    <tr>\n",
       "      <th>count</th>\n",
       "      <td>15903</td>\n",
       "      <td>15903</td>\n",
       "      <td>15903.000000</td>\n",
       "      <td>15903.000000</td>\n",
       "      <td>15903.000000</td>\n",
       "      <td>15903.000000</td>\n",
       "      <td>15903.000000</td>\n",
       "      <td>15903.000000</td>\n",
       "      <td>15903.000000</td>\n",
       "      <td>15903.000000</td>\n",
       "      <td>15903.000000</td>\n",
       "      <td>15903.000000</td>\n",
       "      <td>15903.000000</td>\n",
       "      <td>15776.000000</td>\n",
       "      <td>15903.000000</td>\n",
       "      <td>15903.000000</td>\n",
       "      <td>15903.000000</td>\n",
       "    </tr>\n",
       "    <tr>\n",
       "      <th>unique</th>\n",
       "      <td>15903</td>\n",
       "      <td>7939</td>\n",
       "      <td>NaN</td>\n",
       "      <td>NaN</td>\n",
       "      <td>NaN</td>\n",
       "      <td>NaN</td>\n",
       "      <td>NaN</td>\n",
       "      <td>NaN</td>\n",
       "      <td>NaN</td>\n",
       "      <td>NaN</td>\n",
       "      <td>NaN</td>\n",
       "      <td>NaN</td>\n",
       "      <td>NaN</td>\n",
       "      <td>NaN</td>\n",
       "      <td>NaN</td>\n",
       "      <td>NaN</td>\n",
       "      <td>NaN</td>\n",
       "    </tr>\n",
       "    <tr>\n",
       "      <th>top</th>\n",
       "      <td>CR_146650</td>\n",
       "      <td>13-SEP-01</td>\n",
       "      <td>NaN</td>\n",
       "      <td>NaN</td>\n",
       "      <td>NaN</td>\n",
       "      <td>NaN</td>\n",
       "      <td>NaN</td>\n",
       "      <td>NaN</td>\n",
       "      <td>NaN</td>\n",
       "      <td>NaN</td>\n",
       "      <td>NaN</td>\n",
       "      <td>NaN</td>\n",
       "      <td>NaN</td>\n",
       "      <td>NaN</td>\n",
       "      <td>NaN</td>\n",
       "      <td>NaN</td>\n",
       "      <td>NaN</td>\n",
       "    </tr>\n",
       "    <tr>\n",
       "      <th>freq</th>\n",
       "      <td>1</td>\n",
       "      <td>16</td>\n",
       "      <td>NaN</td>\n",
       "      <td>NaN</td>\n",
       "      <td>NaN</td>\n",
       "      <td>NaN</td>\n",
       "      <td>NaN</td>\n",
       "      <td>NaN</td>\n",
       "      <td>NaN</td>\n",
       "      <td>NaN</td>\n",
       "      <td>NaN</td>\n",
       "      <td>NaN</td>\n",
       "      <td>NaN</td>\n",
       "      <td>NaN</td>\n",
       "      <td>NaN</td>\n",
       "      <td>NaN</td>\n",
       "      <td>NaN</td>\n",
       "    </tr>\n",
       "    <tr>\n",
       "      <th>mean</th>\n",
       "      <td>NaN</td>\n",
       "      <td>NaN</td>\n",
       "      <td>0.468088</td>\n",
       "      <td>24.722631</td>\n",
       "      <td>24.575049</td>\n",
       "      <td>4.284223</td>\n",
       "      <td>2.448469</td>\n",
       "      <td>6.084890</td>\n",
       "      <td>4.862605</td>\n",
       "      <td>0.986732</td>\n",
       "      <td>4.908759</td>\n",
       "      <td>1.241212</td>\n",
       "      <td>206.954097</td>\n",
       "      <td>0.972236</td>\n",
       "      <td>85.191096</td>\n",
       "      <td>72.218575</td>\n",
       "      <td>33.422625</td>\n",
       "    </tr>\n",
       "    <tr>\n",
       "      <th>std</th>\n",
       "      <td>NaN</td>\n",
       "      <td>NaN</td>\n",
       "      <td>1.412112</td>\n",
       "      <td>15.228841</td>\n",
       "      <td>15.127451</td>\n",
       "      <td>2.974584</td>\n",
       "      <td>1.963372</td>\n",
       "      <td>4.451117</td>\n",
       "      <td>3.854550</td>\n",
       "      <td>1.471274</td>\n",
       "      <td>1.374677</td>\n",
       "      <td>0.841804</td>\n",
       "      <td>93.107783</td>\n",
       "      <td>0.876669</td>\n",
       "      <td>27.493192</td>\n",
       "      <td>43.438227</td>\n",
       "      <td>8.314284</td>\n",
       "    </tr>\n",
       "    <tr>\n",
       "      <th>min</th>\n",
       "      <td>NaN</td>\n",
       "      <td>NaN</td>\n",
       "      <td>0.000000</td>\n",
       "      <td>0.000000</td>\n",
       "      <td>0.000000</td>\n",
       "      <td>0.000000</td>\n",
       "      <td>0.000000</td>\n",
       "      <td>1.000000</td>\n",
       "      <td>0.000000</td>\n",
       "      <td>0.000000</td>\n",
       "      <td>0.000000</td>\n",
       "      <td>1.000000</td>\n",
       "      <td>0.000000</td>\n",
       "      <td>0.000000</td>\n",
       "      <td>0.000000</td>\n",
       "      <td>0.000000</td>\n",
       "      <td>0.000000</td>\n",
       "    </tr>\n",
       "    <tr>\n",
       "      <th>25%</th>\n",
       "      <td>NaN</td>\n",
       "      <td>NaN</td>\n",
       "      <td>0.000000</td>\n",
       "      <td>7.000000</td>\n",
       "      <td>8.000000</td>\n",
       "      <td>2.000000</td>\n",
       "      <td>1.000000</td>\n",
       "      <td>3.000000</td>\n",
       "      <td>2.000000</td>\n",
       "      <td>0.000000</td>\n",
       "      <td>5.000000</td>\n",
       "      <td>1.000000</td>\n",
       "      <td>174.000000</td>\n",
       "      <td>1.000000</td>\n",
       "      <td>72.000000</td>\n",
       "      <td>29.000000</td>\n",
       "      <td>34.000000</td>\n",
       "    </tr>\n",
       "    <tr>\n",
       "      <th>50%</th>\n",
       "      <td>NaN</td>\n",
       "      <td>NaN</td>\n",
       "      <td>0.000000</td>\n",
       "      <td>24.000000</td>\n",
       "      <td>24.000000</td>\n",
       "      <td>4.000000</td>\n",
       "      <td>3.000000</td>\n",
       "      <td>5.000000</td>\n",
       "      <td>4.000000</td>\n",
       "      <td>1.000000</td>\n",
       "      <td>5.000000</td>\n",
       "      <td>1.000000</td>\n",
       "      <td>249.000000</td>\n",
       "      <td>1.000000</td>\n",
       "      <td>98.000000</td>\n",
       "      <td>62.000000</td>\n",
       "      <td>34.000000</td>\n",
       "    </tr>\n",
       "    <tr>\n",
       "      <th>75%</th>\n",
       "      <td>NaN</td>\n",
       "      <td>NaN</td>\n",
       "      <td>0.000000</td>\n",
       "      <td>36.000000</td>\n",
       "      <td>35.000000</td>\n",
       "      <td>6.000000</td>\n",
       "      <td>5.000000</td>\n",
       "      <td>8.000000</td>\n",
       "      <td>7.000000</td>\n",
       "      <td>1.000000</td>\n",
       "      <td>6.000000</td>\n",
       "      <td>1.000000</td>\n",
       "      <td>249.000000</td>\n",
       "      <td>1.000000</td>\n",
       "      <td>103.000000</td>\n",
       "      <td>107.000000</td>\n",
       "      <td>34.000000</td>\n",
       "    </tr>\n",
       "    <tr>\n",
       "      <th>max</th>\n",
       "      <td>NaN</td>\n",
       "      <td>NaN</td>\n",
       "      <td>7.000000</td>\n",
       "      <td>52.000000</td>\n",
       "      <td>52.000000</td>\n",
       "      <td>10.000000</td>\n",
       "      <td>5.000000</td>\n",
       "      <td>19.000000</td>\n",
       "      <td>18.000000</td>\n",
       "      <td>50.000000</td>\n",
       "      <td>6.000000</td>\n",
       "      <td>40.000000</td>\n",
       "      <td>332.000000</td>\n",
       "      <td>40.000000</td>\n",
       "      <td>117.000000</td>\n",
       "      <td>142.000000</td>\n",
       "      <td>50.000000</td>\n",
       "    </tr>\n",
       "  </tbody>\n",
       "</table>\n",
       "</div>"
      ],
      "text/plain": [
       "       INCIDENT_ID       DATE           X_1           X_2           X_3  \\\n",
       "count        15903      15903  15903.000000  15903.000000  15903.000000   \n",
       "unique       15903       7939           NaN           NaN           NaN   \n",
       "top      CR_146650  13-SEP-01           NaN           NaN           NaN   \n",
       "freq             1         16           NaN           NaN           NaN   \n",
       "mean           NaN        NaN      0.468088     24.722631     24.575049   \n",
       "std            NaN        NaN      1.412112     15.228841     15.127451   \n",
       "min            NaN        NaN      0.000000      0.000000      0.000000   \n",
       "25%            NaN        NaN      0.000000      7.000000      8.000000   \n",
       "50%            NaN        NaN      0.000000     24.000000     24.000000   \n",
       "75%            NaN        NaN      0.000000     36.000000     35.000000   \n",
       "max            NaN        NaN      7.000000     52.000000     52.000000   \n",
       "\n",
       "                 X_4           X_5           X_6           X_7           X_8  \\\n",
       "count   15903.000000  15903.000000  15903.000000  15903.000000  15903.000000   \n",
       "unique           NaN           NaN           NaN           NaN           NaN   \n",
       "top              NaN           NaN           NaN           NaN           NaN   \n",
       "freq             NaN           NaN           NaN           NaN           NaN   \n",
       "mean        4.284223      2.448469      6.084890      4.862605      0.986732   \n",
       "std         2.974584      1.963372      4.451117      3.854550      1.471274   \n",
       "min         0.000000      0.000000      1.000000      0.000000      0.000000   \n",
       "25%         2.000000      1.000000      3.000000      2.000000      0.000000   \n",
       "50%         4.000000      3.000000      5.000000      4.000000      1.000000   \n",
       "75%         6.000000      5.000000      8.000000      7.000000      1.000000   \n",
       "max        10.000000      5.000000     19.000000     18.000000     50.000000   \n",
       "\n",
       "                 X_9          X_10          X_11          X_12          X_13  \\\n",
       "count   15903.000000  15903.000000  15903.000000  15776.000000  15903.000000   \n",
       "unique           NaN           NaN           NaN           NaN           NaN   \n",
       "top              NaN           NaN           NaN           NaN           NaN   \n",
       "freq             NaN           NaN           NaN           NaN           NaN   \n",
       "mean        4.908759      1.241212    206.954097      0.972236     85.191096   \n",
       "std         1.374677      0.841804     93.107783      0.876669     27.493192   \n",
       "min         0.000000      1.000000      0.000000      0.000000      0.000000   \n",
       "25%         5.000000      1.000000    174.000000      1.000000     72.000000   \n",
       "50%         5.000000      1.000000    249.000000      1.000000     98.000000   \n",
       "75%         6.000000      1.000000    249.000000      1.000000    103.000000   \n",
       "max         6.000000     40.000000    332.000000     40.000000    117.000000   \n",
       "\n",
       "                X_14          X_15  \n",
       "count   15903.000000  15903.000000  \n",
       "unique           NaN           NaN  \n",
       "top              NaN           NaN  \n",
       "freq             NaN           NaN  \n",
       "mean       72.218575     33.422625  \n",
       "std        43.438227      8.314284  \n",
       "min         0.000000      0.000000  \n",
       "25%        29.000000     34.000000  \n",
       "50%        62.000000     34.000000  \n",
       "75%       107.000000     34.000000  \n",
       "max       142.000000     50.000000  "
      ]
     },
     "execution_count": 43,
     "metadata": {},
     "output_type": "execute_result"
    }
   ],
   "source": [
    "## Check summary statistics of test data.\n",
    "test.describe(include='all')"
   ]
  },
  {
   "cell_type": "code",
   "execution_count": 44,
   "metadata": {},
   "outputs": [
    {
     "data": {
      "text/plain": [
       "Index(['INCIDENT_ID', 'DATE', 'X_1', 'X_2', 'X_3', 'X_4', 'X_5', 'X_6', 'X_7',\n",
       "       'X_8', 'X_9', 'X_10', 'X_11', 'X_12', 'X_13', 'X_14', 'X_15',\n",
       "       'MULTIPLE_OFFENSE'],\n",
       "      dtype='object')"
      ]
     },
     "execution_count": 44,
     "metadata": {},
     "output_type": "execute_result"
    }
   ],
   "source": [
    "## Check column names of train data.\n",
    "train.columns"
   ]
  },
  {
   "cell_type": "code",
   "execution_count": 45,
   "metadata": {},
   "outputs": [
    {
     "data": {
      "text/plain": [
       "Index(['INCIDENT_ID', 'DATE', 'X_1', 'X_2', 'X_3', 'X_4', 'X_5', 'X_6', 'X_7',\n",
       "       'X_8', 'X_9', 'X_10', 'X_11', 'X_12', 'X_13', 'X_14', 'X_15'],\n",
       "      dtype='object')"
      ]
     },
     "execution_count": 45,
     "metadata": {},
     "output_type": "execute_result"
    }
   ],
   "source": [
    "## Check column names of test data\n",
    "test.columns"
   ]
  },
  {
   "cell_type": "code",
   "execution_count": 46,
   "metadata": {},
   "outputs": [
    {
     "data": {
      "text/plain": [
       "INCIDENT_ID          object\n",
       "DATE                 object\n",
       "X_1                   int64\n",
       "X_2                   int64\n",
       "X_3                   int64\n",
       "X_4                   int64\n",
       "X_5                   int64\n",
       "X_6                   int64\n",
       "X_7                   int64\n",
       "X_8                   int64\n",
       "X_9                   int64\n",
       "X_10                  int64\n",
       "X_11                  int64\n",
       "X_12                float64\n",
       "X_13                  int64\n",
       "X_14                  int64\n",
       "X_15                  int64\n",
       "MULTIPLE_OFFENSE      int64\n",
       "dtype: object"
      ]
     },
     "execution_count": 46,
     "metadata": {},
     "output_type": "execute_result"
    }
   ],
   "source": [
    "## Check column data types of train data.\n",
    "train.dtypes"
   ]
  },
  {
   "cell_type": "code",
   "execution_count": 47,
   "metadata": {},
   "outputs": [
    {
     "data": {
      "text/plain": [
       "INCIDENT_ID     object\n",
       "DATE            object\n",
       "X_1              int64\n",
       "X_2              int64\n",
       "X_3              int64\n",
       "X_4              int64\n",
       "X_5              int64\n",
       "X_6              int64\n",
       "X_7              int64\n",
       "X_8              int64\n",
       "X_9              int64\n",
       "X_10             int64\n",
       "X_11             int64\n",
       "X_12           float64\n",
       "X_13             int64\n",
       "X_14             int64\n",
       "X_15             int64\n",
       "dtype: object"
      ]
     },
     "execution_count": 47,
     "metadata": {},
     "output_type": "execute_result"
    }
   ],
   "source": [
    "## Check column data types of test data.\n",
    "test.dtypes"
   ]
  },
  {
   "cell_type": "code",
   "execution_count": 48,
   "metadata": {},
   "outputs": [
    {
     "data": {
      "text/plain": [
       "RangeIndex(start=0, stop=23856, step=1)"
      ]
     },
     "execution_count": 48,
     "metadata": {},
     "output_type": "execute_result"
    }
   ],
   "source": [
    "## Check index range for train data.\n",
    "train.index"
   ]
  },
  {
   "cell_type": "code",
   "execution_count": 49,
   "metadata": {},
   "outputs": [
    {
     "data": {
      "text/plain": [
       "RangeIndex(start=0, stop=15903, step=1)"
      ]
     },
     "execution_count": 49,
     "metadata": {},
     "output_type": "execute_result"
    }
   ],
   "source": [
    "## Check index range for test data.\n",
    "test.index"
   ]
  },
  {
   "cell_type": "code",
   "execution_count": 50,
   "metadata": {
    "scrolled": true
   },
   "outputs": [
    {
     "data": {
      "text/plain": [
       "INCIDENT_ID           0\n",
       "DATE                  0\n",
       "X_1                   0\n",
       "X_2                   0\n",
       "X_3                   0\n",
       "X_4                   0\n",
       "X_5                   0\n",
       "X_6                   0\n",
       "X_7                   0\n",
       "X_8                   0\n",
       "X_9                   0\n",
       "X_10                  0\n",
       "X_11                  0\n",
       "X_12                182\n",
       "X_13                  0\n",
       "X_14                  0\n",
       "X_15                  0\n",
       "MULTIPLE_OFFENSE      0\n",
       "dtype: int64"
      ]
     },
     "execution_count": 50,
     "metadata": {},
     "output_type": "execute_result"
    }
   ],
   "source": [
    "## Check null values for train data.\n",
    "train.isna().sum()"
   ]
  },
  {
   "cell_type": "code",
   "execution_count": 51,
   "metadata": {},
   "outputs": [
    {
     "data": {
      "text/plain": [
       "INCIDENT_ID      0\n",
       "DATE             0\n",
       "X_1              0\n",
       "X_2              0\n",
       "X_3              0\n",
       "X_4              0\n",
       "X_5              0\n",
       "X_6              0\n",
       "X_7              0\n",
       "X_8              0\n",
       "X_9              0\n",
       "X_10             0\n",
       "X_11             0\n",
       "X_12           127\n",
       "X_13             0\n",
       "X_14             0\n",
       "X_15             0\n",
       "dtype: int64"
      ]
     },
     "execution_count": 51,
     "metadata": {},
     "output_type": "execute_result"
    }
   ],
   "source": [
    "## Check null values for test data.\n",
    "test.isna().sum()"
   ]
  },
  {
   "cell_type": "code",
   "execution_count": 52,
   "metadata": {},
   "outputs": [],
   "source": [
    "## this method will return number of levels,null values,unique values,data types.\n",
    "\n",
    "def observations(df):\n",
    "    return(pd.DataFrame({'dtypes' : df.dtypes,\n",
    "                         'levels' : [df[x].unique() for x in df.columns],\n",
    "                         'null_values' : df.isnull().sum(),\n",
    "                         'Unique Values': df.nunique()\n",
    "                        }))"
   ]
  },
  {
   "cell_type": "code",
   "execution_count": 53,
   "metadata": {},
   "outputs": [
    {
     "data": {
      "text/html": [
       "<div>\n",
       "<style scoped>\n",
       "    .dataframe tbody tr th:only-of-type {\n",
       "        vertical-align: middle;\n",
       "    }\n",
       "\n",
       "    .dataframe tbody tr th {\n",
       "        vertical-align: top;\n",
       "    }\n",
       "\n",
       "    .dataframe thead th {\n",
       "        text-align: right;\n",
       "    }\n",
       "</style>\n",
       "<table border=\"1\" class=\"dataframe\">\n",
       "  <thead>\n",
       "    <tr style=\"text-align: right;\">\n",
       "      <th></th>\n",
       "      <th>dtypes</th>\n",
       "      <th>levels</th>\n",
       "      <th>null_values</th>\n",
       "      <th>Unique Values</th>\n",
       "    </tr>\n",
       "  </thead>\n",
       "  <tbody>\n",
       "    <tr>\n",
       "      <th>INCIDENT_ID</th>\n",
       "      <td>object</td>\n",
       "      <td>[CR_102659, CR_189752, CR_184637, CR_139071, C...</td>\n",
       "      <td>0</td>\n",
       "      <td>23856</td>\n",
       "    </tr>\n",
       "    <tr>\n",
       "      <th>DATE</th>\n",
       "      <td>object</td>\n",
       "      <td>[04-JUL-04, 18-JUL-17, 15-MAR-17, 13-FEB-09, 1...</td>\n",
       "      <td>0</td>\n",
       "      <td>9121</td>\n",
       "    </tr>\n",
       "    <tr>\n",
       "      <th>X_1</th>\n",
       "      <td>int64</td>\n",
       "      <td>[0, 1, 5, 7, 3, 4, 2, 6]</td>\n",
       "      <td>0</td>\n",
       "      <td>8</td>\n",
       "    </tr>\n",
       "    <tr>\n",
       "      <th>X_2</th>\n",
       "      <td>int64</td>\n",
       "      <td>[36, 37, 3, 33, 45, 30, 8, 49, 4, 7, 25, 21, 4...</td>\n",
       "      <td>0</td>\n",
       "      <td>52</td>\n",
       "    </tr>\n",
       "    <tr>\n",
       "      <th>X_3</th>\n",
       "      <td>int64</td>\n",
       "      <td>[34, 37, 2, 32, 45, 35, 7, 49, 4, 8, 25, 23, 4...</td>\n",
       "      <td>0</td>\n",
       "      <td>52</td>\n",
       "    </tr>\n",
       "    <tr>\n",
       "      <th>X_4</th>\n",
       "      <td>int64</td>\n",
       "      <td>[2, 0, 3, 10, 7, 6, 9, 4, 1, 5]</td>\n",
       "      <td>0</td>\n",
       "      <td>10</td>\n",
       "    </tr>\n",
       "    <tr>\n",
       "      <th>X_5</th>\n",
       "      <td>int64</td>\n",
       "      <td>[1, 0, 5, 3, 2]</td>\n",
       "      <td>0</td>\n",
       "      <td>5</td>\n",
       "    </tr>\n",
       "    <tr>\n",
       "      <th>X_6</th>\n",
       "      <td>int64</td>\n",
       "      <td>[5, 11, 1, 7, 8, 9, 15, 2, 4, 13, 3, 16, 6, 18...</td>\n",
       "      <td>0</td>\n",
       "      <td>19</td>\n",
       "    </tr>\n",
       "    <tr>\n",
       "      <th>X_7</th>\n",
       "      <td>int64</td>\n",
       "      <td>[6, 17, 0, 1, 3, 8, 10, 7, 2, 18, 5, 12, 4, 13...</td>\n",
       "      <td>0</td>\n",
       "      <td>19</td>\n",
       "    </tr>\n",
       "    <tr>\n",
       "      <th>X_8</th>\n",
       "      <td>int64</td>\n",
       "      <td>[1, 2, 0, 3, 4, 5, 7, 6, 12, 10, 8, 20, 11, 15...</td>\n",
       "      <td>0</td>\n",
       "      <td>24</td>\n",
       "    </tr>\n",
       "    <tr>\n",
       "      <th>X_9</th>\n",
       "      <td>int64</td>\n",
       "      <td>[6, 3, 5, 1, 2, 0, 4]</td>\n",
       "      <td>0</td>\n",
       "      <td>7</td>\n",
       "    </tr>\n",
       "    <tr>\n",
       "      <th>X_10</th>\n",
       "      <td>int64</td>\n",
       "      <td>[1, 2, 3, 4, 6, 12, 5, 11, 10, 90, 20, 8, 16, ...</td>\n",
       "      <td>0</td>\n",
       "      <td>24</td>\n",
       "    </tr>\n",
       "    <tr>\n",
       "      <th>X_11</th>\n",
       "      <td>int64</td>\n",
       "      <td>[174, 236, 249, 303, 316, 145, 0, 127, 299, 15...</td>\n",
       "      <td>0</td>\n",
       "      <td>133</td>\n",
       "    </tr>\n",
       "    <tr>\n",
       "      <th>X_12</th>\n",
       "      <td>float64</td>\n",
       "      <td>[1.0, 0.0, 3.0, 2.0, 6.0, 12.0, 4.0, nan, 5.0,...</td>\n",
       "      <td>182</td>\n",
       "      <td>23</td>\n",
       "    </tr>\n",
       "    <tr>\n",
       "      <th>X_13</th>\n",
       "      <td>int64</td>\n",
       "      <td>[92, 103, 110, 72, 112, 42, 18, 2, 98, 67, 116...</td>\n",
       "      <td>0</td>\n",
       "      <td>60</td>\n",
       "    </tr>\n",
       "    <tr>\n",
       "      <th>X_14</th>\n",
       "      <td>int64</td>\n",
       "      <td>[29, 142, 93, 62, 14, 130, 133, 115, 53, 80, 1...</td>\n",
       "      <td>0</td>\n",
       "      <td>62</td>\n",
       "    </tr>\n",
       "    <tr>\n",
       "      <th>X_15</th>\n",
       "      <td>int64</td>\n",
       "      <td>[36, 34, 43, 48, 46, 0, 23, 9, 50, 39, 24, 14,...</td>\n",
       "      <td>0</td>\n",
       "      <td>28</td>\n",
       "    </tr>\n",
       "    <tr>\n",
       "      <th>MULTIPLE_OFFENSE</th>\n",
       "      <td>int64</td>\n",
       "      <td>[0, 1]</td>\n",
       "      <td>0</td>\n",
       "      <td>2</td>\n",
       "    </tr>\n",
       "  </tbody>\n",
       "</table>\n",
       "</div>"
      ],
      "text/plain": [
       "                   dtypes                                             levels  \\\n",
       "INCIDENT_ID        object  [CR_102659, CR_189752, CR_184637, CR_139071, C...   \n",
       "DATE               object  [04-JUL-04, 18-JUL-17, 15-MAR-17, 13-FEB-09, 1...   \n",
       "X_1                 int64                           [0, 1, 5, 7, 3, 4, 2, 6]   \n",
       "X_2                 int64  [36, 37, 3, 33, 45, 30, 8, 49, 4, 7, 25, 21, 4...   \n",
       "X_3                 int64  [34, 37, 2, 32, 45, 35, 7, 49, 4, 8, 25, 23, 4...   \n",
       "X_4                 int64                    [2, 0, 3, 10, 7, 6, 9, 4, 1, 5]   \n",
       "X_5                 int64                                    [1, 0, 5, 3, 2]   \n",
       "X_6                 int64  [5, 11, 1, 7, 8, 9, 15, 2, 4, 13, 3, 16, 6, 18...   \n",
       "X_7                 int64  [6, 17, 0, 1, 3, 8, 10, 7, 2, 18, 5, 12, 4, 13...   \n",
       "X_8                 int64  [1, 2, 0, 3, 4, 5, 7, 6, 12, 10, 8, 20, 11, 15...   \n",
       "X_9                 int64                              [6, 3, 5, 1, 2, 0, 4]   \n",
       "X_10                int64  [1, 2, 3, 4, 6, 12, 5, 11, 10, 90, 20, 8, 16, ...   \n",
       "X_11                int64  [174, 236, 249, 303, 316, 145, 0, 127, 299, 15...   \n",
       "X_12              float64  [1.0, 0.0, 3.0, 2.0, 6.0, 12.0, 4.0, nan, 5.0,...   \n",
       "X_13                int64  [92, 103, 110, 72, 112, 42, 18, 2, 98, 67, 116...   \n",
       "X_14                int64  [29, 142, 93, 62, 14, 130, 133, 115, 53, 80, 1...   \n",
       "X_15                int64  [36, 34, 43, 48, 46, 0, 23, 9, 50, 39, 24, 14,...   \n",
       "MULTIPLE_OFFENSE    int64                                             [0, 1]   \n",
       "\n",
       "                  null_values  Unique Values  \n",
       "INCIDENT_ID                 0          23856  \n",
       "DATE                        0           9121  \n",
       "X_1                         0              8  \n",
       "X_2                         0             52  \n",
       "X_3                         0             52  \n",
       "X_4                         0             10  \n",
       "X_5                         0              5  \n",
       "X_6                         0             19  \n",
       "X_7                         0             19  \n",
       "X_8                         0             24  \n",
       "X_9                         0              7  \n",
       "X_10                        0             24  \n",
       "X_11                        0            133  \n",
       "X_12                      182             23  \n",
       "X_13                        0             60  \n",
       "X_14                        0             62  \n",
       "X_15                        0             28  \n",
       "MULTIPLE_OFFENSE            0              2  "
      ]
     },
     "execution_count": 53,
     "metadata": {},
     "output_type": "execute_result"
    }
   ],
   "source": [
    "## Get train data statistics.\n",
    "observations(train)"
   ]
  },
  {
   "cell_type": "code",
   "execution_count": 54,
   "metadata": {},
   "outputs": [
    {
     "data": {
      "text/html": [
       "<div>\n",
       "<style scoped>\n",
       "    .dataframe tbody tr th:only-of-type {\n",
       "        vertical-align: middle;\n",
       "    }\n",
       "\n",
       "    .dataframe tbody tr th {\n",
       "        vertical-align: top;\n",
       "    }\n",
       "\n",
       "    .dataframe thead th {\n",
       "        text-align: right;\n",
       "    }\n",
       "</style>\n",
       "<table border=\"1\" class=\"dataframe\">\n",
       "  <thead>\n",
       "    <tr style=\"text-align: right;\">\n",
       "      <th></th>\n",
       "      <th>dtypes</th>\n",
       "      <th>levels</th>\n",
       "      <th>null_values</th>\n",
       "      <th>Unique Values</th>\n",
       "    </tr>\n",
       "  </thead>\n",
       "  <tbody>\n",
       "    <tr>\n",
       "      <th>INCIDENT_ID</th>\n",
       "      <td>object</td>\n",
       "      <td>[CR_195453, CR_103520, CR_196089, CR_112195, C...</td>\n",
       "      <td>0</td>\n",
       "      <td>15903</td>\n",
       "    </tr>\n",
       "    <tr>\n",
       "      <th>DATE</th>\n",
       "      <td>object</td>\n",
       "      <td>[01-FEB-18, 05-MAR-04, 27-JAN-18, 18-AUG-06, 3...</td>\n",
       "      <td>0</td>\n",
       "      <td>7939</td>\n",
       "    </tr>\n",
       "    <tr>\n",
       "      <th>X_1</th>\n",
       "      <td>int64</td>\n",
       "      <td>[0, 7, 1, 5, 3, 4, 2, 6]</td>\n",
       "      <td>0</td>\n",
       "      <td>8</td>\n",
       "    </tr>\n",
       "    <tr>\n",
       "      <th>X_2</th>\n",
       "      <td>int64</td>\n",
       "      <td>[30, 44, 34, 3, 7, 47, 33, 21, 36, 16, 4, 26, ...</td>\n",
       "      <td>0</td>\n",
       "      <td>52</td>\n",
       "    </tr>\n",
       "    <tr>\n",
       "      <th>X_3</th>\n",
       "      <td>int64</td>\n",
       "      <td>[35, 44, 33, 2, 8, 48, 32, 23, 34, 15, 4, 27, ...</td>\n",
       "      <td>0</td>\n",
       "      <td>52</td>\n",
       "    </tr>\n",
       "    <tr>\n",
       "      <th>X_4</th>\n",
       "      <td>int64</td>\n",
       "      <td>[7, 1, 3, 2, 4, 0, 6, 9, 10, 5]</td>\n",
       "      <td>0</td>\n",
       "      <td>10</td>\n",
       "    </tr>\n",
       "    <tr>\n",
       "      <th>X_5</th>\n",
       "      <td>int64</td>\n",
       "      <td>[3, 5, 1, 0, 2]</td>\n",
       "      <td>0</td>\n",
       "      <td>5</td>\n",
       "    </tr>\n",
       "    <tr>\n",
       "      <th>X_6</th>\n",
       "      <td>int64</td>\n",
       "      <td>[6, 7, 2, 9, 4, 5, 1, 3, 16, 15, 11, 18, 8, 12...</td>\n",
       "      <td>0</td>\n",
       "      <td>19</td>\n",
       "    </tr>\n",
       "    <tr>\n",
       "      <th>X_7</th>\n",
       "      <td>int64</td>\n",
       "      <td>[4, 1, 7, 8, 2, 6, 0, 5, 12, 10, 17, 13, 3, 16...</td>\n",
       "      <td>0</td>\n",
       "      <td>19</td>\n",
       "    </tr>\n",
       "    <tr>\n",
       "      <th>X_8</th>\n",
       "      <td>int64</td>\n",
       "      <td>[0, 4, 3, 1, 2, 12, 5, 6, 40, 7, 8, 20, 11, 10...</td>\n",
       "      <td>0</td>\n",
       "      <td>22</td>\n",
       "    </tr>\n",
       "    <tr>\n",
       "      <th>X_9</th>\n",
       "      <td>int64</td>\n",
       "      <td>[5, 6, 0, 2, 3, 1, 4]</td>\n",
       "      <td>0</td>\n",
       "      <td>7</td>\n",
       "    </tr>\n",
       "    <tr>\n",
       "      <th>X_10</th>\n",
       "      <td>int64</td>\n",
       "      <td>[1, 7, 2, 5, 3, 6, 4, 28, 10, 18, 9, 8, 14, 11...</td>\n",
       "      <td>0</td>\n",
       "      <td>18</td>\n",
       "    </tr>\n",
       "    <tr>\n",
       "      <th>X_11</th>\n",
       "      <td>int64</td>\n",
       "      <td>[174, 316, 0, 249, 179, 303, 313, 299, 43, 60,...</td>\n",
       "      <td>0</td>\n",
       "      <td>106</td>\n",
       "    </tr>\n",
       "    <tr>\n",
       "      <th>X_12</th>\n",
       "      <td>float64</td>\n",
       "      <td>[nan, 0.0, 1.0, 7.0, 2.0, 5.0, 3.0, 6.0, 4.0, ...</td>\n",
       "      <td>127</td>\n",
       "      <td>17</td>\n",
       "    </tr>\n",
       "    <tr>\n",
       "      <th>X_13</th>\n",
       "      <td>int64</td>\n",
       "      <td>[72, 12, 112, 34, 103, 92, 98, 48, 116, 31, 84...</td>\n",
       "      <td>0</td>\n",
       "      <td>54</td>\n",
       "    </tr>\n",
       "    <tr>\n",
       "      <th>X_14</th>\n",
       "      <td>int64</td>\n",
       "      <td>[119, 29, 0, 87, 93, 103, 80, 62, 142, 133, 6,...</td>\n",
       "      <td>0</td>\n",
       "      <td>51</td>\n",
       "    </tr>\n",
       "    <tr>\n",
       "      <th>X_15</th>\n",
       "      <td>int64</td>\n",
       "      <td>[23, 34, 43, 48, 0, 36, 46, 18, 40, 38, 9, 11,...</td>\n",
       "      <td>0</td>\n",
       "      <td>29</td>\n",
       "    </tr>\n",
       "  </tbody>\n",
       "</table>\n",
       "</div>"
      ],
      "text/plain": [
       "              dtypes                                             levels  \\\n",
       "INCIDENT_ID   object  [CR_195453, CR_103520, CR_196089, CR_112195, C...   \n",
       "DATE          object  [01-FEB-18, 05-MAR-04, 27-JAN-18, 18-AUG-06, 3...   \n",
       "X_1            int64                           [0, 7, 1, 5, 3, 4, 2, 6]   \n",
       "X_2            int64  [30, 44, 34, 3, 7, 47, 33, 21, 36, 16, 4, 26, ...   \n",
       "X_3            int64  [35, 44, 33, 2, 8, 48, 32, 23, 34, 15, 4, 27, ...   \n",
       "X_4            int64                    [7, 1, 3, 2, 4, 0, 6, 9, 10, 5]   \n",
       "X_5            int64                                    [3, 5, 1, 0, 2]   \n",
       "X_6            int64  [6, 7, 2, 9, 4, 5, 1, 3, 16, 15, 11, 18, 8, 12...   \n",
       "X_7            int64  [4, 1, 7, 8, 2, 6, 0, 5, 12, 10, 17, 13, 3, 16...   \n",
       "X_8            int64  [0, 4, 3, 1, 2, 12, 5, 6, 40, 7, 8, 20, 11, 10...   \n",
       "X_9            int64                              [5, 6, 0, 2, 3, 1, 4]   \n",
       "X_10           int64  [1, 7, 2, 5, 3, 6, 4, 28, 10, 18, 9, 8, 14, 11...   \n",
       "X_11           int64  [174, 316, 0, 249, 179, 303, 313, 299, 43, 60,...   \n",
       "X_12         float64  [nan, 0.0, 1.0, 7.0, 2.0, 5.0, 3.0, 6.0, 4.0, ...   \n",
       "X_13           int64  [72, 12, 112, 34, 103, 92, 98, 48, 116, 31, 84...   \n",
       "X_14           int64  [119, 29, 0, 87, 93, 103, 80, 62, 142, 133, 6,...   \n",
       "X_15           int64  [23, 34, 43, 48, 0, 36, 46, 18, 40, 38, 9, 11,...   \n",
       "\n",
       "             null_values  Unique Values  \n",
       "INCIDENT_ID            0          15903  \n",
       "DATE                   0           7939  \n",
       "X_1                    0              8  \n",
       "X_2                    0             52  \n",
       "X_3                    0             52  \n",
       "X_4                    0             10  \n",
       "X_5                    0              5  \n",
       "X_6                    0             19  \n",
       "X_7                    0             19  \n",
       "X_8                    0             22  \n",
       "X_9                    0              7  \n",
       "X_10                   0             18  \n",
       "X_11                   0            106  \n",
       "X_12                 127             17  \n",
       "X_13                   0             54  \n",
       "X_14                   0             51  \n",
       "X_15                   0             29  "
      ]
     },
     "execution_count": 54,
     "metadata": {},
     "output_type": "execute_result"
    }
   ],
   "source": [
    "## Get test data statistics.\n",
    "observations(test)"
   ]
  },
  {
   "cell_type": "code",
   "execution_count": 56,
   "metadata": {},
   "outputs": [],
   "source": [
    "## below logic is used for checking special charcter in numeric columns.\n",
    "\n",
    "def specialCharcterVerification_NumCol(data):\n",
    "    for col in data.columns: \n",
    "        print('\\n',col,'----->')\n",
    "        for index in range(1,len(data)):\n",
    "            try:\n",
    "                skip=float(data.loc[index,col])\n",
    "                skip=int(data.loc[index,col])\n",
    "            except ValueError :\n",
    "                print(index,data.loc[index,col])"
   ]
  },
  {
   "cell_type": "code",
   "execution_count": 57,
   "metadata": {
    "scrolled": false
   },
   "outputs": [
    {
     "name": "stdout",
     "output_type": "stream",
     "text": [
      "\n",
      " X_1 ----->\n",
      "\n",
      " X_2 ----->\n",
      "\n",
      " X_3 ----->\n",
      "\n",
      " X_4 ----->\n",
      "\n",
      " X_5 ----->\n",
      "\n",
      " X_6 ----->\n",
      "\n",
      " X_7 ----->\n",
      "\n",
      " X_8 ----->\n",
      "\n",
      " X_9 ----->\n",
      "\n",
      " X_10 ----->\n",
      "\n",
      " X_11 ----->\n",
      "\n",
      " X_12 ----->\n",
      "167 nan\n",
      "236 nan\n",
      "274 nan\n",
      "315 nan\n",
      "430 nan\n",
      "455 nan\n",
      "1433 nan\n",
      "1550 nan\n",
      "1557 nan\n",
      "1625 nan\n",
      "1738 nan\n",
      "1775 nan\n",
      "2098 nan\n",
      "2231 nan\n",
      "2277 nan\n",
      "2555 nan\n",
      "2679 nan\n",
      "3002 nan\n",
      "3015 nan\n",
      "3111 nan\n",
      "3187 nan\n",
      "3197 nan\n",
      "3325 nan\n",
      "3573 nan\n",
      "3764 nan\n",
      "3899 nan\n",
      "4121 nan\n",
      "4308 nan\n",
      "4328 nan\n",
      "4380 nan\n",
      "4576 nan\n",
      "4695 nan\n",
      "4713 nan\n",
      "4777 nan\n",
      "4830 nan\n",
      "4843 nan\n",
      "4868 nan\n",
      "4880 nan\n",
      "4885 nan\n",
      "4973 nan\n",
      "5075 nan\n",
      "5251 nan\n",
      "5297 nan\n",
      "5322 nan\n",
      "5508 nan\n",
      "5549 nan\n",
      "6046 nan\n",
      "6181 nan\n",
      "6211 nan\n",
      "6387 nan\n",
      "6557 nan\n",
      "6664 nan\n",
      "6748 nan\n",
      "6811 nan\n",
      "6863 nan\n",
      "6953 nan\n",
      "7050 nan\n",
      "7065 nan\n",
      "7353 nan\n",
      "7507 nan\n",
      "7592 nan\n",
      "7609 nan\n",
      "7698 nan\n",
      "8047 nan\n",
      "8120 nan\n",
      "8209 nan\n",
      "8445 nan\n",
      "8542 nan\n",
      "8553 nan\n",
      "8588 nan\n",
      "8948 nan\n",
      "8992 nan\n",
      "9133 nan\n",
      "9165 nan\n",
      "9209 nan\n",
      "9489 nan\n",
      "9544 nan\n",
      "9653 nan\n",
      "9935 nan\n",
      "10020 nan\n",
      "10272 nan\n",
      "10395 nan\n",
      "10515 nan\n",
      "10546 nan\n",
      "10649 nan\n",
      "10922 nan\n",
      "10948 nan\n",
      "10967 nan\n",
      "11039 nan\n",
      "11071 nan\n",
      "11161 nan\n",
      "11236 nan\n",
      "11274 nan\n",
      "11514 nan\n",
      "11623 nan\n",
      "11632 nan\n",
      "11928 nan\n",
      "11969 nan\n",
      "12351 nan\n",
      "12475 nan\n",
      "12656 nan\n",
      "12856 nan\n",
      "13183 nan\n",
      "13314 nan\n",
      "13346 nan\n",
      "13567 nan\n",
      "14312 nan\n",
      "14394 nan\n",
      "14513 nan\n",
      "14597 nan\n",
      "14762 nan\n",
      "14846 nan\n",
      "14977 nan\n",
      "14996 nan\n",
      "15323 nan\n",
      "15577 nan\n",
      "15600 nan\n",
      "15634 nan\n",
      "15697 nan\n",
      "15718 nan\n",
      "15910 nan\n",
      "16012 nan\n",
      "16051 nan\n",
      "16295 nan\n",
      "16316 nan\n",
      "16340 nan\n",
      "16433 nan\n",
      "16773 nan\n",
      "17074 nan\n",
      "17949 nan\n",
      "17963 nan\n",
      "18017 nan\n",
      "18327 nan\n",
      "18360 nan\n",
      "18468 nan\n",
      "18701 nan\n",
      "19199 nan\n",
      "19437 nan\n",
      "19551 nan\n",
      "19755 nan\n",
      "19759 nan\n",
      "19762 nan\n",
      "19795 nan\n",
      "19878 nan\n",
      "19953 nan\n",
      "20273 nan\n",
      "20357 nan\n",
      "20387 nan\n",
      "20575 nan\n",
      "20609 nan\n",
      "20697 nan\n",
      "20725 nan\n",
      "21139 nan\n",
      "21158 nan\n",
      "21197 nan\n",
      "21235 nan\n",
      "21349 nan\n",
      "21403 nan\n",
      "21414 nan\n",
      "21423 nan\n",
      "21462 nan\n",
      "21584 nan\n",
      "21961 nan\n",
      "22017 nan\n",
      "22323 nan\n",
      "22457 nan\n",
      "22471 nan\n",
      "22537 nan\n",
      "22714 nan\n",
      "22790 nan\n",
      "22950 nan\n",
      "23017 nan\n",
      "23045 nan\n",
      "23181 nan\n",
      "23364 nan\n",
      "23417 nan\n",
      "23496 nan\n",
      "23561 nan\n",
      "23680 nan\n",
      "23682 nan\n",
      "23714 nan\n",
      "23812 nan\n",
      "\n",
      " X_13 ----->\n",
      "\n",
      " X_14 ----->\n",
      "\n",
      " X_15 ----->\n",
      "\n",
      " MULTIPLE_OFFENSE ----->\n"
     ]
    }
   ],
   "source": [
    "## Check special charcters for train data numeric columns.\n",
    "specialCharcterVerification_NumCol(train.select_dtypes(['int64','float64']))"
   ]
  },
  {
   "cell_type": "code",
   "execution_count": 58,
   "metadata": {},
   "outputs": [
    {
     "name": "stdout",
     "output_type": "stream",
     "text": [
      "\n",
      " X_1 ----->\n",
      "\n",
      " X_2 ----->\n",
      "\n",
      " X_3 ----->\n",
      "\n",
      " X_4 ----->\n",
      "\n",
      " X_5 ----->\n",
      "\n",
      " X_6 ----->\n",
      "\n",
      " X_7 ----->\n",
      "\n",
      " X_8 ----->\n",
      "\n",
      " X_9 ----->\n",
      "\n",
      " X_10 ----->\n",
      "\n",
      " X_11 ----->\n",
      "\n",
      " X_12 ----->\n",
      "10 nan\n",
      "285 nan\n",
      "301 nan\n",
      "308 nan\n",
      "396 nan\n",
      "522 nan\n",
      "712 nan\n",
      "825 nan\n",
      "869 nan\n",
      "962 nan\n",
      "1083 nan\n",
      "1201 nan\n",
      "1247 nan\n",
      "1397 nan\n",
      "1570 nan\n",
      "1873 nan\n",
      "1908 nan\n",
      "1969 nan\n",
      "1975 nan\n",
      "2187 nan\n",
      "2223 nan\n",
      "2349 nan\n",
      "2773 nan\n",
      "2853 nan\n",
      "2905 nan\n",
      "3114 nan\n",
      "3167 nan\n",
      "3520 nan\n",
      "3621 nan\n",
      "3725 nan\n",
      "3740 nan\n",
      "3779 nan\n",
      "3801 nan\n",
      "3979 nan\n",
      "4091 nan\n",
      "4169 nan\n",
      "4440 nan\n",
      "4450 nan\n",
      "4513 nan\n",
      "4576 nan\n",
      "4880 nan\n",
      "5263 nan\n",
      "5303 nan\n",
      "5662 nan\n",
      "5757 nan\n",
      "5871 nan\n",
      "6111 nan\n",
      "6166 nan\n",
      "6178 nan\n",
      "6246 nan\n",
      "6247 nan\n",
      "6263 nan\n",
      "6434 nan\n",
      "6881 nan\n",
      "6966 nan\n",
      "7108 nan\n",
      "7309 nan\n",
      "7348 nan\n",
      "8091 nan\n",
      "8194 nan\n",
      "8311 nan\n",
      "8349 nan\n",
      "8466 nan\n",
      "8530 nan\n",
      "8580 nan\n",
      "8642 nan\n",
      "8647 nan\n",
      "8776 nan\n",
      "8866 nan\n",
      "8881 nan\n",
      "8896 nan\n",
      "9351 nan\n",
      "9590 nan\n",
      "9688 nan\n",
      "9723 nan\n",
      "9745 nan\n",
      "9829 nan\n",
      "9896 nan\n",
      "9972 nan\n",
      "10044 nan\n",
      "10061 nan\n",
      "10105 nan\n",
      "10232 nan\n",
      "10247 nan\n",
      "10289 nan\n",
      "10378 nan\n",
      "10429 nan\n",
      "10499 nan\n",
      "10561 nan\n",
      "10785 nan\n",
      "10791 nan\n",
      "10814 nan\n",
      "10867 nan\n",
      "10881 nan\n",
      "10928 nan\n",
      "11254 nan\n",
      "11344 nan\n",
      "11482 nan\n",
      "11551 nan\n",
      "11571 nan\n",
      "11596 nan\n",
      "11622 nan\n",
      "11824 nan\n",
      "11948 nan\n",
      "12060 nan\n",
      "12288 nan\n",
      "12361 nan\n",
      "12522 nan\n",
      "12908 nan\n",
      "12976 nan\n",
      "13003 nan\n",
      "13111 nan\n",
      "13222 nan\n",
      "13388 nan\n",
      "13425 nan\n",
      "13615 nan\n",
      "13759 nan\n",
      "13772 nan\n",
      "14066 nan\n",
      "14067 nan\n",
      "14132 nan\n",
      "14269 nan\n",
      "14797 nan\n",
      "15099 nan\n",
      "15467 nan\n",
      "15784 nan\n",
      "\n",
      " X_13 ----->\n",
      "\n",
      " X_14 ----->\n",
      "\n",
      " X_15 ----->\n"
     ]
    }
   ],
   "source": [
    "## Check special charcters for test data numeric columns.\n",
    "specialCharcterVerification_NumCol(test.select_dtypes(['int64','float64']))"
   ]
  },
  {
   "cell_type": "code",
   "execution_count": 59,
   "metadata": {},
   "outputs": [],
   "source": [
    "### calculate variance column wise.\n",
    "def variance(x):\n",
    "        return(pd.DataFrame({'Datatype' : x.dtypes,\n",
    "                            'Variance': [round(x[i].var()) for i in x] }))"
   ]
  },
  {
   "cell_type": "code",
   "execution_count": 60,
   "metadata": {},
   "outputs": [
    {
     "data": {
      "text/html": [
       "<div>\n",
       "<style scoped>\n",
       "    .dataframe tbody tr th:only-of-type {\n",
       "        vertical-align: middle;\n",
       "    }\n",
       "\n",
       "    .dataframe tbody tr th {\n",
       "        vertical-align: top;\n",
       "    }\n",
       "\n",
       "    .dataframe thead th {\n",
       "        text-align: right;\n",
       "    }\n",
       "</style>\n",
       "<table border=\"1\" class=\"dataframe\">\n",
       "  <thead>\n",
       "    <tr style=\"text-align: right;\">\n",
       "      <th></th>\n",
       "      <th>Datatype</th>\n",
       "      <th>Variance</th>\n",
       "    </tr>\n",
       "  </thead>\n",
       "  <tbody>\n",
       "    <tr>\n",
       "      <th>X_1</th>\n",
       "      <td>int64</td>\n",
       "      <td>2</td>\n",
       "    </tr>\n",
       "    <tr>\n",
       "      <th>X_2</th>\n",
       "      <td>int64</td>\n",
       "      <td>232</td>\n",
       "    </tr>\n",
       "    <tr>\n",
       "      <th>X_3</th>\n",
       "      <td>int64</td>\n",
       "      <td>229</td>\n",
       "    </tr>\n",
       "    <tr>\n",
       "      <th>X_4</th>\n",
       "      <td>int64</td>\n",
       "      <td>9</td>\n",
       "    </tr>\n",
       "    <tr>\n",
       "      <th>X_5</th>\n",
       "      <td>int64</td>\n",
       "      <td>4</td>\n",
       "    </tr>\n",
       "    <tr>\n",
       "      <th>X_6</th>\n",
       "      <td>int64</td>\n",
       "      <td>20</td>\n",
       "    </tr>\n",
       "    <tr>\n",
       "      <th>X_7</th>\n",
       "      <td>int64</td>\n",
       "      <td>15</td>\n",
       "    </tr>\n",
       "    <tr>\n",
       "      <th>X_8</th>\n",
       "      <td>int64</td>\n",
       "      <td>2</td>\n",
       "    </tr>\n",
       "    <tr>\n",
       "      <th>X_9</th>\n",
       "      <td>int64</td>\n",
       "      <td>2</td>\n",
       "    </tr>\n",
       "    <tr>\n",
       "      <th>X_10</th>\n",
       "      <td>int64</td>\n",
       "      <td>1</td>\n",
       "    </tr>\n",
       "    <tr>\n",
       "      <th>X_11</th>\n",
       "      <td>int64</td>\n",
       "      <td>8655</td>\n",
       "    </tr>\n",
       "    <tr>\n",
       "      <th>X_12</th>\n",
       "      <td>float64</td>\n",
       "      <td>1</td>\n",
       "    </tr>\n",
       "    <tr>\n",
       "      <th>X_13</th>\n",
       "      <td>int64</td>\n",
       "      <td>762</td>\n",
       "    </tr>\n",
       "    <tr>\n",
       "      <th>X_14</th>\n",
       "      <td>int64</td>\n",
       "      <td>1875</td>\n",
       "    </tr>\n",
       "    <tr>\n",
       "      <th>X_15</th>\n",
       "      <td>int64</td>\n",
       "      <td>70</td>\n",
       "    </tr>\n",
       "    <tr>\n",
       "      <th>MULTIPLE_OFFENSE</th>\n",
       "      <td>int64</td>\n",
       "      <td>0</td>\n",
       "    </tr>\n",
       "  </tbody>\n",
       "</table>\n",
       "</div>"
      ],
      "text/plain": [
       "                 Datatype  Variance\n",
       "X_1                 int64         2\n",
       "X_2                 int64       232\n",
       "X_3                 int64       229\n",
       "X_4                 int64         9\n",
       "X_5                 int64         4\n",
       "X_6                 int64        20\n",
       "X_7                 int64        15\n",
       "X_8                 int64         2\n",
       "X_9                 int64         2\n",
       "X_10                int64         1\n",
       "X_11                int64      8655\n",
       "X_12              float64         1\n",
       "X_13                int64       762\n",
       "X_14                int64      1875\n",
       "X_15                int64        70\n",
       "MULTIPLE_OFFENSE    int64         0"
      ]
     },
     "execution_count": 60,
     "metadata": {},
     "output_type": "execute_result"
    }
   ],
   "source": [
    "## Get variance for train data numeric columns.\n",
    "variance(train.select_dtypes(['int64','float64']))"
   ]
  },
  {
   "cell_type": "code",
   "execution_count": 61,
   "metadata": {},
   "outputs": [
    {
     "data": {
      "text/html": [
       "<div>\n",
       "<style scoped>\n",
       "    .dataframe tbody tr th:only-of-type {\n",
       "        vertical-align: middle;\n",
       "    }\n",
       "\n",
       "    .dataframe tbody tr th {\n",
       "        vertical-align: top;\n",
       "    }\n",
       "\n",
       "    .dataframe thead th {\n",
       "        text-align: right;\n",
       "    }\n",
       "</style>\n",
       "<table border=\"1\" class=\"dataframe\">\n",
       "  <thead>\n",
       "    <tr style=\"text-align: right;\">\n",
       "      <th></th>\n",
       "      <th>Datatype</th>\n",
       "      <th>Variance</th>\n",
       "    </tr>\n",
       "  </thead>\n",
       "  <tbody>\n",
       "    <tr>\n",
       "      <th>X_1</th>\n",
       "      <td>int64</td>\n",
       "      <td>2</td>\n",
       "    </tr>\n",
       "    <tr>\n",
       "      <th>X_2</th>\n",
       "      <td>int64</td>\n",
       "      <td>232</td>\n",
       "    </tr>\n",
       "    <tr>\n",
       "      <th>X_3</th>\n",
       "      <td>int64</td>\n",
       "      <td>229</td>\n",
       "    </tr>\n",
       "    <tr>\n",
       "      <th>X_4</th>\n",
       "      <td>int64</td>\n",
       "      <td>9</td>\n",
       "    </tr>\n",
       "    <tr>\n",
       "      <th>X_5</th>\n",
       "      <td>int64</td>\n",
       "      <td>4</td>\n",
       "    </tr>\n",
       "    <tr>\n",
       "      <th>X_6</th>\n",
       "      <td>int64</td>\n",
       "      <td>20</td>\n",
       "    </tr>\n",
       "    <tr>\n",
       "      <th>X_7</th>\n",
       "      <td>int64</td>\n",
       "      <td>15</td>\n",
       "    </tr>\n",
       "    <tr>\n",
       "      <th>X_8</th>\n",
       "      <td>int64</td>\n",
       "      <td>2</td>\n",
       "    </tr>\n",
       "    <tr>\n",
       "      <th>X_9</th>\n",
       "      <td>int64</td>\n",
       "      <td>2</td>\n",
       "    </tr>\n",
       "    <tr>\n",
       "      <th>X_10</th>\n",
       "      <td>int64</td>\n",
       "      <td>1</td>\n",
       "    </tr>\n",
       "    <tr>\n",
       "      <th>X_11</th>\n",
       "      <td>int64</td>\n",
       "      <td>8669</td>\n",
       "    </tr>\n",
       "    <tr>\n",
       "      <th>X_12</th>\n",
       "      <td>float64</td>\n",
       "      <td>1</td>\n",
       "    </tr>\n",
       "    <tr>\n",
       "      <th>X_13</th>\n",
       "      <td>int64</td>\n",
       "      <td>756</td>\n",
       "    </tr>\n",
       "    <tr>\n",
       "      <th>X_14</th>\n",
       "      <td>int64</td>\n",
       "      <td>1887</td>\n",
       "    </tr>\n",
       "    <tr>\n",
       "      <th>X_15</th>\n",
       "      <td>int64</td>\n",
       "      <td>69</td>\n",
       "    </tr>\n",
       "  </tbody>\n",
       "</table>\n",
       "</div>"
      ],
      "text/plain": [
       "     Datatype  Variance\n",
       "X_1     int64         2\n",
       "X_2     int64       232\n",
       "X_3     int64       229\n",
       "X_4     int64         9\n",
       "X_5     int64         4\n",
       "X_6     int64        20\n",
       "X_7     int64        15\n",
       "X_8     int64         2\n",
       "X_9     int64         2\n",
       "X_10    int64         1\n",
       "X_11    int64      8669\n",
       "X_12  float64         1\n",
       "X_13    int64       756\n",
       "X_14    int64      1887\n",
       "X_15    int64        69"
      ]
     },
     "execution_count": 61,
     "metadata": {},
     "output_type": "execute_result"
    }
   ],
   "source": [
    "## Get variance for test data numeric columns.\n",
    "variance(test.select_dtypes(['int64','float64']))"
   ]
  },
  {
   "cell_type": "code",
   "execution_count": 62,
   "metadata": {},
   "outputs": [],
   "source": [
    "## Set INCIDENT_ID column as index to train and test.\n",
    "train.set_index('INCIDENT_ID',inplace=True)\n",
    "test.set_index('INCIDENT_ID',inplace=True)"
   ]
  },
  {
   "cell_type": "code",
   "execution_count": 63,
   "metadata": {},
   "outputs": [
    {
     "data": {
      "text/html": [
       "<div>\n",
       "<style scoped>\n",
       "    .dataframe tbody tr th:only-of-type {\n",
       "        vertical-align: middle;\n",
       "    }\n",
       "\n",
       "    .dataframe tbody tr th {\n",
       "        vertical-align: top;\n",
       "    }\n",
       "\n",
       "    .dataframe thead th {\n",
       "        text-align: right;\n",
       "    }\n",
       "</style>\n",
       "<table border=\"1\" class=\"dataframe\">\n",
       "  <thead>\n",
       "    <tr style=\"text-align: right;\">\n",
       "      <th></th>\n",
       "      <th>DATE</th>\n",
       "      <th>X_1</th>\n",
       "      <th>X_2</th>\n",
       "      <th>X_3</th>\n",
       "      <th>X_4</th>\n",
       "      <th>X_5</th>\n",
       "      <th>X_6</th>\n",
       "      <th>X_7</th>\n",
       "      <th>X_8</th>\n",
       "      <th>X_9</th>\n",
       "      <th>X_10</th>\n",
       "      <th>X_11</th>\n",
       "      <th>X_12</th>\n",
       "      <th>X_13</th>\n",
       "      <th>X_14</th>\n",
       "      <th>X_15</th>\n",
       "      <th>MULTIPLE_OFFENSE</th>\n",
       "    </tr>\n",
       "    <tr>\n",
       "      <th>INCIDENT_ID</th>\n",
       "      <th></th>\n",
       "      <th></th>\n",
       "      <th></th>\n",
       "      <th></th>\n",
       "      <th></th>\n",
       "      <th></th>\n",
       "      <th></th>\n",
       "      <th></th>\n",
       "      <th></th>\n",
       "      <th></th>\n",
       "      <th></th>\n",
       "      <th></th>\n",
       "      <th></th>\n",
       "      <th></th>\n",
       "      <th></th>\n",
       "      <th></th>\n",
       "      <th></th>\n",
       "    </tr>\n",
       "  </thead>\n",
       "  <tbody>\n",
       "    <tr>\n",
       "      <th>CR_102659</th>\n",
       "      <td>04-JUL-04</td>\n",
       "      <td>0</td>\n",
       "      <td>36</td>\n",
       "      <td>34</td>\n",
       "      <td>2</td>\n",
       "      <td>1</td>\n",
       "      <td>5</td>\n",
       "      <td>6</td>\n",
       "      <td>1</td>\n",
       "      <td>6</td>\n",
       "      <td>1</td>\n",
       "      <td>174</td>\n",
       "      <td>1.0</td>\n",
       "      <td>92</td>\n",
       "      <td>29</td>\n",
       "      <td>36</td>\n",
       "      <td>0</td>\n",
       "    </tr>\n",
       "  </tbody>\n",
       "</table>\n",
       "</div>"
      ],
      "text/plain": [
       "                  DATE  X_1  X_2  X_3  X_4  X_5  X_6  X_7  X_8  X_9  X_10  \\\n",
       "INCIDENT_ID                                                                 \n",
       "CR_102659    04-JUL-04    0   36   34    2    1    5    6    1    6     1   \n",
       "\n",
       "             X_11  X_12  X_13  X_14  X_15  MULTIPLE_OFFENSE  \n",
       "INCIDENT_ID                                                  \n",
       "CR_102659     174   1.0    92    29    36                 0  "
      ]
     },
     "execution_count": 63,
     "metadata": {},
     "output_type": "execute_result"
    }
   ],
   "source": [
    "## Check train first record.\n",
    "train.head(1)"
   ]
  },
  {
   "cell_type": "code",
   "execution_count": 64,
   "metadata": {},
   "outputs": [
    {
     "data": {
      "text/html": [
       "<div>\n",
       "<style scoped>\n",
       "    .dataframe tbody tr th:only-of-type {\n",
       "        vertical-align: middle;\n",
       "    }\n",
       "\n",
       "    .dataframe tbody tr th {\n",
       "        vertical-align: top;\n",
       "    }\n",
       "\n",
       "    .dataframe thead th {\n",
       "        text-align: right;\n",
       "    }\n",
       "</style>\n",
       "<table border=\"1\" class=\"dataframe\">\n",
       "  <thead>\n",
       "    <tr style=\"text-align: right;\">\n",
       "      <th></th>\n",
       "      <th>DATE</th>\n",
       "      <th>X_1</th>\n",
       "      <th>X_2</th>\n",
       "      <th>X_3</th>\n",
       "      <th>X_4</th>\n",
       "      <th>X_5</th>\n",
       "      <th>X_6</th>\n",
       "      <th>X_7</th>\n",
       "      <th>X_8</th>\n",
       "      <th>X_9</th>\n",
       "      <th>X_10</th>\n",
       "      <th>X_11</th>\n",
       "      <th>X_12</th>\n",
       "      <th>X_13</th>\n",
       "      <th>X_14</th>\n",
       "      <th>X_15</th>\n",
       "    </tr>\n",
       "    <tr>\n",
       "      <th>INCIDENT_ID</th>\n",
       "      <th></th>\n",
       "      <th></th>\n",
       "      <th></th>\n",
       "      <th></th>\n",
       "      <th></th>\n",
       "      <th></th>\n",
       "      <th></th>\n",
       "      <th></th>\n",
       "      <th></th>\n",
       "      <th></th>\n",
       "      <th></th>\n",
       "      <th></th>\n",
       "      <th></th>\n",
       "      <th></th>\n",
       "      <th></th>\n",
       "      <th></th>\n",
       "    </tr>\n",
       "  </thead>\n",
       "  <tbody>\n",
       "    <tr>\n",
       "      <th>CR_195453</th>\n",
       "      <td>01-FEB-18</td>\n",
       "      <td>0</td>\n",
       "      <td>30</td>\n",
       "      <td>35</td>\n",
       "      <td>7</td>\n",
       "      <td>3</td>\n",
       "      <td>6</td>\n",
       "      <td>4</td>\n",
       "      <td>0</td>\n",
       "      <td>5</td>\n",
       "      <td>1</td>\n",
       "      <td>174</td>\n",
       "      <td>NaN</td>\n",
       "      <td>72</td>\n",
       "      <td>119</td>\n",
       "      <td>23</td>\n",
       "    </tr>\n",
       "  </tbody>\n",
       "</table>\n",
       "</div>"
      ],
      "text/plain": [
       "                  DATE  X_1  X_2  X_3  X_4  X_5  X_6  X_7  X_8  X_9  X_10  \\\n",
       "INCIDENT_ID                                                                 \n",
       "CR_195453    01-FEB-18    0   30   35    7    3    6    4    0    5     1   \n",
       "\n",
       "             X_11  X_12  X_13  X_14  X_15  \n",
       "INCIDENT_ID                                \n",
       "CR_195453     174   NaN    72   119    23  "
      ]
     },
     "execution_count": 64,
     "metadata": {},
     "output_type": "execute_result"
    }
   ],
   "source": [
    "## Check test first record.\n",
    "test.head(1)"
   ]
  },
  {
   "cell_type": "code",
   "execution_count": 65,
   "metadata": {},
   "outputs": [],
   "source": [
    "## Extract features from DATE column.\n",
    "\n",
    "## Converting DATE into datetime format for train data.\n",
    "train['date'] = pd.to_datetime(train['DATE'])"
   ]
  },
  {
   "cell_type": "code",
   "execution_count": 66,
   "metadata": {},
   "outputs": [],
   "source": [
    "## Converting DATE into datetime format for test data.\n",
    "test['date'] = pd.to_datetime(test['DATE'])"
   ]
  },
  {
   "cell_type": "code",
   "execution_count": 67,
   "metadata": {},
   "outputs": [],
   "source": [
    "## Extract date from date for train data.\n",
    "train['date'] = [d.date() for d in train['date']]"
   ]
  },
  {
   "cell_type": "code",
   "execution_count": 68,
   "metadata": {},
   "outputs": [],
   "source": [
    "## Extract date from date for test data.\n",
    "test['date'] = [d.date() for d in test['date']]"
   ]
  },
  {
   "cell_type": "code",
   "execution_count": 69,
   "metadata": {},
   "outputs": [],
   "source": [
    "## Drop DATE column from train data beacuse we have extracted features from them\n",
    "## so those columns are not required.\n",
    "train.drop(['DATE'], axis=1, inplace=True)"
   ]
  },
  {
   "cell_type": "code",
   "execution_count": 70,
   "metadata": {},
   "outputs": [],
   "source": [
    "## Drop DATE column from test data beacuse we have extracted features from them\n",
    "## so those columns are not required.\n",
    "test.drop(['DATE'], axis=1, inplace=True)"
   ]
  },
  {
   "cell_type": "code",
   "execution_count": 71,
   "metadata": {},
   "outputs": [],
   "source": [
    "## Extract day,month,year features from date column of train data and also drop \n",
    "## date column after feature extraction.\n",
    "train['year'] = train['date'].apply(lambda x: x.year)\n",
    "train['month'] = train['date'].apply(lambda x: x.month)\n",
    "train['day'] = train['date'].apply(lambda x: x.day)\n",
    "train.drop(['date'], axis=1, inplace=True)"
   ]
  },
  {
   "cell_type": "code",
   "execution_count": 72,
   "metadata": {},
   "outputs": [],
   "source": [
    "## Extract day,month,year features from date column of test data and also drop \n",
    "## date column after feature extraction.\n",
    "test['year'] = test['date'].apply(lambda x: x.year)\n",
    "test['month'] = test['date'].apply(lambda x: x.month)\n",
    "test['day'] = test['date'].apply(lambda x: x.day)\n",
    "test.drop(['date'], axis=1, inplace=True)"
   ]
  },
  {
   "cell_type": "code",
   "execution_count": 73,
   "metadata": {},
   "outputs": [
    {
     "data": {
      "text/html": [
       "<div>\n",
       "<style scoped>\n",
       "    .dataframe tbody tr th:only-of-type {\n",
       "        vertical-align: middle;\n",
       "    }\n",
       "\n",
       "    .dataframe tbody tr th {\n",
       "        vertical-align: top;\n",
       "    }\n",
       "\n",
       "    .dataframe thead th {\n",
       "        text-align: right;\n",
       "    }\n",
       "</style>\n",
       "<table border=\"1\" class=\"dataframe\">\n",
       "  <thead>\n",
       "    <tr style=\"text-align: right;\">\n",
       "      <th></th>\n",
       "      <th>X_1</th>\n",
       "      <th>X_2</th>\n",
       "      <th>X_3</th>\n",
       "      <th>X_4</th>\n",
       "      <th>X_5</th>\n",
       "      <th>X_6</th>\n",
       "      <th>X_7</th>\n",
       "      <th>X_8</th>\n",
       "      <th>X_9</th>\n",
       "      <th>X_10</th>\n",
       "      <th>X_11</th>\n",
       "      <th>X_12</th>\n",
       "      <th>X_13</th>\n",
       "      <th>X_14</th>\n",
       "      <th>X_15</th>\n",
       "      <th>MULTIPLE_OFFENSE</th>\n",
       "      <th>year</th>\n",
       "      <th>month</th>\n",
       "      <th>day</th>\n",
       "    </tr>\n",
       "    <tr>\n",
       "      <th>INCIDENT_ID</th>\n",
       "      <th></th>\n",
       "      <th></th>\n",
       "      <th></th>\n",
       "      <th></th>\n",
       "      <th></th>\n",
       "      <th></th>\n",
       "      <th></th>\n",
       "      <th></th>\n",
       "      <th></th>\n",
       "      <th></th>\n",
       "      <th></th>\n",
       "      <th></th>\n",
       "      <th></th>\n",
       "      <th></th>\n",
       "      <th></th>\n",
       "      <th></th>\n",
       "      <th></th>\n",
       "      <th></th>\n",
       "      <th></th>\n",
       "    </tr>\n",
       "  </thead>\n",
       "  <tbody>\n",
       "    <tr>\n",
       "      <th>CR_102659</th>\n",
       "      <td>0</td>\n",
       "      <td>36</td>\n",
       "      <td>34</td>\n",
       "      <td>2</td>\n",
       "      <td>1</td>\n",
       "      <td>5</td>\n",
       "      <td>6</td>\n",
       "      <td>1</td>\n",
       "      <td>6</td>\n",
       "      <td>1</td>\n",
       "      <td>174</td>\n",
       "      <td>1.0</td>\n",
       "      <td>92</td>\n",
       "      <td>29</td>\n",
       "      <td>36</td>\n",
       "      <td>0</td>\n",
       "      <td>2004</td>\n",
       "      <td>7</td>\n",
       "      <td>4</td>\n",
       "    </tr>\n",
       "  </tbody>\n",
       "</table>\n",
       "</div>"
      ],
      "text/plain": [
       "             X_1  X_2  X_3  X_4  X_5  X_6  X_7  X_8  X_9  X_10  X_11  X_12  \\\n",
       "INCIDENT_ID                                                                  \n",
       "CR_102659      0   36   34    2    1    5    6    1    6     1   174   1.0   \n",
       "\n",
       "             X_13  X_14  X_15  MULTIPLE_OFFENSE  year  month  day  \n",
       "INCIDENT_ID                                                        \n",
       "CR_102659      92    29    36                 0  2004      7    4  "
      ]
     },
     "execution_count": 73,
     "metadata": {},
     "output_type": "execute_result"
    }
   ],
   "source": [
    "## Check first record of train data after feature extractions.\n",
    "train.head(1)"
   ]
  },
  {
   "cell_type": "code",
   "execution_count": 74,
   "metadata": {},
   "outputs": [
    {
     "data": {
      "text/html": [
       "<div>\n",
       "<style scoped>\n",
       "    .dataframe tbody tr th:only-of-type {\n",
       "        vertical-align: middle;\n",
       "    }\n",
       "\n",
       "    .dataframe tbody tr th {\n",
       "        vertical-align: top;\n",
       "    }\n",
       "\n",
       "    .dataframe thead th {\n",
       "        text-align: right;\n",
       "    }\n",
       "</style>\n",
       "<table border=\"1\" class=\"dataframe\">\n",
       "  <thead>\n",
       "    <tr style=\"text-align: right;\">\n",
       "      <th></th>\n",
       "      <th>X_1</th>\n",
       "      <th>X_2</th>\n",
       "      <th>X_3</th>\n",
       "      <th>X_4</th>\n",
       "      <th>X_5</th>\n",
       "      <th>X_6</th>\n",
       "      <th>X_7</th>\n",
       "      <th>X_8</th>\n",
       "      <th>X_9</th>\n",
       "      <th>X_10</th>\n",
       "      <th>X_11</th>\n",
       "      <th>X_12</th>\n",
       "      <th>X_13</th>\n",
       "      <th>X_14</th>\n",
       "      <th>X_15</th>\n",
       "      <th>year</th>\n",
       "      <th>month</th>\n",
       "      <th>day</th>\n",
       "    </tr>\n",
       "    <tr>\n",
       "      <th>INCIDENT_ID</th>\n",
       "      <th></th>\n",
       "      <th></th>\n",
       "      <th></th>\n",
       "      <th></th>\n",
       "      <th></th>\n",
       "      <th></th>\n",
       "      <th></th>\n",
       "      <th></th>\n",
       "      <th></th>\n",
       "      <th></th>\n",
       "      <th></th>\n",
       "      <th></th>\n",
       "      <th></th>\n",
       "      <th></th>\n",
       "      <th></th>\n",
       "      <th></th>\n",
       "      <th></th>\n",
       "      <th></th>\n",
       "    </tr>\n",
       "  </thead>\n",
       "  <tbody>\n",
       "    <tr>\n",
       "      <th>CR_195453</th>\n",
       "      <td>0</td>\n",
       "      <td>30</td>\n",
       "      <td>35</td>\n",
       "      <td>7</td>\n",
       "      <td>3</td>\n",
       "      <td>6</td>\n",
       "      <td>4</td>\n",
       "      <td>0</td>\n",
       "      <td>5</td>\n",
       "      <td>1</td>\n",
       "      <td>174</td>\n",
       "      <td>NaN</td>\n",
       "      <td>72</td>\n",
       "      <td>119</td>\n",
       "      <td>23</td>\n",
       "      <td>2018</td>\n",
       "      <td>2</td>\n",
       "      <td>1</td>\n",
       "    </tr>\n",
       "  </tbody>\n",
       "</table>\n",
       "</div>"
      ],
      "text/plain": [
       "             X_1  X_2  X_3  X_4  X_5  X_6  X_7  X_8  X_9  X_10  X_11  X_12  \\\n",
       "INCIDENT_ID                                                                  \n",
       "CR_195453      0   30   35    7    3    6    4    0    5     1   174   NaN   \n",
       "\n",
       "             X_13  X_14  X_15  year  month  day  \n",
       "INCIDENT_ID                                      \n",
       "CR_195453      72   119    23  2018      2    1  "
      ]
     },
     "execution_count": 74,
     "metadata": {},
     "output_type": "execute_result"
    }
   ],
   "source": [
    "## Check first record of test data after feature extractions.\n",
    "test.head(1)"
   ]
  },
  {
   "cell_type": "markdown",
   "metadata": {},
   "source": [
    "## EDA"
   ]
  },
  {
   "cell_type": "code",
   "execution_count": 75,
   "metadata": {},
   "outputs": [
    {
     "data": {
      "text/html": [
       "<div>\n",
       "<style scoped>\n",
       "    .dataframe tbody tr th:only-of-type {\n",
       "        vertical-align: middle;\n",
       "    }\n",
       "\n",
       "    .dataframe tbody tr th {\n",
       "        vertical-align: top;\n",
       "    }\n",
       "\n",
       "    .dataframe thead th {\n",
       "        text-align: right;\n",
       "    }\n",
       "</style>\n",
       "<table border=\"1\" class=\"dataframe\">\n",
       "  <thead>\n",
       "    <tr style=\"text-align: right;\">\n",
       "      <th></th>\n",
       "      <th>X_1</th>\n",
       "      <th>MULTIPLE_OFFENSE</th>\n",
       "    </tr>\n",
       "  </thead>\n",
       "  <tbody>\n",
       "    <tr>\n",
       "      <th>2</th>\n",
       "      <td>2</td>\n",
       "      <td>1.000000</td>\n",
       "    </tr>\n",
       "    <tr>\n",
       "      <th>3</th>\n",
       "      <td>3</td>\n",
       "      <td>1.000000</td>\n",
       "    </tr>\n",
       "    <tr>\n",
       "      <th>4</th>\n",
       "      <td>4</td>\n",
       "      <td>1.000000</td>\n",
       "    </tr>\n",
       "    <tr>\n",
       "      <th>7</th>\n",
       "      <td>7</td>\n",
       "      <td>0.976027</td>\n",
       "    </tr>\n",
       "    <tr>\n",
       "      <th>0</th>\n",
       "      <td>0</td>\n",
       "      <td>0.955768</td>\n",
       "    </tr>\n",
       "    <tr>\n",
       "      <th>1</th>\n",
       "      <td>1</td>\n",
       "      <td>0.945954</td>\n",
       "    </tr>\n",
       "    <tr>\n",
       "      <th>5</th>\n",
       "      <td>5</td>\n",
       "      <td>0.944444</td>\n",
       "    </tr>\n",
       "    <tr>\n",
       "      <th>6</th>\n",
       "      <td>6</td>\n",
       "      <td>0.800000</td>\n",
       "    </tr>\n",
       "  </tbody>\n",
       "</table>\n",
       "</div>"
      ],
      "text/plain": [
       "   X_1  MULTIPLE_OFFENSE\n",
       "2    2          1.000000\n",
       "3    3          1.000000\n",
       "4    4          1.000000\n",
       "7    7          0.976027\n",
       "0    0          0.955768\n",
       "1    1          0.945954\n",
       "5    5          0.944444\n",
       "6    6          0.800000"
      ]
     },
     "execution_count": 75,
     "metadata": {},
     "output_type": "execute_result"
    }
   ],
   "source": [
    "## Below table describes which level of X_1 have more 1 of MULTIPLE_OFFENSE column.\n",
    "train[[\"X_1\", \"MULTIPLE_OFFENSE\"]].groupby(['X_1'], as_index=False).mean().sort_values(by='MULTIPLE_OFFENSE', ascending=False)"
   ]
  },
  {
   "cell_type": "code",
   "execution_count": 76,
   "metadata": {
    "scrolled": false
   },
   "outputs": [
    {
     "name": "stderr",
     "output_type": "stream",
     "text": [
      "C:\\Users\\nagar\\Anaconda3\\lib\\site-packages\\scipy\\stats\\stats.py:1713: FutureWarning: Using a non-tuple sequence for multidimensional indexing is deprecated; use `arr[tuple(seq)]` instead of `arr[seq]`. In the future this will be interpreted as an array index, `arr[np.array(seq)]`, which will result either in an error or a different result.\n",
      "  return np.add.reduce(sorted[indexer] * weights, axis=axis) / sumval\n"
     ]
    },
    {
     "data": {
      "image/png": "[encoded data removed]",
      "text/plain": [
       "<Figure size 432x288 with 1 Axes>"
      ]
     },
     "metadata": {},
     "output_type": "display_data"
    }
   ],
   "source": [
    "## Below barplot describes which level of X_1 have more 1 of MULTIPLE_OFFENSE column.\n",
    "sns.barplot(train['X_1'],train['MULTIPLE_OFFENSE']);"
   ]
  },
  {
   "cell_type": "code",
   "execution_count": 77,
   "metadata": {},
   "outputs": [
    {
     "data": {
      "text/html": [
       "<div>\n",
       "<style scoped>\n",
       "    .dataframe tbody tr th:only-of-type {\n",
       "        vertical-align: middle;\n",
       "    }\n",
       "\n",
       "    .dataframe tbody tr th {\n",
       "        vertical-align: top;\n",
       "    }\n",
       "\n",
       "    .dataframe thead th {\n",
       "        text-align: right;\n",
       "    }\n",
       "</style>\n",
       "<table border=\"1\" class=\"dataframe\">\n",
       "  <thead>\n",
       "    <tr style=\"text-align: right;\">\n",
       "      <th></th>\n",
       "      <th>X_4</th>\n",
       "      <th>MULTIPLE_OFFENSE</th>\n",
       "    </tr>\n",
       "  </thead>\n",
       "  <tbody>\n",
       "    <tr>\n",
       "      <th>5</th>\n",
       "      <td>5</td>\n",
       "      <td>1.000000</td>\n",
       "    </tr>\n",
       "    <tr>\n",
       "      <th>8</th>\n",
       "      <td>9</td>\n",
       "      <td>0.960294</td>\n",
       "    </tr>\n",
       "    <tr>\n",
       "      <th>7</th>\n",
       "      <td>7</td>\n",
       "      <td>0.960208</td>\n",
       "    </tr>\n",
       "    <tr>\n",
       "      <th>0</th>\n",
       "      <td>0</td>\n",
       "      <td>0.957421</td>\n",
       "    </tr>\n",
       "    <tr>\n",
       "      <th>3</th>\n",
       "      <td>3</td>\n",
       "      <td>0.956173</td>\n",
       "    </tr>\n",
       "    <tr>\n",
       "      <th>1</th>\n",
       "      <td>1</td>\n",
       "      <td>0.956005</td>\n",
       "    </tr>\n",
       "    <tr>\n",
       "      <th>2</th>\n",
       "      <td>2</td>\n",
       "      <td>0.955959</td>\n",
       "    </tr>\n",
       "    <tr>\n",
       "      <th>6</th>\n",
       "      <td>6</td>\n",
       "      <td>0.953611</td>\n",
       "    </tr>\n",
       "    <tr>\n",
       "      <th>4</th>\n",
       "      <td>4</td>\n",
       "      <td>0.947706</td>\n",
       "    </tr>\n",
       "    <tr>\n",
       "      <th>9</th>\n",
       "      <td>10</td>\n",
       "      <td>0.946860</td>\n",
       "    </tr>\n",
       "  </tbody>\n",
       "</table>\n",
       "</div>"
      ],
      "text/plain": [
       "   X_4  MULTIPLE_OFFENSE\n",
       "5    5          1.000000\n",
       "8    9          0.960294\n",
       "7    7          0.960208\n",
       "0    0          0.957421\n",
       "3    3          0.956173\n",
       "1    1          0.956005\n",
       "2    2          0.955959\n",
       "6    6          0.953611\n",
       "4    4          0.947706\n",
       "9   10          0.946860"
      ]
     },
     "execution_count": 77,
     "metadata": {},
     "output_type": "execute_result"
    }
   ],
   "source": [
    "## Below table describes which level of X_4 have more 1 of MULTIPLE_OFFENSE column.\n",
    "train[[\"X_4\", \"MULTIPLE_OFFENSE\"]].groupby(['X_4'], as_index=False).mean().sort_values(by='MULTIPLE_OFFENSE', ascending=False)"
   ]
  },
  {
   "cell_type": "code",
   "execution_count": 78,
   "metadata": {
    "scrolled": true
   },
   "outputs": [
    {
     "name": "stderr",
     "output_type": "stream",
     "text": [
      "C:\\Users\\nagar\\Anaconda3\\lib\\site-packages\\scipy\\stats\\stats.py:1713: FutureWarning: Using a non-tuple sequence for multidimensional indexing is deprecated; use `arr[tuple(seq)]` instead of `arr[seq]`. In the future this will be interpreted as an array index, `arr[np.array(seq)]`, which will result either in an error or a different result.\n",
      "  return np.add.reduce(sorted[indexer] * weights, axis=axis) / sumval\n"
     ]
    },
    {
     "data": {
      "image/png": "[encoded data removed]",
      "text/plain": [
       "<Figure size 432x288 with 1 Axes>"
      ]
     },
     "metadata": {},
     "output_type": "display_data"
    }
   ],
   "source": [
    "## Below barplot  describes which level of X_4 have more 1 of MULTIPLE_OFFENSE column.\n",
    "sns.barplot(train['X_4'],train['MULTIPLE_OFFENSE']);"
   ]
  },
  {
   "cell_type": "code",
   "execution_count": 79,
   "metadata": {},
   "outputs": [
    {
     "data": {
      "text/html": [
       "<div>\n",
       "<style scoped>\n",
       "    .dataframe tbody tr th:only-of-type {\n",
       "        vertical-align: middle;\n",
       "    }\n",
       "\n",
       "    .dataframe tbody tr th {\n",
       "        vertical-align: top;\n",
       "    }\n",
       "\n",
       "    .dataframe thead th {\n",
       "        text-align: right;\n",
       "    }\n",
       "</style>\n",
       "<table border=\"1\" class=\"dataframe\">\n",
       "  <thead>\n",
       "    <tr style=\"text-align: right;\">\n",
       "      <th></th>\n",
       "      <th>X_5</th>\n",
       "      <th>MULTIPLE_OFFENSE</th>\n",
       "    </tr>\n",
       "  </thead>\n",
       "  <tbody>\n",
       "    <tr>\n",
       "      <th>2</th>\n",
       "      <td>2</td>\n",
       "      <td>1.000000</td>\n",
       "    </tr>\n",
       "    <tr>\n",
       "      <th>0</th>\n",
       "      <td>0</td>\n",
       "      <td>0.958253</td>\n",
       "    </tr>\n",
       "    <tr>\n",
       "      <th>3</th>\n",
       "      <td>3</td>\n",
       "      <td>0.956163</td>\n",
       "    </tr>\n",
       "    <tr>\n",
       "      <th>4</th>\n",
       "      <td>5</td>\n",
       "      <td>0.954262</td>\n",
       "    </tr>\n",
       "    <tr>\n",
       "      <th>1</th>\n",
       "      <td>1</td>\n",
       "      <td>0.953505</td>\n",
       "    </tr>\n",
       "  </tbody>\n",
       "</table>\n",
       "</div>"
      ],
      "text/plain": [
       "   X_5  MULTIPLE_OFFENSE\n",
       "2    2          1.000000\n",
       "0    0          0.958253\n",
       "3    3          0.956163\n",
       "4    5          0.954262\n",
       "1    1          0.953505"
      ]
     },
     "execution_count": 79,
     "metadata": {},
     "output_type": "execute_result"
    }
   ],
   "source": [
    "## Below table describes which level of X_5 have more 1 of MULTIPLE_OFFENSE column.\n",
    "train[[\"X_5\", \"MULTIPLE_OFFENSE\"]].groupby(['X_5'], as_index=False).mean().sort_values(by='MULTIPLE_OFFENSE', ascending=False)"
   ]
  },
  {
   "cell_type": "code",
   "execution_count": 80,
   "metadata": {
    "scrolled": true
   },
   "outputs": [
    {
     "name": "stderr",
     "output_type": "stream",
     "text": [
      "C:\\Users\\nagar\\Anaconda3\\lib\\site-packages\\scipy\\stats\\stats.py:1713: FutureWarning: Using a non-tuple sequence for multidimensional indexing is deprecated; use `arr[tuple(seq)]` instead of `arr[seq]`. In the future this will be interpreted as an array index, `arr[np.array(seq)]`, which will result either in an error or a different result.\n",
      "  return np.add.reduce(sorted[indexer] * weights, axis=axis) / sumval\n"
     ]
    },
    {
     "data": {
      "image/png": "[encoded data removed]",
      "text/plain": [
       "<Figure size 432x288 with 1 Axes>"
      ]
     },
     "metadata": {},
     "output_type": "display_data"
    }
   ],
   "source": [
    "## Below barplot  describes which level of X_5 have more 1 of MULTIPLE_OFFENSE column.\n",
    "sns.barplot(train['X_5'],train['MULTIPLE_OFFENSE']);"
   ]
  },
  {
   "cell_type": "code",
   "execution_count": 81,
   "metadata": {},
   "outputs": [
    {
     "data": {
      "text/html": [
       "<div>\n",
       "<style scoped>\n",
       "    .dataframe tbody tr th:only-of-type {\n",
       "        vertical-align: middle;\n",
       "    }\n",
       "\n",
       "    .dataframe tbody tr th {\n",
       "        vertical-align: top;\n",
       "    }\n",
       "\n",
       "    .dataframe thead th {\n",
       "        text-align: right;\n",
       "    }\n",
       "</style>\n",
       "<table border=\"1\" class=\"dataframe\">\n",
       "  <thead>\n",
       "    <tr style=\"text-align: right;\">\n",
       "      <th></th>\n",
       "      <th>X_6</th>\n",
       "      <th>MULTIPLE_OFFENSE</th>\n",
       "    </tr>\n",
       "  </thead>\n",
       "  <tbody>\n",
       "    <tr>\n",
       "      <th>18</th>\n",
       "      <td>19</td>\n",
       "      <td>1.000000</td>\n",
       "    </tr>\n",
       "    <tr>\n",
       "      <th>8</th>\n",
       "      <td>9</td>\n",
       "      <td>0.969219</td>\n",
       "    </tr>\n",
       "    <tr>\n",
       "      <th>6</th>\n",
       "      <td>7</td>\n",
       "      <td>0.963692</td>\n",
       "    </tr>\n",
       "    <tr>\n",
       "      <th>1</th>\n",
       "      <td>2</td>\n",
       "      <td>0.962576</td>\n",
       "    </tr>\n",
       "    <tr>\n",
       "      <th>5</th>\n",
       "      <td>6</td>\n",
       "      <td>0.957779</td>\n",
       "    </tr>\n",
       "    <tr>\n",
       "      <th>4</th>\n",
       "      <td>5</td>\n",
       "      <td>0.957447</td>\n",
       "    </tr>\n",
       "    <tr>\n",
       "      <th>12</th>\n",
       "      <td>13</td>\n",
       "      <td>0.956835</td>\n",
       "    </tr>\n",
       "    <tr>\n",
       "      <th>7</th>\n",
       "      <td>8</td>\n",
       "      <td>0.953737</td>\n",
       "    </tr>\n",
       "    <tr>\n",
       "      <th>3</th>\n",
       "      <td>4</td>\n",
       "      <td>0.952997</td>\n",
       "    </tr>\n",
       "    <tr>\n",
       "      <th>0</th>\n",
       "      <td>1</td>\n",
       "      <td>0.950881</td>\n",
       "    </tr>\n",
       "    <tr>\n",
       "      <th>14</th>\n",
       "      <td>15</td>\n",
       "      <td>0.950820</td>\n",
       "    </tr>\n",
       "    <tr>\n",
       "      <th>2</th>\n",
       "      <td>3</td>\n",
       "      <td>0.949063</td>\n",
       "    </tr>\n",
       "    <tr>\n",
       "      <th>10</th>\n",
       "      <td>11</td>\n",
       "      <td>0.945000</td>\n",
       "    </tr>\n",
       "    <tr>\n",
       "      <th>13</th>\n",
       "      <td>14</td>\n",
       "      <td>0.944444</td>\n",
       "    </tr>\n",
       "    <tr>\n",
       "      <th>15</th>\n",
       "      <td>16</td>\n",
       "      <td>0.941935</td>\n",
       "    </tr>\n",
       "    <tr>\n",
       "      <th>17</th>\n",
       "      <td>18</td>\n",
       "      <td>0.938272</td>\n",
       "    </tr>\n",
       "    <tr>\n",
       "      <th>16</th>\n",
       "      <td>17</td>\n",
       "      <td>0.936364</td>\n",
       "    </tr>\n",
       "    <tr>\n",
       "      <th>11</th>\n",
       "      <td>12</td>\n",
       "      <td>0.923810</td>\n",
       "    </tr>\n",
       "    <tr>\n",
       "      <th>9</th>\n",
       "      <td>10</td>\n",
       "      <td>0.880000</td>\n",
       "    </tr>\n",
       "  </tbody>\n",
       "</table>\n",
       "</div>"
      ],
      "text/plain": [
       "    X_6  MULTIPLE_OFFENSE\n",
       "18   19          1.000000\n",
       "8     9          0.969219\n",
       "6     7          0.963692\n",
       "1     2          0.962576\n",
       "5     6          0.957779\n",
       "4     5          0.957447\n",
       "12   13          0.956835\n",
       "7     8          0.953737\n",
       "3     4          0.952997\n",
       "0     1          0.950881\n",
       "14   15          0.950820\n",
       "2     3          0.949063\n",
       "10   11          0.945000\n",
       "13   14          0.944444\n",
       "15   16          0.941935\n",
       "17   18          0.938272\n",
       "16   17          0.936364\n",
       "11   12          0.923810\n",
       "9    10          0.880000"
      ]
     },
     "execution_count": 81,
     "metadata": {},
     "output_type": "execute_result"
    }
   ],
   "source": [
    "## Below table describes which level of X_6 have more 1 of MULTIPLE_OFFENSE column.\n",
    "train[[\"X_6\", \"MULTIPLE_OFFENSE\"]].groupby(['X_6'], as_index=False).mean().sort_values(by='MULTIPLE_OFFENSE', ascending=False)"
   ]
  },
  {
   "cell_type": "code",
   "execution_count": 82,
   "metadata": {},
   "outputs": [
    {
     "name": "stderr",
     "output_type": "stream",
     "text": [
      "C:\\Users\\nagar\\Anaconda3\\lib\\site-packages\\scipy\\stats\\stats.py:1713: FutureWarning: Using a non-tuple sequence for multidimensional indexing is deprecated; use `arr[tuple(seq)]` instead of `arr[seq]`. In the future this will be interpreted as an array index, `arr[np.array(seq)]`, which will result either in an error or a different result.\n",
      "  return np.add.reduce(sorted[indexer] * weights, axis=axis) / sumval\n"
     ]
    },
    {
     "data": {
      "image/png": "[encoded data removed]",
      "text/plain": [
       "<Figure size 432x288 with 1 Axes>"
      ]
     },
     "metadata": {},
     "output_type": "display_data"
    }
   ],
   "source": [
    "## Below barplot  describes which level of X_6 have more 1 of MULTIPLE_OFFENSE column.\n",
    "sns.barplot(train['X_6'],train['MULTIPLE_OFFENSE']);"
   ]
  },
  {
   "cell_type": "code",
   "execution_count": 83,
   "metadata": {},
   "outputs": [
    {
     "data": {
      "text/html": [
       "<div>\n",
       "<style scoped>\n",
       "    .dataframe tbody tr th:only-of-type {\n",
       "        vertical-align: middle;\n",
       "    }\n",
       "\n",
       "    .dataframe tbody tr th {\n",
       "        vertical-align: top;\n",
       "    }\n",
       "\n",
       "    .dataframe thead th {\n",
       "        text-align: right;\n",
       "    }\n",
       "</style>\n",
       "<table border=\"1\" class=\"dataframe\">\n",
       "  <thead>\n",
       "    <tr style=\"text-align: right;\">\n",
       "      <th></th>\n",
       "      <th>X_7</th>\n",
       "      <th>MULTIPLE_OFFENSE</th>\n",
       "    </tr>\n",
       "  </thead>\n",
       "  <tbody>\n",
       "    <tr>\n",
       "      <th>9</th>\n",
       "      <td>9</td>\n",
       "      <td>1.000000</td>\n",
       "    </tr>\n",
       "    <tr>\n",
       "      <th>8</th>\n",
       "      <td>8</td>\n",
       "      <td>0.969219</td>\n",
       "    </tr>\n",
       "    <tr>\n",
       "      <th>1</th>\n",
       "      <td>1</td>\n",
       "      <td>0.963692</td>\n",
       "    </tr>\n",
       "    <tr>\n",
       "      <th>7</th>\n",
       "      <td>7</td>\n",
       "      <td>0.962576</td>\n",
       "    </tr>\n",
       "    <tr>\n",
       "      <th>4</th>\n",
       "      <td>4</td>\n",
       "      <td>0.957779</td>\n",
       "    </tr>\n",
       "    <tr>\n",
       "      <th>6</th>\n",
       "      <td>6</td>\n",
       "      <td>0.957447</td>\n",
       "    </tr>\n",
       "    <tr>\n",
       "      <th>18</th>\n",
       "      <td>18</td>\n",
       "      <td>0.956835</td>\n",
       "    </tr>\n",
       "    <tr>\n",
       "      <th>3</th>\n",
       "      <td>3</td>\n",
       "      <td>0.953737</td>\n",
       "    </tr>\n",
       "    <tr>\n",
       "      <th>2</th>\n",
       "      <td>2</td>\n",
       "      <td>0.952997</td>\n",
       "    </tr>\n",
       "    <tr>\n",
       "      <th>0</th>\n",
       "      <td>0</td>\n",
       "      <td>0.950881</td>\n",
       "    </tr>\n",
       "    <tr>\n",
       "      <th>10</th>\n",
       "      <td>10</td>\n",
       "      <td>0.950820</td>\n",
       "    </tr>\n",
       "    <tr>\n",
       "      <th>5</th>\n",
       "      <td>5</td>\n",
       "      <td>0.949063</td>\n",
       "    </tr>\n",
       "    <tr>\n",
       "      <th>17</th>\n",
       "      <td>17</td>\n",
       "      <td>0.945000</td>\n",
       "    </tr>\n",
       "    <tr>\n",
       "      <th>14</th>\n",
       "      <td>14</td>\n",
       "      <td>0.944444</td>\n",
       "    </tr>\n",
       "    <tr>\n",
       "      <th>12</th>\n",
       "      <td>12</td>\n",
       "      <td>0.941935</td>\n",
       "    </tr>\n",
       "    <tr>\n",
       "      <th>13</th>\n",
       "      <td>13</td>\n",
       "      <td>0.938272</td>\n",
       "    </tr>\n",
       "    <tr>\n",
       "      <th>11</th>\n",
       "      <td>11</td>\n",
       "      <td>0.936364</td>\n",
       "    </tr>\n",
       "    <tr>\n",
       "      <th>16</th>\n",
       "      <td>16</td>\n",
       "      <td>0.923810</td>\n",
       "    </tr>\n",
       "    <tr>\n",
       "      <th>15</th>\n",
       "      <td>15</td>\n",
       "      <td>0.880000</td>\n",
       "    </tr>\n",
       "  </tbody>\n",
       "</table>\n",
       "</div>"
      ],
      "text/plain": [
       "    X_7  MULTIPLE_OFFENSE\n",
       "9     9          1.000000\n",
       "8     8          0.969219\n",
       "1     1          0.963692\n",
       "7     7          0.962576\n",
       "4     4          0.957779\n",
       "6     6          0.957447\n",
       "18   18          0.956835\n",
       "3     3          0.953737\n",
       "2     2          0.952997\n",
       "0     0          0.950881\n",
       "10   10          0.950820\n",
       "5     5          0.949063\n",
       "17   17          0.945000\n",
       "14   14          0.944444\n",
       "12   12          0.941935\n",
       "13   13          0.938272\n",
       "11   11          0.936364\n",
       "16   16          0.923810\n",
       "15   15          0.880000"
      ]
     },
     "execution_count": 83,
     "metadata": {},
     "output_type": "execute_result"
    }
   ],
   "source": [
    "## Below table describes which level of X_7 have more 1 of MULTIPLE_OFFENSE column.\n",
    "train[[\"X_7\", \"MULTIPLE_OFFENSE\"]].groupby(['X_7'], as_index=False).mean().sort_values(by='MULTIPLE_OFFENSE', ascending=False)"
   ]
  },
  {
   "cell_type": "code",
   "execution_count": 84,
   "metadata": {},
   "outputs": [
    {
     "name": "stderr",
     "output_type": "stream",
     "text": [
      "C:\\Users\\nagar\\Anaconda3\\lib\\site-packages\\scipy\\stats\\stats.py:1713: FutureWarning: Using a non-tuple sequence for multidimensional indexing is deprecated; use `arr[tuple(seq)]` instead of `arr[seq]`. In the future this will be interpreted as an array index, `arr[np.array(seq)]`, which will result either in an error or a different result.\n",
      "  return np.add.reduce(sorted[indexer] * weights, axis=axis) / sumval\n"
     ]
    },
    {
     "data": {
      "image/png": "[encoded data removed]",
      "text/plain": [
       "<Figure size 432x288 with 1 Axes>"
      ]
     },
     "metadata": {},
     "output_type": "display_data"
    }
   ],
   "source": [
    "## Below barplot  describes which level of X_7 have more 1 of MULTIPLE_OFFENSE column.\n",
    "sns.barplot(train['X_7'],train['MULTIPLE_OFFENSE']);"
   ]
  },
  {
   "cell_type": "code",
   "execution_count": 85,
   "metadata": {},
   "outputs": [
    {
     "data": {
      "text/html": [
       "<div>\n",
       "<style scoped>\n",
       "    .dataframe tbody tr th:only-of-type {\n",
       "        vertical-align: middle;\n",
       "    }\n",
       "\n",
       "    .dataframe tbody tr th {\n",
       "        vertical-align: top;\n",
       "    }\n",
       "\n",
       "    .dataframe thead th {\n",
       "        text-align: right;\n",
       "    }\n",
       "</style>\n",
       "<table border=\"1\" class=\"dataframe\">\n",
       "  <thead>\n",
       "    <tr style=\"text-align: right;\">\n",
       "      <th></th>\n",
       "      <th>month</th>\n",
       "      <th>MULTIPLE_OFFENSE</th>\n",
       "    </tr>\n",
       "  </thead>\n",
       "  <tbody>\n",
       "    <tr>\n",
       "      <th>8</th>\n",
       "      <td>9</td>\n",
       "      <td>0.965939</td>\n",
       "    </tr>\n",
       "    <tr>\n",
       "      <th>1</th>\n",
       "      <td>2</td>\n",
       "      <td>0.959767</td>\n",
       "    </tr>\n",
       "    <tr>\n",
       "      <th>10</th>\n",
       "      <td>11</td>\n",
       "      <td>0.958446</td>\n",
       "    </tr>\n",
       "    <tr>\n",
       "      <th>6</th>\n",
       "      <td>7</td>\n",
       "      <td>0.957348</td>\n",
       "    </tr>\n",
       "    <tr>\n",
       "      <th>2</th>\n",
       "      <td>3</td>\n",
       "      <td>0.957286</td>\n",
       "    </tr>\n",
       "    <tr>\n",
       "      <th>7</th>\n",
       "      <td>8</td>\n",
       "      <td>0.956398</td>\n",
       "    </tr>\n",
       "    <tr>\n",
       "      <th>9</th>\n",
       "      <td>10</td>\n",
       "      <td>0.955098</td>\n",
       "    </tr>\n",
       "    <tr>\n",
       "      <th>5</th>\n",
       "      <td>6</td>\n",
       "      <td>0.954094</td>\n",
       "    </tr>\n",
       "    <tr>\n",
       "      <th>3</th>\n",
       "      <td>4</td>\n",
       "      <td>0.952696</td>\n",
       "    </tr>\n",
       "    <tr>\n",
       "      <th>11</th>\n",
       "      <td>12</td>\n",
       "      <td>0.949164</td>\n",
       "    </tr>\n",
       "    <tr>\n",
       "      <th>0</th>\n",
       "      <td>1</td>\n",
       "      <td>0.947671</td>\n",
       "    </tr>\n",
       "    <tr>\n",
       "      <th>4</th>\n",
       "      <td>5</td>\n",
       "      <td>0.946312</td>\n",
       "    </tr>\n",
       "  </tbody>\n",
       "</table>\n",
       "</div>"
      ],
      "text/plain": [
       "    month  MULTIPLE_OFFENSE\n",
       "8       9          0.965939\n",
       "1       2          0.959767\n",
       "10     11          0.958446\n",
       "6       7          0.957348\n",
       "2       3          0.957286\n",
       "7       8          0.956398\n",
       "9      10          0.955098\n",
       "5       6          0.954094\n",
       "3       4          0.952696\n",
       "11     12          0.949164\n",
       "0       1          0.947671\n",
       "4       5          0.946312"
      ]
     },
     "execution_count": 85,
     "metadata": {},
     "output_type": "execute_result"
    }
   ],
   "source": [
    "## Below table describes which month have more 1 of MULTIPLE_OFFENSE column.\n",
    "train[[\"month\", \"MULTIPLE_OFFENSE\"]].groupby(['month'], as_index=False).mean().sort_values(by='MULTIPLE_OFFENSE', ascending=False)"
   ]
  },
  {
   "cell_type": "code",
   "execution_count": 86,
   "metadata": {},
   "outputs": [
    {
     "name": "stderr",
     "output_type": "stream",
     "text": [
      "C:\\Users\\nagar\\Anaconda3\\lib\\site-packages\\scipy\\stats\\stats.py:1713: FutureWarning: Using a non-tuple sequence for multidimensional indexing is deprecated; use `arr[tuple(seq)]` instead of `arr[seq]`. In the future this will be interpreted as an array index, `arr[np.array(seq)]`, which will result either in an error or a different result.\n",
      "  return np.add.reduce(sorted[indexer] * weights, axis=axis) / sumval\n"
     ]
    },
    {
     "data": {
      "image/png": "[encoded data removed]",
      "text/plain": [
       "<Figure size 432x288 with 1 Axes>"
      ]
     },
     "metadata": {},
     "output_type": "display_data"
    }
   ],
   "source": [
    "## Below barplot  describes which month have more 1 of MULTIPLE_OFFENSE column.\n",
    "sns.barplot(train['month'],train['MULTIPLE_OFFENSE']);"
   ]
  },
  {
   "cell_type": "code",
   "execution_count": 87,
   "metadata": {},
   "outputs": [
    {
     "data": {
      "text/plain": [
       "<matplotlib.axes._subplots.AxesSubplot at 0x24ebb1a5ba8>"
      ]
     },
     "execution_count": 87,
     "metadata": {},
     "output_type": "execute_result"
    },
    {
     "data": {
      "image/png": "[encoded data removed]",
      "text/plain": [
       "<Figure size 432x288 with 1 Axes>"
      ]
     },
     "metadata": {},
     "output_type": "display_data"
    }
   ],
   "source": [
    "## Below figure explains month counts with respect to MULTIPLE_OFFENSE.\n",
    "sns.countplot(x = 'MULTIPLE_OFFENSE', hue = 'month', data = train)"
   ]
  },
  {
   "cell_type": "code",
   "execution_count": 88,
   "metadata": {
    "scrolled": true
   },
   "outputs": [
    {
     "data": {
      "image/png": "[encoded data removed]",
      "text/plain": [
       "<Figure size 1152x288 with 1 Axes>"
      ]
     },
     "metadata": {},
     "output_type": "display_data"
    }
   ],
   "source": [
    "## visualize missing train data. \n",
    "missing_value = train.isnull().sum().sort_values(ascending=False) / len(train) * 100\n",
    "missing_value = missing_value[missing_value != 0]\n",
    "missing_value = pd.DataFrame({'Missing value' :missing_value,'Type':missing_value.index.map(lambda x:train[x].dtype)})\n",
    "missing_value.plot(kind='bar',figsize=(16,4))\n",
    "plt.show()"
   ]
  },
  {
   "cell_type": "code",
   "execution_count": 89,
   "metadata": {
    "scrolled": true
   },
   "outputs": [
    {
     "data": {
      "image/png": "[encoded data removed]",
      "text/plain": [
       "<Figure size 1152x288 with 1 Axes>"
      ]
     },
     "metadata": {},
     "output_type": "display_data"
    }
   ],
   "source": [
    "## visualize missing test data.\n",
    "missing_value = test.isnull().sum().sort_values(ascending=False) / len(test) * 100\n",
    "missing_value = missing_value[missing_value != 0]\n",
    "missing_value = pd.DataFrame({'Missing value' :missing_value,'Type':missing_value.index.map(lambda x:test[x].dtype)})\n",
    "missing_value.plot(kind='bar',figsize=(16,4))\n",
    "plt.show()"
   ]
  },
  {
   "cell_type": "code",
   "execution_count": 90,
   "metadata": {
    "scrolled": true
   },
   "outputs": [
    {
     "data": {
      "text/plain": [
       "1    22788\n",
       "0     1068\n",
       "Name: MULTIPLE_OFFENSE, dtype: int64"
      ]
     },
     "execution_count": 90,
     "metadata": {},
     "output_type": "execute_result"
    }
   ],
   "source": [
    "## Get 0 & 1 counts for MULTIPLE_OFFENSE column of train data.\n",
    "train['MULTIPLE_OFFENSE'].value_counts()"
   ]
  },
  {
   "cell_type": "code",
   "execution_count": 91,
   "metadata": {
    "scrolled": false
   },
   "outputs": [
    {
     "data": {
      "text/plain": [
       "<matplotlib.axes._subplots.AxesSubplot at 0x24ebb93ecf8>"
      ]
     },
     "execution_count": 91,
     "metadata": {},
     "output_type": "execute_result"
    },
    {
     "data": {
      "image/png": "[encoded data removed]",
      "text/plain": [
       "<Figure size 432x288 with 1 Axes>"
      ]
     },
     "metadata": {},
     "output_type": "display_data"
    }
   ],
   "source": [
    "## Visualize different levels count for MULTIPLE_OFFENSE column of train data.\n",
    "sns.countplot(train['MULTIPLE_OFFENSE'])"
   ]
  },
  {
   "cell_type": "code",
   "execution_count": 92,
   "metadata": {
    "scrolled": true
   },
   "outputs": [
    {
     "data": {
      "text/plain": [
       "0    19036\n",
       "1     3497\n",
       "7      876\n",
       "5      270\n",
       "3      136\n",
       "4       26\n",
       "2       10\n",
       "6        5\n",
       "Name: X_1, dtype: int64"
      ]
     },
     "execution_count": 92,
     "metadata": {},
     "output_type": "execute_result"
    }
   ],
   "source": [
    "## Get different level counts for X_1 column of train data.\n",
    "train['X_1'].value_counts()"
   ]
  },
  {
   "cell_type": "code",
   "execution_count": 93,
   "metadata": {
    "scrolled": true
   },
   "outputs": [
    {
     "data": {
      "text/plain": [
       "<matplotlib.axes._subplots.AxesSubplot at 0x24ebc3ef198>"
      ]
     },
     "execution_count": 93,
     "metadata": {},
     "output_type": "execute_result"
    },
    {
     "data": {
      "image/png": "[encoded data removed]",
      "text/plain": [
       "<Figure size 432x288 with 1 Axes>"
      ]
     },
     "metadata": {},
     "output_type": "display_data"
    }
   ],
   "source": [
    "## Visualize different levels count for X_1 column of train data.\n",
    "sns.countplot(train['X_1'])"
   ]
  },
  {
   "cell_type": "code",
   "execution_count": 94,
   "metadata": {
    "scrolled": true
   },
   "outputs": [
    {
     "data": {
      "text/plain": [
       "0    12778\n",
       "1     2264\n",
       "7      550\n",
       "5      188\n",
       "3       92\n",
       "4       22\n",
       "2        7\n",
       "6        2\n",
       "Name: X_1, dtype: int64"
      ]
     },
     "execution_count": 94,
     "metadata": {},
     "output_type": "execute_result"
    }
   ],
   "source": [
    "## Get different level counts for X_1 column of test data.\n",
    "test['X_1'].value_counts()"
   ]
  },
  {
   "cell_type": "code",
   "execution_count": 95,
   "metadata": {},
   "outputs": [
    {
     "data": {
      "text/plain": [
       "<matplotlib.axes._subplots.AxesSubplot at 0x24ebc4a7208>"
      ]
     },
     "execution_count": 95,
     "metadata": {},
     "output_type": "execute_result"
    },
    {
     "data": {
      "image/png": "[encoded data removed]",
      "text/plain": [
       "<Figure size 432x288 with 1 Axes>"
      ]
     },
     "metadata": {},
     "output_type": "display_data"
    }
   ],
   "source": [
    "## Visualize different levels count for X_1 column of test data.\n",
    "sns.countplot(test['X_1'])"
   ]
  },
  {
   "cell_type": "code",
   "execution_count": 96,
   "metadata": {
    "scrolled": false
   },
   "outputs": [
    {
     "data": {
      "text/plain": [
       "6     5497\n",
       "2     4791\n",
       "0     3335\n",
       "7     2890\n",
       "4     2027\n",
       "3     1871\n",
       "9     1360\n",
       "10    1242\n",
       "1      841\n",
       "5        2\n",
       "Name: X_4, dtype: int64"
      ]
     },
     "execution_count": 96,
     "metadata": {},
     "output_type": "execute_result"
    }
   ],
   "source": [
    "## Get different level counts for X_4 column of train data.\n",
    "train['X_4'].value_counts()"
   ]
  },
  {
   "cell_type": "code",
   "execution_count": 97,
   "metadata": {
    "scrolled": true
   },
   "outputs": [
    {
     "data": {
      "text/plain": [
       "<matplotlib.axes._subplots.AxesSubplot at 0x24ebc51e908>"
      ]
     },
     "execution_count": 97,
     "metadata": {},
     "output_type": "execute_result"
    },
    {
     "data": {
      "image/png": "[encoded data removed]",
      "text/plain": [
       "<Figure size 432x288 with 1 Axes>"
      ]
     },
     "metadata": {},
     "output_type": "display_data"
    }
   ],
   "source": [
    "## Visualize different levels count for X_4 column of train data.\n",
    "sns.countplot(train['X_4'])"
   ]
  },
  {
   "cell_type": "code",
   "execution_count": 98,
   "metadata": {},
   "outputs": [
    {
     "data": {
      "text/plain": [
       "6     3581\n",
       "2     3092\n",
       "0     2253\n",
       "7     1891\n",
       "4     1342\n",
       "3     1289\n",
       "9      960\n",
       "10     871\n",
       "1      620\n",
       "5        4\n",
       "Name: X_4, dtype: int64"
      ]
     },
     "execution_count": 98,
     "metadata": {},
     "output_type": "execute_result"
    }
   ],
   "source": [
    "## Get different level counts for X_4 column of test data.\n",
    "test['X_4'].value_counts()"
   ]
  },
  {
   "cell_type": "code",
   "execution_count": 99,
   "metadata": {},
   "outputs": [
    {
     "data": {
      "text/plain": [
       "<matplotlib.axes._subplots.AxesSubplot at 0x24ebc5a1588>"
      ]
     },
     "execution_count": 99,
     "metadata": {},
     "output_type": "execute_result"
    },
    {
     "data": {
      "image/png": "[encoded data removed]",
      "text/plain": [
       "<Figure size 432x288 with 1 Axes>"
      ]
     },
     "metadata": {},
     "output_type": "display_data"
    }
   ],
   "source": [
    "## Visualize different levels count for X_4 column of test data.\n",
    "sns.countplot(test['X_4'])"
   ]
  },
  {
   "cell_type": "code",
   "execution_count": 100,
   "metadata": {
    "scrolled": true
   },
   "outputs": [
    {
     "data": {
      "text/plain": [
       "5    7368\n",
       "1    6818\n",
       "3    4973\n",
       "0    4695\n",
       "2       2\n",
       "Name: X_5, dtype: int64"
      ]
     },
     "execution_count": 100,
     "metadata": {},
     "output_type": "execute_result"
    }
   ],
   "source": [
    "## Get different level counts for X_5 column of train data.\n",
    "train['X_5'].value_counts()"
   ]
  },
  {
   "cell_type": "code",
   "execution_count": 101,
   "metadata": {
    "scrolled": false
   },
   "outputs": [
    {
     "data": {
      "text/plain": [
       "<matplotlib.axes._subplots.AxesSubplot at 0x24ebc6099e8>"
      ]
     },
     "execution_count": 101,
     "metadata": {},
     "output_type": "execute_result"
    },
    {
     "data": {
      "image/png": "[encoded data removed]",
      "text/plain": [
       "<Figure size 432x288 with 1 Axes>"
      ]
     },
     "metadata": {},
     "output_type": "display_data"
    }
   ],
   "source": [
    "## Visualize different levels count for X_5 column of train data.\n",
    "sns.countplot(train['X_5'])"
   ]
  },
  {
   "cell_type": "code",
   "execution_count": 102,
   "metadata": {},
   "outputs": [
    {
     "data": {
      "text/plain": [
       "5    4870\n",
       "1    4434\n",
       "3    3382\n",
       "0    3213\n",
       "2       4\n",
       "Name: X_5, dtype: int64"
      ]
     },
     "execution_count": 102,
     "metadata": {},
     "output_type": "execute_result"
    }
   ],
   "source": [
    "## Get different level counts for X_5 column of test data.\n",
    "test['X_5'].value_counts()"
   ]
  },
  {
   "cell_type": "code",
   "execution_count": 103,
   "metadata": {},
   "outputs": [
    {
     "data": {
      "text/plain": [
       "<matplotlib.axes._subplots.AxesSubplot at 0x24ebc67fac8>"
      ]
     },
     "execution_count": 103,
     "metadata": {},
     "output_type": "execute_result"
    },
    {
     "data": {
      "image/png": "[encoded data removed]",
      "text/plain": [
       "<Figure size 432x288 with 1 Axes>"
      ]
     },
     "metadata": {},
     "output_type": "display_data"
    }
   ],
   "source": [
    "## Visualize different levels count for X_5 column of test data.\n",
    "sns.countplot(test['X_5'])"
   ]
  },
  {
   "cell_type": "code",
   "execution_count": 104,
   "metadata": {
    "scrolled": true
   },
   "outputs": [
    {
     "data": {
      "text/plain": [
       "1     3461\n",
       "5     2679\n",
       "6     2629\n",
       "4     2319\n",
       "15    2318\n",
       "2     2298\n",
       "7     2286\n",
       "3     1708\n",
       "8     1405\n",
       "9     1267\n",
       "16     620\n",
       "12     210\n",
       "11     200\n",
       "18     162\n",
       "13     139\n",
       "17     110\n",
       "10      25\n",
       "14      18\n",
       "19       2\n",
       "Name: X_6, dtype: int64"
      ]
     },
     "execution_count": 104,
     "metadata": {},
     "output_type": "execute_result"
    }
   ],
   "source": [
    "## Get different level counts for X_6 column of train data.\n",
    "train['X_6'].value_counts()"
   ]
  },
  {
   "cell_type": "code",
   "execution_count": 105,
   "metadata": {
    "scrolled": false
   },
   "outputs": [
    {
     "data": {
      "text/plain": [
       "<matplotlib.axes._subplots.AxesSubplot at 0x24ebc6f1908>"
      ]
     },
     "execution_count": 105,
     "metadata": {},
     "output_type": "execute_result"
    },
    {
     "data": {
      "image/png": "[encoded data removed]",
      "text/plain": [
       "<Figure size 432x288 with 1 Axes>"
      ]
     },
     "metadata": {},
     "output_type": "display_data"
    }
   ],
   "source": [
    "## Visualize different levels count for X_6 column of train data.\n",
    "sns.countplot(train['X_6'])"
   ]
  },
  {
   "cell_type": "code",
   "execution_count": 106,
   "metadata": {},
   "outputs": [
    {
     "data": {
      "text/plain": [
       "1     2333\n",
       "5     1797\n",
       "6     1761\n",
       "2     1565\n",
       "4     1550\n",
       "15    1504\n",
       "7     1442\n",
       "3     1201\n",
       "8      951\n",
       "9      831\n",
       "16     406\n",
       "12     129\n",
       "11     127\n",
       "18     102\n",
       "13     101\n",
       "17      73\n",
       "10      14\n",
       "14      13\n",
       "19       3\n",
       "Name: X_6, dtype: int64"
      ]
     },
     "execution_count": 106,
     "metadata": {},
     "output_type": "execute_result"
    }
   ],
   "source": [
    "## Get different level counts for X_6 column of test data.\n",
    "test['X_6'].value_counts()"
   ]
  },
  {
   "cell_type": "code",
   "execution_count": 107,
   "metadata": {},
   "outputs": [
    {
     "data": {
      "text/plain": [
       "<matplotlib.axes._subplots.AxesSubplot at 0x24ebc615ba8>"
      ]
     },
     "execution_count": 107,
     "metadata": {},
     "output_type": "execute_result"
    },
    {
     "data": {
      "image/png": "[encoded data removed]",
      "text/plain": [
       "<Figure size 432x288 with 1 Axes>"
      ]
     },
     "metadata": {},
     "output_type": "display_data"
    }
   ],
   "source": [
    "## Visualize different levels count for X_6 column of test data.\n",
    "sns.countplot(test['X_6'])"
   ]
  },
  {
   "cell_type": "code",
   "execution_count": 108,
   "metadata": {
    "scrolled": true
   },
   "outputs": [
    {
     "data": {
      "text/plain": [
       "0     3461\n",
       "6     2679\n",
       "4     2629\n",
       "2     2319\n",
       "10    2318\n",
       "7     2298\n",
       "1     2286\n",
       "5     1708\n",
       "3     1405\n",
       "8     1267\n",
       "12     620\n",
       "16     210\n",
       "17     200\n",
       "13     162\n",
       "18     139\n",
       "11     110\n",
       "15      25\n",
       "14      18\n",
       "9        2\n",
       "Name: X_7, dtype: int64"
      ]
     },
     "execution_count": 108,
     "metadata": {},
     "output_type": "execute_result"
    }
   ],
   "source": [
    "## Get different level counts for X_7 column of train data.\n",
    "train['X_7'].value_counts()"
   ]
  },
  {
   "cell_type": "code",
   "execution_count": 109,
   "metadata": {
    "scrolled": true
   },
   "outputs": [
    {
     "data": {
      "text/plain": [
       "<matplotlib.axes._subplots.AxesSubplot at 0x24ebb183470>"
      ]
     },
     "execution_count": 109,
     "metadata": {},
     "output_type": "execute_result"
    },
    {
     "data": {
      "image/png": "[encoded data removed]",
      "text/plain": [
       "<Figure size 432x288 with 1 Axes>"
      ]
     },
     "metadata": {},
     "output_type": "display_data"
    }
   ],
   "source": [
    "## Visualize different levels count for X_7 column of train data.\n",
    "sns.countplot(train['X_7'])"
   ]
  },
  {
   "cell_type": "code",
   "execution_count": 110,
   "metadata": {},
   "outputs": [
    {
     "data": {
      "text/plain": [
       "0     2333\n",
       "6     1797\n",
       "4     1761\n",
       "7     1565\n",
       "2     1550\n",
       "10    1504\n",
       "1     1442\n",
       "5     1201\n",
       "3      951\n",
       "8      831\n",
       "12     406\n",
       "16     129\n",
       "17     127\n",
       "13     102\n",
       "18     101\n",
       "11      73\n",
       "15      14\n",
       "14      13\n",
       "9        3\n",
       "Name: X_7, dtype: int64"
      ]
     },
     "execution_count": 110,
     "metadata": {},
     "output_type": "execute_result"
    }
   ],
   "source": [
    "## Get different level counts for X_7 column of test data.\n",
    "test['X_7'].value_counts()"
   ]
  },
  {
   "cell_type": "code",
   "execution_count": 111,
   "metadata": {},
   "outputs": [
    {
     "data": {
      "text/plain": [
       "<matplotlib.axes._subplots.AxesSubplot at 0x24ebb6625c0>"
      ]
     },
     "execution_count": 111,
     "metadata": {},
     "output_type": "execute_result"
    },
    {
     "data": {
      "image/png": "[encoded data removed]",
      "text/plain": [
       "<Figure size 432x288 with 1 Axes>"
      ]
     },
     "metadata": {},
     "output_type": "display_data"
    }
   ],
   "source": [
    "## Visualize different levels count for X_7 column of test data.\n",
    "sns.countplot(test['X_7'])"
   ]
  },
  {
   "cell_type": "code",
   "execution_count": 112,
   "metadata": {},
   "outputs": [
    {
     "data": {
      "text/plain": [
       "5    10559\n",
       "6     9508\n",
       "2     3040\n",
       "3      452\n",
       "1      175\n",
       "0      118\n",
       "4        4\n",
       "Name: X_9, dtype: int64"
      ]
     },
     "execution_count": 112,
     "metadata": {},
     "output_type": "execute_result"
    }
   ],
   "source": [
    "## Get different level counts for X_9 column of train data.\n",
    "train['X_9'].value_counts()"
   ]
  },
  {
   "cell_type": "code",
   "execution_count": 113,
   "metadata": {
    "scrolled": true
   },
   "outputs": [
    {
     "data": {
      "text/plain": [
       "<matplotlib.axes._subplots.AxesSubplot at 0x24eb8a50da0>"
      ]
     },
     "execution_count": 113,
     "metadata": {},
     "output_type": "execute_result"
    },
    {
     "data": {
      "image/png": "[encoded data removed]",
      "text/plain": [
       "<Figure size 432x288 with 1 Axes>"
      ]
     },
     "metadata": {},
     "output_type": "display_data"
    }
   ],
   "source": [
    "## Visualize different levels count for X_9 column of train data.\n",
    "sns.countplot(train['X_9'])"
   ]
  },
  {
   "cell_type": "code",
   "execution_count": 114,
   "metadata": {
    "scrolled": false
   },
   "outputs": [
    {
     "data": {
      "text/plain": [
       "9     2290\n",
       "7     2157\n",
       "5     2142\n",
       "10    2138\n",
       "4     2114\n",
       "6     2113\n",
       "8     2110\n",
       "3     1990\n",
       "11    1853\n",
       "1     1739\n",
       "2     1715\n",
       "12    1495\n",
       "Name: month, dtype: int64"
      ]
     },
     "execution_count": 114,
     "metadata": {},
     "output_type": "execute_result"
    }
   ],
   "source": [
    "## Get different level counts for month column of train data.\n",
    "train['month'].value_counts()"
   ]
  },
  {
   "cell_type": "code",
   "execution_count": 115,
   "metadata": {
    "scrolled": true
   },
   "outputs": [
    {
     "data": {
      "text/plain": [
       "<matplotlib.axes._subplots.AxesSubplot at 0x24ebc7b3438>"
      ]
     },
     "execution_count": 115,
     "metadata": {},
     "output_type": "execute_result"
    },
    {
     "data": {
      "image/png": "[encoded data removed]",
      "text/plain": [
       "<Figure size 432x288 with 1 Axes>"
      ]
     },
     "metadata": {},
     "output_type": "display_data"
    }
   ],
   "source": [
    "## Visualize different levels count for month column of train data.\n",
    "sns.countplot(train['month'])"
   ]
  },
  {
   "cell_type": "code",
   "execution_count": 116,
   "metadata": {},
   "outputs": [
    {
     "data": {
      "text/html": [
       "<div>\n",
       "<style scoped>\n",
       "    .dataframe tbody tr th:only-of-type {\n",
       "        vertical-align: middle;\n",
       "    }\n",
       "\n",
       "    .dataframe tbody tr th {\n",
       "        vertical-align: top;\n",
       "    }\n",
       "\n",
       "    .dataframe thead th {\n",
       "        text-align: right;\n",
       "    }\n",
       "</style>\n",
       "<table border=\"1\" class=\"dataframe\">\n",
       "  <thead>\n",
       "    <tr style=\"text-align: right;\">\n",
       "      <th></th>\n",
       "      <th>X_1</th>\n",
       "      <th>X_2</th>\n",
       "      <th>X_3</th>\n",
       "      <th>X_4</th>\n",
       "      <th>X_5</th>\n",
       "      <th>X_6</th>\n",
       "      <th>X_7</th>\n",
       "      <th>X_8</th>\n",
       "      <th>X_9</th>\n",
       "      <th>X_10</th>\n",
       "      <th>X_11</th>\n",
       "      <th>X_12</th>\n",
       "      <th>X_13</th>\n",
       "      <th>X_14</th>\n",
       "      <th>X_15</th>\n",
       "      <th>MULTIPLE_OFFENSE</th>\n",
       "      <th>year</th>\n",
       "      <th>month</th>\n",
       "      <th>day</th>\n",
       "    </tr>\n",
       "  </thead>\n",
       "  <tbody>\n",
       "    <tr>\n",
       "      <th>X_1</th>\n",
       "      <td>1.000000</td>\n",
       "      <td>0.021999</td>\n",
       "      <td>0.022603</td>\n",
       "      <td>0.002137</td>\n",
       "      <td>-0.034220</td>\n",
       "      <td>0.409876</td>\n",
       "      <td>0.421454</td>\n",
       "      <td>-0.061897</td>\n",
       "      <td>0.017984</td>\n",
       "      <td>0.004155</td>\n",
       "      <td>-0.003078</td>\n",
       "      <td>-0.034835</td>\n",
       "      <td>0.111611</td>\n",
       "      <td>-0.012708</td>\n",
       "      <td>-0.012132</td>\n",
       "      <td>0.014034</td>\n",
       "      <td>0.007982</td>\n",
       "      <td>0.014748</td>\n",
       "      <td>-0.010353</td>\n",
       "    </tr>\n",
       "    <tr>\n",
       "      <th>X_2</th>\n",
       "      <td>0.021999</td>\n",
       "      <td>1.000000</td>\n",
       "      <td>0.996985</td>\n",
       "      <td>-0.104321</td>\n",
       "      <td>-0.349190</td>\n",
       "      <td>0.119718</td>\n",
       "      <td>0.058806</td>\n",
       "      <td>-0.038174</td>\n",
       "      <td>-0.017749</td>\n",
       "      <td>-0.016710</td>\n",
       "      <td>0.038003</td>\n",
       "      <td>-0.067720</td>\n",
       "      <td>0.046668</td>\n",
       "      <td>0.015194</td>\n",
       "      <td>0.013822</td>\n",
       "      <td>-0.027293</td>\n",
       "      <td>-0.006115</td>\n",
       "      <td>0.019820</td>\n",
       "      <td>0.007042</td>\n",
       "    </tr>\n",
       "    <tr>\n",
       "      <th>X_3</th>\n",
       "      <td>0.022603</td>\n",
       "      <td>0.996985</td>\n",
       "      <td>1.000000</td>\n",
       "      <td>-0.075344</td>\n",
       "      <td>-0.347519</td>\n",
       "      <td>0.124662</td>\n",
       "      <td>0.072954</td>\n",
       "      <td>-0.033035</td>\n",
       "      <td>-0.019853</td>\n",
       "      <td>-0.014485</td>\n",
       "      <td>0.036946</td>\n",
       "      <td>-0.064872</td>\n",
       "      <td>0.043201</td>\n",
       "      <td>0.013522</td>\n",
       "      <td>0.006851</td>\n",
       "      <td>-0.027218</td>\n",
       "      <td>-0.000382</td>\n",
       "      <td>0.020165</td>\n",
       "      <td>0.008486</td>\n",
       "    </tr>\n",
       "    <tr>\n",
       "      <th>X_4</th>\n",
       "      <td>0.002137</td>\n",
       "      <td>-0.104321</td>\n",
       "      <td>-0.075344</td>\n",
       "      <td>1.000000</td>\n",
       "      <td>0.439616</td>\n",
       "      <td>0.028929</td>\n",
       "      <td>0.094076</td>\n",
       "      <td>0.075197</td>\n",
       "      <td>-0.008453</td>\n",
       "      <td>0.038077</td>\n",
       "      <td>-0.037614</td>\n",
       "      <td>0.059135</td>\n",
       "      <td>-0.051861</td>\n",
       "      <td>-0.030024</td>\n",
       "      <td>-0.033198</td>\n",
       "      <td>-0.002921</td>\n",
       "      <td>-0.013115</td>\n",
       "      <td>-0.014066</td>\n",
       "      <td>0.003684</td>\n",
       "    </tr>\n",
       "    <tr>\n",
       "      <th>X_5</th>\n",
       "      <td>-0.034220</td>\n",
       "      <td>-0.349190</td>\n",
       "      <td>-0.347519</td>\n",
       "      <td>0.439616</td>\n",
       "      <td>1.000000</td>\n",
       "      <td>-0.062784</td>\n",
       "      <td>0.010161</td>\n",
       "      <td>0.046926</td>\n",
       "      <td>0.046428</td>\n",
       "      <td>0.046212</td>\n",
       "      <td>-0.043111</td>\n",
       "      <td>0.082068</td>\n",
       "      <td>-0.071233</td>\n",
       "      <td>-0.003413</td>\n",
       "      <td>-0.036383</td>\n",
       "      <td>-0.003450</td>\n",
       "      <td>0.021806</td>\n",
       "      <td>-0.014293</td>\n",
       "      <td>-0.010091</td>\n",
       "    </tr>\n",
       "    <tr>\n",
       "      <th>X_6</th>\n",
       "      <td>0.409876</td>\n",
       "      <td>0.119718</td>\n",
       "      <td>0.124662</td>\n",
       "      <td>0.028929</td>\n",
       "      <td>-0.062784</td>\n",
       "      <td>1.000000</td>\n",
       "      <td>0.695243</td>\n",
       "      <td>-0.063541</td>\n",
       "      <td>0.079192</td>\n",
       "      <td>0.021186</td>\n",
       "      <td>-0.002990</td>\n",
       "      <td>-0.031258</td>\n",
       "      <td>0.047845</td>\n",
       "      <td>-0.013155</td>\n",
       "      <td>-0.006621</td>\n",
       "      <td>-0.007903</td>\n",
       "      <td>0.013365</td>\n",
       "      <td>0.007623</td>\n",
       "      <td>-0.000548</td>\n",
       "    </tr>\n",
       "    <tr>\n",
       "      <th>X_7</th>\n",
       "      <td>0.421454</td>\n",
       "      <td>0.058806</td>\n",
       "      <td>0.072954</td>\n",
       "      <td>0.094076</td>\n",
       "      <td>0.010161</td>\n",
       "      <td>0.695243</td>\n",
       "      <td>1.000000</td>\n",
       "      <td>-0.011824</td>\n",
       "      <td>0.011519</td>\n",
       "      <td>0.023205</td>\n",
       "      <td>0.002970</td>\n",
       "      <td>-0.000409</td>\n",
       "      <td>0.012204</td>\n",
       "      <td>0.003738</td>\n",
       "      <td>-0.003277</td>\n",
       "      <td>-0.008036</td>\n",
       "      <td>0.046466</td>\n",
       "      <td>0.010249</td>\n",
       "      <td>0.001720</td>\n",
       "    </tr>\n",
       "    <tr>\n",
       "      <th>X_8</th>\n",
       "      <td>-0.061897</td>\n",
       "      <td>-0.038174</td>\n",
       "      <td>-0.033035</td>\n",
       "      <td>0.075197</td>\n",
       "      <td>0.046926</td>\n",
       "      <td>-0.063541</td>\n",
       "      <td>-0.011824</td>\n",
       "      <td>1.000000</td>\n",
       "      <td>-0.090184</td>\n",
       "      <td>0.222004</td>\n",
       "      <td>0.009424</td>\n",
       "      <td>0.273107</td>\n",
       "      <td>-0.048140</td>\n",
       "      <td>0.003987</td>\n",
       "      <td>0.017636</td>\n",
       "      <td>-0.033397</td>\n",
       "      <td>-0.044003</td>\n",
       "      <td>-0.014518</td>\n",
       "      <td>0.005398</td>\n",
       "    </tr>\n",
       "    <tr>\n",
       "      <th>X_9</th>\n",
       "      <td>0.017984</td>\n",
       "      <td>-0.017749</td>\n",
       "      <td>-0.019853</td>\n",
       "      <td>-0.008453</td>\n",
       "      <td>0.046428</td>\n",
       "      <td>0.079192</td>\n",
       "      <td>0.011519</td>\n",
       "      <td>-0.090184</td>\n",
       "      <td>1.000000</td>\n",
       "      <td>0.013388</td>\n",
       "      <td>-0.006152</td>\n",
       "      <td>0.005150</td>\n",
       "      <td>0.023537</td>\n",
       "      <td>-0.297295</td>\n",
       "      <td>0.006475</td>\n",
       "      <td>-0.000748</td>\n",
       "      <td>-0.024982</td>\n",
       "      <td>0.002830</td>\n",
       "      <td>0.002622</td>\n",
       "    </tr>\n",
       "    <tr>\n",
       "      <th>X_10</th>\n",
       "      <td>0.004155</td>\n",
       "      <td>-0.016710</td>\n",
       "      <td>-0.014485</td>\n",
       "      <td>0.038077</td>\n",
       "      <td>0.046212</td>\n",
       "      <td>0.021186</td>\n",
       "      <td>0.023205</td>\n",
       "      <td>0.222004</td>\n",
       "      <td>0.013388</td>\n",
       "      <td>1.000000</td>\n",
       "      <td>-0.045596</td>\n",
       "      <td>0.877743</td>\n",
       "      <td>0.002332</td>\n",
       "      <td>-0.016519</td>\n",
       "      <td>-0.003336</td>\n",
       "      <td>-0.242596</td>\n",
       "      <td>-0.026443</td>\n",
       "      <td>-0.001042</td>\n",
       "      <td>0.000753</td>\n",
       "    </tr>\n",
       "    <tr>\n",
       "      <th>X_11</th>\n",
       "      <td>-0.003078</td>\n",
       "      <td>0.038003</td>\n",
       "      <td>0.036946</td>\n",
       "      <td>-0.037614</td>\n",
       "      <td>-0.043111</td>\n",
       "      <td>-0.002990</td>\n",
       "      <td>0.002970</td>\n",
       "      <td>0.009424</td>\n",
       "      <td>-0.006152</td>\n",
       "      <td>-0.045596</td>\n",
       "      <td>1.000000</td>\n",
       "      <td>0.027363</td>\n",
       "      <td>0.017055</td>\n",
       "      <td>-0.009531</td>\n",
       "      <td>0.017267</td>\n",
       "      <td>0.105088</td>\n",
       "      <td>0.022499</td>\n",
       "      <td>0.002769</td>\n",
       "      <td>-0.013971</td>\n",
       "    </tr>\n",
       "    <tr>\n",
       "      <th>X_12</th>\n",
       "      <td>-0.034835</td>\n",
       "      <td>-0.067720</td>\n",
       "      <td>-0.064872</td>\n",
       "      <td>0.059135</td>\n",
       "      <td>0.082068</td>\n",
       "      <td>-0.031258</td>\n",
       "      <td>-0.000409</td>\n",
       "      <td>0.273107</td>\n",
       "      <td>0.005150</td>\n",
       "      <td>0.877743</td>\n",
       "      <td>0.027363</td>\n",
       "      <td>1.000000</td>\n",
       "      <td>0.030012</td>\n",
       "      <td>-0.042033</td>\n",
       "      <td>0.044005</td>\n",
       "      <td>-0.113061</td>\n",
       "      <td>-0.015605</td>\n",
       "      <td>-0.002993</td>\n",
       "      <td>0.002759</td>\n",
       "    </tr>\n",
       "    <tr>\n",
       "      <th>X_13</th>\n",
       "      <td>0.111611</td>\n",
       "      <td>0.046668</td>\n",
       "      <td>0.043201</td>\n",
       "      <td>-0.051861</td>\n",
       "      <td>-0.071233</td>\n",
       "      <td>0.047845</td>\n",
       "      <td>0.012204</td>\n",
       "      <td>-0.048140</td>\n",
       "      <td>0.023537</td>\n",
       "      <td>0.002332</td>\n",
       "      <td>0.017055</td>\n",
       "      <td>0.030012</td>\n",
       "      <td>1.000000</td>\n",
       "      <td>-0.063373</td>\n",
       "      <td>0.004041</td>\n",
       "      <td>0.006512</td>\n",
       "      <td>-0.021096</td>\n",
       "      <td>-0.009421</td>\n",
       "      <td>0.005064</td>\n",
       "    </tr>\n",
       "    <tr>\n",
       "      <th>X_14</th>\n",
       "      <td>-0.012708</td>\n",
       "      <td>0.015194</td>\n",
       "      <td>0.013522</td>\n",
       "      <td>-0.030024</td>\n",
       "      <td>-0.003413</td>\n",
       "      <td>-0.013155</td>\n",
       "      <td>0.003738</td>\n",
       "      <td>0.003987</td>\n",
       "      <td>-0.297295</td>\n",
       "      <td>-0.016519</td>\n",
       "      <td>-0.009531</td>\n",
       "      <td>-0.042033</td>\n",
       "      <td>-0.063373</td>\n",
       "      <td>1.000000</td>\n",
       "      <td>0.011804</td>\n",
       "      <td>-0.015267</td>\n",
       "      <td>0.024830</td>\n",
       "      <td>0.008394</td>\n",
       "      <td>-0.003909</td>\n",
       "    </tr>\n",
       "    <tr>\n",
       "      <th>X_15</th>\n",
       "      <td>-0.012132</td>\n",
       "      <td>0.013822</td>\n",
       "      <td>0.006851</td>\n",
       "      <td>-0.033198</td>\n",
       "      <td>-0.036383</td>\n",
       "      <td>-0.006621</td>\n",
       "      <td>-0.003277</td>\n",
       "      <td>0.017636</td>\n",
       "      <td>0.006475</td>\n",
       "      <td>-0.003336</td>\n",
       "      <td>0.017267</td>\n",
       "      <td>0.044005</td>\n",
       "      <td>0.004041</td>\n",
       "      <td>0.011804</td>\n",
       "      <td>1.000000</td>\n",
       "      <td>0.044916</td>\n",
       "      <td>-0.069230</td>\n",
       "      <td>0.002090</td>\n",
       "      <td>-0.000024</td>\n",
       "    </tr>\n",
       "    <tr>\n",
       "      <th>MULTIPLE_OFFENSE</th>\n",
       "      <td>0.014034</td>\n",
       "      <td>-0.027293</td>\n",
       "      <td>-0.027218</td>\n",
       "      <td>-0.002921</td>\n",
       "      <td>-0.003450</td>\n",
       "      <td>-0.007903</td>\n",
       "      <td>-0.008036</td>\n",
       "      <td>-0.033397</td>\n",
       "      <td>-0.000748</td>\n",
       "      <td>-0.242596</td>\n",
       "      <td>0.105088</td>\n",
       "      <td>-0.113061</td>\n",
       "      <td>0.006512</td>\n",
       "      <td>-0.015267</td>\n",
       "      <td>0.044916</td>\n",
       "      <td>1.000000</td>\n",
       "      <td>-0.002755</td>\n",
       "      <td>0.006736</td>\n",
       "      <td>0.004736</td>\n",
       "    </tr>\n",
       "    <tr>\n",
       "      <th>year</th>\n",
       "      <td>0.007982</td>\n",
       "      <td>-0.006115</td>\n",
       "      <td>-0.000382</td>\n",
       "      <td>-0.013115</td>\n",
       "      <td>0.021806</td>\n",
       "      <td>0.013365</td>\n",
       "      <td>0.046466</td>\n",
       "      <td>-0.044003</td>\n",
       "      <td>-0.024982</td>\n",
       "      <td>-0.026443</td>\n",
       "      <td>0.022499</td>\n",
       "      <td>-0.015605</td>\n",
       "      <td>-0.021096</td>\n",
       "      <td>0.024830</td>\n",
       "      <td>-0.069230</td>\n",
       "      <td>-0.002755</td>\n",
       "      <td>1.000000</td>\n",
       "      <td>0.016536</td>\n",
       "      <td>-0.007497</td>\n",
       "    </tr>\n",
       "    <tr>\n",
       "      <th>month</th>\n",
       "      <td>0.014748</td>\n",
       "      <td>0.019820</td>\n",
       "      <td>0.020165</td>\n",
       "      <td>-0.014066</td>\n",
       "      <td>-0.014293</td>\n",
       "      <td>0.007623</td>\n",
       "      <td>0.010249</td>\n",
       "      <td>-0.014518</td>\n",
       "      <td>0.002830</td>\n",
       "      <td>-0.001042</td>\n",
       "      <td>0.002769</td>\n",
       "      <td>-0.002993</td>\n",
       "      <td>-0.009421</td>\n",
       "      <td>0.008394</td>\n",
       "      <td>0.002090</td>\n",
       "      <td>0.006736</td>\n",
       "      <td>0.016536</td>\n",
       "      <td>1.000000</td>\n",
       "      <td>-0.006513</td>\n",
       "    </tr>\n",
       "    <tr>\n",
       "      <th>day</th>\n",
       "      <td>-0.010353</td>\n",
       "      <td>0.007042</td>\n",
       "      <td>0.008486</td>\n",
       "      <td>0.003684</td>\n",
       "      <td>-0.010091</td>\n",
       "      <td>-0.000548</td>\n",
       "      <td>0.001720</td>\n",
       "      <td>0.005398</td>\n",
       "      <td>0.002622</td>\n",
       "      <td>0.000753</td>\n",
       "      <td>-0.013971</td>\n",
       "      <td>0.002759</td>\n",
       "      <td>0.005064</td>\n",
       "      <td>-0.003909</td>\n",
       "      <td>-0.000024</td>\n",
       "      <td>0.004736</td>\n",
       "      <td>-0.007497</td>\n",
       "      <td>-0.006513</td>\n",
       "      <td>1.000000</td>\n",
       "    </tr>\n",
       "  </tbody>\n",
       "</table>\n",
       "</div>"
      ],
      "text/plain": [
       "                       X_1       X_2       X_3       X_4       X_5       X_6  \\\n",
       "X_1               1.000000  0.021999  0.022603  0.002137 -0.034220  0.409876   \n",
       "X_2               0.021999  1.000000  0.996985 -0.104321 -0.349190  0.119718   \n",
       "X_3               0.022603  0.996985  1.000000 -0.075344 -0.347519  0.124662   \n",
       "X_4               0.002137 -0.104321 -0.075344  1.000000  0.439616  0.028929   \n",
       "X_5              -0.034220 -0.349190 -0.347519  0.439616  1.000000 -0.062784   \n",
       "X_6               0.409876  0.119718  0.124662  0.028929 -0.062784  1.000000   \n",
       "X_7               0.421454  0.058806  0.072954  0.094076  0.010161  0.695243   \n",
       "X_8              -0.061897 -0.038174 -0.033035  0.075197  0.046926 -0.063541   \n",
       "X_9               0.017984 -0.017749 -0.019853 -0.008453  0.046428  0.079192   \n",
       "X_10              0.004155 -0.016710 -0.014485  0.038077  0.046212  0.021186   \n",
       "X_11             -0.003078  0.038003  0.036946 -0.037614 -0.043111 -0.002990   \n",
       "X_12             -0.034835 -0.067720 -0.064872  0.059135  0.082068 -0.031258   \n",
       "X_13              0.111611  0.046668  0.043201 -0.051861 -0.071233  0.047845   \n",
       "X_14             -0.012708  0.015194  0.013522 -0.030024 -0.003413 -0.013155   \n",
       "X_15             -0.012132  0.013822  0.006851 -0.033198 -0.036383 -0.006621   \n",
       "MULTIPLE_OFFENSE  0.014034 -0.027293 -0.027218 -0.002921 -0.003450 -0.007903   \n",
       "year              0.007982 -0.006115 -0.000382 -0.013115  0.021806  0.013365   \n",
       "month             0.014748  0.019820  0.020165 -0.014066 -0.014293  0.007623   \n",
       "day              -0.010353  0.007042  0.008486  0.003684 -0.010091 -0.000548   \n",
       "\n",
       "                       X_7       X_8       X_9      X_10      X_11      X_12  \\\n",
       "X_1               0.421454 -0.061897  0.017984  0.004155 -0.003078 -0.034835   \n",
       "X_2               0.058806 -0.038174 -0.017749 -0.016710  0.038003 -0.067720   \n",
       "X_3               0.072954 -0.033035 -0.019853 -0.014485  0.036946 -0.064872   \n",
       "X_4               0.094076  0.075197 -0.008453  0.038077 -0.037614  0.059135   \n",
       "X_5               0.010161  0.046926  0.046428  0.046212 -0.043111  0.082068   \n",
       "X_6               0.695243 -0.063541  0.079192  0.021186 -0.002990 -0.031258   \n",
       "X_7               1.000000 -0.011824  0.011519  0.023205  0.002970 -0.000409   \n",
       "X_8              -0.011824  1.000000 -0.090184  0.222004  0.009424  0.273107   \n",
       "X_9               0.011519 -0.090184  1.000000  0.013388 -0.006152  0.005150   \n",
       "X_10              0.023205  0.222004  0.013388  1.000000 -0.045596  0.877743   \n",
       "X_11              0.002970  0.009424 -0.006152 -0.045596  1.000000  0.027363   \n",
       "X_12             -0.000409  0.273107  0.005150  0.877743  0.027363  1.000000   \n",
       "X_13              0.012204 -0.048140  0.023537  0.002332  0.017055  0.030012   \n",
       "X_14              0.003738  0.003987 -0.297295 -0.016519 -0.009531 -0.042033   \n",
       "X_15             -0.003277  0.017636  0.006475 -0.003336  0.017267  0.044005   \n",
       "MULTIPLE_OFFENSE -0.008036 -0.033397 -0.000748 -0.242596  0.105088 -0.113061   \n",
       "year              0.046466 -0.044003 -0.024982 -0.026443  0.022499 -0.015605   \n",
       "month             0.010249 -0.014518  0.002830 -0.001042  0.002769 -0.002993   \n",
       "day               0.001720  0.005398  0.002622  0.000753 -0.013971  0.002759   \n",
       "\n",
       "                      X_13      X_14      X_15  MULTIPLE_OFFENSE      year  \\\n",
       "X_1               0.111611 -0.012708 -0.012132          0.014034  0.007982   \n",
       "X_2               0.046668  0.015194  0.013822         -0.027293 -0.006115   \n",
       "X_3               0.043201  0.013522  0.006851         -0.027218 -0.000382   \n",
       "X_4              -0.051861 -0.030024 -0.033198         -0.002921 -0.013115   \n",
       "X_5              -0.071233 -0.003413 -0.036383         -0.003450  0.021806   \n",
       "X_6               0.047845 -0.013155 -0.006621         -0.007903  0.013365   \n",
       "X_7               0.012204  0.003738 -0.003277         -0.008036  0.046466   \n",
       "X_8              -0.048140  0.003987  0.017636         -0.033397 -0.044003   \n",
       "X_9               0.023537 -0.297295  0.006475         -0.000748 -0.024982   \n",
       "X_10              0.002332 -0.016519 -0.003336         -0.242596 -0.026443   \n",
       "X_11              0.017055 -0.009531  0.017267          0.105088  0.022499   \n",
       "X_12              0.030012 -0.042033  0.044005         -0.113061 -0.015605   \n",
       "X_13              1.000000 -0.063373  0.004041          0.006512 -0.021096   \n",
       "X_14             -0.063373  1.000000  0.011804         -0.015267  0.024830   \n",
       "X_15              0.004041  0.011804  1.000000          0.044916 -0.069230   \n",
       "MULTIPLE_OFFENSE  0.006512 -0.015267  0.044916          1.000000 -0.002755   \n",
       "year             -0.021096  0.024830 -0.069230         -0.002755  1.000000   \n",
       "month            -0.009421  0.008394  0.002090          0.006736  0.016536   \n",
       "day               0.005064 -0.003909 -0.000024          0.004736 -0.007497   \n",
       "\n",
       "                     month       day  \n",
       "X_1               0.014748 -0.010353  \n",
       "X_2               0.019820  0.007042  \n",
       "X_3               0.020165  0.008486  \n",
       "X_4              -0.014066  0.003684  \n",
       "X_5              -0.014293 -0.010091  \n",
       "X_6               0.007623 -0.000548  \n",
       "X_7               0.010249  0.001720  \n",
       "X_8              -0.014518  0.005398  \n",
       "X_9               0.002830  0.002622  \n",
       "X_10             -0.001042  0.000753  \n",
       "X_11              0.002769 -0.013971  \n",
       "X_12             -0.002993  0.002759  \n",
       "X_13             -0.009421  0.005064  \n",
       "X_14              0.008394 -0.003909  \n",
       "X_15              0.002090 -0.000024  \n",
       "MULTIPLE_OFFENSE  0.006736  0.004736  \n",
       "year              0.016536 -0.007497  \n",
       "month             1.000000 -0.006513  \n",
       "day              -0.006513  1.000000  "
      ]
     },
     "execution_count": 116,
     "metadata": {},
     "output_type": "execute_result"
    }
   ],
   "source": [
    "## check for corrlation between numeric columns of train data.\n",
    "train[train.select_dtypes(['int64','float64']).columns].corr()"
   ]
  },
  {
   "cell_type": "code",
   "execution_count": 117,
   "metadata": {
    "scrolled": true
   },
   "outputs": [
    {
     "data": {
      "text/html": [
       "<div>\n",
       "<style scoped>\n",
       "    .dataframe tbody tr th:only-of-type {\n",
       "        vertical-align: middle;\n",
       "    }\n",
       "\n",
       "    .dataframe tbody tr th {\n",
       "        vertical-align: top;\n",
       "    }\n",
       "\n",
       "    .dataframe thead th {\n",
       "        text-align: right;\n",
       "    }\n",
       "</style>\n",
       "<table border=\"1\" class=\"dataframe\">\n",
       "  <thead>\n",
       "    <tr style=\"text-align: right;\">\n",
       "      <th></th>\n",
       "      <th>X_1</th>\n",
       "      <th>X_2</th>\n",
       "      <th>X_3</th>\n",
       "      <th>X_4</th>\n",
       "      <th>X_5</th>\n",
       "      <th>X_6</th>\n",
       "      <th>X_7</th>\n",
       "      <th>X_8</th>\n",
       "      <th>X_9</th>\n",
       "      <th>X_10</th>\n",
       "      <th>X_11</th>\n",
       "      <th>X_12</th>\n",
       "      <th>X_13</th>\n",
       "      <th>X_14</th>\n",
       "      <th>X_15</th>\n",
       "      <th>year</th>\n",
       "      <th>month</th>\n",
       "      <th>day</th>\n",
       "    </tr>\n",
       "  </thead>\n",
       "  <tbody>\n",
       "    <tr>\n",
       "      <th>X_1</th>\n",
       "      <td>1.000000</td>\n",
       "      <td>0.030496</td>\n",
       "      <td>0.030976</td>\n",
       "      <td>-0.005326</td>\n",
       "      <td>-0.039203</td>\n",
       "      <td>0.414001</td>\n",
       "      <td>0.425840</td>\n",
       "      <td>-0.067898</td>\n",
       "      <td>0.014131</td>\n",
       "      <td>-0.014896</td>\n",
       "      <td>0.004205</td>\n",
       "      <td>-0.064810</td>\n",
       "      <td>0.101348</td>\n",
       "      <td>-0.001934</td>\n",
       "      <td>-0.021650</td>\n",
       "      <td>0.008841</td>\n",
       "      <td>0.006081</td>\n",
       "      <td>-0.000176</td>\n",
       "    </tr>\n",
       "    <tr>\n",
       "      <th>X_2</th>\n",
       "      <td>0.030496</td>\n",
       "      <td>1.000000</td>\n",
       "      <td>0.996932</td>\n",
       "      <td>-0.104985</td>\n",
       "      <td>-0.364487</td>\n",
       "      <td>0.123955</td>\n",
       "      <td>0.069277</td>\n",
       "      <td>-0.052522</td>\n",
       "      <td>-0.027721</td>\n",
       "      <td>-0.025326</td>\n",
       "      <td>0.054676</td>\n",
       "      <td>-0.083900</td>\n",
       "      <td>0.044121</td>\n",
       "      <td>0.019978</td>\n",
       "      <td>0.007575</td>\n",
       "      <td>-0.003137</td>\n",
       "      <td>0.020983</td>\n",
       "      <td>0.006320</td>\n",
       "    </tr>\n",
       "    <tr>\n",
       "      <th>X_3</th>\n",
       "      <td>0.030976</td>\n",
       "      <td>0.996932</td>\n",
       "      <td>1.000000</td>\n",
       "      <td>-0.076411</td>\n",
       "      <td>-0.364235</td>\n",
       "      <td>0.129570</td>\n",
       "      <td>0.084448</td>\n",
       "      <td>-0.049484</td>\n",
       "      <td>-0.028606</td>\n",
       "      <td>-0.022261</td>\n",
       "      <td>0.053582</td>\n",
       "      <td>-0.080060</td>\n",
       "      <td>0.042015</td>\n",
       "      <td>0.018218</td>\n",
       "      <td>0.001069</td>\n",
       "      <td>0.002590</td>\n",
       "      <td>0.021498</td>\n",
       "      <td>0.006617</td>\n",
       "    </tr>\n",
       "    <tr>\n",
       "      <th>X_4</th>\n",
       "      <td>-0.005326</td>\n",
       "      <td>-0.104985</td>\n",
       "      <td>-0.076411</td>\n",
       "      <td>1.000000</td>\n",
       "      <td>0.422509</td>\n",
       "      <td>0.019798</td>\n",
       "      <td>0.097095</td>\n",
       "      <td>0.058194</td>\n",
       "      <td>-0.035503</td>\n",
       "      <td>0.042284</td>\n",
       "      <td>-0.051579</td>\n",
       "      <td>0.068968</td>\n",
       "      <td>-0.048783</td>\n",
       "      <td>-0.022423</td>\n",
       "      <td>-0.037745</td>\n",
       "      <td>-0.009295</td>\n",
       "      <td>-0.010179</td>\n",
       "      <td>-0.004660</td>\n",
       "    </tr>\n",
       "    <tr>\n",
       "      <th>X_5</th>\n",
       "      <td>-0.039203</td>\n",
       "      <td>-0.364487</td>\n",
       "      <td>-0.364235</td>\n",
       "      <td>0.422509</td>\n",
       "      <td>1.000000</td>\n",
       "      <td>-0.069090</td>\n",
       "      <td>0.004112</td>\n",
       "      <td>0.062754</td>\n",
       "      <td>0.029654</td>\n",
       "      <td>0.062653</td>\n",
       "      <td>-0.060479</td>\n",
       "      <td>0.107222</td>\n",
       "      <td>-0.074455</td>\n",
       "      <td>-0.013293</td>\n",
       "      <td>-0.051209</td>\n",
       "      <td>0.022549</td>\n",
       "      <td>-0.016196</td>\n",
       "      <td>-0.010678</td>\n",
       "    </tr>\n",
       "    <tr>\n",
       "      <th>X_6</th>\n",
       "      <td>0.414001</td>\n",
       "      <td>0.123955</td>\n",
       "      <td>0.129570</td>\n",
       "      <td>0.019798</td>\n",
       "      <td>-0.069090</td>\n",
       "      <td>1.000000</td>\n",
       "      <td>0.693056</td>\n",
       "      <td>-0.065980</td>\n",
       "      <td>0.086701</td>\n",
       "      <td>0.018853</td>\n",
       "      <td>-0.006849</td>\n",
       "      <td>-0.057221</td>\n",
       "      <td>0.049206</td>\n",
       "      <td>-0.011291</td>\n",
       "      <td>-0.016444</td>\n",
       "      <td>0.010781</td>\n",
       "      <td>0.032021</td>\n",
       "      <td>-0.009844</td>\n",
       "    </tr>\n",
       "    <tr>\n",
       "      <th>X_7</th>\n",
       "      <td>0.425840</td>\n",
       "      <td>0.069277</td>\n",
       "      <td>0.084448</td>\n",
       "      <td>0.097095</td>\n",
       "      <td>0.004112</td>\n",
       "      <td>0.693056</td>\n",
       "      <td>1.000000</td>\n",
       "      <td>-0.018485</td>\n",
       "      <td>0.017643</td>\n",
       "      <td>0.031901</td>\n",
       "      <td>-0.008877</td>\n",
       "      <td>-0.004669</td>\n",
       "      <td>0.005569</td>\n",
       "      <td>0.006395</td>\n",
       "      <td>-0.013684</td>\n",
       "      <td>0.033307</td>\n",
       "      <td>0.020001</td>\n",
       "      <td>0.003184</td>\n",
       "    </tr>\n",
       "    <tr>\n",
       "      <th>X_8</th>\n",
       "      <td>-0.067898</td>\n",
       "      <td>-0.052522</td>\n",
       "      <td>-0.049484</td>\n",
       "      <td>0.058194</td>\n",
       "      <td>0.062754</td>\n",
       "      <td>-0.065980</td>\n",
       "      <td>-0.018485</td>\n",
       "      <td>1.000000</td>\n",
       "      <td>-0.108924</td>\n",
       "      <td>0.123427</td>\n",
       "      <td>-0.025773</td>\n",
       "      <td>0.204437</td>\n",
       "      <td>-0.055066</td>\n",
       "      <td>0.002362</td>\n",
       "      <td>0.020029</td>\n",
       "      <td>-0.047080</td>\n",
       "      <td>-0.008184</td>\n",
       "      <td>-0.011899</td>\n",
       "    </tr>\n",
       "    <tr>\n",
       "      <th>X_9</th>\n",
       "      <td>0.014131</td>\n",
       "      <td>-0.027721</td>\n",
       "      <td>-0.028606</td>\n",
       "      <td>-0.035503</td>\n",
       "      <td>0.029654</td>\n",
       "      <td>0.086701</td>\n",
       "      <td>0.017643</td>\n",
       "      <td>-0.108924</td>\n",
       "      <td>1.000000</td>\n",
       "      <td>-0.006901</td>\n",
       "      <td>-0.005082</td>\n",
       "      <td>-0.018356</td>\n",
       "      <td>0.030556</td>\n",
       "      <td>-0.304968</td>\n",
       "      <td>-0.003338</td>\n",
       "      <td>-0.022973</td>\n",
       "      <td>0.004765</td>\n",
       "      <td>0.007165</td>\n",
       "    </tr>\n",
       "    <tr>\n",
       "      <th>X_10</th>\n",
       "      <td>-0.014896</td>\n",
       "      <td>-0.025326</td>\n",
       "      <td>-0.022261</td>\n",
       "      <td>0.042284</td>\n",
       "      <td>0.062653</td>\n",
       "      <td>0.018853</td>\n",
       "      <td>0.031901</td>\n",
       "      <td>0.123427</td>\n",
       "      <td>-0.006901</td>\n",
       "      <td>1.000000</td>\n",
       "      <td>-0.051959</td>\n",
       "      <td>0.749450</td>\n",
       "      <td>0.000625</td>\n",
       "      <td>-0.004596</td>\n",
       "      <td>-0.011161</td>\n",
       "      <td>-0.015268</td>\n",
       "      <td>0.004992</td>\n",
       "      <td>0.002220</td>\n",
       "    </tr>\n",
       "    <tr>\n",
       "      <th>X_11</th>\n",
       "      <td>0.004205</td>\n",
       "      <td>0.054676</td>\n",
       "      <td>0.053582</td>\n",
       "      <td>-0.051579</td>\n",
       "      <td>-0.060479</td>\n",
       "      <td>-0.006849</td>\n",
       "      <td>-0.008877</td>\n",
       "      <td>-0.025773</td>\n",
       "      <td>-0.005082</td>\n",
       "      <td>-0.051959</td>\n",
       "      <td>1.000000</td>\n",
       "      <td>0.041741</td>\n",
       "      <td>0.042452</td>\n",
       "      <td>0.006351</td>\n",
       "      <td>0.023575</td>\n",
       "      <td>0.024415</td>\n",
       "      <td>-0.016038</td>\n",
       "      <td>-0.008448</td>\n",
       "    </tr>\n",
       "    <tr>\n",
       "      <th>X_12</th>\n",
       "      <td>-0.064810</td>\n",
       "      <td>-0.083900</td>\n",
       "      <td>-0.080060</td>\n",
       "      <td>0.068968</td>\n",
       "      <td>0.107222</td>\n",
       "      <td>-0.057221</td>\n",
       "      <td>-0.004669</td>\n",
       "      <td>0.204437</td>\n",
       "      <td>-0.018356</td>\n",
       "      <td>0.749450</td>\n",
       "      <td>0.041741</td>\n",
       "      <td>1.000000</td>\n",
       "      <td>0.049161</td>\n",
       "      <td>-0.041544</td>\n",
       "      <td>0.054826</td>\n",
       "      <td>0.006344</td>\n",
       "      <td>-0.010916</td>\n",
       "      <td>-0.003951</td>\n",
       "    </tr>\n",
       "    <tr>\n",
       "      <th>X_13</th>\n",
       "      <td>0.101348</td>\n",
       "      <td>0.044121</td>\n",
       "      <td>0.042015</td>\n",
       "      <td>-0.048783</td>\n",
       "      <td>-0.074455</td>\n",
       "      <td>0.049206</td>\n",
       "      <td>0.005569</td>\n",
       "      <td>-0.055066</td>\n",
       "      <td>0.030556</td>\n",
       "      <td>0.000625</td>\n",
       "      <td>0.042452</td>\n",
       "      <td>0.049161</td>\n",
       "      <td>1.000000</td>\n",
       "      <td>-0.067128</td>\n",
       "      <td>0.019368</td>\n",
       "      <td>-0.004698</td>\n",
       "      <td>-0.015724</td>\n",
       "      <td>-0.011471</td>\n",
       "    </tr>\n",
       "    <tr>\n",
       "      <th>X_14</th>\n",
       "      <td>-0.001934</td>\n",
       "      <td>0.019978</td>\n",
       "      <td>0.018218</td>\n",
       "      <td>-0.022423</td>\n",
       "      <td>-0.013293</td>\n",
       "      <td>-0.011291</td>\n",
       "      <td>0.006395</td>\n",
       "      <td>0.002362</td>\n",
       "      <td>-0.304968</td>\n",
       "      <td>-0.004596</td>\n",
       "      <td>0.006351</td>\n",
       "      <td>-0.041544</td>\n",
       "      <td>-0.067128</td>\n",
       "      <td>1.000000</td>\n",
       "      <td>0.000818</td>\n",
       "      <td>0.033875</td>\n",
       "      <td>0.001147</td>\n",
       "      <td>0.000131</td>\n",
       "    </tr>\n",
       "    <tr>\n",
       "      <th>X_15</th>\n",
       "      <td>-0.021650</td>\n",
       "      <td>0.007575</td>\n",
       "      <td>0.001069</td>\n",
       "      <td>-0.037745</td>\n",
       "      <td>-0.051209</td>\n",
       "      <td>-0.016444</td>\n",
       "      <td>-0.013684</td>\n",
       "      <td>0.020029</td>\n",
       "      <td>-0.003338</td>\n",
       "      <td>-0.011161</td>\n",
       "      <td>0.023575</td>\n",
       "      <td>0.054826</td>\n",
       "      <td>0.019368</td>\n",
       "      <td>0.000818</td>\n",
       "      <td>1.000000</td>\n",
       "      <td>-0.074072</td>\n",
       "      <td>-0.002260</td>\n",
       "      <td>-0.014204</td>\n",
       "    </tr>\n",
       "    <tr>\n",
       "      <th>year</th>\n",
       "      <td>0.008841</td>\n",
       "      <td>-0.003137</td>\n",
       "      <td>0.002590</td>\n",
       "      <td>-0.009295</td>\n",
       "      <td>0.022549</td>\n",
       "      <td>0.010781</td>\n",
       "      <td>0.033307</td>\n",
       "      <td>-0.047080</td>\n",
       "      <td>-0.022973</td>\n",
       "      <td>-0.015268</td>\n",
       "      <td>0.024415</td>\n",
       "      <td>0.006344</td>\n",
       "      <td>-0.004698</td>\n",
       "      <td>0.033875</td>\n",
       "      <td>-0.074072</td>\n",
       "      <td>1.000000</td>\n",
       "      <td>0.008334</td>\n",
       "      <td>0.002014</td>\n",
       "    </tr>\n",
       "    <tr>\n",
       "      <th>month</th>\n",
       "      <td>0.006081</td>\n",
       "      <td>0.020983</td>\n",
       "      <td>0.021498</td>\n",
       "      <td>-0.010179</td>\n",
       "      <td>-0.016196</td>\n",
       "      <td>0.032021</td>\n",
       "      <td>0.020001</td>\n",
       "      <td>-0.008184</td>\n",
       "      <td>0.004765</td>\n",
       "      <td>0.004992</td>\n",
       "      <td>-0.016038</td>\n",
       "      <td>-0.010916</td>\n",
       "      <td>-0.015724</td>\n",
       "      <td>0.001147</td>\n",
       "      <td>-0.002260</td>\n",
       "      <td>0.008334</td>\n",
       "      <td>1.000000</td>\n",
       "      <td>-0.017804</td>\n",
       "    </tr>\n",
       "    <tr>\n",
       "      <th>day</th>\n",
       "      <td>-0.000176</td>\n",
       "      <td>0.006320</td>\n",
       "      <td>0.006617</td>\n",
       "      <td>-0.004660</td>\n",
       "      <td>-0.010678</td>\n",
       "      <td>-0.009844</td>\n",
       "      <td>0.003184</td>\n",
       "      <td>-0.011899</td>\n",
       "      <td>0.007165</td>\n",
       "      <td>0.002220</td>\n",
       "      <td>-0.008448</td>\n",
       "      <td>-0.003951</td>\n",
       "      <td>-0.011471</td>\n",
       "      <td>0.000131</td>\n",
       "      <td>-0.014204</td>\n",
       "      <td>0.002014</td>\n",
       "      <td>-0.017804</td>\n",
       "      <td>1.000000</td>\n",
       "    </tr>\n",
       "  </tbody>\n",
       "</table>\n",
       "</div>"
      ],
      "text/plain": [
       "            X_1       X_2       X_3       X_4       X_5       X_6       X_7  \\\n",
       "X_1    1.000000  0.030496  0.030976 -0.005326 -0.039203  0.414001  0.425840   \n",
       "X_2    0.030496  1.000000  0.996932 -0.104985 -0.364487  0.123955  0.069277   \n",
       "X_3    0.030976  0.996932  1.000000 -0.076411 -0.364235  0.129570  0.084448   \n",
       "X_4   -0.005326 -0.104985 -0.076411  1.000000  0.422509  0.019798  0.097095   \n",
       "X_5   -0.039203 -0.364487 -0.364235  0.422509  1.000000 -0.069090  0.004112   \n",
       "X_6    0.414001  0.123955  0.129570  0.019798 -0.069090  1.000000  0.693056   \n",
       "X_7    0.425840  0.069277  0.084448  0.097095  0.004112  0.693056  1.000000   \n",
       "X_8   -0.067898 -0.052522 -0.049484  0.058194  0.062754 -0.065980 -0.018485   \n",
       "X_9    0.014131 -0.027721 -0.028606 -0.035503  0.029654  0.086701  0.017643   \n",
       "X_10  -0.014896 -0.025326 -0.022261  0.042284  0.062653  0.018853  0.031901   \n",
       "X_11   0.004205  0.054676  0.053582 -0.051579 -0.060479 -0.006849 -0.008877   \n",
       "X_12  -0.064810 -0.083900 -0.080060  0.068968  0.107222 -0.057221 -0.004669   \n",
       "X_13   0.101348  0.044121  0.042015 -0.048783 -0.074455  0.049206  0.005569   \n",
       "X_14  -0.001934  0.019978  0.018218 -0.022423 -0.013293 -0.011291  0.006395   \n",
       "X_15  -0.021650  0.007575  0.001069 -0.037745 -0.051209 -0.016444 -0.013684   \n",
       "year   0.008841 -0.003137  0.002590 -0.009295  0.022549  0.010781  0.033307   \n",
       "month  0.006081  0.020983  0.021498 -0.010179 -0.016196  0.032021  0.020001   \n",
       "day   -0.000176  0.006320  0.006617 -0.004660 -0.010678 -0.009844  0.003184   \n",
       "\n",
       "            X_8       X_9      X_10      X_11      X_12      X_13      X_14  \\\n",
       "X_1   -0.067898  0.014131 -0.014896  0.004205 -0.064810  0.101348 -0.001934   \n",
       "X_2   -0.052522 -0.027721 -0.025326  0.054676 -0.083900  0.044121  0.019978   \n",
       "X_3   -0.049484 -0.028606 -0.022261  0.053582 -0.080060  0.042015  0.018218   \n",
       "X_4    0.058194 -0.035503  0.042284 -0.051579  0.068968 -0.048783 -0.022423   \n",
       "X_5    0.062754  0.029654  0.062653 -0.060479  0.107222 -0.074455 -0.013293   \n",
       "X_6   -0.065980  0.086701  0.018853 -0.006849 -0.057221  0.049206 -0.011291   \n",
       "X_7   -0.018485  0.017643  0.031901 -0.008877 -0.004669  0.005569  0.006395   \n",
       "X_8    1.000000 -0.108924  0.123427 -0.025773  0.204437 -0.055066  0.002362   \n",
       "X_9   -0.108924  1.000000 -0.006901 -0.005082 -0.018356  0.030556 -0.304968   \n",
       "X_10   0.123427 -0.006901  1.000000 -0.051959  0.749450  0.000625 -0.004596   \n",
       "X_11  -0.025773 -0.005082 -0.051959  1.000000  0.041741  0.042452  0.006351   \n",
       "X_12   0.204437 -0.018356  0.749450  0.041741  1.000000  0.049161 -0.041544   \n",
       "X_13  -0.055066  0.030556  0.000625  0.042452  0.049161  1.000000 -0.067128   \n",
       "X_14   0.002362 -0.304968 -0.004596  0.006351 -0.041544 -0.067128  1.000000   \n",
       "X_15   0.020029 -0.003338 -0.011161  0.023575  0.054826  0.019368  0.000818   \n",
       "year  -0.047080 -0.022973 -0.015268  0.024415  0.006344 -0.004698  0.033875   \n",
       "month -0.008184  0.004765  0.004992 -0.016038 -0.010916 -0.015724  0.001147   \n",
       "day   -0.011899  0.007165  0.002220 -0.008448 -0.003951 -0.011471  0.000131   \n",
       "\n",
       "           X_15      year     month       day  \n",
       "X_1   -0.021650  0.008841  0.006081 -0.000176  \n",
       "X_2    0.007575 -0.003137  0.020983  0.006320  \n",
       "X_3    0.001069  0.002590  0.021498  0.006617  \n",
       "X_4   -0.037745 -0.009295 -0.010179 -0.004660  \n",
       "X_5   -0.051209  0.022549 -0.016196 -0.010678  \n",
       "X_6   -0.016444  0.010781  0.032021 -0.009844  \n",
       "X_7   -0.013684  0.033307  0.020001  0.003184  \n",
       "X_8    0.020029 -0.047080 -0.008184 -0.011899  \n",
       "X_9   -0.003338 -0.022973  0.004765  0.007165  \n",
       "X_10  -0.011161 -0.015268  0.004992  0.002220  \n",
       "X_11   0.023575  0.024415 -0.016038 -0.008448  \n",
       "X_12   0.054826  0.006344 -0.010916 -0.003951  \n",
       "X_13   0.019368 -0.004698 -0.015724 -0.011471  \n",
       "X_14   0.000818  0.033875  0.001147  0.000131  \n",
       "X_15   1.000000 -0.074072 -0.002260 -0.014204  \n",
       "year  -0.074072  1.000000  0.008334  0.002014  \n",
       "month -0.002260  0.008334  1.000000 -0.017804  \n",
       "day   -0.014204  0.002014 -0.017804  1.000000  "
      ]
     },
     "execution_count": 117,
     "metadata": {},
     "output_type": "execute_result"
    }
   ],
   "source": [
    "## check for corrlation between numeric columns of test data.\n",
    "test[test.select_dtypes(['int64','float64']).columns].corr()"
   ]
  },
  {
   "cell_type": "code",
   "execution_count": 118,
   "metadata": {},
   "outputs": [],
   "source": [
    "## By looking into correlation table we can say X_2 & X_3 are in mutlicollinearity.So we can drop either X_2 or X_3.\n",
    "train.drop('X_3',axis=1,inplace=True)\n",
    "test.drop('X_3',axis=1,inplace=True)"
   ]
  },
  {
   "cell_type": "code",
   "execution_count": 119,
   "metadata": {},
   "outputs": [],
   "source": [
    "## fill NA values with zero for train and test data.\n",
    "train['X_12'].fillna(0,inplace=True)\n",
    "test['X_12'].fillna(0,inplace=True)"
   ]
  },
  {
   "cell_type": "code",
   "execution_count": 120,
   "metadata": {},
   "outputs": [
    {
     "data": {
      "text/plain": [
       "X_1                 0\n",
       "X_2                 0\n",
       "X_4                 0\n",
       "X_5                 0\n",
       "X_6                 0\n",
       "X_7                 0\n",
       "X_8                 0\n",
       "X_9                 0\n",
       "X_10                0\n",
       "X_11                0\n",
       "X_12                0\n",
       "X_13                0\n",
       "X_14                0\n",
       "X_15                0\n",
       "MULTIPLE_OFFENSE    0\n",
       "year                0\n",
       "month               0\n",
       "day                 0\n",
       "dtype: int64"
      ]
     },
     "execution_count": 120,
     "metadata": {},
     "output_type": "execute_result"
    }
   ],
   "source": [
    "## Check train data null values after doing imputation.\n",
    "train.isna().sum()"
   ]
  },
  {
   "cell_type": "code",
   "execution_count": 121,
   "metadata": {
    "scrolled": true
   },
   "outputs": [
    {
     "data": {
      "text/plain": [
       "X_1      0\n",
       "X_2      0\n",
       "X_4      0\n",
       "X_5      0\n",
       "X_6      0\n",
       "X_7      0\n",
       "X_8      0\n",
       "X_9      0\n",
       "X_10     0\n",
       "X_11     0\n",
       "X_12     0\n",
       "X_13     0\n",
       "X_14     0\n",
       "X_15     0\n",
       "year     0\n",
       "month    0\n",
       "day      0\n",
       "dtype: int64"
      ]
     },
     "execution_count": 121,
     "metadata": {},
     "output_type": "execute_result"
    }
   ],
   "source": [
    "## Check test data null values after doing imputation.\n",
    "test.isna().sum()"
   ]
  },
  {
   "cell_type": "code",
   "execution_count": 122,
   "metadata": {},
   "outputs": [],
   "source": [
    "## Convert data types.\n",
    "train['X_12']=train['X_12'].astype('int64')\n",
    "test['X_12']=test['X_12'].astype('int64')"
   ]
  },
  {
   "cell_type": "code",
   "execution_count": 123,
   "metadata": {},
   "outputs": [],
   "source": [
    "## Store train data features into train_data.\n",
    "train_data = train.drop('MULTIPLE_OFFENSE', axis=1)"
   ]
  },
  {
   "cell_type": "code",
   "execution_count": 124,
   "metadata": {},
   "outputs": [],
   "source": [
    "## Store train data MULTIPLE_OFFENSE column into y.\n",
    "y = train['MULTIPLE_OFFENSE']"
   ]
  },
  {
   "cell_type": "code",
   "execution_count": 125,
   "metadata": {},
   "outputs": [],
   "source": [
    "## Split the train data into  train and validation.\n",
    "X_train,X_test,y_train,y_test = train_test_split(train_data,y,test_size=0.2,random_state =1234)"
   ]
  },
  {
   "cell_type": "code",
   "execution_count": 126,
   "metadata": {},
   "outputs": [],
   "source": [
    "## Instantiate label encoder.\n",
    "le_year = LabelEncoder()\n",
    "le_month = LabelEncoder()\n",
    "le_day = LabelEncoder()\n",
    "le_multiple_offense = LabelEncoder()\n",
    "\n",
    "## We don't have complete description about columns,based on column levels i have asssumed those are categorical varibles.\n",
    "## Initially i build the model by treating all columns as interges but accuracy is less compred to below one.\n",
    "\n",
    "le_X_1 = LabelEncoder()\n",
    "le_X_4 = LabelEncoder()\n",
    "le_X_5 = LabelEncoder()\n",
    "le_X_6 = LabelEncoder()\n",
    "le_X_7 = LabelEncoder()\n",
    "le_X_9 = LabelEncoder()"
   ]
  },
  {
   "cell_type": "code",
   "execution_count": 127,
   "metadata": {},
   "outputs": [
    {
     "name": "stderr",
     "output_type": "stream",
     "text": [
      "C:\\Users\\nagar\\Anaconda3\\lib\\site-packages\\ipykernel_launcher.py:2: SettingWithCopyWarning: \n",
      "A value is trying to be set on a copy of a slice from a DataFrame.\n",
      "Try using .loc[row_indexer,col_indexer] = value instead\n",
      "\n",
      "See the caveats in the documentation: http://pandas.pydata.org/pandas-docs/stable/user_guide/indexing.html#returning-a-view-versus-a-copy\n",
      "  \n",
      "C:\\Users\\nagar\\Anaconda3\\lib\\site-packages\\ipykernel_launcher.py:3: SettingWithCopyWarning: \n",
      "A value is trying to be set on a copy of a slice from a DataFrame.\n",
      "Try using .loc[row_indexer,col_indexer] = value instead\n",
      "\n",
      "See the caveats in the documentation: http://pandas.pydata.org/pandas-docs/stable/user_guide/indexing.html#returning-a-view-versus-a-copy\n",
      "  This is separate from the ipykernel package so we can avoid doing imports until\n",
      "C:\\Users\\nagar\\Anaconda3\\lib\\site-packages\\ipykernel_launcher.py:4: SettingWithCopyWarning: \n",
      "A value is trying to be set on a copy of a slice from a DataFrame.\n",
      "Try using .loc[row_indexer,col_indexer] = value instead\n",
      "\n",
      "See the caveats in the documentation: http://pandas.pydata.org/pandas-docs/stable/user_guide/indexing.html#returning-a-view-versus-a-copy\n",
      "  after removing the cwd from sys.path.\n",
      "C:\\Users\\nagar\\Anaconda3\\lib\\site-packages\\ipykernel_launcher.py:6: SettingWithCopyWarning: \n",
      "A value is trying to be set on a copy of a slice from a DataFrame.\n",
      "Try using .loc[row_indexer,col_indexer] = value instead\n",
      "\n",
      "See the caveats in the documentation: http://pandas.pydata.org/pandas-docs/stable/user_guide/indexing.html#returning-a-view-versus-a-copy\n",
      "  \n",
      "C:\\Users\\nagar\\Anaconda3\\lib\\site-packages\\ipykernel_launcher.py:7: SettingWithCopyWarning: \n",
      "A value is trying to be set on a copy of a slice from a DataFrame.\n",
      "Try using .loc[row_indexer,col_indexer] = value instead\n",
      "\n",
      "See the caveats in the documentation: http://pandas.pydata.org/pandas-docs/stable/user_guide/indexing.html#returning-a-view-versus-a-copy\n",
      "  import sys\n",
      "C:\\Users\\nagar\\Anaconda3\\lib\\site-packages\\ipykernel_launcher.py:8: SettingWithCopyWarning: \n",
      "A value is trying to be set on a copy of a slice from a DataFrame.\n",
      "Try using .loc[row_indexer,col_indexer] = value instead\n",
      "\n",
      "See the caveats in the documentation: http://pandas.pydata.org/pandas-docs/stable/user_guide/indexing.html#returning-a-view-versus-a-copy\n",
      "  \n",
      "C:\\Users\\nagar\\Anaconda3\\lib\\site-packages\\ipykernel_launcher.py:9: SettingWithCopyWarning: \n",
      "A value is trying to be set on a copy of a slice from a DataFrame.\n",
      "Try using .loc[row_indexer,col_indexer] = value instead\n",
      "\n",
      "See the caveats in the documentation: http://pandas.pydata.org/pandas-docs/stable/user_guide/indexing.html#returning-a-view-versus-a-copy\n",
      "  if __name__ == '__main__':\n",
      "C:\\Users\\nagar\\Anaconda3\\lib\\site-packages\\ipykernel_launcher.py:10: SettingWithCopyWarning: \n",
      "A value is trying to be set on a copy of a slice from a DataFrame.\n",
      "Try using .loc[row_indexer,col_indexer] = value instead\n",
      "\n",
      "See the caveats in the documentation: http://pandas.pydata.org/pandas-docs/stable/user_guide/indexing.html#returning-a-view-versus-a-copy\n",
      "  # Remove the CWD from sys.path while we load stuff.\n",
      "C:\\Users\\nagar\\Anaconda3\\lib\\site-packages\\ipykernel_launcher.py:11: SettingWithCopyWarning: \n",
      "A value is trying to be set on a copy of a slice from a DataFrame.\n",
      "Try using .loc[row_indexer,col_indexer] = value instead\n",
      "\n",
      "See the caveats in the documentation: http://pandas.pydata.org/pandas-docs/stable/user_guide/indexing.html#returning-a-view-versus-a-copy\n",
      "  # This is added back by InteractiveShellApp.init_path()\n"
     ]
    }
   ],
   "source": [
    "## Do labe encoding for trian data. \n",
    "X_train['year'] = le_year.fit_transform(X_train['year'])\n",
    "X_train['month'] = le_month.fit_transform(X_train['month'])\n",
    "X_train['day'] = le_day.fit_transform(X_train['day'])\n",
    "\n",
    "X_train['X_1'] = le_X_1.fit_transform(X_train['X_1'])\n",
    "X_train['X_4'] = le_X_4.fit_transform(X_train['X_4'])\n",
    "X_train['X_5'] = le_X_5.fit_transform(X_train['X_5'])\n",
    "X_train['X_6'] = le_X_6.fit_transform(X_train['X_6'])\n",
    "X_train['X_7'] = le_X_7.fit_transform(X_train['X_7'])\n",
    "X_train['X_9'] = le_X_9.fit_transform(X_train['X_9'])"
   ]
  },
  {
   "cell_type": "code",
   "execution_count": 128,
   "metadata": {},
   "outputs": [
    {
     "name": "stderr",
     "output_type": "stream",
     "text": [
      "C:\\Users\\nagar\\Anaconda3\\lib\\site-packages\\ipykernel_launcher.py:2: SettingWithCopyWarning: \n",
      "A value is trying to be set on a copy of a slice from a DataFrame.\n",
      "Try using .loc[row_indexer,col_indexer] = value instead\n",
      "\n",
      "See the caveats in the documentation: http://pandas.pydata.org/pandas-docs/stable/user_guide/indexing.html#returning-a-view-versus-a-copy\n",
      "  \n",
      "C:\\Users\\nagar\\Anaconda3\\lib\\site-packages\\ipykernel_launcher.py:3: SettingWithCopyWarning: \n",
      "A value is trying to be set on a copy of a slice from a DataFrame.\n",
      "Try using .loc[row_indexer,col_indexer] = value instead\n",
      "\n",
      "See the caveats in the documentation: http://pandas.pydata.org/pandas-docs/stable/user_guide/indexing.html#returning-a-view-versus-a-copy\n",
      "  This is separate from the ipykernel package so we can avoid doing imports until\n",
      "C:\\Users\\nagar\\Anaconda3\\lib\\site-packages\\ipykernel_launcher.py:4: SettingWithCopyWarning: \n",
      "A value is trying to be set on a copy of a slice from a DataFrame.\n",
      "Try using .loc[row_indexer,col_indexer] = value instead\n",
      "\n",
      "See the caveats in the documentation: http://pandas.pydata.org/pandas-docs/stable/user_guide/indexing.html#returning-a-view-versus-a-copy\n",
      "  after removing the cwd from sys.path.\n",
      "C:\\Users\\nagar\\Anaconda3\\lib\\site-packages\\ipykernel_launcher.py:6: SettingWithCopyWarning: \n",
      "A value is trying to be set on a copy of a slice from a DataFrame.\n",
      "Try using .loc[row_indexer,col_indexer] = value instead\n",
      "\n",
      "See the caveats in the documentation: http://pandas.pydata.org/pandas-docs/stable/user_guide/indexing.html#returning-a-view-versus-a-copy\n",
      "  \n",
      "C:\\Users\\nagar\\Anaconda3\\lib\\site-packages\\ipykernel_launcher.py:7: SettingWithCopyWarning: \n",
      "A value is trying to be set on a copy of a slice from a DataFrame.\n",
      "Try using .loc[row_indexer,col_indexer] = value instead\n",
      "\n",
      "See the caveats in the documentation: http://pandas.pydata.org/pandas-docs/stable/user_guide/indexing.html#returning-a-view-versus-a-copy\n",
      "  import sys\n",
      "C:\\Users\\nagar\\Anaconda3\\lib\\site-packages\\ipykernel_launcher.py:8: SettingWithCopyWarning: \n",
      "A value is trying to be set on a copy of a slice from a DataFrame.\n",
      "Try using .loc[row_indexer,col_indexer] = value instead\n",
      "\n",
      "See the caveats in the documentation: http://pandas.pydata.org/pandas-docs/stable/user_guide/indexing.html#returning-a-view-versus-a-copy\n",
      "  \n",
      "C:\\Users\\nagar\\Anaconda3\\lib\\site-packages\\ipykernel_launcher.py:9: SettingWithCopyWarning: \n",
      "A value is trying to be set on a copy of a slice from a DataFrame.\n",
      "Try using .loc[row_indexer,col_indexer] = value instead\n",
      "\n",
      "See the caveats in the documentation: http://pandas.pydata.org/pandas-docs/stable/user_guide/indexing.html#returning-a-view-versus-a-copy\n",
      "  if __name__ == '__main__':\n",
      "C:\\Users\\nagar\\Anaconda3\\lib\\site-packages\\ipykernel_launcher.py:10: SettingWithCopyWarning: \n",
      "A value is trying to be set on a copy of a slice from a DataFrame.\n",
      "Try using .loc[row_indexer,col_indexer] = value instead\n",
      "\n",
      "See the caveats in the documentation: http://pandas.pydata.org/pandas-docs/stable/user_guide/indexing.html#returning-a-view-versus-a-copy\n",
      "  # Remove the CWD from sys.path while we load stuff.\n",
      "C:\\Users\\nagar\\Anaconda3\\lib\\site-packages\\ipykernel_launcher.py:11: SettingWithCopyWarning: \n",
      "A value is trying to be set on a copy of a slice from a DataFrame.\n",
      "Try using .loc[row_indexer,col_indexer] = value instead\n",
      "\n",
      "See the caveats in the documentation: http://pandas.pydata.org/pandas-docs/stable/user_guide/indexing.html#returning-a-view-versus-a-copy\n",
      "  # This is added back by InteractiveShellApp.init_path()\n"
     ]
    }
   ],
   "source": [
    "## Do labe encoding for validation data. \n",
    "X_test['year'] = le_year.transform(X_test['year'])\n",
    "X_test['month'] = le_month.transform(X_test['month'])\n",
    "X_test['day'] = le_day.transform(X_test['day'])\n",
    "\n",
    "X_test['X_1'] = le_X_1.transform(X_test['X_1'])\n",
    "X_test['X_4'] = le_X_4.transform(X_test['X_4'])\n",
    "X_test['X_5'] = le_X_5.transform(X_test['X_5'])\n",
    "X_test['X_6'] = le_X_6.transform(X_test['X_6'])\n",
    "X_test['X_7'] = le_X_7.transform(X_test['X_7'])\n",
    "X_test['X_9'] = le_X_9.transform(X_test['X_9'])"
   ]
  },
  {
   "cell_type": "code",
   "execution_count": 129,
   "metadata": {},
   "outputs": [],
   "source": [
    "## Do labe encoding for test data. \n",
    "test['year'] = le_year.transform(test['year'])\n",
    "test['month'] = le_month.transform(test['month'])\n",
    "test['day'] = le_day.transform(test['day'])\n",
    "\n",
    "test['X_1'] = le_X_1.transform(test['X_1'])\n",
    "test['X_4'] = le_X_4.transform(test['X_4'])\n",
    "test['X_5'] = le_X_5.transform(test['X_5'])\n",
    "test['X_6'] = le_X_6.transform(test['X_6'])\n",
    "test['X_7'] = le_X_7.transform(test['X_7'])\n",
    "test['X_9'] = le_X_9.transform(test['X_9'])"
   ]
  },
  {
   "cell_type": "code",
   "execution_count": 130,
   "metadata": {},
   "outputs": [],
   "source": [
    "## Do label encoding for target for train data.\n",
    "y_train = le_multiple_offense.fit_transform(y_train)"
   ]
  },
  {
   "cell_type": "code",
   "execution_count": 131,
   "metadata": {},
   "outputs": [],
   "source": [
    "## Do label encoding for target for validation data.\n",
    "y_test = le_multiple_offense.transform(y_test)"
   ]
  },
  {
   "cell_type": "markdown",
   "metadata": {},
   "source": [
    "## Model Building"
   ]
  },
  {
   "cell_type": "code",
   "execution_count": 133,
   "metadata": {},
   "outputs": [
    {
     "name": "stdout",
     "output_type": "stream",
     "text": [
      "Fitting 5 folds for each of 64 candidates, totalling 320 fits\n"
     ]
    },
    {
     "name": "stderr",
     "output_type": "stream",
     "text": [
      "[Parallel(n_jobs=-1)]: Using backend LokyBackend with 12 concurrent workers.\n",
      "[Parallel(n_jobs=-1)]: Done  26 tasks      | elapsed:   14.4s\n",
      "[Parallel(n_jobs=-1)]: Done 176 tasks      | elapsed:  1.1min\n",
      "[Parallel(n_jobs=-1)]: Done 320 out of 320 | elapsed:  2.4min finished\n"
     ]
    },
    {
     "name": "stdout",
     "output_type": "stream",
     "text": [
      "Wall time: 2min 31s\n",
      "0.9992139737871346\n",
      "{'max_depth': 3, 'n_estimators': 200}\n"
     ]
    }
   ],
   "source": [
    "## Model Building with Grid Search.\n",
    "xgb = XGBClassifier() ## Instantiate XGBClassifier model.\n",
    "\n",
    "optimization_dict = {'max_depth': [2,3,4,5,6,7,10,15], ## trying with different max_depth,n_estimators to find best model.\n",
    "                      'n_estimators': [50,60,70,80,90,100,150,200]} \n",
    "\n",
    "## Build best model with Grid Search params.\n",
    "model = GridSearchCV(xgb, ## XGB model.\n",
    "                     optimization_dict, ## dictory with different max_depth,n_estimators.\n",
    "                     scoring='accuracy', ## on which parameter we are interested.\n",
    "                     verbose=1, ## for messaging purpose.\n",
    "                     n_jobs=-1) ## Number of jobs to run in parallel. ''-1' means use all processors.\n",
    "\n",
    "%time model.fit(X_train, y_train) ## Fit a model.\n",
    "print(model.best_score_) ## Display best score calues.\n",
    "print(model.best_params_) ## Display best parameters."
   ]
  },
  {
   "cell_type": "code",
   "execution_count": 134,
   "metadata": {
    "scrolled": true
   },
   "outputs": [
    {
     "name": "stdout",
     "output_type": "stream",
     "text": [
      "Wall time: 10.3 s\n"
     ]
    },
    {
     "data": {
      "text/plain": [
       "XGBClassifier(base_score=0.5, booster='gbtree', colsample_bylevel=1,\n",
       "              colsample_bynode=1, colsample_bytree=1, gamma=0,\n",
       "              learning_rate=0.001, max_delta_step=0, max_depth=10,\n",
       "              min_child_weight=1, missing=None, n_estimators=200, n_jobs=1,\n",
       "              nthread=None, objective='binary:logistic', random_state=1234,\n",
       "              reg_alpha=0, reg_lambda=1, scale_pos_weight=1, seed=None,\n",
       "              silent=None, subsample=1, verbosity=1)"
      ]
     },
     "execution_count": 134,
     "metadata": {},
     "output_type": "execute_result"
    }
   ],
   "source": [
    "## Fit a model with best params which we found after grid search CV (above code).\n",
    "model = XGBClassifier(max_depth=10, n_estimators=200,learning_rate = 0.001,\n",
    "                      booster ='gbtree',random_state=1234)\n",
    "%time model.fit(X_train, y_train)"
   ]
  },
  {
   "cell_type": "code",
   "execution_count": 135,
   "metadata": {},
   "outputs": [],
   "source": [
    "## Get the predictions on train data.\n",
    "train_pred = model.predict(X_train)"
   ]
  },
  {
   "cell_type": "code",
   "execution_count": 136,
   "metadata": {
    "scrolled": true
   },
   "outputs": [
    {
     "name": "stdout",
     "output_type": "stream",
     "text": [
      "Train Accuracy : 0.9985852022636764\n"
     ]
    }
   ],
   "source": [
    "## Display accuracy value for train data.\n",
    "print(\"Train Accuracy :\",accuracy_score(y_train,train_pred))"
   ]
  },
  {
   "cell_type": "code",
   "execution_count": 137,
   "metadata": {},
   "outputs": [
    {
     "name": "stdout",
     "output_type": "stream",
     "text": [
      "Train Recall: 0.999\n"
     ]
    }
   ],
   "source": [
    "# calculate recall.\n",
    "recall = recall_score(y_train, train_pred, average='binary')\n",
    "print('Train Recall: %.3f' % recall)"
   ]
  },
  {
   "cell_type": "code",
   "execution_count": 138,
   "metadata": {},
   "outputs": [],
   "source": [
    "## Get the predictions on validation data.\n",
    "validation_pred = model.predict(X_test)"
   ]
  },
  {
   "cell_type": "code",
   "execution_count": 139,
   "metadata": {
    "scrolled": true
   },
   "outputs": [
    {
     "name": "stdout",
     "output_type": "stream",
     "text": [
      "Validation Accuracy : 0.9970662196144174\n"
     ]
    }
   ],
   "source": [
    "## Display  accuracy value for validation data.\n",
    "print(\"Validation Accuracy :\",accuracy_score(y_test,validation_pred))"
   ]
  },
  {
   "cell_type": "code",
   "execution_count": 140,
   "metadata": {},
   "outputs": [
    {
     "name": "stdout",
     "output_type": "stream",
     "text": [
      "Train Recall: 0.998\n"
     ]
    }
   ],
   "source": [
    "# calculate recall.\n",
    "recall = recall_score(y_test, validation_pred, average='binary')\n",
    "print('Train Recall: %.3f' % recall)"
   ]
  },
  {
   "cell_type": "code",
   "execution_count": 141,
   "metadata": {},
   "outputs": [
    {
     "name": "stdout",
     "output_type": "stream",
     "text": [
      "[[  859    11]\n",
      " [   16 18198]]\n"
     ]
    }
   ],
   "source": [
    "## Get the confusion matrix for train data.\n",
    "confusion_matrix_train = confusion_matrix(y_train, train_pred)\n",
    "print(confusion_matrix_train)"
   ]
  },
  {
   "cell_type": "code",
   "execution_count": 142,
   "metadata": {},
   "outputs": [
    {
     "name": "stdout",
     "output_type": "stream",
     "text": [
      "[[ 191    7]\n",
      " [   7 4567]]\n"
     ]
    }
   ],
   "source": [
    "## Get the confusion matrix for validation data.\n",
    "confusion_matrix_test = confusion_matrix(y_test, validation_pred)\n",
    "print(confusion_matrix_test)"
   ]
  },
  {
   "cell_type": "code",
   "execution_count": 143,
   "metadata": {},
   "outputs": [
    {
     "name": "stdout",
     "output_type": "stream",
     "text": [
      "Train TNR:  0.9873563218390805\n",
      "\n",
      "\n",
      "Train TPR:  0.9991215548479192\n",
      "\n",
      "\n",
      "Train Accuracy:  0.9985852022636764\n"
     ]
    }
   ],
   "source": [
    "Accuracy_Train=(confusion_matrix_train[0,0]+confusion_matrix_train[1,1])/(confusion_matrix_train[0,0]+confusion_matrix_train[0,1]+confusion_matrix_train[1,0]+confusion_matrix_train[1,1])\n",
    "TNR_Train= confusion_matrix_train[0,0]/(confusion_matrix_train[0,0]+confusion_matrix_train[0,1])\n",
    "TPR_Train= confusion_matrix_train[1,1]/(confusion_matrix_train[1,0]+confusion_matrix_train[1,1])\n",
    "\n",
    "print(\"Train TNR: \",TNR_Train)\n",
    "print(\"\\n\")\n",
    "print(\"Train TPR: \",TPR_Train)\n",
    "print(\"\\n\")\n",
    "print(\"Train Accuracy: \",Accuracy_Train)"
   ]
  },
  {
   "cell_type": "code",
   "execution_count": 144,
   "metadata": {},
   "outputs": [
    {
     "name": "stdout",
     "output_type": "stream",
     "text": [
      "Test TNR:  0.9646464646464646\n",
      "\n",
      "\n",
      "Test TPR:  0.9984696108439003\n",
      "\n",
      "\n",
      "Test Accuracy:  0.9970662196144174\n"
     ]
    }
   ],
   "source": [
    "Accuracy_Test=(confusion_matrix_test[0,0]+confusion_matrix_test[1,1])/(confusion_matrix_test[0,0]+confusion_matrix_test[0,1]+confusion_matrix_test[1,0]+confusion_matrix_test[1,1])\n",
    "TNR_Test= confusion_matrix_test[0,0]/(confusion_matrix_test[0,0] +confusion_matrix_test[0,1])\n",
    "TPR_Test= confusion_matrix_test[1,1]/(confusion_matrix_test[1,0] +confusion_matrix_test[1,1])\n",
    "\n",
    "print(\"Test TNR: \",TNR_Test)\n",
    "print(\"\\n\")\n",
    "print(\"Test TPR: \",TPR_Test)\n",
    "print(\"\\n\")\n",
    "print(\"Test Accuracy: \",Accuracy_Test)"
   ]
  },
  {
   "cell_type": "code",
   "execution_count": 145,
   "metadata": {},
   "outputs": [],
   "source": [
    "## Get the predictions on test data.\n",
    "y_pred = model.predict(test)"
   ]
  },
  {
   "cell_type": "code",
   "execution_count": 147,
   "metadata": {},
   "outputs": [
    {
     "data": {
      "text/plain": [
       "array([1, 1, 1, ..., 1, 1, 1], dtype=int64)"
      ]
     },
     "execution_count": 147,
     "metadata": {},
     "output_type": "execute_result"
    }
   ],
   "source": [
    "## Display prediction values.\n",
    "y_pred"
   ]
  },
  {
   "cell_type": "code",
   "execution_count": 148,
   "metadata": {},
   "outputs": [
    {
     "data": {
      "text/html": [
       "<div>\n",
       "<style scoped>\n",
       "    .dataframe tbody tr th:only-of-type {\n",
       "        vertical-align: middle;\n",
       "    }\n",
       "\n",
       "    .dataframe tbody tr th {\n",
       "        vertical-align: top;\n",
       "    }\n",
       "\n",
       "    .dataframe thead th {\n",
       "        text-align: right;\n",
       "    }\n",
       "</style>\n",
       "<table border=\"1\" class=\"dataframe\">\n",
       "  <thead>\n",
       "    <tr style=\"text-align: right;\">\n",
       "      <th></th>\n",
       "      <th>X_1</th>\n",
       "      <th>X_2</th>\n",
       "      <th>X_4</th>\n",
       "      <th>X_5</th>\n",
       "      <th>X_6</th>\n",
       "      <th>X_7</th>\n",
       "      <th>X_8</th>\n",
       "      <th>X_9</th>\n",
       "      <th>X_10</th>\n",
       "      <th>X_11</th>\n",
       "      <th>X_12</th>\n",
       "      <th>X_13</th>\n",
       "      <th>X_14</th>\n",
       "      <th>X_15</th>\n",
       "      <th>year</th>\n",
       "      <th>month</th>\n",
       "      <th>day</th>\n",
       "    </tr>\n",
       "    <tr>\n",
       "      <th>INCIDENT_ID</th>\n",
       "      <th></th>\n",
       "      <th></th>\n",
       "      <th></th>\n",
       "      <th></th>\n",
       "      <th></th>\n",
       "      <th></th>\n",
       "      <th></th>\n",
       "      <th></th>\n",
       "      <th></th>\n",
       "      <th></th>\n",
       "      <th></th>\n",
       "      <th></th>\n",
       "      <th></th>\n",
       "      <th></th>\n",
       "      <th></th>\n",
       "      <th></th>\n",
       "      <th></th>\n",
       "    </tr>\n",
       "  </thead>\n",
       "  <tbody>\n",
       "    <tr>\n",
       "      <th>CR_195453</th>\n",
       "      <td>0</td>\n",
       "      <td>30</td>\n",
       "      <td>7</td>\n",
       "      <td>3</td>\n",
       "      <td>5</td>\n",
       "      <td>4</td>\n",
       "      <td>0</td>\n",
       "      <td>5</td>\n",
       "      <td>1</td>\n",
       "      <td>174</td>\n",
       "      <td>0</td>\n",
       "      <td>72</td>\n",
       "      <td>119</td>\n",
       "      <td>23</td>\n",
       "      <td>27</td>\n",
       "      <td>1</td>\n",
       "      <td>0</td>\n",
       "    </tr>\n",
       "  </tbody>\n",
       "</table>\n",
       "</div>"
      ],
      "text/plain": [
       "             X_1  X_2  X_4  X_5  X_6  X_7  X_8  X_9  X_10  X_11  X_12  X_13  \\\n",
       "INCIDENT_ID                                                                   \n",
       "CR_195453      0   30    7    3    5    4    0    5     1   174     0    72   \n",
       "\n",
       "             X_14  X_15  year  month  day  \n",
       "INCIDENT_ID                                \n",
       "CR_195453     119    23    27      1    0  "
      ]
     },
     "execution_count": 148,
     "metadata": {},
     "output_type": "execute_result"
    }
   ],
   "source": [
    "## Get first record of test data.\n",
    "test.head(1)"
   ]
  },
  {
   "cell_type": "code",
   "execution_count": 149,
   "metadata": {},
   "outputs": [],
   "source": [
    "## Do Inverse ransform on predictions,so that will get it's original values.\n",
    "test['MULTIPLE_OFFENSE'] = le_multiple_offense.inverse_transform(y_pred)"
   ]
  },
  {
   "cell_type": "code",
   "execution_count": 150,
   "metadata": {},
   "outputs": [],
   "source": [
    "## Reset index of test data.\n",
    "test.reset_index(inplace=True)"
   ]
  },
  {
   "cell_type": "code",
   "execution_count": 151,
   "metadata": {},
   "outputs": [],
   "source": [
    "## Copy INCIDENT_ID , MULTIPLE_OFFENSE columns from test to to_submit.\n",
    "to_submit = test[['INCIDENT_ID', 'MULTIPLE_OFFENSE']]"
   ]
  },
  {
   "cell_type": "code",
   "execution_count": 153,
   "metadata": {
    "scrolled": false
   },
   "outputs": [
    {
     "data": {
      "text/plain": [
       "1    15181\n",
       "0      722\n",
       "Name: MULTIPLE_OFFENSE, dtype: int64"
      ]
     },
     "execution_count": 153,
     "metadata": {},
     "output_type": "execute_result"
    }
   ],
   "source": [
    "## Get count of MULTIPLE_OFFENSE column.\n",
    "to_submit.MULTIPLE_OFFENSE.value_counts()"
   ]
  },
  {
   "cell_type": "code",
   "execution_count": 154,
   "metadata": {},
   "outputs": [
    {
     "data": {
      "text/plain": [
       "(15903, 2)"
      ]
     },
     "execution_count": 154,
     "metadata": {},
     "output_type": "execute_result"
    }
   ],
   "source": [
    "## Check dimensions of to_submit data.\n",
    "to_submit.shape"
   ]
  },
  {
   "cell_type": "code",
   "execution_count": 155,
   "metadata": {},
   "outputs": [
    {
     "data": {
      "text/plain": [
       "(15903, 19)"
      ]
     },
     "execution_count": 155,
     "metadata": {},
     "output_type": "execute_result"
    }
   ],
   "source": [
    "## Check dimensions of test data.\n",
    "test.shape"
   ]
  },
  {
   "cell_type": "code",
   "execution_count": 157,
   "metadata": {},
   "outputs": [],
   "source": [
    "## store to_submit into csv file with name xgbmodel_predictions. \n",
    "to_submit.to_csv('xgbmodel_predictions.csv',index = False)"
   ]
  }
 ],
 "metadata": {
  "kernelspec": {
   "display_name": "Python 3",
   "language": "python",
   "name": "python3"
  },
  "language_info": {
   "codemirror_mode": {
    "name": "ipython",
    "version": 3
   },
   "file_extension": ".py",
   "mimetype": "text/x-python",
   "name": "python",
   "nbconvert_exporter": "python",
   "pygments_lexer": "ipython3",
   "version": "3.6.5"
  },
  "toc": {
   "base_numbering": 1,
   "nav_menu": {},
   "number_sections": true,
   "sideBar": true,
   "skip_h1_title": false,
   "title_cell": "Table of Contents",
   "title_sidebar": "Contents",
   "toc_cell": false,
   "toc_position": {},
   "toc_section_display": true,
   "toc_window_display": false
  }
 },
 "nbformat": 4,
 "nbformat_minor": 2
}
