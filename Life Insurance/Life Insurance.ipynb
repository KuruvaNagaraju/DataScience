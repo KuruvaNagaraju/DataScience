{
 "cells": [
  {
   "cell_type": "markdown",
   "metadata": {},
   "source": [
    "## Problem Statement\n",
    "\n",
    "Non-life insurance company that wants to evaluate customer life time value based on each customer's demographics and policy information including claim details. The CLV(customer life time value) is a profitablity metric the organization has set in terms of a value placed by the company on each customer and can be conceived in two dimensions: the customer`s present Value and potential future Value.\n",
    "\n",
    "It is important for the company to take an optimal decision and implement appropriate action plans. They will be able to do this by accurately predicting the CLV of its customers.\n",
    "\n",
    "An analytical and modelling framework to predict the life time value of each customer is designed.Various statistical and machine learning models were applied to predict the CLV. This is based on the quantitative and qualitative features provided in the dataset.\n",
    "\n",
    "**Goal**\n",
    "\n",
    "To predict the Customer life time value for an auto insurance company based on different quantitative and qualitative features provided."
   ]
  },
  {
   "cell_type": "code",
   "execution_count": 403,
   "metadata": {},
   "outputs": [],
   "source": [
    "## Import necessary libraries.\n",
    "\n",
    "import numpy as np ## Numpy Library ( will use to convert data frame to array or creating array etc...).\n",
    "import pandas as pd ## Pandas Library (will use to load data,create data frame...etc).\n",
    "import os ## For connecting to machine to get path for reading/writing files.\n",
    "from sklearn.preprocessing import LabelEncoder ## For label encoding(converting categorical values to label).\n",
    "from sklearn.model_selection import train_test_split ## For splitting data into train and validation.\n",
    "from sklearn.preprocessing import LabelEncoder ## For label encoding(converting categorical values to label).\n",
    "from statsmodels.stats.outliers_influence import variance_inflation_factor ## For VIF.\n",
    "from sklearn.linear_model import LinearRegression ## For regression model.\n",
    "from sklearn.metrics import mean_squared_error ## For MSE.\n",
    "from math import sqrt ## For square root.\n",
    "from sklearn.tree import DecisionTreeRegressor ## For Decision tree model.\n",
    "from sklearn.ensemble import RandomForestRegressor ## For Random Forest model.\n",
    "from sklearn.neighbors import KNeighborsRegressor ## For KNN mmodel.\n",
    "from sklearn.svm import SVR ## For SVR mmodel.\n",
    "from sklearn.ensemble import AdaBoostRegressor ## For Adaboost model.\n",
    "from sklearn.ensemble import GradientBoostingRegressor ## For GBR model.\n",
    "from xgboost.sklearn import XGBRegressor ## For  XGB model.\n",
    "from keras.models import Sequential ## For sequential model\n",
    "from keras.layers import Dense ## For fully connnected layer.\n",
    "from sklearn.model_selection import GridSearchCV ## For Grid search.\n",
    "from sklearn.linear_model import Ridge ## For Ridge model.\n",
    "from sklearn.linear_model import Lasso ## For Lasso model."
   ]
  },
  {
   "cell_type": "code",
   "execution_count": 2,
   "metadata": {
    "scrolled": true
   },
   "outputs": [
    {
     "data": {
      "text/plain": [
       "'D:\\\\Python\\\\Pratice\\\\Life Insurance'"
      ]
     },
     "execution_count": 2,
     "metadata": {},
     "output_type": "execute_result"
    }
   ],
   "source": [
    "## Get current working directory.\n",
    "os.getcwd()"
   ]
  },
  {
   "cell_type": "code",
   "execution_count": 3,
   "metadata": {},
   "outputs": [
    {
     "data": {
      "text/plain": [
       "'D:\\\\DataScience\\\\Pratice\\\\Life Insurance'"
      ]
     },
     "execution_count": 3,
     "metadata": {},
     "output_type": "execute_result"
    }
   ],
   "source": [
    "## Set working directory.\n",
    "os.chdir(\"D:\\DataScience\\Pratice\\Life Insurance\")\n",
    "os.getcwd()"
   ]
  },
  {
   "cell_type": "code",
   "execution_count": 4,
   "metadata": {},
   "outputs": [],
   "source": [
    "## Read train and test data.\n",
    "train = pd.read_csv('train.csv',sep=',',header='infer')\n",
    "test = pd.read_csv('test.csv',sep=',',header='infer')"
   ]
  },
  {
   "cell_type": "code",
   "execution_count": 5,
   "metadata": {},
   "outputs": [
    {
     "data": {
      "text/html": [
       "<div>\n",
       "<style scoped>\n",
       "    .dataframe tbody tr th:only-of-type {\n",
       "        vertical-align: middle;\n",
       "    }\n",
       "\n",
       "    .dataframe tbody tr th {\n",
       "        vertical-align: top;\n",
       "    }\n",
       "\n",
       "    .dataframe thead th {\n",
       "        text-align: right;\n",
       "    }\n",
       "</style>\n",
       "<table border=\"1\" class=\"dataframe\">\n",
       "  <thead>\n",
       "    <tr style=\"text-align: right;\">\n",
       "      <th></th>\n",
       "      <th>CustomerID</th>\n",
       "      <th>Customer.Lifetime.Value</th>\n",
       "      <th>Coverage</th>\n",
       "      <th>Education</th>\n",
       "      <th>EmploymentStatus</th>\n",
       "      <th>Gender</th>\n",
       "      <th>Income</th>\n",
       "      <th>Location.Geo</th>\n",
       "      <th>Location.Code</th>\n",
       "      <th>Marital.Status</th>\n",
       "      <th>...</th>\n",
       "      <th>Months.Since.Policy.Inception</th>\n",
       "      <th>Number.of.Open.Complaints</th>\n",
       "      <th>Number.of.Policies</th>\n",
       "      <th>Policy.Type</th>\n",
       "      <th>Policy</th>\n",
       "      <th>Renew.Offer.Type</th>\n",
       "      <th>Sales.Channel</th>\n",
       "      <th>Total.Claim.Amount</th>\n",
       "      <th>Vehicle.Class</th>\n",
       "      <th>Vehicle.Size</th>\n",
       "    </tr>\n",
       "  </thead>\n",
       "  <tbody>\n",
       "    <tr>\n",
       "      <th>0</th>\n",
       "      <td>5917</td>\n",
       "      <td>7824.372789</td>\n",
       "      <td>Basic</td>\n",
       "      <td>Bachelor</td>\n",
       "      <td>Unemployed</td>\n",
       "      <td>F</td>\n",
       "      <td>0</td>\n",
       "      <td>17.7,77.7</td>\n",
       "      <td>Urban</td>\n",
       "      <td>Married</td>\n",
       "      <td>...</td>\n",
       "      <td>33</td>\n",
       "      <td>NaN</td>\n",
       "      <td>2.0</td>\n",
       "      <td>Personal Auto</td>\n",
       "      <td>Personal L2</td>\n",
       "      <td>Offer2</td>\n",
       "      <td>Branch</td>\n",
       "      <td>267.214383</td>\n",
       "      <td>Four-Door Car</td>\n",
       "      <td>2.0</td>\n",
       "    </tr>\n",
       "    <tr>\n",
       "      <th>1</th>\n",
       "      <td>2057</td>\n",
       "      <td>8005.964669</td>\n",
       "      <td>Basic</td>\n",
       "      <td>College</td>\n",
       "      <td>Employed</td>\n",
       "      <td>M</td>\n",
       "      <td>63357</td>\n",
       "      <td>28.8,76.6</td>\n",
       "      <td>Suburban</td>\n",
       "      <td>Married</td>\n",
       "      <td>...</td>\n",
       "      <td>42</td>\n",
       "      <td>0.0</td>\n",
       "      <td>5.0</td>\n",
       "      <td>Personal Auto</td>\n",
       "      <td>Personal L2</td>\n",
       "      <td>Offer2</td>\n",
       "      <td>Agent</td>\n",
       "      <td>565.508572</td>\n",
       "      <td>SUV</td>\n",
       "      <td>2.0</td>\n",
       "    </tr>\n",
       "    <tr>\n",
       "      <th>2</th>\n",
       "      <td>4119</td>\n",
       "      <td>8646.504109</td>\n",
       "      <td>Basic</td>\n",
       "      <td>High School or Below</td>\n",
       "      <td>Employed</td>\n",
       "      <td>F</td>\n",
       "      <td>64125</td>\n",
       "      <td>21.6,88.4</td>\n",
       "      <td>Urban</td>\n",
       "      <td>Married</td>\n",
       "      <td>...</td>\n",
       "      <td>44</td>\n",
       "      <td>0.0</td>\n",
       "      <td>3.0</td>\n",
       "      <td>Personal Auto</td>\n",
       "      <td>Personal L1</td>\n",
       "      <td>Offer2</td>\n",
       "      <td>Branch</td>\n",
       "      <td>369.818708</td>\n",
       "      <td>SUV</td>\n",
       "      <td>1.0</td>\n",
       "    </tr>\n",
       "    <tr>\n",
       "      <th>3</th>\n",
       "      <td>1801</td>\n",
       "      <td>9294.088719</td>\n",
       "      <td>Basic</td>\n",
       "      <td>College</td>\n",
       "      <td>Employed</td>\n",
       "      <td>M</td>\n",
       "      <td>67544</td>\n",
       "      <td>19,72.5</td>\n",
       "      <td>Suburban</td>\n",
       "      <td>Married</td>\n",
       "      <td>...</td>\n",
       "      <td>15</td>\n",
       "      <td>NaN</td>\n",
       "      <td>3.0</td>\n",
       "      <td>Corporate Auto</td>\n",
       "      <td>Corporate L3</td>\n",
       "      <td>Offer1</td>\n",
       "      <td>Branch</td>\n",
       "      <td>556.800000</td>\n",
       "      <td>SUV</td>\n",
       "      <td>3.0</td>\n",
       "    </tr>\n",
       "    <tr>\n",
       "      <th>4</th>\n",
       "      <td>9618</td>\n",
       "      <td>5595.971365</td>\n",
       "      <td>Basic</td>\n",
       "      <td>Bachelor</td>\n",
       "      <td>Retired</td>\n",
       "      <td>F</td>\n",
       "      <td>19651</td>\n",
       "      <td>19.1,74.7</td>\n",
       "      <td>Suburban</td>\n",
       "      <td>Married</td>\n",
       "      <td>...</td>\n",
       "      <td>68</td>\n",
       "      <td>0.0</td>\n",
       "      <td>5.0</td>\n",
       "      <td>Personal Auto</td>\n",
       "      <td>Personal L1</td>\n",
       "      <td>Offer2</td>\n",
       "      <td>Web</td>\n",
       "      <td>345.600000</td>\n",
       "      <td>Two-Door Car</td>\n",
       "      <td>3.0</td>\n",
       "    </tr>\n",
       "  </tbody>\n",
       "</table>\n",
       "<p>5 rows × 22 columns</p>\n",
       "</div>"
      ],
      "text/plain": [
       "   CustomerID  Customer.Lifetime.Value Coverage             Education  \\\n",
       "0        5917              7824.372789    Basic              Bachelor   \n",
       "1        2057              8005.964669    Basic               College   \n",
       "2        4119              8646.504109    Basic  High School or Below   \n",
       "3        1801              9294.088719    Basic               College   \n",
       "4        9618              5595.971365    Basic              Bachelor   \n",
       "\n",
       "  EmploymentStatus Gender Income Location.Geo Location.Code Marital.Status  \\\n",
       "0       Unemployed      F      0    17.7,77.7         Urban        Married   \n",
       "1         Employed      M  63357    28.8,76.6      Suburban        Married   \n",
       "2         Employed      F  64125    21.6,88.4         Urban        Married   \n",
       "3         Employed      M  67544      19,72.5      Suburban        Married   \n",
       "4          Retired      F  19651    19.1,74.7      Suburban        Married   \n",
       "\n",
       "   ...  Months.Since.Policy.Inception  Number.of.Open.Complaints  \\\n",
       "0  ...                             33                        NaN   \n",
       "1  ...                             42                        0.0   \n",
       "2  ...                             44                        0.0   \n",
       "3  ...                             15                        NaN   \n",
       "4  ...                             68                        0.0   \n",
       "\n",
       "   Number.of.Policies     Policy.Type        Policy Renew.Offer.Type  \\\n",
       "0                 2.0   Personal Auto   Personal L2           Offer2   \n",
       "1                 5.0   Personal Auto   Personal L2           Offer2   \n",
       "2                 3.0   Personal Auto   Personal L1           Offer2   \n",
       "3                 3.0  Corporate Auto  Corporate L3           Offer1   \n",
       "4                 5.0   Personal Auto   Personal L1           Offer2   \n",
       "\n",
       "  Sales.Channel Total.Claim.Amount  Vehicle.Class  Vehicle.Size  \n",
       "0        Branch         267.214383  Four-Door Car           2.0  \n",
       "1         Agent         565.508572            SUV           2.0  \n",
       "2        Branch         369.818708            SUV           1.0  \n",
       "3        Branch         556.800000            SUV           3.0  \n",
       "4           Web         345.600000   Two-Door Car           3.0  \n",
       "\n",
       "[5 rows x 22 columns]"
      ]
     },
     "execution_count": 5,
     "metadata": {},
     "output_type": "execute_result"
    }
   ],
   "source": [
    "## Get first 5 records of train data.\n",
    "train.head()"
   ]
  },
  {
   "cell_type": "code",
   "execution_count": 6,
   "metadata": {},
   "outputs": [
    {
     "data": {
      "text/html": [
       "<div>\n",
       "<style scoped>\n",
       "    .dataframe tbody tr th:only-of-type {\n",
       "        vertical-align: middle;\n",
       "    }\n",
       "\n",
       "    .dataframe tbody tr th {\n",
       "        vertical-align: top;\n",
       "    }\n",
       "\n",
       "    .dataframe thead th {\n",
       "        text-align: right;\n",
       "    }\n",
       "</style>\n",
       "<table border=\"1\" class=\"dataframe\">\n",
       "  <thead>\n",
       "    <tr style=\"text-align: right;\">\n",
       "      <th></th>\n",
       "      <th>CustomerID</th>\n",
       "      <th>Customer.Lifetime.Value</th>\n",
       "      <th>Coverage</th>\n",
       "      <th>Education</th>\n",
       "      <th>EmploymentStatus</th>\n",
       "      <th>Gender</th>\n",
       "      <th>Income</th>\n",
       "      <th>Location.Geo</th>\n",
       "      <th>Location.Code</th>\n",
       "      <th>Marital.Status</th>\n",
       "      <th>...</th>\n",
       "      <th>Months.Since.Policy.Inception</th>\n",
       "      <th>Number.of.Open.Complaints</th>\n",
       "      <th>Number.of.Policies</th>\n",
       "      <th>Policy.Type</th>\n",
       "      <th>Policy</th>\n",
       "      <th>Renew.Offer.Type</th>\n",
       "      <th>Sales.Channel</th>\n",
       "      <th>Total.Claim.Amount</th>\n",
       "      <th>Vehicle.Class</th>\n",
       "      <th>Vehicle.Size</th>\n",
       "    </tr>\n",
       "  </thead>\n",
       "  <tbody>\n",
       "    <tr>\n",
       "      <th>9801</th>\n",
       "      <td>3735</td>\n",
       "      <td>20496.694260</td>\n",
       "      <td>Basic</td>\n",
       "      <td>High School or Below</td>\n",
       "      <td>Unemployed</td>\n",
       "      <td>F</td>\n",
       "      <td>0</td>\n",
       "      <td>12.7,79.4</td>\n",
       "      <td>Suburban</td>\n",
       "      <td>Single</td>\n",
       "      <td>...</td>\n",
       "      <td>72</td>\n",
       "      <td>0.0</td>\n",
       "      <td>2.0</td>\n",
       "      <td>Personal Auto</td>\n",
       "      <td>Personal L2</td>\n",
       "      <td>Offer1</td>\n",
       "      <td>Branch</td>\n",
       "      <td>307.200000</td>\n",
       "      <td>Four-Door Car</td>\n",
       "      <td>2.0</td>\n",
       "    </tr>\n",
       "    <tr>\n",
       "      <th>9802</th>\n",
       "      <td>5988</td>\n",
       "      <td>2592.437797</td>\n",
       "      <td>Basic</td>\n",
       "      <td>High School or Below</td>\n",
       "      <td>Employed</td>\n",
       "      <td>M</td>\n",
       "      <td>72421</td>\n",
       "      <td>18.6,72.3</td>\n",
       "      <td>Suburban</td>\n",
       "      <td>Married</td>\n",
       "      <td>...</td>\n",
       "      <td>23</td>\n",
       "      <td>0.0</td>\n",
       "      <td>1.0</td>\n",
       "      <td>Corporate Auto</td>\n",
       "      <td>Corporate L3</td>\n",
       "      <td>Offer2</td>\n",
       "      <td>Call Center</td>\n",
       "      <td>312.000000</td>\n",
       "      <td>Four-Door Car</td>\n",
       "      <td>3.0</td>\n",
       "    </tr>\n",
       "    <tr>\n",
       "      <th>9803</th>\n",
       "      <td>8767</td>\n",
       "      <td>3103.923041</td>\n",
       "      <td>Extended</td>\n",
       "      <td>College</td>\n",
       "      <td>Employed</td>\n",
       "      <td>F</td>\n",
       "      <td>74665</td>\n",
       "      <td>19.2,74.7</td>\n",
       "      <td>Urban</td>\n",
       "      <td>Married</td>\n",
       "      <td>...</td>\n",
       "      <td>90</td>\n",
       "      <td>2.0</td>\n",
       "      <td>1.0</td>\n",
       "      <td>Corporate Auto</td>\n",
       "      <td>Corporate L2</td>\n",
       "      <td>Offer2</td>\n",
       "      <td>Call Center</td>\n",
       "      <td>236.902001</td>\n",
       "      <td>Four-Door Car</td>\n",
       "      <td>2.0</td>\n",
       "    </tr>\n",
       "    <tr>\n",
       "      <th>9804</th>\n",
       "      <td>9900</td>\n",
       "      <td>9161.655119</td>\n",
       "      <td>Basic</td>\n",
       "      <td>High School or Below</td>\n",
       "      <td>Employed</td>\n",
       "      <td>F</td>\n",
       "      <td>91763</td>\n",
       "      <td>19.5,73.9</td>\n",
       "      <td>Urban</td>\n",
       "      <td>Married</td>\n",
       "      <td>...</td>\n",
       "      <td>64</td>\n",
       "      <td>0.0</td>\n",
       "      <td>3.0</td>\n",
       "      <td>Special Auto</td>\n",
       "      <td>Special L3</td>\n",
       "      <td>Offer1</td>\n",
       "      <td>Call Center</td>\n",
       "      <td>441.992043</td>\n",
       "      <td>SUV</td>\n",
       "      <td>3.0</td>\n",
       "    </tr>\n",
       "    <tr>\n",
       "      <th>9805</th>\n",
       "      <td>11323</td>\n",
       "      <td>8583.272854</td>\n",
       "      <td>Premium</td>\n",
       "      <td>High School or Below</td>\n",
       "      <td>Disabled</td>\n",
       "      <td>F</td>\n",
       "      <td>18017</td>\n",
       "      <td>17.2,78.2</td>\n",
       "      <td>Suburban</td>\n",
       "      <td>Divorced</td>\n",
       "      <td>...</td>\n",
       "      <td>54</td>\n",
       "      <td>0.0</td>\n",
       "      <td>9.0</td>\n",
       "      <td>Personal Auto</td>\n",
       "      <td>Personal L3</td>\n",
       "      <td>Offer2</td>\n",
       "      <td>Call Center</td>\n",
       "      <td>547.200000</td>\n",
       "      <td>Four-Door Car</td>\n",
       "      <td>2.0</td>\n",
       "    </tr>\n",
       "  </tbody>\n",
       "</table>\n",
       "<p>5 rows × 22 columns</p>\n",
       "</div>"
      ],
      "text/plain": [
       "      CustomerID  Customer.Lifetime.Value  Coverage             Education  \\\n",
       "9801        3735             20496.694260     Basic  High School or Below   \n",
       "9802        5988              2592.437797     Basic  High School or Below   \n",
       "9803        8767              3103.923041  Extended               College   \n",
       "9804        9900              9161.655119     Basic  High School or Below   \n",
       "9805       11323              8583.272854   Premium  High School or Below   \n",
       "\n",
       "     EmploymentStatus Gender Income Location.Geo Location.Code Marital.Status  \\\n",
       "9801       Unemployed      F      0    12.7,79.4      Suburban         Single   \n",
       "9802         Employed      M  72421    18.6,72.3      Suburban        Married   \n",
       "9803         Employed      F  74665    19.2,74.7         Urban        Married   \n",
       "9804         Employed      F  91763    19.5,73.9         Urban        Married   \n",
       "9805         Disabled      F  18017    17.2,78.2      Suburban       Divorced   \n",
       "\n",
       "      ...  Months.Since.Policy.Inception  Number.of.Open.Complaints  \\\n",
       "9801  ...                             72                        0.0   \n",
       "9802  ...                             23                        0.0   \n",
       "9803  ...                             90                        2.0   \n",
       "9804  ...                             64                        0.0   \n",
       "9805  ...                             54                        0.0   \n",
       "\n",
       "      Number.of.Policies     Policy.Type        Policy Renew.Offer.Type  \\\n",
       "9801                 2.0   Personal Auto   Personal L2           Offer1   \n",
       "9802                 1.0  Corporate Auto  Corporate L3           Offer2   \n",
       "9803                 1.0  Corporate Auto  Corporate L2           Offer2   \n",
       "9804                 3.0    Special Auto    Special L3           Offer1   \n",
       "9805                 9.0   Personal Auto   Personal L3           Offer2   \n",
       "\n",
       "     Sales.Channel Total.Claim.Amount  Vehicle.Class  Vehicle.Size  \n",
       "9801        Branch         307.200000  Four-Door Car           2.0  \n",
       "9802   Call Center         312.000000  Four-Door Car           3.0  \n",
       "9803   Call Center         236.902001  Four-Door Car           2.0  \n",
       "9804   Call Center         441.992043            SUV           3.0  \n",
       "9805   Call Center         547.200000  Four-Door Car           2.0  \n",
       "\n",
       "[5 rows x 22 columns]"
      ]
     },
     "execution_count": 6,
     "metadata": {},
     "output_type": "execute_result"
    }
   ],
   "source": [
    "## Get last 5 records of train data.\n",
    "train.tail()"
   ]
  },
  {
   "cell_type": "code",
   "execution_count": 7,
   "metadata": {},
   "outputs": [
    {
     "data": {
      "text/html": [
       "<div>\n",
       "<style scoped>\n",
       "    .dataframe tbody tr th:only-of-type {\n",
       "        vertical-align: middle;\n",
       "    }\n",
       "\n",
       "    .dataframe tbody tr th {\n",
       "        vertical-align: top;\n",
       "    }\n",
       "\n",
       "    .dataframe thead th {\n",
       "        text-align: right;\n",
       "    }\n",
       "</style>\n",
       "<table border=\"1\" class=\"dataframe\">\n",
       "  <thead>\n",
       "    <tr style=\"text-align: right;\">\n",
       "      <th></th>\n",
       "      <th>CustomerID</th>\n",
       "      <th>Coverage</th>\n",
       "      <th>Education</th>\n",
       "      <th>EmploymentStatus</th>\n",
       "      <th>Gender</th>\n",
       "      <th>Income</th>\n",
       "      <th>Location.Geo</th>\n",
       "      <th>Location.Code</th>\n",
       "      <th>Marital.Status</th>\n",
       "      <th>Monthly.Premium.Auto</th>\n",
       "      <th>...</th>\n",
       "      <th>Months.Since.Policy.Inception</th>\n",
       "      <th>Number.of.Open.Complaints</th>\n",
       "      <th>Number.of.Policies</th>\n",
       "      <th>Policy.Type</th>\n",
       "      <th>Policy</th>\n",
       "      <th>Renew.Offer.Type</th>\n",
       "      <th>Sales.Channel</th>\n",
       "      <th>Total.Claim.Amount</th>\n",
       "      <th>Vehicle.Class</th>\n",
       "      <th>Vehicle.Size</th>\n",
       "    </tr>\n",
       "  </thead>\n",
       "  <tbody>\n",
       "    <tr>\n",
       "      <th>0</th>\n",
       "      <td>17</td>\n",
       "      <td>Basic</td>\n",
       "      <td>Bachelor</td>\n",
       "      <td>Employed</td>\n",
       "      <td>M</td>\n",
       "      <td>43836.0</td>\n",
       "      <td>12.6,79.4</td>\n",
       "      <td>Rural</td>\n",
       "      <td>Single</td>\n",
       "      <td>73.0</td>\n",
       "      <td>...</td>\n",
       "      <td>44</td>\n",
       "      <td>0</td>\n",
       "      <td>1</td>\n",
       "      <td>Personal Auto</td>\n",
       "      <td>Personal L1</td>\n",
       "      <td>Offer1</td>\n",
       "      <td>Agent</td>\n",
       "      <td>138.130879</td>\n",
       "      <td>Four-Door Car</td>\n",
       "      <td>Medsize</td>\n",
       "    </tr>\n",
       "    <tr>\n",
       "      <th>1</th>\n",
       "      <td>19</td>\n",
       "      <td>Extended</td>\n",
       "      <td>College</td>\n",
       "      <td>Employed</td>\n",
       "      <td>F</td>\n",
       "      <td>28812.0</td>\n",
       "      <td>17.3,78.4</td>\n",
       "      <td>Urban</td>\n",
       "      <td>Married</td>\n",
       "      <td>93.0</td>\n",
       "      <td>...</td>\n",
       "      <td>7</td>\n",
       "      <td>0</td>\n",
       "      <td>8</td>\n",
       "      <td>Special Auto</td>\n",
       "      <td>Special L2</td>\n",
       "      <td>Offer2</td>\n",
       "      <td>Branch</td>\n",
       "      <td>425.527834</td>\n",
       "      <td>Four-Door Car</td>\n",
       "      <td>Medsize</td>\n",
       "    </tr>\n",
       "    <tr>\n",
       "      <th>2</th>\n",
       "      <td>29</td>\n",
       "      <td>Premium</td>\n",
       "      <td>Master</td>\n",
       "      <td>Employed</td>\n",
       "      <td>M</td>\n",
       "      <td>77026.0</td>\n",
       "      <td>18.4,73.5</td>\n",
       "      <td>Urban</td>\n",
       "      <td>Married</td>\n",
       "      <td>110.0</td>\n",
       "      <td>...</td>\n",
       "      <td>82</td>\n",
       "      <td>2</td>\n",
       "      <td>3</td>\n",
       "      <td>Corporate Auto</td>\n",
       "      <td>Corporate L1</td>\n",
       "      <td>Offer2</td>\n",
       "      <td>Agent</td>\n",
       "      <td>472.029737</td>\n",
       "      <td>Four-Door Car</td>\n",
       "      <td>Medsize</td>\n",
       "    </tr>\n",
       "    <tr>\n",
       "      <th>3</th>\n",
       "      <td>34</td>\n",
       "      <td>Basic</td>\n",
       "      <td>Bachelor</td>\n",
       "      <td>Employed</td>\n",
       "      <td>F</td>\n",
       "      <td>24599.0</td>\n",
       "      <td>17.1,78.2</td>\n",
       "      <td>Rural</td>\n",
       "      <td>Married</td>\n",
       "      <td>64.0</td>\n",
       "      <td>...</td>\n",
       "      <td>50</td>\n",
       "      <td>1</td>\n",
       "      <td>2</td>\n",
       "      <td>Corporate Auto</td>\n",
       "      <td>Corporate L2</td>\n",
       "      <td>Offer2</td>\n",
       "      <td>Branch</td>\n",
       "      <td>42.920271</td>\n",
       "      <td>Four-Door Car</td>\n",
       "      <td>Medsize</td>\n",
       "    </tr>\n",
       "    <tr>\n",
       "      <th>4</th>\n",
       "      <td>37</td>\n",
       "      <td>Extended</td>\n",
       "      <td>Bachelor</td>\n",
       "      <td>Disabled</td>\n",
       "      <td>F</td>\n",
       "      <td>13789.0</td>\n",
       "      <td>13,80.1</td>\n",
       "      <td>Suburban</td>\n",
       "      <td>Divorced</td>\n",
       "      <td>79.0</td>\n",
       "      <td>...</td>\n",
       "      <td>49</td>\n",
       "      <td>0</td>\n",
       "      <td>1</td>\n",
       "      <td>Personal Auto</td>\n",
       "      <td>Personal L3</td>\n",
       "      <td>Offer4</td>\n",
       "      <td>Call Center</td>\n",
       "      <td>379.200000</td>\n",
       "      <td>Four-Door Car</td>\n",
       "      <td>Medsize</td>\n",
       "    </tr>\n",
       "  </tbody>\n",
       "</table>\n",
       "<p>5 rows × 21 columns</p>\n",
       "</div>"
      ],
      "text/plain": [
       "   CustomerID  Coverage Education EmploymentStatus Gender   Income  \\\n",
       "0          17     Basic  Bachelor         Employed      M  43836.0   \n",
       "1          19  Extended   College         Employed      F  28812.0   \n",
       "2          29   Premium    Master         Employed      M  77026.0   \n",
       "3          34     Basic  Bachelor         Employed      F  24599.0   \n",
       "4          37  Extended  Bachelor         Disabled      F  13789.0   \n",
       "\n",
       "  Location.Geo Location.Code Marital.Status  Monthly.Premium.Auto  ...  \\\n",
       "0    12.6,79.4         Rural         Single                  73.0  ...   \n",
       "1    17.3,78.4         Urban        Married                  93.0  ...   \n",
       "2    18.4,73.5         Urban        Married                 110.0  ...   \n",
       "3    17.1,78.2         Rural        Married                  64.0  ...   \n",
       "4      13,80.1      Suburban       Divorced                  79.0  ...   \n",
       "\n",
       "   Months.Since.Policy.Inception  Number.of.Open.Complaints  \\\n",
       "0                             44                          0   \n",
       "1                              7                          0   \n",
       "2                             82                          2   \n",
       "3                             50                          1   \n",
       "4                             49                          0   \n",
       "\n",
       "   Number.of.Policies     Policy.Type        Policy Renew.Offer.Type  \\\n",
       "0                   1   Personal Auto   Personal L1           Offer1   \n",
       "1                   8    Special Auto    Special L2           Offer2   \n",
       "2                   3  Corporate Auto  Corporate L1           Offer2   \n",
       "3                   2  Corporate Auto  Corporate L2           Offer2   \n",
       "4                   1   Personal Auto   Personal L3           Offer4   \n",
       "\n",
       "  Sales.Channel Total.Claim.Amount  Vehicle.Class Vehicle.Size  \n",
       "0         Agent         138.130879  Four-Door Car      Medsize  \n",
       "1        Branch         425.527834  Four-Door Car      Medsize  \n",
       "2         Agent         472.029737  Four-Door Car      Medsize  \n",
       "3        Branch          42.920271  Four-Door Car      Medsize  \n",
       "4   Call Center         379.200000  Four-Door Car      Medsize  \n",
       "\n",
       "[5 rows x 21 columns]"
      ]
     },
     "execution_count": 7,
     "metadata": {},
     "output_type": "execute_result"
    }
   ],
   "source": [
    "## Get first 5 records of test data.\n",
    "test.head()"
   ]
  },
  {
   "cell_type": "code",
   "execution_count": 8,
   "metadata": {},
   "outputs": [
    {
     "data": {
      "text/html": [
       "<div>\n",
       "<style scoped>\n",
       "    .dataframe tbody tr th:only-of-type {\n",
       "        vertical-align: middle;\n",
       "    }\n",
       "\n",
       "    .dataframe tbody tr th {\n",
       "        vertical-align: top;\n",
       "    }\n",
       "\n",
       "    .dataframe thead th {\n",
       "        text-align: right;\n",
       "    }\n",
       "</style>\n",
       "<table border=\"1\" class=\"dataframe\">\n",
       "  <thead>\n",
       "    <tr style=\"text-align: right;\">\n",
       "      <th></th>\n",
       "      <th>CustomerID</th>\n",
       "      <th>Coverage</th>\n",
       "      <th>Education</th>\n",
       "      <th>EmploymentStatus</th>\n",
       "      <th>Gender</th>\n",
       "      <th>Income</th>\n",
       "      <th>Location.Geo</th>\n",
       "      <th>Location.Code</th>\n",
       "      <th>Marital.Status</th>\n",
       "      <th>Monthly.Premium.Auto</th>\n",
       "      <th>...</th>\n",
       "      <th>Months.Since.Policy.Inception</th>\n",
       "      <th>Number.of.Open.Complaints</th>\n",
       "      <th>Number.of.Policies</th>\n",
       "      <th>Policy.Type</th>\n",
       "      <th>Policy</th>\n",
       "      <th>Renew.Offer.Type</th>\n",
       "      <th>Sales.Channel</th>\n",
       "      <th>Total.Claim.Amount</th>\n",
       "      <th>Vehicle.Class</th>\n",
       "      <th>Vehicle.Size</th>\n",
       "    </tr>\n",
       "  </thead>\n",
       "  <tbody>\n",
       "    <tr>\n",
       "      <th>1762</th>\n",
       "      <td>11553</td>\n",
       "      <td>Basic</td>\n",
       "      <td>Bachelor</td>\n",
       "      <td>Employed</td>\n",
       "      <td>F</td>\n",
       "      <td>61896.0</td>\n",
       "      <td>19.4,72.8</td>\n",
       "      <td>Urban</td>\n",
       "      <td>Married</td>\n",
       "      <td>104.0</td>\n",
       "      <td>...</td>\n",
       "      <td>97</td>\n",
       "      <td>0</td>\n",
       "      <td>1</td>\n",
       "      <td>Personal Auto</td>\n",
       "      <td>Personal L2</td>\n",
       "      <td>Offer4</td>\n",
       "      <td>Call Center</td>\n",
       "      <td>461.306722</td>\n",
       "      <td>SUV</td>\n",
       "      <td>Medsize</td>\n",
       "    </tr>\n",
       "    <tr>\n",
       "      <th>1763</th>\n",
       "      <td>11557</td>\n",
       "      <td>Basic</td>\n",
       "      <td>Doctor</td>\n",
       "      <td>Employed</td>\n",
       "      <td>F</td>\n",
       "      <td>39317.0</td>\n",
       "      <td>19.4,71.9</td>\n",
       "      <td>Rural</td>\n",
       "      <td>Single</td>\n",
       "      <td>64.0</td>\n",
       "      <td>...</td>\n",
       "      <td>46</td>\n",
       "      <td>0</td>\n",
       "      <td>1</td>\n",
       "      <td>Personal Auto</td>\n",
       "      <td>Personal L2</td>\n",
       "      <td>Offer2</td>\n",
       "      <td>Branch</td>\n",
       "      <td>77.695607</td>\n",
       "      <td>Four-Door Car</td>\n",
       "      <td>Medsize</td>\n",
       "    </tr>\n",
       "    <tr>\n",
       "      <th>1764</th>\n",
       "      <td>11559</td>\n",
       "      <td>Basic</td>\n",
       "      <td>Bachelor</td>\n",
       "      <td>Employed</td>\n",
       "      <td>F</td>\n",
       "      <td>30205.0</td>\n",
       "      <td>19.2,74.3</td>\n",
       "      <td>Suburban</td>\n",
       "      <td>Single</td>\n",
       "      <td>195.0</td>\n",
       "      <td>...</td>\n",
       "      <td>1</td>\n",
       "      <td>0</td>\n",
       "      <td>4</td>\n",
       "      <td>Personal Auto</td>\n",
       "      <td>Personal L3</td>\n",
       "      <td>Offer1</td>\n",
       "      <td>Agent</td>\n",
       "      <td>1329.957905</td>\n",
       "      <td>Luxury SUV</td>\n",
       "      <td>Large</td>\n",
       "    </tr>\n",
       "    <tr>\n",
       "      <th>1765</th>\n",
       "      <td>11570</td>\n",
       "      <td>Extended</td>\n",
       "      <td>College</td>\n",
       "      <td>Employed</td>\n",
       "      <td>M</td>\n",
       "      <td>36918.0</td>\n",
       "      <td>18.9,72.7</td>\n",
       "      <td>Suburban</td>\n",
       "      <td>Divorced</td>\n",
       "      <td>76.0</td>\n",
       "      <td>...</td>\n",
       "      <td>77</td>\n",
       "      <td>3</td>\n",
       "      <td>3</td>\n",
       "      <td>Personal Auto</td>\n",
       "      <td>Personal L1</td>\n",
       "      <td>Offer1</td>\n",
       "      <td>Branch</td>\n",
       "      <td>364.800000</td>\n",
       "      <td>Two-Door Car</td>\n",
       "      <td>Medsize</td>\n",
       "    </tr>\n",
       "    <tr>\n",
       "      <th>1766</th>\n",
       "      <td>11572</td>\n",
       "      <td>Extended</td>\n",
       "      <td>Bachelor</td>\n",
       "      <td>Employed</td>\n",
       "      <td>F</td>\n",
       "      <td>59367.0</td>\n",
       "      <td>18.8,73.2</td>\n",
       "      <td>Rural</td>\n",
       "      <td>Married</td>\n",
       "      <td>84.0</td>\n",
       "      <td>...</td>\n",
       "      <td>48</td>\n",
       "      <td>0</td>\n",
       "      <td>1</td>\n",
       "      <td>Personal Auto</td>\n",
       "      <td>Personal L3</td>\n",
       "      <td>Offer2</td>\n",
       "      <td>Agent</td>\n",
       "      <td>6.880385</td>\n",
       "      <td>Four-Door Car</td>\n",
       "      <td>Medsize</td>\n",
       "    </tr>\n",
       "  </tbody>\n",
       "</table>\n",
       "<p>5 rows × 21 columns</p>\n",
       "</div>"
      ],
      "text/plain": [
       "      CustomerID  Coverage Education EmploymentStatus Gender   Income  \\\n",
       "1762       11553     Basic  Bachelor         Employed      F  61896.0   \n",
       "1763       11557     Basic    Doctor         Employed      F  39317.0   \n",
       "1764       11559     Basic  Bachelor         Employed      F  30205.0   \n",
       "1765       11570  Extended   College         Employed      M  36918.0   \n",
       "1766       11572  Extended  Bachelor         Employed      F  59367.0   \n",
       "\n",
       "     Location.Geo Location.Code Marital.Status  Monthly.Premium.Auto  ...  \\\n",
       "1762    19.4,72.8         Urban        Married                 104.0  ...   \n",
       "1763    19.4,71.9         Rural         Single                  64.0  ...   \n",
       "1764    19.2,74.3      Suburban         Single                 195.0  ...   \n",
       "1765    18.9,72.7      Suburban       Divorced                  76.0  ...   \n",
       "1766    18.8,73.2         Rural        Married                  84.0  ...   \n",
       "\n",
       "      Months.Since.Policy.Inception  Number.of.Open.Complaints  \\\n",
       "1762                             97                          0   \n",
       "1763                             46                          0   \n",
       "1764                              1                          0   \n",
       "1765                             77                          3   \n",
       "1766                             48                          0   \n",
       "\n",
       "      Number.of.Policies    Policy.Type       Policy Renew.Offer.Type  \\\n",
       "1762                   1  Personal Auto  Personal L2           Offer4   \n",
       "1763                   1  Personal Auto  Personal L2           Offer2   \n",
       "1764                   4  Personal Auto  Personal L3           Offer1   \n",
       "1765                   3  Personal Auto  Personal L1           Offer1   \n",
       "1766                   1  Personal Auto  Personal L3           Offer2   \n",
       "\n",
       "     Sales.Channel Total.Claim.Amount  Vehicle.Class Vehicle.Size  \n",
       "1762   Call Center         461.306722            SUV      Medsize  \n",
       "1763        Branch          77.695607  Four-Door Car      Medsize  \n",
       "1764         Agent        1329.957905     Luxury SUV        Large  \n",
       "1765        Branch         364.800000   Two-Door Car      Medsize  \n",
       "1766         Agent           6.880385  Four-Door Car      Medsize  \n",
       "\n",
       "[5 rows x 21 columns]"
      ]
     },
     "execution_count": 8,
     "metadata": {},
     "output_type": "execute_result"
    }
   ],
   "source": [
    "## Get last 5 records of test data.\n",
    "test.tail()"
   ]
  },
  {
   "cell_type": "code",
   "execution_count": 9,
   "metadata": {},
   "outputs": [
    {
     "data": {
      "text/plain": [
       "(9806, 22)"
      ]
     },
     "execution_count": 9,
     "metadata": {},
     "output_type": "execute_result"
    }
   ],
   "source": [
    "## Check dimensions of train data.\n",
    "train.shape"
   ]
  },
  {
   "cell_type": "code",
   "execution_count": 10,
   "metadata": {},
   "outputs": [
    {
     "data": {
      "text/plain": [
       "(1767, 21)"
      ]
     },
     "execution_count": 10,
     "metadata": {},
     "output_type": "execute_result"
    }
   ],
   "source": [
    "## Check dimensions of test data.\n",
    "test.shape"
   ]
  },
  {
   "cell_type": "code",
   "execution_count": 11,
   "metadata": {},
   "outputs": [
    {
     "data": {
      "text/plain": [
       "Index(['CustomerID', 'Customer.Lifetime.Value', 'Coverage', 'Education',\n",
       "       'EmploymentStatus', 'Gender', 'Income', 'Location.Geo', 'Location.Code',\n",
       "       'Marital.Status', 'Monthly.Premium.Auto', 'Months.Since.Last.Claim',\n",
       "       'Months.Since.Policy.Inception', 'Number.of.Open.Complaints',\n",
       "       'Number.of.Policies', 'Policy.Type', 'Policy', 'Renew.Offer.Type',\n",
       "       'Sales.Channel', 'Total.Claim.Amount', 'Vehicle.Class', 'Vehicle.Size'],\n",
       "      dtype='object')"
      ]
     },
     "execution_count": 11,
     "metadata": {},
     "output_type": "execute_result"
    }
   ],
   "source": [
    "## Get column names of train data.\n",
    "train.columns"
   ]
  },
  {
   "cell_type": "code",
   "execution_count": 12,
   "metadata": {},
   "outputs": [
    {
     "data": {
      "text/plain": [
       "Index(['CustomerID', 'Coverage', 'Education', 'EmploymentStatus', 'Gender',\n",
       "       'Income', 'Location.Geo', 'Location.Code', 'Marital.Status',\n",
       "       'Monthly.Premium.Auto', 'Months.Since.Last.Claim',\n",
       "       'Months.Since.Policy.Inception', 'Number.of.Open.Complaints',\n",
       "       'Number.of.Policies', 'Policy.Type', 'Policy', 'Renew.Offer.Type',\n",
       "       'Sales.Channel', 'Total.Claim.Amount', 'Vehicle.Class', 'Vehicle.Size'],\n",
       "      dtype='object')"
      ]
     },
     "execution_count": 12,
     "metadata": {},
     "output_type": "execute_result"
    }
   ],
   "source": [
    "## Get column names of test data.\n",
    "test.columns"
   ]
  },
  {
   "cell_type": "code",
   "execution_count": 13,
   "metadata": {},
   "outputs": [
    {
     "data": {
      "text/plain": [
       "RangeIndex(start=0, stop=9806, step=1)"
      ]
     },
     "execution_count": 13,
     "metadata": {},
     "output_type": "execute_result"
    }
   ],
   "source": [
    "## Get index range of train data.\n",
    "train.index"
   ]
  },
  {
   "cell_type": "code",
   "execution_count": 14,
   "metadata": {},
   "outputs": [
    {
     "data": {
      "text/plain": [
       "RangeIndex(start=0, stop=1767, step=1)"
      ]
     },
     "execution_count": 14,
     "metadata": {},
     "output_type": "execute_result"
    }
   ],
   "source": [
    "## Get index range of test data.\n",
    "test.index"
   ]
  },
  {
   "cell_type": "code",
   "execution_count": 15,
   "metadata": {},
   "outputs": [
    {
     "data": {
      "text/html": [
       "<div>\n",
       "<style scoped>\n",
       "    .dataframe tbody tr th:only-of-type {\n",
       "        vertical-align: middle;\n",
       "    }\n",
       "\n",
       "    .dataframe tbody tr th {\n",
       "        vertical-align: top;\n",
       "    }\n",
       "\n",
       "    .dataframe thead th {\n",
       "        text-align: right;\n",
       "    }\n",
       "</style>\n",
       "<table border=\"1\" class=\"dataframe\">\n",
       "  <thead>\n",
       "    <tr style=\"text-align: right;\">\n",
       "      <th></th>\n",
       "      <th>CustomerID</th>\n",
       "      <th>Customer.Lifetime.Value</th>\n",
       "      <th>Coverage</th>\n",
       "      <th>Education</th>\n",
       "      <th>EmploymentStatus</th>\n",
       "      <th>Gender</th>\n",
       "      <th>Income</th>\n",
       "      <th>Location.Geo</th>\n",
       "      <th>Location.Code</th>\n",
       "      <th>Marital.Status</th>\n",
       "      <th>...</th>\n",
       "      <th>Months.Since.Policy.Inception</th>\n",
       "      <th>Number.of.Open.Complaints</th>\n",
       "      <th>Number.of.Policies</th>\n",
       "      <th>Policy.Type</th>\n",
       "      <th>Policy</th>\n",
       "      <th>Renew.Offer.Type</th>\n",
       "      <th>Sales.Channel</th>\n",
       "      <th>Total.Claim.Amount</th>\n",
       "      <th>Vehicle.Class</th>\n",
       "      <th>Vehicle.Size</th>\n",
       "    </tr>\n",
       "  </thead>\n",
       "  <tbody>\n",
       "    <tr>\n",
       "      <th>count</th>\n",
       "      <td>9806.000000</td>\n",
       "      <td>9806.000000</td>\n",
       "      <td>8881</td>\n",
       "      <td>9677</td>\n",
       "      <td>9688</td>\n",
       "      <td>9677</td>\n",
       "      <td>9806</td>\n",
       "      <td>9806</td>\n",
       "      <td>9687</td>\n",
       "      <td>9677</td>\n",
       "      <td>...</td>\n",
       "      <td>9806.000000</td>\n",
       "      <td>8988.000000</td>\n",
       "      <td>9685.000000</td>\n",
       "      <td>8915</td>\n",
       "      <td>9685</td>\n",
       "      <td>9678</td>\n",
       "      <td>9678</td>\n",
       "      <td>9806.000000</td>\n",
       "      <td>9680</td>\n",
       "      <td>9680.000000</td>\n",
       "    </tr>\n",
       "    <tr>\n",
       "      <th>unique</th>\n",
       "      <td>NaN</td>\n",
       "      <td>NaN</td>\n",
       "      <td>3</td>\n",
       "      <td>5</td>\n",
       "      <td>5</td>\n",
       "      <td>2</td>\n",
       "      <td>4622</td>\n",
       "      <td>2840</td>\n",
       "      <td>3</td>\n",
       "      <td>3</td>\n",
       "      <td>...</td>\n",
       "      <td>NaN</td>\n",
       "      <td>NaN</td>\n",
       "      <td>NaN</td>\n",
       "      <td>3</td>\n",
       "      <td>9</td>\n",
       "      <td>4</td>\n",
       "      <td>4</td>\n",
       "      <td>NaN</td>\n",
       "      <td>6</td>\n",
       "      <td>NaN</td>\n",
       "    </tr>\n",
       "    <tr>\n",
       "      <th>top</th>\n",
       "      <td>NaN</td>\n",
       "      <td>NaN</td>\n",
       "      <td>Basic</td>\n",
       "      <td>Bachelor</td>\n",
       "      <td>Employed</td>\n",
       "      <td>F</td>\n",
       "      <td>0</td>\n",
       "      <td>NA,NA</td>\n",
       "      <td>Suburban</td>\n",
       "      <td>Married</td>\n",
       "      <td>...</td>\n",
       "      <td>NaN</td>\n",
       "      <td>NaN</td>\n",
       "      <td>NaN</td>\n",
       "      <td>Personal Auto</td>\n",
       "      <td>Personal L3</td>\n",
       "      <td>Offer1</td>\n",
       "      <td>Agent</td>\n",
       "      <td>NaN</td>\n",
       "      <td>Four-Door Car</td>\n",
       "      <td>NaN</td>\n",
       "    </tr>\n",
       "    <tr>\n",
       "      <th>freq</th>\n",
       "      <td>NaN</td>\n",
       "      <td>NaN</td>\n",
       "      <td>5361</td>\n",
       "      <td>2934</td>\n",
       "      <td>6020</td>\n",
       "      <td>4985</td>\n",
       "      <td>2461</td>\n",
       "      <td>119</td>\n",
       "      <td>6204</td>\n",
       "      <td>5643</td>\n",
       "      <td>...</td>\n",
       "      <td>NaN</td>\n",
       "      <td>NaN</td>\n",
       "      <td>NaN</td>\n",
       "      <td>6620</td>\n",
       "      <td>3637</td>\n",
       "      <td>3975</td>\n",
       "      <td>3670</td>\n",
       "      <td>NaN</td>\n",
       "      <td>4869</td>\n",
       "      <td>NaN</td>\n",
       "    </tr>\n",
       "    <tr>\n",
       "      <th>mean</th>\n",
       "      <td>5778.381807</td>\n",
       "      <td>7998.047015</td>\n",
       "      <td>NaN</td>\n",
       "      <td>NaN</td>\n",
       "      <td>NaN</td>\n",
       "      <td>NaN</td>\n",
       "      <td>NaN</td>\n",
       "      <td>NaN</td>\n",
       "      <td>NaN</td>\n",
       "      <td>NaN</td>\n",
       "      <td>...</td>\n",
       "      <td>48.165001</td>\n",
       "      <td>0.379172</td>\n",
       "      <td>2.960351</td>\n",
       "      <td>NaN</td>\n",
       "      <td>NaN</td>\n",
       "      <td>NaN</td>\n",
       "      <td>NaN</td>\n",
       "      <td>438.266734</td>\n",
       "      <td>NaN</td>\n",
       "      <td>2.089773</td>\n",
       "    </tr>\n",
       "    <tr>\n",
       "      <th>std</th>\n",
       "      <td>3343.286093</td>\n",
       "      <td>6848.055899</td>\n",
       "      <td>NaN</td>\n",
       "      <td>NaN</td>\n",
       "      <td>NaN</td>\n",
       "      <td>NaN</td>\n",
       "      <td>NaN</td>\n",
       "      <td>NaN</td>\n",
       "      <td>NaN</td>\n",
       "      <td>NaN</td>\n",
       "      <td>...</td>\n",
       "      <td>27.963630</td>\n",
       "      <td>0.896427</td>\n",
       "      <td>2.389801</td>\n",
       "      <td>NaN</td>\n",
       "      <td>NaN</td>\n",
       "      <td>NaN</td>\n",
       "      <td>NaN</td>\n",
       "      <td>293.502301</td>\n",
       "      <td>NaN</td>\n",
       "      <td>0.538524</td>\n",
       "    </tr>\n",
       "    <tr>\n",
       "      <th>min</th>\n",
       "      <td>1.000000</td>\n",
       "      <td>1898.007675</td>\n",
       "      <td>NaN</td>\n",
       "      <td>NaN</td>\n",
       "      <td>NaN</td>\n",
       "      <td>NaN</td>\n",
       "      <td>NaN</td>\n",
       "      <td>NaN</td>\n",
       "      <td>NaN</td>\n",
       "      <td>NaN</td>\n",
       "      <td>...</td>\n",
       "      <td>0.000000</td>\n",
       "      <td>0.000000</td>\n",
       "      <td>1.000000</td>\n",
       "      <td>NaN</td>\n",
       "      <td>NaN</td>\n",
       "      <td>NaN</td>\n",
       "      <td>NaN</td>\n",
       "      <td>0.099007</td>\n",
       "      <td>NaN</td>\n",
       "      <td>1.000000</td>\n",
       "    </tr>\n",
       "    <tr>\n",
       "      <th>25%</th>\n",
       "      <td>2879.250000</td>\n",
       "      <td>4013.949039</td>\n",
       "      <td>NaN</td>\n",
       "      <td>NaN</td>\n",
       "      <td>NaN</td>\n",
       "      <td>NaN</td>\n",
       "      <td>NaN</td>\n",
       "      <td>NaN</td>\n",
       "      <td>NaN</td>\n",
       "      <td>NaN</td>\n",
       "      <td>...</td>\n",
       "      <td>24.000000</td>\n",
       "      <td>0.000000</td>\n",
       "      <td>1.000000</td>\n",
       "      <td>NaN</td>\n",
       "      <td>NaN</td>\n",
       "      <td>NaN</td>\n",
       "      <td>NaN</td>\n",
       "      <td>280.352767</td>\n",
       "      <td>NaN</td>\n",
       "      <td>2.000000</td>\n",
       "    </tr>\n",
       "    <tr>\n",
       "      <th>50%</th>\n",
       "      <td>5783.000000</td>\n",
       "      <td>5780.182197</td>\n",
       "      <td>NaN</td>\n",
       "      <td>NaN</td>\n",
       "      <td>NaN</td>\n",
       "      <td>NaN</td>\n",
       "      <td>NaN</td>\n",
       "      <td>NaN</td>\n",
       "      <td>NaN</td>\n",
       "      <td>NaN</td>\n",
       "      <td>...</td>\n",
       "      <td>48.000000</td>\n",
       "      <td>0.000000</td>\n",
       "      <td>2.000000</td>\n",
       "      <td>NaN</td>\n",
       "      <td>NaN</td>\n",
       "      <td>NaN</td>\n",
       "      <td>NaN</td>\n",
       "      <td>384.007015</td>\n",
       "      <td>NaN</td>\n",
       "      <td>2.000000</td>\n",
       "    </tr>\n",
       "    <tr>\n",
       "      <th>75%</th>\n",
       "      <td>8678.750000</td>\n",
       "      <td>8960.280213</td>\n",
       "      <td>NaN</td>\n",
       "      <td>NaN</td>\n",
       "      <td>NaN</td>\n",
       "      <td>NaN</td>\n",
       "      <td>NaN</td>\n",
       "      <td>NaN</td>\n",
       "      <td>NaN</td>\n",
       "      <td>NaN</td>\n",
       "      <td>...</td>\n",
       "      <td>71.750000</td>\n",
       "      <td>0.000000</td>\n",
       "      <td>4.000000</td>\n",
       "      <td>NaN</td>\n",
       "      <td>NaN</td>\n",
       "      <td>NaN</td>\n",
       "      <td>NaN</td>\n",
       "      <td>553.540973</td>\n",
       "      <td>NaN</td>\n",
       "      <td>2.000000</td>\n",
       "    </tr>\n",
       "    <tr>\n",
       "      <th>max</th>\n",
       "      <td>11573.000000</td>\n",
       "      <td>83325.381190</td>\n",
       "      <td>NaN</td>\n",
       "      <td>NaN</td>\n",
       "      <td>NaN</td>\n",
       "      <td>NaN</td>\n",
       "      <td>NaN</td>\n",
       "      <td>NaN</td>\n",
       "      <td>NaN</td>\n",
       "      <td>NaN</td>\n",
       "      <td>...</td>\n",
       "      <td>99.000000</td>\n",
       "      <td>5.000000</td>\n",
       "      <td>9.000000</td>\n",
       "      <td>NaN</td>\n",
       "      <td>NaN</td>\n",
       "      <td>NaN</td>\n",
       "      <td>NaN</td>\n",
       "      <td>2893.239678</td>\n",
       "      <td>NaN</td>\n",
       "      <td>3.000000</td>\n",
       "    </tr>\n",
       "  </tbody>\n",
       "</table>\n",
       "<p>11 rows × 22 columns</p>\n",
       "</div>"
      ],
      "text/plain": [
       "          CustomerID  Customer.Lifetime.Value Coverage Education  \\\n",
       "count    9806.000000              9806.000000     8881      9677   \n",
       "unique           NaN                      NaN        3         5   \n",
       "top              NaN                      NaN    Basic  Bachelor   \n",
       "freq             NaN                      NaN     5361      2934   \n",
       "mean     5778.381807              7998.047015      NaN       NaN   \n",
       "std      3343.286093              6848.055899      NaN       NaN   \n",
       "min         1.000000              1898.007675      NaN       NaN   \n",
       "25%      2879.250000              4013.949039      NaN       NaN   \n",
       "50%      5783.000000              5780.182197      NaN       NaN   \n",
       "75%      8678.750000              8960.280213      NaN       NaN   \n",
       "max     11573.000000             83325.381190      NaN       NaN   \n",
       "\n",
       "       EmploymentStatus Gender Income Location.Geo Location.Code  \\\n",
       "count              9688   9677   9806         9806          9687   \n",
       "unique                5      2   4622         2840             3   \n",
       "top            Employed      F      0        NA,NA      Suburban   \n",
       "freq               6020   4985   2461          119          6204   \n",
       "mean                NaN    NaN    NaN          NaN           NaN   \n",
       "std                 NaN    NaN    NaN          NaN           NaN   \n",
       "min                 NaN    NaN    NaN          NaN           NaN   \n",
       "25%                 NaN    NaN    NaN          NaN           NaN   \n",
       "50%                 NaN    NaN    NaN          NaN           NaN   \n",
       "75%                 NaN    NaN    NaN          NaN           NaN   \n",
       "max                 NaN    NaN    NaN          NaN           NaN   \n",
       "\n",
       "       Marital.Status  ...  Months.Since.Policy.Inception  \\\n",
       "count            9677  ...                    9806.000000   \n",
       "unique              3  ...                            NaN   \n",
       "top           Married  ...                            NaN   \n",
       "freq             5643  ...                            NaN   \n",
       "mean              NaN  ...                      48.165001   \n",
       "std               NaN  ...                      27.963630   \n",
       "min               NaN  ...                       0.000000   \n",
       "25%               NaN  ...                      24.000000   \n",
       "50%               NaN  ...                      48.000000   \n",
       "75%               NaN  ...                      71.750000   \n",
       "max               NaN  ...                      99.000000   \n",
       "\n",
       "        Number.of.Open.Complaints  Number.of.Policies    Policy.Type  \\\n",
       "count                 8988.000000         9685.000000           8915   \n",
       "unique                        NaN                 NaN              3   \n",
       "top                           NaN                 NaN  Personal Auto   \n",
       "freq                          NaN                 NaN           6620   \n",
       "mean                     0.379172            2.960351            NaN   \n",
       "std                      0.896427            2.389801            NaN   \n",
       "min                      0.000000            1.000000            NaN   \n",
       "25%                      0.000000            1.000000            NaN   \n",
       "50%                      0.000000            2.000000            NaN   \n",
       "75%                      0.000000            4.000000            NaN   \n",
       "max                      5.000000            9.000000            NaN   \n",
       "\n",
       "             Policy Renew.Offer.Type Sales.Channel Total.Claim.Amount  \\\n",
       "count          9685             9678          9678        9806.000000   \n",
       "unique            9                4             4                NaN   \n",
       "top     Personal L3           Offer1         Agent                NaN   \n",
       "freq           3637             3975          3670                NaN   \n",
       "mean            NaN              NaN           NaN         438.266734   \n",
       "std             NaN              NaN           NaN         293.502301   \n",
       "min             NaN              NaN           NaN           0.099007   \n",
       "25%             NaN              NaN           NaN         280.352767   \n",
       "50%             NaN              NaN           NaN         384.007015   \n",
       "75%             NaN              NaN           NaN         553.540973   \n",
       "max             NaN              NaN           NaN        2893.239678   \n",
       "\n",
       "        Vehicle.Class  Vehicle.Size  \n",
       "count            9680   9680.000000  \n",
       "unique              6           NaN  \n",
       "top     Four-Door Car           NaN  \n",
       "freq             4869           NaN  \n",
       "mean              NaN      2.089773  \n",
       "std               NaN      0.538524  \n",
       "min               NaN      1.000000  \n",
       "25%               NaN      2.000000  \n",
       "50%               NaN      2.000000  \n",
       "75%               NaN      2.000000  \n",
       "max               NaN      3.000000  \n",
       "\n",
       "[11 rows x 22 columns]"
      ]
     },
     "execution_count": 15,
     "metadata": {},
     "output_type": "execute_result"
    }
   ],
   "source": [
    "## Get summary statistics of train data.\n",
    "train.describe(include='all')"
   ]
  },
  {
   "cell_type": "code",
   "execution_count": 16,
   "metadata": {},
   "outputs": [
    {
     "data": {
      "text/html": [
       "<div>\n",
       "<style scoped>\n",
       "    .dataframe tbody tr th:only-of-type {\n",
       "        vertical-align: middle;\n",
       "    }\n",
       "\n",
       "    .dataframe tbody tr th {\n",
       "        vertical-align: top;\n",
       "    }\n",
       "\n",
       "    .dataframe thead th {\n",
       "        text-align: right;\n",
       "    }\n",
       "</style>\n",
       "<table border=\"1\" class=\"dataframe\">\n",
       "  <thead>\n",
       "    <tr style=\"text-align: right;\">\n",
       "      <th></th>\n",
       "      <th>CustomerID</th>\n",
       "      <th>Coverage</th>\n",
       "      <th>Education</th>\n",
       "      <th>EmploymentStatus</th>\n",
       "      <th>Gender</th>\n",
       "      <th>Income</th>\n",
       "      <th>Location.Geo</th>\n",
       "      <th>Location.Code</th>\n",
       "      <th>Marital.Status</th>\n",
       "      <th>Monthly.Premium.Auto</th>\n",
       "      <th>...</th>\n",
       "      <th>Months.Since.Policy.Inception</th>\n",
       "      <th>Number.of.Open.Complaints</th>\n",
       "      <th>Number.of.Policies</th>\n",
       "      <th>Policy.Type</th>\n",
       "      <th>Policy</th>\n",
       "      <th>Renew.Offer.Type</th>\n",
       "      <th>Sales.Channel</th>\n",
       "      <th>Total.Claim.Amount</th>\n",
       "      <th>Vehicle.Class</th>\n",
       "      <th>Vehicle.Size</th>\n",
       "    </tr>\n",
       "  </thead>\n",
       "  <tbody>\n",
       "    <tr>\n",
       "      <th>count</th>\n",
       "      <td>1767.000000</td>\n",
       "      <td>1767</td>\n",
       "      <td>1767</td>\n",
       "      <td>1767</td>\n",
       "      <td>1767</td>\n",
       "      <td>1528.000000</td>\n",
       "      <td>1767</td>\n",
       "      <td>1767</td>\n",
       "      <td>1767</td>\n",
       "      <td>1695.000000</td>\n",
       "      <td>...</td>\n",
       "      <td>1767.000000</td>\n",
       "      <td>1767.000000</td>\n",
       "      <td>1767.000000</td>\n",
       "      <td>1725</td>\n",
       "      <td>1767</td>\n",
       "      <td>1767</td>\n",
       "      <td>1767</td>\n",
       "      <td>1767.000000</td>\n",
       "      <td>1767</td>\n",
       "      <td>1767</td>\n",
       "    </tr>\n",
       "    <tr>\n",
       "      <th>unique</th>\n",
       "      <td>NaN</td>\n",
       "      <td>3</td>\n",
       "      <td>5</td>\n",
       "      <td>4</td>\n",
       "      <td>2</td>\n",
       "      <td>NaN</td>\n",
       "      <td>1192</td>\n",
       "      <td>3</td>\n",
       "      <td>3</td>\n",
       "      <td>NaN</td>\n",
       "      <td>...</td>\n",
       "      <td>NaN</td>\n",
       "      <td>NaN</td>\n",
       "      <td>NaN</td>\n",
       "      <td>3</td>\n",
       "      <td>9</td>\n",
       "      <td>4</td>\n",
       "      <td>4</td>\n",
       "      <td>NaN</td>\n",
       "      <td>6</td>\n",
       "      <td>3</td>\n",
       "    </tr>\n",
       "    <tr>\n",
       "      <th>top</th>\n",
       "      <td>NaN</td>\n",
       "      <td>Basic</td>\n",
       "      <td>Bachelor</td>\n",
       "      <td>Employed</td>\n",
       "      <td>F</td>\n",
       "      <td>NaN</td>\n",
       "      <td>17.1,78.2</td>\n",
       "      <td>Suburban</td>\n",
       "      <td>Married</td>\n",
       "      <td>NaN</td>\n",
       "      <td>...</td>\n",
       "      <td>NaN</td>\n",
       "      <td>NaN</td>\n",
       "      <td>NaN</td>\n",
       "      <td>Personal Auto</td>\n",
       "      <td>Personal L3</td>\n",
       "      <td>Offer1</td>\n",
       "      <td>Agent</td>\n",
       "      <td>NaN</td>\n",
       "      <td>Four-Door Car</td>\n",
       "      <td>Medsize</td>\n",
       "    </tr>\n",
       "    <tr>\n",
       "      <th>freq</th>\n",
       "      <td>NaN</td>\n",
       "      <td>1091</td>\n",
       "      <td>529</td>\n",
       "      <td>1153</td>\n",
       "      <td>886</td>\n",
       "      <td>NaN</td>\n",
       "      <td>8</td>\n",
       "      <td>1063</td>\n",
       "      <td>1027</td>\n",
       "      <td>NaN</td>\n",
       "      <td>...</td>\n",
       "      <td>NaN</td>\n",
       "      <td>NaN</td>\n",
       "      <td>NaN</td>\n",
       "      <td>1301</td>\n",
       "      <td>669</td>\n",
       "      <td>721</td>\n",
       "      <td>666</td>\n",
       "      <td>NaN</td>\n",
       "      <td>870</td>\n",
       "      <td>1252</td>\n",
       "    </tr>\n",
       "    <tr>\n",
       "      <th>mean</th>\n",
       "      <td>5834.826825</td>\n",
       "      <td>NaN</td>\n",
       "      <td>NaN</td>\n",
       "      <td>NaN</td>\n",
       "      <td>NaN</td>\n",
       "      <td>44606.390707</td>\n",
       "      <td>NaN</td>\n",
       "      <td>NaN</td>\n",
       "      <td>NaN</td>\n",
       "      <td>93.622419</td>\n",
       "      <td>...</td>\n",
       "      <td>47.486701</td>\n",
       "      <td>0.413696</td>\n",
       "      <td>3.002264</td>\n",
       "      <td>NaN</td>\n",
       "      <td>NaN</td>\n",
       "      <td>NaN</td>\n",
       "      <td>NaN</td>\n",
       "      <td>423.389681</td>\n",
       "      <td>NaN</td>\n",
       "      <td>NaN</td>\n",
       "    </tr>\n",
       "    <tr>\n",
       "      <th>std</th>\n",
       "      <td>3328.701974</td>\n",
       "      <td>NaN</td>\n",
       "      <td>NaN</td>\n",
       "      <td>NaN</td>\n",
       "      <td>NaN</td>\n",
       "      <td>29046.821652</td>\n",
       "      <td>NaN</td>\n",
       "      <td>NaN</td>\n",
       "      <td>NaN</td>\n",
       "      <td>34.752238</td>\n",
       "      <td>...</td>\n",
       "      <td>27.954860</td>\n",
       "      <td>0.955579</td>\n",
       "      <td>2.388154</td>\n",
       "      <td>NaN</td>\n",
       "      <td>NaN</td>\n",
       "      <td>NaN</td>\n",
       "      <td>NaN</td>\n",
       "      <td>289.518186</td>\n",
       "      <td>NaN</td>\n",
       "      <td>NaN</td>\n",
       "    </tr>\n",
       "    <tr>\n",
       "      <th>min</th>\n",
       "      <td>17.000000</td>\n",
       "      <td>NaN</td>\n",
       "      <td>NaN</td>\n",
       "      <td>NaN</td>\n",
       "      <td>NaN</td>\n",
       "      <td>0.000000</td>\n",
       "      <td>NaN</td>\n",
       "      <td>NaN</td>\n",
       "      <td>NaN</td>\n",
       "      <td>61.000000</td>\n",
       "      <td>...</td>\n",
       "      <td>0.000000</td>\n",
       "      <td>0.000000</td>\n",
       "      <td>1.000000</td>\n",
       "      <td>NaN</td>\n",
       "      <td>NaN</td>\n",
       "      <td>NaN</td>\n",
       "      <td>NaN</td>\n",
       "      <td>1.332349</td>\n",
       "      <td>NaN</td>\n",
       "      <td>NaN</td>\n",
       "    </tr>\n",
       "    <tr>\n",
       "      <th>25%</th>\n",
       "      <td>2977.000000</td>\n",
       "      <td>NaN</td>\n",
       "      <td>NaN</td>\n",
       "      <td>NaN</td>\n",
       "      <td>NaN</td>\n",
       "      <td>23491.750000</td>\n",
       "      <td>NaN</td>\n",
       "      <td>NaN</td>\n",
       "      <td>NaN</td>\n",
       "      <td>69.000000</td>\n",
       "      <td>...</td>\n",
       "      <td>24.000000</td>\n",
       "      <td>0.000000</td>\n",
       "      <td>1.000000</td>\n",
       "      <td>NaN</td>\n",
       "      <td>NaN</td>\n",
       "      <td>NaN</td>\n",
       "      <td>NaN</td>\n",
       "      <td>238.197494</td>\n",
       "      <td>NaN</td>\n",
       "      <td>NaN</td>\n",
       "    </tr>\n",
       "    <tr>\n",
       "      <th>50%</th>\n",
       "      <td>5813.000000</td>\n",
       "      <td>NaN</td>\n",
       "      <td>NaN</td>\n",
       "      <td>NaN</td>\n",
       "      <td>NaN</td>\n",
       "      <td>42821.000000</td>\n",
       "      <td>NaN</td>\n",
       "      <td>NaN</td>\n",
       "      <td>NaN</td>\n",
       "      <td>84.000000</td>\n",
       "      <td>...</td>\n",
       "      <td>47.000000</td>\n",
       "      <td>0.000000</td>\n",
       "      <td>2.000000</td>\n",
       "      <td>NaN</td>\n",
       "      <td>NaN</td>\n",
       "      <td>NaN</td>\n",
       "      <td>NaN</td>\n",
       "      <td>381.118731</td>\n",
       "      <td>NaN</td>\n",
       "      <td>NaN</td>\n",
       "    </tr>\n",
       "    <tr>\n",
       "      <th>75%</th>\n",
       "      <td>8702.500000</td>\n",
       "      <td>NaN</td>\n",
       "      <td>NaN</td>\n",
       "      <td>NaN</td>\n",
       "      <td>NaN</td>\n",
       "      <td>67968.500000</td>\n",
       "      <td>NaN</td>\n",
       "      <td>NaN</td>\n",
       "      <td>NaN</td>\n",
       "      <td>110.000000</td>\n",
       "      <td>...</td>\n",
       "      <td>71.000000</td>\n",
       "      <td>0.000000</td>\n",
       "      <td>4.000000</td>\n",
       "      <td>NaN</td>\n",
       "      <td>NaN</td>\n",
       "      <td>NaN</td>\n",
       "      <td>NaN</td>\n",
       "      <td>542.400000</td>\n",
       "      <td>NaN</td>\n",
       "      <td>NaN</td>\n",
       "    </tr>\n",
       "    <tr>\n",
       "      <th>max</th>\n",
       "      <td>11572.000000</td>\n",
       "      <td>NaN</td>\n",
       "      <td>NaN</td>\n",
       "      <td>NaN</td>\n",
       "      <td>NaN</td>\n",
       "      <td>99960.000000</td>\n",
       "      <td>NaN</td>\n",
       "      <td>NaN</td>\n",
       "      <td>NaN</td>\n",
       "      <td>298.000000</td>\n",
       "      <td>...</td>\n",
       "      <td>99.000000</td>\n",
       "      <td>5.000000</td>\n",
       "      <td>9.000000</td>\n",
       "      <td>NaN</td>\n",
       "      <td>NaN</td>\n",
       "      <td>NaN</td>\n",
       "      <td>NaN</td>\n",
       "      <td>2759.794354</td>\n",
       "      <td>NaN</td>\n",
       "      <td>NaN</td>\n",
       "    </tr>\n",
       "  </tbody>\n",
       "</table>\n",
       "<p>11 rows × 21 columns</p>\n",
       "</div>"
      ],
      "text/plain": [
       "          CustomerID Coverage Education EmploymentStatus Gender        Income  \\\n",
       "count    1767.000000     1767      1767             1767   1767   1528.000000   \n",
       "unique           NaN        3         5                4      2           NaN   \n",
       "top              NaN    Basic  Bachelor         Employed      F           NaN   \n",
       "freq             NaN     1091       529             1153    886           NaN   \n",
       "mean     5834.826825      NaN       NaN              NaN    NaN  44606.390707   \n",
       "std      3328.701974      NaN       NaN              NaN    NaN  29046.821652   \n",
       "min        17.000000      NaN       NaN              NaN    NaN      0.000000   \n",
       "25%      2977.000000      NaN       NaN              NaN    NaN  23491.750000   \n",
       "50%      5813.000000      NaN       NaN              NaN    NaN  42821.000000   \n",
       "75%      8702.500000      NaN       NaN              NaN    NaN  67968.500000   \n",
       "max     11572.000000      NaN       NaN              NaN    NaN  99960.000000   \n",
       "\n",
       "       Location.Geo Location.Code Marital.Status  Monthly.Premium.Auto  ...  \\\n",
       "count          1767          1767           1767           1695.000000  ...   \n",
       "unique         1192             3              3                   NaN  ...   \n",
       "top       17.1,78.2      Suburban        Married                   NaN  ...   \n",
       "freq              8          1063           1027                   NaN  ...   \n",
       "mean            NaN           NaN            NaN             93.622419  ...   \n",
       "std             NaN           NaN            NaN             34.752238  ...   \n",
       "min             NaN           NaN            NaN             61.000000  ...   \n",
       "25%             NaN           NaN            NaN             69.000000  ...   \n",
       "50%             NaN           NaN            NaN             84.000000  ...   \n",
       "75%             NaN           NaN            NaN            110.000000  ...   \n",
       "max             NaN           NaN            NaN            298.000000  ...   \n",
       "\n",
       "        Months.Since.Policy.Inception  Number.of.Open.Complaints  \\\n",
       "count                     1767.000000                1767.000000   \n",
       "unique                            NaN                        NaN   \n",
       "top                               NaN                        NaN   \n",
       "freq                              NaN                        NaN   \n",
       "mean                        47.486701                   0.413696   \n",
       "std                         27.954860                   0.955579   \n",
       "min                          0.000000                   0.000000   \n",
       "25%                         24.000000                   0.000000   \n",
       "50%                         47.000000                   0.000000   \n",
       "75%                         71.000000                   0.000000   \n",
       "max                         99.000000                   5.000000   \n",
       "\n",
       "        Number.of.Policies    Policy.Type       Policy Renew.Offer.Type  \\\n",
       "count          1767.000000           1725         1767             1767   \n",
       "unique                 NaN              3            9                4   \n",
       "top                    NaN  Personal Auto  Personal L3           Offer1   \n",
       "freq                   NaN           1301          669              721   \n",
       "mean              3.002264            NaN          NaN              NaN   \n",
       "std               2.388154            NaN          NaN              NaN   \n",
       "min               1.000000            NaN          NaN              NaN   \n",
       "25%               1.000000            NaN          NaN              NaN   \n",
       "50%               2.000000            NaN          NaN              NaN   \n",
       "75%               4.000000            NaN          NaN              NaN   \n",
       "max               9.000000            NaN          NaN              NaN   \n",
       "\n",
       "       Sales.Channel Total.Claim.Amount  Vehicle.Class Vehicle.Size  \n",
       "count           1767        1767.000000           1767         1767  \n",
       "unique             4                NaN              6            3  \n",
       "top            Agent                NaN  Four-Door Car      Medsize  \n",
       "freq             666                NaN            870         1252  \n",
       "mean             NaN         423.389681            NaN          NaN  \n",
       "std              NaN         289.518186            NaN          NaN  \n",
       "min              NaN           1.332349            NaN          NaN  \n",
       "25%              NaN         238.197494            NaN          NaN  \n",
       "50%              NaN         381.118731            NaN          NaN  \n",
       "75%              NaN         542.400000            NaN          NaN  \n",
       "max              NaN        2759.794354            NaN          NaN  \n",
       "\n",
       "[11 rows x 21 columns]"
      ]
     },
     "execution_count": 16,
     "metadata": {},
     "output_type": "execute_result"
    }
   ],
   "source": [
    "## Get summary statistics of test data.\n",
    "test.describe(include='all')"
   ]
  },
  {
   "cell_type": "code",
   "execution_count": 17,
   "metadata": {},
   "outputs": [
    {
     "data": {
      "text/plain": [
       "CustomerID                         0\n",
       "Customer.Lifetime.Value            0\n",
       "Coverage                         925\n",
       "Education                        129\n",
       "EmploymentStatus                 118\n",
       "Gender                           129\n",
       "Income                             0\n",
       "Location.Geo                       0\n",
       "Location.Code                    119\n",
       "Marital.Status                   129\n",
       "Monthly.Premium.Auto             794\n",
       "Months.Since.Last.Claim            0\n",
       "Months.Since.Policy.Inception      0\n",
       "Number.of.Open.Complaints        818\n",
       "Number.of.Policies               121\n",
       "Policy.Type                      891\n",
       "Policy                           121\n",
       "Renew.Offer.Type                 128\n",
       "Sales.Channel                    128\n",
       "Total.Claim.Amount                 0\n",
       "Vehicle.Class                    126\n",
       "Vehicle.Size                     126\n",
       "dtype: int64"
      ]
     },
     "execution_count": 17,
     "metadata": {},
     "output_type": "execute_result"
    }
   ],
   "source": [
    "## Check NA values for train data.\n",
    "train.isna().sum()"
   ]
  },
  {
   "cell_type": "code",
   "execution_count": 18,
   "metadata": {},
   "outputs": [
    {
     "data": {
      "text/plain": [
       "CustomerID                         0\n",
       "Coverage                           0\n",
       "Education                          0\n",
       "EmploymentStatus                   0\n",
       "Gender                             0\n",
       "Income                           239\n",
       "Location.Geo                       0\n",
       "Location.Code                      0\n",
       "Marital.Status                     0\n",
       "Monthly.Premium.Auto              72\n",
       "Months.Since.Last.Claim            0\n",
       "Months.Since.Policy.Inception      0\n",
       "Number.of.Open.Complaints          0\n",
       "Number.of.Policies                 0\n",
       "Policy.Type                       42\n",
       "Policy                             0\n",
       "Renew.Offer.Type                   0\n",
       "Sales.Channel                      0\n",
       "Total.Claim.Amount                 0\n",
       "Vehicle.Class                      0\n",
       "Vehicle.Size                       0\n",
       "dtype: int64"
      ]
     },
     "execution_count": 18,
     "metadata": {},
     "output_type": "execute_result"
    }
   ],
   "source": [
    "## Check NA values for test data.\n",
    "test.isna().sum()"
   ]
  },
  {
   "cell_type": "code",
   "execution_count": 19,
   "metadata": {},
   "outputs": [
    {
     "data": {
      "text/plain": [
       "CustomerID                         int64\n",
       "Customer.Lifetime.Value          float64\n",
       "Coverage                          object\n",
       "Education                         object\n",
       "EmploymentStatus                  object\n",
       "Gender                            object\n",
       "Income                            object\n",
       "Location.Geo                      object\n",
       "Location.Code                     object\n",
       "Marital.Status                    object\n",
       "Monthly.Premium.Auto             float64\n",
       "Months.Since.Last.Claim            int64\n",
       "Months.Since.Policy.Inception      int64\n",
       "Number.of.Open.Complaints        float64\n",
       "Number.of.Policies               float64\n",
       "Policy.Type                       object\n",
       "Policy                            object\n",
       "Renew.Offer.Type                  object\n",
       "Sales.Channel                     object\n",
       "Total.Claim.Amount               float64\n",
       "Vehicle.Class                     object\n",
       "Vehicle.Size                     float64\n",
       "dtype: object"
      ]
     },
     "execution_count": 19,
     "metadata": {},
     "output_type": "execute_result"
    }
   ],
   "source": [
    "## Check column data types for train data.\n",
    "train.dtypes"
   ]
  },
  {
   "cell_type": "code",
   "execution_count": 20,
   "metadata": {},
   "outputs": [
    {
     "data": {
      "text/plain": [
       "CustomerID                         int64\n",
       "Coverage                          object\n",
       "Education                         object\n",
       "EmploymentStatus                  object\n",
       "Gender                            object\n",
       "Income                           float64\n",
       "Location.Geo                      object\n",
       "Location.Code                     object\n",
       "Marital.Status                    object\n",
       "Monthly.Premium.Auto             float64\n",
       "Months.Since.Last.Claim            int64\n",
       "Months.Since.Policy.Inception      int64\n",
       "Number.of.Open.Complaints          int64\n",
       "Number.of.Policies                 int64\n",
       "Policy.Type                       object\n",
       "Policy                            object\n",
       "Renew.Offer.Type                  object\n",
       "Sales.Channel                     object\n",
       "Total.Claim.Amount               float64\n",
       "Vehicle.Class                     object\n",
       "Vehicle.Size                      object\n",
       "dtype: object"
      ]
     },
     "execution_count": 20,
     "metadata": {},
     "output_type": "execute_result"
    }
   ],
   "source": [
    "## Check column data types for test data.\n",
    "test.dtypes"
   ]
  },
  {
   "cell_type": "code",
   "execution_count": 21,
   "metadata": {},
   "outputs": [],
   "source": [
    "### This method will return number of levels,null values,unique values,data types.\n",
    "\n",
    "def statistics(df):\n",
    "    return(pd.DataFrame({'dtypes' : df.dtypes,\n",
    "                         'levels' : [df[x].unique() for x in df.columns],\n",
    "                         'null_values' : df.isna().sum(),\n",
    "                         'Unique Values': df.nunique()\n",
    "                        }))"
   ]
  },
  {
   "cell_type": "code",
   "execution_count": 22,
   "metadata": {},
   "outputs": [
    {
     "data": {
      "text/html": [
       "<div>\n",
       "<style scoped>\n",
       "    .dataframe tbody tr th:only-of-type {\n",
       "        vertical-align: middle;\n",
       "    }\n",
       "\n",
       "    .dataframe tbody tr th {\n",
       "        vertical-align: top;\n",
       "    }\n",
       "\n",
       "    .dataframe thead th {\n",
       "        text-align: right;\n",
       "    }\n",
       "</style>\n",
       "<table border=\"1\" class=\"dataframe\">\n",
       "  <thead>\n",
       "    <tr style=\"text-align: right;\">\n",
       "      <th></th>\n",
       "      <th>dtypes</th>\n",
       "      <th>levels</th>\n",
       "      <th>null_values</th>\n",
       "      <th>Unique Values</th>\n",
       "    </tr>\n",
       "  </thead>\n",
       "  <tbody>\n",
       "    <tr>\n",
       "      <th>CustomerID</th>\n",
       "      <td>int64</td>\n",
       "      <td>[5917, 2057, 4119, 1801, 9618, 2747, 3633, 385...</td>\n",
       "      <td>0</td>\n",
       "      <td>9806</td>\n",
       "    </tr>\n",
       "    <tr>\n",
       "      <th>Customer.Lifetime.Value</th>\n",
       "      <td>float64</td>\n",
       "      <td>[7824.372789, 8005.964669, 8646.504109, 9294.0...</td>\n",
       "      <td>0</td>\n",
       "      <td>6477</td>\n",
       "    </tr>\n",
       "    <tr>\n",
       "      <th>Coverage</th>\n",
       "      <td>object</td>\n",
       "      <td>[Basic, Extended, nan, Premium]</td>\n",
       "      <td>925</td>\n",
       "      <td>3</td>\n",
       "    </tr>\n",
       "    <tr>\n",
       "      <th>Education</th>\n",
       "      <td>object</td>\n",
       "      <td>[Bachelor, College, High School or Below, Doct...</td>\n",
       "      <td>129</td>\n",
       "      <td>5</td>\n",
       "    </tr>\n",
       "    <tr>\n",
       "      <th>EmploymentStatus</th>\n",
       "      <td>object</td>\n",
       "      <td>[Unemployed, Employed, Retired, Medical Leave,...</td>\n",
       "      <td>118</td>\n",
       "      <td>5</td>\n",
       "    </tr>\n",
       "    <tr>\n",
       "      <th>Gender</th>\n",
       "      <td>object</td>\n",
       "      <td>[F, M, nan]</td>\n",
       "      <td>129</td>\n",
       "      <td>2</td>\n",
       "    </tr>\n",
       "    <tr>\n",
       "      <th>Income</th>\n",
       "      <td>object</td>\n",
       "      <td>[0, 63357, 64125, 67544, 19651, 23589, 74126, ...</td>\n",
       "      <td>0</td>\n",
       "      <td>4622</td>\n",
       "    </tr>\n",
       "    <tr>\n",
       "      <th>Location.Geo</th>\n",
       "      <td>object</td>\n",
       "      <td>[17.7,77.7, 28.8,76.6, 21.6,88.4, 19,72.5, 19....</td>\n",
       "      <td>0</td>\n",
       "      <td>2840</td>\n",
       "    </tr>\n",
       "    <tr>\n",
       "      <th>Location.Code</th>\n",
       "      <td>object</td>\n",
       "      <td>[Urban, Suburban, Rural, nan]</td>\n",
       "      <td>119</td>\n",
       "      <td>3</td>\n",
       "    </tr>\n",
       "    <tr>\n",
       "      <th>Marital.Status</th>\n",
       "      <td>object</td>\n",
       "      <td>[Married, Divorced, Single, nan]</td>\n",
       "      <td>129</td>\n",
       "      <td>3</td>\n",
       "    </tr>\n",
       "    <tr>\n",
       "      <th>Monthly.Premium.Auto</th>\n",
       "      <td>float64</td>\n",
       "      <td>[67.0, 101.0, 108.0, 116.0, 72.0, 211.0, 90.0,...</td>\n",
       "      <td>794</td>\n",
       "      <td>191</td>\n",
       "    </tr>\n",
       "    <tr>\n",
       "      <th>Months.Since.Last.Claim</th>\n",
       "      <td>int64</td>\n",
       "      <td>[2, 26, 3, 30, 14, 10, 6, 17, 13, 4, 8, 16, 29...</td>\n",
       "      <td>0</td>\n",
       "      <td>36</td>\n",
       "    </tr>\n",
       "    <tr>\n",
       "      <th>Months.Since.Policy.Inception</th>\n",
       "      <td>int64</td>\n",
       "      <td>[33, 42, 44, 15, 68, 13, 76, 50, 62, 41, 21, 5...</td>\n",
       "      <td>0</td>\n",
       "      <td>100</td>\n",
       "    </tr>\n",
       "    <tr>\n",
       "      <th>Number.of.Open.Complaints</th>\n",
       "      <td>float64</td>\n",
       "      <td>[nan, 0.0, 1.0, 2.0, 3.0, 5.0, 4.0]</td>\n",
       "      <td>818</td>\n",
       "      <td>6</td>\n",
       "    </tr>\n",
       "    <tr>\n",
       "      <th>Number.of.Policies</th>\n",
       "      <td>float64</td>\n",
       "      <td>[2.0, 5.0, 3.0, 6.0, 1.0, 9.0, 8.0, nan, 7.0, ...</td>\n",
       "      <td>121</td>\n",
       "      <td>9</td>\n",
       "    </tr>\n",
       "    <tr>\n",
       "      <th>Policy.Type</th>\n",
       "      <td>object</td>\n",
       "      <td>[Personal Auto, Corporate Auto, Special Auto, ...</td>\n",
       "      <td>891</td>\n",
       "      <td>3</td>\n",
       "    </tr>\n",
       "    <tr>\n",
       "      <th>Policy</th>\n",
       "      <td>object</td>\n",
       "      <td>[Personal L2, Personal L1, Corporate L3, Speci...</td>\n",
       "      <td>121</td>\n",
       "      <td>9</td>\n",
       "    </tr>\n",
       "    <tr>\n",
       "      <th>Renew.Offer.Type</th>\n",
       "      <td>object</td>\n",
       "      <td>[Offer2, Offer1, Offer3, nan, Offer4]</td>\n",
       "      <td>128</td>\n",
       "      <td>4</td>\n",
       "    </tr>\n",
       "    <tr>\n",
       "      <th>Sales.Channel</th>\n",
       "      <td>object</td>\n",
       "      <td>[Branch, Agent, Web, Call Center, nan]</td>\n",
       "      <td>128</td>\n",
       "      <td>4</td>\n",
       "    </tr>\n",
       "    <tr>\n",
       "      <th>Total.Claim.Amount</th>\n",
       "      <td>float64</td>\n",
       "      <td>[267.214383, 565.508572, 369.818708, 556.8, 34...</td>\n",
       "      <td>0</td>\n",
       "      <td>4125</td>\n",
       "    </tr>\n",
       "    <tr>\n",
       "      <th>Vehicle.Class</th>\n",
       "      <td>object</td>\n",
       "      <td>[Four-Door Car, SUV, Two-Door Car, Luxury SUV,...</td>\n",
       "      <td>126</td>\n",
       "      <td>6</td>\n",
       "    </tr>\n",
       "    <tr>\n",
       "      <th>Vehicle.Size</th>\n",
       "      <td>float64</td>\n",
       "      <td>[2.0, 1.0, 3.0, nan]</td>\n",
       "      <td>126</td>\n",
       "      <td>3</td>\n",
       "    </tr>\n",
       "  </tbody>\n",
       "</table>\n",
       "</div>"
      ],
      "text/plain": [
       "                                dtypes  \\\n",
       "CustomerID                       int64   \n",
       "Customer.Lifetime.Value        float64   \n",
       "Coverage                        object   \n",
       "Education                       object   \n",
       "EmploymentStatus                object   \n",
       "Gender                          object   \n",
       "Income                          object   \n",
       "Location.Geo                    object   \n",
       "Location.Code                   object   \n",
       "Marital.Status                  object   \n",
       "Monthly.Premium.Auto           float64   \n",
       "Months.Since.Last.Claim          int64   \n",
       "Months.Since.Policy.Inception    int64   \n",
       "Number.of.Open.Complaints      float64   \n",
       "Number.of.Policies             float64   \n",
       "Policy.Type                     object   \n",
       "Policy                          object   \n",
       "Renew.Offer.Type                object   \n",
       "Sales.Channel                   object   \n",
       "Total.Claim.Amount             float64   \n",
       "Vehicle.Class                   object   \n",
       "Vehicle.Size                   float64   \n",
       "\n",
       "                                                                          levels  \\\n",
       "CustomerID                     [5917, 2057, 4119, 1801, 9618, 2747, 3633, 385...   \n",
       "Customer.Lifetime.Value        [7824.372789, 8005.964669, 8646.504109, 9294.0...   \n",
       "Coverage                                         [Basic, Extended, nan, Premium]   \n",
       "Education                      [Bachelor, College, High School or Below, Doct...   \n",
       "EmploymentStatus               [Unemployed, Employed, Retired, Medical Leave,...   \n",
       "Gender                                                               [F, M, nan]   \n",
       "Income                         [0, 63357, 64125, 67544, 19651, 23589, 74126, ...   \n",
       "Location.Geo                   [17.7,77.7, 28.8,76.6, 21.6,88.4, 19,72.5, 19....   \n",
       "Location.Code                                      [Urban, Suburban, Rural, nan]   \n",
       "Marital.Status                                  [Married, Divorced, Single, nan]   \n",
       "Monthly.Premium.Auto           [67.0, 101.0, 108.0, 116.0, 72.0, 211.0, 90.0,...   \n",
       "Months.Since.Last.Claim        [2, 26, 3, 30, 14, 10, 6, 17, 13, 4, 8, 16, 29...   \n",
       "Months.Since.Policy.Inception  [33, 42, 44, 15, 68, 13, 76, 50, 62, 41, 21, 5...   \n",
       "Number.of.Open.Complaints                    [nan, 0.0, 1.0, 2.0, 3.0, 5.0, 4.0]   \n",
       "Number.of.Policies             [2.0, 5.0, 3.0, 6.0, 1.0, 9.0, 8.0, nan, 7.0, ...   \n",
       "Policy.Type                    [Personal Auto, Corporate Auto, Special Auto, ...   \n",
       "Policy                         [Personal L2, Personal L1, Corporate L3, Speci...   \n",
       "Renew.Offer.Type                           [Offer2, Offer1, Offer3, nan, Offer4]   \n",
       "Sales.Channel                             [Branch, Agent, Web, Call Center, nan]   \n",
       "Total.Claim.Amount             [267.214383, 565.508572, 369.818708, 556.8, 34...   \n",
       "Vehicle.Class                  [Four-Door Car, SUV, Two-Door Car, Luxury SUV,...   \n",
       "Vehicle.Size                                                [2.0, 1.0, 3.0, nan]   \n",
       "\n",
       "                               null_values  Unique Values  \n",
       "CustomerID                               0           9806  \n",
       "Customer.Lifetime.Value                  0           6477  \n",
       "Coverage                               925              3  \n",
       "Education                              129              5  \n",
       "EmploymentStatus                       118              5  \n",
       "Gender                                 129              2  \n",
       "Income                                   0           4622  \n",
       "Location.Geo                             0           2840  \n",
       "Location.Code                          119              3  \n",
       "Marital.Status                         129              3  \n",
       "Monthly.Premium.Auto                   794            191  \n",
       "Months.Since.Last.Claim                  0             36  \n",
       "Months.Since.Policy.Inception            0            100  \n",
       "Number.of.Open.Complaints              818              6  \n",
       "Number.of.Policies                     121              9  \n",
       "Policy.Type                            891              3  \n",
       "Policy                                 121              9  \n",
       "Renew.Offer.Type                       128              4  \n",
       "Sales.Channel                          128              4  \n",
       "Total.Claim.Amount                       0           4125  \n",
       "Vehicle.Class                          126              6  \n",
       "Vehicle.Size                           126              3  "
      ]
     },
     "execution_count": 22,
     "metadata": {},
     "output_type": "execute_result"
    }
   ],
   "source": [
    "## Undertsand train data.\n",
    "statistics(train)"
   ]
  },
  {
   "cell_type": "code",
   "execution_count": 23,
   "metadata": {},
   "outputs": [
    {
     "data": {
      "text/html": [
       "<div>\n",
       "<style scoped>\n",
       "    .dataframe tbody tr th:only-of-type {\n",
       "        vertical-align: middle;\n",
       "    }\n",
       "\n",
       "    .dataframe tbody tr th {\n",
       "        vertical-align: top;\n",
       "    }\n",
       "\n",
       "    .dataframe thead th {\n",
       "        text-align: right;\n",
       "    }\n",
       "</style>\n",
       "<table border=\"1\" class=\"dataframe\">\n",
       "  <thead>\n",
       "    <tr style=\"text-align: right;\">\n",
       "      <th></th>\n",
       "      <th>dtypes</th>\n",
       "      <th>levels</th>\n",
       "      <th>null_values</th>\n",
       "      <th>Unique Values</th>\n",
       "    </tr>\n",
       "  </thead>\n",
       "  <tbody>\n",
       "    <tr>\n",
       "      <th>CustomerID</th>\n",
       "      <td>int64</td>\n",
       "      <td>[17, 19, 29, 34, 37, 44, 48, 49, 54, 65, 77, 8...</td>\n",
       "      <td>0</td>\n",
       "      <td>1767</td>\n",
       "    </tr>\n",
       "    <tr>\n",
       "      <th>Coverage</th>\n",
       "      <td>object</td>\n",
       "      <td>[Basic, Extended, Premium]</td>\n",
       "      <td>0</td>\n",
       "      <td>3</td>\n",
       "    </tr>\n",
       "    <tr>\n",
       "      <th>Education</th>\n",
       "      <td>object</td>\n",
       "      <td>[Bachelor, College, Master, High School or Bel...</td>\n",
       "      <td>0</td>\n",
       "      <td>5</td>\n",
       "    </tr>\n",
       "    <tr>\n",
       "      <th>EmploymentStatus</th>\n",
       "      <td>object</td>\n",
       "      <td>[Employed, Disabled, Medical Leave, Unemployed]</td>\n",
       "      <td>0</td>\n",
       "      <td>4</td>\n",
       "    </tr>\n",
       "    <tr>\n",
       "      <th>Gender</th>\n",
       "      <td>object</td>\n",
       "      <td>[M, F]</td>\n",
       "      <td>0</td>\n",
       "      <td>2</td>\n",
       "    </tr>\n",
       "    <tr>\n",
       "      <th>Income</th>\n",
       "      <td>float64</td>\n",
       "      <td>[43836.0, 28812.0, 77026.0, 24599.0, 13789.0, ...</td>\n",
       "      <td>239</td>\n",
       "      <td>1219</td>\n",
       "    </tr>\n",
       "    <tr>\n",
       "      <th>Location.Geo</th>\n",
       "      <td>object</td>\n",
       "      <td>[12.6,79.4, 17.3,78.4, 18.4,73.5, 17.1,78.2, 1...</td>\n",
       "      <td>0</td>\n",
       "      <td>1192</td>\n",
       "    </tr>\n",
       "    <tr>\n",
       "      <th>Location.Code</th>\n",
       "      <td>object</td>\n",
       "      <td>[Rural, Urban, Suburban]</td>\n",
       "      <td>0</td>\n",
       "      <td>3</td>\n",
       "    </tr>\n",
       "    <tr>\n",
       "      <th>Marital.Status</th>\n",
       "      <td>object</td>\n",
       "      <td>[Single, Married, Divorced]</td>\n",
       "      <td>0</td>\n",
       "      <td>3</td>\n",
       "    </tr>\n",
       "    <tr>\n",
       "      <th>Monthly.Premium.Auto</th>\n",
       "      <td>float64</td>\n",
       "      <td>[73.0, 93.0, 110.0, 64.0, 79.0, 71.0, 72.0, 11...</td>\n",
       "      <td>72</td>\n",
       "      <td>142</td>\n",
       "    </tr>\n",
       "    <tr>\n",
       "      <th>Months.Since.Last.Claim</th>\n",
       "      <td>int64</td>\n",
       "      <td>[12, 17, 9, 8, 13, 22, 15, 1, 19, 7, 11, 4, 29...</td>\n",
       "      <td>0</td>\n",
       "      <td>36</td>\n",
       "    </tr>\n",
       "    <tr>\n",
       "      <th>Months.Since.Policy.Inception</th>\n",
       "      <td>int64</td>\n",
       "      <td>[44, 7, 82, 50, 49, 3, 1, 47, 14, 42, 10, 77, ...</td>\n",
       "      <td>0</td>\n",
       "      <td>100</td>\n",
       "    </tr>\n",
       "    <tr>\n",
       "      <th>Number.of.Open.Complaints</th>\n",
       "      <td>int64</td>\n",
       "      <td>[0, 2, 1, 3, 4, 5]</td>\n",
       "      <td>0</td>\n",
       "      <td>6</td>\n",
       "    </tr>\n",
       "    <tr>\n",
       "      <th>Number.of.Policies</th>\n",
       "      <td>int64</td>\n",
       "      <td>[1, 8, 3, 2, 6, 4, 7, 9, 5]</td>\n",
       "      <td>0</td>\n",
       "      <td>9</td>\n",
       "    </tr>\n",
       "    <tr>\n",
       "      <th>Policy.Type</th>\n",
       "      <td>object</td>\n",
       "      <td>[Personal Auto, Special Auto, Corporate Auto, ...</td>\n",
       "      <td>42</td>\n",
       "      <td>3</td>\n",
       "    </tr>\n",
       "    <tr>\n",
       "      <th>Policy</th>\n",
       "      <td>object</td>\n",
       "      <td>[Personal L1, Special L2, Corporate L1, Corpor...</td>\n",
       "      <td>0</td>\n",
       "      <td>9</td>\n",
       "    </tr>\n",
       "    <tr>\n",
       "      <th>Renew.Offer.Type</th>\n",
       "      <td>object</td>\n",
       "      <td>[Offer1, Offer2, Offer4, Offer3]</td>\n",
       "      <td>0</td>\n",
       "      <td>4</td>\n",
       "    </tr>\n",
       "    <tr>\n",
       "      <th>Sales.Channel</th>\n",
       "      <td>object</td>\n",
       "      <td>[Agent, Branch, Call Center, Web]</td>\n",
       "      <td>0</td>\n",
       "      <td>4</td>\n",
       "    </tr>\n",
       "    <tr>\n",
       "      <th>Total.Claim.Amount</th>\n",
       "      <td>float64</td>\n",
       "      <td>[138.130879, 425.527834, 472.029737, 42.920271...</td>\n",
       "      <td>0</td>\n",
       "      <td>1192</td>\n",
       "    </tr>\n",
       "    <tr>\n",
       "      <th>Vehicle.Class</th>\n",
       "      <td>object</td>\n",
       "      <td>[Four-Door Car, Luxury SUV, Two-Door Car, SUV,...</td>\n",
       "      <td>0</td>\n",
       "      <td>6</td>\n",
       "    </tr>\n",
       "    <tr>\n",
       "      <th>Vehicle.Size</th>\n",
       "      <td>object</td>\n",
       "      <td>[Medsize, Large, Small]</td>\n",
       "      <td>0</td>\n",
       "      <td>3</td>\n",
       "    </tr>\n",
       "  </tbody>\n",
       "</table>\n",
       "</div>"
      ],
      "text/plain": [
       "                                dtypes  \\\n",
       "CustomerID                       int64   \n",
       "Coverage                        object   \n",
       "Education                       object   \n",
       "EmploymentStatus                object   \n",
       "Gender                          object   \n",
       "Income                         float64   \n",
       "Location.Geo                    object   \n",
       "Location.Code                   object   \n",
       "Marital.Status                  object   \n",
       "Monthly.Premium.Auto           float64   \n",
       "Months.Since.Last.Claim          int64   \n",
       "Months.Since.Policy.Inception    int64   \n",
       "Number.of.Open.Complaints        int64   \n",
       "Number.of.Policies               int64   \n",
       "Policy.Type                     object   \n",
       "Policy                          object   \n",
       "Renew.Offer.Type                object   \n",
       "Sales.Channel                   object   \n",
       "Total.Claim.Amount             float64   \n",
       "Vehicle.Class                   object   \n",
       "Vehicle.Size                    object   \n",
       "\n",
       "                                                                          levels  \\\n",
       "CustomerID                     [17, 19, 29, 34, 37, 44, 48, 49, 54, 65, 77, 8...   \n",
       "Coverage                                              [Basic, Extended, Premium]   \n",
       "Education                      [Bachelor, College, Master, High School or Bel...   \n",
       "EmploymentStatus                 [Employed, Disabled, Medical Leave, Unemployed]   \n",
       "Gender                                                                    [M, F]   \n",
       "Income                         [43836.0, 28812.0, 77026.0, 24599.0, 13789.0, ...   \n",
       "Location.Geo                   [12.6,79.4, 17.3,78.4, 18.4,73.5, 17.1,78.2, 1...   \n",
       "Location.Code                                           [Rural, Urban, Suburban]   \n",
       "Marital.Status                                       [Single, Married, Divorced]   \n",
       "Monthly.Premium.Auto           [73.0, 93.0, 110.0, 64.0, 79.0, 71.0, 72.0, 11...   \n",
       "Months.Since.Last.Claim        [12, 17, 9, 8, 13, 22, 15, 1, 19, 7, 11, 4, 29...   \n",
       "Months.Since.Policy.Inception  [44, 7, 82, 50, 49, 3, 1, 47, 14, 42, 10, 77, ...   \n",
       "Number.of.Open.Complaints                                     [0, 2, 1, 3, 4, 5]   \n",
       "Number.of.Policies                                   [1, 8, 3, 2, 6, 4, 7, 9, 5]   \n",
       "Policy.Type                    [Personal Auto, Special Auto, Corporate Auto, ...   \n",
       "Policy                         [Personal L1, Special L2, Corporate L1, Corpor...   \n",
       "Renew.Offer.Type                                [Offer1, Offer2, Offer4, Offer3]   \n",
       "Sales.Channel                                  [Agent, Branch, Call Center, Web]   \n",
       "Total.Claim.Amount             [138.130879, 425.527834, 472.029737, 42.920271...   \n",
       "Vehicle.Class                  [Four-Door Car, Luxury SUV, Two-Door Car, SUV,...   \n",
       "Vehicle.Size                                             [Medsize, Large, Small]   \n",
       "\n",
       "                               null_values  Unique Values  \n",
       "CustomerID                               0           1767  \n",
       "Coverage                                 0              3  \n",
       "Education                                0              5  \n",
       "EmploymentStatus                         0              4  \n",
       "Gender                                   0              2  \n",
       "Income                                 239           1219  \n",
       "Location.Geo                             0           1192  \n",
       "Location.Code                            0              3  \n",
       "Marital.Status                           0              3  \n",
       "Monthly.Premium.Auto                    72            142  \n",
       "Months.Since.Last.Claim                  0             36  \n",
       "Months.Since.Policy.Inception            0            100  \n",
       "Number.of.Open.Complaints                0              6  \n",
       "Number.of.Policies                       0              9  \n",
       "Policy.Type                             42              3  \n",
       "Policy                                   0              9  \n",
       "Renew.Offer.Type                         0              4  \n",
       "Sales.Channel                            0              4  \n",
       "Total.Claim.Amount                       0           1192  \n",
       "Vehicle.Class                            0              6  \n",
       "Vehicle.Size                             0              3  "
      ]
     },
     "execution_count": 23,
     "metadata": {},
     "output_type": "execute_result"
    }
   ],
   "source": [
    "## Understand test data.\n",
    "statistics(test)"
   ]
  },
  {
   "cell_type": "code",
   "execution_count": 142,
   "metadata": {},
   "outputs": [],
   "source": [
    "## Below logic is used for checking for special charcter for numeric columns.\n",
    "\n",
    "def checkSpecialCharcters(df):\n",
    "    for col in df.select_dtypes(['int64','float64']).columns: \n",
    "        print('\\n',col,'----->')\n",
    "        for index in range(1,len(df)):\n",
    "            try:\n",
    "                skip=float(df.loc[index,col])\n",
    "                skip=int(df.loc[index,col])\n",
    "            except ValueError :\n",
    "                if str(df.loc[index,col])!= 'nan':\n",
    "                    print(index,df.loc[index,col])\n",
    "            "
   ]
  },
  {
   "cell_type": "code",
   "execution_count": 144,
   "metadata": {
    "scrolled": true
   },
   "outputs": [
    {
     "name": "stdout",
     "output_type": "stream",
     "text": [
      "\n",
      " CustomerID ----->\n",
      "\n",
      " Customer.Lifetime.Value ----->\n",
      "\n",
      " Monthly.Premium.Auto ----->\n",
      "\n",
      " Months.Since.Last.Claim ----->\n",
      "\n",
      " Months.Since.Policy.Inception ----->\n",
      "\n",
      " Number.of.Open.Complaints ----->\n",
      "\n",
      " Number.of.Policies ----->\n",
      "\n",
      " Total.Claim.Amount ----->\n",
      "\n",
      " Vehicle.Size ----->\n"
     ]
    }
   ],
   "source": [
    "## Check special charcter for numeric column of train data.\n",
    "checkSpecialCharcters(train)"
   ]
  },
  {
   "cell_type": "code",
   "execution_count": 145,
   "metadata": {},
   "outputs": [
    {
     "name": "stdout",
     "output_type": "stream",
     "text": [
      "\n",
      " CustomerID ----->\n",
      "\n",
      " Income ----->\n",
      "\n",
      " Monthly.Premium.Auto ----->\n",
      "\n",
      " Months.Since.Last.Claim ----->\n",
      "\n",
      " Months.Since.Policy.Inception ----->\n",
      "\n",
      " Number.of.Open.Complaints ----->\n",
      "\n",
      " Number.of.Policies ----->\n",
      "\n",
      " Total.Claim.Amount ----->\n"
     ]
    }
   ],
   "source": [
    "## Check special charcter for numeric column of test data.\n",
    "checkSpecialCharcters(test)"
   ]
  },
  {
   "cell_type": "code",
   "execution_count": 112,
   "metadata": {},
   "outputs": [],
   "source": [
    "## Check special characters for categorical columns.\n",
    "def checkSpclCharcters(df):\n",
    "    for col in df.select_dtypes(['object']).columns:\n",
    "        print('\\n',col,'----->')\n",
    "        for index in range(1,len(df)):\n",
    "            if  str(df.loc[index,col]).isdigit() or df.loc[index,col]==' ' or \\\n",
    "                str(df.loc[index,col]).isalpha() or re.sub('[\\s+]', '',df.loc[index,col]).isalpha() or \\\n",
    "                re.sub('[\\s+]', '',df.loc[index,col]).replace('-','').isalnum() or str(df.loc[index,col]).isalnum():\n",
    "                skip = True\n",
    "            else:\n",
    "                print(\"Index \",index,\"\\tSpecial Character \",df.loc[index,col])       "
   ]
  },
  {
   "cell_type": "code",
   "execution_count": 114,
   "metadata": {
    "scrolled": false
   },
   "outputs": [
    {
     "name": "stdout",
     "output_type": "stream",
     "text": [
      "\n",
      " Coverage ----->\n",
      "\n",
      " Education ----->\n",
      "\n",
      " EmploymentStatus ----->\n",
      "\n",
      " Gender ----->\n",
      "\n",
      " Income ----->\n",
      "Index  87 \tSpecial Character  ?\n",
      "Index  160 \tSpecial Character  ?\n",
      "Index  283 \tSpecial Character  ?\n",
      "Index  320 \tSpecial Character  ?\n",
      "Index  383 \tSpecial Character  ?\n",
      "Index  407 \tSpecial Character  ?\n",
      "Index  436 \tSpecial Character  ?\n",
      "Index  553 \tSpecial Character  ?\n",
      "Index  672 \tSpecial Character  ?\n",
      "Index  1032 \tSpecial Character  ?\n",
      "Index  1035 \tSpecial Character  ?\n",
      "Index  1052 \tSpecial Character  ?\n",
      "Index  1139 \tSpecial Character  ?\n",
      "Index  1270 \tSpecial Character  ?\n",
      "Index  1314 \tSpecial Character  ?\n",
      "Index  1487 \tSpecial Character  ?\n",
      "Index  1498 \tSpecial Character  ?\n",
      "Index  1508 \tSpecial Character  ?\n",
      "Index  1611 \tSpecial Character  ?\n",
      "Index  1686 \tSpecial Character  ?\n",
      "Index  1777 \tSpecial Character  ?\n",
      "Index  1888 \tSpecial Character  ?\n",
      "Index  2057 \tSpecial Character  ?\n",
      "Index  2098 \tSpecial Character  ?\n",
      "Index  2549 \tSpecial Character  ?\n",
      "Index  2608 \tSpecial Character  ?\n",
      "Index  2940 \tSpecial Character  ?\n",
      "Index  3059 \tSpecial Character  ?\n",
      "Index  3231 \tSpecial Character  ?\n",
      "Index  3267 \tSpecial Character  ?\n",
      "Index  3537 \tSpecial Character  ?\n",
      "Index  3599 \tSpecial Character  ?\n",
      "Index  3679 \tSpecial Character  ?\n",
      "Index  3727 \tSpecial Character  ?\n",
      "Index  3728 \tSpecial Character  ?\n",
      "Index  3916 \tSpecial Character  ?\n",
      "Index  4054 \tSpecial Character  ?\n",
      "Index  4153 \tSpecial Character  ?\n",
      "Index  4326 \tSpecial Character  ?\n",
      "Index  4461 \tSpecial Character  ?\n",
      "Index  4659 \tSpecial Character  ?\n",
      "Index  4707 \tSpecial Character  ?\n",
      "Index  4811 \tSpecial Character  ?\n",
      "Index  4848 \tSpecial Character  ?\n",
      "Index  5075 \tSpecial Character  ?\n",
      "Index  5257 \tSpecial Character  ?\n",
      "Index  5305 \tSpecial Character  ?\n",
      "Index  5428 \tSpecial Character  ?\n",
      "Index  5525 \tSpecial Character  ?\n",
      "Index  5591 \tSpecial Character  ?\n",
      "Index  5608 \tSpecial Character  ?\n",
      "Index  5614 \tSpecial Character  ?\n",
      "Index  5794 \tSpecial Character  ?\n",
      "Index  5943 \tSpecial Character  ?\n",
      "Index  6026 \tSpecial Character  ?\n",
      "Index  6113 \tSpecial Character  ?\n",
      "Index  6140 \tSpecial Character  ?\n",
      "Index  6144 \tSpecial Character  ?\n",
      "Index  6153 \tSpecial Character  ?\n",
      "Index  6252 \tSpecial Character  ?\n",
      "Index  6372 \tSpecial Character  ?\n",
      "Index  6517 \tSpecial Character  ?\n",
      "Index  6540 \tSpecial Character  ?\n",
      "Index  6625 \tSpecial Character  ?\n",
      "Index  6656 \tSpecial Character  ?\n",
      "Index  6838 \tSpecial Character  ?\n",
      "Index  6973 \tSpecial Character  ?\n",
      "Index  6982 \tSpecial Character  ?\n",
      "Index  7112 \tSpecial Character  ?\n",
      "Index  7248 \tSpecial Character  ?\n",
      "Index  7273 \tSpecial Character  ?\n",
      "Index  7354 \tSpecial Character  ?\n",
      "Index  7394 \tSpecial Character  ?\n",
      "Index  7411 \tSpecial Character  ?\n",
      "Index  7437 \tSpecial Character  ?\n",
      "Index  7463 \tSpecial Character  ?\n",
      "Index  7503 \tSpecial Character  ?\n",
      "Index  7563 \tSpecial Character  ?\n",
      "Index  7609 \tSpecial Character  ?\n",
      "Index  7864 \tSpecial Character  ?\n",
      "Index  7909 \tSpecial Character  ?\n",
      "Index  7935 \tSpecial Character  ?\n",
      "Index  7943 \tSpecial Character  ?\n",
      "Index  8099 \tSpecial Character  ?\n",
      "Index  8139 \tSpecial Character  ?\n",
      "Index  8173 \tSpecial Character  ?\n",
      "Index  8283 \tSpecial Character  ?\n",
      "Index  8285 \tSpecial Character  ?\n",
      "Index  8399 \tSpecial Character  ?\n",
      "Index  8431 \tSpecial Character  ?\n",
      "Index  8463 \tSpecial Character  ?\n",
      "Index  8587 \tSpecial Character  ?\n",
      "Index  8595 \tSpecial Character  ?\n",
      "Index  8615 \tSpecial Character  ?\n",
      "Index  8678 \tSpecial Character  ?\n",
      "Index  8684 \tSpecial Character  ?\n",
      "Index  8704 \tSpecial Character  ?\n",
      "Index  8720 \tSpecial Character  ?\n",
      "Index  8763 \tSpecial Character  ?\n",
      "Index  8865 \tSpecial Character  ?\n",
      "Index  8866 \tSpecial Character  ?\n",
      "Index  8885 \tSpecial Character  ?\n",
      "Index  8890 \tSpecial Character  ?\n",
      "Index  8961 \tSpecial Character  ?\n",
      "Index  9051 \tSpecial Character  ?\n",
      "Index  9083 \tSpecial Character  ?\n",
      "Index  9183 \tSpecial Character  ?\n",
      "Index  9220 \tSpecial Character  ?\n",
      "Index  9231 \tSpecial Character  ?\n",
      "Index  9240 \tSpecial Character  ?\n",
      "Index  9323 \tSpecial Character  ?\n",
      "Index  9385 \tSpecial Character  ?\n",
      "Index  9402 \tSpecial Character  ?\n",
      "Index  9556 \tSpecial Character  ?\n",
      "Index  9589 \tSpecial Character  ?\n",
      "Index  9643 \tSpecial Character  ?\n",
      "Index  9763 \tSpecial Character  ?\n",
      "Index  9785 \tSpecial Character  ?\n",
      "\n",
      " Location.Code ----->\n",
      "\n",
      " Marital.Status ----->\n",
      "\n",
      " Policy.Type ----->\n",
      "\n",
      " Policy ----->\n",
      "\n",
      " Renew.Offer.Type ----->\n",
      "\n",
      " Sales.Channel ----->\n",
      "\n",
      " Vehicle.Class ----->\n"
     ]
    }
   ],
   "source": [
    "## Check special charcters for category columns of train data.\n",
    "checkSpclCharcters(train.drop('Location.Geo',axis=1))"
   ]
  },
  {
   "cell_type": "code",
   "execution_count": 115,
   "metadata": {},
   "outputs": [
    {
     "name": "stdout",
     "output_type": "stream",
     "text": [
      "\n",
      " Coverage ----->\n",
      "\n",
      " Education ----->\n",
      "\n",
      " EmploymentStatus ----->\n",
      "\n",
      " Gender ----->\n",
      "\n",
      " Location.Code ----->\n",
      "\n",
      " Marital.Status ----->\n",
      "\n",
      " Policy.Type ----->\n",
      "\n",
      " Policy ----->\n",
      "\n",
      " Renew.Offer.Type ----->\n",
      "\n",
      " Sales.Channel ----->\n",
      "\n",
      " Vehicle.Class ----->\n",
      "\n",
      " Vehicle.Size ----->\n"
     ]
    }
   ],
   "source": [
    "## Check special charcters for category columns of test data.\n",
    "checkSpclCharcters(test.drop('Location.Geo',axis=1))"
   ]
  },
  {
   "cell_type": "code",
   "execution_count": 146,
   "metadata": {},
   "outputs": [],
   "source": [
    "## Calculate variance for numeric columns.\n",
    "def variance(x):\n",
    "        return(pd.DataFrame({'Datatype' : x.dtypes,\n",
    "                            'Variance': [round(x[i].var()) for i in x] }))"
   ]
  },
  {
   "cell_type": "code",
   "execution_count": 148,
   "metadata": {},
   "outputs": [
    {
     "data": {
      "text/html": [
       "<div>\n",
       "<style scoped>\n",
       "    .dataframe tbody tr th:only-of-type {\n",
       "        vertical-align: middle;\n",
       "    }\n",
       "\n",
       "    .dataframe tbody tr th {\n",
       "        vertical-align: top;\n",
       "    }\n",
       "\n",
       "    .dataframe thead th {\n",
       "        text-align: right;\n",
       "    }\n",
       "</style>\n",
       "<table border=\"1\" class=\"dataframe\">\n",
       "  <thead>\n",
       "    <tr style=\"text-align: right;\">\n",
       "      <th></th>\n",
       "      <th>Datatype</th>\n",
       "      <th>Variance</th>\n",
       "    </tr>\n",
       "  </thead>\n",
       "  <tbody>\n",
       "    <tr>\n",
       "      <th>CustomerID</th>\n",
       "      <td>int64</td>\n",
       "      <td>11177562</td>\n",
       "    </tr>\n",
       "    <tr>\n",
       "      <th>Customer.Lifetime.Value</th>\n",
       "      <td>float64</td>\n",
       "      <td>46895870</td>\n",
       "    </tr>\n",
       "    <tr>\n",
       "      <th>Monthly.Premium.Auto</th>\n",
       "      <td>float64</td>\n",
       "      <td>1185</td>\n",
       "    </tr>\n",
       "    <tr>\n",
       "      <th>Months.Since.Last.Claim</th>\n",
       "      <td>int64</td>\n",
       "      <td>100</td>\n",
       "    </tr>\n",
       "    <tr>\n",
       "      <th>Months.Since.Policy.Inception</th>\n",
       "      <td>int64</td>\n",
       "      <td>782</td>\n",
       "    </tr>\n",
       "    <tr>\n",
       "      <th>Number.of.Open.Complaints</th>\n",
       "      <td>float64</td>\n",
       "      <td>1</td>\n",
       "    </tr>\n",
       "    <tr>\n",
       "      <th>Number.of.Policies</th>\n",
       "      <td>float64</td>\n",
       "      <td>6</td>\n",
       "    </tr>\n",
       "    <tr>\n",
       "      <th>Total.Claim.Amount</th>\n",
       "      <td>float64</td>\n",
       "      <td>86144</td>\n",
       "    </tr>\n",
       "    <tr>\n",
       "      <th>Vehicle.Size</th>\n",
       "      <td>float64</td>\n",
       "      <td>0</td>\n",
       "    </tr>\n",
       "  </tbody>\n",
       "</table>\n",
       "</div>"
      ],
      "text/plain": [
       "                              Datatype  Variance\n",
       "CustomerID                       int64  11177562\n",
       "Customer.Lifetime.Value        float64  46895870\n",
       "Monthly.Premium.Auto           float64      1185\n",
       "Months.Since.Last.Claim          int64       100\n",
       "Months.Since.Policy.Inception    int64       782\n",
       "Number.of.Open.Complaints      float64         1\n",
       "Number.of.Policies             float64         6\n",
       "Total.Claim.Amount             float64     86144\n",
       "Vehicle.Size                   float64         0"
      ]
     },
     "execution_count": 148,
     "metadata": {},
     "output_type": "execute_result"
    }
   ],
   "source": [
    "## Get varience for numeric columns of train data.\n",
    "variance(train.select_dtypes(['int64','float64']))"
   ]
  },
  {
   "cell_type": "code",
   "execution_count": 149,
   "metadata": {
    "scrolled": false
   },
   "outputs": [
    {
     "data": {
      "text/html": [
       "<div>\n",
       "<style scoped>\n",
       "    .dataframe tbody tr th:only-of-type {\n",
       "        vertical-align: middle;\n",
       "    }\n",
       "\n",
       "    .dataframe tbody tr th {\n",
       "        vertical-align: top;\n",
       "    }\n",
       "\n",
       "    .dataframe thead th {\n",
       "        text-align: right;\n",
       "    }\n",
       "</style>\n",
       "<table border=\"1\" class=\"dataframe\">\n",
       "  <thead>\n",
       "    <tr style=\"text-align: right;\">\n",
       "      <th></th>\n",
       "      <th>Datatype</th>\n",
       "      <th>Variance</th>\n",
       "    </tr>\n",
       "  </thead>\n",
       "  <tbody>\n",
       "    <tr>\n",
       "      <th>CustomerID</th>\n",
       "      <td>int64</td>\n",
       "      <td>11080257</td>\n",
       "    </tr>\n",
       "    <tr>\n",
       "      <th>Income</th>\n",
       "      <td>float64</td>\n",
       "      <td>843717848</td>\n",
       "    </tr>\n",
       "    <tr>\n",
       "      <th>Monthly.Premium.Auto</th>\n",
       "      <td>float64</td>\n",
       "      <td>1208</td>\n",
       "    </tr>\n",
       "    <tr>\n",
       "      <th>Months.Since.Last.Claim</th>\n",
       "      <td>int64</td>\n",
       "      <td>104</td>\n",
       "    </tr>\n",
       "    <tr>\n",
       "      <th>Months.Since.Policy.Inception</th>\n",
       "      <td>int64</td>\n",
       "      <td>781</td>\n",
       "    </tr>\n",
       "    <tr>\n",
       "      <th>Number.of.Open.Complaints</th>\n",
       "      <td>int64</td>\n",
       "      <td>1</td>\n",
       "    </tr>\n",
       "    <tr>\n",
       "      <th>Number.of.Policies</th>\n",
       "      <td>int64</td>\n",
       "      <td>6</td>\n",
       "    </tr>\n",
       "    <tr>\n",
       "      <th>Total.Claim.Amount</th>\n",
       "      <td>float64</td>\n",
       "      <td>83821</td>\n",
       "    </tr>\n",
       "  </tbody>\n",
       "</table>\n",
       "</div>"
      ],
      "text/plain": [
       "                              Datatype   Variance\n",
       "CustomerID                       int64   11080257\n",
       "Income                         float64  843717848\n",
       "Monthly.Premium.Auto           float64       1208\n",
       "Months.Since.Last.Claim          int64        104\n",
       "Months.Since.Policy.Inception    int64        781\n",
       "Number.of.Open.Complaints        int64          1\n",
       "Number.of.Policies               int64          6\n",
       "Total.Claim.Amount             float64      83821"
      ]
     },
     "execution_count": 149,
     "metadata": {},
     "output_type": "execute_result"
    }
   ],
   "source": [
    "## Get varience for numeric columns of test data.\n",
    "variance(test.select_dtypes(['int64','float64']))"
   ]
  },
  {
   "cell_type": "code",
   "execution_count": 152,
   "metadata": {},
   "outputs": [],
   "source": [
    "## Drop duplicate records.\n",
    "train.drop_duplicates(keep = False, inplace = True) ## Return DataFrame with duplicate rows removed."
   ]
  },
  {
   "cell_type": "code",
   "execution_count": 154,
   "metadata": {},
   "outputs": [],
   "source": [
    "## Replace ? with NA for train and test data.\n",
    "train['Income'] = train['Income'].replace('?','NA')\n",
    "test['Income'] = test['Income'].replace('?','NA')"
   ]
  },
  {
   "cell_type": "code",
   "execution_count": 155,
   "metadata": {
    "scrolled": false
   },
   "outputs": [
    {
     "name": "stdout",
     "output_type": "stream",
     "text": [
      "\n",
      " Coverage ----->\n",
      "\n",
      " Education ----->\n",
      "\n",
      " EmploymentStatus ----->\n",
      "\n",
      " Gender ----->\n",
      "\n",
      " Income ----->\n",
      "\n",
      " Location.Code ----->\n",
      "\n",
      " Marital.Status ----->\n",
      "\n",
      " Policy.Type ----->\n",
      "\n",
      " Policy ----->\n",
      "\n",
      " Renew.Offer.Type ----->\n",
      "\n",
      " Sales.Channel ----->\n",
      "\n",
      " Vehicle.Class ----->\n"
     ]
    }
   ],
   "source": [
    "## Check special charcters for category columns of train data after replacing ? with NA.\n",
    "checkSpclCharcters(train.drop('Location.Geo',axis=1))"
   ]
  },
  {
   "cell_type": "code",
   "execution_count": 156,
   "metadata": {},
   "outputs": [],
   "source": [
    "## For test data Vehicle.Size is having different level so converting them in numers.\n",
    "test['Vehicle.Size']=test['Vehicle.Size'].replace('Large','1.0').replace('Medsize','2.0').replace('Small','3.0')"
   ]
  },
  {
   "cell_type": "code",
   "execution_count": 157,
   "metadata": {},
   "outputs": [],
   "source": [
    "## Data Type conversions."
   ]
  },
  {
   "cell_type": "code",
   "execution_count": 158,
   "metadata": {},
   "outputs": [
    {
     "name": "stdout",
     "output_type": "stream",
     "text": [
      "float64\n",
      "float64\n"
     ]
    }
   ],
   "source": [
    "## Convert category to numeric.\n",
    "train['Income'] = pd.to_numeric(train['Income'], errors='coerce')\n",
    "print(train['Income'].dtypes)\n",
    "test['Income'] = pd.to_numeric(test['Income'], errors='coerce')\n",
    "print(test['Income'].dtypes)"
   ]
  },
  {
   "cell_type": "code",
   "execution_count": 159,
   "metadata": {},
   "outputs": [
    {
     "name": "stdout",
     "output_type": "stream",
     "text": [
      "category\n",
      "category\n"
     ]
    }
   ],
   "source": [
    "## Convert numeric to category.\n",
    "train['Vehicle.Size'] = train['Vehicle.Size'].astype('str').astype('category')\n",
    "print(train['Vehicle.Size'].dtypes)\n",
    "test['Vehicle.Size'] = test['Vehicle.Size'].astype('str').astype('category')\n",
    "print(test['Vehicle.Size'].dtypes)"
   ]
  },
  {
   "cell_type": "code",
   "execution_count": 164,
   "metadata": {},
   "outputs": [],
   "source": [
    "## Convert to object type to category datatype.\n",
    "def dtypeConversion(df):  \n",
    "    for i in df.select_dtypes('object'):\n",
    "        df[i]=df[i].astype('category')"
   ]
  },
  {
   "cell_type": "code",
   "execution_count": 165,
   "metadata": {},
   "outputs": [],
   "source": [
    "## Convert object data type to category data type for train data.\n",
    "dtypeConversion(train)"
   ]
  },
  {
   "cell_type": "code",
   "execution_count": 166,
   "metadata": {},
   "outputs": [],
   "source": [
    "## Convert object data type to category data type for test data.\n",
    "dtypeConversion(test)"
   ]
  },
  {
   "cell_type": "code",
   "execution_count": 167,
   "metadata": {},
   "outputs": [
    {
     "data": {
      "text/plain": [
       "CustomerID                          int64\n",
       "Customer.Lifetime.Value           float64\n",
       "Coverage                         category\n",
       "Education                        category\n",
       "EmploymentStatus                 category\n",
       "Gender                           category\n",
       "Income                            float64\n",
       "Location.Geo                     category\n",
       "Location.Code                    category\n",
       "Marital.Status                   category\n",
       "Monthly.Premium.Auto              float64\n",
       "Months.Since.Last.Claim             int64\n",
       "Months.Since.Policy.Inception       int64\n",
       "Number.of.Open.Complaints         float64\n",
       "Number.of.Policies                float64\n",
       "Policy.Type                      category\n",
       "Policy                           category\n",
       "Renew.Offer.Type                 category\n",
       "Sales.Channel                    category\n",
       "Total.Claim.Amount                float64\n",
       "Vehicle.Class                    category\n",
       "Vehicle.Size                     category\n",
       "dtype: object"
      ]
     },
     "execution_count": 167,
     "metadata": {},
     "output_type": "execute_result"
    }
   ],
   "source": [
    "## Check column data types for train after conversion.\n",
    "train.dtypes"
   ]
  },
  {
   "cell_type": "code",
   "execution_count": 168,
   "metadata": {},
   "outputs": [
    {
     "data": {
      "text/plain": [
       "CustomerID                          int64\n",
       "Coverage                         category\n",
       "Education                        category\n",
       "EmploymentStatus                 category\n",
       "Gender                           category\n",
       "Income                            float64\n",
       "Location.Geo                     category\n",
       "Location.Code                    category\n",
       "Marital.Status                   category\n",
       "Monthly.Premium.Auto              float64\n",
       "Months.Since.Last.Claim             int64\n",
       "Months.Since.Policy.Inception       int64\n",
       "Number.of.Open.Complaints           int64\n",
       "Number.of.Policies                  int64\n",
       "Policy.Type                      category\n",
       "Policy                           category\n",
       "Renew.Offer.Type                 category\n",
       "Sales.Channel                    category\n",
       "Total.Claim.Amount                float64\n",
       "Vehicle.Class                    category\n",
       "Vehicle.Size                     category\n",
       "dtype: object"
      ]
     },
     "execution_count": 168,
     "metadata": {},
     "output_type": "execute_result"
    }
   ],
   "source": [
    "## Check column data types for test after conversion.\n",
    "test.dtypes"
   ]
  },
  {
   "cell_type": "code",
   "execution_count": 169,
   "metadata": {},
   "outputs": [],
   "source": [
    "## Drop unsignificant column for train and test.\n",
    "train.drop('Location.Geo', axis = 1,inplace=True)\n",
    "test.drop('Location.Geo', axis = 1,inplace=True)"
   ]
  },
  {
   "cell_type": "code",
   "execution_count": 170,
   "metadata": {},
   "outputs": [],
   "source": [
    "## Set index value to train and test.\n",
    "train.set_index('CustomerID',inplace=True)\n",
    "test.set_index('CustomerID',inplace=True)"
   ]
  },
  {
   "cell_type": "code",
   "execution_count": 174,
   "metadata": {},
   "outputs": [],
   "source": [
    "## Split data into train and validation(70:30 ratio).\n",
    "X_train,X_test,y_train,y_test = train_test_split(train.drop('Customer.Lifetime.Value',axis=1),train['Customer.Lifetime.Value'],test_size=0.3,random_state=123)"
   ]
  },
  {
   "cell_type": "code",
   "execution_count": 175,
   "metadata": {},
   "outputs": [
    {
     "data": {
      "text/html": [
       "<div>\n",
       "<style scoped>\n",
       "    .dataframe tbody tr th:only-of-type {\n",
       "        vertical-align: middle;\n",
       "    }\n",
       "\n",
       "    .dataframe tbody tr th {\n",
       "        vertical-align: top;\n",
       "    }\n",
       "\n",
       "    .dataframe thead th {\n",
       "        text-align: right;\n",
       "    }\n",
       "</style>\n",
       "<table border=\"1\" class=\"dataframe\">\n",
       "  <thead>\n",
       "    <tr style=\"text-align: right;\">\n",
       "      <th></th>\n",
       "      <th>Coverage</th>\n",
       "      <th>Education</th>\n",
       "      <th>EmploymentStatus</th>\n",
       "      <th>Gender</th>\n",
       "      <th>Income</th>\n",
       "      <th>Location.Code</th>\n",
       "      <th>Marital.Status</th>\n",
       "      <th>Monthly.Premium.Auto</th>\n",
       "      <th>Months.Since.Last.Claim</th>\n",
       "      <th>Months.Since.Policy.Inception</th>\n",
       "      <th>Number.of.Open.Complaints</th>\n",
       "      <th>Number.of.Policies</th>\n",
       "      <th>Policy.Type</th>\n",
       "      <th>Policy</th>\n",
       "      <th>Renew.Offer.Type</th>\n",
       "      <th>Sales.Channel</th>\n",
       "      <th>Total.Claim.Amount</th>\n",
       "      <th>Vehicle.Class</th>\n",
       "      <th>Vehicle.Size</th>\n",
       "    </tr>\n",
       "    <tr>\n",
       "      <th>CustomerID</th>\n",
       "      <th></th>\n",
       "      <th></th>\n",
       "      <th></th>\n",
       "      <th></th>\n",
       "      <th></th>\n",
       "      <th></th>\n",
       "      <th></th>\n",
       "      <th></th>\n",
       "      <th></th>\n",
       "      <th></th>\n",
       "      <th></th>\n",
       "      <th></th>\n",
       "      <th></th>\n",
       "      <th></th>\n",
       "      <th></th>\n",
       "      <th></th>\n",
       "      <th></th>\n",
       "      <th></th>\n",
       "      <th></th>\n",
       "    </tr>\n",
       "  </thead>\n",
       "  <tbody>\n",
       "    <tr>\n",
       "      <th>9502</th>\n",
       "      <td>Basic</td>\n",
       "      <td>Doctor</td>\n",
       "      <td>Employed</td>\n",
       "      <td>M</td>\n",
       "      <td>34614.0</td>\n",
       "      <td>Suburban</td>\n",
       "      <td>Married</td>\n",
       "      <td>NaN</td>\n",
       "      <td>12</td>\n",
       "      <td>97</td>\n",
       "      <td>NaN</td>\n",
       "      <td>2.0</td>\n",
       "      <td>NaN</td>\n",
       "      <td>Personal L1</td>\n",
       "      <td>Offer3</td>\n",
       "      <td>Branch</td>\n",
       "      <td>413.25233</td>\n",
       "      <td>Four-Door Car</td>\n",
       "      <td>2.0</td>\n",
       "    </tr>\n",
       "  </tbody>\n",
       "</table>\n",
       "</div>"
      ],
      "text/plain": [
       "           Coverage Education EmploymentStatus Gender   Income Location.Code  \\\n",
       "CustomerID                                                                     \n",
       "9502          Basic    Doctor         Employed      M  34614.0      Suburban   \n",
       "\n",
       "           Marital.Status  Monthly.Premium.Auto  Months.Since.Last.Claim  \\\n",
       "CustomerID                                                                 \n",
       "9502              Married                   NaN                       12   \n",
       "\n",
       "            Months.Since.Policy.Inception  Number.of.Open.Complaints  \\\n",
       "CustomerID                                                             \n",
       "9502                                   97                        NaN   \n",
       "\n",
       "            Number.of.Policies Policy.Type       Policy Renew.Offer.Type  \\\n",
       "CustomerID                                                                 \n",
       "9502                       2.0         NaN  Personal L1           Offer3   \n",
       "\n",
       "           Sales.Channel  Total.Claim.Amount  Vehicle.Class Vehicle.Size  \n",
       "CustomerID                                                                \n",
       "9502              Branch           413.25233  Four-Door Car          2.0  "
      ]
     },
     "execution_count": 175,
     "metadata": {},
     "output_type": "execute_result"
    }
   ],
   "source": [
    "## Check first record of train data.\n",
    "X_train.head(1)"
   ]
  },
  {
   "cell_type": "code",
   "execution_count": 176,
   "metadata": {},
   "outputs": [
    {
     "data": {
      "text/html": [
       "<div>\n",
       "<style scoped>\n",
       "    .dataframe tbody tr th:only-of-type {\n",
       "        vertical-align: middle;\n",
       "    }\n",
       "\n",
       "    .dataframe tbody tr th {\n",
       "        vertical-align: top;\n",
       "    }\n",
       "\n",
       "    .dataframe thead th {\n",
       "        text-align: right;\n",
       "    }\n",
       "</style>\n",
       "<table border=\"1\" class=\"dataframe\">\n",
       "  <thead>\n",
       "    <tr style=\"text-align: right;\">\n",
       "      <th></th>\n",
       "      <th>Coverage</th>\n",
       "      <th>Education</th>\n",
       "      <th>EmploymentStatus</th>\n",
       "      <th>Gender</th>\n",
       "      <th>Income</th>\n",
       "      <th>Location.Code</th>\n",
       "      <th>Marital.Status</th>\n",
       "      <th>Monthly.Premium.Auto</th>\n",
       "      <th>Months.Since.Last.Claim</th>\n",
       "      <th>Months.Since.Policy.Inception</th>\n",
       "      <th>Number.of.Open.Complaints</th>\n",
       "      <th>Number.of.Policies</th>\n",
       "      <th>Policy.Type</th>\n",
       "      <th>Policy</th>\n",
       "      <th>Renew.Offer.Type</th>\n",
       "      <th>Sales.Channel</th>\n",
       "      <th>Total.Claim.Amount</th>\n",
       "      <th>Vehicle.Class</th>\n",
       "      <th>Vehicle.Size</th>\n",
       "    </tr>\n",
       "    <tr>\n",
       "      <th>CustomerID</th>\n",
       "      <th></th>\n",
       "      <th></th>\n",
       "      <th></th>\n",
       "      <th></th>\n",
       "      <th></th>\n",
       "      <th></th>\n",
       "      <th></th>\n",
       "      <th></th>\n",
       "      <th></th>\n",
       "      <th></th>\n",
       "      <th></th>\n",
       "      <th></th>\n",
       "      <th></th>\n",
       "      <th></th>\n",
       "      <th></th>\n",
       "      <th></th>\n",
       "      <th></th>\n",
       "      <th></th>\n",
       "      <th></th>\n",
       "    </tr>\n",
       "  </thead>\n",
       "  <tbody>\n",
       "    <tr>\n",
       "      <th>4141</th>\n",
       "      <td>Basic</td>\n",
       "      <td>Master</td>\n",
       "      <td>Disabled</td>\n",
       "      <td>M</td>\n",
       "      <td>22239.0</td>\n",
       "      <td>Suburban</td>\n",
       "      <td>Married</td>\n",
       "      <td>62.0</td>\n",
       "      <td>34</td>\n",
       "      <td>85</td>\n",
       "      <td>0.0</td>\n",
       "      <td>1.0</td>\n",
       "      <td>Personal Auto</td>\n",
       "      <td>Personal L3</td>\n",
       "      <td>Offer2</td>\n",
       "      <td>Branch</td>\n",
       "      <td>297.6</td>\n",
       "      <td>Four-Door Car</td>\n",
       "      <td>3.0</td>\n",
       "    </tr>\n",
       "  </tbody>\n",
       "</table>\n",
       "</div>"
      ],
      "text/plain": [
       "           Coverage Education EmploymentStatus Gender   Income Location.Code  \\\n",
       "CustomerID                                                                     \n",
       "4141          Basic    Master         Disabled      M  22239.0      Suburban   \n",
       "\n",
       "           Marital.Status  Monthly.Premium.Auto  Months.Since.Last.Claim  \\\n",
       "CustomerID                                                                 \n",
       "4141              Married                  62.0                       34   \n",
       "\n",
       "            Months.Since.Policy.Inception  Number.of.Open.Complaints  \\\n",
       "CustomerID                                                             \n",
       "4141                                   85                        0.0   \n",
       "\n",
       "            Number.of.Policies    Policy.Type       Policy Renew.Offer.Type  \\\n",
       "CustomerID                                                                    \n",
       "4141                       1.0  Personal Auto  Personal L3           Offer2   \n",
       "\n",
       "           Sales.Channel  Total.Claim.Amount  Vehicle.Class Vehicle.Size  \n",
       "CustomerID                                                                \n",
       "4141              Branch               297.6  Four-Door Car          3.0  "
      ]
     },
     "execution_count": 176,
     "metadata": {},
     "output_type": "execute_result"
    }
   ],
   "source": [
    "## Check first record of train data.\n",
    "X_test.head(1)"
   ]
  },
  {
   "cell_type": "code",
   "execution_count": 177,
   "metadata": {},
   "outputs": [
    {
     "data": {
      "text/plain": [
       "CustomerID\n",
       "9502    8730.421977\n",
       "Name: Customer.Lifetime.Value, dtype: float64"
      ]
     },
     "execution_count": 177,
     "metadata": {},
     "output_type": "execute_result"
    }
   ],
   "source": [
    "## Check first record of train target data.\n",
    "y_train.head(1)"
   ]
  },
  {
   "cell_type": "code",
   "execution_count": 178,
   "metadata": {
    "scrolled": true
   },
   "outputs": [
    {
     "data": {
      "text/plain": [
       "CustomerID\n",
       "4141    2404.633766\n",
       "Name: Customer.Lifetime.Value, dtype: float64"
      ]
     },
     "execution_count": 178,
     "metadata": {},
     "output_type": "execute_result"
    }
   ],
   "source": [
    "## Check first record of test target data.\n",
    "y_test.head(1)"
   ]
  },
  {
   "cell_type": "code",
   "execution_count": 180,
   "metadata": {
    "scrolled": true
   },
   "outputs": [
    {
     "data": {
      "text/plain": [
       "Coverage                         663\n",
       "Education                         88\n",
       "EmploymentStatus                  82\n",
       "Gender                            88\n",
       "Income                            82\n",
       "Location.Code                     87\n",
       "Marital.Status                    88\n",
       "Monthly.Premium.Auto             556\n",
       "Months.Since.Last.Claim            0\n",
       "Months.Since.Policy.Inception      0\n",
       "Number.of.Open.Complaints        574\n",
       "Number.of.Policies                86\n",
       "Policy.Type                      614\n",
       "Policy                            86\n",
       "Renew.Offer.Type                  83\n",
       "Sales.Channel                     83\n",
       "Total.Claim.Amount                 0\n",
       "Vehicle.Class                     84\n",
       "Vehicle.Size                       0\n",
       "dtype: int64"
      ]
     },
     "execution_count": 180,
     "metadata": {},
     "output_type": "execute_result"
    }
   ],
   "source": [
    "X_train.isna().sum()"
   ]
  },
  {
   "cell_type": "code",
   "execution_count": 181,
   "metadata": {},
   "outputs": [
    {
     "data": {
      "text/plain": [
       "Coverage                         262\n",
       "Education                         41\n",
       "EmploymentStatus                  36\n",
       "Gender                            41\n",
       "Income                            36\n",
       "Location.Code                     32\n",
       "Marital.Status                    41\n",
       "Monthly.Premium.Auto             238\n",
       "Months.Since.Last.Claim            0\n",
       "Months.Since.Policy.Inception      0\n",
       "Number.of.Open.Complaints        244\n",
       "Number.of.Policies                35\n",
       "Policy.Type                      277\n",
       "Policy                            35\n",
       "Renew.Offer.Type                  45\n",
       "Sales.Channel                     45\n",
       "Total.Claim.Amount                 0\n",
       "Vehicle.Class                     42\n",
       "Vehicle.Size                       0\n",
       "dtype: int64"
      ]
     },
     "execution_count": 181,
     "metadata": {},
     "output_type": "execute_result"
    }
   ],
   "source": [
    "X_test.isna().sum()"
   ]
  },
  {
   "cell_type": "code",
   "execution_count": 179,
   "metadata": {},
   "outputs": [],
   "source": [
    "######################################################## Impute NA values #####################################################"
   ]
  },
  {
   "cell_type": "code",
   "execution_count": 185,
   "metadata": {},
   "outputs": [],
   "source": [
    "##  fillna requires a value that already exists as a category for categorical columns so that's why adding Unkown level.\n",
    "X_train['Coverage'] = X_train['Coverage'].cat.add_categories('Unknown')\n",
    "\n",
    "## Fill NA values with Unknown for Coverage column of train data.\n",
    "X_train['Coverage'].fillna('Unknown',inplace=True)"
   ]
  },
  {
   "cell_type": "code",
   "execution_count": 218,
   "metadata": {},
   "outputs": [],
   "source": [
    "##  fillna requires a value that already exists as a category for categorical columns so that's why adding Unkown level.\n",
    "X_test['Coverage'] = X_test['Coverage'].cat.add_categories('Unknown')\n",
    "\n",
    "## Fill NA values with Unknown for Coverage column of validation data.\n",
    "X_test['Coverage'].fillna('Unknown',inplace=True)"
   ]
  },
  {
   "cell_type": "code",
   "execution_count": 219,
   "metadata": {},
   "outputs": [],
   "source": [
    "##  fillna requires a value that already exists as a category for categorical columns so that's why adding Unkown level.\n",
    "test['Coverage'] = test['Coverage'].cat.add_categories('Unknown')\n",
    "\n",
    "## Fill NA values with Unknown for Coverage column of test data.\n",
    "test['Coverage'].fillna('Unknown',inplace=True)"
   ]
  },
  {
   "cell_type": "code",
   "execution_count": 189,
   "metadata": {},
   "outputs": [],
   "source": [
    "##  fillna requires a value that already exists as a category for categorical columns so that's why adding Unkown level.\n",
    "X_train['Education'] = X_train['Education'].cat.add_categories('Unknown')\n",
    "\n",
    "## Fill NA values with Unknown for Education column of train data.\n",
    "X_train['Education'].fillna('Unknown',inplace=True)"
   ]
  },
  {
   "cell_type": "code",
   "execution_count": 220,
   "metadata": {},
   "outputs": [],
   "source": [
    "##  fillna requires a value that already exists as a category for categorical columns so that's why adding Unkown level.\n",
    "X_test['Education'] = X_test['Education'].cat.add_categories('Unknown')\n",
    "\n",
    "## Fill NA values with Unknown for Education column of validation data.\n",
    "X_test['Education'].fillna('Unknown',inplace=True)"
   ]
  },
  {
   "cell_type": "code",
   "execution_count": 221,
   "metadata": {},
   "outputs": [],
   "source": [
    "##  fillna requires a value that already exists as a category for categorical columns so that's why adding Unkown level.\n",
    "test['Education'] = test['Education'].cat.add_categories('Unknown')\n",
    "\n",
    "## Fill NA values with Unknown for Education column of test data.\n",
    "test['Education'].fillna('Unknown',inplace=True)"
   ]
  },
  {
   "cell_type": "code",
   "execution_count": 191,
   "metadata": {},
   "outputs": [],
   "source": [
    "##  fillna requires a value that already exists as a category for categorical columns so that's why adding Unkown level.\n",
    "X_train['EmploymentStatus'] = X_train['EmploymentStatus'].cat.add_categories('Unknown')\n",
    "\n",
    "## Fill NA values with Unknown for EmploymentStatus column of train data.\n",
    "X_train['EmploymentStatus'].fillna('Unknown',inplace=True)"
   ]
  },
  {
   "cell_type": "code",
   "execution_count": 222,
   "metadata": {},
   "outputs": [],
   "source": [
    "##  fillna requires a value that already exists as a category for categorical columns so that's why adding Unkown level.\n",
    "X_test['EmploymentStatus'] = X_test['EmploymentStatus'].cat.add_categories('Unknown')\n",
    "\n",
    "## Fill NA values with Unknown for EmploymentStatus column of validation data.\n",
    "X_test['EmploymentStatus'].fillna('Unknown',inplace=True)"
   ]
  },
  {
   "cell_type": "code",
   "execution_count": 223,
   "metadata": {},
   "outputs": [],
   "source": [
    "##  fillna requires a value that already exists as a category for categorical columns so that's why adding Unkown level.\n",
    "test['EmploymentStatus'] = test['EmploymentStatus'].cat.add_categories('Unknown')\n",
    "\n",
    "## Fill NA values with Unknown for EmploymentStatus column of test data.\n",
    "test['EmploymentStatus'].fillna('Unknown',inplace=True)"
   ]
  },
  {
   "cell_type": "code",
   "execution_count": 193,
   "metadata": {},
   "outputs": [],
   "source": [
    "##  fillna requires a value that already exists as a category for categorical columns so that's why adding Unkown level.\n",
    "X_train['Gender'] = X_train['Gender'].cat.add_categories('Unknown')\n",
    "\n",
    "## Fill NA values with Unknown for Gender column of train data.\n",
    "X_train['Gender'].fillna('Unknown',inplace=True)"
   ]
  },
  {
   "cell_type": "code",
   "execution_count": 224,
   "metadata": {},
   "outputs": [],
   "source": [
    "##  fillna requires a value that already exists as a category for categorical columns so that's why adding Unkown level.\n",
    "X_test['Gender'] = X_test['Gender'].cat.add_categories('Unknown')\n",
    "\n",
    "## Fill NA values with Unknown for Gender column of validation data.\n",
    "X_test['Gender'].fillna('Unknown',inplace=True)"
   ]
  },
  {
   "cell_type": "code",
   "execution_count": 225,
   "metadata": {},
   "outputs": [],
   "source": [
    "##  fillna requires a value that already exists as a category for categorical columns so that's why adding Unkown level.\n",
    "test['Gender'] = test['Gender'].cat.add_categories('Unknown')\n",
    "\n",
    "## Fill NA values with Unknown for Gender column of test data.\n",
    "test['Gender'].fillna('Unknown',inplace=True)"
   ]
  },
  {
   "cell_type": "code",
   "execution_count": 195,
   "metadata": {},
   "outputs": [],
   "source": [
    "## Fill NA values with 0 for Income column of train data.\n",
    "X_train['Income'].fillna(0,inplace=True)"
   ]
  },
  {
   "cell_type": "code",
   "execution_count": 226,
   "metadata": {},
   "outputs": [],
   "source": [
    "## Fill NA values with 0 for Income column of validation data.\n",
    "X_test['Income'].fillna(0,inplace=True)"
   ]
  },
  {
   "cell_type": "code",
   "execution_count": 227,
   "metadata": {},
   "outputs": [],
   "source": [
    "## Fill NA values with 0 for Income column of test data.\n",
    "test['Income'].fillna(0,inplace=True)"
   ]
  },
  {
   "cell_type": "code",
   "execution_count": 198,
   "metadata": {},
   "outputs": [],
   "source": [
    "##  fillna requires a value that already exists as a category for categorical columns so that's why adding Unkown level.\n",
    "X_train['Location.Code'] = X_train['Location.Code'].cat.add_categories('Unknown')\n",
    "\n",
    "## Fill NA values with Unknown for Location.Code column of train data.\n",
    "X_train['Location.Code'].fillna('Unknown',inplace=True)"
   ]
  },
  {
   "cell_type": "code",
   "execution_count": null,
   "metadata": {},
   "outputs": [],
   "source": [
    "##  fillna requires a value that already exists as a category for categorical columns so that's why adding Unkown level.\n",
    "X_test['Location.Code'] = X_test['Location.Code'].cat.add_categories('Unknown')\n",
    "\n",
    "## Fill NA values with Unknown for Location.Code column of validation data.\n",
    "X_test['Location.Code'].fillna('Unknown',inplace=True)"
   ]
  },
  {
   "cell_type": "code",
   "execution_count": 230,
   "metadata": {},
   "outputs": [],
   "source": [
    "##  fillna requires a value that already exists as a category for categorical columns so that's why adding Unkown level.\n",
    "test['Location.Code'] = test['Location.Code'].cat.add_categories('Unknown')\n",
    "\n",
    "## Fill NA values with Unknown for Location.Code column of test data.\n",
    "test['Location.Code'].fillna('Unknown',inplace=True)"
   ]
  },
  {
   "cell_type": "code",
   "execution_count": 200,
   "metadata": {},
   "outputs": [],
   "source": [
    "##  fillna requires a value that already exists as a category for categorical columns so that's why adding Unkown level.\n",
    "X_train['Marital.Status'] = X_train['Marital.Status'].cat.add_categories('Unknown')\n",
    "\n",
    "## Fill NA values with Unknown for Marital.Status column of train data.\n",
    "X_train['Marital.Status'].fillna('Unknown',inplace=True)"
   ]
  },
  {
   "cell_type": "code",
   "execution_count": 231,
   "metadata": {},
   "outputs": [],
   "source": [
    "##  fillna requires a value that already exists as a category for categorical columns so that's why adding Unkown level.\n",
    "X_test['Marital.Status'] = X_test['Marital.Status'].cat.add_categories('Unknown')\n",
    "\n",
    "## Fill NA values with Unknown for Marital.Status column of validation data.\n",
    "X_test['Marital.Status'].fillna('Unknown',inplace=True)"
   ]
  },
  {
   "cell_type": "code",
   "execution_count": 232,
   "metadata": {},
   "outputs": [],
   "source": [
    "##  fillna requires a value that already exists as a category for categorical columns so that's why adding Unkown level.\n",
    "test['Marital.Status'] = test['Marital.Status'].cat.add_categories('Unknown')\n",
    "\n",
    "## Fill NA values with Unknown for Marital.Status column of test data.\n",
    "test['Marital.Status'].fillna('Unknown',inplace=True)"
   ]
  },
  {
   "cell_type": "code",
   "execution_count": 202,
   "metadata": {},
   "outputs": [],
   "source": [
    "## Fill NA values with 0 for Monthly.Premium.Auto column of train data.\n",
    "X_train['Monthly.Premium.Auto'].fillna(0,inplace=True)"
   ]
  },
  {
   "cell_type": "code",
   "execution_count": 233,
   "metadata": {},
   "outputs": [],
   "source": [
    "## Fill NA values with 0 for Monthly.Premium.Auto column of train data.\n",
    "X_test['Monthly.Premium.Auto'].fillna(0,inplace=True)"
   ]
  },
  {
   "cell_type": "code",
   "execution_count": 234,
   "metadata": {},
   "outputs": [],
   "source": [
    "## Fill NA values with 0 for Monthly.Premium.Auto column of test data.\n",
    "test['Monthly.Premium.Auto'].fillna(0,inplace=True)"
   ]
  },
  {
   "cell_type": "code",
   "execution_count": 204,
   "metadata": {},
   "outputs": [],
   "source": [
    "## Fill NA values with 0 for Number.of.Open.Complaints column of train data.\n",
    "X_train['Number.of.Open.Complaints'].fillna(0,inplace=True)"
   ]
  },
  {
   "cell_type": "code",
   "execution_count": 236,
   "metadata": {},
   "outputs": [],
   "source": [
    "## Fill NA values with 0 for Number.of.Open.Complaints column of validation data.\n",
    "X_test['Number.of.Open.Complaints'].fillna(0,inplace=True)"
   ]
  },
  {
   "cell_type": "code",
   "execution_count": 237,
   "metadata": {},
   "outputs": [],
   "source": [
    "## Fill NA values with 0 for Number.of.Open.Complaints column of test data.\n",
    "test['Number.of.Open.Complaints'].fillna(0,inplace=True)"
   ]
  },
  {
   "cell_type": "code",
   "execution_count": 206,
   "metadata": {},
   "outputs": [],
   "source": [
    "## Fill NA values with 0 for Number.of.Policies column of train data.\n",
    "X_train['Number.of.Policies'].fillna(0,inplace=True)"
   ]
  },
  {
   "cell_type": "code",
   "execution_count": 238,
   "metadata": {},
   "outputs": [],
   "source": [
    "## Fill NA values with 0 for Number.of.Policies column of validation data.\n",
    "X_test['Number.of.Policies'].fillna(0,inplace=True)"
   ]
  },
  {
   "cell_type": "code",
   "execution_count": 239,
   "metadata": {},
   "outputs": [],
   "source": [
    "## Fill NA values with 0 for Number.of.Policies column of test data.\n",
    "test['Number.of.Policies'].fillna(0,inplace=True)"
   ]
  },
  {
   "cell_type": "code",
   "execution_count": 208,
   "metadata": {},
   "outputs": [],
   "source": [
    "##  fillna requires a value that already exists as a category for categorical columns so that's why adding Unkown level.\n",
    "X_train['Policy.Type'] = X_train['Policy.Type'].cat.add_categories('Unknown')\n",
    "\n",
    "## Fill NA values with Unknown for Policy.Type column of train data.\n",
    "X_train['Policy.Type'].fillna('Unknown',inplace=True)"
   ]
  },
  {
   "cell_type": "code",
   "execution_count": 240,
   "metadata": {},
   "outputs": [],
   "source": [
    "##  fillna requires a value that already exists as a category for categorical columns so that's why adding Unkown level.\n",
    "X_test['Policy.Type'] = X_test['Policy.Type'].cat.add_categories('Unknown')\n",
    "\n",
    "## Fill NA values with Unknown for Policy.Type column of validation data.\n",
    "X_test['Policy.Type'].fillna('Unknown',inplace=True)"
   ]
  },
  {
   "cell_type": "code",
   "execution_count": 241,
   "metadata": {},
   "outputs": [],
   "source": [
    "##  fillna requires a value that already exists as a category for categorical columns so that's why adding Unkown level.\n",
    "test['Policy.Type'] = test['Policy.Type'].cat.add_categories('Unknown')\n",
    "\n",
    "## Fill NA values with Unknown for Policy.Type column of test data.\n",
    "test['Policy.Type'].fillna('Unknown',inplace=True)"
   ]
  },
  {
   "cell_type": "code",
   "execution_count": 210,
   "metadata": {},
   "outputs": [],
   "source": [
    "##  fillna requires a value that already exists as a category for categorical columns so that's why adding Unkown level.\n",
    "X_train['Policy'] = X_train['Policy'].cat.add_categories('Unknown')\n",
    "\n",
    "## Fill NA values with Unknown for Policy column of train data.\n",
    "X_train['Policy'].fillna('Unknown',inplace=True)"
   ]
  },
  {
   "cell_type": "code",
   "execution_count": 243,
   "metadata": {},
   "outputs": [],
   "source": [
    "##  fillna requires a value that already exists as a category for categorical columns so that's why adding Unkown level.\n",
    "X_test['Policy'] = X_test['Policy'].cat.add_categories('Unknown')\n",
    "\n",
    "## Fill NA values with Unknown for Policy column of validation data.\n",
    "X_test['Policy'].fillna('Unknown',inplace=True)"
   ]
  },
  {
   "cell_type": "code",
   "execution_count": 242,
   "metadata": {},
   "outputs": [],
   "source": [
    "##  fillna requires a value that already exists as a category for categorical columns so that's why adding Unkown level.\n",
    "test['Policy'] = test['Policy'].cat.add_categories('Unknown')\n",
    "\n",
    "## Fill NA values with Unknown for Policy column of test data.\n",
    "test['Policy'].fillna('Unknown',inplace=True)"
   ]
  },
  {
   "cell_type": "code",
   "execution_count": 212,
   "metadata": {},
   "outputs": [],
   "source": [
    "##  fillna requires a value that already exists as a category for categorical columns so that's why adding Unkown level.\n",
    "X_train['Renew.Offer.Type'] = X_train['Renew.Offer.Type'].cat.add_categories('Unknown')\n",
    "\n",
    "## Fill NA values with Unknown for Renew.Offer.Type column of train data.\n",
    "X_train['Renew.Offer.Type'].fillna('Unknown',inplace=True)"
   ]
  },
  {
   "cell_type": "code",
   "execution_count": 244,
   "metadata": {},
   "outputs": [],
   "source": [
    "##  fillna requires a value that already exists as a category for categorical columns so that's why adding Unkown level.\n",
    "X_test['Renew.Offer.Type'] = X_test['Renew.Offer.Type'].cat.add_categories('Unknown')\n",
    "\n",
    "## Fill NA values with Unknown for Renew.Offer.Type column of validation data.\n",
    "X_test['Renew.Offer.Type'].fillna('Unknown',inplace=True)"
   ]
  },
  {
   "cell_type": "code",
   "execution_count": 245,
   "metadata": {},
   "outputs": [],
   "source": [
    "##  fillna requires a value that already exists as a category for categorical columns so that's why adding Unkown level.\n",
    "test['Renew.Offer.Type'] = test['Renew.Offer.Type'].cat.add_categories('Unknown')\n",
    "\n",
    "## Fill NA values with Unknown for Renew.Offer.Type column of test data.\n",
    "test['Renew.Offer.Type'].fillna('Unknown',inplace=True)"
   ]
  },
  {
   "cell_type": "code",
   "execution_count": 214,
   "metadata": {},
   "outputs": [],
   "source": [
    "##  fillna requires a value that already exists as a category for categorical columns so that's why adding Unkown level.\n",
    "X_train['Sales.Channel'] = X_train['Sales.Channel'].cat.add_categories('Unknown')\n",
    "\n",
    "## Fill NA values with Unknown for Sales.Channel column of train data.\n",
    "X_train['Sales.Channel'].fillna('Unknown',inplace=True)"
   ]
  },
  {
   "cell_type": "code",
   "execution_count": 246,
   "metadata": {},
   "outputs": [],
   "source": [
    "##  fillna requires a value that already exists as a category for categorical columns so that's why adding Unkown level.\n",
    "X_test['Sales.Channel'] = X_test['Sales.Channel'].cat.add_categories('Unknown')\n",
    "\n",
    "## Fill NA values with Unknown for Sales.Channel column of validation data.\n",
    "X_test['Sales.Channel'].fillna('Unknown',inplace=True)"
   ]
  },
  {
   "cell_type": "code",
   "execution_count": 247,
   "metadata": {},
   "outputs": [],
   "source": [
    "##  fillna requires a value that already exists as a category for categorical columns so that's why adding Unkown level.\n",
    "test['Sales.Channel'] = test['Sales.Channel'].cat.add_categories('Unknown')\n",
    "\n",
    "## Fill NA values with Unknown for Sales.Channel column of test data.\n",
    "test['Sales.Channel'].fillna('Unknown',inplace=True)"
   ]
  },
  {
   "cell_type": "code",
   "execution_count": 216,
   "metadata": {},
   "outputs": [],
   "source": [
    "##  fillna requires a value that already exists as a category for categorical columns so that's why adding Unkown level.\n",
    "X_train['Vehicle.Class'] = X_train['Vehicle.Class'].cat.add_categories('Unknown')\n",
    "\n",
    "## Fill NA values with Unknown for Vehicle.Class column of train data.\n",
    "X_train['Vehicle.Class'].fillna('Unknown',inplace=True)"
   ]
  },
  {
   "cell_type": "code",
   "execution_count": 248,
   "metadata": {},
   "outputs": [],
   "source": [
    "##  fillna requires a value that already exists as a category for categorical columns so that's why adding Unkown level.\n",
    "X_test['Vehicle.Class'] = X_test['Vehicle.Class'].cat.add_categories('Unknown')\n",
    "\n",
    "## Fill NA values with Unknown for Vehicle.Class column of validation data.\n",
    "X_test['Vehicle.Class'].fillna('Unknown',inplace=True)"
   ]
  },
  {
   "cell_type": "code",
   "execution_count": 249,
   "metadata": {},
   "outputs": [],
   "source": [
    "##  fillna requires a value that already exists as a category for categorical columns so that's why adding Unkown level.\n",
    "test['Vehicle.Class'] = test['Vehicle.Class'].cat.add_categories('Unknown')\n",
    "\n",
    "## Fill NA values with Unknown for Vehicle.Class column of test data.\n",
    "test['Vehicle.Class'].fillna('Unknown',inplace=True)"
   ]
  },
  {
   "cell_type": "code",
   "execution_count": 250,
   "metadata": {},
   "outputs": [
    {
     "data": {
      "text/plain": [
       "Coverage                         0\n",
       "Education                        0\n",
       "EmploymentStatus                 0\n",
       "Gender                           0\n",
       "Income                           0\n",
       "Location.Code                    0\n",
       "Marital.Status                   0\n",
       "Monthly.Premium.Auto             0\n",
       "Months.Since.Last.Claim          0\n",
       "Months.Since.Policy.Inception    0\n",
       "Number.of.Open.Complaints        0\n",
       "Number.of.Policies               0\n",
       "Policy.Type                      0\n",
       "Policy                           0\n",
       "Renew.Offer.Type                 0\n",
       "Sales.Channel                    0\n",
       "Total.Claim.Amount               0\n",
       "Vehicle.Class                    0\n",
       "Vehicle.Size                     0\n",
       "dtype: int64"
      ]
     },
     "execution_count": 250,
     "metadata": {},
     "output_type": "execute_result"
    }
   ],
   "source": [
    "## Check NA values for train data after imputing.\n",
    "X_train.isna().sum()"
   ]
  },
  {
   "cell_type": "code",
   "execution_count": 251,
   "metadata": {},
   "outputs": [
    {
     "data": {
      "text/plain": [
       "Coverage                         0\n",
       "Education                        0\n",
       "EmploymentStatus                 0\n",
       "Gender                           0\n",
       "Income                           0\n",
       "Location.Code                    0\n",
       "Marital.Status                   0\n",
       "Monthly.Premium.Auto             0\n",
       "Months.Since.Last.Claim          0\n",
       "Months.Since.Policy.Inception    0\n",
       "Number.of.Open.Complaints        0\n",
       "Number.of.Policies               0\n",
       "Policy.Type                      0\n",
       "Policy                           0\n",
       "Renew.Offer.Type                 0\n",
       "Sales.Channel                    0\n",
       "Total.Claim.Amount               0\n",
       "Vehicle.Class                    0\n",
       "Vehicle.Size                     0\n",
       "dtype: int64"
      ]
     },
     "execution_count": 251,
     "metadata": {},
     "output_type": "execute_result"
    }
   ],
   "source": [
    "## Check NA values for validation data after imputing.\n",
    "X_test.isna().sum()"
   ]
  },
  {
   "cell_type": "code",
   "execution_count": 252,
   "metadata": {},
   "outputs": [
    {
     "data": {
      "text/plain": [
       "Coverage                         0\n",
       "Education                        0\n",
       "EmploymentStatus                 0\n",
       "Gender                           0\n",
       "Income                           0\n",
       "Location.Code                    0\n",
       "Marital.Status                   0\n",
       "Monthly.Premium.Auto             0\n",
       "Months.Since.Last.Claim          0\n",
       "Months.Since.Policy.Inception    0\n",
       "Number.of.Open.Complaints        0\n",
       "Number.of.Policies               0\n",
       "Policy.Type                      0\n",
       "Policy                           0\n",
       "Renew.Offer.Type                 0\n",
       "Sales.Channel                    0\n",
       "Total.Claim.Amount               0\n",
       "Vehicle.Class                    0\n",
       "Vehicle.Size                     0\n",
       "dtype: int64"
      ]
     },
     "execution_count": 252,
     "metadata": {},
     "output_type": "execute_result"
    }
   ],
   "source": [
    "## Check NA values for test data after imputing.\n",
    "test.isna().sum()"
   ]
  },
  {
   "cell_type": "code",
   "execution_count": 253,
   "metadata": {},
   "outputs": [],
   "source": [
    "#################################################### Label Encoding ###########################################################"
   ]
  },
  {
   "cell_type": "code",
   "execution_count": 256,
   "metadata": {},
   "outputs": [],
   "source": [
    "le_coverage = LabelEncoder()\n",
    "le_eduction = LabelEncoder()\n",
    "le_employementStatus = LabelEncoder()\n",
    "le_gender = LabelEncoder()\n",
    "le_location_code = LabelEncoder()\n",
    "le_marital_status = LabelEncoder()\n",
    "le_policy_type = LabelEncoder()\n",
    "le_policy = LabelEncoder()\n",
    "le_renew_offer_type = LabelEncoder()\n",
    "le_sales_channel = LabelEncoder()\n",
    "le_vehicle_class = LabelEncoder()\n",
    "le_vehicle_size = LabelEncoder()"
   ]
  },
  {
   "cell_type": "code",
   "execution_count": 257,
   "metadata": {},
   "outputs": [],
   "source": [
    "## Do label encoding on train data.\n",
    "X_train['Coverage'] = le_coverage.fit_transform(X_train['Coverage'])\n",
    "X_train['Education'] = le_eduction.fit_transform(X_train['Education'])\n",
    "X_train['EmploymentStatus'] = le_employementStatus.fit_transform(X_train['EmploymentStatus'])\n",
    "X_train['Gender'] = le_gender.fit_transform(X_train['Gender'])\n",
    "X_train['Location.Code'] = le_location_code.fit_transform(X_train['Location.Code'])\n",
    "X_train['Marital.Status'] = le_marital_status.fit_transform(X_train['Marital.Status'])\n",
    "X_train['Policy.Type'] = le_policy_type.fit_transform(X_train['Policy.Type'])\n",
    "X_train['Policy'] = le_policy.fit_transform(X_train['Policy'])\n",
    "X_train['Renew.Offer.Type'] = le_renew_offer_type.fit_transform(X_train['Renew.Offer.Type'])\n",
    "X_train['Sales.Channel'] = le_sales_channel.fit_transform(X_train['Sales.Channel'])\n",
    "X_train['Vehicle.Class'] = le_vehicle_class.fit_transform(X_train['Vehicle.Class'])\n",
    "X_train['Vehicle.Size'] = le_vehicle_size.fit_transform(X_train['Vehicle.Size'])"
   ]
  },
  {
   "cell_type": "code",
   "execution_count": 258,
   "metadata": {},
   "outputs": [],
   "source": [
    "## Do label encoding on validation data.\n",
    "X_test['Coverage'] = le_coverage.transform(X_test['Coverage'])\n",
    "X_test['Education'] = le_eduction.transform(X_test['Education'])\n",
    "X_test['EmploymentStatus'] = le_employementStatus.transform(X_test['EmploymentStatus'])\n",
    "X_test['Gender'] = le_gender.transform(X_test['Gender'])\n",
    "X_test['Location.Code'] = le_location_code.transform(X_test['Location.Code'])\n",
    "X_test['Marital.Status'] = le_marital_status.transform(X_test['Marital.Status'])\n",
    "X_test['Policy.Type'] = le_policy_type.transform(X_test['Policy.Type'])\n",
    "X_test['Policy'] = le_policy.transform(X_test['Policy'])\n",
    "X_test['Renew.Offer.Type'] = le_renew_offer_type.transform(X_test['Renew.Offer.Type'])\n",
    "X_test['Sales.Channel'] = le_sales_channel.transform(X_test['Sales.Channel'])\n",
    "X_test['Vehicle.Class'] = le_vehicle_class.transform(X_test['Vehicle.Class'])\n",
    "X_test['Vehicle.Size'] = le_vehicle_size.transform(X_test['Vehicle.Size'])"
   ]
  },
  {
   "cell_type": "code",
   "execution_count": 259,
   "metadata": {},
   "outputs": [],
   "source": [
    "## Do label encoding on test data.\n",
    "test['Coverage'] = le_coverage.transform(test['Coverage'])\n",
    "test['Education'] = le_eduction.transform(test['Education'])\n",
    "test['EmploymentStatus'] = le_employementStatus.transform(test['EmploymentStatus'])\n",
    "test['Gender'] = le_gender.transform(test['Gender'])\n",
    "test['Location.Code'] = le_location_code.transform(test['Location.Code'])\n",
    "test['Marital.Status'] = le_marital_status.transform(test['Marital.Status'])\n",
    "test['Policy.Type'] = le_policy_type.transform(test['Policy.Type'])\n",
    "test['Policy'] = le_policy.transform(test['Policy'])\n",
    "test['Renew.Offer.Type'] = le_renew_offer_type.transform(test['Renew.Offer.Type'])\n",
    "test['Sales.Channel'] = le_sales_channel.transform(test['Sales.Channel'])\n",
    "test['Vehicle.Class'] = le_vehicle_class.transform(test['Vehicle.Class'])\n",
    "test['Vehicle.Size'] = le_vehicle_size.transform(test['Vehicle.Size'])"
   ]
  },
  {
   "cell_type": "code",
   "execution_count": 260,
   "metadata": {},
   "outputs": [
    {
     "data": {
      "text/html": [
       "<div>\n",
       "<style scoped>\n",
       "    .dataframe tbody tr th:only-of-type {\n",
       "        vertical-align: middle;\n",
       "    }\n",
       "\n",
       "    .dataframe tbody tr th {\n",
       "        vertical-align: top;\n",
       "    }\n",
       "\n",
       "    .dataframe thead th {\n",
       "        text-align: right;\n",
       "    }\n",
       "</style>\n",
       "<table border=\"1\" class=\"dataframe\">\n",
       "  <thead>\n",
       "    <tr style=\"text-align: right;\">\n",
       "      <th></th>\n",
       "      <th>Coverage</th>\n",
       "      <th>Education</th>\n",
       "      <th>EmploymentStatus</th>\n",
       "      <th>Gender</th>\n",
       "      <th>Income</th>\n",
       "      <th>Location.Code</th>\n",
       "      <th>Marital.Status</th>\n",
       "      <th>Monthly.Premium.Auto</th>\n",
       "      <th>Months.Since.Last.Claim</th>\n",
       "      <th>Months.Since.Policy.Inception</th>\n",
       "      <th>Number.of.Open.Complaints</th>\n",
       "      <th>Number.of.Policies</th>\n",
       "      <th>Policy.Type</th>\n",
       "      <th>Policy</th>\n",
       "      <th>Renew.Offer.Type</th>\n",
       "      <th>Sales.Channel</th>\n",
       "      <th>Total.Claim.Amount</th>\n",
       "      <th>Vehicle.Class</th>\n",
       "      <th>Vehicle.Size</th>\n",
       "    </tr>\n",
       "    <tr>\n",
       "      <th>CustomerID</th>\n",
       "      <th></th>\n",
       "      <th></th>\n",
       "      <th></th>\n",
       "      <th></th>\n",
       "      <th></th>\n",
       "      <th></th>\n",
       "      <th></th>\n",
       "      <th></th>\n",
       "      <th></th>\n",
       "      <th></th>\n",
       "      <th></th>\n",
       "      <th></th>\n",
       "      <th></th>\n",
       "      <th></th>\n",
       "      <th></th>\n",
       "      <th></th>\n",
       "      <th></th>\n",
       "      <th></th>\n",
       "      <th></th>\n",
       "    </tr>\n",
       "  </thead>\n",
       "  <tbody>\n",
       "    <tr>\n",
       "      <th>9502</th>\n",
       "      <td>0</td>\n",
       "      <td>2</td>\n",
       "      <td>1</td>\n",
       "      <td>1</td>\n",
       "      <td>34614.0</td>\n",
       "      <td>1</td>\n",
       "      <td>1</td>\n",
       "      <td>0.0</td>\n",
       "      <td>12</td>\n",
       "      <td>97</td>\n",
       "      <td>0.0</td>\n",
       "      <td>2.0</td>\n",
       "      <td>3</td>\n",
       "      <td>3</td>\n",
       "      <td>2</td>\n",
       "      <td>1</td>\n",
       "      <td>413.25233</td>\n",
       "      <td>0</td>\n",
       "      <td>1</td>\n",
       "    </tr>\n",
       "  </tbody>\n",
       "</table>\n",
       "</div>"
      ],
      "text/plain": [
       "            Coverage  Education  EmploymentStatus  Gender   Income  \\\n",
       "CustomerID                                                           \n",
       "9502               0          2                 1       1  34614.0   \n",
       "\n",
       "            Location.Code  Marital.Status  Monthly.Premium.Auto  \\\n",
       "CustomerID                                                        \n",
       "9502                    1               1                   0.0   \n",
       "\n",
       "            Months.Since.Last.Claim  Months.Since.Policy.Inception  \\\n",
       "CustomerID                                                           \n",
       "9502                             12                             97   \n",
       "\n",
       "            Number.of.Open.Complaints  Number.of.Policies  Policy.Type  \\\n",
       "CustomerID                                                               \n",
       "9502                              0.0                 2.0            3   \n",
       "\n",
       "            Policy  Renew.Offer.Type  Sales.Channel  Total.Claim.Amount  \\\n",
       "CustomerID                                                                \n",
       "9502             3                 2              1           413.25233   \n",
       "\n",
       "            Vehicle.Class  Vehicle.Size  \n",
       "CustomerID                               \n",
       "9502                    0             1  "
      ]
     },
     "execution_count": 260,
     "metadata": {},
     "output_type": "execute_result"
    }
   ],
   "source": [
    "## Check train data after doing label encoding.\n",
    "X_train.head(1)"
   ]
  },
  {
   "cell_type": "code",
   "execution_count": 261,
   "metadata": {},
   "outputs": [
    {
     "data": {
      "text/html": [
       "<div>\n",
       "<style scoped>\n",
       "    .dataframe tbody tr th:only-of-type {\n",
       "        vertical-align: middle;\n",
       "    }\n",
       "\n",
       "    .dataframe tbody tr th {\n",
       "        vertical-align: top;\n",
       "    }\n",
       "\n",
       "    .dataframe thead th {\n",
       "        text-align: right;\n",
       "    }\n",
       "</style>\n",
       "<table border=\"1\" class=\"dataframe\">\n",
       "  <thead>\n",
       "    <tr style=\"text-align: right;\">\n",
       "      <th></th>\n",
       "      <th>Coverage</th>\n",
       "      <th>Education</th>\n",
       "      <th>EmploymentStatus</th>\n",
       "      <th>Gender</th>\n",
       "      <th>Income</th>\n",
       "      <th>Location.Code</th>\n",
       "      <th>Marital.Status</th>\n",
       "      <th>Monthly.Premium.Auto</th>\n",
       "      <th>Months.Since.Last.Claim</th>\n",
       "      <th>Months.Since.Policy.Inception</th>\n",
       "      <th>Number.of.Open.Complaints</th>\n",
       "      <th>Number.of.Policies</th>\n",
       "      <th>Policy.Type</th>\n",
       "      <th>Policy</th>\n",
       "      <th>Renew.Offer.Type</th>\n",
       "      <th>Sales.Channel</th>\n",
       "      <th>Total.Claim.Amount</th>\n",
       "      <th>Vehicle.Class</th>\n",
       "      <th>Vehicle.Size</th>\n",
       "    </tr>\n",
       "    <tr>\n",
       "      <th>CustomerID</th>\n",
       "      <th></th>\n",
       "      <th></th>\n",
       "      <th></th>\n",
       "      <th></th>\n",
       "      <th></th>\n",
       "      <th></th>\n",
       "      <th></th>\n",
       "      <th></th>\n",
       "      <th></th>\n",
       "      <th></th>\n",
       "      <th></th>\n",
       "      <th></th>\n",
       "      <th></th>\n",
       "      <th></th>\n",
       "      <th></th>\n",
       "      <th></th>\n",
       "      <th></th>\n",
       "      <th></th>\n",
       "      <th></th>\n",
       "    </tr>\n",
       "  </thead>\n",
       "  <tbody>\n",
       "    <tr>\n",
       "      <th>4141</th>\n",
       "      <td>0</td>\n",
       "      <td>4</td>\n",
       "      <td>0</td>\n",
       "      <td>1</td>\n",
       "      <td>22239.0</td>\n",
       "      <td>1</td>\n",
       "      <td>1</td>\n",
       "      <td>62.0</td>\n",
       "      <td>34</td>\n",
       "      <td>85</td>\n",
       "      <td>0.0</td>\n",
       "      <td>1.0</td>\n",
       "      <td>1</td>\n",
       "      <td>5</td>\n",
       "      <td>1</td>\n",
       "      <td>1</td>\n",
       "      <td>297.6</td>\n",
       "      <td>0</td>\n",
       "      <td>2</td>\n",
       "    </tr>\n",
       "  </tbody>\n",
       "</table>\n",
       "</div>"
      ],
      "text/plain": [
       "            Coverage  Education  EmploymentStatus  Gender   Income  \\\n",
       "CustomerID                                                           \n",
       "4141               0          4                 0       1  22239.0   \n",
       "\n",
       "            Location.Code  Marital.Status  Monthly.Premium.Auto  \\\n",
       "CustomerID                                                        \n",
       "4141                    1               1                  62.0   \n",
       "\n",
       "            Months.Since.Last.Claim  Months.Since.Policy.Inception  \\\n",
       "CustomerID                                                           \n",
       "4141                             34                             85   \n",
       "\n",
       "            Number.of.Open.Complaints  Number.of.Policies  Policy.Type  \\\n",
       "CustomerID                                                               \n",
       "4141                              0.0                 1.0            1   \n",
       "\n",
       "            Policy  Renew.Offer.Type  Sales.Channel  Total.Claim.Amount  \\\n",
       "CustomerID                                                                \n",
       "4141             5                 1              1               297.6   \n",
       "\n",
       "            Vehicle.Class  Vehicle.Size  \n",
       "CustomerID                               \n",
       "4141                    0             2  "
      ]
     },
     "execution_count": 261,
     "metadata": {},
     "output_type": "execute_result"
    }
   ],
   "source": [
    "## Check validation data after doing label encoding.\n",
    "X_test.head(1)"
   ]
  },
  {
   "cell_type": "code",
   "execution_count": 265,
   "metadata": {
    "scrolled": true
   },
   "outputs": [
    {
     "data": {
      "text/html": [
       "<div>\n",
       "<style scoped>\n",
       "    .dataframe tbody tr th:only-of-type {\n",
       "        vertical-align: middle;\n",
       "    }\n",
       "\n",
       "    .dataframe tbody tr th {\n",
       "        vertical-align: top;\n",
       "    }\n",
       "\n",
       "    .dataframe thead th {\n",
       "        text-align: right;\n",
       "    }\n",
       "</style>\n",
       "<table border=\"1\" class=\"dataframe\">\n",
       "  <thead>\n",
       "    <tr style=\"text-align: right;\">\n",
       "      <th></th>\n",
       "      <th>Coverage</th>\n",
       "      <th>Education</th>\n",
       "      <th>EmploymentStatus</th>\n",
       "      <th>Gender</th>\n",
       "      <th>Income</th>\n",
       "      <th>Location.Code</th>\n",
       "      <th>Marital.Status</th>\n",
       "      <th>Monthly.Premium.Auto</th>\n",
       "      <th>Months.Since.Last.Claim</th>\n",
       "      <th>Months.Since.Policy.Inception</th>\n",
       "      <th>Number.of.Open.Complaints</th>\n",
       "      <th>Number.of.Policies</th>\n",
       "      <th>Policy.Type</th>\n",
       "      <th>Policy</th>\n",
       "      <th>Renew.Offer.Type</th>\n",
       "      <th>Sales.Channel</th>\n",
       "      <th>Total.Claim.Amount</th>\n",
       "      <th>Vehicle.Class</th>\n",
       "      <th>Vehicle.Size</th>\n",
       "    </tr>\n",
       "    <tr>\n",
       "      <th>CustomerID</th>\n",
       "      <th></th>\n",
       "      <th></th>\n",
       "      <th></th>\n",
       "      <th></th>\n",
       "      <th></th>\n",
       "      <th></th>\n",
       "      <th></th>\n",
       "      <th></th>\n",
       "      <th></th>\n",
       "      <th></th>\n",
       "      <th></th>\n",
       "      <th></th>\n",
       "      <th></th>\n",
       "      <th></th>\n",
       "      <th></th>\n",
       "      <th></th>\n",
       "      <th></th>\n",
       "      <th></th>\n",
       "      <th></th>\n",
       "    </tr>\n",
       "  </thead>\n",
       "  <tbody>\n",
       "    <tr>\n",
       "      <th>17</th>\n",
       "      <td>0</td>\n",
       "      <td>0</td>\n",
       "      <td>1</td>\n",
       "      <td>1</td>\n",
       "      <td>43836.0</td>\n",
       "      <td>0</td>\n",
       "      <td>2</td>\n",
       "      <td>73.0</td>\n",
       "      <td>12</td>\n",
       "      <td>44</td>\n",
       "      <td>0</td>\n",
       "      <td>1</td>\n",
       "      <td>1</td>\n",
       "      <td>3</td>\n",
       "      <td>0</td>\n",
       "      <td>0</td>\n",
       "      <td>138.130879</td>\n",
       "      <td>0</td>\n",
       "      <td>1</td>\n",
       "    </tr>\n",
       "  </tbody>\n",
       "</table>\n",
       "</div>"
      ],
      "text/plain": [
       "            Coverage  Education  EmploymentStatus  Gender   Income  \\\n",
       "CustomerID                                                           \n",
       "17                 0          0                 1       1  43836.0   \n",
       "\n",
       "            Location.Code  Marital.Status  Monthly.Premium.Auto  \\\n",
       "CustomerID                                                        \n",
       "17                      0               2                  73.0   \n",
       "\n",
       "            Months.Since.Last.Claim  Months.Since.Policy.Inception  \\\n",
       "CustomerID                                                           \n",
       "17                               12                             44   \n",
       "\n",
       "            Number.of.Open.Complaints  Number.of.Policies  Policy.Type  \\\n",
       "CustomerID                                                               \n",
       "17                                  0                   1            1   \n",
       "\n",
       "            Policy  Renew.Offer.Type  Sales.Channel  Total.Claim.Amount  \\\n",
       "CustomerID                                                                \n",
       "17               3                 0              0          138.130879   \n",
       "\n",
       "            Vehicle.Class  Vehicle.Size  \n",
       "CustomerID                               \n",
       "17                      0             1  "
      ]
     },
     "execution_count": 265,
     "metadata": {},
     "output_type": "execute_result"
    }
   ],
   "source": [
    "## Check test data after doing label encoding.\n",
    "test.head(1)"
   ]
  },
  {
   "cell_type": "code",
   "execution_count": 267,
   "metadata": {},
   "outputs": [
    {
     "data": {
      "text/html": [
       "<div>\n",
       "<style scoped>\n",
       "    .dataframe tbody tr th:only-of-type {\n",
       "        vertical-align: middle;\n",
       "    }\n",
       "\n",
       "    .dataframe tbody tr th {\n",
       "        vertical-align: top;\n",
       "    }\n",
       "\n",
       "    .dataframe thead th {\n",
       "        text-align: right;\n",
       "    }\n",
       "</style>\n",
       "<table border=\"1\" class=\"dataframe\">\n",
       "  <thead>\n",
       "    <tr style=\"text-align: right;\">\n",
       "      <th></th>\n",
       "      <th>Income</th>\n",
       "      <th>Monthly.Premium.Auto</th>\n",
       "      <th>Months.Since.Last.Claim</th>\n",
       "      <th>Months.Since.Policy.Inception</th>\n",
       "      <th>Number.of.Open.Complaints</th>\n",
       "      <th>Number.of.Policies</th>\n",
       "      <th>Total.Claim.Amount</th>\n",
       "    </tr>\n",
       "  </thead>\n",
       "  <tbody>\n",
       "    <tr>\n",
       "      <th>Income</th>\n",
       "      <td>1.000000</td>\n",
       "      <td>-0.016566</td>\n",
       "      <td>-0.026203</td>\n",
       "      <td>0.006779</td>\n",
       "      <td>-0.000328</td>\n",
       "      <td>-0.001959</td>\n",
       "      <td>-0.344830</td>\n",
       "    </tr>\n",
       "    <tr>\n",
       "      <th>Monthly.Premium.Auto</th>\n",
       "      <td>-0.016566</td>\n",
       "      <td>1.000000</td>\n",
       "      <td>-0.008001</td>\n",
       "      <td>0.016686</td>\n",
       "      <td>0.001556</td>\n",
       "      <td>-0.020970</td>\n",
       "      <td>0.490546</td>\n",
       "    </tr>\n",
       "    <tr>\n",
       "      <th>Months.Since.Last.Claim</th>\n",
       "      <td>-0.026203</td>\n",
       "      <td>-0.008001</td>\n",
       "      <td>1.000000</td>\n",
       "      <td>-0.043324</td>\n",
       "      <td>0.009599</td>\n",
       "      <td>0.010029</td>\n",
       "      <td>0.003929</td>\n",
       "    </tr>\n",
       "    <tr>\n",
       "      <th>Months.Since.Policy.Inception</th>\n",
       "      <td>0.006779</td>\n",
       "      <td>0.016686</td>\n",
       "      <td>-0.043324</td>\n",
       "      <td>1.000000</td>\n",
       "      <td>-0.027242</td>\n",
       "      <td>0.002154</td>\n",
       "      <td>0.009129</td>\n",
       "    </tr>\n",
       "    <tr>\n",
       "      <th>Number.of.Open.Complaints</th>\n",
       "      <td>-0.000328</td>\n",
       "      <td>0.001556</td>\n",
       "      <td>0.009599</td>\n",
       "      <td>-0.027242</td>\n",
       "      <td>1.000000</td>\n",
       "      <td>0.009524</td>\n",
       "      <td>-0.019939</td>\n",
       "    </tr>\n",
       "    <tr>\n",
       "      <th>Number.of.Policies</th>\n",
       "      <td>-0.001959</td>\n",
       "      <td>-0.020970</td>\n",
       "      <td>0.010029</td>\n",
       "      <td>0.002154</td>\n",
       "      <td>0.009524</td>\n",
       "      <td>1.000000</td>\n",
       "      <td>-0.020202</td>\n",
       "    </tr>\n",
       "    <tr>\n",
       "      <th>Total.Claim.Amount</th>\n",
       "      <td>-0.344830</td>\n",
       "      <td>0.490546</td>\n",
       "      <td>0.003929</td>\n",
       "      <td>0.009129</td>\n",
       "      <td>-0.019939</td>\n",
       "      <td>-0.020202</td>\n",
       "      <td>1.000000</td>\n",
       "    </tr>\n",
       "  </tbody>\n",
       "</table>\n",
       "</div>"
      ],
      "text/plain": [
       "                                 Income  Monthly.Premium.Auto  \\\n",
       "Income                         1.000000             -0.016566   \n",
       "Monthly.Premium.Auto          -0.016566              1.000000   \n",
       "Months.Since.Last.Claim       -0.026203             -0.008001   \n",
       "Months.Since.Policy.Inception  0.006779              0.016686   \n",
       "Number.of.Open.Complaints     -0.000328              0.001556   \n",
       "Number.of.Policies            -0.001959             -0.020970   \n",
       "Total.Claim.Amount            -0.344830              0.490546   \n",
       "\n",
       "                               Months.Since.Last.Claim  \\\n",
       "Income                                       -0.026203   \n",
       "Monthly.Premium.Auto                         -0.008001   \n",
       "Months.Since.Last.Claim                       1.000000   \n",
       "Months.Since.Policy.Inception                -0.043324   \n",
       "Number.of.Open.Complaints                     0.009599   \n",
       "Number.of.Policies                            0.010029   \n",
       "Total.Claim.Amount                            0.003929   \n",
       "\n",
       "                               Months.Since.Policy.Inception  \\\n",
       "Income                                              0.006779   \n",
       "Monthly.Premium.Auto                                0.016686   \n",
       "Months.Since.Last.Claim                            -0.043324   \n",
       "Months.Since.Policy.Inception                       1.000000   \n",
       "Number.of.Open.Complaints                          -0.027242   \n",
       "Number.of.Policies                                  0.002154   \n",
       "Total.Claim.Amount                                  0.009129   \n",
       "\n",
       "                               Number.of.Open.Complaints  Number.of.Policies  \\\n",
       "Income                                         -0.000328           -0.001959   \n",
       "Monthly.Premium.Auto                            0.001556           -0.020970   \n",
       "Months.Since.Last.Claim                         0.009599            0.010029   \n",
       "Months.Since.Policy.Inception                  -0.027242            0.002154   \n",
       "Number.of.Open.Complaints                       1.000000            0.009524   \n",
       "Number.of.Policies                              0.009524            1.000000   \n",
       "Total.Claim.Amount                             -0.019939           -0.020202   \n",
       "\n",
       "                               Total.Claim.Amount  \n",
       "Income                                  -0.344830  \n",
       "Monthly.Premium.Auto                     0.490546  \n",
       "Months.Since.Last.Claim                  0.003929  \n",
       "Months.Since.Policy.Inception            0.009129  \n",
       "Number.of.Open.Complaints               -0.019939  \n",
       "Number.of.Policies                      -0.020202  \n",
       "Total.Claim.Amount                       1.000000  "
      ]
     },
     "execution_count": 267,
     "metadata": {},
     "output_type": "execute_result"
    }
   ],
   "source": [
    "## Check corrlation between numeric columns of train data.\n",
    "X_train.select_dtypes(['int64','float64']).corr()"
   ]
  },
  {
   "cell_type": "code",
   "execution_count": 268,
   "metadata": {
    "scrolled": true
   },
   "outputs": [
    {
     "data": {
      "text/html": [
       "<div>\n",
       "<style scoped>\n",
       "    .dataframe tbody tr th:only-of-type {\n",
       "        vertical-align: middle;\n",
       "    }\n",
       "\n",
       "    .dataframe tbody tr th {\n",
       "        vertical-align: top;\n",
       "    }\n",
       "\n",
       "    .dataframe thead th {\n",
       "        text-align: right;\n",
       "    }\n",
       "</style>\n",
       "<table border=\"1\" class=\"dataframe\">\n",
       "  <thead>\n",
       "    <tr style=\"text-align: right;\">\n",
       "      <th></th>\n",
       "      <th>Income</th>\n",
       "      <th>Monthly.Premium.Auto</th>\n",
       "      <th>Months.Since.Last.Claim</th>\n",
       "      <th>Months.Since.Policy.Inception</th>\n",
       "      <th>Number.of.Open.Complaints</th>\n",
       "      <th>Number.of.Policies</th>\n",
       "      <th>Total.Claim.Amount</th>\n",
       "    </tr>\n",
       "  </thead>\n",
       "  <tbody>\n",
       "    <tr>\n",
       "      <th>Income</th>\n",
       "      <td>1.000000</td>\n",
       "      <td>-0.012955</td>\n",
       "      <td>-0.012346</td>\n",
       "      <td>0.018783</td>\n",
       "      <td>-0.014833</td>\n",
       "      <td>0.009596</td>\n",
       "      <td>-0.361669</td>\n",
       "    </tr>\n",
       "    <tr>\n",
       "      <th>Monthly.Premium.Auto</th>\n",
       "      <td>-0.012955</td>\n",
       "      <td>1.000000</td>\n",
       "      <td>0.034616</td>\n",
       "      <td>0.007882</td>\n",
       "      <td>-0.006084</td>\n",
       "      <td>0.035743</td>\n",
       "      <td>0.448634</td>\n",
       "    </tr>\n",
       "    <tr>\n",
       "      <th>Months.Since.Last.Claim</th>\n",
       "      <td>-0.012346</td>\n",
       "      <td>0.034616</td>\n",
       "      <td>1.000000</td>\n",
       "      <td>-0.005449</td>\n",
       "      <td>0.017473</td>\n",
       "      <td>-0.005598</td>\n",
       "      <td>0.021679</td>\n",
       "    </tr>\n",
       "    <tr>\n",
       "      <th>Months.Since.Policy.Inception</th>\n",
       "      <td>0.018783</td>\n",
       "      <td>0.007882</td>\n",
       "      <td>-0.005449</td>\n",
       "      <td>1.000000</td>\n",
       "      <td>0.010549</td>\n",
       "      <td>-0.002297</td>\n",
       "      <td>-0.006707</td>\n",
       "    </tr>\n",
       "    <tr>\n",
       "      <th>Number.of.Open.Complaints</th>\n",
       "      <td>-0.014833</td>\n",
       "      <td>-0.006084</td>\n",
       "      <td>0.017473</td>\n",
       "      <td>0.010549</td>\n",
       "      <td>1.000000</td>\n",
       "      <td>-0.040767</td>\n",
       "      <td>0.006852</td>\n",
       "    </tr>\n",
       "    <tr>\n",
       "      <th>Number.of.Policies</th>\n",
       "      <td>0.009596</td>\n",
       "      <td>0.035743</td>\n",
       "      <td>-0.005598</td>\n",
       "      <td>-0.002297</td>\n",
       "      <td>-0.040767</td>\n",
       "      <td>1.000000</td>\n",
       "      <td>0.017134</td>\n",
       "    </tr>\n",
       "    <tr>\n",
       "      <th>Total.Claim.Amount</th>\n",
       "      <td>-0.361669</td>\n",
       "      <td>0.448634</td>\n",
       "      <td>0.021679</td>\n",
       "      <td>-0.006707</td>\n",
       "      <td>0.006852</td>\n",
       "      <td>0.017134</td>\n",
       "      <td>1.000000</td>\n",
       "    </tr>\n",
       "  </tbody>\n",
       "</table>\n",
       "</div>"
      ],
      "text/plain": [
       "                                 Income  Monthly.Premium.Auto  \\\n",
       "Income                         1.000000             -0.012955   \n",
       "Monthly.Premium.Auto          -0.012955              1.000000   \n",
       "Months.Since.Last.Claim       -0.012346              0.034616   \n",
       "Months.Since.Policy.Inception  0.018783              0.007882   \n",
       "Number.of.Open.Complaints     -0.014833             -0.006084   \n",
       "Number.of.Policies             0.009596              0.035743   \n",
       "Total.Claim.Amount            -0.361669              0.448634   \n",
       "\n",
       "                               Months.Since.Last.Claim  \\\n",
       "Income                                       -0.012346   \n",
       "Monthly.Premium.Auto                          0.034616   \n",
       "Months.Since.Last.Claim                       1.000000   \n",
       "Months.Since.Policy.Inception                -0.005449   \n",
       "Number.of.Open.Complaints                     0.017473   \n",
       "Number.of.Policies                           -0.005598   \n",
       "Total.Claim.Amount                            0.021679   \n",
       "\n",
       "                               Months.Since.Policy.Inception  \\\n",
       "Income                                              0.018783   \n",
       "Monthly.Premium.Auto                                0.007882   \n",
       "Months.Since.Last.Claim                            -0.005449   \n",
       "Months.Since.Policy.Inception                       1.000000   \n",
       "Number.of.Open.Complaints                           0.010549   \n",
       "Number.of.Policies                                 -0.002297   \n",
       "Total.Claim.Amount                                 -0.006707   \n",
       "\n",
       "                               Number.of.Open.Complaints  Number.of.Policies  \\\n",
       "Income                                         -0.014833            0.009596   \n",
       "Monthly.Premium.Auto                           -0.006084            0.035743   \n",
       "Months.Since.Last.Claim                         0.017473           -0.005598   \n",
       "Months.Since.Policy.Inception                   0.010549           -0.002297   \n",
       "Number.of.Open.Complaints                       1.000000           -0.040767   \n",
       "Number.of.Policies                             -0.040767            1.000000   \n",
       "Total.Claim.Amount                              0.006852            0.017134   \n",
       "\n",
       "                               Total.Claim.Amount  \n",
       "Income                                  -0.361669  \n",
       "Monthly.Premium.Auto                     0.448634  \n",
       "Months.Since.Last.Claim                  0.021679  \n",
       "Months.Since.Policy.Inception           -0.006707  \n",
       "Number.of.Open.Complaints                0.006852  \n",
       "Number.of.Policies                       0.017134  \n",
       "Total.Claim.Amount                       1.000000  "
      ]
     },
     "execution_count": 268,
     "metadata": {},
     "output_type": "execute_result"
    }
   ],
   "source": [
    "## Check corrlation between numeric columns of validation data.\n",
    "X_test.select_dtypes(['int64','float64']).corr()"
   ]
  },
  {
   "cell_type": "code",
   "execution_count": 269,
   "metadata": {
    "scrolled": true
   },
   "outputs": [
    {
     "data": {
      "text/html": [
       "<div>\n",
       "<style scoped>\n",
       "    .dataframe tbody tr th:only-of-type {\n",
       "        vertical-align: middle;\n",
       "    }\n",
       "\n",
       "    .dataframe tbody tr th {\n",
       "        vertical-align: top;\n",
       "    }\n",
       "\n",
       "    .dataframe thead th {\n",
       "        text-align: right;\n",
       "    }\n",
       "</style>\n",
       "<table border=\"1\" class=\"dataframe\">\n",
       "  <thead>\n",
       "    <tr style=\"text-align: right;\">\n",
       "      <th></th>\n",
       "      <th>Income</th>\n",
       "      <th>Monthly.Premium.Auto</th>\n",
       "      <th>Months.Since.Last.Claim</th>\n",
       "      <th>Months.Since.Policy.Inception</th>\n",
       "      <th>Number.of.Open.Complaints</th>\n",
       "      <th>Number.of.Policies</th>\n",
       "      <th>Total.Claim.Amount</th>\n",
       "    </tr>\n",
       "  </thead>\n",
       "  <tbody>\n",
       "    <tr>\n",
       "      <th>Income</th>\n",
       "      <td>1.000000</td>\n",
       "      <td>0.032953</td>\n",
       "      <td>-0.031149</td>\n",
       "      <td>-0.000737</td>\n",
       "      <td>0.011579</td>\n",
       "      <td>-0.028624</td>\n",
       "      <td>-0.365328</td>\n",
       "    </tr>\n",
       "    <tr>\n",
       "      <th>Monthly.Premium.Auto</th>\n",
       "      <td>0.032953</td>\n",
       "      <td>1.000000</td>\n",
       "      <td>-0.007911</td>\n",
       "      <td>0.012925</td>\n",
       "      <td>0.031133</td>\n",
       "      <td>-0.005882</td>\n",
       "      <td>0.526968</td>\n",
       "    </tr>\n",
       "    <tr>\n",
       "      <th>Months.Since.Last.Claim</th>\n",
       "      <td>-0.031149</td>\n",
       "      <td>-0.007911</td>\n",
       "      <td>1.000000</td>\n",
       "      <td>-0.059982</td>\n",
       "      <td>-0.012031</td>\n",
       "      <td>-0.016154</td>\n",
       "      <td>-0.007014</td>\n",
       "    </tr>\n",
       "    <tr>\n",
       "      <th>Months.Since.Policy.Inception</th>\n",
       "      <td>-0.000737</td>\n",
       "      <td>0.012925</td>\n",
       "      <td>-0.059982</td>\n",
       "      <td>1.000000</td>\n",
       "      <td>0.008251</td>\n",
       "      <td>-0.028303</td>\n",
       "      <td>-0.015138</td>\n",
       "    </tr>\n",
       "    <tr>\n",
       "      <th>Number.of.Open.Complaints</th>\n",
       "      <td>0.011579</td>\n",
       "      <td>0.031133</td>\n",
       "      <td>-0.012031</td>\n",
       "      <td>0.008251</td>\n",
       "      <td>1.000000</td>\n",
       "      <td>0.020432</td>\n",
       "      <td>-0.006349</td>\n",
       "    </tr>\n",
       "    <tr>\n",
       "      <th>Number.of.Policies</th>\n",
       "      <td>-0.028624</td>\n",
       "      <td>-0.005882</td>\n",
       "      <td>-0.016154</td>\n",
       "      <td>-0.028303</td>\n",
       "      <td>0.020432</td>\n",
       "      <td>1.000000</td>\n",
       "      <td>0.017394</td>\n",
       "    </tr>\n",
       "    <tr>\n",
       "      <th>Total.Claim.Amount</th>\n",
       "      <td>-0.365328</td>\n",
       "      <td>0.526968</td>\n",
       "      <td>-0.007014</td>\n",
       "      <td>-0.015138</td>\n",
       "      <td>-0.006349</td>\n",
       "      <td>0.017394</td>\n",
       "      <td>1.000000</td>\n",
       "    </tr>\n",
       "  </tbody>\n",
       "</table>\n",
       "</div>"
      ],
      "text/plain": [
       "                                 Income  Monthly.Premium.Auto  \\\n",
       "Income                         1.000000              0.032953   \n",
       "Monthly.Premium.Auto           0.032953              1.000000   \n",
       "Months.Since.Last.Claim       -0.031149             -0.007911   \n",
       "Months.Since.Policy.Inception -0.000737              0.012925   \n",
       "Number.of.Open.Complaints      0.011579              0.031133   \n",
       "Number.of.Policies            -0.028624             -0.005882   \n",
       "Total.Claim.Amount            -0.365328              0.526968   \n",
       "\n",
       "                               Months.Since.Last.Claim  \\\n",
       "Income                                       -0.031149   \n",
       "Monthly.Premium.Auto                         -0.007911   \n",
       "Months.Since.Last.Claim                       1.000000   \n",
       "Months.Since.Policy.Inception                -0.059982   \n",
       "Number.of.Open.Complaints                    -0.012031   \n",
       "Number.of.Policies                           -0.016154   \n",
       "Total.Claim.Amount                           -0.007014   \n",
       "\n",
       "                               Months.Since.Policy.Inception  \\\n",
       "Income                                             -0.000737   \n",
       "Monthly.Premium.Auto                                0.012925   \n",
       "Months.Since.Last.Claim                            -0.059982   \n",
       "Months.Since.Policy.Inception                       1.000000   \n",
       "Number.of.Open.Complaints                           0.008251   \n",
       "Number.of.Policies                                 -0.028303   \n",
       "Total.Claim.Amount                                 -0.015138   \n",
       "\n",
       "                               Number.of.Open.Complaints  Number.of.Policies  \\\n",
       "Income                                          0.011579           -0.028624   \n",
       "Monthly.Premium.Auto                            0.031133           -0.005882   \n",
       "Months.Since.Last.Claim                        -0.012031           -0.016154   \n",
       "Months.Since.Policy.Inception                   0.008251           -0.028303   \n",
       "Number.of.Open.Complaints                       1.000000            0.020432   \n",
       "Number.of.Policies                              0.020432            1.000000   \n",
       "Total.Claim.Amount                             -0.006349            0.017394   \n",
       "\n",
       "                               Total.Claim.Amount  \n",
       "Income                                  -0.365328  \n",
       "Monthly.Premium.Auto                     0.526968  \n",
       "Months.Since.Last.Claim                 -0.007014  \n",
       "Months.Since.Policy.Inception           -0.015138  \n",
       "Number.of.Open.Complaints               -0.006349  \n",
       "Number.of.Policies                       0.017394  \n",
       "Total.Claim.Amount                       1.000000  "
      ]
     },
     "execution_count": 269,
     "metadata": {},
     "output_type": "execute_result"
    }
   ],
   "source": [
    "## Check corrlation between numeric columns of test data.\n",
    "test.select_dtypes(['int64','float64']).corr()"
   ]
  },
  {
   "cell_type": "code",
   "execution_count": 271,
   "metadata": {},
   "outputs": [
    {
     "data": {
      "text/html": [
       "<div>\n",
       "<style scoped>\n",
       "    .dataframe tbody tr th:only-of-type {\n",
       "        vertical-align: middle;\n",
       "    }\n",
       "\n",
       "    .dataframe tbody tr th {\n",
       "        vertical-align: top;\n",
       "    }\n",
       "\n",
       "    .dataframe thead th {\n",
       "        text-align: right;\n",
       "    }\n",
       "</style>\n",
       "<table border=\"1\" class=\"dataframe\">\n",
       "  <thead>\n",
       "    <tr style=\"text-align: right;\">\n",
       "      <th></th>\n",
       "      <th>Vif</th>\n",
       "      <th>Variables</th>\n",
       "    </tr>\n",
       "  </thead>\n",
       "  <tbody>\n",
       "    <tr>\n",
       "      <th>0</th>\n",
       "      <td>1.664872</td>\n",
       "      <td>Coverage</td>\n",
       "    </tr>\n",
       "    <tr>\n",
       "      <th>1</th>\n",
       "      <td>2.298623</td>\n",
       "      <td>Education</td>\n",
       "    </tr>\n",
       "    <tr>\n",
       "      <th>2</th>\n",
       "      <td>5.146637</td>\n",
       "      <td>EmploymentStatus</td>\n",
       "    </tr>\n",
       "    <tr>\n",
       "      <th>3</th>\n",
       "      <td>1.990233</td>\n",
       "      <td>Gender</td>\n",
       "    </tr>\n",
       "    <tr>\n",
       "      <th>4</th>\n",
       "      <td>4.270327</td>\n",
       "      <td>Income</td>\n",
       "    </tr>\n",
       "    <tr>\n",
       "      <th>5</th>\n",
       "      <td>2.619114</td>\n",
       "      <td>Location.Code</td>\n",
       "    </tr>\n",
       "    <tr>\n",
       "      <th>6</th>\n",
       "      <td>4.407563</td>\n",
       "      <td>Marital.Status</td>\n",
       "    </tr>\n",
       "    <tr>\n",
       "      <th>7</th>\n",
       "      <td>7.058076</td>\n",
       "      <td>Monthly.Premium.Auto</td>\n",
       "    </tr>\n",
       "    <tr>\n",
       "      <th>8</th>\n",
       "      <td>3.081701</td>\n",
       "      <td>Months.Since.Last.Claim</td>\n",
       "    </tr>\n",
       "    <tr>\n",
       "      <th>9</th>\n",
       "      <td>3.679393</td>\n",
       "      <td>Months.Since.Policy.Inception</td>\n",
       "    </tr>\n",
       "    <tr>\n",
       "      <th>10</th>\n",
       "      <td>1.165680</td>\n",
       "      <td>Number.of.Open.Complaints</td>\n",
       "    </tr>\n",
       "    <tr>\n",
       "      <th>11</th>\n",
       "      <td>2.394590</td>\n",
       "      <td>Number.of.Policies</td>\n",
       "    </tr>\n",
       "    <tr>\n",
       "      <th>12</th>\n",
       "      <td>4.043365</td>\n",
       "      <td>Policy.Type</td>\n",
       "    </tr>\n",
       "    <tr>\n",
       "      <th>13</th>\n",
       "      <td>8.450481</td>\n",
       "      <td>Policy</td>\n",
       "    </tr>\n",
       "    <tr>\n",
       "      <th>14</th>\n",
       "      <td>2.050925</td>\n",
       "      <td>Renew.Offer.Type</td>\n",
       "    </tr>\n",
       "    <tr>\n",
       "      <th>15</th>\n",
       "      <td>1.908541</td>\n",
       "      <td>Sales.Channel</td>\n",
       "    </tr>\n",
       "    <tr>\n",
       "      <th>16</th>\n",
       "      <td>5.369902</td>\n",
       "      <td>Total.Claim.Amount</td>\n",
       "    </tr>\n",
       "    <tr>\n",
       "      <th>17</th>\n",
       "      <td>1.903792</td>\n",
       "      <td>Vehicle.Class</td>\n",
       "    </tr>\n",
       "    <tr>\n",
       "      <th>18</th>\n",
       "      <td>4.580180</td>\n",
       "      <td>Vehicle.Size</td>\n",
       "    </tr>\n",
       "  </tbody>\n",
       "</table>\n",
       "</div>"
      ],
      "text/plain": [
       "         Vif                      Variables\n",
       "0   1.664872                       Coverage\n",
       "1   2.298623                      Education\n",
       "2   5.146637               EmploymentStatus\n",
       "3   1.990233                         Gender\n",
       "4   4.270327                         Income\n",
       "5   2.619114                  Location.Code\n",
       "6   4.407563                 Marital.Status\n",
       "7   7.058076           Monthly.Premium.Auto\n",
       "8   3.081701        Months.Since.Last.Claim\n",
       "9   3.679393  Months.Since.Policy.Inception\n",
       "10  1.165680      Number.of.Open.Complaints\n",
       "11  2.394590             Number.of.Policies\n",
       "12  4.043365                    Policy.Type\n",
       "13  8.450481                         Policy\n",
       "14  2.050925               Renew.Offer.Type\n",
       "15  1.908541                  Sales.Channel\n",
       "16  5.369902             Total.Claim.Amount\n",
       "17  1.903792                  Vehicle.Class\n",
       "18  4.580180                   Vehicle.Size"
      ]
     },
     "execution_count": 271,
     "metadata": {},
     "output_type": "execute_result"
    }
   ],
   "source": [
    "## Create a empty dataframe and calculate VIF for train data.\n",
    "vif=pd.DataFrame()\n",
    "vif['Vif']=[variance_inflation_factor(X_train.values,i) for i in range(X_train.shape[1])]\n",
    "vif['Variables']=X_train.columns.values\n",
    "vif"
   ]
  },
  {
   "cell_type": "code",
   "execution_count": 272,
   "metadata": {},
   "outputs": [
    {
     "data": {
      "text/html": [
       "<div>\n",
       "<style scoped>\n",
       "    .dataframe tbody tr th:only-of-type {\n",
       "        vertical-align: middle;\n",
       "    }\n",
       "\n",
       "    .dataframe tbody tr th {\n",
       "        vertical-align: top;\n",
       "    }\n",
       "\n",
       "    .dataframe thead th {\n",
       "        text-align: right;\n",
       "    }\n",
       "</style>\n",
       "<table border=\"1\" class=\"dataframe\">\n",
       "  <thead>\n",
       "    <tr style=\"text-align: right;\">\n",
       "      <th></th>\n",
       "      <th>Vif</th>\n",
       "      <th>Variables</th>\n",
       "    </tr>\n",
       "  </thead>\n",
       "  <tbody>\n",
       "    <tr>\n",
       "      <th>0</th>\n",
       "      <td>1.645248</td>\n",
       "      <td>Coverage</td>\n",
       "    </tr>\n",
       "    <tr>\n",
       "      <th>1</th>\n",
       "      <td>2.264995</td>\n",
       "      <td>Education</td>\n",
       "    </tr>\n",
       "    <tr>\n",
       "      <th>2</th>\n",
       "      <td>4.798009</td>\n",
       "      <td>EmploymentStatus</td>\n",
       "    </tr>\n",
       "    <tr>\n",
       "      <th>3</th>\n",
       "      <td>2.013261</td>\n",
       "      <td>Gender</td>\n",
       "    </tr>\n",
       "    <tr>\n",
       "      <th>4</th>\n",
       "      <td>4.269196</td>\n",
       "      <td>Income</td>\n",
       "    </tr>\n",
       "    <tr>\n",
       "      <th>5</th>\n",
       "      <td>2.609732</td>\n",
       "      <td>Location.Code</td>\n",
       "    </tr>\n",
       "    <tr>\n",
       "      <th>6</th>\n",
       "      <td>4.380495</td>\n",
       "      <td>Marital.Status</td>\n",
       "    </tr>\n",
       "    <tr>\n",
       "      <th>7</th>\n",
       "      <td>6.641944</td>\n",
       "      <td>Monthly.Premium.Auto</td>\n",
       "    </tr>\n",
       "    <tr>\n",
       "      <th>8</th>\n",
       "      <td>3.046397</td>\n",
       "      <td>Months.Since.Last.Claim</td>\n",
       "    </tr>\n",
       "    <tr>\n",
       "      <th>9</th>\n",
       "      <td>3.728155</td>\n",
       "      <td>Months.Since.Policy.Inception</td>\n",
       "    </tr>\n",
       "    <tr>\n",
       "      <th>10</th>\n",
       "      <td>1.155804</td>\n",
       "      <td>Number.of.Open.Complaints</td>\n",
       "    </tr>\n",
       "    <tr>\n",
       "      <th>11</th>\n",
       "      <td>2.371238</td>\n",
       "      <td>Number.of.Policies</td>\n",
       "    </tr>\n",
       "    <tr>\n",
       "      <th>12</th>\n",
       "      <td>3.978946</td>\n",
       "      <td>Policy.Type</td>\n",
       "    </tr>\n",
       "    <tr>\n",
       "      <th>13</th>\n",
       "      <td>8.177281</td>\n",
       "      <td>Policy</td>\n",
       "    </tr>\n",
       "    <tr>\n",
       "      <th>14</th>\n",
       "      <td>2.077259</td>\n",
       "      <td>Renew.Offer.Type</td>\n",
       "    </tr>\n",
       "    <tr>\n",
       "      <th>15</th>\n",
       "      <td>1.931761</td>\n",
       "      <td>Sales.Channel</td>\n",
       "    </tr>\n",
       "    <tr>\n",
       "      <th>16</th>\n",
       "      <td>5.015086</td>\n",
       "      <td>Total.Claim.Amount</td>\n",
       "    </tr>\n",
       "    <tr>\n",
       "      <th>17</th>\n",
       "      <td>1.890494</td>\n",
       "      <td>Vehicle.Class</td>\n",
       "    </tr>\n",
       "    <tr>\n",
       "      <th>18</th>\n",
       "      <td>4.682645</td>\n",
       "      <td>Vehicle.Size</td>\n",
       "    </tr>\n",
       "  </tbody>\n",
       "</table>\n",
       "</div>"
      ],
      "text/plain": [
       "         Vif                      Variables\n",
       "0   1.645248                       Coverage\n",
       "1   2.264995                      Education\n",
       "2   4.798009               EmploymentStatus\n",
       "3   2.013261                         Gender\n",
       "4   4.269196                         Income\n",
       "5   2.609732                  Location.Code\n",
       "6   4.380495                 Marital.Status\n",
       "7   6.641944           Monthly.Premium.Auto\n",
       "8   3.046397        Months.Since.Last.Claim\n",
       "9   3.728155  Months.Since.Policy.Inception\n",
       "10  1.155804      Number.of.Open.Complaints\n",
       "11  2.371238             Number.of.Policies\n",
       "12  3.978946                    Policy.Type\n",
       "13  8.177281                         Policy\n",
       "14  2.077259               Renew.Offer.Type\n",
       "15  1.931761                  Sales.Channel\n",
       "16  5.015086             Total.Claim.Amount\n",
       "17  1.890494                  Vehicle.Class\n",
       "18  4.682645                   Vehicle.Size"
      ]
     },
     "execution_count": 272,
     "metadata": {},
     "output_type": "execute_result"
    }
   ],
   "source": [
    "## Create a empty dataframe and calculate VIF for validation data.\n",
    "vif=pd.DataFrame()\n",
    "vif['Vif']=[variance_inflation_factor(X_test.values,i) for i in range(X_test.shape[1])]\n",
    "vif['Variables']=X_test.columns.values\n",
    "vif"
   ]
  },
  {
   "cell_type": "code",
   "execution_count": 273,
   "metadata": {
    "scrolled": false
   },
   "outputs": [
    {
     "data": {
      "text/html": [
       "<div>\n",
       "<style scoped>\n",
       "    .dataframe tbody tr th:only-of-type {\n",
       "        vertical-align: middle;\n",
       "    }\n",
       "\n",
       "    .dataframe tbody tr th {\n",
       "        vertical-align: top;\n",
       "    }\n",
       "\n",
       "    .dataframe thead th {\n",
       "        text-align: right;\n",
       "    }\n",
       "</style>\n",
       "<table border=\"1\" class=\"dataframe\">\n",
       "  <thead>\n",
       "    <tr style=\"text-align: right;\">\n",
       "      <th></th>\n",
       "      <th>Vif</th>\n",
       "      <th>Variables</th>\n",
       "    </tr>\n",
       "  </thead>\n",
       "  <tbody>\n",
       "    <tr>\n",
       "      <th>0</th>\n",
       "      <td>1.859115</td>\n",
       "      <td>Coverage</td>\n",
       "    </tr>\n",
       "    <tr>\n",
       "      <th>1</th>\n",
       "      <td>2.277473</td>\n",
       "      <td>Education</td>\n",
       "    </tr>\n",
       "    <tr>\n",
       "      <th>2</th>\n",
       "      <td>5.353837</td>\n",
       "      <td>EmploymentStatus</td>\n",
       "    </tr>\n",
       "    <tr>\n",
       "      <th>3</th>\n",
       "      <td>2.026935</td>\n",
       "      <td>Gender</td>\n",
       "    </tr>\n",
       "    <tr>\n",
       "      <th>4</th>\n",
       "      <td>4.861503</td>\n",
       "      <td>Income</td>\n",
       "    </tr>\n",
       "    <tr>\n",
       "      <th>5</th>\n",
       "      <td>2.521012</td>\n",
       "      <td>Location.Code</td>\n",
       "    </tr>\n",
       "    <tr>\n",
       "      <th>6</th>\n",
       "      <td>4.655047</td>\n",
       "      <td>Marital.Status</td>\n",
       "    </tr>\n",
       "    <tr>\n",
       "      <th>7</th>\n",
       "      <td>10.072863</td>\n",
       "      <td>Monthly.Premium.Auto</td>\n",
       "    </tr>\n",
       "    <tr>\n",
       "      <th>8</th>\n",
       "      <td>2.992889</td>\n",
       "      <td>Months.Since.Last.Claim</td>\n",
       "    </tr>\n",
       "    <tr>\n",
       "      <th>9</th>\n",
       "      <td>3.660844</td>\n",
       "      <td>Months.Since.Policy.Inception</td>\n",
       "    </tr>\n",
       "    <tr>\n",
       "      <th>10</th>\n",
       "      <td>1.194085</td>\n",
       "      <td>Number.of.Open.Complaints</td>\n",
       "    </tr>\n",
       "    <tr>\n",
       "      <th>11</th>\n",
       "      <td>2.487635</td>\n",
       "      <td>Number.of.Policies</td>\n",
       "    </tr>\n",
       "    <tr>\n",
       "      <th>12</th>\n",
       "      <td>6.433994</td>\n",
       "      <td>Policy.Type</td>\n",
       "    </tr>\n",
       "    <tr>\n",
       "      <th>13</th>\n",
       "      <td>11.988428</td>\n",
       "      <td>Policy</td>\n",
       "    </tr>\n",
       "    <tr>\n",
       "      <th>14</th>\n",
       "      <td>1.979094</td>\n",
       "      <td>Renew.Offer.Type</td>\n",
       "    </tr>\n",
       "    <tr>\n",
       "      <th>15</th>\n",
       "      <td>1.877469</td>\n",
       "      <td>Sales.Channel</td>\n",
       "    </tr>\n",
       "    <tr>\n",
       "      <th>16</th>\n",
       "      <td>6.277275</td>\n",
       "      <td>Total.Claim.Amount</td>\n",
       "    </tr>\n",
       "    <tr>\n",
       "      <th>17</th>\n",
       "      <td>1.931675</td>\n",
       "      <td>Vehicle.Class</td>\n",
       "    </tr>\n",
       "    <tr>\n",
       "      <th>18</th>\n",
       "      <td>4.768598</td>\n",
       "      <td>Vehicle.Size</td>\n",
       "    </tr>\n",
       "  </tbody>\n",
       "</table>\n",
       "</div>"
      ],
      "text/plain": [
       "          Vif                      Variables\n",
       "0    1.859115                       Coverage\n",
       "1    2.277473                      Education\n",
       "2    5.353837               EmploymentStatus\n",
       "3    2.026935                         Gender\n",
       "4    4.861503                         Income\n",
       "5    2.521012                  Location.Code\n",
       "6    4.655047                 Marital.Status\n",
       "7   10.072863           Monthly.Premium.Auto\n",
       "8    2.992889        Months.Since.Last.Claim\n",
       "9    3.660844  Months.Since.Policy.Inception\n",
       "10   1.194085      Number.of.Open.Complaints\n",
       "11   2.487635             Number.of.Policies\n",
       "12   6.433994                    Policy.Type\n",
       "13  11.988428                         Policy\n",
       "14   1.979094               Renew.Offer.Type\n",
       "15   1.877469                  Sales.Channel\n",
       "16   6.277275             Total.Claim.Amount\n",
       "17   1.931675                  Vehicle.Class\n",
       "18   4.768598                   Vehicle.Size"
      ]
     },
     "execution_count": 273,
     "metadata": {},
     "output_type": "execute_result"
    }
   ],
   "source": [
    "## Create a empty dataframe and calculate VIF for test data.\n",
    "vif=pd.DataFrame()\n",
    "vif['Vif']=[variance_inflation_factor(test.values,i) for i in range(test.shape[1])]\n",
    "vif['Variables']=test.columns.values\n",
    "vif"
   ]
  },
  {
   "cell_type": "code",
   "execution_count": 274,
   "metadata": {},
   "outputs": [],
   "source": [
    "## VIF value is high for 2 columns,we can drop those two columns and build a model and we can include those two columns and\n",
    "## build another model,we can see the difference."
   ]
  },
  {
   "cell_type": "code",
   "execution_count": 266,
   "metadata": {},
   "outputs": [],
   "source": [
    "########################################## Build Different Models #############################################################"
   ]
  },
  {
   "cell_type": "code",
   "execution_count": 275,
   "metadata": {},
   "outputs": [],
   "source": [
    "################################################# Linear Regression ###########################################################"
   ]
  },
  {
   "cell_type": "code",
   "execution_count": 449,
   "metadata": {},
   "outputs": [],
   "source": [
    "## Instantiate regression model and fit  a model.\n",
    "linreg=LinearRegression()\n",
    "linear_model=linreg.fit(X_train,y_train)"
   ]
  },
  {
   "cell_type": "code",
   "execution_count": 450,
   "metadata": {},
   "outputs": [],
   "source": [
    "## Get the predictions on train and validation data.\n",
    "pred_train = linear_model.predict(X_train)\n",
    "pred_test = linear_model.predict(X_test)"
   ]
  },
  {
   "cell_type": "code",
   "execution_count": 451,
   "metadata": {},
   "outputs": [],
   "source": [
    "## Get predictions on test data.\n",
    "test_pred = linear_model.predict(test)"
   ]
  },
  {
   "cell_type": "code",
   "execution_count": 452,
   "metadata": {},
   "outputs": [
    {
     "name": "stdout",
     "output_type": "stream",
     "text": [
      "Train Error: 6482.602859866607\n",
      "Test Error: 6260.030152766292\n"
     ]
    }
   ],
   "source": [
    "## Display RMSE value for train and validation data.\n",
    "print(\"Train Error:\",sqrt(mean_squared_error(y_train, pred_train)))\n",
    "print(\"Test Error:\",sqrt(mean_squared_error(y_test, pred_test)))"
   ]
  },
  {
   "cell_type": "code",
   "execution_count": 453,
   "metadata": {},
   "outputs": [],
   "source": [
    "## Prepare a dataframe with test data index,prediction values.\n",
    "dataframe = pd.DataFrame({'CustomerID' : test.index,\n",
    "                          'Customer.Lifetime.Value' : test_pred})"
   ]
  },
  {
   "cell_type": "code",
   "execution_count": 454,
   "metadata": {},
   "outputs": [
    {
     "data": {
      "text/plain": [
       "(1767, 19)"
      ]
     },
     "execution_count": 454,
     "metadata": {},
     "output_type": "execute_result"
    }
   ],
   "source": [
    "## Check dimesnions of test data.\n",
    "test.shape"
   ]
  },
  {
   "cell_type": "code",
   "execution_count": 455,
   "metadata": {},
   "outputs": [
    {
     "data": {
      "text/plain": [
       "(1767, 2)"
      ]
     },
     "execution_count": 455,
     "metadata": {},
     "output_type": "execute_result"
    }
   ],
   "source": [
    "## Check dimensons of dataframe.\n",
    "dataframe.shape"
   ]
  },
  {
   "cell_type": "code",
   "execution_count": 456,
   "metadata": {},
   "outputs": [],
   "source": [
    "## Copy dataframe data into a CSV file.\n",
    "dataframe.to_csv('LinearRegression.csv',index=False)"
   ]
  },
  {
   "cell_type": "code",
   "execution_count": 282,
   "metadata": {},
   "outputs": [],
   "source": [
    "############################################### Decision Tree ##################################################################"
   ]
  },
  {
   "cell_type": "code",
   "execution_count": 457,
   "metadata": {},
   "outputs": [
    {
     "data": {
      "text/plain": [
       "DecisionTreeRegressor(ccp_alpha=0.0, criterion='mse', max_depth=5,\n",
       "                      max_features=None, max_leaf_nodes=None,\n",
       "                      min_impurity_decrease=0.0, min_impurity_split=None,\n",
       "                      min_samples_leaf=10, min_samples_split=5,\n",
       "                      min_weight_fraction_leaf=0.0, presort='deprecated',\n",
       "                      random_state=123, splitter='best')"
      ]
     },
     "execution_count": 457,
     "metadata": {},
     "output_type": "execute_result"
    }
   ],
   "source": [
    "## Instantiate and fit a regression model.\n",
    "dtr = DecisionTreeRegressor(max_depth=5,min_samples_leaf=10,min_samples_split=5,random_state=123)\n",
    "dtr.fit(X_train,y_train)"
   ]
  },
  {
   "cell_type": "code",
   "execution_count": 458,
   "metadata": {},
   "outputs": [],
   "source": [
    "## Get the predictions on train and validation data.\n",
    "pred_train = dtr.predict(X_train)\n",
    "pred_test = dtr.predict(X_test)"
   ]
  },
  {
   "cell_type": "code",
   "execution_count": 459,
   "metadata": {},
   "outputs": [],
   "source": [
    "## Get predictions for test data.\n",
    "test_pred = dtr.predict(test)"
   ]
  },
  {
   "cell_type": "code",
   "execution_count": 460,
   "metadata": {
    "scrolled": false
   },
   "outputs": [
    {
     "name": "stdout",
     "output_type": "stream",
     "text": [
      "Train Error: 4018.551584252528\n",
      "Test Error: 3943.9726818873096\n"
     ]
    }
   ],
   "source": [
    "## Display train and validation RMSE.\n",
    "print(\"Train Error:\",sqrt(mean_squared_error(y_train, pred_train)))\n",
    "print(\"Test Error:\",sqrt(mean_squared_error(y_test, pred_test)))"
   ]
  },
  {
   "cell_type": "code",
   "execution_count": 461,
   "metadata": {},
   "outputs": [],
   "source": [
    "## Prepare a dataframe with test data index,prediction values.\n",
    "dataframe = pd.DataFrame({'CustomerID' : test.index,\n",
    "                          'Customer.Lifetime.Value' : test_pred})"
   ]
  },
  {
   "cell_type": "code",
   "execution_count": 462,
   "metadata": {},
   "outputs": [
    {
     "data": {
      "text/plain": [
       "(1767, 19)"
      ]
     },
     "execution_count": 462,
     "metadata": {},
     "output_type": "execute_result"
    }
   ],
   "source": [
    "## Check dimesnions of test data.\n",
    "test.shape"
   ]
  },
  {
   "cell_type": "code",
   "execution_count": 463,
   "metadata": {},
   "outputs": [
    {
     "data": {
      "text/plain": [
       "(1767, 2)"
      ]
     },
     "execution_count": 463,
     "metadata": {},
     "output_type": "execute_result"
    }
   ],
   "source": [
    "## Check dimensons of dataframe.\n",
    "dataframe.shape"
   ]
  },
  {
   "cell_type": "code",
   "execution_count": 464,
   "metadata": {},
   "outputs": [],
   "source": [
    "## Copy dataframe data into a CSV file.\n",
    "dataframe.to_csv('DecisionTree.csv',index=False)"
   ]
  },
  {
   "cell_type": "code",
   "execution_count": 465,
   "metadata": {},
   "outputs": [],
   "source": [
    "############################################## Random Forest ##################################################################"
   ]
  },
  {
   "cell_type": "code",
   "execution_count": 466,
   "metadata": {},
   "outputs": [],
   "source": [
    "## Instantiate a regressor model.\n",
    "rc = RandomForestRegressor(n_estimators= 200, max_depth= 10 ,min_samples_leaf = 4 ,max_features='sqrt')"
   ]
  },
  {
   "cell_type": "code",
   "execution_count": 467,
   "metadata": {},
   "outputs": [
    {
     "data": {
      "text/plain": [
       "RandomForestRegressor(bootstrap=True, ccp_alpha=0.0, criterion='mse',\n",
       "                      max_depth=10, max_features='sqrt', max_leaf_nodes=None,\n",
       "                      max_samples=None, min_impurity_decrease=0.0,\n",
       "                      min_impurity_split=None, min_samples_leaf=4,\n",
       "                      min_samples_split=2, min_weight_fraction_leaf=0.0,\n",
       "                      n_estimators=200, n_jobs=None, oob_score=False,\n",
       "                      random_state=None, verbose=0, warm_start=False)"
      ]
     },
     "execution_count": 467,
     "metadata": {},
     "output_type": "execute_result"
    }
   ],
   "source": [
    "## Fit a model.\n",
    "rc.fit(X_train,y_train)"
   ]
  },
  {
   "cell_type": "code",
   "execution_count": 468,
   "metadata": {},
   "outputs": [],
   "source": [
    "## Get the predictions on train and validation data.\n",
    "pred_train = rc.predict(X_train)\n",
    "pred_test = rc.predict(X_test)"
   ]
  },
  {
   "cell_type": "code",
   "execution_count": 469,
   "metadata": {},
   "outputs": [],
   "source": [
    "## Get predictions on test data.\n",
    "test_pred = rc.predict(test)"
   ]
  },
  {
   "cell_type": "code",
   "execution_count": 470,
   "metadata": {
    "scrolled": true
   },
   "outputs": [
    {
     "name": "stdout",
     "output_type": "stream",
     "text": [
      "Train Error: 3585.24914088437\n",
      "Test Error: 3920.0170055197127\n"
     ]
    }
   ],
   "source": [
    "## Display RMSE values for train and validation data.\n",
    "print(\"Train Error:\",sqrt(mean_squared_error(y_train, pred_train)))\n",
    "print(\"Test Error:\",sqrt(mean_squared_error(y_test, pred_test)))"
   ]
  },
  {
   "cell_type": "code",
   "execution_count": 471,
   "metadata": {},
   "outputs": [],
   "source": [
    "## Prepare a dataframe with test data index,prediction values.\n",
    "dataframe = pd.DataFrame({'CustomerID' : test.index,\n",
    "                          'Customer.Lifetime.Value' : test_pred})"
   ]
  },
  {
   "cell_type": "code",
   "execution_count": 472,
   "metadata": {},
   "outputs": [
    {
     "data": {
      "text/plain": [
       "(1767, 19)"
      ]
     },
     "execution_count": 472,
     "metadata": {},
     "output_type": "execute_result"
    }
   ],
   "source": [
    "## Check dimesnions of test data.\n",
    "test.shape"
   ]
  },
  {
   "cell_type": "code",
   "execution_count": 473,
   "metadata": {},
   "outputs": [
    {
     "data": {
      "text/plain": [
       "(1767, 2)"
      ]
     },
     "execution_count": 473,
     "metadata": {},
     "output_type": "execute_result"
    }
   ],
   "source": [
    "## Check dimensons of dataframe.\n",
    "dataframe.shape"
   ]
  },
  {
   "cell_type": "code",
   "execution_count": 474,
   "metadata": {},
   "outputs": [],
   "source": [
    "## Copy dataframe data into a CSV file.\n",
    "dataframe.to_csv('RandomForest.csv',index=False)"
   ]
  },
  {
   "cell_type": "code",
   "execution_count": 475,
   "metadata": {},
   "outputs": [],
   "source": [
    "################################################### KNN #######################################################################"
   ]
  },
  {
   "cell_type": "code",
   "execution_count": 476,
   "metadata": {},
   "outputs": [
    {
     "data": {
      "text/plain": [
       "KNeighborsRegressor(algorithm='brute', leaf_size=30, metric='euclidean',\n",
       "                    metric_params=None, n_jobs=None, n_neighbors=10, p=2,\n",
       "                    weights='uniform')"
      ]
     },
     "execution_count": 476,
     "metadata": {},
     "output_type": "execute_result"
    }
   ],
   "source": [
    "## Instantiate KNN model and fit it.\n",
    "knn = KNeighborsRegressor(algorithm = 'brute', n_neighbors = 10,\n",
    "                           metric = \"euclidean\")\n",
    "knn.fit(X_train, y_train)"
   ]
  },
  {
   "cell_type": "code",
   "execution_count": 477,
   "metadata": {},
   "outputs": [],
   "source": [
    "## Get the predictions on train and validation.\n",
    "pred_train = knn.predict(X_train)\n",
    "pred_test = knn.predict(X_test)"
   ]
  },
  {
   "cell_type": "code",
   "execution_count": 478,
   "metadata": {},
   "outputs": [],
   "source": [
    "## Get predictions on test data.\n",
    "test_pred = knn.predict(test)"
   ]
  },
  {
   "cell_type": "code",
   "execution_count": 479,
   "metadata": {
    "scrolled": true
   },
   "outputs": [
    {
     "name": "stdout",
     "output_type": "stream",
     "text": [
      "Train Error: 6057.612456279684\n",
      "Test Error: 6451.937354796598\n"
     ]
    }
   ],
   "source": [
    "## Display RMSE values fo train and validation.\n",
    "print(\"Train Error:\",sqrt(mean_squared_error(y_train, pred_train)))\n",
    "print(\"Test Error:\",sqrt(mean_squared_error(y_test, pred_test)))"
   ]
  },
  {
   "cell_type": "code",
   "execution_count": 481,
   "metadata": {},
   "outputs": [],
   "source": [
    "## Prepare a dataframe with test data index,prediction values.\n",
    "dataframe = pd.DataFrame({'CustomerID' : test.index,\n",
    "                          'Customer.Lifetime.Value' : test_pred})"
   ]
  },
  {
   "cell_type": "code",
   "execution_count": 482,
   "metadata": {},
   "outputs": [
    {
     "data": {
      "text/plain": [
       "(1767, 19)"
      ]
     },
     "execution_count": 482,
     "metadata": {},
     "output_type": "execute_result"
    }
   ],
   "source": [
    "## Check dimesnions of test data.\n",
    "test.shape"
   ]
  },
  {
   "cell_type": "code",
   "execution_count": 483,
   "metadata": {},
   "outputs": [
    {
     "data": {
      "text/plain": [
       "(1767, 2)"
      ]
     },
     "execution_count": 483,
     "metadata": {},
     "output_type": "execute_result"
    }
   ],
   "source": [
    "## Check dimensons of dataframe.\n",
    "dataframe.shape"
   ]
  },
  {
   "cell_type": "code",
   "execution_count": 484,
   "metadata": {},
   "outputs": [],
   "source": [
    "## Copy dataframe data into a CSV file.\n",
    "dataframe.to_csv('KNN.csv',index=False)"
   ]
  },
  {
   "cell_type": "code",
   "execution_count": 485,
   "metadata": {},
   "outputs": [],
   "source": [
    "#################################################### SVM #######################################################################"
   ]
  },
  {
   "cell_type": "code",
   "execution_count": 486,
   "metadata": {},
   "outputs": [
    {
     "data": {
      "text/plain": [
       "SVR(C=1.0, cache_size=200, coef0=0.0, degree=3, epsilon=0.1, gamma='scale',\n",
       "    kernel='rbf', max_iter=-1, shrinking=True, tol=0.001, verbose=False)"
      ]
     },
     "execution_count": 486,
     "metadata": {},
     "output_type": "execute_result"
    }
   ],
   "source": [
    "## Instantiate SVR model.\n",
    "svr_model = SVR()\n",
    "svr_model"
   ]
  },
  {
   "cell_type": "code",
   "execution_count": 487,
   "metadata": {},
   "outputs": [
    {
     "data": {
      "text/plain": [
       "SVR(C=1.0, cache_size=200, coef0=0.0, degree=3, epsilon=0.1, gamma='scale',\n",
       "    kernel='rbf', max_iter=-1, shrinking=True, tol=0.001, verbose=False)"
      ]
     },
     "execution_count": 487,
     "metadata": {},
     "output_type": "execute_result"
    }
   ],
   "source": [
    "## Fit a model.\n",
    "svr_model.fit(X = X_train, y = y_train)"
   ]
  },
  {
   "cell_type": "code",
   "execution_count": 488,
   "metadata": {},
   "outputs": [],
   "source": [
    "## Get the predictions on train and validation.\n",
    "pred_train = svr_model.predict(X_train)\n",
    "pred_test = svr_model.predict(X_test)"
   ]
  },
  {
   "cell_type": "code",
   "execution_count": 489,
   "metadata": {},
   "outputs": [],
   "source": [
    "## Get predictions on test data.\n",
    "test_pred = svr_model.predict(test)"
   ]
  },
  {
   "cell_type": "code",
   "execution_count": 490,
   "metadata": {},
   "outputs": [
    {
     "name": "stdout",
     "output_type": "stream",
     "text": [
      "Train Error: 7295.793994630088\n",
      "Test Error: 6966.066714076594\n"
     ]
    }
   ],
   "source": [
    "## Get predictions on test data.\n",
    "print(\"Train Error:\",sqrt(mean_squared_error(y_train, pred_train)))\n",
    "print(\"Test Error:\",sqrt(mean_squared_error(y_test, pred_test)))"
   ]
  },
  {
   "cell_type": "code",
   "execution_count": 491,
   "metadata": {},
   "outputs": [],
   "source": [
    "## Prepare a dataframe with test data index,prediction values.\n",
    "dataframe = pd.DataFrame({'CustomerID' : test.index,\n",
    "                          'Customer.Lifetime.Value' : test_pred})"
   ]
  },
  {
   "cell_type": "code",
   "execution_count": 492,
   "metadata": {},
   "outputs": [
    {
     "data": {
      "text/plain": [
       "(1767, 19)"
      ]
     },
     "execution_count": 492,
     "metadata": {},
     "output_type": "execute_result"
    }
   ],
   "source": [
    "## Check dimesnions of test data.\n",
    "test.shape"
   ]
  },
  {
   "cell_type": "code",
   "execution_count": 493,
   "metadata": {},
   "outputs": [
    {
     "data": {
      "text/plain": [
       "(1767, 2)"
      ]
     },
     "execution_count": 493,
     "metadata": {},
     "output_type": "execute_result"
    }
   ],
   "source": [
    "## Check dimensons of dataframe.\n",
    "dataframe.shape"
   ]
  },
  {
   "cell_type": "code",
   "execution_count": 494,
   "metadata": {},
   "outputs": [],
   "source": [
    "## Copy dataframe data into a CSV file.\n",
    "dataframe.to_csv('SVR.csv',index=False)"
   ]
  },
  {
   "cell_type": "code",
   "execution_count": 495,
   "metadata": {},
   "outputs": [],
   "source": [
    "################################################### AdaBoost ##################################################################"
   ]
  },
  {
   "cell_type": "code",
   "execution_count": 496,
   "metadata": {},
   "outputs": [
    {
     "name": "stdout",
     "output_type": "stream",
     "text": [
      "Wall time: 6.21 s\n"
     ]
    },
    {
     "data": {
      "text/plain": [
       "AdaBoostRegressor(base_estimator=None, learning_rate=0.001, loss='linear',\n",
       "                  n_estimators=200, random_state=None)"
      ]
     },
     "execution_count": 496,
     "metadata": {},
     "output_type": "execute_result"
    }
   ],
   "source": [
    "## Instantiate regressor model and fit it.\n",
    "Adaboost_model = AdaBoostRegressor(n_estimators=200,learning_rate=0.001)\n",
    "%time Adaboost_model.fit(X_train, y_train)"
   ]
  },
  {
   "cell_type": "code",
   "execution_count": 497,
   "metadata": {},
   "outputs": [],
   "source": [
    "## Get the predictions on train and validation data.\n",
    "pred_train = Adaboost_model.predict(X_train)\n",
    "pred_test = Adaboost_model.predict(X_test)"
   ]
  },
  {
   "cell_type": "code",
   "execution_count": 498,
   "metadata": {},
   "outputs": [],
   "source": [
    "## Get predictions on test data.\n",
    "test_pred = Adaboost_model.predict(test)"
   ]
  },
  {
   "cell_type": "code",
   "execution_count": 499,
   "metadata": {
    "scrolled": true
   },
   "outputs": [
    {
     "name": "stdout",
     "output_type": "stream",
     "text": [
      "Train Error: 4396.806805269717\n",
      "Test Error: 4170.575760309947\n"
     ]
    }
   ],
   "source": [
    "## Display RMSE value for train and validation data.\n",
    "print(\"Train Error:\",sqrt(mean_squared_error(y_train, pred_train)))\n",
    "print(\"Test Error:\",sqrt(mean_squared_error(y_test, pred_test)))"
   ]
  },
  {
   "cell_type": "code",
   "execution_count": 500,
   "metadata": {},
   "outputs": [],
   "source": [
    "## Prepare a dataframe with test data index,prediction values.\n",
    "dataframe = pd.DataFrame({'CustomerID' : test.index,\n",
    "                          'Customer.Lifetime.Value' : test_pred})"
   ]
  },
  {
   "cell_type": "code",
   "execution_count": 501,
   "metadata": {},
   "outputs": [
    {
     "data": {
      "text/plain": [
       "(1767, 19)"
      ]
     },
     "execution_count": 501,
     "metadata": {},
     "output_type": "execute_result"
    }
   ],
   "source": [
    "## Check dimesnions of test data.\n",
    "test.shape"
   ]
  },
  {
   "cell_type": "code",
   "execution_count": 502,
   "metadata": {},
   "outputs": [
    {
     "data": {
      "text/plain": [
       "(1767, 2)"
      ]
     },
     "execution_count": 502,
     "metadata": {},
     "output_type": "execute_result"
    }
   ],
   "source": [
    "## Check dimensons of dataframe.\n",
    "dataframe.shape"
   ]
  },
  {
   "cell_type": "code",
   "execution_count": 503,
   "metadata": {},
   "outputs": [],
   "source": [
    "## Copy dataframe data into a CSV file.\n",
    "dataframe.to_csv('AdaBoost.csv',index=False)"
   ]
  },
  {
   "cell_type": "code",
   "execution_count": 365,
   "metadata": {},
   "outputs": [],
   "source": [
    "##################################################### GradientBoosting #########################################################"
   ]
  },
  {
   "cell_type": "code",
   "execution_count": 504,
   "metadata": {},
   "outputs": [
    {
     "name": "stdout",
     "output_type": "stream",
     "text": [
      "Wall time: 4.49 s\n"
     ]
    },
    {
     "data": {
      "text/plain": [
       "GradientBoostingRegressor(alpha=0.9, ccp_alpha=0.0, criterion='friedman_mse',\n",
       "                          init=None, learning_rate=0.001, loss='ls',\n",
       "                          max_depth=3, max_features=None, max_leaf_nodes=None,\n",
       "                          min_impurity_decrease=0.0, min_impurity_split=None,\n",
       "                          min_samples_leaf=1, min_samples_split=2,\n",
       "                          min_weight_fraction_leaf=0.0, n_estimators=200,\n",
       "                          n_iter_no_change=None, presort='deprecated',\n",
       "                          random_state=474, subsample=1.0, tol=0.0001,\n",
       "                          validation_fraction=0.1, verbose=0, warm_start=False)"
      ]
     },
     "execution_count": 504,
     "metadata": {},
     "output_type": "execute_result"
    }
   ],
   "source": [
    "## Instantiate GBR and fit it.\n",
    "gbm = GradientBoostingRegressor(n_estimators=200,learning_rate=0.001,random_state=474)\n",
    "%time gbm.fit(X=X_train, y=y_train)"
   ]
  },
  {
   "cell_type": "code",
   "execution_count": 505,
   "metadata": {},
   "outputs": [],
   "source": [
    "## Get the predictions on train and validation.\n",
    "pred_train = gbm.predict(X_train)\n",
    "pred_test = gbm.predict(X_test)"
   ]
  },
  {
   "cell_type": "code",
   "execution_count": 506,
   "metadata": {},
   "outputs": [],
   "source": [
    "## Get predictions on test data.\n",
    "test_pred = gbm.predict(test)"
   ]
  },
  {
   "cell_type": "code",
   "execution_count": 507,
   "metadata": {
    "scrolled": true
   },
   "outputs": [
    {
     "name": "stdout",
     "output_type": "stream",
     "text": [
      "Train Error: 6221.131971580862\n",
      "Test Error: 5930.60023635255\n"
     ]
    }
   ],
   "source": [
    "## Dispay RMSE value for train and validation.\n",
    "print(\"Train Error:\",sqrt(mean_squared_error(y_train, pred_train)))\n",
    "print(\"Test Error:\",sqrt(mean_squared_error(y_test, pred_test)))"
   ]
  },
  {
   "cell_type": "code",
   "execution_count": 508,
   "metadata": {},
   "outputs": [],
   "source": [
    "## Prepare a dataframe with test data index,prediction values.\n",
    "dataframe = pd.DataFrame({'CustomerID' : test.index,\n",
    "                          'Customer.Lifetime.Value' : test_pred})"
   ]
  },
  {
   "cell_type": "code",
   "execution_count": 509,
   "metadata": {},
   "outputs": [
    {
     "data": {
      "text/plain": [
       "(1767, 19)"
      ]
     },
     "execution_count": 509,
     "metadata": {},
     "output_type": "execute_result"
    }
   ],
   "source": [
    "## Check dimesnions of test data.\n",
    "test.shape"
   ]
  },
  {
   "cell_type": "code",
   "execution_count": 510,
   "metadata": {},
   "outputs": [
    {
     "data": {
      "text/plain": [
       "(1767, 2)"
      ]
     },
     "execution_count": 510,
     "metadata": {},
     "output_type": "execute_result"
    }
   ],
   "source": [
    "## Check dimensons of dataframe.\n",
    "dataframe.shape"
   ]
  },
  {
   "cell_type": "code",
   "execution_count": 511,
   "metadata": {},
   "outputs": [],
   "source": [
    "## Copy dataframe data into a CSV file.\n",
    "dataframe.to_csv('GradientBoost.csv',index=False)"
   ]
  },
  {
   "cell_type": "code",
   "execution_count": 376,
   "metadata": {},
   "outputs": [],
   "source": [
    "################################################## XGradient Boosting ##########################################################"
   ]
  },
  {
   "cell_type": "code",
   "execution_count": 422,
   "metadata": {},
   "outputs": [
    {
     "name": "stdout",
     "output_type": "stream",
     "text": [
      "Fitting 5 folds for each of 64 candidates, totalling 320 fits\n"
     ]
    },
    {
     "name": "stderr",
     "output_type": "stream",
     "text": [
      "[Parallel(n_jobs=-1)]: Using backend LokyBackend with 12 concurrent workers.\n",
      "[Parallel(n_jobs=-1)]: Done  26 tasks      | elapsed:   10.8s\n",
      "[Parallel(n_jobs=-1)]: Done 176 tasks      | elapsed:   29.0s\n",
      "[Parallel(n_jobs=-1)]: Done 320 out of 320 | elapsed:  1.3min finished\n",
      "C:\\Users\\nagar\\Anaconda3\\lib\\site-packages\\xgboost\\core.py:587: FutureWarning: Series.base is deprecated and will be removed in a future version\n",
      "  if getattr(data, 'base', None) is not None and \\\n"
     ]
    },
    {
     "name": "stdout",
     "output_type": "stream",
     "text": [
      "[08:12:46] WARNING: C:/Jenkins/workspace/xgboost-win64_release_0.90/src/objective/regression_obj.cu:152: reg:linear is now deprecated in favor of reg:squarederror.\n",
      "Wall time: 1min 22s\n",
      "0.6598671886474938\n",
      "{'max_depth': 3, 'n_estimators': 200}\n"
     ]
    }
   ],
   "source": [
    "## Model Building with Grid Search.\n",
    "xgb = XGBRegressor() ## Instantiate XGB model.\n",
    "\n",
    "optimization_dict = {'max_depth': [2,3,4,5,6,7,10,15], ## trying with different max_depth,n_estimators to find best model.\n",
    "                      'n_estimators': [50,60,70,80,90,100,150,200]} \n",
    "\n",
    "## Build best model with Grid Search params.\n",
    "model = GridSearchCV(xgb, ## XGB model.\n",
    "                     optimization_dict, ## dictory with different max_depth,n_estimators.\n",
    "                     verbose=1, ## for messaging purpose.\n",
    "                     n_jobs=-1) ## Number of jobs to run in parallel. ''-1' means use all processors.\n",
    "\n",
    "%time model.fit(X_train, y_train) ## Fit a model.\n",
    "print(model.best_score_) ## Display best score calues.\n",
    "print(model.best_params_) ## Display best parameters."
   ]
  },
  {
   "cell_type": "code",
   "execution_count": 512,
   "metadata": {},
   "outputs": [
    {
     "name": "stderr",
     "output_type": "stream",
     "text": [
      "C:\\Users\\nagar\\Anaconda3\\lib\\site-packages\\xgboost\\core.py:587: FutureWarning: Series.base is deprecated and will be removed in a future version\n",
      "  if getattr(data, 'base', None) is not None and \\\n"
     ]
    },
    {
     "name": "stdout",
     "output_type": "stream",
     "text": [
      "[08:28:53] WARNING: C:/Jenkins/workspace/xgboost-win64_release_0.90/src/objective/regression_obj.cu:152: reg:linear is now deprecated in favor of reg:squarederror.\n",
      "Wall time: 5.74 s\n"
     ]
    },
    {
     "data": {
      "text/plain": [
       "XGBRegressor(base_score=0.5, booster='gbtree', colsample_bylevel=1,\n",
       "             colsample_bynode=1, colsample_bytree=1, gamma=0,\n",
       "             importance_type='gain', learning_rate=0.001, max_delta_step=0,\n",
       "             max_depth=7, min_child_weight=1, missing=None, n_estimators=200,\n",
       "             n_jobs=1, nthread=None, objective='reg:linear', random_state=0,\n",
       "             reg_alpha=0, reg_lambda=1, scale_pos_weight=1, seed=None,\n",
       "             silent=None, subsample=1, verbosity=1)"
      ]
     },
     "execution_count": 512,
     "metadata": {},
     "output_type": "execute_result"
    }
   ],
   "source": [
    "## Instantiate XGBR and fit it.\n",
    "xgb_model=XGBRegressor(n_estimators=200,learning_rate=0.001,max_depth=7)\n",
    "%time xgb_model.fit(X_train,y_train,verbose=True)"
   ]
  },
  {
   "cell_type": "code",
   "execution_count": 513,
   "metadata": {},
   "outputs": [],
   "source": [
    "## Get the predictions on train and validation.\n",
    "pred_train = xgb_model.predict(X_train)\n",
    "pred_test = xgb_model.predict(X_test)"
   ]
  },
  {
   "cell_type": "code",
   "execution_count": 514,
   "metadata": {},
   "outputs": [],
   "source": [
    "## Get predictions on test data.\n",
    "test_pred = xgb_model.predict(test)"
   ]
  },
  {
   "cell_type": "code",
   "execution_count": 515,
   "metadata": {
    "scrolled": true
   },
   "outputs": [
    {
     "name": "stdout",
     "output_type": "stream",
     "text": [
      "Train Error: 8980.544157300707\n",
      "Test Error: 8750.180710896557\n"
     ]
    }
   ],
   "source": [
    "## Get RMSE value for train and validation data.\n",
    "print(\"Train Error:\",sqrt(mean_squared_error(y_train, pred_train)))\n",
    "print(\"Test Error:\",sqrt(mean_squared_error(y_test, pred_test)))"
   ]
  },
  {
   "cell_type": "code",
   "execution_count": 516,
   "metadata": {},
   "outputs": [],
   "source": [
    "## Prepare a dataframe with test data index,prediction values.\n",
    "dataframe = pd.DataFrame({'CustomerID' : test.index,\n",
    "                          'Customer.Lifetime.Value' : test_pred})"
   ]
  },
  {
   "cell_type": "code",
   "execution_count": 517,
   "metadata": {},
   "outputs": [
    {
     "data": {
      "text/plain": [
       "(1767, 19)"
      ]
     },
     "execution_count": 517,
     "metadata": {},
     "output_type": "execute_result"
    }
   ],
   "source": [
    "## Check dimesnions of test data.\n",
    "test.shape"
   ]
  },
  {
   "cell_type": "code",
   "execution_count": 518,
   "metadata": {},
   "outputs": [
    {
     "data": {
      "text/plain": [
       "(1767, 2)"
      ]
     },
     "execution_count": 518,
     "metadata": {},
     "output_type": "execute_result"
    }
   ],
   "source": [
    "## Check dimensons of dataframe.\n",
    "dataframe.shape"
   ]
  },
  {
   "cell_type": "code",
   "execution_count": 519,
   "metadata": {},
   "outputs": [],
   "source": [
    "## Copy dataframe data into a CSV file.\n",
    "dataframe.to_csv('XGB.csv',index=False)"
   ]
  },
  {
   "cell_type": "code",
   "execution_count": 520,
   "metadata": {},
   "outputs": [],
   "source": [
    "############################################# Neural Network Linear Algoritham #################################################"
   ]
  },
  {
   "cell_type": "code",
   "execution_count": 521,
   "metadata": {},
   "outputs": [
    {
     "name": "stdout",
     "output_type": "stream",
     "text": [
      "Epoch 1/50\n",
      "6864/6864 [==============================] - 1s 78us/step - loss: 513606045.4266\n",
      "Epoch 2/50\n",
      "6864/6864 [==============================] - 1s 75us/step - loss: 199430693.2774\n",
      "Epoch 3/50\n",
      "6864/6864 [==============================] - 1s 74us/step - loss: 79017128.8951\n",
      "Epoch 4/50\n",
      "6864/6864 [==============================] - 0s 72us/step - loss: 69782404.5315\n",
      "Epoch 5/50\n",
      "6864/6864 [==============================] - 0s 58us/step - loss: 68745421.4639\n",
      "Epoch 6/50\n",
      "6864/6864 [==============================] - 0s 56us/step - loss: 67747646.4522\n",
      "Epoch 7/50\n",
      "6864/6864 [==============================] - 0s 66us/step - loss: 66769542.2284\n",
      "Epoch 8/50\n",
      "6864/6864 [==============================] - 0s 63us/step - loss: 65806162.8485\n",
      "Epoch 9/50\n",
      "6864/6864 [==============================] - 0s 34us/step - loss: 64856121.1515\n",
      "Epoch 10/50\n",
      "6864/6864 [==============================] - 1s 85us/step - loss: 63967061.6131\n",
      "Epoch 11/50\n",
      "6864/6864 [==============================] - 0s 65us/step - loss: 63083027.1002\n",
      "Epoch 12/50\n",
      "6864/6864 [==============================] - 0s 56us/step - loss: 62234260.2984\n",
      "Epoch 13/50\n",
      "6864/6864 [==============================] - 0s 55us/step - loss: 61404142.8951\n",
      "Epoch 14/50\n",
      "6864/6864 [==============================] - ETA: 0s - loss: 61202249.99 - 0s 72us/step - loss: 60592762.1702\n",
      "Epoch 15/50\n",
      "6864/6864 [==============================] - 0s 51us/step - loss: 59832355.1748\n",
      "Epoch 16/50\n",
      "6864/6864 [==============================] - 1s 112us/step - loss: 59063875.1935\n",
      "Epoch 17/50\n",
      "6864/6864 [==============================] - 0s 71us/step - loss: 58311449.4359\n",
      "Epoch 18/50\n",
      "6864/6864 [==============================] - 0s 47us/step - loss: 57632309.3147\n",
      "Epoch 19/50\n",
      "6864/6864 [==============================] - 0s 70us/step - loss: 56958643.4406\n",
      "Epoch 20/50\n",
      "6864/6864 [==============================] - 1s 98us/step - loss: 56269085.7156 \n",
      "Epoch 21/50\n",
      "6864/6864 [==============================] - 0s 64us/step - loss: 55685677.0490\n",
      "Epoch 22/50\n",
      "6864/6864 [==============================] - 0s 60us/step - loss: 55077498.8205\n",
      "Epoch 23/50\n",
      "6864/6864 [==============================] - 0s 62us/step - loss: 54484320.9930\n",
      "Epoch 24/50\n",
      "6864/6864 [==============================] - 1s 75us/step - loss: 53936132.8438\n",
      "Epoch 25/50\n",
      "6864/6864 [==============================] - 1s 78us/step - loss: 53412714.9977\n",
      "Epoch 26/50\n",
      "6864/6864 [==============================] - 0s 55us/step - loss: 52864715.5711\n",
      "Epoch 27/50\n",
      "6864/6864 [==============================] - 0s 58us/step - loss: 52410925.6876\n",
      "Epoch 28/50\n",
      "6864/6864 [==============================] - 0s 71us/step - loss: 51923856.6154\n",
      "Epoch 29/50\n",
      "6864/6864 [==============================] - 1s 88us/step - loss: 51472770.6946\n",
      "Epoch 30/50\n",
      "6864/6864 [==============================] - 0s 57us/step - loss: 51042130.1189\n",
      "Epoch 31/50\n",
      "6864/6864 [==============================] - 0s 55us/step - loss: 50648379.3776\n",
      "Epoch 32/50\n",
      "6864/6864 [==============================] - 0s 73us/step - loss: 50287565.9557\n",
      "Epoch 33/50\n",
      "6864/6864 [==============================] - 1s 111us/step - loss: 49919234.5501\n",
      "Epoch 34/50\n",
      "6864/6864 [==============================] - 1s 87us/step - loss: 49594748.8718\n",
      "Epoch 35/50\n",
      "6864/6864 [==============================] - 0s 62us/step - loss: 49250159.7646 0s - los\n",
      "Epoch 36/50\n",
      "6864/6864 [==============================] - 0s 64us/step - loss: 49009460.4476\n",
      "Epoch 37/50\n",
      "6864/6864 [==============================] - 0s 58us/step - loss: 48715492.3030\n",
      "Epoch 38/50\n",
      "6864/6864 [==============================] - 0s 51us/step - loss: 48460555.5152\n",
      "Epoch 39/50\n",
      "6864/6864 [==============================] - 0s 59us/step - loss: 48216902.2937\n",
      "Epoch 40/50\n",
      "6864/6864 [==============================] - 1s 74us/step - loss: 47999474.8112\n",
      "Epoch 41/50\n",
      "6864/6864 [==============================] - 0s 49us/step - loss: 47782682.8135\n",
      "Epoch 42/50\n",
      "6864/6864 [==============================] - 0s 60us/step - loss: 47607086.3823\n",
      "Epoch 43/50\n",
      "6864/6864 [==============================] - 0s 66us/step - loss: 47404118.4196\n",
      "Epoch 44/50\n",
      "6864/6864 [==============================] - 0s 54us/step - loss: 47241379.3287\n",
      "Epoch 45/50\n",
      "6864/6864 [==============================] - 1s 85us/step - loss: 47120042.5315\n",
      "Epoch 46/50\n",
      "6864/6864 [==============================] - 0s 54us/step - loss: 46982476.9744\n",
      "Epoch 47/50\n",
      "6864/6864 [==============================] - 0s 59us/step - loss: 46842458.7925\n",
      "Epoch 48/50\n",
      "6864/6864 [==============================] - 0s 56us/step - loss: 46724530.1818\n",
      "Epoch 49/50\n",
      "6864/6864 [==============================] - 1s 78us/step - loss: 46617645.5711\n",
      "Epoch 50/50\n",
      "6864/6864 [==============================] - 1s 75us/step - loss: 46516734.2331\n"
     ]
    },
    {
     "data": {
      "text/plain": [
       "<keras.callbacks.callbacks.History at 0x203a80c3f98>"
      ]
     },
     "execution_count": 521,
     "metadata": {},
     "output_type": "execute_result"
    }
   ],
   "source": [
    "## Instantiate squential model.\n",
    "model = Sequential()\n",
    "\n",
    "## Add dense model.\n",
    "model.add(Dense(1, input_dim=X_train.shape[1]))\n",
    "\n",
    "## Add compiler to model.\n",
    "model.compile(loss='mse', optimizer='rmsprop')\n",
    "\n",
    "## Fit a model.\n",
    "model.fit(X_train, y_train, epochs=50, batch_size=32)"
   ]
  },
  {
   "cell_type": "code",
   "execution_count": 522,
   "metadata": {},
   "outputs": [],
   "source": [
    "## Get the predictions on train and validation.\n",
    "pred_train = model.predict(X_train)\n",
    "pred_test = model.predict(X_test)"
   ]
  },
  {
   "cell_type": "code",
   "execution_count": 523,
   "metadata": {},
   "outputs": [],
   "source": [
    "## Get predictions on test data.\n",
    "test_pred = model.predict(test)"
   ]
  },
  {
   "cell_type": "code",
   "execution_count": 524,
   "metadata": {
    "scrolled": false
   },
   "outputs": [
    {
     "name": "stdout",
     "output_type": "stream",
     "text": [
      "Train Error: 6822.252685993944\n",
      "Test Error: 6536.224518869452\n"
     ]
    }
   ],
   "source": [
    "## Display RMSE value for train and validation.\n",
    "print(\"Train Error:\",sqrt(mean_squared_error(y_train, pred_train)))\n",
    "print(\"Test Error:\",sqrt(mean_squared_error(y_test, pred_test)))"
   ]
  },
  {
   "cell_type": "code",
   "execution_count": 546,
   "metadata": {},
   "outputs": [],
   "source": [
    "## Prepare a dataframe with test data index,prediction values.\n",
    "dataframe = pd.DataFrame({'CustomerID' : test.index,\n",
    "                          'Customer.Lifetime.Value' : test_pred.tolist()})"
   ]
  },
  {
   "cell_type": "code",
   "execution_count": 547,
   "metadata": {},
   "outputs": [],
   "source": [
    "## Convert list into float.\n",
    "dataframe['Customer.Lifetime.Value'] = dataframe['Customer.Lifetime.Value'].apply(lambda x: x[0])"
   ]
  },
  {
   "cell_type": "code",
   "execution_count": 548,
   "metadata": {},
   "outputs": [
    {
     "data": {
      "text/plain": [
       "(1767, 19)"
      ]
     },
     "execution_count": 548,
     "metadata": {},
     "output_type": "execute_result"
    }
   ],
   "source": [
    "## Check dimesnions of test data.\n",
    "test.shape"
   ]
  },
  {
   "cell_type": "code",
   "execution_count": 549,
   "metadata": {},
   "outputs": [
    {
     "data": {
      "text/plain": [
       "(1767, 2)"
      ]
     },
     "execution_count": 549,
     "metadata": {},
     "output_type": "execute_result"
    }
   ],
   "source": [
    "## Check dimensons of dataframe.\n",
    "dataframe.shape"
   ]
  },
  {
   "cell_type": "code",
   "execution_count": 550,
   "metadata": {},
   "outputs": [],
   "source": [
    "## Copy dataframe data into a CSV file.\n",
    "dataframe.to_csv('NeuralNetwork.csv',index=False)"
   ]
  },
  {
   "cell_type": "code",
   "execution_count": 401,
   "metadata": {},
   "outputs": [],
   "source": [
    "############################### Perform Grid Search,Ridge,Lasso ###############################################################"
   ]
  },
  {
   "cell_type": "code",
   "execution_count": 404,
   "metadata": {},
   "outputs": [],
   "source": [
    "##################################################### Ridge ###################################################################"
   ]
  },
  {
   "cell_type": "code",
   "execution_count": 406,
   "metadata": {},
   "outputs": [
    {
     "name": "stdout",
     "output_type": "stream",
     "text": [
      "GridSearchCV(cv=10, error_score=nan,\n",
      "             estimator=Ridge(alpha=1.0, copy_X=True, fit_intercept=True,\n",
      "                             max_iter=None, normalize=False, random_state=None,\n",
      "                             solver='auto', tol=0.001),\n",
      "             iid='deprecated', n_jobs=None,\n",
      "             param_grid={'alpha': array([1.0e+00, 1.0e-01, 1.0e-02, 1.0e-03, 1.0e-04, 0.0e+00, 1.5e+00,\n",
      "       2.0e+00])},\n",
      "             pre_dispatch='2*n_jobs', refit=True, return_train_score=False,\n",
      "             scoring=None, verbose=0)\n"
     ]
    }
   ],
   "source": [
    "## Ridge regression is parametric and takes a parameter alpha. The value of alpha determines the reduction in magnitude of coefficients.\n",
    "## But we also need to check which value of alpha gives best predictions on test data. For this we experiment with several values of alpha and pick the best\n",
    "## We do this by performing grid search over several values of alpha. \n",
    "alphas = np.array([1,0.1,0.01,0.001,0.0001,0,1.5,2]) ## Pick the best of these values.\n",
    "## Create and fit a ridge regression model, testing each alpha.\n",
    "model_ridge = Ridge()\n",
    "grid = GridSearchCV(estimator=model_ridge, param_grid=dict(alpha=alphas),cv=10) ## Here the argument cv=10 implies compute error on 10 chucks of data and report average value.\n",
    "grid.fit(X_train,y_train)\n",
    "print(grid)"
   ]
  },
  {
   "cell_type": "code",
   "execution_count": 407,
   "metadata": {},
   "outputs": [
    {
     "name": "stdout",
     "output_type": "stream",
     "text": [
      "0.11813011698075745\n",
      "2.0\n"
     ]
    }
   ],
   "source": [
    "## Display best params.\n",
    "print(grid.best_score_)\n",
    "print(grid.best_estimator_.alpha)"
   ]
  },
  {
   "cell_type": "code",
   "execution_count": 552,
   "metadata": {},
   "outputs": [
    {
     "data": {
      "text/plain": [
       "Ridge(alpha=2, copy_X=True, fit_intercept=True, max_iter=None, normalize=False,\n",
       "      random_state=None, solver='auto', tol=0.001)"
      ]
     },
     "execution_count": 552,
     "metadata": {},
     "output_type": "execute_result"
    }
   ],
   "source": [
    "## Instantiate Ridge and fit it.\n",
    "Ridge_model= Ridge(alpha=2,normalize=False)\n",
    "Ridge_model.fit(X_train,y_train) ## Applying it on the train data, to obtain the coefficients."
   ]
  },
  {
   "cell_type": "code",
   "execution_count": 553,
   "metadata": {},
   "outputs": [],
   "source": [
    "## Get the predictions on train and validation data.\n",
    "pred_train = Ridge_model.predict(X_train)\n",
    "pred_test = Ridge_model.predict(X_test)"
   ]
  },
  {
   "cell_type": "code",
   "execution_count": 554,
   "metadata": {},
   "outputs": [],
   "source": [
    "## Get predictions on test data.\n",
    "test_pred = Ridge_model.predict(test)"
   ]
  },
  {
   "cell_type": "code",
   "execution_count": 555,
   "metadata": {},
   "outputs": [
    {
     "name": "stdout",
     "output_type": "stream",
     "text": [
      "Train Error: 6482.602867431113\n",
      "Test Error: 6260.014516392784\n"
     ]
    }
   ],
   "source": [
    "## Display RMSE value for train and validation data.\n",
    "print(\"Train Error:\",sqrt(mean_squared_error(y_train, pred_train)))\n",
    "print(\"Test Error:\",sqrt(mean_squared_error(y_test, pred_test)))"
   ]
  },
  {
   "cell_type": "code",
   "execution_count": 556,
   "metadata": {},
   "outputs": [],
   "source": [
    "## Prepare a dataframe with test data index,prediction values.\n",
    "dataframe = pd.DataFrame({'CustomerID' : test.index,\n",
    "                          'Customer.Lifetime.Value' : test_pred})"
   ]
  },
  {
   "cell_type": "code",
   "execution_count": 557,
   "metadata": {},
   "outputs": [
    {
     "data": {
      "text/plain": [
       "(1767, 19)"
      ]
     },
     "execution_count": 557,
     "metadata": {},
     "output_type": "execute_result"
    }
   ],
   "source": [
    "## Check dimesnions of test data.\n",
    "test.shape"
   ]
  },
  {
   "cell_type": "code",
   "execution_count": 558,
   "metadata": {},
   "outputs": [
    {
     "data": {
      "text/plain": [
       "(1767, 2)"
      ]
     },
     "execution_count": 558,
     "metadata": {},
     "output_type": "execute_result"
    }
   ],
   "source": [
    "## Check dimensons of dataframe.\n",
    "dataframe.shape"
   ]
  },
  {
   "cell_type": "code",
   "execution_count": 559,
   "metadata": {},
   "outputs": [],
   "source": [
    "## Copy dataframe data into a CSV file.\n",
    "dataframe.to_csv('Ridge.csv',index=False)"
   ]
  },
  {
   "cell_type": "code",
   "execution_count": 412,
   "metadata": {},
   "outputs": [],
   "source": [
    "####################################################### Lasso #################################################################"
   ]
  },
  {
   "cell_type": "code",
   "execution_count": 414,
   "metadata": {},
   "outputs": [
    {
     "name": "stderr",
     "output_type": "stream",
     "text": [
      "C:\\Users\\nagar\\Anaconda3\\lib\\site-packages\\sklearn\\model_selection\\_validation.py:515: UserWarning: With alpha=0, this algorithm does not converge well. You are advised to use the LinearRegression estimator\n",
      "  estimator.fit(X_train, y_train, **fit_params)\n",
      "C:\\Users\\nagar\\Anaconda3\\lib\\site-packages\\sklearn\\linear_model\\_coordinate_descent.py:476: UserWarning: Coordinate descent with no regularization may lead to unexpected results and is discouraged.\n",
      "  positive)\n",
      "C:\\Users\\nagar\\Anaconda3\\lib\\site-packages\\sklearn\\linear_model\\_coordinate_descent.py:476: ConvergenceWarning: Objective did not converge. You might want to increase the number of iterations. Duality gap: 129892407148.56934, tolerance: 29716088.891394142\n",
      "  positive)\n",
      "C:\\Users\\nagar\\Anaconda3\\lib\\site-packages\\sklearn\\model_selection\\_validation.py:515: UserWarning: With alpha=0, this algorithm does not converge well. You are advised to use the LinearRegression estimator\n",
      "  estimator.fit(X_train, y_train, **fit_params)\n",
      "C:\\Users\\nagar\\Anaconda3\\lib\\site-packages\\sklearn\\linear_model\\_coordinate_descent.py:476: UserWarning: Coordinate descent with no regularization may lead to unexpected results and is discouraged.\n",
      "  positive)\n",
      "C:\\Users\\nagar\\Anaconda3\\lib\\site-packages\\sklearn\\linear_model\\_coordinate_descent.py:476: ConvergenceWarning: Objective did not converge. You might want to increase the number of iterations. Duality gap: 126935815075.81067, tolerance: 29009948.39163155\n",
      "  positive)\n",
      "C:\\Users\\nagar\\Anaconda3\\lib\\site-packages\\sklearn\\model_selection\\_validation.py:515: UserWarning: With alpha=0, this algorithm does not converge well. You are advised to use the LinearRegression estimator\n",
      "  estimator.fit(X_train, y_train, **fit_params)\n",
      "C:\\Users\\nagar\\Anaconda3\\lib\\site-packages\\sklearn\\linear_model\\_coordinate_descent.py:476: UserWarning: Coordinate descent with no regularization may lead to unexpected results and is discouraged.\n",
      "  positive)\n",
      "C:\\Users\\nagar\\Anaconda3\\lib\\site-packages\\sklearn\\linear_model\\_coordinate_descent.py:476: ConvergenceWarning: Objective did not converge. You might want to increase the number of iterations. Duality gap: 126222066138.93854, tolerance: 28837719.64281756\n",
      "  positive)\n",
      "C:\\Users\\nagar\\Anaconda3\\lib\\site-packages\\sklearn\\model_selection\\_validation.py:515: UserWarning: With alpha=0, this algorithm does not converge well. You are advised to use the LinearRegression estimator\n",
      "  estimator.fit(X_train, y_train, **fit_params)\n",
      "C:\\Users\\nagar\\Anaconda3\\lib\\site-packages\\sklearn\\linear_model\\_coordinate_descent.py:476: UserWarning: Coordinate descent with no regularization may lead to unexpected results and is discouraged.\n",
      "  positive)\n",
      "C:\\Users\\nagar\\Anaconda3\\lib\\site-packages\\sklearn\\linear_model\\_coordinate_descent.py:476: ConvergenceWarning: Objective did not converge. You might want to increase the number of iterations. Duality gap: 130879582395.47415, tolerance: 30004261.17799446\n",
      "  positive)\n",
      "C:\\Users\\nagar\\Anaconda3\\lib\\site-packages\\sklearn\\model_selection\\_validation.py:515: UserWarning: With alpha=0, this algorithm does not converge well. You are advised to use the LinearRegression estimator\n",
      "  estimator.fit(X_train, y_train, **fit_params)\n",
      "C:\\Users\\nagar\\Anaconda3\\lib\\site-packages\\sklearn\\linear_model\\_coordinate_descent.py:476: UserWarning: Coordinate descent with no regularization may lead to unexpected results and is discouraged.\n",
      "  positive)\n",
      "C:\\Users\\nagar\\Anaconda3\\lib\\site-packages\\sklearn\\linear_model\\_coordinate_descent.py:476: ConvergenceWarning: Objective did not converge. You might want to increase the number of iterations. Duality gap: 130035558238.40108, tolerance: 29770692.818691462\n",
      "  positive)\n",
      "C:\\Users\\nagar\\Anaconda3\\lib\\site-packages\\sklearn\\model_selection\\_validation.py:515: UserWarning: With alpha=0, this algorithm does not converge well. You are advised to use the LinearRegression estimator\n",
      "  estimator.fit(X_train, y_train, **fit_params)\n",
      "C:\\Users\\nagar\\Anaconda3\\lib\\site-packages\\sklearn\\linear_model\\_coordinate_descent.py:476: UserWarning: Coordinate descent with no regularization may lead to unexpected results and is discouraged.\n",
      "  positive)\n",
      "C:\\Users\\nagar\\Anaconda3\\lib\\site-packages\\sklearn\\linear_model\\_coordinate_descent.py:476: ConvergenceWarning: Objective did not converge. You might want to increase the number of iterations. Duality gap: 130411809699.12332, tolerance: 29813989.207268152\n",
      "  positive)\n",
      "C:\\Users\\nagar\\Anaconda3\\lib\\site-packages\\sklearn\\model_selection\\_validation.py:515: UserWarning: With alpha=0, this algorithm does not converge well. You are advised to use the LinearRegression estimator\n",
      "  estimator.fit(X_train, y_train, **fit_params)\n",
      "C:\\Users\\nagar\\Anaconda3\\lib\\site-packages\\sklearn\\linear_model\\_coordinate_descent.py:476: UserWarning: Coordinate descent with no regularization may lead to unexpected results and is discouraged.\n",
      "  positive)\n",
      "C:\\Users\\nagar\\Anaconda3\\lib\\site-packages\\sklearn\\linear_model\\_coordinate_descent.py:476: ConvergenceWarning: Objective did not converge. You might want to increase the number of iterations. Duality gap: 131626967121.0227, tolerance: 30242512.8677589\n",
      "  positive)\n",
      "C:\\Users\\nagar\\Anaconda3\\lib\\site-packages\\sklearn\\model_selection\\_validation.py:515: UserWarning: With alpha=0, this algorithm does not converge well. You are advised to use the LinearRegression estimator\n",
      "  estimator.fit(X_train, y_train, **fit_params)\n",
      "C:\\Users\\nagar\\Anaconda3\\lib\\site-packages\\sklearn\\linear_model\\_coordinate_descent.py:476: UserWarning: Coordinate descent with no regularization may lead to unexpected results and is discouraged.\n",
      "  positive)\n",
      "C:\\Users\\nagar\\Anaconda3\\lib\\site-packages\\sklearn\\linear_model\\_coordinate_descent.py:476: ConvergenceWarning: Objective did not converge. You might want to increase the number of iterations. Duality gap: 128219250089.80655, tolerance: 29324920.95573478\n",
      "  positive)\n",
      "C:\\Users\\nagar\\Anaconda3\\lib\\site-packages\\sklearn\\model_selection\\_validation.py:515: UserWarning: With alpha=0, this algorithm does not converge well. You are advised to use the LinearRegression estimator\n",
      "  estimator.fit(X_train, y_train, **fit_params)\n",
      "C:\\Users\\nagar\\Anaconda3\\lib\\site-packages\\sklearn\\linear_model\\_coordinate_descent.py:476: UserWarning: Coordinate descent with no regularization may lead to unexpected results and is discouraged.\n",
      "  positive)\n",
      "C:\\Users\\nagar\\Anaconda3\\lib\\site-packages\\sklearn\\linear_model\\_coordinate_descent.py:476: ConvergenceWarning: Objective did not converge. You might want to increase the number of iterations. Duality gap: 131337618610.711, tolerance: 30224647.596291\n",
      "  positive)\n",
      "C:\\Users\\nagar\\Anaconda3\\lib\\site-packages\\sklearn\\model_selection\\_validation.py:515: UserWarning: With alpha=0, this algorithm does not converge well. You are advised to use the LinearRegression estimator\n",
      "  estimator.fit(X_train, y_train, **fit_params)\n",
      "C:\\Users\\nagar\\Anaconda3\\lib\\site-packages\\sklearn\\linear_model\\_coordinate_descent.py:476: UserWarning: Coordinate descent with no regularization may lead to unexpected results and is discouraged.\n",
      "  positive)\n",
      "C:\\Users\\nagar\\Anaconda3\\lib\\site-packages\\sklearn\\linear_model\\_coordinate_descent.py:476: ConvergenceWarning: Objective did not converge. You might want to increase the number of iterations. Duality gap: 132071694206.54697, tolerance: 30235649.916227296\n",
      "  positive)\n"
     ]
    },
    {
     "name": "stdout",
     "output_type": "stream",
     "text": [
      "GridSearchCV(cv=10, error_score=nan,\n",
      "             estimator=Lasso(alpha=1.0, copy_X=True, fit_intercept=True,\n",
      "                             max_iter=1000, normalize=False, positive=False,\n",
      "                             precompute=False, random_state=None,\n",
      "                             selection='cyclic', tol=0.0001, warm_start=False),\n",
      "             iid='deprecated', n_jobs=None,\n",
      "             param_grid={'alpha': array([1.0e+00, 1.0e-01, 1.0e-02, 1.0e-03, 1.0e-04, 0.0e+00, 1.5e+00,\n",
      "       2.0e+00])},\n",
      "             pre_dispatch='2*n_jobs', refit=True, return_train_score=False,\n",
      "             scoring=None, verbose=0)\n"
     ]
    }
   ],
   "source": [
    "## Get best parameter vlaues by doing grid search.\n",
    "model_lasso = Lasso()\n",
    "grid = GridSearchCV(estimator=model_lasso, param_grid=dict(alpha=alphas),cv=10) #Here the argument cv=10 implies compute error on 10 chucks of data and report average value\n",
    "grid.fit(X_train,y_train)\n",
    "print(grid)"
   ]
  },
  {
   "cell_type": "code",
   "execution_count": 415,
   "metadata": {},
   "outputs": [
    {
     "name": "stdout",
     "output_type": "stream",
     "text": [
      "0.1181308780672993\n",
      "2.0\n"
     ]
    }
   ],
   "source": [
    "## Display best parameters.\n",
    "print(grid.best_score_)\n",
    "print(grid.best_estimator_.alpha)"
   ]
  },
  {
   "cell_type": "code",
   "execution_count": 560,
   "metadata": {},
   "outputs": [
    {
     "data": {
      "text/plain": [
       "Lasso(alpha=2.0, copy_X=True, fit_intercept=True, max_iter=1000,\n",
       "      normalize=False, positive=False, precompute=False, random_state=None,\n",
       "      selection='cyclic', tol=0.0001, warm_start=False)"
      ]
     },
     "execution_count": 560,
     "metadata": {},
     "output_type": "execute_result"
    }
   ],
   "source": [
    "## Instantiate Lasso and fit it.\n",
    "Lasso_model= Lasso(alpha=2.0,normalize=False)\n",
    "Lasso_model.fit(X_train,y_train) ## Applying it on the train data, to obtain the coefficients."
   ]
  },
  {
   "cell_type": "code",
   "execution_count": 561,
   "metadata": {},
   "outputs": [],
   "source": [
    "## Get the predictions on train and validation data.\n",
    "pred_train = Lasso_model.predict(X_train)\n",
    "pred_test = Lasso_model.predict(X_test)"
   ]
  },
  {
   "cell_type": "code",
   "execution_count": 562,
   "metadata": {},
   "outputs": [],
   "source": [
    "## Get predictions on test data.\n",
    "test_pred = Lasso_model.predict(test)"
   ]
  },
  {
   "cell_type": "code",
   "execution_count": 563,
   "metadata": {},
   "outputs": [
    {
     "name": "stdout",
     "output_type": "stream",
     "text": [
      "Train Error: 6482.608555101062\n",
      "Test Error: 6259.619971942054\n"
     ]
    }
   ],
   "source": [
    "## Display RMSE value for train and validation data.\n",
    "print(\"Train Error:\",sqrt(mean_squared_error(y_train, pred_train)))\n",
    "print(\"Test Error:\",sqrt(mean_squared_error(y_test, pred_test)))"
   ]
  },
  {
   "cell_type": "code",
   "execution_count": 564,
   "metadata": {},
   "outputs": [],
   "source": [
    "## Prepare a dataframe with test data index,prediction values.\n",
    "dataframe = pd.DataFrame({'CustomerID' : test.index,\n",
    "                          'Customer.Lifetime.Value' : test_pred})"
   ]
  },
  {
   "cell_type": "code",
   "execution_count": 565,
   "metadata": {},
   "outputs": [
    {
     "data": {
      "text/plain": [
       "(1767, 19)"
      ]
     },
     "execution_count": 565,
     "metadata": {},
     "output_type": "execute_result"
    }
   ],
   "source": [
    "## Check dimesnions of test data.\n",
    "test.shape"
   ]
  },
  {
   "cell_type": "code",
   "execution_count": 566,
   "metadata": {},
   "outputs": [
    {
     "data": {
      "text/plain": [
       "(1767, 2)"
      ]
     },
     "execution_count": 566,
     "metadata": {},
     "output_type": "execute_result"
    }
   ],
   "source": [
    "## Check dimensons of dataframe.\n",
    "dataframe.shape"
   ]
  },
  {
   "cell_type": "code",
   "execution_count": 567,
   "metadata": {},
   "outputs": [],
   "source": [
    "## Copy dataframe data into a CSV file.\n",
    "dataframe.to_csv('Lasso.csv',index=False)"
   ]
  }
 ],
 "metadata": {
  "kernelspec": {
   "display_name": "Python 3",
   "language": "python",
   "name": "python3"
  },
  "language_info": {
   "codemirror_mode": {
    "name": "ipython",
    "version": 3
   },
   "file_extension": ".py",
   "mimetype": "text/x-python",
   "name": "python",
   "nbconvert_exporter": "python",
   "pygments_lexer": "ipython3",
   "version": "3.6.5"
  },
  "toc": {
   "base_numbering": 1,
   "nav_menu": {},
   "number_sections": true,
   "sideBar": true,
   "skip_h1_title": false,
   "title_cell": "Table of Contents",
   "title_sidebar": "Contents",
   "toc_cell": false,
   "toc_position": {},
   "toc_section_display": true,
   "toc_window_display": false
  }
 },
 "nbformat": 4,
 "nbformat_minor": 2
}
