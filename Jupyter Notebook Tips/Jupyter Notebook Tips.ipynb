{
 "cells": [
  {
   "cell_type": "markdown",
   "metadata": {
    "toc": true
   },
   "source": [
    "<h1>Table of Contents<span class=\"tocSkip\"></span></h1>\n",
    "<div class=\"toc\"><ul class=\"toc-item\"><li><span><a href=\"#Reference-Link\" data-toc-modified-id=\"Reference-Link-1\"><span class=\"toc-item-num\">1&nbsp;&nbsp;</span>Reference Link</a></span><ul class=\"toc-item\"><li><span><a href=\"#If-you-get-any-doubt-on-below-content-then-please-refer-above-link-and\" data-toc-modified-id=\"If-you-get-any-doubt-on-below-content-then-please-refer-above-link-and-1.1\"><span class=\"toc-item-num\">1.1&nbsp;&nbsp;</span>If you get any doubt on below content then please refer above link and</a></span></li><li><span><a href=\"#if-ur-changes-are-not-reflecting-then-please-do-refresh-the-page-and-by\" data-toc-modified-id=\"if-ur-changes-are-not-reflecting-then-please-do-refresh-the-page-and-by-1.2\"><span class=\"toc-item-num\">1.2&nbsp;&nbsp;</span>if ur changes are not reflecting then please do refresh the page and by</a></span></li><li><span><a href=\"#loading-also-changes-are-not-reflecting-then-plese-restart-the-jupyter-notebook\" data-toc-modified-id=\"loading-also-changes-are-not-reflecting-then-plese-restart-the-jupyter-notebook-1.3\"><span class=\"toc-item-num\">1.3&nbsp;&nbsp;</span>loading also changes are not reflecting then plese restart the jupyter notebook</a></span></li><li><span><a href=\"#If-your-not-able-to-run/install-any-library-in-jupyter-notebook-then-run-those-commands-from-anaconda-prompt\" data-toc-modified-id=\"If-your-not-able-to-run/install-any-library-in-jupyter-notebook-then-run-those-commands-from-anaconda-prompt-1.4\"><span class=\"toc-item-num\">1.4&nbsp;&nbsp;</span>If your not able to run/install any library in jupyter notebook then run those commands from anaconda prompt</a></span></li></ul></li><li><span><a href=\"#Install-Jupyter-Theme\" data-toc-modified-id=\"Install-Jupyter-Theme-2\"><span class=\"toc-item-num\">2&nbsp;&nbsp;</span>Install Jupyter Theme</a></span></li><li><span><a href=\"#See-available-themes\" data-toc-modified-id=\"See-available-themes-3\"><span class=\"toc-item-num\">3&nbsp;&nbsp;</span>See available themes</a></span></li><li><span><a href=\"#set-new-theme-and-beside-one-is-revert-back-changes\" data-toc-modified-id=\"set-new-theme-and-beside-one-is-revert-back-changes-4\"><span class=\"toc-item-num\">4&nbsp;&nbsp;</span>set new theme and beside one is revert back changes</a></span></li><li><span><a href=\"#Install-notebook-extension\" data-toc-modified-id=\"Install-notebook-extension-5\"><span class=\"toc-item-num\">5&nbsp;&nbsp;</span>Install notebook extension</a></span></li><li><span><a href=\"#Install-autopep8-for-formatting-the-cell\" data-toc-modified-id=\"Install-autopep8-for-formatting-the-cell-6\"><span class=\"toc-item-num\">6&nbsp;&nbsp;</span>Install autopep8 for formatting the cell</a></span></li><li><span><a href=\"#enable-widgets\" data-toc-modified-id=\"enable-widgets-7\"><span class=\"toc-item-num\">7&nbsp;&nbsp;</span>enable widgets</a></span></li><li><span><a href=\"#check-widgets-examples\" data-toc-modified-id=\"check-widgets-examples-8\"><span class=\"toc-item-num\">8&nbsp;&nbsp;</span>check widgets examples</a></span></li><li><span><a href=\"#Advanced-Widgets\" data-toc-modified-id=\"Advanced-Widgets-9\"><span class=\"toc-item-num\">9&nbsp;&nbsp;</span>Advanced Widgets</a></span></li><li><span><a href=\"#Install-grid-library-and-enable\" data-toc-modified-id=\"Install-grid-library-and-enable-10\"><span class=\"toc-item-num\">10&nbsp;&nbsp;</span>Install grid library and enable</a></span></li><li><span><a href=\"#Slide-show\" data-toc-modified-id=\"Slide-show-11\"><span class=\"toc-item-num\">11&nbsp;&nbsp;</span>Slide show</a></span></li><li><span><a href=\"#RISE-plugin-for-slidshow\" data-toc-modified-id=\"RISE-plugin-for-slidshow-12\"><span class=\"toc-item-num\">12&nbsp;&nbsp;</span>RISE plugin for slidshow</a></span></li><li><span><a href=\"#Embedding-URLs,-PDFs,-and-Youtube-Videos\" data-toc-modified-id=\"Embedding-URLs,-PDFs,-and-Youtube-Videos-13\"><span class=\"toc-item-num\">13&nbsp;&nbsp;</span>Embedding URLs, PDFs, and Youtube Videos</a></span></li><li><span><a href=\"#Enable-necessary-extensions-in-Nbextensions-tab\" data-toc-modified-id=\"Enable-necessary-extensions-in-Nbextensions-tab-14\"><span class=\"toc-item-num\">14&nbsp;&nbsp;</span>Enable necessary extensions in Nbextensions tab</a></span></li></ul></div>"
   ]
  },
  {
   "cell_type": "markdown",
   "metadata": {},
   "source": [
    "## Reference Link"
   ]
  },
  {
   "cell_type": "markdown",
   "metadata": {},
   "source": [
    "https://towardsdatascience.com/bringing-the-best-out-of-jupyter-notebooks-for-data-science-f0871519ca29\n",
    "\n",
    "### If you get any doubt on below content then please refer above link and \n",
    "### if ur changes are not reflecting then please do refresh the page and by\n",
    "### loading also changes are not reflecting then plese restart the jupyter notebook\n",
    "### If your not able to run/install any library in jupyter notebook then run those commands from anaconda prompt "
   ]
  },
  {
   "cell_type": "markdown",
   "metadata": {},
   "source": [
    "## Install Jupyter Theme "
   ]
  },
  {
   "cell_type": "code",
   "execution_count": null,
   "metadata": {},
   "outputs": [],
   "source": [
    "## Install jupyter theme.\n",
    "!pip install jupyterthemes\n",
    "## if u  get any error try to install again and if get ImportError: cannot import name 'secure_write' ---then-----> pip install --upgrade jupyter_client "
   ]
  },
  {
   "cell_type": "markdown",
   "metadata": {},
   "source": [
    "## See available themes"
   ]
  },
  {
   "cell_type": "code",
   "execution_count": 1,
   "metadata": {
    "scrolled": true
   },
   "outputs": [
    {
     "name": "stdout",
     "output_type": "stream",
     "text": [
      "Available Themes: \n",
      "   chesterish\n",
      "   grade3\n",
      "   gruvboxd\n",
      "   gruvboxl\n",
      "   monokai\n",
      "   oceans16\n",
      "   onedork\n",
      "   solarizedd\n",
      "   solarizedl\n"
     ]
    }
   ],
   "source": [
    "## See available themes.\n",
    "!jt -l"
   ]
  },
  {
   "cell_type": "markdown",
   "metadata": {},
   "source": [
    "## set new theme and beside one is revert back changes"
   ]
  },
  {
   "cell_type": "code",
   "execution_count": null,
   "metadata": {
    "cell_style": "split"
   },
   "outputs": [],
   "source": [
    "## Set new theme.\n",
    "!jt -t chesterish  \n",
    "## Once u set the theme u need to reload the page  to see the changes."
   ]
  },
  {
   "cell_type": "code",
   "execution_count": null,
   "metadata": {
    "cell_style": "split"
   },
   "outputs": [],
   "source": [
    "## Revert back changes.\n",
    "!jt -r"
   ]
  },
  {
   "cell_type": "markdown",
   "metadata": {},
   "source": [
    "## Install notebook extension"
   ]
  },
  {
   "cell_type": "code",
   "execution_count": 1,
   "metadata": {
    "cell_style": "center",
    "scrolled": true
   },
   "outputs": [
    {
     "name": "stdout",
     "output_type": "stream",
     "text": [
      "Requirement already satisfied: jupyter_contrib_nbextensions in c:\\users\\nagar\\anaconda3\\lib\\site-packages (0.5.1)\n",
      "Requirement already satisfied: notebook>=4.0 in c:\\users\\nagar\\anaconda3\\lib\\site-packages (from jupyter_contrib_nbextensions) (6.0.3)\n",
      "Requirement already satisfied: tornado in c:\\users\\nagar\\anaconda3\\lib\\site-packages (from jupyter_contrib_nbextensions) (5.0.2)\n",
      "Requirement already satisfied: pyyaml in c:\\users\\nagar\\anaconda3\\lib\\site-packages (from jupyter_contrib_nbextensions) (3.12)\n",
      "Requirement already satisfied: ipython-genutils in c:\\users\\nagar\\anaconda3\\lib\\site-packages (from jupyter_contrib_nbextensions) (0.2.0)\n",
      "Requirement already satisfied: jupyter-latex-envs>=1.3.8 in c:\\users\\nagar\\anaconda3\\lib\\site-packages (from jupyter_contrib_nbextensions) (1.4.6)\n",
      "Requirement already satisfied: jupyter-highlight-selected-word>=0.1.1 in c:\\users\\nagar\\anaconda3\\lib\\site-packages (from jupyter_contrib_nbextensions) (0.2.0)\n",
      "Requirement already satisfied: jupyter-nbextensions-configurator>=0.4.0 in c:\\users\\nagar\\anaconda3\\lib\\site-packages (from jupyter_contrib_nbextensions) (0.4.1)\n",
      "Requirement already satisfied: traitlets>=4.1 in c:\\users\\nagar\\anaconda3\\lib\\site-packages (from jupyter_contrib_nbextensions) (4.3.2)\n",
      "Requirement already satisfied: lxml in c:\\users\\nagar\\anaconda3\\lib\\site-packages (from jupyter_contrib_nbextensions) (4.2.1)\n",
      "Requirement already satisfied: nbconvert>=4.2 in c:\\users\\nagar\\anaconda3\\lib\\site-packages (from jupyter_contrib_nbextensions) (5.3.1)\n",
      "Requirement already satisfied: jupyter-contrib-core>=0.3.3 in c:\\users\\nagar\\anaconda3\\lib\\site-packages (from jupyter_contrib_nbextensions) (0.3.3)\n",
      "Requirement already satisfied: jupyter-core in c:\\users\\nagar\\anaconda3\\lib\\site-packages (from jupyter_contrib_nbextensions) (4.6.1)\n",
      "Requirement already satisfied: pyzmq>=17 in c:\\users\\nagar\\anaconda3\\lib\\site-packages (from notebook>=4.0->jupyter_contrib_nbextensions) (17.0.0)\n",
      "Requirement already satisfied: terminado>=0.8.1 in c:\\users\\nagar\\anaconda3\\lib\\site-packages (from notebook>=4.0->jupyter_contrib_nbextensions) (0.8.1)\n",
      "Requirement already satisfied: ipykernel in c:\\users\\nagar\\anaconda3\\lib\\site-packages (from notebook>=4.0->jupyter_contrib_nbextensions) (4.8.2)\n",
      "Requirement already satisfied: Send2Trash in c:\\users\\nagar\\anaconda3\\lib\\site-packages (from notebook>=4.0->jupyter_contrib_nbextensions) (1.5.0)\n",
      "Requirement already satisfied: nbformat in c:\\users\\nagar\\anaconda3\\lib\\site-packages (from notebook>=4.0->jupyter_contrib_nbextensions) (4.4.0)\n",
      "Requirement already satisfied: jupyter-client>=5.3.4 in c:\\users\\nagar\\anaconda3\\lib\\site-packages (from notebook>=4.0->jupyter_contrib_nbextensions) (5.3.4)\n",
      "Requirement already satisfied: jinja2 in c:\\users\\nagar\\anaconda3\\lib\\site-packages (from notebook>=4.0->jupyter_contrib_nbextensions) (2.10)\n",
      "Requirement already satisfied: prometheus-client in c:\\users\\nagar\\anaconda3\\lib\\site-packages (from notebook>=4.0->jupyter_contrib_nbextensions) (0.7.1)\n",
      "Requirement already satisfied: ipython in c:\\users\\nagar\\anaconda3\\lib\\site-packages (from jupyter-latex-envs>=1.3.8->jupyter_contrib_nbextensions) (6.4.0)\n",
      "Requirement already satisfied: six in c:\\users\\nagar\\anaconda3\\lib\\site-packages (from traitlets>=4.1->jupyter_contrib_nbextensions) (1.11.0)\n",
      "Requirement already satisfied: decorator in c:\\users\\nagar\\anaconda3\\lib\\site-packages (from traitlets>=4.1->jupyter_contrib_nbextensions) (4.3.0)\n",
      "Requirement already satisfied: mistune>=0.7.4 in c:\\users\\nagar\\anaconda3\\lib\\site-packages (from nbconvert>=4.2->jupyter_contrib_nbextensions) (0.8.3)\n",
      "Requirement already satisfied: pygments in c:\\users\\nagar\\anaconda3\\lib\\site-packages (from nbconvert>=4.2->jupyter_contrib_nbextensions) (2.2.0)\n",
      "Requirement already satisfied: entrypoints>=0.2.2 in c:\\users\\nagar\\anaconda3\\lib\\site-packages (from nbconvert>=4.2->jupyter_contrib_nbextensions) (0.2.3)\n",
      "Requirement already satisfied: bleach in c:\\users\\nagar\\anaconda3\\lib\\site-packages (from nbconvert>=4.2->jupyter_contrib_nbextensions) (2.1.3)\n",
      "Requirement already satisfied: pandocfilters>=1.4.1 in c:\\users\\nagar\\anaconda3\\lib\\site-packages (from nbconvert>=4.2->jupyter_contrib_nbextensions) (1.4.2)\n",
      "Requirement already satisfied: testpath in c:\\users\\nagar\\anaconda3\\lib\\site-packages (from nbconvert>=4.2->jupyter_contrib_nbextensions) (0.3.1)\n",
      "Requirement already satisfied: setuptools in c:\\users\\nagar\\anaconda3\\lib\\site-packages (from jupyter-contrib-core>=0.3.3->jupyter_contrib_nbextensions) (42.0.2)\n",
      "Requirement already satisfied: pywin32>=1.0; sys_platform == \"win32\" in c:\\users\\nagar\\anaconda3\\lib\\site-packages (from jupyter-core->jupyter_contrib_nbextensions) (223)\n",
      "Requirement already satisfied: jsonschema!=2.5.0,>=2.4 in c:\\users\\nagar\\anaconda3\\lib\\site-packages (from nbformat->notebook>=4.0->jupyter_contrib_nbextensions) (2.6.0)\n",
      "Requirement already satisfied: python-dateutil>=2.1 in c:\\users\\nagar\\anaconda3\\lib\\site-packages (from jupyter-client>=5.3.4->notebook>=4.0->jupyter_contrib_nbextensions) (2.7.3)\n",
      "Requirement already satisfied: MarkupSafe>=0.23 in c:\\users\\nagar\\anaconda3\\lib\\site-packages (from jinja2->notebook>=4.0->jupyter_contrib_nbextensions) (1.0)\n",
      "Requirement already satisfied: backcall in c:\\users\\nagar\\anaconda3\\lib\\site-packages (from ipython->jupyter-latex-envs>=1.3.8->jupyter_contrib_nbextensions) (0.1.0)\n",
      "Requirement already satisfied: pickleshare in c:\\users\\nagar\\anaconda3\\lib\\site-packages (from ipython->jupyter-latex-envs>=1.3.8->jupyter_contrib_nbextensions) (0.7.4)\n",
      "Requirement already satisfied: prompt-toolkit<2.0.0,>=1.0.15 in c:\\users\\nagar\\anaconda3\\lib\\site-packages (from ipython->jupyter-latex-envs>=1.3.8->jupyter_contrib_nbextensions) (1.0.15)\n",
      "Requirement already satisfied: colorama; sys_platform == \"win32\" in c:\\users\\nagar\\anaconda3\\lib\\site-packages (from ipython->jupyter-latex-envs>=1.3.8->jupyter_contrib_nbextensions) (0.3.9)\n",
      "Requirement already satisfied: jedi>=0.10 in c:\\users\\nagar\\anaconda3\\lib\\site-packages (from ipython->jupyter-latex-envs>=1.3.8->jupyter_contrib_nbextensions) (0.12.0)\n",
      "Requirement already satisfied: simplegeneric>0.8 in c:\\users\\nagar\\anaconda3\\lib\\site-packages (from ipython->jupyter-latex-envs>=1.3.8->jupyter_contrib_nbextensions) (0.8.1)\n",
      "Requirement already satisfied: html5lib!=1.0b1,!=1.0b2,!=1.0b3,!=1.0b4,!=1.0b5,!=1.0b6,!=1.0b7,!=1.0b8,>=0.99999999pre in c:\\users\\nagar\\anaconda3\\lib\\site-packages (from bleach->nbconvert>=4.2->jupyter_contrib_nbextensions) (1.0.1)\n",
      "Requirement already satisfied: wcwidth in c:\\users\\nagar\\anaconda3\\lib\\site-packages (from prompt-toolkit<2.0.0,>=1.0.15->ipython->jupyter-latex-envs>=1.3.8->jupyter_contrib_nbextensions) (0.1.7)\n",
      "Requirement already satisfied: parso>=0.2.0 in c:\\users\\nagar\\anaconda3\\lib\\site-packages (from jedi>=0.10->ipython->jupyter-latex-envs>=1.3.8->jupyter_contrib_nbextensions) (0.2.0)\n",
      "Requirement already satisfied: webencodings in c:\\users\\nagar\\anaconda3\\lib\\site-packages (from html5lib!=1.0b1,!=1.0b2,!=1.0b3,!=1.0b4,!=1.0b5,!=1.0b6,!=1.0b7,!=1.0b8,>=0.99999999pre->bleach->nbconvert>=4.2->jupyter_contrib_nbextensions) (0.5.1)\n",
      "community-contributed spice for Jupyter Interactive Computing\n",
      "\n",
      "Subcommands\n",
      "\n",
      "-----------\n",
      "\n",
      "\n",
      "\n",
      "Subcommands are launched as `jupyter contrib cmd [args]`. For information on\n",
      "using subcommand 'cmd', do: `jupyter contrib cmd -h`.\n",
      "\n",
      "\n",
      "\n",
      "nbextension\n",
      "\n",
      "    Install or uninstall all of jupyter_contrib_nbextensions.\n",
      "\n",
      "nbextensions\n",
      "\n",
      "    Install or uninstall all of jupyter_contrib_nbextensions.\n",
      "\n",
      "\n",
      "Options\n",
      "\n",
      "-------\n",
      "\n",
      "\n",
      "\n",
      "Arguments that take values are actually convenience aliases to full\n",
      "Configurables, whose aliases are listed on the help line. For more information\n",
      "on full configurables, see '--help-all'.\n",
      "\n",
      "\n",
      "--debug\n",
      "\n",
      "    set log level to logging.DEBUG (maximize logging output)\n",
      "\n",
      "--generate-config\n",
      "\n",
      "    generate default config file\n",
      "\n",
      "-y\n",
      "\n",
      "    Answer yes to any questions instead of prompting.\n",
      "--log-level=<Enum> (Application.log_level)\n",
      "\n",
      "    Default: 30\n",
      "\n",
      "    Choices: (0, 10, 20, 30, 40, 50, 'DEBUG', 'INFO', 'WARN', 'ERROR', 'CRITICAL')\n",
      "\n",
      "    Set the log level by value or name.\n",
      "\n",
      "--config=<Unicode> (JupyterApp.config_file)\n",
      "\n",
      "    Default: ''\n",
      "\n",
      "    Full path of a config file.\n",
      "\n",
      "To see all available configurables, use `--help-all`\n",
      "\n"
     ]
    },
    {
     "name": "stderr",
     "output_type": "stream",
     "text": [
      "WARNING: You are using pip version 19.3.1; however, version 20.0.2 is available.\n",
      "You should consider upgrading via the 'python -m pip install --upgrade pip' command.\n",
      "Please supply at least one subcommand: nbextension, nbextensions\n",
      "'nbextension' is not recognized as an internal or external command,\n",
      "operable program or batch file.\n"
     ]
    }
   ],
   "source": [
    "## Install nbextensions (notebook extension)\n",
    "!pip install jupyter_contrib_nbextensions & & jupyter contrib nbextension install"
   ]
  },
  {
   "cell_type": "markdown",
   "metadata": {},
   "source": [
    "## Install autopep8 for formatting the cell"
   ]
  },
  {
   "cell_type": "code",
   "execution_count": null,
   "metadata": {},
   "outputs": [],
   "source": [
    "!pip install autopep8"
   ]
  },
  {
   "cell_type": "markdown",
   "metadata": {},
   "source": [
    "## enable widgets"
   ]
  },
  {
   "cell_type": "code",
   "execution_count": null,
   "metadata": {},
   "outputs": [],
   "source": [
    "!pip install ipywidgets\n",
    "!jupyter nbextension enable --py widgetsnbextension"
   ]
  },
  {
   "cell_type": "markdown",
   "metadata": {},
   "source": [
    "## check widgets examples"
   ]
  },
  {
   "cell_type": "code",
   "execution_count": 1,
   "metadata": {},
   "outputs": [],
   "source": [
    "## Import Widgets library.\n",
    "from ipywidgets import interact\n",
    "import ipywidgets as widgets"
   ]
  },
  {
   "cell_type": "code",
   "execution_count": 2,
   "metadata": {},
   "outputs": [
    {
     "data": {
      "application/vnd.jupyter.widget-view+json": {
       "model_id": "731290f783ba4ffb947e4a8ca65477c5",
       "version_major": 2,
       "version_minor": 0
      },
      "text/plain": [
       "interactive(children=(IntSlider(value=10, description='x', max=30, min=-10), Output()), _dom_classes=('widget-…"
      ]
     },
     "metadata": {},
     "output_type": "display_data"
    }
   ],
   "source": [
    "def f(x):\n",
    "    return x\n",
    "## Generate a slider.\n",
    "interact(f, x=10,);"
   ]
  },
  {
   "cell_type": "code",
   "execution_count": 3,
   "metadata": {},
   "outputs": [
    {
     "data": {
      "application/vnd.jupyter.widget-view+json": {
       "model_id": "770377cc7b6e4c8e9d9486b0b267984e",
       "version_major": 2,
       "version_minor": 0
      },
      "text/plain": [
       "interactive(children=(Checkbox(value=True, description='x'), Output()), _dom_classes=('widget-interact',))"
      ]
     },
     "metadata": {},
     "output_type": "display_data"
    }
   ],
   "source": [
    "## Booleans generate check-boxes.\n",
    "interact(f, x=True);"
   ]
  },
  {
   "cell_type": "code",
   "execution_count": 4,
   "metadata": {},
   "outputs": [
    {
     "data": {
      "application/vnd.jupyter.widget-view+json": {
       "model_id": "86421c7c0e00444e925ed433320c0e87",
       "version_major": 2,
       "version_minor": 0
      },
      "text/plain": [
       "interactive(children=(Text(value='Hi there!', description='x'), Output()), _dom_classes=('widget-interact',))"
      ]
     },
     "metadata": {},
     "output_type": "display_data"
    }
   ],
   "source": [
    "## Strings generate text areas.\n",
    "interact(f, x='Hi there!');"
   ]
  },
  {
   "cell_type": "markdown",
   "metadata": {
    "slideshow": {
     "slide_type": "slide"
    }
   },
   "source": [
    "## Advanced Widgets"
   ]
  },
  {
   "cell_type": "code",
   "execution_count": 5,
   "metadata": {
    "slideshow": {
     "slide_type": "slide"
    }
   },
   "outputs": [
    {
     "data": {
      "application/vnd.jupyter.widget-view+json": {
       "model_id": "00963e48b0e74e61be4b416601ad2ad7",
       "version_major": 2,
       "version_minor": 0
      },
      "text/plain": [
       "HBox(children=(Play(value=50, description='Press play'), IntSlider(value=0)))"
      ]
     },
     "metadata": {},
     "output_type": "display_data"
    }
   ],
   "source": [
    "## Play Widget.\n",
    "play = widgets.Play(\n",
    "    # interval=10,\n",
    "    value=50,\n",
    "    min=0,\n",
    "    max=100,\n",
    "    step=1,\n",
    "    description=\"Press play\",\n",
    "    disabled=False\n",
    ")\n",
    "slider = widgets.IntSlider()\n",
    "widgets.jslink((play, 'value'), (slider, 'value'))\n",
    "widgets.HBox([play, slider])"
   ]
  },
  {
   "cell_type": "code",
   "execution_count": 6,
   "metadata": {
    "slideshow": {
     "slide_type": "slide"
    }
   },
   "outputs": [
    {
     "data": {
      "application/vnd.jupyter.widget-view+json": {
       "model_id": "48e33d4f1d684f6fa729aeddf87c2c01",
       "version_major": 2,
       "version_minor": 0
      },
      "text/plain": [
       "DatePicker(value=None, description='Pick a Date')"
      ]
     },
     "metadata": {},
     "output_type": "display_data"
    }
   ],
   "source": [
    "## Date picker.\n",
    "widgets.DatePicker(\n",
    "    description='Pick a Date',\n",
    "    disabled=False\n",
    ")"
   ]
  },
  {
   "cell_type": "code",
   "execution_count": 8,
   "metadata": {
    "slideshow": {
     "slide_type": "slide"
    }
   },
   "outputs": [
    {
     "data": {
      "application/vnd.jupyter.widget-view+json": {
       "model_id": "406f29d2e10542b19d103623c958ada9",
       "version_major": 2,
       "version_minor": 0
      },
      "text/plain": [
       "ColorPicker(value='blue', description='Pick a color')"
      ]
     },
     "metadata": {},
     "output_type": "display_data"
    }
   ],
   "source": [
    "## Color picker.\n",
    "widgets.ColorPicker(\n",
    "    concise=False,\n",
    "    description='Pick a color',\n",
    "    value='blue',\n",
    "    disabled=False\n",
    ")"
   ]
  },
  {
   "cell_type": "code",
   "execution_count": 11,
   "metadata": {
    "scrolled": true,
    "slideshow": {
     "slide_type": "slide"
    }
   },
   "outputs": [
    {
     "data": {
      "application/vnd.jupyter.widget-view+json": {
       "model_id": "c3f4b37e25b0412bb2abb80b6a7751f3",
       "version_major": 2,
       "version_minor": 0
      },
      "text/plain": [
       "Tab(children=(Text(value='', description='P0'), Text(value='', description='P1'), Text(value='', description='…"
      ]
     },
     "metadata": {},
     "output_type": "display_data"
    }
   ],
   "source": [
    "## Tabs.\n",
    "tab_contents = ['P0', 'P1', 'P2', 'P3', 'P4']\n",
    "children = [widgets.Text(description=name) for name in tab_contents]\n",
    "tab = widgets.Tab()\n",
    "tab.children = children\n",
    "for i in range(len(children)):\n",
    "    tab.set_title(i, str(i))\n",
    "tab"
   ]
  },
  {
   "cell_type": "markdown",
   "metadata": {},
   "source": [
    "## Install grid library and enable"
   ]
  },
  {
   "cell_type": "code",
   "execution_count": null,
   "metadata": {},
   "outputs": [],
   "source": [
    "## Install grid library and enable.\n",
    "!pip install qgrid\n",
    "!jupyter nbextension enable --py --sys-prefix qgrid"
   ]
  },
  {
   "cell_type": "code",
   "execution_count": 27,
   "metadata": {},
   "outputs": [],
   "source": [
    "import pandas as pd\n",
    "data = pd.read_csv(\"CustomerData.csv\")"
   ]
  },
  {
   "cell_type": "code",
   "execution_count": 28,
   "metadata": {
    "scrolled": true
   },
   "outputs": [
    {
     "data": {
      "text/html": [
       "<div>\n",
       "<style scoped>\n",
       "    .dataframe tbody tr th:only-of-type {\n",
       "        vertical-align: middle;\n",
       "    }\n",
       "\n",
       "    .dataframe tbody tr th {\n",
       "        vertical-align: top;\n",
       "    }\n",
       "\n",
       "    .dataframe thead th {\n",
       "        text-align: right;\n",
       "    }\n",
       "</style>\n",
       "<table border=\"1\" class=\"dataframe\">\n",
       "  <thead>\n",
       "    <tr style=\"text-align: right;\">\n",
       "      <th></th>\n",
       "      <th>CustomerID</th>\n",
       "      <th>City</th>\n",
       "      <th>NoOfChildren</th>\n",
       "      <th>MinAgeOfChild</th>\n",
       "      <th>MaxAgeOfChild</th>\n",
       "      <th>Tenure</th>\n",
       "      <th>FrquncyOfPurchase</th>\n",
       "      <th>NoOfUnitsPurchased</th>\n",
       "      <th>FrequencyOFPlay</th>\n",
       "      <th>NoOfGamesPlayed</th>\n",
       "      <th>NoOfGamesBought</th>\n",
       "      <th>FavoriteChannelOfTransaction</th>\n",
       "      <th>FavoriteGame</th>\n",
       "      <th>TotalRevenueGenerated</th>\n",
       "    </tr>\n",
       "  </thead>\n",
       "  <tbody>\n",
       "    <tr>\n",
       "      <th>0</th>\n",
       "      <td>1001</td>\n",
       "      <td>1</td>\n",
       "      <td>2</td>\n",
       "      <td>3</td>\n",
       "      <td>8</td>\n",
       "      <td>210</td>\n",
       "      <td>11</td>\n",
       "      <td>11</td>\n",
       "      <td>2344</td>\n",
       "      <td>108</td>\n",
       "      <td>10</td>\n",
       "      <td>Uniform</td>\n",
       "      <td>Uniform</td>\n",
       "      <td>107.51</td>\n",
       "    </tr>\n",
       "    <tr>\n",
       "      <th>1</th>\n",
       "      <td>1002</td>\n",
       "      <td>1</td>\n",
       "      <td>2</td>\n",
       "      <td>3</td>\n",
       "      <td>6</td>\n",
       "      <td>442</td>\n",
       "      <td>20</td>\n",
       "      <td>20</td>\n",
       "      <td>245</td>\n",
       "      <td>22</td>\n",
       "      <td>7</td>\n",
       "      <td>Favorite</td>\n",
       "      <td>Uniform</td>\n",
       "      <td>382.40</td>\n",
       "    </tr>\n",
       "    <tr>\n",
       "      <th>2</th>\n",
       "      <td>1003</td>\n",
       "      <td>1</td>\n",
       "      <td>4</td>\n",
       "      <td>3</td>\n",
       "      <td>5</td>\n",
       "      <td>424</td>\n",
       "      <td>18</td>\n",
       "      <td>18</td>\n",
       "      <td>1059</td>\n",
       "      <td>130</td>\n",
       "      <td>18</td>\n",
       "      <td>Favorite</td>\n",
       "      <td>Uniform</td>\n",
       "      <td>135.01</td>\n",
       "    </tr>\n",
       "    <tr>\n",
       "      <th>3</th>\n",
       "      <td>1004</td>\n",
       "      <td>1</td>\n",
       "      <td>1</td>\n",
       "      <td>6</td>\n",
       "      <td>6</td>\n",
       "      <td>261</td>\n",
       "      <td>11</td>\n",
       "      <td>9</td>\n",
       "      <td>365</td>\n",
       "      <td>34</td>\n",
       "      <td>11</td>\n",
       "      <td>Favorite</td>\n",
       "      <td>Uniform</td>\n",
       "      <td>125.00</td>\n",
       "    </tr>\n",
       "    <tr>\n",
       "      <th>4</th>\n",
       "      <td>1005</td>\n",
       "      <td>1</td>\n",
       "      <td>3</td>\n",
       "      <td>6</td>\n",
       "      <td>9</td>\n",
       "      <td>422</td>\n",
       "      <td>44</td>\n",
       "      <td>31</td>\n",
       "      <td>1066</td>\n",
       "      <td>102</td>\n",
       "      <td>44</td>\n",
       "      <td>Uniform</td>\n",
       "      <td>Uniform</td>\n",
       "      <td>335.05</td>\n",
       "    </tr>\n",
       "  </tbody>\n",
       "</table>\n",
       "</div>"
      ],
      "text/plain": [
       "   CustomerID  City  NoOfChildren  MinAgeOfChild  MaxAgeOfChild  Tenure  \\\n",
       "0        1001     1             2              3              8     210   \n",
       "1        1002     1             2              3              6     442   \n",
       "2        1003     1             4              3              5     424   \n",
       "3        1004     1             1              6              6     261   \n",
       "4        1005     1             3              6              9     422   \n",
       "\n",
       "   FrquncyOfPurchase  NoOfUnitsPurchased  FrequencyOFPlay  NoOfGamesPlayed  \\\n",
       "0                 11                  11             2344              108   \n",
       "1                 20                  20              245               22   \n",
       "2                 18                  18             1059              130   \n",
       "3                 11                   9              365               34   \n",
       "4                 44                  31             1066              102   \n",
       "\n",
       "   NoOfGamesBought FavoriteChannelOfTransaction FavoriteGame  \\\n",
       "0               10                      Uniform      Uniform   \n",
       "1                7                     Favorite      Uniform   \n",
       "2               18                     Favorite      Uniform   \n",
       "3               11                     Favorite      Uniform   \n",
       "4               44                      Uniform      Uniform   \n",
       "\n",
       "   TotalRevenueGenerated  \n",
       "0                 107.51  \n",
       "1                 382.40  \n",
       "2                 135.01  \n",
       "3                 125.00  \n",
       "4                 335.05  "
      ]
     },
     "execution_count": 28,
     "metadata": {},
     "output_type": "execute_result"
    }
   ],
   "source": [
    "data.head()"
   ]
  },
  {
   "cell_type": "code",
   "execution_count": 29,
   "metadata": {
    "scrolled": false
   },
   "outputs": [
    {
     "data": {
      "application/vnd.jupyter.widget-view+json": {
       "model_id": "7a7ec1ad151940e8a93b361c388b230a",
       "version_major": 2,
       "version_minor": 0
      },
      "text/plain": [
       "QgridWidget(grid_options={'fullWidthRows': True, 'syncColumnCellResize': True, 'forceFitColumns': True, 'defau…"
      ]
     },
     "metadata": {},
     "output_type": "display_data"
    }
   ],
   "source": [
    "import  qgrid\n",
    "qgrid_widget = qgrid.show_grid(data,show_toolbar=True)\n",
    "qgrid_widget  ### if ur  not able to see filter tab below then refresh the page."
   ]
  },
  {
   "cell_type": "code",
   "execution_count": 31,
   "metadata": {},
   "outputs": [
    {
     "data": {
      "text/html": [
       "<div>\n",
       "<style scoped>\n",
       "    .dataframe tbody tr th:only-of-type {\n",
       "        vertical-align: middle;\n",
       "    }\n",
       "\n",
       "    .dataframe tbody tr th {\n",
       "        vertical-align: top;\n",
       "    }\n",
       "\n",
       "    .dataframe thead th {\n",
       "        text-align: right;\n",
       "    }\n",
       "</style>\n",
       "<table border=\"1\" class=\"dataframe\">\n",
       "  <thead>\n",
       "    <tr style=\"text-align: right;\">\n",
       "      <th></th>\n",
       "      <th>CustomerID</th>\n",
       "      <th>City</th>\n",
       "      <th>NoOfChildren</th>\n",
       "      <th>MinAgeOfChild</th>\n",
       "      <th>MaxAgeOfChild</th>\n",
       "      <th>Tenure</th>\n",
       "      <th>FrquncyOfPurchase</th>\n",
       "      <th>NoOfUnitsPurchased</th>\n",
       "      <th>FrequencyOFPlay</th>\n",
       "      <th>NoOfGamesPlayed</th>\n",
       "      <th>NoOfGamesBought</th>\n",
       "      <th>FavoriteChannelOfTransaction</th>\n",
       "      <th>FavoriteGame</th>\n",
       "      <th>TotalRevenueGenerated</th>\n",
       "    </tr>\n",
       "  </thead>\n",
       "  <tbody>\n",
       "    <tr>\n",
       "      <th>3204</th>\n",
       "      <td>4205</td>\n",
       "      <td>1</td>\n",
       "      <td>2</td>\n",
       "      <td>4</td>\n",
       "      <td>6</td>\n",
       "      <td>365</td>\n",
       "      <td>16</td>\n",
       "      <td>16</td>\n",
       "      <td>827</td>\n",
       "      <td>78</td>\n",
       "      <td>16</td>\n",
       "      <td>Favorite</td>\n",
       "      <td>Uniform</td>\n",
       "      <td>132.50</td>\n",
       "    </tr>\n",
       "    <tr>\n",
       "      <th>3205</th>\n",
       "      <td>4206</td>\n",
       "      <td>1</td>\n",
       "      <td>2</td>\n",
       "      <td>2</td>\n",
       "      <td>5</td>\n",
       "      <td>348</td>\n",
       "      <td>20</td>\n",
       "      <td>20</td>\n",
       "      <td>2933</td>\n",
       "      <td>294</td>\n",
       "      <td>13</td>\n",
       "      <td>Favorite</td>\n",
       "      <td>Uniform</td>\n",
       "      <td>223.23</td>\n",
       "    </tr>\n",
       "    <tr>\n",
       "      <th>3206</th>\n",
       "      <td>4207</td>\n",
       "      <td>1</td>\n",
       "      <td>2</td>\n",
       "      <td>5</td>\n",
       "      <td>7</td>\n",
       "      <td>341</td>\n",
       "      <td>16</td>\n",
       "      <td>13</td>\n",
       "      <td>1250</td>\n",
       "      <td>126</td>\n",
       "      <td>16</td>\n",
       "      <td>Uniform</td>\n",
       "      <td>Uniform</td>\n",
       "      <td>120.00</td>\n",
       "    </tr>\n",
       "    <tr>\n",
       "      <th>3207</th>\n",
       "      <td>4208</td>\n",
       "      <td>1</td>\n",
       "      <td>2</td>\n",
       "      <td>6</td>\n",
       "      <td>7</td>\n",
       "      <td>368</td>\n",
       "      <td>18</td>\n",
       "      <td>14</td>\n",
       "      <td>1364</td>\n",
       "      <td>122</td>\n",
       "      <td>18</td>\n",
       "      <td>Favorite</td>\n",
       "      <td>Uniform</td>\n",
       "      <td>161.50</td>\n",
       "    </tr>\n",
       "    <tr>\n",
       "      <th>3208</th>\n",
       "      <td>4209</td>\n",
       "      <td>1</td>\n",
       "      <td>3</td>\n",
       "      <td>2</td>\n",
       "      <td>6</td>\n",
       "      <td>389</td>\n",
       "      <td>25</td>\n",
       "      <td>17</td>\n",
       "      <td>475</td>\n",
       "      <td>111</td>\n",
       "      <td>25</td>\n",
       "      <td>Favorite</td>\n",
       "      <td>Uniform</td>\n",
       "      <td>137.50</td>\n",
       "    </tr>\n",
       "  </tbody>\n",
       "</table>\n",
       "</div>"
      ],
      "text/plain": [
       "      CustomerID  City  NoOfChildren  MinAgeOfChild  MaxAgeOfChild  Tenure  \\\n",
       "3204        4205     1             2              4              6     365   \n",
       "3205        4206     1             2              2              5     348   \n",
       "3206        4207     1             2              5              7     341   \n",
       "3207        4208     1             2              6              7     368   \n",
       "3208        4209     1             3              2              6     389   \n",
       "\n",
       "      FrquncyOfPurchase  NoOfUnitsPurchased  FrequencyOFPlay  NoOfGamesPlayed  \\\n",
       "3204                 16                  16              827               78   \n",
       "3205                 20                  20             2933              294   \n",
       "3206                 16                  13             1250              126   \n",
       "3207                 18                  14             1364              122   \n",
       "3208                 25                  17              475              111   \n",
       "\n",
       "      NoOfGamesBought FavoriteChannelOfTransaction FavoriteGame  \\\n",
       "3204               16                     Favorite      Uniform   \n",
       "3205               13                     Favorite      Uniform   \n",
       "3206               16                      Uniform      Uniform   \n",
       "3207               18                     Favorite      Uniform   \n",
       "3208               25                     Favorite      Uniform   \n",
       "\n",
       "      TotalRevenueGenerated  \n",
       "3204                 132.50  \n",
       "3205                 223.23  \n",
       "3206                 120.00  \n",
       "3207                 161.50  \n",
       "3208                 137.50  "
      ]
     },
     "execution_count": 31,
     "metadata": {},
     "output_type": "execute_result"
    }
   ],
   "source": [
    "qgrid_widget.get_changed_df()"
   ]
  },
  {
   "cell_type": "markdown",
   "metadata": {},
   "source": [
    "## Slide show"
   ]
  },
  {
   "cell_type": "code",
   "execution_count": null,
   "metadata": {},
   "outputs": [],
   "source": [
    "## select slide \n",
    "## first go to View -- Cell Toolbar -- Slidshow\n",
    "## now select the tabs which you want see slidshow \n",
    "## once your selection done then go to the place where your note book stored and open command prompt there and ennter below command\n",
    "jupyter nbconvert *.ipynb --to slides --post serve\n",
    "# insert your notebook name instead of *.ipynb\n",
    "## once you enter above command on command prompt you will navigate to browser and there you can see slide show"
   ]
  },
  {
   "cell_type": "markdown",
   "metadata": {},
   "source": [
    "## RISE plugin for slidshow"
   ]
  },
  {
   "cell_type": "code",
   "execution_count": null,
   "metadata": {},
   "outputs": [],
   "source": [
    "!pip install RISE\n",
    "!jupyter-nbextension install rise --py --sys-prefix\n",
    "!jupyter-nbextension enable rise --py --sys-prefix"
   ]
  },
  {
   "cell_type": "markdown",
   "metadata": {},
   "source": [
    "## Embedding URLs, PDFs, and Youtube Videos"
   ]
  },
  {
   "cell_type": "code",
   "execution_count": 8,
   "metadata": {
    "scrolled": true
   },
   "outputs": [
    {
     "data": {
      "text/html": [
       "\n",
       "        <iframe\n",
       "            width=\"800\"\n",
       "            height=\"450\"\n",
       "            src=\"https://towardsdatascience.com/bringing-the-best-out-of-jupyter-notebooks-for-data-science-f0871519ca29\"\n",
       "            frameborder=\"0\"\n",
       "            allowfullscreen\n",
       "        ></iframe>\n",
       "        "
      ],
      "text/plain": [
       "<IPython.lib.display.IFrame at 0x22a906447b8>"
      ]
     },
     "execution_count": 8,
     "metadata": {},
     "output_type": "execute_result"
    }
   ],
   "source": [
    "#Note that http urls will not be displayed. Only https are allowed inside the Iframe\n",
    "## URL\n",
    "from IPython.display import IFrame\n",
    "IFrame('https://towardsdatascience.com/bringing-the-best-out-of-jupyter-notebooks-for-data-science-f0871519ca29', width=800, height=450)"
   ]
  },
  {
   "cell_type": "code",
   "execution_count": 3,
   "metadata": {},
   "outputs": [
    {
     "data": {
      "text/html": [
       "\n",
       "        <iframe\n",
       "            width=\"800\"\n",
       "            height=\"450\"\n",
       "            src=\"https://arxiv.org/pdf/1406.2661.pdf\"\n",
       "            frameborder=\"0\"\n",
       "            allowfullscreen\n",
       "        ></iframe>\n",
       "        "
      ],
      "text/plain": [
       "<IPython.lib.display.IFrame at 0x22a90548fd0>"
      ]
     },
     "execution_count": 3,
     "metadata": {},
     "output_type": "execute_result"
    }
   ],
   "source": [
    "## PDF.\n",
    "from IPython.display import IFrame\n",
    "IFrame('https://arxiv.org/pdf/1406.2661.pdf', width=800, height=450)"
   ]
  },
  {
   "cell_type": "code",
   "execution_count": 6,
   "metadata": {
    "scrolled": true
   },
   "outputs": [
    {
     "data": {
      "image/jpeg": "[encoded data removed]",
      "text/html": [
       "\n",
       "        <iframe\n",
       "            width=\"800\"\n",
       "            height=\"300\"\n",
       "            src=\"https://www.youtube.com/embed/VmH8tELQ3aE\"\n",
       "            frameborder=\"0\"\n",
       "            allowfullscreen\n",
       "        ></iframe>\n",
       "        "
      ],
      "text/plain": [
       "<IPython.lib.display.YouTubeVideo at 0x22a9058a2e8>"
      ]
     },
     "execution_count": 6,
     "metadata": {},
     "output_type": "execute_result"
    }
   ],
   "source": [
    "## Youtube.\n",
    "from IPython.display import YouTubeVideo\n",
    "YouTubeVideo('VmH8tELQ3aE', width=800, height=300)"
   ]
  },
  {
   "cell_type": "markdown",
   "metadata": {},
   "source": [
    "## Enable necessary extensions in Nbextensions tab"
   ]
  },
  {
   "cell_type": "code",
   "execution_count": 37,
   "metadata": {
    "scrolled": true
   },
   "outputs": [
    {
     "data": {
      "image/png": "[encoded data removed]",
      "text/plain": [
       "<IPython.core.display.Image object>"
      ]
     },
     "execution_count": 37,
     "metadata": {},
     "output_type": "execute_result"
    }
   ],
   "source": [
    "## You have to enable following extensions to reflect the changes.\n",
    "from IPython.display import Image\n",
    "Image(filename='JupyterExtensions.png')\n"
   ]
  }
 ],
 "metadata": {
  "celltoolbar": "Slideshow",
  "kernelspec": {
   "display_name": "Python 3",
   "language": "python",
   "name": "python3"
  },
  "language_info": {
   "codemirror_mode": {
    "name": "ipython",
    "version": 3
   },
   "file_extension": ".py",
   "mimetype": "text/x-python",
   "name": "python",
   "nbconvert_exporter": "python",
   "pygments_lexer": "ipython3",
   "version": "3.6.5"
  },
  "toc": {
   "base_numbering": 1,
   "nav_menu": {},
   "number_sections": true,
   "sideBar": true,
   "skip_h1_title": false,
   "title_cell": "Table of Contents",
   "title_sidebar": "Contents",
   "toc_cell": true,
   "toc_position": {
    "height": "calc(100% - 180px)",
    "left": "10px",
    "top": "150px",
    "width": "307.2px"
   },
   "toc_section_display": true,
   "toc_window_display": true
  }
 },
 "nbformat": 4,
 "nbformat_minor": 2
}
