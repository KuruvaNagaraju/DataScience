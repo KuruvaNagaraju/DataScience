{
 "cells": [
  {
   "cell_type": "markdown",
   "metadata": {},
   "source": [
    "# <center>**Python Introduction**</center>\n",
    "---\n",
    "\n",
    "### **1. Primary Data Types**\n",
    "- (integer, float, string, boolean)\n",
    "\n",
    "### **2. Containers/Secondary Data Types**\n",
    "- (list, dictionary, tuple)\n",
    "\n",
    "### **3. General Operations**\n",
    "- Type-casting\n",
    "- Relational operators\n",
    "- Logical operators\n",
    "- Membership operators\n",
    "\n",
    "### **4. Basic Programming Constructs**\n",
    "- Conditional Statements\n",
    "- Looping\n",
    "- Functions\n",
    "\n",
    "### **5. Nuances between R and Python**\n",
    "\n",
    "### **6. List Operations**\n",
    "\n",
    "### **7. Dictionary Operations**\n",
    "\n",
    "### **8. String Operations**\n",
    "\n",
    "<br>"
   ]
  },
  {
   "cell_type": "markdown",
   "metadata": {},
   "source": [
    "## **Basic tips**\n",
    "---\n",
    "**Mathematical operations (+, -, *, /, %)** can be used just like any programming language\n",
    "\n",
    "**#** can be used for comments. Using this ahead of line with signal the compiler to not execute the line as a command\n",
    "\n",
    "**print()** will print the value stored in the variable. You can also give multiple arguments to the print function seperated by commas.\n",
    "\n",
    "**type()** will print the class of the variable\n",
    "<br><br>"
   ]
  },
  {
   "cell_type": "markdown",
   "metadata": {},
   "source": [
    "## **1. Primary Data Types**\n",
    "---"
   ]
  },
  {
   "cell_type": "code",
   "execution_count": 1,
   "metadata": {},
   "outputs": [
    {
     "name": "stdout",
     "output_type": "stream",
     "text": [
      "75000\n",
      "<class 'int'>\n"
     ]
    }
   ],
   "source": [
    "## Store ineteger into price variable and display it's value and type.\n",
    "price = 75000\n",
    "print(price)\n",
    "print(type(price))"
   ]
  },
  {
   "cell_type": "code",
   "execution_count": 2,
   "metadata": {},
   "outputs": [
    {
     "name": "stdout",
     "output_type": "stream",
     "text": [
      "187.5\n",
      "<class 'float'>\n"
     ]
    }
   ],
   "source": [
    "## Store float into weight variable and display it's value and type.\n",
    "weight = 187.5\n",
    "print(weight)\n",
    "print(type(weight))"
   ]
  },
  {
   "cell_type": "code",
   "execution_count": 3,
   "metadata": {},
   "outputs": [
    {
     "name": "stdout",
     "output_type": "stream",
     "text": [
      "True\n",
      "<class 'bool'>\n"
     ]
    }
   ],
   "source": [
    "## Store boolean into sold variable and display it's value and type.\n",
    "sold = True\n",
    "print(sold)\n",
    "print(type(sold))"
   ]
  },
  {
   "cell_type": "code",
   "execution_count": 4,
   "metadata": {},
   "outputs": [
    {
     "name": "stdout",
     "output_type": "stream",
     "text": [
      "Iphone 11\n",
      "<class 'str'>\n"
     ]
    }
   ],
   "source": [
    "## Store strinng into name variable and display it's value and type.\n",
    "name = \"Iphone 11\"\n",
    "print(name)\n",
    "print(type(name))"
   ]
  },
  {
   "cell_type": "markdown",
   "metadata": {
    "collapsed": true
   },
   "source": [
    "<br><br><br>\n",
    "\n",
    "## **2. Containers/Secondary Data Types**\n",
    "---"
   ]
  },
  {
   "cell_type": "markdown",
   "metadata": {},
   "source": [
    "### **List = [item1, item2, item3]**\n",
    "#### A list is the Python equivalent of an array, but is resizeable and can contain elements of different types"
   ]
  },
  {
   "cell_type": "code",
   "execution_count": 9,
   "metadata": {},
   "outputs": [
    {
     "name": "stdout",
     "output_type": "stream",
     "text": [
      "[1, 2, 3, 4, 5]\n"
     ]
    }
   ],
   "source": [
    "## Initilizing a list with integers and display it.\n",
    "my_list = [1,2,3,4,5]\n",
    "\n",
    "print(my_list)"
   ]
  },
  {
   "cell_type": "code",
   "execution_count": 10,
   "metadata": {
    "scrolled": true
   },
   "outputs": [
    {
     "data": {
      "text/plain": [
       "3"
      ]
     },
     "execution_count": 10,
     "metadata": {},
     "output_type": "execute_result"
    }
   ],
   "source": [
    "## Accessing list item at a given position.\n",
    "my_list[2]"
   ]
  },
  {
   "cell_type": "code",
   "execution_count": 11,
   "metadata": {},
   "outputs": [
    {
     "name": "stdout",
     "output_type": "stream",
     "text": [
      "<class 'list'>\n",
      "[1, 2.4, 'string', True]\n"
     ]
    }
   ],
   "source": [
    "## Initialize list with diiferen types and display it's type and value.\n",
    "l= [1,2.4,'string',True]\n",
    "print(type(l))\n",
    "print(l)"
   ]
  },
  {
   "cell_type": "code",
   "execution_count": 12,
   "metadata": {},
   "outputs": [
    {
     "name": "stdout",
     "output_type": "stream",
     "text": [
      "[1, 2.4, 'string', False]\n"
     ]
    }
   ],
   "source": [
    "## Assign boolean value in 3rd position of list and display it.\n",
    "l[3] = False\n",
    "print(l)"
   ]
  },
  {
   "cell_type": "markdown",
   "metadata": {},
   "source": [
    "**Note - Python indexing starts from 0**"
   ]
  },
  {
   "cell_type": "markdown",
   "metadata": {},
   "source": [
    "### **Tuple = (value1, value2)**\n",
    "#### A tuple is an (immutable) ordered list of values."
   ]
  },
  {
   "cell_type": "code",
   "execution_count": 1,
   "metadata": {
    "scrolled": true
   },
   "outputs": [
    {
     "name": "stdout",
     "output_type": "stream",
     "text": [
      "(1, 2.4, 'string', True)\n",
      "<class 'tuple'>\n",
      "(1, 2.4, 'string', True)\n",
      "<class 'tuple'>\n"
     ]
    }
   ],
   "source": [
    "## Initialize tuple with different types.\n",
    "my_tuple = (1,2.4,'string',True)\n",
    "print(my_tuple)\n",
    "print(type(my_tuple))\n",
    "\n",
    "\n",
    "tup = (1,2.4,'string',True)\n",
    "print(tup)\n",
    "print(type(tup))"
   ]
  },
  {
   "cell_type": "code",
   "execution_count": null,
   "metadata": {},
   "outputs": [],
   "source": [
    "## Once we initialize tuple,we can't modify.\n",
    "## tup[3] = False"
   ]
  },
  {
   "cell_type": "markdown",
   "metadata": {},
   "source": [
    "### **Dictionary = {key1:value1, key2:value2}**\n",
    "#### A dictionary stores (key, value) pairs."
   ]
  },
  {
   "cell_type": "code",
   "execution_count": 18,
   "metadata": {},
   "outputs": [
    {
     "name": "stdout",
     "output_type": "stream",
     "text": [
      "{'cat': 'cute', 'dog': 'furry'}\n"
     ]
    }
   ],
   "source": [
    "## Create a new dictionary with animal data and display it.\n",
    "my_dict = {'cat': 'cute', 'dog': 'furry'} \n",
    "print(my_dict)"
   ]
  },
  {
   "cell_type": "code",
   "execution_count": 19,
   "metadata": {
    "scrolled": true
   },
   "outputs": [
    {
     "data": {
      "text/plain": [
       "'cute'"
      ]
     },
     "execution_count": 19,
     "metadata": {},
     "output_type": "execute_result"
    }
   ],
   "source": [
    "## Get the value corresponding to the key='cat'.\n",
    "my_dict['cat']"
   ]
  },
  {
   "cell_type": "markdown",
   "metadata": {},
   "source": [
    "<br><br><br>\n",
    "## **3. General Operations**\n",
    "---"
   ]
  },
  {
   "cell_type": "markdown",
   "metadata": {},
   "source": [
    "### A) Explicit data-type conversion (type-casting)"
   ]
  },
  {
   "cell_type": "code",
   "execution_count": 4,
   "metadata": {},
   "outputs": [
    {
     "name": "stdout",
     "output_type": "stream",
     "text": [
      "40\n",
      "<class 'int'>\n",
      "5\n",
      "<class 'str'>\n"
     ]
    }
   ],
   "source": [
    "## Store integer and string value into varibles and display it's value and type.\n",
    "apple = 40\n",
    "banana = '5'\n",
    "print(apple)\n",
    "print(type(apple))\n",
    "print(banana)\n",
    "print(type(banana))"
   ]
  },
  {
   "cell_type": "code",
   "execution_count": 10,
   "metadata": {},
   "outputs": [],
   "source": [
    "## We can't perform mathematical operation on numerics with string.\n",
    "## apple + banana"
   ]
  },
  {
   "cell_type": "markdown",
   "metadata": {},
   "source": [
    "**Note - The above error is because we are performing an incompatible operation. i.e. adding an integer to string.**\n",
    "\n",
    "**In such scenarios we type-cast (change the data type) of the variable into appropriate type**"
   ]
  },
  {
   "cell_type": "code",
   "execution_count": 11,
   "metadata": {},
   "outputs": [
    {
     "data": {
      "text/plain": [
       "45"
      ]
     },
     "execution_count": 11,
     "metadata": {},
     "output_type": "execute_result"
    }
   ],
   "source": [
    "## Converting value of banana (previously string) into integer.\n",
    "banana = int(banana)\n",
    "\n",
    "apple + banana"
   ]
  },
  {
   "cell_type": "markdown",
   "metadata": {},
   "source": [
    "### B) Relational Operators (returns a boolean after evaluating the expression)"
   ]
  },
  {
   "cell_type": "code",
   "execution_count": 28,
   "metadata": {},
   "outputs": [
    {
     "name": "stdout",
     "output_type": "stream",
     "text": [
      "10 == 10 True\n",
      "10 != 20 True\n",
      "10 > 10 False\n",
      "10 < 20 True\n",
      "10 <= 10 True\n"
     ]
    }
   ],
   "source": [
    "print(\"10 == 10\", 10 == 10)  # Equal to comparision\n",
    "print(\"10 != 20\", 10 != 20)  # Not equal to comparision\n",
    "print(\"10 > 10\", 10 > 10)    # Greater than\n",
    "print(\"10 < 20\", 10 < 20)    # Smaller than\n",
    "print(\"10 <= 10\", 10 <= 10)  # Smaller OR Equal to"
   ]
  },
  {
   "cell_type": "markdown",
   "metadata": {},
   "source": [
    "### C) Logical Operations (returns a boolean after evaluating the expression)\n",
    "**Logical operations usually make sense with boolean variables**"
   ]
  },
  {
   "cell_type": "code",
   "execution_count": 29,
   "metadata": {},
   "outputs": [],
   "source": [
    "t = True\n",
    "f = False"
   ]
  },
  {
   "cell_type": "code",
   "execution_count": 30,
   "metadata": {},
   "outputs": [
    {
     "name": "stdout",
     "output_type": "stream",
     "text": [
      "True\n",
      "True\n",
      "True\n",
      "False\n"
     ]
    }
   ],
   "source": [
    "## OR\n",
    "print(t or f)\n",
    "print(t or t)\n",
    "print(f or t)\n",
    "print(f or f)"
   ]
  },
  {
   "cell_type": "code",
   "execution_count": 31,
   "metadata": {},
   "outputs": [
    {
     "name": "stdout",
     "output_type": "stream",
     "text": [
      "False\n",
      "True\n",
      "False\n",
      "False\n"
     ]
    }
   ],
   "source": [
    "## AND\n",
    "print(t and f)\n",
    "print(t and t)\n",
    "print(f and t)\n",
    "print(f and f)"
   ]
  },
  {
   "cell_type": "markdown",
   "metadata": {},
   "source": [
    "### D) Membership operator"
   ]
  },
  {
   "cell_type": "code",
   "execution_count": 32,
   "metadata": {},
   "outputs": [
    {
     "data": {
      "text/plain": [
       "True"
      ]
     },
     "execution_count": 32,
     "metadata": {},
     "output_type": "execute_result"
    }
   ],
   "source": [
    "my_list = [\"R\",\"Python\",\"SQL\"]\n",
    "\n",
    "'R' in my_list  ## It will check whether element present or not,if present return Ture else False."
   ]
  },
  {
   "cell_type": "markdown",
   "metadata": {},
   "source": [
    "<br><br>\n",
    "## **4. Basic Programming Constructs**\n",
    "\n",
    "---"
   ]
  },
  {
   "cell_type": "markdown",
   "metadata": {},
   "source": [
    "### **A) Conditional Statments**"
   ]
  },
  {
   "cell_type": "code",
   "execution_count": 33,
   "metadata": {},
   "outputs": [
    {
     "data": {
      "image/png": "[encoded data removed]",
      "text/plain": [
       "<IPython.core.display.Image object>"
      ]
     },
     "execution_count": 33,
     "metadata": {},
     "output_type": "execute_result"
    }
   ],
   "source": [
    "from IPython.display import Image\n",
    "Image(filename='img/ifelse.png')"
   ]
  },
  {
   "cell_type": "code",
   "execution_count": 34,
   "metadata": {
    "scrolled": true
   },
   "outputs": [
    {
     "name": "stdout",
     "output_type": "stream",
     "text": [
      "Congrats! You passed the course\n"
     ]
    }
   ],
   "source": [
    "## If student gets more than 35 marks then display pass else fail.\n",
    "passing_marks = 50\n",
    "student_marks = 90\n",
    "\n",
    "if (student_marks > passing_marks):\n",
    "    print(\"Congrats! You passed the course\")\n",
    "else:\n",
    "    print(\"Ahh! You failed\")"
   ]
  },
  {
   "cell_type": "code",
   "execution_count": 12,
   "metadata": {},
   "outputs": [
    {
     "name": "stdout",
     "output_type": "stream",
     "text": [
      "Java is a programming language\n",
      "All programming languages are goood\n"
     ]
    }
   ],
   "source": [
    "lang=[\"R\",\"Python\"]\n",
    "var=\"Java\"\n",
    "if(var in lang):\n",
    "    print(var+\" is a programming language\")\n",
    "if var == \"Python\":\n",
    "    print(var+\" is a Script programming language\")\n",
    "else:\n",
    "    print(var+\" is a programming language\")\n",
    "print(\"All programming languages are goood\")"
   ]
  },
  {
   "cell_type": "markdown",
   "metadata": {
    "solution2": "shown",
    "solution2_first": true
   },
   "source": [
    "### Extend the if-else contruct to incorporate excellence award check [excellence_criteria >= 70]"
   ]
  },
  {
   "cell_type": "code",
   "execution_count": 13,
   "metadata": {
    "solution2": "shown"
   },
   "outputs": [
    {
     "name": "stdout",
     "output_type": "stream",
     "text": [
      "Excellent You have passed in distinction and your percentage is 75\n",
      "Regards, \n",
      "Board.\n"
     ]
    }
   ],
   "source": [
    "student_marks=75\n",
    "passing_marks=35\n",
    "if(student_marks>=35):\n",
    "    if(student_marks>=70):\n",
    "        print(\"Excellent You have passed in distinction and your percentage is\",student_marks)\n",
    "    else:\n",
    "        print(\"Pass\")\n",
    "else:\n",
    "    print(\"Failed\")\n",
    "        \n",
    "print(\"Regards, \\nBoard.\")"
   ]
  },
  {
   "cell_type": "markdown",
   "metadata": {},
   "source": [
    "### **B) Functions**"
   ]
  },
  {
   "cell_type": "code",
   "execution_count": 14,
   "metadata": {},
   "outputs": [],
   "source": [
    "## Function is used to calculate area of the square.\n",
    "def area(l,b):\n",
    "    total_area = l * b\n",
    "    return total_area"
   ]
  },
  {
   "cell_type": "code",
   "execution_count": 15,
   "metadata": {
    "scrolled": true
   },
   "outputs": [
    {
     "name": "stdout",
     "output_type": "stream",
     "text": [
      "Area = 100\n"
     ]
    }
   ],
   "source": [
    "## Now you can use this function multiple times with different input values.\n",
    "a1 = area(10,10)\n",
    "print(\"Area =\",a1)"
   ]
  },
  {
   "cell_type": "markdown",
   "metadata": {
    "solution2": "shown",
    "solution2_first": true
   },
   "source": [
    "### Activity 2 - Write a function that returns the quadrilateral type square (OR) rectangle along with the area.\n",
    "E.g.1: \"Square area = 100\" \n",
    "\n",
    "E.g.2: \"Rectangle area = 200\"\n",
    "\n",
    "Hint - Return a string"
   ]
  },
  {
   "cell_type": "code",
   "execution_count": 17,
   "metadata": {},
   "outputs": [
    {
     "name": "stdout",
     "output_type": "stream",
     "text": [
      "Rectangular area = 12\n",
      "('Squre area = ', 4)\n"
     ]
    }
   ],
   "source": [
    "def area(length,breath):\n",
    "    if(length==breath):\n",
    "        return \"Squre area = \",length**2  ## ** equivalent pow(length,2)\n",
    "    else:\n",
    "        return \"Rectangular area = \"+str(length*breath)\n",
    "    \n",
    "print(area(2,6))\n",
    "print(area(2,2))"
   ]
  },
  {
   "cell_type": "markdown",
   "metadata": {},
   "source": [
    "### **C) Looping Statements**"
   ]
  },
  {
   "cell_type": "code",
   "execution_count": 18,
   "metadata": {},
   "outputs": [
    {
     "name": "stdout",
     "output_type": "stream",
     "text": [
      "1\n",
      "4\n",
      "9\n",
      "16\n",
      "25\n"
     ]
    }
   ],
   "source": [
    "## Initialize the list.\n",
    "looping_list = [1,2,3,4,5]\n",
    "\n",
    "## Loop that returns square of each number in the list.\n",
    "for i in looping_list:\n",
    "    print(i ** 2)"
   ]
  },
  {
   "cell_type": "code",
   "execution_count": 22,
   "metadata": {
    "scrolled": true
   },
   "outputs": [
    {
     "name": "stdout",
     "output_type": "stream",
     "text": [
      "2\n",
      "3\n",
      "4\n",
      "5\n",
      "6\n",
      "7\n",
      "8\n",
      "9\n"
     ]
    }
   ],
   "source": [
    "## Print values from 2-9.\n",
    "for i in range(2,10):\n",
    "    print(i)"
   ]
  },
  {
   "cell_type": "code",
   "execution_count": 25,
   "metadata": {},
   "outputs": [
    {
     "name": "stdout",
     "output_type": "stream",
     "text": [
      "Company: UHG\n",
      "Employee: Nagaraju\n",
      "IT\n",
      "474\n"
     ]
    }
   ],
   "source": [
    "## Create a list with different types process through for loop.\n",
    "info=[\"Company: UHG\",\"Employee: Nagaraju\",\"IT\",\n",
    "      474]\n",
    "for element in info:\n",
    "    print(element)"
   ]
  },
  {
   "cell_type": "code",
   "execution_count": 26,
   "metadata": {},
   "outputs": [
    {
     "name": "stdout",
     "output_type": "stream",
     "text": [
      "0 Company: UHG\n",
      "1 Employee: Nagaraju\n",
      "2 IT\n",
      "3 474\n"
     ]
    }
   ],
   "source": [
    "## Process info with enumerate() function.\n",
    "for index,data in enumerate(info):\n",
    "    print(index,data)"
   ]
  },
  {
   "cell_type": "markdown",
   "metadata": {},
   "source": [
    "### Write a function that takes a list as input and prints all even numbers"
   ]
  },
  {
   "cell_type": "code",
   "execution_count": 20,
   "metadata": {
    "scrolled": true
   },
   "outputs": [
    {
     "name": "stdout",
     "output_type": "stream",
     "text": [
      "2\n",
      "32\n",
      "6\n"
     ]
    }
   ],
   "source": [
    "def even(input_list):\n",
    "    for i in input_list:\n",
    "        if(i%2==0):\n",
    "            print(i)\n",
    "            \n",
    "even([2,99,51,32,6,11,29,21])"
   ]
  },
  {
   "cell_type": "markdown",
   "metadata": {},
   "source": [
    "# **5.Nuances between R vs Python**"
   ]
  },
  {
   "cell_type": "markdown",
   "metadata": {},
   "source": [
    "### A) Size of a container"
   ]
  },
  {
   "cell_type": "code",
   "execution_count": 1,
   "metadata": {},
   "outputs": [
    {
     "name": "stdout",
     "output_type": "stream",
     "text": [
      "Length of list1 = 5\n",
      "Lenth of dict1 = 3\n"
     ]
    }
   ],
   "source": [
    "## R uses length() fucntion.\n",
    "## Python uses len() fucntion.\n",
    "\n",
    "## Create a list with integers and print it's length.\n",
    "list1 = [10, 20, 30, 40, 50]\n",
    "print('Length of list1 =',len(list1))\n",
    "\n",
    "## Create a dictionary and print it's length.\n",
    "dict1 = {1:'Apple',2:'Google',3:'IBM'}\n",
    "print('Lenth of dict1 =',len(dict1))"
   ]
  },
  {
   "cell_type": "markdown",
   "metadata": {},
   "source": [
    "### B) Check data type"
   ]
  },
  {
   "cell_type": "code",
   "execution_count": 3,
   "metadata": {},
   "outputs": [
    {
     "name": "stdout",
     "output_type": "stream",
     "text": [
      "<class 'str'> <class 'str'> <class 'int'>\n"
     ]
    }
   ],
   "source": [
    "## R uses class() function.\n",
    "## Python uses type() function.\n",
    "\n",
    "x = 'UHG'\n",
    "y = '2020'\n",
    "z = 2020 \n",
    "print(type(x),type(y),type(z))"
   ]
  },
  {
   "cell_type": "markdown",
   "metadata": {},
   "source": [
    "### C) Indexing\n",
    "- R indexing starts from 1\n",
    "- Python indexing starts from 0"
   ]
  },
  {
   "cell_type": "code",
   "execution_count": 4,
   "metadata": {},
   "outputs": [
    {
     "name": "stdout",
     "output_type": "stream",
     "text": [
      "list2[1] => 20\n"
     ]
    }
   ],
   "source": [
    "list2 = [10,20,30,40,50]\n",
    "print(\"list2[1] =>\", list2[1])"
   ]
  },
  {
   "cell_type": "markdown",
   "metadata": {},
   "source": [
    "### Note - **id( )** can be used to check memory location of a variable in python"
   ]
  },
  {
   "cell_type": "code",
   "execution_count": 5,
   "metadata": {},
   "outputs": [
    {
     "data": {
      "text/plain": [
       "1628661642000"
      ]
     },
     "execution_count": 5,
     "metadata": {},
     "output_type": "execute_result"
    }
   ],
   "source": [
    "apple = 474\n",
    "id(apple)"
   ]
  },
  {
   "cell_type": "markdown",
   "metadata": {},
   "source": [
    "### D) Containers and Secondary data types like **List, Dictionary** and **Set** are **mutable**. These behave differently *(compared to R)* when their copies are modified."
   ]
  },
  {
   "cell_type": "code",
   "execution_count": 6,
   "metadata": {},
   "outputs": [
    {
     "name": "stdout",
     "output_type": "stream",
     "text": [
      "Fruits [20, 30, 40, 50] 1628661689352\n",
      "Veggies [20, 30, 40, 50] 1628661689352 \n",
      "\n",
      "Fruits [20, 30, 40, 99] 1628661689352\n",
      "Veggies [20, 30, 40, 99] 1628661689352\n"
     ]
    }
   ],
   "source": [
    "Fruits = [20,30,40,50]\n",
    "Veggies = Fruits\n",
    "print(\"Fruits\",Fruits,id(Fruits))\n",
    "print(\"Veggies\",Veggies,id(Veggies),\"\\n\")\n",
    "\n",
    "Fruits[3] = 99\n",
    "print(\"Fruits\",Fruits,id(Fruits))\n",
    "print(\"Veggies\",Veggies,id(Veggies))"
   ]
  },
  {
   "cell_type": "markdown",
   "metadata": {},
   "source": [
    "### NOTE\n",
    "**This is because Python creates a shallow copy when mutable objects (Containers and Secondary data types) are replicated.**\n",
    "\n",
    "**Most of the times the above behaviour is not desirable in data science pipeline.**\n",
    "\n",
    "**Hence we prefer deep-copy against which ensures that a hard replica (with seperate memory location) is created.**\n",
    "\n",
    "**R by default follows copy-on-modify semantics, which is synonymous to deep-copy**"
   ]
  },
  {
   "cell_type": "markdown",
   "metadata": {},
   "source": [
    "### E) Deep Copy\n",
    "#### **Going ahead data will be usually stored in containers/secondary data types. You should always use while making replicas/backup of your data.**"
   ]
  },
  {
   "cell_type": "code",
   "execution_count": 8,
   "metadata": {},
   "outputs": [
    {
     "name": "stdout",
     "output_type": "stream",
     "text": [
      "Fruits [20, 30, 40, 50] 1628661686600\n",
      "Veggies [20, 30, 40, 50] 1628661686792 \n",
      "\n",
      "Fruits [20, 30, 40, 99] 1628661686600\n",
      "Veggies [20, 30, 40, 50] 1628661686792\n"
     ]
    }
   ],
   "source": [
    "Fruits = [20,30,40,50]\n",
    "Veggies = Fruits.copy()\n",
    "print(\"Fruits\",Fruits,id(Fruits))\n",
    "print(\"Veggies\",Veggies,id(Veggies),\"\\n\")\n",
    "\n",
    "Fruits[3] = 99\n",
    "print(\"Fruits\",Fruits,id(Fruits))\n",
    "print(\"Veggies\",Veggies,id(Veggies))"
   ]
  },
  {
   "cell_type": "markdown",
   "metadata": {},
   "source": [
    "# **6. List Operations**"
   ]
  },
  {
   "cell_type": "markdown",
   "metadata": {},
   "source": [
    "### A) Generating a sequence "
   ]
  },
  {
   "cell_type": "code",
   "execution_count": 9,
   "metadata": {},
   "outputs": [
    {
     "name": "stdout",
     "output_type": "stream",
     "text": [
      "sequence1 = [0, 1, 2, 3, 4, 5, 6, 7, 8, 9, 10, 11, 12, 13, 14, 15, 16, 17, 18, 19]\n",
      "sequence2 = [50, 51, 52, 53, 54, 55, 56, 57, 58, 59]\n",
      "sequence3 = [100, 110, 120, 130, 140]\n"
     ]
    }
   ],
   "source": [
    "## Creates sequence of 20 elements starting from 0.\n",
    "sequence1 = list(range(20))\n",
    "print('sequence1 =',sequence1)\n",
    "\n",
    "## Custom sequence from specific start and end points.\n",
    "sequence2 = list(range(50,60))\n",
    "print('sequence2 =',sequence2)\n",
    "\n",
    "## Custom sequence from specific start and end points with variable leap.\n",
    "sequence3 = list(range(100,150,10))\n",
    "print('sequence3 =',sequence3)"
   ]
  },
  {
   "cell_type": "markdown",
   "metadata": {},
   "source": [
    "### B) Iterating a list"
   ]
  },
  {
   "cell_type": "code",
   "execution_count": 11,
   "metadata": {},
   "outputs": [
    {
     "name": "stdout",
     "output_type": "stream",
     "text": [
      "cat\n",
      "dog\n",
      "monkey\n"
     ]
    }
   ],
   "source": [
    "## Process each animal name using for loop.\n",
    "animals = ['cat', 'dog', 'monkey']\n",
    "for animal in animals:\n",
    "    print(animal)"
   ]
  },
  {
   "cell_type": "code",
   "execution_count": 12,
   "metadata": {},
   "outputs": [
    {
     "name": "stdout",
     "output_type": "stream",
     "text": [
      "Index 1 cat\n",
      "Index 2 dog\n",
      "Index 3 monkey\n"
     ]
    }
   ],
   "source": [
    "# Process each animal name with index using enumerate() function and for loop.\n",
    "animals = ['cat', 'dog', 'monkey']\n",
    "for idx, animal in enumerate(animals):\n",
    "    print('Index', idx + 1, animal)"
   ]
  },
  {
   "cell_type": "markdown",
   "metadata": {},
   "source": [
    "### C) Slicing the list"
   ]
  },
  {
   "cell_type": "code",
   "execution_count": 18,
   "metadata": {
    "scrolled": true
   },
   "outputs": [
    {
     "data": {
      "image/png": "[encoded data removed]",
      "text/plain": [
       "<IPython.core.display.Image object>"
      ]
     },
     "execution_count": 18,
     "metadata": {},
     "output_type": "execute_result"
    }
   ],
   "source": [
    "from IPython.display import Image\n",
    "Image(filename='img/indexing.png')"
   ]
  },
  {
   "cell_type": "markdown",
   "metadata": {},
   "source": [
    "### Note - start argument in inclusive but end argument in exclusive"
   ]
  },
  {
   "cell_type": "code",
   "execution_count": 15,
   "metadata": {},
   "outputs": [
    {
     "name": "stdout",
     "output_type": "stream",
     "text": [
      "['a', 'b', 'c', 'd', 'e', 'f']\n",
      "['c', 'd', 'e']\n",
      "['c', 'd', 'e', 'f']\n",
      "['a', 'b']\n"
     ]
    }
   ],
   "source": [
    "chars = ['a','b','c','d','e','f']    \n",
    "print(chars)                   ## Prints whole list.\n",
    "print(chars[2:5])              ## Get a slice from index 2 to 4 (exclusive)\n",
    "print(chars[2:])               ## Get a slice from index 2 to the end\n",
    "print(chars[:2])               ## Get a slice from the start to index 2 (exclusive)"
   ]
  },
  {
   "cell_type": "code",
   "execution_count": 16,
   "metadata": {},
   "outputs": [
    {
     "name": "stdout",
     "output_type": "stream",
     "text": [
      "['e', 'f']\n",
      "['a', 'b', 'c', 'd']\n"
     ]
    }
   ],
   "source": [
    "## Negative Slicing\n",
    "chars = ['a','b','c','d','e','f']    \n",
    "print(chars[-2:])          ## Last 2 elements\n",
    "print(chars[:-2])          ## All elements from starting till second to last (Excluding last element)"
   ]
  },
  {
   "cell_type": "markdown",
   "metadata": {},
   "source": [
    "### D) Appending/Extending a list"
   ]
  },
  {
   "cell_type": "code",
   "execution_count": 18,
   "metadata": {},
   "outputs": [
    {
     "name": "stdout",
     "output_type": "stream",
     "text": [
      "[0, 1, 2, 3, 4, 5, 6, 7, 8, 9]\n",
      "[0, 1, 2, 3, 4, 5, 6, 7, 8, 9, 777]\n",
      "[0, 1, 2, 3, 4, 5, 6, 7, 8, 9, 777, [777]]\n",
      "[0, 1, 2, 3, 4, 5, 6, 7, 8, 9, 777, [777], [111, 222, 333]]\n",
      "[0, 1, 2, 3, 4, 5, 6, 7, 8, 9]\n",
      "[0, 1, 2, 3, 4, 5, 6, 7, 8, 9, 777]\n",
      "[0, 1, 2, 3, 4, 5, 6, 7, 8, 9, 777, 111, 222, 333]\n"
     ]
    }
   ],
   "source": [
    "l1= list(range(10))         ## Preare a list with 0-9 integers.\n",
    "print(l1)\n",
    "\n",
    "l1.append(777)              ## Append allows adding only 1 item at the end of list.\n",
    "print(l1)\n",
    "\n",
    "l1.append([777])            ## Append allows adding only 1 item at the end of list.\n",
    "print(l1)\n",
    "\n",
    "l1.append([111,222,333])\n",
    "print(l1)\n",
    "\n",
    "l2 = list(range(10))\n",
    "print(l2)\n",
    "\n",
    "l2.extend([777])           ## Extend helps to add a list to list.\n",
    "print(l2)\n",
    "\n",
    "l2.extend([111,222,333])   ## Extend helps to add a list to list.\n",
    "print(l2)"
   ]
  },
  {
   "cell_type": "markdown",
   "metadata": {},
   "source": [
    "## NOTE\n",
    "**These are just some frequently used functions in Data Science. You should lookout for other functions through python documentation or online sources as and when required.**\n",
    "\n",
    "**If you know the art of googling, you wont require to write custom logic of everything. Most of the problems are already tackled. Most fuctions already written.**\n",
    "\n",
    "**Googling alone can solve most of your problems. StackOverflow should be your best friend.** "
   ]
  },
  {
   "cell_type": "markdown",
   "metadata": {},
   "source": [
    "### E) List Comprehension"
   ]
  },
  {
   "cell_type": "code",
   "execution_count": 19,
   "metadata": {},
   "outputs": [
    {
     "name": "stdout",
     "output_type": "stream",
     "text": [
      "[0, 1, 4, 9, 16, 25, 36, 49, 64, 81]\n"
     ]
    }
   ],
   "source": [
    "## List of squares using for Loop.\n",
    "nums = list(range(10))\n",
    "squares = []\n",
    "for x in nums:\n",
    "    squares.append(x ** 2)\n",
    "print(squares)"
   ]
  },
  {
   "cell_type": "code",
   "execution_count": 20,
   "metadata": {},
   "outputs": [
    {
     "name": "stdout",
     "output_type": "stream",
     "text": [
      "[0, 1, 4, 9, 16, 25, 36, 49, 64, 81]\n"
     ]
    }
   ],
   "source": [
    "## List of squares using list comprehension.\n",
    "nums = list(range(10))\n",
    "squares = [x ** 2 for x in nums]\n",
    "print(squares)"
   ]
  },
  {
   "cell_type": "code",
   "execution_count": 21,
   "metadata": {},
   "outputs": [
    {
     "name": "stdout",
     "output_type": "stream",
     "text": [
      "[0, 4, 16]\n"
     ]
    }
   ],
   "source": [
    "## Versatile enough to accomodate conditions.\n",
    "nums = list(range(6))\n",
    "even_squares = [x ** 2 for x in nums if x % 2 == 0]\n",
    "print(even_squares)"
   ]
  },
  {
   "cell_type": "markdown",
   "metadata": {},
   "source": [
    "###  Write a list comprehesion that cubes the numbers between 1-100 only if it is divisible by  3"
   ]
  },
  {
   "cell_type": "code",
   "execution_count": 25,
   "metadata": {},
   "outputs": [
    {
     "name": "stdout",
     "output_type": "stream",
     "text": [
      "[27, 216, 729, 1728, 3375, 5832, 9261, 13824, 19683, 27000, 35937, 46656, 59319, 74088, 91125, 110592, 132651, 157464, 185193, 216000, 250047, 287496, 328509, 373248, 421875, 474552, 531441, 592704, 658503, 729000, 804357, 884736, 970299]\n"
     ]
    }
   ],
   "source": [
    "nums = list(range(1,101,1))\n",
    "numbers_div_by_three = [pow(x,3) for x in nums if x % 3 == 0]\n",
    "print(numbers_div_by_three)"
   ]
  },
  {
   "cell_type": "markdown",
   "metadata": {},
   "source": [
    "# 7. Dictionary Operations"
   ]
  },
  {
   "cell_type": "markdown",
   "metadata": {},
   "source": [
    "### A) Iterating through dictionary"
   ]
  },
  {
   "cell_type": "code",
   "execution_count": 28,
   "metadata": {},
   "outputs": [
    {
     "name": "stdout",
     "output_type": "stream",
     "text": [
      "dict_keys(['person', 'cat', 'spider'])\n",
      "dict_values([2, 4, 8])\n",
      "dict_items([('person', 2), ('cat', 4), ('spider', 8)])\n",
      "{'cat': 4, 'spider': 8}\n",
      "{'cat': 4, 'spider': 8, 'person': 16}\n",
      "{'cat': 4, 'spider': 8, 'person': 20}\n"
     ]
    }
   ],
   "source": [
    "## Prepare a dictionary.\n",
    "d = {'person': 2, 'cat': 4, 'spider': 8}\n",
    "\n",
    "## Display dictionary keys.\n",
    "print(d.keys())\n",
    "\n",
    "## Display dictionary values.\n",
    "print(d.values())\n",
    "\n",
    "## Display dictionary.\n",
    "print(d.items())\n",
    "\n",
    "## Remove person item from dictionary.\n",
    "d.pop('person')\n",
    "\n",
    "## Display dictionary after removing person item.\n",
    "print(d)\n",
    "\n",
    "## Add person item to dictionary.\n",
    "d.update({'person':16})\n",
    "\n",
    "## Display dictionary after adding person item.\n",
    "print(d)\n",
    "\n",
    "## Update person item value.\n",
    "d.update({'person':20})\n",
    "\n",
    "## Display dictionary after updating person item value.\n",
    "print(d)"
   ]
  },
  {
   "cell_type": "code",
   "execution_count": 29,
   "metadata": {},
   "outputs": [
    {
     "name": "stdout",
     "output_type": "stream",
     "text": [
      "person\n",
      "cat\n",
      "spider\n",
      "======\n",
      "2\n",
      "4\n",
      "8\n",
      "========\n",
      "A person has 2 legs\n",
      "A cat has 4 legs\n",
      "A spider has 8 legs\n"
     ]
    }
   ],
   "source": [
    "## Prepare a dictionary.\n",
    "d = {'person': 2, 'cat': 4, 'spider': 8}\n",
    "\n",
    "## A simple for loop iterates through keys by default.\n",
    "for animal in d:           \n",
    "    print(animal)\n",
    "\n",
    "print(\"======\")\n",
    "\n",
    "## dictionary.values() will iterate through values.\n",
    "for animal in d.values():  \n",
    "    print(animal)\n",
    "    \n",
    "print(\"========\")\n",
    "\n",
    "## dictionary.items() will give you key value pairs.\n",
    "for animal, legs in d.items():              \n",
    "    print('A', animal, 'has', legs, 'legs')"
   ]
  },
  {
   "cell_type": "markdown",
   "metadata": {},
   "source": [
    "### B) Dictionary comprehension"
   ]
  },
  {
   "cell_type": "code",
   "execution_count": 31,
   "metadata": {},
   "outputs": [
    {
     "name": "stdout",
     "output_type": "stream",
     "text": [
      "{0: 0, 1: 1, 2: 4, 3: 9, 4: 16, 5: 25, 6: 36, 7: 49, 8: 64, 9: 81}\n",
      "{1: 1, 3: 9, 5: 25, 7: 49, 9: 81}\n"
     ]
    }
   ],
   "source": [
    "## Prepare a dictionary with squre values.\n",
    "nums = list(range(10))\n",
    "squares = {x: x ** 2 for x in nums}\n",
    "print(squares)\n",
    "\n",
    "## Prepare a dictionary with odd square values.\n",
    "odd_squares = {x: x ** 2 for x in nums if x%2 != 0}\n",
    "print(odd_squares) "
   ]
  },
  {
   "cell_type": "markdown",
   "metadata": {},
   "source": [
    "### Create a dictionary of numbers from 1-10 and tag them odd or even\n",
    "Hint - Keys should be numbers 1-10 and values should be 'odd' or 'even'"
   ]
  },
  {
   "cell_type": "code",
   "execution_count": 32,
   "metadata": {},
   "outputs": [
    {
     "data": {
      "text/plain": [
       "{0: 'Even',\n",
       " 1: 'Odd',\n",
       " 2: 'Even',\n",
       " 3: 'Odd',\n",
       " 4: 'Even',\n",
       " 5: 'Odd',\n",
       " 6: 'Even',\n",
       " 7: 'Odd',\n",
       " 8: 'Even',\n",
       " 9: 'Odd'}"
      ]
     },
     "execution_count": 32,
     "metadata": {},
     "output_type": "execute_result"
    }
   ],
   "source": [
    "{x:\"Even\" if x%2 == 0 else \"Odd\" for x in nums }"
   ]
  },
  {
   "cell_type": "markdown",
   "metadata": {},
   "source": [
    "# 8. String Operations"
   ]
  },
  {
   "cell_type": "code",
   "execution_count": 34,
   "metadata": {},
   "outputs": [
    {
     "name": "stdout",
     "output_type": "stream",
     "text": [
      "Original string => India is my country...\n",
      "\n",
      "len() => 22\n",
      "\n",
      "upper() => INDIA IS MY COUNTRY...\n",
      "\n",
      "lower() => india is my country...\n",
      "\n",
      "replace() => India is our country...\n",
      "\n",
      "pledge.strip(\".\") => India is my country\n",
      "\n",
      "pledge + aux => India is my country...I love my country\n",
      "\n",
      "pledge.split() => ['India', 'is', 'my', 'country...']\n",
      "\n",
      "\" \".join(pledge_list) => India is my country...\n"
     ]
    }
   ],
   "source": [
    "pledge = \"India is my country...\"\n",
    "aux = \"I love my country\"\n",
    "\n",
    "print(\"Original string =>\", pledge)\n",
    "print(\"\\nlen() =>\", len(pledge))        ## len()   -> length of the string(# of charcters).\n",
    "print(\"\\nupper() =>\", pledge.upper())   ## upper() -> convert string to upper case.\n",
    "print(\"\\nlower() =>\", pledge.lower())   ## lower() -> convert string to lower case.\n",
    "print(\"\\nreplace() =>\", pledge.replace(\"my\",\"our\")) ## replace(A,B) -> replace all occurences of A with B.\n",
    "\n",
    "print('\\npledge.strip(\".\") =>', pledge.strip(\".\"))  ## strip() -> remove leading or trailing occurences.\n",
    "print(\"\\npledge + aux =>\",pledge + aux)             ## str1 + str2 -> concatenate two string into one.\n",
    "\n",
    "pledge_list = pledge.split(\" \")            ## Split string into list of words for the given delimeter.\n",
    "print(\"\\npledge.split() =>\", pledge_list)        \n",
    "print('\\n\" \".join(pledge_list) =>',\" \".join(pledge_list)) ## Join the string."
   ]
  }
 ],
 "metadata": {
  "kernelspec": {
   "display_name": "Python 3",
   "language": "python",
   "name": "python3"
  },
  "language_info": {
   "codemirror_mode": {
    "name": "ipython",
    "version": 3
   },
   "file_extension": ".py",
   "mimetype": "text/x-python",
   "name": "python",
   "nbconvert_exporter": "python",
   "pygments_lexer": "ipython3",
   "version": "3.6.5"
  },
  "toc": {
   "base_numbering": 1,
   "nav_menu": {},
   "number_sections": true,
   "sideBar": true,
   "skip_h1_title": false,
   "title_cell": "Table of Contents",
   "title_sidebar": "Contents",
   "toc_cell": false,
   "toc_position": {},
   "toc_section_display": true,
   "toc_window_display": false
  }
 },
 "nbformat": 4,
 "nbformat_minor": 2
}
