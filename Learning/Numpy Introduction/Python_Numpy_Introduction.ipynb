{
 "cells": [
  {
   "cell_type": "markdown",
   "metadata": {},
   "source": [
    "# <center>**Numpy Introduction**</center>\n",
    "---\n",
    "\n",
    "<br>"
   ]
  },
  {
   "cell_type": "markdown",
   "metadata": {},
   "source": [
    "## **Numpy**\n",
    "#### Numpy is short for Numerical Python. It is the fundamental package required for high performance scientific computing and data analysis. \n",
    "\n",
    "Some uses :\n",
    "\n",
    "- `ndarray`, a fast and space-efficient multidimensional array for large data\n",
    "- providing vectorized arithmetic operations and sophisticated broadcasting capabilities.\n",
    "- Standard mathematical functions for fast operations on entire arrays of data without having to write loops.\n",
    "- Tools for reading/writing array data to disk and working with memory-mapped files.\n",
    "- Linear algebra, random generation, and Fourier transform capabilities.\n"
   ]
  },
  {
   "cell_type": "markdown",
   "metadata": {},
   "source": [
    "## Importing package"
   ]
  },
  {
   "cell_type": "code",
   "execution_count": 5,
   "metadata": {},
   "outputs": [],
   "source": [
    "import numpy as np"
   ]
  },
  {
   "cell_type": "markdown",
   "metadata": {},
   "source": [
    "### The NumPy ndarray : A Multidimensional object\n",
    "\n",
    "A numpy array is a grid of values, all of the `same type`, and is indexed by a tuple of nonnegative integers. \n",
    "Every object has \n",
    "- a shape = Shape is a tuple giving size of each dimension\n",
    "- and a dtype = data type. \n",
    "\n",
    "Array() tries to infer a good type, if not given explicitly."
   ]
  },
  {
   "cell_type": "markdown",
   "metadata": {},
   "source": [
    "### Creating 1-D array"
   ]
  },
  {
   "cell_type": "code",
   "execution_count": 24,
   "metadata": {},
   "outputs": [
    {
     "name": "stdout",
     "output_type": "stream",
     "text": [
      "[1 2 3 4 5]\n",
      "int32\n",
      "<class 'numpy.ndarray'>\n"
     ]
    }
   ],
   "source": [
    "a1 = np.array([1,2,3,4,5]) ## Creating one dimensional array and stroing in a1 varible.\n",
    "print(a1) ## Displaing array.\n",
    "print(a1.dtype) ## Display data type of array.\n",
    "print(type(a1)) ## Display type of the array."
   ]
  },
  {
   "cell_type": "markdown",
   "metadata": {},
   "source": [
    "### Creating 2-D array"
   ]
  },
  {
   "cell_type": "code",
   "execution_count": 10,
   "metadata": {
    "scrolled": true
   },
   "outputs": [
    {
     "name": "stdout",
     "output_type": "stream",
     "text": [
      "[[1 2 3]\n",
      " [4 7 9]]\n",
      "(2, 3)\n",
      "int64\n"
     ]
    }
   ],
   "source": [
    "a2 = np.array([[1,2,3],[4,7,9]]) ## Creating two dimensional array and stroing in a1 varible.\n",
    "print(a2) ## Displaing array.\n",
    "print(a2.dtype) ## Display data type of array.\n",
    "print(type(a2)) ## Display type of the array."
   ]
  },
  {
   "cell_type": "code",
   "execution_count": 16,
   "metadata": {},
   "outputs": [
    {
     "data": {
      "text/plain": [
       "array([10, 11, 12, 13, 14, 15, 16, 17, 18, 19])"
      ]
     },
     "execution_count": 16,
     "metadata": {},
     "output_type": "execute_result"
    }
   ],
   "source": [
    "## Get the range of valus betweeen 10-20.\n",
    "np.arange(10,20)\n",
    "## range(10,20,2)"
   ]
  },
  {
   "cell_type": "markdown",
   "metadata": {},
   "source": [
    "### Creating a 2-D array filled with zeroes"
   ]
  },
  {
   "cell_type": "code",
   "execution_count": 21,
   "metadata": {},
   "outputs": [
    {
     "name": "stdout",
     "output_type": "stream",
     "text": [
      "[[0. 0. 0. 0. 0.]\n",
      " [0. 0. 0. 0. 0.]\n",
      " [0. 0. 0. 0. 0.]\n",
      " [0. 0. 0. 0. 0.]\n",
      " [0. 0. 0. 0. 0.]]\n",
      "(5, 5)\n",
      "2\n"
     ]
    }
   ],
   "source": [
    "a3 = np.zeros([5,5]) ## Create an array with zeros.\n",
    "## np.zeros((5,5))\n",
    "print(a3) ## Display an array.\n",
    "print(a3.shape) ## Display an array dimension.\n",
    "print(a3.ndim) ## 2 dimensional array so ndim is 2."
   ]
  },
  {
   "cell_type": "markdown",
   "metadata": {},
   "source": [
    "### Generating numbers between a range with a specific difference"
   ]
  },
  {
   "cell_type": "code",
   "execution_count": 19,
   "metadata": {},
   "outputs": [
    {
     "data": {
      "text/plain": [
       "array([10, 15, 20, 25, 30, 35, 40, 45])"
      ]
     },
     "execution_count": 19,
     "metadata": {},
     "output_type": "execute_result"
    }
   ],
   "source": [
    "np.arange(10,50,5)"
   ]
  },
  {
   "cell_type": "markdown",
   "metadata": {},
   "source": [
    "### Generating **n** numbers between a range"
   ]
  },
  {
   "cell_type": "code",
   "execution_count": 16,
   "metadata": {},
   "outputs": [
    {
     "data": {
      "text/plain": [
       "array([ 0. ,  2.5,  5. ,  7.5, 10. ])"
      ]
     },
     "execution_count": 16,
     "metadata": {},
     "output_type": "execute_result"
    }
   ],
   "source": [
    "np.linspace(0,10,5) ## In bound,out bound will be inncluded and we are specifying number eleements bewteen the in,out boound."
   ]
  },
  {
   "cell_type": "markdown",
   "metadata": {},
   "source": [
    "### Generating random sample of given dimentions\n",
    "**Note - Random numbers are generated between 0 to 1. Multiply them with an appropriate factor to get required outcome.**"
   ]
  },
  {
   "cell_type": "code",
   "execution_count": 30,
   "metadata": {
    "scrolled": true
   },
   "outputs": [
    {
     "data": {
      "text/plain": [
       "array([[0.18626021, 0.34556073],\n",
       "       [0.39676747, 0.53881673],\n",
       "       [0.41919451, 0.6852195 ]])"
      ]
     },
     "execution_count": 30,
     "metadata": {},
     "output_type": "execute_result"
    }
   ],
   "source": [
    "np.random.random_sample((3, 2))"
   ]
  },
  {
   "cell_type": "markdown",
   "metadata": {},
   "source": [
    "### Basic array operations\n",
    "**Note - The operations are vectorised**\n"
   ]
  },
  {
   "cell_type": "code",
   "execution_count": 35,
   "metadata": {},
   "outputs": [],
   "source": [
    "x = np.array([2,4,8,16])\n",
    "y = np.array([1,1,0,1])"
   ]
  },
  {
   "cell_type": "code",
   "execution_count": 36,
   "metadata": {
    "scrolled": true
   },
   "outputs": [
    {
     "name": "stdout",
     "output_type": "stream",
     "text": [
      "[ 3  5  8 17]\n",
      "[ 1  3  8 15]\n",
      "[ 2  4  0 16]\n"
     ]
    }
   ],
   "source": [
    "print(x + y) ## Operation peformed element by element.\n",
    "print(x - y)\n",
    "print(x * y)"
   ]
  },
  {
   "cell_type": "code",
   "execution_count": 39,
   "metadata": {},
   "outputs": [
    {
     "name": "stdout",
     "output_type": "stream",
     "text": [
      "[[ 11  21  30  41]\n",
      " [101 201 300 401]]\n",
      "[[  9  19  30  39]\n",
      " [ 99 199 300 399]]\n",
      "[[ 10  20   0  40]\n",
      " [100 200   0 400]]\n"
     ]
    }
   ],
   "source": [
    "z = np.array([[10,20,30,40],[100,200,300,400]])\n",
    "\n",
    "print(z + y) ## When we are performing operation on two arrays,make sure that array are compatible and diemsnions are same.\n",
    "print(z - y)\n",
    "print(z * y)"
   ]
  },
  {
   "cell_type": "markdown",
   "metadata": {},
   "source": [
    "### Matrix multiplication"
   ]
  },
  {
   "cell_type": "code",
   "execution_count": 46,
   "metadata": {},
   "outputs": [
    {
     "name": "stdout",
     "output_type": "stream",
     "text": [
      "(2, 3)\n",
      "(3, 2)\n",
      "(2, 4)\n",
      "[[ 210  420  630  840]\n",
      " [ 320  640  960 1280]\n",
      " [ 430  860 1290 1720]]\n"
     ]
    }
   ],
   "source": [
    "s = np.array([[1,2,3],[2,3,4]])\n",
    "t = np.array([[10,20,30,40],[100,200,300,400]])\n",
    "print(s.shape)\n",
    "print(s.T.shape)\n",
    "print(t.shape)\n",
    "print(np.matmul(s.T,t))"
   ]
  },
  {
   "cell_type": "markdown",
   "metadata": {},
   "source": [
    "### Advanced array operations"
   ]
  },
  {
   "cell_type": "code",
   "execution_count": 47,
   "metadata": {},
   "outputs": [
    {
     "name": "stdout",
     "output_type": "stream",
     "text": [
      "[0.20445225 0.87811744 0.02738759 0.67046751 0.4173048  0.55868983\n",
      " 0.14038694 0.19810149 0.80074457 0.96826158]\n",
      "0.027387593197926163\n",
      "0.9682615757193975\n",
      "4.863913992386717\n",
      "[0.20445225 1.08256969 1.10995728 1.78042479 2.19772959 2.75641942\n",
      " 2.89680636 3.09490785 3.89565242 4.86391399]\n",
      "[0.45216396 0.9370792  0.16549197 0.8188208  0.64599133 0.74745557\n",
      " 0.37468245 0.44508593 0.89484332 0.98400283]\n",
      "[-1.58742083 -0.12997494 -3.59766517 -0.39978003 -0.87393838 -0.58216083\n",
      " -1.96335282 -1.61897581 -0.22221327 -0.03225301]\n"
     ]
    }
   ],
   "source": [
    "a4 = np.random.random_sample(10) ## Create an array with 10 random values.\n",
    "print(a4) ## Display an array.\n",
    "print(np.min(a4)) ## Get minimum value from array.\n",
    "print(np.max(a4)) ## Get maxumun value from array.\n",
    "print(np.sum(a4)) ## Get sum of the all element of an array.\n",
    "print(np.cumsum(a4)) ## Get cummilative sum of an array.\n",
    "print(np.sqrt(a4)) ## Get square root values for each element of an array.\n",
    "print(np.log(a4)) ## Get log for each eleement of an array."
   ]
  },
  {
   "cell_type": "markdown",
   "metadata": {},
   "source": [
    "### Logical operations"
   ]
  },
  {
   "cell_type": "code",
   "execution_count": 51,
   "metadata": {},
   "outputs": [
    {
     "name": "stdout",
     "output_type": "stream",
     "text": [
      "[[ True False  True]\n",
      " [False False False]]\n",
      "[[False False  True]\n",
      " [ True  True  True]]\n"
     ]
    }
   ],
   "source": [
    "a=np.array([1,3,9])\n",
    "b=np.array([[1,2,9],[5,8,7]])\n",
    "\n",
    "print(a==b) ## Compare element by element.\n",
    "print(b>4)"
   ]
  },
  {
   "cell_type": "markdown",
   "metadata": {},
   "source": [
    "### Subset and slicing"
   ]
  },
  {
   "cell_type": "code",
   "execution_count": 3,
   "metadata": {},
   "outputs": [
    {
     "name": "stdout",
     "output_type": "stream",
     "text": [
      "[[ 4  5 10]\n",
      " [ 5 10 15]\n",
      " [ 7  8  3]\n",
      " [ 4  6  9]\n",
      " [10 15 20]]\n",
      "(5, 3)\n",
      "[[ 5 10]\n",
      " [10 15]]\n",
      "[10 15  3  9 20]\n",
      "[[ 4  5]\n",
      " [ 5 10]\n",
      " [ 7  8]\n",
      " [ 4  6]\n",
      " [10 15]]\n"
     ]
    }
   ],
   "source": [
    "c=np.array([[4,5,10],[5,10,15],[7,8,3],[4,6,9],[10,15,20]])\n",
    "\n",
    "print(c[:,:]) ## Get all rows and columns data.\n",
    "print(c.shape) ## Get dimension of an array.\n",
    "print(c[0:2,1:3]) ## Get first 2 rows and second,third column.\n",
    "print(c[:,2]) ## Get 2 column data.\n",
    "print(c[:,:2]) ## Get first and second column data."
   ]
  },
  {
   "cell_type": "code",
   "execution_count": 56,
   "metadata": {
    "scrolled": true
   },
   "outputs": [
    {
     "name": "stdout",
     "output_type": "stream",
     "text": [
      "200\n"
     ]
    }
   ],
   "source": [
    "## Copy.\n",
    "a = np.array([1, 2, 3, 4, 5])\n",
    "b = a[1:4]\n",
    "b[0] = 200\n",
    "print(a[1])"
   ]
  },
  {
   "cell_type": "markdown",
   "metadata": {},
   "source": [
    "### Advantage of Numpy Arrays"
   ]
  },
  {
   "cell_type": "code",
   "execution_count": 2,
   "metadata": {},
   "outputs": [],
   "source": [
    "import time\n",
    "size_of_vec = 10000000"
   ]
  },
  {
   "cell_type": "code",
   "execution_count": 3,
   "metadata": {},
   "outputs": [
    {
     "data": {
      "text/plain": [
       "9.383185148239136"
      ]
     },
     "execution_count": 3,
     "metadata": {},
     "output_type": "execute_result"
    }
   ],
   "source": [
    "## Add two big vectors.\n",
    "t1 = time.time()\n",
    "X = range(size_of_vec)\n",
    "Y = range(size_of_vec)\n",
    "Z_list = []\n",
    "for i in range(len(X)):\n",
    "    Z_list.append(X[i] + Y[i])\n",
    "\n",
    "time.time() - t1"
   ]
  },
  {
   "cell_type": "code",
   "execution_count": 6,
   "metadata": {},
   "outputs": [
    {
     "data": {
      "text/plain": [
       "0.1496882438659668"
      ]
     },
     "execution_count": 6,
     "metadata": {},
     "output_type": "execute_result"
    }
   ],
   "source": [
    "t1 = time.time()\n",
    "X = np.arange(size_of_vec)\n",
    "Y = np.arange(size_of_vec)\n",
    "Z_numpy = X + Y\n",
    "\n",
    "time.time() - t1"
   ]
  },
  {
   "cell_type": "code",
   "execution_count": null,
   "metadata": {},
   "outputs": [],
   "source": [
    "## We can observe using numpy it took very less time to add two vectors."
   ]
  },
  {
   "cell_type": "code",
   "execution_count": 64,
   "metadata": {
    "scrolled": false
   },
   "outputs": [
    {
     "data": {
      "text/plain": [
       "0"
      ]
     },
     "execution_count": 64,
     "metadata": {},
     "output_type": "execute_result"
    }
   ],
   "source": [
    "sum(Z_list != Z_numpy) ## Check Z_list and Z_numpy containns same values or not....if it reurn 0 then both are having same data."
   ]
  },
  {
   "cell_type": "code",
   "execution_count": 7,
   "metadata": {},
   "outputs": [
    {
     "data": {
      "text/plain": [
       "[0, 2, 4, 6, 8, 10, 12, 14, 16, 18]"
      ]
     },
     "execution_count": 7,
     "metadata": {},
     "output_type": "execute_result"
    }
   ],
   "source": [
    "Z_list[:10] ## Display first 10 values of Z_list."
   ]
  },
  {
   "cell_type": "code",
   "execution_count": 8,
   "metadata": {},
   "outputs": [
    {
     "data": {
      "text/plain": [
       "array([ 0,  2,  4,  6,  8, 10, 12, 14, 16, 18])"
      ]
     },
     "execution_count": 8,
     "metadata": {},
     "output_type": "execute_result"
    }
   ],
   "source": [
    "Z_numpy[:10] ## Display first 10 values of Z_numpy."
   ]
  }
 ],
 "metadata": {
  "kernelspec": {
   "display_name": "Python 3",
   "language": "python",
   "name": "python3"
  },
  "language_info": {
   "codemirror_mode": {
    "name": "ipython",
    "version": 3
   },
   "file_extension": ".py",
   "mimetype": "text/x-python",
   "name": "python",
   "nbconvert_exporter": "python",
   "pygments_lexer": "ipython3",
   "version": "3.6.5"
  },
  "toc": {
   "base_numbering": 1,
   "nav_menu": {},
   "number_sections": true,
   "sideBar": true,
   "skip_h1_title": false,
   "title_cell": "Table of Contents",
   "title_sidebar": "Contents",
   "toc_cell": false,
   "toc_position": {},
   "toc_section_display": true,
   "toc_window_display": false
  }
 },
 "nbformat": 4,
 "nbformat_minor": 2
}
