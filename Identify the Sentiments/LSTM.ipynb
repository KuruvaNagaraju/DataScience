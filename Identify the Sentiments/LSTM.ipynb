{
 "cells": [
  {
   "cell_type": "code",
   "execution_count": 137,
   "metadata": {},
   "outputs": [],
   "source": [
    "## Import necessary libraries.\n",
    "\n",
    "import numpy as np ## Numpy library for creating and modifying arrays.\n",
    "import pandas as pd ## Pandas library for reading '.csv' files as dataframes.\n",
    "from nltk.tokenize import sent_tokenize, word_tokenize ## For sentence,word tokenizing.\n",
    "import re ## For regular expressions.\n",
    "import string ## For punctuations.\n",
    "from nltk.corpus import stopwords ## For stop words\n",
    "from nltk.stem.porter import PorterStemmer ## For getting root word.\n",
    "from sklearn.model_selection import train_test_split ## For splitting data into train and validation.\n",
    "import os ## For connecting to local machine to set path for reading files.\n",
    "from sklearn.metrics import accuracy_score ## For getting accuracy value.\n",
    "from sklearn.metrics import confusion_matrix,classification_report ## For confusion matrix and TNR,TPR,accuracy.\n",
    "from keras.preprocessing.text import Tokenizer ## Tokenize the words(text to numeric vector). \n",
    "from keras.preprocessing.sequence import pad_sequences ## Adding zeros to vector(Padding here is necessary to make the sequence length same for all messages).\n",
    "from keras.utils import to_categorical ## For converting the labels to one-hot vectors(Dummies).\n",
    "from keras.layers import Dense ## For fully connected layer.\n",
    "from keras.layers import SimpleRNN ## For RNN model.\n",
    "from keras.layers import LSTM ## For lstm model.\n",
    "from keras.layers import Embedding ##  For converting each unique token as a vector.\n",
    "from keras.models import Sequential ## For executing mutiple layers sequentially.\n",
    "from keras.optimizers import Adam ## For Optimizer(to reduce loss function).\n",
    "from keras.layers import Bidirectional ## Bidirectional LSTMs are taking context from both forward and backward."
   ]
  },
  {
   "cell_type": "code",
   "execution_count": 2,
   "metadata": {},
   "outputs": [
    {
     "data": {
      "text/plain": [
       "'D:\\\\Python\\\\Pratice\\\\Identify the Sentiments'"
      ]
     },
     "execution_count": 2,
     "metadata": {},
     "output_type": "execute_result"
    }
   ],
   "source": [
    "## Get current working directory\n",
    "os.getcwd()"
   ]
  },
  {
   "cell_type": "code",
   "execution_count": 110,
   "metadata": {},
   "outputs": [
    {
     "data": {
      "text/plain": [
       "'D:\\\\DataScience\\\\Pratice\\\\Identify the Sentiments'"
      ]
     },
     "execution_count": 110,
     "metadata": {},
     "output_type": "execute_result"
    }
   ],
   "source": [
    "## Set working directory.\n",
    "os.chdir(\"D:\\DataScience\\Pratice\\Identify the Sentiments\")\n",
    "os.getcwd()"
   ]
  },
  {
   "cell_type": "code",
   "execution_count": 111,
   "metadata": {},
   "outputs": [],
   "source": [
    "## Load train and test data.\n",
    "train = pd.read_csv('train.csv',header='infer',sep=',',encoding='latin-1')\n",
    "test = pd.read_csv('test.csv',header='infer',sep=',',encoding='latin-1')"
   ]
  },
  {
   "cell_type": "code",
   "execution_count": 112,
   "metadata": {},
   "outputs": [
    {
     "name": "stdout",
     "output_type": "stream",
     "text": [
      "(7920, 3)\n",
      "(1953, 2)\n"
     ]
    }
   ],
   "source": [
    "## Check dimensions of train and test data.\n",
    "print(train.shape)\n",
    "print(test.shape)"
   ]
  },
  {
   "cell_type": "code",
   "execution_count": 113,
   "metadata": {},
   "outputs": [],
   "source": [
    "## Remove URL from text.\n",
    "def remove_url(text):\n",
    "    url =  re.compile(r'https?://\\S+|www\\.\\S+')\n",
    "    return url.sub(r'',text)"
   ]
  },
  {
   "cell_type": "code",
   "execution_count": 114,
   "metadata": {},
   "outputs": [],
   "source": [
    "## Remove html from text.\n",
    "def remove_html(text):\n",
    "    html = re.compile(r'<.*?>')\n",
    "    return html.sub(r'',text)"
   ]
  },
  {
   "cell_type": "code",
   "execution_count": 115,
   "metadata": {},
   "outputs": [],
   "source": [
    "## Remove Emojis.\n",
    "def remove_emoji(text):\n",
    "    emoji_pattern = re.compile(\"[\"\n",
    "                           u\"\\U0001F600-\\U0001F64F\"  # emoticons\n",
    "                           u\"\\U0001F300-\\U0001F5FF\"  # symbols & pictographs\n",
    "                           u\"\\U0001F680-\\U0001F6FF\"  # transport & map symbols\n",
    "                           u\"\\U0001F1E0-\\U0001F1FF\"  # flags (iOS)\n",
    "                           u\"\\U00002702-\\U000027B0\"\n",
    "                           u\"\\U000024C2-\\U0001F251\"\n",
    "                           \"]+\", flags=re.UNICODE)\n",
    "    return emoji_pattern.sub(r'', text)"
   ]
  },
  {
   "cell_type": "code",
   "execution_count": 116,
   "metadata": {},
   "outputs": [],
   "source": [
    "## Remove punctuatons.\n",
    "def remove_punctuation(text):\n",
    "    ## prepare a translation table to replace punctations with empty space.\n",
    "    translator = str.maketrans('','',string.punctuation)\n",
    "    ## replace punctations with empty space.\n",
    "    return text.translate(translator)\n",
    "    "
   ]
  },
  {
   "cell_type": "code",
   "execution_count": 117,
   "metadata": {},
   "outputs": [],
   "source": [
    "## Define a list of punctuation marks.\n",
    "puncts = [',', '.', '\"', ':', ')', '(', '-', '!', '?', '|', ';', \"'\", '$', '&', '/', '[', ']', '>', '%', '=', '#', '*', '+', '\\\\', '•',  '~', '@', '£', \n",
    " '·', '_', '{', '}', '©', '^', '®', '`',  '<', '→', '°', '€', '™', '›',  '♥', '←', '×', '§', '″', '′', 'Â', '█', '½', 'à', '…', \n",
    " '“', '★', '”', '–', '●', 'â', '►', '−', '¢', '²', '¬', '░', '¶', '↑', '±', '¿', '▾', '═', '¦', '║', '―', '¥', '▓', '—', '‹', '─', \n",
    " '▒', '：', '¼', '⊕', '▼', '▪', '†', '■', '’', '▀', '¨', '▄', '♫', '☆', 'é', '¯', '♦', '¤', '▲', 'è', '¸', '¾', 'Ã', '⋅', '‘', '∞', \n",
    " '∙', '）', '↓', '、', '│', '（', '»', '，', '♪', '╩', '╚', '³', '・', '╦', '╣', '╔', '╗', '▬', '❤', 'ï', 'Ø', '¹', '≤', '‡', '√']"
   ]
  },
  {
   "cell_type": "code",
   "execution_count": 118,
   "metadata": {},
   "outputs": [],
   "source": [
    "## Replace punctuation marks with whitespace. \n",
    "def remove_special_characters(text):\n",
    "    text = str(text)\n",
    "    for punct in puncts:\n",
    "        if punct in text:\n",
    "            text = text.replace(punct, '')\n",
    "    return text"
   ]
  },
  {
   "cell_type": "code",
   "execution_count": 119,
   "metadata": {},
   "outputs": [],
   "source": [
    "## Word tokenization.\n",
    "def word_tokenization(text):\n",
    "    return [w.lower() for w in word_tokenize(text)]"
   ]
  },
  {
   "cell_type": "code",
   "execution_count": 120,
   "metadata": {},
   "outputs": [],
   "source": [
    "## Remove stop words. \n",
    "def remove_stopWords(text):\n",
    "    sw = stopwords.words('english')\n",
    "    ## get the words which are not there in stop words and convert them into lower case\n",
    "    return [word.lower() for word in text if word.lower() not in sw]"
   ]
  },
  {
   "cell_type": "code",
   "execution_count": 121,
   "metadata": {},
   "outputs": [],
   "source": [
    "## Stem/get root words for given text.\n",
    "def stemProcess(text):\n",
    "    ## instantiate PoterStemmer\n",
    "    stemmer = PorterStemmer()\n",
    "    return [stemmer.stem(word) for word in text]"
   ]
  },
  {
   "cell_type": "code",
   "execution_count": 122,
   "metadata": {},
   "outputs": [],
   "source": [
    "## Remove stop words,url,html,emoji,punctuation and do stemming on Train data.\n",
    "train['tweet'] = train['tweet'].apply(remove_url)\n",
    "train['tweet'] = train['tweet'].apply(remove_html)\n",
    "train['tweet'] = train['tweet'].apply(remove_special_characters)\n",
    "train['tweet'] = train['tweet'].apply(word_tokenize)\n",
    "train['tweet'] = train['tweet'].apply(remove_stopWords)\n",
    "train['tweet'] = train['tweet'].apply(stemProcess)"
   ]
  },
  {
   "cell_type": "code",
   "execution_count": 123,
   "metadata": {},
   "outputs": [],
   "source": [
    "## Remove stop words,url,html,emoji,punctuation and do stemming on Test data.\n",
    "test['tweet'] = test['tweet'].apply(remove_url)\n",
    "test['tweet'] = test['tweet'].apply(remove_html)\n",
    "test['tweet'] = test['tweet'].apply(remove_special_characters)\n",
    "test['tweet'] = test['tweet'].apply(word_tokenize)\n",
    "test['tweet'] = test['tweet'].apply(remove_stopWords)\n",
    "test['tweet'] = test['tweet'].apply(stemProcess)"
   ]
  },
  {
   "cell_type": "code",
   "execution_count": 124,
   "metadata": {},
   "outputs": [],
   "source": [
    "## Set Index to train and test data.\n",
    "train.set_index('id',inplace=True)\n",
    "test.set_index('id',inplace=True)"
   ]
  },
  {
   "cell_type": "code",
   "execution_count": 125,
   "metadata": {},
   "outputs": [],
   "source": [
    "## Convert list into string.\n",
    "def convertListToString(temp):\n",
    "    temp1 =[]\n",
    "    for i in temp:\n",
    "        temp1.append(i)\n",
    "    return \" \".join(temp1)"
   ]
  },
  {
   "cell_type": "code",
   "execution_count": 126,
   "metadata": {},
   "outputs": [],
   "source": [
    "## Convert train tweet column data from list to string.\n",
    "train['tweet'] = train['tweet'].apply(convertListToString)"
   ]
  },
  {
   "cell_type": "code",
   "execution_count": 127,
   "metadata": {},
   "outputs": [],
   "source": [
    "## Convert test tweet column data from list to string.\n",
    "test['tweet'] = test['tweet'].apply(convertListToString)"
   ]
  },
  {
   "cell_type": "code",
   "execution_count": 128,
   "metadata": {},
   "outputs": [
    {
     "data": {
      "text/html": [
       "<div>\n",
       "<style scoped>\n",
       "    .dataframe tbody tr th:only-of-type {\n",
       "        vertical-align: middle;\n",
       "    }\n",
       "\n",
       "    .dataframe tbody tr th {\n",
       "        vertical-align: top;\n",
       "    }\n",
       "\n",
       "    .dataframe thead th {\n",
       "        text-align: right;\n",
       "    }\n",
       "</style>\n",
       "<table border=\"1\" class=\"dataframe\">\n",
       "  <thead>\n",
       "    <tr style=\"text-align: right;\">\n",
       "      <th></th>\n",
       "      <th>label</th>\n",
       "      <th>tweet</th>\n",
       "    </tr>\n",
       "    <tr>\n",
       "      <th>id</th>\n",
       "      <th></th>\n",
       "      <th></th>\n",
       "    </tr>\n",
       "  </thead>\n",
       "  <tbody>\n",
       "    <tr>\n",
       "      <th>1</th>\n",
       "      <td>0</td>\n",
       "      <td>fingerprint pregnanc test android app beauti c...</td>\n",
       "    </tr>\n",
       "  </tbody>\n",
       "</table>\n",
       "</div>"
      ],
      "text/plain": [
       "    label                                              tweet\n",
       "id                                                          \n",
       "1       0  fingerprint pregnanc test android app beauti c..."
      ]
     },
     "execution_count": 128,
     "metadata": {},
     "output_type": "execute_result"
    }
   ],
   "source": [
    "## Check first record of train data.\n",
    "train.head(1)"
   ]
  },
  {
   "cell_type": "code",
   "execution_count": 129,
   "metadata": {
    "scrolled": true
   },
   "outputs": [
    {
     "data": {
      "text/html": [
       "<div>\n",
       "<style scoped>\n",
       "    .dataframe tbody tr th:only-of-type {\n",
       "        vertical-align: middle;\n",
       "    }\n",
       "\n",
       "    .dataframe tbody tr th {\n",
       "        vertical-align: top;\n",
       "    }\n",
       "\n",
       "    .dataframe thead th {\n",
       "        text-align: right;\n",
       "    }\n",
       "</style>\n",
       "<table border=\"1\" class=\"dataframe\">\n",
       "  <thead>\n",
       "    <tr style=\"text-align: right;\">\n",
       "      <th></th>\n",
       "      <th>tweet</th>\n",
       "    </tr>\n",
       "    <tr>\n",
       "      <th>id</th>\n",
       "      <th></th>\n",
       "    </tr>\n",
       "  </thead>\n",
       "  <tbody>\n",
       "    <tr>\n",
       "      <th>7921</th>\n",
       "      <td>hate new iphon upgrad wont let download app ug...</td>\n",
       "    </tr>\n",
       "  </tbody>\n",
       "</table>\n",
       "</div>"
      ],
      "text/plain": [
       "                                                  tweet\n",
       "id                                                     \n",
       "7921  hate new iphon upgrad wont let download app ug..."
      ]
     },
     "execution_count": 129,
     "metadata": {},
     "output_type": "execute_result"
    }
   ],
   "source": [
    "## Check first record of test data.\n",
    "test.head(1)"
   ]
  },
  {
   "cell_type": "code",
   "execution_count": 130,
   "metadata": {},
   "outputs": [],
   "source": [
    "## Split data into train and validation (80:20 format).\n",
    "\n",
    "train_text,valid_text,\\\n",
    "train_target,valid_target= train_test_split(train.drop('label',axis=1),train.drop('tweet',axis=1),\n",
    "                                          test_size=0.2,random_state=1234)"
   ]
  },
  {
   "cell_type": "code",
   "execution_count": 131,
   "metadata": {},
   "outputs": [
    {
     "name": "stdout",
     "output_type": "stream",
     "text": [
      "(6336, 1)\n",
      "(6336, 1)\n",
      "(1584, 1)\n",
      "(1584, 1)\n"
     ]
    }
   ],
   "source": [
    "##  Display dimensions of train and validations.\n",
    "print(train_text.shape)\n",
    "print(train_target.shape)\n",
    "print(valid_text.shape)\n",
    "print(valid_target.shape)"
   ]
  },
  {
   "cell_type": "code",
   "execution_count": 132,
   "metadata": {},
   "outputs": [],
   "source": [
    "max_num_words = 10000 ## Vocabulary size.\n",
    "seq_len = 50 # Number of time steps (at each time step one word/word vector is given as input).\n",
    "embedding_size = 100 # ( the words are embedded into 100 dimensional vector )."
   ]
  },
  {
   "cell_type": "code",
   "execution_count": 133,
   "metadata": {},
   "outputs": [
    {
     "data": {
      "text/plain": [
       "((6336, 50), (1584, 50))"
      ]
     },
     "execution_count": 133,
     "metadata": {},
     "output_type": "execute_result"
    }
   ],
   "source": [
    "tokenizer = Tokenizer(num_words=max_num_words) ## Tokenizer is used to tokenize text.\n",
    "tokenizer.fit_on_texts(train_text.tweet) ## Fit this to our corpus.\n",
    "\n",
    "x_train = tokenizer.texts_to_sequences(train_text.tweet) ## Text to sequences converts the text to a list of indices(Train data).\n",
    "x_train = pad_sequences(x_train, maxlen=50) ## pad_sequences makes every sequence a fixed size list by padding with 0s. \n",
    "x_test = tokenizer.texts_to_sequences(valid_text.tweet)  ## Text to sequences converts the text to a list of indices(test data).\n",
    "x_test = pad_sequences(x_test, maxlen=50) ## Padding on test data.\n",
    "\n",
    "x_train.shape, x_test.shape # Check the dimensions of x_train and x_test  "
   ]
  },
  {
   "cell_type": "code",
   "execution_count": 134,
   "metadata": {},
   "outputs": [
    {
     "data": {
      "text/plain": [
       "array([   0,    0,    0,    0,    0,    0,    0,    0,    0,    0,    0,\n",
       "          0,    0,    0,    0,    0,    0,    0,    0,    0,    0,    0,\n",
       "          0,    0,    0,    0,    0,    0,    0,    0,    0,    0,    0,\n",
       "          0,    0,  855, 3086,    5,    2,  140, 1477, 3087,  398,  768,\n",
       "        255,  219,   24, 4688, 2433, 4689])"
      ]
     },
     "execution_count": 134,
     "metadata": {},
     "output_type": "execute_result"
    }
   ],
   "source": [
    "## Check first record of train data.\n",
    "x_train[0]"
   ]
  },
  {
   "cell_type": "code",
   "execution_count": 135,
   "metadata": {},
   "outputs": [
    {
     "name": "stdout",
     "output_type": "stream",
     "text": [
      "[1, 0]\n"
     ]
    }
   ],
   "source": [
    "## Get unique label for train data.\n",
    "unique_labels = list(train_target.label.unique())\n",
    "## Display unique labels.\n",
    "print(unique_labels)\n",
    "y_train = np.array([unique_labels.index(i) for i in train_target.label]) ## Convert the word labels to indeces(train target).\n",
    "y_train = to_categorical(y_train) ## Dummify the labels(train data).\n",
    "y_test = np.array([unique_labels.index(i) for i in valid_target.label]) ## Convert the word labels to indeces(test target).\n",
    "y_test = to_categorical(y_test) ## Dummify the labels(test data)."
   ]
  },
  {
   "cell_type": "code",
   "execution_count": 136,
   "metadata": {},
   "outputs": [],
   "source": [
    "## Call Sequential to initialize a network.\n",
    "model = Sequential() \n",
    "## Add an embedding layer which represents each unique token as a vector.\n",
    "model.add(Embedding(input_dim = max_num_words,    ## Size of the vocabulary.\n",
    "                    input_length = seq_len,       ## Length of input sequences, when it is constant.This argument is required if you are going to connect`Flatten` then `Dense` layers upstream(without it, the shape of the dense outputs cannot be computed).\n",
    "                    output_dim = embedding_size)) ## Dimension of the dense embedding.\n",
    "## RNN model.\n",
    "model.add(SimpleRNN(10)) \n",
    "## Add an ouput layer. Since classification, 2 nodes for 2 classes.\n",
    "model.add(Dense(2, activation='softmax')) "
   ]
  },
  {
   "cell_type": "code",
   "execution_count": 68,
   "metadata": {},
   "outputs": [
    {
     "name": "stdout",
     "output_type": "stream",
     "text": [
      "Model: \"sequential_1\"\n",
      "_________________________________________________________________\n",
      "Layer (type)                 Output Shape              Param #   \n",
      "=================================================================\n",
      "embedding_1 (Embedding)      (None, 50, 100)           1000000   \n",
      "_________________________________________________________________\n",
      "simple_rnn_1 (SimpleRNN)     (None, 10)                1110      \n",
      "_________________________________________________________________\n",
      "dense_1 (Dense)              (None, 2)                 22        \n",
      "=================================================================\n",
      "Total params: 1,001,132\n",
      "Trainable params: 1,001,132\n",
      "Non-trainable params: 0\n",
      "_________________________________________________________________\n"
     ]
    }
   ],
   "source": [
    "## Check model summary.\n",
    "model.summary()"
   ]
  },
  {
   "cell_type": "code",
   "execution_count": 69,
   "metadata": {},
   "outputs": [
    {
     "name": "stderr",
     "output_type": "stream",
     "text": [
      "C:\\Users\\nagar\\AppData\\Roaming\\Python\\Python36\\site-packages\\tensorflow_core\\python\\framework\\indexed_slices.py:424: UserWarning: Converting sparse IndexedSlices to a dense Tensor of unknown shape. This may consume a large amount of memory.\n",
      "  \"Converting sparse IndexedSlices to a dense Tensor of unknown shape. \"\n"
     ]
    },
    {
     "name": "stdout",
     "output_type": "stream",
     "text": [
      "Train on 4752 samples, validate on 1584 samples\n",
      "Epoch 1/1\n",
      "4752/4752 [==============================] - 4s 753us/step - loss: 0.4133 - accuracy: 0.8152 - val_loss: 0.2739 - val_accuracy: 0.8870\n"
     ]
    },
    {
     "data": {
      "text/plain": [
       "<keras.callbacks.callbacks.History at 0x209cf350e80>"
      ]
     },
     "execution_count": 69,
     "metadata": {},
     "output_type": "execute_result"
    }
   ],
   "source": [
    "## Instantiate optimizer.\n",
    "adam = Adam(lr=0.001)\n",
    "## Compile the model.\n",
    "model.compile(optimizer=adam,                  ## 'Adam' is a variant of gradient descent technique\n",
    "              loss='categorical_crossentropy', ## categorical_crossentropy for multi-class classification\n",
    "              metrics=['accuracy'])            ## These metrics are computed for evaluating and stored in history\n",
    "## Fit a model.\n",
    "model.fit(x_train,               ## Input data.\n",
    "          y_train,               ## Target data.\n",
    "          epochs=1,              ## Number of iterations to show complete train data to model.\n",
    "          validation_split=0.20) ## train and validation split ratio(80:20)."
   ]
  },
  {
   "cell_type": "code",
   "execution_count": 73,
   "metadata": {},
   "outputs": [],
   "source": [
    "## The next models are an extension of what we discuss above. What we have as cell are a bit complicated\n",
    "model = Sequential() ## Call Sequential to initialize a network.\n",
    "## Add an embedding layer which represents each unique token as a vector.\n",
    "model.add(Embedding(input_dim = max_num_words,   ## Size of the vocabulary.\n",
    "                    input_length = seq_len, ## Length of input sequences, when it is constant.This argument is required if you are going to connect`Flatten` then `Dense` layers upstream(without it, the shape of the dense outputs cannot be computed).\n",
    "                    output_dim = embedding_size)) ## Dimension of the dense embedding.\n",
    "model.add(LSTM(10)) ## LSTM model with 10 dimensionality of the output space. \n",
    "## Add an ouput layer. Since classification, 2 nodes for 3 classes.\n",
    "model.add(Dense(2, activation='softmax'))"
   ]
  },
  {
   "cell_type": "code",
   "execution_count": 74,
   "metadata": {},
   "outputs": [
    {
     "name": "stdout",
     "output_type": "stream",
     "text": [
      "Model: \"sequential_2\"\n",
      "_________________________________________________________________\n",
      "Layer (type)                 Output Shape              Param #   \n",
      "=================================================================\n",
      "embedding_2 (Embedding)      (None, 50, 100)           1000000   \n",
      "_________________________________________________________________\n",
      "lstm_1 (LSTM)                (None, 10)                4440      \n",
      "_________________________________________________________________\n",
      "dense_2 (Dense)              (None, 2)                 22        \n",
      "=================================================================\n",
      "Total params: 1,004,462\n",
      "Trainable params: 1,004,462\n",
      "Non-trainable params: 0\n",
      "_________________________________________________________________\n"
     ]
    }
   ],
   "source": [
    "## Check model summary.\n",
    "model.summary()"
   ]
  },
  {
   "cell_type": "code",
   "execution_count": 76,
   "metadata": {},
   "outputs": [
    {
     "name": "stderr",
     "output_type": "stream",
     "text": [
      "C:\\Users\\nagar\\AppData\\Roaming\\Python\\Python36\\site-packages\\tensorflow_core\\python\\framework\\indexed_slices.py:424: UserWarning: Converting sparse IndexedSlices to a dense Tensor of unknown shape. This may consume a large amount of memory.\n",
      "  \"Converting sparse IndexedSlices to a dense Tensor of unknown shape. \"\n"
     ]
    },
    {
     "name": "stdout",
     "output_type": "stream",
     "text": [
      "Train on 4752 samples, validate on 1584 samples\n",
      "Epoch 1/5\n",
      "4752/4752 [==============================] - 5s 1ms/step - loss: 0.1854 - accuracy: 0.9301 - val_loss: 0.2763 - val_accuracy: 0.8838\n",
      "Epoch 2/5\n",
      "4752/4752 [==============================] - 4s 916us/step - loss: 0.1025 - accuracy: 0.9653 - val_loss: 0.3082 - val_accuracy: 0.8838\n",
      "Epoch 3/5\n",
      "4752/4752 [==============================] - 4s 933us/step - loss: 0.0625 - accuracy: 0.9809 - val_loss: 0.3568 - val_accuracy: 0.8782\n",
      "Epoch 4/5\n",
      "4752/4752 [==============================] - 4s 933us/step - loss: 0.0398 - accuracy: 0.9880 - val_loss: 0.4066 - val_accuracy: 0.8769\n",
      "Epoch 5/5\n",
      "4752/4752 [==============================] - 4s 934us/step - loss: 0.0280 - accuracy: 0.9914 - val_loss: 0.4671 - val_accuracy: 0.8756\n"
     ]
    },
    {
     "data": {
      "text/plain": [
       "<keras.callbacks.callbacks.History at 0x209ced23048>"
      ]
     },
     "execution_count": 76,
     "metadata": {},
     "output_type": "execute_result"
    }
   ],
   "source": [
    "model.compile(optimizer=adam,                  ## 'Adam' is a variant of gradient descent technique\n",
    "              loss='categorical_crossentropy', ## categorical_crossentropy for multi-class classification\n",
    "              metrics=['accuracy'])            ## These metrics are computed for evaluating and stored in history\n",
    "\n",
    "## Fit a model.\n",
    "model.fit(x_train,               ## Input data.\n",
    "          y_train,               ## Target data.\n",
    "          epochs=5,              ## Number of iterations to show complete train data to model.\n",
    "          validation_split=0.20) ## train and validation split ratio(80:20)."
   ]
  },
  {
   "cell_type": "code",
   "execution_count": 78,
   "metadata": {},
   "outputs": [],
   "source": [
    "## Let's stack RNNs\n",
    "model = Sequential() ## Call Sequential to initialize a network.\n",
    "## Add an embedding layer which represents each unique token as a vector.\n",
    "model.add(Embedding(input_dim = max_num_words,    ## Size of the vocabulary.\n",
    "                    input_length = seq_len,       ## Length of input sequences, when it is constant.This argument is required if you are going to connect`Flatten` then `Dense` layers upstream(without it, the shape of the dense outputs cannot be computed).\n",
    "                    output_dim = embedding_size)) ## Dimension of the dense embedding.\n",
    "model.add(LSTM(10, return_sequences=True)) ## LSTM model with 10 dimensionality of the output space.\n",
    "model.add(LSTM(5)) ## LSTM model with 5 dimensionality of the output space.\n",
    "## Add an ouput layer. Since classification, 2 nodes for 2 classes.\n",
    "model.add(Dense(2, activation='softmax')) "
   ]
  },
  {
   "cell_type": "code",
   "execution_count": 79,
   "metadata": {},
   "outputs": [
    {
     "name": "stdout",
     "output_type": "stream",
     "text": [
      "Model: \"sequential_3\"\n",
      "_________________________________________________________________\n",
      "Layer (type)                 Output Shape              Param #   \n",
      "=================================================================\n",
      "embedding_3 (Embedding)      (None, 50, 100)           1000000   \n",
      "_________________________________________________________________\n",
      "lstm_2 (LSTM)                (None, 50, 10)            4440      \n",
      "_________________________________________________________________\n",
      "lstm_3 (LSTM)                (None, 5)                 320       \n",
      "_________________________________________________________________\n",
      "dense_3 (Dense)              (None, 2)                 12        \n",
      "=================================================================\n",
      "Total params: 1,004,772\n",
      "Trainable params: 1,004,772\n",
      "Non-trainable params: 0\n",
      "_________________________________________________________________\n"
     ]
    }
   ],
   "source": [
    "## Check model summary.\n",
    "model.summary()"
   ]
  },
  {
   "cell_type": "code",
   "execution_count": 100,
   "metadata": {},
   "outputs": [],
   "source": [
    "## Bidirectional LSTMs are taking context from both forward and backward.\n",
    "model = Sequential() ## Call Sequential to initialize a network.\n",
    "## Add an embedding layer which represents each unique token as a vector.\n",
    "model.add(Embedding(input_dim = max_num_words,    ## Size of the vocabulary.\n",
    "                    input_length = seq_len,       ## Length of input sequences, when it is constant.This argument is required if you are going to connect`Flatten` then `Dense` layers upstream(without it, the shape of the dense outputs cannot be computed).\n",
    "                    output_dim = embedding_size)) ## Dimension of the dense embedding.\n",
    "model.add(Bidirectional(LSTM(10)))  ## LSTM model with 10 dimensionality of the output space.\n",
    "model.add(Dense(2, activation='softmax')) ## Add an ouput layer. Since classification, 2 nodes for 2 classes."
   ]
  },
  {
   "cell_type": "code",
   "execution_count": 101,
   "metadata": {},
   "outputs": [
    {
     "name": "stdout",
     "output_type": "stream",
     "text": [
      "Model: \"sequential_7\"\n",
      "_________________________________________________________________\n",
      "Layer (type)                 Output Shape              Param #   \n",
      "=================================================================\n",
      "embedding_7 (Embedding)      (None, 50, 100)           1000000   \n",
      "_________________________________________________________________\n",
      "lstm_7 (LSTM)                (None, 10)                4440      \n",
      "_________________________________________________________________\n",
      "dense_7 (Dense)              (None, 2)                 22        \n",
      "=================================================================\n",
      "Total params: 1,004,462\n",
      "Trainable params: 1,004,462\n",
      "Non-trainable params: 0\n",
      "_________________________________________________________________\n"
     ]
    }
   ],
   "source": [
    "model.summary()"
   ]
  },
  {
   "cell_type": "code",
   "execution_count": 102,
   "metadata": {},
   "outputs": [
    {
     "name": "stderr",
     "output_type": "stream",
     "text": [
      "C:\\Users\\nagar\\AppData\\Roaming\\Python\\Python36\\site-packages\\tensorflow_core\\python\\framework\\indexed_slices.py:424: UserWarning: Converting sparse IndexedSlices to a dense Tensor of unknown shape. This may consume a large amount of memory.\n",
      "  \"Converting sparse IndexedSlices to a dense Tensor of unknown shape. \"\n"
     ]
    },
    {
     "name": "stdout",
     "output_type": "stream",
     "text": [
      "Train on 4752 samples, validate on 1584 samples\n",
      "Epoch 1/10\n",
      "4752/4752 [==============================] - 20s 4ms/step - loss: 0.3303 - accuracy: 0.8462 - val_loss: 0.2535 - val_accuracy: 0.8857\n",
      "Epoch 2/10\n",
      "4752/4752 [==============================] - 19s 4ms/step - loss: 0.1337 - accuracy: 0.9518 - val_loss: 0.2883 - val_accuracy: 0.8864\n",
      "Epoch 3/10\n",
      "4752/4752 [==============================] - 19s 4ms/step - loss: 0.0752 - accuracy: 0.9741 - val_loss: 0.3416 - val_accuracy: 0.8851\n",
      "Epoch 4/10\n",
      "4752/4752 [==============================] - 18s 4ms/step - loss: 0.0452 - accuracy: 0.9842 - val_loss: 0.4214 - val_accuracy: 0.8756\n",
      "Epoch 5/10\n",
      "4752/4752 [==============================] - 18s 4ms/step - loss: 0.0305 - accuracy: 0.9901 - val_loss: 0.4664 - val_accuracy: 0.8731\n",
      "Epoch 6/10\n",
      "4752/4752 [==============================] - 18s 4ms/step - loss: 0.0200 - accuracy: 0.9933 - val_loss: 0.5582 - val_accuracy: 0.8592\n",
      "Epoch 7/10\n",
      "4752/4752 [==============================] - 18s 4ms/step - loss: 0.0141 - accuracy: 0.9956 - val_loss: 0.6217 - val_accuracy: 0.8605\n",
      "Epoch 8/10\n",
      "4752/4752 [==============================] - 17s 4ms/step - loss: 0.0107 - accuracy: 0.9964 - val_loss: 0.6518 - val_accuracy: 0.8624\n",
      "Epoch 9/10\n",
      "4752/4752 [==============================] - 16s 3ms/step - loss: 0.0084 - accuracy: 0.9973 - val_loss: 0.7180 - val_accuracy: 0.8554\n",
      "Epoch 10/10\n",
      "4752/4752 [==============================] - 16s 3ms/step - loss: 0.0068 - accuracy: 0.9973 - val_loss: 0.7708 - val_accuracy: 0.8529\n"
     ]
    },
    {
     "data": {
      "text/plain": [
       "<keras.callbacks.callbacks.History at 0x209e58f1e80>"
      ]
     },
     "execution_count": 102,
     "metadata": {},
     "output_type": "execute_result"
    }
   ],
   "source": [
    "model.compile(optimizer=adam,                  ## 'Adam' is a variant of gradient descent technique\n",
    "              loss='categorical_crossentropy', ## categorical_crossentropy for multi-class classification\n",
    "              metrics=['accuracy'])            ## These metrics are computed for evaluating and stored in history\n",
    "\n",
    "## Fit a model.\n",
    "model.fit(x_train,               ## Input data.\n",
    "          y_train,               ## Target data.\n",
    "          epochs=10,              ## Number of iterations to show complete train data to model.\n",
    "          validation_split=0.20) ## train and validation split ratio(80:20)."
   ]
  },
  {
   "cell_type": "code",
   "execution_count": 103,
   "metadata": {},
   "outputs": [],
   "source": [
    "## Get predictions on train data.\n",
    "preds=model.predict_classes(x_train)\n",
    "## Get indices of the maximum value.\n",
    "y_true=np.argmax(y_train,axis=1)\n",
    "## Get confusion matrix.\n",
    "confusion_matrix_train = confusion_matrix(y_true,preds)"
   ]
  },
  {
   "cell_type": "code",
   "execution_count": 104,
   "metadata": {},
   "outputs": [
    {
     "name": "stdout",
     "output_type": "stream",
     "text": [
      "Train Accuracy : 0.961489898989899\n"
     ]
    }
   ],
   "source": [
    "## Display accuracy value for train data.\n",
    "print(\"Train Accuracy :\",accuracy_score(y_true,preds))"
   ]
  },
  {
   "cell_type": "code",
   "execution_count": 105,
   "metadata": {},
   "outputs": [],
   "source": [
    "## Get the predictions on validation data.\n",
    "preds=model.predict_classes(x_test)\n",
    "## Get indices of the maximum value.\n",
    "y_true=np.argmax(y_test,axis=1)\n",
    "## Get confusion matrix.\n",
    "confusion_matrix_test = confusion_matrix(y_true,preds)"
   ]
  },
  {
   "cell_type": "code",
   "execution_count": 106,
   "metadata": {},
   "outputs": [
    {
     "name": "stdout",
     "output_type": "stream",
     "text": [
      "Validation Accuracy : 0.851010101010101\n"
     ]
    }
   ],
   "source": [
    "## Display  accuracy value for validation data.\n",
    "print(\"Validation Accuracy :\",accuracy_score(y_true,preds))"
   ]
  }
 ],
 "metadata": {
  "kernelspec": {
   "display_name": "Python 3",
   "language": "python",
   "name": "python3"
  },
  "language_info": {
   "codemirror_mode": {
    "name": "ipython",
    "version": 3
   },
   "file_extension": ".py",
   "mimetype": "text/x-python",
   "name": "python",
   "nbconvert_exporter": "python",
   "pygments_lexer": "ipython3",
   "version": "3.6.5"
  },
  "toc": {
   "base_numbering": 1,
   "nav_menu": {},
   "number_sections": true,
   "sideBar": true,
   "skip_h1_title": false,
   "title_cell": "Table of Contents",
   "title_sidebar": "Contents",
   "toc_cell": false,
   "toc_position": {},
   "toc_section_display": true,
   "toc_window_display": false
  }
 },
 "nbformat": 4,
 "nbformat_minor": 2
}
